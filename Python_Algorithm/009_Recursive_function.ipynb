{
 "cells": [
  {
   "cell_type": "markdown",
   "metadata": {},
   "source": [
    "# 재귀 함수\n",
    "\n",
    "Recursib Function"
   ]
  },
  {
   "cell_type": "code",
   "execution_count": 13,
   "metadata": {
    "scrolled": false
   },
   "outputs": [],
   "source": [
    "# def recursive_function():\n",
    "#     print('재귀 함수를 호출합니다.')\n",
    "#     recursive_function()\n",
    "\n",
    "# recursive_function()"
   ]
  },
  {
   "cell_type": "markdown",
   "metadata": {},
   "source": [
    "Fractal 구조와 흡사하다. \n",
    "\n",
    "Sierpinski Triangle\n"
   ]
  },
  {
   "cell_type": "code",
   "execution_count": 22,
   "metadata": {},
   "outputs": [],
   "source": [
    "def recursive_function(i):\n",
    "    # 100번째 출력 했을 때 종료 되도록 종료 조건 명시\n",
    "    if i == 100:\n",
    "        return\n",
    "    print(i, '번째 재귀 함수에서', i + 1, '번째 재귀 함수를 호출합니다.','\\n')\n",
    "    recursive_function(i + 1)\n",
    "    print(i, '번째 재귀 함수를 종료합니다. ','\\n')"
   ]
  },
  {
   "cell_type": "code",
   "execution_count": 23,
   "metadata": {},
   "outputs": [
    {
     "name": "stdout",
     "output_type": "stream",
     "text": [
      "95 번째 재귀 함수에서 96 번째 재귀 함수를 호출합니다. \n",
      "\n",
      "96 번째 재귀 함수에서 97 번째 재귀 함수를 호출합니다. \n",
      "\n",
      "97 번째 재귀 함수에서 98 번째 재귀 함수를 호출합니다. \n",
      "\n",
      "98 번째 재귀 함수에서 99 번째 재귀 함수를 호출합니다. \n",
      "\n",
      "99 번째 재귀 함수에서 100 번째 재귀 함수를 호출합니다. \n",
      "\n",
      "99 번째 재귀 함수를 종료합니다.  \n",
      "\n",
      "98 번째 재귀 함수를 종료합니다.  \n",
      "\n",
      "97 번째 재귀 함수를 종료합니다.  \n",
      "\n",
      "96 번째 재귀 함수를 종료합니다.  \n",
      "\n",
      "95 번째 재귀 함수를 종료합니다.  \n",
      "\n"
     ]
    }
   ],
   "source": [
    "recursive_function(95)"
   ]
  },
  {
   "cell_type": "markdown",
   "metadata": {},
   "source": [
    "## 예제 팩토리얼 구현 ."
   ]
  },
  {
   "attachments": {},
   "cell_type": "markdown",
   "metadata": {},
   "source": [
    "<br> <img align ='left' src='data:image/png;base64,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' >\n",
    "<br/>\n",
    "\n",
    "\n",
    "[출처](data:image/png;base64,iVBORw0KGgoAAAANSUhEUgAAAP0AAADHCAMAAADlCqUFAAABsFBMVEX///8AAACfn5/z8/OHh4ekpKTW1tb7+/ve3t7CwsJ3d3e+vr4YGBggICBCQkJGRkZmZmbq6up+fn7u7u7Jycn///zi4uKNjY3a2tqQkJC0tLSurq5ra2uCgoL5///29vZYWFj88NsAACEMDAz///c4ODhbW1uYmJgvLy+rm358kaUxMTFMTEwbGxsAADXp8/+djG2MoLIAADqOfFqbrsBXcIcAABH//+8AEEeDmrPGt50pAAB4YEYAAB7/++fq9v8UAADr380AABfVw7BFZIM3HQAACS0WMEjt49OHcVYgAACuwdO3qI2ehWw5DADY0Mlle48AGz+Xf2ibprDQ1eJ7aVm3ztwxPkZoSBtXOwsdDBRKOjE9KBdvUkIZQV6Ek51ZMwAAKEhMLBOZkoVsTzEjHiuvvMdbNhg+VW1iQRNdZnA/RlJ1Z1BseYsiGw8AFCMcISsALFRQRC4AGjlKIAAVO04rVWwjFzsyRFs8AAAmK0Z2WTUsGgAvDwBAW30yKSBBKQZTQSZLRT25qqBhQAAeNVYAGEp2Y1yFgo9JEgB5XjZDaH1YOyqdjn5bXnIbL0HZetYnAAAYDUlEQVR4nO1di18bt5bW8dvjB7bnYfw2MH4ApoQNgYWQgOM8TICagEOSTQptoYSFkiZpm81tb5uHN033JrT/8kqaGYPBMzC2DGQ336+NH4hhvpF0dHT06Qihz/iMz+g8+OhZ38HZQeKg66zv4azgyAKAl7xznvWtnDrcfqDw9ymvgZj1rG/p1OBQOQMIyhdOIQzx1Nne1Gmi2xOJ5wE8+9/EQDq72zkTSPyBDy4IntmNnAO4/98OARSZ7rO+g7OEhzvrOzhLOOGs7+BMMfhp2b0u/vgyJhByM71cp5GzMb1c2HN8mXMEJzD1UD8x9owr/1Njz7byPzX2bCufE8yUFh3Jw19Zc5Fms4VyxE7nUA7WM0knMJybFQ47e7JlWL/0Ekwf+qYMy9Hq0YJliN79Aj+pSVhp9w4Pg1Q+qwAFHLxQCn8owqhu4eK9GY29Nu7en2tash9//WAUyf/xkDl7BI5snM2VrDTWg6tq7cZE+RHApXEAuJn8ahX1wIgMa68nlq6tA6gUH6zc1tinlZerEIZbh9sDhoif4/1RdHFkijl7yQ+QYXMpIUBfygBr/Nff4IqfK8GoE317B78d6MHfDs/ipzCzRUtNriK17mMhf9hC3pCWMnuJfrce5wjiWj8ownRxDG2wZh+mMRo2fZ9TTH4ZLiEZfg6HYJS2fI095jULw/Jlyl6GlXGoKj0lBgn6WoQkKt5qduXyTBU9Hkm92WQcQHLSCB0T/9ypdvsyDGByH4IuKamx7yHsFxX2tyn7cjabhR1atdE4F7aTN1cJ+2/oNaJ2CtVolr8bRmIgkJ25t8niRg/ecx4aIlStIxZSXgl7NDVW5ffmcJ3XrI+/SPYfYY9I9SsjnhMVkFKn/zmKlpSWL3W7CLpTygWrkosMdg/YW72UF8DC4kJ9qum2PsQVLt/1+baH5bf57enSYCb3dlR+OILQ3s60/NWAWn48o1k4bRgvP/JtHfEBsInw+/15Uuvfs2ePeIAAg8tYQgwucgaBYYmF0efhU13WkBjcef78zO0lt8cMhJDd3C94hMNNNJ44E6JN4PYOJmymEA6bK2/jINswSlrYRrMdrUeHQ/7TCK954MCELuZjfPVQpEX+sQLbG9FDEOpBwaiXtcVzcVzY1HRZRcrAgondx0cxRTL4FnfVT0tNJpwaoto4afexN/d2LsQlBNPXtUd0fyQ/SY/o/axHm2xPYmdLniEeZsWWROPQxPvQ4FW8FJvf7D2eACkuFApxnNmV0YB+g5kfaPi4fjDyIAoqTcK+HzulSL79A/6qv/F3GhCnfwrPj4OtNNJj4Mb0uZjZ30o7dH9E2FsFWscOfL8PyBRLxp9xY6fP2CkEFfY3SHtfWPsOsy/f1P9TIQ+ZJtiDAWDh5h1GGLM37frpsy89ebpdHEvACpK/3Xn/bBbubaMShGDuKjxfxU28B0Izo4S9THpBD8hjpDmAfmwKsw8CRyQsLDzlw5DiEVfI7GqLUd1PkBjW5Bbqv05mVr9WMc9hTNOK56GYvYjI/BKzL/cmSZRpnLL/H327FxIEVcPhLWR8feAdLLBczYk6UTBksuMbs0eV0NsXaIoGl+5XUflH/PqTo1cxbxVb9mfCvvgjiTRY1iGC28DX+uwTaU3BAsEg70QpXorGIWfufo3BJ/TpNIMx+wt/SaUXaImaMsyeWHoZXP+FCPv5l67iLcK+Bz8N3u2ujW3ipvIPI/ZWXojZ0nnYH/pRKjTIcqKWspmyqMZW7+KW8OYFiTvWfkG/7iaSC7c8bxbHb6rshe9v1fs96flJZDjk1Zu5tftgoD3K1vHLmQm9GIx4FdzRczkB3zOfy+FmH9nEA0t4E8lRbPtjSdGSEzyojH9/g/YMOYqJF5/p/6m4TicPh03c7/Gwmxj3LAz6Xen3+ttf9QPyyKtnkRlP9WMnp2RlIaDY0JYVSu/0C7nTej+xmfZSjOGJnPhxWrLt/zlZ0x9H9Xu9VT8S3M16oiXYTmxJ4+nTkI0KYDC0MxfwdJ/c74lBOmwxB7vJ8qG838gP8bFVxGBIiZP7PY6Y3RwgYq68xziAUnC1y/YI+ETn1IB2tmG5dAfu1KTfYwrAtK12gj32e5j3Jw12pjrLDrT8zoKpgKfvU9uswLTyzYx4xX/C34djCDWAv5p5Gtbn8EUbt2UAhj3/qGB3oVfXbXo4jPo/NH7VczMpPm4SUhNvNJe2MACu/BSj7RUOxd2s2EX7tGhPLCP+K1iuooqAncigGAtWqpVNqz1WfyALl9Q3qlXv2aRBmCMobUn2JsoWJvDlgFHrzykr4guQGZt+/WPst9+LryA+ii7/gYowUgY/zE3BzjpZ0CeovL+mULKi7P4i7oLyU8GtgJa4MLZ794pBkLl1pCx9AIz887zShvZgAJVgDs1DcmFsGolfPlPY35pGUzAsg1rjlehDZSIZC3SltQlG6YryRDT21IwuXEfoQUcaP0cCVH1MpqZSXnndg2E0CelAIJBcwm/r7CcQmroyfVVjrwh2lHvQZBSlX5q18AvYFizoLkm0hQChz8TyaWH4PajSukfdaGksicTLz/DHEUXYcmVarXu5Wmefc0diyq+WXmrX2gvECbJ0VJj8nUrXOoL0/ga7tsBrFn8Bs8dtnHsO+G3hG3Qf7A9V9hsw3QPXSSH545pwQ7UASJ2c98B2ILt29Mry5ZG9mx3p9xhdAHYGlwlofZen60OVqAfXe9TtRKInmhJ4kayZSA48MqgjTC1xWIklChjN4pPy+lqnyCNnBhioNoXB9q9xJkj52l+QTH26ezJT3rYv4Wcc02sDQXuCM4NQIW6qPMdFDtnJOMsFzfbG3/hQzuPuLKLZhnEiwSCkug/J3oYGh4kFPxbBof0EFDbGwdxoPNdqnCR7KuTJjE6zcyHmkiEbxyXcrXQAR17/Z8GofvBF+1siGXCJloF+M2XgXgtp5TXLfhlfIgoOLma+A4T0V/+K1yK6Uu+iJuDpwS5b+VoSTfY9eTmtrWw2B9X3pwbZLt8piFL9jrllbIKM/rjbP9Hw8W6DgEd7zj29CM2OItGfRLMDxgKerIOoXXH3t7PfkmbD5Fu4aka3uViXBiRsT0n1p2L2YPD1Ju4HFUsVN3bZjej7Tcpeq/ANPK8qGoSUAg4kgMuZ6wP21S9xXC5ifvKlz77yfGdNzti/v04W8te39ma211D/rdg/R3vAu3gVksWd2OsRwr5MpxS1t6tJREUuesi6YnkH3ePCIT4ouaQgQwFDzGZqIUeFPnu15Y9D8iJtzm+GqVLhKkh4UnaVzjaLq4S9skmmEn1FdgV8qS/iiKchoCl48l3pdLrg9dlYObxOK26tplcyjmFfS2cgqaxUv6kqPG8Iv9DNMWLt7asX++zxdJu8GsiX4oWAloRG+4qP+dIMG4AzZzKrlTH70rukDEki4HEqdT+Nu4FE2ZOQmlL35W9w98ekJwn72wYtn7gkLneOGzwYHokyTcJiQsJAYMD+wgQe2HLPITk+sx26iTa2d5L9YxEY7blD2c//kHv0MxnxiNWTf1uLkp1VPQYCnkDzEcnBVMMhJMwskRjIl4L4wVQ8QVxAdGNPivfgPuqKSkjsVpwcwc276BuyNVSMRUibn7yu/6f8Or6TnamG02VGvGfRlyufGKXV+tuf9PdDpXSXbtgKeHgTto/J7uopLYbYv6hfKKHbJcNsJ/tmbJ+HQYhJ1LqPga/p0Z9QONLt30IDYiffOWhhEqI9BnzIZ2CNmAt43CfXL7nSkO8yh3TBVHE/9BnWhpf5UraLMzGOBl2mIIEgmSp/TE0YDLutgg+Zn/GdFFG2c/QOsEfOcOeymbLNktcJ9riKOrZdl23lsxfudRhMK9+Uzeeb+XLNzWZK6tCeZ6aVf4S9qP9s53942Ht4JuVO3GlWtDT2Fgx2CraDPnZLUdIRh6ukmzNnvDeJFlYPfemp/VuTouKjYTTf7AcMEI0jgZGb5FEkoKU/g9y0uF7YrsrvYXsZ1UZROVyVue71ldpaJR6i8TNROBA+qzsR5aYBNcF4ztkW8l3ASLiq7t5YAthKbowJSxC8C7ubIqziNjBahJkfqhtwqQb1OUS/MpF0OAOagKr+PFQddU4LLU8abBppA0IXADBakFK7/RKM4rq6JOFmT7Qc4ozKfguhjWvJnjr7ulin4NO0rnX2QRWqtSsbRdjbQIQKeJhcyqPKAYhqpww74XBuuIH9CGZ/c5996Re1MQfjYFNtfZ19SoH29XcGCbzaQphZ/qG8GvUg7OXbHxCqYPYrPGE/SdhPNLDfF+t4guFu1fKUNeO2rqQ9SNAqL77smIQDJRgJeARtWY+wx7X99BVUi/jayV8hXtDYX9HYj8NT35D2ALS4wN5DKBxdQxN/u5b36as/2wQHwCIsUR86ndTjS7lc+IYlCf/jciHeSf5DpCnzSl/mCQ5dwoq/auLXWJsUZYcsi13VkU7szD4VdLUv4HGwsZxngrajYvw5Sqkey+a9ZuDz9Zkq7/UVwg0d0ck0qtZWhMgBIQdv7Swke8Pecx/TaG7U3rqNc52ShC69v4LgY6yasXEtC5iAwR4hp9b4jG5iSI24Wb2sRXsSx3G5lmjEDPYcVBK60+R6KL+Mi8ivqiTlH6JyDl04lHxTEptshQ2IEQFPpIV45pEst/sovfTostdE81SzchG7ZUv3Ht6cVnPx6ICuXAm4o7VWTwZIhYh+p4XFOQOf/UJjRb5qSgyzJ5Pp4ipCU4vGa1pkc64978ITJeb55gRc+a3oYvTZV77fFWRLnAh4avE1vvRk2U3ebSJ+szwiRpFY45Yp+9KWso2AbBUqGmTgwewTQHd5WHDvD0rNvNRWEeES4RZavj571/Ndd2nN8XoULdwS1jdrT5Y30cYlx5uJMvy42QOouNa9MUHYL6iCrakJYwGPX8rW07CAN+P3AhTsjMLPfJxHYfNN6tiWP784rsQKcMsv0gwkFfyZKNawZXhB2F9Uekg/2SUmXtZnn4ZBr0I9rX3VHQFGicrJkG9WwHIc+/L7rleLClMRsycr9vLtykuqWOPfd739QNnTrUD9dCONEfsufHNBRyyczh908m0M9yvEzDoSxuz/ew7XPbq8ggcq9IgIePATuFNW2M9OqHVPW75q7oxUm/spCRp8UzvDLGwek3bfgD1u0RfGAjOLeHhLz4ygjae3yBYyqBbfUaXqPASevCD7wIjV6wHcqC8Zyxb1EjIEGK68mcjBQdBloEjGNlkKEhmyKOHacpIVkhSJQRBbnaICHycpREV8JKzmNB7x9JQqPMvZrokcHBh2BlbnYl3Za2Tyu3Xz8naxTEdgLvcYg5m2+JvmE04ZeLp53fE4xkBCtQ+rmSV8B4stllqbNuh0BntyXGwzzjrNKFcFiEjODsMaHTJaAGIt4DEz8Kdyg0M+U/BC3lT5oSHOcGLDPMhn7+i+Gx/bWRr7EGeUaRrDQ9DPIdYSOhDgFcIdzNo+xLTyO3F0noPtGWcN8KQZXszKOtE2RSfPGvAx9FBM5pyTmqzR6dyN2KHERiwr33NkNJT0n20te9SfXH/7782KWrmZiWbfM0CeXeUfzba4oT9ZkspH2XeX/mhW1Nk92yn27qzTxig+l1ec7dp2ZSdZeuXdGZ6cGUuPovcDqJiuljPur1aWdmuDOyrp8Tp7a91DLjate4SWOsXe2geMNtjx6r7+WRhbq8CAuPFO/nhTCMrwO0lLUgLYDn6EkRKoAbQ6+5ibi6ouvcZeVE9vCKlRhk7VfQKYZciOqBqsWaiieRjx3AU0dYewVNnjSfPHL8iJSkqxOvtgAGKqYa/XveZaqx87xd7TsMWsLWjz/llMqx+Wox4Bbdwh6auvK+zxvPHjHeWQJYKrGntLIJ1VbXqdvUOBlvG+Y/0+Stiz8KcsmltC2JdgBMl/YqvnFERc9/0q+28PsNfOkEJSKuzUpGua1Ysq0LJ0dazfIztmz0AMv79riR6HWMNX3cWsMddZyAdgjp4l9vGPesufB9CeQ0r787NQP1jvIHpmAK51SsCTA2AQkUsfHu5oV6aNytlBV7192BgE40/rEJcOgGs7GM12R2abcPJBM7BmrKbKBw9vPg+eo+xD3em+jN8UCuaK+/1e/0H/kGdhNtsU7miw+U5hh153YV/jzDMSL7GI41jSDC5yAiQ0DzHIiLybgWI+yMJxKy8rr6LNYJjNKKQdLBRDGDzHYLoR0h+7y4/0Ty0ubmsSlhHigmN/xUoy/5WaJD3VoCzqxFglqc2xYK970gPSFuhViNGDg1R5WWV/YURZ0rrrpV6n0dm8pJUl8GApGCaaPyEEriXNyiEYNPyLc5qSGvFWJI6R6aOofKYPgr7H7EW6fK2I5o3yEfh4lA4hT4aF1J0cGMYgfqnPfn4mv1Z6mvllGslfPX21+z107aLSTObv4eL21O89L1HR6+8dJuyLlLfyb9kgxaXP5Y/EfGSWlOsWPDF7VGh9A52l0+xJ3QeTpFmTtMaS/N00nWVObpEJSPEO4lNEuIHZl16Q0gp7IxnDIPhUCYsvGw9Fcol4AbKtNQMhHjoF9sgVez+g5JUh7AlP+VplFRH2SIrd/UDYK61dZT+jzz5vDwfy0BgeEbr8rYSgrYKF4xiMeMbsl7bcewNKeg35uyQqYc49VypblH3/S8/6BzN1r2QkkNwW7uDuLk9raerdgsRA/GnM/utR/s0Amuztruyi25sx9I8B6c1AcYtKVf41YJ36UO/3Uq3XETym3zcfXoSWFrTCTPxcA/a1Kqpk4yS5WC0bX8H/LCM5kV6mvk15DZUD2/ZlVNpUbH4tZOOqxjZfb3A1f9ohtvlstkYaCHhOjIv7aazvGyQc1HvQfAtJWwU2kicjsfZJsd/ZjXw9/TRDBpJpPVgYTZGHGMw2K5qfH9G3eby+SM5ufrbGamuXdBopaIz/jPkMPNLJU+wcd6VMIeowiW6T5T0Bo4CG1SDXaXNEGdaYwxYPmEIaTP6C8cGg5tmzVLmbR4bpuUfm2Z8tBKZSu0+NPcqwzG3Ef2rZ9ZlWvuuTW9pgWfluUx6XrJvy+fQgMKwv+5HRu6LP8CMYTCVODYOOdjP515E92I5EMnn7uqkgh8I5fx7YC2nBx0jAoy7qzd5av4L2AHqrCwAwKn+5iEpQLUEMVh5vzcIVVQ9/Lti7SXyOyZUENdQzBX9vkvQrG6vo8TMrIucmTVIBz7J4A1aK2vL9eWCfIREqBmfJYKRVt3UKhtEC7IY/9mL2aJ89nj//dAfRXDQE54F9N2E/xOJKkja9n7oyjRv+iksKNrKfQ+JPz84Xe+RgJeBJa/G5qbFpzHEgVfkLPf7CtUnkS1OKgEc5S0xp+djqnQdxB+n4DAJD+4dZ7O0kESq98t5bRvO+wU20l9/JZarF/ApC7y+h8qCytDTVVch0KqeSGXiYCHjOkZDBHGLQ/q6qLLM4xanD0rbDF2F6klCbcJg7FEnoEo4v1IBDs4PYOZrbRiBrM4ewyfK2bIPEOeo9B9ZbgdNnO417Ce8zjno7uY3EHAqndIhUTFP7WXznh7zRbjPpBKOSk1C5q85E5IDBkKy6Nwm2G1Hbg8GCyt7fXbqrFCX1CBWqcyEb0csPx0YP5kQ8CokKeApMD1hvF/orqeNjDR/lPw9+4rXIOmZP1Evy5RX5NvbONowX9KzGSeZPHQbsyap0kCr/rUIQjVP1d1CgYmq6tYYXUpQ9WcAlx+nML6oHqelgCLnY595pD7rs5eeQWZn/m6OHGHMzm8/Bv4b6r8RhuHTv9mLxR1TqDUGVsCebAkq/4/8/4A7QNNuzgnz03Lm3+nUv36Tq+YsjdGuMU8Qfi1eSqLRaxKSL78jPcIfH7H+d22dvlNa4b5D56QntwqDl9yKSYenhiLIRhOS2Ju36ai+RrJBcJJ7QW8r+/gH28pg+e/ZHR7QNY/Yba/zCiFKf5GPpGRHqlC5R9rO7wXnKnpyVSLKvkFw0PQZ7Q4bOzzivwdjmP1hz3x5Asy89d0dFWN5Fjy9FZ+ZIHRe/Qf9aFF5T9gtkM9CDgQrpINphYs1wDtnrC3jkGDZikWVyCHUtHHWiUqSKe0K4ioKb2N5vIj5iEQRUqaLSO1I6sU1cnlZy0Jwh9M61MoP9fFPiZf1E/sFzNLHTwOJ4BFr5FEZVzzLJEjP4GdxURR3HZYNruc9h1ZP9gZ1M2VGHhU0qduZwhiCes3QUuThw58/kqUgJMXtHERPOn6PzGZ/xGf+38L+AOimnuB0r4wAAAABJRU5ErkJggg==)"
   ]
  },
  {
   "cell_type": "code",
   "execution_count": 24,
   "metadata": {},
   "outputs": [],
   "source": [
    "def factorial_iterative(n):\n",
    "    result = 1\n",
    "    for i in (range(1, n+1)):\n",
    "        result *= i\n",
    "    return result"
   ]
  },
  {
   "cell_type": "code",
   "execution_count": 25,
   "metadata": {},
   "outputs": [
    {
     "data": {
      "text/plain": [
       "120"
      ]
     },
     "execution_count": 25,
     "metadata": {},
     "output_type": "execute_result"
    }
   ],
   "source": [
    "factorial_iterative(5)"
   ]
  },
  {
   "cell_type": "markdown",
   "metadata": {},
   "source": [
    "재귀적 구현"
   ]
  },
  {
   "cell_type": "code",
   "execution_count": 26,
   "metadata": {},
   "outputs": [],
   "source": [
    "def factorial_recursive(n):\n",
    "    if n <= 1:\n",
    "        return 1\n",
    "    return n * factorial_recursive(n-1)"
   ]
  },
  {
   "cell_type": "code",
   "execution_count": 27,
   "metadata": {},
   "outputs": [
    {
     "data": {
      "text/plain": [
       "120"
      ]
     },
     "execution_count": 27,
     "metadata": {},
     "output_type": "execute_result"
    }
   ],
   "source": [
    "factorial_recursive(5)"
   ]
  },
  {
   "cell_type": "markdown",
   "metadata": {},
   "source": [
    "## 예제 카운트 다운 구현."
   ]
  },
  {
   "cell_type": "markdown",
   "metadata": {},
   "source": [
    "### 10 9 8 7 꽝~"
   ]
  },
  {
   "cell_type": "code",
   "execution_count": 9,
   "metadata": {
    "scrolled": true
   },
   "outputs": [
    {
     "name": "stdout",
     "output_type": "stream",
     "text": [
      "10\n",
      "9\n",
      "8\n",
      "7\n",
      "6\n",
      "5\n",
      "4\n",
      "3\n",
      "2\n",
      "1\n",
      "0\n",
      "꽝\n"
     ]
    }
   ],
   "source": [
    "def count_0(x):\n",
    "    print(x-1)\n",
    "    if x==1:\n",
    "        print('꽝')\n",
    "        return\n",
    "    return count_0(x-1)\n",
    "\n",
    "count_0(int(input()))"
   ]
  },
  {
   "cell_type": "markdown",
   "metadata": {},
   "source": [
    "### 0 1 2 3 4 5 "
   ]
  },
  {
   "cell_type": "code",
   "execution_count": 10,
   "metadata": {},
   "outputs": [
    {
     "name": "stdout",
     "output_type": "stream",
     "text": [
      "10\n",
      "0\n",
      "1\n",
      "2\n",
      "3\n",
      "4\n",
      "5\n",
      "6\n",
      "7\n",
      "8\n",
      "9\n",
      "10\n"
     ]
    }
   ],
   "source": [
    "def count(n):\n",
    "    if n == 0:\n",
    "        print(n)\n",
    "    else:\n",
    "        count(n-1)\n",
    "        print(n)\n",
    "\n",
    "count(int(input()))"
   ]
  },
  {
   "cell_type": "markdown",
   "metadata": {},
   "source": [
    "### a 부터 z 까지 출력하기"
   ]
  },
  {
   "cell_type": "code",
   "execution_count": 7,
   "metadata": {},
   "outputs": [
    {
     "name": "stdout",
     "output_type": "stream",
     "text": [
      "z\n",
      "a b c d e f g h i j k l m n o p q r s t u v w x y z "
     ]
    }
   ],
   "source": [
    "def count_chr(n):\n",
    "    if n == ord('a') :\n",
    "        print(chr(n),end= ' ')\n",
    "        \n",
    "    else:\n",
    "        count_chr(n-1)\n",
    "        print(chr(n),end=' ')\n",
    "        \n",
    "count_chr(ord(input()))"
   ]
  },
  {
   "cell_type": "markdown",
   "metadata": {},
   "source": [
    "###### 입력 숫자보다 작은 값을 더해서 나온값 찾기\n",
    "\n",
    "55를 입력하면 1+2+3+4+5+..10\n",
    "\n",
    "\n",
    "56, 57 을 입력해도 동일"
   ]
  },
  {
   "cell_type": "code",
   "execution_count": 12,
   "metadata": {},
   "outputs": [
    {
     "name": "stdout",
     "output_type": "stream",
     "text": [
      "55\n",
      "10\n"
     ]
    }
   ],
   "source": [
    "def add_until(n,i=1,t=1):\n",
    "    t+=1\n",
    "    if n<=i:\n",
    "        return t-1\n",
    "    else:\n",
    "        return add_until(n,i+t,t)\n",
    "\n",
    "print(add_until(int(input())))"
   ]
  },
  {
   "cell_type": "code",
   "execution_count": 14,
   "metadata": {},
   "outputs": [
    {
     "data": {
      "text/plain": [
       "11"
      ]
     },
     "execution_count": 14,
     "metadata": {},
     "output_type": "execute_result"
    }
   ],
   "source": [
    "add_until(57)"
   ]
  },
  {
   "cell_type": "code",
   "execution_count": 15,
   "metadata": {},
   "outputs": [
    {
     "data": {
      "text/plain": [
       "11"
      ]
     },
     "execution_count": 15,
     "metadata": {},
     "output_type": "execute_result"
    }
   ],
   "source": [
    "add_until(56)"
   ]
  },
  {
   "cell_type": "markdown",
   "metadata": {},
   "source": [
    "## 최대공약수를 출력하는 함수\n",
    "위에 함수에 디펄트 값을 이용해서 \n"
   ]
  },
  {
   "cell_type": "code",
   "execution_count": 17,
   "metadata": {},
   "outputs": [],
   "source": [
    "def gcd(a, b, c=1):\n",
    "    a, b = min(a,b), max(a, b)\n",
    "    i = a\n",
    "    if (a+c-1)%i == 0 and b%i == 0 :\n",
    "        return i \n",
    "    else:\n",
    "        return gcd(a-1, b, c+1)"
   ]
  },
  {
   "cell_type": "code",
   "execution_count": 21,
   "metadata": {},
   "outputs": [
    {
     "data": {
      "text/plain": [
       "4"
      ]
     },
     "execution_count": 21,
     "metadata": {},
     "output_type": "execute_result"
    }
   ],
   "source": [
    "gcd(32, 12)"
   ]
  },
  {
   "cell_type": "markdown",
   "metadata": {},
   "source": [
    "유클리드 호재법을 사용한 방법\n",
    "* 유클리드 호재법이란?!"
   ]
  },
  {
   "cell_type": "markdown",
   "metadata": {},
   "source": [
    "    78696 ＝ 19332×4 ＋ 1368\n",
    "    19332 ＝ 1368×14 ＋ 180\n",
    "     1368 ＝ 180×7 ＋ 108\n",
    "      180 ＝ 108×1 ＋ 72\n",
    "      108 ＝ 72×1 ＋ 36\n",
    "       72 ＝ 36×2 ＋ 0"
   ]
  },
  {
   "cell_type": "markdown",
   "metadata": {},
   "source": [
    "나눈 나머지를 계속 구해서 0이 될때까지 구하는 방식이다.   \n",
    "위에 보면 재귀의 smell이 풀풀~"
   ]
  },
  {
   "cell_type": "code",
   "execution_count": 30,
   "metadata": {},
   "outputs": [],
   "source": [
    "def gcd(a, b):\n",
    "    b, a = min(a, b), max(a, b)\n",
    "    if b ==0 :\n",
    "        return a\n",
    "    else:\n",
    "        return gcd(b, a%b)"
   ]
  },
  {
   "cell_type": "code",
   "execution_count": 31,
   "metadata": {},
   "outputs": [
    {
     "data": {
      "text/plain": [
       "4"
      ]
     },
     "execution_count": 31,
     "metadata": {},
     "output_type": "execute_result"
    }
   ],
   "source": [
    "gcd(12, 32)"
   ]
  },
  {
   "cell_type": "code",
   "execution_count": null,
   "metadata": {},
   "outputs": [],
   "source": []
  },
  {
   "cell_type": "code",
   "execution_count": null,
   "metadata": {},
   "outputs": [],
   "source": []
  },
  {
   "cell_type": "code",
   "execution_count": null,
   "metadata": {},
   "outputs": [],
   "source": []
  }
 ],
 "metadata": {
  "kernelspec": {
   "display_name": "Python 3",
   "language": "python",
   "name": "python3"
  },
  "language_info": {
   "codemirror_mode": {
    "name": "ipython",
    "version": 3
   },
   "file_extension": ".py",
   "mimetype": "text/x-python",
   "name": "python",
   "nbconvert_exporter": "python",
   "pygments_lexer": "ipython3",
   "version": "3.8.5"
  },
  "toc": {
   "base_numbering": 1,
   "nav_menu": {},
   "number_sections": true,
   "sideBar": true,
   "skip_h1_title": false,
   "title_cell": "Table of Contents",
   "title_sidebar": "Contents",
   "toc_cell": false,
   "toc_position": {},
   "toc_section_display": true,
   "toc_window_display": false
  }
 },
 "nbformat": 4,
 "nbformat_minor": 4
}
