{
 "cells": [
  {
   "cell_type": "markdown",
   "metadata": {},
   "source": [
    "<a href='https://github.com/SeWonKwon' ><div> <img src ='https://slid-capture.s3.ap-northeast-2.amazonaws.com/public/image_upload/6556674324ed41a289a354258718280d/964e5a8b-75ad-41fc-ae75-0ca66d06fbc7.png' align='left' /> </div></a>\n"
   ]
  },
  {
   "cell_type": "markdown",
   "metadata": {},
   "source": [
    "Array의 방식 중 Sliding 방식"
   ]
  },
  {
   "cell_type": "markdown",
   "metadata": {},
   "source": [
    "# Leet code 724  Find Pivot Index"
   ]
  },
  {
   "cell_type": "markdown",
   "metadata": {},
   "source": [
    "source : https://leetcode.com/problems/find-pivot-index/"
   ]
  },
  {
   "cell_type": "markdown",
   "metadata": {},
   "source": [
    "Given an array of integers nums, calculate the **pivot index** of this array.\n",
    "\n",
    "The **pivot index** is the index where the sum of all the numbers strictly to the left of the index is equal to the sum of all the numbers **strictly** to the index's right.\n",
    "\n",
    "If the index is on the left edge of the array, then the left sum is 0 because there are no elements to the left. This also applies to the right edge of the array.\n",
    "\n",
    "Return the **leftmost pivot index**. If no such index exists, return -1.\n",
    "\n",
    "* **Example 1:**\n",
    "\n",
    "> Input: nums = [1,7,3,6,5,6]  \n",
    "> Output: 3   \n",
    "> Explanation:   \n",
    "> The pivot index is 3.  \n",
    "> Left sum = nums[0] + nums[1] + nums[2] = 1 + 7 + 3 = 11   \n",
    "> Right sum = nums[4] + nums[5] = 5 + 6 = 11   \n",
    "\n",
    "\n",
    "* **Example 2:**\n",
    "\n",
    "\n",
    "> Input: nums = [1,2,3]  \n",
    "> Output: -1  \n",
    "> Explanation:  \n",
    ">\n",
    "> There is no index that satisfies the conditions in the problem statement.\n",
    "\n",
    "\n",
    "* **Example 3:**\n",
    "\n",
    "\n",
    "> Input: nums = [2,1,-1]\n",
    "> Output: 0\n",
    "> Explanation:\n",
    "> The pivot index is 0.\n",
    "> Left sum = 0 (no elements to the left of index 0)\n",
    "> Right sum = nums[1] + nums[2] = 1 + -1 = 0\n",
    "\n",
    "\n",
    "* **Constraints:**   \n",
    " 1 <= nums.length <= $10^4$\n",
    "\n",
    " -1000 <= nums[i] <= 1000\n"
   ]
  },
  {
   "cell_type": "markdown",
   "metadata": {},
   "source": [
    "```{python}\n",
    "class Solution:\n",
    "    def pivotIndex(self, nums: List[int]) -> int:\n",
    "```"
   ]
  },
  {
   "cell_type": "markdown",
   "metadata": {},
   "source": [
    "* brute방식 한개씩 잡고 계산 하는 방식 : $O(n)\\times n=O(n^2)$\n",
    "\n",
    "더 짧은 방법은 없나? sliding \n",
    "\n",
    "전체의 합을 구한후 pivot을 하나씩 움직여 가면서 구해나간다. \n",
    "\n",
    "전체의 합을 구할 때 : $O(n)$\n",
    "\n",
    "피봇을 하나씩 움직이면서 합을 조정 : $O(n)$ 임으로\n",
    "\n",
    "전체는 $O(n)$ + $O(n)$ 임으로 $O(n)$의 시간 복잡도를 가진다. "
   ]
  },
  {
   "cell_type": "markdown",
   "metadata": {},
   "source": [
    "sliding : pivot을 하나씩 움직이면서 전체 합에서 피봇 값을 조정해주면서 구하게 된다.\n",
    "\n",
    "미끄러져 가듯이 서로 교체 해주는 것을 이야기 한다. \n",
    "\n"
   ]
  },
  {
   "cell_type": "markdown",
   "metadata": {},
   "source": [
    "문제의 조건이 leftmost pivot index 임으로 index는 0에서 부터 시작하는 걸로 한다. "
   ]
  },
  {
   "cell_type": "code",
   "execution_count": 12,
   "metadata": {
    "ExecuteTime": {
     "end_time": "2021-09-15T16:44:04.160777Z",
     "start_time": "2021-09-15T16:44:04.150251Z"
    }
   },
   "outputs": [],
   "source": [
    "from typing import List\n",
    "class Solution:\n",
    "    def pivotIndex(self, nums: List[int]) -> int:\n",
    "        nums_sum = sum(nums)\n",
    "        \n",
    "        left_sum = 0\n",
    "        right_sum = nums_sum       \n",
    "        \n",
    "        previous_pivot_value = 0\n",
    "        \n",
    "        for i in range(0,len(nums)):\n",
    "            pivot_value = nums[i]\n",
    "            \n",
    "            left_sum = left_sum + previous_pivot_value\n",
    "            right_sum = right_sum - pivot_value\n",
    "            \n",
    "            if right_sum == left_sum:\n",
    "                return i\n",
    "\n",
    "            previous_pivot_value = pivot_value\n",
    "\n",
    "        else:\n",
    "            return -1\n",
    "        "
   ]
  },
  {
   "cell_type": "code",
   "execution_count": 13,
   "metadata": {
    "ExecuteTime": {
     "end_time": "2021-09-15T16:44:04.447382Z",
     "start_time": "2021-09-15T16:44:04.437373Z"
    }
   },
   "outputs": [
    {
     "data": {
      "text/plain": [
       "3"
      ]
     },
     "execution_count": 13,
     "metadata": {},
     "output_type": "execute_result"
    }
   ],
   "source": [
    "s = Solution()\n",
    "s.pivotIndex([1,7,3,6,5,6])"
   ]
  },
  {
   "cell_type": "code",
   "execution_count": 7,
   "metadata": {
    "ExecuteTime": {
     "end_time": "2021-09-15T16:31:53.546224Z",
     "start_time": "2021-09-15T16:31:53.539217Z"
    }
   },
   "outputs": [
    {
     "data": {
      "text/plain": [
       "-1"
      ]
     },
     "execution_count": 7,
     "metadata": {},
     "output_type": "execute_result"
    }
   ],
   "source": [
    "s = Solution()\n",
    "s.pivotIndex([1,2,3])"
   ]
  },
  {
   "cell_type": "markdown",
   "metadata": {},
   "source": [
    "1. 전체 합을 구한다. \n",
    "2. 피봇 정하고, 왼쪽 과 오른쪽에서 순차적으로 구한다.\n",
    "3. 예전 피봇과 새로운 피봇들의 값을 업데이트 해나아간다. "
   ]
  },
  {
   "cell_type": "markdown",
   "metadata": {},
   "source": [
    "**Reference**\n",
    "\n",
    "* <a href='https://github.com/SeWonKwon' ><div> <img src ='https://slid-capture.s3.ap-northeast-2.amazonaws.com/public/image_upload/6556674324ed41a289a354258718280d/964e5a8b-75ad-41fc-ae75-0ca66d06fbc7.png' align='left' /> </div></a>\n",
    "\n",
    "<br>\n",
    "\n",
    "* [문제리스트](https://docs.google.com/spreadsheets/d/1UB9dwL_Q6bCnn__ZsM_aufcvay4HXQ4oZSVXTof78oo/edit#gid=1332817202)"
   ]
  }
 ],
 "metadata": {
  "kernelspec": {
   "display_name": "Python 3 (ipykernel)",
   "language": "python",
   "name": "python3"
  },
  "language_info": {
   "codemirror_mode": {
    "name": "ipython",
    "version": 3
   },
   "file_extension": ".py",
   "mimetype": "text/x-python",
   "name": "python",
   "nbconvert_exporter": "python",
   "pygments_lexer": "ipython3",
   "version": "3.8.11"
  },
  "toc": {
   "base_numbering": 1,
   "nav_menu": {},
   "number_sections": true,
   "sideBar": true,
   "skip_h1_title": false,
   "title_cell": "Table of Contents",
   "title_sidebar": "Contents",
   "toc_cell": false,
   "toc_position": {},
   "toc_section_display": true,
   "toc_window_display": false
  }
 },
 "nbformat": 4,
 "nbformat_minor": 4
}
