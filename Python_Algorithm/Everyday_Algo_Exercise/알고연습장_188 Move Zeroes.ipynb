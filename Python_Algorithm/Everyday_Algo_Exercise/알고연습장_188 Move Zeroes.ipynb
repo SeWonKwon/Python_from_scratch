{
 "cells": [
  {
   "cell_type": "markdown",
   "metadata": {},
   "source": [
    "<a href='https://github.com/SeWonKwon' ><div> <img src ='https://slid-capture.s3.ap-northeast-2.amazonaws.com/public/image_upload/6556674324ed41a289a354258718280d/964e5a8b-75ad-41fc-ae75-0ca66d06fbc7.png' align='left' /> </div></a>\n"
   ]
  },
  {
   "cell_type": "markdown",
   "metadata": {},
   "source": [
    "source : https://leetcode.com/problems/move-zeroes/"
   ]
  },
  {
   "cell_type": "markdown",
   "metadata": {},
   "source": [
    "# Leetcode 283. Move Zeroes"
   ]
  },
  {
   "cell_type": "markdown",
   "metadata": {},
   "source": [
    "Given an integer array nums, move all 0's to the end of it while maintaining the relative order of the non-zero elements.\n",
    "\n",
    "\n",
    "**Note** that you must do this in-place without making a copy of the array.\n",
    "  \n",
    "**Example 1:**\n",
    "```\n",
    "Input: nums = [0,1,0,3,12]\n",
    "Output: [1,3,12,0,0]\n",
    "```\n",
    "**Example 2:**\n",
    "```\n",
    "Input: nums = [0]\n",
    "Output: [0]\n",
    "```\n",
    "\n",
    "**Constraints:**\n",
    "* 1 <= nums.length <= $10^4$\n",
    "* $-2^{31}$ <= nums[i] <= $2^{31}$ - 1\n",
    "\n",
    "\n",
    "**Follow up:** Could you minimize the total number of operations done?"
   ]
  },
  {
   "cell_type": "markdown",
   "metadata": {},
   "source": [
    "```{python}\n",
    "class Solution:\n",
    "    def moveZeroes(self, nums: List[int]) -> None:\n",
    "        \"\"\"\n",
    "        Do not return anything, modify nums in-place instead.\n",
    "        \"\"\"\n",
    "        \n",
    "```"
   ]
  },
  {
   "cell_type": "markdown",
   "metadata": {},
   "source": [
    "문제 설명:\n",
    "\n",
    "* `0`을 맨 뒤로 옮기면서 기존의 순서는 바꾸지 마시오.\n",
    "* return 하지 말고 `nums` 배열을 바꾸는 것으로 함수를 만드시오."
   ]
  },
  {
   "cell_type": "code",
   "execution_count": 13,
   "metadata": {
    "ExecuteTime": {
     "end_time": "2021-09-14T12:45:20.799739Z",
     "start_time": "2021-09-14T12:45:20.783489Z"
    }
   },
   "outputs": [],
   "source": [
    "class Solution:\n",
    "    def moveZeroes(self, nums: List[int]) -> None:\n",
    "        zero_idx = 0 \n",
    "        num_idx = 0\n",
    "        while zero_idx != (len(nums)-1):\n",
    "            if nums[num_idx] == 0:\n",
    "                num_idx += 1\n",
    "            if nums[zero_idx] != 0:\n",
    "                zero_idx += 1\n",
    "            if nums[num_idx] != 0 & nums[zero_idx] == 0:\n",
    "                nums[num_idx], nums[zero_idx] = nums[zero_idx], nums[num_idx]\n",
    "            \n",
    "            elif num_idx == (len(nums) -1):\n",
    "                break\n",
    "        "
   ]
  },
  {
   "cell_type": "code",
   "execution_count": 62,
   "metadata": {
    "ExecuteTime": {
     "end_time": "2021-09-14T12:57:54.124747Z",
     "start_time": "2021-09-14T12:57:54.109297Z"
    }
   },
   "outputs": [
    {
     "ename": "IndentationError",
     "evalue": "unindent does not match any outer indentation level (<tokenize>, line 9)",
     "output_type": "error",
     "traceback": [
      "\u001b[1;36m  File \u001b[1;32m\"<tokenize>\"\u001b[1;36m, line \u001b[1;32m9\u001b[0m\n\u001b[1;33m    zero_idx += 1\u001b[0m\n\u001b[1;37m    ^\u001b[0m\n\u001b[1;31mIndentationError\u001b[0m\u001b[1;31m:\u001b[0m unindent does not match any outer indentation level\n"
     ]
    }
   ],
   "source": [
    "class Solution:\n",
    "    def moveZeroes(self, nums: List[int]) -> None:\n",
    "        zero_idx = 0 \n",
    "        num_idx = 0\n",
    "        for num_idx in range(len(nums)):\n",
    "            while nums[zero_idx] != 0 :\n",
    "                 if zero_idx == (len(nums)-1):\n",
    "                    break\n",
    "                zero_idx += 1\n",
    "            if zero_idx == (len(nums)-1):\n",
    "                break    \n",
    "            nums[num_idx], nums[zero_idx] = nums[zero_idx], nums[num_idx]\n",
    "            \n",
    "            if num_idx == (len(nums) -1):\n",
    "                print(nums)\n",
    "                break\n",
    "        \n",
    "        "
   ]
  },
  {
   "cell_type": "code",
   "execution_count": 63,
   "metadata": {
    "ExecuteTime": {
     "end_time": "2021-09-14T12:57:54.292317Z",
     "start_time": "2021-09-14T12:57:54.276300Z"
    }
   },
   "outputs": [],
   "source": [
    "s = Solution()"
   ]
  },
  {
   "cell_type": "code",
   "execution_count": null,
   "metadata": {},
   "outputs": [],
   "source": []
  },
  {
   "cell_type": "code",
   "execution_count": 64,
   "metadata": {
    "ExecuteTime": {
     "end_time": "2021-09-14T12:57:55.004575Z",
     "start_time": "2021-09-14T12:57:54.989566Z"
    }
   },
   "outputs": [
    {
     "name": "stdout",
     "output_type": "stream",
     "text": [
      "[0, 0]\n"
     ]
    }
   ],
   "source": [
    "s.moveZeroes([0, 0])"
   ]
  },
  {
   "cell_type": "code",
   "execution_count": 65,
   "metadata": {
    "ExecuteTime": {
     "end_time": "2021-09-14T12:57:56.415424Z",
     "start_time": "2021-09-14T12:57:56.413358Z"
    }
   },
   "outputs": [
    {
     "name": "stdout",
     "output_type": "stream",
     "text": [
      "[1]\n"
     ]
    }
   ],
   "source": [
    "s.moveZeroes([1])"
   ]
  },
  {
   "cell_type": "code",
   "execution_count": 66,
   "metadata": {
    "ExecuteTime": {
     "end_time": "2021-09-14T12:57:56.415424Z",
     "start_time": "2021-09-14T12:57:56.413358Z"
    }
   },
   "outputs": [
    {
     "name": "stdout",
     "output_type": "stream",
     "text": [
      "[0, 1]\n"
     ]
    }
   ],
   "source": [
    "s.moveZeroes([1, 0])"
   ]
  },
  {
   "cell_type": "code",
   "execution_count": null,
   "metadata": {},
   "outputs": [],
   "source": []
  },
  {
   "cell_type": "markdown",
   "metadata": {},
   "source": [
    "**Reference**\n",
    "\n",
    "* <a href='https://github.com/SeWonKwon' ><div> <img src ='https://slid-capture.s3.ap-northeast-2.amazonaws.com/public/image_upload/6556674324ed41a289a354258718280d/964e5a8b-75ad-41fc-ae75-0ca66d06fbc7.png' align='left' /> </div></a>\n",
    "\n",
    "<br>\n",
    "\n",
    "* [문제리스트](https://docs.google.com/spreadsheets/d/1UB9dwL_Q6bCnn__ZsM_aufcvay4HXQ4oZSVXTof78oo/edit#gid=1332817202)"
   ]
  }
 ],
 "metadata": {
  "kernelspec": {
   "display_name": "Python 3 (ipykernel)",
   "language": "python",
   "name": "python3"
  },
  "language_info": {
   "codemirror_mode": {
    "name": "ipython",
    "version": 3
   },
   "file_extension": ".py",
   "mimetype": "text/x-python",
   "name": "python",
   "nbconvert_exporter": "python",
   "pygments_lexer": "ipython3",
   "version": "3.8.11"
  },
  "toc": {
   "base_numbering": 1,
   "nav_menu": {},
   "number_sections": true,
   "sideBar": true,
   "skip_h1_title": false,
   "title_cell": "Table of Contents",
   "title_sidebar": "Contents",
   "toc_cell": false,
   "toc_position": {},
   "toc_section_display": true,
   "toc_window_display": false
  }
 },
 "nbformat": 4,
 "nbformat_minor": 4
}
