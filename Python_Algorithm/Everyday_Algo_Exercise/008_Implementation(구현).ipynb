{
 "cells": [
  {
   "cell_type": "markdown",
   "metadata": {},
   "source": [
    "# 구현이란? ( Implementation )\n",
    "\n",
    "' 머릿속에 있는 알고리즘을 소스코드로 바꾸는 과정 ' "
   ]
  },
  {
   "cell_type": "markdown",
   "metadata": {},
   "source": [
    "## 피지컬로 승부하기\n",
    "\n",
    "problem -> thinking -> solution"
   ]
  },
  {
   "cell_type": "markdown",
   "metadata": {},
   "source": [
    "* 완전 탐색 : 모든 경우의 수를 주저 없이 다 계산하는 해결 방법\n",
    "* 시물레이션 : 문제에서 제시한 알고리즘을 차례대로 직접 수행\n"
   ]
  },
  {
   "cell_type": "markdown",
   "metadata": {},
   "source": [
    "## 구현 시 고려해야 할 메모리 제약 사항\n",
    "\n",
    "* 파이썬에서는 기본적으로 정수형의 표현 범위에대한 제약에서는 자유로운 편이다."
   ]
  },
  {
   "cell_type": "markdown",
   "metadata": {},
   "source": [
    "# 기본 예제 : 상하좌우"
   ]
  },
  {
   "cell_type": "markdown",
   "metadata": {},
   "source": [
    "* L R U D  \n",
    "* NbyN\n",
    "* 공간 밖은 무시한다. "
   ]
  },
  {
   "cell_type": "markdown",
   "metadata": {},
   "source": [
    "나의 정답"
   ]
  },
  {
   "cell_type": "code",
   "execution_count": 1,
   "metadata": {},
   "outputs": [
    {
     "name": "stdout",
     "output_type": "stream",
     "text": [
      "4\n",
      "L R U D\n",
      "2 2\n"
     ]
    }
   ],
   "source": [
    "n = int(input())\n",
    "direction = input().split()\n",
    "\n",
    "x,y = 1, 1\n",
    "\n",
    "for i in direction:\n",
    "    if i == 'L': x-=1; x = max(x,1)\n",
    "    elif i == 'R': x+=1; x = min(x,5)\n",
    "    elif i =='U': y-=1; y = max(y,1)\n",
    "    elif i =='D': y+=1; y = min(y,5)\n",
    "    else: pass\n",
    "\n",
    "print(y,x)\n",
    "    \n"
   ]
  },
  {
   "cell_type": "markdown",
   "metadata": {},
   "source": [
    "문제 해설\n",
    "\n",
    "* 시간 복잡도 O(N)\n",
    "* 시물레이션 유형"
   ]
  },
  {
   "cell_type": "code",
   "execution_count": 2,
   "metadata": {},
   "outputs": [
    {
     "ename": "IndentationError",
     "evalue": "expected an indented block (<ipython-input-2-faaab3bfff7c>, line 13)",
     "output_type": "error",
     "traceback": [
      "\u001b[1;36m  File \u001b[1;32m\"<ipython-input-2-faaab3bfff7c>\"\u001b[1;36m, line \u001b[1;32m13\u001b[0m\n\u001b[1;33m    nx = x + dx[i]\u001b[0m\n\u001b[1;37m    ^\u001b[0m\n\u001b[1;31mIndentationError\u001b[0m\u001b[1;31m:\u001b[0m expected an indented block\n"
     ]
    }
   ],
   "source": [
    "n = int(input())\n",
    "x, y  = 1, 1\n",
    "plans = input().split()\n",
    "\n",
    "dx = [0,0,-1,1]\n",
    "dy = [-1,1,0,0]\n",
    "move_types = ['L','R','U', 'D']\n",
    "\n",
    "# 이동 계획을 하나씩 확인\n",
    "for plan in plans:\n",
    "    for i in range(len(move_types)):\n",
    "        if plan == move_types[i]:\n",
    "        nx = x + dx[i]\n",
    "        ny = y + dy[i]\n",
    "    \n",
    "    if nx<1 or ny<1 or nx>n or ny> n:\n",
    "        continue\n",
    "    \n",
    "    # 이동 수행\n",
    "    x, y = nx, ny\n",
    "    \n",
    "print(x, y)"
   ]
  },
  {
   "cell_type": "markdown",
   "metadata": {},
   "source": [
    "# 예제4-2 시각"
   ]
  },
  {
   "cell_type": "markdown",
   "metadata": {},
   "source": [
    "3이 하나라도 포함 되어 있는 시각 구하기"
   ]
  },
  {
   "cell_type": "markdown",
   "metadata": {},
   "source": [
    "* 입력 조건: 첫째 줄에 정수 N이 입력된다.\n",
    "* 출력 조건: 00시 00분 00초 부터 N시 59분 59초까지의 모든 시각 중에서 3이 하나라도 포함되는 모든 경우의 수를 출력한다."
   ]
  },
  {
   "cell_type": "code",
   "execution_count": 3,
   "metadata": {},
   "outputs": [
    {
     "name": "stdout",
     "output_type": "stream",
     "text": [
      "5\n"
     ]
    }
   ],
   "source": [
    "n = int(input())"
   ]
  },
  {
   "cell_type": "code",
   "execution_count": 16,
   "metadata": {},
   "outputs": [],
   "source": [
    "h = [x for x in range(n+1)]\n",
    "m = [x for x in range(60)]\n",
    "s = [x for x in range(60)]"
   ]
  },
  {
   "cell_type": "code",
   "execution_count": 23,
   "metadata": {},
   "outputs": [
    {
     "name": "stdout",
     "output_type": "stream",
     "text": [
      "11475\n"
     ]
    }
   ],
   "source": [
    "cnt=0\n",
    "for a in h:\n",
    "    for b in m:\n",
    "        for c in s:\n",
    "            if '3' in str(a)+str(b)+str(c):\n",
    "                cnt+=1\n",
    "\n",
    "print(cnt)"
   ]
  },
  {
   "cell_type": "code",
   "execution_count": 22,
   "metadata": {
    "scrolled": true
   },
   "outputs": [
    {
     "name": "stdout",
     "output_type": "stream",
     "text": [
      "11475\n"
     ]
    }
   ],
   "source": [
    "cnt=0\n",
    "for a in h:\n",
    "    if '3' in str(a):\n",
    "        cnt += 60*60\n",
    "        continue\n",
    "    else:\n",
    "        for b in m:\n",
    "            if '3' in str(b):\n",
    "                cnt += 60\n",
    "                continue\n",
    "            else:\n",
    "                for c in s:\n",
    "                    if '3' in str(c):\n",
    "                        cnt += 1\n",
    "\n",
    "print(cnt)                        "
   ]
  },
  {
   "cell_type": "markdown",
   "metadata": {},
   "source": [
    "모범 답완과 동일"
   ]
  },
  {
   "cell_type": "markdown",
   "metadata": {},
   "source": [
    "# 실전 문제 p115"
   ]
  },
  {
   "cell_type": "markdown",
   "metadata": {},
   "source": [
    "왕실의 나이트\n",
    "\n",
    "1. 수평으로 두칸 이동한 뒤에 수직으로 한칸 이동하기\n",
    "2. 수직으로 두칸 이동한 뒤에 수평으로 한칸 이동하기\n",
    "\n",
    "8 x 8 칸에서 이동할수 있으며, 정원 밖으로는 나갈수 없다. "
   ]
  },
  {
   "cell_type": "code",
   "execution_count": 38,
   "metadata": {},
   "outputs": [
    {
     "name": "stdout",
     "output_type": "stream",
     "text": [
      "a1\n"
     ]
    }
   ],
   "source": [
    "startPoint = input()"
   ]
  },
  {
   "cell_type": "code",
   "execution_count": 41,
   "metadata": {},
   "outputs": [],
   "source": [
    "x, y  = int(ord(startPoint[0])-ord('a')+1), int(startPoint[1])"
   ]
  },
  {
   "cell_type": "code",
   "execution_count": 42,
   "metadata": {},
   "outputs": [
    {
     "data": {
      "text/plain": [
       "(1, 1)"
      ]
     },
     "execution_count": 42,
     "metadata": {},
     "output_type": "execute_result"
    }
   ],
   "source": [
    "x, y"
   ]
  },
  {
   "cell_type": "code",
   "execution_count": 45,
   "metadata": {},
   "outputs": [],
   "source": [
    "def numberofMoving(startPoint):\n",
    "    \n",
    "    x, y  = int(ord(startPoint[0])-ord('a')+1), int(startPoint[1])\n",
    "    \n",
    "    if x in (1,8): \n",
    "        if y in (1,8): return 2\n",
    "        elif y in (2,7): return 3\n",
    "        else: return 4\n",
    "    elif x in (2,7):\n",
    "        if y in (1,8): return 3\n",
    "        elif y in (2,7): return 4\n",
    "        else: return 6\n",
    "    else:\n",
    "        if y in (1,8): return 4\n",
    "        elif y in (2,7): return 6\n",
    "        else: return 8\n",
    "        \n",
    "        "
   ]
  },
  {
   "cell_type": "code",
   "execution_count": 49,
   "metadata": {},
   "outputs": [
    {
     "name": "stdout",
     "output_type": "stream",
     "text": [
      "c1\n"
     ]
    },
    {
     "data": {
      "text/plain": [
       "4"
      ]
     },
     "execution_count": 49,
     "metadata": {},
     "output_type": "execute_result"
    }
   ],
   "source": [
    "numberofMoving(input())"
   ]
  },
  {
   "cell_type": "markdown",
   "metadata": {},
   "source": [
    "모법 답안"
   ]
  },
  {
   "cell_type": "code",
   "execution_count": 50,
   "metadata": {},
   "outputs": [
    {
     "name": "stdout",
     "output_type": "stream",
     "text": [
      "a1\n",
      "2\n"
     ]
    }
   ],
   "source": [
    "# 현재 나이트의 위치 입력받기\n",
    "input_data = input()\n",
    "row = int(input_data[1])\n",
    "column = int(ord(input_data[0]))-int(ord('a'))+1\n",
    "\n",
    "steps = [(-2,-1), (-1,-2), (1, -2), (2, -1), (2, 1), (1, 2), (-1, 2), (-2, 1)]\n",
    "\n",
    "result = 0 \n",
    "for step in steps:\n",
    "    next_row = row + step[0]\n",
    "    next_column = column + step[1]\n",
    "    if next_row >=1 and next_row <=8 and next_column >=1 and next_column <= 8:\n",
    "        result +=1\n",
    "        \n",
    "print(result)"
   ]
  },
  {
   "cell_type": "markdown",
   "metadata": {},
   "source": [
    "# 실전 문제 p118"
   ]
  },
  {
   "cell_type": "markdown",
   "metadata": {},
   "source": [
    "* N X M 크기의 필드\n",
    "* d = 방향, 캐릭터는 반시계 반향으로 돌수 있으며, 북: 0 , 동 : 1, 남: 2, 서:3\n",
    "* 바다는 갈수 없으며, 이미 가본 칸이라면 왼쪽 방향으로 회전만 한후에 멈춘다. \n",
    "* 출력은 방문한 칸을 출력한다. "
   ]
  },
  {
   "cell_type": "code",
   "execution_count": 5,
   "metadata": {},
   "outputs": [],
   "source": [
    "# N, M = map(int, input().split())\n",
    "N, M = 4, 4"
   ]
  },
  {
   "cell_type": "code",
   "execution_count": 6,
   "metadata": {},
   "outputs": [],
   "source": [
    "# char = [int(x) for x in input().split]\n",
    "char = [1, 1, 0]"
   ]
  },
  {
   "cell_type": "code",
   "execution_count": 7,
   "metadata": {},
   "outputs": [
    {
     "name": "stdout",
     "output_type": "stream",
     "text": [
      "1 1 1 1\n",
      "1 0 0 1\n",
      "1 1 0 1\n",
      "1 1 1 1\n"
     ]
    }
   ],
   "source": [
    "map = [[int(x) for x in input().split()] for i in range(M)]\n"
   ]
  },
  {
   "cell_type": "code",
   "execution_count": 8,
   "metadata": {},
   "outputs": [
    {
     "data": {
      "text/plain": [
       "[[1, 1, 1, 1], [1, 0, 0, 1], [1, 1, 0, 1], [1, 1, 1, 1]]"
      ]
     },
     "execution_count": 8,
     "metadata": {},
     "output_type": "execute_result"
    }
   ],
   "source": [
    "map"
   ]
  },
  {
   "cell_type": "code",
   "execution_count": null,
   "metadata": {},
   "outputs": [],
   "source": [
    "[1, 1, 1, 1]\n",
    "[1, 0, 0, 1]\n",
    "[1, 1, 0, 1]\n",
    "[1, 1, 1, 1]"
   ]
  },
  {
   "cell_type": "code",
   "execution_count": null,
   "metadata": {},
   "outputs": [],
   "source": [
    "map[char[0]][char[1]] = 1\n",
    "move = 1\n",
    "\n",
    "\n",
    "\n",
    "turn = 0\n",
    "while turn < 3:\n",
    "    if char[2]%4==0:\n",
    "        if map[char[0]-1][char[1]]==0:\n",
    "            map[char[0]-1][char[1]]=1\n",
    "            char[0]= char[0]-1\n",
    "            move+=1\n",
    "        else:\n",
    "            char[2]=char[2]+1\n",
    "            turn+=1\n",
    "    \n",
    "    elif char[2]%4==1:\n",
    "        if map[char[0]][char[1]-1]==0:\n",
    "            map[char[0]][char[1]-1]=1\n",
    "            char[1]= char[1]-1\n",
    "            move+=1\n",
    "        else:\n",
    "            char[2]=char[2]+1\n",
    "            turn+=1\n",
    "    \n",
    "    elif char[2]%4==2:\n",
    "        if map[char[0]+1][char[1]]==0:\n",
    "            map[char[0]+1][char[1]]=1\n",
    "            char[0]= char[0]+1\n",
    "            move+=1\n",
    "        else:\n",
    "            char[2]= char[2]+1\n",
    "            turn+=1\n",
    "    \n",
    "    else:\n",
    "        if map\n",
    "    "
   ]
  },
  {
   "cell_type": "code",
   "execution_count": null,
   "metadata": {},
   "outputs": [],
   "source": []
  },
  {
   "cell_type": "code",
   "execution_count": null,
   "metadata": {},
   "outputs": [],
   "source": []
  },
  {
   "cell_type": "code",
   "execution_count": null,
   "metadata": {},
   "outputs": [],
   "source": []
  },
  {
   "cell_type": "code",
   "execution_count": null,
   "metadata": {},
   "outputs": [],
   "source": []
  },
  {
   "cell_type": "code",
   "execution_count": null,
   "metadata": {},
   "outputs": [],
   "source": []
  },
  {
   "cell_type": "code",
   "execution_count": null,
   "metadata": {},
   "outputs": [],
   "source": []
  },
  {
   "cell_type": "code",
   "execution_count": null,
   "metadata": {},
   "outputs": [],
   "source": []
  },
  {
   "cell_type": "code",
   "execution_count": null,
   "metadata": {},
   "outputs": [],
   "source": []
  }
 ],
 "metadata": {
  "kernelspec": {
   "display_name": "Python 3",
   "language": "python",
   "name": "python3"
  },
  "language_info": {
   "codemirror_mode": {
    "name": "ipython",
    "version": 3
   },
   "file_extension": ".py",
   "mimetype": "text/x-python",
   "name": "python",
   "nbconvert_exporter": "python",
   "pygments_lexer": "ipython3",
   "version": "3.8.5"
  },
  "toc": {
   "base_numbering": 1,
   "nav_menu": {},
   "number_sections": true,
   "sideBar": true,
   "skip_h1_title": false,
   "title_cell": "Table of Contents",
   "title_sidebar": "Contents",
   "toc_cell": false,
   "toc_position": {},
   "toc_section_display": true,
   "toc_window_display": true
  }
 },
 "nbformat": 4,
 "nbformat_minor": 4
}
