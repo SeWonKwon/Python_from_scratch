{
 "cells": [
  {
   "cell_type": "markdown",
   "metadata": {},
   "source": [
    "<a href='https://github.com/SeWonKwon' ><div> <img src ='https://slid-capture.s3.ap-northeast-2.amazonaws.com/public/image_upload/6556674324ed41a289a354258718280d/964e5a8b-75ad-41fc-ae75-0ca66d06fbc7.png' align='left' /> </div></a>\n"
   ]
  },
  {
   "cell_type": "markdown",
   "metadata": {},
   "source": [
    "source : https://leetcode.com/problems/sort-colors/"
   ]
  },
  {
   "cell_type": "markdown",
   "metadata": {},
   "source": [
    "75. Sort Colors     \n",
    "\n",
    "Given an array nums with n objects colored red, white, or blue, sort them **in-place** so that objects of the same color are adjacent, with the colors in the order red, white, and blue.  \n",
    "\n",
    "\n",
    "We will use the integers `0`, `1`, and `2` to represent the color red, white, and blue, respectively. \n",
    "\n",
    "You must solve this problem without using the library's sort function.     \n",
    "\n",
    "**Example 1:**\n",
    "\n",
    "Input: nums = [2,0,2,1,1,0]     \n",
    "Output: [0,0,1,1,2,2]     \n",
    "\n",
    "**Example 2:**\n",
    "\n",
    "Input: nums = [2,0,1]     \n",
    "Output: [0,1,2]     \n",
    "\n",
    "**Example 3:**\n",
    "\n",
    "Input: nums = [0]     \n",
    "Output: [0]     \n",
    "\n",
    "**Example 4:**\n",
    "\n",
    "Input: nums = [1]     \n",
    "Output: [1]     \n",
    "\n",
    "**Constraints:**     \n",
    "\n",
    "n == nums.length     \n",
    "1 <= n <= 300     \n",
    "nums[i] is 0, 1, or 2.     \n",
    "\n",
    "\n",
    "**Follow up**: Could you come up with a one-pass algorithm using only constant extra space?          "
   ]
  },
  {
   "cell_type": "markdown",
   "metadata": {},
   "source": [
    "```{python}\n",
    "class Solution:\n",
    "    def sortColors(self, nums: List[int]) -> None:\n",
    "        \"\"\"\n",
    "        Do not return anything, modify nums in-place instead.\n",
    "        \"\"\"\n",
    "```"
   ]
  },
  {
   "cell_type": "markdown",
   "metadata": {},
   "source": [
    "**문제 idea**\n",
    "\n",
    "1. sort : $O(n \\log{n})$\n",
    "2. count : $O(n)$\n",
    "\n",
    "\n",
    "3. in-place swap : $O(n)$\n",
    "    * 포인터를 3개 설정 (pivot을 이용한 quick sort와 비슷)\n",
    "    * 0,1은 앞에서 2 는 뒤에서 부터 시작"
   ]
  },
  {
   "cell_type": "code",
   "execution_count": 20,
   "metadata": {
    "ExecuteTime": {
     "end_time": "2021-09-23T01:01:42.294905Z",
     "start_time": "2021-09-23T01:01:42.291914Z"
    }
   },
   "outputs": [],
   "source": [
    "nums = [2,0,2,1,1,0]\n",
    "# nums = [2,0,1]"
   ]
  },
  {
   "cell_type": "code",
   "execution_count": 16,
   "metadata": {
    "ExecuteTime": {
     "end_time": "2021-09-23T01:00:56.132077Z",
     "start_time": "2021-09-23T01:00:56.116064Z"
    }
   },
   "outputs": [
    {
     "name": "stdout",
     "output_type": "stream",
     "text": [
      "[0, 1, 2]\n"
     ]
    }
   ],
   "source": [
    "\n",
    "\n",
    "idx1 = 0\n",
    "idx2 = len(nums) - 1\n",
    "i = 1\n",
    "\n",
    "while i < idx2:\n",
    "    while nums[idx1] == 0:\n",
    "        idx1 += 1\n",
    "    while nums[idx2] == 2:\n",
    "        idx2 -= 1\n",
    "    if nums[i] == 0:\n",
    "        nums[i], nums[idx1] = nums[idx1], nums[i]\n",
    "        idx1 += 1\n",
    "    if nums[i] == 2:\n",
    "        nums[i], nums[idx2] = nums[idx2], nums[i]\n",
    "        idx2 -= 1\n",
    "    i += 1\n",
    "    print(nums)"
   ]
  },
  {
   "cell_type": "code",
   "execution_count": 54,
   "metadata": {
    "ExecuteTime": {
     "end_time": "2021-09-23T01:07:37.174406Z",
     "start_time": "2021-09-23T01:07:37.165406Z"
    }
   },
   "outputs": [],
   "source": [
    "from typing import List\n",
    "class Solution:\n",
    "    def sortColors(self, nums: List[int]) -> None:\n",
    "        idx1 = 0\n",
    "        idx2 = len(nums) - 1\n",
    "        i = 1\n",
    "        if len(nums) <= 2:\n",
    "            print('a')\n",
    "            return nums\n",
    "\n",
    "\n",
    "        while i > idx2:\n",
    "            while nums[idx1] == 0:\n",
    "                idx1 += 1\n",
    "            while nums[idx2] == 2:\n",
    "                idx2 -= 1\n",
    "            if nums[i] == 0:\n",
    "                nums[i], nums[idx1] = nums[idx1], nums[i]\n",
    "                idx1 += 1\n",
    "            if nums[i] == 2:\n",
    "                nums[i], nums[idx2] = nums[idx2], nums[i]\n",
    "                idx2 -= 1\n",
    "            i += 1\n",
    "            print(nums)\n"
   ]
  },
  {
   "cell_type": "code",
   "execution_count": 55,
   "metadata": {
    "ExecuteTime": {
     "end_time": "2021-09-23T01:07:37.340630Z",
     "start_time": "2021-09-23T01:07:37.333208Z"
    }
   },
   "outputs": [],
   "source": [
    "s = Solution()"
   ]
  },
  {
   "cell_type": "code",
   "execution_count": 56,
   "metadata": {
    "ExecuteTime": {
     "end_time": "2021-09-23T01:07:37.461178Z",
     "start_time": "2021-09-23T01:07:37.459175Z"
    }
   },
   "outputs": [],
   "source": [
    "nums= [1,0]\n",
    "nums = [2,0,2,1,1,0]"
   ]
  },
  {
   "cell_type": "code",
   "execution_count": 57,
   "metadata": {
    "ExecuteTime": {
     "end_time": "2021-09-23T01:07:37.611165Z",
     "start_time": "2021-09-23T01:07:37.607162Z"
    }
   },
   "outputs": [],
   "source": [
    "s.sortColors(nums)"
   ]
  },
  {
   "cell_type": "code",
   "execution_count": null,
   "metadata": {},
   "outputs": [],
   "source": []
  },
  {
   "cell_type": "markdown",
   "metadata": {},
   "source": [
    "**Reference**\n",
    "\n",
    "* <a href='https://github.com/SeWonKwon' ><div> <img src ='https://slid-capture.s3.ap-northeast-2.amazonaws.com/public/image_upload/6556674324ed41a289a354258718280d/964e5a8b-75ad-41fc-ae75-0ca66d06fbc7.png' align='left' /> </div></a>\n",
    "\n",
    "<br>\n",
    "\n",
    "* [문제리스트](https://docs.google.com/spreadsheets/d/1UB9dwL_Q6bCnn__ZsM_aufcvay4HXQ4oZSVXTof78oo/edit#gid=1332817202)"
   ]
  }
 ],
 "metadata": {
  "kernelspec": {
   "display_name": "Python 3 (ipykernel)",
   "language": "python",
   "name": "python3"
  },
  "language_info": {
   "codemirror_mode": {
    "name": "ipython",
    "version": 3
   },
   "file_extension": ".py",
   "mimetype": "text/x-python",
   "name": "python",
   "nbconvert_exporter": "python",
   "pygments_lexer": "ipython3",
   "version": "3.8.11"
  },
  "toc": {
   "base_numbering": 1,
   "nav_menu": {},
   "number_sections": true,
   "sideBar": true,
   "skip_h1_title": false,
   "title_cell": "Table of Contents",
   "title_sidebar": "Contents",
   "toc_cell": false,
   "toc_position": {},
   "toc_section_display": true,
   "toc_window_display": false
  }
 },
 "nbformat": 4,
 "nbformat_minor": 4
}
