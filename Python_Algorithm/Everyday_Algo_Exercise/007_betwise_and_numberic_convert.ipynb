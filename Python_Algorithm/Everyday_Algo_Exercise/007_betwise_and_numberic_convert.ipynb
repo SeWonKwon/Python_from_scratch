{
 "cells": [
  {
   "cell_type": "markdown",
   "metadata": {},
   "source": [
    "# 비트 연산자(Bitwise Operators)\n",
    "* & (Binary AND) : bit 단위로 and연산을 합니다.\n",
    "* | (Binary OR) : bit 단위로 or연산을 합니다.\n",
    "* ^ (Binary XOR) : bit 단위로 xor연산을 합니다.\n",
    "* ~ (Binary NOT) : bit 단위로 not연산을 합니다.(1의 보수)\n",
    "* << (Binary left Shift) : bit 단위로 왼쪽으로 비트단위 밀기 연산을 합니다.\n",
    "* \\>> (Binary right Shift) : bit 단위로 오른쪽으로 비트단위 밀기 연산을 합니다."
   ]
  },
  {
   "cell_type": "markdown",
   "metadata": {},
   "source": [
    "* 비트 단위로 연산을 수행합니다.  \n",
    "* 0은 거짓으로 1은 참으로 연산하여 결과를 1과 0으로 반환합니다.  \n",
    "* \"^(xor)\"연산은 두개의 값이 다를 때만 참인 연산입니다.  \n",
    "* \" ~(not)\" 연산은 1의 보수를 구합니다. 컴퓨터에서는 뺄셈을 2의 보수를 덧셈하여 처리 합니다.  (보수:보충 해주는 수 1+1(보수)=2,1+9(보수)=10  \n",
    "* \"<<\"는 연산은 왼쪽으로 1비트 밀때마다 두 배씩 늘어납니다.  \n",
    "* \">>\" 연산은 오른쪽으로 1비트 밀때마다 1/2씩 줄어듭니다.  \n",
    "* n << m : n * 2의 m승  \n",
    "* n >> m : n / 2의 m승  "
   ]
  },
  {
   "cell_type": "markdown",
   "metadata": {},
   "source": [
    "[출처](https://wikidocs.net/20704)https://wikidocs.net/20704"
   ]
  },
  {
   "cell_type": "markdown",
   "metadata": {},
   "source": [
    "# 진법의 출력및 변환"
   ]
  },
  {
   "cell_type": "code",
   "execution_count": 2,
   "metadata": {},
   "outputs": [
    {
     "name": "stdout",
     "output_type": "stream",
     "text": [
      "<class 'int'> 10\n",
      "<class 'int'> 2\n",
      "<class 'int'> 8\n",
      "<class 'int'> 16\n"
     ]
    }
   ],
   "source": [
    "# 진법 초기화\n",
    "a = 10\n",
    "print(type(a), a)\n",
    "a = 0b10\n",
    "print(type(a), a)\n",
    "a = 0o10\n",
    "print(type(a), a)\n",
    "a = 0x10\n",
    "print(type(a), a)"
   ]
  },
  {
   "cell_type": "code",
   "execution_count": 3,
   "metadata": {},
   "outputs": [
    {
     "name": "stdout",
     "output_type": "stream",
     "text": [
      "<class 'int'> 2\n",
      "<class 'int'> 8\n",
      "<class 'int'> 16\n"
     ]
    }
   ],
   "source": [
    "a = 0B10\n",
    "print(type(a), a)\n",
    "a = 0O10\n",
    "print(type(a), a)\n",
    "a = 0X10\n",
    "print(type(a), a)"
   ]
  },
  {
   "cell_type": "code",
   "execution_count": 4,
   "metadata": {},
   "outputs": [
    {
     "name": "stdout",
     "output_type": "stream",
     "text": [
      "i =  256\n",
      "i =  0b100000000\n",
      "i =  256\n",
      "i =  0o400\n",
      "i =  0x100\n"
     ]
    }
   ],
   "source": [
    "# 출력\n",
    "i = 0x100\n",
    "print(\"i = \", i)\n",
    "print(\"i = \", bin(i))\n",
    "print(\"i = \", int(i))\n",
    "print(\"i = \", oct(i))\n",
    "print(\"i = \", hex(i))"
   ]
  },
  {
   "cell_type": "code",
   "execution_count": 5,
   "metadata": {
    "scrolled": true
   },
   "outputs": [
    {
     "name": "stdout",
     "output_type": "stream",
     "text": [
      "i =  111\n",
      "i =  7\n",
      "i =  73\n",
      "i =  273\n",
      "i =  31\n"
     ]
    }
   ],
   "source": [
    "# 문자열을 형변환\n",
    "i = \"111\"\n",
    "print(\"i = \", int(i))\n",
    "print(\"i = \", int(i, 2))\n",
    "print(\"i = \", int(i, 8))\n",
    "print(\"i = \", int(i, 16))\n",
    "print(\"i = \", int(i, 5))"
   ]
  },
  {
   "cell_type": "markdown",
   "metadata": {},
   "source": [
    "# 기본 연산"
   ]
  },
  {
   "cell_type": "code",
   "execution_count": 6,
   "metadata": {},
   "outputs": [
    {
     "name": "stdout",
     "output_type": "stream",
     "text": [
      "0b1110\n",
      "0b1011100\n",
      "0b10100\n"
     ]
    }
   ],
   "source": [
    "a=14\n",
    "b=92\n",
    "c=20\n",
    "print(bin(a))\n",
    "print(bin(b))\n",
    "print(bin(c))"
   ]
  },
  {
   "cell_type": "code",
   "execution_count": 8,
   "metadata": {},
   "outputs": [
    {
     "name": "stdout",
     "output_type": "stream",
     "text": [
      "26 26\n"
     ]
    }
   ],
   "source": [
    "d=0b0000011010\n",
    "e=0b11010\n",
    "print(d,e)"
   ]
  },
  {
   "cell_type": "code",
   "execution_count": 9,
   "metadata": {},
   "outputs": [],
   "source": [
    "# 비트 연산자(Bitwise Operators)\n",
    "a = 0b10101010\n",
    "b = 0b01110011"
   ]
  },
  {
   "cell_type": "code",
   "execution_count": 10,
   "metadata": {},
   "outputs": [
    {
     "name": "stdout",
     "output_type": "stream",
     "text": [
      "a =  170 : 0b10101010\n",
      "b =  115 : 0b1110011\n",
      "a & b =  34 : 0b100010\n",
      "a | b =  251 : 0b11111011\n",
      "a ^ b =  217 : 0b11011001\n",
      "~a =  -171 : -0b10101011\n"
     ]
    }
   ],
   "source": [
    "print('a = ',  a, \":\", bin(a))\n",
    "print('b = ',  b, \":\", bin(b))\n",
    "print('a & b = ',  a & b, \":\", bin(a & b))\n",
    "print('a | b = ',  a | b, \":\", bin(a | b))\n",
    "print('a ^ b = ',  a ^ b, \":\", bin(a ^ b))\n",
    "print('~a = ',  ~a, \":\", bin(~a))"
   ]
  },
  {
   "cell_type": "code",
   "execution_count": 11,
   "metadata": {},
   "outputs": [
    {
     "name": "stdout",
     "output_type": "stream",
     "text": [
      "a =  1\n",
      "a =  2\n",
      "a =  4\n",
      "a =  32\n"
     ]
    }
   ],
   "source": [
    "a = 0b1\n",
    "print('a = ', a)\n",
    "a = a << 1    # * 2\n",
    "print('a = ', a)\n",
    "a = a << 1    # * 2\n",
    "print('a = ', a)\n",
    "a = a << 3    # * 2**3\n",
    "print('a = ', a)"
   ]
  },
  {
   "cell_type": "code",
   "execution_count": 12,
   "metadata": {},
   "outputs": [
    {
     "name": "stdout",
     "output_type": "stream",
     "text": [
      "a =  16\n",
      "a =  8\n",
      "a =  2\n"
     ]
    }
   ],
   "source": [
    "a = a >> 1    # / 2\n",
    "print('a = ', a)\n",
    "a = a >> 1    # / 2\n",
    "print('a = ', a)\n",
    "a = a >> 2    # / 2**2\n",
    "print('a = ', a)"
   ]
  },
  {
   "cell_type": "markdown",
   "metadata": {},
   "source": [
    "# 비트 연산자의 활용"
   ]
  },
  {
   "cell_type": "code",
   "execution_count": 33,
   "metadata": {},
   "outputs": [
    {
     "data": {
      "text/plain": [
       "1"
      ]
     },
     "execution_count": 33,
     "metadata": {},
     "output_type": "execute_result"
    }
   ],
   "source": [
    "int(True)"
   ]
  },
  {
   "cell_type": "markdown",
   "metadata": {},
   "source": [
    "## >>, << 의 활용 2진법으로 앞의 배열만 찾아내기"
   ]
  },
  {
   "cell_type": "code",
   "execution_count": 24,
   "metadata": {
    "scrolled": true
   },
   "outputs": [
    {
     "name": "stdout",
     "output_type": "stream",
     "text": [
      "0b1100000010000\n",
      "0b110000001000\n",
      "0b11000000100\n",
      "0b1100000010\n",
      "0b110000001\n",
      "0b11000000\n",
      "0b1100000\n",
      "0b110000\n",
      "0b11000\n",
      "0b1100\n",
      "0b110\n"
     ]
    }
   ],
   "source": [
    "a = 12321\n",
    "for i in range(11):\n",
    "    a = a>>1\n",
    "    print(bin(a))"
   ]
  },
  {
   "cell_type": "code",
   "execution_count": 23,
   "metadata": {},
   "outputs": [
    {
     "name": "stdout",
     "output_type": "stream",
     "text": [
      "0b1100000010000\n",
      "1\n",
      "0b110000001000\n",
      "2\n",
      "0b11000000100\n",
      "3\n",
      "0b1100000010\n",
      "4\n",
      "0b110000001\n",
      "5\n",
      "0b11000000\n",
      "6\n",
      "0b1100000\n",
      "7\n",
      "0b110000\n",
      "8\n",
      "0b11000\n",
      "9\n",
      "0b1100\n",
      "10\n",
      "0b110\n",
      "11\n"
     ]
    }
   ],
   "source": [
    "a = 12321\n",
    "i = 0\n",
    "while a> 7:\n",
    "    a=a>>1\n",
    "    print(bin(a))\n",
    "    i+=1\n",
    "    print(i)\n",
    "    "
   ]
  },
  {
   "cell_type": "code",
   "execution_count": 25,
   "metadata": {
    "scrolled": true
   },
   "outputs": [
    {
     "name": "stdout",
     "output_type": "stream",
     "text": [
      "     1      2      4      8     16     32     64    128    256    512  1,024 \n",
      "     1      2      4      8     16     32     64    128    256    512  1,024 \n",
      " 1,024    512    256    128     64     32     16      8      4      2      1 \n",
      " 1,024    512    256    128     64     32     16      8      4      2      1 \n"
     ]
    }
   ],
   "source": [
    "# 비트 연산자(Bitwise Operators)\n",
    "# 2의 누승 출력하기\n",
    "a = 1\n",
    "for i in range(0, 11):\n",
    "    print('{0:6,}'.format(a << i), end=' ')\n",
    "print()\n",
    "\n",
    "a = 2\n",
    "for i in range(0, 11):\n",
    "    print('{0:6,}'.format(a ** i), end=' ')\n",
    "print()\n",
    "\n",
    "a = 1024\n",
    "for i in range(0, 11):\n",
    "    print('{0:6,}'.format(a >> i), end=' ')\n",
    "print()\n",
    "\n",
    "a = 2\n",
    "for i in range(10, -1, -1):\n",
    "    print('{0:6,}'.format(a ** i), end=' ')\n",
    "print()"
   ]
  },
  {
   "cell_type": "markdown",
   "metadata": {},
   "source": [
    "## 보수를 활용한 뺄샘\n"
   ]
  },
  {
   "cell_type": "code",
   "execution_count": 26,
   "metadata": {},
   "outputs": [
    {
     "name": "stdout",
     "output_type": "stream",
     "text": [
      "a - b =  7\n",
      "a + (~b + 1) =  7\n"
     ]
    }
   ],
   "source": [
    "# 2의 보수를 이용한 뺄셈\n",
    "# ~(1의보수) + 1 = 2의 보수\n",
    "a = 10\n",
    "b = 3\n",
    "c = a - b\n",
    "d = a + (~b + 1)\n",
    "print('a - b = ', c)\n",
    "print('a + (~b + 1) = ', d)"
   ]
  },
  {
   "cell_type": "markdown",
   "metadata": {},
   "source": [
    "\n",
    "## 두개의 숫자를 교환하기\n"
   ]
  },
  {
   "cell_type": "code",
   "execution_count": 28,
   "metadata": {},
   "outputs": [
    {
     "name": "stdout",
     "output_type": "stream",
     "text": [
      "a=100, b=200\n",
      "a=200, b=100\n",
      "a=100, b=200\n"
     ]
    }
   ],
   "source": [
    "# 두개의 숫자를 교환하기\n",
    "a = 100\n",
    "b = 200\n",
    "print('a={0}, b={1}'.format(a,b))\n",
    "\n",
    "# 임시 변수를 사용하는 방법\n",
    "temp = a\n",
    "a = b\n",
    "b = temp\n",
    "print('a={0}, b={1}'.format(a,b))\n",
    "\n",
    "# Python의 tuple을 이용하는 방법\n",
    "a, b = b, a\n",
    "print('a={0}, b={1}'.format(a,b))"
   ]
  },
  {
   "cell_type": "code",
   "execution_count": 29,
   "metadata": {},
   "outputs": [
    {
     "name": "stdout",
     "output_type": "stream",
     "text": [
      "a=200, b=100\n"
     ]
    }
   ],
   "source": [
    "# ^(xor)연산자를 이용하는 방법\n",
    "a = a ^ b\n",
    "b = a ^ b\n",
    "a = a ^ b\n",
    "print('a={0}, b={1}'.format(a,b))"
   ]
  },
  {
   "cell_type": "code",
   "execution_count": 31,
   "metadata": {
    "scrolled": true
   },
   "outputs": [
    {
     "name": "stdout",
     "output_type": "stream",
     "text": [
      "a: 12312\n",
      "b: 13233\n",
      "\n",
      "a: 0b11000000011000\n",
      "b: 0b11001110110001\n",
      "\n",
      "a: 0b1110101001\n",
      "b: 0b11001110110001\n",
      "\n",
      "a: 0b1110101001\n",
      "b: 0b11000000011000\n",
      "\n",
      "a: 0b11001110110001\n",
      "b: 0b11000000011000\n",
      "\n",
      "\n",
      "a: 13233\n",
      "b: 12312\n"
     ]
    }
   ],
   "source": [
    "a=12312\n",
    "b=13233\n",
    "print('a:',a)\n",
    "print('b:',b)\n",
    "print()\n",
    "print('a:',bin(a))\n",
    "print('b:',bin(b))\n",
    "a = a ^ b\n",
    "print()\n",
    "print('a:',bin(a))\n",
    "print('b:',bin(b))\n",
    "b = a ^ b\n",
    "print()\n",
    "print('a:',bin(a))\n",
    "print('b:',bin(b))\n",
    "a = a ^ b\n",
    "print()\n",
    "print('a:',bin(a))\n",
    "print('b:',bin(b))\n",
    "\n",
    "\n",
    "print()\n",
    "print()\n",
    "print('a:',a)\n",
    "print('b:',b)"
   ]
  },
  {
   "cell_type": "markdown",
   "metadata": {},
   "source": [
    "## 10진수를 받아서 요리조리 16진수로"
   ]
  },
  {
   "cell_type": "code",
   "execution_count": 74,
   "metadata": {
    "scrolled": true
   },
   "outputs": [
    {
     "name": "stdout",
     "output_type": "stream",
     "text": [
      "정수입력(1~255사이, 0은종료)255\n",
      "원본 :  0b11111111\n",
      "8비트중 상위 4비트 :  0b1111\n",
      "8비트중 하위 4비트 :  0b1111\n",
      "사용자 : 0XFF\n",
      "파이선 : 0xff\n",
      "정수입력(1~255사이, 0은종료)0\n"
     ]
    }
   ],
   "source": [
    "# 10진수를 입력받아 16진수로 출력하기\n",
    "while True:\n",
    "    n = int(input('정수입력(1~255사이, 0은종료)'))\n",
    "    if not n:\n",
    "        break\n",
    "    if n<0 or n>255:  # 0x00 ~ 0xFF 사이의 숫자\n",
    "        print('올바른 범위의 정수를 입력하시오')\n",
    "        continue\n",
    "    high = n >> 4 & 0XF     # 상위 4비트만 뽑아내기\n",
    "    low = n & 0XF           # 하위 4비트만 뽑아내기\n",
    "    print('원본 : ', bin(n))\n",
    "    print('8비트중 상위 4비트 : ', bin(high))\n",
    "    print('8비트중 하위 4비트 : ', bin(low))\n",
    "    print('사용자 : 0X{0:1}'.format( high if high < 10 else chr(ord('A') + high-10)), end='') # 앞자리(16의 1승 )을 ABCDEF로 표현\n",
    "    print('{0:1}'.format(low if low < 10 else chr(ord('A') + low-10))) # 뒷자리(16의 0승 ) 을 ABCDEF 로 표현\n",
    "    print('파이선 : {}'.format(hex(n)))"
   ]
  },
  {
   "cell_type": "markdown",
   "metadata": {},
   "source": [
    "high 표현의 이해 \n",
    "255까지를 16진법으로 나타내게 되면 16^1, 16^0 이렇게 2자리로 나타나게 된다. \n",
    "\n",
    "1. n>>4 로 앞에 한자리의 값을 찾아 낸다. \n",
    "2. & 0XF 표현식은 high에서는 꼭 필요 하진 않지만, low 에서는 필요하다. 즉 & 연산자를 활용해서 마지막 자리수만 뽑아 내겠다는 의미이다. "
   ]
  },
  {
   "cell_type": "code",
   "execution_count": 68,
   "metadata": {},
   "outputs": [
    {
     "name": "stdout",
     "output_type": "stream",
     "text": [
      "0 \t 0\t16 \t 1\t32 \t 2\t48 \t 3\t64 \t 4\t80 \t 5\t96 \t 6\t112 \t 7\t128 \t 8\t144 \t 9\t160 \t 10\t176 \t 11\t192 \t 12\t208 \t 13\t224 \t 14\t240 \t 15\t"
     ]
    }
   ],
   "source": [
    "# high 표현의 이해\n",
    "for i in range(0,256,16): # 16이 커질때마나 i>>4 의 값이 1씩 증가한다. 왜냐? >>4 는 16으로 나눈 값이기 때문에 \n",
    "    print(i,'\\t',i>>4, end='\\t')"
   ]
  },
  {
   "cell_type": "code",
   "execution_count": 69,
   "metadata": {
    "scrolled": false
   },
   "outputs": [
    {
     "name": "stdout",
     "output_type": "stream",
     "text": [
      "0 \t 0\t16 \t 1\t32 \t 2\t48 \t 3\t64 \t 4\t80 \t 5\t96 \t 6\t112 \t 7\t128 \t 8\t144 \t 9\t160 \t 10\t176 \t 11\t192 \t 12\t208 \t 13\t224 \t 14\t240 \t 15\t"
     ]
    }
   ],
   "source": [
    "for i in range(0,256,16):\n",
    "    print(i,'\\t',i>>4 & 0xf, end='\\t')"
   ]
  },
  {
   "cell_type": "code",
   "execution_count": 75,
   "metadata": {
    "scrolled": true
   },
   "outputs": [
    {
     "data": {
      "text/plain": [
       "'F'"
      ]
     },
     "execution_count": 75,
     "metadata": {},
     "output_type": "execute_result"
    }
   ],
   "source": [
    "# high 와 로우를 이용해서 ABCDEF 출력\n",
    "chr(ord('A')+15-10)"
   ]
  },
  {
   "cell_type": "markdown",
   "metadata": {},
   "source": [
    "## 10진수를 2진수로"
   ]
  },
  {
   "cell_type": "code",
   "execution_count": 76,
   "metadata": {
    "scrolled": true
   },
   "outputs": [
    {
     "name": "stdout",
     "output_type": "stream",
     "text": [
      "정수입력(1~255사이, 0은종료)244\n",
      "사용자 : 244을 2진수로 출력하면 0b11110100\n",
      "파이썬 : 244을 2진수로 출력하면 0b11110100\n",
      "정수입력(1~255사이, 0은종료)0\n"
     ]
    }
   ],
   "source": [
    "# 10진수를 입력받아 2진수로 출력하기\n",
    "while True:\n",
    "    n = int(input('정수입력(1~255사이, 0은종료)'))\n",
    "    if not n:\n",
    "        break\n",
    "    if n<0 or n>255:  # 0x00 ~ 0xFF 사이의 숫자\n",
    "        print('올바른 범위의 정수를 입력하시오')\n",
    "        continue\n",
    "\n",
    "    mask = 0b10000000  # 8비트 중 상위 1비트만 1인 수 \n",
    "    print('사용자 : {}을 2진수로 출력하면 0b'.format(n), end='')\n",
    "    # 8번 반복 \n",
    "    # 1이 오른쪽으로 1칸씩 이동하며 mask와 and 연산을 수행\n",
    "    # 지정 위치의 값이 1일때만 같은 수가되고 0이면 0이된다.\n",
    "    # 같은때는 1을 다를때는 0을 출력하면 2진수 \n",
    "    for i in range(0,8):\n",
    "        print('1' if (mask & n) == mask else '0', end='')\n",
    "        mask = mask >> 1\n",
    "    print()\n",
    "    print('파이썬 : {0}을 2진수로 출력하면 {1}'.format(n, bin(n)))"
   ]
  },
  {
   "cell_type": "markdown",
   "metadata": {},
   "source": [
    "# 색상 값 분리하기/결합하기"
   ]
  },
  {
   "cell_type": "markdown",
   "metadata": {},
   "source": [
    "색상 값은 어떻게 나타낼까? \n",
    "\n",
    "대부분 4Byte로 Alpha, Red, Green, Blue를 이용하여 나타냅니다.  \n",
    "2진수 4자리는 16진수 1자리이다. 1Byte는 8Bit이므로 16진수 2자리로 표현 가능합니다.  \n",
    "and 연산은 값을 지울 때 사용합니다.  \n",
    "0으로 &연산하면 0이고 1로 &연산하면 통과입니다.   \n",
    "or 연산은 값을 설정할 때 사용합니다.   \n",
    "0으로 |연산하면 통과이고 1로 |연산하면 1입니다.   "
   ]
  },
  {
   "cell_type": "code",
   "execution_count": 82,
   "metadata": {},
   "outputs": [
    {
     "name": "stdout",
     "output_type": "stream",
     "text": [
      "2864434397 0xaabbccdd\n",
      "170 0xaa\n",
      "187 0xbb\n",
      "204 0xcc\n",
      "221 0xdd\n"
     ]
    }
   ],
   "source": [
    "# 색상분리\n",
    "color = 0xAABBCCDD\n",
    "alpha = color >> 24 & 0xFF\n",
    "red = color >> 16 & 0xFF\n",
    "green = color >> 8 & 0xFF\n",
    "blue = color & 0xFF\n",
    "\n",
    "print(color, hex(color))\n",
    "print(alpha, hex(alpha))\n",
    "print(red, hex(red))\n",
    "print(green, hex(green))\n",
    "print(blue, hex(blue))"
   ]
  },
  {
   "cell_type": "code",
   "execution_count": 83,
   "metadata": {},
   "outputs": [
    {
     "name": "stdout",
     "output_type": "stream",
     "text": [
      "0 0x0\n",
      "2852126720 0xaa000000\n",
      "2864381952 0xaabb0000\n",
      "2864434176 0xaabbcc00\n",
      "2864434397 0xaabbccdd\n"
     ]
    }
   ],
   "source": [
    "# 색상 결합\n",
    "color2 = 0\n",
    "print(color2, hex(color2))\n",
    "color2 = color2 | alpha << 24\n",
    "print(color2, hex(color2))\n",
    "color2 = color2 | red << 16\n",
    "print(color2, hex(color2))\n",
    "color2 = color2 | green << 8\n",
    "print(color2, hex(color2))\n",
    "color2 = color2 | blue\n",
    "print(color2, hex(color2))"
   ]
  },
  {
   "cell_type": "code",
   "execution_count": 84,
   "metadata": {},
   "outputs": [
    {
     "name": "stdout",
     "output_type": "stream",
     "text": [
      "2852179165 0xaa00ccdd\n"
     ]
    }
   ],
   "source": [
    "# red값 만 삭제\n",
    "color2 = color2 & 0xFF00FFFF\n",
    "print(color2, hex(color2))"
   ]
  },
  {
   "cell_type": "code",
   "execution_count": 85,
   "metadata": {},
   "outputs": [
    {
     "name": "stdout",
     "output_type": "stream",
     "text": [
      "2857815261 0xaa56ccdd\n"
     ]
    }
   ],
   "source": [
    "# red값을 56으로 설정\n",
    "color2 = color2 | 0x00560000\n",
    "print(color2, hex(color2))"
   ]
  },
  {
   "cell_type": "code",
   "execution_count": 88,
   "metadata": {},
   "outputs": [
    {
     "name": "stdout",
     "output_type": "stream",
     "text": [
      "2857815261 0xaa56ccdd\n"
     ]
    }
   ],
   "source": [
    "# red값을 56으로 설정\n",
    "color2 =  0xAABBCCDD\n",
    "color2 = ( color2 & 0xFF00FFFF ) | 0x00560000\n",
    "print(color2, hex(color2))"
   ]
  },
  {
   "cell_type": "markdown",
   "metadata": {},
   "source": [
    "## 테트리스 볔돌을 출력하기"
   ]
  },
  {
   "cell_type": "markdown",
   "metadata": {},
   "source": [
    "## 이진법을 활용하여 그림 그리기\n",
    "\n",
    "0b0000111100000000의 이진법의 수를\n",
    "\n",
    "```\n",
    "0000\n",
    "1111\n",
    "0000\n",
    "0000\n",
    "```\n",
    "이 된다 \n",
    "\n",
    "```\n",
    "□□□□\n",
    "■■■■\n",
    "□□□□\n",
    "□□□□\n",
    "```\n",
    "\n",
    "* \\>>= 1 을 이용해서 구해보자 .\n"
   ]
  },
  {
   "cell_type": "code",
   "execution_count": 92,
   "metadata": {},
   "outputs": [
    {
     "name": "stdout",
     "output_type": "stream",
     "text": [
      "□□■■\n",
      "□□■■\n",
      "□□■■\n",
      "□□■■\n"
     ]
    }
   ],
   "source": [
    "brick = 0b0011001100110011\n",
    "mask = 0b1000000000000000\n",
    "\n",
    "for j in range(0,16):\n",
    "    print('■' if (mask & brick) == mask else '□', end='')\n",
    "    if (j+1)%4==0:\n",
    "        print()\n",
    "    mask >>= 1"
   ]
  },
  {
   "cell_type": "code",
   "execution_count": 90,
   "metadata": {},
   "outputs": [
    {
     "name": "stdout",
     "output_type": "stream",
     "text": [
      "□□□□\n",
      "□■■□\n",
      "□■■□\n",
      "□□□□\n",
      "\n",
      "□□□□\n",
      "■■■■\n",
      "□□□□\n",
      "□□□□\n",
      "\n",
      "□□■□\n",
      "□□■□\n",
      "□□■□\n",
      "□□■□\n",
      "\n",
      "□■■□\n",
      "□□■□\n",
      "□□■□\n",
      "□□□□\n",
      "\n",
      "□■□□\n",
      "□■□□\n",
      "□■■□\n",
      "□□□□\n",
      "\n",
      "□■□□\n",
      "□■■□\n",
      "□■□□\n",
      "□□□□\n",
      "\n",
      "□■■■\n",
      "□□■□\n",
      "□□□□\n",
      "□□□□\n",
      "\n",
      "□■■□\n",
      "□□■■\n",
      "□□□□\n",
      "□□□□\n",
      "\n",
      "□■□□\n",
      "□■■□\n",
      "□□■□\n",
      "□□□□\n",
      "\n"
     ]
    }
   ],
   "source": [
    "# 테트리스 벽돌을 출력해보자\n",
    "brick = (0x0660, 0x0F00, 0x2222, 0x6220, 0x4460, 0x4640, 0x7200, 0x6300,0x4620)\n",
    "for i in brick:\n",
    "    mask = 0b1000000000000000\n",
    "    for j in range(0,16):\n",
    "        print('■' if (mask & i) == mask else '□', end='')\n",
    "        if (j+1)%4==0:\n",
    "            print()\n",
    "        mask >>= 1\n",
    "    print()"
   ]
  },
  {
   "cell_type": "code",
   "execution_count": null,
   "metadata": {},
   "outputs": [],
   "source": []
  }
 ],
 "metadata": {
  "kernelspec": {
   "display_name": "Python 3",
   "language": "python",
   "name": "python3"
  },
  "language_info": {
   "codemirror_mode": {
    "name": "ipython",
    "version": 3
   },
   "file_extension": ".py",
   "mimetype": "text/x-python",
   "name": "python",
   "nbconvert_exporter": "python",
   "pygments_lexer": "ipython3",
   "version": "3.8.5"
  },
  "toc": {
   "base_numbering": 1,
   "nav_menu": {},
   "number_sections": true,
   "sideBar": true,
   "skip_h1_title": false,
   "title_cell": "Table of Contents",
   "title_sidebar": "Contents",
   "toc_cell": false,
   "toc_position": {},
   "toc_section_display": true,
   "toc_window_display": true
  }
 },
 "nbformat": 4,
 "nbformat_minor": 4
}
