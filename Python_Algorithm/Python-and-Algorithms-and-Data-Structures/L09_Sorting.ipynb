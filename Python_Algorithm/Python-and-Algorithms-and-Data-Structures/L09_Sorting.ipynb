{
 "cells": [
  {
   "cell_type": "markdown",
   "metadata": {},
   "source": [
    "<a href='https://github.com/SeWonKwon' ><div> <img src ='https://slid-capture.s3.ap-northeast-2.amazonaws.com/public/image_upload/6556674324ed41a289a354258718280d/964e5a8b-75ad-41fc-ae75-0ca66d06fbc7.png' align='left' /> </div></a>\n"
   ]
  },
  {
   "cell_type": "markdown",
   "metadata": {},
   "source": [
    "**Ch.09 정렬(Sorting)**"
   ]
  },
  {
   "cell_type": "markdown",
   "metadata": {},
   "source": [
    " **정렬**<sub>sorting</sub>가장 간단한 방법은 가장 작은 항목을 그룹에서 맨 앞으로 이동하는 것이다. 그리고 그 다음 작은 항목을 두 번째로 이동하고, 그다음 항목들도 이와 같이 반복한다.<br>\n",
    " \n",
    " 그러나 이 알고리즘은 $O(n^2)$ 이므로 더 나은 알고리즘을 찾을 필요가 있다. "
   ]
  },
  {
   "cell_type": "markdown",
   "metadata": {},
   "source": [
    "**제자리 정렬**<sub>in-place sort</sub> \n",
    "\n",
    "* 정렬할 항목의 수에 비해 아주 작은 저장 공간을 더 사용하는 정렬 알고리즘.\n",
    "\n",
    "* 주어진 원소들을 옮긴 뒤 적절한 위치에 원소를 삽입하는 연산을 반복, 이 과정에서 항목을 담는 공간 외에 추가로 사용될 수 있는 공간은 옮겨지는 항목이 저장되는 공간과 반복문 변수 정도이다. "
   ]
  },
  {
   "cell_type": "markdown",
   "metadata": {},
   "source": [
    "**안정적 정렬**<sub> stable sort</sub>\n",
    "\n",
    "\n",
    "* 데이터 요소의 상대적인 순서를 보존한다. \n",
    "\n",
    "* 데이터의 두 항목이 크기가 같을때, 정렬 전의 위치 상태를 똑같이 유지한다. \n",
    "\n",
    "* 모든 **비교 정렬**<sub>comparison sort</sub> 문제에서 키<sub>key</sub> 은 정렬 순서를 결정하는 값을 뜻한다. \n",
    "\n",
    "* 키가 다른 키보다 작은지 같은지 큰지 판별하는 방법을 갖추기만 하면 된다. \n",
    "\n",
    "* 대부분의 비교 정렬 알고리즘은 최악의 경우 시간복잡도가 $O(n log n)$보다 좋지 않다."
   ]
  },
  {
   "cell_type": "markdown",
   "metadata": {},
   "source": [
    "# 9.1 2차 정렬"
   ]
  },
  {
   "cell_type": "markdown",
   "metadata": {},
   "source": [
    "## 거품 정렬 Bubble sort\n",
    "\n",
    "**거품 정렬**<sub> bubble sort</sub> 은 인접한 두 항목을 비교하여 정렬하는 방식이다. \n",
    "\n",
    "* 시간 복잡도 : $O(n^2)$ (대신 코드가 단순)\n"
   ]
  },
  {
   "cell_type": "markdown",
   "metadata": {},
   "source": [
    "[ 11, 3, 28, 43, 9, 4 ]을 정렬하는 그림"
   ]
  },
  {
   "cell_type": "markdown",
   "metadata": {},
   "source": [
    "<img src='https://slid-capture.s3.ap-northeast-2.amazonaws.com/public/image_upload/d4954708fd8f4731a091c75bea2b2ea7/15eae7ce-a5a3-4d9d-9728-204807550a77.png' widht='600'/>"
   ]
  },
  {
   "cell_type": "markdown",
   "metadata": {},
   "source": [
    "Bubble sort 구현"
   ]
  },
  {
   "cell_type": "code",
   "execution_count": 1,
   "metadata": {
    "ExecuteTime": {
     "end_time": "2021-07-26T02:08:41.461231Z",
     "start_time": "2021-07-26T02:08:41.446218Z"
    }
   },
   "outputs": [],
   "source": [
    "def bubble_sort(seq):\n",
    "    length = len(seq) - 1\n",
    "    for num in range(length, 0, -1):\n",
    "        for i in range(num):\n",
    "            if seq[i] > seq[i+1]:\n",
    "                seq[i] , seq[i+1] = seq[i+1], seq[i]\n",
    "        print(seq)\n",
    "    return seq"
   ]
  },
  {
   "cell_type": "code",
   "execution_count": 2,
   "metadata": {
    "ExecuteTime": {
     "end_time": "2021-07-26T02:08:41.476245Z",
     "start_time": "2021-07-26T02:08:41.462233Z"
    }
   },
   "outputs": [
    {
     "name": "stdout",
     "output_type": "stream",
     "text": [
      "[3, 11, 28, 9, 4, 43]\n",
      "[3, 11, 9, 4, 28, 43]\n",
      "[3, 9, 4, 11, 28, 43]\n",
      "[3, 4, 9, 11, 28, 43]\n",
      "[3, 4, 9, 11, 28, 43]\n"
     ]
    },
    {
     "data": {
      "text/plain": [
       "True"
      ]
     },
     "execution_count": 2,
     "metadata": {},
     "output_type": "execute_result"
    }
   ],
   "source": [
    "seq = [ 11, 3, 28, 43, 9, 4 ]\n",
    "\n",
    "bubble_sort(seq) == sorted(seq)"
   ]
  },
  {
   "cell_type": "markdown",
   "metadata": {},
   "source": [
    "##  선택 정렬 Selection sort"
   ]
  },
  {
   "cell_type": "markdown",
   "metadata": {},
   "source": [
    "**선택 정렬**<sub> selection sort</sub> 은 먼저 리스트에서 가장 작거나 큰 항목을 찾아서 첫번째 항목과 위치를 바꾼다. 그후 그다음 항목을 찾아서 두 번째 항목과 위치를 바꾼다. \n",
    "\n",
    "* 시간복잡도: $O(n^2)$ (이미 정렬되어 있어도 오래 걸리고, 안정적이지 않다. )"
   ]
  },
  {
   "cell_type": "markdown",
   "metadata": {},
   "source": [
    "[ 11, 3, 28, 43, 9, 4 ]을 정렬하는 그림"
   ]
  },
  {
   "cell_type": "markdown",
   "metadata": {},
   "source": [
    "<img src='https://slid-capture.s3.ap-northeast-2.amazonaws.com/public/image_upload/d4954708fd8f4731a091c75bea2b2ea7/b18d0393-5821-4900-8798-88d2a38c654f.png' widht='600'/>"
   ]
  },
  {
   "cell_type": "markdown",
   "metadata": {},
   "source": [
    "선택 정렬 구현"
   ]
  },
  {
   "cell_type": "code",
   "execution_count": 3,
   "metadata": {
    "ExecuteTime": {
     "end_time": "2021-07-26T02:08:41.491259Z",
     "start_time": "2021-07-26T02:08:41.477246Z"
    }
   },
   "outputs": [],
   "source": [
    "def selection_sort(seq):\n",
    "    length = len(seq)\n",
    "    for i in range(length-1):\n",
    "        min_j = i\n",
    "        for j in range(i+1, length):\n",
    "            if seq[min_j] > seq[j]:\n",
    "                min_j = j\n",
    "                \n",
    "        seq[i], seq[min_j] = seq[min_j], seq[i]\n",
    "        print(seq)\n",
    "    return seq"
   ]
  },
  {
   "cell_type": "code",
   "execution_count": 4,
   "metadata": {
    "ExecuteTime": {
     "end_time": "2021-07-26T02:08:41.506270Z",
     "start_time": "2021-07-26T02:08:41.492259Z"
    }
   },
   "outputs": [
    {
     "name": "stdout",
     "output_type": "stream",
     "text": [
      "[3, 11, 28, 43, 9, 4]\n",
      "[3, 4, 28, 43, 9, 11]\n",
      "[3, 4, 9, 43, 28, 11]\n",
      "[3, 4, 9, 11, 28, 43]\n",
      "[3, 4, 9, 11, 28, 43]\n"
     ]
    },
    {
     "data": {
      "text/plain": [
       "True"
      ]
     },
     "execution_count": 4,
     "metadata": {},
     "output_type": "execute_result"
    }
   ],
   "source": [
    "seq = [ 11, 3, 28, 43, 9, 4 ]\n",
    "\n",
    "selection_sort(seq) == sorted(seq)"
   ]
  },
  {
   "cell_type": "markdown",
   "metadata": {},
   "source": [
    "## 삽입 정렬 Insertion sort"
   ]
  },
  {
   "cell_type": "markdown",
   "metadata": {},
   "source": [
    "**삽입 정렬**<sub>insertion sort</sub>은 벼열 맨 처음 정렬된 부분에, 정렬되지 않은 다음 항목을 반복적으로 삽입하는 방식이다. \n",
    "\n",
    "* 시간복잡도 : \n",
    "    - best $ O(n) $ \n",
    "    - average, worst $ O(n^2) $\n",
    "    \n",
    "* 데이터 크기가 작고 리스트가 이미 정렬되어 있으면 병합 정렬이나 퀵 정렬 같은 고급 알고리즘보다 성능이 더 좋다. <br> (즉, 미리 정렬된 리스트에 새 항목을 추가할 때 좋다.)"
   ]
  },
  {
   "cell_type": "markdown",
   "metadata": {},
   "source": [
    "[ 11, 3, 28, 43, 9, 4 ]을 정렬하는 그림"
   ]
  },
  {
   "cell_type": "markdown",
   "metadata": {},
   "source": [
    "<img src='https://slid-capture.s3.ap-northeast-2.amazonaws.com/public/image_upload/d4954708fd8f4731a091c75bea2b2ea7/57e8ae8c-5fd0-4948-9d03-0f4f23e832aa.png' width='500'/>"
   ]
  },
  {
   "cell_type": "markdown",
   "metadata": {},
   "source": [
    "삽입 정렬 구현"
   ]
  },
  {
   "cell_type": "code",
   "execution_count": 5,
   "metadata": {
    "ExecuteTime": {
     "end_time": "2021-07-26T02:08:41.521286Z",
     "start_time": "2021-07-26T02:08:41.506270Z"
    }
   },
   "outputs": [],
   "source": [
    "def insertion_sort(seq):\n",
    "    for i in range(1, len(seq)):\n",
    "        j = i \n",
    "        while j > 0 and seq[j-1] > seq[j]:\n",
    "            seq[j-1], seq[j] = seq[j], seq[j-1]\n",
    "            j -= 1\n",
    "            \n",
    "        print(seq)\n",
    "        \n",
    "    return seq\n",
    "\n",
    "def insertion_sort_rec(seq, i=None):\n",
    "    if i is None:\n",
    "        i = len(seq) - 1\n",
    "        \n",
    "    if i == 0 :\n",
    "        return i\n",
    "    insertion_sort_rec(seq, i-1)\n",
    "    j = i \n",
    "    while j > 0 and seq[j-1] > seq[j]:\n",
    "        seq[j-1], seq[j] = seq[j], seq[j-1]\n",
    "        j -= 1\n",
    "    print(seq)    \n",
    "    return seq\n"
   ]
  },
  {
   "cell_type": "code",
   "execution_count": 6,
   "metadata": {
    "ExecuteTime": {
     "end_time": "2021-07-26T02:08:41.536299Z",
     "start_time": "2021-07-26T02:08:41.522287Z"
    }
   },
   "outputs": [
    {
     "name": "stdout",
     "output_type": "stream",
     "text": [
      "[3, 11, 28, 43, 9, 4]\n",
      "[3, 11, 28, 43, 9, 4]\n",
      "[3, 11, 28, 43, 9, 4]\n",
      "[3, 9, 11, 28, 43, 4]\n",
      "[3, 4, 9, 11, 28, 43]\n"
     ]
    },
    {
     "data": {
      "text/plain": [
       "[3, 4, 9, 11, 28, 43]"
      ]
     },
     "execution_count": 6,
     "metadata": {},
     "output_type": "execute_result"
    }
   ],
   "source": [
    "seq=[ 11, 3, 28, 43, 9, 4 ]\n",
    "\n",
    "insertion_sort_rec(seq)"
   ]
  },
  {
   "cell_type": "code",
   "execution_count": 7,
   "metadata": {
    "ExecuteTime": {
     "end_time": "2021-07-26T02:08:41.551313Z",
     "start_time": "2021-07-26T02:08:41.536299Z"
    },
    "scrolled": true
   },
   "outputs": [
    {
     "name": "stdout",
     "output_type": "stream",
     "text": [
      "[3, 4, 9, 11, 28, 43]\n",
      "[3, 4, 9, 11, 28, 43]\n",
      "[3, 4, 9, 11, 28, 43]\n",
      "[3, 4, 9, 11, 28, 43]\n",
      "[3, 4, 9, 11, 28, 43]\n"
     ]
    },
    {
     "data": {
      "text/plain": [
       "True"
      ]
     },
     "execution_count": 7,
     "metadata": {},
     "output_type": "execute_result"
    }
   ],
   "source": [
    "insertion_sort(seq) == sorted(seq)"
   ]
  },
  {
   "cell_type": "markdown",
   "metadata": {},
   "source": [
    "## 놈 정렬"
   ]
  },
  {
   "cell_type": "markdown",
   "metadata": {},
   "source": [
    "**놈 정렬**<sub>gnome sort</sub>\n",
    "앞으로 이동하며 잘못 정렬된 값을 찾은후, 올바른 위치로 값을 교환하며 다시 뒤로 이동한다. "
   ]
  },
  {
   "cell_type": "markdown",
   "metadata": {},
   "source": [
    "시간 복잡도\n",
    "\n",
    "|Case|complexity|\n",
    "|:-:|:-|\n",
    "|Worst-case|$O(n^{2})$|\n",
    "|Best-case|$O(n)$|\n",
    "|Average|$O(n^{2})$|\n",
    "|Worst-case <br>space complexity|$O(1)$|\n"
   ]
  },
  {
   "cell_type": "markdown",
   "metadata": {},
   "source": [
    "<img src='https://upload.wikimedia.org/wikipedia/commons/3/37/Sorting_gnomesort_anim.gif' width='200'/>\n",
    "\n",
    "출처: https://en.wikipedia.org/wiki/Gnome_sort"
   ]
  },
  {
   "cell_type": "code",
   "execution_count": 8,
   "metadata": {
    "ExecuteTime": {
     "end_time": "2021-07-26T02:08:41.566325Z",
     "start_time": "2021-07-26T02:08:41.552314Z"
    }
   },
   "outputs": [],
   "source": [
    "def gnome_sort(seq):\n",
    "    i = 0\n",
    "    while i < len(seq):\n",
    "        if i == 0 or seq[i-1] <= seq[i]:\n",
    "            i += 1\n",
    "        else:\n",
    "            seq[i], seq[i-1] = seq[i-1], seq[i]\n",
    "            i -= 1\n",
    "        print(seq)\n",
    "    return seq"
   ]
  },
  {
   "cell_type": "code",
   "execution_count": 9,
   "metadata": {
    "ExecuteTime": {
     "end_time": "2021-07-26T02:08:41.581340Z",
     "start_time": "2021-07-26T02:08:41.567328Z"
    }
   },
   "outputs": [
    {
     "name": "stdout",
     "output_type": "stream",
     "text": [
      "[5, 3, 2, 4]\n",
      "[3, 5, 2, 4]\n",
      "[3, 5, 2, 4]\n",
      "[3, 5, 2, 4]\n",
      "[3, 2, 5, 4]\n",
      "[2, 3, 5, 4]\n",
      "[2, 3, 5, 4]\n",
      "[2, 3, 5, 4]\n",
      "[2, 3, 5, 4]\n",
      "[2, 3, 4, 5]\n",
      "[2, 3, 4, 5]\n",
      "[2, 3, 4, 5]\n"
     ]
    },
    {
     "data": {
      "text/plain": [
       "True"
      ]
     },
     "execution_count": 9,
     "metadata": {},
     "output_type": "execute_result"
    }
   ],
   "source": [
    "seq = [5, 3, 2, 4]\n",
    "\n",
    "gnome_sort(seq) == sorted(seq)"
   ]
  },
  {
   "cell_type": "markdown",
   "metadata": {},
   "source": [
    "# 9.2 선형 정렬"
   ]
  },
  {
   "cell_type": "markdown",
   "metadata": {},
   "source": [
    "## 카운트 정렬 "
   ]
  },
  {
   "cell_type": "markdown",
   "metadata": {},
   "source": [
    "**카운트 정렬**<sub>count sort</sub> 작은 범위의 정수를 정렬할 때 유용하며, 숫자의 발생 횟수를 계산하는 누적 카운트를 사용한다.\n",
    "\n",
    "\n",
    "누적 카운트를 갱신하여 순서대로 숫자를 직접 배치하는 방식이다. <br> 카운트 정렬에서 각 수자 간의 간격이 크다면, 로그 선형 제한이 걸리며 비효율적이 된다. 각 숫자의 간격이 크지 않다면, 시간 복잡도는 선형인$O(n+k)$이다."
   ]
  },
  {
   "cell_type": "markdown",
   "metadata": {},
   "source": [
    "시간 복잡도\n",
    "\n",
    "|Case|complexity|\n",
    "|:-:|:-|\n",
    "|Worst-case|$O(n+k)$|\n",
    "|Worst-case <br>space complexity|$O(n+k)$|\n",
    "\n",
    "* stable\n"
   ]
  },
  {
   "cell_type": "code",
   "execution_count": 10,
   "metadata": {
    "ExecuteTime": {
     "end_time": "2021-07-26T02:08:41.596354Z",
     "start_time": "2021-07-26T02:08:41.582341Z"
    }
   },
   "outputs": [],
   "source": [
    "from collections import defaultdict\n",
    "def count_sort_dict(a):\n",
    "    \n",
    "    b, c = [], defaultdict(list)\n",
    "    for x in a:\n",
    "        c[x].append(x)\n",
    "    print(c)\n",
    "    for k in range(min(c), max(c)+1):\n",
    "        b.extend(c[k])\n",
    "        print(b)    \n",
    "    return b"
   ]
  },
  {
   "cell_type": "code",
   "execution_count": 11,
   "metadata": {
    "ExecuteTime": {
     "end_time": "2021-07-26T02:08:41.611368Z",
     "start_time": "2021-07-26T02:08:41.597354Z"
    }
   },
   "outputs": [
    {
     "name": "stdout",
     "output_type": "stream",
     "text": [
      "defaultdict(<class 'list'>, {3: [3, 3, 3], 5: [5, 5], 2: [2, 2, 2], 1: [1, 1, 1], 6: [6], 0: [0]})\n",
      "[0]\n",
      "[0, 1, 1, 1]\n",
      "[0, 1, 1, 1, 2, 2, 2]\n",
      "[0, 1, 1, 1, 2, 2, 2, 3, 3, 3]\n",
      "[0, 1, 1, 1, 2, 2, 2, 3, 3, 3]\n",
      "[0, 1, 1, 1, 2, 2, 2, 3, 3, 3, 5, 5]\n",
      "[0, 1, 1, 1, 2, 2, 2, 3, 3, 3, 5, 5, 6]\n"
     ]
    },
    {
     "data": {
      "text/plain": [
       "True"
      ]
     },
     "execution_count": 11,
     "metadata": {},
     "output_type": "execute_result"
    }
   ],
   "source": [
    "seq = [3, 5, 2, 1, 6, 1, 0, 5, 3, 2, 1, 2, 3]\n",
    "\n",
    "count_sort_dict(seq) == sorted(seq)"
   ]
  },
  {
   "cell_type": "markdown",
   "metadata": {},
   "source": [
    "# 9.3 로그 선형 정렬"
   ]
  },
  {
   "cell_type": "markdown",
   "metadata": {},
   "source": [
    "## `sort()`와 `sorted()`\n",
    "\n",
    "* `sort()` 메서드는 원본 리스트를 정렬된 상태로 변환한다.\n",
    "\n",
    "* `sorted()` 함수는 원본의 변경 없이 정렬된 새로운 리스트를 반환.\n",
    "    - **팀소트**<sub>Timsort</sub> 알고리즘 ( 매우 효율적이다.) \n",
    "   \n",
    "    - 다양한 활용을 위한 parameter<br>   \n",
    "        - reverse=True, key=len, key=str.lower\n",
    "\n"
   ]
  },
  {
   "cell_type": "markdown",
   "metadata": {},
   "source": [
    "**Tim sort란?**"
   ]
  },
  {
   "cell_type": "markdown",
   "metadata": {},
   "source": [
    "https://en.wikipedia.org/wiki/Timsort"
   ]
  },
  {
   "cell_type": "markdown",
   "metadata": {},
   "source": [
    "## 병합 정렬"
   ]
  },
  {
   "cell_type": "markdown",
   "metadata": {},
   "source": [
    "<img src='https://upload.wikimedia.org/wikipedia/commons/thumb/c/cc/Merge-sort-example-300px.gif/220px-Merge-sort-example-300px.gif' widht='400' />\n",
    "\n",
    "출처: https://en.wikipedia.org/wiki/Merge_sort"
   ]
  },
  {
   "cell_type": "markdown",
   "metadata": {},
   "source": [
    "**병합 정렬**<sub>merge sort,합병정렬</sub>은 리스트를 반으로 나누어 정렬되지 않은 리스트를 만든다. 정렬되지 않은 두 리스트의 크기가 1이 될때까지 , 계속 리스트를 반으로 나누어 병합 정렬 알고리즘을 호출하여 리스트를 정렬하고 병합한다. \n",
    "\n",
    "* Stable and Fast\n",
    "\n",
    "* 데이터가 너무 커서 메모리에 넣지 못할 때, 병합 정렬은 좋은 선택이다. "
   ]
  },
  {
   "cell_type": "markdown",
   "metadata": {},
   "source": [
    "시간 복잡도\n",
    "\n",
    "|Case|complexity|\n",
    "|:-:|:-:|\n",
    "|Worst-case|$O(n\\log n)$|\n",
    "|Best-case|$\\Omega (n\\log n)$|\n",
    "|Average|$\\Theta (n\\log n)$|\n",
    "|Worst-space <br>auxiliary $O(n)$|$O(n)$|\n",
    "|Worst-space <br>auxiliary linked lists|$O(1)$|\n"
   ]
  },
  {
   "cell_type": "markdown",
   "metadata": {},
   "source": [
    "병합 정렬을 구현하는 여러 가지 방법이 있다. \n",
    "\n",
    "* 시간복잡도 : 최악/최선/평균일 때 모두 $O(n\\log n)$\n",
    "\n",
    "* 공간복잡도: 배열인 경우 $O(n)$이며, 일반적으로 제자리 정렬(inplace)이 아니다. \n",
    "\n",
    "* 배열이 큰 경우 효율적이다. \n",
    "\n",
    "* 병합 정렬의 병합 함수를 사용하여, 두 배열을 병합한다. \n",
    "\n",
    "* 두 파일인 경우에도 병합 가능하다. "
   ]
  },
  {
   "cell_type": "markdown",
   "metadata": {},
   "source": [
    "###### 1.  `pop()` 메서드를 사용하여 다음과 같이 구현할 수 있다. \n",
    "(각 두 배열은 정렬되어 있다. )"
   ]
  },
  {
   "cell_type": "code",
   "execution_count": 12,
   "metadata": {
    "ExecuteTime": {
     "end_time": "2021-07-26T02:08:41.626381Z",
     "start_time": "2021-07-26T02:08:41.612368Z"
    }
   },
   "outputs": [],
   "source": [
    "def merge(left,right):\n",
    "    if not left or not right: return left or right # 아무것도 병합하지 않는다. \n",
    "    \n",
    "    result = []\n",
    "    while left and right:\n",
    "        if left[-1] >= right[-1]:\n",
    "            result.append(left.pop())\n",
    "        else:\n",
    "            result.append(right.pop())\n",
    "    result.reverse()\n",
    "    \n",
    "    return (left or right) + result\n",
    "\n",
    "        "
   ]
  },
  {
   "cell_type": "code",
   "execution_count": 13,
   "metadata": {
    "ExecuteTime": {
     "end_time": "2021-07-26T02:08:41.641395Z",
     "start_time": "2021-07-26T02:08:41.627383Z"
    }
   },
   "outputs": [
    {
     "data": {
      "text/plain": [
       "[1, 2, 2, 3, 4, 4, 5, 5, 6, 7, 8]"
      ]
     },
     "execution_count": 13,
     "metadata": {},
     "output_type": "execute_result"
    }
   ],
   "source": [
    "l1 = [1, 2, 3, 4, 5, 6, 7]\n",
    "l2 = [2, 4, 5, 8]\n",
    "\n",
    "merge(l1, l2)"
   ]
  },
  {
   "cell_type": "markdown",
   "metadata": {},
   "source": [
    "###### 2. 제자리 정렬을 구현하는 경우\n",
    "한 배열의 긑에 0이 채워져 있고, 다른 배열에는 첫 배열에서 끝에 0이 채워진 크기만큼의 요소가 있다.<br> (각 두 배열은 정렬되어 있다. )"
   ]
  },
  {
   "cell_type": "markdown",
   "metadata": {
    "ExecuteTime": {
     "end_time": "2021-07-24T09:24:20.967834Z",
     "start_time": "2021-07-24T09:24:20.957833Z"
    }
   },
   "source": [
    "```python\n",
    "l1 = [1, 2, 3, 4, 5, 6, 7, 0, 0, 0, 0]\n",
    "l2 = [2, 4, 5, 8]\n",
    "merge_two_arrays_inplace(l1, l2)\n",
    "```"
   ]
  },
  {
   "cell_type": "markdown",
   "metadata": {},
   "source": [
    "###### 3. 정렬된 파일은 다음과 같이 병합\n",
    "\n",
    "(파일을 로딩할 충분한 RAM이 필요)"
   ]
  },
  {
   "cell_type": "markdown",
   "metadata": {},
   "source": [
    "```python\n",
    "list_files = ['1.dat', '2.dat', '3.dat']\n",
    "\n",
    "merge_files(list_files)\n",
    "[1, 1, 2, 3, 3, 3, 4, 5, 5, 5, 6, 7, 8]\n",
    "\n",
    "```"
   ]
  },
  {
   "cell_type": "raw",
   "metadata": {},
   "source": [
    "구현~"
   ]
  },
  {
   "cell_type": "markdown",
   "metadata": {},
   "source": [
    "###### 1)  `pop()`을 이용한 병합 정렬"
   ]
  },
  {
   "cell_type": "code",
   "execution_count": 14,
   "metadata": {
    "ExecuteTime": {
     "end_time": "2021-07-26T02:08:41.656408Z",
     "start_time": "2021-07-26T02:08:41.642397Z"
    }
   },
   "outputs": [],
   "source": [
    "def merge_sort(seq):\n",
    "\n",
    "    if len(seq) < 2:\n",
    "        return seq\n",
    "    mid = len(seq) // 2\n",
    "    left, right = seq[:mid], seq[mid:]\n",
    "    \n",
    "    if len(left) > 1:\n",
    "        left = merge_sort(left)\n",
    "        \n",
    "    if len(right) > 1:\n",
    "        right = merge_sort(right)\n",
    "\n",
    "        \n",
    "    res = []\n",
    "    print(left, right)\n",
    "    \n",
    "    while left and right:\n",
    "        if left[-1] >= right[-1]:\n",
    "            res.append(left.pop())\n",
    "        else:\n",
    "            res.append(right.pop())\n",
    "            \n",
    "    res.reverse()\n",
    "    return (left or right) + res\n"
   ]
  },
  {
   "cell_type": "code",
   "execution_count": 15,
   "metadata": {
    "ExecuteTime": {
     "end_time": "2021-07-26T02:08:41.671431Z",
     "start_time": "2021-07-26T02:08:41.657408Z"
    }
   },
   "outputs": [
    {
     "name": "stdout",
     "output_type": "stream",
     "text": [
      "[2] [1]\n",
      "[4] [1, 2]\n",
      "[4] [1]\n",
      "[4] [1, 4]\n",
      "[1, 2, 4] [1, 4, 4]\n"
     ]
    },
    {
     "data": {
      "text/plain": [
       "[1, 1, 2, 4, 4, 4]"
      ]
     },
     "execution_count": 15,
     "metadata": {},
     "output_type": "execute_result"
    }
   ],
   "source": [
    "merge_sort([4,2,1,4,4,1])"
   ]
  },
  {
   "cell_type": "markdown",
   "metadata": {},
   "source": [
    "###### 2)두 함수로 나누어서 구현한다. \n",
    "* 한 함수에서는 배열을 나누고, 또 다른 함수에서는 배열을 병합한다."
   ]
  },
  {
   "cell_type": "code",
   "execution_count": 16,
   "metadata": {
    "ExecuteTime": {
     "end_time": "2021-07-26T02:08:41.686446Z",
     "start_time": "2021-07-26T02:08:41.672434Z"
    }
   },
   "outputs": [],
   "source": [
    "def merge_sort_sep(seq):\n",
    "    if len(seq) < 2:\n",
    "        return seq\n",
    "    \n",
    "    mid = len(seq) // 2\n",
    "    left = merge_sort_sep(seq[:mid])\n",
    "    right = merge_sort_sep(seq[mid:])\n",
    "    return merge(left, right)\n",
    "\n",
    "def merge(left, right):\n",
    "    if not left or not right:\n",
    "        return left or right\n",
    "    \n",
    "    result = []\n",
    "    i,j =0, 0\n",
    "    \n",
    "    while i < len(left) and j < len(right):\n",
    "        if left[i] <= right[j]:\n",
    "            result.append(left[i])\n",
    "            i += 1\n",
    "        else:\n",
    "            result.append(right[j])\n",
    "            j += 1\n",
    "            \n",
    "    if left[i:]:\n",
    "        result.extend(left[i:])\n",
    "    if right[j:]:\n",
    "        result.extend(right[j:])\n",
    "        \n",
    "    print(result)\n",
    "    return result"
   ]
  },
  {
   "cell_type": "code",
   "execution_count": 17,
   "metadata": {
    "ExecuteTime": {
     "end_time": "2021-07-26T02:08:41.701458Z",
     "start_time": "2021-07-26T02:08:41.687447Z"
    },
    "scrolled": true
   },
   "outputs": [
    {
     "name": "stdout",
     "output_type": "stream",
     "text": [
      "[1, 2]\n",
      "[1, 2, 4]\n",
      "[1, 4]\n",
      "[1, 4, 4]\n",
      "[1, 1, 2, 4, 4, 4]\n"
     ]
    },
    {
     "data": {
      "text/plain": [
       "[1, 1, 2, 4, 4, 4]"
      ]
     },
     "execution_count": 17,
     "metadata": {},
     "output_type": "execute_result"
    }
   ],
   "source": [
    "merge_sort_sep([4,2,1,4,4,1])"
   ]
  },
  {
   "cell_type": "markdown",
   "metadata": {},
   "source": [
    "###### 3) $O(2n)$ \n",
    "(각 두 배열은 정렬된 상태다.)"
   ]
  },
  {
   "cell_type": "code",
   "execution_count": 18,
   "metadata": {
    "ExecuteTime": {
     "end_time": "2021-07-26T02:08:41.716472Z",
     "start_time": "2021-07-26T02:08:41.702459Z"
    }
   },
   "outputs": [],
   "source": [
    "def merge_2n(left, right):\n",
    "    if not left or not right:\n",
    "        return left or right\n",
    "    \n",
    "    result = []\n",
    "    while left and right:\n",
    "        if left[-1] >= right[-1]:\n",
    "            result.append(left.pop())\n",
    "        else:\n",
    "            result.append(right.pop())\n",
    "            \n",
    "    result.reverse()\n",
    "    return (left or right) + result"
   ]
  },
  {
   "cell_type": "code",
   "execution_count": 19,
   "metadata": {
    "ExecuteTime": {
     "end_time": "2021-07-26T02:08:41.731486Z",
     "start_time": "2021-07-26T02:08:41.717473Z"
    }
   },
   "outputs": [
    {
     "data": {
      "text/plain": [
       "[1, 1, 4, 4, 4, 5, 9]"
      ]
     },
     "execution_count": 19,
     "metadata": {},
     "output_type": "execute_result"
    }
   ],
   "source": [
    "merge_2n([1, 4, 5],[1, 4,4,9])"
   ]
  },
  {
   "cell_type": "markdown",
   "metadata": {},
   "source": [
    "###### 4) 제자리 정렬로 구현한다. "
   ]
  },
  {
   "cell_type": "code",
   "execution_count": 20,
   "metadata": {
    "ExecuteTime": {
     "end_time": "2021-07-26T02:08:41.746500Z",
     "start_time": "2021-07-26T02:08:41.732488Z"
    }
   },
   "outputs": [],
   "source": [
    "def merge_two_arrays_inplace(l1, l2):\n",
    "    if not l1 or not l2:\n",
    "        return l1 or l2\n",
    "    \n",
    "    p2 = len(l2) - 1\n",
    "    p1 = len(l1) - len(l2) -1\n",
    "    p12 = len(l1) - 1\n",
    "    while p2 >= 0 and p1 >= 0:\n",
    "        item_to_be_merged = l2[p2]\n",
    "        item_bigger_array = l1[p1]\n",
    "        \n",
    "        if item_to_be_merged < item_bigger_array:\n",
    "            l1[p12] = item_bigger_array\n",
    "            p1 -= 1\n",
    "            \n",
    "        else:\n",
    "            l1[p12] = item_to_be_merged\n",
    "            p2 -= 1\n",
    "        p12 -= 1\n",
    "        \n",
    "    return l1"
   ]
  },
  {
   "cell_type": "code",
   "execution_count": 21,
   "metadata": {
    "ExecuteTime": {
     "end_time": "2021-07-26T02:08:41.761514Z",
     "start_time": "2021-07-26T02:08:41.747502Z"
    }
   },
   "outputs": [
    {
     "data": {
      "text/plain": [
       "[1, 1, 4, 4, 4, 5, 9]"
      ]
     },
     "execution_count": 21,
     "metadata": {},
     "output_type": "execute_result"
    }
   ],
   "source": [
    "merge_two_arrays_inplace([1, 4, 5, 0, 0, 0, 0],[1, 4, 4, 9])"
   ]
  },
  {
   "cell_type": "markdown",
   "metadata": {},
   "source": [
    "###### 5) 파일 병합"
   ]
  },
  {
   "cell_type": "code",
   "execution_count": 22,
   "metadata": {
    "ExecuteTime": {
     "end_time": "2021-07-26T02:08:41.776528Z",
     "start_time": "2021-07-26T02:08:41.762515Z"
    }
   },
   "outputs": [],
   "source": [
    "def merge_files(list_files):\n",
    "    result = []\n",
    "    final = []\n",
    "    for filename in list_files:\n",
    "        aux = []\n",
    "        with open(filename, \"r\") as file:\n",
    "            for line in file:\n",
    "                aux.append(int(line))\n",
    "        result.append(aux)\n",
    "    final.extend(result.pop())\n",
    "    for l in result:\n",
    "        final = merge(l, final)\n",
    "    return final"
   ]
  },
  {
   "cell_type": "code",
   "execution_count": 23,
   "metadata": {
    "ExecuteTime": {
     "end_time": "2021-07-26T02:08:41.791541Z",
     "start_time": "2021-07-26T02:08:41.777529Z"
    }
   },
   "outputs": [
    {
     "name": "stdout",
     "output_type": "stream",
     "text": [
      "Overwriting a.dat\n"
     ]
    }
   ],
   "source": [
    "%%writefile a.dat\n",
    "1\n",
    "3\n",
    "5\n",
    "6\n",
    "8"
   ]
  },
  {
   "cell_type": "code",
   "execution_count": 24,
   "metadata": {
    "ExecuteTime": {
     "end_time": "2021-07-26T02:08:41.806555Z",
     "start_time": "2021-07-26T02:08:41.792542Z"
    }
   },
   "outputs": [
    {
     "name": "stdout",
     "output_type": "stream",
     "text": [
      "Overwriting b.dat\n"
     ]
    }
   ],
   "source": [
    "%%writefile b.dat\n",
    "1\n",
    "3\n",
    "5\n",
    "7"
   ]
  },
  {
   "cell_type": "code",
   "execution_count": 25,
   "metadata": {
    "ExecuteTime": {
     "end_time": "2021-07-26T02:08:41.821569Z",
     "start_time": "2021-07-26T02:08:41.807556Z"
    }
   },
   "outputs": [
    {
     "name": "stdout",
     "output_type": "stream",
     "text": [
      "Overwriting c.dat\n"
     ]
    }
   ],
   "source": [
    "%%writefile c.dat\n",
    "2\n",
    "3\n",
    "4\n",
    "5"
   ]
  },
  {
   "cell_type": "code",
   "execution_count": 26,
   "metadata": {
    "ExecuteTime": {
     "end_time": "2021-07-26T02:08:41.836582Z",
     "start_time": "2021-07-26T02:08:41.822569Z"
    }
   },
   "outputs": [
    {
     "name": "stdout",
     "output_type": "stream",
     "text": [
      "[1, 2, 3, 3, 4, 5, 5, 6, 8]\n",
      "[1, 1, 2, 3, 3, 3, 4, 5, 5, 5, 6, 7, 8]\n"
     ]
    },
    {
     "data": {
      "text/plain": [
       "[1, 1, 2, 3, 3, 3, 4, 5, 5, 5, 6, 7, 8]"
      ]
     },
     "execution_count": 26,
     "metadata": {},
     "output_type": "execute_result"
    }
   ],
   "source": [
    "list_files = [\"a.dat\", \"b.dat\", \"c.dat\"]\n",
    "\n",
    "merge_files(list_files)"
   ]
  },
  {
   "cell_type": "markdown",
   "metadata": {},
   "source": [
    "분할 및 병학 과정을 그림으로 나타내면 아래와 같다."
   ]
  },
  {
   "cell_type": "markdown",
   "metadata": {},
   "source": [
    "<img src='https://slid-capture.s3.ap-northeast-2.amazonaws.com/public/image_upload/d4954708fd8f4731a091c75bea2b2ea7/4230a381-5016-4550-83a1-4427320fdcd0.png' width='700' />"
   ]
  },
  {
   "cell_type": "markdown",
   "metadata": {},
   "source": [
    "12번에 2 6 8 이어야 함 (오타 수정)"
   ]
  },
  {
   "cell_type": "markdown",
   "metadata": {},
   "source": [
    "## 퀵정렬"
   ]
  },
  {
   "cell_type": "markdown",
   "metadata": {},
   "source": [
    "**퀵 정렬**<sub>quick sort</sub> 는 *피벗*<sub>pivot</sub> 값을 잘 선택하는 것이 성능의 핵심이다. \n",
    "\n",
    "\n",
    "* 피벗 : 리스트에서 기준이 되는 하나의 요소\n",
    "* 파티셔닝<sub>partitioning</sub>:피벗 앞에는 피벗보다 작은 값이 오고, 피벗 뒤에는 피벗보다 큰 값이 오도록 피벗을 기준으로 리스틀 둘로 나눈다. \n",
    "\n",
    "* 리스트의 중앙값<sub>median</sub> 을 피벗으로 선택하는 것은 이미 정렬된 리스트에서 가장 적합한 선택이고, 정렬되지 않은 리스트 대부분에서도 다른 선택보다 나쁘지 않다. "
   ]
  },
  {
   "cell_type": "markdown",
   "metadata": {},
   "source": [
    "분할 과정에서 n-1 요소의 영역을 생성하는 경우(피벗이 최솟값 또는 최댓값일 때), 최악의 경우 시간 복잡도는 $O(n^2)$ 이다.  최선의 경우는 두 개의 n/2 크기 리스트를 생성하게 되고, 이 최선의 경우와 평균 시간 복잡도는 $O(n \\log n) $이다."
   ]
  },
  {
   "cell_type": "markdown",
   "metadata": {},
   "source": [
    "<img src='https://upload.wikimedia.org/wikipedia/commons/thumb/6/6a/Sorting_quicksort_anim.gif/220px-Sorting_quicksort_anim.gif' width='400' />\n",
    "\n",
    "출처 : https://en.wikipedia.org/wiki/Quicksort"
   ]
  },
  {
   "cell_type": "markdown",
   "metadata": {},
   "source": [
    "시간 복잡도\n",
    "\n",
    "|Case|complexity|\n",
    "|:-:|:-:|\n",
    "|Worst-case| $O(n^2)$ |\n",
    "|Best-case|$ O(n\\log n)$|\n",
    "|Average|$O(n\\log n)$|\n",
    "|Worst-space <br>auxiliary (naive)|$O(n)$|\n",
    "|Worst-space <br>auxiliary (Hoare 1962)|$O(log n)$|\n",
    "\n",
    "* unstable"
   ]
  },
  {
   "cell_type": "markdown",
   "metadata": {},
   "source": [
    "구현~"
   ]
  },
  {
   "cell_type": "markdown",
   "metadata": {},
   "source": [
    "###### 1) 한 함수로 구현(캐쉬 사용)\n",
    "* 피봇을 정하는 방법: 가운데에 위치한 값"
   ]
  },
  {
   "cell_type": "code",
   "execution_count": 27,
   "metadata": {
    "ExecuteTime": {
     "end_time": "2021-07-26T02:08:41.851595Z",
     "start_time": "2021-07-26T02:08:41.837583Z"
    }
   },
   "outputs": [],
   "source": [
    "def quick_sort_cache(seq):\n",
    "    if len(seq) < 2:\n",
    "        return seq\n",
    "    ipivot = len(seq) // 2 # 피벗 인덱스\n",
    "    pivot = seq[ipivot] # 피벗\n",
    "    \n",
    "    before = [x for i , x in enumerate(seq) if x <= pivot and i != ipivot]\n",
    "    after = [x for i, x in enumerate(seq) if x > pivot and i != ipivot]\n",
    "    return quick_sort_cache(before) + [pivot] + quick_sort_cache(after)"
   ]
  },
  {
   "cell_type": "code",
   "execution_count": 28,
   "metadata": {
    "ExecuteTime": {
     "end_time": "2021-07-26T02:08:41.866608Z",
     "start_time": "2021-07-26T02:08:41.852596Z"
    }
   },
   "outputs": [
    {
     "data": {
      "text/plain": [
       "[0, 1, 2, 2, 3, 3, 5, 5, 6, 6, 8]"
      ]
     },
     "execution_count": 28,
     "metadata": {},
     "output_type": "execute_result"
    }
   ],
   "source": [
    "seq = [3, 5, 2, 6, 8, 1, 0, 3, 5, 6, 2]\n",
    "\n",
    "quick_sort_cache(seq)"
   ]
  },
  {
   "cell_type": "markdown",
   "metadata": {},
   "source": [
    "######  2) 위의  한 함수 퀵 정렬을 두 함수로 구현(캐쉬 사용)\n",
    "\n",
    "* 피봇을 정하는 방법: 맨 앞에 위치한 값"
   ]
  },
  {
   "cell_type": "code",
   "execution_count": 29,
   "metadata": {
    "ExecuteTime": {
     "end_time": "2021-07-26T02:08:41.881622Z",
     "start_time": "2021-07-26T02:08:41.867610Z"
    }
   },
   "outputs": [],
   "source": [
    "def partition_devided(seq):\n",
    "    pivot, seq = seq[0], seq[1:]\n",
    "    before = []\n",
    "    after = []\n",
    "    before = [x for x in seq if x <=pivot]\n",
    "    after = [x for x in seq if x > pivot]\n",
    "    \n",
    "    return before, pivot, after\n",
    "\n",
    "def quick_sort_cache_devided(seq):\n",
    "    if len(seq) < 2:\n",
    "        return seq\n",
    "    \n",
    "    before, pivot, after = partition_devided(seq)\n",
    "    return quick_sort_cache_devided(before) + [pivot] + quick_sort_cache_devided(after)\n",
    "    \n",
    "    "
   ]
  },
  {
   "cell_type": "code",
   "execution_count": 30,
   "metadata": {
    "ExecuteTime": {
     "end_time": "2021-07-26T02:08:41.896636Z",
     "start_time": "2021-07-26T02:08:41.882625Z"
    }
   },
   "outputs": [
    {
     "data": {
      "text/plain": [
       "[0, 1, 2, 2, 3, 3, 5, 5, 6, 6, 8]"
      ]
     },
     "execution_count": 30,
     "metadata": {},
     "output_type": "execute_result"
    }
   ],
   "source": [
    "seq = [3, 5, 2, 6, 8, 1, 0, 3, 5, 6, 2]\n",
    "\n",
    "quick_sort_cache_devided(seq)"
   ]
  },
  {
   "cell_type": "markdown",
   "metadata": {},
   "source": [
    "###### 3) 두 함수 ( 캐쉬 미사용)\n",
    "* 피봇 정하는 방법: 맨 앞에 위치한 값"
   ]
  },
  {
   "cell_type": "code",
   "execution_count": 31,
   "metadata": {
    "ExecuteTime": {
     "end_time": "2021-07-26T02:08:41.911650Z",
     "start_time": "2021-07-26T02:08:41.897638Z"
    }
   },
   "outputs": [],
   "source": [
    "idx = 0 \n",
    "def partition(seq, start, end):\n",
    "    global idx\n",
    "    pivot = seq[start]\n",
    "    left = start + 1\n",
    "    right = end\n",
    "    done = False\n",
    "    while not done:\n",
    "        while left <= right and seq[left] <=pivot:\n",
    "            left += 1\n",
    "        while left <= right and pivot < seq[right]:\n",
    "            right -= 1\n",
    "        if right < left:\n",
    "            done = True\n",
    "        else:\n",
    "            seq[left], seq[right] = seq[right], seq[left]\n",
    "    seq[start], seq[right] = seq[right], seq[start]\n",
    "    print(idx,right, seq)\n",
    "    idx +=1\n",
    "    return right\n",
    "    \n",
    "    \n",
    "def quick_sort(seq, start, end):\n",
    "    if start < end:\n",
    "        pivot = partition(seq, start, end)\n",
    "        quick_sort(seq, start, pivot-1)\n",
    "        quick_sort(seq, pivot + 1, end)\n",
    "    return seq            "
   ]
  },
  {
   "cell_type": "code",
   "execution_count": 32,
   "metadata": {
    "ExecuteTime": {
     "end_time": "2021-07-26T02:08:41.926663Z",
     "start_time": "2021-07-26T02:08:41.912652Z"
    }
   },
   "outputs": [
    {
     "name": "stdout",
     "output_type": "stream",
     "text": [
      "0 5 [1, 2, 2, 3, 0, 3, 8, 6, 5, 6, 5]\n",
      "1 1 [0, 1, 2, 3, 2, 3, 8, 6, 5, 6, 5]\n",
      "2 3 [0, 1, 2, 2, 3, 3, 8, 6, 5, 6, 5]\n",
      "3 10 [0, 1, 2, 2, 3, 3, 5, 6, 5, 6, 8]\n",
      "4 7 [0, 1, 2, 2, 3, 3, 5, 5, 6, 6, 8]\n",
      "5 9 [0, 1, 2, 2, 3, 3, 5, 5, 6, 6, 8]\n"
     ]
    },
    {
     "data": {
      "text/plain": [
       "[0, 1, 2, 2, 3, 3, 5, 5, 6, 6, 8]"
      ]
     },
     "execution_count": 32,
     "metadata": {},
     "output_type": "execute_result"
    }
   ],
   "source": [
    "seq = [3, 5, 2, 6, 8, 1, 0, 3, 5, 6, 2]\n",
    "\n",
    "quick_sort(seq, 0 , len(seq)-1)"
   ]
  },
  {
   "cell_type": "markdown",
   "metadata": {},
   "source": [
    "시각화 해보자. "
   ]
  },
  {
   "cell_type": "markdown",
   "metadata": {},
   "source": [
    "1)과 2) 의 경우 분할 시"
   ]
  },
  {
   "cell_type": "markdown",
   "metadata": {},
   "source": [
    "<img src='https://slid-capture.s3.ap-northeast-2.amazonaws.com/public/image_upload/d4954708fd8f4731a091c75bea2b2ea7/b368a97c-23f3-424c-b1fa-b051c10b895e.png' widht='600' />"
   ]
  },
  {
   "cell_type": "markdown",
   "metadata": {
    "ExecuteTime": {
     "end_time": "2021-07-24T11:44:35.329318Z",
     "start_time": "2021-07-24T11:44:35.311314Z"
    }
   },
   "source": [
    "분할 및 병합 과정"
   ]
  },
  {
   "cell_type": "markdown",
   "metadata": {},
   "source": [
    "<img src='https://slid-capture.s3.ap-northeast-2.amazonaws.com/public/image_upload/d4954708fd8f4731a091c75bea2b2ea7/83865859-f4e5-49d0-abe6-33bc41fd56cd.png' width='700' />"
   ]
  },
  {
   "cell_type": "markdown",
   "metadata": {},
   "source": [
    "3)번의 분할과정 중 첫번째"
   ]
  },
  {
   "cell_type": "markdown",
   "metadata": {
    "cell_style": "center"
   },
   "source": [
    "<img src='https://slid-capture.s3.ap-northeast-2.amazonaws.com/public/image_upload/d4954708fd8f4731a091c75bea2b2ea7/aba83fbf-e819-4286-9502-9823a038869e.png' width='600' />"
   ]
  },
  {
   "cell_type": "markdown",
   "metadata": {},
   "source": [
    "3)번의 전체 과정을 그래프화 한다면, 분할 함수는 총 6번 호출된다.\n",
    "\n",
    "* 분할 함수는 확정된 피벗 인덱스를 반환한다.(칠해진 음영 상자) \n",
    "\n",
    "* 반환되지 않은 인덱스는 자연스럽게 인덱스 위치가 확정된 (말단의 노드의 마름모 상자)."
   ]
  },
  {
   "cell_type": "markdown",
   "metadata": {},
   "source": [
    "<img src='https://slid-capture.s3.ap-northeast-2.amazonaws.com/public/image_upload/d4954708fd8f4731a091c75bea2b2ea7/3abc6b05-0723-4d31-8c41-7ee2825b2a2f.png' widht='700' />"
   ]
  },
  {
   "cell_type": "markdown",
   "metadata": {},
   "source": [
    "##  힙 정렬 "
   ]
  },
  {
   "cell_type": "markdown",
   "metadata": {},
   "source": [
    "**힙 정렬**<sub>heap sort</sub> \n",
    "\n",
    "정렬되지 않은 영역이 힙이라는 점을 제외하면 선택 정렬과 비슷하다. \n",
    "\n",
    "힙 정렬은 가장 큰 (또는 작은 요소)를 n번 찾을때 로그 선형의 시간복잡도를 가진다. \n",
    "\n",
    "힙에서 루트가 아닌 다른 모든 노드는 부모 노드의 값보다 작은 (또는 큰 ) 값을 갖는다. "
   ]
  },
  {
   "cell_type": "markdown",
   "metadata": {},
   "source": [
    "<img src='https://upload.wikimedia.org/wikipedia/commons/1/1b/Sorting_heapsort_anim.gif' width='300' />"
   ]
  },
  {
   "cell_type": "markdown",
   "metadata": {},
   "source": [
    "시간 복잡도\n",
    "\n",
    "|Case|complexity|\n",
    "|:-:|:-:|\n",
    "|Worst-case|$O(n\\log n)$|\n",
    "|Best-case|$O(n\\log n)$<br>or<br> $O(n)$ (equal keys)|\n",
    "|Average|$O(n\\log n)$|\n",
    "|Worst-space <br>auxiliary $O(1)$|$O(n)$|\n",
    "\n",
    "* unstable"
   ]
  },
  {
   "cell_type": "markdown",
   "metadata": {},
   "source": [
    "구현"
   ]
  },
  {
   "cell_type": "markdown",
   "metadata": {},
   "source": [
    "######  1) `heapq` library"
   ]
  },
  {
   "cell_type": "code",
   "execution_count": 33,
   "metadata": {
    "ExecuteTime": {
     "end_time": "2021-07-26T02:08:41.941676Z",
     "start_time": "2021-07-26T02:08:41.927664Z"
    }
   },
   "outputs": [],
   "source": [
    "import heapq\n",
    "\n",
    "def heap_sort1(seq):\n",
    "    h = []\n",
    "    for value in seq:\n",
    "        heapq.heappush(h, value)\n",
    "    return [heapq.heappop(h) for i in range(len(h))]"
   ]
  },
  {
   "cell_type": "code",
   "execution_count": 34,
   "metadata": {
    "ExecuteTime": {
     "end_time": "2021-07-26T02:08:41.956690Z",
     "start_time": "2021-07-26T02:08:41.942678Z"
    }
   },
   "outputs": [
    {
     "data": {
      "text/plain": [
       "[0, 1, 2, 2, 3, 3, 5, 5, 6, 6, 8]"
      ]
     },
     "execution_count": 34,
     "metadata": {},
     "output_type": "execute_result"
    }
   ],
   "source": [
    "seq = [3, 5, 2, 6, 8, 1, 0, 3, 5, 6, 2]\n",
    "\n",
    "heap_sort1(seq)"
   ]
  },
  {
   "cell_type": "markdown",
   "metadata": {},
   "source": [
    "###### 2) heap class 이용"
   ]
  },
  {
   "cell_type": "code",
   "execution_count": 35,
   "metadata": {
    "ExecuteTime": {
     "end_time": "2021-07-26T02:08:41.971704Z",
     "start_time": "2021-07-26T02:08:41.957692Z"
    }
   },
   "outputs": [],
   "source": [
    "class Heap(object): # 7장의 heap 참조\n",
    "    def __init__(self, data=None):\n",
    "        self.data = data or []\n",
    "        for i in range(len(data)//2, -1, -1):\n",
    "            self.__max_heapify__(i)\n",
    "\n",
    "    def __repr__(self):\n",
    "        return (f'{self.data}')\n",
    "\n",
    "    def parent(self, i):\n",
    "        return i >> 1\n",
    "\n",
    "    def left_child(self, i):\n",
    "        return (i << 1) + 1\n",
    "\n",
    "    def right_child(self, i):\n",
    "        return (i << 1) + 2\n",
    "\n",
    "    def __max_heapify__(self, i):\n",
    "        largest = i\n",
    "        left = self.left_child(i)\n",
    "        right = self.right_child(i)\n",
    "        n = len(self.data)\n",
    "        largest = (left < n and self.data[left] > self.data[i]) and left or i\n",
    "        largest = (right < n and self.data[right]\n",
    "                   > self.data[largest]) and right or largest\n",
    "        if i is not largest:\n",
    "            self.data[i], self.data[largest] = self.data[largest], self.data[i]\n",
    "            self.__max_heapify__(largest)\n",
    "\n",
    "    def extract_max(self):\n",
    "        n = len(self.data)\n",
    "        max_element = self.data[0]\n",
    "        self.data[0] = self.data[n - 1]\n",
    "        self.data = self.data[:n - 1]\n",
    "        self.__max_heapify__(0)\n",
    "        return max_element"
   ]
  },
  {
   "cell_type": "code",
   "execution_count": 36,
   "metadata": {
    "ExecuteTime": {
     "end_time": "2021-07-26T02:08:41.986717Z",
     "start_time": "2021-07-26T02:08:41.972705Z"
    }
   },
   "outputs": [],
   "source": [
    "def heap_sort2(seq):\n",
    "    s = list(seq)\n",
    "    heap = Heap(s)\n",
    "    res = []\n",
    "    for _ in range(len(s)):\n",
    "        res.insert(0, heap.extract_max())\n",
    "    \n",
    "    return res"
   ]
  },
  {
   "cell_type": "code",
   "execution_count": 37,
   "metadata": {
    "ExecuteTime": {
     "end_time": "2021-07-26T02:08:42.001733Z",
     "start_time": "2021-07-26T02:08:41.987718Z"
    }
   },
   "outputs": [
    {
     "data": {
      "text/plain": [
       "[0, 1, 2, 2, 3, 3, 5, 5, 6, 6, 8]"
      ]
     },
     "execution_count": 37,
     "metadata": {},
     "output_type": "execute_result"
    }
   ],
   "source": [
    "seq = [3, 5, 2, 6, 8, 1, 0, 3, 5, 6, 2]\n",
    "\n",
    "heap_sort2(seq)"
   ]
  },
  {
   "cell_type": "markdown",
   "metadata": {},
   "source": [
    "###### 3) def만으로 구현"
   ]
  },
  {
   "cell_type": "code",
   "execution_count": 38,
   "metadata": {
    "ExecuteTime": {
     "end_time": "2021-07-26T02:08:42.016745Z",
     "start_time": "2021-07-26T02:08:42.002732Z"
    }
   },
   "outputs": [],
   "source": [
    "def heap_sort3(seq):\n",
    "    for start in range((len(seq)-2)//2, -1, -1):\n",
    "        siftdown(seq, start, len(seq)-1)\n",
    "    for end in range(len(seq)-1, 0, -1):\n",
    "        seq[end], seq[0] = seq[0], seq[end]\n",
    "        siftdown(seq, 0, end - 1)\n",
    "    return seq\n",
    "\n",
    "def siftdown(seq, start, end):\n",
    "    root = start\n",
    "    while True:\n",
    "        child = root * 2 + 1\n",
    "        if child > end:\n",
    "            break\n",
    "        \n",
    "        if child + 1 <= end and seq[child] < seq[child + 1]:\n",
    "            child += 1\n",
    "            \n",
    "        if seq[root] < seq[child]:\n",
    "            seq[root], seq[child] = seq[child], seq[root]\n",
    "            root = child\n",
    "            \n",
    "        else:\n",
    "            break"
   ]
  },
  {
   "cell_type": "code",
   "execution_count": 39,
   "metadata": {
    "ExecuteTime": {
     "end_time": "2021-07-26T02:08:42.031760Z",
     "start_time": "2021-07-26T02:08:42.017745Z"
    }
   },
   "outputs": [
    {
     "data": {
      "text/plain": [
       "[0, 1, 2, 2, 3, 3, 5, 5, 6, 6, 8]"
      ]
     },
     "execution_count": 39,
     "metadata": {},
     "output_type": "execute_result"
    }
   ],
   "source": [
    "seq = [3, 5, 2, 6, 8, 1, 0, 3, 5, 6, 2]\n",
    "\n",
    "heap_sort3(seq)"
   ]
  },
  {
   "cell_type": "markdown",
   "metadata": {},
   "source": [
    "# 9.4 시간복잡도 비교 "
   ]
  },
  {
   "cell_type": "markdown",
   "metadata": {},
   "source": [
    "|알고리즘|자료구조|최소|평균|최악|공간복잡도(최악)|\n",
    "|:-------|:-------|:--:|:--:|:----:|:---------------:|\n",
    "|퀵 정렬|배열|O($n$ $\\log $ $n$)|O($n$ $\\log $ $n$)|O($n^2$)|O($n$)|\n",
    "|병합 정렬|배열|O($n$ $\\log $ $n$)|O($n$ $\\log $ n)|O($n$ $\\log $ $n$)|O($n$)|\n",
    "|힙 정렬|배열|O($n$ $\\log $ $n$)|O($n$ $\\log $ n)|O($n$ $\\log $ $n$)|O($1$)|\n",
    "|거품 정렬|배열|O($n$)|O($n^2$)|O($n^2$)|O($1$)|\n",
    "|삼입 정렬|배열|O($n$)|O($n^2$)|O($n^2$)|O($1$)|\n",
    "|선택 정렬|배열|O($n^2$)|O($n^2$)|O($n^2$)|O($1$)|\n",
    "|버킷 정렬|배열|O($n+k$)|O($n+k$)|O($n^2$)|O($nk$)|\n",
    "|기수 정렬|배열|O($nk$)|O($nk$)|O($nk$)|O($n+k$)|"
   ]
  },
  {
   "cell_type": "markdown",
   "metadata": {},
   "source": [
    "# 9.5 연습문제 "
   ]
  },
  {
   "cell_type": "markdown",
   "metadata": {},
   "source": [
    "## 가장 큰 항목 k개 찾기"
   ]
  },
  {
   "cell_type": "code",
   "execution_count": 43,
   "metadata": {
    "ExecuteTime": {
     "end_time": "2021-07-26T02:22:32.414430Z",
     "start_time": "2021-07-26T02:22:32.402395Z"
    }
   },
   "outputs": [],
   "source": [
    "import random\n",
    "\n",
    "def swap(seq, x, y):\n",
    "    seq[x], seq[y] = seq[y], seq[x]\n",
    "    \n",
    "def quick_select(seq, k, left=None, right=None):\n",
    "    left = left or 0\n",
    "    right = right or len(seq) - 1\n",
    "    ipivot = random.randint(left, right)\n",
    "    pivot = seq[ipivot]\n",
    "    \n",
    "    # 피벗을 정렬 범위 밖으로 이동한다.\n",
    "    swap(seq, ipivot, right)\n",
    "    swapIndex, i = left, left\n",
    "    while i < right:\n",
    "        if seq[i] < pivot:\n",
    "            swap(seq, i, swapIndex)\n",
    "            swapIndex += 1\n",
    "        i += 1\n",
    "        \n",
    "    # 피벗 위치를 확정한다. \n",
    "    swap(seq, right, swapIndex)\n",
    "    #피벗 위치를 확인한다.\n",
    "    rank = len(seq) - swapIndex\n",
    "    if k == rank:\n",
    "        return seq[swapIndex]\n",
    "    elif k < rank:\n",
    "        return quick_select(seq, k, left=swapIndex+1, right= right)\n",
    "    else:\n",
    "        return quick_select(seq, k, left=left, right=swapIndex-1)\n",
    "            \n",
    "def find_k_largest_seq_quickselect(seq, k):\n",
    "    # k번째로 큰 값을 찾는다.\n",
    "    kth_largest = quick_select(seq, k)\n",
    "    \n",
    "    result = []\n",
    "    for item in seq:\n",
    "        if item >= kth_largest:\n",
    "            result.append(item)\n",
    "    \n",
    "    return result"
   ]
  },
  {
   "cell_type": "code",
   "execution_count": 44,
   "metadata": {
    "ExecuteTime": {
     "end_time": "2021-07-26T02:22:56.055554Z",
     "start_time": "2021-07-26T02:22:56.044544Z"
    }
   },
   "outputs": [
    {
     "data": {
      "text/plain": [
       "[9, 10, 11]"
      ]
     },
     "execution_count": 44,
     "metadata": {},
     "output_type": "execute_result"
    }
   ],
   "source": [
    "seq = [3, 10, 4, 5, 1, 8, 9, 11, 5]\n",
    "\n",
    "find_k_largest_seq_quickselect(seq, 3)"
   ]
  },
  {
   "cell_type": "markdown",
   "metadata": {},
   "source": [
    "**Reference**\n",
    "\n",
    "* <a href='https://github.com/SeWonKwon' ><div> <img src ='https://slid-capture.s3.ap-northeast-2.amazonaws.com/public/image_upload/6556674324ed41a289a354258718280d/964e5a8b-75ad-41fc-ae75-0ca66d06fbc7.png' align='left' /> </div></a>\n",
    "\n",
    "<br>\n",
    "\n",
    "* [파이썬 자료구조와 알고리즘, 미아 스타인](https://github.com/AstinCHOI/Python-and-Algorithms-and-Data-Structures)"
   ]
  }
 ],
 "metadata": {
  "kernelspec": {
   "display_name": "Python 3",
   "language": "python",
   "name": "python3"
  },
  "language_info": {
   "codemirror_mode": {
    "name": "ipython",
    "version": 3
   },
   "file_extension": ".py",
   "mimetype": "text/x-python",
   "name": "python",
   "nbconvert_exporter": "python",
   "pygments_lexer": "ipython3",
   "version": "3.8.5"
  },
  "toc": {
   "base_numbering": 1,
   "nav_menu": {},
   "number_sections": true,
   "sideBar": true,
   "skip_h1_title": false,
   "title_cell": "Table of Contents",
   "title_sidebar": "Contents",
   "toc_cell": false,
   "toc_position": {
    "height": "calc(100% - 180px)",
    "left": "10px",
    "top": "150px",
    "width": "239.792px"
   },
   "toc_section_display": true,
   "toc_window_display": false
  }
 },
 "nbformat": 4,
 "nbformat_minor": 4
}
