{
 "cells": [
  {
   "cell_type": "markdown",
   "metadata": {},
   "source": [
    "<a href='https://github.com/SeWonKwon' ><div> <img src ='https://slid-capture.s3.ap-northeast-2.amazonaws.com/public/image_upload/6556674324ed41a289a354258718280d/964e5a8b-75ad-41fc-ae75-0ca66d06fbc7.png' align='left' /> </div></a>\n"
   ]
  },
  {
   "cell_type": "markdown",
   "metadata": {},
   "source": [
    "###### Ch 05 객체지향 설계"
   ]
  },
  {
   "cell_type": "markdown",
   "metadata": {},
   "source": [
    " "
   ]
  },
  {
   "cell_type": "markdown",
   "metadata": {},
   "source": [
    "원circle을 나타내는 객체를 정의하고 싶다고 가정해보자. `collections` 모듈의 네임드 튜플을 사용했던 것을 기억할 것이다.('2.3.3 네임드튜플')"
   ]
  },
  {
   "cell_type": "code",
   "execution_count": 1,
   "metadata": {
    "ExecuteTime": {
     "end_time": "2021-10-11T03:59:01.186276Z",
     "start_time": "2021-10-11T03:59:01.169261Z"
    }
   },
   "outputs": [],
   "source": [
    "import collections\n",
    "circle = collections.namedtuple(\"Circle\", \"x y radius\")"
   ]
  },
  {
   "cell_type": "code",
   "execution_count": 2,
   "metadata": {
    "ExecuteTime": {
     "end_time": "2021-10-11T03:59:01.201289Z",
     "start_time": "2021-10-11T03:59:01.187277Z"
    }
   },
   "outputs": [
    {
     "data": {
      "text/plain": [
       "__main__.Circle"
      ]
     },
     "execution_count": 2,
     "metadata": {},
     "output_type": "execute_result"
    }
   ],
   "source": [
    "circle"
   ]
  },
  {
   "cell_type": "code",
   "execution_count": 3,
   "metadata": {
    "ExecuteTime": {
     "end_time": "2021-10-11T03:59:01.216193Z",
     "start_time": "2021-10-11T03:59:01.202290Z"
    }
   },
   "outputs": [
    {
     "data": {
      "text/plain": [
       "Circle(x=13, y=84, radius=9)"
      ]
     },
     "execution_count": 3,
     "metadata": {},
     "output_type": "execute_result"
    }
   ],
   "source": [
    "circel1 = circle(13, 84, 9)\n",
    "circel1"
   ]
  },
  {
   "cell_type": "markdown",
   "metadata": {},
   "source": [
    "하지만 이 코드에서는 고려하지 않은 점이 많다. 첫째, 사용자가 원의 반지름radius 을 입력할 때, 음수 등 유효하지 않은 값을 입력할 수도 있다. 둘째, 코드에서 원넓이area와 둘레perimeter를 구하고 싶다면 어떻게 할까?\n",
    "  \n",
    "   \n",
    "첫째 문제의 경우, 객체를 만들 때 유효성 검사를 할 수 없다는 것은 순수한 절차적 프로그래밍 방식의 매우 좋지 않은 측면임을 알 수 있다. 잘못된 입력에 대해 많은 예외 처리가 있다고 하더라도, 실제 목적에 맞게 유효성 검증을 할 수 없는 입력 데이터가 존재할 수 있다. 이 예에서 네임드 튜플 대신 리스트를 골랐다고 생각해보자. 리스트의 정렬 속성은 어떻게 다뤄야 할까?\n",
    "\n",
    "이 예에서 배울 수 있는 점은 명확하다. 오직 우리가 기대하는 속성만 가진 객체를 만들어야 한다. 즉, 데이터를 패키지화하고, 메서드를 제한해야 한다. 이것이 바로 객체지향 프로그래밍이다. 이 예에서는 원을 나타낼 자신만의 고유한 데이터 타입, 즉 클래스를 만들어야 한다."
   ]
  },
  {
   "cell_type": "markdown",
   "metadata": {},
   "source": [
    "# 5.1 클래스와 객체"
   ]
  },
  {
   "cell_type": "markdown",
   "metadata": {},
   "source": [
    "**클래스**,**객체**,**인스턴스**"
   ]
  },
  {
   "cell_type": "markdown",
   "metadata": {},
   "source": [
    "**클래스**class는 사전에 정의된 특별한 데이터와 메서드의 집합이다. \n",
    "클래스에 선언된 모양 그대로 생성된 실체를 **객체**object라고 한다. 객체가 소프트웨어에 실체화될 때(메모리에 할당되어 사용될 때), 이 실체를 **인스턴스**instance라고 한다. 객체는 인스턴스를 포함할 수 있으며, 포괄적인 의미를 지닌다. 파이썬에서 가장 간단한 형태의 클래스는 다음과 같다. "
   ]
  },
  {
   "cell_type": "code",
   "execution_count": 4,
   "metadata": {
    "ExecuteTime": {
     "end_time": "2021-10-11T03:59:01.231210Z",
     "start_time": "2021-10-11T03:59:01.217198Z"
    }
   },
   "outputs": [],
   "source": [
    "class ClassName:\n",
    "    # 문장1\n",
    "    # ...\n",
    "    # 문장n\n",
    "    pass"
   ]
  },
  {
   "cell_type": "code",
   "execution_count": 5,
   "metadata": {
    "ExecuteTime": {
     "end_time": "2021-10-11T03:59:01.246215Z",
     "start_time": "2021-10-11T03:59:01.232210Z"
    }
   },
   "outputs": [
    {
     "data": {
      "text/plain": [
       "<__main__.ClassName at 0x1d96bb09040>"
      ]
     },
     "execution_count": 5,
     "metadata": {},
     "output_type": "execute_result"
    }
   ],
   "source": [
    "x = ClassName() # 클래스 정의에 따라서 인스턴스를 생성\n",
    "x"
   ]
  },
  {
   "cell_type": "markdown",
   "metadata": {},
   "source": [
    "## 5.1.1 클래스 인스턴스 생성"
   ]
  },
  {
   "cell_type": "markdown",
   "metadata": {},
   "source": [
    "**클래스 인스턴스 생성**class instantiation은 함수 표기법을 사용하여 초기 상태의 객체를 생성하는 일이다. 인스턴스 생성 작업은 어떤 특징을 가진 빈 객체를 만드는 것이다.  (여러 범위의) 여러 이름을 같은 객체에 **바인딩**binding(또는 **에일리어싱**aliasing) 할 수 있다. \n",
    "\n",
    "'Hello'라는 클래스가 있다고 하자. 그러면 'Hello()'를 호출하여 객체를 생성하는데 이때 'Hello()'를 **생성자**constructor라고 한다. 생성자를 호출하면 `Hello.__new__()`라는 특수 메서드가 호출되어 객체가 할당되고 그 다음 `Hello.__ini__()` 메서드가 객체를 초기화한다."
   ]
  },
  {
   "cell_type": "markdown",
   "metadata": {},
   "source": [
    "###### 속성attribution"
   ]
  },
  {
   "cell_type": "markdown",
   "metadata": {},
   "source": [
    "객체에는 **데이터**data와 **메서드**method로 이루어지는 클래스 **속성**attribute이 있다. 메서드 속성은 함수인데, 그 첫 번째 인수는 호출된 인스턴스 자신이다.(파이썬에서는 이를 셀프self라고 한다)"
   ]
  },
  {
   "cell_type": "markdown",
   "metadata": {},
   "source": [
    "속성은 점(.) 뒤에 나오는 모든 이름이다. 모듈 내 모든 이름의 참조는 속성 참조다. `모듈명.함수명`과 같은 표현식에서 **모듈명**은 모듈객체이고, **함수명**은 객체의 속성 중 하나다. 속성은 읽기 전용일 수도 있고 쓰기 가능할 수도 있다. 쓰기 가능한 속성은 `del`문으로 삭제할 수 있다."
   ]
  },
  {
   "cell_type": "markdown",
   "metadata": {},
   "source": [
    "###### 네임스페이스namespace"
   ]
  },
  {
   "cell_type": "markdown",
   "metadata": {},
   "source": [
    "**네임스페이스**namespace는 이름을 객체로 매핑mapping하는 것이다. 대부분 네임스페이스는 파이썬 딕셔너리로 구현되어 있다. 네임스페이스의 예로는 내장된 이름 셋, 모듈의 전역 이름, 함수의 지역 이름 등이 있다. 스크립트 파일이나 대화식 인터프리터의 회상위 호출에 의해 실행되는 명령문은 `__main__`이라는 모듈의 일부로 간주되어, 고유의 전역 네임스페이스를 갖는다. "
   ]
  },
  {
   "cell_type": "markdown",
   "metadata": {},
   "source": [
    "**스코프**"
   ]
  },
  {
   "cell_type": "markdown",
   "metadata": {},
   "source": [
    "**스코프**scope는 네임스페이스에 직접 접근할 수 있는 파이썬 프로그램의 텍스트 영역textual region 이다. \n",
    "스코프는 정적으로 결정 되지만, 동적으로 사용된다. 즉 스코프는 텍스트에 따라 결정된다. 즉 한 모듈에 정의된 함수의 전역 스코프는 해당 모듈의 네임스페이스다. 클래스 정의가 실행되면, 새로운 네임스페이스가 만들어지고, 지역 스코프로 사용된다. "
   ]
  },
  {
   "cell_type": "markdown",
   "metadata": {},
   "source": [
    "# 5.2 객체지향 프로그래밍"
   ]
  },
  {
   "cell_type": "markdown",
   "metadata": {},
   "source": [
    "## 5.2.1 특수화specialization"
   ]
  },
  {
   "cell_type": "markdown",
   "metadata": {},
   "source": [
    "**특수화**specialization는 슈퍼super 클래스(부모parent 또는 베이서base 클래스라고도 한다)의 모든 속성을 **상속**inheritance하여 새 클래스를 만드는 절차다. 모든 메서드는 서브sub클래스(자식child 클래스)에서 재정의override(재구현re-implemented) 될 수 있다.(파이썬에서 모든 메서드는 가상virtual이다.) 상속 `is-a`관계다. 사람 클래스와 이를 상속받는 학생 클래스가 있다고 하자. 이때 '모든 학생은 사람이다.'라는 명제가 성립하며 이것이 `is-a`관계다. 반대로 '도든 사람은 학새이다'는 성립하지 않는다.\n",
    "\n",
    "구글 파이썬 스타일 가이드에서는 한 클래스가 다른 클래스를 상속받지 않으면, 파이썬의 최상위 클래스인 object를 명시적으로 표기하는 것을 권장하낟. "
   ]
  },
  {
   "cell_type": "markdown",
   "metadata": {},
   "source": [
    "즉 좋은 예는 아래와 같다. "
   ]
  },
  {
   "cell_type": "code",
   "execution_count": 6,
   "metadata": {
    "ExecuteTime": {
     "end_time": "2021-10-11T04:20:32.776394Z",
     "start_time": "2021-10-11T04:20:32.764384Z"
    }
   },
   "outputs": [],
   "source": [
    "class SampleClass(object):\n",
    "    pass\n",
    "\n",
    "class OuterClass(object):\n",
    "    class InnerClass(object):\n",
    "        pass\n",
    "\n",
    "class ChildClass(SampleClass):\n",
    "    \"\"\"부모 클래스 상속\"\"\""
   ]
  },
  {
   "cell_type": "markdown",
   "metadata": {},
   "source": [
    "나쁜 예는 아래와 같다."
   ]
  },
  {
   "cell_type": "code",
   "execution_count": 7,
   "metadata": {
    "ExecuteTime": {
     "end_time": "2021-10-11T04:21:03.608208Z",
     "start_time": "2021-10-11T04:21:03.594676Z"
    }
   },
   "outputs": [],
   "source": [
    "class SampleClass:\n",
    "    pass\n",
    "\n",
    "class OuterClass:\n",
    "    class InnerClass:\n",
    "        pass"
   ]
  },
  {
   "cell_type": "markdown",
   "metadata": {},
   "source": [
    "## 5.2.2 다형성polymorphism"
   ]
  },
  {
   "cell_type": "markdown",
   "metadata": {},
   "source": [
    "**다형성**polymorphism(또는 동적 메서드 바인딩)은 메서드가 서브 클래스 내에서 재정의 될 수 있다는 원리다. 즉, 서브 클래스 객체에서 슈퍼 클래스와 동명의 메서드를 호출하면, 파이썬은 서브 클래스에 정의된 메서드를 사용한다는 뜻이다. 슈퍼 클래스의 메서드를 호출해야 한다면, 내장된 `super()` 메서드를 사용하여 쉽게 호출할 수 있다. "
   ]
  },
  {
   "cell_type": "markdown",
   "metadata": {},
   "source": [
    "예를 들어 파이썬에서 사용자 정의 클래스의 모든 객체는 기본적으로 **해시 가능**hashable하다. 객체가 해시 가능하다는 것은 `hash()`속성을 호출 할 수 있다는 뜻이며 불변 객체임을 의한다. "
   ]
  },
  {
   "cell_type": "markdown",
   "metadata": {},
   "source": [
    "다음 예제를 살펴보자. "
   ]
  },
  {
   "cell_type": "code",
   "execution_count": 8,
   "metadata": {
    "ExecuteTime": {
     "end_time": "2021-10-11T04:25:41.658420Z",
     "start_time": "2021-10-11T04:25:41.653414Z"
    }
   },
   "outputs": [],
   "source": [
    "class Symbol(object):\n",
    "    def __init__(self, value):\n",
    "        self.value = value"
   ]
  },
  {
   "cell_type": "code",
   "execution_count": 9,
   "metadata": {
    "ExecuteTime": {
     "end_time": "2021-10-11T04:26:08.847870Z",
     "start_time": "2021-10-11T04:26:08.833856Z"
    }
   },
   "outputs": [],
   "source": [
    "x = Symbol(\"py\")\n",
    "y = Symbol(\"py\")"
   ]
  },
  {
   "cell_type": "code",
   "execution_count": 10,
   "metadata": {
    "ExecuteTime": {
     "end_time": "2021-10-11T04:26:32.152930Z",
     "start_time": "2021-10-11T04:26:32.142921Z"
    }
   },
   "outputs": [
    {
     "data": {
      "text/plain": [
       "{<__main__.Symbol at 0x1d96ca0a250>, <__main__.Symbol at 0x1d96ca0ab80>}"
      ]
     },
     "execution_count": 10,
     "metadata": {},
     "output_type": "execute_result"
    }
   ],
   "source": [
    "symbols = set()\n",
    "symbols.add(x)\n",
    "symbols.add(y)\n",
    "symbols"
   ]
  },
  {
   "cell_type": "code",
   "execution_count": 11,
   "metadata": {
    "ExecuteTime": {
     "end_time": "2021-10-11T04:26:54.300246Z",
     "start_time": "2021-10-11T04:26:54.291237Z"
    }
   },
   "outputs": [
    {
     "name": "stdout",
     "output_type": "stream",
     "text": [
      "False\n",
      "False\n",
      "2\n"
     ]
    }
   ],
   "source": [
    "print(x is y)\n",
    "print(x == y)\n",
    "print(len(symbols))"
   ]
  },
  {
   "cell_type": "markdown",
   "metadata": {},
   "source": [
    "위의 예제를 살펴보면, 두 변수 x, y의 참조가 다르므로 첫번째 결과(x is y)는 예상대로 `False`가 나왔다. 그런데, x, y의 값이 같으니 두 번째 조건(x == y)은 `True`가 되어야 할 것 같지만 결과는 `False`다. 세 번째 결과 역시 셋은 중복 항목이 없으므로 길이가 1이 나와야 할 것 같지만 2가 나왔다. "
   ]
  },
  {
   "cell_type": "markdown",
   "metadata": {},
   "source": [
    "두 번째와 세 번째 결과를 고치기 위해 객체의 비교를 담당하는 `__eq__()`메서드를 재정의 해보자. "
   ]
  },
  {
   "cell_type": "code",
   "execution_count": 15,
   "metadata": {
    "ExecuteTime": {
     "end_time": "2021-10-11T04:32:32.478918Z",
     "start_time": "2021-10-11T04:32:32.454359Z"
    }
   },
   "outputs": [],
   "source": [
    "class Symbol(object):\n",
    "    def __init__(self, value):\n",
    "        self.value = value\n",
    "        \n",
    "    def __eq__(self, other):\n",
    "        if isinstance(self, other.__class__):\n",
    "            return self.value == other.value\n",
    "        else:\n",
    "            return NotImplemented"
   ]
  },
  {
   "cell_type": "code",
   "execution_count": 18,
   "metadata": {
    "ExecuteTime": {
     "end_time": "2021-10-11T04:33:02.829739Z",
     "start_time": "2021-10-11T04:33:02.821710Z"
    }
   },
   "outputs": [],
   "source": [
    "x = Symbol(\"py\")\n",
    "y = Symbol(\"py\")"
   ]
  },
  {
   "cell_type": "code",
   "execution_count": 22,
   "metadata": {
    "ExecuteTime": {
     "end_time": "2021-10-11T04:34:49.777311Z",
     "start_time": "2021-10-11T04:34:49.763299Z"
    }
   },
   "outputs": [
    {
     "name": "stdout",
     "output_type": "stream",
     "text": [
      "unhashable type: 'Symbol'\n"
     ]
    }
   ],
   "source": [
    "\n",
    "symbols = set()\n",
    "try:\n",
    "    symbols.add(x)\n",
    "    symbols.add(y)\n",
    "    symbols\n",
    "except TypeError as e:\n",
    "    print(e)\n",
    "    "
   ]
  },
  {
   "cell_type": "markdown",
   "metadata": {},
   "source": [
    "`__eq()__` 메서드를 재정의하자 Symbol 클래스가 해시 가능하지 않다고unhashable에러가 발생한다. 객체가 해시 가능하지 않다는 것은 가변 객체임을 의미하는데, 셋은 불변 객체다. 에러르 고치기 위해 `__hash__()` 메서드를 추가한다. "
   ]
  },
  {
   "cell_type": "code",
   "execution_count": 23,
   "metadata": {
    "ExecuteTime": {
     "end_time": "2021-10-11T04:39:19.662130Z",
     "start_time": "2021-10-11T04:39:19.654616Z"
    }
   },
   "outputs": [],
   "source": [
    "class Symbol(object):\n",
    "    def __init__(self, value):\n",
    "        self.value = value\n",
    "        \n",
    "    def __eq__(self, other):\n",
    "        if isinstance(self, other.__class__):\n",
    "            return self.value == other.value\n",
    "        else:\n",
    "            return NotImplemented\n",
    "    def __hash__(self):\n",
    "        return hash(self.value)"
   ]
  },
  {
   "cell_type": "code",
   "execution_count": 24,
   "metadata": {
    "ExecuteTime": {
     "end_time": "2021-10-11T04:39:37.738337Z",
     "start_time": "2021-10-11T04:39:37.727326Z"
    }
   },
   "outputs": [],
   "source": [
    "x = Symbol(\"py\")\n",
    "y = Symbol(\"py\")"
   ]
  },
  {
   "cell_type": "code",
   "execution_count": 25,
   "metadata": {
    "ExecuteTime": {
     "end_time": "2021-10-11T04:39:38.068391Z",
     "start_time": "2021-10-11T04:39:38.063386Z"
    }
   },
   "outputs": [
    {
     "data": {
      "text/plain": [
       "{<__main__.Symbol at 0x1d96cf31c70>}"
      ]
     },
     "execution_count": 25,
     "metadata": {},
     "output_type": "execute_result"
    }
   ],
   "source": [
    "symbols = set()\n",
    "symbols.add(x)\n",
    "symbols.add(y)\n",
    "symbols"
   ]
  },
  {
   "cell_type": "code",
   "execution_count": 26,
   "metadata": {
    "ExecuteTime": {
     "end_time": "2021-10-11T04:39:38.563372Z",
     "start_time": "2021-10-11T04:39:38.545357Z"
    }
   },
   "outputs": [
    {
     "name": "stdout",
     "output_type": "stream",
     "text": [
      "False\n",
      "True\n",
      "1\n"
     ]
    }
   ],
   "source": [
    "print(x is y)\n",
    "print(x == y)\n",
    "print(len(symbols))"
   ]
  },
  {
   "cell_type": "markdown",
   "metadata": {},
   "source": [
    "이 제 예상대로 결과가 나오는 것을 확인 할 수 있다. "
   ]
  },
  {
   "cell_type": "markdown",
   "metadata": {},
   "source": [
    "## 5.2.3 합성과 집합화"
   ]
  },
  {
   "cell_type": "markdown",
   "metadata": {},
   "source": [
    "**합성**composition(그리고 집합화aggregation)은 한 클래스에서 다른 클래스의 인스턴스 변수를 포함하는 것을 말하며, 클래스 간의 관계를 나타낸다. 파이썬의 모든 클래스는 상속을 사용한다.(object 베이스 클래스로부터 상속받는다.) 대부분 클래스는 다양한 타입의 인스턴스 변수를 가지며, 합성과 집합화를 사용한다."
   ]
  },
  {
   "cell_type": "markdown",
   "metadata": {},
   "source": [
    "두 클래스 `A`,`B`가 있다고 가정한다. 합성은 `A`와`B`가 강한 연관 관계를 맺으며,  강한 생명주기strong lifecycle를 갖는다. 즉, 의존성이 강하다. 예를 들어 집 클래스는 방 클래스를 갖는다. 집이 있으면 방(공간)이 있다. "
   ]
  },
  {
   "cell_type": "markdown",
   "metadata": {},
   "source": [
    "집합화는 `A`와`B`가 연관 관계가 있지만, 생명주기가 약하며 독립적이다. 예를 들어 학생 클래스는 미술, 음악 등의 과목 클래스를 갖는다. 한 학생은 미술, 음악 두 과목을 수강할 수도 있고, 그중 한 과목 또는 두 과목 모두 수강하지 않을 수 있다. "
   ]
  },
  {
   "cell_type": "markdown",
   "metadata": {},
   "source": [
    "## 5.2.4 클래스 예제"
   ]
  },
  {
   "cell_type": "markdown",
   "metadata": {},
   "source": []
  },
  {
   "cell_type": "code",
   "execution_count": null,
   "metadata": {},
   "outputs": [],
   "source": []
  },
  {
   "cell_type": "code",
   "execution_count": null,
   "metadata": {},
   "outputs": [],
   "source": []
  },
  {
   "cell_type": "markdown",
   "metadata": {},
   "source": [
    "# 5.3 디자인 패턴"
   ]
  },
  {
   "cell_type": "code",
   "execution_count": null,
   "metadata": {},
   "outputs": [],
   "source": []
  },
  {
   "cell_type": "code",
   "execution_count": null,
   "metadata": {},
   "outputs": [],
   "source": []
  },
  {
   "cell_type": "markdown",
   "metadata": {},
   "source": [
    "## 5.3.1 데커레이터 패턴"
   ]
  },
  {
   "cell_type": "code",
   "execution_count": null,
   "metadata": {},
   "outputs": [],
   "source": []
  },
  {
   "cell_type": "code",
   "execution_count": null,
   "metadata": {},
   "outputs": [],
   "source": []
  },
  {
   "cell_type": "markdown",
   "metadata": {},
   "source": [
    "## 5.3.2 옵서버 패턴"
   ]
  },
  {
   "cell_type": "code",
   "execution_count": null,
   "metadata": {},
   "outputs": [],
   "source": []
  },
  {
   "cell_type": "code",
   "execution_count": null,
   "metadata": {},
   "outputs": [],
   "source": []
  },
  {
   "cell_type": "markdown",
   "metadata": {},
   "source": [
    "## 5.3.3 싱글턴 패턴"
   ]
  },
  {
   "cell_type": "code",
   "execution_count": null,
   "metadata": {},
   "outputs": [],
   "source": []
  },
  {
   "cell_type": "markdown",
   "metadata": {},
   "source": [
    "**Reference**\n",
    "\n",
    "* <a href='https://github.com/SeWonKwon' ><div> <img src ='https://slid-capture.s3.ap-northeast-2.amazonaws.com/public/image_upload/6556674324ed41a289a354258718280d/964e5a8b-75ad-41fc-ae75-0ca66d06fbc7.png' align='left' /> </div></a>\n",
    "\n",
    "<br>\n",
    "\n",
    "* [파이썬 자료구조와 알고리즘, 미아 스타인](https://github.com/AstinCHOI/Python-and-Algorithms-and-Data-Structures)"
   ]
  }
 ],
 "metadata": {
  "kernelspec": {
   "display_name": "Python 3 (ipykernel)",
   "language": "python",
   "name": "python3"
  },
  "language_info": {
   "codemirror_mode": {
    "name": "ipython",
    "version": 3
   },
   "file_extension": ".py",
   "mimetype": "text/x-python",
   "name": "python",
   "nbconvert_exporter": "python",
   "pygments_lexer": "ipython3",
   "version": "3.8.11"
  },
  "toc": {
   "base_numbering": 1,
   "nav_menu": {},
   "number_sections": true,
   "sideBar": true,
   "skip_h1_title": false,
   "title_cell": "Table of Contents",
   "title_sidebar": "Contents",
   "toc_cell": false,
   "toc_position": {
    "height": "calc(100% - 180px)",
    "left": "10px",
    "top": "150px",
    "width": "179.109px"
   },
   "toc_section_display": true,
   "toc_window_display": true
  }
 },
 "nbformat": 4,
 "nbformat_minor": 4
}
