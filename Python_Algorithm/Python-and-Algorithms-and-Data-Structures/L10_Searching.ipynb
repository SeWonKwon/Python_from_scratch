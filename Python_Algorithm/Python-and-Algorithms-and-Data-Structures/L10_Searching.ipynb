{
 "cells": [
  {
   "cell_type": "markdown",
   "id": "d6a76815",
   "metadata": {},
   "source": [
    "<a href='https://github.com/SeWonKwon' ><div> <img src ='https://slid-capture.s3.ap-northeast-2.amazonaws.com/public/image_upload/6556674324ed41a289a354258718280d/964e5a8b-75ad-41fc-ae75-0ca66d06fbc7.png' align='left' /> </div></a>\n"
   ]
  },
  {
   "cell_type": "markdown",
   "id": "27ce0020",
   "metadata": {},
   "source": [
    "###### Ch. 10 검색(Searching)"
   ]
  },
  {
   "cell_type": "markdown",
   "id": "0114f5ff",
   "metadata": {},
   "source": [
    "**검색**<sub>searching</sub>"
   ]
  },
  {
   "cell_type": "markdown",
   "id": "1bb53cce",
   "metadata": {},
   "source": [
    "* 대표 검색 알고리즘\n",
    "    * **순차 검색**<sub>sequential search</sub> : 배열이 정렬되어 있지 않거나, 연결 리스트와 같이 입력이 동적으로 할당되는 경우 흔히 사용한다.    \n",
    "      \n",
    "    * **이진 검색**<sub>binary search</sub> : 배열이 정렬되어 있는 경우 최선의 선택이다. \n",
    "    * 해시 테이블 : 보조 메모리 공간을 사용하지만, 키를 이용하면 $O(1)$에 원하는 값을 검색할 수 있다. "
   ]
  },
  {
   "cell_type": "markdown",
   "id": "e1417676",
   "metadata": {},
   "source": [
    "# 10.1 정렬되지 않은 배열"
   ]
  },
  {
   "cell_type": "markdown",
   "id": "c70d9c95",
   "metadata": {},
   "source": [
    "## 순차 검색<sub>sequential search</sub>\n",
    "\n",
    "* Linear search 이라고 불리기도 한다. "
   ]
  },
  {
   "cell_type": "markdown",
   "id": "5817791e",
   "metadata": {},
   "source": [
    "|Case|complexity|\n",
    "|:-:|:-|\n",
    "|Worst-case|$O(n)$|\n",
    "|Best-case|$O(1)$|\n",
    "|Average|$O(\\frac {n} {2})$|\n",
    "|if not in list,<br>Worst,Best,Average|all $O(n)$|\n",
    "|Worst-case <br>space complexity|$O(1)$<br>iterative|\n"
   ]
  },
  {
   "cell_type": "markdown",
   "id": "e8dd7bb3",
   "metadata": {},
   "source": [
    "정렬되어 있지 않은 경우"
   ]
  },
  {
   "cell_type": "code",
   "execution_count": 1,
   "id": "6dd3a52f",
   "metadata": {
    "ExecuteTime": {
     "end_time": "2021-08-03T12:02:04.326375Z",
     "start_time": "2021-08-03T12:02:04.322372Z"
    }
   },
   "outputs": [],
   "source": [
    "def sequential_search(seq, n):\n",
    "    for item in seq:\n",
    "        if item == n:\n",
    "            return True\n",
    "        \n",
    "    return False"
   ]
  },
  {
   "cell_type": "code",
   "execution_count": 2,
   "id": "bb109f3b",
   "metadata": {
    "ExecuteTime": {
     "end_time": "2021-08-03T12:02:04.341389Z",
     "start_time": "2021-08-03T12:02:04.326375Z"
    }
   },
   "outputs": [
    {
     "data": {
      "text/plain": [
       "True"
      ]
     },
     "execution_count": 2,
     "metadata": {},
     "output_type": "execute_result"
    }
   ],
   "source": [
    "seq = [1, 5, 6, 8, 3]\n",
    "sequential_search(seq, 5)"
   ]
  },
  {
   "cell_type": "code",
   "execution_count": 3,
   "id": "d21a81cd",
   "metadata": {
    "ExecuteTime": {
     "end_time": "2021-08-03T12:02:04.356402Z",
     "start_time": "2021-08-03T12:02:04.342388Z"
    }
   },
   "outputs": [
    {
     "data": {
      "text/plain": [
       "False"
      ]
     },
     "execution_count": 3,
     "metadata": {},
     "output_type": "execute_result"
    }
   ],
   "source": [
    "sequential_search(seq, 7)"
   ]
  },
  {
   "cell_type": "markdown",
   "id": "dbce194d",
   "metadata": {},
   "source": [
    "정렬되어 있는 경우"
   ]
  },
  {
   "cell_type": "code",
   "execution_count": 4,
   "id": "ab579dc4",
   "metadata": {
    "ExecuteTime": {
     "end_time": "2021-08-03T12:02:04.371416Z",
     "start_time": "2021-08-03T12:02:04.357404Z"
    }
   },
   "outputs": [],
   "source": [
    "def ordered_sequential_search(seq, n):\n",
    "    item = 0\n",
    "    for item in seq:\n",
    "        if item > n:\n",
    "            return False\n",
    "        if item == n:\n",
    "            return True\n",
    "        \n",
    "    return False"
   ]
  },
  {
   "cell_type": "code",
   "execution_count": 5,
   "id": "3ce94d6c",
   "metadata": {
    "ExecuteTime": {
     "end_time": "2021-08-03T12:02:04.386158Z",
     "start_time": "2021-08-03T12:02:04.372416Z"
    },
    "scrolled": false
   },
   "outputs": [
    {
     "data": {
      "text/plain": [
       "True"
      ]
     },
     "execution_count": 5,
     "metadata": {},
     "output_type": "execute_result"
    }
   ],
   "source": [
    "seq = [1, 5, 6, 8, 3]\n",
    "ordered_sequential_search(seq, 5)"
   ]
  },
  {
   "cell_type": "code",
   "execution_count": 6,
   "id": "db24ea81",
   "metadata": {
    "ExecuteTime": {
     "end_time": "2021-08-03T12:02:04.401314Z",
     "start_time": "2021-08-03T12:02:04.387159Z"
    }
   },
   "outputs": [
    {
     "data": {
      "text/plain": [
       "False"
      ]
     },
     "execution_count": 6,
     "metadata": {},
     "output_type": "execute_result"
    }
   ],
   "source": [
    "ordered_sequential_search(seq, 7)"
   ]
  },
  {
   "cell_type": "markdown",
   "id": "c730bcbb",
   "metadata": {},
   "source": [
    "## 빠른 선택과 순서통계량"
   ]
  },
  {
   "cell_type": "markdown",
   "id": "01eec5a1",
   "metadata": {},
   "source": [
    "* 순서통계량<sub>order statistic</sub>이란?\n",
    "> 최솟값, 최댓값, 중앙값, k번째 큰수\n",
    "\n",
    "* 시간 복잡도:\n",
    "\n",
    "$$O(n) = O(n) + O(\\frac {n} {2}) + O(\\frac {n} {4}) + \\cdots $$\n",
    "\n",
    "각 반복에서 하나만 보면 되기 때문에 worst 는 $O(n)$이다."
   ]
  },
  {
   "cell_type": "code",
   "execution_count": 7,
   "id": "50e9aeeb",
   "metadata": {
    "ExecuteTime": {
     "end_time": "2021-08-03T12:02:04.416180Z",
     "start_time": "2021-08-03T12:02:04.402318Z"
    }
   },
   "outputs": [],
   "source": [
    "import random\n",
    "def quick_select_cache(seq, k):\n",
    "    len_seq = len(seq)\n",
    "    if len_seq < 2:\n",
    "        return seq[0]\n",
    "    \n",
    "    # 피벗을 무작위로 선택\n",
    "    # pivot = random.choice(seq)\n",
    "    \n",
    "    # 피벗을 가운데위치한 값으로 선택\n",
    "    ipivot = len_seq // 2\n",
    "    pivot = seq[ipivot]\n",
    "    \n",
    "    smallerList = [x for i, x in enumerate(seq) if x <= pivot and i != ipivot]\n",
    "    largerList  = [x for i, x in enumerate(seq) if x > pivot and i != ipivot]\n",
    "    \n",
    "    m = len(smallerList)\n",
    "    if k == m :\n",
    "        return pivot\n",
    "    elif k < m:\n",
    "        return quick_select_cache(smallerList, k)\n",
    "    \n",
    "    else: \n",
    "        return quick_select_cache(largerList, k-m-1)\n",
    "    \n",
    "def swap(seq, x, y):\n",
    "    seq[x], seq[y] = seq[y], seq[x]\n",
    "    \n",
    "def quick_select(seq, k, left=None, right=None):\n",
    "    left = left or 0\n",
    "    right = right or len(seq) - 1\n",
    "    ipivot = random.randint(left, right)\n",
    "    pivot = seq[ipivot]\n",
    "    \n",
    "    # 피벗을 정렬 범위 밖으로 이동한다. \n",
    "    swap(seq, ipivot, right)\n",
    "    swapIndex, i = left, left\n",
    "    while i < right:\n",
    "        if pivot < seq[i]:\n",
    "            swap(seq, i, swapIndex)\n",
    "            swapIndex += 1\n",
    "        i += 1\n",
    "        \n",
    "    # 피벗 위치를 확정한다. \n",
    "    swap(seq, right, swapIndex)\n",
    "    \n",
    "    # 피벗 위치를 확인한다. \n",
    "    \n",
    "    rank = len(seq) - swapIndex\n",
    "    if k == rank:\n",
    "        return seq[swapIndex]\n",
    "    elif k < rank:\n",
    "        return quick_select(seq, k, swapIndex+1, right)\n",
    "    else:\n",
    "        return quick_select(seq, k, left, swapIndex-1)\n",
    "    \n",
    "    "
   ]
  },
  {
   "cell_type": "code",
   "execution_count": 8,
   "id": "45d251d8",
   "metadata": {
    "ExecuteTime": {
     "end_time": "2021-08-03T12:02:06.446160Z",
     "start_time": "2021-08-03T12:02:04.418182Z"
    }
   },
   "outputs": [
    {
     "name": "stdout",
     "output_type": "stream",
     "text": [
      "[1, 2, 3, 4, 5, 6, 7, 9, 10, 11]\n",
      "5\n",
      "5\n",
      "5.5\n"
     ]
    }
   ],
   "source": [
    "seq = [3, 7, 2, 1, 4, 6, 5, 10, 9, 11]\n",
    "k = len(seq) // 2\n",
    "print(sorted(seq))\n",
    "print(quick_select_cache(seq, k-1))\n",
    "\n",
    "# 아래 함수는 원본을 수정하므로 깊은 복사 실행\n",
    "import copy\n",
    "seq_copy = copy.deepcopy(seq)\n",
    "print(quick_select(seq_copy, k))\n",
    "\n",
    "# 중앙값(median) 출력을 위해서 넘파이를 사용함\n",
    "import numpy\n",
    "print(numpy.median(seq))"
   ]
  },
  {
   "cell_type": "markdown",
   "id": "10ef98f7",
   "metadata": {},
   "source": [
    "일반적으로, 배열의 중앙에 있는 값보다 '큰' 값으로 중앙값을 정의 할 수 있다. 이러한 정의는 가장 가까운 이웃<sub>nearest neighbor</sub> 또는 최단 경로<sub>shortest path</sub> 을 찾는 등의 문제를 풀 때 중요하다. "
   ]
  },
  {
   "cell_type": "markdown",
   "id": "ba022b48",
   "metadata": {},
   "source": [
    "# 10.2 정렬된 배열"
   ]
  },
  {
   "cell_type": "markdown",
   "id": "5168efb8",
   "metadata": {},
   "source": [
    "## 이진 검색<sub>binary search</sub>\n",
    "\n",
    "이진 검색은 정렬된 배열 내에서 지정된 입력값의 위치(키)를 찾는다.  이진 검색은 알고리즘의 각 단계에서 입력값과 배열 중간 요소를 비교한다. 입력값과 중간요소가 일치한다면, 배열의 위치가 반환된다. 입력값이 중간 요소보다 작으면, 중간 요소의 왼쪽 하위 배열에서 검색 과정을 반복한다. 입력값이 중간 요소보다 큰 경우 중간 요소의 오른쪽 하위 배열에서 검색 과정을 반복한다. 이진 검색의 시간 복잡도는 $O(\\log n)$이다."
   ]
  },
  {
   "cell_type": "markdown",
   "id": "538be38e",
   "metadata": {},
   "source": [
    "<img src='https://upload.wikimedia.org/wikipedia/commons/thumb/8/83/Binary_Search_Depiction.svg/330px-Binary_Search_Depiction.svg.png' width='500'/>\n",
    "\n",
    "7을 찾아 가는 과정<br>\n",
    "\n",
    "출처 : https://en.wikipedia.org/wiki/Binary_search_algorithm"
   ]
  },
  {
   "cell_type": "markdown",
   "id": "844baa56",
   "metadata": {},
   "source": [
    "|Case|complexity|\n",
    "|:-:|:-|\n",
    "|Worst-case|$O(\\log n)$|\n",
    "|Best-case|$O(1)$|\n",
    "|Average|$O(\\log {n})$|\n",
    "|Worst-case <br>space complexity|$O(1)$|\n"
   ]
  },
  {
   "cell_type": "markdown",
   "id": "7f616236",
   "metadata": {},
   "source": [
    "구현"
   ]
  },
  {
   "cell_type": "code",
   "execution_count": 9,
   "id": "39d282e8",
   "metadata": {
    "ExecuteTime": {
     "end_time": "2021-08-03T12:02:06.461174Z",
     "start_time": "2021-08-03T12:02:06.447161Z"
    }
   },
   "outputs": [],
   "source": [
    "#재귀 함수\n",
    "\n",
    "def binary_search_rec(seq, target, low, high):\n",
    "    if low > high:\n",
    "        return None\n",
    "    \n",
    "    mid = (low + high) // 2\n",
    "    if target == seq[mid]:\n",
    "        return mid\n",
    "    \n",
    "    elif target < seq[mid]:\n",
    "        return binary_search_rec(seq, target, low, mid-1)\n",
    "    \n",
    "    else: \n",
    "        return binary_search_rec(seq, target, mid+1, high)   "
   ]
  },
  {
   "cell_type": "code",
   "execution_count": 10,
   "id": "2c9662b3",
   "metadata": {
    "ExecuteTime": {
     "end_time": "2021-08-03T12:02:06.475901Z",
     "start_time": "2021-08-03T12:02:06.462175Z"
    }
   },
   "outputs": [],
   "source": [
    "# 반복문\n",
    "def binary_search_iter(seq, target):\n",
    "    high, low = len(seq), 0\n",
    "    while low < high:\n",
    "        mid = (high + low) // 2\n",
    "        if target == seq[mid]:\n",
    "            return mid\n",
    "        \n",
    "        elif target < seq[mid]:\n",
    "            high = mid\n",
    "        \n",
    "        else: \n",
    "            low = mid + 1\n",
    "            \n",
    "    return None"
   ]
  },
  {
   "cell_type": "code",
   "execution_count": 11,
   "id": "523921a7",
   "metadata": {
    "ExecuteTime": {
     "end_time": "2021-08-03T12:02:06.490915Z",
     "start_time": "2021-08-03T12:02:06.476904Z"
    }
   },
   "outputs": [
    {
     "data": {
      "text/plain": [
       "3"
      ]
     },
     "execution_count": 11,
     "metadata": {},
     "output_type": "execute_result"
    }
   ],
   "source": [
    "# 정렬되어있는 곳에서만 사용 가능하다. \n",
    "seq = [1, 2, 5, 6, 7, 10, 12, 12, 14, 15]\n",
    "target = 6\n",
    "\n",
    "binary_search_rec(seq, target, 0, len(seq))"
   ]
  },
  {
   "cell_type": "code",
   "execution_count": 12,
   "id": "47811632",
   "metadata": {
    "ExecuteTime": {
     "end_time": "2021-08-03T12:02:06.505929Z",
     "start_time": "2021-08-03T12:02:06.491916Z"
    }
   },
   "outputs": [
    {
     "data": {
      "text/plain": [
       "3"
      ]
     },
     "execution_count": 12,
     "metadata": {},
     "output_type": "execute_result"
    }
   ],
   "source": [
    "binary_search_iter(seq, target)"
   ]
  },
  {
   "cell_type": "markdown",
   "id": "858f8401",
   "metadata": {},
   "source": [
    "## bisect 모듈\n",
    "\n",
    "* 파이썬의 내장 `bisect` 모듈로 이진 검색을 할수 있다.\n"
   ]
  },
  {
   "cell_type": "code",
   "execution_count": 13,
   "id": "4a3e47cf",
   "metadata": {
    "ExecuteTime": {
     "end_time": "2021-08-03T12:02:06.520942Z",
     "start_time": "2021-08-03T12:02:06.506930Z"
    }
   },
   "outputs": [
    {
     "data": {
      "text/plain": [
       "4"
      ]
     },
     "execution_count": 13,
     "metadata": {},
     "output_type": "execute_result"
    }
   ],
   "source": [
    "from bisect import bisect\n",
    "l = [0, 3, 4, 5]\n",
    "bisect(l, 5)"
   ]
  },
  {
   "cell_type": "code",
   "execution_count": 14,
   "id": "1071e4a7",
   "metadata": {
    "ExecuteTime": {
     "end_time": "2021-08-03T12:02:06.535956Z",
     "start_time": "2021-08-03T12:02:06.521943Z"
    }
   },
   "outputs": [
    {
     "data": {
      "text/plain": [
       "1"
      ]
     },
     "execution_count": 14,
     "metadata": {},
     "output_type": "execute_result"
    }
   ],
   "source": [
    "bisect(l, 1)"
   ]
  },
  {
   "cell_type": "code",
   "execution_count": 15,
   "id": "48a5b88c",
   "metadata": {
    "ExecuteTime": {
     "end_time": "2021-08-03T12:02:06.550970Z",
     "start_time": "2021-08-03T12:02:06.536957Z"
    }
   },
   "outputs": [
    {
     "data": {
      "text/plain": [
       "0"
      ]
     },
     "execution_count": 15,
     "metadata": {},
     "output_type": "execute_result"
    }
   ],
   "source": [
    "bisect(l, -1)"
   ]
  },
  {
   "cell_type": "code",
   "execution_count": 16,
   "id": "9e890ab3",
   "metadata": {
    "ExecuteTime": {
     "end_time": "2021-08-03T12:02:06.565984Z",
     "start_time": "2021-08-03T12:02:06.551971Z"
    }
   },
   "outputs": [
    {
     "data": {
      "text/plain": [
       "0"
      ]
     },
     "execution_count": 16,
     "metadata": {},
     "output_type": "execute_result"
    }
   ],
   "source": [
    "bisect([],1)"
   ]
  },
  {
   "cell_type": "markdown",
   "id": "31bfc545",
   "metadata": {},
   "source": [
    "# 연습문제"
   ]
  },
  {
   "cell_type": "markdown",
   "id": "01722e99",
   "metadata": {},
   "source": [
    "## 행렬 검색\n",
    "* 각 행과 열이 정렬되어 있는 행렬에서 한 항목을 검색한다고 해보자. 즉, 모든 행은 왼쪽에서 오른쪽으로, 모든 열은 위에서 아래로 정렬(오름차순)되어 있다. 다음 코드의 시간 복잡도는 선형으로 $O(m+n)$ 이다."
   ]
  },
  {
   "cell_type": "code",
   "execution_count": 17,
   "id": "a781fbc5",
   "metadata": {
    "ExecuteTime": {
     "end_time": "2021-08-03T12:02:06.581015Z",
     "start_time": "2021-08-03T12:02:06.566985Z"
    }
   },
   "outputs": [],
   "source": [
    "def find_elem_matrix_bool(m1, value):\n",
    "    found = False\n",
    "    row = 0 \n",
    "    col = len(m1[0]) - 1\n",
    "    while row < len(m1) and col >= 0:\n",
    "        if m1[row][col] == value:\n",
    "            found = True\n",
    "            break\n",
    "        elif m1[row][col] > value:\n",
    "            col -= 1\n",
    "            \n",
    "        else:\n",
    "            row += 1\n",
    "            \n",
    "    return found"
   ]
  },
  {
   "cell_type": "code",
   "execution_count": 18,
   "id": "244ab7b9",
   "metadata": {
    "ExecuteTime": {
     "end_time": "2021-08-03T12:02:06.596040Z",
     "start_time": "2021-08-03T12:02:06.582017Z"
    }
   },
   "outputs": [
    {
     "data": {
      "text/plain": [
       "True"
      ]
     },
     "execution_count": 18,
     "metadata": {},
     "output_type": "execute_result"
    }
   ],
   "source": [
    "m1 = [[1, 2, 8, 9], [2, 4, 8, 12], [4, 7, 10, 13], [6, 8, 11, 15]]\n",
    "\n",
    "find_elem_matrix_bool(m1, 8)"
   ]
  },
  {
   "cell_type": "code",
   "execution_count": 19,
   "id": "37331839",
   "metadata": {
    "ExecuteTime": {
     "end_time": "2021-08-03T12:02:06.611055Z",
     "start_time": "2021-08-03T12:02:06.596040Z"
    }
   },
   "outputs": [
    {
     "data": {
      "text/plain": [
       "False"
      ]
     },
     "execution_count": 19,
     "metadata": {},
     "output_type": "execute_result"
    }
   ],
   "source": [
    "find_elem_matrix_bool(m1, 3)"
   ]
  },
  {
   "cell_type": "code",
   "execution_count": 20,
   "id": "bcb12840",
   "metadata": {
    "ExecuteTime": {
     "end_time": "2021-08-03T12:02:06.626068Z",
     "start_time": "2021-08-03T12:02:06.612054Z"
    }
   },
   "outputs": [
    {
     "data": {
      "text/plain": [
       "False"
      ]
     },
     "execution_count": 20,
     "metadata": {},
     "output_type": "execute_result"
    }
   ],
   "source": [
    "find_elem_matrix_bool(m1, 0)"
   ]
  },
  {
   "cell_type": "markdown",
   "id": "174eb1e9",
   "metadata": {},
   "source": [
    "* 모든 행이 오름 차순으로 정렬되어 있는 배열.\n",
    "\n",
    "* 이 행렬에서 어떤 숫자를 무차별(브루트 포스)로 검색한다면 시간복잡도는 $O(mn)$ 이다.\n",
    "\n",
    "* 하지만 이 행렬은 모든 행이 정렬되어 있기 때문에 1차원 배열로 볼수도 있다. 즉 $O(log mn)$의 이진 검색 알고리즘을 사용할수 있다. "
   ]
  },
  {
   "cell_type": "code",
   "execution_count": 21,
   "id": "7a2178e1",
   "metadata": {
    "ExecuteTime": {
     "end_time": "2021-08-03T12:02:06.641083Z",
     "start_time": "2021-08-03T12:02:06.627069Z"
    }
   },
   "outputs": [],
   "source": [
    "def searching_in_a_matrix(m1, value):\n",
    "    rows = len(m1)\n",
    "    cols = len(m1[0])\n",
    "    lo = 0 \n",
    "    hi = rows*cols\n",
    "    \n",
    "    while lo<hi:\n",
    "        mid = (lo + hi) // 2\n",
    "        row = mid // cols\n",
    "        col = mid % cols\n",
    "        v = m1[row][col]\n",
    "        if v == value:\n",
    "            return True\n",
    "        \n",
    "        elif v > value:\n",
    "            hi = mid\n",
    "        else:\n",
    "            lo = mid+1\n",
    "    return False"
   ]
  },
  {
   "cell_type": "code",
   "execution_count": 22,
   "id": "43914df3",
   "metadata": {
    "ExecuteTime": {
     "end_time": "2021-08-03T12:02:06.656474Z",
     "start_time": "2021-08-03T12:02:06.642083Z"
    }
   },
   "outputs": [
    {
     "data": {
      "text/plain": [
       "array([[ 1,  2,  3,  4],\n",
       "       [ 5,  6,  7,  8],\n",
       "       [ 9, 10, 11, 12],\n",
       "       [13, 14, 15, 16]])"
      ]
     },
     "execution_count": 22,
     "metadata": {},
     "output_type": "execute_result"
    }
   ],
   "source": [
    "a = [[1, 3, 5], [7, 9, 11], [13, 15, 17]]\n",
    "import numpy as np\n",
    "b = np.arange(1, 17).reshape(4, -1)\n",
    "b"
   ]
  },
  {
   "cell_type": "code",
   "execution_count": 23,
   "id": "99fa96e2",
   "metadata": {
    "ExecuteTime": {
     "end_time": "2021-08-03T12:02:06.671488Z",
     "start_time": "2021-08-03T12:02:06.657474Z"
    }
   },
   "outputs": [
    {
     "data": {
      "text/plain": [
       "True"
      ]
     },
     "execution_count": 23,
     "metadata": {},
     "output_type": "execute_result"
    }
   ],
   "source": [
    "searching_in_a_matrix(a, 13)"
   ]
  },
  {
   "cell_type": "code",
   "execution_count": 24,
   "id": "ef545ed4",
   "metadata": {
    "ExecuteTime": {
     "end_time": "2021-08-03T12:02:06.686501Z",
     "start_time": "2021-08-03T12:02:06.672488Z"
    }
   },
   "outputs": [
    {
     "data": {
      "text/plain": [
       "True"
      ]
     },
     "execution_count": 24,
     "metadata": {},
     "output_type": "execute_result"
    }
   ],
   "source": [
    "searching_in_a_matrix(b, 13)"
   ]
  },
  {
   "cell_type": "code",
   "execution_count": 25,
   "id": "db558e40",
   "metadata": {
    "ExecuteTime": {
     "end_time": "2021-08-03T12:02:06.701525Z",
     "start_time": "2021-08-03T12:02:06.687503Z"
    }
   },
   "outputs": [
    {
     "data": {
      "text/plain": [
       "False"
      ]
     },
     "execution_count": 25,
     "metadata": {},
     "output_type": "execute_result"
    }
   ],
   "source": [
    "searching_in_a_matrix(a, 18)"
   ]
  },
  {
   "cell_type": "code",
   "execution_count": 26,
   "id": "9b7b4869",
   "metadata": {
    "ExecuteTime": {
     "end_time": "2021-08-03T12:02:06.716548Z",
     "start_time": "2021-08-03T12:02:06.702527Z"
    }
   },
   "outputs": [
    {
     "data": {
      "text/plain": [
       "False"
      ]
     },
     "execution_count": 26,
     "metadata": {},
     "output_type": "execute_result"
    }
   ],
   "source": [
    "searching_in_a_matrix(b, 18)"
   ]
  },
  {
   "cell_type": "markdown",
   "id": "59d7d8bf",
   "metadata": {},
   "source": [
    "## 단봉형 배열"
   ]
  },
  {
   "cell_type": "markdown",
   "id": "0d92fdb1",
   "metadata": {},
   "source": [
    "* 배열 요소들의 산포도를 그렸을 때 값이 증가 했다가 다시 감소하는 곡선인 경우: \n",
    "* **단봉형**<sub>unimodal</sub>\n",
    "<img src='https://upload.wikimedia.org/wikipedia/commons/thumb/f/fb/Normal_distribution_pdf.svg/330px-Normal_distribution_pdf.svg.png' width='300' />\n",
    "\n",
    "* 참조:**양봉형**<sub>bimodal</sub>  \n",
    "<img src='https://upload.wikimedia.org/wikipedia/commons/thumb/e/e2/Bimodal.png/330px-Bimodal.png' width='300' />\n",
    "이진 검색을 사용하여 최댓 값을 찾아 보자"
   ]
  },
  {
   "cell_type": "code",
   "execution_count": 28,
   "id": "a5026e86",
   "metadata": {
    "ExecuteTime": {
     "end_time": "2021-08-03T12:09:54.736424Z",
     "start_time": "2021-08-03T12:09:54.725414Z"
    }
   },
   "outputs": [],
   "source": [
    "def find_max_unimodal_array(A):\n",
    "    if len(A) <=2:\n",
    "        return None\n",
    "    \n",
    "    left = 0 \n",
    "    right = len(A)-1\n",
    "    while right > left + 1:\n",
    "        mid = (left + right) // 2\n",
    "        if A[mid] > A[mid-1] and A[mid] > A[mid+1]:\n",
    "            return A[mid]\n",
    "        \n",
    "        elif A[mid] > A[mid-1] and A[mid] < A[mid+1]:\n",
    "            left = mid\n",
    "            \n",
    "        else:\n",
    "            right = mid\n",
    "            \n",
    "    \n",
    "    return None\n",
    "    "
   ]
  },
  {
   "cell_type": "code",
   "execution_count": 31,
   "id": "4e171e4d",
   "metadata": {
    "ExecuteTime": {
     "end_time": "2021-08-03T12:10:37.521116Z",
     "start_time": "2021-08-03T12:10:37.510106Z"
    }
   },
   "outputs": [
    {
     "data": {
      "text/plain": [
       "True"
      ]
     },
     "execution_count": 31,
     "metadata": {},
     "output_type": "execute_result"
    }
   ],
   "source": [
    "seq = [1, 2, 5, 6, 7, 10, 12, 9, 8, 7, 6]\n",
    "find_max_unimodal_array(seq)==max(seq)"
   ]
  },
  {
   "cell_type": "markdown",
   "id": "8664688c",
   "metadata": {},
   "source": [
    "## 제곱근 계산하기\n",
    "\n",
    "이진 검색을 사용하여 제곱근을 구할 수도 있다. "
   ]
  },
  {
   "cell_type": "code",
   "execution_count": 48,
   "id": "f5a0c54b",
   "metadata": {
    "ExecuteTime": {
     "end_time": "2021-08-03T12:21:08.194693Z",
     "start_time": "2021-08-03T12:21:08.187171Z"
    }
   },
   "outputs": [],
   "source": [
    "def find_sqrt_bin_search(n, error=0.000001):\n",
    "    lower = n < 1 and n or 1\n",
    "    upper = n < 1 and 1 or n\n",
    "    mid = lower + (upper - lower) / 2.0\n",
    "    square = mid * mid\n",
    "    while abs(square - n) > error:\n",
    "        if square < n :\n",
    "            lower = mid\n",
    "        else:\n",
    "            upper = mid\n",
    "        mid = lower + (upper - lower) / 2.0\n",
    "        square = mid * mid\n",
    "        \n",
    "    return mid\n",
    "            "
   ]
  },
  {
   "cell_type": "code",
   "execution_count": 49,
   "id": "a9e2ff09",
   "metadata": {
    "ExecuteTime": {
     "end_time": "2021-08-03T12:21:08.405177Z",
     "start_time": "2021-08-03T12:21:08.396169Z"
    }
   },
   "outputs": [
    {
     "data": {
      "text/plain": [
       "1.4142136573791504"
      ]
     },
     "execution_count": 49,
     "metadata": {},
     "output_type": "execute_result"
    }
   ],
   "source": [
    "find_sqrt_bin_search(2)"
   ]
  },
  {
   "cell_type": "code",
   "execution_count": 50,
   "id": "c9cc4bdf",
   "metadata": {
    "ExecuteTime": {
     "end_time": "2021-08-03T12:21:08.931380Z",
     "start_time": "2021-08-03T12:21:08.919369Z"
    }
   },
   "outputs": [
    {
     "data": {
      "text/plain": [
       "3.0"
      ]
     },
     "execution_count": 50,
     "metadata": {},
     "output_type": "execute_result"
    }
   ],
   "source": [
    "find_sqrt_bin_search(9)"
   ]
  },
  {
   "cell_type": "code",
   "execution_count": 51,
   "id": "b0e50aa7",
   "metadata": {
    "ExecuteTime": {
     "end_time": "2021-08-03T12:21:23.071731Z",
     "start_time": "2021-08-03T12:21:23.068729Z"
    }
   },
   "outputs": [
    {
     "data": {
      "text/plain": [
       "47.212286529131234"
      ]
     },
     "execution_count": 51,
     "metadata": {},
     "output_type": "execute_result"
    }
   ],
   "source": [
    "find_sqrt_bin_search(2229)"
   ]
  },
  {
   "cell_type": "markdown",
   "id": "d84610d6",
   "metadata": {},
   "source": [
    "## 빈도 계산하기\n",
    "\n",
    "이전 검색을 활용하여 정렬된 리스트에 요소 k가 나타나는 회수를 구해보자."
   ]
  },
  {
   "cell_type": "code",
   "execution_count": 54,
   "id": "38e0e2d4",
   "metadata": {
    "ExecuteTime": {
     "end_time": "2021-08-03T12:27:52.984572Z",
     "start_time": "2021-08-03T12:27:52.967565Z"
    }
   },
   "outputs": [],
   "source": [
    "def binary_search_iter(seq, target):\n",
    "    high, low = len(seq), 0\n",
    "    while low < high:\n",
    "        mid = (high + low) // 2\n",
    "        if target == seq[mid]:\n",
    "            return mid\n",
    "        \n",
    "        elif target < seq[mid]:\n",
    "            high = mid\n",
    "        \n",
    "        else: \n",
    "            low = mid + 1\n",
    "            \n",
    "    return None"
   ]
  },
  {
   "cell_type": "code",
   "execution_count": 56,
   "id": "45aec7ed",
   "metadata": {
    "ExecuteTime": {
     "end_time": "2021-08-03T12:29:27.953585Z",
     "start_time": "2021-08-03T12:29:27.940573Z"
    }
   },
   "outputs": [],
   "source": [
    "def find_time_occurrence_list(seq, k):\n",
    "    index_some_k = binary_search_iter(seq, k)\n",
    "    count = 1\n",
    "    sizet = len(seq)\n",
    "    for i in range(index_some_k+1, sizet):\n",
    "        if seq[i] == k:\n",
    "            count += 1\n",
    "        else:\n",
    "            break\n",
    "            \n",
    "    for i in range(index_some_k-1, -1, -1):\n",
    "        if seq[i] == k:\n",
    "            count += 1\n",
    "        else:\n",
    "            break\n",
    "            \n",
    "    return count\n",
    "        "
   ]
  },
  {
   "cell_type": "code",
   "execution_count": 58,
   "id": "97a5a8e5",
   "metadata": {
    "ExecuteTime": {
     "end_time": "2021-08-03T12:31:09.854952Z",
     "start_time": "2021-08-03T12:31:09.839907Z"
    }
   },
   "outputs": [
    {
     "data": {
      "text/plain": [
       "5"
      ]
     },
     "execution_count": 58,
     "metadata": {},
     "output_type": "execute_result"
    }
   ],
   "source": [
    "seq = [1, 2, 2, 2, 2, 2, 4, 4, 6, 7, 7, 7, 7, 7, 8, 9]\n",
    "find_time_occurrence_list(seq, 2)"
   ]
  },
  {
   "cell_type": "markdown",
   "id": "585e8e5f",
   "metadata": {},
   "source": [
    "## 교집합 구하기"
   ]
  },
  {
   "cell_type": "code",
   "execution_count": 59,
   "id": "5318b213",
   "metadata": {
    "ExecuteTime": {
     "end_time": "2021-08-03T12:32:36.497380Z",
     "start_time": "2021-08-03T12:32:36.485368Z"
    }
   },
   "outputs": [],
   "source": [
    "def binary_search_iter(seq, target):\n",
    "    high, low = len(seq), 0\n",
    "    while low < high:\n",
    "        mid = (high + low) // 2\n",
    "        if target == seq[mid]:\n",
    "            return mid\n",
    "        \n",
    "        elif target < seq[mid]:\n",
    "            high = mid\n",
    "        \n",
    "        else: \n",
    "            low = mid + 1\n",
    "            \n",
    "    return None"
   ]
  },
  {
   "cell_type": "markdown",
   "id": "30198099",
   "metadata": {},
   "source": [
    "파이썬의 set 사용"
   ]
  },
  {
   "cell_type": "code",
   "execution_count": 60,
   "id": "db18c22a",
   "metadata": {
    "ExecuteTime": {
     "end_time": "2021-08-03T12:33:31.485844Z",
     "start_time": "2021-08-03T12:33:31.469828Z"
    }
   },
   "outputs": [],
   "source": [
    "def intersection_two_arrays_sets(seq1, seq2):\n",
    "    set1 = set(seq1)\n",
    "    set2 = set(seq2)\n",
    "    return set1.intersection(set2)"
   ]
  },
  {
   "cell_type": "markdown",
   "id": "cad9eaab",
   "metadata": {},
   "source": [
    "병합 정렬 사용"
   ]
  },
  {
   "cell_type": "code",
   "execution_count": 104,
   "id": "7e1d6f34",
   "metadata": {
    "ExecuteTime": {
     "end_time": "2021-08-03T12:43:43.221233Z",
     "start_time": "2021-08-03T12:43:43.213710Z"
    }
   },
   "outputs": [],
   "source": [
    "def intersection_two_arrays_ms(seq1_, seq2_):\n",
    "    import copy\n",
    "    seq1, seq2 = copy.deepcopy(seq1_), copy.deepcopy(seq2_)\n",
    "    res=[]\n",
    "    while seq1 and seq2:\n",
    "        if seq1[-1] == seq2[-1]:\n",
    "            res.append(seq1.pop())\n",
    "            seq2.pop()\n",
    "            \n",
    "        elif seq1[-1] > seq2[-1]:\n",
    "            seq1.pop()\n",
    "            \n",
    "        else:\n",
    "            seq2.pop()\n",
    "            \n",
    "    res.reverse()\n",
    "    return res\n",
    "    "
   ]
  },
  {
   "cell_type": "markdown",
   "id": "938b5419",
   "metadata": {},
   "source": [
    "이진 검색 사용"
   ]
  },
  {
   "cell_type": "code",
   "execution_count": 105,
   "id": "a19d7c37",
   "metadata": {
    "ExecuteTime": {
     "end_time": "2021-08-03T12:43:44.621389Z",
     "start_time": "2021-08-03T12:43:44.612868Z"
    }
   },
   "outputs": [],
   "source": [
    "def intersection_two_arrays_bs(seq1, seq2):\n",
    "\n",
    "    if len(seq1) > len(seq2):\n",
    "        seq, key = seq1, seq2\n",
    "    else:\n",
    "        seq, key = seq2, seq1\n",
    "        \n",
    "    intersec = []\n",
    "    for item in key:\n",
    "        if binary_search_iter(seq, item):\n",
    "            intersec.append(item)\n",
    "    return intersec"
   ]
  },
  {
   "cell_type": "code",
   "execution_count": 106,
   "id": "41ad0002",
   "metadata": {
    "ExecuteTime": {
     "end_time": "2021-08-03T12:43:45.106024Z",
     "start_time": "2021-08-03T12:43:45.094993Z"
    }
   },
   "outputs": [],
   "source": [
    "seq1 = [1, 2, 3, 4, 5, 6, 7, 9]\n",
    "seq2 = [2, 4, 6, 8]"
   ]
  },
  {
   "cell_type": "code",
   "execution_count": 107,
   "id": "8ab4d143",
   "metadata": {
    "ExecuteTime": {
     "end_time": "2021-08-03T12:43:45.484642Z",
     "start_time": "2021-08-03T12:43:45.471630Z"
    }
   },
   "outputs": [
    {
     "data": {
      "text/plain": [
       "{2, 4, 6}"
      ]
     },
     "execution_count": 107,
     "metadata": {},
     "output_type": "execute_result"
    }
   ],
   "source": [
    "intersection_two_arrays_sets(seq1, seq2)"
   ]
  },
  {
   "cell_type": "code",
   "execution_count": 108,
   "id": "307aeae3",
   "metadata": {
    "ExecuteTime": {
     "end_time": "2021-08-03T12:43:45.919250Z",
     "start_time": "2021-08-03T12:43:45.910728Z"
    }
   },
   "outputs": [
    {
     "data": {
      "text/plain": [
       "[2, 4, 6]"
      ]
     },
     "execution_count": 108,
     "metadata": {},
     "output_type": "execute_result"
    }
   ],
   "source": [
    "intersection_two_arrays_ms(seq1, seq2)"
   ]
  },
  {
   "cell_type": "code",
   "execution_count": 109,
   "id": "d9fa2c33",
   "metadata": {
    "ExecuteTime": {
     "end_time": "2021-08-03T12:43:46.431789Z",
     "start_time": "2021-08-03T12:43:46.413772Z"
    }
   },
   "outputs": [
    {
     "data": {
      "text/plain": [
       "[2, 4, 6]"
      ]
     },
     "execution_count": 109,
     "metadata": {},
     "output_type": "execute_result"
    }
   ],
   "source": [
    "intersection_two_arrays_bs(seq1, seq2)"
   ]
  },
  {
   "cell_type": "markdown",
   "id": "f8a7085b",
   "metadata": {},
   "source": [
    "**Reference**\n",
    "\n",
    "* <a href='https://github.com/SeWonKwon' ><div> <img src ='https://slid-capture.s3.ap-northeast-2.amazonaws.com/public/image_upload/6556674324ed41a289a354258718280d/964e5a8b-75ad-41fc-ae75-0ca66d06fbc7.png' align='left' /> </div></a>\n",
    "\n",
    "<br>\n",
    "\n",
    "* [파이썬 자료구조와 알고리즘, 미아 스타인](https://github.com/AstinCHOI/Python-and-Algorithms-and-Data-Structures)\n"
   ]
  }
 ],
 "metadata": {
  "kernelspec": {
   "display_name": "Python 3",
   "language": "python",
   "name": "python3"
  },
  "language_info": {
   "codemirror_mode": {
    "name": "ipython",
    "version": 3
   },
   "file_extension": ".py",
   "mimetype": "text/x-python",
   "name": "python",
   "nbconvert_exporter": "python",
   "pygments_lexer": "ipython3",
   "version": "3.8.5"
  },
  "toc": {
   "base_numbering": 1,
   "nav_menu": {},
   "number_sections": true,
   "sideBar": true,
   "skip_h1_title": false,
   "title_cell": "Table of Contents",
   "title_sidebar": "Contents",
   "toc_cell": false,
   "toc_position": {
    "height": "calc(100% - 180px)",
    "left": "10px",
    "top": "150px",
    "width": "256.317px"
   },
   "toc_section_display": true,
   "toc_window_display": false
  }
 },
 "nbformat": 4,
 "nbformat_minor": 5
}
