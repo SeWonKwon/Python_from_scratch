{
 "cells": [
  {
   "cell_type": "markdown",
   "metadata": {},
   "source": [
    "<a href='https://github.com/SeWonKwon' ><div> <img src ='https://slid-capture.s3.ap-northeast-2.amazonaws.com/public/image_upload/6556674324ed41a289a354258718280d/964e5a8b-75ad-41fc-ae75-0ca66d06fbc7.png' align='left' /> </div></a>\n"
   ]
  },
  {
   "cell_type": "markdown",
   "metadata": {},
   "source": [
    "###### **Ch.07 추상 데이터 타입 (Abstract data type)**"
   ]
  },
  {
   "cell_type": "markdown",
   "metadata": {},
   "source": [
    "# 7.1 스택Stack "
   ]
  },
  {
   "cell_type": "markdown",
   "metadata": {},
   "source": [
    "* 배열의 끝에서만 데이터에 접근할 수 있는 선형 자료구조이다.\n",
    "* 후입선출(<abbr title='Last in, first out'>LIFO</abbr>)\n",
    "* 시간복잡도 O(1)"
   ]
  },
  {
   "cell_type": "markdown",
   "metadata": {},
   "source": [
    "|코드|설명|\n",
    "|:--|:--|\n",
    "|push | 스택 맨 끝(맨 위)에 항목을 삽입한다. |\n",
    "| pop | 스택 맨 끝 항목을 반환하는 동시에 제거한다.|\n",
    "| top/peek | 스택 맨 끝 항목을 조회한다. |\n",
    "| empty| 스택이 비어 있는지 확인한다.|\n",
    "|size | 스택 크기를 확인한다. |"
   ]
  },
  {
   "cell_type": "markdown",
   "metadata": {},
   "source": [
    "<img src='https://media.vlpt.us/images/tiiranocode/post/0c3b8a68-f29c-4836-91ff-2f0ef25dc704/stack.png' width='500' /> https://velog.io/@tiiranocode/%EC%9E%90%EB%A3%8C-%EA%B5%AC%EC%A1%B0-%EC%8A%A4%ED%83%9Dstack-%ED%81%90queue"
   ]
  },
  {
   "cell_type": "markdown",
   "metadata": {},
   "source": [
    "## Stack 구현"
   ]
  },
  {
   "cell_type": "code",
   "execution_count": 1,
   "metadata": {
    "ExecuteTime": {
     "end_time": "2021-07-20T15:17:10.859533Z",
     "start_time": "2021-07-20T15:17:10.843518Z"
    }
   },
   "outputs": [],
   "source": [
    "class Stack(object):\n",
    "    def __init__(self):\n",
    "        self.items = []\n",
    "        \n",
    "    def isEmpty(self):\n",
    "        return not bool(self.items) # bool(list type) 리스트가 비어 있으면, False return\n",
    "    \n",
    "    def push(self, value):\n",
    "        self.items.append(value)\n",
    "        \n",
    "    def pop(self):\n",
    "        value = self.items.pop()\n",
    "        if value is not None:\n",
    "            return value\n",
    "        else:\n",
    "            print(\"Stack is empty\")\n",
    "            \n",
    "    def size(self):\n",
    "        return len(self.items)\n",
    "    \n",
    "    def peek(self):\n",
    "        if self.items:\n",
    "            return self.items[-1]\n",
    "        else:\n",
    "            return (\"Stack is empty\")\n",
    "        \n",
    "    def __repr__(self):\n",
    "        return repr(self.items)"
   ]
  },
  {
   "cell_type": "code",
   "execution_count": 2,
   "metadata": {
    "ExecuteTime": {
     "end_time": "2021-07-20T15:17:10.874546Z",
     "start_time": "2021-07-20T15:17:10.860533Z"
    },
    "scrolled": true
   },
   "outputs": [
    {
     "name": "stdout",
     "output_type": "stream",
     "text": [
      "스택이 비었나요? True\n",
      "스택에 숫자 0~9를 추가합니다.\n",
      "스택 크기: 10\n",
      "peek: 9\n",
      "pop: 9\n",
      "peek: 8\n",
      "스택이 비었나요? False\n",
      "[0, 1, 2, 3, 4, 5, 6, 7, 8]\n"
     ]
    }
   ],
   "source": [
    "if __name__ == \"__main__\":\n",
    "    stack = Stack()\n",
    "    print(\"스택이 비었나요? {0}\".format(stack.isEmpty()))\n",
    "    print(\"스택에 숫자 0~9를 추가합니다.\")\n",
    "    for i in range(10):\n",
    "        stack.push(i)\n",
    "    print(\"스택 크기: {0}\".format(stack.size()))\n",
    "    print(\"peek: {0}\".format(stack.peek()))\n",
    "    print(\"pop: {0}\".format(stack.pop()))\n",
    "    print(\"peek: {0}\".format(stack.peek()))\n",
    "    print(\"스택이 비었나요? {0}\".format(stack.isEmpty()))\n",
    "    print(stack)"
   ]
  },
  {
   "cell_type": "markdown",
   "metadata": {},
   "source": [
    "# 7.2 큐queue"
   ]
  },
  {
   "cell_type": "markdown",
   "metadata": {},
   "source": [
    "* 배열의 앞부분만 인덱스 접근이 제한된다.\n",
    "* 선입선출(<abbr title='First in, first out'>FIFO</abbr>)\n",
    "* 시간복잡도: O(1)"
   ]
  },
  {
   "cell_type": "markdown",
   "metadata": {},
   "source": [
    "|코드|설명|\n",
    "|:-|:-|\n",
    "|enqueue|큐 뒤쪽에 항목을 삽입한다.|\n",
    "|dequeue|큐 앞쪽의 항목을 반환하고, 제거한다.|\n",
    "|peek/front |큐 앞쪽의 항목을 조회한다.|\n",
    "|empty|큐가 비어 있는지 확인한다.|\n",
    "|size|큐의 크기를 확인한다.|\n"
   ]
  },
  {
   "cell_type": "markdown",
   "metadata": {},
   "source": [
    "<img src='https://media.vlpt.us/images/tiiranocode/post/93d6b6c5-5861-4077-a7df-12a9fae18fb7/queue.png' width='700' />https://velog.io/@tiiranocode/%EC%9E%90%EB%A3%8C-%EA%B5%AC%EC%A1%B0-%EC%8A%A4%ED%83%9Dstack-%ED%81%90queue"
   ]
  },
  {
   "cell_type": "markdown",
   "metadata": {},
   "source": [
    "## Queue 구현: /w  a Stack\n",
    "\n",
    "- list를 이용해서 삽입시에는 index 0 에 insert, 반환시에는 마지막 index에서 pop\n",
    "\n",
    "- 리스트의 insert()메서드를 사용했기 때문에, 이는 모든 요소가 메모리에서 이동될 수 있으므로 비효율적이다. (O(n))"
   ]
  },
  {
   "cell_type": "code",
   "execution_count": 3,
   "metadata": {
    "ExecuteTime": {
     "end_time": "2021-07-20T15:17:10.889558Z",
     "start_time": "2021-07-20T15:17:10.875547Z"
    }
   },
   "outputs": [],
   "source": [
    "class Queue(object):\n",
    "    def __init__(self):\n",
    "        self.items = []\n",
    "    \n",
    "    def isEmpty(self):\n",
    "        return not bool(self.items)\n",
    "    \n",
    "    def enqueue(self, item):\n",
    "        self.items.insert(0, item)\n",
    "        \n",
    "    def dequeue(self):\n",
    "        value = self.items.pop()\n",
    "        if value is not None:\n",
    "            return value\n",
    "        else:\n",
    "            print(\"Queue is empty\")\n",
    "            \n",
    "    def size(self):\n",
    "        return len(self.items)\n",
    "    \n",
    "    def peek(self):\n",
    "        if self.items:\n",
    "            return self.items[-1]\n",
    "        else:\n",
    "            print(\"Queue is empty.\")\n",
    "    \n",
    "    def __repr__(self):\n",
    "        return repr(self.items)\n",
    "    "
   ]
  },
  {
   "cell_type": "code",
   "execution_count": 4,
   "metadata": {
    "ExecuteTime": {
     "end_time": "2021-07-20T15:17:10.904573Z",
     "start_time": "2021-07-20T15:17:10.890561Z"
    }
   },
   "outputs": [
    {
     "name": "stdout",
     "output_type": "stream",
     "text": [
      "스택이 비었나요? True\n",
      "스택에 숫자 0~9를 추가합니다.\n",
      "스택 크기: 10\n",
      "peek: 0\n",
      "dequeue: 0\n",
      "peek: 1\n",
      "스택이 비었나요? False\n",
      "[9, 8, 7, 6, 5, 4, 3, 2, 1]\n"
     ]
    }
   ],
   "source": [
    "if __name__ == \"__main__\":\n",
    "    queue = Queue()\n",
    "    print(\"스택이 비었나요? {0}\".format(queue.isEmpty()))\n",
    "    print(\"스택에 숫자 0~9를 추가합니다.\")\n",
    "    for i in range(10):\n",
    "        queue.enqueue(i)\n",
    "    print(\"스택 크기: {0}\".format(queue.size()))\n",
    "    print(\"peek: {0}\".format(queue.peek()))\n",
    "    print(\"dequeue: {0}\".format(queue.dequeue()))\n",
    "    print(\"peek: {0}\".format(queue.peek()))\n",
    "    print(\"스택이 비었나요? {0}\".format(queue.isEmpty()))\n",
    "    print(queue)"
   ]
  },
  {
   "cell_type": "markdown",
   "metadata": {},
   "source": [
    "## Queue구현 /w 2 Stacks\n",
    "- 2개의 리스트(스택)을 사용하면 효율적인 큐를 다음과 같이 작성할 수 있다.\n",
    "\n",
    "\n",
    "- in_stack과 out_stack을 이용해서 out_stack이 비었을때만 순서를 뒤집어서 시간을 아낄수 있다.\n",
    "\n",
    "\n",
    " "
   ]
  },
  {
   "cell_type": "code",
   "execution_count": 5,
   "metadata": {
    "ExecuteTime": {
     "end_time": "2021-07-20T15:17:10.919587Z",
     "start_time": "2021-07-20T15:17:10.905575Z"
    }
   },
   "outputs": [],
   "source": [
    "class Queue2(object):\n",
    "    def __init__(self):\n",
    "        self.in_stack = []\n",
    "        self.out_stack = []\n",
    "        \n",
    "    def _transfer(self):\n",
    "        while self.in_stack:\n",
    "            self.out_stack.append(self.in_stack.pop())\n",
    "            \n",
    "    def enqueue(self,item):\n",
    "        return self.in_stack.append(item)\n",
    "    \n",
    "    def dequeue(self):\n",
    "        if not self.out_stack:\n",
    "            self._transfer()\n",
    "        if self.out_stack:\n",
    "            return self.out_stack.pop()\n",
    "        \n",
    "        else:\n",
    "            print(\"Queue is empty\")\n",
    "            \n",
    "    def size(self):\n",
    "        return len(self.in_stack) + len(self.in_stack)\n",
    "    \n",
    "    def peek(self):\n",
    "        if not self.out_stack:\n",
    "            self._transfer()\n",
    "        \n",
    "        if self.out_stack:\n",
    "            return self.out_stack[-1]\n",
    "        \n",
    "        else:\n",
    "            print(\"Queue is empty!\")\n",
    "            \n",
    "    def __repr__(self):\n",
    "        if not self.out_stack:\n",
    "            self._transfer()\n",
    "            \n",
    "        if self.out_stack:\n",
    "            return repr(self.out_stack)\n",
    "        \n",
    "        else:\n",
    "            print(\"Queue is empty\")\n",
    "    \n",
    "    def isEmpty(self):\n",
    "        return not ((bool(self.in_stack)) or (bool(self.out_stack)))"
   ]
  },
  {
   "cell_type": "code",
   "execution_count": 6,
   "metadata": {
    "ExecuteTime": {
     "end_time": "2021-07-20T15:17:10.934599Z",
     "start_time": "2021-07-20T15:17:10.920587Z"
    }
   },
   "outputs": [
    {
     "name": "stdout",
     "output_type": "stream",
     "text": [
      "스택이 비었나요? True\n",
      "스택에 숫자 0~9를 추가합니다.\n",
      "스택 크기: 20\n",
      "peek: 0\n",
      "dequeue: 0\n",
      "peek: 1\n",
      "스택이 비었나요? False\n",
      "[9, 8, 7, 6, 5, 4, 3, 2, 1]\n"
     ]
    }
   ],
   "source": [
    "if __name__ == \"__main__\":\n",
    "    queue = Queue2()\n",
    "    print(\"스택이 비었나요? {0}\".format(queue.isEmpty()))\n",
    "    print(\"스택에 숫자 0~9를 추가합니다.\")\n",
    "    for i in range(10):\n",
    "        queue.enqueue(i)\n",
    "    print(\"스택 크기: {0}\".format(queue.size()))\n",
    "    print(\"peek: {0}\".format(queue.peek()))\n",
    "    print(\"dequeue: {0}\".format(queue.dequeue()))\n",
    "    print(\"peek: {0}\".format(queue.peek()))\n",
    "    print(\"스택이 비었나요? {0}\".format(queue.isEmpty()))\n",
    "    print(queue)"
   ]
  },
  {
   "cell_type": "markdown",
   "metadata": {},
   "source": [
    "## Queue 구현 /w Node(Object)\n",
    "\n",
    "- 노드(객체)의 컨테이너로 구현   \n",
    "<br>\n",
    "\n",
    "- 기존에 구현해둔 Queue /w 2 stack에 tail을 추가하여 맨 마지막 원소를 기억함으로써 <br> 원소를 추가하는데 쉽게 만들 수 있습니다. \n",
    "<br>\n",
    "\n",
    "- 또한 Linked list로 Queue를 구현함으로써 리스트로 Queue를 구현하였을 때<br> 삭제하고 난 이후의 모든 원소들을 이동시켜야 했던 한계점을 극복할 수 있습니다.\n"
   ]
  },
  {
   "cell_type": "code",
   "execution_count": 7,
   "metadata": {
    "ExecuteTime": {
     "end_time": "2021-07-20T15:17:10.949615Z",
     "start_time": "2021-07-20T15:17:10.935601Z"
    }
   },
   "outputs": [],
   "source": [
    "class Node(object):\n",
    "    def __init__(self, value=None, pointer=None):\n",
    "        self.value = value\n",
    "        self.pointer = None\n",
    "        \n",
    "    \n",
    "        \n",
    "class LinkedQueue(object):\n",
    "    def __init__(self):\n",
    "        self.head = None\n",
    "        self.tail = None\n",
    "        self.count = 0\n",
    "        \n",
    "    def isEmpty(self):\n",
    "        return not bool(self.head)\n",
    "    \n",
    "    def dequeue(self):\n",
    "        if self.head:\n",
    "            value = self.head.value\n",
    "            self.head = self.head.pointer\n",
    "            self.count -= 1\n",
    "            return value\n",
    "        else:\n",
    "            print(\"Queue is empty\")\n",
    "            \n",
    "    def enqueue(self, value):\n",
    "        node = Node(value)\n",
    "        if not self.head:\n",
    "            self.head = node\n",
    "            self.tail = node  # head와 tail은 같은 node 변수로 부터 받아 오기 때문에, 한쪽이 바뀌면 같이 변한다.\n",
    "        else:\n",
    "            if self.tail:\n",
    "                self.tail.pointer = node # tail의 pointer를 바꾸다는 의미는 head의 포인터를 바꾼다는 의미와 같다.\n",
    "            self.tail = node # 이제 새로 추가된 태일이 head의 마지막 포인트와 연결된다. \n",
    "            \n",
    "        self.count +=1\n",
    "        \n",
    "    def size(self):\n",
    "        return self.count\n",
    "    \n",
    "    def peek(self):\n",
    "        return self.head.value\n",
    "    \n",
    "    def print(self):\n",
    "        node = self.head\n",
    "        while node:\n",
    "            print(node.value, end=\" \")\n",
    "            node = node.pointer\n",
    "            \n",
    "        print()"
   ]
  },
  {
   "cell_type": "markdown",
   "metadata": {},
   "source": [
    "```python\n",
    "self.head = node\n",
    "self.tail = node\n",
    "```\n",
    "* 에서 같은 매모리 주소를 할당 받기 때문에 한쪽이 영향을 받으면 , 다른쪽도 영향을 받는다. "
   ]
  },
  {
   "cell_type": "code",
   "execution_count": 8,
   "metadata": {
    "ExecuteTime": {
     "end_time": "2021-07-20T15:17:10.964628Z",
     "start_time": "2021-07-20T15:17:10.950615Z"
    },
    "scrolled": true
   },
   "outputs": [
    {
     "name": "stdout",
     "output_type": "stream",
     "text": [
      "스택이 비었나요? True\n",
      "스택에 숫자 0~9를 추가합니다.\n",
      "스택 크기: 10\n",
      "peek: 0\n",
      "dequeue: 0\n",
      "peek: 1\n",
      "스택이 비었나요? False\n",
      "1 2 3 4 5 6 7 8 9 \n"
     ]
    }
   ],
   "source": [
    "if __name__ == \"__main__\":\n",
    "    queue = LinkedQueue()\n",
    "    print(\"스택이 비었나요? {0}\".format(queue.isEmpty()))\n",
    "    print(\"스택에 숫자 0~9를 추가합니다.\")\n",
    "    for i in range(10):\n",
    "        queue.enqueue(i)\n",
    "    print(\"스택 크기: {0}\".format(queue.size()))\n",
    "    print(\"peek: {0}\".format(queue.peek()))\n",
    "    print(\"dequeue: {0}\".format(queue.dequeue()))\n",
    "    print(\"peek: {0}\".format(queue.peek()))\n",
    "    print(\"스택이 비었나요? {0}\".format(queue.isEmpty()))\n",
    "    queue.print()"
   ]
  },
  {
   "cell_type": "markdown",
   "metadata": {},
   "source": [
    "# 7.3 데크dequeue\n",
    "\n",
    "* 스택과 큐의 결합체 \n",
    "    - deque(데크)는 double-ended queue의 줄임말로, 앞과 뒤 양방향에서 데이터를 처리할 수 있는 자료구조를 의미합니다.    \n",
    "\n",
    "\n",
    "* 양쪽 끝에서 항목의 조회, 삽입, 삭제가 가능하다. "
   ]
  },
  {
   "cell_type": "markdown",
   "metadata": {},
   "source": [
    "## dequeue 구현"
   ]
  },
  {
   "cell_type": "code",
   "execution_count": 9,
   "metadata": {
    "ExecuteTime": {
     "end_time": "2021-07-20T15:17:10.979642Z",
     "start_time": "2021-07-20T15:17:10.965628Z"
    }
   },
   "outputs": [],
   "source": [
    "class Deque(Queue): # 2.1에서 구현한 Queue를 상속받는다.\n",
    "    def enqueue_back(self, item):\n",
    "        self.items.append(item)\n",
    "        \n",
    "    def dequeue_front(self):\n",
    "        value = self.items.pop(0)\n",
    "        if value is not None:\n",
    "            return value\n",
    "        \n",
    "        else: print(\"Deque is empty.\")"
   ]
  },
  {
   "cell_type": "code",
   "execution_count": 10,
   "metadata": {
    "ExecuteTime": {
     "end_time": "2021-07-20T15:17:10.994655Z",
     "start_time": "2021-07-20T15:17:10.980644Z"
    }
   },
   "outputs": [
    {
     "name": "stdout",
     "output_type": "stream",
     "text": [
      "데크(Deque)가 비었나요? True\n",
      "데크에 숫자 0~9를 추가합니다.\n",
      "데크 크기: 10\n",
      "peek: 0\n",
      "dequeue: 0\n",
      "peek: 1\n",
      "데크가 비었나요? False\n",
      "\n",
      "데크: [9, 8, 7, 6, 5, 4, 3, 2, 1]\n",
      "dequeue: 9\n",
      "peek: 1\n",
      "데크: [8, 7, 6, 5, 4, 3, 2, 1]\n",
      "enqueue_back(50)을 수행합니다.\n",
      "peek: 50\n",
      "데크: [8, 7, 6, 5, 4, 3, 2, 1, 50]\n"
     ]
    }
   ],
   "source": [
    "if __name__ == \"__main__\":\n",
    "    deque = Deque()\n",
    "    print(\"데크(Deque)가 비었나요? {0}\".format(deque.isEmpty()))\n",
    "    print(\"데크에 숫자 0~9를 추가합니다.\")\n",
    "    for i in range(10):\n",
    "        deque.enqueue(i)\n",
    "    print(\"데크 크기: {0}\".format(deque.size()))\n",
    "    print(\"peek: {0}\".format(deque.peek()))\n",
    "    print(\"dequeue: {0}\".format(deque.dequeue()))\n",
    "    print(\"peek: {0}\".format(deque.peek()))\n",
    "    print(\"데크가 비었나요? {0}\".format(deque.isEmpty()))\n",
    "    print()\n",
    "    print(\"데크: {0}\".format(deque))\n",
    "    print(\"dequeue: {0}\".format(deque.dequeue_front()))\n",
    "    print(\"peek: {0}\".format(deque.peek()))\n",
    "    print(\"데크: {0}\".format(deque))\n",
    "    print(\"enqueue_back(50)을 수행합니다.\")\n",
    "    deque.enqueue_back(50)\n",
    "    print(\"peek: {0}\".format(deque.peek()))\n",
    "    print(\"데크: {0}\".format(deque))"
   ]
  },
  {
   "cell_type": "markdown",
   "metadata": {},
   "source": [
    "위의 코드는 insert()메서드를 사용하기 때문에 비효율적이다. 아래의 collections 패키지의 deque모듈을 사용하면 이 문제가 해결된다."
   ]
  },
  {
   "cell_type": "markdown",
   "metadata": {},
   "source": [
    "##  dqueue 구현 /w collection\n",
    "\n",
    "Python의 list와 유사하지만 Collection.deque의 시간복잡도를 확인해보면 앞뒤에서 데이터를 처리하는 속도가 O(1)로 매우 빠른 것을 알수 있습니다.   \n",
    "\n",
    "이는 내부적으로 doubly 링크드 리스트로 구현되어 있기 때문입니다.\n",
    "\n",
    "* 실제로 알고리즘 테스트에서 가장 유용하게 쓰이는 모듈이다. \n"
   ]
  },
  {
   "cell_type": "code",
   "execution_count": 11,
   "metadata": {
    "ExecuteTime": {
     "end_time": "2021-07-20T15:17:11.009670Z",
     "start_time": "2021-07-20T15:17:10.995656Z"
    }
   },
   "outputs": [
    {
     "data": {
      "text/plain": [
       "deque(['버피', '잰더', '윌로'])"
      ]
     },
     "execution_count": 11,
     "metadata": {},
     "output_type": "execute_result"
    }
   ],
   "source": [
    "from collections import deque\n",
    "q = deque([\"버피\", \"잰더\", \"윌로\"])\n",
    "q"
   ]
  },
  {
   "cell_type": "code",
   "execution_count": 12,
   "metadata": {
    "ExecuteTime": {
     "end_time": "2021-07-20T15:17:11.024683Z",
     "start_time": "2021-07-20T15:17:11.010670Z"
    }
   },
   "outputs": [
    {
     "data": {
      "text/plain": [
       "deque(['버피', '잰더', '윌로', '자일스'])"
      ]
     },
     "execution_count": 12,
     "metadata": {},
     "output_type": "execute_result"
    }
   ],
   "source": [
    "q.append('자일스')\n",
    "q"
   ]
  },
  {
   "cell_type": "code",
   "execution_count": 13,
   "metadata": {
    "ExecuteTime": {
     "end_time": "2021-07-20T15:17:11.039697Z",
     "start_time": "2021-07-20T15:17:11.024683Z"
    }
   },
   "outputs": [
    {
     "data": {
      "text/plain": [
       "deque(['잰더', '윌로', '자일스'])"
      ]
     },
     "execution_count": 13,
     "metadata": {},
     "output_type": "execute_result"
    }
   ],
   "source": [
    "q.popleft()\n",
    "q"
   ]
  },
  {
   "cell_type": "code",
   "execution_count": 14,
   "metadata": {
    "ExecuteTime": {
     "end_time": "2021-07-20T15:17:11.054710Z",
     "start_time": "2021-07-20T15:17:11.040696Z"
    }
   },
   "outputs": [
    {
     "data": {
      "text/plain": [
       "deque(['잰더', '윌로'])"
      ]
     },
     "execution_count": 14,
     "metadata": {},
     "output_type": "execute_result"
    }
   ],
   "source": [
    "q.pop()\n",
    "q"
   ]
  },
  {
   "cell_type": "code",
   "execution_count": 15,
   "metadata": {
    "ExecuteTime": {
     "end_time": "2021-07-20T15:17:11.069724Z",
     "start_time": "2021-07-20T15:17:11.054710Z"
    }
   },
   "outputs": [
    {
     "data": {
      "text/plain": [
       "deque(['엔젤', '잰더', '윌로'])"
      ]
     },
     "execution_count": 15,
     "metadata": {},
     "output_type": "execute_result"
    }
   ],
   "source": [
    "q.appendleft('엔젤')\n",
    "q"
   ]
  },
  {
   "cell_type": "markdown",
   "metadata": {},
   "source": [
    "deque 모듈을 사용하면 `q = deque(maxlen=4) 같은 식으로 데크의 크기를 지정할 수 있다. 또한 흥미롭게도 rotate(n) 메서드는 n이 양수이면 오른쪽으로, n이 음수이면왼쪽으로 n 만큼 시프트 시킨다. "
   ]
  },
  {
   "cell_type": "code",
   "execution_count": 16,
   "metadata": {
    "ExecuteTime": {
     "end_time": "2021-07-20T15:17:11.084737Z",
     "start_time": "2021-07-20T15:17:11.070725Z"
    }
   },
   "outputs": [
    {
     "data": {
      "text/plain": [
       "deque(['윌로', '엔젤', '잰더'])"
      ]
     },
     "execution_count": 16,
     "metadata": {},
     "output_type": "execute_result"
    }
   ],
   "source": [
    "q.rotate(1)\n",
    "q"
   ]
  },
  {
   "cell_type": "code",
   "execution_count": 17,
   "metadata": {
    "ExecuteTime": {
     "end_time": "2021-07-20T15:17:11.099751Z",
     "start_time": "2021-07-20T15:17:11.085737Z"
    }
   },
   "outputs": [
    {
     "data": {
      "text/plain": [
       "deque(['엔젤', '잰더', '윌로'])"
      ]
     },
     "execution_count": 17,
     "metadata": {},
     "output_type": "execute_result"
    }
   ],
   "source": [
    "q.rotate(2)\n",
    "q"
   ]
  },
  {
   "cell_type": "code",
   "execution_count": 18,
   "metadata": {
    "ExecuteTime": {
     "end_time": "2021-07-20T15:17:11.114765Z",
     "start_time": "2021-07-20T15:17:11.100752Z"
    }
   },
   "outputs": [
    {
     "data": {
      "text/plain": [
       "deque(['윌로', '엔젤', '잰더'])"
      ]
     },
     "execution_count": 18,
     "metadata": {},
     "output_type": "execute_result"
    }
   ],
   "source": [
    "q.rotate(4)\n",
    "q"
   ]
  },
  {
   "cell_type": "code",
   "execution_count": 19,
   "metadata": {
    "ExecuteTime": {
     "end_time": "2021-07-20T15:17:11.129778Z",
     "start_time": "2021-07-20T15:17:11.115766Z"
    }
   },
   "outputs": [
    {
     "data": {
      "text/plain": [
       "deque(['엔젤', '잰더', '윌로'])"
      ]
     },
     "execution_count": 19,
     "metadata": {},
     "output_type": "execute_result"
    }
   ],
   "source": [
    "q.rotate(-1)\n",
    "q"
   ]
  },
  {
   "cell_type": "markdown",
   "metadata": {},
   "source": [
    "# 7.4 우선순위 큐와 힙"
   ]
  },
  {
   "cell_type": "markdown",
   "metadata": {},
   "source": [
    "우선순위 큐 ( priority queue ) 스택과 큐와 비슷하지만, **연관된 우선순위**가 있다. \n",
    "\n",
    "* 힙을 사용하여 구현한다."
   ]
  },
  {
   "cell_type": "markdown",
   "metadata": {},
   "source": [
    "## 힙heap\n",
    "\n",
    "* 각 노드가 하위 노드보다 작은(또는 큰) 이진 트리이다.\n",
    "\n",
    "\n",
    "* 균형 트리의 모양이 수정될 때, 다시 이를 균형 트리로 만드는 시간복잡도는 O(log n)이다. \n",
    "\n",
    "* 힙은 일반적으로, 리스트에서 가장 작은(또는 가장 큰)요소에 반복적으로 접근하는 프로그램에 유용하다. \n",
    "\n",
    "* 최소(또는 최대)힙을 사용하면 가장 작은(또는 가장 큰) 요소를 처리하는 시간복잡도는 O(1)이고, 그 외의 조회, 추가, 수정을 처리하는 시간복잡도는 O(log n)이다."
   ]
  },
  {
   "cell_type": "markdown",
   "metadata": {},
   "source": [
    "## heapq 모듈\n",
    "\n",
    "* 효율적으로 시퀀스를 힙으로 유지하면서, 삽입 제거 함수를 제공\n",
    "\n",
    "\n",
    "* 아래와 같이 `heapq.heapify()` 함수를 사용하면 O(n) 시간에 리스트를 힙으로 변환 가능"
   ]
  },
  {
   "cell_type": "code",
   "execution_count": 20,
   "metadata": {
    "ExecuteTime": {
     "end_time": "2021-07-20T15:17:11.144792Z",
     "start_time": "2021-07-20T15:17:11.129778Z"
    }
   },
   "outputs": [
    {
     "data": {
      "text/plain": [
       "[1, 4, 8, 6]"
      ]
     },
     "execution_count": 20,
     "metadata": {},
     "output_type": "execute_result"
    }
   ],
   "source": [
    "import heapq\n",
    "l = [4, 6, 8, 1]\n",
    "heapq.heapify(l)\n",
    "l"
   ]
  },
  {
   "cell_type": "markdown",
   "metadata": {},
   "source": [
    "* `heapq.heappush(heap, item)` 함수는 항목을 힙에 삽입 (push)."
   ]
  },
  {
   "cell_type": "code",
   "execution_count": 21,
   "metadata": {
    "ExecuteTime": {
     "end_time": "2021-07-20T15:17:11.159806Z",
     "start_time": "2021-07-20T15:17:11.145792Z"
    }
   },
   "outputs": [
    {
     "data": {
      "text/plain": [
       "[(1, 'food'), (2, 'have fun'), (3, 'work'), (4, 'study'), (5, 'sleep')]"
      ]
     },
     "execution_count": 21,
     "metadata": {},
     "output_type": "execute_result"
    }
   ],
   "source": [
    "h = []\n",
    "heapq.heappush(h, (1, 'food'))\n",
    "heapq.heappush(h, (2, 'have fun'))\n",
    "heapq.heappush(h, (3, 'work'))\n",
    "heapq.heappush(h, (4, 'study'))\n",
    "heapq.heappush(h, (5, 'sleep'))\n",
    "h"
   ]
  },
  {
   "cell_type": "markdown",
   "metadata": {},
   "source": [
    "* `heapq.heappop(heap)` 함수는 힙에서 가장 작은 항목을 제거하고 반환(pop)."
   ]
  },
  {
   "cell_type": "code",
   "execution_count": 22,
   "metadata": {
    "ExecuteTime": {
     "end_time": "2021-07-20T15:17:11.174819Z",
     "start_time": "2021-07-20T15:17:11.159806Z"
    }
   },
   "outputs": [
    {
     "name": "stdout",
     "output_type": "stream",
     "text": [
      "[1, 4, 8, 6]\n",
      "[4, 6, 8]\n"
     ]
    }
   ],
   "source": [
    "print(l)\n",
    "heapq.heappop(l)\n",
    "print(l)"
   ]
  },
  {
   "cell_type": "markdown",
   "metadata": {},
   "source": [
    "* `heapq.heappushpop(heap, item)` 은 새 항목을 추가(push), 가장 작은 항목을 제거하고 반환(pop)\n",
    "\n",
    "* `heapq.heapreplace(heap, itme)` 힙의 가장 작은 항목을 제거 반환(pop),  새항목을 추가(push).\n",
    "\n",
    "* `heappush`와 `heappop` 메서드를 따로 사용하는 것보다 위의 2 메서드가 더 효율적이다."
   ]
  },
  {
   "cell_type": "markdown",
   "metadata": {},
   "source": [
    "* `heapq.merge(*iterables)` 여러개의 정렬된 반복 가능한 객체를 병합하여 하나의 정렬된 결과의 이터레이터를 반환한다. "
   ]
  },
  {
   "cell_type": "code",
   "execution_count": 23,
   "metadata": {
    "ExecuteTime": {
     "end_time": "2021-07-20T15:17:11.189833Z",
     "start_time": "2021-07-20T15:17:11.176821Z"
    }
   },
   "outputs": [
    {
     "name": "stdout",
     "output_type": "stream",
     "text": [
      "1\n",
      "2\n",
      "3\n",
      "4\n",
      "5\n",
      "7\n"
     ]
    }
   ],
   "source": [
    "for x in heapq.merge([1, 3, 5], [2, 4, 7]):\n",
    "    print(x)"
   ]
  },
  {
   "cell_type": "markdown",
   "metadata": {},
   "source": [
    "* `heapq.nlargest(n, iterable[, key])` : n개의 가장 큰요소가 있는 리스트 반환\n",
    "\n",
    "* `heapq.nsmallest(n, iterable[, key])`: n개의 가장 작은 요소가 있는 리스트 반환"
   ]
  },
  {
   "cell_type": "code",
   "execution_count": 24,
   "metadata": {
    "ExecuteTime": {
     "end_time": "2021-07-20T15:17:11.204846Z",
     "start_time": "2021-07-20T15:17:11.190832Z"
    }
   },
   "outputs": [
    {
     "data": {
      "text/plain": [
       "[9, 8, 7]"
      ]
     },
     "execution_count": 24,
     "metadata": {},
     "output_type": "execute_result"
    }
   ],
   "source": [
    "heapq.nlargest(3, [x for x in range(10)])"
   ]
  },
  {
   "cell_type": "code",
   "execution_count": 25,
   "metadata": {
    "ExecuteTime": {
     "end_time": "2021-07-20T15:17:11.219860Z",
     "start_time": "2021-07-20T15:17:11.205846Z"
    },
    "scrolled": true
   },
   "outputs": [
    {
     "data": {
      "text/plain": [
       "[(5, 'sleep'), (4, 'study'), (3, 'work')]"
      ]
     },
     "execution_count": 25,
     "metadata": {},
     "output_type": "execute_result"
    }
   ],
   "source": [
    "heapq.nlargest(3, h)"
   ]
  },
  {
   "cell_type": "code",
   "execution_count": 26,
   "metadata": {
    "ExecuteTime": {
     "end_time": "2021-07-20T15:17:11.234874Z",
     "start_time": "2021-07-20T15:17:11.220860Z"
    },
    "scrolled": true
   },
   "outputs": [
    {
     "data": {
      "text/plain": [
       "[0, 1, 2]"
      ]
     },
     "execution_count": 26,
     "metadata": {},
     "output_type": "execute_result"
    }
   ],
   "source": [
    "heapq.nsmallest(3, [x for x in range(10)])"
   ]
  },
  {
   "cell_type": "code",
   "execution_count": 27,
   "metadata": {
    "ExecuteTime": {
     "end_time": "2021-07-20T15:17:11.249887Z",
     "start_time": "2021-07-20T15:17:11.235875Z"
    },
    "scrolled": true
   },
   "outputs": [
    {
     "data": {
      "text/plain": [
       "[(1, 'food'), (2, 'have fun'), (3, 'work')]"
      ]
     },
     "execution_count": 27,
     "metadata": {},
     "output_type": "execute_result"
    }
   ],
   "source": [
    "heapq.nsmallest(3, h)"
   ]
  },
  {
   "cell_type": "markdown",
   "metadata": {},
   "source": [
    "## 최대 힙 구현하기"
   ]
  },
  {
   "cell_type": "markdown",
   "metadata": {},
   "source": [
    "* 최대 힙(max-heap)을 예시로 구현해 보겠다.\n",
    "\n",
    "* `[3, 2, 5, 1, 7, 8, 2]` 를 힙으로 만들어 보겠습니다.\n",
    "\n",
    "* <img src='https://slid-capture.s3.ap-northeast-2.amazonaws.com/public/image_upload/98c3bd144ab249a0b2427482ee2d4ff3/b2c41c40-f021-428a-9805-5c30dbe190a9.png'/>\n",
    "\n",
    "* 인덱스 0의 자식은 인덱스 1, 2<br>인덱스 1의 자식은 인덱스 3, 4<br> 인덱스 2의 자식은 인덱스 5, 6이다.\n",
    "\n",
    "\n",
    "\n",
    "* 즉 왼쪽 자식 노드의 인덱스는 $$(i \\times 2 ) +1$$<br>오른쪽 자식 노드의 인덱스는 $$(i \\times 2) + 2$$"
   ]
  },
  {
   "cell_type": "markdown",
   "metadata": {},
   "source": [
    "* 전체 배열의 길이를 반으로 나누는 것으로 시작해 보자."
   ]
  },
  {
   "cell_type": "code",
   "execution_count": 28,
   "metadata": {
    "ExecuteTime": {
     "end_time": "2021-07-20T15:17:11.264902Z",
     "start_time": "2021-07-20T15:17:11.249887Z"
    }
   },
   "outputs": [
    {
     "data": {
      "text/plain": [
       "3"
      ]
     },
     "execution_count": 28,
     "metadata": {},
     "output_type": "execute_result"
    }
   ],
   "source": [
    "7//2"
   ]
  },
  {
   "cell_type": "markdown",
   "metadata": {},
   "source": [
    "3에서 부터 1씩 감소한다.\n",
    "\n",
    "1. 인덱스가 3일때, 자식이 없으므로 넘어간다.\n",
    "\n",
    "\n",
    "\n",
    "2. 인덱스가 2일때, 자식이 있고 값 5보다 큰 값8이 존재하므로,      <br> 인덱스 2(값 5)와 인덱스 5(값 8)의 값을 교환한다. <br>교환한 인덱스 5(값 5)를 자식들과 비교하는데 자식이 없으므로 넘어간다. <br><img src='https://slid-capture.s3.ap-northeast-2.amazonaws.com/public/image_upload/98c3bd144ab249a0b2427482ee2d4ff3/fc618737-c9f6-4cc3-a585-5b07af0d0d61.png' align='center' /> <br><br>\n",
    "3. 인덱스가 1일때, 자식이 있고 값 2보다 큰 값 7이 존재하므로,<br> 인덱스 2(값 2)와 인덱스 4(값 7)의 값을 교환한다. <br> 교환한 인덱스 4(값 2)를 자식들과 비교하는데 자식이 없으므로 넘어간다.<br> <img src='https://slid-capture.s3.ap-northeast-2.amazonaws.com/public/image_upload/98c3bd144ab249a0b2427482ee2d4ff3/769a2f5b-8987-458a-ba0c-cdb864fb16e4.png' align='center' /> <br>\n",
    "\n",
    "4. 인덱스가 0일 때, 자식이 있고 값 3보다 큰 값 7, 8이 존재하므로, <br> 인덱스 0 (값 3)과 인덱스 2(값 8)의 값을 교환한다. \n",
    "    1. 교환한 인덱스 2(값 3)를 자식들과 비교하는데, 값 3보다 큰 값 5가 존재하므로, 인덱스 2(값 3)와 인덱스 5(값 5)를 교환한다.\n",
    "    2. 교환한 인덱스 5(값 3)을 자식들과 비교하는데, 자식이 없으므로 넘어간다.\n",
    "    \n",
    "<br>\n",
    "5. 0미만의 인덱스가 없으므로, 종료한다. "
   ]
  },
  {
   "cell_type": "markdown",
   "metadata": {},
   "source": [
    "위의 내용을 코드로 구현 하면 아래와 같다."
   ]
  },
  {
   "cell_type": "code",
   "execution_count": 29,
   "metadata": {
    "ExecuteTime": {
     "end_time": "2021-07-20T15:17:11.279915Z",
     "start_time": "2021-07-20T15:17:11.264902Z"
    }
   },
   "outputs": [],
   "source": [
    "class Heapify(object):\n",
    "    def __init__(self, data=None):\n",
    "        self.data = data or []\n",
    "        for i in range(len(data)//2, -1, -1): # 인덱스 감소부분 구현\n",
    "            self.__max_heapify__(i)\n",
    "    \n",
    "    def __repr__(self):\n",
    "        return repr(self.data)\n",
    "    \n",
    "    def parent(self, i):\n",
    "        if i & 1: # 현재 루트가 0 이라면\n",
    "            return i >> 1\n",
    "        else:\n",
    "            return (i >> 1) - 1\n",
    "        \n",
    "    def left_child(self, i):\n",
    "        return (i << 1) +1\n",
    "    \n",
    "    def right_child(self, i):\n",
    "        return (i << 1) + 2\n",
    "    \n",
    "    def __max_heapify__(self, i):\n",
    "        largest = i # 현재 노드\n",
    "        left = self.left_child(i)\n",
    "        right = self.right_child(i)\n",
    "        n = len(self.data)\n",
    "        \n",
    "        # 왼쪽 자식\n",
    "        largest = (left < n and self.data[left] > self.data[i]) and left or i  # 왼쪽 과 현재 노드중 더 큰 값을 largest에 담아줘.\n",
    "        \n",
    "        # 오른쪽 자식\n",
    "        largest = (right < n and self.data[right] > self.data[largest]) and right or largest # 오른쪽 과 현재, 왼쪽 노드중 더 큰값을 largest에 담아줘\n",
    "        \n",
    "        # 현재 노드가 자식들보다 크다면 Skip, 자식이 크다면 Swap\n",
    "        if i is not largest:\n",
    "            self.data[i], self.data[largest] = self.data[largest], self.data[i]\n",
    "            # print(self.data)\n",
    "            self.__max_heapify__(largest) # 재귀 적으로 자식노드들 전부 heapify\n",
    "            \n",
    "        '''__max_heapify__ 매쏘드는 전부 가장 큰 수를 최상위 부모 노드로 올리는 메쏘드이다. 최상위 노드만이 가장\n",
    "        큰 수임을 보증하고, 나머지 수의 크기는 보증하지 않는다. '''\n",
    "            \n",
    "    def extract_max(self):\n",
    "        n = len(self.data)\n",
    "        max_element = self.data[0]\n",
    "        # 첫 번째 노드에 마지막 노드를 삽입\n",
    "        self.data[0] = self.data[n-1]\n",
    "        self.data = self.data[:n-1] # 데이터 삭제\n",
    "        self.__max_heapify__(0) # heapify 다시 수행한다.\n",
    "        return max_element # 가장 큰 값은 리턴한다.\n",
    "    \n",
    "    def insert(self, item):\n",
    "        i = len(self.data)\n",
    "        self.data.append(item) # 우선 마지막에 itme을 append 시켜준다.\n",
    "        while (i != 0) and item > self.data[self.parent(i)]: # 부모 노드의 값보다 append 된 값이 크다면 \n",
    "            print(self.data)\n",
    "            self.data[i] = self.data[self.parent(i)] # 부모 노드는 자식 노드로 내려온다. \n",
    "            i = self.parent(i) # 기준이 되는 현재 노드 값을 부모 노드 값으로 변경\n",
    "        self.data[i] = item \n",
    "        ''' 위에 while 문이 실행 되었다면( 새로 append 한 값이 더 크다면), \n",
    "        item의 위치는 while문이 만족할때까지의 parent 노드가 되고, 마지막으로 그값을 넣어준다.'''\n",
    "        "
   ]
  },
  {
   "cell_type": "code",
   "execution_count": 30,
   "metadata": {
    "ExecuteTime": {
     "end_time": "2021-07-20T15:17:11.294928Z",
     "start_time": "2021-07-20T15:17:11.280916Z"
    }
   },
   "outputs": [
    {
     "name": "stdout",
     "output_type": "stream",
     "text": [
      "테스트 통과!\n"
     ]
    }
   ],
   "source": [
    "def test_heapify():\n",
    "    l1 = [3, 2, 5, 1, 7, 8, 2]\n",
    "    h = Heapify(l1)\n",
    "    assert(h.extract_max() == 8)\n",
    "    print(\"테스트 통과!\")\n",
    "\n",
    "test_heapify()"
   ]
  },
  {
   "cell_type": "markdown",
   "metadata": {},
   "source": [
    "이 코드에서 구현된 것처럼 최대 힙에서 최댓값 추출 및 삭제 과정은 다음과 같다. \n",
    "\n",
    "1. 힙의 루트 노드 값을 따로 저장한 다음(나중에 이를 반환한다)<br> 마지막 노드의 값을 대입한, 마지막 노드를 삭제한다.<br><img src='https://slid-capture.s3.ap-northeast-2.amazonaws.com/public/image_upload/98c3bd144ab249a0b2427482ee2d4ff3/d81178e4-f53f-48b1-98ae-ba91a4b3dc6f.png' align='center' /> <br>\n",
    "\n",
    "2. heapify 과정을 귀납적으로 실행해 준다. \n",
    "\n",
    "<img src='https://slid-capture.s3.ap-northeast-2.amazonaws.com/public/image_upload/98c3bd144ab249a0b2427482ee2d4ff3/924f2c82-a250-4dc9-85b5-9617a22f0490.png' /> <br>"
   ]
  },
  {
   "cell_type": "markdown",
   "metadata": {},
   "source": [
    "## 우선순위 큐 구현"
   ]
  },
  {
   "cell_type": "code",
   "execution_count": 31,
   "metadata": {
    "ExecuteTime": {
     "end_time": "2021-07-20T15:17:11.309942Z",
     "start_time": "2021-07-20T15:17:11.295930Z"
    }
   },
   "outputs": [],
   "source": [
    "import heapq\n",
    "\n",
    "class PriorityQueue(object):\n",
    "    def __init__(self):\n",
    "        self._queue = []\n",
    "        self._index = 0 \n",
    "    \n",
    "    def push(self, item, priority):\n",
    "        heapq.heappush(self._queue, (-priority, self._index, item)) # '-' (마이너스) 붙어서 max_heap 을 구현 , 기본적으로 min_heap 이다.\n",
    "        self._index += 1\n",
    "        \n",
    "    def pop(self):\n",
    "        return heapq.heappop(self._queue)[-1]\n",
    "    \n",
    "    def __repr__(self):\n",
    "        return str(self._queue)\n",
    "    \n",
    "class Item: \n",
    "    \n",
    "    def __init__(self, name):\n",
    "        self.name = name\n",
    "        \n",
    "    def __repr__(self):\n",
    "        return \"Item({0!r})\".format(self.name)\n",
    "        "
   ]
  },
  {
   "cell_type": "code",
   "execution_count": 32,
   "metadata": {
    "ExecuteTime": {
     "end_time": "2021-07-20T15:17:11.324956Z",
     "start_time": "2021-07-20T15:17:11.310944Z"
    }
   },
   "outputs": [
    {
     "name": "stdout",
     "output_type": "stream",
     "text": [
      "테스트 통과!\n"
     ]
    }
   ],
   "source": [
    "def test_priority_queue():\n",
    "    '''push와 pop은 모두 O(logN)이다. '''\n",
    "    \n",
    "    q = PriorityQueue()\n",
    "    q.push(Item('test1'), 1)\n",
    "    q.push(Item('test2'), 10)\n",
    "    q.push(Item('test3'), 6)\n",
    "    assert(str(q.pop()) == \"Item('test2')\")\n",
    "    print(\"테스트 통과!\")\n",
    "    \n",
    "test_priority_queue()"
   ]
  },
  {
   "cell_type": "code",
   "execution_count": 33,
   "metadata": {
    "ExecuteTime": {
     "end_time": "2021-07-20T15:17:13.067095Z",
     "start_time": "2021-07-20T15:17:11.325957Z"
    }
   },
   "outputs": [],
   "source": [
    "import numpy as np\n",
    "\n",
    "q = PriorityQueue()\n",
    "\n",
    "\n",
    "for i in range(16):\n",
    "    q.push(Item('test'+str(i)), np.random.randint(0, 30))\n",
    "    "
   ]
  },
  {
   "cell_type": "code",
   "execution_count": 34,
   "metadata": {
    "ExecuteTime": {
     "end_time": "2021-07-20T15:17:13.081918Z",
     "start_time": "2021-07-20T15:17:13.068097Z"
    }
   },
   "outputs": [
    {
     "data": {
      "text/plain": [
       "[(-28, 3, Item('test3')), (-23, 4, Item('test4')), (-28, 14, Item('test14')), (-12, 8, Item('test8')), (-23, 9, Item('test9')), (-15, 11, Item('test11')), (-27, 13, Item('test13')), (-7, 15, Item('test15')), (-8, 7, Item('test7')), (-19, 0, Item('test0')), (0, 10, Item('test10')), (-13, 2, Item('test2')), (-2, 12, Item('test12')), (-1, 6, Item('test6')), (-18, 5, Item('test5')), (-2, 1, Item('test1'))]"
      ]
     },
     "execution_count": 34,
     "metadata": {},
     "output_type": "execute_result"
    }
   ],
   "source": [
    "q"
   ]
  },
  {
   "cell_type": "code",
   "execution_count": 35,
   "metadata": {
    "ExecuteTime": {
     "end_time": "2021-07-20T15:17:13.096858Z",
     "start_time": "2021-07-20T15:17:13.082923Z"
    }
   },
   "outputs": [
    {
     "data": {
      "text/plain": [
       "Item('test3')"
      ]
     },
     "execution_count": 35,
     "metadata": {},
     "output_type": "execute_result"
    }
   ],
   "source": [
    "q.pop()"
   ]
  },
  {
   "cell_type": "code",
   "execution_count": 36,
   "metadata": {
    "ExecuteTime": {
     "end_time": "2021-07-20T15:17:13.111870Z",
     "start_time": "2021-07-20T15:17:13.097857Z"
    }
   },
   "outputs": [
    {
     "data": {
      "text/plain": [
       "[(-28, 14, Item('test14')), (-23, 4, Item('test4')), (-27, 13, Item('test13')), (-12, 8, Item('test8')), (-23, 9, Item('test9')), (-15, 11, Item('test11')), (-18, 5, Item('test5')), (-7, 15, Item('test15')), (-8, 7, Item('test7')), (-19, 0, Item('test0')), (0, 10, Item('test10')), (-13, 2, Item('test2')), (-2, 12, Item('test12')), (-1, 6, Item('test6')), (-2, 1, Item('test1'))]"
      ]
     },
     "execution_count": 36,
     "metadata": {},
     "output_type": "execute_result"
    }
   ],
   "source": [
    "q"
   ]
  },
  {
   "cell_type": "markdown",
   "metadata": {},
   "source": [
    "# 7.5 연결 리스트 linked list"
   ]
  },
  {
   "cell_type": "markdown",
   "metadata": {},
   "source": [
    "* 값과 다음 노드에 대한 포인터(참조)가 포함된 노드로 이루어진 선형 리스트다. \n",
    "\n",
    "* 마지막 노드는 null 값 (파이썬에서는 None)\n",
    "\n",
    "* 연결 리스트로 스택(새 항목을 헤드head에 추가)과 큐(새 항목을 테일tail에 추가)를 구현"
   ]
  },
  {
   "cell_type": "markdown",
   "metadata": {},
   "source": [
    "Node 객체 구현"
   ]
  },
  {
   "cell_type": "code",
   "execution_count": 37,
   "metadata": {
    "ExecuteTime": {
     "end_time": "2021-07-20T15:17:13.126885Z",
     "start_time": "2021-07-20T15:17:13.111870Z"
    }
   },
   "outputs": [],
   "source": [
    "class Node(object):\n",
    "    def __init__(self, value=None, pointer=None):\n",
    "        self.value = value\n",
    "        self.pointer = pointer\n",
    "        \n",
    "    def getData(self):\n",
    "        return self.value\n",
    "    \n",
    "    def getNext(self):\n",
    "        return self.pointer\n",
    "    \n",
    "    def setData(self, newdata):\n",
    "        self.value = newdata\n",
    "        \n",
    "    def setNext(self, newpointer):\n",
    "        self.pointer = newpointer\n",
    "        "
   ]
  },
  {
   "cell_type": "code",
   "execution_count": 38,
   "metadata": {
    "ExecuteTime": {
     "end_time": "2021-07-20T15:17:13.141897Z",
     "start_time": "2021-07-20T15:17:13.127884Z"
    }
   },
   "outputs": [
    {
     "name": "stdout",
     "output_type": "stream",
     "text": [
      "a\n",
      "b\n",
      "aa\n",
      "e\n"
     ]
    }
   ],
   "source": [
    "if __name__ == \"__main__\":\n",
    "    L = Node(\"a\", Node(\"b\", Node(\"c\", Node(\"d\"))))\n",
    "    assert(L.pointer.pointer.value == \"c\")\n",
    "\n",
    "    print(L.getData())\n",
    "    print(L.getNext().getData())\n",
    "    L.setData(\"aa\")\n",
    "    L.setNext(Node(\"e\"))\n",
    "    print(L.getData())\n",
    "    print(L.getNext().getData())"
   ]
  },
  {
   "cell_type": "markdown",
   "metadata": {},
   "source": [
    "LIFO 형식의 연결 리스트 구현"
   ]
  },
  {
   "cell_type": "code",
   "execution_count": 39,
   "metadata": {
    "ExecuteTime": {
     "end_time": "2021-07-20T15:17:13.156913Z",
     "start_time": "2021-07-20T15:17:13.142898Z"
    }
   },
   "outputs": [],
   "source": [
    "class LinkedListLIFO(object):\n",
    "    def __init__(self):\n",
    "        self.head = None\n",
    "        self.length = 0 \n",
    "        \n",
    "    # 헤드부터 각 노드의 값을 출력한다.\n",
    "    def _printList(self):\n",
    "        node = self.head\n",
    "        while node:\n",
    "            print(node.value, end=\" \")\n",
    "            node = node.pointer\n",
    "        print()\n",
    "        \n",
    "    # 이전 노드(prev)를 기반으로 노드(node)를 삭제한다.\n",
    "    def _delete(self, prev, node):\n",
    "        self.length -= 1\n",
    "        if not prev:\n",
    "            self.head = node.pointer\n",
    "        else:\n",
    "            prev.pointer = node.pointer # prev -value- pointer -node 에서 value를 지우므로서 포인터 연결한다. \n",
    "                                        # 즉 node를 의 value를 지우고 앞뒤의 포인트를 연결한다.\n",
    "            \n",
    "    # 새 노드를 추가한다. 다음 노드로 헤드를 가리키고,\n",
    "    # 헤드는 새 노드를 가리킨다.\n",
    "    \n",
    "    def _add(self, value):\n",
    "        self.length +=1\n",
    "        self.head = Node(value, self.head)\n",
    "        \n",
    "    # 인덱스로 노드를 찾는다.\n",
    "    \n",
    "    def _find(self, index):\n",
    "        prev = None\n",
    "        node = self.head\n",
    "        \n",
    "        i = 0 \n",
    "        while node and i < index:\n",
    "            prev = node\n",
    "            node = node.pointer\n",
    "            i += 1\n",
    "            \n",
    "        return node, prev, i\n",
    "    \n",
    "    # 값으로 노드를 찾는다.\n",
    "    \n",
    "    def _find_by_value(self, value):\n",
    "        prev = None\n",
    "        node = self.head\n",
    "        found = False\n",
    "        while node and not found:\n",
    "            if node.value == value:\n",
    "                found = True\n",
    "            else:\n",
    "                prev = node\n",
    "                node = node.pointer\n",
    "        return node, prev, found\n",
    "    \n",
    "    # 인덱스에 해당하는 노드를 찾아서 삭제한다. \n",
    "    \n",
    "    def deleteNode(self, index):\n",
    "        node, prev, i = self._find(index)\n",
    "        if index == i :\n",
    "            self._delete(prev, node)\n",
    "        else:\n",
    "            print(f\"인덱스 {index}에 해당 노드가 없습니다\")\n",
    "            \n",
    "    # 값에 해당하는 노드를 찾아서 삭제한다.\n",
    "    \n",
    "    def deleteNodeByValue(self,value):\n",
    "        node, prev, found = self._find_by_value(value)\n",
    "        if found:\n",
    "            self._delete(prev, node)\n",
    "            \n",
    "        else:\n",
    "            print(f\"값 {value}에 해당하는 노드가 없습니다.\")\n",
    "            "
   ]
  },
  {
   "cell_type": "code",
   "execution_count": 40,
   "metadata": {
    "ExecuteTime": {
     "end_time": "2021-07-20T15:17:13.171926Z",
     "start_time": "2021-07-20T15:17:13.157912Z"
    }
   },
   "outputs": [
    {
     "name": "stdout",
     "output_type": "stream",
     "text": [
      "연결 리스트 출력:\n",
      "4 3 2 1 \n",
      "인덱스가 2인 노드 삭제 후, 연결 리스트 출력:\n",
      "4 3 1 \n",
      "값이 3인 노드 삭제 후, 연결 리스트 출력:\n",
      "4 1 \n",
      "값이 15인 노드 추가 후, 연결 리스트 출력:\n",
      "15 4 1 \n",
      "모든 노드 모두 삭제 후, 연결 리스트 출력:\n",
      "\n"
     ]
    }
   ],
   "source": [
    "if __name__ == \"__main__\":\n",
    "    ll = LinkedListLIFO()\n",
    "    for i in range(1, 5):\n",
    "        ll._add(i)\n",
    "    print(\"연결 리스트 출력:\")\n",
    "    ll._printList()\n",
    "    print(\"인덱스가 2인 노드 삭제 후, 연결 리스트 출력:\")\n",
    "    ll.deleteNode(2)\n",
    "    ll._printList()\n",
    "    print(\"값이 3인 노드 삭제 후, 연결 리스트 출력:\")\n",
    "    ll.deleteNodeByValue(3)\n",
    "    ll._printList()\n",
    "    print(\"값이 15인 노드 추가 후, 연결 리스트 출력:\")\n",
    "    ll._add(15)\n",
    "    ll._printList()\n",
    "    print(\"모든 노드 모두 삭제 후, 연결 리스트 출력:\")\n",
    "    for i in range(ll.length-1, -1, -1):\n",
    "        ll.deleteNode(i)\n",
    "    ll._printList()"
   ]
  },
  {
   "cell_type": "markdown",
   "metadata": {},
   "source": [
    "FIFO 형식의 연결 리스트 구현"
   ]
  },
  {
   "cell_type": "code",
   "execution_count": 41,
   "metadata": {
    "ExecuteTime": {
     "end_time": "2021-07-20T15:17:13.186939Z",
     "start_time": "2021-07-20T15:17:13.172926Z"
    }
   },
   "outputs": [],
   "source": [
    "class LinkedListFIFO(object):\n",
    "    def __init__(self):\n",
    "        self.head = None # 헤드(머리)\n",
    "        self.length = 0 \n",
    "        self.tail = None # 테일(꼬리)\n",
    "        \n",
    "    # 헤드부터 각 노드의 값을 출력한다. \n",
    "    def _printList(self):\n",
    "        node = self.head\n",
    "        while node:\n",
    "            print(node.value, end=' ')\n",
    "            node = node.pointer\n",
    "            \n",
    "        print()\n",
    "        \n",
    "    # 첫 번째 위치에 노드를 추가한다.     \n",
    "    def _addFirst(self, value):\n",
    "        self.length = 1\n",
    "        node = Node(value)\n",
    "        self.head = node\n",
    "        self.tail = node\n",
    "        \n",
    "        \n",
    "    # 첫 번째 위치의 노드를 삭제한다. \n",
    "    def _deleteFirst(self):\n",
    "        self.length = 0\n",
    "        self.head = None\n",
    "        self.tail = None\n",
    "        print('연결 리스트가 비었습니다. ')\n",
    "        \n",
    "    # 새 노드를 추가한다. 테일이 있다면, 테일의 다음 노드는\n",
    "    # 새 노드를 가리키고, 테일은 새 노드를 가리킨다.\n",
    "    def _add(self, value):\n",
    "        self.length += 1\n",
    "        node = Node(value)\n",
    "        if self.tail:\n",
    "            self.tail.pointer = node\n",
    "            \n",
    "        self.tail = node\n",
    "        \n",
    "    # 새 노드를 추가한다. \n",
    "    def addNode(self, value):\n",
    "        if not self.head:\n",
    "            self._addFirst(value)\n",
    "        else:\n",
    "            self._add(value)\n",
    "            \n",
    "    # 인덱스로 노드를 찾는다.\n",
    "    def _find(self, index):\n",
    "        prev = None\n",
    "        node = self.head\n",
    "        i = 0\n",
    "        while node and i < index:\n",
    "            prev = node\n",
    "            node = node.pointer\n",
    "            i += 1\n",
    "            \n",
    "        return node, prev, i\n",
    "    # 값으로 노드를 찾는다.\n",
    "    def _find_by_value(self, value):\n",
    "        prev = None\n",
    "        node = self.head\n",
    "        found = False\n",
    "        while node and not found:\n",
    "            if node.value == value:\n",
    "                found = True\n",
    "            else:\n",
    "                prev = node\n",
    "                node = node.pointer\n",
    "        return node, prev, found\n",
    "    \n",
    "    # 인덱스에 해당하는 노드를 삭제한다.\n",
    "    def deleteNode(self, index):\n",
    "        if not self.head or not self.head.pointer:\n",
    "            self._deleteFirst()\n",
    "        else:\n",
    "            node, prev, i = self._find(index)\n",
    "            if i == index and node:\n",
    "                self.length -= 1\n",
    "                if i == 0 or not prev:\n",
    "                    self.head = node.pointer\n",
    "                    self.tail = node.pointer\n",
    "                    \n",
    "                else:\n",
    "                    prev.pointer = node.pointer\n",
    "                    \n",
    "            else:\n",
    "                print(\"인덱스 {0}에 해당하는 노드가 없습니다.\".format(index))\n",
    "                \n",
    "    \n",
    "    # 값에 해당하는 노드를 삭제한다.\n",
    "    def deleteNodeByValue(self, value):\n",
    "        if not self.head or not self.head.pointer:\n",
    "            self._deleteFirst()\n",
    "        else:\n",
    "            node, prev, i = self._find_by_value(value)\n",
    "            if node and node.value == value:\n",
    "                self.length -= 1\n",
    "                if i == 0 or not prev :\n",
    "                    self.head = node.pointer\n",
    "                    self.tail = node.pointer\n",
    "                    \n",
    "                else: \n",
    "                    prev.pointer = node.pointer\n",
    "                    \n",
    "            else:\n",
    "                print(\"값 {0}에 해당하는 노드가 없습니다.\".format(value))\n",
    "                \n",
    "                \n",
    "    \n",
    "    "
   ]
  },
  {
   "cell_type": "code",
   "execution_count": 42,
   "metadata": {
    "ExecuteTime": {
     "end_time": "2021-07-20T15:17:13.201952Z",
     "start_time": "2021-07-20T15:17:13.187939Z"
    }
   },
   "outputs": [
    {
     "name": "stdout",
     "output_type": "stream",
     "text": [
      "연결 리스트 출력:\n",
      "1 2 3 4 \n",
      "인덱스가 2인 노드 삭제 후, 연결 리스트 출력:\n",
      "1 2 4 \n",
      "값이 15인 노드 추가 후, 연결 리스트 출력:\n",
      "1 2 4 15 \n",
      "모든 노드 모두 삭제 후, 연결 리스트 출력:\n",
      "1 2 4 \n",
      "1 2 \n",
      "1 \n",
      "연결 리스트가 비었습니다. \n",
      "\n",
      "\n"
     ]
    }
   ],
   "source": [
    "if __name__ == \"__main__\":\n",
    "    ll = LinkedListFIFO()\n",
    "    for i in range(1, 5):\n",
    "        ll.addNode(i)\n",
    "    print(\"연결 리스트 출력:\")\n",
    "    ll._printList()\n",
    "    print(\"인덱스가 2인 노드 삭제 후, 연결 리스트 출력:\")\n",
    "    ll.deleteNode(2)\n",
    "    ll._printList()\n",
    "    print(\"값이 15인 노드 추가 후, 연결 리스트 출력:\")\n",
    "    ll.addNode(15)\n",
    "    ll._printList()\n",
    "    print(\"모든 노드 모두 삭제 후, 연결 리스트 출력:\")\n",
    "    for i in range(ll.length-1, -1, -1):\n",
    "        ll.deleteNode(i)\n",
    "        ll._printList()\n",
    "    ll._printList()"
   ]
  },
  {
   "cell_type": "markdown",
   "metadata": {},
   "source": [
    "* 연결 리스트의 크기는 동적이다. ( array는 정적이다.)<br> 따라서 런타임에 저장할 항목의 수를 알 수 없을 떄 유용하다. \n",
    "\n",
    "* 연결 리스트의 삽입 시간복잡도는 O(1)이다. \n",
    "\n",
    "* 연결 리스트는 순차적으로 항목을 검색하므로, 검색 및 삭제의 시간복잠도는 O(n)이다.  연결 리스트를 뒤로부터 순회하거나 정렬하는 최악의 경우 시간복잡도는 $O(n^2)$이다.\n",
    "\n",
    "* 만약 어떤 노드의 포인터를 알고 있을 때 그 노드를 삭제한다면, 삭제 시간복잡도는 O(1)이 될 수 있다. \n",
    "\n",
    "* 해당 노드의 값에 노드의 값을 할당하고 해당 노드의 포인터는 다음 다음의 노드를 가리키데 하면 되기 때문이다. 이 경우는 다음과 같이 삭제 코드를 작성할 수 있다. "
   ]
  },
  {
   "cell_type": "markdown",
   "metadata": {
    "ExecuteTime": {
     "end_time": "2021-07-19T11:16:15.079461Z",
     "start_time": "2021-07-19T11:16:14.821914Z"
    }
   },
   "source": [
    "```python\n",
    "if node.pointer is not None:\n",
    "    node.value = node.pointer.value\n",
    "    node.pointer = node.pointer.pointer\n",
    "else:\n",
    "    node = None\n",
    "```"
   ]
  },
  {
   "cell_type": "markdown",
   "metadata": {},
   "source": [
    "# 7.6 해시 테이블\n",
    "\n",
    "* 해시 테이블(hash table)은 키key 를 값value에 연결하여, 하나의 카가 0 또는 1개의 값과 연관된다. \n",
    "\n",
    "* 각 키는 해시 함수hash function를 계산할 수 있어야 한다. \n",
    "\n",
    "* 해시 버킷hash bucket의 배열로 구성된다. \n",
    "    - 예를 들어 해시 값이 42이고 5개의 버킷이 있는 경우 나머지 연산mod을 사용하여, 버킷 2(=42 mod 5)에 매핑한다.\n",
    "    \n",
    "* 두 개의 카가 동일한 버킷에 해시될 때, 문제가 발생한다. 이를 해쉬 충돌hash collision이라고 한다. \n",
    "    - 이를 처리하는 한가지 방법은 , 각 버킷에 대해 키-값 쌍의 연결 리스트를 저장하는 것이다. \n",
    "    \n",
    "* 해시 테이블의 조회, 삽입, 삭제의 시간복잡도는 O(1)이다. \n",
    "\n",
    "* 최악의 경우 각 키가 동일한 버킷으로 해쉬된다면(해쉬 충돌이 발생한다면), 각 작업의 시간복잡도는 O(n)이다. "
   ]
  },
  {
   "cell_type": "code",
   "execution_count": 43,
   "metadata": {
    "ExecuteTime": {
     "end_time": "2021-07-20T15:17:13.216967Z",
     "start_time": "2021-07-20T15:17:13.202954Z"
    }
   },
   "outputs": [],
   "source": [
    "class HashTableLL(object):\n",
    "    def __init__(self, size):\n",
    "        self.size = size\n",
    "        self.slots = []\n",
    "        self._createHashTable()\n",
    "        \n",
    "    def _createHashTable(self):\n",
    "        for i in range(self.size):\n",
    "            self.slots.append(LinkedListFIFO())\n",
    "        \n",
    "    def _find(self, item):\n",
    "        return item % self.size\n",
    "    \n",
    "    def _add(self, item):\n",
    "        index = self._find(item)\n",
    "        self.slots[index].addNode(item)\n",
    "        \n",
    "    def _delete(self, item):\n",
    "        index = self._find(item)\n",
    "        self.slots[index].deleteNodeByValue(item)\n",
    "        \n",
    "    def _print(self):\n",
    "        for i in range(self.size):\n",
    "            print(\"슬롯(slot){0}\".format(i))\n",
    "            self.slots[i]._printList()"
   ]
  },
  {
   "cell_type": "code",
   "execution_count": 44,
   "metadata": {
    "ExecuteTime": {
     "end_time": "2021-07-20T15:17:13.231981Z",
     "start_time": "2021-07-20T15:17:13.217966Z"
    }
   },
   "outputs": [
    {
     "name": "stdout",
     "output_type": "stream",
     "text": [
      "슬롯(slot)0\n",
      "0 3 6 9 12 15 18 \n",
      "슬롯(slot)1\n",
      "1 4 7 10 13 16 19 \n",
      "슬롯(slot)2\n",
      "2 5 8 11 14 17 \n"
     ]
    }
   ],
   "source": [
    "H1 = HashTableLL(3)\n",
    "for i in range(0, 20):\n",
    "    H1._add(i)\n",
    "H1._print()"
   ]
  },
  {
   "cell_type": "code",
   "execution_count": 45,
   "metadata": {
    "ExecuteTime": {
     "end_time": "2021-07-20T15:17:13.246994Z",
     "start_time": "2021-07-20T15:17:13.232981Z"
    }
   },
   "outputs": [
    {
     "name": "stdout",
     "output_type": "stream",
     "text": [
      "슬롯(slot)0\n",
      "0 3 6 9 12 15 18 \n",
      "슬롯(slot)1\n",
      "1 4 7 10 13 16 19 \n",
      "슬롯(slot)2\n",
      "2 5 8 11 14 17 20 \n"
     ]
    }
   ],
   "source": [
    "H1._add(20)\n",
    "H1._print()"
   ]
  },
  {
   "cell_type": "code",
   "execution_count": 46,
   "metadata": {
    "ExecuteTime": {
     "end_time": "2021-07-20T15:17:13.262006Z",
     "start_time": "2021-07-20T15:17:13.247996Z"
    }
   },
   "outputs": [
    {
     "name": "stdout",
     "output_type": "stream",
     "text": [
      "슬롯(slot)0\n",
      "3 6 9 12 15 18 \n",
      "슬롯(slot)1\n",
      "1 4 7 10 13 16 19 \n",
      "슬롯(slot)2\n",
      "2 5 8 11 14 17 20 \n"
     ]
    }
   ],
   "source": [
    "H1._delete(0)\n",
    "H1._print()"
   ]
  },
  {
   "cell_type": "code",
   "execution_count": 47,
   "metadata": {
    "ExecuteTime": {
     "end_time": "2021-07-20T15:17:13.277020Z",
     "start_time": "2021-07-20T15:17:13.263009Z"
    }
   },
   "outputs": [
    {
     "name": "stdout",
     "output_type": "stream",
     "text": [
      "슬롯(slot)0\n",
      "3 6 9 12 15 18 \n",
      "슬롯(slot)1\n",
      "1 4 7 10 13 16 19 \n",
      "슬롯(slot)2\n",
      "2 5 8 14 17 20 \n"
     ]
    }
   ],
   "source": [
    "H1._delete(11)\n",
    "H1._print()"
   ]
  },
  {
   "cell_type": "markdown",
   "metadata": {},
   "source": [
    "# 연습문제 "
   ]
  },
  {
   "cell_type": "markdown",
   "metadata": {},
   "source": [
    "## Stack스택 "
   ]
  },
  {
   "cell_type": "markdown",
   "metadata": {},
   "source": [
    "* 스택은 데이터를 역순으로 정렬하거나 검색할 때 사용할 수 있다. 앞에서 구현한 Stack 클래스를 사용하여 문자열을 뒤집어보자."
   ]
  },
  {
   "cell_type": "markdown",
   "metadata": {},
   "source": [
    "###  문자열 반전하기\n"
   ]
  },
  {
   "cell_type": "code",
   "execution_count": 48,
   "metadata": {
    "ExecuteTime": {
     "end_time": "2021-07-20T15:17:13.292035Z",
     "start_time": "2021-07-20T15:17:13.278021Z"
    }
   },
   "outputs": [],
   "source": [
    "def reverse_string_with_stack(str1):\n",
    "    s = Stack()\n",
    "    revStr=''\n",
    "    \n",
    "    for c in str1:\n",
    "        s.push(c)\n",
    "        \n",
    "    while not s.isEmpty():\n",
    "        revStr += s.pop()\n",
    "        \n",
    "    return revStr"
   ]
  },
  {
   "cell_type": "code",
   "execution_count": 49,
   "metadata": {
    "ExecuteTime": {
     "end_time": "2021-07-20T15:17:13.307049Z",
     "start_time": "2021-07-20T15:17:13.293037Z"
    }
   },
   "outputs": [
    {
     "name": "stdout",
     "output_type": "stream",
     "text": [
      "!다있 수할 로므러그 다하강 는나\n"
     ]
    }
   ],
   "source": [
    "str1 = '!다있 수할 로므러그 다하강 는나'\n",
    "print(str1)"
   ]
  },
  {
   "cell_type": "code",
   "execution_count": 50,
   "metadata": {
    "ExecuteTime": {
     "end_time": "2021-07-20T15:17:13.322062Z",
     "start_time": "2021-07-20T15:17:13.308048Z"
    }
   },
   "outputs": [
    {
     "data": {
      "text/plain": [
       "'나는 강하다 그러므로 할수 있다!'"
      ]
     },
     "execution_count": 50,
     "metadata": {},
     "output_type": "execute_result"
    }
   ],
   "source": [
    "reverse_string_with_stack(str1)"
   ]
  },
  {
   "cell_type": "markdown",
   "metadata": {},
   "source": [
    "### 괄호의 짝 확인하기\n",
    "\n",
    "* 스택을 사용하면 괄호의 균형이 맞는지(여는 괄호와 닫는 괄호의 수가 일치하는 지) 쉽게 확인할 수 있다."
   ]
  },
  {
   "cell_type": "code",
   "execution_count": 51,
   "metadata": {
    "ExecuteTime": {
     "end_time": "2021-07-20T15:17:13.337075Z",
     "start_time": "2021-07-20T15:17:13.323063Z"
    }
   },
   "outputs": [],
   "source": [
    "def balance_par_str_with_stack(str1):\n",
    "    s = Stack()\n",
    "    balanced = True\n",
    "    index = 0 \n",
    "    message = '( is more'\n",
    "    \n",
    "    while index < len(str1) and balanced:\n",
    "        symbol = str1[index]\n",
    "        \n",
    "        if symbol == \"(\":\n",
    "            s.push(symbol)\n",
    "            \n",
    "        else:\n",
    "            if s.isEmpty():\n",
    "                balanced = False\n",
    "                message = ') is more'\n",
    "            \n",
    "            else:\n",
    "                s.pop()\n",
    "                \n",
    "        index = index + 1\n",
    "        \n",
    "        \n",
    "    if balanced and s.isEmpty():\n",
    "        \n",
    "        return True\n",
    "    \n",
    "    else:\n",
    "        print(message)\n",
    "        return False"
   ]
  },
  {
   "cell_type": "code",
   "execution_count": 52,
   "metadata": {
    "ExecuteTime": {
     "end_time": "2021-07-20T15:17:13.352090Z",
     "start_time": "2021-07-20T15:17:13.338076Z"
    }
   },
   "outputs": [
    {
     "data": {
      "text/plain": [
       "True"
      ]
     },
     "execution_count": 52,
     "metadata": {},
     "output_type": "execute_result"
    }
   ],
   "source": [
    "balance_par_str_with_stack('((()))')"
   ]
  },
  {
   "cell_type": "code",
   "execution_count": 53,
   "metadata": {
    "ExecuteTime": {
     "end_time": "2021-07-20T15:17:13.367102Z",
     "start_time": "2021-07-20T15:17:13.353089Z"
    }
   },
   "outputs": [
    {
     "name": "stdout",
     "output_type": "stream",
     "text": [
      ") is more\n"
     ]
    },
    {
     "data": {
      "text/plain": [
       "False"
      ]
     },
     "execution_count": 53,
     "metadata": {},
     "output_type": "execute_result"
    }
   ],
   "source": [
    "balance_par_str_with_stack('())')"
   ]
  },
  {
   "cell_type": "code",
   "execution_count": 54,
   "metadata": {
    "ExecuteTime": {
     "end_time": "2021-07-20T15:17:13.382117Z",
     "start_time": "2021-07-20T15:17:13.368103Z"
    }
   },
   "outputs": [
    {
     "name": "stdout",
     "output_type": "stream",
     "text": [
      "( is more\n"
     ]
    },
    {
     "data": {
      "text/plain": [
       "False"
      ]
     },
     "execution_count": 54,
     "metadata": {},
     "output_type": "execute_result"
    }
   ],
   "source": [
    "balance_par_str_with_stack('(')"
   ]
  },
  {
   "cell_type": "markdown",
   "metadata": {},
   "source": [
    "### 10진수를 2진수로 변환하기\n",
    "\n",
    "* 스택을 사용하여 10진수를 2진수로 변환해보자."
   ]
  },
  {
   "cell_type": "code",
   "execution_count": 55,
   "metadata": {
    "ExecuteTime": {
     "end_time": "2021-07-20T15:17:13.397131Z",
     "start_time": "2021-07-20T15:17:13.383118Z"
    }
   },
   "outputs": [],
   "source": [
    "def dec2bin_with_stack(decnum):\n",
    "    s =Stack()\n",
    "    str_aux = \"\"\n",
    "    \n",
    "    while decnum > 0:\n",
    "        decnum , dig = divmod(decnum, 2)\n",
    "        s.push(dig)\n",
    "        \n",
    "    while not s.isEmpty():\n",
    "        str_aux += str(s.pop())\n",
    "        \n",
    "    return str_aux\n",
    "        "
   ]
  },
  {
   "cell_type": "code",
   "execution_count": 56,
   "metadata": {
    "ExecuteTime": {
     "end_time": "2021-07-20T15:17:13.412144Z",
     "start_time": "2021-07-20T15:17:13.398130Z"
    }
   },
   "outputs": [
    {
     "data": {
      "text/plain": [
       "'1001'"
      ]
     },
     "execution_count": 56,
     "metadata": {},
     "output_type": "execute_result"
    }
   ],
   "source": [
    "dec2bin_with_stack(9)"
   ]
  },
  {
   "cell_type": "markdown",
   "metadata": {},
   "source": [
    "### 스택에서 최솟값 O(1)으로 조회하기\n",
    "\n",
    "* 스택에서 최솟값을 조회하려면 어떻게 할까? 모든 요소를 조회할 필요 없이 O(1)으로 조회하는 방법은 없을까? "
   ]
  },
  {
   "cell_type": "code",
   "execution_count": 57,
   "metadata": {
    "ExecuteTime": {
     "end_time": "2021-07-20T15:17:13.427158Z",
     "start_time": "2021-07-20T15:17:13.413146Z"
    }
   },
   "outputs": [],
   "source": [
    "class NodeWithMin(object):\n",
    "    def __init__(self, value=None, minimum=None):\n",
    "        self.value = value\n",
    "        self.minimum = minimum\n",
    "        \n",
    "class StackMin(Stack):\n",
    "    def __init__(self):\n",
    "        self.items = []\n",
    "        self.minimum = None\n",
    "        \n",
    "    def push(self, value):\n",
    "        if self.isEmpty() or self.minimum > value:\n",
    "            self.minimum = value\n",
    "        self.items.append(NodeWithMin(value, self.minimum))\n",
    "        \n",
    "    def peek(self):\n",
    "        return self.items[-1].value\n",
    "    \n",
    "    def peekMinimum(self):\n",
    "        return self.items[-1].minimum\n",
    "    \n",
    "    def pop(self):\n",
    "        item = self.items.pop()\n",
    "        if item:\n",
    "            if item.value == self.minimum:  # pop된 자료가 최소값이라면, \n",
    "                self.minimum = self.peekMinimum() # 최소값 기준을 갱신한다.\n",
    "            return item.value\n",
    "        \n",
    "        else:\n",
    "            print(\"Stack is empty.\")\n",
    "            \n",
    "    def __repr__(self):\n",
    "        aux=[]\n",
    "        for i in self.items:\n",
    "            aux.append(i.value)\n",
    "        return repr(aux)\n",
    "    \n",
    "    "
   ]
  },
  {
   "cell_type": "code",
   "execution_count": 58,
   "metadata": {
    "ExecuteTime": {
     "end_time": "2021-07-20T15:17:13.442172Z",
     "start_time": "2021-07-20T15:17:13.428158Z"
    }
   },
   "outputs": [
    {
     "name": "stdout",
     "output_type": "stream",
     "text": [
      "스택이 비었나요? True\n",
      "스택에 숫자 10~1과 1~4를 추가합니다.\n",
      "[10, 9, 8, 7, 6, 5, 4, 3, 2, 1, 1, 2, 3, 4]\n",
      "스택 크기: 14\n",
      "peek: 4\n",
      "peekMinimum: 1\n",
      "pop: 4\n",
      "peek: 3\n",
      "peekMinimum: 1\n",
      "스택이 비었나요? False\n",
      "[10, 9, 8, 7, 6, 5, 4, 3, 2, 1, 1, 2, 3]\n"
     ]
    }
   ],
   "source": [
    "    stack = StackMin()\n",
    "    print(\"스택이 비었나요? {0}\".format(stack.isEmpty()))\n",
    "    print(\"스택에 숫자 10~1과 1~4를 추가합니다.\")\n",
    "    for i in range(10, 0, -1):\n",
    "        stack.push(i)\n",
    "    for i in range(1, 5):\n",
    "        stack.push(i)\n",
    "    print(stack)\n",
    "\n",
    "    print(\"스택 크기: {0}\".format(stack.size()))\n",
    "    print(\"peek: {0}\".format(stack.peek()))\n",
    "    print(\"peekMinimum: {0}\".format(stack.peekMinimum()))\n",
    "    print(\"pop: {0}\".format(stack.pop()))\n",
    "    print(\"peek: {0}\".format(stack.peek()))\n",
    "    print(\"peekMinimum: {0}\".format(stack.peekMinimum()))\n",
    "    print(\"스택이 비었나요? {0}\".format(stack.isEmpty()))\n",
    "    print(stack)"
   ]
  },
  {
   "cell_type": "markdown",
   "metadata": {},
   "source": [
    "### 스택 집합\n",
    "\n",
    "* 스택에 '용량'이 정해져 있다고 하자. 한 스택의 용량이 초과하면, 새 스택을 만들어야 한다. 이 경우 여러 스택이 있게 될 텐데 이 스택 집합에서도 단일 스택과 같이 push()와 pop() 메서드를 사용하려면 어떻게 해야 할까?"
   ]
  },
  {
   "cell_type": "code",
   "execution_count": 72,
   "metadata": {
    "ExecuteTime": {
     "end_time": "2021-07-20T15:35:00.286457Z",
     "start_time": "2021-07-20T15:35:00.268449Z"
    }
   },
   "outputs": [],
   "source": [
    "class SetOfStacks(Stack):\n",
    "    def __init__(self, capacity=4):\n",
    "        self.setofstacks = []\n",
    "        self.items = []\n",
    "        self.capacity = capacity\n",
    "        \n",
    "    def push(self, value):\n",
    "        if self.size() >= self.capacity: # items 의 갯수가 capa보다 클때\n",
    "            self.setofstacks.append(self.items)# items을 비우고 setofStacks에 \n",
    "            self.items = [] # 담는다.\n",
    "        self.items.append(value)\n",
    "    \n",
    "    def pop(self):\n",
    "        value = self.items.pop()\n",
    "        if self.isEmpty() and self.setofstacks:\n",
    "            self.items = self.setofstacks.pop() # items가 비였다면 가져온다.\n",
    "\n",
    "        return value\n",
    "    \n",
    "    def sizeStack(self):\n",
    "        return len(self.setofstacks) * self.capacity + self.size()\n",
    "    \n",
    "    def __repr__(self):\n",
    "        aux = []\n",
    "        for s in self.setofstacks:\n",
    "            aux.extend(s)\n",
    "            \n",
    "        aux.extend(self.items)\n",
    "        return repr(aux)\n",
    "    \n",
    "    "
   ]
  },
  {
   "cell_type": "code",
   "execution_count": 73,
   "metadata": {
    "ExecuteTime": {
     "end_time": "2021-07-20T15:35:00.496947Z",
     "start_time": "2021-07-20T15:35:00.479420Z"
    }
   },
   "outputs": [
    {
     "name": "stdout",
     "output_type": "stream",
     "text": [
      "스택이 비었나요? True\n",
      "스택에 숫자 0~9를 추가합니다.\n",
      "[0, 1, 2, 3, 4, 5, 6, 7, 8, 9]\n",
      "스택 크기: 10\n",
      "peek: 9\n",
      "pop: 9\n",
      "peek: 8\n",
      "스택이 비었나요? False\n",
      "[0, 1, 2, 3, 4, 5, 6, 7, 8]\n"
     ]
    }
   ],
   "source": [
    "    capacity = 5\n",
    "    stack = SetOfStacks(capacity)\n",
    "    print(\"스택이 비었나요? {0}\".format(stack.isEmpty()))\n",
    "    print(\"스택에 숫자 0~9를 추가합니다.\")\n",
    "    for i in range(10):\n",
    "        stack.push(i)\n",
    "    print(stack)\n",
    "    print(\"스택 크기: {0}\".format(stack.sizeStack()))\n",
    "    print(\"peek: {0}\".format(stack.peek()))\n",
    "    print(\"pop: {0}\".format(stack.pop()))\n",
    "    print(\"peek: {0}\".format(stack.peek()))\n",
    "    print(\"스택이 비었나요? {0}\".format(stack.isEmpty()))\n",
    "    print(stack)"
   ]
  },
  {
   "cell_type": "markdown",
   "metadata": {},
   "source": [
    "## Queue 큐 "
   ]
  },
  {
   "cell_type": "code",
   "execution_count": null,
   "metadata": {},
   "outputs": [],
   "source": []
  },
  {
   "cell_type": "code",
   "execution_count": null,
   "metadata": {},
   "outputs": [],
   "source": []
  },
  {
   "cell_type": "code",
   "execution_count": null,
   "metadata": {},
   "outputs": [],
   "source": []
  },
  {
   "cell_type": "code",
   "execution_count": null,
   "metadata": {},
   "outputs": [],
   "source": []
  },
  {
   "cell_type": "code",
   "execution_count": null,
   "metadata": {},
   "outputs": [],
   "source": []
  },
  {
   "cell_type": "code",
   "execution_count": null,
   "metadata": {},
   "outputs": [],
   "source": []
  },
  {
   "cell_type": "code",
   "execution_count": null,
   "metadata": {},
   "outputs": [],
   "source": []
  },
  {
   "cell_type": "code",
   "execution_count": null,
   "metadata": {},
   "outputs": [],
   "source": []
  },
  {
   "cell_type": "code",
   "execution_count": null,
   "metadata": {},
   "outputs": [],
   "source": []
  },
  {
   "cell_type": "code",
   "execution_count": null,
   "metadata": {},
   "outputs": [],
   "source": []
  },
  {
   "cell_type": "code",
   "execution_count": null,
   "metadata": {},
   "outputs": [],
   "source": []
  },
  {
   "cell_type": "code",
   "execution_count": null,
   "metadata": {},
   "outputs": [],
   "source": []
  },
  {
   "cell_type": "code",
   "execution_count": null,
   "metadata": {},
   "outputs": [],
   "source": [
    "/Everyday_Algo_Exercise/"
   ]
  },
  {
   "cell_type": "markdown",
   "metadata": {},
   "source": [
    "**Reference**\n",
    "\n",
    "* <a href='https://github.com/SeWonKwon' ><div> <img src ='https://slid-capture.s3.ap-northeast-2.amazonaws.com/public/image_upload/6556674324ed41a289a354258718280d/964e5a8b-75ad-41fc-ae75-0ca66d06fbc7.png' align='left' /> </div></a>\n",
    "\n",
    "<br>\n",
    "\n",
    "* [파이썬 자료구조와 알고리즘, 미아 스타인](https://github.com/AstinCHOI/Python-and-Algorithms-and-Data-Structures)\n",
    "\n",
    "* https://daimhada.tistory.com/107"
   ]
  }
 ],
 "metadata": {
  "kernelspec": {
   "display_name": "Python 3",
   "language": "python",
   "name": "python3"
  },
  "language_info": {
   "codemirror_mode": {
    "name": "ipython",
    "version": 3
   },
   "file_extension": ".py",
   "mimetype": "text/x-python",
   "name": "python",
   "nbconvert_exporter": "python",
   "pygments_lexer": "ipython3",
   "version": "3.8.5"
  },
  "toc": {
   "base_numbering": 1,
   "nav_menu": {},
   "number_sections": true,
   "sideBar": true,
   "skip_h1_title": false,
   "title_cell": "Table of Contents",
   "title_sidebar": "Contents",
   "toc_cell": false,
   "toc_position": {
    "height": "calc(100% - 180px)",
    "left": "10px",
    "top": "150px",
    "width": "165px"
   },
   "toc_section_display": true,
   "toc_window_display": true
  }
 },
 "nbformat": 4,
 "nbformat_minor": 4
}
