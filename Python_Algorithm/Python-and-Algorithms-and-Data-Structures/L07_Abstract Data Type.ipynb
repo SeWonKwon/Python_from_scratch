{
 "cells": [
  {
   "cell_type": "markdown",
   "metadata": {},
   "source": [
    "<a href='https://github.com/SeWonKwon' ><div> <img src ='https://slid-capture.s3.ap-northeast-2.amazonaws.com/public/image_upload/6556674324ed41a289a354258718280d/964e5a8b-75ad-41fc-ae75-0ca66d06fbc7.png' align='left' /> </div></a>\n"
   ]
  },
  {
   "cell_type": "markdown",
   "metadata": {},
   "source": [
    "###### **Ch.07 추상 데이터 타입 (Abstract data type)**"
   ]
  },
  {
   "cell_type": "markdown",
   "metadata": {},
   "source": [
    "# 7.1 스택Stack "
   ]
  },
  {
   "cell_type": "markdown",
   "metadata": {},
   "source": [
    "* 배열의 끝에서만 데이터에 접근할 수 있는 선형 자료구조이다.\n",
    "* 후입선출(<abbr title='Last in, first out'>LIFO</abbr>)\n",
    "* 시간복잡도 O(1)"
   ]
  },
  {
   "cell_type": "markdown",
   "metadata": {},
   "source": [
    "|코드|설명|\n",
    "|:--|:--|\n",
    "|push | 스택 맨 끝(맨 위)에 항목을 삽입한다. |\n",
    "| pop | 스택 맨 끝 항목을 반환하는 동시에 제거한다.|\n",
    "| top/peek | 스택 맨 끝 항목을 조회한다. |\n",
    "| empty| 스택이 비어 있는지 확인한다.|\n",
    "|size | 스택 크기를 확인한다. |"
   ]
  },
  {
   "cell_type": "markdown",
   "metadata": {},
   "source": [
    "<img src='https://media.vlpt.us/images/tiiranocode/post/0c3b8a68-f29c-4836-91ff-2f0ef25dc704/stack.png' width='500' /> https://velog.io/@tiiranocode/%EC%9E%90%EB%A3%8C-%EA%B5%AC%EC%A1%B0-%EC%8A%A4%ED%83%9Dstack-%ED%81%90queue"
   ]
  },
  {
   "cell_type": "markdown",
   "metadata": {},
   "source": [
    "## Stack 구현"
   ]
  },
  {
   "cell_type": "code",
   "execution_count": 1,
   "metadata": {
    "ExecuteTime": {
     "end_time": "2021-07-22T08:12:25.532974Z",
     "start_time": "2021-07-22T08:12:25.517973Z"
    }
   },
   "outputs": [],
   "source": [
    "class Stack(object):\n",
    "    def __init__(self):\n",
    "        self.items = []\n",
    "        \n",
    "    def isEmpty(self):\n",
    "        return not bool(self.items) # bool(list type) 리스트가 비어 있으면, False return\n",
    "    \n",
    "    def push(self, value):\n",
    "        self.items.append(value)\n",
    "        \n",
    "    def pop(self):\n",
    "        value = self.items.pop()\n",
    "        if value is not None:\n",
    "            return value\n",
    "        else:\n",
    "            print(\"Stack is empty\")\n",
    "            \n",
    "    def size(self):\n",
    "        return len(self.items)\n",
    "    \n",
    "    def peek(self):\n",
    "        if self.items:\n",
    "            return self.items[-1]\n",
    "        else:\n",
    "            return (\"Stack is empty\")\n",
    "        \n",
    "    def __repr__(self):\n",
    "        return repr(self.items)"
   ]
  },
  {
   "cell_type": "code",
   "execution_count": 2,
   "metadata": {
    "ExecuteTime": {
     "end_time": "2021-07-22T08:12:25.548996Z",
     "start_time": "2021-07-22T08:12:25.534975Z"
    },
    "scrolled": true
   },
   "outputs": [
    {
     "name": "stdout",
     "output_type": "stream",
     "text": [
      "스택이 비었나요? True\n",
      "스택에 숫자 0~9를 추가합니다.\n",
      "스택 크기: 10\n",
      "peek: 9\n",
      "pop: 9\n",
      "peek: 8\n",
      "스택이 비었나요? False\n",
      "[0, 1, 2, 3, 4, 5, 6, 7, 8]\n"
     ]
    }
   ],
   "source": [
    "if __name__ == \"__main__\":\n",
    "    stack = Stack()\n",
    "    print(\"스택이 비었나요? {0}\".format(stack.isEmpty()))\n",
    "    print(\"스택에 숫자 0~9를 추가합니다.\")\n",
    "    for i in range(10):\n",
    "        stack.push(i)\n",
    "    print(\"스택 크기: {0}\".format(stack.size()))\n",
    "    print(\"peek: {0}\".format(stack.peek()))\n",
    "    print(\"pop: {0}\".format(stack.pop()))\n",
    "    print(\"peek: {0}\".format(stack.peek()))\n",
    "    print(\"스택이 비었나요? {0}\".format(stack.isEmpty()))\n",
    "    print(stack)"
   ]
  },
  {
   "cell_type": "markdown",
   "metadata": {},
   "source": [
    "# 7.2 큐queue"
   ]
  },
  {
   "cell_type": "markdown",
   "metadata": {},
   "source": [
    "* 배열의 앞부분만 인덱스 접근이 제한된다.\n",
    "* 선입선출(<abbr title='First in, first out'>FIFO</abbr>)\n",
    "* 시간복잡도: O(1)"
   ]
  },
  {
   "cell_type": "markdown",
   "metadata": {},
   "source": [
    "|코드|설명|\n",
    "|:-|:-|\n",
    "|enqueue|큐 뒤쪽에 항목을 삽입한다.|\n",
    "|dequeue|큐 앞쪽의 항목을 반환하고, 제거한다.|\n",
    "|peek/front |큐 앞쪽의 항목을 조회한다.|\n",
    "|empty|큐가 비어 있는지 확인한다.|\n",
    "|size|큐의 크기를 확인한다.|\n"
   ]
  },
  {
   "cell_type": "markdown",
   "metadata": {},
   "source": [
    "<img src='https://media.vlpt.us/images/tiiranocode/post/93d6b6c5-5861-4077-a7df-12a9fae18fb7/queue.png' width='700' />https://velog.io/@tiiranocode/%EC%9E%90%EB%A3%8C-%EA%B5%AC%EC%A1%B0-%EC%8A%A4%ED%83%9Dstack-%ED%81%90queue"
   ]
  },
  {
   "cell_type": "markdown",
   "metadata": {},
   "source": [
    "## Queue 구현: /w  a Stack\n",
    "\n",
    "- list를 이용해서 삽입시에는 index 0 에 insert, 반환시에는 마지막 index에서 pop\n",
    "\n",
    "- 리스트의 insert()메서드를 사용했기 때문에, 이는 모든 요소가 메모리에서 이동될 수 있으므로 비효율적이다. (O(n))"
   ]
  },
  {
   "cell_type": "code",
   "execution_count": 3,
   "metadata": {
    "ExecuteTime": {
     "end_time": "2021-07-22T08:12:25.563988Z",
     "start_time": "2021-07-22T08:12:25.550981Z"
    }
   },
   "outputs": [],
   "source": [
    "class Queue(object):\n",
    "    def __init__(self):\n",
    "        self.items = []\n",
    "    \n",
    "    def isEmpty(self):\n",
    "        return not bool(self.items)\n",
    "    \n",
    "    def enqueue(self, item):\n",
    "        self.items.insert(0, item)\n",
    "        \n",
    "    def dequeue(self):\n",
    "        value = self.items.pop()\n",
    "        if value is not None:\n",
    "            return value\n",
    "        else:\n",
    "            print(\"Queue is empty\")\n",
    "            \n",
    "    def size(self):\n",
    "        return len(self.items)\n",
    "    \n",
    "    def peek(self):\n",
    "        if self.items:\n",
    "            return self.items[-1]\n",
    "        else:\n",
    "            print(\"Queue is empty.\")\n",
    "    \n",
    "    def __repr__(self):\n",
    "        return repr(self.items)\n",
    "    "
   ]
  },
  {
   "cell_type": "code",
   "execution_count": 4,
   "metadata": {
    "ExecuteTime": {
     "end_time": "2021-07-22T08:12:25.578991Z",
     "start_time": "2021-07-22T08:12:25.565983Z"
    }
   },
   "outputs": [
    {
     "name": "stdout",
     "output_type": "stream",
     "text": [
      "스택이 비었나요? True\n",
      "스택에 숫자 0~9를 추가합니다.\n",
      "스택 크기: 10\n",
      "peek: 0\n",
      "dequeue: 0\n",
      "peek: 1\n",
      "스택이 비었나요? False\n",
      "[9, 8, 7, 6, 5, 4, 3, 2, 1]\n"
     ]
    }
   ],
   "source": [
    "if __name__ == \"__main__\":\n",
    "    queue = Queue()\n",
    "    print(\"스택이 비었나요? {0}\".format(queue.isEmpty()))\n",
    "    print(\"스택에 숫자 0~9를 추가합니다.\")\n",
    "    for i in range(10):\n",
    "        queue.enqueue(i)\n",
    "    print(\"스택 크기: {0}\".format(queue.size()))\n",
    "    print(\"peek: {0}\".format(queue.peek()))\n",
    "    print(\"dequeue: {0}\".format(queue.dequeue()))\n",
    "    print(\"peek: {0}\".format(queue.peek()))\n",
    "    print(\"스택이 비었나요? {0}\".format(queue.isEmpty()))\n",
    "    print(queue)"
   ]
  },
  {
   "cell_type": "markdown",
   "metadata": {},
   "source": [
    "## Queue구현 /w 2 Stacks\n",
    "- 2개의 리스트(스택)을 사용하면 효율적인 큐를 다음과 같이 작성할 수 있다.\n",
    "\n",
    "\n",
    "- in_stack과 out_stack을 이용해서 out_stack이 비었을때만 순서를 뒤집어서 시간을 아낄수 있다.\n",
    "\n",
    "\n",
    " "
   ]
  },
  {
   "cell_type": "code",
   "execution_count": 5,
   "metadata": {
    "ExecuteTime": {
     "end_time": "2021-07-22T08:12:25.593988Z",
     "start_time": "2021-07-22T08:12:25.580987Z"
    }
   },
   "outputs": [],
   "source": [
    "class Queue2(object):\n",
    "    def __init__(self):\n",
    "        self.in_stack = []\n",
    "        self.out_stack = []\n",
    "        \n",
    "    def _transfer(self):\n",
    "        while self.in_stack:\n",
    "            self.out_stack.append(self.in_stack.pop())\n",
    "            \n",
    "    def enqueue(self,item):\n",
    "        return self.in_stack.append(item)\n",
    "    \n",
    "    def dequeue(self):\n",
    "        if not self.out_stack:\n",
    "            self._transfer()\n",
    "        if self.out_stack:\n",
    "            return self.out_stack.pop()\n",
    "        \n",
    "        else:\n",
    "            print(\"Queue is empty\")\n",
    "            \n",
    "    def size(self):\n",
    "        return len(self.in_stack) + len(self.in_stack)\n",
    "    \n",
    "    def peek(self):\n",
    "        if not self.out_stack:\n",
    "            self._transfer()\n",
    "        \n",
    "        if self.out_stack:\n",
    "            return self.out_stack[-1]\n",
    "        \n",
    "        else:\n",
    "            print(\"Queue is empty!\")\n",
    "            \n",
    "    def __repr__(self):\n",
    "        if not self.out_stack:\n",
    "            self._transfer()\n",
    "            \n",
    "        if self.out_stack:\n",
    "            return repr(self.out_stack)\n",
    "        \n",
    "        else:\n",
    "            print(\"Queue is empty\")\n",
    "    \n",
    "    def isEmpty(self):\n",
    "        return not ((bool(self.in_stack)) or (bool(self.out_stack)))"
   ]
  },
  {
   "cell_type": "code",
   "execution_count": 6,
   "metadata": {
    "ExecuteTime": {
     "end_time": "2021-07-22T08:12:25.608994Z",
     "start_time": "2021-07-22T08:12:25.595989Z"
    }
   },
   "outputs": [
    {
     "name": "stdout",
     "output_type": "stream",
     "text": [
      "스택이 비었나요? True\n",
      "스택에 숫자 0~9를 추가합니다.\n",
      "스택 크기: 20\n",
      "peek: 0\n",
      "dequeue: 0\n",
      "peek: 1\n",
      "스택이 비었나요? False\n",
      "[9, 8, 7, 6, 5, 4, 3, 2, 1]\n"
     ]
    }
   ],
   "source": [
    "if __name__ == \"__main__\":\n",
    "    queue = Queue2()\n",
    "    print(\"스택이 비었나요? {0}\".format(queue.isEmpty()))\n",
    "    print(\"스택에 숫자 0~9를 추가합니다.\")\n",
    "    for i in range(10):\n",
    "        queue.enqueue(i)\n",
    "    print(\"스택 크기: {0}\".format(queue.size()))\n",
    "    print(\"peek: {0}\".format(queue.peek()))\n",
    "    print(\"dequeue: {0}\".format(queue.dequeue()))\n",
    "    print(\"peek: {0}\".format(queue.peek()))\n",
    "    print(\"스택이 비었나요? {0}\".format(queue.isEmpty()))\n",
    "    print(queue)"
   ]
  },
  {
   "cell_type": "markdown",
   "metadata": {},
   "source": [
    "## Queue 구현 /w Node(Object)\n",
    "\n",
    "- 노드(객체)의 컨테이너로 구현   \n",
    "<br>\n",
    "\n",
    "- 기존에 구현해둔 Queue /w 2 stack에 tail을 추가하여 맨 마지막 원소를 기억함으로써 <br> 원소를 추가하는데 쉽게 만들 수 있습니다. \n",
    "<br>\n",
    "\n",
    "- 또한 Linked list로 Queue를 구현함으로써 리스트로 Queue를 구현하였을 때<br> 삭제하고 난 이후의 모든 원소들을 이동시켜야 했던 한계점을 극복할 수 있습니다.\n"
   ]
  },
  {
   "cell_type": "code",
   "execution_count": 7,
   "metadata": {
    "ExecuteTime": {
     "end_time": "2021-07-22T08:12:25.625001Z",
     "start_time": "2021-07-22T08:12:25.610992Z"
    }
   },
   "outputs": [],
   "source": [
    "class Node(object):\n",
    "    def __init__(self, value=None, pointer=None):\n",
    "        self.value = value\n",
    "        self.pointer = None\n",
    "        \n",
    "    \n",
    "        \n",
    "class LinkedQueue(object):\n",
    "    def __init__(self):\n",
    "        self.head = None\n",
    "        self.tail = None\n",
    "        self.count = 0\n",
    "        \n",
    "    def isEmpty(self):\n",
    "        return not bool(self.head)\n",
    "    \n",
    "    def dequeue(self):\n",
    "        if self.head:\n",
    "            value = self.head.value\n",
    "            self.head = self.head.pointer\n",
    "            self.count -= 1\n",
    "            return value\n",
    "        else:\n",
    "            print(\"Queue is empty\")\n",
    "            \n",
    "    def enqueue(self, value):\n",
    "        node = Node(value)\n",
    "        if not self.head:\n",
    "            self.head = node\n",
    "            self.tail = node  # head와 tail은 같은 node 변수로 부터 받아 오기 때문에, 한쪽이 바뀌면 같이 변한다.\n",
    "        else:\n",
    "            if self.tail:\n",
    "                self.tail.pointer = node # tail의 pointer를 바꾸다는 의미는 head의 포인터를 바꾼다는 의미와 같다.\n",
    "            self.tail = node # 이제 새로 추가된 태일이 head의 마지막 포인트와 연결된다. \n",
    "            \n",
    "        self.count +=1\n",
    "        \n",
    "    def size(self):\n",
    "        return self.count\n",
    "    \n",
    "    def peek(self):\n",
    "        return self.head.value\n",
    "    \n",
    "    def print(self):\n",
    "        node = self.head\n",
    "        while node:\n",
    "            print(node.value, end=\" \")\n",
    "            node = node.pointer\n",
    "            \n",
    "        print()"
   ]
  },
  {
   "cell_type": "markdown",
   "metadata": {},
   "source": [
    "```python\n",
    "self.head = node\n",
    "self.tail = node\n",
    "```\n",
    "* 에서 같은 매모리 주소를 할당 받기 때문에 한쪽이 영향을 받으면 , 다른쪽도 영향을 받는다. "
   ]
  },
  {
   "cell_type": "code",
   "execution_count": 8,
   "metadata": {
    "ExecuteTime": {
     "end_time": "2021-07-22T08:12:25.640998Z",
     "start_time": "2021-07-22T08:12:25.627999Z"
    },
    "scrolled": true
   },
   "outputs": [
    {
     "name": "stdout",
     "output_type": "stream",
     "text": [
      "스택이 비었나요? True\n",
      "스택에 숫자 0~9를 추가합니다.\n",
      "스택 크기: 10\n",
      "peek: 0\n",
      "dequeue: 0\n",
      "peek: 1\n",
      "스택이 비었나요? False\n",
      "1 2 3 4 5 6 7 8 9 \n"
     ]
    }
   ],
   "source": [
    "if __name__ == \"__main__\":\n",
    "    queue = LinkedQueue()\n",
    "    print(\"스택이 비었나요? {0}\".format(queue.isEmpty()))\n",
    "    print(\"스택에 숫자 0~9를 추가합니다.\")\n",
    "    for i in range(10):\n",
    "        queue.enqueue(i)\n",
    "    print(\"스택 크기: {0}\".format(queue.size()))\n",
    "    print(\"peek: {0}\".format(queue.peek()))\n",
    "    print(\"dequeue: {0}\".format(queue.dequeue()))\n",
    "    print(\"peek: {0}\".format(queue.peek()))\n",
    "    print(\"스택이 비었나요? {0}\".format(queue.isEmpty()))\n",
    "    queue.print()"
   ]
  },
  {
   "cell_type": "markdown",
   "metadata": {},
   "source": [
    "# 7.3 데크dequeue\n",
    "\n",
    "* 스택과 큐의 결합체 \n",
    "    - deque(데크)는 double-ended queue의 줄임말로, 앞과 뒤 양방향에서 데이터를 처리할 수 있는 자료구조를 의미합니다.    \n",
    "\n",
    "\n",
    "* 양쪽 끝에서 항목의 조회, 삽입, 삭제가 가능하다. "
   ]
  },
  {
   "cell_type": "markdown",
   "metadata": {},
   "source": [
    "## dequeue 구현"
   ]
  },
  {
   "cell_type": "code",
   "execution_count": 9,
   "metadata": {
    "ExecuteTime": {
     "end_time": "2021-07-22T08:12:25.657002Z",
     "start_time": "2021-07-22T08:12:25.642999Z"
    }
   },
   "outputs": [],
   "source": [
    "class Deque(Queue): # 2.1에서 구현한 Queue를 상속받는다.\n",
    "    def enqueue_back(self, item):\n",
    "        self.items.append(item)\n",
    "        \n",
    "    def dequeue_front(self):\n",
    "        value = self.items.pop(0)\n",
    "        if value is not None:\n",
    "            return value\n",
    "        \n",
    "        else: print(\"Deque is empty.\")"
   ]
  },
  {
   "cell_type": "code",
   "execution_count": 10,
   "metadata": {
    "ExecuteTime": {
     "end_time": "2021-07-22T08:12:25.673005Z",
     "start_time": "2021-07-22T08:12:25.659003Z"
    }
   },
   "outputs": [
    {
     "name": "stdout",
     "output_type": "stream",
     "text": [
      "데크(Deque)가 비었나요? True\n",
      "데크에 숫자 0~9를 추가합니다.\n",
      "데크 크기: 10\n",
      "peek: 0\n",
      "dequeue: 0\n",
      "peek: 1\n",
      "데크가 비었나요? False\n",
      "\n",
      "데크: [9, 8, 7, 6, 5, 4, 3, 2, 1]\n",
      "dequeue: 9\n",
      "peek: 1\n",
      "데크: [8, 7, 6, 5, 4, 3, 2, 1]\n",
      "enqueue_back(50)을 수행합니다.\n",
      "peek: 50\n",
      "데크: [8, 7, 6, 5, 4, 3, 2, 1, 50]\n"
     ]
    }
   ],
   "source": [
    "if __name__ == \"__main__\":\n",
    "    deque = Deque()\n",
    "    print(\"데크(Deque)가 비었나요? {0}\".format(deque.isEmpty()))\n",
    "    print(\"데크에 숫자 0~9를 추가합니다.\")\n",
    "    for i in range(10):\n",
    "        deque.enqueue(i)\n",
    "    print(\"데크 크기: {0}\".format(deque.size()))\n",
    "    print(\"peek: {0}\".format(deque.peek()))\n",
    "    print(\"dequeue: {0}\".format(deque.dequeue()))\n",
    "    print(\"peek: {0}\".format(deque.peek()))\n",
    "    print(\"데크가 비었나요? {0}\".format(deque.isEmpty()))\n",
    "    print()\n",
    "    print(\"데크: {0}\".format(deque))\n",
    "    print(\"dequeue: {0}\".format(deque.dequeue_front()))\n",
    "    print(\"peek: {0}\".format(deque.peek()))\n",
    "    print(\"데크: {0}\".format(deque))\n",
    "    print(\"enqueue_back(50)을 수행합니다.\")\n",
    "    deque.enqueue_back(50)\n",
    "    print(\"peek: {0}\".format(deque.peek()))\n",
    "    print(\"데크: {0}\".format(deque))"
   ]
  },
  {
   "cell_type": "markdown",
   "metadata": {},
   "source": [
    "위의 코드는 insert()메서드를 사용하기 때문에 비효율적이다. 아래의 collections 패키지의 deque모듈을 사용하면 이 문제가 해결된다."
   ]
  },
  {
   "cell_type": "markdown",
   "metadata": {},
   "source": [
    "##  dqueue 구현 /w collection\n",
    "\n",
    "Python의 list와 유사하지만 Collection.deque의 시간복잡도를 확인해보면 앞뒤에서 데이터를 처리하는 속도가 O(1)로 매우 빠른 것을 알수 있습니다.   \n",
    "\n",
    "이는 내부적으로 doubly 링크드 리스트로 구현되어 있기 때문입니다.\n",
    "\n",
    "* 실제로 알고리즘 테스트에서 가장 유용하게 쓰이는 모듈이다. \n"
   ]
  },
  {
   "cell_type": "code",
   "execution_count": 11,
   "metadata": {
    "ExecuteTime": {
     "end_time": "2021-07-22T08:12:25.689010Z",
     "start_time": "2021-07-22T08:12:25.675008Z"
    }
   },
   "outputs": [
    {
     "data": {
      "text/plain": [
       "deque(['버피', '잰더', '윌로'])"
      ]
     },
     "execution_count": 11,
     "metadata": {},
     "output_type": "execute_result"
    }
   ],
   "source": [
    "from collections import deque\n",
    "q = deque([\"버피\", \"잰더\", \"윌로\"])\n",
    "q"
   ]
  },
  {
   "cell_type": "code",
   "execution_count": 12,
   "metadata": {
    "ExecuteTime": {
     "end_time": "2021-07-22T08:12:25.705013Z",
     "start_time": "2021-07-22T08:12:25.691012Z"
    }
   },
   "outputs": [
    {
     "data": {
      "text/plain": [
       "deque(['버피', '잰더', '윌로', '자일스'])"
      ]
     },
     "execution_count": 12,
     "metadata": {},
     "output_type": "execute_result"
    }
   ],
   "source": [
    "q.append('자일스')\n",
    "q"
   ]
  },
  {
   "cell_type": "code",
   "execution_count": 13,
   "metadata": {
    "ExecuteTime": {
     "end_time": "2021-07-22T08:12:25.721016Z",
     "start_time": "2021-07-22T08:12:25.706014Z"
    }
   },
   "outputs": [
    {
     "data": {
      "text/plain": [
       "deque(['잰더', '윌로', '자일스'])"
      ]
     },
     "execution_count": 13,
     "metadata": {},
     "output_type": "execute_result"
    }
   ],
   "source": [
    "q.popleft()\n",
    "q"
   ]
  },
  {
   "cell_type": "code",
   "execution_count": 14,
   "metadata": {
    "ExecuteTime": {
     "end_time": "2021-07-22T08:12:25.737020Z",
     "start_time": "2021-07-22T08:12:25.723018Z"
    }
   },
   "outputs": [
    {
     "data": {
      "text/plain": [
       "deque(['잰더', '윌로'])"
      ]
     },
     "execution_count": 14,
     "metadata": {},
     "output_type": "execute_result"
    }
   ],
   "source": [
    "q.pop()\n",
    "q"
   ]
  },
  {
   "cell_type": "code",
   "execution_count": 15,
   "metadata": {
    "ExecuteTime": {
     "end_time": "2021-07-22T08:12:25.753030Z",
     "start_time": "2021-07-22T08:12:25.739021Z"
    }
   },
   "outputs": [
    {
     "data": {
      "text/plain": [
       "deque(['엔젤', '잰더', '윌로'])"
      ]
     },
     "execution_count": 15,
     "metadata": {},
     "output_type": "execute_result"
    }
   ],
   "source": [
    "q.appendleft('엔젤')\n",
    "q"
   ]
  },
  {
   "cell_type": "markdown",
   "metadata": {},
   "source": [
    "deque 모듈을 사용하면 `q = deque(maxlen=4) 같은 식으로 데크의 크기를 지정할 수 있다. 또한 흥미롭게도 rotate(n) 메서드는 n이 양수이면 오른쪽으로, n이 음수이면왼쪽으로 n 만큼 시프트 시킨다. "
   ]
  },
  {
   "cell_type": "code",
   "execution_count": 16,
   "metadata": {
    "ExecuteTime": {
     "end_time": "2021-07-22T08:12:25.769027Z",
     "start_time": "2021-07-22T08:12:25.755032Z"
    }
   },
   "outputs": [
    {
     "data": {
      "text/plain": [
       "deque(['윌로', '엔젤', '잰더'])"
      ]
     },
     "execution_count": 16,
     "metadata": {},
     "output_type": "execute_result"
    }
   ],
   "source": [
    "q.rotate(1)\n",
    "q"
   ]
  },
  {
   "cell_type": "code",
   "execution_count": 17,
   "metadata": {
    "ExecuteTime": {
     "end_time": "2021-07-22T08:12:25.785037Z",
     "start_time": "2021-07-22T08:12:25.772035Z"
    }
   },
   "outputs": [
    {
     "data": {
      "text/plain": [
       "deque(['엔젤', '잰더', '윌로'])"
      ]
     },
     "execution_count": 17,
     "metadata": {},
     "output_type": "execute_result"
    }
   ],
   "source": [
    "q.rotate(2)\n",
    "q"
   ]
  },
  {
   "cell_type": "code",
   "execution_count": 18,
   "metadata": {
    "ExecuteTime": {
     "end_time": "2021-07-22T08:12:25.801036Z",
     "start_time": "2021-07-22T08:12:25.787032Z"
    }
   },
   "outputs": [
    {
     "data": {
      "text/plain": [
       "deque(['윌로', '엔젤', '잰더'])"
      ]
     },
     "execution_count": 18,
     "metadata": {},
     "output_type": "execute_result"
    }
   ],
   "source": [
    "q.rotate(4)\n",
    "q"
   ]
  },
  {
   "cell_type": "code",
   "execution_count": 19,
   "metadata": {
    "ExecuteTime": {
     "end_time": "2021-07-22T08:12:25.817045Z",
     "start_time": "2021-07-22T08:12:25.803036Z"
    }
   },
   "outputs": [
    {
     "data": {
      "text/plain": [
       "deque(['엔젤', '잰더', '윌로'])"
      ]
     },
     "execution_count": 19,
     "metadata": {},
     "output_type": "execute_result"
    }
   ],
   "source": [
    "q.rotate(-1)\n",
    "q"
   ]
  },
  {
   "cell_type": "markdown",
   "metadata": {},
   "source": [
    "# 7.4 우선순위 큐와 힙"
   ]
  },
  {
   "cell_type": "markdown",
   "metadata": {},
   "source": [
    "우선순위 큐 ( priority queue ) 스택과 큐와 비슷하지만, **연관된 우선순위**가 있다. \n",
    "\n",
    "* 힙을 사용하여 구현한다."
   ]
  },
  {
   "cell_type": "markdown",
   "metadata": {},
   "source": [
    "## 힙heap\n",
    "\n",
    "* 각 노드가 하위 노드보다 작은(또는 큰) 이진 트리이다.\n",
    "\n",
    "\n",
    "* 균형 트리의 모양이 수정될 때, 다시 이를 균형 트리로 만드는 시간복잡도는 O(log n)이다. \n",
    "\n",
    "* 힙은 일반적으로, 리스트에서 가장 작은(또는 가장 큰)요소에 반복적으로 접근하는 프로그램에 유용하다. \n",
    "\n",
    "* 최소(또는 최대)힙을 사용하면 가장 작은(또는 가장 큰) 요소를 처리하는 시간복잡도는 O(1)이고, 그 외의 조회, 추가, 수정을 처리하는 시간복잡도는 O(log n)이다."
   ]
  },
  {
   "cell_type": "markdown",
   "metadata": {},
   "source": [
    "## heapq 모듈\n",
    "\n",
    "* 효율적으로 시퀀스를 힙으로 유지하면서, 삽입 제거 함수를 제공\n",
    "\n",
    "\n",
    "* 아래와 같이 `heapq.heapify()` 함수를 사용하면 O(n) 시간에 리스트를 힙으로 변환 가능\n",
    "\n",
    "\n",
    "* heapq 모듈은 min-heapify 이다."
   ]
  },
  {
   "cell_type": "code",
   "execution_count": 20,
   "metadata": {
    "ExecuteTime": {
     "end_time": "2021-07-22T08:12:25.833048Z",
     "start_time": "2021-07-22T08:12:25.819040Z"
    }
   },
   "outputs": [
    {
     "data": {
      "text/plain": [
       "[1, 4, 8, 6]"
      ]
     },
     "execution_count": 20,
     "metadata": {},
     "output_type": "execute_result"
    }
   ],
   "source": [
    "import heapq\n",
    "l = [4, 6, 8, 1]\n",
    "heapq.heapify(l)\n",
    "l"
   ]
  },
  {
   "cell_type": "markdown",
   "metadata": {},
   "source": [
    "* `heapq.heappush(heap, item)` 함수는 항목을 힙에 삽입 (push)."
   ]
  },
  {
   "cell_type": "code",
   "execution_count": 21,
   "metadata": {
    "ExecuteTime": {
     "end_time": "2021-07-22T08:12:25.849053Z",
     "start_time": "2021-07-22T08:12:25.836045Z"
    }
   },
   "outputs": [
    {
     "data": {
      "text/plain": [
       "[(1, 'food'), (2, 'have fun'), (3, 'work'), (5, 'sleep'), (4, 'study')]"
      ]
     },
     "execution_count": 21,
     "metadata": {},
     "output_type": "execute_result"
    }
   ],
   "source": [
    "h = []\n",
    "heapq.heappush(h, (5, 'sleep'))\n",
    "heapq.heappush(h, (3, 'work'))\n",
    "heapq.heappush(h, (1, 'food'))\n",
    "heapq.heappush(h, (2, 'have fun'))\n",
    "\n",
    "heapq.heappush(h, (4, 'study'))\n",
    "\n",
    "h"
   ]
  },
  {
   "cell_type": "markdown",
   "metadata": {},
   "source": [
    "* `heapq.heappop(heap)` 함수는 힙에서 가장 작은 항목을 제거하고 반환(pop)."
   ]
  },
  {
   "cell_type": "code",
   "execution_count": 22,
   "metadata": {
    "ExecuteTime": {
     "end_time": "2021-07-22T08:12:25.864061Z",
     "start_time": "2021-07-22T08:12:25.854047Z"
    }
   },
   "outputs": [
    {
     "name": "stdout",
     "output_type": "stream",
     "text": [
      "[1, 4, 8, 6]\n",
      "[4, 6, 8]\n"
     ]
    }
   ],
   "source": [
    "print(l)\n",
    "heapq.heappop(l)\n",
    "print(l)"
   ]
  },
  {
   "cell_type": "markdown",
   "metadata": {},
   "source": [
    "* `heapq.heappushpop(heap, item)` 은 새 항목을 추가(push), 가장 작은 항목을 제거하고 반환(pop)\n",
    "\n",
    "* `heapq.heapreplace(heap, item)` 힙의 가장 작은 항목을 제거 반환(pop),  새항목을 추가(push).\n",
    "\n",
    "* `heapq.heappushpop(heap, item)`와 `heapq.heapreplace(heap, item)` 순서의 차이\n",
    "\n",
    "* `heappush`와 `heappop` 메서드를 따로 사용하는 것보다 위의 2 메서드가 더 효율적이다."
   ]
  },
  {
   "cell_type": "markdown",
   "metadata": {},
   "source": [
    "* `heapq.merge(*iterables)` 여러개의 정렬된 반복 가능한 객체를 병합하여 하나의 정렬된 결과의 이터레이터를 반환한다. "
   ]
  },
  {
   "cell_type": "code",
   "execution_count": 23,
   "metadata": {
    "ExecuteTime": {
     "end_time": "2021-07-22T08:12:25.879059Z",
     "start_time": "2021-07-22T08:12:25.868051Z"
    }
   },
   "outputs": [
    {
     "name": "stdout",
     "output_type": "stream",
     "text": [
      "1\n",
      "2\n",
      "3\n",
      "4\n",
      "5\n",
      "7\n"
     ]
    }
   ],
   "source": [
    "for x in heapq.merge([1, 3, 5], [2, 4, 7]):\n",
    "    print(x)"
   ]
  },
  {
   "cell_type": "markdown",
   "metadata": {},
   "source": [
    "* `heapq.nlargest(n, iterable[, key])` : n개의 가장 큰요소가 있는 리스트 반환\n",
    "\n",
    "* `heapq.nsmallest(n, iterable[, key])`: n개의 가장 작은 요소가 있는 리스트 반환"
   ]
  },
  {
   "cell_type": "code",
   "execution_count": 24,
   "metadata": {
    "ExecuteTime": {
     "end_time": "2021-07-22T08:12:25.894073Z",
     "start_time": "2021-07-22T08:12:25.881053Z"
    }
   },
   "outputs": [
    {
     "data": {
      "text/plain": [
       "[9, 8, 7]"
      ]
     },
     "execution_count": 24,
     "metadata": {},
     "output_type": "execute_result"
    }
   ],
   "source": [
    "heapq.nlargest(3, [x for x in range(10)])"
   ]
  },
  {
   "cell_type": "code",
   "execution_count": 25,
   "metadata": {
    "ExecuteTime": {
     "end_time": "2021-07-22T08:12:25.910065Z",
     "start_time": "2021-07-22T08:12:25.896056Z"
    },
    "scrolled": true
   },
   "outputs": [
    {
     "data": {
      "text/plain": [
       "[(5, 'sleep'), (4, 'study'), (3, 'work')]"
      ]
     },
     "execution_count": 25,
     "metadata": {},
     "output_type": "execute_result"
    }
   ],
   "source": [
    "heapq.nlargest(3, h)"
   ]
  },
  {
   "cell_type": "code",
   "execution_count": 26,
   "metadata": {
    "ExecuteTime": {
     "end_time": "2021-07-22T08:12:25.925064Z",
     "start_time": "2021-07-22T08:12:25.912061Z"
    },
    "scrolled": true
   },
   "outputs": [
    {
     "data": {
      "text/plain": [
       "[0, 1, 2]"
      ]
     },
     "execution_count": 26,
     "metadata": {},
     "output_type": "execute_result"
    }
   ],
   "source": [
    "heapq.nsmallest(3, [x for x in range(10)])"
   ]
  },
  {
   "cell_type": "code",
   "execution_count": 27,
   "metadata": {
    "ExecuteTime": {
     "end_time": "2021-07-22T08:12:25.940078Z",
     "start_time": "2021-07-22T08:12:25.927063Z"
    },
    "scrolled": true
   },
   "outputs": [
    {
     "data": {
      "text/plain": [
       "[(1, 'food'), (2, 'have fun'), (3, 'work')]"
      ]
     },
     "execution_count": 27,
     "metadata": {},
     "output_type": "execute_result"
    }
   ],
   "source": [
    "heapq.nsmallest(3, h)"
   ]
  },
  {
   "cell_type": "markdown",
   "metadata": {},
   "source": [
    "## 최대 힙 구현하기"
   ]
  },
  {
   "cell_type": "markdown",
   "metadata": {},
   "source": [
    "* 최대 힙(max-heap)을 예시로 구현해 보겠다.\n",
    "\n",
    "* `[3, 2, 5, 1, 7, 8, 2]` 를 힙으로 만들어 보겠습니다.\n",
    "\n",
    "* <img src='https://slid-capture.s3.ap-northeast-2.amazonaws.com/public/image_upload/98c3bd144ab249a0b2427482ee2d4ff3/b2c41c40-f021-428a-9805-5c30dbe190a9.png'/>\n",
    "\n",
    "* 인덱스 0의 자식은 인덱스 1, 2<br>인덱스 1의 자식은 인덱스 3, 4<br> 인덱스 2의 자식은 인덱스 5, 6이다.\n",
    "\n",
    "\n",
    "\n",
    "* 즉 왼쪽 자식 노드의 인덱스는 $$(i \\times 2 ) +1$$<br>오른쪽 자식 노드의 인덱스는 $$(i \\times 2) + 2$$"
   ]
  },
  {
   "cell_type": "markdown",
   "metadata": {},
   "source": [
    "* 전체 배열의 길이를 반으로 나누는 것으로 시작해 보자."
   ]
  },
  {
   "cell_type": "code",
   "execution_count": 28,
   "metadata": {
    "ExecuteTime": {
     "end_time": "2021-07-22T08:12:25.956082Z",
     "start_time": "2021-07-22T08:12:25.942067Z"
    }
   },
   "outputs": [
    {
     "data": {
      "text/plain": [
       "3"
      ]
     },
     "execution_count": 28,
     "metadata": {},
     "output_type": "execute_result"
    }
   ],
   "source": [
    "7//2"
   ]
  },
  {
   "cell_type": "markdown",
   "metadata": {},
   "source": [
    "3에서 부터 1씩 감소한다.\n",
    "\n",
    "1. 인덱스가 3일때, 자식이 없으므로 넘어간다.\n",
    "\n",
    "\n",
    "\n",
    "2. 인덱스가 2일때, 자식이 있고 값 5보다 큰 값8이 존재하므로,      <br> 인덱스 2(값 5)와 인덱스 5(값 8)의 값을 교환한다. <br>교환한 인덱스 5(값 5)를 자식들과 비교하는데 자식이 없으므로 넘어간다. <br><img src='https://slid-capture.s3.ap-northeast-2.amazonaws.com/public/image_upload/98c3bd144ab249a0b2427482ee2d4ff3/fc618737-c9f6-4cc3-a585-5b07af0d0d61.png' align='center' /> <br><br>\n",
    "3. 인덱스가 1일때, 자식이 있고 값 2보다 큰 값 7이 존재하므로,<br> 인덱스 2(값 2)와 인덱스 4(값 7)의 값을 교환한다. <br> 교환한 인덱스 4(값 2)를 자식들과 비교하는데 자식이 없으므로 넘어간다.<br> <img src='https://slid-capture.s3.ap-northeast-2.amazonaws.com/public/image_upload/98c3bd144ab249a0b2427482ee2d4ff3/769a2f5b-8987-458a-ba0c-cdb864fb16e4.png' align='center' /> <br>\n",
    "\n",
    "4. 인덱스가 0일 때, 자식이 있고 값 3보다 큰 값 7, 8이 존재하므로, <br> 인덱스 0 (값 3)과 인덱스 2(값 8)의 값을 교환한다. \n",
    "    1. 교환한 인덱스 2(값 3)를 자식들과 비교하는데, 값 3보다 큰 값 5가 존재하므로, 인덱스 2(값 3)와 인덱스 5(값 5)를 교환한다.\n",
    "    2. 교환한 인덱스 5(값 3)을 자식들과 비교하는데, 자식이 없으므로 넘어간다.\n",
    "    \n",
    "<br>\n",
    "5. 0미만의 인덱스가 없으므로, 종료한다. "
   ]
  },
  {
   "cell_type": "markdown",
   "metadata": {},
   "source": [
    "위의 내용을 코드로 구현 하면 아래와 같다."
   ]
  },
  {
   "cell_type": "code",
   "execution_count": 29,
   "metadata": {
    "ExecuteTime": {
     "end_time": "2021-07-22T08:12:25.971079Z",
     "start_time": "2021-07-22T08:12:25.958071Z"
    }
   },
   "outputs": [],
   "source": [
    "class Heapify(object):\n",
    "    def __init__(self, data=None):\n",
    "        self.data = data or []\n",
    "        for i in range(len(data)//2, -1, -1): # 인덱스 감소부분 구현\n",
    "            self.__max_heapify__(i)\n",
    "    \n",
    "    def __repr__(self):\n",
    "        return repr(self.data)\n",
    "    \n",
    "    def parent(self, i):\n",
    "        if i & 1: # 현재 루트가 0 이라면\n",
    "            return i >> 1\n",
    "        else:\n",
    "            return (i >> 1) - 1\n",
    "        \n",
    "    def left_child(self, i):\n",
    "        return (i << 1) +1\n",
    "    \n",
    "    def right_child(self, i):\n",
    "        return (i << 1) + 2\n",
    "    \n",
    "    def __max_heapify__(self, i):\n",
    "        largest = i # 현재 노드\n",
    "        left = self.left_child(i)\n",
    "        right = self.right_child(i)\n",
    "        n = len(self.data)\n",
    "        \n",
    "        # 왼쪽 자식\n",
    "        largest = (left < n and self.data[left] > self.data[i]) and left or i  # 왼쪽 과 현재 노드중 더 큰 값을 largest에 담아줘.\n",
    "        \n",
    "        # 오른쪽 자식\n",
    "        largest = (right < n and self.data[right] > self.data[largest]) and right or largest # 오른쪽 과 현재, 왼쪽 노드중 더 큰값을 largest에 담아줘\n",
    "        \n",
    "        # 현재 노드가 자식들보다 크다면 Skip, 자식이 크다면 Swap\n",
    "        if i is not largest:\n",
    "            self.data[i], self.data[largest] = self.data[largest], self.data[i]\n",
    "            # print(self.data)\n",
    "            self.__max_heapify__(largest) # 재귀 적으로 자식노드들 전부 heapify\n",
    "            \n",
    "        '''__max_heapify__ 매쏘드는 전부 가장 큰 수를 최상위 부모 노드로 올리는 메쏘드이다. 최상위 노드만이 가장\n",
    "        큰 수임을 보증하고, 나머지 수의 크기는 보증하지 않는다. '''\n",
    "            \n",
    "    def extract_max(self):\n",
    "        n = len(self.data)\n",
    "        max_element = self.data[0]\n",
    "        # 첫 번째 노드에 마지막 노드를 삽입\n",
    "        self.data[0] = self.data[n-1]\n",
    "        self.data = self.data[:n-1] # 데이터 삭제\n",
    "        self.__max_heapify__(0) # heapify 다시 수행한다.\n",
    "        return max_element # 가장 큰 값은 리턴한다.\n",
    "    \n",
    "    def insert(self, item):\n",
    "        i = len(self.data)\n",
    "        self.data.append(item) # 우선 마지막에 itme을 append 시켜준다.\n",
    "        while (i != 0) and item > self.data[self.parent(i)]: # 부모 노드의 값보다 append 된 값이 크다면 \n",
    "            print(self.data)\n",
    "            self.data[i] = self.data[self.parent(i)] # 부모 노드는 자식 노드로 내려온다. \n",
    "            i = self.parent(i) # 기준이 되는 현재 노드 값을 부모 노드 값으로 변경\n",
    "        self.data[i] = item \n",
    "        ''' 위에 while 문이 실행 되었다면( 새로 append 한 값이 더 크다면), \n",
    "        item의 위치는 while문이 만족할때까지의 parent 노드가 되고, 마지막으로 그값을 넣어준다.'''\n",
    "        "
   ]
  },
  {
   "cell_type": "code",
   "execution_count": 30,
   "metadata": {
    "ExecuteTime": {
     "end_time": "2021-07-22T08:12:25.986094Z",
     "start_time": "2021-07-22T08:12:25.973074Z"
    }
   },
   "outputs": [
    {
     "name": "stdout",
     "output_type": "stream",
     "text": [
      "테스트 통과!\n"
     ]
    }
   ],
   "source": [
    "def test_heapify():\n",
    "    l1 = [3, 2, 5, 1, 7, 8, 2]\n",
    "    h = Heapify(l1)\n",
    "    assert(h.extract_max() == 8)\n",
    "    print(\"테스트 통과!\")\n",
    "\n",
    "test_heapify()"
   ]
  },
  {
   "cell_type": "markdown",
   "metadata": {},
   "source": [
    "이 코드에서 구현된 것처럼 최대 힙에서 최댓값 추출 및 삭제 과정은 다음과 같다. \n",
    "\n",
    "1. 힙의 루트 노드 값을 따로 저장한 다음(나중에 이를 반환한다)<br> 마지막 노드의 값을 대입한, 마지막 노드를 삭제한다.<br><img src='https://slid-capture.s3.ap-northeast-2.amazonaws.com/public/image_upload/98c3bd144ab249a0b2427482ee2d4ff3/d81178e4-f53f-48b1-98ae-ba91a4b3dc6f.png' align='center' /> <br>\n",
    "\n",
    "2. heapify 과정을 귀납적으로 실행해 준다. \n",
    "\n",
    "<img src='https://slid-capture.s3.ap-northeast-2.amazonaws.com/public/image_upload/98c3bd144ab249a0b2427482ee2d4ff3/924f2c82-a250-4dc9-85b5-9617a22f0490.png' /> <br>"
   ]
  },
  {
   "cell_type": "markdown",
   "metadata": {},
   "source": [
    "## 우선순위 큐 구현"
   ]
  },
  {
   "cell_type": "code",
   "execution_count": 31,
   "metadata": {
    "ExecuteTime": {
     "end_time": "2021-07-22T08:12:26.002098Z",
     "start_time": "2021-07-22T08:12:25.989084Z"
    }
   },
   "outputs": [],
   "source": [
    "import heapq\n",
    "\n",
    "class PriorityQueue(object):\n",
    "    def __init__(self):\n",
    "        self._queue = []\n",
    "        self._index = 0 \n",
    "    \n",
    "    def push(self, item, priority):\n",
    "        heapq.heappush(self._queue, (-priority, self._index, item)) # '-' (마이너스) 붙어서 max_heap 을 구현 , 기본적으로 min_heap 이다.\n",
    "        self._index += 1\n",
    "        \n",
    "    def pop(self):\n",
    "        return heapq.heappop(self._queue)[-1]\n",
    "    \n",
    "    def __repr__(self):\n",
    "        return str(self._queue)\n",
    "    \n",
    "class Item: \n",
    "    \n",
    "    def __init__(self, name):\n",
    "        self.name = name\n",
    "        \n",
    "    def __repr__(self):\n",
    "        return \"Item({0!r})\".format(self.name)\n",
    "        "
   ]
  },
  {
   "cell_type": "code",
   "execution_count": 32,
   "metadata": {
    "ExecuteTime": {
     "end_time": "2021-07-22T08:12:26.017084Z",
     "start_time": "2021-07-22T08:12:26.005082Z"
    }
   },
   "outputs": [
    {
     "name": "stdout",
     "output_type": "stream",
     "text": [
      "테스트 통과!\n"
     ]
    }
   ],
   "source": [
    "def test_priority_queue():\n",
    "    '''push와 pop은 모두 O(logN)이다. '''\n",
    "    \n",
    "    q = PriorityQueue()\n",
    "    q.push(Item('test1'), 1)\n",
    "    q.push(Item('test2'), 10)\n",
    "    q.push(Item('test3'), 6)\n",
    "    assert(str(q.pop()) == \"Item('test2')\")\n",
    "    print(\"테스트 통과!\")\n",
    "    \n",
    "test_priority_queue()"
   ]
  },
  {
   "cell_type": "code",
   "execution_count": 33,
   "metadata": {
    "ExecuteTime": {
     "end_time": "2021-07-22T08:12:26.157114Z",
     "start_time": "2021-07-22T08:12:26.019096Z"
    }
   },
   "outputs": [],
   "source": [
    "import numpy as np\n",
    "\n",
    "q = PriorityQueue()\n",
    "\n",
    "\n",
    "for i in range(16):\n",
    "    q.push(Item('test'+str(i)), np.random.randint(0, 30))\n",
    "    "
   ]
  },
  {
   "cell_type": "code",
   "execution_count": 34,
   "metadata": {
    "ExecuteTime": {
     "end_time": "2021-07-22T08:12:26.173118Z",
     "start_time": "2021-07-22T08:12:26.158115Z"
    }
   },
   "outputs": [
    {
     "data": {
      "text/plain": [
       "[(-25, 12, Item('test12')), (-17, 7, Item('test7')), (-24, 0, Item('test0')), (-16, 8, Item('test8')), (-17, 9, Item('test9')), (-13, 11, Item('test11')), (-22, 13, Item('test13')), (-8, 1, Item('test1')), (-13, 3, Item('test3')), (0, 4, Item('test4')), (-16, 10, Item('test10')), (-1, 2, Item('test2')), (-9, 6, Item('test6')), (-3, 5, Item('test5')), (-15, 14, Item('test14')), (-8, 15, Item('test15'))]"
      ]
     },
     "execution_count": 34,
     "metadata": {},
     "output_type": "execute_result"
    }
   ],
   "source": [
    "q"
   ]
  },
  {
   "cell_type": "code",
   "execution_count": 35,
   "metadata": {
    "ExecuteTime": {
     "end_time": "2021-07-22T08:12:26.189123Z",
     "start_time": "2021-07-22T08:12:26.175120Z"
    }
   },
   "outputs": [
    {
     "data": {
      "text/plain": [
       "Item('test12')"
      ]
     },
     "execution_count": 35,
     "metadata": {},
     "output_type": "execute_result"
    }
   ],
   "source": [
    "q.pop()"
   ]
  },
  {
   "cell_type": "code",
   "execution_count": 36,
   "metadata": {
    "ExecuteTime": {
     "end_time": "2021-07-22T08:12:26.205126Z",
     "start_time": "2021-07-22T08:12:26.191124Z"
    }
   },
   "outputs": [
    {
     "data": {
      "text/plain": [
       "[(-24, 0, Item('test0')), (-17, 7, Item('test7')), (-22, 13, Item('test13')), (-16, 8, Item('test8')), (-17, 9, Item('test9')), (-13, 11, Item('test11')), (-15, 14, Item('test14')), (-8, 1, Item('test1')), (-13, 3, Item('test3')), (0, 4, Item('test4')), (-16, 10, Item('test10')), (-1, 2, Item('test2')), (-9, 6, Item('test6')), (-3, 5, Item('test5')), (-8, 15, Item('test15'))]"
      ]
     },
     "execution_count": 36,
     "metadata": {},
     "output_type": "execute_result"
    }
   ],
   "source": [
    "q"
   ]
  },
  {
   "cell_type": "markdown",
   "metadata": {},
   "source": [
    "# 7.5 연결 리스트 linked list"
   ]
  },
  {
   "cell_type": "markdown",
   "metadata": {},
   "source": [
    "* 값과 다음 노드에 대한 포인터(참조)가 포함된 노드로 이루어진 선형 리스트다. \n",
    "\n",
    "* 마지막 노드는 null 값 (파이썬에서는 None)\n",
    "\n",
    "* 연결 리스트로 스택(새 항목을 헤드head에 추가)과 큐(새 항목을 테일tail에 추가)를 구현"
   ]
  },
  {
   "cell_type": "markdown",
   "metadata": {},
   "source": [
    "Node 객체 구현"
   ]
  },
  {
   "cell_type": "code",
   "execution_count": 37,
   "metadata": {
    "ExecuteTime": {
     "end_time": "2021-07-22T08:12:26.221130Z",
     "start_time": "2021-07-22T08:12:26.207127Z"
    }
   },
   "outputs": [],
   "source": [
    "class Node(object):\n",
    "    def __init__(self, value=None, pointer=None):\n",
    "        self.value = value\n",
    "        self.pointer = pointer\n",
    "        \n",
    "    def getData(self):\n",
    "        return self.value\n",
    "    \n",
    "    def getNext(self):\n",
    "        return self.pointer\n",
    "    \n",
    "    def setData(self, newdata):\n",
    "        self.value = newdata\n",
    "        \n",
    "    def setNext(self, newpointer):\n",
    "        self.pointer = newpointer\n",
    "        "
   ]
  },
  {
   "cell_type": "code",
   "execution_count": 38,
   "metadata": {
    "ExecuteTime": {
     "end_time": "2021-07-22T08:12:26.236283Z",
     "start_time": "2021-07-22T08:12:26.223131Z"
    }
   },
   "outputs": [
    {
     "name": "stdout",
     "output_type": "stream",
     "text": [
      "a\n",
      "b\n",
      "aa\n",
      "e\n"
     ]
    }
   ],
   "source": [
    "if __name__ == \"__main__\":\n",
    "    L = Node(\"a\", Node(\"b\", Node(\"c\", Node(\"d\"))))\n",
    "    assert(L.pointer.pointer.value == \"c\")\n",
    "\n",
    "    print(L.getData())\n",
    "    print(L.getNext().getData())\n",
    "    L.setData(\"aa\")\n",
    "    L.setNext(Node(\"e\"))\n",
    "    print(L.getData())\n",
    "    print(L.getNext().getData())"
   ]
  },
  {
   "cell_type": "markdown",
   "metadata": {},
   "source": [
    "### LIFO 형식의 연결 리스트 구현"
   ]
  },
  {
   "cell_type": "code",
   "execution_count": 39,
   "metadata": {
    "ExecuteTime": {
     "end_time": "2021-07-22T08:12:26.251287Z",
     "start_time": "2021-07-22T08:12:26.239286Z"
    }
   },
   "outputs": [],
   "source": [
    "class LinkedListLIFO(object):\n",
    "    def __init__(self):\n",
    "        self.head = None\n",
    "        self.length = 0 \n",
    "        \n",
    "    # 헤드부터 각 노드의 값을 출력한다.\n",
    "    def _printList(self):\n",
    "        node = self.head\n",
    "        while node:\n",
    "            print(node.value, end=\" \")\n",
    "            node = node.pointer\n",
    "        print()\n",
    "        \n",
    "    # 이전 노드(prev)를 기반으로 노드(node)를 삭제한다.\n",
    "    def _delete(self, prev, node):\n",
    "        self.length -= 1\n",
    "        if not prev:\n",
    "            self.head = node.pointer\n",
    "        else:\n",
    "            prev.pointer = node.pointer # prev -value- pointer -node 에서 value를 지우므로서 포인터 연결한다. \n",
    "                                        # 즉 node를 의 value를 지우고 앞뒤의 포인트를 연결한다.\n",
    "            \n",
    "    # 새 노드를 추가한다. 다음 노드로 헤드를 가리키고,\n",
    "    # 헤드는 새 노드를 가리킨다.\n",
    "    \n",
    "    def _add(self, value):\n",
    "        self.length +=1\n",
    "        self.head = Node(value, self.head)\n",
    "        \n",
    "    # 인덱스로 노드를 찾는다.\n",
    "    \n",
    "    def _find(self, index):\n",
    "        prev = None\n",
    "        node = self.head\n",
    "        \n",
    "        i = 0 \n",
    "        while node and i < index:\n",
    "            prev = node\n",
    "            node = node.pointer\n",
    "            i += 1\n",
    "            \n",
    "        return node, prev, i\n",
    "    \n",
    "    # 값으로 노드를 찾는다.\n",
    "    \n",
    "    def _find_by_value(self, value):\n",
    "        prev = None\n",
    "        node = self.head\n",
    "        found = False\n",
    "        while node and not found:\n",
    "            if node.value == value:\n",
    "                found = True\n",
    "            else:\n",
    "                prev = node\n",
    "                node = node.pointer\n",
    "        return node, prev, found\n",
    "    \n",
    "    # 인덱스에 해당하는 노드를 찾아서 삭제한다. \n",
    "    \n",
    "    def deleteNode(self, index):\n",
    "        node, prev, i = self._find(index)\n",
    "        if index == i :\n",
    "            self._delete(prev, node)\n",
    "        else:\n",
    "            print(f\"인덱스 {index}에 해당 노드가 없습니다\")\n",
    "            \n",
    "    # 값에 해당하는 노드를 찾아서 삭제한다.\n",
    "    \n",
    "    def deleteNodeByValue(self,value):\n",
    "        node, prev, found = self._find_by_value(value)\n",
    "        if found:\n",
    "            self._delete(prev, node)\n",
    "            \n",
    "        else:\n",
    "            print(f\"값 {value}에 해당하는 노드가 없습니다.\")\n",
    "            "
   ]
  },
  {
   "cell_type": "code",
   "execution_count": 40,
   "metadata": {
    "ExecuteTime": {
     "end_time": "2021-07-22T08:12:26.267279Z",
     "start_time": "2021-07-22T08:12:26.253284Z"
    }
   },
   "outputs": [
    {
     "name": "stdout",
     "output_type": "stream",
     "text": [
      "연결 리스트 출력:\n",
      "4 3 2 1 \n",
      "인덱스가 2인 노드 삭제 후, 연결 리스트 출력:\n",
      "4 3 1 \n",
      "값이 3인 노드 삭제 후, 연결 리스트 출력:\n",
      "4 1 \n",
      "값이 15인 노드 추가 후, 연결 리스트 출력:\n",
      "15 4 1 \n",
      "모든 노드 모두 삭제 후, 연결 리스트 출력:\n",
      "\n"
     ]
    }
   ],
   "source": [
    "if __name__ == \"__main__\":\n",
    "    ll = LinkedListLIFO()\n",
    "    for i in range(1, 5):\n",
    "        ll._add(i)\n",
    "    print(\"연결 리스트 출력:\")\n",
    "    ll._printList()\n",
    "    print(\"인덱스가 2인 노드 삭제 후, 연결 리스트 출력:\")\n",
    "    ll.deleteNode(2)\n",
    "    ll._printList()\n",
    "    print(\"값이 3인 노드 삭제 후, 연결 리스트 출력:\")\n",
    "    ll.deleteNodeByValue(3)\n",
    "    ll._printList()\n",
    "    print(\"값이 15인 노드 추가 후, 연결 리스트 출력:\")\n",
    "    ll._add(15)\n",
    "    ll._printList()\n",
    "    print(\"모든 노드 모두 삭제 후, 연결 리스트 출력:\")\n",
    "    for i in range(ll.length-1, -1, -1):\n",
    "        ll.deleteNode(i)\n",
    "    ll._printList()"
   ]
  },
  {
   "cell_type": "markdown",
   "metadata": {},
   "source": [
    "### FIFO 형식의 연결 리스트 구현"
   ]
  },
  {
   "cell_type": "code",
   "execution_count": 41,
   "metadata": {
    "ExecuteTime": {
     "end_time": "2021-07-22T08:12:26.283295Z",
     "start_time": "2021-07-22T08:12:26.269279Z"
    }
   },
   "outputs": [],
   "source": [
    "class LinkedListFIFO(object):\n",
    "    def __init__(self):\n",
    "        self.head = None # 헤드(머리)\n",
    "        self.length = 0 \n",
    "        self.tail = None # 테일(꼬리)\n",
    "        \n",
    "    # 헤드부터 각 노드의 값을 출력한다. \n",
    "    def _printList(self):\n",
    "        node = self.head\n",
    "        while node:\n",
    "            print(node.value, end=' ')\n",
    "            node = node.pointer\n",
    "            \n",
    "        print()\n",
    "        \n",
    "    # 첫 번째 위치에 노드를 추가한다.     \n",
    "    def _addFirst(self, value):\n",
    "        self.length = 1\n",
    "        node = Node(value)\n",
    "        self.head = node\n",
    "        self.tail = node\n",
    "        \n",
    "        \n",
    "    # 첫 번째 위치의 노드를 삭제한다. \n",
    "    def _deleteFirst(self):\n",
    "        self.length = 0\n",
    "        self.head = None\n",
    "        self.tail = None\n",
    "        print('연결 리스트가 비었습니다. ')\n",
    "        \n",
    "    # 새 노드를 추가한다. 테일이 있다면, 테일의 다음 노드는\n",
    "    # 새 노드를 가리키고, 테일은 새 노드를 가리킨다.\n",
    "    def _add(self, value):\n",
    "        self.length += 1\n",
    "        node = Node(value)\n",
    "        if self.tail:\n",
    "            self.tail.pointer = node\n",
    "            \n",
    "        self.tail = node\n",
    "        \n",
    "    # 새 노드를 추가한다. \n",
    "    def addNode(self, value):\n",
    "        if not self.head:\n",
    "            self._addFirst(value)\n",
    "        else:\n",
    "            self._add(value)\n",
    "            \n",
    "    # 인덱스로 노드를 찾는다.\n",
    "    def _find(self, index):\n",
    "        prev = None\n",
    "        node = self.head\n",
    "        i = 0\n",
    "        while node and i < index:\n",
    "            prev = node\n",
    "            node = node.pointer\n",
    "            i += 1\n",
    "            \n",
    "        return node, prev, i\n",
    "    # 값으로 노드를 찾는다.\n",
    "    def _find_by_value(self, value):\n",
    "        prev = None\n",
    "        node = self.head\n",
    "        found = False\n",
    "        while node and not found:\n",
    "            if node.value == value:\n",
    "                found = True\n",
    "            else:\n",
    "                prev = node\n",
    "                node = node.pointer\n",
    "        return node, prev, found\n",
    "    \n",
    "    # 인덱스에 해당하는 노드를 삭제한다.\n",
    "    def deleteNode(self, index):\n",
    "        if not self.head or not self.head.pointer:\n",
    "            self._deleteFirst()\n",
    "        else:\n",
    "            node, prev, i = self._find(index)\n",
    "            if i == index and node:\n",
    "                self.length -= 1\n",
    "                if i == 0 or not prev:\n",
    "                    self.head = node.pointer\n",
    "                    self.tail = node.pointer\n",
    "                    \n",
    "                else:\n",
    "                    prev.pointer = node.pointer\n",
    "                    \n",
    "            else:\n",
    "                print(\"인덱스 {0}에 해당하는 노드가 없습니다.\".format(index))\n",
    "                \n",
    "    \n",
    "    # 값에 해당하는 노드를 삭제한다.\n",
    "    def deleteNodeByValue(self, value):\n",
    "        if not self.head or not self.head.pointer:\n",
    "            self._deleteFirst()\n",
    "        else:\n",
    "            node, prev, i = self._find_by_value(value)\n",
    "            if node and node.value == value:\n",
    "                self.length -= 1\n",
    "                if i == 0 or not prev :\n",
    "                    self.head = node.pointer\n",
    "                    self.tail = node.pointer\n",
    "                    \n",
    "                else: \n",
    "                    prev.pointer = node.pointer\n",
    "                    \n",
    "            else:\n",
    "                print(\"값 {0}에 해당하는 노드가 없습니다.\".format(value))\n",
    "                \n",
    "                \n",
    "    \n",
    "    "
   ]
  },
  {
   "cell_type": "code",
   "execution_count": 42,
   "metadata": {
    "ExecuteTime": {
     "end_time": "2021-07-22T08:12:26.299303Z",
     "start_time": "2021-07-22T08:12:26.285283Z"
    }
   },
   "outputs": [
    {
     "name": "stdout",
     "output_type": "stream",
     "text": [
      "연결 리스트 출력:\n",
      "1 2 3 4 \n",
      "인덱스가 2인 노드 삭제 후, 연결 리스트 출력:\n",
      "1 2 4 \n",
      "값이 15인 노드 추가 후, 연결 리스트 출력:\n",
      "1 2 4 15 \n",
      "모든 노드 모두 삭제 후, 연결 리스트 출력:\n",
      "1 2 4 \n",
      "1 2 \n",
      "1 \n",
      "연결 리스트가 비었습니다. \n",
      "\n",
      "\n"
     ]
    }
   ],
   "source": [
    "if __name__ == \"__main__\":\n",
    "    ll = LinkedListFIFO()\n",
    "    for i in range(1, 5):\n",
    "        ll.addNode(i)\n",
    "    print(\"연결 리스트 출력:\")\n",
    "    ll._printList()\n",
    "    print(\"인덱스가 2인 노드 삭제 후, 연결 리스트 출력:\")\n",
    "    ll.deleteNode(2)\n",
    "    ll._printList()\n",
    "    print(\"값이 15인 노드 추가 후, 연결 리스트 출력:\")\n",
    "    ll.addNode(15)\n",
    "    ll._printList()\n",
    "    print(\"모든 노드 모두 삭제 후, 연결 리스트 출력:\")\n",
    "    for i in range(ll.length-1, -1, -1):\n",
    "        ll.deleteNode(i)\n",
    "        ll._printList()\n",
    "    ll._printList()"
   ]
  },
  {
   "cell_type": "markdown",
   "metadata": {},
   "source": [
    "* 연결 리스트의 크기는 동적이다. ( array는 정적이다.)<br> 따라서 런타임에 저장할 항목의 수를 알 수 없을 떄 유용하다. \n",
    "\n",
    "* 연결 리스트의 삽입 시간복잡도는 O(1)이다. \n",
    "\n",
    "* 연결 리스트는 순차적으로 항목을 검색하므로, 검색 및 삭제의 시간복잠도는 O(n)이다.  연결 리스트를 뒤로부터 순회하거나 정렬하는 최악의 경우 시간복잡도는 $O(n^2)$이다.\n",
    "\n",
    "* 만약 어떤 노드의 포인터를 알고 있을 때 그 노드를 삭제한다면, 삭제 시간복잡도는 O(1)이 될 수 있다. \n",
    "\n",
    "* 해당 노드의 값에 노드의 값을 할당하고 해당 노드의 포인터는 다음 다음의 노드를 가리키데 하면 되기 때문이다. 이 경우는 다음과 같이 삭제 코드를 작성할 수 있다. "
   ]
  },
  {
   "cell_type": "markdown",
   "metadata": {
    "ExecuteTime": {
     "end_time": "2021-07-19T11:16:15.079461Z",
     "start_time": "2021-07-19T11:16:14.821914Z"
    }
   },
   "source": [
    "```python\n",
    "if node.pointer is not None:\n",
    "    node.value = node.pointer.value\n",
    "    node.pointer = node.pointer.pointer\n",
    "else:\n",
    "    node = None\n",
    "```"
   ]
  },
  {
   "cell_type": "markdown",
   "metadata": {},
   "source": [
    "# 7.6 해시 테이블\n",
    "\n",
    "* 해시 테이블(hash table)은 키key 를 값value에 연결하여, 하나의 카가 0 또는 1개의 값과 연관된다. \n",
    "\n",
    "* 각 키는 해시 함수hash function를 계산할 수 있어야 한다. \n",
    "\n",
    "* 해시 버킷hash bucket의 배열로 구성된다. \n",
    "    - 예를 들어 해시 값이 42이고 5개의 버킷이 있는 경우 나머지 연산mod을 사용하여, 버킷 2(=42 mod 5)에 매핑한다.\n",
    "    \n",
    "* 두 개의 카가 동일한 버킷에 해시될 때, 문제가 발생한다. 이를 해쉬 충돌hash collision이라고 한다. \n",
    "    - 이를 처리하는 한가지 방법은 , 각 버킷에 대해 키-값 쌍의 연결 리스트를 저장하는 것이다. \n",
    "    \n",
    "* 해시 테이블의 조회, 삽입, 삭제의 시간복잡도는 O(1)이다. \n",
    "\n",
    "* 최악의 경우 각 키가 동일한 버킷으로 해쉬된다면(해쉬 충돌이 발생한다면), 각 작업의 시간복잡도는 O(n)이다. "
   ]
  },
  {
   "cell_type": "code",
   "execution_count": 43,
   "metadata": {
    "ExecuteTime": {
     "end_time": "2021-07-22T08:12:26.315307Z",
     "start_time": "2021-07-22T08:12:26.301292Z"
    }
   },
   "outputs": [],
   "source": [
    "class HashTableLL(object):\n",
    "    def __init__(self, size):\n",
    "        self.size = size\n",
    "        self.slots = []\n",
    "        self._createHashTable()\n",
    "        \n",
    "    def _createHashTable(self):\n",
    "        for i in range(self.size):\n",
    "            self.slots.append(LinkedListFIFO())\n",
    "        \n",
    "    def _find(self, item):\n",
    "        return item % self.size\n",
    "    \n",
    "    def _add(self, item):\n",
    "        index = self._find(item)\n",
    "        self.slots[index].addNode(item)\n",
    "        \n",
    "    def _delete(self, item):\n",
    "        index = self._find(item)\n",
    "        self.slots[index].deleteNodeByValue(item)\n",
    "        \n",
    "    def _print(self):\n",
    "        for i in range(self.size):\n",
    "            print(\"슬롯(slot){0}\".format(i))\n",
    "            self.slots[i]._printList()"
   ]
  },
  {
   "cell_type": "code",
   "execution_count": 44,
   "metadata": {
    "ExecuteTime": {
     "end_time": "2021-07-22T08:12:26.331305Z",
     "start_time": "2021-07-22T08:12:26.317302Z"
    }
   },
   "outputs": [
    {
     "name": "stdout",
     "output_type": "stream",
     "text": [
      "슬롯(slot)0\n",
      "0 3 6 9 12 15 18 \n",
      "슬롯(slot)1\n",
      "1 4 7 10 13 16 19 \n",
      "슬롯(slot)2\n",
      "2 5 8 11 14 17 \n"
     ]
    }
   ],
   "source": [
    "H1 = HashTableLL(3)\n",
    "for i in range(0, 20):\n",
    "    H1._add(i)\n",
    "H1._print()"
   ]
  },
  {
   "cell_type": "code",
   "execution_count": 45,
   "metadata": {
    "ExecuteTime": {
     "end_time": "2021-07-22T08:12:26.347314Z",
     "start_time": "2021-07-22T08:12:26.334303Z"
    }
   },
   "outputs": [
    {
     "name": "stdout",
     "output_type": "stream",
     "text": [
      "슬롯(slot)0\n",
      "0 3 6 9 12 15 18 \n",
      "슬롯(slot)1\n",
      "1 4 7 10 13 16 19 \n",
      "슬롯(slot)2\n",
      "2 5 8 11 14 17 20 \n"
     ]
    }
   ],
   "source": [
    "H1._add(20)\n",
    "H1._print()"
   ]
  },
  {
   "cell_type": "code",
   "execution_count": 46,
   "metadata": {
    "ExecuteTime": {
     "end_time": "2021-07-22T08:12:26.363316Z",
     "start_time": "2021-07-22T08:12:26.350297Z"
    }
   },
   "outputs": [
    {
     "name": "stdout",
     "output_type": "stream",
     "text": [
      "슬롯(slot)0\n",
      "3 6 9 12 15 18 \n",
      "슬롯(slot)1\n",
      "1 4 7 10 13 16 19 \n",
      "슬롯(slot)2\n",
      "2 5 8 11 14 17 20 \n"
     ]
    }
   ],
   "source": [
    "H1._delete(0)\n",
    "H1._print()"
   ]
  },
  {
   "cell_type": "code",
   "execution_count": 47,
   "metadata": {
    "ExecuteTime": {
     "end_time": "2021-07-22T08:12:26.379319Z",
     "start_time": "2021-07-22T08:12:26.366302Z"
    }
   },
   "outputs": [
    {
     "name": "stdout",
     "output_type": "stream",
     "text": [
      "슬롯(slot)0\n",
      "3 6 9 12 15 18 \n",
      "슬롯(slot)1\n",
      "1 4 7 10 13 16 19 \n",
      "슬롯(slot)2\n",
      "2 5 8 14 17 20 \n"
     ]
    }
   ],
   "source": [
    "H1._delete(11)\n",
    "H1._print()"
   ]
  },
  {
   "cell_type": "markdown",
   "metadata": {},
   "source": [
    "# 연습문제 "
   ]
  },
  {
   "cell_type": "markdown",
   "metadata": {},
   "source": [
    "## Stack스택 "
   ]
  },
  {
   "cell_type": "markdown",
   "metadata": {},
   "source": [
    "* 스택은 데이터를 역순으로 정렬하거나 검색할 때 사용할 수 있다. 앞에서 구현한 Stack 클래스를 사용하여 문자열을 뒤집어보자."
   ]
  },
  {
   "cell_type": "markdown",
   "metadata": {},
   "source": [
    "###  문자열 반전하기\n"
   ]
  },
  {
   "cell_type": "code",
   "execution_count": 48,
   "metadata": {
    "ExecuteTime": {
     "end_time": "2021-07-22T08:12:26.395320Z",
     "start_time": "2021-07-22T08:12:26.380310Z"
    }
   },
   "outputs": [],
   "source": [
    "def reverse_string_with_stack(str1):\n",
    "    s = Stack()\n",
    "    revStr=''\n",
    "    \n",
    "    for c in str1:\n",
    "        s.push(c)\n",
    "        \n",
    "    while not s.isEmpty():\n",
    "        revStr += s.pop()\n",
    "        \n",
    "    return revStr"
   ]
  },
  {
   "cell_type": "code",
   "execution_count": 49,
   "metadata": {
    "ExecuteTime": {
     "end_time": "2021-07-22T08:12:26.411324Z",
     "start_time": "2021-07-22T08:12:26.397308Z"
    }
   },
   "outputs": [
    {
     "name": "stdout",
     "output_type": "stream",
     "text": [
      "!다있 수할 로므러그 다하강 는나\n"
     ]
    }
   ],
   "source": [
    "str1 = '!다있 수할 로므러그 다하강 는나'\n",
    "print(str1)"
   ]
  },
  {
   "cell_type": "code",
   "execution_count": 50,
   "metadata": {
    "ExecuteTime": {
     "end_time": "2021-07-22T08:12:26.426442Z",
     "start_time": "2021-07-22T08:12:26.414313Z"
    }
   },
   "outputs": [
    {
     "data": {
      "text/plain": [
       "'나는 강하다 그러므로 할수 있다!'"
      ]
     },
     "execution_count": 50,
     "metadata": {},
     "output_type": "execute_result"
    }
   ],
   "source": [
    "reverse_string_with_stack(str1)"
   ]
  },
  {
   "cell_type": "markdown",
   "metadata": {},
   "source": [
    "### 괄호의 짝 확인하기\n",
    "\n",
    "* 스택을 사용하면 괄호의 균형이 맞는지(여는 괄호와 닫는 괄호의 수가 일치하는 지) 쉽게 확인할 수 있다."
   ]
  },
  {
   "cell_type": "code",
   "execution_count": 51,
   "metadata": {
    "ExecuteTime": {
     "end_time": "2021-07-22T08:12:26.442336Z",
     "start_time": "2021-07-22T08:12:26.428324Z"
    }
   },
   "outputs": [],
   "source": [
    "def balance_par_str_with_stack(str1):\n",
    "    s = Stack()\n",
    "    balanced = True\n",
    "    index = 0 \n",
    "    message = '( is more'\n",
    "    \n",
    "    while index < len(str1) and balanced:\n",
    "        symbol = str1[index]\n",
    "        \n",
    "        if symbol == \"(\":\n",
    "            s.push(symbol)\n",
    "            \n",
    "        else:\n",
    "            if s.isEmpty():\n",
    "                balanced = False\n",
    "                message = ') is more'\n",
    "            \n",
    "            else:\n",
    "                s.pop()\n",
    "                \n",
    "        index = index + 1\n",
    "        \n",
    "        \n",
    "    if balanced and s.isEmpty():\n",
    "        \n",
    "        return True\n",
    "    \n",
    "    else:\n",
    "        print(message)\n",
    "        return False"
   ]
  },
  {
   "cell_type": "code",
   "execution_count": 52,
   "metadata": {
    "ExecuteTime": {
     "end_time": "2021-07-22T08:12:26.457327Z",
     "start_time": "2021-07-22T08:12:26.444327Z"
    }
   },
   "outputs": [
    {
     "data": {
      "text/plain": [
       "True"
      ]
     },
     "execution_count": 52,
     "metadata": {},
     "output_type": "execute_result"
    }
   ],
   "source": [
    "balance_par_str_with_stack('((()))')"
   ]
  },
  {
   "cell_type": "code",
   "execution_count": 53,
   "metadata": {
    "ExecuteTime": {
     "end_time": "2021-07-22T08:12:26.472339Z",
     "start_time": "2021-07-22T08:12:26.459332Z"
    }
   },
   "outputs": [
    {
     "name": "stdout",
     "output_type": "stream",
     "text": [
      ") is more\n"
     ]
    },
    {
     "data": {
      "text/plain": [
       "False"
      ]
     },
     "execution_count": 53,
     "metadata": {},
     "output_type": "execute_result"
    }
   ],
   "source": [
    "balance_par_str_with_stack('())')"
   ]
  },
  {
   "cell_type": "code",
   "execution_count": 54,
   "metadata": {
    "ExecuteTime": {
     "end_time": "2021-07-22T08:12:26.488330Z",
     "start_time": "2021-07-22T08:12:26.474326Z"
    }
   },
   "outputs": [
    {
     "name": "stdout",
     "output_type": "stream",
     "text": [
      "( is more\n"
     ]
    },
    {
     "data": {
      "text/plain": [
       "False"
      ]
     },
     "execution_count": 54,
     "metadata": {},
     "output_type": "execute_result"
    }
   ],
   "source": [
    "balance_par_str_with_stack('(')"
   ]
  },
  {
   "cell_type": "markdown",
   "metadata": {},
   "source": [
    "### 10진수를 2진수로 변환하기\n",
    "\n",
    "* 스택을 사용하여 10진수를 2진수로 변환해보자."
   ]
  },
  {
   "cell_type": "code",
   "execution_count": 55,
   "metadata": {
    "ExecuteTime": {
     "end_time": "2021-07-22T08:12:26.503330Z",
     "start_time": "2021-07-22T08:12:26.491329Z"
    }
   },
   "outputs": [],
   "source": [
    "def dec2bin_with_stack(decnum):\n",
    "    s =Stack()\n",
    "    str_aux = \"\"\n",
    "    \n",
    "    while decnum > 0:\n",
    "        decnum , dig = divmod(decnum, 2)\n",
    "        s.push(dig)\n",
    "        \n",
    "    while not s.isEmpty():\n",
    "        str_aux += str(s.pop())\n",
    "        \n",
    "    return str_aux\n",
    "        "
   ]
  },
  {
   "cell_type": "code",
   "execution_count": 56,
   "metadata": {
    "ExecuteTime": {
     "end_time": "2021-07-22T08:12:26.519353Z",
     "start_time": "2021-07-22T08:12:26.505331Z"
    }
   },
   "outputs": [
    {
     "data": {
      "text/plain": [
       "'1001'"
      ]
     },
     "execution_count": 56,
     "metadata": {},
     "output_type": "execute_result"
    }
   ],
   "source": [
    "dec2bin_with_stack(9)"
   ]
  },
  {
   "cell_type": "markdown",
   "metadata": {},
   "source": [
    "### 스택에서 최솟값 O(1)으로 조회하기\n",
    "\n",
    "* 스택에서 최솟값을 조회하려면 어떻게 할까? 모든 요소를 조회할 필요 없이 O(1)으로 조회하는 방법은 없을까? "
   ]
  },
  {
   "cell_type": "code",
   "execution_count": 57,
   "metadata": {
    "ExecuteTime": {
     "end_time": "2021-07-22T08:12:26.535351Z",
     "start_time": "2021-07-22T08:12:26.521338Z"
    }
   },
   "outputs": [],
   "source": [
    "class NodeWithMin(object):\n",
    "    def __init__(self, value=None, minimum=None):\n",
    "        self.value = value\n",
    "        self.minimum = minimum\n",
    "        \n",
    "class StackMin(Stack):\n",
    "    def __init__(self):\n",
    "        self.items = []\n",
    "        self.minimum = None\n",
    "        \n",
    "    def push(self, value):\n",
    "        if self.isEmpty() or self.minimum > value:\n",
    "            self.minimum = value\n",
    "        self.items.append(NodeWithMin(value, self.minimum))\n",
    "        \n",
    "    def peek(self):\n",
    "        return self.items[-1].value\n",
    "    \n",
    "    def peekMinimum(self):\n",
    "        return self.items[-1].minimum\n",
    "    \n",
    "    def pop(self):\n",
    "        item = self.items.pop()\n",
    "        if item:\n",
    "            if item.value == self.minimum:  # pop된 자료가 최소값이라면, \n",
    "                self.minimum = self.peekMinimum() # 최소값 기준을 갱신한다.\n",
    "            return item.value\n",
    "        \n",
    "        else:\n",
    "            print(\"Stack is empty.\")\n",
    "            \n",
    "    def __repr__(self):\n",
    "        aux=[]\n",
    "        for i in self.items:\n",
    "            aux.append(i.value)\n",
    "        return repr(aux)\n",
    "    \n",
    "    "
   ]
  },
  {
   "cell_type": "code",
   "execution_count": 58,
   "metadata": {
    "ExecuteTime": {
     "end_time": "2021-07-22T08:12:26.551354Z",
     "start_time": "2021-07-22T08:12:26.538342Z"
    }
   },
   "outputs": [
    {
     "name": "stdout",
     "output_type": "stream",
     "text": [
      "스택이 비었나요? True\n",
      "스택에 숫자 10~1과 1~4를 추가합니다.\n",
      "[10, 9, 8, 7, 6, 5, 4, 3, 2, 1, 1, 2, 3, 4]\n",
      "스택 크기: 14\n",
      "peek: 4\n",
      "peekMinimum: 1\n",
      "pop: 4\n",
      "peek: 3\n",
      "peekMinimum: 1\n",
      "스택이 비었나요? False\n",
      "[10, 9, 8, 7, 6, 5, 4, 3, 2, 1, 1, 2, 3]\n"
     ]
    }
   ],
   "source": [
    "    stack = StackMin()\n",
    "    print(\"스택이 비었나요? {0}\".format(stack.isEmpty()))\n",
    "    print(\"스택에 숫자 10~1과 1~4를 추가합니다.\")\n",
    "    for i in range(10, 0, -1):\n",
    "        stack.push(i)\n",
    "    for i in range(1, 5):\n",
    "        stack.push(i)\n",
    "    print(stack)\n",
    "\n",
    "    print(\"스택 크기: {0}\".format(stack.size()))\n",
    "    print(\"peek: {0}\".format(stack.peek()))\n",
    "    print(\"peekMinimum: {0}\".format(stack.peekMinimum()))\n",
    "    print(\"pop: {0}\".format(stack.pop()))\n",
    "    print(\"peek: {0}\".format(stack.peek()))\n",
    "    print(\"peekMinimum: {0}\".format(stack.peekMinimum()))\n",
    "    print(\"스택이 비었나요? {0}\".format(stack.isEmpty()))\n",
    "    print(stack)"
   ]
  },
  {
   "cell_type": "markdown",
   "metadata": {},
   "source": [
    "### 스택 집합\n",
    "\n",
    "* 스택에 '용량'이 정해져 있다고 하자. 한 스택의 용량이 초과하면, 새 스택을 만들어야 한다. 이 경우 여러 스택이 있게 될 텐데 이 스택 집합에서도 단일 스택과 같이 push()와 pop() 메서드를 사용하려면 어떻게 해야 할까?"
   ]
  },
  {
   "cell_type": "code",
   "execution_count": 59,
   "metadata": {
    "ExecuteTime": {
     "end_time": "2021-07-22T08:12:26.567365Z",
     "start_time": "2021-07-22T08:12:26.553345Z"
    }
   },
   "outputs": [],
   "source": [
    "class SetOfStacks(Stack):\n",
    "    def __init__(self, capacity=4):\n",
    "        self.setofstacks = []\n",
    "        self.items = []\n",
    "        self.capacity = capacity\n",
    "        \n",
    "    def push(self, value):\n",
    "        if self.size() >= self.capacity: # items 의 갯수가 capa보다 클때\n",
    "            self.setofstacks.append(self.items)# items을 비우고 setofStacks에 \n",
    "            self.items = [] # 담는다.\n",
    "        self.items.append(value)\n",
    "    \n",
    "    def pop(self):\n",
    "        value = self.items.pop()\n",
    "        if self.isEmpty() and self.setofstacks:\n",
    "            self.items = self.setofstacks.pop() # items가 비였다면 가져온다.\n",
    "\n",
    "        return value\n",
    "    \n",
    "    def sizeStack(self):\n",
    "        return len(self.setofstacks) * self.capacity + self.size()\n",
    "    \n",
    "    def __repr__(self):\n",
    "        aux = []\n",
    "        for s in self.setofstacks:\n",
    "            aux.extend(s)\n",
    "            \n",
    "        aux.extend(self.items)\n",
    "        return repr(aux)\n",
    "    \n",
    "    "
   ]
  },
  {
   "cell_type": "code",
   "execution_count": 60,
   "metadata": {
    "ExecuteTime": {
     "end_time": "2021-07-22T08:12:26.583349Z",
     "start_time": "2021-07-22T08:12:26.569347Z"
    }
   },
   "outputs": [
    {
     "name": "stdout",
     "output_type": "stream",
     "text": [
      "스택이 비었나요? True\n",
      "스택에 숫자 0~9를 추가합니다.\n",
      "[0, 1, 2, 3, 4, 5, 6, 7, 8, 9]\n",
      "스택 크기: 10\n",
      "peek: 9\n",
      "pop: 9\n",
      "peek: 8\n",
      "스택이 비었나요? False\n",
      "[0, 1, 2, 3, 4, 5, 6, 7, 8]\n"
     ]
    }
   ],
   "source": [
    "    capacity = 5\n",
    "    stack = SetOfStacks(capacity)\n",
    "    print(\"스택이 비었나요? {0}\".format(stack.isEmpty()))\n",
    "    print(\"스택에 숫자 0~9를 추가합니다.\")\n",
    "    for i in range(10):\n",
    "        stack.push(i)\n",
    "    print(stack)\n",
    "    print(\"스택 크기: {0}\".format(stack.sizeStack()))\n",
    "    print(\"peek: {0}\".format(stack.peek()))\n",
    "    print(\"pop: {0}\".format(stack.pop()))\n",
    "    print(\"peek: {0}\".format(stack.peek()))\n",
    "    print(\"스택이 비었나요? {0}\".format(stack.isEmpty()))\n",
    "    print(stack)"
   ]
  },
  {
   "cell_type": "markdown",
   "metadata": {},
   "source": [
    "## Queue 큐 "
   ]
  },
  {
   "cell_type": "markdown",
   "metadata": {},
   "source": [
    "### 데크와 회문"
   ]
  },
  {
   "cell_type": "code",
   "execution_count": 61,
   "metadata": {
    "ExecuteTime": {
     "end_time": "2021-07-22T08:12:26.599361Z",
     "start_time": "2021-07-22T08:12:26.585350Z"
    }
   },
   "outputs": [],
   "source": [
    "import string\n",
    "import collections\n",
    "\n",
    "STRIP = string.whitespace + string.punctuation + \"\\\"'\"\n",
    "\n",
    "\n",
    "def palindrome_checker_with_deque(str1):\n",
    "    d1 = Deque() # 3.1에서 구현한 클래스 Deque 객체화\n",
    "    d2 = collections.deque()\n",
    "    \n",
    "    for s in str1.lower():\n",
    "        if s not in STRIP:\n",
    "            d2.append(s)\n",
    "            d1.enqueue(s)\n",
    "            \n",
    "    eq1 = True\n",
    "    while d1.size() > 1 and eq1:\n",
    "        if d1.dequeue_front() != d1.dequeue():\n",
    "            eq1 =False\n",
    "            \n",
    "    eq2 = True\n",
    "    while len(d2) > 1 and eq2:\n",
    "        if d2.pop() != d2.popleft():\n",
    "            eq2 = False\n",
    "            \n",
    "    return eq1, eq2\n",
    "    \n"
   ]
  },
  {
   "cell_type": "code",
   "execution_count": 62,
   "metadata": {
    "ExecuteTime": {
     "end_time": "2021-07-22T08:12:26.615369Z",
     "start_time": "2021-07-22T08:12:26.601356Z"
    }
   },
   "outputs": [
    {
     "name": "stdout",
     "output_type": "stream",
     "text": [
      "(True, True)\n",
      "(False, False)\n"
     ]
    }
   ],
   "source": [
    "    str1 = \"Madam Im Adam\"\n",
    "    str2 = \"Buffy is a Slayer\"\n",
    "    print(palindrome_checker_with_deque(str1))\n",
    "    print(palindrome_checker_with_deque(str2))"
   ]
  },
  {
   "cell_type": "markdown",
   "metadata": {},
   "source": [
    "### 큐와 동물 보호소\n",
    "\n",
    "- 개와 고양이를 입양enqueue했다가 다시 출양dequeue하는 동물 보호소를 큐로 구현해보자.\n",
    "\n",
    "- 단, 동물 보호소는 개와 고양이를 지정하여 입출양 할 수 있어야 한다. "
   ]
  },
  {
   "cell_type": "code",
   "execution_count": 63,
   "metadata": {
    "ExecuteTime": {
     "end_time": "2021-07-22T08:12:26.631360Z",
     "start_time": "2021-07-22T08:12:26.621359Z"
    }
   },
   "outputs": [],
   "source": [
    "class Node(object):\n",
    "    def __init__(self,animalName=None, \n",
    "                 animalKind=None, pointer=None):\n",
    "        self.animalName = animalName\n",
    "        self.animalKind = animalKind\n",
    "        self.pointer = pointer\n",
    "        self.timestamp = 0 \n",
    "        \n",
    "\n",
    "class AnimalShelter(object):\n",
    "    def __init__(self):\n",
    "        self.headCat = None\n",
    "        self.headDog = None\n",
    "        self.tailCat = None\n",
    "        self.tailDog = None\n",
    "        self.animalNumber = 0 \n",
    "        \n",
    "    def enqueue(self, animalName, animalKind):\n",
    "        self.animalNumber += 1\n",
    "        newAnimal = Node(animalName, animalKind)\n",
    "        newAnimal.timestamp = self.animalNumber\n",
    "        \n",
    "        if animalKind == 'cat':\n",
    "            if not self.headCat:\n",
    "                self.headCat = newAnimal\n",
    "            if self.tailCat:\n",
    "                self.tailCat.pointer = newAnimal\n",
    "            self.tailCat = newAnimal\n",
    "            \n",
    "        elif animalKind == 'dog':\n",
    "            if not self.headDog:\n",
    "                self.headDog = newAnimal\n",
    "            if self.tailDog:\n",
    "                self.tailDog.pointer = newAnimal\n",
    "            self.tailDog = newAnimal\n",
    "            \n",
    "    def dequeueDog(self):\n",
    "        if self.headDog:\n",
    "            outAnimal = self.headDog\n",
    "            self.headDog = outAnimal.pointer\n",
    "            return str(outAnimal.animalName)\n",
    "            \n",
    "        else:\n",
    "            print(\"멍멍이가 없어유~\")\n",
    "            \n",
    "    def dequeueCat(self):\n",
    "        if self.headCat:\n",
    "            outAnimal = self.headCat\n",
    "            self.headCat = outAnimal.pointer\n",
    "            return str(outAnimal.animalName)\n",
    "        \n",
    "        else:\n",
    "            print(\"냥냥이가 없어유~\")\n",
    "            \n",
    "    def dequeueAny(self):\n",
    "        if self.headCat and not self.headDog:\n",
    "            return self.dequeueCat()\n",
    "        elif self.headDog and not self.headCat:\n",
    "            return self.dequeueDog()\n",
    "        \n",
    "        elif self.headDog and self.headCat:\n",
    "            if self.headDog.timestamp < self.headCat.timestamp:\n",
    "                return self.dequeueDog()\n",
    "            else:\n",
    "                return self.dequeueCat()\n",
    "            \n",
    "        else:\n",
    "            print(\"보호소에 아무도 없어유~\")\n",
    "            \n",
    "    def _print(self):\n",
    "        print('냥냥이 :')\n",
    "        cats = self.headCat\n",
    "        while cats:\n",
    "            print('\\t{}'.format(cats.animalName))\n",
    "            cats = cats.pointer\n",
    "            \n",
    "        print('멍뭉이 :')\n",
    "        dogs = self.headDog\n",
    "        while dogs:\n",
    "            print('\\t{}'.format(dogs.animalName))\n",
    "            dogs = dogs.pointer\n",
    "    "
   ]
  },
  {
   "cell_type": "code",
   "execution_count": 64,
   "metadata": {
    "ExecuteTime": {
     "end_time": "2021-07-22T08:12:26.647365Z",
     "start_time": "2021-07-22T08:12:26.633362Z"
    }
   },
   "outputs": [
    {
     "name": "stdout",
     "output_type": "stream",
     "text": [
      "냥냥이 :\n",
      "\t밥\n",
      "\t미아\n",
      "멍뭉이 :\n",
      "\t요다\n",
      "\t울프\n",
      "하나의 개와 고양이에 대해서 dequeue를 실행합니다.\n",
      "냥냥이 :\n",
      "\t미아\n",
      "멍뭉이 :\n",
      "\t울프\n"
     ]
    }
   ],
   "source": [
    "    qs = AnimalShelter()\n",
    "    qs.enqueue(\"밥\", \"cat\")\n",
    "    qs.enqueue(\"미아\", \"cat\")\n",
    "    qs.enqueue(\"요다\", \"dog\")\n",
    "    qs.enqueue(\"울프\", \"dog\")\n",
    "    qs._print()\n",
    "\n",
    "    print(\"하나의 개와 고양이에 대해서 dequeue를 실행합니다.\")\n",
    "    qs.dequeueDog()\n",
    "    qs.dequeueCat()\n",
    "    qs._print()"
   ]
  },
  {
   "cell_type": "markdown",
   "metadata": {},
   "source": [
    "## heapq & heap 우선순위 큐와 힙\n",
    "\n",
    "* 파이썬에서 제공하는 heapq 모듈을 사용하여 시퀀스에서 N개의 가장 큰 항목과 가장 작은 항목을 찾아보자"
   ]
  },
  {
   "cell_type": "code",
   "execution_count": 65,
   "metadata": {
    "ExecuteTime": {
     "end_time": "2021-07-22T08:12:26.663367Z",
     "start_time": "2021-07-22T08:12:26.649364Z"
    }
   },
   "outputs": [],
   "source": [
    "import heapq\n",
    "\n",
    "def find_N_largest_items_seq(seq, N):\n",
    "    return heapq.nlargest(N, seq)\n",
    "\n",
    "def find_N_smallest_items_seq(seq, N):\n",
    "    return heapq.nsmallest(N, seq)\n",
    "\n",
    "def find_smallest_items_seq_heap(seq):\n",
    "    heapq.heapify(seq)\n",
    "    return heapq.heappop(seq)\n",
    "\n",
    "def find_smallest_items_seq(seq):\n",
    "    return min(seq)\n",
    "\n",
    "def find_N_smallest_items_seq_sorted(seq, N):\n",
    "    return sorted(seq)[:N]\n",
    "\n",
    "def find_N_largest_items_seq_sorted(seq, N):\n",
    "    return sorted(seq)[len(seq)-N:]"
   ]
  },
  {
   "cell_type": "code",
   "execution_count": 66,
   "metadata": {
    "ExecuteTime": {
     "end_time": "2021-07-22T08:12:26.679370Z",
     "start_time": "2021-07-22T08:12:26.665368Z"
    }
   },
   "outputs": [
    {
     "name": "stdout",
     "output_type": "stream",
     "text": [
      "테스트 통과!\n"
     ]
    }
   ],
   "source": [
    "def test_find_N_largest_smallest_items_seq():\n",
    "    seq = [1, 3, 2, 8, 6, 10, 9]\n",
    "    N = 3\n",
    "    assert(find_N_largest_items_seq(seq, N) == [10, 9, 8])\n",
    "    assert(find_N_largest_items_seq_sorted(seq, N) == [8, 9, 10])\n",
    "    assert(find_N_smallest_items_seq(seq, N) == [1, 2, 3])\n",
    "    assert(find_N_smallest_items_seq_sorted(seq, N) == [1, 2, 3])\n",
    "    assert(find_smallest_items_seq(seq) == 1)\n",
    "    assert(find_smallest_items_seq_heap(seq) == 1)\n",
    "\n",
    "    print(\"테스트 통과!\")\n",
    "\n",
    "\n",
    "if __name__ == \"__main__\":\n",
    "    test_find_N_largest_smallest_items_seq()"
   ]
  },
  {
   "cell_type": "markdown",
   "metadata": {},
   "source": [
    "이번에는 heapq 모듈을 사용하여 정렬된 두 시퀀스를 적은 비용으로 병합해 보자."
   ]
  },
  {
   "cell_type": "code",
   "execution_count": 67,
   "metadata": {
    "ExecuteTime": {
     "end_time": "2021-07-22T08:12:26.695377Z",
     "start_time": "2021-07-22T08:12:26.681372Z"
    }
   },
   "outputs": [],
   "source": [
    "import heapq\n",
    "\n",
    "def merge_sorted_seqs(seq1, seq2):\n",
    "    result=[]\n",
    "    for c in heapq.merge(seq1, seq2):\n",
    "        result.append(c)\n",
    "    return result"
   ]
  },
  {
   "cell_type": "code",
   "execution_count": 68,
   "metadata": {
    "ExecuteTime": {
     "end_time": "2021-07-22T08:12:26.711378Z",
     "start_time": "2021-07-22T08:12:26.697376Z"
    }
   },
   "outputs": [
    {
     "name": "stdout",
     "output_type": "stream",
     "text": [
      "테스트 통과!\n"
     ]
    }
   ],
   "source": [
    "def test_merge_sorted_seqs():\n",
    "    seq1 = [1, 2, 3, 8, 9, 10]\n",
    "    seq2 = [2, 3, 4, 5, 6, 7, 9]\n",
    "    seq3 = seq1 + seq2\n",
    "    assert(merge_sorted_seqs(seq1, seq2) == sorted(seq3))\n",
    "\n",
    "    print(\"테스트 통과!\")\n",
    "\n",
    "\n",
    "if __name__ == \"__main__\":\n",
    "    test_merge_sorted_seqs()"
   ]
  },
  {
   "cell_type": "markdown",
   "metadata": {},
   "source": [
    "## LinkedList 연결 리스트"
   ]
  },
  {
   "cell_type": "markdown",
   "metadata": {},
   "source": [
    "###  끝에서 k번째 항목 찾기\n",
    "연결 리스트의 끝에서 k번째 항목을 찾아보자."
   ]
  },
  {
   "cell_type": "code",
   "execution_count": 69,
   "metadata": {
    "ExecuteTime": {
     "end_time": "2021-07-22T08:12:26.726382Z",
     "start_time": "2021-07-22T08:12:26.712379Z"
    }
   },
   "outputs": [],
   "source": [
    "class Node(object):\n",
    "    def __init__(self, value=None, pointer=None):\n",
    "        self.value = value\n",
    "        self.pointer = pointer\n",
    "\n",
    "    def getData(self):\n",
    "        return self.value\n",
    "\n",
    "    def getNext(self):\n",
    "        return self.pointer\n",
    "\n",
    "    def setData(self, newdata):\n",
    "        self.value = newdata\n",
    "\n",
    "    def setNext(self, newpointer):\n",
    "        self.pointer = newpointer"
   ]
  },
  {
   "cell_type": "code",
   "execution_count": 70,
   "metadata": {
    "ExecuteTime": {
     "end_time": "2021-07-22T08:12:26.741386Z",
     "start_time": "2021-07-22T08:12:26.728382Z"
    }
   },
   "outputs": [],
   "source": [
    "class KthFromLast(LinkedListFIFO):\n",
    "    def find_kth_to_last(self, k):\n",
    "        p1, p2 = self.head, self.head\n",
    "        i = 0 \n",
    "        while p1: # 뒤에서 부터 가져와야 하기때문에 p1과 p2의 차이값을 이용해서 구하려는 것\n",
    "            if p1.pointer:\n",
    "                print('p1',p1.value, end='\\t')\n",
    "            else:\n",
    "                print('p1','none',end='\\t')\n",
    "            print('p2',p2.value) \n",
    "            if i > k-1:\n",
    "                try:\n",
    "                    p2 = p2.pointer\n",
    "                    \n",
    "                except AttributeError: # 전체 갯수보다 적어지는 경우를 대비\n",
    "                    break\n",
    "            p1 = p1.pointer # p1 이 마지막 이 되면 pointer 가 None 되기 때문에 while문이 중단\n",
    "            \n",
    "            i += 1\n",
    "        return p2.value\n",
    "    \n",
    "    "
   ]
  },
  {
   "cell_type": "code",
   "execution_count": 71,
   "metadata": {
    "ExecuteTime": {
     "end_time": "2021-07-22T08:12:26.757390Z",
     "start_time": "2021-07-22T08:12:26.743387Z"
    }
   },
   "outputs": [
    {
     "name": "stdout",
     "output_type": "stream",
     "text": [
      "연결 리스트: 1 2 3 4 5 6 7 8 9 10 \n",
      "p1 1\tp2 1\n",
      "p1 2\tp2 1\n",
      "p1 3\tp2 1\n",
      "p1 4\tp2 1\n",
      "p1 5\tp2 2\n",
      "p1 6\tp2 3\n",
      "p1 7\tp2 4\n",
      "p1 8\tp2 5\n",
      "p1 9\tp2 6\n",
      "p1 none\tp2 7\n",
      "연결 리스트의 끝에서 3번째 항목은 8입니다.\n"
     ]
    }
   ],
   "source": [
    "ll = KthFromLast()\n",
    "for i in range(1, 11):\n",
    "    ll.addNode(i)\n",
    "print(\"연결 리스트: \", end=\"\")\n",
    "ll._printList()\n",
    "k = 3\n",
    "k_from_last = ll.find_kth_to_last(k)\n",
    "print(\"연결 리스트의 끝에서 {0}번째 항목은 {1}입니다.\".format(k, k_from_last))\n"
   ]
  },
  {
   "cell_type": "markdown",
   "metadata": {},
   "source": [
    "연결 리스트에는 두 포인터가 있다. 반복문에서 하나는 연결 리스트를 계속 순회하고, 또 다른 하나는 k-1 이후를 순회한다."
   ]
  },
  {
   "cell_type": "markdown",
   "metadata": {},
   "source": [
    "###  연결 리스트 분할하기\n",
    "\n",
    "숫자가 단긴 연결 리스트에서 한 항목을 선택했을 때, 그 항목 값의 왼쪽에는 작은 숫자 항목만 나오고 오른쪽에는 큰 숫자 항목 나오도록 연결 리스트를 분할 해보자."
   ]
  },
  {
   "cell_type": "code",
   "execution_count": 72,
   "metadata": {
    "ExecuteTime": {
     "end_time": "2021-07-22T08:12:26.773394Z",
     "start_time": "2021-07-22T08:12:26.759390Z"
    }
   },
   "outputs": [],
   "source": [
    "def partList(ll, n):\n",
    "    more = LinkedListFIFO()\n",
    "    less = LinkedListFIFO()\n",
    "    \n",
    "    node = ll.head\n",
    "    \n",
    "    while node:\n",
    "        item = node.value\n",
    "        \n",
    "        if item < n:\n",
    "            less.addNode(item)\n",
    "            \n",
    "        elif item > n:\n",
    "            more.addNode(item)\n",
    "            \n",
    "        node = node.pointer\n",
    "        \n",
    "    less.addNode(n)\n",
    "    nodemore = more.head\n",
    "    \n",
    "    while nodemore:\n",
    "        less.addNode(nodemore.value)\n",
    "        nodemore = nodemore.pointer\n",
    "        \n",
    "    return less"
   ]
  },
  {
   "cell_type": "code",
   "execution_count": 73,
   "metadata": {
    "ExecuteTime": {
     "end_time": "2021-07-22T08:12:26.789396Z",
     "start_time": "2021-07-22T08:12:26.775396Z"
    }
   },
   "outputs": [
    {
     "name": "stdout",
     "output_type": "stream",
     "text": [
      "분할전\n",
      "6 7 3 4 9 5 1 2 8 \n"
     ]
    }
   ],
   "source": [
    "ll = LinkedListFIFO()\n",
    "l = [6, 7, 3, 4, 9, 5, 1, 2, 8]\n",
    "for i in l:\n",
    "    ll.addNode(i)\n",
    "    \n",
    "print('분할전')    \n",
    "ll._printList()"
   ]
  },
  {
   "cell_type": "code",
   "execution_count": 74,
   "metadata": {
    "ExecuteTime": {
     "end_time": "2021-07-22T08:12:26.805398Z",
     "start_time": "2021-07-22T08:12:26.791398Z"
    }
   },
   "outputs": [
    {
     "name": "stdout",
     "output_type": "stream",
     "text": [
      "분할후\n",
      "3 4 5 1 2 6 7 9 8 \n"
     ]
    }
   ],
   "source": [
    "print('분할후')\n",
    "newll = partList(ll, 6)\n",
    "newll._printList()"
   ]
  },
  {
   "cell_type": "markdown",
   "metadata": {},
   "source": [
    "2개 로 나눈후에 다시 연결해 준다."
   ]
  },
  {
   "cell_type": "markdown",
   "metadata": {},
   "source": [
    "### 이중 연결 리스트와 FIFO\n",
    "\n",
    "* 앞에서 구현한 `LinkedListFIFO` 클래스는 단일 연결 리스트(singly linked list)이다.\n",
    "\n",
    "* **이중 연결 리스트**(doubly linked list)에서는 포인터가 두개 있어, 하나는 앞 노드를 하나는 뒤 노드를 가리킨다."
   ]
  },
  {
   "cell_type": "code",
   "execution_count": 75,
   "metadata": {
    "ExecuteTime": {
     "end_time": "2021-07-22T08:12:26.821404Z",
     "start_time": "2021-07-22T08:12:26.807399Z"
    }
   },
   "outputs": [],
   "source": [
    "class DNode(object):\n",
    "    def __init__(self, value=None, pointer=None, previous=None):\n",
    "        self.value = value\n",
    "        self.pointer = pointer\n",
    "        self.previous = previous\n",
    "        \n",
    "class DLinkedList(LinkedListFIFO):\n",
    "    def _printListInverse(self):\n",
    "        node = self.tail\n",
    "        while node:\n",
    "            print(node.value, end=' ')\n",
    "            try:\n",
    "                node = node.previous\n",
    "                \n",
    "            except AttributeError:\n",
    "                break\n",
    "        print()\n",
    "        \n",
    "    def _add(self, value):\n",
    "        self.length += 1\n",
    "        node = DNode(value)\n",
    "        if self.tail:\n",
    "            self.tail.pointer = node\n",
    "            node.previous = self.tail\n",
    "        self.tail = node\n",
    "        \n",
    "    def _delete(self, node):\n",
    "        self.length -= 1\n",
    "        node.previous.pointer = node.pointer\n",
    "        if not node.pointer: # 지운 노드가 마지막 노드라면 tail로 지정\n",
    "            self.tail = node.previous \n",
    "            \n",
    "    def _find(self, index):\n",
    "        node = self.head\n",
    "        i = 0 \n",
    "        while node and i < index:\n",
    "            node = node.pointer\n",
    "            i += 1\n",
    "            \n",
    "        return node, i\n",
    "    \n",
    "    def deleteNode(self, index):\n",
    "        if not self.head or not self.head.pointer:\n",
    "            self._deleteFirst() \n",
    "            \n",
    "        else:\n",
    "            node, i = self._find(index)\n",
    "            \n",
    "            if i == index:\n",
    "                self._delete(node)\n",
    "                \n",
    "            else:\n",
    "                print(\"인덱스 {}에 해당하는 노드가 없습니다\".format(index))\n",
    "                "
   ]
  },
  {
   "cell_type": "code",
   "execution_count": 76,
   "metadata": {
    "ExecuteTime": {
     "end_time": "2021-07-22T08:12:26.837406Z",
     "start_time": "2021-07-22T08:12:26.823403Z"
    }
   },
   "outputs": [],
   "source": [
    "ll = DLinkedList()\n",
    "\n",
    "for i in range(1,5):\n",
    "    ll.addNode(i)"
   ]
  },
  {
   "cell_type": "code",
   "execution_count": 77,
   "metadata": {
    "ExecuteTime": {
     "end_time": "2021-07-22T08:12:26.853410Z",
     "start_time": "2021-07-22T08:12:26.839410Z"
    }
   },
   "outputs": [
    {
     "name": "stdout",
     "output_type": "stream",
     "text": [
      "연결 리스트 출력\n",
      "1 2 3 4 \n"
     ]
    }
   ],
   "source": [
    "print('연결 리스트 출력')\n",
    "ll._printList()"
   ]
  },
  {
   "cell_type": "code",
   "execution_count": 78,
   "metadata": {
    "ExecuteTime": {
     "end_time": "2021-07-22T08:12:26.869414Z",
     "start_time": "2021-07-22T08:12:26.855413Z"
    }
   },
   "outputs": [
    {
     "name": "stdout",
     "output_type": "stream",
     "text": [
      "역순으로 리스트 출력\n",
      "4 3 2 1 \n"
     ]
    }
   ],
   "source": [
    "print(\"역순으로 리스트 출력\")\n",
    "ll._printListInverse()"
   ]
  },
  {
   "cell_type": "code",
   "execution_count": 79,
   "metadata": {
    "ExecuteTime": {
     "end_time": "2021-07-22T08:12:26.885417Z",
     "start_time": "2021-07-22T08:12:26.871415Z"
    }
   },
   "outputs": [
    {
     "name": "stdout",
     "output_type": "stream",
     "text": [
      "1 2 3 4 15 \n"
     ]
    }
   ],
   "source": [
    "ll._add(15)\n",
    "ll._printList()"
   ]
  },
  {
   "cell_type": "code",
   "execution_count": 80,
   "metadata": {
    "ExecuteTime": {
     "end_time": "2021-07-22T08:12:26.901421Z",
     "start_time": "2021-07-22T08:12:26.887418Z"
    }
   },
   "outputs": [
    {
     "data": {
      "text/plain": [
       "5"
      ]
     },
     "execution_count": 80,
     "metadata": {},
     "output_type": "execute_result"
    }
   ],
   "source": [
    "ll.length"
   ]
  },
  {
   "cell_type": "code",
   "execution_count": 81,
   "metadata": {
    "ExecuteTime": {
     "end_time": "2021-07-22T08:12:26.917425Z",
     "start_time": "2021-07-22T08:12:26.903421Z"
    }
   },
   "outputs": [
    {
     "name": "stdout",
     "output_type": "stream",
     "text": [
      "연결 리스트가 비었습니다. \n",
      "\n"
     ]
    }
   ],
   "source": [
    "for i in range(ll.length-1, -1, -1):\n",
    "    ll.deleteNode(i)\n",
    "    \n",
    "ll._printListInverse()"
   ]
  },
  {
   "cell_type": "markdown",
   "metadata": {},
   "source": [
    "### 회문 확인하기\n",
    "\n",
    "앞에서는 데크를 사용하여 회문 여부를 확인했다. 이번에는 연결 리스트가 회문인지 확인해 보는 코드를 작성해보자."
   ]
  },
  {
   "cell_type": "code",
   "execution_count": 82,
   "metadata": {
    "ExecuteTime": {
     "end_time": "2021-07-22T08:59:51.521983Z",
     "start_time": "2021-07-22T08:59:51.502964Z"
    }
   },
   "outputs": [],
   "source": [
    "# Node.py\n",
    "class Node(object):\n",
    "    def __init__(self, value=None, pointer=None):\n",
    "        self.value = value\n",
    "        self.pointer = pointer\n",
    "\n",
    "    def getData(self):\n",
    "        return self.value\n",
    "\n",
    "    def getNext(self):\n",
    "        return self.pointer\n",
    "\n",
    "    def setData(self, newdata):\n",
    "        self.value = newdata\n",
    "\n",
    "    def setNext(self, newpointer):\n",
    "        self.pointer = newpointer"
   ]
  },
  {
   "cell_type": "code",
   "execution_count": null,
   "metadata": {
    "ExecuteTime": {
     "end_time": "2021-07-22T08:16:13.782415Z",
     "start_time": "2021-07-22T08:16:13.779425Z"
    }
   },
   "outputs": [],
   "source": [
    "def isPal(l1):\n",
    "    if len(l1) < 2:\n",
    "        return True\n",
    "    \n",
    "    if l1[0] != l1[-1]:\n",
    "        return False\n",
    "    \n",
    "    return isPal(l1[1:-1])\n",
    "\n",
    "def checkllPal(ll):\n",
    "    node = ll.head\n",
    "    l = []\n",
    "    \n",
    "    while node is not None:\n",
    "        l.append(node.value)\n",
    "        node = node.pointer\n",
    "        \n",
    "    return isPal(l)"
   ]
  },
  {
   "cell_type": "code",
   "execution_count": 84,
   "metadata": {
    "ExecuteTime": {
     "end_time": "2021-07-22T08:18:43.163275Z",
     "start_time": "2021-07-22T08:18:43.150264Z"
    }
   },
   "outputs": [],
   "source": [
    "def test_checkllPal():\n",
    "    ll = LinkedListFIFO()\n",
    "    l1 = [1, 2, 3, 2, 1]\n",
    "    for i in l1:\n",
    "        ll.addNode(i)\n",
    "    assert(checkllPal(ll) is True)\n",
    "    \n",
    "    ll.addNode(2)\n",
    "    ll.addNode(3)\n",
    "    assert(checkllPal(ll) is False)\n",
    "    \n",
    "    print('테스트 통과!')"
   ]
  },
  {
   "cell_type": "code",
   "execution_count": 85,
   "metadata": {
    "ExecuteTime": {
     "end_time": "2021-07-22T08:18:52.904004Z",
     "start_time": "2021-07-22T08:18:52.900004Z"
    }
   },
   "outputs": [
    {
     "name": "stdout",
     "output_type": "stream",
     "text": [
      "테스트 통과!\n"
     ]
    }
   ],
   "source": [
    "test_checkllPal()"
   ]
  },
  {
   "cell_type": "markdown",
   "metadata": {},
   "source": [
    "### 두 연결 리스트의 숫자 더하기\n",
    "\n",
    "연결 리스트의 각 항목은 양의 정수라고 가정하자.<br>\n",
    "한 연결 리스트의 항목으로 예를 들어 순서대로 1, 7, 6, 2가 추가되었다면, 이 연결 리스트의 숫자는 2671이다. 두 연결 리스트의 숫자를 더하여 숫자 결과를 출력하는 코드를 작성해보자."
   ]
  },
  {
   "cell_type": "code",
   "execution_count": 134,
   "metadata": {
    "ExecuteTime": {
     "end_time": "2021-07-22T08:59:51.521983Z",
     "start_time": "2021-07-22T08:59:51.502964Z"
    }
   },
   "outputs": [],
   "source": [
    "class Node(object):\n",
    "    def __init__(self, value=None, pointer=None):\n",
    "        self.value = value\n",
    "        self.pointer = pointer\n",
    "\n",
    "    def getData(self):\n",
    "        return self.value\n",
    "\n",
    "    def getNext(self):\n",
    "        return self.pointer\n",
    "\n",
    "    def setData(self, newdata):\n",
    "        self.value = newdata\n",
    "\n",
    "    def setNext(self, newpointer):\n",
    "        self.pointer = newpointer"
   ]
  },
  {
   "cell_type": "code",
   "execution_count": 135,
   "metadata": {
    "ExecuteTime": {
     "end_time": "2021-07-22T08:59:51.927826Z",
     "start_time": "2021-07-22T08:59:51.907809Z"
    }
   },
   "outputs": [],
   "source": [
    "class LinkedListFIFOYield(LinkedListFIFO):\n",
    "    def _printList2(self):\n",
    "        node = self.head\n",
    "        while node:\n",
    "            yield node.value\n",
    "            node = node.pointer\n",
    "            \n",
    "def sumlls(l1, l2):\n",
    "    lsum = LinkedListFIFOYield()\n",
    "    dig1 = l1.head\n",
    "    dig2 = l2.head\n",
    "    pointer = 0 \n",
    "    lsum._printList()\n",
    "    \n",
    "    while dig1 and dig2:\n",
    "        d1 = dig1.value\n",
    "        d2 = dig2.value\n",
    "        sum_d = d1 + d2 + pointer\n",
    "        if sum_d > 9:\n",
    "            pointer = sum_d // 10\n",
    "            lsum.addNode(sum_d % 10)\n",
    "\n",
    "        else:\n",
    "            lsum.addNode(sum_d)\n",
    "            pointer = 0 \n",
    "            \n",
    "        lsum._printList()\n",
    "        \n",
    "        dig1 = dig1.pointer\n",
    "        dig2 = dig2.pointer\n",
    "        \n",
    "        \n",
    "    if dig1:\n",
    "        sum_d = pointer + dig1.value\n",
    "        if sum_d > 9:\n",
    "            lsum.addNode(sum_d % 10)\n",
    "        else:\n",
    "            lsum.addNode(sum_d)\n",
    "        dig1 = dig1.pointer\n",
    "        \n",
    "    if dig2:\n",
    "        sum_d = pointer + dig2.value\n",
    "        if sum_d > 9:\n",
    "            lsum.addNode(sum_d%10)    \n",
    "        else:\n",
    "            lsum.addNode(sum_d)\n",
    "            \n",
    "        dig2 = dig2.pointer\n",
    "    lsum._printList()\n",
    "    return lsum\n",
    "    "
   ]
  },
  {
   "cell_type": "code",
   "execution_count": 136,
   "metadata": {
    "ExecuteTime": {
     "end_time": "2021-07-22T08:59:52.321858Z",
     "start_time": "2021-07-22T08:59:52.313851Z"
    }
   },
   "outputs": [
    {
     "name": "stdout",
     "output_type": "stream",
     "text": [
      "1 7 6 2 \n"
     ]
    }
   ],
   "source": [
    "l1 = LinkedListFIFOYield()\n",
    "l1.addNode(1)\n",
    "l1.addNode(7)\n",
    "l1.addNode(6)\n",
    "l1.addNode(2)\n",
    "l1._printList()"
   ]
  },
  {
   "cell_type": "code",
   "execution_count": 137,
   "metadata": {
    "ExecuteTime": {
     "end_time": "2021-07-22T08:59:52.631817Z",
     "start_time": "2021-07-22T08:59:52.627822Z"
    }
   },
   "outputs": [
    {
     "name": "stdout",
     "output_type": "stream",
     "text": [
      "1\n",
      "7\n",
      "6\n",
      "2\n"
     ]
    }
   ],
   "source": [
    "for i in l1._printList2() :\n",
    "    print(i)"
   ]
  },
  {
   "cell_type": "code",
   "execution_count": 138,
   "metadata": {
    "ExecuteTime": {
     "end_time": "2021-07-22T08:59:53.415320Z",
     "start_time": "2021-07-22T08:59:53.409324Z"
    }
   },
   "outputs": [],
   "source": [
    "l2 = LinkedListFIFOYield()\n",
    "l2.addNode(5)\n",
    "l2.addNode(5)\n",
    "l2.addNode(4)"
   ]
  },
  {
   "cell_type": "code",
   "execution_count": 139,
   "metadata": {
    "ExecuteTime": {
     "end_time": "2021-07-22T08:59:56.189948Z",
     "start_time": "2021-07-22T08:59:56.184952Z"
    }
   },
   "outputs": [
    {
     "name": "stdout",
     "output_type": "stream",
     "text": [
      "5\n",
      "5\n",
      "4\n"
     ]
    }
   ],
   "source": [
    "for i in l2._printList2() :\n",
    "    print(i)"
   ]
  },
  {
   "cell_type": "code",
   "execution_count": 140,
   "metadata": {
    "ExecuteTime": {
     "end_time": "2021-07-22T08:59:55.143880Z",
     "start_time": "2021-07-22T08:59:55.134874Z"
    }
   },
   "outputs": [
    {
     "name": "stdout",
     "output_type": "stream",
     "text": [
      "\n",
      "6 \n",
      "6 2 \n",
      "6 2 1 \n",
      "6 2 1 3 \n"
     ]
    }
   ],
   "source": [
    "lsum = sumlls(l1, l2)"
   ]
  },
  {
   "cell_type": "code",
   "execution_count": 141,
   "metadata": {
    "ExecuteTime": {
     "end_time": "2021-07-22T08:59:56.189948Z",
     "start_time": "2021-07-22T08:59:56.184952Z"
    }
   },
   "outputs": [
    {
     "name": "stdout",
     "output_type": "stream",
     "text": [
      "6\n",
      "2\n",
      "1\n",
      "3\n"
     ]
    }
   ],
   "source": [
    "for i in lsum._printList2() :\n",
    "    print(i)"
   ]
  },
  {
   "cell_type": "code",
   "execution_count": 142,
   "metadata": {
    "ExecuteTime": {
     "end_time": "2021-07-22T08:59:57.455103Z",
     "start_time": "2021-07-22T08:59:57.444084Z"
    }
   },
   "outputs": [
    {
     "name": "stdout",
     "output_type": "stream",
     "text": [
      "3126"
     ]
    }
   ],
   "source": [
    "l = list(lsum._printList2())\n",
    "for i in reversed(l):\n",
    "    print(i, end=\"\")\n",
    "    "
   ]
  },
  {
   "cell_type": "markdown",
   "metadata": {},
   "source": [
    "### 원형 연결 리스트 찾기\n",
    "\n",
    "헤드와 테일이 연결된 연결 리스트를 **원형 연결리스**circular linked list라고 한다.<br>\n",
    "\n",
    "두 포인터를 사용하면 원형 연결 리스트의 여부를 확인할 수 있다."
   ]
  },
  {
   "cell_type": "code",
   "execution_count": 143,
   "metadata": {
    "ExecuteTime": {
     "end_time": "2021-07-22T09:14:16.491322Z",
     "start_time": "2021-07-22T09:14:16.482327Z"
    }
   },
   "outputs": [],
   "source": [
    "class CicularLinkedListFIFO(LinkedListFIFO):\n",
    "    def _add(self, value):\n",
    "        self.length += 1\n",
    "        node = Node(value, self.head)\n",
    "        if self.tail:\n",
    "            self.tail.pointer = node\n",
    "            \n",
    "        self.tail = node"
   ]
  },
  {
   "cell_type": "code",
   "execution_count": 146,
   "metadata": {
    "ExecuteTime": {
     "end_time": "2021-07-22T09:22:57.328775Z",
     "start_time": "2021-07-22T09:22:57.320774Z"
    }
   },
   "outputs": [],
   "source": [
    "def isCircularll(ll):\n",
    "    p1 = ll.head\n",
    "    p2 = ll.head\n",
    "    \n",
    "    while p2:\n",
    "        try:\n",
    "            p1 = p1.pointer\n",
    "            p2 = p2.pointer.pointer\n",
    "            \n",
    "        except:\n",
    "            break\n",
    "            \n",
    "        if p1 == p2:\n",
    "            return True\n",
    "        \n",
    "    return False"
   ]
  },
  {
   "cell_type": "code",
   "execution_count": 147,
   "metadata": {
    "ExecuteTime": {
     "end_time": "2021-07-22T09:24:00.171023Z",
     "start_time": "2021-07-22T09:24:00.156016Z"
    }
   },
   "outputs": [
    {
     "data": {
      "text/plain": [
       "True"
      ]
     },
     "execution_count": 147,
     "metadata": {},
     "output_type": "execute_result"
    }
   ],
   "source": [
    "ll = LinkedListFIFO()\n",
    "for i in range(10):\n",
    "    ll.addNode(i)\n",
    "\n",
    "isCircularll(ll) == False"
   ]
  },
  {
   "cell_type": "code",
   "execution_count": 149,
   "metadata": {
    "ExecuteTime": {
     "end_time": "2021-07-22T09:24:57.467373Z",
     "start_time": "2021-07-22T09:24:57.455376Z"
    }
   },
   "outputs": [
    {
     "data": {
      "text/plain": [
       "True"
      ]
     },
     "execution_count": 149,
     "metadata": {},
     "output_type": "execute_result"
    }
   ],
   "source": [
    "lcirc = CicularLinkedListFIFO()\n",
    "for i in range(10):\n",
    "    lcirc.addNode(i)\n",
    "    \n",
    "isCircularll(lcirc) == True"
   ]
  },
  {
   "cell_type": "markdown",
   "metadata": {},
   "source": [
    "**Reference**\n",
    "\n",
    "* <a href='https://github.com/SeWonKwon' ><div> <img src ='https://slid-capture.s3.ap-northeast-2.amazonaws.com/public/image_upload/6556674324ed41a289a354258718280d/964e5a8b-75ad-41fc-ae75-0ca66d06fbc7.png' align='left' /> </div></a>\n",
    "\n",
    "<br>\n",
    "\n",
    "* [파이썬 자료구조와 알고리즘, 미아 스타인](https://github.com/AstinCHOI/Python-and-Algorithms-and-Data-Structures)\n",
    "\n",
    "* https://daimhada.tistory.com/107"
   ]
  }
 ],
 "metadata": {
  "kernelspec": {
   "display_name": "Python 3",
   "language": "python",
   "name": "python3"
  },
  "language_info": {
   "codemirror_mode": {
    "name": "ipython",
    "version": 3
   },
   "file_extension": ".py",
   "mimetype": "text/x-python",
   "name": "python",
   "nbconvert_exporter": "python",
   "pygments_lexer": "ipython3",
   "version": "3.8.5"
  },
  "toc": {
   "base_numbering": 1,
   "nav_menu": {},
   "number_sections": true,
   "sideBar": true,
   "skip_h1_title": false,
   "title_cell": "Table of Contents",
   "title_sidebar": "Contents",
   "toc_cell": false,
   "toc_position": {
    "height": "calc(100% - 180px)",
    "left": "10px",
    "top": "150px",
    "width": "283.002px"
   },
   "toc_section_display": true,
   "toc_window_display": false
  }
 },
 "nbformat": 4,
 "nbformat_minor": 4
}
