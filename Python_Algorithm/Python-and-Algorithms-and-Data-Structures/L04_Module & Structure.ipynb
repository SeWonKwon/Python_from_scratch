{
 "cells": [
  {
   "cell_type": "markdown",
   "metadata": {},
   "source": [
    "<a href='https://github.com/SeWonKwon' ><div> <img src ='https://slid-capture.s3.ap-northeast-2.amazonaws.com/public/image_upload/6556674324ed41a289a354258718280d/964e5a8b-75ad-41fc-ae75-0ca66d06fbc7.png' align='left' /> </div></a>\n"
   ]
  },
  {
   "cell_type": "markdown",
   "metadata": {},
   "source": [
    "###### Ch 04 구조와 모듈"
   ]
  },
  {
   "cell_type": "markdown",
   "metadata": {},
   "source": [
    " "
   ]
  },
  {
   "cell_type": "markdown",
   "metadata": {},
   "source": [
    "# 4.1 모듈"
   ]
  },
  {
   "cell_type": "markdown",
   "metadata": {},
   "source": [
    "파이썬에서 **모듈**module은 `def`를 사용하여 정의한다. `def`가 실행되면, 함수의 객체와 참조가 같이 생성된다.  반환값을 정의하지 않으면, 파이썬은 자동으로 `None`을 반환한다. C 언어와 마찬가지로, 아무런 값을 반환하지 않는 함수는 프로시져<sub>procedure</sub> 라고 부른다. "
   ]
  },
  {
   "cell_type": "markdown",
   "metadata": {},
   "source": [
    "## 4.1.1 스택과 활성화 레코드"
   ]
  },
  {
   "cell_type": "markdown",
   "metadata": {},
   "source": [
    "함수가 호출될 때마다 **활성화 레코드**<sub>activation record</sub> 가 생성된다. 활성화 레코드에는 함수의 정보(반환값, 매개변수, 지역 변수, 반환값, 반환 주소 등)가 기록되며, 이를 **스택**stack에 저장한다. 활성화 레코드는 다음과 같은 순서로 처리된다. \n",
    "\n",
    "1. 함수의 실제 매개변수를 스택에 저장push한다.\n",
    "2. 반환 주소를 스택에 저장한다.\n",
    "3. 스택의 최상위 인덱스를 함수의 지역 변수에 필요한 총량만큼 늘린다. \n",
    "4. 함수로 건너뛴다.jump"
   ]
  },
  {
   "cell_type": "markdown",
   "metadata": {},
   "source": [
    "활성화 레코드를 풀어내는<sub>unwiding</sub> 절차는 다음과 같다. \n",
    "\n",
    "1. 스택의 최상위 인덱스는 함수에 소비된 총 메모리야(지역 변수)만큼 감소한다.\n",
    "2. 반환 주소를 스택에서 빼낸다.pop\n",
    "3. 스택의 최상위 인덱스는 함수의 실제 매개변수만큼 감소한다. "
   ]
  },
  {
   "cell_type": "markdown",
   "metadata": {},
   "source": [
    "## 4.1.2 모듈의 기본값"
   ]
  },
  {
   "cell_type": "markdown",
   "metadata": {},
   "source": [
    "모듈을 생성할때, 함수 또는 메서드에서 가변 객체를 기본값으로 사용해선 안된다. "
   ]
  },
  {
   "cell_type": "markdown",
   "metadata": {},
   "source": [
    "나쁜 예"
   ]
  },
  {
   "cell_type": "code",
   "execution_count": 1,
   "metadata": {
    "ExecuteTime": {
     "end_time": "2021-10-06T02:27:03.643139Z",
     "start_time": "2021-10-06T02:27:03.630127Z"
    }
   },
   "outputs": [],
   "source": [
    "def append_num(number, number_list=[]):\n",
    "    number_list.append(number)\n",
    "    return number_list"
   ]
  },
  {
   "cell_type": "code",
   "execution_count": 2,
   "metadata": {
    "ExecuteTime": {
     "end_time": "2021-10-06T02:27:03.658152Z",
     "start_time": "2021-10-06T02:27:03.644140Z"
    }
   },
   "outputs": [
    {
     "data": {
      "text/plain": [
       "[5]"
      ]
     },
     "execution_count": 2,
     "metadata": {},
     "output_type": "execute_result"
    }
   ],
   "source": [
    "append_num(5) # 예상 결과 [5] "
   ]
  },
  {
   "cell_type": "code",
   "execution_count": 3,
   "metadata": {
    "ExecuteTime": {
     "end_time": "2021-10-06T02:27:03.673167Z",
     "start_time": "2021-10-06T02:27:03.659153Z"
    },
    "scrolled": true
   },
   "outputs": [
    {
     "data": {
      "text/plain": [
       "[5, 7]"
      ]
     },
     "execution_count": 3,
     "metadata": {},
     "output_type": "execute_result"
    }
   ],
   "source": [
    "append_num(7) # 예상 결과 [7]"
   ]
  },
  {
   "cell_type": "markdown",
   "metadata": {},
   "source": [
    "좋은 예"
   ]
  },
  {
   "cell_type": "code",
   "execution_count": 4,
   "metadata": {
    "ExecuteTime": {
     "end_time": "2021-10-06T02:27:03.688187Z",
     "start_time": "2021-10-06T02:27:03.674168Z"
    }
   },
   "outputs": [],
   "source": [
    "def append_num(number, number_list=None):\n",
    "    if number_list is None:\n",
    "        number_list= []\n",
    "    number_list.append(number)\n",
    "    return number_list"
   ]
  },
  {
   "cell_type": "code",
   "execution_count": 5,
   "metadata": {
    "ExecuteTime": {
     "end_time": "2021-10-06T02:27:03.703200Z",
     "start_time": "2021-10-06T02:27:03.689188Z"
    }
   },
   "outputs": [
    {
     "data": {
      "text/plain": [
       "[5]"
      ]
     },
     "execution_count": 5,
     "metadata": {},
     "output_type": "execute_result"
    }
   ],
   "source": [
    "append_num(5) # 예상 결과 [5] "
   ]
  },
  {
   "cell_type": "code",
   "execution_count": 6,
   "metadata": {
    "ExecuteTime": {
     "end_time": "2021-10-06T02:27:03.718214Z",
     "start_time": "2021-10-06T02:27:03.703200Z"
    },
    "scrolled": true
   },
   "outputs": [
    {
     "data": {
      "text/plain": [
       "[7]"
      ]
     },
     "execution_count": 6,
     "metadata": {},
     "output_type": "execute_result"
    }
   ],
   "source": [
    "append_num(7) # 예상 결과 [7]"
   ]
  },
  {
   "cell_type": "markdown",
   "metadata": {},
   "source": [
    "## 4.1.3 `__init__.py` 파일"
   ]
  },
  {
   "cell_type": "markdown",
   "metadata": {},
   "source": [
    "**패키지**package는 모듈과 `__init__.py` 파일이 있는 디렉터리이다.  파이썬은 `__init__.py` 파일이 있는 디렉터리를 패키지로 취급한다. 모듈 검색 경로 중 string과 같이 흔한 이름의 디렉터리에 유효한 모듈이 들어 있는 경우 이러한 모듈이 검색되지 않는 문제를 방지하기 위해서 이다."
   ]
  },
  {
   "cell_type": "markdown",
   "metadata": {},
   "source": [
    "```{python}\n",
    "\n",
    "import 폴더이름.파일모듈명\n",
    "```"
   ]
  },
  {
   "cell_type": "markdown",
   "metadata": {},
   "source": [
    "`__init__.py` 파일은 빈 파일일 수도 있지만, 패키지의 초기화 코드를 실행하거나, __all__ 변수를 정의 할 수도 있다. "
   ]
  },
  {
   "cell_type": "markdown",
   "metadata": {},
   "source": [
    "```\n",
    "__all__ =['파일1', ...]\n",
    "```"
   ]
  },
  {
   "cell_type": "markdown",
   "metadata": {},
   "source": [
    "실제 파일 이름은 확장자가 `.py`겠지만, 여기서 작성할 때는 `.py`를 붙이지 않는다."
   ]
  },
  {
   "cell_type": "markdown",
   "metadata": {},
   "source": [
    "```{python}\n",
    "\n",
    "from 폴더이름 import *\n",
    "```"
   ]
  },
  {
   "cell_type": "markdown",
   "metadata": {},
   "source": [
    "위의 코드는 이름이 `__`로 시작하는 모듈을 *제외한* 모듈의 모든 객체를 불러온다.  \n",
    "`__all__` 변수가 있는 경우, 해당 리스트의 객체를 불러온다. "
   ]
  },
  {
   "cell_type": "markdown",
   "metadata": {},
   "source": [
    "터미널에서 특정 모듈이 있는지 간단하게 확인하려면, `python -c import 모듈` 사용하면 된다. "
   ]
  },
  {
   "cell_type": "code",
   "execution_count": 7,
   "metadata": {
    "ExecuteTime": {
     "end_time": "2021-10-06T02:27:07.572335Z",
     "start_time": "2021-10-06T02:27:03.719213Z"
    }
   },
   "outputs": [],
   "source": [
    "!python -c \"import seaborn\""
   ]
  },
  {
   "cell_type": "code",
   "execution_count": 8,
   "metadata": {
    "ExecuteTime": {
     "end_time": "2021-10-06T02:27:07.707458Z",
     "start_time": "2021-10-06T02:27:07.573336Z"
    }
   },
   "outputs": [
    {
     "name": "stderr",
     "output_type": "stream",
     "text": [
      "Traceback (most recent call last):\n",
      "  File \"<string>\", line 1, in <module>\n",
      "ModuleNotFoundError: No module named 'astin'\n"
     ]
    }
   ],
   "source": [
    "!python -c \"import astin\""
   ]
  },
  {
   "cell_type": "markdown",
   "metadata": {},
   "source": [
    "## 4.1.4 `__name__` 변수"
   ]
  },
  {
   "cell_type": "markdown",
   "metadata": {},
   "source": [
    "파이썬은 모듈을 임포트import할 때마다 `__name__` 이라는 변수를 만들고, 모듈 이름을 저장한다. 이해를 돕기 위해 다음과 같이 먼저 `hello.py` 파일을 저장한 후, 그 위치에서 대화식 인터프리터를 실행하여 `hello`모듈을 임포트해보자."
   ]
  },
  {
   "cell_type": "code",
   "execution_count": 9,
   "metadata": {
    "ExecuteTime": {
     "end_time": "2021-10-06T02:27:07.722471Z",
     "start_time": "2021-10-06T02:27:07.708458Z"
    }
   },
   "outputs": [
    {
     "name": "stdout",
     "output_type": "stream",
     "text": [
      "Overwriting hello.py\n"
     ]
    }
   ],
   "source": [
    "%%writefile hello.py\n",
    "hello = 'hello~'\n",
    "\n",
    "def world():\n",
    "    return \"world\"\n",
    "\n",
    "if __name__ == \"__main__\":\n",
    "    print(\"{0} excuted\".format(__name__))\n",
    "else:\n",
    "    print(\"{0} imported\".format(__name__))"
   ]
  },
  {
   "cell_type": "code",
   "execution_count": 10,
   "metadata": {
    "ExecuteTime": {
     "end_time": "2021-10-06T02:27:07.737485Z",
     "start_time": "2021-10-06T02:27:07.724473Z"
    }
   },
   "outputs": [
    {
     "name": "stdout",
     "output_type": "stream",
     "text": [
      "hello imported\n"
     ]
    }
   ],
   "source": [
    "import hello"
   ]
  },
  {
   "cell_type": "code",
   "execution_count": 11,
   "metadata": {
    "ExecuteTime": {
     "end_time": "2021-10-06T02:27:07.752506Z",
     "start_time": "2021-10-06T02:27:07.737485Z"
    }
   },
   "outputs": [
    {
     "data": {
      "text/plain": [
       "'hello~'"
      ]
     },
     "execution_count": 11,
     "metadata": {},
     "output_type": "execute_result"
    }
   ],
   "source": [
    "hello.hello"
   ]
  },
  {
   "cell_type": "code",
   "execution_count": 12,
   "metadata": {
    "ExecuteTime": {
     "end_time": "2021-10-06T02:27:07.767519Z",
     "start_time": "2021-10-06T02:27:07.753505Z"
    }
   },
   "outputs": [
    {
     "data": {
      "text/plain": [
       "'world'"
      ]
     },
     "execution_count": 12,
     "metadata": {},
     "output_type": "execute_result"
    }
   ],
   "source": [
    "hello.world()"
   ]
  },
  {
   "cell_type": "code",
   "execution_count": 13,
   "metadata": {
    "ExecuteTime": {
     "end_time": "2021-10-06T02:27:07.782533Z",
     "start_time": "2021-10-06T02:27:07.768520Z"
    }
   },
   "outputs": [
    {
     "data": {
      "text/plain": [
       "'hello'"
      ]
     },
     "execution_count": 13,
     "metadata": {},
     "output_type": "execute_result"
    }
   ],
   "source": [
    "hello.__name__"
   ]
  },
  {
   "cell_type": "code",
   "execution_count": 14,
   "metadata": {
    "ExecuteTime": {
     "end_time": "2021-10-06T02:27:07.797547Z",
     "start_time": "2021-10-06T02:27:07.783532Z"
    }
   },
   "outputs": [
    {
     "data": {
      "text/plain": [
       "'__main__'"
      ]
     },
     "execution_count": 14,
     "metadata": {},
     "output_type": "execute_result"
    }
   ],
   "source": [
    "__name__"
   ]
  },
  {
   "cell_type": "markdown",
   "metadata": {},
   "source": [
    "대화식 인터프리터 또는 `.py` 파일을 직접 실행하면 파이썬은 `__name__`을 `__main__`으로 설정하므로, 위 코드 조건문에서 참에 해당하는 코드를 실행한다. 이번에는 `hello.py`를 직접 실행해보자. 차이를 알수 있을것이다. "
   ]
  },
  {
   "cell_type": "code",
   "execution_count": 15,
   "metadata": {
    "ExecuteTime": {
     "end_time": "2021-10-06T02:27:07.902649Z",
     "start_time": "2021-10-06T02:27:07.798548Z"
    }
   },
   "outputs": [
    {
     "name": "stdout",
     "output_type": "stream",
     "text": [
      "__main__ excuted\n"
     ]
    }
   ],
   "source": [
    "!python hello.py"
   ]
  },
  {
   "cell_type": "markdown",
   "metadata": {},
   "source": [
    "## 4.1.5 컴파일된 바이트코드 모듈"
   ]
  },
  {
   "cell_type": "markdown",
   "metadata": {},
   "source": [
    "컴파일러가 사용하는 **바이트 컴파일 코드**byte-compiled code는 표준 모듈을 많이 사용하는 프로그램의 시작 시간(로딩 시간)을 줄이기 위한 것이다. "
   ]
  },
  {
   "cell_type": "code",
   "execution_count": 16,
   "metadata": {
    "ExecuteTime": {
     "end_time": "2021-10-06T02:27:07.962709Z",
     "start_time": "2021-10-06T02:27:07.903648Z"
    }
   },
   "outputs": [
    {
     "name": "stdout",
     "output_type": "stream",
     "text": [
      "usage: python [option] ... [-c cmd | -m mod | file | -] [arg] ...\n",
      "Options and arguments (and corresponding environment variables):\n",
      "-b     : issue warnings about str(bytes_instance), str(bytearray_instance)\n",
      "         and comparing bytes/bytearray with str. (-bb: issue errors)\n",
      "-B     : don't write .pyc files on import; also PYTHONDONTWRITEBYTECODE=x\n",
      "-c cmd : program passed in as string (terminates option list)\n",
      "-d     : debug output from parser; also PYTHONDEBUG=x\n",
      "-E     : ignore PYTHON* environment variables (such as PYTHONPATH)\n",
      "-h     : print this help message and exit (also --help)\n",
      "-i     : inspect interactively after running script; forces a prompt even\n",
      "         if stdin does not appear to be a terminal; also PYTHONINSPECT=x\n",
      "-I     : isolate Python from the user's environment (implies -E and -s)\n",
      "-m mod : run library module as a script (terminates option list)\n",
      "-O     : remove assert and __debug__-dependent statements; add .opt-1 before\n",
      "         .pyc extension; also PYTHONOPTIMIZE=x\n",
      "-OO    : do -O changes and also discard docstrings; add .opt-2 before\n",
      "         .pyc extension\n",
      "-q     : don't print version and copyright messages on interactive startup\n",
      "-s     : don't add user site directory to sys.path; also PYTHONNOUSERSITE\n",
      "-S     : don't imply 'import site' on initialization\n",
      "-u     : force the stdout and stderr streams to be unbuffered;\n",
      "         this option has no effect on stdin; also PYTHONUNBUFFERED=x\n",
      "-v     : verbose (trace import statements); also PYTHONVERBOSE=x\n",
      "         can be supplied multiple times to increase verbosity\n",
      "-V     : print the Python version number and exit (also --version)\n",
      "         when given twice, print more information about the build\n",
      "-W arg : warning control; arg is action:message:category:module:lineno\n",
      "         also PYTHONWARNINGS=arg\n",
      "-x     : skip first line of source, allowing use of non-Unix forms of #!cmd\n",
      "-X opt : set implementation-specific option. The following options are available:\n",
      "\n",
      "         -X faulthandler: enable faulthandler\n",
      "         -X showrefcount: output the total reference count and number of used\n",
      "             memory blocks when the program finishes or after each statement in the\n",
      "             interactive interpreter. This only works on debug builds\n",
      "         -X tracemalloc: start tracing Python memory allocations using the\n",
      "             tracemalloc module. By default, only the most recent frame is stored in a\n",
      "             traceback of a trace. Use -X tracemalloc=NFRAME to start tracing with a\n",
      "             traceback limit of NFRAME frames\n",
      "         -X showalloccount: output the total count of allocated objects for each\n",
      "             type when the program finishes. This only works when Python was built with\n",
      "             COUNT_ALLOCS defined\n",
      "         -X importtime: show how long each import takes. It shows module name,\n",
      "             cumulative time (including nested imports) and self time (excluding\n",
      "             nested imports). Note that its output may be broken in multi-threaded\n",
      "             application. Typical usage is python3 -X importtime -c 'import asyncio'\n",
      "         -X dev: enable CPython's \"development mode\", introducing additional runtime\n",
      "             checks which are too expensive to be enabled by default. Effect of the\n",
      "             developer mode:\n",
      "                * Add default warning filter, as -W default\n",
      "                * Install debug hooks on memory allocators: see the PyMem_SetupDebugHooks() C function\n",
      "                * Enable the faulthandler module to dump the Python traceback on a crash\n",
      "                * Enable asyncio debug mode\n",
      "                * Set the dev_mode attribute of sys.flags to True\n",
      "                * io.IOBase destructor logs close() exceptions\n",
      "         -X utf8: enable UTF-8 mode for operating system interfaces, overriding the default\n",
      "             locale-aware mode. -X utf8=0 explicitly disables UTF-8 mode (even when it would\n",
      "             otherwise activate automatically)\n",
      "         -X pycache_prefix=PATH: enable writing .pyc files to a parallel tree rooted at the\n",
      "             given directory instead of to the code tree\n",
      "\n",
      "--check-hash-based-pycs always|default|never:\n",
      "    control how Python invalidates hash-based .pyc files\n",
      "file   : program read from script file\n",
      "-      : program read from stdin (default; interactive mode if a tty)\n",
      "arg ...: arguments passed to program in sys.argv[1:]\n",
      "\n",
      "Other environment variables:\n",
      "PYTHONSTARTUP: file executed on interactive startup (no default)\n",
      "PYTHONPATH   : ';'-separated list of directories prefixed to the\n",
      "               default module search path.  The result is sys.path.\n",
      "PYTHONHOME   : alternate <prefix> directory (or <prefix>;<exec_prefix>).\n",
      "               The default module search path uses <prefix>\\python{major}{minor}.\n",
      "PYTHONCASEOK : ignore case in 'import' statements (Windows).\n",
      "PYTHONUTF8: if set to 1, enable the UTF-8 mode.\n",
      "PYTHONIOENCODING: Encoding[:errors] used for stdin/stdout/stderr.\n",
      "PYTHONFAULTHANDLER: dump the Python traceback on fatal errors.\n",
      "PYTHONHASHSEED: if this variable is set to 'random', a random value is used\n",
      "   to seed the hashes of str and bytes objects.  It can also be set to an\n",
      "   integer in the range [0,4294967295] to get hash values with a\n",
      "   predictable seed.\n",
      "PYTHONMALLOC: set the Python memory allocators and/or install debug hooks\n",
      "   on Python memory allocators. Use PYTHONMALLOC=debug to install debug\n",
      "   hooks.\n",
      "PYTHONCOERCECLOCALE: if this variable is set to 0, it disables the locale\n",
      "   coercion behavior. Use PYTHONCOERCECLOCALE=warn to request display of\n",
      "   locale coercion and locale compatibility warnings on stderr.\n",
      "PYTHONBREAKPOINT: if this variable is set to 0, it disables the default\n",
      "   debugger. It can be set to the callable of your debugger of choice.\n",
      "PYTHONDEVMODE: enable the development mode.\n",
      "PYTHONPYCACHEPREFIX: root directory for bytecode cache (pyc) files.\n"
     ]
    }
   ],
   "source": [
    "!python --help"
   ]
  },
  {
   "cell_type": "markdown",
   "metadata": {},
   "source": [
    "## 4.1.6 sys 모듈"
   ]
  },
  {
   "cell_type": "markdown",
   "metadata": {},
   "source": [
    "`sys.path`는 인터프리터가 모듈을 검색할 경로를 담은 문자열 리스트다. `sys.path`변수는 `PYTHONPATH` 환경변수 또는 내장된 기본값 경로로 초기화된다. 환경변수를 수정하면 모듈 경로를 추가하거나 임시로 모듈 경로를 추가할 수 있다. "
   ]
  },
  {
   "cell_type": "code",
   "execution_count": 17,
   "metadata": {
    "ExecuteTime": {
     "end_time": "2021-10-06T02:27:07.977723Z",
     "start_time": "2021-10-06T02:27:07.963710Z"
    }
   },
   "outputs": [
    {
     "data": {
      "text/plain": [
       "['C:\\\\Users\\\\bigne\\\\OneDrive\\\\WorkJ\\\\Python_from_scratch\\\\Python_Algorithm',\n",
       " 'C:\\\\Users\\\\bigne\\\\anaconda3\\\\python38.zip',\n",
       " 'C:\\\\Users\\\\bigne\\\\anaconda3\\\\DLLs',\n",
       " 'C:\\\\Users\\\\bigne\\\\anaconda3\\\\lib',\n",
       " 'C:\\\\Users\\\\bigne\\\\anaconda3',\n",
       " '',\n",
       " 'C:\\\\Users\\\\bigne\\\\AppData\\\\Roaming\\\\Python\\\\Python38\\\\site-packages',\n",
       " 'C:\\\\Users\\\\bigne\\\\anaconda3\\\\lib\\\\site-packages',\n",
       " 'C:\\\\Users\\\\bigne\\\\anaconda3\\\\lib\\\\site-packages\\\\locket-0.2.1-py3.8.egg',\n",
       " 'C:\\\\Users\\\\bigne\\\\anaconda3\\\\lib\\\\site-packages\\\\win32',\n",
       " 'C:\\\\Users\\\\bigne\\\\anaconda3\\\\lib\\\\site-packages\\\\win32\\\\lib',\n",
       " 'C:\\\\Users\\\\bigne\\\\anaconda3\\\\lib\\\\site-packages\\\\Pythonwin',\n",
       " 'C:\\\\Users\\\\bigne\\\\anaconda3\\\\lib\\\\site-packages\\\\IPython\\\\extensions',\n",
       " 'C:\\\\Users\\\\bigne\\\\.ipython']"
      ]
     },
     "execution_count": 17,
     "metadata": {},
     "output_type": "execute_result"
    }
   ],
   "source": [
    "import sys\n",
    "\n",
    "sys.path"
   ]
  },
  {
   "cell_type": "code",
   "execution_count": 18,
   "metadata": {
    "ExecuteTime": {
     "end_time": "2021-10-06T02:27:07.992737Z",
     "start_time": "2021-10-06T02:27:07.978724Z"
    }
   },
   "outputs": [],
   "source": [
    "# sys.path.append('모듈_디렉토리_경로')"
   ]
  },
  {
   "cell_type": "markdown",
   "metadata": {},
   "source": [
    "`sys.ps1`과 `sys.ps2` 변수는 파이썬 대화식 인터프리터의 기본 및 보조 프롬프트prompt 문자열을 정의한다.(기본값은 각 `>>>` 및 `...`이다)."
   ]
  },
  {
   "cell_type": "markdown",
   "metadata": {},
   "source": [
    "이미 앞에서도 사용했지만, `sys.argv` 변수를 사용하면 명령 줄에 전달된 인수를 프로그램 내에서 사용할 수 있다. "
   ]
  },
  {
   "cell_type": "code",
   "execution_count": 19,
   "metadata": {
    "ExecuteTime": {
     "end_time": "2021-10-06T02:27:08.007750Z",
     "start_time": "2021-10-06T02:27:07.993736Z"
    }
   },
   "outputs": [
    {
     "name": "stdout",
     "output_type": "stream",
     "text": [
      "Overwriting sys_example.py\n"
     ]
    }
   ],
   "source": [
    "%%writefile sys_example.py\n",
    "import sys\n",
    "\n",
    "def main():\n",
    "    for arg in sys.argv[1:]:\n",
    "        print(arg)\n",
    "        \n",
    "if __name__ == \"__main__\":\n",
    "    main()"
   ]
  },
  {
   "cell_type": "code",
   "execution_count": 20,
   "metadata": {
    "ExecuteTime": {
     "end_time": "2021-10-06T02:27:08.127865Z",
     "start_time": "2021-10-06T02:27:08.008751Z"
    }
   },
   "outputs": [
    {
     "name": "stdout",
     "output_type": "stream",
     "text": [
      "우리\n",
      "그리고\n",
      "너\n"
     ]
    }
   ],
   "source": [
    "!python sys_example.py 우리 그리고 너"
   ]
  },
  {
   "cell_type": "markdown",
   "metadata": {},
   "source": [
    "`dir()` 내장 함수는 모듈이 정의하는 모든 유형의 이름(모듈, 변수, 함수)을 찾는데 사용된다. 이름 기준으로 정렬된 문자열 리스트를 반환한다."
   ]
  },
  {
   "cell_type": "code",
   "execution_count": 21,
   "metadata": {
    "ExecuteTime": {
     "end_time": "2021-10-06T02:27:08.142879Z",
     "start_time": "2021-10-06T02:27:08.128867Z"
    }
   },
   "outputs": [
    {
     "name": "stdout",
     "output_type": "stream",
     "text": [
      "__breakpointhook__ ,__displayhook__ ,__doc__ ,__excepthook__ ,__interactivehook__ ,__loader__ ,__name__ ,__package__ ,__spec__ ,__stderr__ ,__stdin__ ,__stdout__ ,__unraisablehook__ ,_base_executable ,_clear_type_cache ,_current_frames ,_debugmallocstats ,_enablelegacywindowsfsencoding ,_framework ,_getframe ,_git ,_home ,_xoptions ,addaudithook ,api_version ,argv ,audit ,base_exec_prefix ,base_prefix ,breakpointhook ,builtin_module_names ,byteorder ,call_tracing ,callstats ,copyright ,displayhook ,dllhandle ,dont_write_bytecode ,exc_info ,excepthook ,exec_prefix ,executable ,exit ,flags ,float_info ,float_repr_style ,get_asyncgen_hooks ,get_coroutine_origin_tracking_depth ,getallocatedblocks ,getcheckinterval ,getdefaultencoding ,getfilesystemencodeerrors ,getfilesystemencoding ,getprofile ,getrecursionlimit ,getrefcount ,getsizeof ,getswitchinterval ,gettrace ,getwindowsversion ,hash_info ,hexversion ,implementation ,int_info ,intern ,is_finalizing ,maxsize ,maxunicode ,meta_path ,modules ,path ,path_hooks ,path_importer_cache ,platform ,prefix ,ps1 ,ps2 ,ps3 ,pycache_prefix ,set_asyncgen_hooks ,set_coroutine_origin_tracking_depth ,setcheckinterval ,setprofile ,setrecursionlimit ,setswitchinterval ,settrace ,stderr ,stdin ,stdout ,thread_info ,unraisablehook ,version ,version_info ,warnoptions ,winver ,"
     ]
    }
   ],
   "source": [
    "import sys\n",
    "for i in dir(sys):\n",
    "    print(i, end=' ,')"
   ]
  },
  {
   "cell_type": "markdown",
   "metadata": {},
   "source": [
    "# 4.2 제어문"
   ]
  },
  {
   "cell_type": "markdown",
   "metadata": {},
   "source": [
    "## 4.2.1 if문"
   ]
  },
  {
   "cell_type": "markdown",
   "metadata": {},
   "source": [
    "파이썬 if문은 다른 언어의 switch문 또는 case문을 대체한다. "
   ]
  },
  {
   "cell_type": "code",
   "execution_count": 22,
   "metadata": {
    "ExecuteTime": {
     "end_time": "2021-10-06T02:27:08.158527Z",
     "start_time": "2021-10-06T02:27:08.143881Z"
    }
   },
   "outputs": [
    {
     "name": "stdout",
     "output_type": "stream",
     "text": [
      "0이 입력되었습니다.\n"
     ]
    }
   ],
   "source": [
    "# x = int(input('숫자를 입력해주세요.'))\n",
    "x = int(0)\n",
    "if x < 0:\n",
    "    x = 0\n",
    "    print('음수를 입력하여 x를 0으로 변경했습니다.')\n",
    "elif x == 0:\n",
    "    print('0이 입력되었습니다.')\n",
    "elif x ==1:\n",
    "    print('1이 입력되었습니다.')\n",
    "else:\n",
    "    print('2 이상의 숫자가 입력되었습니다.')"
   ]
  },
  {
   "cell_type": "markdown",
   "metadata": {},
   "source": [
    "## 4.2.2 for문"
   ]
  },
  {
   "cell_type": "markdown",
   "metadata": {},
   "source": [
    "파이썬 foransdms C나 파스칼 언어와 다르다. 파스칼처럼 숫자의 산술 진행을 반복하거나, C처럼 사용자가 반복 단계와 조건을 모두 정의할 수 있도록 하는 대신, 파이썬의 for문은 모든 시퀀스 항목(리스트, 문자열 등)을 순서대로 순회한다."
   ]
  },
  {
   "cell_type": "code",
   "execution_count": 23,
   "metadata": {
    "ExecuteTime": {
     "end_time": "2021-10-06T02:27:08.173540Z",
     "start_time": "2021-10-06T02:27:08.159527Z"
    }
   },
   "outputs": [
    {
     "name": "stdout",
     "output_type": "stream",
     "text": [
      "a\n",
      "b\n",
      "ccc\n",
      "dddd\n"
     ]
    }
   ],
   "source": [
    "names = ['a','b','ccc','dddd']\n",
    "for name in names:\n",
    "    print(name)"
   ]
  },
  {
   "cell_type": "markdown",
   "metadata": {},
   "source": [
    "## 4.2.3 참과 거짓"
   ]
  },
  {
   "cell_type": "markdown",
   "metadata": {},
   "source": [
    "**거짓**`False`은 사전 정의된 상수 `False` 또는 숫자 `0`, 특수 객체 `None`, 빈 컬렉션 시퀀스(빈 문자열 '', 빈 리스트 `[]`, 빈 튜플 `()`,  빈 딕셔너리 `{}`)에 의해 정의된다.\n",
    "\n",
    "여기에 속하지 않은 값은 모두 **참**`True`이다. "
   ]
  },
  {
   "cell_type": "code",
   "execution_count": 24,
   "metadata": {
    "ExecuteTime": {
     "end_time": "2021-10-06T02:27:08.188554Z",
     "start_time": "2021-10-06T02:27:08.174540Z"
    }
   },
   "outputs": [
    {
     "data": {
      "text/plain": [
       "'사람'"
      ]
     },
     "execution_count": 24,
     "metadata": {},
     "output_type": "execute_result"
    }
   ],
   "source": [
    "str1, str2, str3 = '', '사람', '닝겐'\n",
    "non_null = str1 or str2 or str3\n",
    "non_null"
   ]
  },
  {
   "cell_type": "markdown",
   "metadata": {},
   "source": [
    "암묵적인implicit `False` 사용에 대한 기준(구글 파이썬 스타일 가이드)"
   ]
  },
  {
   "cell_type": "markdown",
   "metadata": {},
   "source": [
    "* `==` 또느`!=` 연산자를 사용하여 내장 변수 `None` 같은 싱글턴singleton을 비교하지 않는다. 대신 is 또는 is not을 사용한다.     \n",
    "  \n",
    "  \n",
    "* `if x is not None`과 `if x`를 잘 구분해서 사용한다.\n",
    "\n",
    "\n",
    "* `==`를 사용하여 불리언 변수를 `False`와 비교하지 않는다. 대신 `if not x`를 사용한다. `None`과 `False`를 구별할 필요가 있는 경우, `if not x and x is not None`과 같은 연결 표현식을 사용한다. \n",
    "\n",
    "\n",
    "\n",
    "* 시퀀스(문자열, 리스트, 튜플)의 경우, 빈 시퀀스는 `False`다. `if len(시퀀스)` 또는 `if not len(시퀀스)`보다는 `if not 시퀀스` 또는 `if 시퀀스`를 사용하는 것이 좋다. \n",
    "\n",
    "\n",
    "\n",
    "* 정수를 처리할 때 뜻하지 않게 `None`을 `0`으로 잘못 처리하는 것처럼, 암묵적 `False`를 사용하는 것은 위험하다. "
   ]
  },
  {
   "cell_type": "markdown",
   "metadata": {},
   "source": [
    "좋은 예\n",
    "\n",
    "```{python}\n",
    "\n",
    "if not users:\n",
    "    print('사용자가 없습니다.')\n",
    "    \n",
    "if foo == 0:\n",
    "    handle_zero()\n",
    "    \n",
    "if i % 10 == 0:\n",
    "    handle_multiple_of_ten()\n",
    "    \n",
    "```"
   ]
  },
  {
   "cell_type": "markdown",
   "metadata": {},
   "source": [
    "나쁜 예\n",
    "\n",
    "```{python}\n",
    "\n",
    "if len(users) == 0:\n",
    "    print('사용자가 없습니다.')\n",
    "   \n",
    "if foo is not None and not foo:\n",
    "    handel_zero()\n",
    "    \n",
    "if not i % 10:\n",
    "    handle_multiple_of_ten()\n",
    "```"
   ]
  },
  {
   "cell_type": "markdown",
   "metadata": {},
   "source": [
    "## 4.2.4 return 대 yield"
   ]
  },
  {
   "cell_type": "markdown",
   "metadata": {},
   "source": [
    "파이썬에서 **제너레이터**generator는 **이터레이터**iterator를 작성하는 편리한 방법이다. 객체에 `__iter__()`와 `__next__()` 메서드를 둘 다 정의하면 이터레이터 프로토콜을 구현한 셈이다. 이때 `yield` 키워드를 사용하면 편리하다. \n",
    "\n",
    "\n",
    "호출자가 메서드를 호출할 때, `return` 키워드는 반환값을 반환하고 메서드를 종료한 후, 호출자에게 제어를 반환한다.  반면 `yield` 키워드는 각 반환값을 호출자에게 반환하고, 반환값이 모두 소진되었을 때에만 메서드가 종료된다. \n",
    "\n",
    "이터레이터는 파이썬의 강력한 기능이다. 이터레이터는 이터레이터 프로토콜을 구현하는 컨테이너 객체라고 할수 있는데, 컨테이너의 다음 값을 반환하는 `__next__()` 메서드와 이터레이터 자신을 반환하는 `__iter__()`메서드를 기반으로 한다. \n",
    "\n",
    "`yield` 키워드는 제너레이터 맥락에서 이터레이터를 만드는 아주 강력한 도구다. 제너레티어는 최종값을 반환하지만, 이터레이터는 `yield` 키워드를 사용하여 코드 실행 중에 값을 반환한다. 즉, `__next__()` 메서드를 호출할 때마다 어떤 값을 하나를 추출한 후 해당 `yield` 표현식의 값을 반환한다. 이렇게 이터레이터는 `StopIteration` 예외가 발생할 때까지 값을 반환한다."
   ]
  },
  {
   "cell_type": "markdown",
   "metadata": {},
   "source": [
    "`__next__`"
   ]
  },
  {
   "cell_type": "code",
   "execution_count": 25,
   "metadata": {
    "ExecuteTime": {
     "end_time": "2021-10-06T02:27:08.203568Z",
     "start_time": "2021-10-06T02:27:08.189555Z"
    }
   },
   "outputs": [],
   "source": [
    "a = [1, 2, 3]\n",
    "def f(a):\n",
    "    while a:\n",
    "        yield a.pop()"
   ]
  },
  {
   "cell_type": "code",
   "execution_count": 26,
   "metadata": {
    "ExecuteTime": {
     "end_time": "2021-10-06T02:27:08.218582Z",
     "start_time": "2021-10-06T02:27:08.204569Z"
    }
   },
   "outputs": [
    {
     "data": {
      "text/plain": [
       "3"
      ]
     },
     "execution_count": 26,
     "metadata": {},
     "output_type": "execute_result"
    }
   ],
   "source": [
    "next(f(a))"
   ]
  },
  {
   "cell_type": "code",
   "execution_count": 27,
   "metadata": {
    "ExecuteTime": {
     "end_time": "2021-10-06T02:27:08.233596Z",
     "start_time": "2021-10-06T02:27:08.219581Z"
    }
   },
   "outputs": [
    {
     "data": {
      "text/plain": [
       "2"
      ]
     },
     "execution_count": 27,
     "metadata": {},
     "output_type": "execute_result"
    }
   ],
   "source": [
    "next(f(a))"
   ]
  },
  {
   "cell_type": "markdown",
   "metadata": {},
   "source": [
    "`__iter__`"
   ]
  },
  {
   "cell_type": "code",
   "execution_count": 28,
   "metadata": {
    "ExecuteTime": {
     "end_time": "2021-10-06T02:27:08.248608Z",
     "start_time": "2021-10-06T02:27:08.236598Z"
    }
   },
   "outputs": [],
   "source": [
    "a = 0\n",
    "def g(a):\n",
    "    while a < 10:\n",
    "        a += 1\n",
    "        yield a"
   ]
  },
  {
   "cell_type": "code",
   "execution_count": 29,
   "metadata": {
    "ExecuteTime": {
     "end_time": "2021-10-06T02:27:08.263623Z",
     "start_time": "2021-10-06T02:27:08.249610Z"
    }
   },
   "outputs": [
    {
     "data": {
      "text/plain": [
       "<generator object g at 0x0000016353D8AC80>"
      ]
     },
     "execution_count": 29,
     "metadata": {},
     "output_type": "execute_result"
    }
   ],
   "source": [
    "iter(g(a))"
   ]
  },
  {
   "cell_type": "code",
   "execution_count": 30,
   "metadata": {
    "ExecuteTime": {
     "end_time": "2021-10-06T02:27:08.278636Z",
     "start_time": "2021-10-06T02:27:08.264624Z"
    }
   },
   "outputs": [
    {
     "name": "stdout",
     "output_type": "stream",
     "text": [
      "1\n",
      "2\n",
      "3\n",
      "4\n",
      "5\n",
      "6\n",
      "7\n",
      "8\n",
      "9\n",
      "10\n"
     ]
    }
   ],
   "source": [
    "for i in iter(g(a)):\n",
    "    print(i)"
   ]
  },
  {
   "cell_type": "markdown",
   "metadata": {},
   "source": [
    "피보나치 수열 제너레이터"
   ]
  },
  {
   "cell_type": "code",
   "execution_count": 31,
   "metadata": {
    "ExecuteTime": {
     "end_time": "2021-10-06T02:27:08.293650Z",
     "start_time": "2021-10-06T02:27:08.279637Z"
    }
   },
   "outputs": [],
   "source": [
    "def fib_generator():\n",
    "    a, b = 0, 1\n",
    "    while True:\n",
    "        yield b\n",
    "        a, b = b, a + b"
   ]
  },
  {
   "cell_type": "code",
   "execution_count": 32,
   "metadata": {
    "ExecuteTime": {
     "end_time": "2021-10-06T02:27:08.308664Z",
     "start_time": "2021-10-06T02:27:08.294649Z"
    }
   },
   "outputs": [
    {
     "name": "stdout",
     "output_type": "stream",
     "text": [
      "1\n",
      "1\n",
      "2\n",
      "3\n",
      "5\n",
      "8\n"
     ]
    }
   ],
   "source": [
    "fib = fib_generator()\n",
    "print(next(fib))\n",
    "print(next(fib))\n",
    "print(next(fib))\n",
    "print(next(fib))\n",
    "print(next(fib))\n",
    "print(next(fib))"
   ]
  },
  {
   "cell_type": "markdown",
   "metadata": {},
   "source": [
    "## 4.2.5 break 대 continue"
   ]
  },
  {
   "cell_type": "markdown",
   "metadata": {},
   "source": [
    "반복분(for 또는 while) 에서 break 키워드를 만나면, 바로 반복문을 빠져나간다. 반복문에서 continue 키워드를 만나면, 반복문의 다음 단계로 전환한다.(반복문의 다음 반복을 계속한다.)"
   ]
  },
  {
   "cell_type": "markdown",
   "metadata": {},
   "source": [
    "반복문에는 else 절을 사용할 수 있는데, 이는 반복문이 종료되었을 때 (for 문에서 리스트의 항목을 모두 순회했거나, while문에서 조건이 False가 되었을 때) 실행된다. 다만 break문으로 반복문이 종료되는 경우에는 실행되지 않는다. "
   ]
  },
  {
   "cell_type": "code",
   "execution_count": 33,
   "metadata": {
    "ExecuteTime": {
     "end_time": "2021-10-06T02:27:08.323677Z",
     "start_time": "2021-10-06T02:27:08.309664Z"
    }
   },
   "outputs": [
    {
     "name": "stdout",
     "output_type": "stream",
     "text": [
      "0\n",
      "1\n",
      "2\n",
      "3\n"
     ]
    }
   ],
   "source": [
    "for i in range(10):\n",
    "    if i == 4 :\n",
    "        break\n",
    "    print(i)\n",
    "else:\n",
    "    print('반복문 종료')"
   ]
  },
  {
   "cell_type": "code",
   "execution_count": 34,
   "metadata": {
    "ExecuteTime": {
     "end_time": "2021-10-06T02:27:08.338691Z",
     "start_time": "2021-10-06T02:27:08.324678Z"
    }
   },
   "outputs": [
    {
     "name": "stdout",
     "output_type": "stream",
     "text": [
      "1\n",
      "3\n",
      "5\n",
      "7\n",
      "9\n",
      "반복문 종료\n"
     ]
    }
   ],
   "source": [
    "for i in range(10):\n",
    "    if i % 2 == 0 :\n",
    "        continue\n",
    "    print(i)\n",
    "else:\n",
    "    print('반복문 종료')"
   ]
  },
  {
   "cell_type": "markdown",
   "metadata": {},
   "source": [
    "## 4.2.6 range()"
   ]
  },
  {
   "cell_type": "markdown",
   "metadata": {},
   "source": [
    "`range()` 메서드는 숫자 리스트를 생성한다. 숫자 시퀀스를 순회할 때 유용하다."
   ]
  },
  {
   "cell_type": "code",
   "execution_count": 35,
   "metadata": {
    "ExecuteTime": {
     "end_time": "2021-10-06T02:27:08.353705Z",
     "start_time": "2021-10-06T02:27:08.339691Z"
    }
   },
   "outputs": [
    {
     "data": {
      "text/plain": [
       "range(0, 10)"
      ]
     },
     "execution_count": 35,
     "metadata": {},
     "output_type": "execute_result"
    }
   ],
   "source": [
    "range(10)"
   ]
  },
  {
   "cell_type": "code",
   "execution_count": 36,
   "metadata": {
    "ExecuteTime": {
     "end_time": "2021-10-06T02:27:08.368719Z",
     "start_time": "2021-10-06T02:27:08.354705Z"
    }
   },
   "outputs": [
    {
     "data": {
      "text/plain": [
       "[0, 1, 2, 3, 4, 5, 6, 7, 8, 9]"
      ]
     },
     "execution_count": 36,
     "metadata": {},
     "output_type": "execute_result"
    }
   ],
   "source": [
    "[x for x in range(10)]"
   ]
  },
  {
   "cell_type": "markdown",
   "metadata": {},
   "source": [
    "## 4.2.7 enumerate()"
   ]
  },
  {
   "cell_type": "markdown",
   "metadata": {},
   "source": [
    "`enumerate()` 메서드는 반복 가능한 객체의 인덱스 값과 항목 값의 튜플을 반환한다. 예를 들어 파일을 가져와서 특정 단어가 나타나는 위치를 출력하는 나만의 grep 함수를 만들수 있다. 명령 줄에서 실행 시 단어와 파일을 모두 지정해야한다. "
   ]
  },
  {
   "cell_type": "code",
   "execution_count": 37,
   "metadata": {
    "ExecuteTime": {
     "end_time": "2021-10-06T02:27:08.383732Z",
     "start_time": "2021-10-06T02:27:08.369718Z"
    }
   },
   "outputs": [
    {
     "name": "stdout",
     "output_type": "stream",
     "text": [
      "Writing 3_grep_word_from_files.py\n"
     ]
    }
   ],
   "source": [
    "%%writefile 3_grep_word_from_files.py\n",
    "import sys\n",
    "\n",
    "def grep_word_from_files():\n",
    "    word = sys.argv[1]\n",
    "    for filename in sys.argv[2:]:\n",
    "        with open(filename) as file:\n",
    "            for lino, line in enumerate(file, start=1):\n",
    "                if word in line:\n",
    "                    print(\"{0}:{1}:{2:.40}\".format(filename, lino, line.rstrip()))\n",
    "\n",
    "if __name__ == '__main__':\n",
    "    if len(sys.argv) < 2:\n",
    "        print(\"Usage: python {0} [word] [file ...]\".format(sys.argv[0]))\n",
    "        sys.exit()\n",
    "        \n",
    "    else:\n",
    "        grep_word_from_files()"
   ]
  },
  {
   "cell_type": "code",
   "execution_count": 38,
   "metadata": {
    "ExecuteTime": {
     "end_time": "2021-10-06T02:27:08.488827Z",
     "start_time": "2021-10-06T02:27:08.384733Z"
    }
   },
   "outputs": [
    {
     "name": "stdout",
     "output_type": "stream",
     "text": [
      "3_grep_word_from_files.py:5:    for filename in sys.argv[2:]:\n",
      "3_grep_word_from_files.py:7:            for lino, line in enumerate(\n",
      "3_grep_word_from_files.py:9:                    print(\"{0}:{1}:{2:.4\n",
      "3_grep_word_from_files.py:13:        print(\"Usage: python {0} [word] \n"
     ]
    }
   ],
   "source": [
    "!python 3_grep_word_from_files.py  for  3_grep_word_from_files.py"
   ]
  },
  {
   "cell_type": "code",
   "execution_count": 39,
   "metadata": {
    "ExecuteTime": {
     "end_time": "2021-10-06T02:27:08.503841Z",
     "start_time": "2021-10-06T02:27:08.489828Z"
    }
   },
   "outputs": [],
   "source": [
    "import os\n",
    "os.remove('3_grep_word_from_files.py')"
   ]
  },
  {
   "cell_type": "markdown",
   "metadata": {},
   "source": [
    "## 4.2.8 zip()"
   ]
  },
  {
   "cell_type": "markdown",
   "metadata": {},
   "source": [
    "`zip()` 메서드는 2개 이상의 시퀀스를 인수로 취하여, 짧은 길이의 시퀀스를 기준으로 각 항목이 순서대로 1:1 대응하는 새로운 튜플 시퀀스를 만든다."
   ]
  },
  {
   "cell_type": "code",
   "execution_count": 40,
   "metadata": {
    "ExecuteTime": {
     "end_time": "2021-10-06T02:27:08.518853Z",
     "start_time": "2021-10-06T02:27:08.504842Z"
    }
   },
   "outputs": [
    {
     "data": {
      "text/plain": [
       "<zip at 0x16353db7e00>"
      ]
     },
     "execution_count": 40,
     "metadata": {},
     "output_type": "execute_result"
    }
   ],
   "source": [
    "a = ['1','2','3']\n",
    "b = ['a','b','c']\n",
    "zip(a,b)"
   ]
  },
  {
   "cell_type": "code",
   "execution_count": 41,
   "metadata": {
    "ExecuteTime": {
     "end_time": "2021-10-06T02:27:08.533867Z",
     "start_time": "2021-10-06T02:27:08.519854Z"
    }
   },
   "outputs": [
    {
     "data": {
      "text/plain": [
       "[('1', 'a'), ('2', 'b'), ('3', 'c')]"
      ]
     },
     "execution_count": 41,
     "metadata": {},
     "output_type": "execute_result"
    }
   ],
   "source": [
    "list(zip(a,b))"
   ]
  },
  {
   "cell_type": "markdown",
   "metadata": {},
   "source": [
    "## 4.2.9 filter()"
   ]
  },
  {
   "cell_type": "markdown",
   "metadata": {},
   "source": [
    "`filter()`메서드는 시퀀스의 항목들 중 함수 조건이 참(`True`)인 항목만 추출해서 구성된 시퀀스를 반환한다. 다음 코드를 살펴보자."
   ]
  },
  {
   "cell_type": "code",
   "execution_count": 42,
   "metadata": {
    "ExecuteTime": {
     "end_time": "2021-10-06T02:27:08.548882Z",
     "start_time": "2021-10-06T02:27:08.534868Z"
    }
   },
   "outputs": [
    {
     "data": {
      "text/plain": [
       "False"
      ]
     },
     "execution_count": 42,
     "metadata": {},
     "output_type": "execute_result"
    }
   ],
   "source": [
    "def f(x): return x % 2 != 0 and x % 3 != 0\n",
    "f(33)"
   ]
  },
  {
   "cell_type": "code",
   "execution_count": 43,
   "metadata": {
    "ExecuteTime": {
     "end_time": "2021-10-06T02:27:08.563894Z",
     "start_time": "2021-10-06T02:27:08.549883Z"
    }
   },
   "outputs": [
    {
     "data": {
      "text/plain": [
       "True"
      ]
     },
     "execution_count": 43,
     "metadata": {},
     "output_type": "execute_result"
    }
   ],
   "source": [
    "f(17)"
   ]
  },
  {
   "cell_type": "code",
   "execution_count": 44,
   "metadata": {
    "ExecuteTime": {
     "end_time": "2021-10-06T02:27:08.579909Z",
     "start_time": "2021-10-06T02:27:08.567898Z"
    }
   },
   "outputs": [
    {
     "data": {
      "text/plain": [
       "[17]"
      ]
     },
     "execution_count": 44,
     "metadata": {},
     "output_type": "execute_result"
    }
   ],
   "source": [
    "list(filter(f, [33, 17]))"
   ]
  },
  {
   "cell_type": "code",
   "execution_count": 45,
   "metadata": {
    "ExecuteTime": {
     "end_time": "2021-10-06T02:27:08.594924Z",
     "start_time": "2021-10-06T02:27:08.580911Z"
    }
   },
   "outputs": [
    {
     "data": {
      "text/plain": [
       "[5, 7, 11, 13, 17, 19, 23, 25, 29, 31]"
      ]
     },
     "execution_count": 45,
     "metadata": {},
     "output_type": "execute_result"
    }
   ],
   "source": [
    "list(filter(f, range(2, 33)))"
   ]
  },
  {
   "cell_type": "code",
   "execution_count": 46,
   "metadata": {
    "ExecuteTime": {
     "end_time": "2021-10-06T02:27:08.609938Z",
     "start_time": "2021-10-06T02:27:08.595925Z"
    }
   },
   "outputs": [],
   "source": [
    "def f(x): return x % 2 != 0 and x % 3 != 0 and x % 5 != 0 and x % 7 !=0 "
   ]
  },
  {
   "cell_type": "code",
   "execution_count": 47,
   "metadata": {
    "ExecuteTime": {
     "end_time": "2021-10-06T02:27:08.624952Z",
     "start_time": "2021-10-06T02:27:08.609938Z"
    }
   },
   "outputs": [
    {
     "data": {
      "text/plain": [
       "[11, 13, 17, 19, 23, 29, 31, 37, 41, 43, 47]"
      ]
     },
     "execution_count": 47,
     "metadata": {},
     "output_type": "execute_result"
    }
   ],
   "source": [
    "list(filter(f, range(2, 50)))"
   ]
  },
  {
   "cell_type": "markdown",
   "metadata": {},
   "source": [
    "## 4.2.10 map()"
   ]
  },
  {
   "cell_type": "markdown",
   "metadata": {},
   "source": [
    "`map(function, list)` 메서드는 시퀀스의 모든 항목에 함수를 적용한 결과 리스트를 반환한다. "
   ]
  },
  {
   "cell_type": "code",
   "execution_count": 48,
   "metadata": {
    "ExecuteTime": {
     "end_time": "2021-10-06T02:27:08.639965Z",
     "start_time": "2021-10-06T02:27:08.625951Z"
    }
   },
   "outputs": [
    {
     "data": {
      "text/plain": [
       "[True, False, False, False, False, False, False, False, False]"
      ]
     },
     "execution_count": 48,
     "metadata": {},
     "output_type": "execute_result"
    }
   ],
   "source": [
    "list(map(f, range(1, 10)))"
   ]
  },
  {
   "cell_type": "code",
   "execution_count": 49,
   "metadata": {
    "ExecuteTime": {
     "end_time": "2021-10-06T02:27:08.654978Z",
     "start_time": "2021-10-06T02:27:08.640966Z"
    }
   },
   "outputs": [
    {
     "data": {
      "text/plain": [
       "[1, 8, 27, 64, 125, 216, 343, 512, 729, 1000]"
      ]
     },
     "execution_count": 49,
     "metadata": {},
     "output_type": "execute_result"
    }
   ],
   "source": [
    "def cube(x): return x*x*x\n",
    "list(map(cube, range(1, 11)))"
   ]
  },
  {
   "cell_type": "markdown",
   "metadata": {},
   "source": [
    "## 4.2.11 lambda 함수"
   ]
  },
  {
   "cell_type": "markdown",
   "metadata": {},
   "source": [
    "**람다**lambda함수를 쓰면 코드 내에서 함수를 간결하게compact 동적으로 사용할 수 있다. "
   ]
  },
  {
   "cell_type": "markdown",
   "metadata": {},
   "source": [
    "`lambda 변수 : 리턴값`"
   ]
  },
  {
   "cell_type": "code",
   "execution_count": 50,
   "metadata": {
    "ExecuteTime": {
     "end_time": "2021-10-06T02:27:08.669992Z",
     "start_time": "2021-10-06T02:27:08.655982Z"
    }
   },
   "outputs": [
    {
     "data": {
      "text/plain": [
       "10.0"
      ]
     },
     "execution_count": 50,
     "metadata": {},
     "output_type": "execute_result"
    }
   ],
   "source": [
    "area = lambda b, h: 0.5 * b * h\n",
    "area(5, 4)"
   ]
  },
  {
   "cell_type": "markdown",
   "metadata": {},
   "source": [
    "람다 함수는 `defaultdict`에서 키 생성 시 매우 유용하다(누락된 키에 대한 기본 값 설정시)."
   ]
  },
  {
   "cell_type": "code",
   "execution_count": 51,
   "metadata": {
    "ExecuteTime": {
     "end_time": "2021-10-06T02:27:08.685006Z",
     "start_time": "2021-10-06T02:27:08.670993Z"
    }
   },
   "outputs": [],
   "source": [
    "import collections\n",
    "\n",
    "minus_one_dict = collections.defaultdict(lambda: -1)\n",
    "point_zero_dict = collections.defaultdict(lambda: (0, 0))\n",
    "message_dict = collections.defaultdict(lambda: \"No message\")"
   ]
  },
  {
   "cell_type": "code",
   "execution_count": 52,
   "metadata": {
    "ExecuteTime": {
     "end_time": "2021-10-06T02:27:08.700019Z",
     "start_time": "2021-10-06T02:27:08.686007Z"
    }
   },
   "outputs": [
    {
     "data": {
      "text/plain": [
       "defaultdict(<function __main__.<lambda>()>, {})"
      ]
     },
     "execution_count": 52,
     "metadata": {},
     "output_type": "execute_result"
    }
   ],
   "source": [
    "minus_one_dict"
   ]
  },
  {
   "cell_type": "markdown",
   "metadata": {},
   "source": [
    "# 4.3 파일 처리"
   ]
  },
  {
   "cell_type": "markdown",
   "metadata": {},
   "source": [
    "파이썬에서 파일 처리는 매우 쉽고 편하다. 파일을 읽어서 모든 빈 줄을 제거하는 코드를 살펴보자."
   ]
  },
  {
   "cell_type": "code",
   "execution_count": 53,
   "metadata": {
    "ExecuteTime": {
     "end_time": "2021-10-06T02:27:08.715031Z",
     "start_time": "2021-10-06T02:27:08.701021Z"
    }
   },
   "outputs": [
    {
     "name": "stdout",
     "output_type": "stream",
     "text": [
      "Overwriting 4_remove_blank_lines.py\n"
     ]
    }
   ],
   "source": [
    "%%writefile 4_remove_blank_lines.py\n",
    "import sys\n",
    "\n",
    "def read_data(filename):\n",
    "    lines = []\n",
    "    fh = None\n",
    "    try:\n",
    "        fh = open(filename)\n",
    "        for line in fh:\n",
    "            if line.strip():\n",
    "                lines.append(line)\n",
    "    except (IOError, OSError) as err:\n",
    "        print(err)\n",
    "    finally:\n",
    "        if fh is not None:\n",
    "            fh.close()\n",
    "    return lines\n",
    "\n",
    "def write_data(lines, filename):\n",
    "    fh = None\n",
    "    try:\n",
    "        fh = open(filename, 'w')\n",
    "        for line in lines:\n",
    "            fh.write(line)\n",
    "    except (EnvironmentError) as err:\n",
    "        print(err)\n",
    "    finally:\n",
    "        if fh is not None:\n",
    "            fh.close()\n",
    "            \n",
    "def remove_blank_lines():\n",
    "    if len(sys.argv) < 2:\n",
    "        print(\"Usage: python {0} [file ...]\".format(sys.argv[0]))\n",
    "    lines = ['# no blank','\\n']\n",
    "    for filename in sys.argv[1:]:\n",
    "        lines += read_data(filename)\n",
    "        if lines:\n",
    "            write_data(lines, filename)\n",
    "            \n",
    "if __name__ == \"__main__\":\n",
    "    remove_blank_lines()"
   ]
  },
  {
   "cell_type": "markdown",
   "metadata": {},
   "source": [
    "'4.1.4 __name__'에서 사용 `hello.py`를 사용해보자."
   ]
  },
  {
   "cell_type": "code",
   "execution_count": 54,
   "metadata": {
    "ExecuteTime": {
     "end_time": "2021-10-06T02:27:08.760074Z",
     "start_time": "2021-10-06T02:27:08.716034Z"
    }
   },
   "outputs": [
    {
     "name": "stdout",
     "output_type": "stream",
     "text": [
      "hello = 'hello~'\n",
      "\n",
      "def world():\n",
      "    return \"world\"\n",
      "\n",
      "if __name__ == \"__main__\":\n",
      "    print(\"{0} excuted\".format(__name__))\n",
      "else:\n",
      "    print(\"{0} imported\".format(__name__))\n"
     ]
    }
   ],
   "source": [
    "!type hello.py"
   ]
  },
  {
   "cell_type": "code",
   "execution_count": 55,
   "metadata": {
    "ExecuteTime": {
     "end_time": "2021-10-06T02:27:08.880190Z",
     "start_time": "2021-10-06T02:27:08.761075Z"
    }
   },
   "outputs": [],
   "source": [
    "!python 4_remove_blank_lines.py hello.py"
   ]
  },
  {
   "cell_type": "code",
   "execution_count": 56,
   "metadata": {
    "ExecuteTime": {
     "end_time": "2021-10-06T02:27:08.925232Z",
     "start_time": "2021-10-06T02:27:08.881190Z"
    }
   },
   "outputs": [
    {
     "name": "stdout",
     "output_type": "stream",
     "text": [
      "# no blank\n",
      "hello = 'hello~'\n",
      "def world():\n",
      "    return \"world\"\n",
      "if __name__ == \"__main__\":\n",
      "    print(\"{0} excuted\".format(__name__))\n",
      "else:\n",
      "    print(\"{0} imported\".format(__name__))\n"
     ]
    }
   ],
   "source": [
    "!type hello.py"
   ]
  },
  {
   "cell_type": "markdown",
   "metadata": {},
   "source": [
    "file은 열었으면open 항상 닫아줘야한다close.   대신에 `with`를 사용할 수 있다."
   ]
  },
  {
   "cell_type": "code",
   "execution_count": 57,
   "metadata": {
    "ExecuteTime": {
     "end_time": "2021-10-06T02:27:08.940244Z",
     "start_time": "2021-10-06T02:27:08.926230Z"
    }
   },
   "outputs": [
    {
     "name": "stdout",
     "output_type": "stream",
     "text": [
      "Overwriting 5_remove_blank_lines.py\n"
     ]
    }
   ],
   "source": [
    "%%writefile 5_remove_blank_lines.py\n",
    "import sys\n",
    "\n",
    "def read_data(filename):\n",
    "    lines = []\n",
    "    fh = None\n",
    "\n",
    "    with open(filename) as fh:\n",
    "        for line in fh:\n",
    "            if line.strip():\n",
    "                lines.append(line)\n",
    "    return lines\n",
    "\n",
    "def write_data(lines, filename):\n",
    "    fh = None\n",
    "    with open(filename, 'w') as fh:\n",
    "        for line in lines:\n",
    "            fh.write(line)\n",
    "\n",
    "            \n",
    "def remove_blank_lines():\n",
    "    if len(sys.argv) < 2:\n",
    "        print(\"Usage: python {0} [file ...]\".format(sys.argv[0]))\n",
    "    lines = ['# no blank with @with@','\\n']\n",
    "    for filename in sys.argv[1:]:\n",
    "        lines += read_data(filename)\n",
    "        if lines:\n",
    "            write_data(lines, filename)\n",
    "            \n",
    "if __name__ == \"__main__\":\n",
    "    remove_blank_lines()"
   ]
  },
  {
   "cell_type": "code",
   "execution_count": 58,
   "metadata": {
    "ExecuteTime": {
     "end_time": "2021-10-06T02:27:09.075375Z",
     "start_time": "2021-10-06T02:27:08.941245Z"
    }
   },
   "outputs": [],
   "source": [
    "!python 5_remove_blank_lines.py hello.py"
   ]
  },
  {
   "cell_type": "code",
   "execution_count": 59,
   "metadata": {
    "ExecuteTime": {
     "end_time": "2021-10-06T02:27:09.120414Z",
     "start_time": "2021-10-06T02:27:09.076373Z"
    }
   },
   "outputs": [
    {
     "name": "stdout",
     "output_type": "stream",
     "text": [
      "# no blank with @with@\n",
      "# no blank\n",
      "hello = 'hello~'\n",
      "def world():\n",
      "    return \"world\"\n",
      "if __name__ == \"__main__\":\n",
      "    print(\"{0} excuted\".format(__name__))\n",
      "else:\n",
      "    print(\"{0} imported\".format(__name__))\n"
     ]
    }
   ],
   "source": [
    "!type hello.py"
   ]
  },
  {
   "cell_type": "markdown",
   "metadata": {},
   "source": [
    "## 4.3.1 파일 처리 메서드"
   ]
  },
  {
   "cell_type": "markdown",
   "metadata": {},
   "source": [
    "### `open()`\n",
    "\n",
    "`open(filename, mode, encoding)` 메서드는 파일 객체를 반환한다. 모드(mode)와 인코딩(encoding) 인수는 옵션이며, 생략하면 텍스트 읽기 모드와 시스템 기본 형식 인코딩이 적용된다. 모드는 문자열로 지정하며 종류는 다음과 같다. "
   ]
  },
  {
   "cell_type": "markdown",
   "metadata": {},
   "source": [
    "* `r`:읽기read 모드  \n",
    "\n",
    "* `w`:쓰기write 모드(동명 파일이 이미 있다면, 그 파일을 지운 후 내용을 새로 쓴다.)  \n",
    "\n",
    "* `a`:추가append 모드(동명 파일이 이미 있다면, 그 파일 끝에 내용을 추가한다. )  \n",
    "\n",
    "* `r+`:읽기과 쓰기 모드  \n",
    "\n",
    "* `t`:텍스트text 모드  \n",
    "\n",
    "* `b`:바이너리binary 모드\n",
    "\n"
   ]
  },
  {
   "cell_type": "code",
   "execution_count": 60,
   "metadata": {
    "ExecuteTime": {
     "end_time": "2021-10-06T02:27:09.135430Z",
     "start_time": "2021-10-06T02:27:09.121414Z"
    }
   },
   "outputs": [],
   "source": [
    "filename = 'hello.py'\n",
    "\n",
    "fin = open(filename, encoding='utf8')\n",
    "fout = open(filename, 'w', encoding='utf8')"
   ]
  },
  {
   "cell_type": "markdown",
   "metadata": {},
   "source": [
    "### `read()`\n",
    "\n",
    "`read(size)` 메서드는 파일에서 size만큼의 내용을 읽고 문자열로 반환한다. \n",
    "\n",
    "(파이썬 3에서는 텍스트 모드의 경우 문자열을 반환하고, 바이너리 모드의 경우 바이트 객체를 반환한다.)\n",
    "\n",
    "size는 정수로 지정하며 선택적 인수다. 인수가 생략되거나 음수이면, 전체 파일의 내용을 읽고 반환한다. 파일의 끝에 도달하면 read() 메서드는 빈 문자열을 반환한다. "
   ]
  },
  {
   "cell_type": "code",
   "execution_count": 61,
   "metadata": {
    "ExecuteTime": {
     "end_time": "2021-10-06T02:27:09.182164Z",
     "start_time": "2021-10-06T02:27:09.136429Z"
    }
   },
   "outputs": [],
   "source": [
    "!type hello.py"
   ]
  },
  {
   "cell_type": "code",
   "execution_count": 62,
   "metadata": {
    "ExecuteTime": {
     "end_time": "2021-10-06T02:27:09.197181Z",
     "start_time": "2021-10-06T02:27:09.183167Z"
    }
   },
   "outputs": [
    {
     "data": {
      "text/plain": [
       "''"
      ]
     },
     "execution_count": 62,
     "metadata": {},
     "output_type": "execute_result"
    }
   ],
   "source": [
    "fin.read()"
   ]
  },
  {
   "cell_type": "markdown",
   "metadata": {},
   "source": [
    "### `readline()`\n",
    "\n",
    "파일에서 한 줄을 읽는다. 개행 문자는 문자열의 끝에 남으며, 파일의 마지막 행에서만 생략된다. 이 때문에 반환 값이 모호해지는 문제가 있다. \n",
    "\n",
    "`readlines()`\n",
    "\n",
    "파일의 모든 데이터 행을 포함한 리스트를 반환한다. `readlines(size)` 메서드에 size를 지정하면, 파일에서 해당 바이트 수만큼 읽고, 한 행을 완성하는 데 필요한 만큼 더 읽어서 반환한다. `readlines()` 메서드는 메모리에 전체 파일을 불러올 필요 없이 줄 단위로 효율적으로 읽을 수 있으며, 완전한 행을 반환한다. "
   ]
  },
  {
   "cell_type": "code",
   "execution_count": 63,
   "metadata": {
    "ExecuteTime": {
     "end_time": "2021-10-06T02:27:09.212195Z",
     "start_time": "2021-10-06T02:27:09.198181Z"
    }
   },
   "outputs": [
    {
     "data": {
      "text/plain": [
       "[]"
      ]
     },
     "execution_count": 63,
     "metadata": {},
     "output_type": "execute_result"
    }
   ],
   "source": [
    "fin.readlines()"
   ]
  },
  {
   "cell_type": "markdown",
   "metadata": {},
   "source": [
    "### `write()`\n",
    "\n",
    "데이터를 파일에 쓰고, None을 반환한다. 바이너리 모드에서는 바이트 또는 바이트 배열 객체를 쓰고, 텍스트 모드에서는 문자열 객체를 쓴다. "
   ]
  },
  {
   "cell_type": "code",
   "execution_count": 64,
   "metadata": {
    "ExecuteTime": {
     "end_time": "2021-10-06T02:27:09.227209Z",
     "start_time": "2021-10-06T02:27:09.213195Z"
    }
   },
   "outputs": [
    {
     "data": {
      "text/plain": [
       "4"
      ]
     },
     "execution_count": 64,
     "metadata": {},
     "output_type": "execute_result"
    }
   ],
   "source": [
    "fout.write('테스트\\n')"
   ]
  },
  {
   "cell_type": "markdown",
   "metadata": {},
   "source": [
    "### `tell()`,`seek()`\n",
    "\n",
    "`tell()` 메서드는 파일의 현재 위치를 나타내는 정수를 반환한다. 파일의 위치는 시작 부분에서 바이트 단위로 측정된다. \n",
    "\n",
    "`seek(offset, from-what)` 메서드는 파일 내 탐색 위치를 변경할 때 사용한다. 파일 위치는 기준이 되는 참조 포인트 `from-what`에 오프셋 `offset`을 더한 값으로 계산된다. `from-what` 인수를 0으로 지정하면 기준이 파일의 처음 위치가 되고, 1은 파일의 현재 위치, 2는 파일의 마지막 위치를 기준으로 삼게 된다."
   ]
  },
  {
   "cell_type": "markdown",
   "metadata": {},
   "source": [
    "`close()`\n",
    "\n",
    "파일을 닫고, 열린 파일이 차지하는 시스템 자원을 해제한다.free up, 파일을 성공적으로 닫으면 True를 반환한다."
   ]
  },
  {
   "cell_type": "markdown",
   "metadata": {
    "cell_style": "center"
   },
   "source": [
    "`input()`\n",
    "\n",
    "`input()` 함수는 사용자의 입력을 받는다. 콘솔에 출력될 문자열을 선택적으로 지정할 수 있다. 사용자가 텍스트를 입력하고 엔터enter(또는 리턴return)를 누를때까지 기다린다. \n",
    "\n",
    "사용자가 텍스트를 입력하지 않고 엔터 키만 누르면, 빈 문자열을 반환한다. 텍스트를 입력하고 엔터 키를 누르면, 사용자가 입력한 내용이 담긴 문자열(엔터 키 제외)을 반환한다."
   ]
  },
  {
   "cell_type": "code",
   "execution_count": 65,
   "metadata": {
    "ExecuteTime": {
     "end_time": "2021-10-06T02:27:09.242223Z",
     "start_time": "2021-10-06T02:27:09.228210Z"
    }
   },
   "outputs": [],
   "source": [
    "def get_int(msg):\n",
    "    while True:\n",
    "        try:\n",
    "            i = int(input(msg))\n",
    "            return i \n",
    "        except ValueError as err:\n",
    "            print(err)"
   ]
  },
  {
   "cell_type": "code",
   "execution_count": 76,
   "metadata": {
    "ExecuteTime": {
     "end_time": "2021-10-06T02:27:29.292358Z",
     "start_time": "2021-10-06T02:27:25.421168Z"
    }
   },
   "outputs": [
    {
     "name": "stdout",
     "output_type": "stream",
     "text": [
      "Enter your age:1\n"
     ]
    }
   ],
   "source": [
    "age = get_int('Enter your age:')"
   ]
  },
  {
   "cell_type": "code",
   "execution_count": 67,
   "metadata": {
    "ExecuteTime": {
     "end_time": "2021-10-06T02:27:16.719758Z",
     "start_time": "2021-10-06T02:27:16.705748Z"
    }
   },
   "outputs": [
    {
     "data": {
      "text/plain": [
       "21"
      ]
     },
     "execution_count": 67,
     "metadata": {},
     "output_type": "execute_result"
    }
   ],
   "source": [
    "age"
   ]
  },
  {
   "cell_type": "markdown",
   "metadata": {},
   "source": [
    "`peek()`\n",
    "\n",
    "`peek(n)` 메서드는 파일 포인터 위치를 이동하지 않고, n바이트를 반환한다.(반환된 바이트 수는 요청한 것보다 적거나 많을 수 있다.)"
   ]
  },
  {
   "cell_type": "markdown",
   "metadata": {},
   "source": [
    "`fileno()`\n",
    "\n",
    "파일 서술자descriptor 를 반환한다.(파일 서술자를 가진 파일 객체에서만 사용 가능하다.)"
   ]
  },
  {
   "cell_type": "markdown",
   "metadata": {},
   "source": [
    "## 4.3.2 shutil 모듈"
   ]
  },
  {
   "cell_type": "markdown",
   "metadata": {},
   "source": [
    "shutil 모듈은 시스템에서 파일을 조작할 때 유용하다. 다음 코드는 터미널에서 파일 및 확장자를 지정하면 새 확장자의 이름으로 복사본을 만든다."
   ]
  },
  {
   "cell_type": "code",
   "execution_count": 68,
   "metadata": {
    "ExecuteTime": {
     "end_time": "2021-10-06T02:27:16.734772Z",
     "start_time": "2021-10-06T02:27:16.720758Z"
    }
   },
   "outputs": [
    {
     "name": "stdout",
     "output_type": "stream",
     "text": [
      "Overwriting 6_change_ext_file.py\n"
     ]
    }
   ],
   "source": [
    "%%writefile 6_change_ext_file.py\n",
    "import os \n",
    "import sys\n",
    "import shutil\n",
    "\n",
    "def change_file_ext():\n",
    "    print(1)\n",
    "    if len(sys.argv) < 2:\n",
    "        print(\"Usage: python {0} filename.old_ext 'new_ext'\".format(sys.argv[0]))\n",
    "        sys.exit()\n",
    "    \n",
    "    name = os.path.splitext(sys.argv[1])[0]+'.'+sys.argv[2]\n",
    "    print(name)\n",
    "    print(sys.argv[1])\n",
    "    try:\n",
    "        shutil.copyfile(sys.argv[1], name)\n",
    "        print('copied')\n",
    "    except OSError as err:\n",
    "        print(err)\n",
    "        \n",
    "if __name__== \"__main__\":\n",
    "    change_file_ext()"
   ]
  },
  {
   "cell_type": "code",
   "execution_count": 69,
   "metadata": {
    "ExecuteTime": {
     "end_time": "2021-10-06T02:27:16.899922Z",
     "start_time": "2021-10-06T02:27:16.735772Z"
    }
   },
   "outputs": [
    {
     "name": "stdout",
     "output_type": "stream",
     "text": [
      "1\n",
      "hello.txt\n",
      "hello.py\n",
      "copied\n"
     ]
    }
   ],
   "source": [
    "!python 6_change_ext_file.py  hello.py  txt"
   ]
  },
  {
   "cell_type": "markdown",
   "metadata": {
    "ExecuteTime": {
     "end_time": "2021-09-21T06:23:33.451419Z",
     "start_time": "2021-09-21T06:23:33.436407Z"
    }
   },
   "source": [
    "## 4.3.3 pickle 모듈"
   ]
  },
  {
   "cell_type": "markdown",
   "metadata": {},
   "source": [
    "`pickle` 모듈은 파이썬 객체를 가져와서 문자열 퓨현representation으로 변환한다. \n",
    "\n",
    "이러한 과정을 **피클링**pickling이라 한다.(직렬화 serialization라고도 한다.)   \n",
    "\n",
    "반대로, 문자열표현을 객체로 재구성하는 것을 **언피클링**unpickling이라 한다.(역직렬화deserialization)\n",
    "\n",
    "파이썬 3에서 pickle 모듈을 사용하려면, 바이너리 모드로 파일에 접근해야 한다. 다음 코드를 살펴보자."
   ]
  },
  {
   "cell_type": "code",
   "execution_count": 70,
   "metadata": {
    "ExecuteTime": {
     "end_time": "2021-10-06T02:27:16.914936Z",
     "start_time": "2021-10-06T02:27:16.900923Z"
    }
   },
   "outputs": [],
   "source": [
    "import pickle\n",
    "\n",
    "x={}\n",
    "x['name'] = 'Neva'\n",
    "x['age'] = '31'\n",
    "x['ocupation'] ='CodeChef'\n",
    "\n",
    "with open('name.pkl', 'wb') as f: # 피클링\n",
    "    pickle.dump(x, f)"
   ]
  },
  {
   "cell_type": "code",
   "execution_count": 71,
   "metadata": {
    "ExecuteTime": {
     "end_time": "2021-10-06T02:27:16.929949Z",
     "start_time": "2021-10-06T02:27:16.915935Z"
    }
   },
   "outputs": [
    {
     "data": {
      "text/plain": [
       "{'name': 'Neva', 'age': '31', 'ocupation': 'CodeChef'}"
      ]
     },
     "execution_count": 71,
     "metadata": {},
     "output_type": "execute_result"
    }
   ],
   "source": [
    "with open('name.pkl', 'rb') as f:\n",
    "    name = pickle.load(f)\n",
    "name"
   ]
  },
  {
   "cell_type": "markdown",
   "metadata": {
    "ExecuteTime": {
     "end_time": "2021-09-21T06:23:44.290195Z",
     "start_time": "2021-09-21T06:23:44.274181Z"
    }
   },
   "source": [
    "## 4.3.4 struct 모듈"
   ]
  },
  {
   "cell_type": "markdown",
   "metadata": {},
   "source": [
    "`struct` 모듈을 사용하면 파이썬 객체를 이진 표현으로 변환하거나, 이진 표현을 파이썬 객체로 변환할 수 있다. \n",
    "객체는 특정 길이의 문자열만 처리할 수 있다. \n",
    "\n",
    "`struct` 모듈의 함수를 간단하게 살펴보자. struct.pack() 함수는 struct 형식format 의 문자열과 값을 취하여 바이트 객체를 반환한다. `struck.unpack()` 함수는 struck 형식의 문자열과 바이트 또는 바이트 배열 객체를 취하여 값을 반환한다. struct.calcsize() 함수는 struct 형식의 문자열을 취하여, struct 형식이 차지할 바이트 수를 반환한다. "
   ]
  },
  {
   "cell_type": "code",
   "execution_count": 72,
   "metadata": {
    "ExecuteTime": {
     "end_time": "2021-10-06T02:27:16.944963Z",
     "start_time": "2021-10-06T02:27:16.930950Z"
    }
   },
   "outputs": [
    {
     "data": {
      "text/plain": [
       "b'\\x00\\x01\\x00\\x02\\x00\\x00\\x00\\x03'"
      ]
     },
     "execution_count": 72,
     "metadata": {},
     "output_type": "execute_result"
    }
   ],
   "source": [
    "import struct\n",
    "\n",
    "abc = struct.pack('>hhl', 1, 2, 3)\n",
    "abc"
   ]
  },
  {
   "cell_type": "code",
   "execution_count": 73,
   "metadata": {
    "ExecuteTime": {
     "end_time": "2021-10-06T02:27:16.959977Z",
     "start_time": "2021-10-06T02:27:16.945962Z"
    }
   },
   "outputs": [
    {
     "data": {
      "text/plain": [
       "(1, 2, 3)"
      ]
     },
     "execution_count": 73,
     "metadata": {},
     "output_type": "execute_result"
    }
   ],
   "source": [
    "struct.unpack('>hhl', abc)"
   ]
  },
  {
   "cell_type": "code",
   "execution_count": 74,
   "metadata": {
    "ExecuteTime": {
     "end_time": "2021-10-06T02:27:16.974991Z",
     "start_time": "2021-10-06T02:27:16.960978Z"
    }
   },
   "outputs": [
    {
     "data": {
      "text/plain": [
       "8"
      ]
     },
     "execution_count": 74,
     "metadata": {},
     "output_type": "execute_result"
    }
   ],
   "source": [
    "struct.calcsize('>hhl')"
   ]
  },
  {
   "cell_type": "markdown",
   "metadata": {},
   "source": [
    "struct 형식 `'>hhl'`이 의미하는 바를 살펴보자. \n",
    "* \\>는 빅엔디언big-endian을 의미한다.(반대로 \\< 리틀엔디언little-endian이다.)  \n",
    "* h는 C타입으로 short를 나타내고 l은 long을 나타낸다.\n",
    "\n"
   ]
  },
  {
   "cell_type": "markdown",
   "metadata": {},
   "source": [
    "# 4.4 오류처리"
   ]
  },
  {
   "cell_type": "markdown",
   "metadata": {},
   "source": [
    "파이썬 코드를 컴파일할 때, 발생할 수 있는 두 가지 종류의 오류가 있다. \n",
    "\n",
    "**구문 오류**syntax error(구문 분석parsing 오류)와 **예외**exception(실행 중 발견되는 오류로 무조건적으로 치명적인 것은 아니다.)다.\n",
    "\n",
    "구문 오류가 있으면 컴파일이 아예 안되지만, 예외는 실행 중에야 발견할 수 있으므로 신중하게 처리해야 한다. "
   ]
  },
  {
   "cell_type": "markdown",
   "metadata": {
    "ExecuteTime": {
     "end_time": "2021-09-21T06:23:55.051228Z",
     "start_time": "2021-09-21T06:23:55.040218Z"
    }
   },
   "source": [
    "## 4.4.1 예외 처리"
   ]
  },
  {
   "cell_type": "markdown",
   "metadata": {},
   "source": [
    "예외가 발생했는데 이를 코드 내에서 처리하지 않았다면, 파이썬은 예외의 오류메시지와 함께 **트레이스백(역추적)**traceback**을 출력한다. 트레이스백은 처리되지 않은 예외가 발생한 지점에서 호출 스택 맨 위까지 수행된 모든 호출 목록을 포함한다. 파이썬에서는 `try-except-finally`문을 사용하여 예측 가능한 예외를 처리할 수 있다. "
   ]
  },
  {
   "cell_type": "markdown",
   "metadata": {},
   "source": [
    "```{python}\n",
    "try:\n",
    "    예외 발생이 예측되는 코드\n",
    "    \n",
    "except 예외1 as 예외_변수1:\n",
    "    예외 처리1\n",
    "    \n",
    ".\n",
    ".\n",
    "\n",
    "except 예외N as 예외_변수N:\n",
    "    예외 처리N\n",
    "    \n",
    "finally:\n",
    "    마지막 실행 코드\n",
    "    \n",
    "```"
   ]
  },
  {
   "cell_type": "code",
   "execution_count": 77,
   "metadata": {
    "ExecuteTime": {
     "end_time": "2021-10-06T02:28:13.562332Z",
     "start_time": "2021-10-06T02:27:36.458166Z"
    }
   },
   "outputs": [
    {
     "name": "stdout",
     "output_type": "stream",
     "text": [
      "숫자를 넣어줭~0\n",
      "숫자를 넣어줭~ㅁ\n",
      "<class 'ValueError'>\n",
      "숫자를 넣어줭~-\n",
      "<class 'ValueError'>\n",
      "3회 완료\n"
     ]
    }
   ],
   "source": [
    "i = 0 \n",
    "while True:\n",
    "    try:\n",
    "        x = int(input('숫자를 넣어줭~'))\n",
    "    except ValueError:\n",
    "        print(ValueError, '숫자가 아닙니다. 다시 입력해주세요~')\n",
    "    finally:\n",
    "        i+=1\n",
    "    \n",
    "    if i == 3:\n",
    "        print( '3회 완료')\n",
    "        break"
   ]
  },
  {
   "cell_type": "markdown",
   "metadata": {},
   "source": [
    "`raise`문을 사용하여 다음과 같이 특정 예외를 의도적으로 발생시킬 수 있다. "
   ]
  },
  {
   "cell_type": "code",
   "execution_count": 78,
   "metadata": {
    "ExecuteTime": {
     "end_time": "2021-10-06T02:32:00.065626Z",
     "start_time": "2021-10-06T02:31:59.826055Z"
    }
   },
   "outputs": [
    {
     "name": "stdout",
     "output_type": "stream",
     "text": [
      "예외 발생: <class 'ZeroDivisionError'>\n"
     ]
    },
    {
     "ename": "ZeroDivisionError",
     "evalue": "division by zero",
     "output_type": "error",
     "traceback": [
      "\u001b[1;31m-------------------------------------------------------------------------\u001b[0m",
      "\u001b[1;31mZeroDivisionError\u001b[0m                       Traceback (most recent call last)",
      "\u001b[1;32mC:\\Users\\Public\\Documents\\ESTsoft\\CreatorTemp/ipykernel_39048/305174234.py\u001b[0m in \u001b[0;36m<module>\u001b[1;34m\u001b[0m\n\u001b[0;32m      2\u001b[0m \u001b[1;32mimport\u001b[0m \u001b[0msys\u001b[0m\u001b[1;33m\u001b[0m\u001b[1;33m\u001b[0m\u001b[0m\n\u001b[0;32m      3\u001b[0m \u001b[1;32mtry\u001b[0m\u001b[1;33m:\u001b[0m\u001b[1;33m\u001b[0m\u001b[1;33m\u001b[0m\u001b[0m\n\u001b[1;32m----> 4\u001b[1;33m     \u001b[1;36m1\u001b[0m\u001b[1;33m/\u001b[0m\u001b[1;36m0\u001b[0m\u001b[1;33m\u001b[0m\u001b[1;33m\u001b[0m\u001b[0m\n\u001b[0m\u001b[0;32m      5\u001b[0m     \u001b[0mf\u001b[0m \u001b[1;33m=\u001b[0m \u001b[0mopen\u001b[0m\u001b[1;33m(\u001b[0m\u001b[1;34m'myfile.txt'\u001b[0m\u001b[1;33m)\u001b[0m\u001b[1;33m\u001b[0m\u001b[1;33m\u001b[0m\u001b[0m\n\u001b[0;32m      6\u001b[0m     \u001b[0ms\u001b[0m \u001b[1;33m=\u001b[0m \u001b[0mf\u001b[0m\u001b[1;33m.\u001b[0m\u001b[0mreadline\u001b[0m\u001b[1;33m(\u001b[0m\u001b[1;33m)\u001b[0m\u001b[1;33m\u001b[0m\u001b[1;33m\u001b[0m\u001b[0m\n",
      "\u001b[1;31mZeroDivisionError\u001b[0m: division by zero"
     ]
    }
   ],
   "source": [
    "import string\n",
    "import sys\n",
    "try:\n",
    "    1/0\n",
    "    f = open('myfile.txt')\n",
    "    s = f.readline()\n",
    "    i = int(string.strip(s))\n",
    "except IOError as err:\n",
    "    errno, strerror = err.args\n",
    "    print(err)\n",
    "    print(errno, sterror)\n",
    "except ValueError:\n",
    "    print('데이터를 숫자로 변환할 수 없습니다.')\n",
    "except:\n",
    "    print(\"예외 발생: {0}\".format(sys.exc_info()[0]))\n",
    "    raise"
   ]
  },
  {
   "cell_type": "markdown",
   "metadata": {},
   "source": [
    "`else`문도 쓸수 있다."
   ]
  },
  {
   "cell_type": "code",
   "execution_count": 79,
   "metadata": {
    "ExecuteTime": {
     "end_time": "2021-10-06T02:34:52.259248Z",
     "start_time": "2021-10-06T02:34:52.252240Z"
    }
   },
   "outputs": [
    {
     "name": "stdout",
     "output_type": "stream",
     "text": [
      "hello.py는(은) 총 0줄 입니다.\n"
     ]
    }
   ],
   "source": [
    "filename = 'hello.py'\n",
    "try:\n",
    "    f = open(filename, 'r')\n",
    "except IOError:\n",
    "    print(\"{0}를(을) 열 수 없습니다.\".format(filename))\n",
    "else:\n",
    "    print(\"{0}는(은) 총 {1}줄 입니다.\".format(filename, len(f.readlines())))\n",
    "    f.close()"
   ]
  },
  {
   "cell_type": "markdown",
   "metadata": {
    "ExecuteTime": {
     "end_time": "2021-09-21T06:24:01.750465Z",
     "start_time": "2021-09-21T06:24:01.747461Z"
    }
   },
   "source": [
    "## 4.4.2 예외 처리에 대한 구글 파이썬 스타일 가이드"
   ]
  },
  {
   "cell_type": "markdown",
   "metadata": {},
   "source": [
    "* `raise MyError('오류 메시지')` 또는 `raise MyError`와 같이 예외를 발생시킨다. 두 개의 인수 형식을 사용하지 않는다.(즉, raise MyError, '오류 메시지'와 같이 두개의 인수 형식을 사용하지 않는다.)     \n",
    "\n",
    "* 내장 예외클래스를 적절하게 사용한다. 예를 들어 어떤 함수에서 예상 인수 값이 양수이지만 음수를 전달받았다면 ValueError 예외를 발생시키면 된다. 여기서 공개 API의 인수 값을 확인하는 데 assert문은 사용하지 않는다. assert문은 정확한 사용법을 강요하거나 예상치 못한 이벤트가 발생했음을 가리키는 것이 아니라, 내부적으로 정확성을 보장하기 위해 사용하는 것이다. 좋은 예는 다음과 같다."
   ]
  },
  {
   "cell_type": "code",
   "execution_count": 81,
   "metadata": {
    "ExecuteTime": {
     "end_time": "2021-10-06T02:43:51.838813Z",
     "start_time": "2021-10-06T02:43:51.828800Z"
    }
   },
   "outputs": [],
   "source": [
    "def ConnectToNextPort(self, minimum):\n",
    "    \"\"\"사용 가능한 다음 포트에 연결한다. 새 minimum 포트를 반환한다.\"\"\"\n",
    "    if minimum <= 1024:\n",
    "        raise ValueError('1025 이상의 포트를 입력해야 합니다.')\n",
    "    port = self._FindNextOpenPort(minimum)\n",
    "    \n",
    "    if not port:\n",
    "        raise ConnectionError('%d 포트에 연결할 수 없습니다.' % (minimum,))\n",
    "    assert port >=minimum, '예상치 못한 %d 포트를 사용했습니다. 입력한 minimum 포트는 %d입니다.' % (port, minimum)\n",
    "    return port"
   ]
  },
  {
   "cell_type": "markdown",
   "metadata": {},
   "source": [
    "다음은 나쁜 예이다."
   ]
  },
  {
   "cell_type": "code",
   "execution_count": 82,
   "metadata": {
    "ExecuteTime": {
     "end_time": "2021-10-06T02:45:24.169307Z",
     "start_time": "2021-10-06T02:45:24.164301Z"
    }
   },
   "outputs": [],
   "source": [
    "def ConnectToNextPort(self, minimum):\n",
    "    \"\"\"사용 가능한 다음 포트에 연결한다. 새 minimum 포트를 반환한다.\"\"\"\n",
    "    assert minimum > 1024, '1025 이상의 포트를 입력해야 합니다.'\n",
    "    port = self._FindNextOpenPort(minimum)\n",
    "    assert port is not None\n",
    "    return port"
   ]
  },
  {
   "cell_type": "markdown",
   "metadata": {},
   "source": [
    "* 라이브러리 또는 패키지에 따라 자체적인 예외를 정의하는 게 좋다. 이 경우 내장 `Exception` 클래스를 상속한다. 예외 이름은 `Error`로 끝나야 하며, `foo.FooError`와 같이 `foo.`가 붙으면 안 된다.    \n",
    "\n",
    "\n",
    "* 모든 예외를 처리하는<sub>catch-all</sub> `except: except Execption, except StandardError` 문을 사용하지 않는다. 예외를 다시 발생시키려 하거나 코드의 가장 바깥쪽 블록(오류 메시지를 출력할 때)에서가 아니라면 말이다. 파이썬은 이 점에 관해 매우 관용적이라 `except:`문은 오탈자, `sys.exit()` 호출, `Ctrl+C` 인터럽트, 단위 테스트 실패 등 처리를 원하는 게 아닌 모든 종류의 예외까지 처리해버린다.\n",
    "\n",
    "\n",
    "\n",
    "* `try/except` 블록 내 코드의 양을 최소화한다. try문에 걸리는 코드가 많을수록, 예외를 발생시키지 않을 것으로 예상한 코드 줄에서 예외가 발생할 확률도 높아진다. 이러한 경우 실제 오류가 발견하기 어렵다.    \n",
    "\n",
    "* try문에서 예외가 발생하는지 여부에 관계없이 `finally`문을 꼭 사용한다. 이렇게 하면 파일 닫기와 같이 자원을 정리cleanup 하는 데 유용하다.\n",
    "\n",
    "\n",
    "* 예외를 처리할 때는 다음과 같이, 쉼표(,) 대신 `as`를 사용한다.\n",
    "\n",
    "```{python}\n",
    "try:\n",
    "    raise Error\n",
    "except Error as error:\n",
    "    pass\n",
    "```"
   ]
  },
  {
   "cell_type": "markdown",
   "metadata": {},
   "source": [
    "**Reference**\n",
    "\n",
    "* <a href='https://github.com/SeWonKwon' ><div> <img src ='https://slid-capture.s3.ap-northeast-2.amazonaws.com/public/image_upload/6556674324ed41a289a354258718280d/964e5a8b-75ad-41fc-ae75-0ca66d06fbc7.png' align='left' /> </div></a>\n",
    "\n",
    "<br>\n",
    "\n",
    "* [파이썬 자료구조와 알고리즘, 미아 스타인](https://github.com/AstinCHOI/Python-and-Algorithms-and-Data-Structures)"
   ]
  }
 ],
 "metadata": {
  "kernelspec": {
   "display_name": "Python 3 (ipykernel)",
   "language": "python",
   "name": "python3"
  },
  "language_info": {
   "codemirror_mode": {
    "name": "ipython",
    "version": 3
   },
   "file_extension": ".py",
   "mimetype": "text/x-python",
   "name": "python",
   "nbconvert_exporter": "python",
   "pygments_lexer": "ipython3",
   "version": "3.8.11"
  },
  "toc": {
   "base_numbering": 1,
   "nav_menu": {},
   "number_sections": true,
   "sideBar": true,
   "skip_h1_title": false,
   "title_cell": "Table of Contents",
   "title_sidebar": "Contents",
   "toc_cell": false,
   "toc_position": {},
   "toc_section_display": true,
   "toc_window_display": true
  }
 },
 "nbformat": 4,
 "nbformat_minor": 4
}
