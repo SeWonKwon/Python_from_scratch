{
 "cells": [
  {
   "cell_type": "markdown",
   "metadata": {},
   "source": [
    "<a href='https://github.com/SeWonKwon' ><div> <img src ='https://slid-capture.s3.ap-northeast-2.amazonaws.com/public/image_upload/6556674324ed41a289a354258718280d/964e5a8b-75ad-41fc-ae75-0ca66d06fbc7.png' align='left' /> </div></a>\n"
   ]
  },
  {
   "cell_type": "markdown",
   "metadata": {},
   "source": [
    "###### Ch 04 구조와 모듈"
   ]
  },
  {
   "cell_type": "markdown",
   "metadata": {},
   "source": [
    " "
   ]
  },
  {
   "cell_type": "markdown",
   "metadata": {},
   "source": [
    "# 4.1 모듈"
   ]
  },
  {
   "cell_type": "markdown",
   "metadata": {},
   "source": [
    "파이썬에서 **모듈**module은 `def`를 사용하여 정의한다. `def`가 실행되면, 함수의 객체와 참조가 같이 생성된다.  반환값을 정의하지 않으면, 파이썬은 자동으로 `None`을 반환한다. C 언어와 마찬가지로, 아무런 값을 반환하지 않는 함수는 프로시져<sub>procedure</sub> 라고 부른다. "
   ]
  },
  {
   "cell_type": "markdown",
   "metadata": {},
   "source": [
    "## 4.1.1 스택과 활성화 레코드"
   ]
  },
  {
   "cell_type": "markdown",
   "metadata": {},
   "source": [
    "함수가 호출될 때마다 **활성화 레코드**<sub>activation record</sub> 가 생성된다. 활성화 레코드에는 함수의 정보(반환값, 매개변수, 지역 변수, 반환값, 반환 주소 등)가 기록되며, 이를 **스택**stack에 저장한다. 활성화 레코드는 다음과 같은 순서로 처리된다. \n",
    "\n",
    "1. 함수의 실제 매개변수를 스택에 저장push한다.\n",
    "2. 반환 주소를 스택에 저장한다.\n",
    "3. 스택의 최상위 인덱스를 함수의 지역 변수에 필요한 총량만큼 늘린다. \n",
    "4. 함수로 건너뛴다.jump"
   ]
  },
  {
   "cell_type": "markdown",
   "metadata": {},
   "source": [
    "활성화 레코드를 풀어내는<sub>unwiding</sub> 절차는 다음과 같다. \n",
    "\n",
    "1. 스택의 최상위 인덱스는 함수에 소비된 총 메모리야(지역 변수)만큼 감소한다.\n",
    "2. 반환 주소를 스택에서 빼낸다.pop\n",
    "3. 스택의 최상위 인덱스는 함수의 실제 매개변수만큼 감소한다. "
   ]
  },
  {
   "cell_type": "markdown",
   "metadata": {},
   "source": [
    "## 4.1.2 모듈의 기본값"
   ]
  },
  {
   "cell_type": "markdown",
   "metadata": {},
   "source": [
    "모듈을 생성할때, 함수 또는 메서드에서 가변 객체를 기본값으로 사용해선 안된다. "
   ]
  },
  {
   "cell_type": "markdown",
   "metadata": {},
   "source": [
    "나쁜 예"
   ]
  },
  {
   "cell_type": "code",
   "execution_count": 1,
   "metadata": {
    "ExecuteTime": {
     "end_time": "2021-09-22T05:10:07.393498Z",
     "start_time": "2021-09-22T05:10:07.373982Z"
    }
   },
   "outputs": [],
   "source": [
    "def append_num(number, number_list=[]):\n",
    "    number_list.append(number)\n",
    "    return number_list"
   ]
  },
  {
   "cell_type": "code",
   "execution_count": 2,
   "metadata": {
    "ExecuteTime": {
     "end_time": "2021-09-22T05:10:07.408514Z",
     "start_time": "2021-09-22T05:10:07.394499Z"
    }
   },
   "outputs": [
    {
     "data": {
      "text/plain": [
       "[5]"
      ]
     },
     "execution_count": 2,
     "metadata": {},
     "output_type": "execute_result"
    }
   ],
   "source": [
    "append_num(5) # 예상 결과 [5] "
   ]
  },
  {
   "cell_type": "code",
   "execution_count": 3,
   "metadata": {
    "ExecuteTime": {
     "end_time": "2021-09-22T05:10:07.423525Z",
     "start_time": "2021-09-22T05:10:07.409512Z"
    },
    "scrolled": true
   },
   "outputs": [
    {
     "data": {
      "text/plain": [
       "[5, 7]"
      ]
     },
     "execution_count": 3,
     "metadata": {},
     "output_type": "execute_result"
    }
   ],
   "source": [
    "append_num(7) # 예상 결과 [7]"
   ]
  },
  {
   "cell_type": "markdown",
   "metadata": {},
   "source": [
    "좋은 예"
   ]
  },
  {
   "cell_type": "code",
   "execution_count": 4,
   "metadata": {
    "ExecuteTime": {
     "end_time": "2021-09-22T05:10:07.438541Z",
     "start_time": "2021-09-22T05:10:07.424527Z"
    }
   },
   "outputs": [],
   "source": [
    "def append_num(number, number_list=None):\n",
    "    if number_list is None:\n",
    "        number_list= []\n",
    "    number_list.append(number)\n",
    "    return number_list"
   ]
  },
  {
   "cell_type": "code",
   "execution_count": 5,
   "metadata": {
    "ExecuteTime": {
     "end_time": "2021-09-22T05:10:07.453555Z",
     "start_time": "2021-09-22T05:10:07.439542Z"
    }
   },
   "outputs": [
    {
     "data": {
      "text/plain": [
       "[5]"
      ]
     },
     "execution_count": 5,
     "metadata": {},
     "output_type": "execute_result"
    }
   ],
   "source": [
    "append_num(5) # 예상 결과 [5] "
   ]
  },
  {
   "cell_type": "code",
   "execution_count": 6,
   "metadata": {
    "ExecuteTime": {
     "end_time": "2021-09-22T05:10:07.468567Z",
     "start_time": "2021-09-22T05:10:07.454554Z"
    },
    "scrolled": true
   },
   "outputs": [
    {
     "data": {
      "text/plain": [
       "[7]"
      ]
     },
     "execution_count": 6,
     "metadata": {},
     "output_type": "execute_result"
    }
   ],
   "source": [
    "append_num(7) # 예상 결과 [7]"
   ]
  },
  {
   "cell_type": "markdown",
   "metadata": {},
   "source": [
    "## 4.1.3 `__init__.py` 파일"
   ]
  },
  {
   "cell_type": "markdown",
   "metadata": {},
   "source": [
    "**패키지**package는 모듈과 `__init__.py` 파일이 있는 디렉터리이다.  파이썬은 `__init__.py` 파일이 있는 디렉터리를 패키지로 취급한다. 모듈 검색 경로 중 string과 같이 흔한 이름의 디렉터리에 유효한 모듈이 들어 있는 경우 이러한 모듈이 검색되지 않는 문제를 방지하기 위해서 이다."
   ]
  },
  {
   "cell_type": "markdown",
   "metadata": {},
   "source": [
    "```{python}\n",
    "\n",
    "import 폴더이름.파일모듈명\n",
    "```"
   ]
  },
  {
   "cell_type": "markdown",
   "metadata": {},
   "source": [
    "`__init__.py` 파일은 빈 파일일 수도 있지만, 패키지의 초기화 코드를 실행하거나, __all__ 변수를 정의 할 수도 있다. "
   ]
  },
  {
   "cell_type": "markdown",
   "metadata": {},
   "source": [
    "```\n",
    "__all__ =['파일1', ...]\n",
    "```"
   ]
  },
  {
   "cell_type": "markdown",
   "metadata": {},
   "source": [
    "실제 파일 이름은 확장자가 `.py`겠지만, 여기서 작성할 때는 `.py`를 붙이지 않는다."
   ]
  },
  {
   "cell_type": "markdown",
   "metadata": {},
   "source": [
    "```{python}\n",
    "\n",
    "from 폴더이름 import *\n",
    "```"
   ]
  },
  {
   "cell_type": "markdown",
   "metadata": {},
   "source": [
    "위의 코드는 이름이 `__`로 시작하는 모듈을 *제외한* 모듈의 모든 객체를 불러온다.  \n",
    "`__all__` 변수가 있는 경우, 해당 리스트의 객체를 불러온다. "
   ]
  },
  {
   "cell_type": "markdown",
   "metadata": {},
   "source": [
    "터미널에서 특정 모듈이 있는지 간단하게 확인하려면, `python -c import 모듈` 사용하면 된다. "
   ]
  },
  {
   "cell_type": "code",
   "execution_count": 7,
   "metadata": {
    "ExecuteTime": {
     "end_time": "2021-09-22T05:10:10.426849Z",
     "start_time": "2021-09-22T05:10:07.469567Z"
    }
   },
   "outputs": [],
   "source": [
    "!python -c \"import seaborn\""
   ]
  },
  {
   "cell_type": "code",
   "execution_count": 8,
   "metadata": {
    "ExecuteTime": {
     "end_time": "2021-09-22T05:10:10.561665Z",
     "start_time": "2021-09-22T05:10:10.427854Z"
    }
   },
   "outputs": [
    {
     "name": "stderr",
     "output_type": "stream",
     "text": [
      "Traceback (most recent call last):\n",
      "  File \"<string>\", line 1, in <module>\n",
      "ModuleNotFoundError: No module named 'astin'\n"
     ]
    }
   ],
   "source": [
    "!python -c \"import astin\""
   ]
  },
  {
   "cell_type": "markdown",
   "metadata": {},
   "source": [
    "## 4.1.4 `__name__` 변수"
   ]
  },
  {
   "cell_type": "markdown",
   "metadata": {},
   "source": [
    "파이썬은 모듈을 임포트import할 때마다 `__name__` 이라는 변수를 만들고, 모듈 이름을 저장한다. 이해를 돕기 위해 다음과 같이 먼저 `hello.py` 파일을 저장한 후, 그 위치에서 대화식 인터프리터를 실행하여 `hello`모듈을 임포트해보자."
   ]
  },
  {
   "cell_type": "code",
   "execution_count": 9,
   "metadata": {
    "ExecuteTime": {
     "end_time": "2021-09-22T05:10:10.576679Z",
     "start_time": "2021-09-22T05:10:10.562664Z"
    }
   },
   "outputs": [
    {
     "name": "stdout",
     "output_type": "stream",
     "text": [
      "Writing hello.py\n"
     ]
    }
   ],
   "source": [
    "%%writefile hello.py\n",
    "hello = 'hello~'\n",
    "\n",
    "def world():\n",
    "    return \"world\"\n",
    "\n",
    "if __name__ == \"__main__\":\n",
    "    print(\"{0} 직접 실행됨\".format(__name__))\n",
    "else:\n",
    "    print(\"{0} 임포트됨\".format(__name__))"
   ]
  },
  {
   "cell_type": "code",
   "execution_count": 10,
   "metadata": {
    "ExecuteTime": {
     "end_time": "2021-09-22T05:10:10.591693Z",
     "start_time": "2021-09-22T05:10:10.578679Z"
    }
   },
   "outputs": [
    {
     "name": "stdout",
     "output_type": "stream",
     "text": [
      "hello 임포트됨\n"
     ]
    }
   ],
   "source": [
    "import hello"
   ]
  },
  {
   "cell_type": "code",
   "execution_count": 11,
   "metadata": {
    "ExecuteTime": {
     "end_time": "2021-09-22T05:10:10.606706Z",
     "start_time": "2021-09-22T05:10:10.592693Z"
    }
   },
   "outputs": [
    {
     "data": {
      "text/plain": [
       "'hello~'"
      ]
     },
     "execution_count": 11,
     "metadata": {},
     "output_type": "execute_result"
    }
   ],
   "source": [
    "hello.hello"
   ]
  },
  {
   "cell_type": "code",
   "execution_count": 12,
   "metadata": {
    "ExecuteTime": {
     "end_time": "2021-09-22T05:10:10.621720Z",
     "start_time": "2021-09-22T05:10:10.607707Z"
    }
   },
   "outputs": [
    {
     "data": {
      "text/plain": [
       "'world'"
      ]
     },
     "execution_count": 12,
     "metadata": {},
     "output_type": "execute_result"
    }
   ],
   "source": [
    "hello.world()"
   ]
  },
  {
   "cell_type": "code",
   "execution_count": 13,
   "metadata": {
    "ExecuteTime": {
     "end_time": "2021-09-22T05:10:10.636733Z",
     "start_time": "2021-09-22T05:10:10.622719Z"
    }
   },
   "outputs": [
    {
     "data": {
      "text/plain": [
       "'hello'"
      ]
     },
     "execution_count": 13,
     "metadata": {},
     "output_type": "execute_result"
    }
   ],
   "source": [
    "hello.__name__"
   ]
  },
  {
   "cell_type": "code",
   "execution_count": 14,
   "metadata": {
    "ExecuteTime": {
     "end_time": "2021-09-22T05:10:10.651405Z",
     "start_time": "2021-09-22T05:10:10.637734Z"
    }
   },
   "outputs": [
    {
     "data": {
      "text/plain": [
       "'__main__'"
      ]
     },
     "execution_count": 14,
     "metadata": {},
     "output_type": "execute_result"
    }
   ],
   "source": [
    "__name__"
   ]
  },
  {
   "cell_type": "markdown",
   "metadata": {},
   "source": [
    "대화식 인터프리터 또는 `.py` 파일을 직접 실행하면 파이썬은 `__name__`을 `__main__`으로 설정하므로, 위 코드 조건문에서 참에 해당하는 코드를 실행한다. 이번에는 `hello.py`를 직접 실행해보자. 차이를 알수 있을것이다. "
   ]
  },
  {
   "cell_type": "code",
   "execution_count": 15,
   "metadata": {
    "ExecuteTime": {
     "end_time": "2021-09-22T05:10:10.771515Z",
     "start_time": "2021-09-22T05:10:10.652405Z"
    }
   },
   "outputs": [
    {
     "name": "stdout",
     "output_type": "stream",
     "text": [
      "__main__ 직접 실행됨\n"
     ]
    }
   ],
   "source": [
    "!python hello.py"
   ]
  },
  {
   "cell_type": "markdown",
   "metadata": {},
   "source": [
    "## 4.1.5 컴파일된 바이트코드 모듈"
   ]
  },
  {
   "cell_type": "markdown",
   "metadata": {},
   "source": [
    "컴파일러가 사용하는 **바이트 컴파일 코드**byte-compiled code는 표준 모듈을 많이 사용하는 프로그램의 시작 시간(로딩 시간)을 줄이기 위한 것이다. "
   ]
  },
  {
   "cell_type": "code",
   "execution_count": 16,
   "metadata": {
    "ExecuteTime": {
     "end_time": "2021-09-22T05:10:10.831572Z",
     "start_time": "2021-09-22T05:10:10.772516Z"
    }
   },
   "outputs": [
    {
     "name": "stdout",
     "output_type": "stream",
     "text": [
      "usage: python [option] ... [-c cmd | -m mod | file | -] [arg] ...\n",
      "Options and arguments (and corresponding environment variables):\n",
      "-b     : issue warnings about str(bytes_instance), str(bytearray_instance)\n",
      "         and comparing bytes/bytearray with str. (-bb: issue errors)\n",
      "-B     : don't write .pyc files on import; also PYTHONDONTWRITEBYTECODE=x\n",
      "-c cmd : program passed in as string (terminates option list)\n",
      "-d     : debug output from parser; also PYTHONDEBUG=x\n",
      "-E     : ignore PYTHON* environment variables (such as PYTHONPATH)\n",
      "-h     : print this help message and exit (also --help)\n",
      "-i     : inspect interactively after running script; forces a prompt even\n",
      "         if stdin does not appear to be a terminal; also PYTHONINSPECT=x\n",
      "-I     : isolate Python from the user's environment (implies -E and -s)\n",
      "-m mod : run library module as a script (terminates option list)\n",
      "-O     : remove assert and __debug__-dependent statements; add .opt-1 before\n",
      "         .pyc extension; also PYTHONOPTIMIZE=x\n",
      "-OO    : do -O changes and also discard docstrings; add .opt-2 before\n",
      "         .pyc extension\n",
      "-q     : don't print version and copyright messages on interactive startup\n",
      "-s     : don't add user site directory to sys.path; also PYTHONNOUSERSITE\n",
      "-S     : don't imply 'import site' on initialization\n",
      "-u     : force the stdout and stderr streams to be unbuffered;\n",
      "         this option has no effect on stdin; also PYTHONUNBUFFERED=x\n",
      "-v     : verbose (trace import statements); also PYTHONVERBOSE=x\n",
      "         can be supplied multiple times to increase verbosity\n",
      "-V     : print the Python version number and exit (also --version)\n",
      "         when given twice, print more information about the build\n",
      "-W arg : warning control; arg is action:message:category:module:lineno\n",
      "         also PYTHONWARNINGS=arg\n",
      "-x     : skip first line of source, allowing use of non-Unix forms of #!cmd\n",
      "-X opt : set implementation-specific option. The following options are available:\n",
      "\n",
      "         -X faulthandler: enable faulthandler\n",
      "         -X showrefcount: output the total reference count and number of used\n",
      "             memory blocks when the program finishes or after each statement in the\n",
      "             interactive interpreter. This only works on debug builds\n",
      "         -X tracemalloc: start tracing Python memory allocations using the\n",
      "             tracemalloc module. By default, only the most recent frame is stored in a\n",
      "             traceback of a trace. Use -X tracemalloc=NFRAME to start tracing with a\n",
      "             traceback limit of NFRAME frames\n",
      "         -X showalloccount: output the total count of allocated objects for each\n",
      "             type when the program finishes. This only works when Python was built with\n",
      "             COUNT_ALLOCS defined\n",
      "         -X importtime: show how long each import takes. It shows module name,\n",
      "             cumulative time (including nested imports) and self time (excluding\n",
      "             nested imports). Note that its output may be broken in multi-threaded\n",
      "             application. Typical usage is python3 -X importtime -c 'import asyncio'\n",
      "         -X dev: enable CPython's \"development mode\", introducing additional runtime\n",
      "             checks which are too expensive to be enabled by default. Effect of the\n",
      "             developer mode:\n",
      "                * Add default warning filter, as -W default\n",
      "                * Install debug hooks on memory allocators: see the PyMem_SetupDebugHooks() C function\n",
      "                * Enable the faulthandler module to dump the Python traceback on a crash\n",
      "                * Enable asyncio debug mode\n",
      "                * Set the dev_mode attribute of sys.flags to True\n",
      "                * io.IOBase destructor logs close() exceptions\n",
      "         -X utf8: enable UTF-8 mode for operating system interfaces, overriding the default\n",
      "             locale-aware mode. -X utf8=0 explicitly disables UTF-8 mode (even when it would\n",
      "             otherwise activate automatically)\n",
      "         -X pycache_prefix=PATH: enable writing .pyc files to a parallel tree rooted at the\n",
      "             given directory instead of to the code tree\n",
      "\n",
      "--check-hash-based-pycs always|default|never:\n",
      "    control how Python invalidates hash-based .pyc files\n",
      "file   : program read from script file\n",
      "-      : program read from stdin (default; interactive mode if a tty)\n",
      "arg ...: arguments passed to program in sys.argv[1:]\n",
      "\n",
      "Other environment variables:\n",
      "PYTHONSTARTUP: file executed on interactive startup (no default)\n",
      "PYTHONPATH   : ';'-separated list of directories prefixed to the\n",
      "               default module search path.  The result is sys.path.\n",
      "PYTHONHOME   : alternate <prefix> directory (or <prefix>;<exec_prefix>).\n",
      "               The default module search path uses <prefix>\\python{major}{minor}.\n",
      "PYTHONCASEOK : ignore case in 'import' statements (Windows).\n",
      "PYTHONUTF8: if set to 1, enable the UTF-8 mode.\n",
      "PYTHONIOENCODING: Encoding[:errors] used for stdin/stdout/stderr.\n",
      "PYTHONFAULTHANDLER: dump the Python traceback on fatal errors.\n",
      "PYTHONHASHSEED: if this variable is set to 'random', a random value is used\n",
      "   to seed the hashes of str and bytes objects.  It can also be set to an\n",
      "   integer in the range [0,4294967295] to get hash values with a\n",
      "   predictable seed.\n",
      "PYTHONMALLOC: set the Python memory allocators and/or install debug hooks\n",
      "   on Python memory allocators. Use PYTHONMALLOC=debug to install debug\n",
      "   hooks.\n",
      "PYTHONCOERCECLOCALE: if this variable is set to 0, it disables the locale\n",
      "   coercion behavior. Use PYTHONCOERCECLOCALE=warn to request display of\n",
      "   locale coercion and locale compatibility warnings on stderr.\n",
      "PYTHONBREAKPOINT: if this variable is set to 0, it disables the default\n",
      "   debugger. It can be set to the callable of your debugger of choice.\n",
      "PYTHONDEVMODE: enable the development mode.\n",
      "PYTHONPYCACHEPREFIX: root directory for bytecode cache (pyc) files.\n"
     ]
    }
   ],
   "source": [
    "!python --help"
   ]
  },
  {
   "cell_type": "markdown",
   "metadata": {},
   "source": [
    "## 4.1.6 sys 모듈"
   ]
  },
  {
   "cell_type": "markdown",
   "metadata": {},
   "source": [
    "`sys.path`는 인터프리터가 모듈을 검색할 경로를 담은 문자열 리스트다. `sys.path`변수는 `PYTHONPATH` 환경변수 또는 내장된 기본값 경로로 초기화된다. 환경변수를 수정하면 모듈 경로를 추가하거나 임시로 모듈 경로를 추가할 수 있다. "
   ]
  },
  {
   "cell_type": "code",
   "execution_count": 17,
   "metadata": {
    "ExecuteTime": {
     "end_time": "2021-09-22T05:10:10.846585Z",
     "start_time": "2021-09-22T05:10:10.832574Z"
    }
   },
   "outputs": [
    {
     "data": {
      "text/plain": [
       "['C:\\\\Users\\\\bigne\\\\OneDrive\\\\WorkJ\\\\Python_from_scratch\\\\Python_Algorithm',\n",
       " 'C:\\\\Users\\\\bigne\\\\anaconda3\\\\python38.zip',\n",
       " 'C:\\\\Users\\\\bigne\\\\anaconda3\\\\DLLs',\n",
       " 'C:\\\\Users\\\\bigne\\\\anaconda3\\\\lib',\n",
       " 'C:\\\\Users\\\\bigne\\\\anaconda3',\n",
       " '',\n",
       " 'C:\\\\Users\\\\bigne\\\\AppData\\\\Roaming\\\\Python\\\\Python38\\\\site-packages',\n",
       " 'C:\\\\Users\\\\bigne\\\\anaconda3\\\\lib\\\\site-packages',\n",
       " 'C:\\\\Users\\\\bigne\\\\anaconda3\\\\lib\\\\site-packages\\\\locket-0.2.1-py3.8.egg',\n",
       " 'C:\\\\Users\\\\bigne\\\\anaconda3\\\\lib\\\\site-packages\\\\win32',\n",
       " 'C:\\\\Users\\\\bigne\\\\anaconda3\\\\lib\\\\site-packages\\\\win32\\\\lib',\n",
       " 'C:\\\\Users\\\\bigne\\\\anaconda3\\\\lib\\\\site-packages\\\\Pythonwin',\n",
       " 'C:\\\\Users\\\\bigne\\\\anaconda3\\\\lib\\\\site-packages\\\\IPython\\\\extensions',\n",
       " 'C:\\\\Users\\\\bigne\\\\.ipython']"
      ]
     },
     "execution_count": 17,
     "metadata": {},
     "output_type": "execute_result"
    }
   ],
   "source": [
    "import sys\n",
    "\n",
    "sys.path"
   ]
  },
  {
   "cell_type": "code",
   "execution_count": 18,
   "metadata": {
    "ExecuteTime": {
     "end_time": "2021-09-22T05:10:10.861581Z",
     "start_time": "2021-09-22T05:10:10.847589Z"
    }
   },
   "outputs": [],
   "source": [
    "# sys.path.append('모듈_디렉토리_경로')"
   ]
  },
  {
   "cell_type": "markdown",
   "metadata": {},
   "source": [
    "`sys.ps1`과 `sys.ps2` 변수는 파이썬 대화식 인터프리터의 기본 및 보조 프롬프트prompt 문자열을 정의한다.(기본값은 각 `>>>` 및 `...`이다)."
   ]
  },
  {
   "cell_type": "markdown",
   "metadata": {},
   "source": [
    "이미 앞에서도 사용했지만, `sys.argv` 변수를 사용하면 명령 줄에 전달된 인수를 프로그램 내에서 사용할 수 있다. "
   ]
  },
  {
   "cell_type": "code",
   "execution_count": 19,
   "metadata": {
    "ExecuteTime": {
     "end_time": "2021-09-22T05:10:10.876594Z",
     "start_time": "2021-09-22T05:10:10.862581Z"
    }
   },
   "outputs": [
    {
     "name": "stdout",
     "output_type": "stream",
     "text": [
      "Writing sys_example.py\n"
     ]
    }
   ],
   "source": [
    "%%writefile sys_example.py\n",
    "import sys\n",
    "\n",
    "def main():\n",
    "    for arg in sys.argv[1:]:\n",
    "        print(arg)\n",
    "        \n",
    "if __name__ == \"__main__\":\n",
    "    main()"
   ]
  },
  {
   "cell_type": "code",
   "execution_count": 20,
   "metadata": {
    "ExecuteTime": {
     "end_time": "2021-09-22T05:10:10.981688Z",
     "start_time": "2021-09-22T05:10:10.877595Z"
    }
   },
   "outputs": [
    {
     "name": "stdout",
     "output_type": "stream",
     "text": [
      "우리\n",
      "그리고\n",
      "너\n"
     ]
    }
   ],
   "source": [
    "!python sys_example.py 우리 그리고 너"
   ]
  },
  {
   "cell_type": "markdown",
   "metadata": {},
   "source": [
    "`dir()` 내장 함수는 모듈이 정의하는 모든 유형의 이름(모듈, 변수, 함수)을 찾는데 사용된다. 이름 기준으로 정렬된 문자열 리스트를 반환한다."
   ]
  },
  {
   "cell_type": "code",
   "execution_count": 21,
   "metadata": {
    "ExecuteTime": {
     "end_time": "2021-09-22T05:10:10.996704Z",
     "start_time": "2021-09-22T05:10:10.982689Z"
    }
   },
   "outputs": [
    {
     "name": "stdout",
     "output_type": "stream",
     "text": [
      "__breakpointhook__ ,__displayhook__ ,__doc__ ,__excepthook__ ,__interactivehook__ ,__loader__ ,__name__ ,__package__ ,__spec__ ,__stderr__ ,__stdin__ ,__stdout__ ,__unraisablehook__ ,_base_executable ,_clear_type_cache ,_current_frames ,_debugmallocstats ,_enablelegacywindowsfsencoding ,_framework ,_getframe ,_git ,_home ,_xoptions ,addaudithook ,api_version ,argv ,audit ,base_exec_prefix ,base_prefix ,breakpointhook ,builtin_module_names ,byteorder ,call_tracing ,callstats ,copyright ,displayhook ,dllhandle ,dont_write_bytecode ,exc_info ,excepthook ,exec_prefix ,executable ,exit ,flags ,float_info ,float_repr_style ,get_asyncgen_hooks ,get_coroutine_origin_tracking_depth ,getallocatedblocks ,getcheckinterval ,getdefaultencoding ,getfilesystemencodeerrors ,getfilesystemencoding ,getprofile ,getrecursionlimit ,getrefcount ,getsizeof ,getswitchinterval ,gettrace ,getwindowsversion ,hash_info ,hexversion ,implementation ,int_info ,intern ,is_finalizing ,maxsize ,maxunicode ,meta_path ,modules ,path ,path_hooks ,path_importer_cache ,platform ,prefix ,ps1 ,ps2 ,ps3 ,pycache_prefix ,set_asyncgen_hooks ,set_coroutine_origin_tracking_depth ,setcheckinterval ,setprofile ,setrecursionlimit ,setswitchinterval ,settrace ,stderr ,stdin ,stdout ,thread_info ,unraisablehook ,version ,version_info ,warnoptions ,winver ,"
     ]
    }
   ],
   "source": [
    "import sys\n",
    "for i in dir(sys):\n",
    "    print(i, end=' ,')"
   ]
  },
  {
   "cell_type": "markdown",
   "metadata": {},
   "source": [
    "# 4.2 제어문"
   ]
  },
  {
   "cell_type": "markdown",
   "metadata": {},
   "source": [
    "## 4.2.1 if문"
   ]
  },
  {
   "cell_type": "markdown",
   "metadata": {},
   "source": [
    "파이썬 if문은 다른 언어의 switch문 또는 case문을 대체한다. "
   ]
  },
  {
   "cell_type": "code",
   "execution_count": 22,
   "metadata": {
    "ExecuteTime": {
     "end_time": "2021-09-22T05:14:41.329544Z",
     "start_time": "2021-09-22T05:14:41.319530Z"
    }
   },
   "outputs": [
    {
     "name": "stdout",
     "output_type": "stream",
     "text": [
      "0이 입력되었습니다.\n"
     ]
    }
   ],
   "source": [
    "# x = int(input('숫자를 입력해주세요.'))\n",
    "x = int(0)\n",
    "if x < 0:\n",
    "    x = 0\n",
    "    print('음수를 입력하여 x를 0으로 변경했습니다.')\n",
    "elif x == 0:\n",
    "    print('0이 입력되었습니다.')\n",
    "elif x ==1:\n",
    "    print('1이 입력되었습니다.')\n",
    "else:\n",
    "    print('2 이상의 숫자가 입력되었습니다.')"
   ]
  },
  {
   "cell_type": "markdown",
   "metadata": {},
   "source": [
    "## 4.2.2 for문"
   ]
  },
  {
   "cell_type": "markdown",
   "metadata": {},
   "source": [
    "파이썬 foransdms C나 파스칼 언어와 다르다. 파스칼처럼 숫자의 산술 진행을 반복하거나, C처럼 사용자가 반복 단계와 조건을 모두 정의할 수 있도록 하는 대신, 파이썬의 for문은 모든 시퀀스 항목(리스트, 문자열 등)을 순서대로 순회한다."
   ]
  },
  {
   "cell_type": "code",
   "execution_count": 23,
   "metadata": {
    "ExecuteTime": {
     "end_time": "2021-09-22T05:16:08.171546Z",
     "start_time": "2021-09-22T05:16:08.166048Z"
    }
   },
   "outputs": [
    {
     "name": "stdout",
     "output_type": "stream",
     "text": [
      "a\n",
      "b\n",
      "ccc\n",
      "dddd\n"
     ]
    }
   ],
   "source": [
    "names = ['a','b','ccc','dddd']\n",
    "for name in names:\n",
    "    print(name)"
   ]
  },
  {
   "cell_type": "markdown",
   "metadata": {},
   "source": [
    "## 4.2.3 참과 거짓"
   ]
  },
  {
   "cell_type": "markdown",
   "metadata": {},
   "source": [
    "**거짓**`False`은 사전 정의된 상수 `False` 또는 숫자 `0`, 특수 객체 `None`, 빈 컬렉션 시퀀스(빈 문자열 '', 빈 리스트 `[]`, 빈 튜플 `()`,  빈 딕셔너리 `{}`)에 의해 정의된다.\n",
    "\n",
    "여기에 속하지 않은 값은 모두 **참**`True`이다. "
   ]
  },
  {
   "cell_type": "code",
   "execution_count": 24,
   "metadata": {
    "ExecuteTime": {
     "end_time": "2021-09-22T05:19:14.077891Z",
     "start_time": "2021-09-22T05:19:14.061877Z"
    }
   },
   "outputs": [
    {
     "data": {
      "text/plain": [
       "'사람'"
      ]
     },
     "execution_count": 24,
     "metadata": {},
     "output_type": "execute_result"
    }
   ],
   "source": [
    "str1, str2, str3 = '', '사람', '닝겐'\n",
    "non_null = str1 or str2 or str3\n",
    "non_null"
   ]
  },
  {
   "cell_type": "markdown",
   "metadata": {},
   "source": [
    "암묵적인implicit `False` 사용에 대한 기준(구글 파이썬 스타일 가이드)"
   ]
  },
  {
   "cell_type": "markdown",
   "metadata": {},
   "source": [
    "* `==` 또느`!=` 연산자를 사용하여 내장 변수 `None` 같은 싱글턴singleton을 비교하지 않는다. 대신 is 또는 is not을 사용한다.     \n",
    "  \n",
    "  \n",
    "* `if x is not None`과 `if x`를 잘 구분해서 사용한다.\n",
    "\n",
    "\n",
    "* `==`를 사용하여 불리언 변수를 `False`와 비교하지 않는다. 대신 `if not x`를 사용한다. `None`과 `False`를 구별할 필요가 있는 경우, `if not x and x is not None`과 같은 연결 표현식을 사용한다. \n",
    "\n",
    "\n",
    "\n",
    "* 시퀀스(문자열, 리스트, 튜플)의 경우, 빈 시퀀스는 `False`다. `if len(시퀀스)` 또는 `if not len(시퀀스)`보다는 `if not 시퀀스` 또는 `if 시퀀스`를 사용하는 것이 좋다. \n",
    "\n",
    "\n",
    "\n",
    "* 정수를 처리할 때 뜻하지 않게 `None`을 `0`으로 잘못 처리하는 것처럼, 암묵적 `False`를 사용하는 것은 위험하다. "
   ]
  },
  {
   "cell_type": "markdown",
   "metadata": {},
   "source": [
    "좋은 예\n",
    "\n",
    "```{python}\n",
    "\n",
    "if not users:\n",
    "    print('사용자가 없습니다.')\n",
    "    \n",
    "if foo == 0:\n",
    "    handle_zero()\n",
    "    \n",
    "if i % 10 == 0:\n",
    "    handle_multiple_of_ten()\n",
    "    \n",
    "```"
   ]
  },
  {
   "cell_type": "markdown",
   "metadata": {},
   "source": [
    "나쁜 예\n",
    "\n",
    "```{python}\n",
    "\n",
    "if len(users) == 0:\n",
    "    print('사용자가 없습니다.')\n",
    "   \n",
    "if foo is not None and not foo:\n",
    "    handel_zero()\n",
    "    \n",
    "if not i % 10:\n",
    "    handle_multiple_of_ten()\n",
    "```"
   ]
  },
  {
   "cell_type": "markdown",
   "metadata": {},
   "source": [
    "## 4.2.4 return 대 yield"
   ]
  },
  {
   "cell_type": "markdown",
   "metadata": {},
   "source": [
    "파이썬에서 **제너레이터**generator는 **이터레이터**iterator를 작성하는 편리한 방법이다. 객체에 `__iter__()`와 `__next__()` 메서드를 둘 다 정의하면 이터레이터 프로토콜을 구현한 셈이다. 이때 `yield` 키워드를 사용하면 편리하다. \n",
    "\n",
    "\n",
    "호출자가 메서드를 호출할 때, `return` 키워드는 반환값을 반환하고 메서드를 종료한 후, 호출자에게 제어를 반환한다.  반면 `yield` 키워드는 각 반환값을 호출자에게 반환하고, 반환값이 모두 소진되었을 때에만 메서드가 종료된다. \n",
    "\n",
    "이터레이터는 파이썬의 강력한 기능이다. 이터레이터는 이터레이터 프로토콜을 구현하는 컨테이너 객체라고 할수 있는데, 컨테이너의 다음 값을 반환하는 `__next__()` 메서드와 이터레이터 자신을 반환하는 `__iter__()`메서드를 기반으로 한다. \n",
    "\n",
    "`yield` 키워드는 제너레이터 맥락에서 이터레이터를 만드는 아주 강력한 도구다. 제너레티어는 최종값을 반환하지만, 이터레이터는 `yield` 키워드를 사용하여 코드 실행 중에 값을 반환한다. 즉, `__next__()` 메서드를 호출할 때마다 어떤 값을 하나를 추출한 후 해당 `yield` 표현식의 값을 반환한다. 이렇게 이터레이터는 `StopIteration` 예외가 발생할 때까지 값을 반환한다."
   ]
  },
  {
   "cell_type": "markdown",
   "metadata": {},
   "source": [
    "`__next__`"
   ]
  },
  {
   "cell_type": "code",
   "execution_count": 31,
   "metadata": {
    "ExecuteTime": {
     "end_time": "2021-09-22T05:39:20.026854Z",
     "start_time": "2021-09-22T05:39:20.018343Z"
    }
   },
   "outputs": [],
   "source": [
    "a = [1, 2, 3]\n",
    "def f(a):\n",
    "    while a:\n",
    "        yield a.pop()"
   ]
  },
  {
   "cell_type": "code",
   "execution_count": 32,
   "metadata": {
    "ExecuteTime": {
     "end_time": "2021-09-22T05:39:22.310706Z",
     "start_time": "2021-09-22T05:39:22.305314Z"
    }
   },
   "outputs": [
    {
     "data": {
      "text/plain": [
       "3"
      ]
     },
     "execution_count": 32,
     "metadata": {},
     "output_type": "execute_result"
    }
   ],
   "source": [
    "next(f(a))"
   ]
  },
  {
   "cell_type": "code",
   "execution_count": 33,
   "metadata": {
    "ExecuteTime": {
     "end_time": "2021-09-22T05:39:39.834103Z",
     "start_time": "2021-09-22T05:39:39.818088Z"
    }
   },
   "outputs": [
    {
     "data": {
      "text/plain": [
       "2"
      ]
     },
     "execution_count": 33,
     "metadata": {},
     "output_type": "execute_result"
    }
   ],
   "source": [
    "next(f(a))"
   ]
  },
  {
   "cell_type": "markdown",
   "metadata": {},
   "source": [
    "`__iter__`"
   ]
  },
  {
   "cell_type": "code",
   "execution_count": 36,
   "metadata": {
    "ExecuteTime": {
     "end_time": "2021-09-22T05:40:51.816122Z",
     "start_time": "2021-09-22T05:40:51.813118Z"
    }
   },
   "outputs": [],
   "source": [
    "a = 0\n",
    "def g(a):\n",
    "    while a < 10:\n",
    "        a += 1\n",
    "        yield a"
   ]
  },
  {
   "cell_type": "code",
   "execution_count": 37,
   "metadata": {
    "ExecuteTime": {
     "end_time": "2021-09-22T05:40:59.299120Z",
     "start_time": "2021-09-22T05:40:59.292045Z"
    }
   },
   "outputs": [
    {
     "data": {
      "text/plain": [
       "<generator object g at 0x000001836FEFF6D0>"
      ]
     },
     "execution_count": 37,
     "metadata": {},
     "output_type": "execute_result"
    }
   ],
   "source": [
    "iter(g(a))"
   ]
  },
  {
   "cell_type": "code",
   "execution_count": 38,
   "metadata": {
    "ExecuteTime": {
     "end_time": "2021-09-22T05:41:16.403096Z",
     "start_time": "2021-09-22T05:41:16.391085Z"
    }
   },
   "outputs": [
    {
     "name": "stdout",
     "output_type": "stream",
     "text": [
      "1\n",
      "2\n",
      "3\n",
      "4\n",
      "5\n",
      "6\n",
      "7\n",
      "8\n",
      "9\n",
      "10\n"
     ]
    }
   ],
   "source": [
    "for i in iter(g(a)):\n",
    "    print(i)"
   ]
  },
  {
   "cell_type": "markdown",
   "metadata": {},
   "source": [
    "피보나치 수열 제너레이터"
   ]
  },
  {
   "cell_type": "code",
   "execution_count": 39,
   "metadata": {
    "ExecuteTime": {
     "end_time": "2021-09-22T05:42:07.470948Z",
     "start_time": "2021-09-22T05:42:07.461939Z"
    }
   },
   "outputs": [],
   "source": [
    "def fib_generator():\n",
    "    a, b = 0, 1\n",
    "    while True:\n",
    "        yield b\n",
    "        a, b = b, a + b"
   ]
  },
  {
   "cell_type": "code",
   "execution_count": 42,
   "metadata": {
    "ExecuteTime": {
     "end_time": "2021-09-22T05:42:55.850258Z",
     "start_time": "2021-09-22T05:42:55.847256Z"
    }
   },
   "outputs": [
    {
     "name": "stdout",
     "output_type": "stream",
     "text": [
      "1\n",
      "1\n",
      "2\n",
      "3\n",
      "5\n",
      "8\n"
     ]
    }
   ],
   "source": [
    "fib = fib_generator()\n",
    "print(next(fib))\n",
    "print(next(fib))\n",
    "print(next(fib))\n",
    "print(next(fib))\n",
    "print(next(fib))\n",
    "print(next(fib))"
   ]
  },
  {
   "cell_type": "markdown",
   "metadata": {},
   "source": [
    "## 4.2.5 break 대 continue"
   ]
  },
  {
   "cell_type": "code",
   "execution_count": null,
   "metadata": {},
   "outputs": [],
   "source": [
    "114"
   ]
  },
  {
   "cell_type": "markdown",
   "metadata": {},
   "source": [
    "## 4.2.6 range()"
   ]
  },
  {
   "cell_type": "code",
   "execution_count": null,
   "metadata": {},
   "outputs": [],
   "source": []
  },
  {
   "cell_type": "markdown",
   "metadata": {},
   "source": [
    "## 4.2.7 enumerate()"
   ]
  },
  {
   "cell_type": "code",
   "execution_count": null,
   "metadata": {},
   "outputs": [],
   "source": []
  },
  {
   "cell_type": "markdown",
   "metadata": {},
   "source": [
    "## 4.2.8 zip()"
   ]
  },
  {
   "cell_type": "code",
   "execution_count": null,
   "metadata": {},
   "outputs": [],
   "source": []
  },
  {
   "cell_type": "markdown",
   "metadata": {},
   "source": [
    "## 4.2.10 map()"
   ]
  },
  {
   "cell_type": "code",
   "execution_count": null,
   "metadata": {},
   "outputs": [],
   "source": []
  },
  {
   "cell_type": "markdown",
   "metadata": {},
   "source": [
    "## 4.2.9 filter()"
   ]
  },
  {
   "cell_type": "code",
   "execution_count": null,
   "metadata": {},
   "outputs": [],
   "source": []
  },
  {
   "cell_type": "markdown",
   "metadata": {},
   "source": [
    "## 4.2.11 lambda 함수"
   ]
  },
  {
   "cell_type": "code",
   "execution_count": null,
   "metadata": {},
   "outputs": [],
   "source": []
  },
  {
   "cell_type": "markdown",
   "metadata": {},
   "source": [
    "# 4.3 파일 처리"
   ]
  },
  {
   "cell_type": "code",
   "execution_count": null,
   "metadata": {},
   "outputs": [],
   "source": []
  },
  {
   "cell_type": "markdown",
   "metadata": {},
   "source": [
    "## 4.3.1 파일 처리 메서드"
   ]
  },
  {
   "cell_type": "code",
   "execution_count": null,
   "metadata": {},
   "outputs": [],
   "source": []
  },
  {
   "cell_type": "markdown",
   "metadata": {},
   "source": [
    "## 4.3.2 shutil 모듈"
   ]
  },
  {
   "cell_type": "code",
   "execution_count": null,
   "metadata": {},
   "outputs": [],
   "source": []
  },
  {
   "cell_type": "markdown",
   "metadata": {
    "ExecuteTime": {
     "end_time": "2021-09-21T06:23:33.451419Z",
     "start_time": "2021-09-21T06:23:33.436407Z"
    }
   },
   "source": [
    "## 4.3.3 pickle 모듈"
   ]
  },
  {
   "cell_type": "code",
   "execution_count": null,
   "metadata": {},
   "outputs": [],
   "source": []
  },
  {
   "cell_type": "markdown",
   "metadata": {
    "ExecuteTime": {
     "end_time": "2021-09-21T06:23:44.290195Z",
     "start_time": "2021-09-21T06:23:44.274181Z"
    }
   },
   "source": [
    "## 4.3.4 struct 모듈"
   ]
  },
  {
   "cell_type": "code",
   "execution_count": null,
   "metadata": {},
   "outputs": [],
   "source": []
  },
  {
   "cell_type": "markdown",
   "metadata": {},
   "source": [
    "# 4.4 오류처리"
   ]
  },
  {
   "cell_type": "code",
   "execution_count": null,
   "metadata": {},
   "outputs": [],
   "source": []
  },
  {
   "cell_type": "markdown",
   "metadata": {
    "ExecuteTime": {
     "end_time": "2021-09-21T06:23:55.051228Z",
     "start_time": "2021-09-21T06:23:55.040218Z"
    }
   },
   "source": [
    "## 4.4.1 예외 처리"
   ]
  },
  {
   "cell_type": "code",
   "execution_count": null,
   "metadata": {},
   "outputs": [],
   "source": []
  },
  {
   "cell_type": "markdown",
   "metadata": {
    "ExecuteTime": {
     "end_time": "2021-09-21T06:24:01.750465Z",
     "start_time": "2021-09-21T06:24:01.747461Z"
    }
   },
   "source": [
    "## 4.4.2 예외 처리에 .."
   ]
  },
  {
   "cell_type": "code",
   "execution_count": null,
   "metadata": {},
   "outputs": [],
   "source": []
  },
  {
   "cell_type": "code",
   "execution_count": null,
   "metadata": {},
   "outputs": [],
   "source": []
  },
  {
   "cell_type": "code",
   "execution_count": null,
   "metadata": {},
   "outputs": [],
   "source": []
  },
  {
   "cell_type": "code",
   "execution_count": null,
   "metadata": {},
   "outputs": [],
   "source": []
  },
  {
   "cell_type": "code",
   "execution_count": null,
   "metadata": {},
   "outputs": [],
   "source": []
  },
  {
   "cell_type": "markdown",
   "metadata": {},
   "source": [
    "**Reference**\n",
    "\n",
    "* <a href='https://github.com/SeWonKwon' ><div> <img src ='https://slid-capture.s3.ap-northeast-2.amazonaws.com/public/image_upload/6556674324ed41a289a354258718280d/964e5a8b-75ad-41fc-ae75-0ca66d06fbc7.png' align='left' /> </div></a>\n",
    "\n",
    "<br>\n",
    "\n",
    "* [파이썬 자료구조와 알고리즘, 미아 스타인](https://github.com/AstinCHOI/Python-and-Algorithms-and-Data-Structures)"
   ]
  }
 ],
 "metadata": {
  "kernelspec": {
   "display_name": "Python 3 (ipykernel)",
   "language": "python",
   "name": "python3"
  },
  "language_info": {
   "codemirror_mode": {
    "name": "ipython",
    "version": 3
   },
   "file_extension": ".py",
   "mimetype": "text/x-python",
   "name": "python",
   "nbconvert_exporter": "python",
   "pygments_lexer": "ipython3",
   "version": "3.8.11"
  },
  "toc": {
   "base_numbering": 1,
   "nav_menu": {},
   "number_sections": true,
   "sideBar": true,
   "skip_h1_title": false,
   "title_cell": "Table of Contents",
   "title_sidebar": "Contents",
   "toc_cell": false,
   "toc_position": {},
   "toc_section_display": true,
   "toc_window_display": false
  }
 },
 "nbformat": 4,
 "nbformat_minor": 4
}
