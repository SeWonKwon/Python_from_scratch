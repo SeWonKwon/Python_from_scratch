{
 "cells": [
  {
   "cell_type": "markdown",
   "metadata": {},
   "source": [
    "<a href='https://github.com/SeWonKwon' ><div> <img src ='https://slid-capture.s3.ap-northeast-2.amazonaws.com/public/image_upload/6556674324ed41a289a354258718280d/964e5a8b-75ad-41fc-ae75-0ca66d06fbc7.png' align='left' /> </div></a>\n"
   ]
  },
  {
   "cell_type": "markdown",
   "metadata": {},
   "source": [
    "###### Ch 03 컬렉션 자료구조"
   ]
  },
  {
   "cell_type": "markdown",
   "metadata": {},
   "source": [
    "**컬렉션**collection자료구조는 시퀀스 자료구조와 달리, 데이터를 서로 연관시키지<sub>relating</sub> 않고 모아 두는 컨테이너container다."
   ]
  },
  {
   "cell_type": "markdown",
   "metadata": {},
   "source": [
    "* 멤버십 연산자 : in\n",
    "\n",
    "* 크기 함수 : len(seq)\n",
    "\n",
    "* 반복성 : 반복문의 데이터를 순회한다. "
   ]
  },
  {
   "cell_type": "markdown",
   "metadata": {},
   "source": [
    "# 3.1 셋"
   ]
  },
  {
   "cell_type": "markdown",
   "metadata": {},
   "source": [
    "* **셋**은 반복 가능하고, 가변적이며, 중복 요소가 없고, 정렬되지 않은 컬렉션 데이터 타입이다. \n",
    "\n",
    "* 인덱스 연산은 할 수 없다. \n",
    "\n",
    "* 셋은 **멤버쉽 테스트** 및 **중복 항목 제거**에 사용된다.\n",
    "\n",
    "* 셋의 삽입 시간복잡도는 $O(1)$이고, 합집합union의 시간 복잡도는 $O(m + n)$이다. \n",
    "\n",
    "* 교집합intersection의 경우, 두 셋 중에서 더 작은 셋에 대해서만, 계산하면 되므로, 시간복잡도는 $O(n)$이다."
   ]
  },
  {
   "cell_type": "code",
   "execution_count": 1,
   "metadata": {
    "ExecuteTime": {
     "end_time": "2021-09-16T05:28:38.363552Z",
     "start_time": "2021-09-16T05:28:38.346536Z"
    }
   },
   "outputs": [
    {
     "name": "stdout",
     "output_type": "stream",
     "text": [
      "['__and__', '__class__', '__contains__', '__delattr__', '__dir__', '__doc__', '__eq__', '__format__', '__ge__', '__getattribute__', '__gt__', '__hash__', '__iand__', '__init__', '__init_subclass__', '__ior__', '__isub__', '__iter__', '__ixor__', '__le__', '__len__', '__lt__', '__ne__', '__new__', '__or__', '__rand__', '__reduce__', '__reduce_ex__', '__repr__', '__ror__', '__rsub__', '__rxor__', '__setattr__', '__sizeof__', '__str__', '__sub__', '__subclasshook__', '__xor__', 'add', 'clear', 'copy', 'difference', 'difference_update', 'discard', 'intersection', 'intersection_update', 'isdisjoint', 'issubset', 'issuperset', 'pop', 'remove', 'symmetric_difference', 'symmetric_difference_update', 'union', 'update']\n"
     ]
    }
   ],
   "source": [
    "print(dir(set()))"
   ]
  },
  {
   "cell_type": "markdown",
   "metadata": {},
   "source": [
    "**프로즌 셋**frozen set은 셋(set)과 달리 불변 객체이며, 셋에서 사용할 수 있는 일부 메서드를 사용할 수 없다. "
   ]
  },
  {
   "cell_type": "code",
   "execution_count": 2,
   "metadata": {
    "ExecuteTime": {
     "end_time": "2021-09-16T05:28:38.378565Z",
     "start_time": "2021-09-16T05:28:38.364553Z"
    }
   },
   "outputs": [
    {
     "name": "stdout",
     "output_type": "stream",
     "text": [
      "['__and__', '__class__', '__contains__', '__delattr__', '__dir__', '__doc__', '__eq__', '__format__', '__ge__', '__getattribute__', '__gt__', '__hash__', '__init__', '__init_subclass__', '__iter__', '__le__', '__len__', '__lt__', '__ne__', '__new__', '__or__', '__rand__', '__reduce__', '__reduce_ex__', '__repr__', '__ror__', '__rsub__', '__rxor__', '__setattr__', '__sizeof__', '__str__', '__sub__', '__subclasshook__', '__xor__', 'copy', 'difference', 'intersection', 'isdisjoint', 'issubset', 'issuperset', 'symmetric_difference', 'union']\n"
     ]
    }
   ],
   "source": [
    "print(dir(frozenset()))"
   ]
  },
  {
   "cell_type": "code",
   "execution_count": 3,
   "metadata": {
    "ExecuteTime": {
     "end_time": "2021-09-16T05:28:38.393579Z",
     "start_time": "2021-09-16T05:28:38.379567Z"
    }
   },
   "outputs": [
    {
     "data": {
      "text/plain": [
       "True"
      ]
     },
     "execution_count": 3,
     "metadata": {},
     "output_type": "execute_result"
    }
   ],
   "source": [
    "fs = frozenset((0, 1, 2, 3, 4))\n",
    "2 in fs"
   ]
  },
  {
   "cell_type": "code",
   "execution_count": 4,
   "metadata": {
    "ExecuteTime": {
     "end_time": "2021-09-16T05:28:38.408592Z",
     "start_time": "2021-09-16T05:28:38.394580Z"
    }
   },
   "outputs": [
    {
     "data": {
      "text/plain": [
       "5"
      ]
     },
     "execution_count": 4,
     "metadata": {},
     "output_type": "execute_result"
    }
   ],
   "source": [
    "len(fs)"
   ]
  },
  {
   "cell_type": "markdown",
   "metadata": {},
   "source": [
    "## 3.1.1 셋 메서드"
   ]
  },
  {
   "cell_type": "markdown",
   "metadata": {},
   "source": [
    "`add()` : 추가"
   ]
  },
  {
   "cell_type": "code",
   "execution_count": 5,
   "metadata": {
    "ExecuteTime": {
     "end_time": "2021-09-16T05:28:38.423606Z",
     "start_time": "2021-09-16T05:28:38.409594Z"
    }
   },
   "outputs": [
    {
     "data": {
      "text/plain": [
       "{'버피', '에인젤', '윌로', '자일스'}"
      ]
     },
     "execution_count": 5,
     "metadata": {},
     "output_type": "execute_result"
    }
   ],
   "source": [
    "people = {'버피', '에인젤', '자일스'}\n",
    "people.add('윌로')\n",
    "people"
   ]
  },
  {
   "cell_type": "markdown",
   "metadata": {},
   "source": [
    "`update()`와 `|=` 연산자"
   ]
  },
  {
   "cell_type": "code",
   "execution_count": 6,
   "metadata": {
    "ExecuteTime": {
     "end_time": "2021-09-16T05:28:38.438620Z",
     "start_time": "2021-09-16T05:28:38.424607Z"
    }
   },
   "outputs": [
    {
     "data": {
      "text/plain": [
       "{'로미오', '버피', '에인젤', '자일스', '줄리엣'}"
      ]
     },
     "execution_count": 6,
     "metadata": {},
     "output_type": "execute_result"
    }
   ],
   "source": [
    "people = {'버피', '에인젤', '자일스'}\n",
    "people.update({'로미오', '줄리엣', '에인젤'})\n",
    "people"
   ]
  },
  {
   "cell_type": "code",
   "execution_count": 7,
   "metadata": {
    "ExecuteTime": {
     "end_time": "2021-09-16T05:28:38.453634Z",
     "start_time": "2021-09-16T05:28:38.439621Z"
    }
   },
   "outputs": [
    {
     "data": {
      "text/plain": [
       "{'로미오', '리키', '버피', '에인젤', '유진', '자일스', '줄리엣'}"
      ]
     },
     "execution_count": 7,
     "metadata": {},
     "output_type": "execute_result"
    }
   ],
   "source": [
    "people |= {'리키', '유진'}\n",
    "people"
   ]
  },
  {
   "cell_type": "markdown",
   "metadata": {},
   "source": [
    "`add()` vs `update()` 추가하는 객체가 서로 다르다. "
   ]
  },
  {
   "cell_type": "code",
   "execution_count": 8,
   "metadata": {
    "ExecuteTime": {
     "end_time": "2021-09-16T05:28:38.468647Z",
     "start_time": "2021-09-16T05:28:38.454635Z"
    }
   },
   "outputs": [
    {
     "data": {
      "text/plain": [
       "{'로', '버피', '에인젤', '윌', '자일스'}"
      ]
     },
     "execution_count": 8,
     "metadata": {},
     "output_type": "execute_result"
    }
   ],
   "source": [
    "people = {'버피', '에인젤', '자일스'}\n",
    "people.update('윌로')\n",
    "people"
   ]
  },
  {
   "cell_type": "code",
   "execution_count": 9,
   "metadata": {
    "ExecuteTime": {
     "end_time": "2021-09-16T05:28:38.483661Z",
     "start_time": "2021-09-16T05:28:38.469648Z"
    }
   },
   "outputs": [
    {
     "name": "stdout",
     "output_type": "stream",
     "text": [
      "unhashable type: 'set'\n"
     ]
    }
   ],
   "source": [
    "people = {'버피', '에인젤', '자일스'}\n",
    "try:\n",
    "    people.add({'로미오', '줄리엣', '에인젤'})\n",
    "    people\n",
    "except TypeError as e:\n",
    "    print(e)"
   ]
  },
  {
   "cell_type": "markdown",
   "metadata": {},
   "source": [
    "`union()`과 `|`연산자"
   ]
  },
  {
   "cell_type": "markdown",
   "metadata": {},
   "source": [
    "`A.union(B)`와 `A | B`는 앞에서 본 `update()` 메서드와 같지만, 연산 결과를 복사본으로 반환한다. "
   ]
  },
  {
   "cell_type": "code",
   "execution_count": 10,
   "metadata": {
    "ExecuteTime": {
     "end_time": "2021-09-16T05:28:38.498675Z",
     "start_time": "2021-09-16T05:28:38.484662Z"
    }
   },
   "outputs": [
    {
     "data": {
      "text/plain": [
       "{'로미오', '버피', '에인젤', '자일스', '줄리엣'}"
      ]
     },
     "execution_count": 10,
     "metadata": {},
     "output_type": "execute_result"
    }
   ],
   "source": [
    "people = {'버피', '에인젤', '자일스'}\n",
    "people.union({'로미오', '줄리엣'})"
   ]
  },
  {
   "cell_type": "code",
   "execution_count": 11,
   "metadata": {
    "ExecuteTime": {
     "end_time": "2021-09-16T05:28:38.513689Z",
     "start_time": "2021-09-16T05:28:38.499675Z"
    }
   },
   "outputs": [
    {
     "data": {
      "text/plain": [
       "{'버피', '에인젤', '자일스'}"
      ]
     },
     "execution_count": 11,
     "metadata": {},
     "output_type": "execute_result"
    }
   ],
   "source": [
    "people"
   ]
  },
  {
   "cell_type": "code",
   "execution_count": 12,
   "metadata": {
    "ExecuteTime": {
     "end_time": "2021-09-16T05:28:38.528702Z",
     "start_time": "2021-09-16T05:28:38.514689Z"
    }
   },
   "outputs": [
    {
     "data": {
      "text/plain": [
       "{'버피', '브라이언', '에인젤', '자일스'}"
      ]
     },
     "execution_count": 12,
     "metadata": {},
     "output_type": "execute_result"
    }
   ],
   "source": [
    "people | {'브라이언'}"
   ]
  },
  {
   "cell_type": "code",
   "execution_count": 13,
   "metadata": {
    "ExecuteTime": {
     "end_time": "2021-09-16T05:28:38.543710Z",
     "start_time": "2021-09-16T05:28:38.529703Z"
    }
   },
   "outputs": [
    {
     "data": {
      "text/plain": [
       "{'버피', '에인젤', '자일스'}"
      ]
     },
     "execution_count": 13,
     "metadata": {},
     "output_type": "execute_result"
    }
   ],
   "source": [
    "people"
   ]
  },
  {
   "cell_type": "markdown",
   "metadata": {},
   "source": [
    "`intersection()`과 `&` 연산자"
   ]
  },
  {
   "cell_type": "markdown",
   "metadata": {},
   "source": [
    "교집합의 복사본"
   ]
  },
  {
   "cell_type": "code",
   "execution_count": 14,
   "metadata": {
    "ExecuteTime": {
     "end_time": "2021-09-16T05:28:38.558712Z",
     "start_time": "2021-09-16T05:28:38.544711Z"
    }
   },
   "outputs": [
    {
     "data": {
      "text/plain": [
       "{'에인젤', '자일스'}"
      ]
     },
     "execution_count": 14,
     "metadata": {},
     "output_type": "execute_result"
    }
   ],
   "source": [
    "people = {'버피', '에인젤', '자일스', '이안'}\n",
    "vampires = {'에인젤', '자일스', '윌로'}\n",
    "people.intersection(vampires)"
   ]
  },
  {
   "cell_type": "code",
   "execution_count": 15,
   "metadata": {
    "ExecuteTime": {
     "end_time": "2021-09-16T05:28:38.573721Z",
     "start_time": "2021-09-16T05:28:38.559714Z"
    }
   },
   "outputs": [
    {
     "data": {
      "text/plain": [
       "{'에인젤', '자일스'}"
      ]
     },
     "execution_count": 15,
     "metadata": {},
     "output_type": "execute_result"
    }
   ],
   "source": [
    "people & vampires"
   ]
  },
  {
   "cell_type": "markdown",
   "metadata": {},
   "source": [
    "`difference()`와 `-`연산자"
   ]
  },
  {
   "cell_type": "markdown",
   "metadata": {},
   "source": [
    "차집합의 복사본"
   ]
  },
  {
   "cell_type": "code",
   "execution_count": 16,
   "metadata": {
    "ExecuteTime": {
     "end_time": "2021-09-16T05:28:38.588739Z",
     "start_time": "2021-09-16T05:28:38.574724Z"
    }
   },
   "outputs": [
    {
     "data": {
      "text/plain": [
       "{'버피', '이안'}"
      ]
     },
     "execution_count": 16,
     "metadata": {},
     "output_type": "execute_result"
    }
   ],
   "source": [
    "people = {'버피', '에인젤', '자일스', '이안'}\n",
    "vampires = {'에인젤', '자일스', '윌로'}\n",
    "people.difference(vampires)"
   ]
  },
  {
   "cell_type": "code",
   "execution_count": 17,
   "metadata": {
    "ExecuteTime": {
     "end_time": "2021-09-16T05:28:38.603663Z",
     "start_time": "2021-09-16T05:28:38.589736Z"
    }
   },
   "outputs": [
    {
     "data": {
      "text/plain": [
       "{'버피', '이안'}"
      ]
     },
     "execution_count": 17,
     "metadata": {},
     "output_type": "execute_result"
    }
   ],
   "source": [
    "people - vampires"
   ]
  },
  {
   "cell_type": "markdown",
   "metadata": {},
   "source": [
    "`clear()`"
   ]
  },
  {
   "cell_type": "code",
   "execution_count": 18,
   "metadata": {
    "ExecuteTime": {
     "end_time": "2021-09-16T05:28:38.618663Z",
     "start_time": "2021-09-16T05:28:38.604664Z"
    }
   },
   "outputs": [
    {
     "data": {
      "text/plain": [
       "set()"
      ]
     },
     "execution_count": 18,
     "metadata": {},
     "output_type": "execute_result"
    }
   ],
   "source": [
    "people = {'버피', '에인젤', '자일스', '이안'}\n",
    "people.clear()\n",
    "people"
   ]
  },
  {
   "cell_type": "markdown",
   "metadata": {},
   "source": [
    "`discard()`,`remove()`,`pop()`"
   ]
  },
  {
   "cell_type": "markdown",
   "metadata": {},
   "source": [
    "* `A.discard(x)`는 A의 항목 x를 제거하며 반환값은 없다. \n",
    "\n",
    "* `A.remove()`는 `A.discard()`와 같지만, 항목 x가 없을 경우 KeyError 예외를 발생한다."
   ]
  },
  {
   "cell_type": "markdown",
   "metadata": {},
   "source": [
    "`A.pop()`은 A에서 한 항목을 무작위로 제거하고 그 항목을 반환한다. "
   ]
  },
  {
   "cell_type": "markdown",
   "metadata": {},
   "source": [
    "## 3.1.2 셋과 리스트"
   ]
  },
  {
   "cell_type": "markdown",
   "metadata": {},
   "source": [
    "리스트 타입과 셋 타입은 서로 변환casting 할수 있다. "
   ]
  },
  {
   "cell_type": "code",
   "execution_count": 19,
   "metadata": {
    "ExecuteTime": {
     "end_time": "2021-09-16T05:28:38.633675Z",
     "start_time": "2021-09-16T05:28:38.619661Z"
    }
   },
   "outputs": [],
   "source": [
    "def remove_dup(l1):\n",
    "    return list(set(l1))\n",
    "\n",
    "def intersection(l1, l2):\n",
    "    return list(set(l1) & set(l2))\n",
    "\n",
    "def union(l1, l2):\n",
    "    return list(set(l1) | set(l2))"
   ]
  },
  {
   "cell_type": "code",
   "execution_count": 20,
   "metadata": {
    "ExecuteTime": {
     "end_time": "2021-09-16T05:28:38.648688Z",
     "start_time": "2021-09-16T05:28:38.634675Z"
    }
   },
   "outputs": [],
   "source": [
    "l1 = [1, 2, 3, 4, 5, 6, 7, 8, 9, 11, 11, 15]\n",
    "l2 = [4, 5, 6, 7, 8]\n",
    "l3 = []"
   ]
  },
  {
   "cell_type": "code",
   "execution_count": 21,
   "metadata": {
    "ExecuteTime": {
     "end_time": "2021-09-16T05:28:38.663703Z",
     "start_time": "2021-09-16T05:28:38.649689Z"
    }
   },
   "outputs": [
    {
     "name": "stdout",
     "output_type": "stream",
     "text": [
      "[1, 2, 3, 4, 5, 6, 7, 8, 9, 11, 15]\n",
      "[4, 5, 6, 7, 8]\n",
      "[1, 2, 3, 4, 5, 6, 7, 8, 9, 11, 15]\n",
      "True\n",
      "True\n"
     ]
    }
   ],
   "source": [
    "print(remove_dup(l1))\n",
    "print(intersection(l1, l2))\n",
    "print(union(l1, l2))\n",
    "print(intersection(l3, l2) == l3)\n",
    "print(sorted(union(l3, l2)) == sorted(l2))"
   ]
  },
  {
   "cell_type": "markdown",
   "metadata": {},
   "source": [
    "## 3.1.3 셋 메서드와 딕셔너리"
   ]
  },
  {
   "cell_type": "markdown",
   "metadata": {},
   "source": [
    "딕셔너리와 셋 메서드를 활용하면 아래와 같이 딕셔너리를 활용하기 쉬워진다."
   ]
  },
  {
   "cell_type": "code",
   "execution_count": 22,
   "metadata": {
    "ExecuteTime": {
     "end_time": "2021-09-16T05:28:38.678715Z",
     "start_time": "2021-09-16T05:28:38.664703Z"
    }
   },
   "outputs": [
    {
     "name": "stdout",
     "output_type": "stream",
     "text": [
      "<class 'dict_keys'>\n"
     ]
    },
    {
     "data": {
      "text/plain": [
       "dict_items([('a', 1), ('c', 2), ('d', 3), ('e', 4)])"
      ]
     },
     "execution_count": 22,
     "metadata": {},
     "output_type": "execute_result"
    }
   ],
   "source": [
    "d2 = {'a': 1, 'c': 2, 'd': 3, 'e': 4}\n",
    "\n",
    "print(type(d2.keys()))\n",
    "d2.items()"
   ]
  },
  {
   "cell_type": "code",
   "execution_count": 23,
   "metadata": {
    "ExecuteTime": {
     "end_time": "2021-09-16T05:28:38.693728Z",
     "start_time": "2021-09-16T05:28:38.679717Z"
    }
   },
   "outputs": [
    {
     "data": {
      "text/plain": [
       "dict_values([1, 2, 3, 4])"
      ]
     },
     "execution_count": 23,
     "metadata": {},
     "output_type": "execute_result"
    }
   ],
   "source": [
    "d2.values()"
   ]
  },
  {
   "cell_type": "code",
   "execution_count": 24,
   "metadata": {
    "ExecuteTime": {
     "end_time": "2021-09-16T05:28:38.708743Z",
     "start_time": "2021-09-16T05:28:38.694730Z"
    }
   },
   "outputs": [],
   "source": [
    "def set_operations_with_dict():\n",
    "    pairs = [('a',1), ('b',2), ('c',3)]\n",
    "    d1 = dict(pairs)\n",
    "    print('딕셔너리1\\t: {}'.format(d1))\n",
    "    \n",
    "    d2 = {'a': 1, 'c': 2, 'd': 3, 'e': 4}\n",
    "    print('딕셔너리2\\t: {}'.format(d2))\n",
    "    \n",
    "    intersection = d1.keys() & d2.keys()\n",
    "    print('d1 ∩ d2 (키)\\t: {}'.format(intersection))\n",
    "    \n",
    "    intersection_values = set(d1.values()) & set(d2.values())\n",
    "    print('d1 ∩ d2 (값)\\t: {}'.format(intersection_values))\n",
    "    \n",
    "    intersection_items = d1.items() & d2.items()\n",
    "    print('d1 ∩ d2 (키 & 값)\\t: {}'.format(intersection_items))\n",
    "    \n",
    "    subtraction1 = d1.keys() - d2.keys()\n",
    "    print('d1 - d2 (키)\\t: {}'.format(subtraction1))\n",
    "    \n",
    "    subtraction2 = d2.keys() - d1.keys()\n",
    "    print('d2 - d1 (키)\\t: {}'.format(subtraction2))\n",
    "\n",
    "    subtraction1_items = d1.items() - d2.items()\n",
    "    print('d1 - d2 (키 & 값)\\t: {}'.format(subtraction1_items))\n",
    "    \n",
    "    d3 = {key: d2[key] for key in d2.keys() - {'c', 'd'}}\n",
    "    print('d2 - {{c, d}}\\t: {}'.format(d3))"
   ]
  },
  {
   "cell_type": "code",
   "execution_count": 25,
   "metadata": {
    "ExecuteTime": {
     "end_time": "2021-09-16T05:28:38.723672Z",
     "start_time": "2021-09-16T05:28:38.709745Z"
    }
   },
   "outputs": [
    {
     "name": "stdout",
     "output_type": "stream",
     "text": [
      "딕셔너리1\t: {'a': 1, 'b': 2, 'c': 3}\n",
      "딕셔너리2\t: {'a': 1, 'c': 2, 'd': 3, 'e': 4}\n",
      "d1 ∩ d2 (키)\t: {'c', 'a'}\n",
      "d1 ∩ d2 (값)\t: {1, 2, 3}\n",
      "d1 ∩ d2 (키 & 값)\t: {('a', 1)}\n",
      "d1 - d2 (키)\t: {'b'}\n",
      "d2 - d1 (키)\t: {'d', 'e'}\n",
      "d1 - d2 (키 & 값)\t: {('c', 3), ('b', 2)}\n",
      "d2 - {c, d}\t: {'a': 1, 'e': 4}\n"
     ]
    }
   ],
   "source": [
    "set_operations_with_dict()"
   ]
  },
  {
   "cell_type": "markdown",
   "metadata": {},
   "source": [
    "딕셔너리에서 items()와 keys()의 리턴 값은 set의 형태를 뛰게 되어 있기 때문에 활용 가능하다. "
   ]
  },
  {
   "cell_type": "markdown",
   "metadata": {
    "ExecuteTime": {
     "end_time": "2021-09-14T01:34:54.559781Z",
     "start_time": "2021-09-14T01:34:54.300998Z"
    }
   },
   "source": [
    "# 3.2 딕셔너리"
   ]
  },
  {
   "cell_type": "markdown",
   "metadata": {},
   "source": [
    "**딕셔너리**dictionary 는 해시 테이블<sub>hash table</sub>로 구현 되어 있다."
   ]
  },
  {
   "cell_type": "markdown",
   "metadata": {},
   "source": [
    "해시 함수는 특정 객체에 해당하는 임의의 정수 값을 상수 시간 내에 계산한다. 이 정수는 연관 배열의 인덱스로 사용된다. "
   ]
  },
  {
   "cell_type": "code",
   "execution_count": 27,
   "metadata": {
    "ExecuteTime": {
     "end_time": "2021-09-16T05:30:32.892569Z",
     "start_time": "2021-09-16T05:30:32.875552Z"
    }
   },
   "outputs": [
    {
     "data": {
      "text/plain": [
       "42"
      ]
     },
     "execution_count": 27,
     "metadata": {},
     "output_type": "execute_result"
    }
   ],
   "source": [
    "hash(42)"
   ]
  },
  {
   "cell_type": "code",
   "execution_count": 30,
   "metadata": {
    "ExecuteTime": {
     "end_time": "2021-09-16T05:30:52.612214Z",
     "start_time": "2021-09-16T05:30:52.602206Z"
    }
   },
   "outputs": [
    {
     "data": {
      "text/plain": [
       "3923048442770948670"
      ]
     },
     "execution_count": 30,
     "metadata": {},
     "output_type": "execute_result"
    }
   ],
   "source": [
    "hash(\"hello\")"
   ]
  },
  {
   "cell_type": "markdown",
   "metadata": {},
   "source": [
    "컬렉션 **매핑 타입**mapping type인 딕셔너리는 반복 가능하다. 멤버쉽 테스트 `in`과 `len()`함수도 지원한다. "
   ]
  },
  {
   "cell_type": "markdown",
   "metadata": {},
   "source": [
    "딕셔너리의 항목은 고유하므로, 항목에 접근하는 시간복잡도는 $O(1)$이다. 딕셔너리는 변경 가능하므로 항목의 추가 및 제거가 가능하다. "
   ]
  },
  {
   "cell_type": "markdown",
   "metadata": {},
   "source": [
    "딕셔너리는 항목의 삽입 순서를 기억하지 않으며, 인덱스 위치를 사용할 수 없다. (따라서 슬라이스를 사용할 수 없다.)"
   ]
  },
  {
   "cell_type": "code",
   "execution_count": 31,
   "metadata": {
    "ExecuteTime": {
     "end_time": "2021-09-16T05:33:51.964226Z",
     "start_time": "2021-09-16T05:33:51.948211Z"
    }
   },
   "outputs": [
    {
     "data": {
      "text/plain": [
       "{'name': '쿠엔틴 타란티노', 'job': '감독'}"
      ]
     },
     "execution_count": 31,
     "metadata": {},
     "output_type": "execute_result"
    }
   ],
   "source": [
    "trantino = {}\n",
    "trantino['name'] = '쿠엔틴 타란티노'\n",
    "trantino['job'] = '감독'\n",
    "\n",
    "trantino"
   ]
  },
  {
   "cell_type": "code",
   "execution_count": 32,
   "metadata": {
    "ExecuteTime": {
     "end_time": "2021-09-16T05:34:29.829941Z",
     "start_time": "2021-09-16T05:34:29.823937Z"
    }
   },
   "outputs": [
    {
     "data": {
      "text/plain": [
       "{'name': '버피', 'age': 16, 'hobby': '게임'}"
      ]
     },
     "execution_count": 32,
     "metadata": {},
     "output_type": "execute_result"
    }
   ],
   "source": [
    "sunnydale = dict({'name':'버피', 'age':16, 'hobby':\"게임\"})\n",
    "sunnydale"
   ]
  },
  {
   "cell_type": "code",
   "execution_count": 33,
   "metadata": {
    "ExecuteTime": {
     "end_time": "2021-09-16T05:35:22.327225Z",
     "start_time": "2021-09-16T05:35:22.310100Z"
    }
   },
   "outputs": [
    {
     "data": {
      "text/plain": [
       "{'name': '윌로', 'age': 15, 'hobby': '개발'}"
      ]
     },
     "execution_count": 33,
     "metadata": {},
     "output_type": "execute_result"
    }
   ],
   "source": [
    "sunnydale = dict([('name', '윌로'), ('age', 15), ('hobby', '개발')])\n",
    "sunnydale"
   ]
  },
  {
   "cell_type": "markdown",
   "metadata": {},
   "source": [
    "## 3.2.1 딕셔너리 메서드"
   ]
  },
  {
   "cell_type": "markdown",
   "metadata": {},
   "source": [
    "`setdefault()`"
   ]
  },
  {
   "cell_type": "markdown",
   "metadata": {},
   "source": [
    "`A.setdefault(key, default)`를 사용하면 딕셔너리 A에 key가 존재할 경우 키에 해당하는 값을 얻을 수 있고, key가 존재하지 않는다면, 새 키와 기본값 default가 딕셔너리에 저장된다. "
   ]
  },
  {
   "cell_type": "code",
   "execution_count": 34,
   "metadata": {
    "ExecuteTime": {
     "end_time": "2021-09-16T05:38:16.460890Z",
     "start_time": "2021-09-16T05:38:16.447354Z"
    }
   },
   "outputs": [],
   "source": [
    "def usual_dict(dict_data):\n",
    "    \"\"\" dict[key] 사용\"\"\"\n",
    "    newdata = {}\n",
    "    for k, v in dict_data:\n",
    "        if k in newdata:\n",
    "            newdata[k].append(v)\n",
    "        else:\n",
    "            newdata[k] = [v]\n",
    "    return newdata"
   ]
  },
  {
   "cell_type": "code",
   "execution_count": 35,
   "metadata": {
    "ExecuteTime": {
     "end_time": "2021-09-16T05:39:35.106224Z",
     "start_time": "2021-09-16T05:39:35.102190Z"
    }
   },
   "outputs": [],
   "source": [
    "def setdefault_dict(dict_data):\n",
    "    \"\"\"setdefault() 메서드 사용\"\"\"\n",
    "    newdata = {}\n",
    "    for k, v in dict_data:\n",
    "        newdata.setdefault(k, []).append(v)\n",
    "    return newdata"
   ]
  },
  {
   "cell_type": "code",
   "execution_count": 36,
   "metadata": {
    "ExecuteTime": {
     "end_time": "2021-09-16T05:40:50.698185Z",
     "start_time": "2021-09-16T05:40:50.694180Z"
    }
   },
   "outputs": [],
   "source": [
    "dict_data = (('key1', 'v1'),\n",
    "             ('key1', 'v2'),\n",
    "             ('key2', 'v3'),\n",
    "             ('key2', 'v4'),\n",
    "             ('key2', 'v5'))"
   ]
  },
  {
   "cell_type": "code",
   "execution_count": 37,
   "metadata": {
    "ExecuteTime": {
     "end_time": "2021-09-16T05:40:59.271194Z",
     "start_time": "2021-09-16T05:40:59.266188Z"
    }
   },
   "outputs": [
    {
     "data": {
      "text/plain": [
       "{'key1': ['v1', 'v2'], 'key2': ['v3', 'v4', 'v5']}"
      ]
     },
     "execution_count": 37,
     "metadata": {},
     "output_type": "execute_result"
    }
   ],
   "source": [
    "usual_dict(dict_data)"
   ]
  },
  {
   "cell_type": "code",
   "execution_count": 38,
   "metadata": {
    "ExecuteTime": {
     "end_time": "2021-09-16T05:41:08.286849Z",
     "start_time": "2021-09-16T05:41:08.281847Z"
    }
   },
   "outputs": [
    {
     "data": {
      "text/plain": [
       "{'key1': ['v1', 'v2'], 'key2': ['v3', 'v4', 'v5']}"
      ]
     },
     "execution_count": 38,
     "metadata": {},
     "output_type": "execute_result"
    }
   ],
   "source": [
    "setdefault_dict(dict_data)"
   ]
  },
  {
   "cell_type": "markdown",
   "metadata": {},
   "source": [
    "`get(key)`"
   ]
  },
  {
   "cell_type": "code",
   "execution_count": 39,
   "metadata": {
    "ExecuteTime": {
     "end_time": "2021-09-16T05:43:08.671206Z",
     "start_time": "2021-09-16T05:43:08.666202Z"
    }
   },
   "outputs": [
    {
     "data": {
      "text/plain": [
       "'게임'"
      ]
     },
     "execution_count": 39,
     "metadata": {},
     "output_type": "execute_result"
    }
   ],
   "source": [
    "sunnydale = dict(name='젠더', age=17, hobby='게임')\n",
    "sunnydale.get('hobby')"
   ]
  },
  {
   "cell_type": "markdown",
   "metadata": {},
   "source": [
    "`items()`,`values()`,`keys()`"
   ]
  },
  {
   "cell_type": "markdown",
   "metadata": {},
   "source": [
    "딕셔너리 뷰view이다. 딕셔너리의 항목(키 또 값)을 조회하는 읽기 전용의 반복 가능한 객체이다. "
   ]
  },
  {
   "cell_type": "code",
   "execution_count": 40,
   "metadata": {
    "ExecuteTime": {
     "end_time": "2021-09-16T05:44:39.953417Z",
     "start_time": "2021-09-16T05:44:39.941405Z"
    }
   },
   "outputs": [
    {
     "name": "stdout",
     "output_type": "stream",
     "text": [
      "<class 'dict_keys'>\n"
     ]
    },
    {
     "data": {
      "text/plain": [
       "dict_keys(['name', 'age', 'hobby'])"
      ]
     },
     "execution_count": 40,
     "metadata": {},
     "output_type": "execute_result"
    }
   ],
   "source": [
    "sunnydale = dict(name='젠더', age=17, hobby='게임')\n",
    "\n",
    "print(type(sunnydale.keys()))\n",
    "sunnydale.keys()"
   ]
  },
  {
   "cell_type": "code",
   "execution_count": 41,
   "metadata": {
    "ExecuteTime": {
     "end_time": "2021-09-16T05:44:53.809495Z",
     "start_time": "2021-09-16T05:44:53.798393Z"
    }
   },
   "outputs": [
    {
     "name": "stdout",
     "output_type": "stream",
     "text": [
      "<class 'dict_values'>\n"
     ]
    },
    {
     "data": {
      "text/plain": [
       "dict_values(['젠더', 17, '게임'])"
      ]
     },
     "execution_count": 41,
     "metadata": {},
     "output_type": "execute_result"
    }
   ],
   "source": [
    "print(type(sunnydale.values()))\n",
    "sunnydale.values()"
   ]
  },
  {
   "cell_type": "code",
   "execution_count": 42,
   "metadata": {
    "ExecuteTime": {
     "end_time": "2021-09-16T05:45:06.071788Z",
     "start_time": "2021-09-16T05:45:06.059253Z"
    }
   },
   "outputs": [
    {
     "name": "stdout",
     "output_type": "stream",
     "text": [
      "<class 'dict_items'>\n"
     ]
    },
    {
     "data": {
      "text/plain": [
       "dict_items([('name', '젠더'), ('age', 17), ('hobby', '게임')])"
      ]
     },
     "execution_count": 42,
     "metadata": {},
     "output_type": "execute_result"
    }
   ],
   "source": [
    "print(type(sunnydale.items()))\n",
    "sunnydale.items()"
   ]
  },
  {
   "cell_type": "markdown",
   "metadata": {},
   "source": [
    "`pop()`,`popitem()`"
   ]
  },
  {
   "cell_type": "markdown",
   "metadata": {},
   "source": [
    "pop(key)은 특정 키 값을 반환후 제거, popitem() 마지막 항목을 반환한다. (임의의 값을 반환했지만, 파이선3.7 이후로 딕셔너리도 항목의 입력 순서가 기억 되기 때문에 그 순서의 역으로 적용 되는거 같다.)"
   ]
  },
  {
   "cell_type": "code",
   "execution_count": 62,
   "metadata": {
    "ExecuteTime": {
     "end_time": "2021-09-16T05:50:32.191662Z",
     "start_time": "2021-09-16T05:50:32.176651Z"
    }
   },
   "outputs": [],
   "source": [
    "sunnydale = dict(name='젠더', age=17, hobby='게임', gender='남')"
   ]
  },
  {
   "cell_type": "code",
   "execution_count": 63,
   "metadata": {
    "ExecuteTime": {
     "end_time": "2021-09-16T05:50:32.462598Z",
     "start_time": "2021-09-16T05:50:32.449293Z"
    }
   },
   "outputs": [
    {
     "data": {
      "text/plain": [
       "'젠더'"
      ]
     },
     "execution_count": 63,
     "metadata": {},
     "output_type": "execute_result"
    }
   ],
   "source": [
    "sunnydale.pop('name')"
   ]
  },
  {
   "cell_type": "code",
   "execution_count": 64,
   "metadata": {
    "ExecuteTime": {
     "end_time": "2021-09-16T05:50:32.838586Z",
     "start_time": "2021-09-16T05:50:32.826575Z"
    }
   },
   "outputs": [
    {
     "data": {
      "text/plain": [
       "('a', '1')"
      ]
     },
     "execution_count": 64,
     "metadata": {},
     "output_type": "execute_result"
    }
   ],
   "source": [
    "sunnydale.popitem()"
   ]
  },
  {
   "cell_type": "markdown",
   "metadata": {},
   "source": [
    "`clear()`"
   ]
  },
  {
   "cell_type": "code",
   "execution_count": 65,
   "metadata": {
    "ExecuteTime": {
     "end_time": "2021-09-16T05:52:29.516218Z",
     "start_time": "2021-09-16T05:52:29.512214Z"
    }
   },
   "outputs": [
    {
     "data": {
      "text/plain": [
       "{}"
      ]
     },
     "execution_count": 65,
     "metadata": {},
     "output_type": "execute_result"
    }
   ],
   "source": [
    "sunnydale.clear()\n",
    "sunnydale"
   ]
  },
  {
   "cell_type": "markdown",
   "metadata": {},
   "source": [
    "## 3.2.2 딕셔너리 성능 측정"
   ]
  },
  {
   "cell_type": "markdown",
   "metadata": {},
   "source": [
    "멤버십 연선에 대한 시간 복잡도는 리스트는 $O(n)$인 반면, 딕셔너리는 $O(1)$이다."
   ]
  },
  {
   "cell_type": "code",
   "execution_count": 68,
   "metadata": {
    "ExecuteTime": {
     "end_time": "2021-09-16T05:57:56.161493Z",
     "start_time": "2021-09-16T05:55:53.577620Z"
    }
   },
   "outputs": [
    {
     "name": "stdout",
     "output_type": "stream",
     "text": [
      "10000,     0.052,     0.001\n",
      "30000,     0.143,     0.001\n",
      "50000,     0.252,     0.001\n",
      "70000,     0.334,     0.001\n",
      "90000,     0.423,     0.001\n",
      "110000,     0.543,     0.001\n",
      "130000,     0.656,     0.001\n",
      "150000,     0.722,     0.001\n",
      "170000,     0.832,     0.001\n",
      "190000,     0.936,     0.001\n",
      "210000,     1.024,     0.001\n",
      "230000,     1.100,     0.001\n",
      "250000,     1.204,     0.001\n",
      "270000,     1.318,     0.001\n",
      "290000,     1.391,     0.001\n",
      "310000,     1.506,     0.001\n",
      "330000,     1.627,     0.001\n",
      "350000,     1.684,     0.001\n",
      "370000,     1.780,     0.001\n",
      "390000,     1.847,     0.001\n",
      "410000,     1.909,     0.001\n",
      "430000,     2.061,     0.001\n",
      "450000,     2.177,     0.001\n",
      "470000,     2.265,     0.001\n",
      "490000,     2.350,     0.001\n",
      "510000,     2.533,     0.001\n",
      "530000,     2.579,     0.001\n",
      "550000,     2.670,     0.001\n",
      "570000,     2.742,     0.001\n",
      "590000,     2.768,     0.001\n",
      "610000,     2.938,     0.001\n",
      "630000,     3.014,     0.001\n",
      "650000,     3.159,     0.001\n",
      "670000,     3.277,     0.001\n",
      "690000,     3.265,     0.001\n",
      "710000,     3.458,     0.001\n",
      "730000,     3.556,     0.001\n",
      "750000,     3.581,     0.001\n",
      "770000,     3.578,     0.001\n",
      "790000,     3.864,     0.001\n",
      "810000,     3.987,     0.001\n",
      "830000,     3.977,     0.001\n",
      "850000,     4.163,     0.001\n",
      "870000,     4.179,     0.001\n",
      "890000,     4.270,     0.001\n",
      "910000,     4.476,     0.001\n",
      "930000,     4.409,     0.001\n",
      "950000,     4.596,     0.001\n",
      "970000,     4.657,     0.001\n",
      "990000,     4.735,     0.001\n"
     ]
    }
   ],
   "source": [
    "  \n",
    "import timeit\n",
    "import random\n",
    "\n",
    "for i in range(10000, 1000001, 20000):\n",
    "    t = timeit.Timer(\"random.randrange(%d) in x\" % i,\n",
    "                     \"from __main__ import random, x\")\n",
    "    x = list(range(i))  # 리스트\n",
    "    lst_time = t.timeit(number=1000)\n",
    "    x = {j: None for j in range(i)}  # 딕셔너리\n",
    "    d_time = t.timeit(number=1000)\n",
    "    print(\"%d,%10.3f,%10.3f\" % (i, lst_time, d_time))"
   ]
  },
  {
   "cell_type": "markdown",
   "metadata": {},
   "source": [
    "**딕셔너리 메서드의 시간복잡도**\n",
    "\n",
    "|연산|시간복잡도|\n",
    "|:--|:--|\n",
    "|복사|$O(n)$|\n",
    "|항목 조희|$O(1)$|\n",
    "|항목 할당|$O(1)$|\n",
    "|항목 삭제|$O(1)$|\n",
    "|멤버십 테스트 `in`|$O(1)$|\n",
    "|반복|$O(n)$|"
   ]
  },
  {
   "cell_type": "markdown",
   "metadata": {},
   "source": [
    "## 3.2.3 딕셔너리 순회"
   ]
  },
  {
   "cell_type": "markdown",
   "metadata": {},
   "source": [
    "반복문에서 딕셔너리를 순회할 때는 기본적으로 키를 사용한다. 딕셔너리의 키는 임의의 순서대로 나타나지만, sorted() 함수를 사용하면 정렬된 상태로 순회할 수 있다. sorted() 함수는 딕셔너리의 keys(), values(), items()에 대해 사용할 수 있다. "
   ]
  },
  {
   "cell_type": "code",
   "execution_count": 69,
   "metadata": {
    "ExecuteTime": {
     "end_time": "2021-09-16T06:02:34.914724Z",
     "start_time": "2021-09-16T06:02:34.903263Z"
    }
   },
   "outputs": [
    {
     "name": "stdout",
     "output_type": "stream",
     "text": [
      "a hello\n",
      "b world\n",
      "c !\n"
     ]
    }
   ],
   "source": [
    "d = dict(c='!', b='world', a='hello')\n",
    "\n",
    "for key in sorted(d.keys()):\n",
    "    print(key, d[key])"
   ]
  },
  {
   "cell_type": "code",
   "execution_count": 70,
   "metadata": {
    "ExecuteTime": {
     "end_time": "2021-09-16T06:02:48.186524Z",
     "start_time": "2021-09-16T06:02:48.171506Z"
    }
   },
   "outputs": [
    {
     "name": "stdout",
     "output_type": "stream",
     "text": [
      "c !\n",
      "b world\n",
      "a hello\n"
     ]
    }
   ],
   "source": [
    "for key in (d.keys()):\n",
    "    print(key, d[key])"
   ]
  },
  {
   "cell_type": "markdown",
   "metadata": {},
   "source": [
    "## 3.2.4 딕셔너리 분기"
   ]
  },
  {
   "cell_type": "markdown",
   "metadata": {},
   "source": [
    "다음 두 함수를 조건에 따라 실행해야 한다고 가정해보자."
   ]
  },
  {
   "cell_type": "code",
   "execution_count": 71,
   "metadata": {
    "ExecuteTime": {
     "end_time": "2021-09-16T06:04:28.106682Z",
     "start_time": "2021-09-16T06:04:28.097673Z"
    }
   },
   "outputs": [],
   "source": [
    "def hello():\n",
    "    print('hello')\n",
    "\n",
    "def world():\n",
    "    print('world')"
   ]
  },
  {
   "cell_type": "markdown",
   "metadata": {},
   "source": [
    "이럴 때 우리는 보통 if문을 사용하여 다음과 같이 분기문을 작성한다. "
   ]
  },
  {
   "cell_type": "code",
   "execution_count": 72,
   "metadata": {
    "ExecuteTime": {
     "end_time": "2021-09-16T06:05:04.565387Z",
     "start_time": "2021-09-16T06:05:04.561384Z"
    }
   },
   "outputs": [
    {
     "name": "stdout",
     "output_type": "stream",
     "text": [
      "hello\n"
     ]
    }
   ],
   "source": [
    "action = 'h'\n",
    "\n",
    "if action =='h':\n",
    "    hello()\n",
    "elif action =='w':\n",
    "    world()"
   ]
  },
  {
   "cell_type": "markdown",
   "metadata": {},
   "source": [
    "하지만 딕셔너리를 사용하면 다음과 같이 더 효율적으로 분기 할수 있다. "
   ]
  },
  {
   "cell_type": "code",
   "execution_count": 73,
   "metadata": {
    "ExecuteTime": {
     "end_time": "2021-09-16T06:05:42.326618Z",
     "start_time": "2021-09-16T06:05:42.323614Z"
    }
   },
   "outputs": [
    {
     "name": "stdout",
     "output_type": "stream",
     "text": [
      "hello\n"
     ]
    }
   ],
   "source": [
    "functions = dict(h=hello, w=world)\n",
    "functions[action]()"
   ]
  },
  {
   "cell_type": "markdown",
   "metadata": {},
   "source": [
    "# 3.3 파이썬 컬렉션 데이터 타입"
   ]
  },
  {
   "cell_type": "markdown",
   "metadata": {},
   "source": [
    "피이썬의 collections 모듈은 다양한 딕셔너리 타입을 제공한다. 범용의 내장 기능보다 더 강력한 성능을 보인다. "
   ]
  },
  {
   "cell_type": "markdown",
   "metadata": {},
   "source": [
    "## 3.3.1 기본 딕셔너리"
   ]
  },
  {
   "cell_type": "markdown",
   "metadata": {},
   "source": [
    "**기본 딕셔너리**default dictionary는 `collections.defaultdict` 모듈에서 제공하는 추가 딕셔너리 타입이다. "
   ]
  },
  {
   "cell_type": "markdown",
   "metadata": {},
   "source": [
    "`defaultdict`는 내장 딕셔너리의 모든 연산자와 메서드를 사용할 수 있고, 추가로 다음 코드와 같이 누락된 키도 처리할 수 있다."
   ]
  },
  {
   "cell_type": "code",
   "execution_count": 76,
   "metadata": {
    "ExecuteTime": {
     "end_time": "2021-09-16T06:14:08.386497Z",
     "start_time": "2021-09-16T06:14:08.381445Z"
    }
   },
   "outputs": [],
   "source": [
    "from collections import defaultdict\n",
    "\n",
    "def defaultdic_example():\n",
    "    pairs = {('a', 1), ('b', 2), ('c', 3)}\n",
    "    \n",
    "    #일반 딕셔너리\n",
    "    \n",
    "    d1 = {}\n",
    "    for key, value in pairs:\n",
    "        if key not in d1:\n",
    "            d1[key] = []\n",
    "            \n",
    "        d1[key].append(value)\n",
    "    print(d1)\n",
    "    \n",
    "    #defaultdict\n",
    "    d2 = defaultdict(list)\n",
    "    for key, value in pairs:\n",
    "        d2[key].append(value)\n",
    "    print(d2)"
   ]
  },
  {
   "cell_type": "code",
   "execution_count": 77,
   "metadata": {
    "ExecuteTime": {
     "end_time": "2021-09-16T06:14:08.866468Z",
     "start_time": "2021-09-16T06:14:08.864466Z"
    }
   },
   "outputs": [
    {
     "name": "stdout",
     "output_type": "stream",
     "text": [
      "{'c': [3], 'b': [2], 'a': [1]}\n",
      "defaultdict(<class 'list'>, {'c': [3], 'b': [2], 'a': [1]})\n"
     ]
    }
   ],
   "source": [
    "defaultdic_example()"
   ]
  },
  {
   "cell_type": "markdown",
   "metadata": {},
   "source": [
    "## 3.3.2 정렬된 딕셔너리"
   ]
  },
  {
   "cell_type": "markdown",
   "metadata": {},
   "source": [
    "**정렬된 딕셔너리**ordered dictionary는 `collections.OrderedDict` 모듈에서 제공하는 정렬된 딕셔너리 타입이다. "
   ]
  },
  {
   "cell_type": "markdown",
   "metadata": {},
   "source": [
    "`OrderDict` 역시 내장 딕셔너리의 모든 메서드와 속성을 가지고 있고, 추가로 삽입 순서대로 항목을 저장한다. "
   ]
  },
  {
   "cell_type": "code",
   "execution_count": 78,
   "metadata": {
    "ExecuteTime": {
     "end_time": "2021-09-16T06:18:46.083471Z",
     "start_time": "2021-09-16T06:18:46.079467Z"
    }
   },
   "outputs": [],
   "source": [
    "from collections import OrderedDict\n",
    "\n",
    "def orderdict_example():\n",
    "    pairs = {('a', 1), ('b', 2), ('c', 3)}\n",
    "    \n",
    "    #일반 딕셔너리\n",
    "    \n",
    "    d1 = {}\n",
    "    for key, value in pairs:\n",
    "        if key not in d1:\n",
    "            d1[key] = []\n",
    "            \n",
    "        d1[key].append(value)\n",
    "    \n",
    "    for key in d1:\n",
    "        print(key, d1[key])\n",
    "        \n",
    "    #OrderDict\n",
    "    d2 = OrderedDict(pairs)\n",
    "    for key in d2:\n",
    "        print(key, d2[key])"
   ]
  },
  {
   "cell_type": "code",
   "execution_count": 79,
   "metadata": {
    "ExecuteTime": {
     "end_time": "2021-09-16T06:18:50.097829Z",
     "start_time": "2021-09-16T06:18:50.086821Z"
    }
   },
   "outputs": [
    {
     "name": "stdout",
     "output_type": "stream",
     "text": [
      "c [3]\n",
      "b [2]\n",
      "a [1]\n",
      "c 3\n",
      "b 2\n",
      "a 1\n"
     ]
    }
   ],
   "source": [
    "orderdict_example()"
   ]
  },
  {
   "cell_type": "markdown",
   "metadata": {},
   "source": [
    "파이선 기본 딕셔너리도 삽입 순서를 기억한다. ㅠㅠ"
   ]
  },
  {
   "cell_type": "markdown",
   "metadata": {},
   "source": [
    "## 3.3.3 카운터 딕셔너리"
   ]
  },
  {
   "cell_type": "code",
   "execution_count": null,
   "metadata": {},
   "outputs": [],
   "source": []
  },
  {
   "cell_type": "code",
   "execution_count": null,
   "metadata": {},
   "outputs": [],
   "source": []
  },
  {
   "cell_type": "markdown",
   "metadata": {},
   "source": [
    "# 3.4 연습문제"
   ]
  },
  {
   "cell_type": "code",
   "execution_count": null,
   "metadata": {},
   "outputs": [],
   "source": []
  },
  {
   "cell_type": "code",
   "execution_count": null,
   "metadata": {},
   "outputs": [],
   "source": []
  },
  {
   "cell_type": "markdown",
   "metadata": {},
   "source": [
    "## 3.4.1 단어 횟수 세기"
   ]
  },
  {
   "cell_type": "code",
   "execution_count": null,
   "metadata": {},
   "outputs": [],
   "source": []
  },
  {
   "cell_type": "code",
   "execution_count": null,
   "metadata": {},
   "outputs": [],
   "source": []
  },
  {
   "cell_type": "markdown",
   "metadata": {},
   "source": [
    "## 3.4.2 애너그램"
   ]
  },
  {
   "cell_type": "code",
   "execution_count": null,
   "metadata": {},
   "outputs": [],
   "source": []
  },
  {
   "cell_type": "code",
   "execution_count": null,
   "metadata": {},
   "outputs": [],
   "source": []
  },
  {
   "cell_type": "markdown",
   "metadata": {},
   "source": [
    "## 3.4.3 주사위 합계 경로"
   ]
  },
  {
   "cell_type": "code",
   "execution_count": null,
   "metadata": {},
   "outputs": [],
   "source": []
  },
  {
   "cell_type": "code",
   "execution_count": null,
   "metadata": {},
   "outputs": [],
   "source": []
  },
  {
   "cell_type": "markdown",
   "metadata": {},
   "source": [
    "## 3.4.4 단어의 중복 문제"
   ]
  },
  {
   "cell_type": "code",
   "execution_count": null,
   "metadata": {},
   "outputs": [],
   "source": []
  },
  {
   "cell_type": "code",
   "execution_count": null,
   "metadata": {},
   "outputs": [],
   "source": []
  },
  {
   "cell_type": "markdown",
   "metadata": {},
   "source": [
    "**Reference**\n",
    "\n",
    "* <a href='https://github.com/SeWonKwon' ><div> <img src ='https://slid-capture.s3.ap-northeast-2.amazonaws.com/public/image_upload/6556674324ed41a289a354258718280d/964e5a8b-75ad-41fc-ae75-0ca66d06fbc7.png' align='left' /> </div></a>\n",
    "\n",
    "<br>\n",
    "\n",
    "* [파이썬 자료구조와 알고리즘, 미아 스타인](https://github.com/AstinCHOI/Python-and-Algorithms-and-Data-Structures)"
   ]
  }
 ],
 "metadata": {
  "kernelspec": {
   "display_name": "Python 3 (ipykernel)",
   "language": "python",
   "name": "python3"
  },
  "language_info": {
   "codemirror_mode": {
    "name": "ipython",
    "version": 3
   },
   "file_extension": ".py",
   "mimetype": "text/x-python",
   "name": "python",
   "nbconvert_exporter": "python",
   "pygments_lexer": "ipython3",
   "version": "3.8.11"
  },
  "toc": {
   "base_numbering": 1,
   "nav_menu": {},
   "number_sections": true,
   "sideBar": true,
   "skip_h1_title": false,
   "title_cell": "Table of Contents",
   "title_sidebar": "Contents",
   "toc_cell": false,
   "toc_position": {},
   "toc_section_display": true,
   "toc_window_display": false
  }
 },
 "nbformat": 4,
 "nbformat_minor": 4
}
