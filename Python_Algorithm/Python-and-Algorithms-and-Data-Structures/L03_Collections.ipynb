{
 "cells": [
  {
   "cell_type": "markdown",
   "metadata": {},
   "source": [
    "<a href='https://github.com/SeWonKwon' ><div> <img src ='https://slid-capture.s3.ap-northeast-2.amazonaws.com/public/image_upload/6556674324ed41a289a354258718280d/964e5a8b-75ad-41fc-ae75-0ca66d06fbc7.png' align='left' /> </div></a>\n"
   ]
  },
  {
   "cell_type": "markdown",
   "metadata": {},
   "source": [
    "###### Ch 03 컬렉션 자료구조"
   ]
  },
  {
   "cell_type": "markdown",
   "metadata": {},
   "source": [
    "**컬렉션**collection자료구조는 시퀀스 자료구조와 달리, 데이터를 서로 연관시키지<sub>relating</sub> 않고 모아 두는 컨테이너container다."
   ]
  },
  {
   "cell_type": "markdown",
   "metadata": {},
   "source": [
    "* 멤버십 연산자 : in\n",
    "\n",
    "* 크기 함수 : len(seq)\n",
    "\n",
    "* 반복성 : 반복문의 데이터를 순회한다. "
   ]
  },
  {
   "cell_type": "markdown",
   "metadata": {},
   "source": [
    "# 3.1 셋"
   ]
  },
  {
   "cell_type": "markdown",
   "metadata": {},
   "source": [
    "* **셋**은 반복 가능하고, 가변적이며, 중복 요소가 없고, 정렬되지 않은 컬렉션 데이터 타입이다. \n",
    "\n",
    "* 인덱스 연산은 할 수 없다. \n",
    "\n",
    "* 셋은 **멤버쉽 테스트** 및 **중복 항목 제거**에 사용된다.\n",
    "\n",
    "* 셋의 삽입 시간복잡도는 $O(1)$이고, 합집합union의 시간 복잡도는 $O(m + n)$이다. \n",
    "\n",
    "* 교집합intersection의 경우, 두 셋 중에서 더 작은 셋에 대해서만, 계산하면 되므로, 시간복잡도는 $O(n)$이다."
   ]
  },
  {
   "cell_type": "code",
   "execution_count": 1,
   "metadata": {
    "ExecuteTime": {
     "end_time": "2021-09-20T14:54:38.171568Z",
     "start_time": "2021-09-20T14:54:38.157529Z"
    }
   },
   "outputs": [
    {
     "name": "stdout",
     "output_type": "stream",
     "text": [
      "['__and__', '__class__', '__contains__', '__delattr__', '__dir__', '__doc__', '__eq__', '__format__', '__ge__', '__getattribute__', '__gt__', '__hash__', '__iand__', '__init__', '__init_subclass__', '__ior__', '__isub__', '__iter__', '__ixor__', '__le__', '__len__', '__lt__', '__ne__', '__new__', '__or__', '__rand__', '__reduce__', '__reduce_ex__', '__repr__', '__ror__', '__rsub__', '__rxor__', '__setattr__', '__sizeof__', '__str__', '__sub__', '__subclasshook__', '__xor__', 'add', 'clear', 'copy', 'difference', 'difference_update', 'discard', 'intersection', 'intersection_update', 'isdisjoint', 'issubset', 'issuperset', 'pop', 'remove', 'symmetric_difference', 'symmetric_difference_update', 'union', 'update']\n"
     ]
    }
   ],
   "source": [
    "print(dir(set()))"
   ]
  },
  {
   "cell_type": "markdown",
   "metadata": {},
   "source": [
    "**프로즌 셋**frozen set은 셋(set)과 달리 불변 객체이며, 셋에서 사용할 수 있는 일부 메서드를 사용할 수 없다. "
   ]
  },
  {
   "cell_type": "code",
   "execution_count": 2,
   "metadata": {
    "ExecuteTime": {
     "end_time": "2021-09-20T14:54:38.186582Z",
     "start_time": "2021-09-20T14:54:38.172569Z"
    }
   },
   "outputs": [
    {
     "name": "stdout",
     "output_type": "stream",
     "text": [
      "['__and__', '__class__', '__contains__', '__delattr__', '__dir__', '__doc__', '__eq__', '__format__', '__ge__', '__getattribute__', '__gt__', '__hash__', '__init__', '__init_subclass__', '__iter__', '__le__', '__len__', '__lt__', '__ne__', '__new__', '__or__', '__rand__', '__reduce__', '__reduce_ex__', '__repr__', '__ror__', '__rsub__', '__rxor__', '__setattr__', '__sizeof__', '__str__', '__sub__', '__subclasshook__', '__xor__', 'copy', 'difference', 'intersection', 'isdisjoint', 'issubset', 'issuperset', 'symmetric_difference', 'union']\n"
     ]
    }
   ],
   "source": [
    "print(dir(frozenset()))"
   ]
  },
  {
   "cell_type": "code",
   "execution_count": 3,
   "metadata": {
    "ExecuteTime": {
     "end_time": "2021-09-20T14:54:38.201595Z",
     "start_time": "2021-09-20T14:54:38.187584Z"
    }
   },
   "outputs": [
    {
     "data": {
      "text/plain": [
       "True"
      ]
     },
     "execution_count": 3,
     "metadata": {},
     "output_type": "execute_result"
    }
   ],
   "source": [
    "fs = frozenset((0, 1, 2, 3, 4))\n",
    "2 in fs"
   ]
  },
  {
   "cell_type": "code",
   "execution_count": 4,
   "metadata": {
    "ExecuteTime": {
     "end_time": "2021-09-20T14:54:38.216609Z",
     "start_time": "2021-09-20T14:54:38.202595Z"
    }
   },
   "outputs": [
    {
     "data": {
      "text/plain": [
       "5"
      ]
     },
     "execution_count": 4,
     "metadata": {},
     "output_type": "execute_result"
    }
   ],
   "source": [
    "len(fs)"
   ]
  },
  {
   "cell_type": "markdown",
   "metadata": {},
   "source": [
    "## 3.1.1 셋 메서드"
   ]
  },
  {
   "cell_type": "markdown",
   "metadata": {},
   "source": [
    "`add()` : 추가"
   ]
  },
  {
   "cell_type": "code",
   "execution_count": 5,
   "metadata": {
    "ExecuteTime": {
     "end_time": "2021-09-20T14:54:38.231622Z",
     "start_time": "2021-09-20T14:54:38.217610Z"
    }
   },
   "outputs": [
    {
     "data": {
      "text/plain": [
       "{'버피', '에인젤', '윌로', '자일스'}"
      ]
     },
     "execution_count": 5,
     "metadata": {},
     "output_type": "execute_result"
    }
   ],
   "source": [
    "people = {'버피', '에인젤', '자일스'}\n",
    "people.add('윌로')\n",
    "people"
   ]
  },
  {
   "cell_type": "markdown",
   "metadata": {},
   "source": [
    "`update()`와 `|=` 연산자"
   ]
  },
  {
   "cell_type": "code",
   "execution_count": 6,
   "metadata": {
    "ExecuteTime": {
     "end_time": "2021-09-20T14:54:38.247151Z",
     "start_time": "2021-09-20T14:54:38.232624Z"
    }
   },
   "outputs": [
    {
     "data": {
      "text/plain": [
       "{'로미오', '버피', '에인젤', '자일스', '줄리엣'}"
      ]
     },
     "execution_count": 6,
     "metadata": {},
     "output_type": "execute_result"
    }
   ],
   "source": [
    "people = {'버피', '에인젤', '자일스'}\n",
    "people.update({'로미오', '줄리엣', '에인젤'})\n",
    "people"
   ]
  },
  {
   "cell_type": "code",
   "execution_count": 7,
   "metadata": {
    "ExecuteTime": {
     "end_time": "2021-09-20T14:54:38.262165Z",
     "start_time": "2021-09-20T14:54:38.248152Z"
    }
   },
   "outputs": [
    {
     "data": {
      "text/plain": [
       "{'로미오', '리키', '버피', '에인젤', '유진', '자일스', '줄리엣'}"
      ]
     },
     "execution_count": 7,
     "metadata": {},
     "output_type": "execute_result"
    }
   ],
   "source": [
    "people |= {'리키', '유진'}\n",
    "people"
   ]
  },
  {
   "cell_type": "markdown",
   "metadata": {},
   "source": [
    "`add()` vs `update()` 추가하는 객체가 서로 다르다. "
   ]
  },
  {
   "cell_type": "code",
   "execution_count": 8,
   "metadata": {
    "ExecuteTime": {
     "end_time": "2021-09-20T14:54:38.277178Z",
     "start_time": "2021-09-20T14:54:38.263165Z"
    }
   },
   "outputs": [
    {
     "data": {
      "text/plain": [
       "{'로', '버피', '에인젤', '윌', '자일스'}"
      ]
     },
     "execution_count": 8,
     "metadata": {},
     "output_type": "execute_result"
    }
   ],
   "source": [
    "people = {'버피', '에인젤', '자일스'}\n",
    "people.update('윌로')\n",
    "people"
   ]
  },
  {
   "cell_type": "code",
   "execution_count": 9,
   "metadata": {
    "ExecuteTime": {
     "end_time": "2021-09-20T14:54:38.292192Z",
     "start_time": "2021-09-20T14:54:38.278179Z"
    }
   },
   "outputs": [
    {
     "name": "stdout",
     "output_type": "stream",
     "text": [
      "unhashable type: 'set'\n"
     ]
    }
   ],
   "source": [
    "people = {'버피', '에인젤', '자일스'}\n",
    "try:\n",
    "    people.add({'로미오', '줄리엣', '에인젤'})\n",
    "    people\n",
    "except TypeError as e:\n",
    "    print(e)"
   ]
  },
  {
   "cell_type": "markdown",
   "metadata": {},
   "source": [
    "`union()`과 `|`연산자"
   ]
  },
  {
   "cell_type": "markdown",
   "metadata": {},
   "source": [
    "`A.union(B)`와 `A | B`는 앞에서 본 `update()` 메서드와 같지만, 연산 결과를 복사본으로 반환한다. "
   ]
  },
  {
   "cell_type": "code",
   "execution_count": 10,
   "metadata": {
    "ExecuteTime": {
     "end_time": "2021-09-20T14:54:38.307205Z",
     "start_time": "2021-09-20T14:54:38.294192Z"
    }
   },
   "outputs": [
    {
     "data": {
      "text/plain": [
       "{'로미오', '버피', '에인젤', '자일스', '줄리엣'}"
      ]
     },
     "execution_count": 10,
     "metadata": {},
     "output_type": "execute_result"
    }
   ],
   "source": [
    "people = {'버피', '에인젤', '자일스'}\n",
    "people.union({'로미오', '줄리엣'})"
   ]
  },
  {
   "cell_type": "code",
   "execution_count": 11,
   "metadata": {
    "ExecuteTime": {
     "end_time": "2021-09-20T14:54:38.322219Z",
     "start_time": "2021-09-20T14:54:38.308207Z"
    }
   },
   "outputs": [
    {
     "data": {
      "text/plain": [
       "{'버피', '에인젤', '자일스'}"
      ]
     },
     "execution_count": 11,
     "metadata": {},
     "output_type": "execute_result"
    }
   ],
   "source": [
    "people"
   ]
  },
  {
   "cell_type": "code",
   "execution_count": 12,
   "metadata": {
    "ExecuteTime": {
     "end_time": "2021-09-20T14:54:38.337093Z",
     "start_time": "2021-09-20T14:54:38.323220Z"
    }
   },
   "outputs": [
    {
     "data": {
      "text/plain": [
       "{'버피', '브라이언', '에인젤', '자일스'}"
      ]
     },
     "execution_count": 12,
     "metadata": {},
     "output_type": "execute_result"
    }
   ],
   "source": [
    "people | {'브라이언'}"
   ]
  },
  {
   "cell_type": "code",
   "execution_count": 13,
   "metadata": {
    "ExecuteTime": {
     "end_time": "2021-09-20T14:54:38.352475Z",
     "start_time": "2021-09-20T14:54:38.338094Z"
    }
   },
   "outputs": [
    {
     "data": {
      "text/plain": [
       "{'버피', '에인젤', '자일스'}"
      ]
     },
     "execution_count": 13,
     "metadata": {},
     "output_type": "execute_result"
    }
   ],
   "source": [
    "people"
   ]
  },
  {
   "cell_type": "markdown",
   "metadata": {},
   "source": [
    "`intersection()`과 `&` 연산자"
   ]
  },
  {
   "cell_type": "markdown",
   "metadata": {},
   "source": [
    "교집합의 복사본"
   ]
  },
  {
   "cell_type": "code",
   "execution_count": 14,
   "metadata": {
    "ExecuteTime": {
     "end_time": "2021-09-20T14:54:38.368094Z",
     "start_time": "2021-09-20T14:54:38.353476Z"
    }
   },
   "outputs": [
    {
     "data": {
      "text/plain": [
       "{'에인젤', '자일스'}"
      ]
     },
     "execution_count": 14,
     "metadata": {},
     "output_type": "execute_result"
    }
   ],
   "source": [
    "people = {'버피', '에인젤', '자일스', '이안'}\n",
    "vampires = {'에인젤', '자일스', '윌로'}\n",
    "people.intersection(vampires)"
   ]
  },
  {
   "cell_type": "code",
   "execution_count": 15,
   "metadata": {
    "ExecuteTime": {
     "end_time": "2021-09-20T14:54:38.383472Z",
     "start_time": "2021-09-20T14:54:38.369094Z"
    }
   },
   "outputs": [
    {
     "data": {
      "text/plain": [
       "{'에인젤', '자일스'}"
      ]
     },
     "execution_count": 15,
     "metadata": {},
     "output_type": "execute_result"
    }
   ],
   "source": [
    "people & vampires"
   ]
  },
  {
   "cell_type": "markdown",
   "metadata": {},
   "source": [
    "`difference()`와 `-`연산자"
   ]
  },
  {
   "cell_type": "markdown",
   "metadata": {},
   "source": [
    "차집합의 복사본"
   ]
  },
  {
   "cell_type": "code",
   "execution_count": 16,
   "metadata": {
    "ExecuteTime": {
     "end_time": "2021-09-20T14:54:38.398471Z",
     "start_time": "2021-09-20T14:54:38.384470Z"
    }
   },
   "outputs": [
    {
     "data": {
      "text/plain": [
       "{'버피', '이안'}"
      ]
     },
     "execution_count": 16,
     "metadata": {},
     "output_type": "execute_result"
    }
   ],
   "source": [
    "people = {'버피', '에인젤', '자일스', '이안'}\n",
    "vampires = {'에인젤', '자일스', '윌로'}\n",
    "people.difference(vampires)"
   ]
  },
  {
   "cell_type": "code",
   "execution_count": 17,
   "metadata": {
    "ExecuteTime": {
     "end_time": "2021-09-20T14:54:38.413473Z",
     "start_time": "2021-09-20T14:54:38.399472Z"
    }
   },
   "outputs": [
    {
     "data": {
      "text/plain": [
       "{'버피', '이안'}"
      ]
     },
     "execution_count": 17,
     "metadata": {},
     "output_type": "execute_result"
    }
   ],
   "source": [
    "people - vampires"
   ]
  },
  {
   "cell_type": "markdown",
   "metadata": {},
   "source": [
    "`clear()`"
   ]
  },
  {
   "cell_type": "code",
   "execution_count": 18,
   "metadata": {
    "ExecuteTime": {
     "end_time": "2021-09-20T14:54:38.428470Z",
     "start_time": "2021-09-20T14:54:38.414473Z"
    }
   },
   "outputs": [
    {
     "data": {
      "text/plain": [
       "set()"
      ]
     },
     "execution_count": 18,
     "metadata": {},
     "output_type": "execute_result"
    }
   ],
   "source": [
    "people = {'버피', '에인젤', '자일스', '이안'}\n",
    "people.clear()\n",
    "people"
   ]
  },
  {
   "cell_type": "markdown",
   "metadata": {},
   "source": [
    "`discard()`,`remove()`,`pop()`"
   ]
  },
  {
   "cell_type": "markdown",
   "metadata": {},
   "source": [
    "* `A.discard(x)`는 A의 항목 x를 제거하며 반환값은 없다. \n",
    "\n",
    "* `A.remove()`는 `A.discard()`와 같지만, 항목 x가 없을 경우 KeyError 예외를 발생한다."
   ]
  },
  {
   "cell_type": "markdown",
   "metadata": {},
   "source": [
    "`A.pop()`은 A에서 한 항목을 무작위로 제거하고 그 항목을 반환한다. "
   ]
  },
  {
   "cell_type": "markdown",
   "metadata": {},
   "source": [
    "## 3.1.2 셋과 리스트"
   ]
  },
  {
   "cell_type": "markdown",
   "metadata": {},
   "source": [
    "리스트 타입과 셋 타입은 서로 변환casting 할수 있다. "
   ]
  },
  {
   "cell_type": "code",
   "execution_count": 19,
   "metadata": {
    "ExecuteTime": {
     "end_time": "2021-09-20T14:54:38.443471Z",
     "start_time": "2021-09-20T14:54:38.429471Z"
    }
   },
   "outputs": [],
   "source": [
    "def remove_dup(l1):\n",
    "    return list(set(l1))\n",
    "\n",
    "def intersection(l1, l2):\n",
    "    return list(set(l1) & set(l2))\n",
    "\n",
    "def union(l1, l2):\n",
    "    return list(set(l1) | set(l2))"
   ]
  },
  {
   "cell_type": "code",
   "execution_count": 20,
   "metadata": {
    "ExecuteTime": {
     "end_time": "2021-09-20T14:54:38.458109Z",
     "start_time": "2021-09-20T14:54:38.443471Z"
    }
   },
   "outputs": [],
   "source": [
    "l1 = [1, 2, 3, 4, 5, 6, 7, 8, 9, 11, 11, 15]\n",
    "l2 = [4, 5, 6, 7, 8]\n",
    "l3 = []"
   ]
  },
  {
   "cell_type": "code",
   "execution_count": 21,
   "metadata": {
    "ExecuteTime": {
     "end_time": "2021-09-20T14:54:38.473472Z",
     "start_time": "2021-09-20T14:54:38.459114Z"
    }
   },
   "outputs": [
    {
     "name": "stdout",
     "output_type": "stream",
     "text": [
      "[1, 2, 3, 4, 5, 6, 7, 8, 9, 11, 15]\n",
      "[4, 5, 6, 7, 8]\n",
      "[1, 2, 3, 4, 5, 6, 7, 8, 9, 11, 15]\n",
      "True\n",
      "True\n"
     ]
    }
   ],
   "source": [
    "print(remove_dup(l1))\n",
    "print(intersection(l1, l2))\n",
    "print(union(l1, l2))\n",
    "print(intersection(l3, l2) == l3)\n",
    "print(sorted(union(l3, l2)) == sorted(l2))"
   ]
  },
  {
   "cell_type": "markdown",
   "metadata": {},
   "source": [
    "## 3.1.3 셋 메서드와 딕셔너리"
   ]
  },
  {
   "cell_type": "markdown",
   "metadata": {},
   "source": [
    "딕셔너리와 셋 메서드를 활용하면 아래와 같이 딕셔너리를 활용하기 쉬워진다."
   ]
  },
  {
   "cell_type": "code",
   "execution_count": 22,
   "metadata": {
    "ExecuteTime": {
     "end_time": "2021-09-20T14:54:38.489106Z",
     "start_time": "2021-09-20T14:54:38.474473Z"
    }
   },
   "outputs": [
    {
     "name": "stdout",
     "output_type": "stream",
     "text": [
      "<class 'dict_keys'>\n"
     ]
    },
    {
     "data": {
      "text/plain": [
       "dict_items([('a', 1), ('c', 2), ('d', 3), ('e', 4)])"
      ]
     },
     "execution_count": 22,
     "metadata": {},
     "output_type": "execute_result"
    }
   ],
   "source": [
    "d2 = {'a': 1, 'c': 2, 'd': 3, 'e': 4}\n",
    "\n",
    "print(type(d2.keys()))\n",
    "d2.items()"
   ]
  },
  {
   "cell_type": "code",
   "execution_count": 23,
   "metadata": {
    "ExecuteTime": {
     "end_time": "2021-09-20T14:54:38.504476Z",
     "start_time": "2021-09-20T14:54:38.490107Z"
    }
   },
   "outputs": [
    {
     "data": {
      "text/plain": [
       "dict_values([1, 2, 3, 4])"
      ]
     },
     "execution_count": 23,
     "metadata": {},
     "output_type": "execute_result"
    }
   ],
   "source": [
    "d2.values()"
   ]
  },
  {
   "cell_type": "code",
   "execution_count": 24,
   "metadata": {
    "ExecuteTime": {
     "end_time": "2021-09-20T14:54:38.519490Z",
     "start_time": "2021-09-20T14:54:38.505476Z"
    }
   },
   "outputs": [],
   "source": [
    "def set_operations_with_dict():\n",
    "    pairs = [('a',1), ('b',2), ('c',3)]\n",
    "    d1 = dict(pairs)\n",
    "    print('딕셔너리1\\t: {}'.format(d1))\n",
    "    \n",
    "    d2 = {'a': 1, 'c': 2, 'd': 3, 'e': 4}\n",
    "    print('딕셔너리2\\t: {}'.format(d2))\n",
    "    \n",
    "    intersection = d1.keys() & d2.keys()\n",
    "    print('d1 ∩ d2 (키)\\t: {}'.format(intersection))\n",
    "    \n",
    "    intersection_values = set(d1.values()) & set(d2.values())\n",
    "    print('d1 ∩ d2 (값)\\t: {}'.format(intersection_values))\n",
    "    \n",
    "    intersection_items = d1.items() & d2.items()\n",
    "    print('d1 ∩ d2 (키 & 값)\\t: {}'.format(intersection_items))\n",
    "    \n",
    "    subtraction1 = d1.keys() - d2.keys()\n",
    "    print('d1 - d2 (키)\\t: {}'.format(subtraction1))\n",
    "    \n",
    "    subtraction2 = d2.keys() - d1.keys()\n",
    "    print('d2 - d1 (키)\\t: {}'.format(subtraction2))\n",
    "\n",
    "    subtraction1_items = d1.items() - d2.items()\n",
    "    print('d1 - d2 (키 & 값)\\t: {}'.format(subtraction1_items))\n",
    "    \n",
    "    d3 = {key: d2[key] for key in d2.keys() - {'c', 'd'}}\n",
    "    print('d2 - {{c, d}}\\t: {}'.format(d3))"
   ]
  },
  {
   "cell_type": "code",
   "execution_count": 25,
   "metadata": {
    "ExecuteTime": {
     "end_time": "2021-09-20T14:54:38.535094Z",
     "start_time": "2021-09-20T14:54:38.520491Z"
    }
   },
   "outputs": [
    {
     "name": "stdout",
     "output_type": "stream",
     "text": [
      "딕셔너리1\t: {'a': 1, 'b': 2, 'c': 3}\n",
      "딕셔너리2\t: {'a': 1, 'c': 2, 'd': 3, 'e': 4}\n",
      "d1 ∩ d2 (키)\t: {'a', 'c'}\n",
      "d1 ∩ d2 (값)\t: {1, 2, 3}\n",
      "d1 ∩ d2 (키 & 값)\t: {('a', 1)}\n",
      "d1 - d2 (키)\t: {'b'}\n",
      "d2 - d1 (키)\t: {'d', 'e'}\n",
      "d1 - d2 (키 & 값)\t: {('c', 3), ('b', 2)}\n",
      "d2 - {c, d}\t: {'a': 1, 'e': 4}\n"
     ]
    }
   ],
   "source": [
    "set_operations_with_dict()"
   ]
  },
  {
   "cell_type": "markdown",
   "metadata": {},
   "source": [
    "딕셔너리에서 items()와 keys()의 리턴 값은 set의 형태를 뛰게 되어 있기 때문에 활용 가능하다. "
   ]
  },
  {
   "cell_type": "markdown",
   "metadata": {
    "ExecuteTime": {
     "end_time": "2021-09-14T01:34:54.559781Z",
     "start_time": "2021-09-14T01:34:54.300998Z"
    }
   },
   "source": [
    "# 3.2 딕셔너리"
   ]
  },
  {
   "cell_type": "markdown",
   "metadata": {},
   "source": [
    "**딕셔너리**dictionary 는 해시 테이블<sub>hash table</sub>로 구현 되어 있다."
   ]
  },
  {
   "cell_type": "markdown",
   "metadata": {},
   "source": [
    "해시 함수는 특정 객체에 해당하는 임의의 정수 값을 상수 시간 내에 계산한다. 이 정수는 연관 배열의 인덱스로 사용된다. "
   ]
  },
  {
   "cell_type": "code",
   "execution_count": 26,
   "metadata": {
    "ExecuteTime": {
     "end_time": "2021-09-20T14:54:38.550105Z",
     "start_time": "2021-09-20T14:54:38.536094Z"
    }
   },
   "outputs": [
    {
     "data": {
      "text/plain": [
       "42"
      ]
     },
     "execution_count": 26,
     "metadata": {},
     "output_type": "execute_result"
    }
   ],
   "source": [
    "hash(42)"
   ]
  },
  {
   "cell_type": "code",
   "execution_count": 27,
   "metadata": {
    "ExecuteTime": {
     "end_time": "2021-09-20T14:54:38.565139Z",
     "start_time": "2021-09-20T14:54:38.551110Z"
    }
   },
   "outputs": [
    {
     "data": {
      "text/plain": [
       "5652235934823332216"
      ]
     },
     "execution_count": 27,
     "metadata": {},
     "output_type": "execute_result"
    }
   ],
   "source": [
    "hash(\"hello\")"
   ]
  },
  {
   "cell_type": "markdown",
   "metadata": {},
   "source": [
    "컬렉션 **매핑 타입**mapping type인 딕셔너리는 반복 가능하다. 멤버쉽 테스트 `in`과 `len()`함수도 지원한다. "
   ]
  },
  {
   "cell_type": "markdown",
   "metadata": {},
   "source": [
    "딕셔너리의 항목은 고유하므로, 항목에 접근하는 시간복잡도는 $O(1)$이다. 딕셔너리는 변경 가능하므로 항목의 추가 및 제거가 가능하다. "
   ]
  },
  {
   "cell_type": "markdown",
   "metadata": {},
   "source": [
    "딕셔너리는 항목의 삽입 순서를 기억하지 않으며, 인덱스 위치를 사용할 수 없다. (따라서 슬라이스를 사용할 수 없다.)"
   ]
  },
  {
   "cell_type": "code",
   "execution_count": 28,
   "metadata": {
    "ExecuteTime": {
     "end_time": "2021-09-20T14:54:38.580153Z",
     "start_time": "2021-09-20T14:54:38.567139Z"
    }
   },
   "outputs": [
    {
     "data": {
      "text/plain": [
       "{'name': '쿠엔틴 타란티노', 'job': '감독'}"
      ]
     },
     "execution_count": 28,
     "metadata": {},
     "output_type": "execute_result"
    }
   ],
   "source": [
    "trantino = {}\n",
    "trantino['name'] = '쿠엔틴 타란티노'\n",
    "trantino['job'] = '감독'\n",
    "\n",
    "trantino"
   ]
  },
  {
   "cell_type": "code",
   "execution_count": 29,
   "metadata": {
    "ExecuteTime": {
     "end_time": "2021-09-20T14:54:38.595093Z",
     "start_time": "2021-09-20T14:54:38.580153Z"
    }
   },
   "outputs": [
    {
     "data": {
      "text/plain": [
       "{'name': '버피', 'age': 16, 'hobby': '게임'}"
      ]
     },
     "execution_count": 29,
     "metadata": {},
     "output_type": "execute_result"
    }
   ],
   "source": [
    "sunnydale = dict({'name':'버피', 'age':16, 'hobby':\"게임\"})\n",
    "sunnydale"
   ]
  },
  {
   "cell_type": "code",
   "execution_count": 30,
   "metadata": {
    "ExecuteTime": {
     "end_time": "2021-09-20T14:54:38.609869Z",
     "start_time": "2021-09-20T14:54:38.596093Z"
    }
   },
   "outputs": [
    {
     "data": {
      "text/plain": [
       "{'name': '윌로', 'age': 15, 'hobby': '개발'}"
      ]
     },
     "execution_count": 30,
     "metadata": {},
     "output_type": "execute_result"
    }
   ],
   "source": [
    "sunnydale = dict([('name', '윌로'), ('age', 15), ('hobby', '개발')])\n",
    "sunnydale"
   ]
  },
  {
   "cell_type": "markdown",
   "metadata": {},
   "source": [
    "## 3.2.1 딕셔너리 메서드"
   ]
  },
  {
   "cell_type": "markdown",
   "metadata": {},
   "source": [
    "`setdefault()`"
   ]
  },
  {
   "cell_type": "markdown",
   "metadata": {},
   "source": [
    "`A.setdefault(key, default)`를 사용하면 딕셔너리 A에 key가 존재할 경우 키에 해당하는 값을 얻을 수 있고, key가 존재하지 않는다면, 새 키와 기본값 default가 딕셔너리에 저장된다. "
   ]
  },
  {
   "cell_type": "code",
   "execution_count": 31,
   "metadata": {
    "ExecuteTime": {
     "end_time": "2021-09-20T14:54:38.625115Z",
     "start_time": "2021-09-20T14:54:38.610874Z"
    }
   },
   "outputs": [],
   "source": [
    "def usual_dict(dict_data):\n",
    "    \"\"\" dict[key] 사용\"\"\"\n",
    "    newdata = {}\n",
    "    for k, v in dict_data:\n",
    "        if k in newdata:\n",
    "            newdata[k].append(v)\n",
    "        else:\n",
    "            newdata[k] = [v]\n",
    "    return newdata"
   ]
  },
  {
   "cell_type": "code",
   "execution_count": 32,
   "metadata": {
    "ExecuteTime": {
     "end_time": "2021-09-20T14:54:38.640124Z",
     "start_time": "2021-09-20T14:54:38.626115Z"
    }
   },
   "outputs": [],
   "source": [
    "def setdefault_dict(dict_data):\n",
    "    \"\"\"setdefault() 메서드 사용\"\"\"\n",
    "    newdata = {}\n",
    "    for k, v in dict_data:\n",
    "        newdata.setdefault(k, []).append(v)\n",
    "    return newdata"
   ]
  },
  {
   "cell_type": "code",
   "execution_count": 33,
   "metadata": {
    "ExecuteTime": {
     "end_time": "2021-09-20T14:54:38.655148Z",
     "start_time": "2021-09-20T14:54:38.641125Z"
    }
   },
   "outputs": [],
   "source": [
    "dict_data = (('key1', 'v1'),\n",
    "             ('key1', 'v2'),\n",
    "             ('key2', 'v3'),\n",
    "             ('key2', 'v4'),\n",
    "             ('key2', 'v5'))"
   ]
  },
  {
   "cell_type": "code",
   "execution_count": 34,
   "metadata": {
    "ExecuteTime": {
     "end_time": "2021-09-20T14:54:38.670473Z",
     "start_time": "2021-09-20T14:54:38.656148Z"
    }
   },
   "outputs": [
    {
     "data": {
      "text/plain": [
       "{'key1': ['v1', 'v2'], 'key2': ['v3', 'v4', 'v5']}"
      ]
     },
     "execution_count": 34,
     "metadata": {},
     "output_type": "execute_result"
    }
   ],
   "source": [
    "usual_dict(dict_data)"
   ]
  },
  {
   "cell_type": "code",
   "execution_count": 35,
   "metadata": {
    "ExecuteTime": {
     "end_time": "2021-09-20T14:54:38.685502Z",
     "start_time": "2021-09-20T14:54:38.671473Z"
    }
   },
   "outputs": [
    {
     "data": {
      "text/plain": [
       "{'key1': ['v1', 'v2'], 'key2': ['v3', 'v4', 'v5']}"
      ]
     },
     "execution_count": 35,
     "metadata": {},
     "output_type": "execute_result"
    }
   ],
   "source": [
    "setdefault_dict(dict_data)"
   ]
  },
  {
   "cell_type": "markdown",
   "metadata": {},
   "source": [
    "`get(key)`"
   ]
  },
  {
   "cell_type": "code",
   "execution_count": 36,
   "metadata": {
    "ExecuteTime": {
     "end_time": "2021-09-20T14:54:38.700253Z",
     "start_time": "2021-09-20T14:54:38.686502Z"
    }
   },
   "outputs": [
    {
     "data": {
      "text/plain": [
       "'게임'"
      ]
     },
     "execution_count": 36,
     "metadata": {},
     "output_type": "execute_result"
    }
   ],
   "source": [
    "sunnydale = dict(name='젠더', age=17, hobby='게임')\n",
    "sunnydale.get('hobby')"
   ]
  },
  {
   "cell_type": "markdown",
   "metadata": {},
   "source": [
    "`items()`,`values()`,`keys()`"
   ]
  },
  {
   "cell_type": "markdown",
   "metadata": {},
   "source": [
    "딕셔너리 뷰view이다. 딕셔너리의 항목(키 또 값)을 조회하는 읽기 전용의 반복 가능한 객체이다. "
   ]
  },
  {
   "cell_type": "code",
   "execution_count": 37,
   "metadata": {
    "ExecuteTime": {
     "end_time": "2021-09-20T14:54:38.715243Z",
     "start_time": "2021-09-20T14:54:38.701256Z"
    }
   },
   "outputs": [
    {
     "name": "stdout",
     "output_type": "stream",
     "text": [
      "<class 'dict_keys'>\n"
     ]
    },
    {
     "data": {
      "text/plain": [
       "dict_keys(['name', 'age', 'hobby'])"
      ]
     },
     "execution_count": 37,
     "metadata": {},
     "output_type": "execute_result"
    }
   ],
   "source": [
    "sunnydale = dict(name='젠더', age=17, hobby='게임')\n",
    "\n",
    "print(type(sunnydale.keys()))\n",
    "sunnydale.keys()"
   ]
  },
  {
   "cell_type": "code",
   "execution_count": 38,
   "metadata": {
    "ExecuteTime": {
     "end_time": "2021-09-20T14:54:38.730281Z",
     "start_time": "2021-09-20T14:54:38.716245Z"
    }
   },
   "outputs": [
    {
     "name": "stdout",
     "output_type": "stream",
     "text": [
      "<class 'dict_values'>\n"
     ]
    },
    {
     "data": {
      "text/plain": [
       "dict_values(['젠더', 17, '게임'])"
      ]
     },
     "execution_count": 38,
     "metadata": {},
     "output_type": "execute_result"
    }
   ],
   "source": [
    "print(type(sunnydale.values()))\n",
    "sunnydale.values()"
   ]
  },
  {
   "cell_type": "code",
   "execution_count": 39,
   "metadata": {
    "ExecuteTime": {
     "end_time": "2021-09-20T14:54:38.745456Z",
     "start_time": "2021-09-20T14:54:38.731282Z"
    }
   },
   "outputs": [
    {
     "name": "stdout",
     "output_type": "stream",
     "text": [
      "<class 'dict_items'>\n"
     ]
    },
    {
     "data": {
      "text/plain": [
       "dict_items([('name', '젠더'), ('age', 17), ('hobby', '게임')])"
      ]
     },
     "execution_count": 39,
     "metadata": {},
     "output_type": "execute_result"
    }
   ],
   "source": [
    "print(type(sunnydale.items()))\n",
    "sunnydale.items()"
   ]
  },
  {
   "cell_type": "markdown",
   "metadata": {},
   "source": [
    "`pop()`,`popitem()`"
   ]
  },
  {
   "cell_type": "markdown",
   "metadata": {},
   "source": [
    "pop(key)은 특정 키 값을 반환후 제거, popitem() 마지막 항목을 반환한다. (임의의 값을 반환했지만, 파이선3.7 이후로 딕셔너리도 항목의 입력 순서가 기억 되기 때문에 그 순서의 역으로 적용 되는거 같다.)"
   ]
  },
  {
   "cell_type": "code",
   "execution_count": 40,
   "metadata": {
    "ExecuteTime": {
     "end_time": "2021-09-20T14:54:38.761109Z",
     "start_time": "2021-09-20T14:54:38.746458Z"
    }
   },
   "outputs": [],
   "source": [
    "sunnydale = dict(name='젠더', age=17, hobby='게임', gender='남')"
   ]
  },
  {
   "cell_type": "code",
   "execution_count": 41,
   "metadata": {
    "ExecuteTime": {
     "end_time": "2021-09-20T14:54:38.776096Z",
     "start_time": "2021-09-20T14:54:38.762108Z"
    }
   },
   "outputs": [
    {
     "data": {
      "text/plain": [
       "'젠더'"
      ]
     },
     "execution_count": 41,
     "metadata": {},
     "output_type": "execute_result"
    }
   ],
   "source": [
    "sunnydale.pop('name')"
   ]
  },
  {
   "cell_type": "code",
   "execution_count": 42,
   "metadata": {
    "ExecuteTime": {
     "end_time": "2021-09-20T14:54:38.791542Z",
     "start_time": "2021-09-20T14:54:38.776096Z"
    }
   },
   "outputs": [
    {
     "data": {
      "text/plain": [
       "('gender', '남')"
      ]
     },
     "execution_count": 42,
     "metadata": {},
     "output_type": "execute_result"
    }
   ],
   "source": [
    "sunnydale.popitem()"
   ]
  },
  {
   "cell_type": "markdown",
   "metadata": {},
   "source": [
    "`clear()`"
   ]
  },
  {
   "cell_type": "code",
   "execution_count": 43,
   "metadata": {
    "ExecuteTime": {
     "end_time": "2021-09-20T14:54:38.806564Z",
     "start_time": "2021-09-20T14:54:38.792546Z"
    }
   },
   "outputs": [
    {
     "data": {
      "text/plain": [
       "{}"
      ]
     },
     "execution_count": 43,
     "metadata": {},
     "output_type": "execute_result"
    }
   ],
   "source": [
    "sunnydale.clear()\n",
    "sunnydale"
   ]
  },
  {
   "cell_type": "markdown",
   "metadata": {},
   "source": [
    "## 3.2.2 딕셔너리 성능 측정"
   ]
  },
  {
   "cell_type": "markdown",
   "metadata": {},
   "source": [
    "멤버십 연선에 대한 시간 복잡도는 리스트는 $O(n)$인 반면, 딕셔너리는 $O(1)$이다."
   ]
  },
  {
   "cell_type": "code",
   "execution_count": 44,
   "metadata": {
    "ExecuteTime": {
     "end_time": "2021-09-20T14:56:45.355418Z",
     "start_time": "2021-09-20T14:54:38.807565Z"
    }
   },
   "outputs": [
    {
     "name": "stdout",
     "output_type": "stream",
     "text": [
      "10000,     0.050,     0.001\n",
      "30000,     0.150,     0.001\n",
      "50000,     0.252,     0.001\n",
      "70000,     0.342,     0.001\n",
      "90000,     0.423,     0.001\n",
      "110000,     0.550,     0.001\n",
      "130000,     0.604,     0.001\n",
      "150000,     0.715,     0.001\n",
      "170000,     0.817,     0.001\n",
      "190000,     0.916,     0.001\n",
      "210000,     0.977,     0.001\n",
      "230000,     1.164,     0.001\n",
      "250000,     1.270,     0.001\n",
      "270000,     1.390,     0.001\n",
      "290000,     1.462,     0.001\n",
      "310000,     1.563,     0.001\n",
      "330000,     1.628,     0.001\n",
      "350000,     1.765,     0.001\n",
      "370000,     1.780,     0.001\n",
      "390000,     1.921,     0.001\n",
      "410000,     2.076,     0.001\n",
      "430000,     2.137,     0.001\n",
      "450000,     2.224,     0.001\n",
      "470000,     2.313,     0.001\n",
      "490000,     2.452,     0.001\n",
      "510000,     2.463,     0.001\n",
      "530000,     2.630,     0.001\n",
      "550000,     2.740,     0.001\n",
      "570000,     2.737,     0.001\n",
      "590000,     2.942,     0.001\n",
      "610000,     3.044,     0.001\n",
      "630000,     3.009,     0.001\n",
      "650000,     3.195,     0.001\n",
      "670000,     3.282,     0.001\n",
      "690000,     3.435,     0.001\n",
      "710000,     3.527,     0.001\n",
      "730000,     3.591,     0.001\n",
      "750000,     3.656,     0.001\n",
      "770000,     3.787,     0.001\n",
      "790000,     3.889,     0.001\n",
      "810000,     4.153,     0.001\n",
      "830000,     4.021,     0.001\n",
      "850000,     4.210,     0.001\n",
      "870000,     4.270,     0.001\n",
      "890000,     4.508,     0.001\n",
      "910000,     4.629,     0.001\n",
      "930000,     4.800,     0.001\n",
      "950000,     4.714,     0.001\n",
      "970000,     4.919,     0.001\n",
      "990000,     5.399,     0.001\n"
     ]
    }
   ],
   "source": [
    "import timeit\n",
    "import random\n",
    "\n",
    "for i in range(10000, 1000001, 20000):\n",
    "    t = timeit.Timer(\"random.randrange(%d) in x\" % i,\n",
    "                     \"from __main__ import random, x\")\n",
    "    x = list(range(i))  # 리스트\n",
    "    lst_time = t.timeit(number=1000)\n",
    "    x = {j: None for j in range(i)}  # 딕셔너리\n",
    "    d_time = t.timeit(number=1000)\n",
    "    print(\"%d,%10.3f,%10.3f\" % (i, lst_time, d_time))"
   ]
  },
  {
   "cell_type": "markdown",
   "metadata": {},
   "source": [
    "**딕셔너리 메서드의 시간복잡도**\n",
    "\n",
    "|연산|시간복잡도|\n",
    "|:--|:--|\n",
    "|복사|$O(n)$|\n",
    "|항목 조희|$O(1)$|\n",
    "|항목 할당|$O(1)$|\n",
    "|항목 삭제|$O(1)$|\n",
    "|멤버십 테스트 `in`|$O(1)$|\n",
    "|반복|$O(n)$|"
   ]
  },
  {
   "cell_type": "markdown",
   "metadata": {},
   "source": [
    "## 3.2.3 딕셔너리 순회"
   ]
  },
  {
   "cell_type": "markdown",
   "metadata": {},
   "source": [
    "반복문에서 딕셔너리를 순회할 때는 기본적으로 키를 사용한다. 딕셔너리의 키는 임의의 순서대로 나타나지만, sorted() 함수를 사용하면 정렬된 상태로 순회할 수 있다. sorted() 함수는 딕셔너리의 keys(), values(), items()에 대해 사용할 수 있다. "
   ]
  },
  {
   "cell_type": "code",
   "execution_count": 45,
   "metadata": {
    "ExecuteTime": {
     "end_time": "2021-09-20T14:56:45.370429Z",
     "start_time": "2021-09-20T14:56:45.356417Z"
    }
   },
   "outputs": [
    {
     "name": "stdout",
     "output_type": "stream",
     "text": [
      "a hello\n",
      "b world\n",
      "c !\n"
     ]
    }
   ],
   "source": [
    "d = dict(c='!', b='world', a='hello')\n",
    "\n",
    "for key in sorted(d.keys()):\n",
    "    print(key, d[key])"
   ]
  },
  {
   "cell_type": "code",
   "execution_count": 46,
   "metadata": {
    "ExecuteTime": {
     "end_time": "2021-09-20T14:56:45.385445Z",
     "start_time": "2021-09-20T14:56:45.371430Z"
    }
   },
   "outputs": [
    {
     "name": "stdout",
     "output_type": "stream",
     "text": [
      "c !\n",
      "b world\n",
      "a hello\n"
     ]
    }
   ],
   "source": [
    "for key in (d.keys()):\n",
    "    print(key, d[key])"
   ]
  },
  {
   "cell_type": "markdown",
   "metadata": {},
   "source": [
    "## 3.2.4 딕셔너리 분기"
   ]
  },
  {
   "cell_type": "markdown",
   "metadata": {},
   "source": [
    "다음 두 함수를 조건에 따라 실행해야 한다고 가정해보자."
   ]
  },
  {
   "cell_type": "code",
   "execution_count": 47,
   "metadata": {
    "ExecuteTime": {
     "end_time": "2021-09-20T14:56:45.400457Z",
     "start_time": "2021-09-20T14:56:45.386443Z"
    }
   },
   "outputs": [],
   "source": [
    "def hello():\n",
    "    print('hello')\n",
    "\n",
    "def world():\n",
    "    print('world')"
   ]
  },
  {
   "cell_type": "markdown",
   "metadata": {},
   "source": [
    "이럴 때 우리는 보통 if문을 사용하여 다음과 같이 분기문을 작성한다. "
   ]
  },
  {
   "cell_type": "code",
   "execution_count": 48,
   "metadata": {
    "ExecuteTime": {
     "end_time": "2021-09-20T14:56:45.415471Z",
     "start_time": "2021-09-20T14:56:45.401458Z"
    }
   },
   "outputs": [
    {
     "name": "stdout",
     "output_type": "stream",
     "text": [
      "hello\n"
     ]
    }
   ],
   "source": [
    "action = 'h'\n",
    "\n",
    "if action =='h':\n",
    "    hello()\n",
    "elif action =='w':\n",
    "    world()"
   ]
  },
  {
   "cell_type": "markdown",
   "metadata": {},
   "source": [
    "하지만 딕셔너리를 사용하면 다음과 같이 더 효율적으로 분기 할수 있다. "
   ]
  },
  {
   "cell_type": "code",
   "execution_count": 49,
   "metadata": {
    "ExecuteTime": {
     "end_time": "2021-09-20T14:56:45.430484Z",
     "start_time": "2021-09-20T14:56:45.416472Z"
    }
   },
   "outputs": [
    {
     "name": "stdout",
     "output_type": "stream",
     "text": [
      "hello\n"
     ]
    }
   ],
   "source": [
    "functions = dict(h=hello, w=world)\n",
    "functions[action]()"
   ]
  },
  {
   "cell_type": "markdown",
   "metadata": {},
   "source": [
    "# 3.3 파이썬 컬렉션 데이터 타입"
   ]
  },
  {
   "cell_type": "markdown",
   "metadata": {},
   "source": [
    "피이썬의 collections 모듈은 다양한 딕셔너리 타입을 제공한다. 범용의 내장 기능보다 더 강력한 성능을 보인다. "
   ]
  },
  {
   "cell_type": "markdown",
   "metadata": {},
   "source": [
    "## 3.3.1 기본 딕셔너리"
   ]
  },
  {
   "cell_type": "markdown",
   "metadata": {},
   "source": [
    "**기본 딕셔너리**default dictionary는 `collections.defaultdict` 모듈에서 제공하는 추가 딕셔너리 타입이다. "
   ]
  },
  {
   "cell_type": "markdown",
   "metadata": {},
   "source": [
    "`defaultdict`는 내장 딕셔너리의 모든 연산자와 메서드를 사용할 수 있고, 추가로 다음 코드와 같이 누락된 키도 처리할 수 있다."
   ]
  },
  {
   "cell_type": "code",
   "execution_count": 50,
   "metadata": {
    "ExecuteTime": {
     "end_time": "2021-09-20T14:56:45.445499Z",
     "start_time": "2021-09-20T14:56:45.431483Z"
    }
   },
   "outputs": [],
   "source": [
    "from collections import defaultdict\n",
    "\n",
    "def defaultdic_example():\n",
    "    pairs = {('a', 1), ('b', 2), ('c', 3)}\n",
    "    \n",
    "    #일반 딕셔너리\n",
    "    \n",
    "    d1 = {}\n",
    "    for key, value in pairs:\n",
    "        if key not in d1:\n",
    "            d1[key] = []\n",
    "            \n",
    "        d1[key].append(value)\n",
    "    print(d1)\n",
    "    \n",
    "    #defaultdict\n",
    "    d2 = defaultdict(list)\n",
    "    for key, value in pairs:\n",
    "        d2[key].append(value)\n",
    "    print(d2)"
   ]
  },
  {
   "cell_type": "code",
   "execution_count": 51,
   "metadata": {
    "ExecuteTime": {
     "end_time": "2021-09-20T14:56:45.460512Z",
     "start_time": "2021-09-20T14:56:45.446497Z"
    }
   },
   "outputs": [
    {
     "name": "stdout",
     "output_type": "stream",
     "text": [
      "{'a': [1], 'c': [3], 'b': [2]}\n",
      "defaultdict(<class 'list'>, {'a': [1], 'c': [3], 'b': [2]})\n"
     ]
    }
   ],
   "source": [
    "defaultdic_example()"
   ]
  },
  {
   "cell_type": "markdown",
   "metadata": {},
   "source": [
    "## 3.3.2 정렬된 딕셔너리"
   ]
  },
  {
   "cell_type": "markdown",
   "metadata": {},
   "source": [
    "**정렬된 딕셔너리**ordered dictionary는 `collections.OrderedDict` 모듈에서 제공하는 정렬된 딕셔너리 타입이다. "
   ]
  },
  {
   "cell_type": "markdown",
   "metadata": {},
   "source": [
    "`OrderDict` 역시 내장 딕셔너리의 모든 메서드와 속성을 가지고 있고, 추가로 삽입 순서대로 항목을 저장한다. "
   ]
  },
  {
   "cell_type": "code",
   "execution_count": 52,
   "metadata": {
    "ExecuteTime": {
     "end_time": "2021-09-20T14:56:45.475527Z",
     "start_time": "2021-09-20T14:56:45.461513Z"
    }
   },
   "outputs": [],
   "source": [
    "from collections import OrderedDict\n",
    "\n",
    "def orderdict_example():\n",
    "    pairs = {('a', 1), ('b', 2), ('c', 3)}\n",
    "    \n",
    "    #일반 딕셔너리\n",
    "    \n",
    "    d1 = {}\n",
    "    for key, value in pairs:\n",
    "        if key not in d1:\n",
    "            d1[key] = []\n",
    "            \n",
    "        d1[key].append(value)\n",
    "    \n",
    "    for key in d1:\n",
    "        print(key, d1[key])\n",
    "        \n",
    "    #OrderDict\n",
    "    d2 = OrderedDict(pairs)\n",
    "    for key in d2:\n",
    "        print(key, d2[key])"
   ]
  },
  {
   "cell_type": "code",
   "execution_count": 53,
   "metadata": {
    "ExecuteTime": {
     "end_time": "2021-09-20T14:56:45.490539Z",
     "start_time": "2021-09-20T14:56:45.476525Z"
    }
   },
   "outputs": [
    {
     "name": "stdout",
     "output_type": "stream",
     "text": [
      "a [1]\n",
      "c [3]\n",
      "b [2]\n",
      "a 1\n",
      "c 3\n",
      "b 2\n"
     ]
    }
   ],
   "source": [
    "orderdict_example()"
   ]
  },
  {
   "cell_type": "markdown",
   "metadata": {},
   "source": [
    "파이선 기본 딕셔너리도 삽입 순서를 기억한다. ㅠㅠ"
   ]
  },
  {
   "cell_type": "markdown",
   "metadata": {},
   "source": [
    "## 3.3.3 카운터 딕셔너리"
   ]
  },
  {
   "cell_type": "markdown",
   "metadata": {},
   "source": [
    "**카운터**counter 타입은 해시 가능한 hashable 객체를 카운팅 하는 특화된 서브 클래스다. `collections.Counter` 모듈에서 제공한다."
   ]
  },
  {
   "cell_type": "code",
   "execution_count": 54,
   "metadata": {
    "ExecuteTime": {
     "end_time": "2021-09-20T14:56:45.505554Z",
     "start_time": "2021-09-20T14:56:45.491539Z"
    }
   },
   "outputs": [
    {
     "name": "stdout",
     "output_type": "stream",
     "text": [
      "Counter({2: 4, 3: 4, 1: 3, 4: 2, 5: 1, 6: 1})\n"
     ]
    }
   ],
   "source": [
    "from collections import Counter\n",
    "\n",
    "seq1 = [1, 2, 3, 4, 5, 6, 1, 2, 3, 4, 1, 2, 2, 3, 3]\n",
    "seq1_counts = Counter(seq1)\n",
    "print(seq1_counts)"
   ]
  },
  {
   "cell_type": "code",
   "execution_count": 55,
   "metadata": {
    "ExecuteTime": {
     "end_time": "2021-09-20T14:56:45.520566Z",
     "start_time": "2021-09-20T14:56:45.506554Z"
    }
   },
   "outputs": [
    {
     "name": "stdout",
     "output_type": "stream",
     "text": [
      "Counter({1: 2, 2: 2, 3: 2})\n"
     ]
    }
   ],
   "source": [
    "seq2 = [1, 2, 3, 1, 2, 3]\n",
    "seq2_counts = Counter(seq2)\n",
    "print(seq2_counts)"
   ]
  },
  {
   "cell_type": "markdown",
   "metadata": {},
   "source": [
    "`update()` 메서드 사용 가능"
   ]
  },
  {
   "cell_type": "code",
   "execution_count": 56,
   "metadata": {
    "ExecuteTime": {
     "end_time": "2021-09-20T14:56:45.535581Z",
     "start_time": "2021-09-20T14:56:45.521567Z"
    }
   },
   "outputs": [
    {
     "data": {
      "text/plain": [
       "Counter({1: 3, 2: 4, 3: 4, 4: 2, 5: 1, 6: 1, 'a': 1})"
      ]
     },
     "execution_count": 56,
     "metadata": {},
     "output_type": "execute_result"
    }
   ],
   "source": [
    "seq3 = ['a']\n",
    "seq1_counts.update(seq3)\n",
    "seq1_counts"
   ]
  },
  {
   "cell_type": "markdown",
   "metadata": {},
   "source": [
    " `Counter`객체 끼리 `-,=`연산이 가능하다. "
   ]
  },
  {
   "cell_type": "code",
   "execution_count": 57,
   "metadata": {
    "ExecuteTime": {
     "end_time": "2021-09-20T14:56:45.550593Z",
     "start_time": "2021-09-20T14:56:45.536581Z"
    }
   },
   "outputs": [
    {
     "data": {
      "text/plain": [
       "Counter({1: 5, 2: 6, 3: 6, 4: 2, 5: 1, 6: 1, 'a': 1})"
      ]
     },
     "execution_count": 57,
     "metadata": {},
     "output_type": "execute_result"
    }
   ],
   "source": [
    "seq1_counts+seq2_counts"
   ]
  },
  {
   "cell_type": "markdown",
   "metadata": {},
   "source": [
    "`sorted` 메서드와 `dictionry` 의 `keys()`,`items()`,`values()`를 활용 하면 원하는 대로 정렬 할수도 있다. "
   ]
  },
  {
   "cell_type": "code",
   "execution_count": 60,
   "metadata": {
    "ExecuteTime": {
     "end_time": "2021-09-20T15:02:56.898953Z",
     "start_time": "2021-09-20T15:02:56.884940Z"
    }
   },
   "outputs": [],
   "source": [
    "seq = [1, 2, 3, 4, 5, 6, 1, 2, 3, 4, 1, 2, 2, 3, 3]\n",
    "seq_counts = Counter(seq1)"
   ]
  },
  {
   "cell_type": "code",
   "execution_count": 61,
   "metadata": {
    "ExecuteTime": {
     "end_time": "2021-09-20T15:02:56.913969Z",
     "start_time": "2021-09-20T15:02:56.899952Z"
    }
   },
   "outputs": [
    {
     "name": "stdout",
     "output_type": "stream",
     "text": [
      "1 : 3\n",
      "2 : 4\n",
      "3 : 4\n",
      "4 : 2\n",
      "5 : 1\n",
      "6 : 1\n"
     ]
    }
   ],
   "source": [
    "for i in sorted(seq_counts.keys()):\n",
    "    print(i,':', seq_counts[i])"
   ]
  },
  {
   "cell_type": "code",
   "execution_count": 62,
   "metadata": {
    "ExecuteTime": {
     "end_time": "2021-09-20T15:02:56.929492Z",
     "start_time": "2021-09-20T15:02:56.914485Z"
    }
   },
   "outputs": [
    {
     "name": "stdout",
     "output_type": "stream",
     "text": [
      "(1, 3)\n",
      "(2, 4)\n",
      "(3, 4)\n",
      "(4, 2)\n",
      "(5, 1)\n",
      "(6, 1)\n"
     ]
    }
   ],
   "source": [
    "for i in sorted(seq_counts.items()):\n",
    "    print(i)"
   ]
  },
  {
   "cell_type": "code",
   "execution_count": 63,
   "metadata": {
    "ExecuteTime": {
     "end_time": "2021-09-20T15:02:56.944506Z",
     "start_time": "2021-09-20T15:02:56.930491Z"
    }
   },
   "outputs": [
    {
     "name": "stdout",
     "output_type": "stream",
     "text": [
      "5 : 1\n",
      "6 : 1\n",
      "4 : 2\n",
      "1 : 3\n",
      "2 : 4\n",
      "3 : 4\n"
     ]
    }
   ],
   "source": [
    "for i, j in sorted(seq_counts.items(), key= lambda item : item[1]):\n",
    "    print(i,':', seq_counts[i])"
   ]
  },
  {
   "cell_type": "code",
   "execution_count": 64,
   "metadata": {
    "ExecuteTime": {
     "end_time": "2021-09-20T15:02:56.959518Z",
     "start_time": "2021-09-20T15:02:56.945507Z"
    }
   },
   "outputs": [
    {
     "name": "stdout",
     "output_type": "stream",
     "text": [
      "2 : 4\n",
      "3 : 4\n",
      "1 : 3\n",
      "4 : 2\n",
      "5 : 1\n",
      "6 : 1\n"
     ]
    }
   ],
   "source": [
    "for i, j in sorted(seq_counts.items(), key= lambda item : item[1], reverse=True):\n",
    "    print(i,':', j)"
   ]
  },
  {
   "cell_type": "markdown",
   "metadata": {},
   "source": [
    "# 3.4 연습문제"
   ]
  },
  {
   "cell_type": "markdown",
   "metadata": {},
   "source": [
    "## 3.4.1 단어 횟수 세기"
   ]
  },
  {
   "cell_type": "markdown",
   "metadata": {},
   "source": [
    "`collections.Counter`의 most_common() 메서드를 사용하면 문자열에서 가장 많이 나오는 단어와 그 횟수를 쉽게 찾을 수 있다. "
   ]
  },
  {
   "cell_type": "code",
   "execution_count": 65,
   "metadata": {
    "ExecuteTime": {
     "end_time": "2021-09-20T15:02:56.974534Z",
     "start_time": "2021-09-20T15:02:56.960519Z"
    }
   },
   "outputs": [],
   "source": [
    "from collections import Counter\n",
    "\n",
    "def find_top_N_recurring_words(seq, N):\n",
    "    dcounter = Counter()\n",
    "    for word in seq.split():\n",
    "        dcounter[word] += 1\n",
    "    return dcounter.most_common(N)"
   ]
  },
  {
   "cell_type": "code",
   "execution_count": 66,
   "metadata": {
    "ExecuteTime": {
     "end_time": "2021-09-20T15:02:56.989546Z",
     "start_time": "2021-09-20T15:02:56.975533Z"
    }
   },
   "outputs": [
    {
     "data": {
      "text/plain": [
       "[('a', 4), ('d', 3), ('b', 2)]"
      ]
     },
     "execution_count": 66,
     "metadata": {},
     "output_type": "execute_result"
    }
   ],
   "source": [
    "seq = ' a a a a b b  c  d d d'\n",
    "N = 3\n",
    "\n",
    "find_top_N_recurring_words(seq, N)"
   ]
  },
  {
   "cell_type": "markdown",
   "metadata": {},
   "source": [
    "## 3.4.2 애너그램"
   ]
  },
  {
   "cell_type": "markdown",
   "metadata": {},
   "source": [
    "애너그램<sub>anagram</sub> 은 문장 또는 단어의 철자 순서를 바꾸는 놀이를 말한다. "
   ]
  },
  {
   "cell_type": "markdown",
   "metadata": {},
   "source": [
    "셋은 항목의 발생 횟수를 계산하지 않고, 리스트의 항목을 정렬하는 시간복잡도는 최소 $O(n \\log {n} )$ 이다. 따라서 애너그램을 확인하는 데 딕셔너리를 사용하는 것은 좋은 해결책이 될수 있다. "
   ]
  },
  {
   "cell_type": "code",
   "execution_count": 67,
   "metadata": {
    "ExecuteTime": {
     "end_time": "2021-09-20T15:02:57.004560Z",
     "start_time": "2021-09-20T15:02:56.990548Z"
    }
   },
   "outputs": [],
   "source": [
    "from collections import Counter\n",
    "\n",
    "def is_anagram(s1, s2):\n",
    "    counter = Counter()\n",
    "    for c in s1:\n",
    "        counter[c] += 1\n",
    "    for c in s2:\n",
    "        counter[c] -= 1\n",
    "        \n",
    "    for i in counter.values():\n",
    "        if i:\n",
    "            return False\n",
    "    return True"
   ]
  },
  {
   "cell_type": "code",
   "execution_count": 68,
   "metadata": {
    "ExecuteTime": {
     "end_time": "2021-09-20T15:02:57.019580Z",
     "start_time": "2021-09-20T15:02:57.005560Z"
    }
   },
   "outputs": [
    {
     "data": {
      "text/plain": [
       "True"
      ]
     },
     "execution_count": 68,
     "metadata": {},
     "output_type": "execute_result"
    }
   ],
   "source": [
    "s1 = 'marian'\n",
    "s2 = 'aniram'\n",
    "\n",
    "is_anagram(s1, s2)"
   ]
  },
  {
   "cell_type": "code",
   "execution_count": 69,
   "metadata": {
    "ExecuteTime": {
     "end_time": "2021-09-20T15:02:57.034593Z",
     "start_time": "2021-09-20T15:02:57.021580Z"
    }
   },
   "outputs": [
    {
     "data": {
      "text/plain": [
       "False"
      ]
     },
     "execution_count": 69,
     "metadata": {},
     "output_type": "execute_result"
    }
   ],
   "source": [
    "s1 = 'google'\n",
    "s2 = 'ogluer'\n",
    "\n",
    "is_anagram(s1, s2)"
   ]
  },
  {
   "cell_type": "markdown",
   "metadata": {},
   "source": [
    "해시 함수의 속성을 이용.  \n",
    "\n",
    "`ord()` 함수는 인수가 유니코드 객체일 때, 문자의 유니코드를 나타내는 정수를 반환한다. 인수가 8비트 문자열인 경우 바이트 값을 반환다.   \n",
    "\n",
    "문자열에서 모든 문자의 ord() 함수 결과를 더했을 때 그 결과가 같으면, 두 문자열은 애너 그램이다. "
   ]
  },
  {
   "cell_type": "code",
   "execution_count": 70,
   "metadata": {
    "ExecuteTime": {
     "end_time": "2021-09-20T15:02:57.049607Z",
     "start_time": "2021-09-20T15:02:57.035593Z"
    }
   },
   "outputs": [],
   "source": [
    "import string\n",
    "\n",
    "def hash_func(astring):\n",
    "    s = 0 \n",
    "    for one in astring:\n",
    "        if one in string.whitespace:\n",
    "            continue\n",
    "        s = s + ord(one)\n",
    "    return s"
   ]
  },
  {
   "cell_type": "code",
   "execution_count": 71,
   "metadata": {
    "ExecuteTime": {
     "end_time": "2021-09-20T15:02:57.064621Z",
     "start_time": "2021-09-20T15:02:57.050607Z"
    }
   },
   "outputs": [],
   "source": [
    "def is_anagram_hash(word1, word2):\n",
    "    return hash_func(word1) == hash_func(word2)"
   ]
  },
  {
   "cell_type": "code",
   "execution_count": 72,
   "metadata": {
    "ExecuteTime": {
     "end_time": "2021-09-20T15:02:57.079633Z",
     "start_time": "2021-09-20T15:02:57.065621Z"
    }
   },
   "outputs": [
    {
     "data": {
      "text/plain": [
       "(True, False)"
      ]
     },
     "execution_count": 72,
     "metadata": {},
     "output_type": "execute_result"
    }
   ],
   "source": [
    "word1 = 'buffy'\n",
    "word2 = 'bffyu'\n",
    "word3 = 'bffya'\n",
    "\n",
    "is_anagram_hash(word1, word2), is_anagram_hash(word2, word3)"
   ]
  },
  {
   "cell_type": "markdown",
   "metadata": {},
   "source": [
    "`ord()` 방식은 아래와 같은 반례가 있어서 범용적으로 쓰기에는 다소 무리가 있다. "
   ]
  },
  {
   "cell_type": "code",
   "execution_count": 73,
   "metadata": {
    "ExecuteTime": {
     "end_time": "2021-09-20T15:02:57.094648Z",
     "start_time": "2021-09-20T15:02:57.080636Z"
    }
   },
   "outputs": [
    {
     "data": {
      "text/plain": [
       "294"
      ]
     },
     "execution_count": 73,
     "metadata": {},
     "output_type": "execute_result"
    }
   ],
   "source": [
    "ord('a')+ord('b')+ord('c')"
   ]
  },
  {
   "cell_type": "code",
   "execution_count": 74,
   "metadata": {
    "ExecuteTime": {
     "end_time": "2021-09-20T15:02:57.109662Z",
     "start_time": "2021-09-20T15:02:57.095648Z"
    },
    "scrolled": true
   },
   "outputs": [
    {
     "data": {
      "text/plain": [
       "294"
      ]
     },
     "execution_count": 74,
     "metadata": {},
     "output_type": "execute_result"
    }
   ],
   "source": [
    "ord('b')+ord('b')+ord('b')"
   ]
  },
  {
   "cell_type": "code",
   "execution_count": 75,
   "metadata": {
    "ExecuteTime": {
     "end_time": "2021-09-20T15:02:57.125083Z",
     "start_time": "2021-09-20T15:02:57.110661Z"
    }
   },
   "outputs": [
    {
     "data": {
      "text/plain": [
       "True"
      ]
     },
     "execution_count": 75,
     "metadata": {},
     "output_type": "execute_result"
    }
   ],
   "source": [
    "is_anagram_hash('abc', 'bbb')"
   ]
  },
  {
   "cell_type": "markdown",
   "metadata": {},
   "source": [
    "아래와 같이 중복된 값에 가중치를 줌으로서 해결할수 있다. "
   ]
  },
  {
   "cell_type": "code",
   "execution_count": 76,
   "metadata": {
    "ExecuteTime": {
     "end_time": "2021-09-20T15:02:57.140096Z",
     "start_time": "2021-09-20T15:02:57.126082Z"
    }
   },
   "outputs": [],
   "source": [
    "import string\n",
    "\n",
    "def hash_func(astring):\n",
    "    s = 0 \n",
    "    d = {}\n",
    "    for one in astring:\n",
    "        if one not in d.keys():\n",
    "            d[one] = 1\n",
    "        else:\n",
    "            d[one] += 1\n",
    "        if one in string.whitespace:\n",
    "            continue\n",
    "        n = d[one]\n",
    "        s = s + ord(one)* n\n",
    "    return s"
   ]
  },
  {
   "cell_type": "code",
   "execution_count": 77,
   "metadata": {
    "ExecuteTime": {
     "end_time": "2021-09-20T15:02:57.155110Z",
     "start_time": "2021-09-20T15:02:57.141096Z"
    }
   },
   "outputs": [],
   "source": [
    "def is_anagram_hash(word1, word2):\n",
    "    return hash_func(word1) == hash_func(word2)"
   ]
  },
  {
   "cell_type": "code",
   "execution_count": 78,
   "metadata": {
    "ExecuteTime": {
     "end_time": "2021-09-20T15:02:57.170123Z",
     "start_time": "2021-09-20T15:02:57.156110Z"
    }
   },
   "outputs": [
    {
     "data": {
      "text/plain": [
       "False"
      ]
     },
     "execution_count": 78,
     "metadata": {},
     "output_type": "execute_result"
    }
   ],
   "source": [
    "is_anagram_hash('abc', 'bbb')"
   ]
  },
  {
   "cell_type": "markdown",
   "metadata": {},
   "source": [
    "## 3.4.3 주사위 합계 경로"
   ]
  },
  {
   "cell_type": "code",
   "execution_count": 79,
   "metadata": {
    "ExecuteTime": {
     "end_time": "2021-09-20T15:02:57.185137Z",
     "start_time": "2021-09-20T15:02:57.171123Z"
    }
   },
   "outputs": [],
   "source": [
    "from collections import Counter, defaultdict\n",
    "\n",
    "def find_dice_prob(S, n_face=6):\n",
    "    if S > 2 * n_face or S < 2:\n",
    "        return None\n",
    "    \n",
    "    cdict = Counter()\n",
    "    ddict = defaultdict(list)\n",
    "    \n",
    "    # 두 주사위의 합과 경우의 수를 모드 더해서 딕셔너리에 넣는다. \n",
    "    for dice1 in range(1, n_face+1):\n",
    "        for dice2 in range(1, n_face+1):\n",
    "            t = [dice1, dice2]\n",
    "            cdict[dice1+dice2] += 1\n",
    "            ddict[dice1+dice2].append(t)\n",
    "            \n",
    "    return [cdict[S], ddict[S]]"
   ]
  },
  {
   "cell_type": "code",
   "execution_count": 80,
   "metadata": {
    "ExecuteTime": {
     "end_time": "2021-09-20T15:02:57.200151Z",
     "start_time": "2021-09-20T15:02:57.186137Z"
    }
   },
   "outputs": [
    {
     "data": {
      "text/plain": [
       "[4, [[1, 4], [2, 3], [3, 2], [4, 1]]]"
      ]
     },
     "execution_count": 80,
     "metadata": {},
     "output_type": "execute_result"
    }
   ],
   "source": [
    "find_dice_prob(5,6)"
   ]
  },
  {
   "cell_type": "markdown",
   "metadata": {},
   "source": [
    "## 3.4.4 단어의 중복 문제"
   ]
  },
  {
   "cell_type": "markdown",
   "metadata": {},
   "source": [
    "딕셔너리를 사용하여 단어에 중복되는 문자를 모드 찾아서 제거해보자. "
   ]
  },
  {
   "cell_type": "code",
   "execution_count": 81,
   "metadata": {
    "ExecuteTime": {
     "end_time": "2021-09-20T15:02:57.215163Z",
     "start_time": "2021-09-20T15:02:57.201151Z"
    }
   },
   "outputs": [],
   "source": [
    "import string \n",
    "\n",
    "def delete_unique_word(str1):\n",
    "    table_c = {key: 0 for key in string.ascii_lowercase}\n",
    "    \n",
    "    for i in str1:\n",
    "        table_c[i] += 1\n",
    "    for key, value in table_c.items():\n",
    "        if value >1 :\n",
    "            str1 = str1.replace(key, \"\")\n",
    "    return str1\n",
    "                "
   ]
  },
  {
   "cell_type": "code",
   "execution_count": 82,
   "metadata": {
    "ExecuteTime": {
     "end_time": "2021-09-20T15:02:57.230178Z",
     "start_time": "2021-09-20T15:02:57.216165Z"
    }
   },
   "outputs": [
    {
     "data": {
      "text/plain": [
       "'le'"
      ]
     },
     "execution_count": 82,
     "metadata": {},
     "output_type": "execute_result"
    }
   ],
   "source": [
    "str1 = 'google'\n",
    "\n",
    "delete_unique_word(str1)"
   ]
  },
  {
   "cell_type": "markdown",
   "metadata": {},
   "source": [
    "**Reference**\n",
    "\n",
    "* <a href='https://github.com/SeWonKwon' ><div> <img src ='https://slid-capture.s3.ap-northeast-2.amazonaws.com/public/image_upload/6556674324ed41a289a354258718280d/964e5a8b-75ad-41fc-ae75-0ca66d06fbc7.png' align='left' /> </div></a>\n",
    "\n",
    "<br>\n",
    "\n",
    "* [파이썬 자료구조와 알고리즘, 미아 스타인](https://github.com/AstinCHOI/Python-and-Algorithms-and-Data-Structures)"
   ]
  }
 ],
 "metadata": {
  "kernelspec": {
   "display_name": "Python 3 (ipykernel)",
   "language": "python",
   "name": "python3"
  },
  "language_info": {
   "codemirror_mode": {
    "name": "ipython",
    "version": 3
   },
   "file_extension": ".py",
   "mimetype": "text/x-python",
   "name": "python",
   "nbconvert_exporter": "python",
   "pygments_lexer": "ipython3",
   "version": "3.8.11"
  },
  "toc": {
   "base_numbering": 1,
   "nav_menu": {},
   "number_sections": true,
   "sideBar": true,
   "skip_h1_title": false,
   "title_cell": "Table of Contents",
   "title_sidebar": "Contents",
   "toc_cell": false,
   "toc_position": {},
   "toc_section_display": true,
   "toc_window_display": false
  }
 },
 "nbformat": 4,
 "nbformat_minor": 4
}
