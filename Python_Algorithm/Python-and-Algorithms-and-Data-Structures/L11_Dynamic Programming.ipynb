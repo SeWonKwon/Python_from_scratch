{
 "cells": [
  {
   "cell_type": "markdown",
   "id": "126e3589",
   "metadata": {},
   "source": [
    "<a href='https://github.com/SeWonKwon' ><div> <img src ='https://slid-capture.s3.ap-northeast-2.amazonaws.com/public/image_upload/6556674324ed41a289a354258718280d/964e5a8b-75ad-41fc-ae75-0ca66d06fbc7.png' align='left' /> </div></a>\n"
   ]
  },
  {
   "cell_type": "markdown",
   "id": "5ec9816a",
   "metadata": {},
   "source": [
    "###### Ch. 11 동적 계획법(Dynamic Programming)"
   ]
  },
  {
   "cell_type": "markdown",
   "id": "4cd60b38",
   "metadata": {},
   "source": [
    "**동적 계획법**<sub>dynamic programming</sub>이란?<br>\n",
    "\n",
    "복잡한 문제를 재귀를 통해 간단한 하위 문제로 분류하여 단순화하여 해결하는 방법."
   ]
  },
  {
   "cell_type": "markdown",
   "id": "98880c11",
   "metadata": {},
   "source": [
    "어떤 문제가 **최적 부분 구조**<sub>optimal substructure</sub>와 **중복되는 부분 문제**<sub>overlapping subproblem</sub>를 가지고 있다면, 동적 계획법으로 해결 할 수 있다. "
   ]
  },
  {
   "cell_type": "markdown",
   "id": "6ff90c54",
   "metadata": {},
   "source": [
    "* 최적 부분 구조 : 답을 구하기 위해서 했던 계산을 반복해야 하는 문제의 구조\n",
    "\n",
    "* 동적 계획법을 사용하려면, 먼저 최적 부분 구조가 있는지 확인해야 한다. 동적 계획법은 부분 문제를 풀고 결과를 저장한 후, 다음 부분 문제(중복되는 부분 문제)를 푸는 과정에서 저장된 결과를 사용한다.  "
   ]
  },
  {
   "cell_type": "markdown",
   "id": "faaf3f2f",
   "metadata": {},
   "source": [
    "# 메모제이션"
   ]
  },
  {
   "cell_type": "markdown",
   "id": "816bfebb",
   "metadata": {},
   "source": [
    "**메모이제이션**<sub>memoization</sub> 은 프로그램이 동일한 계산을 반복할 때, 이전에 계산한 값을 메모리에 저장하여 동일한 계산의 반복 수행을 제거하여 프로그램의 실행 속도를 빠르게 하는 기법이다. (동적 계획법의 핵심)"
   ]
  },
  {
   "cell_type": "markdown",
   "id": "8fe3dfa6",
   "metadata": {},
   "source": [
    "## 피보나치 수열 "
   ]
  },
  {
   "cell_type": "markdown",
   "id": "9cc42a3b",
   "metadata": {},
   "source": [
    "메몽이제이션 사용 여부에 따른 속도 차이를 보기 위해 함수를 세가지 버전으로 작성해보자. "
   ]
  },
  {
   "cell_type": "code",
   "execution_count": 1,
   "id": "02fb56f8",
   "metadata": {
    "ExecuteTime": {
     "end_time": "2021-08-05T04:17:23.508913Z",
     "start_time": "2021-08-05T04:17:23.501907Z"
    }
   },
   "outputs": [],
   "source": [
    "from functools import wraps\n",
    "import time\n",
    "\n",
    "\n",
    "def benchmark(method):\n",
    "    @wraps(method)\n",
    "    def timed(*args, **kw):\n",
    "        ts = time.time()\n",
    "        result = method(*args, **kw)\n",
    "        te = time.time()\n",
    "        # print(\"%r: %2.2f ms\" % (method.__name__, (te - ts) * 1000))\n",
    "        # print(f\"{method.__name__}: {((te-ts)*1000):.2f} ms\")\n",
    "        print(\"{0}: {1:0.2f} ms\".format(method.__name__, ((te-ts)*1000)))\n",
    "        return result\n",
    "\n",
    "    return timed"
   ]
  },
  {
   "cell_type": "code",
   "execution_count": 2,
   "id": "42716586",
   "metadata": {
    "ExecuteTime": {
     "end_time": "2021-08-05T04:17:23.523926Z",
     "start_time": "2021-08-05T04:17:23.509913Z"
    }
   },
   "outputs": [],
   "source": [
    "from functools import wraps\n",
    "\n",
    "def memo(func):\n",
    "    cache = {}\n",
    "    @wraps(func)\n",
    "    def wrap(*args):\n",
    "        if args not in cache:\n",
    "            cache[args] = func(*args)\n",
    "        return cache[args]\n",
    "    return wrap\n",
    "\n",
    "def fib(n):\n",
    "    if n < 2:\n",
    "        return 1\n",
    "    \n",
    "    else:\n",
    "        return fib(n-1) + fib(n-2)\n",
    "    \n",
    "\n",
    "@memo\n",
    "def fib2(n):\n",
    "    if n < 2:\n",
    "        return 1\n",
    "    \n",
    "    else:\n",
    "        return fib2(n-1) + fib2(n-2)\n",
    "    \n",
    "    \n",
    "def fib3(m, n):\n",
    "    if m[n] == 0:\n",
    "        m[n] = fib3(m, n-1) + fib3(m, n-2)\n",
    "    return m[n]"
   ]
  },
  {
   "cell_type": "code",
   "execution_count": 3,
   "id": "d59678f3",
   "metadata": {
    "ExecuteTime": {
     "end_time": "2021-08-05T04:17:23.538567Z",
     "start_time": "2021-08-05T04:17:23.524926Z"
    }
   },
   "outputs": [],
   "source": [
    "@benchmark\n",
    "def test_fib(n):\n",
    "    print(fib(n))\n",
    "\n",
    "@benchmark\n",
    "def test_fib2(n):\n",
    "    print(fib2(n))\n",
    "    \n",
    "@benchmark\n",
    "def test_fib3(n):\n",
    "    m = [0] * (n + 1)\n",
    "    m[0], m[1] = 1, 1\n",
    "    print(fib3(m, n))\n"
   ]
  },
  {
   "cell_type": "code",
   "execution_count": 4,
   "id": "dde6a4b8",
   "metadata": {
    "ExecuteTime": {
     "end_time": "2021-08-05T04:17:25.581424Z",
     "start_time": "2021-08-05T04:17:23.539567Z"
    },
    "scrolled": true
   },
   "outputs": [
    {
     "name": "stdout",
     "output_type": "stream",
     "text": [
      "14930352\n",
      "test_fib: 2032.85 ms\n",
      "14930352\n",
      "test_fib2: 0.00 ms\n",
      "14930352\n",
      "test_fib3: 0.00 ms\n"
     ]
    }
   ],
   "source": [
    "n = 35\n",
    "test_fib(n)\n",
    "test_fib2(n)\n",
    "test_fib3(n)\n"
   ]
  },
  {
   "cell_type": "markdown",
   "id": "18631106",
   "metadata": {},
   "source": [
    "메모이제이션을 사용하면 다음 그림과 같이 반복을 줄일수 있다. \n",
    "<img src='https://slid-capture.s3.ap-northeast-2.amazonaws.com/public/image_upload/d4954708fd8f4731a091c75bea2b2ea7/742bb2c9-f23e-4352-bd2b-cfb0f8c67e67.png' width='400' />"
   ]
  },
  {
   "cell_type": "markdown",
   "id": "71313e08",
   "metadata": {},
   "source": [
    "**Note_**데커레이터 함수에 @wraps를 사용하는 경우와 사용하지 않는 경우 결과 차이는 없지만, 데커레이터를 사용하는 함수의 `__name__`과 `__doc__` 값은 차이가 있다. 파이썬 코드에서 데커레이터를 사용한다면, 디버깅을 위해서 functools.wraps 모듈을 사용한다. 다음 코드로 functools.wraps 사용법을 이해해 보자. 스택 오버 플로에 있는 코드를 참조했다. "
   ]
  },
  {
   "cell_type": "code",
   "execution_count": 5,
   "id": "144a0b7e",
   "metadata": {
    "ExecuteTime": {
     "end_time": "2021-08-05T04:17:25.596619Z",
     "start_time": "2021-08-05T04:17:25.582426Z"
    }
   },
   "outputs": [
    {
     "name": "stdout",
     "output_type": "stream",
     "text": [
      "f 호출\n",
      "결과: 30\n",
      "__name__: with_logging\n",
      "__doc__: with_logging() 함수\n",
      "-----------------------------\n",
      "f2 호출\n",
      "결과: 30\n",
      "__name__: with_logging\n",
      "__doc__: with_logging() 함수\n",
      "-----------------------------\n",
      "f3 호출\n",
      "결과: 30\n",
      "__name__: f3\n",
      "__doc__: 세 번째, wraps와 데커레이터 사용 \n"
     ]
    }
   ],
   "source": [
    "# https://stackoverflow.com/questions/308999/what-does-functools-wraps-do\n",
    "from functools import wraps\n",
    "\n",
    "\n",
    "def logged(func):\n",
    "    def with_logging(*args, **kwargs):\n",
    "        \"\"\"with_logging() 함수\"\"\"\n",
    "        print(func.__name__ + \" 호출\")\n",
    "        return func(*args, **kwargs)\n",
    "    return with_logging\n",
    "\n",
    "\n",
    "@logged\n",
    "def f(x):\n",
    "    \"\"\"첫 번째, 데커레이터 사용 \"\"\"\n",
    "    return x + x * x\n",
    "\n",
    "\n",
    "def f2(x):\n",
    "    \"\"\"두 번째, 데커레이터 사용 X \"\"\"\n",
    "    return x + x * x\n",
    "\n",
    "\n",
    "def logged2(func):\n",
    "    @wraps(func)\n",
    "    def with_logging(*args, **kwargs):\n",
    "        print(func.__name__ + \" 호출\")\n",
    "        return func(*args, **kwargs)\n",
    "    return with_logging\n",
    "\n",
    "\n",
    "@logged2\n",
    "def f3(x):\n",
    "    \"\"\"세 번째, wraps와 데커레이터 사용 \"\"\"\n",
    "    return x + x * x\n",
    "\n",
    "\n",
    "if __name__ == \"__main__\":\n",
    "    print(\"결과: {0}\".format(f(5)))\n",
    "    print(\"__name__: {0}\".format(f.__name__))\n",
    "    print(\"__doc__: {0}\".format(f.__doc__))\n",
    "    print(\"-----------------------------\")\n",
    "    f2 = logged(f2)\n",
    "    print(\"결과: {0}\".format(f2(5)))\n",
    "    print(\"__name__: {0}\".format(f2.__name__))\n",
    "    print(\"__doc__: {0}\".format(f2.__doc__))\n",
    "    print(\"-----------------------------\")\n",
    "    print(\"결과: {0}\".format(f3(5)))\n",
    "    print(\"__name__: {0}\".format(f3.__name__))\n",
    "    print(\"__doc__: {0}\".format(f3.__doc__))"
   ]
  },
  {
   "cell_type": "markdown",
   "id": "813e9c21",
   "metadata": {},
   "source": [
    "# 연습문제"
   ]
  },
  {
   "cell_type": "markdown",
   "id": "40a4734a",
   "metadata": {},
   "source": [
    "## 최장 증가 부분열"
   ]
  },
  {
   "cell_type": "markdown",
   "id": "4c312cda",
   "metadata": {
    "ExecuteTime": {
     "end_time": "2021-08-04T04:53:10.160829Z",
     "start_time": "2021-08-04T04:53:10.147757Z"
    }
   },
   "source": [
    "메모제이션의 또 다른 재미있는 예제는 주어진 리스트에서 **최장 증가 부분열**<sub>longest increasing subsequence</sub> 을 찾는 문제이다. \n",
    "\n",
    "예를 들어 리스트 `[ 94, 8, 78, 22, 38, 79, 93, 8, 84, 39 ]` 가 있다면,\n",
    "\n",
    "[ 94, **8**, 78, **22**, **38**, **79**, **93**, 8, 84, 39 ]<br>\n",
    "[ 94, **8**, 78, **22**, **38**, **79**, 93, 8, **84**, 39 ]\n",
    "<br>\n",
    "\n",
    "두가지 경우가 있다. "
   ]
  },
  {
   "cell_type": "code",
   "execution_count": 6,
   "id": "6ac40dfc",
   "metadata": {
    "ExecuteTime": {
     "end_time": "2021-08-05T04:17:25.612271Z",
     "start_time": "2021-08-05T04:17:25.597623Z"
    }
   },
   "outputs": [],
   "source": [
    "from functools import wraps\n",
    "import time\n",
    "\n",
    "\n",
    "def benchmark(method):\n",
    "    @wraps(method)\n",
    "    def timed(*args, **kw):\n",
    "        ts = time.time()\n",
    "        result = method(*args, **kw)\n",
    "        te = time.time()\n",
    "        # print(\"%r: %2.2f ms\" % (method.__name__, (te - ts) * 1000))\n",
    "        # print(f\"{method.__name__}: {((te-ts)*1000):.2f} ms\")\n",
    "        print(\"{0}: {1} ms\".format(method.__name__, ((te-ts)*1000)))\n",
    "        return result\n",
    "\n",
    "    return timed"
   ]
  },
  {
   "cell_type": "code",
   "execution_count": 7,
   "id": "a204708c",
   "metadata": {
    "ExecuteTime": {
     "end_time": "2021-08-05T04:17:25.627283Z",
     "start_time": "2021-08-05T04:17:25.613271Z"
    }
   },
   "outputs": [],
   "source": [
    "from bisect import bisect\n",
    "from itertools import combinations\n",
    "from functools import wraps"
   ]
  },
  {
   "cell_type": "markdown",
   "id": "c106ba34",
   "metadata": {
    "ExecuteTime": {
     "end_time": "2021-08-04T05:17:38.578068Z",
     "start_time": "2021-08-04T05:17:38.572063Z"
    }
   },
   "source": [
    "### 단순한 방법"
   ]
  },
  {
   "cell_type": "code",
   "execution_count": 8,
   "id": "c112269e",
   "metadata": {
    "ExecuteTime": {
     "end_time": "2021-08-05T04:17:25.642053Z",
     "start_time": "2021-08-05T04:17:25.628287Z"
    }
   },
   "outputs": [],
   "source": [
    "def naive_logest_inc_subseq(seq):\n",
    "    for length in range(len(seq), 0, -1):\n",
    "        for sub in combinations(seq, length):\n",
    "            if list(sub) == sorted(sub):\n",
    "                return len(sub)"
   ]
  },
  {
   "cell_type": "markdown",
   "id": "15e978c4",
   "metadata": {
    "ExecuteTime": {
     "end_time": "2021-08-04T05:17:38.578068Z",
     "start_time": "2021-08-04T05:17:38.572063Z"
    }
   },
   "source": [
    "### 동적 계획법            "
   ]
  },
  {
   "cell_type": "code",
   "execution_count": 9,
   "id": "9fa2fa0f",
   "metadata": {
    "ExecuteTime": {
     "end_time": "2021-08-05T04:17:25.656712Z",
     "start_time": "2021-08-05T04:17:25.643058Z"
    }
   },
   "outputs": [],
   "source": [
    "def dp_longest_inc_subseq(seq):\n",
    "    L = [1] * len(seq)\n",
    "    res = []\n",
    "    for cur, val in enumerate(seq):\n",
    "        for pre in range(cur):\n",
    "            if seq[pre] <= val:\n",
    "                L[cur] = max(L[cur], 1 + L[pre])\n",
    "                \n",
    "    return max(L)\n",
    "\n",
    "def memo(func):\n",
    "    cache = {}\n",
    "    \n",
    "    @wraps(func)\n",
    "    def wrap(*args):\n",
    "        if args not in cache:\n",
    "            cache[args] = func(*args)\n",
    "        return cache[args]\n",
    "    return wrap"
   ]
  },
  {
   "cell_type": "markdown",
   "id": "789b7e12",
   "metadata": {
    "ExecuteTime": {
     "end_time": "2021-08-04T05:21:22.411320Z",
     "start_time": "2021-08-04T05:21:22.397307Z"
    }
   },
   "source": [
    "### 메모제이션"
   ]
  },
  {
   "cell_type": "code",
   "execution_count": 10,
   "id": "795278eb",
   "metadata": {
    "ExecuteTime": {
     "end_time": "2021-08-05T04:17:25.672071Z",
     "start_time": "2021-08-05T04:17:25.656712Z"
    }
   },
   "outputs": [],
   "source": [
    "def memoized_longest_inc_subseq(seq):\n",
    "    @memo\n",
    "    def L(cur):\n",
    "        res = 1\n",
    "        for pre in range(cur):\n",
    "            if seq[pre] <= seq[cur]:\n",
    "                res = max(res, 1 + L(pre))\n",
    "        return res\n",
    "    return max(L(i) for i in range(len(seq)))"
   ]
  },
  {
   "cell_type": "markdown",
   "id": "4a3b8ca0",
   "metadata": {
    "ExecuteTime": {
     "end_time": "2021-08-04T05:17:38.578068Z",
     "start_time": "2021-08-04T05:17:38.572063Z"
    }
   },
   "source": [
    "### 이진 검색"
   ]
  },
  {
   "cell_type": "code",
   "execution_count": 11,
   "id": "e0e63e42",
   "metadata": {
    "ExecuteTime": {
     "end_time": "2021-08-05T04:17:25.687082Z",
     "start_time": "2021-08-05T04:17:25.672071Z"
    }
   },
   "outputs": [],
   "source": [
    "def longest_inc_bisec(seq):\n",
    "    end = []\n",
    "    for val in seq:\n",
    "        idx = bisect(end, val)\n",
    "        if idx == len(end):\n",
    "            end.append(val)\n",
    "        else:\n",
    "            end[idx] = val\n",
    "#         print(end)\n",
    "    return len(end)"
   ]
  },
  {
   "cell_type": "code",
   "execution_count": 12,
   "id": "2ba15eda",
   "metadata": {
    "ExecuteTime": {
     "end_time": "2021-08-05T04:17:25.702093Z",
     "start_time": "2021-08-05T04:17:25.688082Z"
    }
   },
   "outputs": [],
   "source": [
    "@benchmark\n",
    "def test_naive_logest_inc_subseq():\n",
    "    print(naive_logest_inc_subseq(s1))\n",
    "    \n",
    "@benchmark\n",
    "def test_dp_longest_inc_subseq():\n",
    "    print(dp_longest_inc_subseq(s1))\n",
    "\n",
    "@benchmark\n",
    "def test_memoized_longest_inc_subseq():\n",
    "    print(memoized_longest_inc_subseq(s1))\n",
    "    \n",
    "@benchmark\n",
    "def test_longest_inc_bisec():\n",
    "    print(longest_inc_bisec(s1))"
   ]
  },
  {
   "cell_type": "code",
   "execution_count": 13,
   "id": "93a11ca7",
   "metadata": {
    "ExecuteTime": {
     "end_time": "2021-08-05T04:17:25.717109Z",
     "start_time": "2021-08-05T04:17:25.703095Z"
    },
    "scrolled": false
   },
   "outputs": [
    {
     "name": "stdout",
     "output_type": "stream",
     "text": [
      "5\n",
      "test_naive_logest_inc_subseq: 0.0 ms\n",
      "5\n",
      "test_dp_longest_inc_subseq: 0.0 ms\n",
      "5\n",
      "test_memoized_longest_inc_subseq: 0.0 ms\n",
      "5\n",
      "test_longest_inc_bisec: 0.0 ms\n"
     ]
    }
   ],
   "source": [
    "s1 = [ 94, 8, 78, 22, 38, 79, 93, 8, 84, 39 ]\n",
    "test_naive_logest_inc_subseq()\n",
    "test_dp_longest_inc_subseq()\n",
    "test_memoized_longest_inc_subseq()\n",
    "test_longest_inc_bisec()"
   ]
  },
  {
   "cell_type": "markdown",
   "id": "94ee866f",
   "metadata": {},
   "source": [
    "2.1.2 의 동적 계획법 및 2.1.3 메모제이션의 경우 실행 과정을 그림으로 나타내면 아래와 같다. "
   ]
  },
  {
   "cell_type": "markdown",
   "id": "da45e297",
   "metadata": {},
   "source": [
    "<img src='https://slid-capture.s3.ap-northeast-2.amazonaws.com/public/image_upload/d4954708fd8f4731a091c75bea2b2ea7/7492122d-cc21-4293-8cde-2d48f636c1f0.png' width='600' />"
   ]
  },
  {
   "cell_type": "markdown",
   "id": "ef849331",
   "metadata": {},
   "source": [
    "동정 계획법과 메모이제이션의 차이를 요약하자면, 도표를 그리는 방식(일반적인 동적 계획법의 접근 방식)은 상향식<sub>bottom-up</sub> 이고, 메모이제이션(일반적인 재귀 함수의 호출 방식)은 하향식<sub>top-down</sub>이라는 점이다. "
   ]
  },
  {
   "cell_type": "markdown",
   "id": "831579ab",
   "metadata": {},
   "source": [
    "https://stackoverflow.com/questions/6184869/what-is-the-difference-between-memoization-and-dynamic-programming"
   ]
  },
  {
   "cell_type": "markdown",
   "id": "3fc94716",
   "metadata": {},
   "source": [
    "https://programming.guide/dynamic-programming-vs-memoization-vs-tabulation.html"
   ]
  },
  {
   "cell_type": "markdown",
   "id": "e68b1c01",
   "metadata": {},
   "source": [
    "**Reference**\n",
    "\n",
    "* <a href='https://github.com/SeWonKwon' ><div> <img src ='https://slid-capture.s3.ap-northeast-2.amazonaws.com/public/image_upload/6556674324ed41a289a354258718280d/964e5a8b-75ad-41fc-ae75-0ca66d06fbc7.png' align='left' /> </div></a>\n",
    "\n",
    "<br>\n",
    "\n",
    "* [파이썬 자료구조와 알고리즘, 미아 스타인](https://github.com/AstinCHOI/Python-and-Algorithms-and-Data-Structures)"
   ]
  }
 ],
 "metadata": {
  "kernelspec": {
   "display_name": "Python 3",
   "language": "python",
   "name": "python3"
  },
  "language_info": {
   "codemirror_mode": {
    "name": "ipython",
    "version": 3
   },
   "file_extension": ".py",
   "mimetype": "text/x-python",
   "name": "python",
   "nbconvert_exporter": "python",
   "pygments_lexer": "ipython3",
   "version": "3.8.5"
  },
  "toc": {
   "base_numbering": 1,
   "nav_menu": {},
   "number_sections": true,
   "sideBar": true,
   "skip_h1_title": false,
   "title_cell": "Table of Contents",
   "title_sidebar": "Contents",
   "toc_cell": false,
   "toc_position": {},
   "toc_section_display": true,
   "toc_window_display": false
  }
 },
 "nbformat": 4,
 "nbformat_minor": 5
}
