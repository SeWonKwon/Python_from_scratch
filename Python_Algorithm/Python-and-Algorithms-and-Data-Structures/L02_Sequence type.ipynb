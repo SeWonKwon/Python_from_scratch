{
 "cells": [
  {
   "cell_type": "markdown",
   "metadata": {},
   "source": [
    "<a href='https://github.com/SeWonKwon' ><div> <img src ='https://slid-capture.s3.ap-northeast-2.amazonaws.com/public/image_upload/6556674324ed41a289a354258718280d/964e5a8b-75ad-41fc-ae75-0ca66d06fbc7.png' align='left' /> </div></a>\n"
   ]
  },
  {
   "cell_type": "markdown",
   "metadata": {},
   "source": [
    "###### Ch 02 내장 시퀀스 타입"
   ]
  },
  {
   "cell_type": "markdown",
   "metadata": {},
   "source": [
    "**시퀀스**<sub>sequence</sub> 데이터 타입\n",
    "\n",
    "* **멤버쉽**membership 연산 : `in` 키워드 사용\n",
    "* **크기**size 함수 : `len(seq)`\n",
    "* **슬라이싱**slicing 속성 : `seq[:-1]`\n",
    "* **반복성**iterability : 반복문에 있는 데이터를 순회할 수 있음"
   ]
  },
  {
   "cell_type": "markdown",
   "metadata": {},
   "source": [
    "내장 시퀀스 타입 : **문자열, 튜플, 리스트, 바이트 배열, 바이트**"
   ]
  },
  {
   "cell_type": "markdown",
   "metadata": {},
   "source": [
    "|유형|자료형|설명|선언|\n",
    "|:----:|:------|:----|:----|\n",
    "|문자형|문자열(string type)|값이 문자로 출력되는 자료형|s = \"Codechef\"|\n",
    "|시퀀스형|리스트(list type)|여러 요소를 묶어 하나의 변수로 사용|l = [1, 2, 3]|\n",
    "|시퀀스형|튜플(tuple type)|리스트와 유사하지만 생성, 삭제, 수정 불가|t = (1, 2, 3)|\n",
    "|시퀀스형|범위(range type)|숫자의 불변한 시퀀스 형태|range(10)|\n",
    "|집합형|집합(set type)|중복과 순서가 없는 집합을 위한 자료형|s = {1, 2, 3}|\n",
    "|집합형|불변 집합(fronzenset type)|불변한 집합을 위한 자료형|fs = frozenset{1, 2, 3}|\n",
    "|매핑형|딕셔너리(dictionary type)|키(key)와 값(value)이 쌍(pair)으로 들어간 자료형|d = {1: 'One', 2:'Two'}|\n",
    "|바이트 시퀀스형|바이트(byte type)|바이트 값을 가지는 자료형|byte = b'hello'|\n",
    "|바이트 시퀀스형|bytearray type|바이트의 시퀀스 형태로 수정 가능한 자료형|ba = bytearray(b'hello')|\n",
    "|바이트 시퀀스형|memoryview type|바이트의 메모리 값으로 표현한 자료형|mv = memoryview(b'hello')|\n",
    "\n",
    "\n"
   ]
  },
  {
   "cell_type": "markdown",
   "metadata": {},
   "source": [
    "# 2.1 깊은 복사와 슬라이싱 연산"
   ]
  },
  {
   "cell_type": "markdown",
   "metadata": {},
   "source": [
    "## 2.1.1 가변성"
   ]
  },
  {
   "cell_type": "markdown",
   "metadata": {},
   "source": [
    "ch 01에서 숫자는 불변<sub>immutable</sub> 타입이었지만, **가변**<sub>mutable</sub> 타입에 대해서 살펴보자.  \n",
    "\n",
    "* 불변 : 튜플, 문자열, 바이트\n",
    "* 가변 : 리스트, 바이트"
   ]
  },
  {
   "cell_type": "code",
   "execution_count": 1,
   "metadata": {
    "ExecuteTime": {
     "end_time": "2021-09-12T22:47:19.153078Z",
     "start_time": "2021-09-12T22:47:19.140065Z"
    }
   },
   "outputs": [],
   "source": [
    "myList = [1, 2, 3, 4]\n",
    "newList = myList[:]\n",
    "newList2 = list(myList)"
   ]
  },
  {
   "cell_type": "markdown",
   "metadata": {},
   "source": [
    "셋(set)의 깊은 복사 예제."
   ]
  },
  {
   "cell_type": "code",
   "execution_count": 2,
   "metadata": {
    "ExecuteTime": {
     "end_time": "2021-09-12T22:47:19.168091Z",
     "start_time": "2021-09-12T22:47:19.154078Z"
    }
   },
   "outputs": [
    {
     "data": {
      "text/plain": [
       "{'버피'}"
      ]
     },
     "execution_count": 2,
     "metadata": {},
     "output_type": "execute_result"
    }
   ],
   "source": [
    "people = {'버피', '에인절', '자일스'}\n",
    "slayers = people.copy()\n",
    "slayers.discard('자일스')\n",
    "slayers.remove('에인절')\n",
    "\n",
    "slayers"
   ]
  },
  {
   "cell_type": "code",
   "execution_count": 3,
   "metadata": {
    "ExecuteTime": {
     "end_time": "2021-09-12T22:47:19.183113Z",
     "start_time": "2021-09-12T22:47:19.169092Z"
    }
   },
   "outputs": [
    {
     "data": {
      "text/plain": [
       "{'버피', '에인절', '자일스'}"
      ]
     },
     "execution_count": 3,
     "metadata": {},
     "output_type": "execute_result"
    }
   ],
   "source": [
    "people"
   ]
  },
  {
   "cell_type": "markdown",
   "metadata": {},
   "source": [
    "딕셔너리(dict)의 깊은 복사 예제"
   ]
  },
  {
   "cell_type": "code",
   "execution_count": 4,
   "metadata": {
    "ExecuteTime": {
     "end_time": "2021-09-12T22:47:19.198125Z",
     "start_time": "2021-09-12T22:47:19.184111Z"
    }
   },
   "outputs": [],
   "source": [
    "myDict = {'안녕': '세상'}\n",
    "newDict = myDict.copy()"
   ]
  },
  {
   "cell_type": "markdown",
   "metadata": {},
   "source": [
    "copy 모듈을 사용한 예제"
   ]
  },
  {
   "cell_type": "code",
   "execution_count": 5,
   "metadata": {
    "ExecuteTime": {
     "end_time": "2021-09-12T22:47:19.213140Z",
     "start_time": "2021-09-12T22:47:19.199126Z"
    }
   },
   "outputs": [],
   "source": [
    "import copy\n",
    "\n",
    "myObj = '어떤 다른 객체'\n",
    "newObj1 = copy.copy(myObj) # 얕은 복사(shalow copy)\n",
    "newObj2 = copy.deepcopy(myObj) # 깊은 복사"
   ]
  },
  {
   "cell_type": "markdown",
   "metadata": {},
   "source": [
    "## 2.1.2 슬라이싱 연산자"
   ]
  },
  {
   "cell_type": "markdown",
   "metadata": {},
   "source": [
    "```{python}\n",
    "seq[시작]\n",
    "seq[시작:끝]\n",
    "seq[시작:끝:스텝]\n",
    "```"
   ]
  },
  {
   "cell_type": "code",
   "execution_count": 6,
   "metadata": {
    "ExecuteTime": {
     "end_time": "2021-09-12T22:47:19.228152Z",
     "start_time": "2021-09-12T22:47:19.214138Z"
    }
   },
   "outputs": [],
   "source": [
    "s = '슬라이싱'"
   ]
  },
  {
   "cell_type": "code",
   "execution_count": 7,
   "metadata": {
    "ExecuteTime": {
     "end_time": "2021-09-12T22:47:19.243166Z",
     "start_time": "2021-09-12T22:47:19.229153Z"
    }
   },
   "outputs": [
    {
     "data": {
      "text/plain": [
       "'라'"
      ]
     },
     "execution_count": 7,
     "metadata": {},
     "output_type": "execute_result"
    }
   ],
   "source": [
    "s[1]"
   ]
  },
  {
   "cell_type": "code",
   "execution_count": 8,
   "metadata": {
    "ExecuteTime": {
     "end_time": "2021-09-12T22:47:19.258178Z",
     "start_time": "2021-09-12T22:47:19.244165Z"
    }
   },
   "outputs": [
    {
     "data": {
      "text/plain": [
       "'라이싱'"
      ]
     },
     "execution_count": 8,
     "metadata": {},
     "output_type": "execute_result"
    }
   ],
   "source": [
    "s[1:]"
   ]
  },
  {
   "cell_type": "code",
   "execution_count": 9,
   "metadata": {
    "ExecuteTime": {
     "end_time": "2021-09-12T22:47:19.274194Z",
     "start_time": "2021-09-12T22:47:19.259179Z"
    }
   },
   "outputs": [
    {
     "data": {
      "text/plain": [
       "'라이'"
      ]
     },
     "execution_count": 9,
     "metadata": {},
     "output_type": "execute_result"
    }
   ],
   "source": [
    "s[1:3]"
   ]
  },
  {
   "cell_type": "code",
   "execution_count": 10,
   "metadata": {
    "ExecuteTime": {
     "end_time": "2021-09-12T22:47:19.289206Z",
     "start_time": "2021-09-12T22:47:19.276197Z"
    }
   },
   "outputs": [
    {
     "data": {
      "text/plain": [
       "'싱이라슬'"
      ]
     },
     "execution_count": 10,
     "metadata": {},
     "output_type": "execute_result"
    }
   ],
   "source": [
    "s[::-1]"
   ]
  },
  {
   "cell_type": "markdown",
   "metadata": {},
   "source": [
    "# 2.2 문자열"
   ]
  },
  {
   "cell_type": "markdown",
   "metadata": {},
   "source": [
    "파이썬은 불변의 str 타입을 사용하여 **문자열**string을 표현한다.  \n",
    "문자열이란 곧 일련의 문자<sub>sequence of characters</sub>이다.\n",
    "\n",
    "파이썬의 모든 객체에는 두가지 출력 형식이 있다. \n",
    "\n",
    "문자열stirng 형식은 사람을 위해서 설계되었고, <br>\n",
    "표현representational형식은 파이썬 인터프리터에서 사용하는 문자열로 보통 디버깅에 사용된다.   \n",
    "\n",
    "파이썬 클래스를 작성할 때에는 문자열 표현을 정의하는 것이 중요하다. "
   ]
  },
  {
   "cell_type": "markdown",
   "metadata": {},
   "source": [
    "참조1 : https://stackoverflow.com/questions/38418070   \n",
    "참조2 : https://docs.python.org/3/reference/datamodel.html#object.__repr__"
   ]
  },
  {
   "cell_type": "markdown",
   "metadata": {},
   "source": [
    "## 2.2.1 유니코드 문자열"
   ]
  },
  {
   "cell_type": "markdown",
   "metadata": {},
   "source": [
    "**유니코드**Unicode는 전 세계 언어의 문자를 정의하기 위한 국제 표준 코드다.  \n",
    "유니코드는 공백, 특수문자, 수학 및 기타 분야의 기호들도 포함하고 있다.   "
   ]
  },
  {
   "cell_type": "code",
   "execution_count": 11,
   "metadata": {
    "ExecuteTime": {
     "end_time": "2021-09-12T22:47:19.304222Z",
     "start_time": "2021-09-12T22:47:19.290209Z"
    }
   },
   "outputs": [
    {
     "data": {
      "text/plain": [
       "'안녕 파이썬 !'"
      ]
     },
     "execution_count": 11,
     "metadata": {},
     "output_type": "execute_result"
    }
   ],
   "source": [
    "u'안녕\\u0020파이썬 !'"
   ]
  },
  {
   "cell_type": "markdown",
   "metadata": {},
   "source": [
    "위에서 이스케이프 시퀀스<sub>escape sequence</sub> 는 서수 값이 0x0020인 유니코드 문자를 나타낸다.  \n",
    "\n",
    "아스키 코드<sub>ASCII code</sub> 의 표현은 7비트(아스키 코드를 확장한 ANSI 코드는 8비트), 유니코드 표현에는 16비트가 필요하다. "
   ]
  },
  {
   "cell_type": "markdown",
   "metadata": {},
   "source": [
    "## 2.2.2 문자열 메서드"
   ]
  },
  {
   "cell_type": "markdown",
   "metadata": {},
   "source": [
    "* `A.join(B)` : 리스트 B에 있는 모든 문자열을 하나의 단일 문자열 A로 결합"
   ]
  },
  {
   "cell_type": "code",
   "execution_count": 12,
   "metadata": {
    "ExecuteTime": {
     "end_time": "2021-09-12T22:47:19.319052Z",
     "start_time": "2021-09-12T22:47:19.305222Z"
    }
   },
   "outputs": [
    {
     "data": {
      "text/plain": [
       "'버피<__>앤<__>아스틴'"
      ]
     },
     "execution_count": 12,
     "metadata": {},
     "output_type": "execute_result"
    }
   ],
   "source": [
    "slayer = ['버피', '앤', '아스틴']\n",
    "\"<__>\".join(slayer)"
   ]
  },
  {
   "cell_type": "code",
   "execution_count": 13,
   "metadata": {
    "ExecuteTime": {
     "end_time": "2021-09-12T22:47:19.334076Z",
     "start_time": "2021-09-12T22:47:19.320053Z"
    }
   },
   "outputs": [
    {
     "data": {
      "text/plain": [
       "'아스틴앤버피'"
      ]
     },
     "execution_count": 13,
     "metadata": {},
     "output_type": "execute_result"
    }
   ],
   "source": [
    "\"\".join(reversed(slayer))"
   ]
  },
  {
   "cell_type": "markdown",
   "metadata": {},
   "source": [
    "* `ljust(), rjust()` : (width, fillchar)\n",
    "\n"
   ]
  },
  {
   "cell_type": "code",
   "execution_count": 14,
   "metadata": {
    "ExecuteTime": {
     "end_time": "2021-09-12T22:47:19.349089Z",
     "start_time": "2021-09-12T22:47:19.335076Z"
    }
   },
   "outputs": [
    {
     "data": {
      "text/plain": [
       "'스칼렛-----------------------------------------------'"
      ]
     },
     "execution_count": 14,
     "metadata": {},
     "output_type": "execute_result"
    }
   ],
   "source": [
    "name = '스칼렛'\n",
    "\n",
    "name.ljust(50, '-')"
   ]
  },
  {
   "cell_type": "code",
   "execution_count": 15,
   "metadata": {
    "ExecuteTime": {
     "end_time": "2021-09-12T22:47:19.364101Z",
     "start_time": "2021-09-12T22:47:19.350088Z"
    }
   },
   "outputs": [
    {
     "data": {
      "text/plain": [
       "'-----------------------------------------------스칼렛'"
      ]
     },
     "execution_count": 15,
     "metadata": {},
     "output_type": "execute_result"
    }
   ],
   "source": [
    "name.rjust(50, '-')"
   ]
  },
  {
   "cell_type": "markdown",
   "metadata": {},
   "source": [
    "* format()"
   ]
  },
  {
   "cell_type": "code",
   "execution_count": 16,
   "metadata": {
    "ExecuteTime": {
     "end_time": "2021-09-12T22:47:19.379117Z",
     "start_time": "2021-09-12T22:47:19.365102Z"
    }
   },
   "outputs": [
    {
     "data": {
      "text/plain": [
       "'1first,2second'"
      ]
     },
     "execution_count": 16,
     "metadata": {},
     "output_type": "execute_result"
    }
   ],
   "source": [
    "'1{},2{}'.format('first','second')"
   ]
  },
  {
   "cell_type": "markdown",
   "metadata": {},
   "source": [
    "* **문자열 언패킹**"
   ]
  },
  {
   "cell_type": "markdown",
   "metadata": {},
   "source": [
    "문자열 매핑 언패킹(mapping unpacking) 연산자는 `**`이며, `locals()`메서드는 현재 스코프scope에 있는 지역 변수<sub>local variable</sbu>를 딕셔너리로 반환한다."
   ]
  },
  {
   "cell_type": "code",
   "execution_count": 17,
   "metadata": {
    "ExecuteTime": {
     "end_time": "2021-09-12T22:47:19.394130Z",
     "start_time": "2021-09-12T22:47:19.380117Z"
    }
   },
   "outputs": [
    {
     "data": {
      "text/plain": [
       "'1234 : 버피'"
      ]
     },
     "execution_count": 17,
     "metadata": {},
     "output_type": "execute_result"
    }
   ],
   "source": [
    "hero = '버피'\n",
    "number = 1234\n",
    "\n",
    "'{number} : {hero}'.format(**locals())"
   ]
  },
  {
   "cell_type": "markdown",
   "metadata": {},
   "source": [
    "* `splitlines()`"
   ]
  },
  {
   "cell_type": "code",
   "execution_count": 18,
   "metadata": {
    "ExecuteTime": {
     "end_time": "2021-09-12T22:47:19.409325Z",
     "start_time": "2021-09-12T22:47:19.395131Z"
    }
   },
   "outputs": [
    {
     "data": {
      "text/plain": [
       "['로미오', '줄리엣']"
      ]
     },
     "execution_count": 18,
     "metadata": {},
     "output_type": "execute_result"
    }
   ],
   "source": [
    "slayers = '로미오\\n줄리엣'\n",
    "slayers.splitlines()"
   ]
  },
  {
   "cell_type": "markdown",
   "metadata": {},
   "source": [
    "* `split()` "
   ]
  },
  {
   "cell_type": "markdown",
   "metadata": {},
   "source": [
    "* `strip()`"
   ]
  },
  {
   "cell_type": "code",
   "execution_count": 19,
   "metadata": {
    "ExecuteTime": {
     "end_time": "2021-09-12T22:47:19.424339Z",
     "start_time": "2021-09-12T22:47:19.410327Z"
    }
   },
   "outputs": [
    {
     "name": "stdout",
     "output_type": "stream",
     "text": [
      "Overwriting 1_count_unique_words.py\n"
     ]
    }
   ],
   "source": [
    "%%writefile 1_count_unique_words.py\n",
    "import string\n",
    "import sys\n",
    "\n",
    "\n",
    "def count_unique_word():\n",
    "    words = {}\n",
    "    strip = string.whitespace + string.punctuation + string.digits + \"\\\"'\"\n",
    "    for filename in sys.argv[1:]:\n",
    "        with open(filename) as file:\n",
    "            for line in file:\n",
    "                for word in line.lower().split():\n",
    "                    word = word.strip(strip)\n",
    "                    if len(word) > 2:\n",
    "                        words[word] = words.get(word, 0) + 1\n",
    "\n",
    "    for word in sorted(words):\n",
    "        print(\"'{0}': {1}\".format(word, words[word]))\n",
    "\n",
    "\n",
    "if __name__ == \"__main__\":\n",
    "    count_unique_word()"
   ]
  },
  {
   "cell_type": "code",
   "execution_count": 20,
   "metadata": {
    "ExecuteTime": {
     "end_time": "2021-09-12T22:47:19.439921Z",
     "start_time": "2021-09-12T22:47:19.425340Z"
    }
   },
   "outputs": [],
   "source": [
    "# !type 1_count_unique_words.py"
   ]
  },
  {
   "cell_type": "code",
   "execution_count": 21,
   "metadata": {
    "ExecuteTime": {
     "end_time": "2021-09-12T22:47:19.574924Z",
     "start_time": "2021-09-12T22:47:19.440920Z"
    },
    "scrolled": false
   },
   "outputs": [
    {
     "name": "stdout",
     "output_type": "stream",
     "text": [
      "'count_unique_word': 2\n",
      "'def': 1\n",
      "'file': 2\n",
      "'filename': 1\n",
      "'for': 4\n",
      "'format(word': 1\n",
      "'import': 2\n",
      "'len(word': 1\n",
      "'line': 1\n",
      "'line.lower().split': 1\n",
      "'main': 1\n",
      "'name': 1\n",
      "'open(filename': 1\n",
      "'print': 1\n",
      "'sorted(words': 1\n",
      "'string': 1\n",
      "'string.digits': 1\n",
      "'string.punctuation': 1\n",
      "'string.whitespace': 1\n",
      "'strip': 1\n",
      "'sys': 1\n",
      "'sys.argv': 1\n",
      "'with': 1\n",
      "'word': 3\n",
      "'word.strip(strip': 1\n",
      "'words': 1\n",
      "'words.get(word': 1\n",
      "'words[word': 2\n"
     ]
    }
   ],
   "source": [
    "!python 1_count_unique_words.py 1_count_unique_words.py"
   ]
  },
  {
   "cell_type": "markdown",
   "metadata": {},
   "source": [
    "* `swapcase()`"
   ]
  },
  {
   "cell_type": "code",
   "execution_count": 22,
   "metadata": {
    "ExecuteTime": {
     "end_time": "2021-09-12T22:47:19.589920Z",
     "start_time": "2021-09-12T22:47:19.575926Z"
    }
   },
   "outputs": [
    {
     "data": {
      "text/plain": [
       "'aBCD eFG'"
      ]
     },
     "execution_count": 22,
     "metadata": {},
     "output_type": "execute_result"
    }
   ],
   "source": [
    "slayer = 'Abcd Efg'\n",
    "slayer.swapcase()"
   ]
  },
  {
   "cell_type": "markdown",
   "metadata": {},
   "source": [
    "* `index(), find()` "
   ]
  },
  {
   "cell_type": "code",
   "execution_count": 23,
   "metadata": {
    "ExecuteTime": {
     "end_time": "2021-09-12T22:47:19.604919Z",
     "start_time": "2021-09-12T22:47:19.590921Z"
    }
   },
   "outputs": [
    {
     "data": {
      "text/plain": [
       "4"
      ]
     },
     "execution_count": 23,
     "metadata": {},
     "output_type": "execute_result"
    }
   ],
   "source": [
    "slayers = 'Buffy and Faithy'\n",
    "slayers.find('y')"
   ]
  },
  {
   "cell_type": "code",
   "execution_count": 24,
   "metadata": {
    "ExecuteTime": {
     "end_time": "2021-09-12T22:47:19.619915Z",
     "start_time": "2021-09-12T22:47:19.605921Z"
    }
   },
   "outputs": [
    {
     "data": {
      "text/plain": [
       "-1"
      ]
     },
     "execution_count": 24,
     "metadata": {},
     "output_type": "execute_result"
    }
   ],
   "source": [
    "slayers.find('k')"
   ]
  },
  {
   "cell_type": "code",
   "execution_count": 25,
   "metadata": {
    "ExecuteTime": {
     "end_time": "2021-09-12T22:47:19.634930Z",
     "start_time": "2021-09-12T22:47:19.620915Z"
    }
   },
   "outputs": [
    {
     "data": {
      "text/plain": [
       "4"
      ]
     },
     "execution_count": 25,
     "metadata": {},
     "output_type": "execute_result"
    }
   ],
   "source": [
    "slayers.index('y')"
   ]
  },
  {
   "cell_type": "code",
   "execution_count": 26,
   "metadata": {
    "ExecuteTime": {
     "end_time": "2021-09-12T22:47:19.649943Z",
     "start_time": "2021-09-12T22:47:19.635931Z"
    }
   },
   "outputs": [
    {
     "data": {
      "text/plain": [
       "15"
      ]
     },
     "execution_count": 26,
     "metadata": {},
     "output_type": "execute_result"
    }
   ],
   "source": [
    "# rfind()\n",
    "slayers.rfind('y')"
   ]
  },
  {
   "cell_type": "markdown",
   "metadata": {},
   "source": [
    "* `count()`"
   ]
  },
  {
   "cell_type": "code",
   "execution_count": 27,
   "metadata": {
    "ExecuteTime": {
     "end_time": "2021-09-12T22:47:19.664957Z",
     "start_time": "2021-09-12T22:47:19.650942Z"
    }
   },
   "outputs": [
    {
     "data": {
      "text/plain": [
       "2"
      ]
     },
     "execution_count": 27,
     "metadata": {},
     "output_type": "execute_result"
    }
   ],
   "source": [
    "slayer = 'Buffy is Buffy is Buffy'\n",
    "slayer.count('Buffy', 0, -1)"
   ]
  },
  {
   "cell_type": "code",
   "execution_count": 28,
   "metadata": {
    "ExecuteTime": {
     "end_time": "2021-09-12T22:47:19.679971Z",
     "start_time": "2021-09-12T22:47:19.667960Z"
    }
   },
   "outputs": [
    {
     "data": {
      "text/plain": [
       "3"
      ]
     },
     "execution_count": 28,
     "metadata": {},
     "output_type": "execute_result"
    }
   ],
   "source": [
    "slayer.count('Buffy')"
   ]
  },
  {
   "cell_type": "markdown",
   "metadata": {},
   "source": [
    "* `replace()`"
   ]
  },
  {
   "cell_type": "code",
   "execution_count": 29,
   "metadata": {
    "ExecuteTime": {
     "end_time": "2021-09-12T22:47:19.694984Z",
     "start_time": "2021-09-12T22:47:19.680971Z"
    }
   },
   "outputs": [
    {
     "data": {
      "text/plain": [
       "'who is who is Buffy'"
      ]
     },
     "execution_count": 29,
     "metadata": {},
     "output_type": "execute_result"
    }
   ],
   "source": [
    "slayer = 'Buffy is Buffy is Buffy'\n",
    "slayer.replace('Buffy', 'who', 2)"
   ]
  },
  {
   "cell_type": "markdown",
   "metadata": {},
   "source": [
    "* **f스트링**(formatted string literal)"
   ]
  },
  {
   "cell_type": "code",
   "execution_count": 30,
   "metadata": {
    "ExecuteTime": {
     "end_time": "2021-09-12T22:47:19.709998Z",
     "start_time": "2021-09-12T22:47:19.695985Z"
    }
   },
   "outputs": [
    {
     "data": {
      "text/plain": [
       "'내 이름은 codeChef입니다.'"
      ]
     },
     "execution_count": 30,
     "metadata": {},
     "output_type": "execute_result"
    }
   ],
   "source": [
    "name='codeChef'\n",
    "\n",
    "f'내 이름은 {name}입니다.'"
   ]
  },
  {
   "cell_type": "markdown",
   "metadata": {},
   "source": [
    "참조 : https://www.python.org/dev/peps/pep-0498/\n"
   ]
  },
  {
   "cell_type": "markdown",
   "metadata": {},
   "source": [
    "# 2.3 튜플"
   ]
  },
  {
   "cell_type": "markdown",
   "metadata": {},
   "source": [
    "* 리스트와 유사하지만 변경 불가능한 시퀀스 자료형\n",
    "* 하나의 변수에 여러 값 할당 가능\n",
    "* ‘(‘와 ‘)’를 사용하여 표현\n",
    "*  괄호를 쓰지 않으면 튜플이다.\n"
   ]
  },
  {
   "cell_type": "code",
   "execution_count": 31,
   "metadata": {
    "ExecuteTime": {
     "end_time": "2021-09-12T22:47:19.725022Z",
     "start_time": "2021-09-12T22:47:19.710999Z"
    }
   },
   "outputs": [
    {
     "data": {
      "text/plain": [
       "tuple"
      ]
     },
     "execution_count": 31,
     "metadata": {},
     "output_type": "execute_result"
    }
   ],
   "source": [
    "t1 = 1234, '안녕!'\n",
    "type(t1)"
   ]
  },
  {
   "cell_type": "code",
   "execution_count": 32,
   "metadata": {
    "ExecuteTime": {
     "end_time": "2021-09-12T22:47:19.740029Z",
     "start_time": "2021-09-12T22:47:19.726024Z"
    }
   },
   "outputs": [
    {
     "data": {
      "text/plain": [
       "(1234, '안녕!')"
      ]
     },
     "execution_count": 32,
     "metadata": {},
     "output_type": "execute_result"
    }
   ],
   "source": [
    "t1"
   ]
  },
  {
   "cell_type": "code",
   "execution_count": 33,
   "metadata": {
    "ExecuteTime": {
     "end_time": "2021-09-12T22:47:19.755042Z",
     "start_time": "2021-09-12T22:47:19.741031Z"
    }
   },
   "outputs": [
    {
     "data": {
      "text/plain": [
       "'안녕!'"
      ]
     },
     "execution_count": 33,
     "metadata": {},
     "output_type": "execute_result"
    }
   ],
   "source": [
    "t1[1]"
   ]
  },
  {
   "cell_type": "code",
   "execution_count": 34,
   "metadata": {
    "ExecuteTime": {
     "end_time": "2021-09-12T22:47:19.770057Z",
     "start_time": "2021-09-12T22:47:19.756045Z"
    }
   },
   "outputs": [
    {
     "data": {
      "text/plain": [
       "((1234, '안녕!'), (1, 2, 3, 4, 5))"
      ]
     },
     "execution_count": 34,
     "metadata": {},
     "output_type": "execute_result"
    }
   ],
   "source": [
    "t2 = t1, (1, 2, 3, 4, 5) # nested\n",
    "t2"
   ]
  },
  {
   "cell_type": "markdown",
   "metadata": {},
   "source": [
    "## 2.3.1 튜플 메서드"
   ]
  },
  {
   "cell_type": "markdown",
   "metadata": {},
   "source": [
    "`A.count(x)`"
   ]
  },
  {
   "cell_type": "code",
   "execution_count": 35,
   "metadata": {
    "ExecuteTime": {
     "end_time": "2021-09-12T22:47:19.785071Z",
     "start_time": "2021-09-12T22:47:19.771057Z"
    }
   },
   "outputs": [
    {
     "data": {
      "text/plain": [
       "2"
      ]
     },
     "execution_count": 35,
     "metadata": {},
     "output_type": "execute_result"
    }
   ],
   "source": [
    "t = 1, 5, 7, 8, 9, 4, 1, 4\n",
    "\n",
    "t.count(4)"
   ]
  },
  {
   "cell_type": "markdown",
   "metadata": {},
   "source": [
    "`A.index(x)`"
   ]
  },
  {
   "cell_type": "code",
   "execution_count": 36,
   "metadata": {
    "ExecuteTime": {
     "end_time": "2021-09-12T22:47:19.800085Z",
     "start_time": "2021-09-12T22:47:19.786070Z"
    }
   },
   "outputs": [
    {
     "data": {
      "text/plain": [
       "5"
      ]
     },
     "execution_count": 36,
     "metadata": {},
     "output_type": "execute_result"
    }
   ],
   "source": [
    "t.index(4)"
   ]
  },
  {
   "cell_type": "code",
   "execution_count": 37,
   "metadata": {
    "ExecuteTime": {
     "end_time": "2021-09-12T22:47:19.815099Z",
     "start_time": "2021-09-12T22:47:19.801085Z"
    }
   },
   "outputs": [],
   "source": [
    "# t.rindex(4)"
   ]
  },
  {
   "cell_type": "markdown",
   "metadata": {},
   "source": [
    "## 2.3.2 튜플 언패킹"
   ]
  },
  {
   "cell_type": "markdown",
   "metadata": {},
   "source": [
    "**시퀀스 언패킹 연산자**<sub>sequence unpacking operator</sub>\n",
    "\n",
    "모든 반복 가능한<sub>iterable</sub> 객체는 `*`를 사용하여 언패킹 할수 있다. "
   ]
  },
  {
   "cell_type": "code",
   "execution_count": 38,
   "metadata": {
    "ExecuteTime": {
     "end_time": "2021-09-12T22:47:19.829920Z",
     "start_time": "2021-09-12T22:47:19.816099Z"
    }
   },
   "outputs": [],
   "source": [
    "x, *y = 1, 2, 3, 4"
   ]
  },
  {
   "cell_type": "code",
   "execution_count": 39,
   "metadata": {
    "ExecuteTime": {
     "end_time": "2021-09-12T22:47:19.844935Z",
     "start_time": "2021-09-12T22:47:19.830920Z"
    }
   },
   "outputs": [
    {
     "data": {
      "text/plain": [
       "[2, 3, 4]"
      ]
     },
     "execution_count": 39,
     "metadata": {},
     "output_type": "execute_result"
    }
   ],
   "source": [
    "y"
   ]
  },
  {
   "cell_type": "code",
   "execution_count": 40,
   "metadata": {
    "ExecuteTime": {
     "end_time": "2021-09-12T22:47:19.859918Z",
     "start_time": "2021-09-12T22:47:19.845936Z"
    }
   },
   "outputs": [],
   "source": [
    "x, *y, z = 1, 2, 3, 4, 5, 6"
   ]
  },
  {
   "cell_type": "code",
   "execution_count": 41,
   "metadata": {
    "ExecuteTime": {
     "end_time": "2021-09-12T22:47:19.874925Z",
     "start_time": "2021-09-12T22:47:19.860916Z"
    }
   },
   "outputs": [
    {
     "data": {
      "text/plain": [
       "[2, 3, 4, 5]"
      ]
     },
     "execution_count": 41,
     "metadata": {},
     "output_type": "execute_result"
    }
   ],
   "source": [
    "y"
   ]
  },
  {
   "cell_type": "markdown",
   "metadata": {},
   "source": [
    "## 2.3.3 네임드 튜플 "
   ]
  },
  {
   "cell_type": "markdown",
   "metadata": {},
   "source": [
    "`collections` 모듈의 **네임드 튜플**<sub>named tuple</sub>"
   ]
  },
  {
   "cell_type": "code",
   "execution_count": 42,
   "metadata": {
    "ExecuteTime": {
     "end_time": "2021-09-12T22:47:19.889908Z",
     "start_time": "2021-09-12T22:47:19.875928Z"
    }
   },
   "outputs": [],
   "source": [
    "import collections\n",
    "\n",
    "Person = collections.namedtuple('Person', 'name age gender')"
   ]
  },
  {
   "cell_type": "code",
   "execution_count": 43,
   "metadata": {
    "ExecuteTime": {
     "end_time": "2021-09-12T22:47:19.904925Z",
     "start_time": "2021-09-12T22:47:19.890909Z"
    }
   },
   "outputs": [],
   "source": [
    "p = Person('아스티', 30, '남자')"
   ]
  },
  {
   "cell_type": "code",
   "execution_count": 44,
   "metadata": {
    "ExecuteTime": {
     "end_time": "2021-09-12T22:47:19.919938Z",
     "start_time": "2021-09-12T22:47:19.905923Z"
    }
   },
   "outputs": [
    {
     "data": {
      "text/plain": [
       "'아스티'"
      ]
     },
     "execution_count": 44,
     "metadata": {},
     "output_type": "execute_result"
    }
   ],
   "source": [
    "p.name"
   ]
  },
  {
   "cell_type": "code",
   "execution_count": 45,
   "metadata": {
    "ExecuteTime": {
     "end_time": "2021-09-12T22:47:19.934951Z",
     "start_time": "2021-09-12T22:47:19.920939Z"
    }
   },
   "outputs": [
    {
     "name": "stdout",
     "output_type": "stream",
     "text": [
      "can't set attribute\n"
     ]
    }
   ],
   "source": [
    "try:\n",
    "    p.age = 20\n",
    "except AttributeError as e:\n",
    "    print(e)"
   ]
  },
  {
   "cell_type": "markdown",
   "metadata": {},
   "source": [
    "# 2.4 리스트"
   ]
  },
  {
   "cell_type": "markdown",
   "metadata": {},
   "source": [
    "**배열**<sub>array</sub> 은 여러 원소(elements)들이 연속된 메모리에 순차적으로 저장되는 매우 간단한 구조다. **연결 리스트**<sub>linked list</sub>는 여러 분리된 노드node가 서로 연결되어 있는 구조다. \n",
    "\n",
    "자료구조의 내용을 순회<sub>iterating</sub>하는 데에는 둘 모두 똑같이 효율적이지만, 어떤 요소(또는 노드)에 **직접 접근**할 때 배열의 시간복잡도<sub>time complexity</sub>는 $O(1)$이고, 연결 리스트는 $O(n)$이다."
   ]
  },
  {
   "cell_type": "markdown",
   "metadata": {},
   "source": [
    "또한 연결 리스트에서 어떤 노드를 삽입할 때, 그 위치를 안다면 연결 리스트 노드 수에 상관없이 시간복잡도는 $O(1)$이다. 배열에서 어떤 위치에 항목을 **삽입**하려면, 그 위치에서부터 모든 항목을 오른쪽으로 옮겨야 하므로 시간복잡도는 $O(n)$이다. "
   ]
  },
  {
   "cell_type": "markdown",
   "metadata": {},
   "source": [
    "파이썬에서 배열과 유사한 객체는 **리스트**list이다.   \n",
    "\n",
    "리스트는 크기를 동적으로 조정할 수 있는 배열이다. 연결 리스트와는 아무런 관련도 없다. \n",
    "\n",
    "연결 리스트는 매우 중요한 **추상 데이터 타입**(ADT)이다.\n",
    "\n",
    "배열(또는 파이썬 리스트)과 연결 리스트의 차이점을 아는 것은 매우 중요하다. \n",
    "\n"
   ]
  },
  {
   "cell_type": "markdown",
   "metadata": {},
   "source": [
    "리스트는 가변 타입이다. "
   ]
  },
  {
   "cell_type": "code",
   "execution_count": 46,
   "metadata": {
    "ExecuteTime": {
     "end_time": "2021-09-12T22:47:19.949966Z",
     "start_time": "2021-09-12T22:47:19.935951Z"
    }
   },
   "outputs": [
    {
     "data": {
      "text/plain": [
       "[2, 3, '매롱']"
      ]
     },
     "execution_count": 46,
     "metadata": {},
     "output_type": "execute_result"
    }
   ],
   "source": [
    "q = [2, 3]\n",
    "p = [1, q, 4]\n",
    "\n",
    "p[1].append('매롱')\n",
    "\n",
    "q"
   ]
  },
  {
   "cell_type": "markdown",
   "metadata": {},
   "source": [
    "`append()`와`pop()` 메서드를 사용하며, 시간복잡도는 $O(1)$이다. \n",
    "\n",
    "`remove()`,`index()`, 멤버십 테스트 `in` 등의 시간복잡도는 $O(n)$이다.\n",
    "\n",
    "`insert()`메서드 $O(n)$이다."
   ]
  },
  {
   "cell_type": "markdown",
   "metadata": {},
   "source": [
    "검색이나 멤버십 테스트 시 빠른 속도가 필요하다면 **셋**set이다 **딕셔너리**dictionary 같은 컬렉션 타입을 선택하는 것이 더 적합할 수 있다. \n",
    "\n",
    "또는 리스트에 항목을 순서대로 정렬하여 보관하면, 빠른 검색을 제공할 수 있다.(10장에서 시간복잡도가 $O(\\log{n})$ 인 검색 알고리즘에 대해서 살펴본다. "
   ]
  },
  {
   "cell_type": "markdown",
   "metadata": {},
   "source": [
    "## 2.4.1 리스트 메서드"
   ]
  },
  {
   "cell_type": "markdown",
   "metadata": {},
   "source": [
    "`append()`"
   ]
  },
  {
   "cell_type": "markdown",
   "metadata": {},
   "source": [
    "`extend()`"
   ]
  },
  {
   "cell_type": "markdown",
   "metadata": {},
   "source": [
    "`insert()`"
   ]
  },
  {
   "cell_type": "markdown",
   "metadata": {},
   "source": [
    "`remove()`"
   ]
  },
  {
   "cell_type": "markdown",
   "metadata": {},
   "source": [
    "`pop()`"
   ]
  },
  {
   "cell_type": "markdown",
   "metadata": {},
   "source": [
    "`del a[]`"
   ]
  },
  {
   "cell_type": "markdown",
   "metadata": {},
   "source": [
    "`index()`"
   ]
  },
  {
   "cell_type": "markdown",
   "metadata": {},
   "source": [
    "`count()`"
   ]
  },
  {
   "cell_type": "markdown",
   "metadata": {},
   "source": [
    "`sort()`"
   ]
  },
  {
   "cell_type": "markdown",
   "metadata": {},
   "source": [
    "`reverse()`"
   ]
  },
  {
   "cell_type": "markdown",
   "metadata": {},
   "source": [
    "## 2.4.2 리스트 언패킹"
   ]
  },
  {
   "cell_type": "markdown",
   "metadata": {},
   "source": [
    "**시퀀스 언패킹 연산자**<sub>sequence unpacking operator</sub>\n",
    "\n",
    "모든 반복 가능한<sub>iterable</sub> 객체는 `*`를 사용하여 언패킹 할수 있다. "
   ]
  },
  {
   "cell_type": "code",
   "execution_count": 47,
   "metadata": {
    "ExecuteTime": {
     "end_time": "2021-09-12T22:47:19.964979Z",
     "start_time": "2021-09-12T22:47:19.950965Z"
    }
   },
   "outputs": [],
   "source": [
    "def example_args(a, b, c):\n",
    "    return a * b * c"
   ]
  },
  {
   "cell_type": "code",
   "execution_count": 48,
   "metadata": {
    "ExecuteTime": {
     "end_time": "2021-09-12T22:47:19.979917Z",
     "start_time": "2021-09-12T22:47:19.965981Z"
    }
   },
   "outputs": [
    {
     "data": {
      "text/plain": [
       "24"
      ]
     },
     "execution_count": 48,
     "metadata": {},
     "output_type": "execute_result"
    }
   ],
   "source": [
    "L = [2, 3, 4]\n",
    "\n",
    "example_args(*L)"
   ]
  },
  {
   "cell_type": "code",
   "execution_count": 49,
   "metadata": {
    "ExecuteTime": {
     "end_time": "2021-09-12T22:47:19.994931Z",
     "start_time": "2021-09-12T22:47:19.980916Z"
    }
   },
   "outputs": [
    {
     "data": {
      "text/plain": [
       "60"
      ]
     },
     "execution_count": 49,
     "metadata": {},
     "output_type": "execute_result"
    }
   ],
   "source": [
    "example_args(5, *L[1:])"
   ]
  },
  {
   "cell_type": "markdown",
   "metadata": {},
   "source": [
    "## 2.4.3 리스트 컴프리헨션"
   ]
  },
  {
   "cell_type": "markdown",
   "metadata": {},
   "source": [
    "**리스트 컴프리헨션**list compreshension은 반복문의 표현식이다.(조건문 포함 가능)"
   ]
  },
  {
   "cell_type": "markdown",
   "metadata": {},
   "source": [
    "* `[ 항목 for 항목 in 반복 가능한 객체 ]`\n",
    "\n",
    "* `[ 표현식 for 항목 in 반복 가능한 객체 ]`\n",
    "\n",
    "* `[ 표현식 for 항목 in 반복 가능한 객체 if 조건문 ]`"
   ]
  },
  {
   "cell_type": "code",
   "execution_count": 53,
   "metadata": {
    "ExecuteTime": {
     "end_time": "2021-09-12T22:50:22.205634Z",
     "start_time": "2021-09-12T22:50:22.199628Z"
    }
   },
   "outputs": [
    {
     "data": {
      "text/plain": [
       "[1, 2, 4, 8, 16, 32, 64, 128, 256, 512, 1024, 2048, 4096]"
      ]
     },
     "execution_count": 53,
     "metadata": {},
     "output_type": "execute_result"
    }
   ],
   "source": [
    "[2**i for i in range(13)]"
   ]
  },
  {
   "cell_type": "code",
   "execution_count": 52,
   "metadata": {
    "ExecuteTime": {
     "end_time": "2021-09-12T22:50:00.001107Z",
     "start_time": "2021-09-12T22:49:59.989096Z"
    }
   },
   "outputs": [
    {
     "data": {
      "text/plain": [
       "[1900, 1904, 1908, 1912, 1916, 1920, 1924, 1928, 1932, 1936]"
      ]
     },
     "execution_count": 52,
     "metadata": {},
     "output_type": "execute_result"
    }
   ],
   "source": [
    "[y for y in range(1900, 1940) if y%4 == 0]"
   ]
  },
  {
   "cell_type": "code",
   "execution_count": 54,
   "metadata": {
    "ExecuteTime": {
     "end_time": "2021-09-12T22:51:33.854664Z",
     "start_time": "2021-09-12T22:51:33.846657Z"
    }
   },
   "outputs": [
    {
     "data": {
      "text/plain": [
       "['3.1', '3.14', '3.142', '3.1416', '3.14159']"
      ]
     },
     "execution_count": 54,
     "metadata": {},
     "output_type": "execute_result"
    }
   ],
   "source": [
    "[str(round(355/113.0, i)) for i in range(1, 6)]"
   ]
  },
  {
   "cell_type": "code",
   "execution_count": 56,
   "metadata": {
    "ExecuteTime": {
     "end_time": "2021-09-12T22:52:29.788472Z",
     "start_time": "2021-09-12T22:52:29.774457Z"
    }
   },
   "outputs": [
    {
     "data": {
      "text/plain": [
       "[['i', 1],\n",
       " ['am', 2],\n",
       " ['good', 4],\n",
       " ['enough', 6],\n",
       " ['to', 2],\n",
       " ['beat', 4],\n",
       " ['this!', 5]]"
      ]
     },
     "execution_count": 56,
     "metadata": {},
     "output_type": "execute_result"
    }
   ],
   "source": [
    "[ [w.lower(), len(w)] for w in 'I am good enough to beat this!'.split()]"
   ]
  },
  {
   "cell_type": "markdown",
   "metadata": {},
   "source": [
    "* 파이썬 스타일 가이드https://google.github.io/styleguide/pyguide.html\n",
    "\n",
    "어떤 경우 list comprehension을 사용할지, 반복문을 사용할지는 가독성에 따라서 다르다. (물론 속도의 차이도 존재하지만 크지는 않다.)"
   ]
  },
  {
   "cell_type": "markdown",
   "metadata": {},
   "source": [
    "## 2.4.4 리스트 메서드 성능 측정"
   ]
  },
  {
   "cell_type": "code",
   "execution_count": 57,
   "metadata": {
    "ExecuteTime": {
     "end_time": "2021-09-12T22:57:46.724886Z",
     "start_time": "2021-09-12T22:57:45.876432Z"
    }
   },
   "outputs": [
    {
     "name": "stdout",
     "output_type": "stream",
     "text": [
      "concat  0.7531476770000154 milliseconds\n",
      "append  0.05160921300000609 milliseconds\n",
      "comprehension  0.022756522999998197 milliseconds\n",
      "list range  0.011161334999997052 milliseconds\n"
     ]
    }
   ],
   "source": [
    "def test1():\n",
    "    l = []\n",
    "    for i in range(1000):\n",
    "        l = l + [i]\n",
    "\n",
    "\n",
    "def test2():\n",
    "    l = []\n",
    "    for i in range(1000):\n",
    "        l.append(i)\n",
    "\n",
    "\n",
    "def test3():\n",
    "    l = [i for i in range(1000)]\n",
    "\n",
    "\n",
    "def test4():\n",
    "    l = list(range(1000))\n",
    "\n",
    "\n",
    "if __name__ == \"__main__\":\n",
    "    import timeit\n",
    "    t1 = timeit.Timer(\"test1()\", \"from __main__ import test1\")\n",
    "    print(\"concat \", t1.timeit(number=1000), \"milliseconds\")\n",
    "    t2 = timeit.Timer(\"test2()\", \"from __main__ import test2\")\n",
    "    print(\"append \", t2.timeit(number=1000), \"milliseconds\")\n",
    "    t3 = timeit.Timer(\"test3()\", \"from __main__ import test3\")\n",
    "    print(\"comprehension \", t3.timeit(number=1000), \"milliseconds\")\n",
    "    t4 = timeit.Timer(\"test4()\", \"from __main__ import test4\")\n",
    "    print(\"list range \", t4.timeit(number=1000), \"milliseconds\")"
   ]
  },
  {
   "cell_type": "markdown",
   "metadata": {},
   "source": [
    "종합적으로, 리스트 메서드의 시간복잡도는 다음과 같다. \n",
    "\n",
    "n은 리스트의 총 항목수 이고, k는 연산(조회 및 추가 항목수이다.)\n",
    "\n",
    "|연산|시간복잡도|\n",
    "|:---|:---|\n",
    "|인덱스[]접근|$O(1)$|\n",
    "|인덱스할당|$O(1)$|\n",
    "|`append()`|$O(1)$|\n",
    "|`pop()`|$O(1)$|\n",
    "|`pop(i)`|$O(n)$|\n",
    "|`insert(i, 항목)`|$O(n)$|\n",
    "|`del` 연산자|$O(n)$|\n",
    "|삽입|$O(n)$|\n",
    "|멤버쉽 테스트 `in`|$O(n)$|\n",
    "|슬라이스 [x:y]조회|$O(k)$|\n",
    "|슬라이스 삭제|$O(n)$|\n",
    "|슬라이스 할당|$O(n + k)$|\n",
    "|`reverse()`|$O(n)$|\n",
    "|연결<sub>concatenate</sub>|$O(k)$|\n",
    "|`sort()`|$O(n\\log{n})$|\n",
    "|곱하기|$O(nk)$|\n",
    "\n"
   ]
  },
  {
   "cell_type": "markdown",
   "metadata": {},
   "source": [
    "# 2.5 바이트와 바이트 배열"
   ]
  },
  {
   "cell_type": "markdown",
   "metadata": {},
   "source": [
    "파이썬은 원시 바이트(raw byte)를 처리하는 데 사용할 수 있는 데이터 타입으로 불변 타입의 **바이트**(byte)와 가변 타입의 **바이트 배열**(bytearray)를 제공한다. 두 타입 모두 0~255 범위의 부호 없는 8비트 정수 시퀀스로 이루어진다. "
   ]
  },
  {
   "cell_type": "code",
   "execution_count": 59,
   "metadata": {
    "ExecuteTime": {
     "end_time": "2021-09-12T23:06:22.411272Z",
     "start_time": "2021-09-12T23:06:22.395257Z"
    }
   },
   "outputs": [
    {
     "data": {
      "text/plain": [
       "b'\\x01\\x02\\x03\\xff'"
      ]
     },
     "execution_count": 59,
     "metadata": {},
     "output_type": "execute_result"
    }
   ],
   "source": [
    "blist = [1, 2, 3, 255]\n",
    "the_bytes = bytes(blist)\n",
    "the_bytes"
   ]
  },
  {
   "cell_type": "code",
   "execution_count": 60,
   "metadata": {
    "ExecuteTime": {
     "end_time": "2021-09-12T23:06:41.336195Z",
     "start_time": "2021-09-12T23:06:41.323143Z"
    }
   },
   "outputs": [
    {
     "data": {
      "text/plain": [
       "bytearray(b'\\x01\\x02\\x03\\xff')"
      ]
     },
     "execution_count": 60,
     "metadata": {},
     "output_type": "execute_result"
    }
   ],
   "source": [
    "the_byte_array = bytearray(blist)\n",
    "the_byte_array"
   ]
  },
  {
   "cell_type": "markdown",
   "metadata": {},
   "source": [
    "## 2.5.1 비트와 비트 연산자"
   ]
  },
  {
   "cell_type": "markdown",
   "metadata": {},
   "source": [
    "비트 연산자는 비트로 표현된 숫자를 조작하는 데 유용하다 .예를 들어 곱셈 연산자를 사용하는 대신 비트 연산자로 곱셈을 할 수 있다. "
   ]
  },
  {
   "cell_type": "markdown",
   "metadata": {},
   "source": [
    "* & (Binary AND) : bit 단위로 and연산을 합니다.\n",
    "* | (Binary OR) : bit 단위로 or연산을 합니다.\n",
    "* ^ (Binary XOR) : bit 단위로 xor연산을 합니다.\n",
    "* ~ (Binary NOT) : bit 단위로 not연산을 합니다.(1의 보수)\n",
    "* << (Binary left Shift) : bit 단위로 왼쪽으로 비트단위 밀기 연산을 합니다.\n",
    "* \\>> (Binary right Shift) : bit 단위로 오른쪽으로 비트단위 밀기 연산을 합니다."
   ]
  },
  {
   "cell_type": "markdown",
   "metadata": {},
   "source": [
    "`1 << x`는 숫자 1을 x번 만큼 **왼쪽으로 이동**left shift한다는 의미로 $2^x$을 신속하게 계산 할 수 있다. \n",
    "\n",
    "또한 `x & (x -1)`이 0인지 확인하면, x가 2의 제곱인지 아닌지 신속하게 확인할수 있다."
   ]
  },
  {
   "cell_type": "code",
   "execution_count": 65,
   "metadata": {
    "ExecuteTime": {
     "end_time": "2021-09-12T23:14:09.234804Z",
     "start_time": "2021-09-12T23:14:09.221267Z"
    }
   },
   "outputs": [
    {
     "data": {
      "text/plain": [
       "8"
      ]
     },
     "execution_count": 65,
     "metadata": {},
     "output_type": "execute_result"
    }
   ],
   "source": [
    "1 << 3"
   ]
  },
  {
   "cell_type": "code",
   "execution_count": 68,
   "metadata": {
    "ExecuteTime": {
     "end_time": "2021-09-12T23:14:14.526604Z",
     "start_time": "2021-09-12T23:14:14.521591Z"
    }
   },
   "outputs": [],
   "source": [
    "x = 8"
   ]
  },
  {
   "cell_type": "code",
   "execution_count": 72,
   "metadata": {
    "ExecuteTime": {
     "end_time": "2021-09-12T23:16:57.573849Z",
     "start_time": "2021-09-12T23:16:57.557285Z"
    }
   },
   "outputs": [
    {
     "data": {
      "text/plain": [
       "'0b1000'"
      ]
     },
     "execution_count": 72,
     "metadata": {},
     "output_type": "execute_result"
    }
   ],
   "source": [
    "bin(x)"
   ]
  },
  {
   "cell_type": "code",
   "execution_count": 73,
   "metadata": {
    "ExecuteTime": {
     "end_time": "2021-09-12T23:17:02.311145Z",
     "start_time": "2021-09-12T23:17:02.299135Z"
    }
   },
   "outputs": [
    {
     "data": {
      "text/plain": [
       "'0b111'"
      ]
     },
     "execution_count": 73,
     "metadata": {},
     "output_type": "execute_result"
    }
   ],
   "source": [
    "bin(x - 1)"
   ]
  },
  {
   "cell_type": "code",
   "execution_count": 74,
   "metadata": {
    "ExecuteTime": {
     "end_time": "2021-09-12T23:17:21.283455Z",
     "start_time": "2021-09-12T23:17:21.270441Z"
    }
   },
   "outputs": [
    {
     "data": {
      "text/plain": [
       "0"
      ]
     },
     "execution_count": 74,
     "metadata": {},
     "output_type": "execute_result"
    }
   ],
   "source": [
    "x & (x - 1)"
   ]
  },
  {
   "cell_type": "markdown",
   "metadata": {},
   "source": [
    "x 는 `1000` x - 1 은 `0111` 이 되므로 & 연산자를 쓰게 되면 `0000` 되므로 0이 된다. "
   ]
  },
  {
   "cell_type": "code",
   "execution_count": 75,
   "metadata": {
    "ExecuteTime": {
     "end_time": "2021-09-12T23:18:42.686338Z",
     "start_time": "2021-09-12T23:18:42.677328Z"
    }
   },
   "outputs": [],
   "source": [
    "x = 1024"
   ]
  },
  {
   "cell_type": "code",
   "execution_count": 76,
   "metadata": {
    "ExecuteTime": {
     "end_time": "2021-09-12T23:18:57.121356Z",
     "start_time": "2021-09-12T23:18:57.119352Z"
    }
   },
   "outputs": [
    {
     "data": {
      "text/plain": [
       "'0b11111111111'"
      ]
     },
     "execution_count": 76,
     "metadata": {},
     "output_type": "execute_result"
    }
   ],
   "source": [
    "bin(x | (x - 1))"
   ]
  },
  {
   "cell_type": "markdown",
   "metadata": {},
   "source": [
    "반대로 |(or) 연산자는 전부 `111111...`를 만든다. ($2^x$인경우)"
   ]
  },
  {
   "cell_type": "markdown",
   "metadata": {},
   "source": [
    "# 2.6 연습문제"
   ]
  },
  {
   "cell_type": "markdown",
   "metadata": {},
   "source": [
    "## 2.6.1 문자열 전체 반전하기"
   ]
  },
  {
   "cell_type": "code",
   "execution_count": 80,
   "metadata": {
    "ExecuteTime": {
     "end_time": "2021-09-12T23:22:09.636747Z",
     "start_time": "2021-09-12T23:22:09.620183Z"
    }
   },
   "outputs": [],
   "source": [
    "def revert(s):\n",
    "    return s[::-1]\n",
    "\n",
    "def revert_recur(s):\n",
    "    if s: \n",
    "        s = s[-1] + revert(s[:-1])\n",
    "    return s\n"
   ]
  },
  {
   "cell_type": "code",
   "execution_count": 81,
   "metadata": {
    "ExecuteTime": {
     "end_time": "2021-09-12T23:22:24.092379Z",
     "start_time": "2021-09-12T23:22:24.075363Z"
    }
   },
   "outputs": [
    {
     "data": {
      "text/plain": [
       "'요세하녕안'"
      ]
     },
     "execution_count": 81,
     "metadata": {},
     "output_type": "execute_result"
    }
   ],
   "source": [
    "revert('안녕하세요')"
   ]
  },
  {
   "cell_type": "code",
   "execution_count": 82,
   "metadata": {
    "ExecuteTime": {
     "end_time": "2021-09-12T23:22:24.498375Z",
     "start_time": "2021-09-12T23:22:24.494373Z"
    }
   },
   "outputs": [
    {
     "data": {
      "text/plain": [
       "'요세하녕안'"
      ]
     },
     "execution_count": 82,
     "metadata": {},
     "output_type": "execute_result"
    }
   ],
   "source": [
    "revert_recur('안녕하세요')"
   ]
  },
  {
   "cell_type": "markdown",
   "metadata": {},
   "source": [
    "## 2.6.2 문자열 단어 단위로 반전하기"
   ]
  },
  {
   "cell_type": "code",
   "execution_count": 93,
   "metadata": {
    "ExecuteTime": {
     "end_time": "2021-09-12T23:37:57.194556Z",
     "start_time": "2021-09-12T23:37:57.178029Z"
    }
   },
   "outputs": [],
   "source": [
    "def reverser(string1, p1 = 0, p2 = None):\n",
    "    if len(string1) < 2:\n",
    "        return string1\n",
    "    \n",
    "    p2 = p2 or len(string1) - 1\n",
    "    \n",
    "    while p1 < p2:\n",
    "    \n",
    "        string1[p1], string1[p2] = string1[p2], string1[p1]\n",
    "        p1 += 1\n",
    "        p2 -= 1\n",
    "    \n",
    "\n",
    "def reversing_words_setence_logic(string1):\n",
    "    # 먼저, 문장 전체를 반전한다.\n",
    "    reverser(string1)\n",
    "    print(string1)\n",
    "    p = 0 \n",
    "    start = 0\n",
    "    \n",
    "    while p < len(string1):\n",
    "        if string1[p] == u\"\\u0020\": # 빈칸\n",
    "            # 단어를 다시 반전한다(단어를 원 위치로 돌려 놓는다.)\n",
    "            reverser(string1, start, p-1)\n",
    "            print(string1)\n",
    "            start = p + 1\n",
    "        p += 1\n",
    "        \n",
    "    # 마지막 단어를 반전한다(단어를 원위치로 돌려 놓는다.)\n",
    "    reverser(string1, start, p-1)\n",
    "    print(string1)\n",
    "    return \"\".join(string1)"
   ]
  },
  {
   "cell_type": "code",
   "execution_count": 94,
   "metadata": {
    "ExecuteTime": {
     "end_time": "2021-09-12T23:37:57.796369Z",
     "start_time": "2021-09-12T23:37:57.785360Z"
    }
   },
   "outputs": [
    {
     "name": "stdout",
     "output_type": "stream",
     "text": [
      "['~', '다', '지', '미', '재', ' ', '말', '정', ' ', '즘', '리', '고', '알', ' ', '썬', '이', '파']\n",
      "['재', '미', '지', '다', '~', ' ', '말', '정', ' ', '즘', '리', '고', '알', ' ', '썬', '이', '파']\n",
      "['재', '미', '지', '다', '~', ' ', '정', '말', ' ', '즘', '리', '고', '알', ' ', '썬', '이', '파']\n",
      "['재', '미', '지', '다', '~', ' ', '정', '말', ' ', '알', '고', '리', '즘', ' ', '썬', '이', '파']\n",
      "['재', '미', '지', '다', '~', ' ', '정', '말', ' ', '알', '고', '리', '즘', ' ', '파', '이', '썬']\n"
     ]
    },
    {
     "data": {
      "text/plain": [
       "'재미지다~ 정말 알고리즘 파이썬'"
      ]
     },
     "execution_count": 94,
     "metadata": {},
     "output_type": "execute_result"
    }
   ],
   "source": [
    "str1 = \"파이썬 알고리즘 정말 재미지다~\"\n",
    "reversing_words_setence_logic(list(str1))"
   ]
  },
  {
   "cell_type": "code",
   "execution_count": 95,
   "metadata": {
    "ExecuteTime": {
     "end_time": "2021-09-12T23:37:58.069523Z",
     "start_time": "2021-09-12T23:37:58.057513Z"
    }
   },
   "outputs": [
    {
     "data": {
      "text/plain": [
       "['재미지다~', '정말', '알고리즘', '파이썬']"
      ]
     },
     "execution_count": 95,
     "metadata": {},
     "output_type": "execute_result"
    }
   ],
   "source": [
    "str1_l = str1.split()\n",
    "reverser(str1_l)\n",
    "str1_l"
   ]
  },
  {
   "cell_type": "code",
   "execution_count": 89,
   "metadata": {
    "ExecuteTime": {
     "end_time": "2021-09-12T23:35:58.303997Z",
     "start_time": "2021-09-12T23:35:58.293451Z"
    }
   },
   "outputs": [
    {
     "data": {
      "text/plain": [
       "'재미지다~ 정말 알고리즘 파이썬'"
      ]
     },
     "execution_count": 89,
     "metadata": {},
     "output_type": "execute_result"
    }
   ],
   "source": [
    "\" \".join(reversed(str1.split()))"
   ]
  },
  {
   "cell_type": "markdown",
   "metadata": {},
   "source": [
    "## 2.6.3 단순 문자열 압축"
   ]
  },
  {
   "cell_type": "markdown",
   "metadata": {},
   "source": [
    "## 2.6.4 문자열 순열"
   ]
  },
  {
   "cell_type": "markdown",
   "metadata": {},
   "source": [
    "## 2.6.5 회문"
   ]
  },
  {
   "cell_type": "markdown",
   "metadata": {},
   "source": [
    "**Reference**\n",
    "\n",
    "* <a href='https://github.com/SeWonKwon' ><div> <img src ='https://slid-capture.s3.ap-northeast-2.amazonaws.com/public/image_upload/6556674324ed41a289a354258718280d/964e5a8b-75ad-41fc-ae75-0ca66d06fbc7.png' align='left' /> </div></a>\n",
    "\n",
    "<br>\n",
    "\n",
    "* [파이썬 자료구조와 알고리즘, 미아 스타인](https://github.com/AstinCHOI/Python-and-Algorithms-and-Data-Structures)"
   ]
  }
 ],
 "metadata": {
  "kernelspec": {
   "display_name": "Python 3 (ipykernel)",
   "language": "python",
   "name": "python3"
  },
  "language_info": {
   "codemirror_mode": {
    "name": "ipython",
    "version": 3
   },
   "file_extension": ".py",
   "mimetype": "text/x-python",
   "name": "python",
   "nbconvert_exporter": "python",
   "pygments_lexer": "ipython3",
   "version": "3.8.11"
  },
  "toc": {
   "base_numbering": 1,
   "nav_menu": {},
   "number_sections": true,
   "sideBar": true,
   "skip_h1_title": false,
   "title_cell": "Table of Contents",
   "title_sidebar": "Contents",
   "toc_cell": false,
   "toc_position": {},
   "toc_section_display": true,
   "toc_window_display": false
  }
 },
 "nbformat": 4,
 "nbformat_minor": 4
}
