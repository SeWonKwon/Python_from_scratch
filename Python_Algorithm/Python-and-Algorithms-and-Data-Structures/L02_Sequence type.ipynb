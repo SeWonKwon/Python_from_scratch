{
 "cells": [
  {
   "cell_type": "markdown",
   "metadata": {},
   "source": [
    "<a href='https://github.com/SeWonKwon' ><div> <img src ='https://slid-capture.s3.ap-northeast-2.amazonaws.com/public/image_upload/6556674324ed41a289a354258718280d/964e5a8b-75ad-41fc-ae75-0ca66d06fbc7.png' align='left' /> </div></a>\n"
   ]
  },
  {
   "cell_type": "markdown",
   "metadata": {},
   "source": [
    "###### Ch 02 내장 시퀀스 타입"
   ]
  },
  {
   "cell_type": "markdown",
   "metadata": {},
   "source": [
    "**시퀀스**<sub>sequence</sub> 데이터 타입\n",
    "\n",
    "* **멤버쉽**membership 연산 : `in` 키워드 사용\n",
    "* **크기**size 함수 : `len(seq)`\n",
    "* **슬라이싱**slicing 속성 : `seq[:-1]`\n",
    "* **반복성**iterability : 반복문에 있는 데이터를 순회할 수 있음"
   ]
  },
  {
   "cell_type": "markdown",
   "metadata": {},
   "source": [
    "내장 시퀀스 타입 : **문자열, 튜플, 리스트, 바이트 배열, 바이트**"
   ]
  },
  {
   "cell_type": "markdown",
   "metadata": {},
   "source": [
    "|유형|자료형|설명|선언|\n",
    "|:----:|:------|:----|:----|\n",
    "|문자형|문자열(string type)|값이 문자로 출력되는 자료형|s = \"Codechef\"|\n",
    "|시퀀스형|리스트(list type)|여러 요소를 묶어 하나의 변수로 사용|l = [1, 2, 3]|\n",
    "|시퀀스형|튜플(tuple type)|리스트와 유사하지만 생성, 삭제, 수정 불가|t = (1, 2, 3)|\n",
    "|시퀀스형|범위(range type)|숫자의 불변한 시퀀스 형태|range(10)|\n",
    "|집합형|집합(set type)|중복과 순서가 없는 집합을 위한 자료형|s = {1, 2, 3}|\n",
    "|집합형|불변 집합(fronzenset type)|불변한 집합을 위한 자료형|fs = frozenset{1, 2, 3}|\n",
    "|매핑형|딕셔너리(dictionary type)|키(key)와 값(value)이 쌍(pair)으로 들어간 자료형|d = {1: 'One', 2:'Two'}|\n",
    "|바이트 시퀀스형|바이트(byte type)|바이트 값을 가지는 자료형|byte = b'hello'|\n",
    "|바이트 시퀀스형|bytearray type|바이트의 시퀀스 형태로 수정 가능한 자료형|ba = bytearray(b'hello')|\n",
    "|바이트 시퀀스형|memoryview type|바이트의 메모리 값으로 표현한 자료형|mv = memoryview(b'hello')|\n",
    "\n",
    "\n"
   ]
  },
  {
   "cell_type": "markdown",
   "metadata": {},
   "source": [
    "# 2.1 깊은 복사와 슬라이싱 연산"
   ]
  },
  {
   "cell_type": "markdown",
   "metadata": {},
   "source": [
    "## 2.1.1 가변성"
   ]
  },
  {
   "cell_type": "markdown",
   "metadata": {},
   "source": [
    "ch 01에서 숫자는 불변<sub>immutable</sub> 타입이었지만, **가변**<sub>mutable</sub> 타입에 대해서 살펴보자.  \n",
    "\n",
    "* 불변 : 튜플, 문자열, 바이트\n",
    "* 가변 : 리스트, 바이트"
   ]
  },
  {
   "cell_type": "code",
   "execution_count": 1,
   "metadata": {
    "ExecuteTime": {
     "end_time": "2021-09-09T11:51:12.890757Z",
     "start_time": "2021-09-09T11:51:12.863144Z"
    }
   },
   "outputs": [],
   "source": [
    "myList = [1, 2, 3, 4]\n",
    "newList = myList[:]\n",
    "newList2 = list(myList)"
   ]
  },
  {
   "cell_type": "markdown",
   "metadata": {},
   "source": [
    "셋(set)의 깊은 복사 예제."
   ]
  },
  {
   "cell_type": "code",
   "execution_count": 3,
   "metadata": {
    "ExecuteTime": {
     "end_time": "2021-09-09T11:52:45.421034Z",
     "start_time": "2021-09-09T11:52:45.410035Z"
    }
   },
   "outputs": [
    {
     "data": {
      "text/plain": [
       "{'버피'}"
      ]
     },
     "execution_count": 3,
     "metadata": {},
     "output_type": "execute_result"
    }
   ],
   "source": [
    "people = {'버피', '에인절', '자일스'}\n",
    "slayers = people.copy()\n",
    "slayers.discard('자일스')\n",
    "slayers.remove('에인절')\n",
    "\n",
    "slayers"
   ]
  },
  {
   "cell_type": "code",
   "execution_count": 4,
   "metadata": {
    "ExecuteTime": {
     "end_time": "2021-09-09T11:52:48.624363Z",
     "start_time": "2021-09-09T11:52:48.620369Z"
    }
   },
   "outputs": [
    {
     "data": {
      "text/plain": [
       "{'버피', '에인절', '자일스'}"
      ]
     },
     "execution_count": 4,
     "metadata": {},
     "output_type": "execute_result"
    }
   ],
   "source": [
    "people"
   ]
  },
  {
   "cell_type": "markdown",
   "metadata": {},
   "source": [
    "딕셔너리(dict)의 깊은 복사 예제"
   ]
  },
  {
   "cell_type": "code",
   "execution_count": 5,
   "metadata": {
    "ExecuteTime": {
     "end_time": "2021-09-09T11:54:20.349614Z",
     "start_time": "2021-09-09T11:54:20.347613Z"
    }
   },
   "outputs": [],
   "source": [
    "myDict = {'안녕': '세상'}\n",
    "newDict = myDict.copy()"
   ]
  },
  {
   "cell_type": "markdown",
   "metadata": {},
   "source": [
    "copy 모듈을 사용한 예제"
   ]
  },
  {
   "cell_type": "code",
   "execution_count": 6,
   "metadata": {
    "ExecuteTime": {
     "end_time": "2021-09-09T11:55:40.679128Z",
     "start_time": "2021-09-09T11:55:40.676120Z"
    }
   },
   "outputs": [],
   "source": [
    "import copy\n",
    "\n",
    "myObj = '어떤 다른 객체'\n",
    "newObj1 = copy.copy(myObj) # 얕은 복사(shalow copy)\n",
    "newObj2 = copy.deepcopy(myObj) # 깊은 복사"
   ]
  },
  {
   "cell_type": "markdown",
   "metadata": {},
   "source": [
    "## 2.1.2 슬라이싱 연산자"
   ]
  },
  {
   "cell_type": "markdown",
   "metadata": {},
   "source": [
    "```{python}\n",
    "seq[시작]\n",
    "seq[시작:끝]\n",
    "seq[시작:끝:스텝]\n",
    "```"
   ]
  },
  {
   "cell_type": "code",
   "execution_count": 7,
   "metadata": {
    "ExecuteTime": {
     "end_time": "2021-09-09T11:56:47.408238Z",
     "start_time": "2021-09-09T11:56:47.392526Z"
    }
   },
   "outputs": [],
   "source": [
    "s = '슬라이싱'"
   ]
  },
  {
   "cell_type": "code",
   "execution_count": 8,
   "metadata": {
    "ExecuteTime": {
     "end_time": "2021-09-09T11:56:51.749968Z",
     "start_time": "2021-09-09T11:56:51.737804Z"
    }
   },
   "outputs": [
    {
     "data": {
      "text/plain": [
       "'라'"
      ]
     },
     "execution_count": 8,
     "metadata": {},
     "output_type": "execute_result"
    }
   ],
   "source": [
    "s[1]"
   ]
  },
  {
   "cell_type": "code",
   "execution_count": 9,
   "metadata": {
    "ExecuteTime": {
     "end_time": "2021-09-09T11:56:58.023741Z",
     "start_time": "2021-09-09T11:56:58.015734Z"
    }
   },
   "outputs": [
    {
     "data": {
      "text/plain": [
       "'라이싱'"
      ]
     },
     "execution_count": 9,
     "metadata": {},
     "output_type": "execute_result"
    }
   ],
   "source": [
    "s[1:]"
   ]
  },
  {
   "cell_type": "code",
   "execution_count": 11,
   "metadata": {
    "ExecuteTime": {
     "end_time": "2021-09-09T11:57:04.827866Z",
     "start_time": "2021-09-09T11:57:04.820861Z"
    }
   },
   "outputs": [
    {
     "data": {
      "text/plain": [
       "'라이'"
      ]
     },
     "execution_count": 11,
     "metadata": {},
     "output_type": "execute_result"
    }
   ],
   "source": [
    "s[1:3]"
   ]
  },
  {
   "cell_type": "code",
   "execution_count": 12,
   "metadata": {
    "ExecuteTime": {
     "end_time": "2021-09-09T11:57:08.978461Z",
     "start_time": "2021-09-09T11:57:08.960941Z"
    }
   },
   "outputs": [
    {
     "data": {
      "text/plain": [
       "'싱이라슬'"
      ]
     },
     "execution_count": 12,
     "metadata": {},
     "output_type": "execute_result"
    }
   ],
   "source": [
    "s[::-1]"
   ]
  },
  {
   "cell_type": "markdown",
   "metadata": {},
   "source": [
    "# 2.2 문자열"
   ]
  },
  {
   "cell_type": "markdown",
   "metadata": {},
   "source": [
    "파이썬은 불변의 str 타입을 사용하여 **문자열**string을 표현한다.  \n",
    "문자열이란 곧 일련의 문자<sub>sequence of characters</sub>이다.\n",
    "\n",
    "파이썬의 모든 객체에는 두가지 출력 형식이 있다. \n",
    "\n",
    "문자열stirng 형식은 사람을 위해서 설계되었고, <br>\n",
    "표현representational형식은 파이썬 인터프리터에서 사용하는 문자열로 보통 디버깅에 사용된다.   \n",
    "\n",
    "파이썬 클래스를 작성할 때에는 문자열 표현을 정의하는 것이 중요하다. "
   ]
  },
  {
   "cell_type": "markdown",
   "metadata": {},
   "source": [
    "참조1 : https://stackoverflow.com/questions/38418070   \n",
    "참조2 : https://docs.python.org/3/reference/datamodel.html#object.__repr__"
   ]
  },
  {
   "cell_type": "markdown",
   "metadata": {},
   "source": [
    "## 2.2.1 유니코드 문자열"
   ]
  },
  {
   "cell_type": "markdown",
   "metadata": {},
   "source": [
    "**유니코드**Unicode는 전 세계 언어의 문자를 정의하기 위한 국제 표준 코드다.  \n",
    "유니코드는 공백, 특수문자, 수학 및 기타 분야의 기호들도 포함하고 있다.   "
   ]
  },
  {
   "cell_type": "code",
   "execution_count": 13,
   "metadata": {
    "ExecuteTime": {
     "end_time": "2021-09-09T12:03:06.322986Z",
     "start_time": "2021-09-09T12:03:06.306428Z"
    }
   },
   "outputs": [
    {
     "data": {
      "text/plain": [
       "'안녕 파이썬 !'"
      ]
     },
     "execution_count": 13,
     "metadata": {},
     "output_type": "execute_result"
    }
   ],
   "source": [
    "u'안녕\\u0020파이썬 !'"
   ]
  },
  {
   "cell_type": "markdown",
   "metadata": {},
   "source": [
    "위에서 이스케이프 시퀀스<sub>escape sequence</sub> 는 서수 값이 0x0020인 유니코드 문자를 나타낸다.  \n",
    "\n",
    "아스키 코드<sub>ASCII code</sub> 의 표현은 7비트(아스키 코드를 확장한 ANSI 코드는 8비트), 유니코드 표현에는 16비트가 필요하다. "
   ]
  },
  {
   "cell_type": "markdown",
   "metadata": {},
   "source": [
    "## 2.2.2 문자열 메서드"
   ]
  },
  {
   "cell_type": "markdown",
   "metadata": {},
   "source": [
    "# 2.3 튜플"
   ]
  },
  {
   "cell_type": "markdown",
   "metadata": {},
   "source": [
    "## 2.3.1 튜플 메서드"
   ]
  },
  {
   "cell_type": "markdown",
   "metadata": {},
   "source": [
    "## 2.3.2 튜플 언패킹"
   ]
  },
  {
   "cell_type": "markdown",
   "metadata": {},
   "source": [
    "## 2.3.3 네임드 튜플 "
   ]
  },
  {
   "cell_type": "markdown",
   "metadata": {},
   "source": [
    "# 2.4 리스트"
   ]
  },
  {
   "cell_type": "markdown",
   "metadata": {},
   "source": [
    "## 2.4.1 리스트 메서드"
   ]
  },
  {
   "cell_type": "markdown",
   "metadata": {},
   "source": [
    "## 2.4.2 리스트 언패킹"
   ]
  },
  {
   "cell_type": "markdown",
   "metadata": {},
   "source": [
    "## 2.4.3 리스트 컴프리헨션"
   ]
  },
  {
   "cell_type": "markdown",
   "metadata": {},
   "source": [
    "## 2.4.4 리스트 메서드"
   ]
  },
  {
   "cell_type": "markdown",
   "metadata": {},
   "source": [
    "# 2.5 바이트와 바이트 배열"
   ]
  },
  {
   "cell_type": "markdown",
   "metadata": {},
   "source": [
    "## 2.5.1 비트와 비트 연산자"
   ]
  },
  {
   "cell_type": "markdown",
   "metadata": {},
   "source": [
    "# 2.6 연습문제"
   ]
  },
  {
   "cell_type": "markdown",
   "metadata": {},
   "source": [
    "## 2.6.1 문자열 전체 반전하기"
   ]
  },
  {
   "cell_type": "markdown",
   "metadata": {},
   "source": [
    "## 2.6.2 문자열 단어"
   ]
  },
  {
   "cell_type": "markdown",
   "metadata": {},
   "source": [
    "## 2.6.3 단순 문자열 압축"
   ]
  },
  {
   "cell_type": "markdown",
   "metadata": {},
   "source": [
    "## 2.6.4 문자열 순열"
   ]
  },
  {
   "cell_type": "markdown",
   "metadata": {},
   "source": [
    "## 2.6.5 회문"
   ]
  },
  {
   "cell_type": "markdown",
   "metadata": {},
   "source": [
    "**Reference**\n",
    "\n",
    "* <a href='https://github.com/SeWonKwon' ><div> <img src ='https://slid-capture.s3.ap-northeast-2.amazonaws.com/public/image_upload/6556674324ed41a289a354258718280d/964e5a8b-75ad-41fc-ae75-0ca66d06fbc7.png' align='left' /> </div></a>\n",
    "\n",
    "<br>\n",
    "\n",
    "* [파이썬 자료구조와 알고리즘, 미아 스타인](https://github.com/AstinCHOI/Python-and-Algorithms-and-Data-Structures)"
   ]
  }
 ],
 "metadata": {
  "kernelspec": {
   "display_name": "Python 3 (ipykernel)",
   "language": "python",
   "name": "python3"
  },
  "language_info": {
   "codemirror_mode": {
    "name": "ipython",
    "version": 3
   },
   "file_extension": ".py",
   "mimetype": "text/x-python",
   "name": "python",
   "nbconvert_exporter": "python",
   "pygments_lexer": "ipython3",
   "version": "3.8.11"
  },
  "toc": {
   "base_numbering": 1,
   "nav_menu": {},
   "number_sections": true,
   "sideBar": true,
   "skip_h1_title": false,
   "title_cell": "Table of Contents",
   "title_sidebar": "Contents",
   "toc_cell": false,
   "toc_position": {},
   "toc_section_display": true,
   "toc_window_display": false
  }
 },
 "nbformat": 4,
 "nbformat_minor": 4
}
