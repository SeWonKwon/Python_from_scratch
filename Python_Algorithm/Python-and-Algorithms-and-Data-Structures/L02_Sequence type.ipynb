{
 "cells": [
  {
   "cell_type": "markdown",
   "metadata": {},
   "source": [
    "<a href='https://github.com/SeWonKwon' ><div> <img src ='https://slid-capture.s3.ap-northeast-2.amazonaws.com/public/image_upload/6556674324ed41a289a354258718280d/964e5a8b-75ad-41fc-ae75-0ca66d06fbc7.png' align='left' /> </div></a>\n"
   ]
  },
  {
   "cell_type": "markdown",
   "metadata": {},
   "source": [
    "###### Ch 02 내장 시퀀스 타입"
   ]
  },
  {
   "cell_type": "markdown",
   "metadata": {},
   "source": [
    "**시퀀스**<sub>sequence</sub> 데이터 타입\n",
    "\n",
    "* **멤버쉽**membership 연산 : `in` 키워드 사용\n",
    "* **크기**size 함수 : `len(seq)`\n",
    "* **슬라이싱**slicing 속성 : `seq[:-1]`\n",
    "* **반복성**iterability : 반복문에 있는 데이터를 순회할 수 있음"
   ]
  },
  {
   "cell_type": "markdown",
   "metadata": {},
   "source": [
    "내장 시퀀스 타입 : **문자열, 튜플, 리스트, 바이트 배열, 바이트**"
   ]
  },
  {
   "cell_type": "markdown",
   "metadata": {},
   "source": [
    "|유형|자료형|설명|선언|\n",
    "|:----:|:------|:----|:----|\n",
    "|문자형|문자열(string type)|값이 문자로 출력되는 자료형|s = \"Codechef\"|\n",
    "|시퀀스형|리스트(list type)|여러 요소를 묶어 하나의 변수로 사용|l = [1, 2, 3]|\n",
    "|시퀀스형|튜플(tuple type)|리스트와 유사하지만 생성, 삭제, 수정 불가|t = (1, 2, 3)|\n",
    "|시퀀스형|범위(range type)|숫자의 불변한 시퀀스 형태|range(10)|\n",
    "|집합형|집합(set type)|중복과 순서가 없는 집합을 위한 자료형|s = {1, 2, 3}|\n",
    "|집합형|불변 집합(fronzenset type)|불변한 집합을 위한 자료형|fs = frozenset{1, 2, 3}|\n",
    "|매핑형|딕셔너리(dictionary type)|키(key)와 값(value)이 쌍(pair)으로 들어간 자료형|d = {1: 'One', 2:'Two'}|\n",
    "|바이트 시퀀스형|바이트(byte type)|바이트 값을 가지는 자료형|byte = b'hello'|\n",
    "|바이트 시퀀스형|bytearray type|바이트의 시퀀스 형태로 수정 가능한 자료형|ba = bytearray(b'hello')|\n",
    "|바이트 시퀀스형|memoryview type|바이트의 메모리 값으로 표현한 자료형|mv = memoryview(b'hello')|\n",
    "\n",
    "\n"
   ]
  },
  {
   "cell_type": "markdown",
   "metadata": {},
   "source": [
    "# 2.1 깊은 복사와 슬라이싱 연산"
   ]
  },
  {
   "cell_type": "markdown",
   "metadata": {},
   "source": [
    "## 2.1.1 가변성"
   ]
  },
  {
   "cell_type": "markdown",
   "metadata": {},
   "source": [
    "ch 01에서 숫자는 불변<sub>immutable</sub> 타입이었지만, **가변**<sub>mutable</sub> 타입에 대해서 살펴보자.  \n",
    "\n",
    "* 불변 : 튜플, 문자열, 바이트\n",
    "* 가변 : 리스트, 바이트"
   ]
  },
  {
   "cell_type": "code",
   "execution_count": 1,
   "metadata": {
    "ExecuteTime": {
     "end_time": "2021-09-14T00:45:17.462840Z",
     "start_time": "2021-09-14T00:45:17.450828Z"
    }
   },
   "outputs": [],
   "source": [
    "myList = [1, 2, 3, 4]\n",
    "newList = myList[:]\n",
    "newList2 = list(myList)"
   ]
  },
  {
   "cell_type": "markdown",
   "metadata": {},
   "source": [
    "셋(set)의 깊은 복사 예제."
   ]
  },
  {
   "cell_type": "code",
   "execution_count": 2,
   "metadata": {
    "ExecuteTime": {
     "end_time": "2021-09-14T00:45:17.477853Z",
     "start_time": "2021-09-14T00:45:17.463840Z"
    }
   },
   "outputs": [
    {
     "data": {
      "text/plain": [
       "{'버피'}"
      ]
     },
     "execution_count": 2,
     "metadata": {},
     "output_type": "execute_result"
    }
   ],
   "source": [
    "people = {'버피', '에인절', '자일스'}\n",
    "slayers = people.copy()\n",
    "slayers.discard('자일스')\n",
    "slayers.remove('에인절')\n",
    "\n",
    "slayers"
   ]
  },
  {
   "cell_type": "code",
   "execution_count": 3,
   "metadata": {
    "ExecuteTime": {
     "end_time": "2021-09-14T00:45:17.492868Z",
     "start_time": "2021-09-14T00:45:17.478854Z"
    }
   },
   "outputs": [
    {
     "data": {
      "text/plain": [
       "{'버피', '에인절', '자일스'}"
      ]
     },
     "execution_count": 3,
     "metadata": {},
     "output_type": "execute_result"
    }
   ],
   "source": [
    "people"
   ]
  },
  {
   "cell_type": "markdown",
   "metadata": {},
   "source": [
    "딕셔너리(dict)의 깊은 복사 예제"
   ]
  },
  {
   "cell_type": "code",
   "execution_count": 4,
   "metadata": {
    "ExecuteTime": {
     "end_time": "2021-09-14T00:45:17.507879Z",
     "start_time": "2021-09-14T00:45:17.493877Z"
    }
   },
   "outputs": [],
   "source": [
    "myDict = {'안녕': '세상'}\n",
    "newDict = myDict.copy()"
   ]
  },
  {
   "cell_type": "markdown",
   "metadata": {},
   "source": [
    "copy 모듈을 사용한 예제"
   ]
  },
  {
   "cell_type": "code",
   "execution_count": 5,
   "metadata": {
    "ExecuteTime": {
     "end_time": "2021-09-14T00:45:17.522895Z",
     "start_time": "2021-09-14T00:45:17.508880Z"
    }
   },
   "outputs": [],
   "source": [
    "import copy\n",
    "\n",
    "myObj = '어떤 다른 객체'\n",
    "newObj1 = copy.copy(myObj) # 얕은 복사(shalow copy)\n",
    "newObj2 = copy.deepcopy(myObj) # 깊은 복사"
   ]
  },
  {
   "cell_type": "markdown",
   "metadata": {},
   "source": [
    "## 2.1.2 슬라이싱 연산자"
   ]
  },
  {
   "cell_type": "markdown",
   "metadata": {},
   "source": [
    "```{python}\n",
    "seq[시작]\n",
    "seq[시작:끝]\n",
    "seq[시작:끝:스텝]\n",
    "```"
   ]
  },
  {
   "cell_type": "code",
   "execution_count": 6,
   "metadata": {
    "ExecuteTime": {
     "end_time": "2021-09-14T00:45:17.537907Z",
     "start_time": "2021-09-14T00:45:17.523893Z"
    }
   },
   "outputs": [],
   "source": [
    "s = '슬라이싱'"
   ]
  },
  {
   "cell_type": "code",
   "execution_count": 7,
   "metadata": {
    "ExecuteTime": {
     "end_time": "2021-09-14T00:45:17.552920Z",
     "start_time": "2021-09-14T00:45:17.538909Z"
    }
   },
   "outputs": [
    {
     "data": {
      "text/plain": [
       "'라'"
      ]
     },
     "execution_count": 7,
     "metadata": {},
     "output_type": "execute_result"
    }
   ],
   "source": [
    "s[1]"
   ]
  },
  {
   "cell_type": "code",
   "execution_count": 8,
   "metadata": {
    "ExecuteTime": {
     "end_time": "2021-09-14T00:45:17.567934Z",
     "start_time": "2021-09-14T00:45:17.553921Z"
    }
   },
   "outputs": [
    {
     "data": {
      "text/plain": [
       "'라이싱'"
      ]
     },
     "execution_count": 8,
     "metadata": {},
     "output_type": "execute_result"
    }
   ],
   "source": [
    "s[1:]"
   ]
  },
  {
   "cell_type": "code",
   "execution_count": 9,
   "metadata": {
    "ExecuteTime": {
     "end_time": "2021-09-14T00:45:17.583455Z",
     "start_time": "2021-09-14T00:45:17.567934Z"
    }
   },
   "outputs": [
    {
     "data": {
      "text/plain": [
       "'라이'"
      ]
     },
     "execution_count": 9,
     "metadata": {},
     "output_type": "execute_result"
    }
   ],
   "source": [
    "s[1:3]"
   ]
  },
  {
   "cell_type": "code",
   "execution_count": 10,
   "metadata": {
    "ExecuteTime": {
     "end_time": "2021-09-14T00:45:17.598469Z",
     "start_time": "2021-09-14T00:45:17.585457Z"
    }
   },
   "outputs": [
    {
     "data": {
      "text/plain": [
       "'싱이라슬'"
      ]
     },
     "execution_count": 10,
     "metadata": {},
     "output_type": "execute_result"
    }
   ],
   "source": [
    "s[::-1]"
   ]
  },
  {
   "cell_type": "markdown",
   "metadata": {},
   "source": [
    "# 2.2 문자열"
   ]
  },
  {
   "cell_type": "markdown",
   "metadata": {},
   "source": [
    "파이썬은 불변의 str 타입을 사용하여 **문자열**string을 표현한다.  \n",
    "문자열이란 곧 일련의 문자<sub>sequence of characters</sub>이다.\n",
    "\n",
    "파이썬의 모든 객체에는 두가지 출력 형식이 있다. \n",
    "\n",
    "문자열stirng 형식은 사람을 위해서 설계되었고, <br>\n",
    "표현representational형식은 파이썬 인터프리터에서 사용하는 문자열로 보통 디버깅에 사용된다.   \n",
    "\n",
    "파이썬 클래스를 작성할 때에는 문자열 표현을 정의하는 것이 중요하다. "
   ]
  },
  {
   "cell_type": "markdown",
   "metadata": {},
   "source": [
    "참조1 : https://stackoverflow.com/questions/38418070   \n",
    "참조2 : https://docs.python.org/3/reference/datamodel.html#object.__repr__"
   ]
  },
  {
   "cell_type": "markdown",
   "metadata": {},
   "source": [
    "## 2.2.1 유니코드 문자열"
   ]
  },
  {
   "cell_type": "markdown",
   "metadata": {},
   "source": [
    "**유니코드**Unicode는 전 세계 언어의 문자를 정의하기 위한 국제 표준 코드다.  \n",
    "유니코드는 공백, 특수문자, 수학 및 기타 분야의 기호들도 포함하고 있다.   "
   ]
  },
  {
   "cell_type": "code",
   "execution_count": 11,
   "metadata": {
    "ExecuteTime": {
     "end_time": "2021-09-14T00:45:17.613482Z",
     "start_time": "2021-09-14T00:45:17.599471Z"
    }
   },
   "outputs": [
    {
     "data": {
      "text/plain": [
       "'안녕 파이썬 !'"
      ]
     },
     "execution_count": 11,
     "metadata": {},
     "output_type": "execute_result"
    }
   ],
   "source": [
    "u'안녕\\u0020파이썬 !'"
   ]
  },
  {
   "cell_type": "markdown",
   "metadata": {},
   "source": [
    "위에서 이스케이프 시퀀스<sub>escape sequence</sub> 는 서수 값이 0x0020인 유니코드 문자를 나타낸다.  \n",
    "\n",
    "아스키 코드<sub>ASCII code</sub> 의 표현은 7비트(아스키 코드를 확장한 ANSI 코드는 8비트), 유니코드 표현에는 16비트가 필요하다. "
   ]
  },
  {
   "cell_type": "markdown",
   "metadata": {},
   "source": [
    "## 2.2.2 문자열 메서드"
   ]
  },
  {
   "cell_type": "markdown",
   "metadata": {},
   "source": [
    "* `A.join(B)` : 리스트 B에 있는 모든 문자열을 하나의 단일 문자열 A로 결합"
   ]
  },
  {
   "cell_type": "code",
   "execution_count": 12,
   "metadata": {
    "ExecuteTime": {
     "end_time": "2021-09-14T00:45:17.628496Z",
     "start_time": "2021-09-14T00:45:17.614484Z"
    }
   },
   "outputs": [
    {
     "data": {
      "text/plain": [
       "'버피<__>앤<__>아스틴'"
      ]
     },
     "execution_count": 12,
     "metadata": {},
     "output_type": "execute_result"
    }
   ],
   "source": [
    "slayer = ['버피', '앤', '아스틴']\n",
    "\"<__>\".join(slayer)"
   ]
  },
  {
   "cell_type": "code",
   "execution_count": 13,
   "metadata": {
    "ExecuteTime": {
     "end_time": "2021-09-14T00:45:17.643509Z",
     "start_time": "2021-09-14T00:45:17.628496Z"
    }
   },
   "outputs": [
    {
     "data": {
      "text/plain": [
       "'아스틴앤버피'"
      ]
     },
     "execution_count": 13,
     "metadata": {},
     "output_type": "execute_result"
    }
   ],
   "source": [
    "\"\".join(reversed(slayer))"
   ]
  },
  {
   "cell_type": "markdown",
   "metadata": {},
   "source": [
    "* `ljust(), rjust()` : (width, fillchar)\n",
    "\n"
   ]
  },
  {
   "cell_type": "code",
   "execution_count": 14,
   "metadata": {
    "ExecuteTime": {
     "end_time": "2021-09-14T00:45:17.658525Z",
     "start_time": "2021-09-14T00:45:17.644514Z"
    }
   },
   "outputs": [
    {
     "data": {
      "text/plain": [
       "'스칼렛-----------------------------------------------'"
      ]
     },
     "execution_count": 14,
     "metadata": {},
     "output_type": "execute_result"
    }
   ],
   "source": [
    "name = '스칼렛'\n",
    "\n",
    "name.ljust(50, '-')"
   ]
  },
  {
   "cell_type": "code",
   "execution_count": 15,
   "metadata": {
    "ExecuteTime": {
     "end_time": "2021-09-14T00:45:17.673537Z",
     "start_time": "2021-09-14T00:45:17.659525Z"
    }
   },
   "outputs": [
    {
     "data": {
      "text/plain": [
       "'-----------------------------------------------스칼렛'"
      ]
     },
     "execution_count": 15,
     "metadata": {},
     "output_type": "execute_result"
    }
   ],
   "source": [
    "name.rjust(50, '-')"
   ]
  },
  {
   "cell_type": "markdown",
   "metadata": {},
   "source": [
    "* format()"
   ]
  },
  {
   "cell_type": "code",
   "execution_count": 16,
   "metadata": {
    "ExecuteTime": {
     "end_time": "2021-09-14T00:45:17.688551Z",
     "start_time": "2021-09-14T00:45:17.674541Z"
    }
   },
   "outputs": [
    {
     "data": {
      "text/plain": [
       "'1first,2second'"
      ]
     },
     "execution_count": 16,
     "metadata": {},
     "output_type": "execute_result"
    }
   ],
   "source": [
    "'1{},2{}'.format('first','second')"
   ]
  },
  {
   "cell_type": "markdown",
   "metadata": {},
   "source": [
    "* **문자열 언패킹**"
   ]
  },
  {
   "cell_type": "markdown",
   "metadata": {},
   "source": [
    "문자열 매핑 언패킹(mapping unpacking) 연산자는 `**`이며, `locals()`메서드는 현재 스코프scope에 있는 지역 변수<sub>local variable</sbu>를 딕셔너리로 반환한다."
   ]
  },
  {
   "cell_type": "code",
   "execution_count": 17,
   "metadata": {
    "ExecuteTime": {
     "end_time": "2021-09-14T00:45:17.703564Z",
     "start_time": "2021-09-14T00:45:17.689552Z"
    }
   },
   "outputs": [
    {
     "data": {
      "text/plain": [
       "'1234 : 버피'"
      ]
     },
     "execution_count": 17,
     "metadata": {},
     "output_type": "execute_result"
    }
   ],
   "source": [
    "hero = '버피'\n",
    "number = 1234\n",
    "\n",
    "'{number} : {hero}'.format(**locals())"
   ]
  },
  {
   "cell_type": "markdown",
   "metadata": {},
   "source": [
    "* `splitlines()`"
   ]
  },
  {
   "cell_type": "code",
   "execution_count": 18,
   "metadata": {
    "ExecuteTime": {
     "end_time": "2021-09-14T00:45:17.718578Z",
     "start_time": "2021-09-14T00:45:17.704568Z"
    }
   },
   "outputs": [
    {
     "data": {
      "text/plain": [
       "['로미오', '줄리엣']"
      ]
     },
     "execution_count": 18,
     "metadata": {},
     "output_type": "execute_result"
    }
   ],
   "source": [
    "slayers = '로미오\\n줄리엣'\n",
    "slayers.splitlines()"
   ]
  },
  {
   "cell_type": "markdown",
   "metadata": {},
   "source": [
    "* `split()` "
   ]
  },
  {
   "cell_type": "markdown",
   "metadata": {},
   "source": [
    "* `strip()`"
   ]
  },
  {
   "cell_type": "code",
   "execution_count": 19,
   "metadata": {
    "ExecuteTime": {
     "end_time": "2021-09-14T00:45:17.733591Z",
     "start_time": "2021-09-14T00:45:17.719578Z"
    }
   },
   "outputs": [
    {
     "name": "stdout",
     "output_type": "stream",
     "text": [
      "Overwriting 1_count_unique_words.py\n"
     ]
    }
   ],
   "source": [
    "%%writefile 1_count_unique_words.py\n",
    "import string\n",
    "import sys\n",
    "\n",
    "\n",
    "def count_unique_word():\n",
    "    words = {}\n",
    "    strip = string.whitespace + string.punctuation + string.digits + \"\\\"'\"\n",
    "    for filename in sys.argv[1:]:\n",
    "        with open(filename) as file:\n",
    "            for line in file:\n",
    "                for word in line.lower().split():\n",
    "                    word = word.strip(strip)\n",
    "                    if len(word) > 2:\n",
    "                        words[word] = words.get(word, 0) + 1\n",
    "\n",
    "    for word in sorted(words):\n",
    "        print(\"'{0}': {1}\".format(word, words[word]))\n",
    "\n",
    "\n",
    "if __name__ == \"__main__\":\n",
    "    count_unique_word()"
   ]
  },
  {
   "cell_type": "code",
   "execution_count": 20,
   "metadata": {
    "ExecuteTime": {
     "end_time": "2021-09-14T00:45:17.748605Z",
     "start_time": "2021-09-14T00:45:17.734592Z"
    }
   },
   "outputs": [],
   "source": [
    "# !type 1_count_unique_words.py"
   ]
  },
  {
   "cell_type": "code",
   "execution_count": 21,
   "metadata": {
    "ExecuteTime": {
     "end_time": "2021-09-14T00:45:17.898742Z",
     "start_time": "2021-09-14T00:45:17.749607Z"
    },
    "scrolled": false
   },
   "outputs": [
    {
     "name": "stdout",
     "output_type": "stream",
     "text": [
      "'count_unique_word': 2\n",
      "'def': 1\n",
      "'file': 2\n",
      "'filename': 1\n",
      "'for': 4\n",
      "'format(word': 1\n",
      "'import': 2\n",
      "'len(word': 1\n",
      "'line': 1\n",
      "'line.lower().split': 1\n",
      "'main': 1\n",
      "'name': 1\n",
      "'open(filename': 1\n",
      "'print': 1\n",
      "'sorted(words': 1\n",
      "'string': 1\n",
      "'string.digits': 1\n",
      "'string.punctuation': 1\n",
      "'string.whitespace': 1\n",
      "'strip': 1\n",
      "'sys': 1\n",
      "'sys.argv': 1\n",
      "'with': 1\n",
      "'word': 3\n",
      "'word.strip(strip': 1\n",
      "'words': 1\n",
      "'words.get(word': 1\n",
      "'words[word': 2\n"
     ]
    }
   ],
   "source": [
    "!python 1_count_unique_words.py 1_count_unique_words.py"
   ]
  },
  {
   "cell_type": "markdown",
   "metadata": {},
   "source": [
    "* `swapcase()`"
   ]
  },
  {
   "cell_type": "code",
   "execution_count": 22,
   "metadata": {
    "ExecuteTime": {
     "end_time": "2021-09-14T00:45:17.913755Z",
     "start_time": "2021-09-14T00:45:17.899743Z"
    }
   },
   "outputs": [
    {
     "data": {
      "text/plain": [
       "'aBCD eFG'"
      ]
     },
     "execution_count": 22,
     "metadata": {},
     "output_type": "execute_result"
    }
   ],
   "source": [
    "slayer = 'Abcd Efg'\n",
    "slayer.swapcase()"
   ]
  },
  {
   "cell_type": "markdown",
   "metadata": {},
   "source": [
    "* `index(), find()` "
   ]
  },
  {
   "cell_type": "code",
   "execution_count": 23,
   "metadata": {
    "ExecuteTime": {
     "end_time": "2021-09-14T00:45:17.928771Z",
     "start_time": "2021-09-14T00:45:17.914759Z"
    }
   },
   "outputs": [
    {
     "data": {
      "text/plain": [
       "4"
      ]
     },
     "execution_count": 23,
     "metadata": {},
     "output_type": "execute_result"
    }
   ],
   "source": [
    "slayers = 'Buffy and Faithy'\n",
    "slayers.find('y')"
   ]
  },
  {
   "cell_type": "code",
   "execution_count": 24,
   "metadata": {
    "ExecuteTime": {
     "end_time": "2021-09-14T00:45:17.943784Z",
     "start_time": "2021-09-14T00:45:17.929771Z"
    }
   },
   "outputs": [
    {
     "data": {
      "text/plain": [
       "-1"
      ]
     },
     "execution_count": 24,
     "metadata": {},
     "output_type": "execute_result"
    }
   ],
   "source": [
    "slayers.find('k')"
   ]
  },
  {
   "cell_type": "code",
   "execution_count": 25,
   "metadata": {
    "ExecuteTime": {
     "end_time": "2021-09-14T00:45:17.958797Z",
     "start_time": "2021-09-14T00:45:17.944785Z"
    }
   },
   "outputs": [
    {
     "data": {
      "text/plain": [
       "4"
      ]
     },
     "execution_count": 25,
     "metadata": {},
     "output_type": "execute_result"
    }
   ],
   "source": [
    "slayers.index('y')"
   ]
  },
  {
   "cell_type": "code",
   "execution_count": 26,
   "metadata": {
    "ExecuteTime": {
     "end_time": "2021-09-14T00:45:17.973847Z",
     "start_time": "2021-09-14T00:45:17.959799Z"
    }
   },
   "outputs": [
    {
     "data": {
      "text/plain": [
       "15"
      ]
     },
     "execution_count": 26,
     "metadata": {},
     "output_type": "execute_result"
    }
   ],
   "source": [
    "# rfind()\n",
    "slayers.rfind('y')"
   ]
  },
  {
   "cell_type": "markdown",
   "metadata": {},
   "source": [
    "* `count()`"
   ]
  },
  {
   "cell_type": "code",
   "execution_count": 27,
   "metadata": {
    "ExecuteTime": {
     "end_time": "2021-09-14T00:45:17.988831Z",
     "start_time": "2021-09-14T00:45:17.974820Z"
    }
   },
   "outputs": [
    {
     "data": {
      "text/plain": [
       "2"
      ]
     },
     "execution_count": 27,
     "metadata": {},
     "output_type": "execute_result"
    }
   ],
   "source": [
    "slayer = 'Buffy is Buffy is Buffy'\n",
    "slayer.count('Buffy', 0, -1)"
   ]
  },
  {
   "cell_type": "code",
   "execution_count": 28,
   "metadata": {
    "ExecuteTime": {
     "end_time": "2021-09-14T00:45:18.003844Z",
     "start_time": "2021-09-14T00:45:17.991833Z"
    }
   },
   "outputs": [
    {
     "data": {
      "text/plain": [
       "3"
      ]
     },
     "execution_count": 28,
     "metadata": {},
     "output_type": "execute_result"
    }
   ],
   "source": [
    "slayer.count('Buffy')"
   ]
  },
  {
   "cell_type": "markdown",
   "metadata": {},
   "source": [
    "* `replace()`"
   ]
  },
  {
   "cell_type": "code",
   "execution_count": 29,
   "metadata": {
    "ExecuteTime": {
     "end_time": "2021-09-14T00:45:18.018859Z",
     "start_time": "2021-09-14T00:45:18.004844Z"
    }
   },
   "outputs": [
    {
     "data": {
      "text/plain": [
       "'who is who is Buffy'"
      ]
     },
     "execution_count": 29,
     "metadata": {},
     "output_type": "execute_result"
    }
   ],
   "source": [
    "slayer = 'Buffy is Buffy is Buffy'\n",
    "slayer.replace('Buffy', 'who', 2)"
   ]
  },
  {
   "cell_type": "markdown",
   "metadata": {},
   "source": [
    "* **f스트링**(formatted string literal)"
   ]
  },
  {
   "cell_type": "code",
   "execution_count": 30,
   "metadata": {
    "ExecuteTime": {
     "end_time": "2021-09-14T00:45:18.033872Z",
     "start_time": "2021-09-14T00:45:18.019860Z"
    }
   },
   "outputs": [
    {
     "data": {
      "text/plain": [
       "'내 이름은 codeChef입니다.'"
      ]
     },
     "execution_count": 30,
     "metadata": {},
     "output_type": "execute_result"
    }
   ],
   "source": [
    "name='codeChef'\n",
    "\n",
    "f'내 이름은 {name}입니다.'"
   ]
  },
  {
   "cell_type": "markdown",
   "metadata": {},
   "source": [
    "참조 : https://www.python.org/dev/peps/pep-0498/\n"
   ]
  },
  {
   "cell_type": "markdown",
   "metadata": {},
   "source": [
    "# 2.3 튜플"
   ]
  },
  {
   "cell_type": "markdown",
   "metadata": {},
   "source": [
    "* 리스트와 유사하지만 변경 불가능한 시퀀스 자료형\n",
    "* 하나의 변수에 여러 값 할당 가능\n",
    "* ‘(‘와 ‘)’를 사용하여 표현\n",
    "*  괄호를 쓰지 않으면 튜플이다.\n"
   ]
  },
  {
   "cell_type": "code",
   "execution_count": 31,
   "metadata": {
    "ExecuteTime": {
     "end_time": "2021-09-14T00:45:18.048886Z",
     "start_time": "2021-09-14T00:45:18.034872Z"
    }
   },
   "outputs": [
    {
     "data": {
      "text/plain": [
       "tuple"
      ]
     },
     "execution_count": 31,
     "metadata": {},
     "output_type": "execute_result"
    }
   ],
   "source": [
    "t1 = 1234, '안녕!'\n",
    "type(t1)"
   ]
  },
  {
   "cell_type": "code",
   "execution_count": 32,
   "metadata": {
    "ExecuteTime": {
     "end_time": "2021-09-14T00:45:18.063899Z",
     "start_time": "2021-09-14T00:45:18.049887Z"
    }
   },
   "outputs": [
    {
     "data": {
      "text/plain": [
       "(1234, '안녕!')"
      ]
     },
     "execution_count": 32,
     "metadata": {},
     "output_type": "execute_result"
    }
   ],
   "source": [
    "t1"
   ]
  },
  {
   "cell_type": "code",
   "execution_count": 33,
   "metadata": {
    "ExecuteTime": {
     "end_time": "2021-09-14T00:45:18.078918Z",
     "start_time": "2021-09-14T00:45:18.064902Z"
    }
   },
   "outputs": [
    {
     "data": {
      "text/plain": [
       "'안녕!'"
      ]
     },
     "execution_count": 33,
     "metadata": {},
     "output_type": "execute_result"
    }
   ],
   "source": [
    "t1[1]"
   ]
  },
  {
   "cell_type": "code",
   "execution_count": 34,
   "metadata": {
    "ExecuteTime": {
     "end_time": "2021-09-14T00:45:18.093931Z",
     "start_time": "2021-09-14T00:45:18.079919Z"
    }
   },
   "outputs": [
    {
     "data": {
      "text/plain": [
       "((1234, '안녕!'), (1, 2, 3, 4, 5))"
      ]
     },
     "execution_count": 34,
     "metadata": {},
     "output_type": "execute_result"
    }
   ],
   "source": [
    "t2 = t1, (1, 2, 3, 4, 5) # nested\n",
    "t2"
   ]
  },
  {
   "cell_type": "markdown",
   "metadata": {},
   "source": [
    "## 2.3.1 튜플 메서드"
   ]
  },
  {
   "cell_type": "markdown",
   "metadata": {},
   "source": [
    "`A.count(x)`"
   ]
  },
  {
   "cell_type": "code",
   "execution_count": 35,
   "metadata": {
    "ExecuteTime": {
     "end_time": "2021-09-14T00:45:18.108945Z",
     "start_time": "2021-09-14T00:45:18.094933Z"
    }
   },
   "outputs": [
    {
     "data": {
      "text/plain": [
       "2"
      ]
     },
     "execution_count": 35,
     "metadata": {},
     "output_type": "execute_result"
    }
   ],
   "source": [
    "t = 1, 5, 7, 8, 9, 4, 1, 4\n",
    "\n",
    "t.count(4)"
   ]
  },
  {
   "cell_type": "markdown",
   "metadata": {},
   "source": [
    "`A.index(x)`"
   ]
  },
  {
   "cell_type": "code",
   "execution_count": 36,
   "metadata": {
    "ExecuteTime": {
     "end_time": "2021-09-14T00:45:18.123961Z",
     "start_time": "2021-09-14T00:45:18.109948Z"
    }
   },
   "outputs": [
    {
     "data": {
      "text/plain": [
       "5"
      ]
     },
     "execution_count": 36,
     "metadata": {},
     "output_type": "execute_result"
    }
   ],
   "source": [
    "t.index(4)"
   ]
  },
  {
   "cell_type": "code",
   "execution_count": 37,
   "metadata": {
    "ExecuteTime": {
     "end_time": "2021-09-14T00:45:18.138973Z",
     "start_time": "2021-09-14T00:45:18.124962Z"
    }
   },
   "outputs": [],
   "source": [
    "# t.rindex(4)"
   ]
  },
  {
   "cell_type": "markdown",
   "metadata": {},
   "source": [
    "## 2.3.2 튜플 언패킹"
   ]
  },
  {
   "cell_type": "markdown",
   "metadata": {},
   "source": [
    "**시퀀스 언패킹 연산자**<sub>sequence unpacking operator</sub>\n",
    "\n",
    "모든 반복 가능한<sub>iterable</sub> 객체는 `*`를 사용하여 언패킹 할수 있다. "
   ]
  },
  {
   "cell_type": "code",
   "execution_count": 38,
   "metadata": {
    "ExecuteTime": {
     "end_time": "2021-09-14T00:45:18.153986Z",
     "start_time": "2021-09-14T00:45:18.139973Z"
    }
   },
   "outputs": [],
   "source": [
    "x, *y = 1, 2, 3, 4"
   ]
  },
  {
   "cell_type": "code",
   "execution_count": 39,
   "metadata": {
    "ExecuteTime": {
     "end_time": "2021-09-14T00:45:18.169002Z",
     "start_time": "2021-09-14T00:45:18.154990Z"
    }
   },
   "outputs": [
    {
     "data": {
      "text/plain": [
       "[2, 3, 4]"
      ]
     },
     "execution_count": 39,
     "metadata": {},
     "output_type": "execute_result"
    }
   ],
   "source": [
    "y"
   ]
  },
  {
   "cell_type": "code",
   "execution_count": 40,
   "metadata": {
    "ExecuteTime": {
     "end_time": "2021-09-14T00:45:18.184014Z",
     "start_time": "2021-09-14T00:45:18.170001Z"
    }
   },
   "outputs": [],
   "source": [
    "x, *y, z = 1, 2, 3, 4, 5, 6"
   ]
  },
  {
   "cell_type": "code",
   "execution_count": 41,
   "metadata": {
    "ExecuteTime": {
     "end_time": "2021-09-14T00:45:18.199027Z",
     "start_time": "2021-09-14T00:45:18.185014Z"
    }
   },
   "outputs": [
    {
     "data": {
      "text/plain": [
       "[2, 3, 4, 5]"
      ]
     },
     "execution_count": 41,
     "metadata": {},
     "output_type": "execute_result"
    }
   ],
   "source": [
    "y"
   ]
  },
  {
   "cell_type": "markdown",
   "metadata": {},
   "source": [
    "## 2.3.3 네임드 튜플 "
   ]
  },
  {
   "cell_type": "markdown",
   "metadata": {},
   "source": [
    "`collections` 모듈의 **네임드 튜플**<sub>named tuple</sub>"
   ]
  },
  {
   "cell_type": "code",
   "execution_count": 42,
   "metadata": {
    "ExecuteTime": {
     "end_time": "2021-09-14T00:45:18.214041Z",
     "start_time": "2021-09-14T00:45:18.200028Z"
    }
   },
   "outputs": [],
   "source": [
    "import collections\n",
    "\n",
    "Person = collections.namedtuple('Person', 'name age gender')"
   ]
  },
  {
   "cell_type": "code",
   "execution_count": 43,
   "metadata": {
    "ExecuteTime": {
     "end_time": "2021-09-14T00:45:18.229054Z",
     "start_time": "2021-09-14T00:45:18.215042Z"
    }
   },
   "outputs": [],
   "source": [
    "p = Person('아스티', 30, '남자')"
   ]
  },
  {
   "cell_type": "code",
   "execution_count": 44,
   "metadata": {
    "ExecuteTime": {
     "end_time": "2021-09-14T00:45:18.244071Z",
     "start_time": "2021-09-14T00:45:18.230055Z"
    }
   },
   "outputs": [
    {
     "data": {
      "text/plain": [
       "'아스티'"
      ]
     },
     "execution_count": 44,
     "metadata": {},
     "output_type": "execute_result"
    }
   ],
   "source": [
    "p.name"
   ]
  },
  {
   "cell_type": "code",
   "execution_count": 45,
   "metadata": {
    "ExecuteTime": {
     "end_time": "2021-09-14T00:45:18.259081Z",
     "start_time": "2021-09-14T00:45:18.245069Z"
    }
   },
   "outputs": [
    {
     "name": "stdout",
     "output_type": "stream",
     "text": [
      "can't set attribute\n"
     ]
    }
   ],
   "source": [
    "try:\n",
    "    p.age = 20\n",
    "except AttributeError as e:\n",
    "    print(e)"
   ]
  },
  {
   "cell_type": "markdown",
   "metadata": {},
   "source": [
    "# 2.4 리스트"
   ]
  },
  {
   "cell_type": "markdown",
   "metadata": {},
   "source": [
    "**배열**<sub>array</sub> 은 여러 원소(elements)들이 연속된 메모리에 순차적으로 저장되는 매우 간단한 구조다. **연결 리스트**<sub>linked list</sub>는 여러 분리된 노드node가 서로 연결되어 있는 구조다. \n",
    "\n",
    "자료구조의 내용을 순회<sub>iterating</sub>하는 데에는 둘 모두 똑같이 효율적이지만, 어떤 요소(또는 노드)에 **직접 접근**할 때 배열의 시간복잡도<sub>time complexity</sub>는 $O(1)$이고, 연결 리스트는 $O(n)$이다."
   ]
  },
  {
   "cell_type": "markdown",
   "metadata": {},
   "source": [
    "또한 연결 리스트에서 어떤 노드를 삽입할 때, 그 위치를 안다면 연결 리스트 노드 수에 상관없이 시간복잡도는 $O(1)$이다. 배열에서 어떤 위치에 항목을 **삽입**하려면, 그 위치에서부터 모든 항목을 오른쪽으로 옮겨야 하므로 시간복잡도는 $O(n)$이다. "
   ]
  },
  {
   "cell_type": "markdown",
   "metadata": {},
   "source": [
    "파이썬에서 배열과 유사한 객체는 **리스트**list이다.   \n",
    "\n",
    "리스트는 크기를 동적으로 조정할 수 있는 배열이다. 연결 리스트와는 아무런 관련도 없다. \n",
    "\n",
    "연결 리스트는 매우 중요한 **추상 데이터 타입**(ADT)이다.\n",
    "\n",
    "배열(또는 파이썬 리스트)과 연결 리스트의 차이점을 아는 것은 매우 중요하다. \n",
    "\n"
   ]
  },
  {
   "cell_type": "markdown",
   "metadata": {},
   "source": [
    "리스트는 가변 타입이다. "
   ]
  },
  {
   "cell_type": "code",
   "execution_count": 46,
   "metadata": {
    "ExecuteTime": {
     "end_time": "2021-09-14T00:45:18.274095Z",
     "start_time": "2021-09-14T00:45:18.260083Z"
    }
   },
   "outputs": [
    {
     "data": {
      "text/plain": [
       "[2, 3, '매롱']"
      ]
     },
     "execution_count": 46,
     "metadata": {},
     "output_type": "execute_result"
    }
   ],
   "source": [
    "q = [2, 3]\n",
    "p = [1, q, 4]\n",
    "\n",
    "p[1].append('매롱')\n",
    "\n",
    "q"
   ]
  },
  {
   "cell_type": "markdown",
   "metadata": {},
   "source": [
    "`append()`와`pop()` 메서드를 사용하며, 시간복잡도는 $O(1)$이다. \n",
    "\n",
    "`remove()`,`index()`, 멤버십 테스트 `in` 등의 시간복잡도는 $O(n)$이다.\n",
    "\n",
    "`insert()`메서드 $O(n)$이다."
   ]
  },
  {
   "cell_type": "markdown",
   "metadata": {},
   "source": [
    "검색이나 멤버십 테스트 시 빠른 속도가 필요하다면 **셋**set이다 **딕셔너리**dictionary 같은 컬렉션 타입을 선택하는 것이 더 적합할 수 있다. \n",
    "\n",
    "또는 리스트에 항목을 순서대로 정렬하여 보관하면, 빠른 검색을 제공할 수 있다.(10장에서 시간복잡도가 $O(\\log{n})$ 인 검색 알고리즘에 대해서 살펴본다. "
   ]
  },
  {
   "cell_type": "markdown",
   "metadata": {},
   "source": [
    "## 2.4.1 리스트 메서드"
   ]
  },
  {
   "cell_type": "markdown",
   "metadata": {},
   "source": [
    "`append()`"
   ]
  },
  {
   "cell_type": "markdown",
   "metadata": {},
   "source": [
    "`extend()`"
   ]
  },
  {
   "cell_type": "markdown",
   "metadata": {},
   "source": [
    "`insert()`"
   ]
  },
  {
   "cell_type": "markdown",
   "metadata": {},
   "source": [
    "`remove()`"
   ]
  },
  {
   "cell_type": "markdown",
   "metadata": {},
   "source": [
    "`pop()`"
   ]
  },
  {
   "cell_type": "markdown",
   "metadata": {},
   "source": [
    "`del a[]`"
   ]
  },
  {
   "cell_type": "markdown",
   "metadata": {},
   "source": [
    "`index()`"
   ]
  },
  {
   "cell_type": "markdown",
   "metadata": {},
   "source": [
    "`count()`"
   ]
  },
  {
   "cell_type": "markdown",
   "metadata": {},
   "source": [
    "`sort()`"
   ]
  },
  {
   "cell_type": "markdown",
   "metadata": {},
   "source": [
    "`reverse()`"
   ]
  },
  {
   "cell_type": "markdown",
   "metadata": {},
   "source": [
    "## 2.4.2 리스트 언패킹"
   ]
  },
  {
   "cell_type": "markdown",
   "metadata": {},
   "source": [
    "**시퀀스 언패킹 연산자**<sub>sequence unpacking operator</sub>\n",
    "\n",
    "모든 반복 가능한<sub>iterable</sub> 객체는 `*`를 사용하여 언패킹 할수 있다. "
   ]
  },
  {
   "cell_type": "code",
   "execution_count": 47,
   "metadata": {
    "ExecuteTime": {
     "end_time": "2021-09-14T00:45:18.289109Z",
     "start_time": "2021-09-14T00:45:18.275096Z"
    }
   },
   "outputs": [],
   "source": [
    "def example_args(a, b, c):\n",
    "    return a * b * c"
   ]
  },
  {
   "cell_type": "code",
   "execution_count": 48,
   "metadata": {
    "ExecuteTime": {
     "end_time": "2021-09-14T00:45:18.304123Z",
     "start_time": "2021-09-14T00:45:18.289109Z"
    }
   },
   "outputs": [
    {
     "data": {
      "text/plain": [
       "24"
      ]
     },
     "execution_count": 48,
     "metadata": {},
     "output_type": "execute_result"
    }
   ],
   "source": [
    "L = [2, 3, 4]\n",
    "\n",
    "example_args(*L)"
   ]
  },
  {
   "cell_type": "code",
   "execution_count": 49,
   "metadata": {
    "ExecuteTime": {
     "end_time": "2021-09-14T00:45:18.319137Z",
     "start_time": "2021-09-14T00:45:18.305125Z"
    }
   },
   "outputs": [
    {
     "data": {
      "text/plain": [
       "60"
      ]
     },
     "execution_count": 49,
     "metadata": {},
     "output_type": "execute_result"
    }
   ],
   "source": [
    "example_args(5, *L[1:])"
   ]
  },
  {
   "cell_type": "markdown",
   "metadata": {},
   "source": [
    "## 2.4.3 리스트 컴프리헨션"
   ]
  },
  {
   "cell_type": "markdown",
   "metadata": {},
   "source": [
    "**리스트 컴프리헨션**list compreshension은 반복문의 표현식이다.(조건문 포함 가능)"
   ]
  },
  {
   "cell_type": "markdown",
   "metadata": {},
   "source": [
    "* `[ 항목 for 항목 in 반복 가능한 객체 ]`\n",
    "\n",
    "* `[ 표현식 for 항목 in 반복 가능한 객체 ]`\n",
    "\n",
    "* `[ 표현식 for 항목 in 반복 가능한 객체 if 조건문 ]`"
   ]
  },
  {
   "cell_type": "code",
   "execution_count": 50,
   "metadata": {
    "ExecuteTime": {
     "end_time": "2021-09-14T00:45:18.334151Z",
     "start_time": "2021-09-14T00:45:18.320139Z"
    }
   },
   "outputs": [
    {
     "data": {
      "text/plain": [
       "[1, 2, 4, 8, 16, 32, 64, 128, 256, 512, 1024, 2048, 4096]"
      ]
     },
     "execution_count": 50,
     "metadata": {},
     "output_type": "execute_result"
    }
   ],
   "source": [
    "[2**i for i in range(13)]"
   ]
  },
  {
   "cell_type": "code",
   "execution_count": 51,
   "metadata": {
    "ExecuteTime": {
     "end_time": "2021-09-14T00:45:18.349164Z",
     "start_time": "2021-09-14T00:45:18.335153Z"
    }
   },
   "outputs": [
    {
     "data": {
      "text/plain": [
       "[1900, 1904, 1908, 1912, 1916, 1920, 1924, 1928, 1932, 1936]"
      ]
     },
     "execution_count": 51,
     "metadata": {},
     "output_type": "execute_result"
    }
   ],
   "source": [
    "[y for y in range(1900, 1940) if y%4 == 0]"
   ]
  },
  {
   "cell_type": "code",
   "execution_count": 52,
   "metadata": {
    "ExecuteTime": {
     "end_time": "2021-09-14T00:45:18.364178Z",
     "start_time": "2021-09-14T00:45:18.350165Z"
    }
   },
   "outputs": [
    {
     "data": {
      "text/plain": [
       "['3.1', '3.14', '3.142', '3.1416', '3.14159']"
      ]
     },
     "execution_count": 52,
     "metadata": {},
     "output_type": "execute_result"
    }
   ],
   "source": [
    "[str(round(355/113.0, i)) for i in range(1, 6)]"
   ]
  },
  {
   "cell_type": "code",
   "execution_count": 53,
   "metadata": {
    "ExecuteTime": {
     "end_time": "2021-09-14T00:45:18.379192Z",
     "start_time": "2021-09-14T00:45:18.365178Z"
    }
   },
   "outputs": [
    {
     "data": {
      "text/plain": [
       "[['i', 1],\n",
       " ['am', 2],\n",
       " ['good', 4],\n",
       " ['enough', 6],\n",
       " ['to', 2],\n",
       " ['beat', 4],\n",
       " ['this!', 5]]"
      ]
     },
     "execution_count": 53,
     "metadata": {},
     "output_type": "execute_result"
    }
   ],
   "source": [
    "[ [w.lower(), len(w)] for w in 'I am good enough to beat this!'.split()]"
   ]
  },
  {
   "cell_type": "markdown",
   "metadata": {},
   "source": [
    "* 파이썬 스타일 가이드https://google.github.io/styleguide/pyguide.html\n",
    "\n",
    "어떤 경우 list comprehension을 사용할지, 반복문을 사용할지는 가독성에 따라서 다르다. (물론 속도의 차이도 존재하지만 크지는 않다.)"
   ]
  },
  {
   "cell_type": "markdown",
   "metadata": {},
   "source": [
    "## 2.4.4 리스트 메서드 성능 측정"
   ]
  },
  {
   "cell_type": "code",
   "execution_count": 54,
   "metadata": {
    "ExecuteTime": {
     "end_time": "2021-09-14T00:45:19.235217Z",
     "start_time": "2021-09-14T00:45:18.380192Z"
    }
   },
   "outputs": [
    {
     "name": "stdout",
     "output_type": "stream",
     "text": [
      "concat  0.7573895569999998 milliseconds\n",
      "append  0.05326221600000025 milliseconds\n",
      "comprehension  0.02335876499999978 milliseconds\n",
      "list range  0.00943639499999982 milliseconds\n"
     ]
    }
   ],
   "source": [
    "def test1():\n",
    "    l = []\n",
    "    for i in range(1000):\n",
    "        l = l + [i]\n",
    "\n",
    "\n",
    "def test2():\n",
    "    l = []\n",
    "    for i in range(1000):\n",
    "        l.append(i)\n",
    "\n",
    "\n",
    "def test3():\n",
    "    l = [i for i in range(1000)]\n",
    "\n",
    "\n",
    "def test4():\n",
    "    l = list(range(1000))\n",
    "\n",
    "\n",
    "if __name__ == \"__main__\":\n",
    "    import timeit\n",
    "    t1 = timeit.Timer(\"test1()\", \"from __main__ import test1\")\n",
    "    print(\"concat \", t1.timeit(number=1000), \"milliseconds\")\n",
    "    t2 = timeit.Timer(\"test2()\", \"from __main__ import test2\")\n",
    "    print(\"append \", t2.timeit(number=1000), \"milliseconds\")\n",
    "    t3 = timeit.Timer(\"test3()\", \"from __main__ import test3\")\n",
    "    print(\"comprehension \", t3.timeit(number=1000), \"milliseconds\")\n",
    "    t4 = timeit.Timer(\"test4()\", \"from __main__ import test4\")\n",
    "    print(\"list range \", t4.timeit(number=1000), \"milliseconds\")"
   ]
  },
  {
   "cell_type": "markdown",
   "metadata": {},
   "source": [
    "종합적으로, 리스트 메서드의 시간복잡도는 다음과 같다. \n",
    "\n",
    "n은 리스트의 총 항목수 이고, k는 연산(조회 및 추가 항목수이다.)\n",
    "\n",
    "|연산|시간복잡도|\n",
    "|:---|:---|\n",
    "|인덱스[]접근|$O(1)$|\n",
    "|인덱스할당|$O(1)$|\n",
    "|`append()`|$O(1)$|\n",
    "|`pop()`|$O(1)$|\n",
    "|`pop(i)`|$O(n)$|\n",
    "|`insert(i, 항목)`|$O(n)$|\n",
    "|`del` 연산자|$O(n)$|\n",
    "|삽입|$O(n)$|\n",
    "|멤버쉽 테스트 `in`|$O(n)$|\n",
    "|슬라이스 [x:y]조회|$O(k)$|\n",
    "|슬라이스 삭제|$O(n)$|\n",
    "|슬라이스 할당|$O(n + k)$|\n",
    "|`reverse()`|$O(n)$|\n",
    "|연결<sub>concatenate</sub>|$O(k)$|\n",
    "|`sort()`|$O(n\\log{n})$|\n",
    "|곱하기|$O(nk)$|\n",
    "\n"
   ]
  },
  {
   "cell_type": "markdown",
   "metadata": {},
   "source": [
    "# 2.5 바이트와 바이트 배열"
   ]
  },
  {
   "cell_type": "markdown",
   "metadata": {},
   "source": [
    "파이썬은 원시 바이트(raw byte)를 처리하는 데 사용할 수 있는 데이터 타입으로 불변 타입의 **바이트**(byte)와 가변 타입의 **바이트 배열**(bytearray)를 제공한다. 두 타입 모두 0~255 범위의 부호 없는 8비트 정수 시퀀스로 이루어진다. "
   ]
  },
  {
   "cell_type": "code",
   "execution_count": 55,
   "metadata": {
    "ExecuteTime": {
     "end_time": "2021-09-14T00:45:19.250194Z",
     "start_time": "2021-09-14T00:45:19.236181Z"
    }
   },
   "outputs": [
    {
     "data": {
      "text/plain": [
       "b'\\x01\\x02\\x03\\xff'"
      ]
     },
     "execution_count": 55,
     "metadata": {},
     "output_type": "execute_result"
    }
   ],
   "source": [
    "blist = [1, 2, 3, 255]\n",
    "the_bytes = bytes(blist)\n",
    "the_bytes"
   ]
  },
  {
   "cell_type": "code",
   "execution_count": 56,
   "metadata": {
    "ExecuteTime": {
     "end_time": "2021-09-14T00:45:19.265208Z",
     "start_time": "2021-09-14T00:45:19.251195Z"
    }
   },
   "outputs": [
    {
     "data": {
      "text/plain": [
       "bytearray(b'\\x01\\x02\\x03\\xff')"
      ]
     },
     "execution_count": 56,
     "metadata": {},
     "output_type": "execute_result"
    }
   ],
   "source": [
    "the_byte_array = bytearray(blist)\n",
    "the_byte_array"
   ]
  },
  {
   "cell_type": "markdown",
   "metadata": {},
   "source": [
    "## 2.5.1 비트와 비트 연산자"
   ]
  },
  {
   "cell_type": "markdown",
   "metadata": {},
   "source": [
    "비트 연산자는 비트로 표현된 숫자를 조작하는 데 유용하다 .예를 들어 곱셈 연산자를 사용하는 대신 비트 연산자로 곱셈을 할 수 있다. "
   ]
  },
  {
   "cell_type": "markdown",
   "metadata": {},
   "source": [
    "* & (Binary AND) : bit 단위로 and연산을 합니다.\n",
    "* | (Binary OR) : bit 단위로 or연산을 합니다.\n",
    "* ^ (Binary XOR) : bit 단위로 xor연산을 합니다.\n",
    "* ~ (Binary NOT) : bit 단위로 not연산을 합니다.(1의 보수)\n",
    "* << (Binary left Shift) : bit 단위로 왼쪽으로 비트단위 밀기 연산을 합니다.\n",
    "* \\>> (Binary right Shift) : bit 단위로 오른쪽으로 비트단위 밀기 연산을 합니다."
   ]
  },
  {
   "cell_type": "markdown",
   "metadata": {},
   "source": [
    "`1 << x`는 숫자 1을 x번 만큼 **왼쪽으로 이동**left shift한다는 의미로 $2^x$을 신속하게 계산 할 수 있다. \n",
    "\n",
    "또한 `x & (x -1)`이 0인지 확인하면, x가 2의 제곱인지 아닌지 신속하게 확인할수 있다."
   ]
  },
  {
   "cell_type": "code",
   "execution_count": 57,
   "metadata": {
    "ExecuteTime": {
     "end_time": "2021-09-14T00:45:19.280015Z",
     "start_time": "2021-09-14T00:45:19.266210Z"
    }
   },
   "outputs": [
    {
     "data": {
      "text/plain": [
       "8"
      ]
     },
     "execution_count": 57,
     "metadata": {},
     "output_type": "execute_result"
    }
   ],
   "source": [
    "1 << 3"
   ]
  },
  {
   "cell_type": "code",
   "execution_count": 58,
   "metadata": {
    "ExecuteTime": {
     "end_time": "2021-09-14T00:45:19.295031Z",
     "start_time": "2021-09-14T00:45:19.281019Z"
    }
   },
   "outputs": [],
   "source": [
    "x = 8"
   ]
  },
  {
   "cell_type": "code",
   "execution_count": 59,
   "metadata": {
    "ExecuteTime": {
     "end_time": "2021-09-14T00:45:19.309904Z",
     "start_time": "2021-09-14T00:45:19.296032Z"
    }
   },
   "outputs": [
    {
     "data": {
      "text/plain": [
       "'0b1000'"
      ]
     },
     "execution_count": 59,
     "metadata": {},
     "output_type": "execute_result"
    }
   ],
   "source": [
    "bin(x)"
   ]
  },
  {
   "cell_type": "code",
   "execution_count": 60,
   "metadata": {
    "ExecuteTime": {
     "end_time": "2021-09-14T00:45:19.324922Z",
     "start_time": "2021-09-14T00:45:19.310907Z"
    }
   },
   "outputs": [
    {
     "data": {
      "text/plain": [
       "'0b111'"
      ]
     },
     "execution_count": 60,
     "metadata": {},
     "output_type": "execute_result"
    }
   ],
   "source": [
    "bin(x - 1)"
   ]
  },
  {
   "cell_type": "code",
   "execution_count": 61,
   "metadata": {
    "ExecuteTime": {
     "end_time": "2021-09-14T00:45:19.339934Z",
     "start_time": "2021-09-14T00:45:19.325920Z"
    }
   },
   "outputs": [
    {
     "data": {
      "text/plain": [
       "0"
      ]
     },
     "execution_count": 61,
     "metadata": {},
     "output_type": "execute_result"
    }
   ],
   "source": [
    "x & (x - 1)"
   ]
  },
  {
   "cell_type": "markdown",
   "metadata": {},
   "source": [
    "x 는 `1000` x - 1 은 `0111` 이 되므로 & 연산자를 쓰게 되면 `0000` 되므로 0이 된다. "
   ]
  },
  {
   "cell_type": "code",
   "execution_count": 62,
   "metadata": {
    "ExecuteTime": {
     "end_time": "2021-09-14T00:45:19.354942Z",
     "start_time": "2021-09-14T00:45:19.340936Z"
    }
   },
   "outputs": [],
   "source": [
    "x = 1024"
   ]
  },
  {
   "cell_type": "code",
   "execution_count": 63,
   "metadata": {
    "ExecuteTime": {
     "end_time": "2021-09-14T00:45:19.369957Z",
     "start_time": "2021-09-14T00:45:19.355943Z"
    }
   },
   "outputs": [
    {
     "data": {
      "text/plain": [
       "'0b11111111111'"
      ]
     },
     "execution_count": 63,
     "metadata": {},
     "output_type": "execute_result"
    }
   ],
   "source": [
    "bin(x | (x - 1))"
   ]
  },
  {
   "cell_type": "markdown",
   "metadata": {},
   "source": [
    "반대로 |(or) 연산자는 전부 `111111...`를 만든다. ($2^x$인경우)"
   ]
  },
  {
   "cell_type": "markdown",
   "metadata": {},
   "source": [
    "# 2.6 연습문제"
   ]
  },
  {
   "cell_type": "markdown",
   "metadata": {},
   "source": [
    "## 2.6.1 문자열 전체 반전하기"
   ]
  },
  {
   "cell_type": "code",
   "execution_count": 64,
   "metadata": {
    "ExecuteTime": {
     "end_time": "2021-09-14T00:45:19.384972Z",
     "start_time": "2021-09-14T00:45:19.370958Z"
    }
   },
   "outputs": [],
   "source": [
    "def revert(s):\n",
    "    return s[::-1]\n",
    "\n",
    "def revert_recur(s):\n",
    "    if s: \n",
    "        s = s[-1] + revert(s[:-1])\n",
    "    return s\n"
   ]
  },
  {
   "cell_type": "code",
   "execution_count": 65,
   "metadata": {
    "ExecuteTime": {
     "end_time": "2021-09-14T00:45:19.399985Z",
     "start_time": "2021-09-14T00:45:19.385972Z"
    }
   },
   "outputs": [
    {
     "data": {
      "text/plain": [
       "'요세하녕안'"
      ]
     },
     "execution_count": 65,
     "metadata": {},
     "output_type": "execute_result"
    }
   ],
   "source": [
    "revert('안녕하세요')"
   ]
  },
  {
   "cell_type": "code",
   "execution_count": 66,
   "metadata": {
    "ExecuteTime": {
     "end_time": "2021-09-14T00:45:19.414997Z",
     "start_time": "2021-09-14T00:45:19.400984Z"
    }
   },
   "outputs": [
    {
     "data": {
      "text/plain": [
       "'요세하녕안'"
      ]
     },
     "execution_count": 66,
     "metadata": {},
     "output_type": "execute_result"
    }
   ],
   "source": [
    "revert_recur('안녕하세요')"
   ]
  },
  {
   "cell_type": "markdown",
   "metadata": {},
   "source": [
    "## 2.6.2 문자열 단어 단위로 반전하기"
   ]
  },
  {
   "cell_type": "markdown",
   "metadata": {},
   "source": [
    "포인터를 사용할 경우, 두개의 반복문으로 구성"
   ]
  },
  {
   "cell_type": "code",
   "execution_count": 67,
   "metadata": {
    "ExecuteTime": {
     "end_time": "2021-09-14T00:45:19.430012Z",
     "start_time": "2021-09-14T00:45:19.415998Z"
    }
   },
   "outputs": [],
   "source": [
    "def reverser(string1, p1 = 0, p2 = None):\n",
    "    if len(string1) < 2:\n",
    "        return string1\n",
    "    \n",
    "    p2 = p2 or len(string1) - 1\n",
    "    \n",
    "    while p1 < p2:\n",
    "    \n",
    "        string1[p1], string1[p2] = string1[p2], string1[p1]\n",
    "        p1 += 1\n",
    "        p2 -= 1\n",
    "    \n",
    "\n",
    "def reversing_words_setence_logic(string1):\n",
    "    # 먼저, 문장 전체를 반전한다.\n",
    "    reverser(string1)\n",
    "    print(string1)\n",
    "    p = 0 \n",
    "    start = 0\n",
    "    \n",
    "    while p < len(string1):\n",
    "        if string1[p] == u\"\\u0020\": # 빈칸\n",
    "            # 단어를 다시 반전한다(단어를 원 위치로 돌려 놓는다.)\n",
    "            reverser(string1, start, p-1)\n",
    "            print(string1)\n",
    "            start = p + 1\n",
    "        p += 1\n",
    "        \n",
    "    # 마지막 단어를 반전한다(단어를 원위치로 돌려 놓는다.)\n",
    "    reverser(string1, start, p-1)\n",
    "    print(string1)\n",
    "    return \"\".join(string1)"
   ]
  },
  {
   "cell_type": "code",
   "execution_count": 68,
   "metadata": {
    "ExecuteTime": {
     "end_time": "2021-09-14T00:45:19.445033Z",
     "start_time": "2021-09-14T00:45:19.431013Z"
    },
    "scrolled": true
   },
   "outputs": [
    {
     "name": "stdout",
     "output_type": "stream",
     "text": [
      "['~', '다', '지', '미', '재', ' ', '말', '정', ' ', '즘', '리', '고', '알', ' ', '썬', '이', '파']\n",
      "['재', '미', '지', '다', '~', ' ', '말', '정', ' ', '즘', '리', '고', '알', ' ', '썬', '이', '파']\n",
      "['재', '미', '지', '다', '~', ' ', '정', '말', ' ', '즘', '리', '고', '알', ' ', '썬', '이', '파']\n",
      "['재', '미', '지', '다', '~', ' ', '정', '말', ' ', '알', '고', '리', '즘', ' ', '썬', '이', '파']\n",
      "['재', '미', '지', '다', '~', ' ', '정', '말', ' ', '알', '고', '리', '즘', ' ', '파', '이', '썬']\n"
     ]
    },
    {
     "data": {
      "text/plain": [
       "'재미지다~ 정말 알고리즘 파이썬'"
      ]
     },
     "execution_count": 68,
     "metadata": {},
     "output_type": "execute_result"
    }
   ],
   "source": [
    "str1 = \"파이썬 알고리즘 정말 재미지다~\"\n",
    "reversing_words_setence_logic(list(str1))"
   ]
  },
  {
   "cell_type": "code",
   "execution_count": 69,
   "metadata": {
    "ExecuteTime": {
     "end_time": "2021-09-14T00:45:19.460046Z",
     "start_time": "2021-09-14T00:45:19.446033Z"
    }
   },
   "outputs": [
    {
     "data": {
      "text/plain": [
       "['재미지다~', '정말', '알고리즘', '파이썬']"
      ]
     },
     "execution_count": 69,
     "metadata": {},
     "output_type": "execute_result"
    }
   ],
   "source": [
    "str1_l = str1.split()\n",
    "reverser(str1_l)\n",
    "str1_l"
   ]
  },
  {
   "cell_type": "markdown",
   "metadata": {},
   "source": [
    "하나의 반복문만 사용, 단어 단위로 나누어서 리스트에 추가한 후 리스트를 반전"
   ]
  },
  {
   "cell_type": "code",
   "execution_count": 74,
   "metadata": {
    "ExecuteTime": {
     "end_time": "2021-09-14T00:52:47.447112Z",
     "start_time": "2021-09-14T00:52:47.440566Z"
    }
   },
   "outputs": [],
   "source": [
    "def reverse_words_brute(string):\n",
    "    word, sentence = [], []\n",
    "    for character in string:\n",
    "        if character !=\" \":\n",
    "            word.append(character)\n",
    "        else:\n",
    "            # 조건문에서 빈 리스트는 Falase다. 여러 공백이 있는 경우, \n",
    "            # 조건문을 건너뛴다.\n",
    "            if word:\n",
    "                sentence.append(\"\".join(word))\n",
    "            word = []\n",
    "            \n",
    "        # 마지막 단어가 있다면, 문장에 추가한다.\n",
    "    if word != \"\":\n",
    "        sentence.append(\"\".join(word))\n",
    "    sentence.reverse()\n",
    "    return \" \".join(sentence)\n",
    "    "
   ]
  },
  {
   "cell_type": "code",
   "execution_count": 75,
   "metadata": {
    "ExecuteTime": {
     "end_time": "2021-09-14T00:52:47.764139Z",
     "start_time": "2021-09-14T00:52:47.755131Z"
    }
   },
   "outputs": [
    {
     "data": {
      "text/plain": [
       "'재미지다~ 정말 알고리즘 파이썬'"
      ]
     },
     "execution_count": 75,
     "metadata": {},
     "output_type": "execute_result"
    }
   ],
   "source": [
    "reverse_words_brute(str1)"
   ]
  },
  {
   "cell_type": "markdown",
   "metadata": {},
   "source": [
    "문자열을 공백으로 구분해서 리스트를 생성한 다음, 슬라이스"
   ]
  },
  {
   "cell_type": "code",
   "execution_count": 76,
   "metadata": {
    "ExecuteTime": {
     "end_time": "2021-09-14T00:56:35.815617Z",
     "start_time": "2021-09-14T00:56:35.806608Z"
    }
   },
   "outputs": [],
   "source": [
    "def reversing_words_slice(word):\n",
    "    new_word = []\n",
    "    words = word.split(\" \")\n",
    "    for word in words[::-1]:\n",
    "        new_word.append(word)\n",
    "    return \" \".join(new_word)"
   ]
  },
  {
   "cell_type": "code",
   "execution_count": 77,
   "metadata": {
    "ExecuteTime": {
     "end_time": "2021-09-14T00:56:41.636354Z",
     "start_time": "2021-09-14T00:56:41.625342Z"
    }
   },
   "outputs": [
    {
     "data": {
      "text/plain": [
       "'재미지다~ 정말 알고리즘 파이썬'"
      ]
     },
     "execution_count": 77,
     "metadata": {},
     "output_type": "execute_result"
    }
   ],
   "source": [
    "reversing_words_slice(str1)"
   ]
  },
  {
   "cell_type": "markdown",
   "metadata": {},
   "source": [
    "반복문 없이 리스트와 문자열 메서드만으로"
   ]
  },
  {
   "cell_type": "code",
   "execution_count": 78,
   "metadata": {
    "ExecuteTime": {
     "end_time": "2021-09-14T00:57:44.307840Z",
     "start_time": "2021-09-14T00:57:44.303835Z"
    }
   },
   "outputs": [],
   "source": [
    "def reversing_words(str1):\n",
    "    words = str1.split(\" \")\n",
    "    rev_set = \" \".join(reversed(words))\n",
    "    return rev_set"
   ]
  },
  {
   "cell_type": "code",
   "execution_count": 79,
   "metadata": {
    "ExecuteTime": {
     "end_time": "2021-09-14T00:58:26.268093Z",
     "start_time": "2021-09-14T00:58:26.251077Z"
    }
   },
   "outputs": [],
   "source": [
    "def reversing_words2(str1):\n",
    "    words = str1.split(\" \")\n",
    "    words.reverse()\n",
    "    return \" \".join(words)"
   ]
  },
  {
   "cell_type": "code",
   "execution_count": 80,
   "metadata": {
    "ExecuteTime": {
     "end_time": "2021-09-14T00:58:33.930235Z",
     "start_time": "2021-09-14T00:58:33.921227Z"
    }
   },
   "outputs": [
    {
     "data": {
      "text/plain": [
       "'재미지다~ 정말 알고리즘 파이썬'"
      ]
     },
     "execution_count": 80,
     "metadata": {},
     "output_type": "execute_result"
    }
   ],
   "source": [
    "reversing_words(str1)"
   ]
  },
  {
   "cell_type": "code",
   "execution_count": 81,
   "metadata": {
    "ExecuteTime": {
     "end_time": "2021-09-14T00:58:39.525260Z",
     "start_time": "2021-09-14T00:58:39.513247Z"
    }
   },
   "outputs": [
    {
     "data": {
      "text/plain": [
       "'재미지다~ 정말 알고리즘 파이썬'"
      ]
     },
     "execution_count": 81,
     "metadata": {},
     "output_type": "execute_result"
    }
   ],
   "source": [
    "reversing_words2(str1)"
   ]
  },
  {
   "cell_type": "markdown",
   "metadata": {},
   "source": [
    "## 2.6.3 단순 문자열 압축"
   ]
  },
  {
   "cell_type": "code",
   "execution_count": 84,
   "metadata": {
    "ExecuteTime": {
     "end_time": "2021-09-14T01:05:55.583090Z",
     "start_time": "2021-09-14T01:05:55.570898Z"
    }
   },
   "outputs": [],
   "source": [
    "def str_compression(s):\n",
    "    count, last = 1, \"\"\n",
    "    list_aux = []\n",
    "    for i, c in enumerate(s):\n",
    "        if last == c:\n",
    "            count += 1\n",
    "        else:\n",
    "            if i != 0:\n",
    "                list_aux.append(str(count))\n",
    "            list_aux.append(c)\n",
    "            count = 1\n",
    "            last = c\n",
    "    list_aux.append(str(count))\n",
    "    return \"\".join(list_aux)"
   ]
  },
  {
   "cell_type": "code",
   "execution_count": 85,
   "metadata": {
    "ExecuteTime": {
     "end_time": "2021-09-14T01:05:55.809238Z",
     "start_time": "2021-09-14T01:05:55.800223Z"
    }
   },
   "outputs": [
    {
     "data": {
      "text/plain": [
       "'a2b2'"
      ]
     },
     "execution_count": 85,
     "metadata": {},
     "output_type": "execute_result"
    }
   ],
   "source": [
    "str_compression('aabb')"
   ]
  },
  {
   "cell_type": "markdown",
   "metadata": {},
   "source": [
    "## 2.6.4 문자열 순열"
   ]
  },
  {
   "cell_type": "markdown",
   "metadata": {},
   "source": [
    "순열permutation은 서로 다른 n개 중 r개를 골라 순서를 고려해 나열한 경우의 수이다. 입력으로 들어오는 길이 n의 문자열에서 n개 문자를 모두 선택하는 경우의 문자열을 나열해보자. "
   ]
  },
  {
   "cell_type": "code",
   "execution_count": 89,
   "metadata": {
    "ExecuteTime": {
     "end_time": "2021-09-14T01:16:42.417288Z",
     "start_time": "2021-09-14T01:16:42.412282Z"
    }
   },
   "outputs": [],
   "source": [
    "import itertools\n",
    "\n",
    "def perm(s):\n",
    "    if len(s) < 2:\n",
    "        return s\n",
    "    res = []\n",
    "    for i, c in enumerate(s):\n",
    "        for cc in perm(s[:i] + s[i+1:]):\n",
    "            res.append(c + cc)\n",
    "            \n",
    "    return res\n",
    "\n",
    "def perm2(s):\n",
    "    res = itertools.permutations(s)\n",
    "    return [\"\".join(i) for i in res]"
   ]
  },
  {
   "cell_type": "code",
   "execution_count": 96,
   "metadata": {
    "ExecuteTime": {
     "end_time": "2021-09-14T01:21:14.348922Z",
     "start_time": "2021-09-14T01:21:14.344920Z"
    }
   },
   "outputs": [
    {
     "name": "stdout",
     "output_type": "stream",
     "text": [
      "['012', '021', '102', '120', '201', '210']\n",
      "['012', '021', '102', '120', '201', '210']\n"
     ]
    }
   ],
   "source": [
    "val='012'\n",
    "print(perm(val))\n",
    "print(perm2(val))"
   ]
  },
  {
   "cell_type": "code",
   "execution_count": 97,
   "metadata": {
    "ExecuteTime": {
     "end_time": "2021-09-14T01:21:14.559698Z",
     "start_time": "2021-09-14T01:21:14.553694Z"
    }
   },
   "outputs": [],
   "source": [
    "def combinations(s):\n",
    "    if len(s) < 2:\n",
    "        return s\n",
    "    res = []\n",
    "    for i, c in enumerate(s):\n",
    "        res.append(c)\n",
    "        for j in combinations(s[:i] + s[i+1:]):\n",
    "            res.append(c + j)\n",
    "    return res"
   ]
  },
  {
   "cell_type": "code",
   "execution_count": 98,
   "metadata": {
    "ExecuteTime": {
     "end_time": "2021-09-14T01:21:15.084360Z",
     "start_time": "2021-09-14T01:21:15.078334Z"
    }
   },
   "outputs": [
    {
     "data": {
      "text/plain": [
       "['0',\n",
       " '01',\n",
       " '012',\n",
       " '02',\n",
       " '021',\n",
       " '1',\n",
       " '10',\n",
       " '102',\n",
       " '12',\n",
       " '120',\n",
       " '2',\n",
       " '20',\n",
       " '201',\n",
       " '21',\n",
       " '210']"
      ]
     },
     "execution_count": 98,
     "metadata": {},
     "output_type": "execute_result"
    }
   ],
   "source": [
    "combinations(val)"
   ]
  },
  {
   "cell_type": "markdown",
   "metadata": {},
   "source": [
    "## 2.6.5 회문"
   ]
  },
  {
   "cell_type": "markdown",
   "metadata": {},
   "source": [
    "회문palindrome이란?  \n",
    "앞에서부터 읽으나 뒤에서부터 읽으나 동일한 단어나 구를 뜻한다."
   ]
  },
  {
   "cell_type": "code",
   "execution_count": 100,
   "metadata": {
    "ExecuteTime": {
     "end_time": "2021-09-14T01:30:28.365933Z",
     "start_time": "2021-09-14T01:30:28.347857Z"
    }
   },
   "outputs": [],
   "source": [
    "def is_palindrome(s):\n",
    "    l = s.split(\" \")\n",
    "    s2 = ''.join(l)\n",
    "    return s2 == s2[::-1]\n",
    "\n",
    "def is_palindrome2(s):\n",
    "    l = len(s)\n",
    "    f, b = 0, l-1\n",
    "    while f < l//2:\n",
    "        while s[f] == \" \":\n",
    "            f+=1\n",
    "        while s[b] == \" \":\n",
    "            b-=1\n",
    "        if s[f] != s[b]:\n",
    "            return False\n",
    "        f+=1\n",
    "        b-=1\n",
    "    return True\n",
    "\n",
    "def is_palindrome3(s):\n",
    "    s = s.strip()\n",
    "    if len(s) < 2:\n",
    "        return True\n",
    "    if s[0] == s[-1]:\n",
    "        return is_palindrome3(s[1:-1])\n",
    "    else:\n",
    "        return False"
   ]
  },
  {
   "cell_type": "code",
   "execution_count": 105,
   "metadata": {
    "ExecuteTime": {
     "end_time": "2021-09-14T01:31:49.304918Z",
     "start_time": "2021-09-14T01:31:49.292905Z"
    }
   },
   "outputs": [],
   "source": [
    "str1 = '다시 합창합시다'\n",
    "str2 = ''\n",
    "str3 = 'hello'"
   ]
  },
  {
   "cell_type": "code",
   "execution_count": 106,
   "metadata": {
    "ExecuteTime": {
     "end_time": "2021-09-14T01:31:49.485425Z",
     "start_time": "2021-09-14T01:31:49.482421Z"
    }
   },
   "outputs": [
    {
     "name": "stdout",
     "output_type": "stream",
     "text": [
      "True\n",
      "True\n",
      "False\n"
     ]
    }
   ],
   "source": [
    "print(is_palindrome(str1))\n",
    "print(is_palindrome(str2))\n",
    "print(is_palindrome(str3))"
   ]
  },
  {
   "cell_type": "code",
   "execution_count": 107,
   "metadata": {
    "ExecuteTime": {
     "end_time": "2021-09-14T01:31:49.635282Z",
     "start_time": "2021-09-14T01:31:49.628276Z"
    }
   },
   "outputs": [
    {
     "name": "stdout",
     "output_type": "stream",
     "text": [
      "True\n",
      "True\n",
      "False\n"
     ]
    }
   ],
   "source": [
    "print(is_palindrome2(str1))\n",
    "print(is_palindrome2(str2))\n",
    "print(is_palindrome2(str3))"
   ]
  },
  {
   "cell_type": "code",
   "execution_count": 108,
   "metadata": {
    "ExecuteTime": {
     "end_time": "2021-09-14T01:31:49.801618Z",
     "start_time": "2021-09-14T01:31:49.796615Z"
    }
   },
   "outputs": [
    {
     "name": "stdout",
     "output_type": "stream",
     "text": [
      "True\n",
      "True\n",
      "False\n"
     ]
    }
   ],
   "source": [
    "print(is_palindrome3(str1))\n",
    "print(is_palindrome3(str2))\n",
    "print(is_palindrome3(str3))"
   ]
  },
  {
   "cell_type": "markdown",
   "metadata": {},
   "source": [
    "**Reference**\n",
    "\n",
    "* <a href='https://github.com/SeWonKwon' ><div> <img src ='https://slid-capture.s3.ap-northeast-2.amazonaws.com/public/image_upload/6556674324ed41a289a354258718280d/964e5a8b-75ad-41fc-ae75-0ca66d06fbc7.png' align='left' /> </div></a>\n",
    "\n",
    "<br>\n",
    "\n",
    "* [파이썬 자료구조와 알고리즘, 미아 스타인](https://github.com/AstinCHOI/Python-and-Algorithms-and-Data-Structures)"
   ]
  }
 ],
 "metadata": {
  "kernelspec": {
   "display_name": "Python 3 (ipykernel)",
   "language": "python",
   "name": "python3"
  },
  "language_info": {
   "codemirror_mode": {
    "name": "ipython",
    "version": 3
   },
   "file_extension": ".py",
   "mimetype": "text/x-python",
   "name": "python",
   "nbconvert_exporter": "python",
   "pygments_lexer": "ipython3",
   "version": "3.8.11"
  },
  "toc": {
   "base_numbering": 1,
   "nav_menu": {},
   "number_sections": true,
   "sideBar": true,
   "skip_h1_title": false,
   "title_cell": "Table of Contents",
   "title_sidebar": "Contents",
   "toc_cell": false,
   "toc_position": {},
   "toc_section_display": true,
   "toc_window_display": false
  }
 },
 "nbformat": 4,
 "nbformat_minor": 4
}
