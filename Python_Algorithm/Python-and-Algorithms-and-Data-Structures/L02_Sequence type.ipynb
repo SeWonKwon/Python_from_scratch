{
 "cells": [
  {
   "cell_type": "markdown",
   "metadata": {},
   "source": [
    "<a href='https://github.com/SeWonKwon' ><div> <img src ='https://slid-capture.s3.ap-northeast-2.amazonaws.com/public/image_upload/6556674324ed41a289a354258718280d/964e5a8b-75ad-41fc-ae75-0ca66d06fbc7.png' align='left' /> </div></a>\n"
   ]
  },
  {
   "cell_type": "markdown",
   "metadata": {},
   "source": [
    "###### Ch 02 내장 시퀀스 타입"
   ]
  },
  {
   "cell_type": "markdown",
   "metadata": {},
   "source": [
    "**시퀀스**<sub>sequence</sub> 데이터 타입\n",
    "\n",
    "* **멤버쉽**membership 연산 : `in` 키워드 사용\n",
    "* **크기**size 함수 : `len(seq)`\n",
    "* **슬라이싱**slicing 속성 : `seq[:-1]`\n",
    "* **반복성**iterability : 반복문에 있는 데이터를 순회할 수 있음"
   ]
  },
  {
   "cell_type": "markdown",
   "metadata": {},
   "source": [
    "내장 시퀀스 타입 : **문자열, 튜플, 리스트, 바이트 배열, 바이트**"
   ]
  },
  {
   "cell_type": "markdown",
   "metadata": {},
   "source": [
    "|유형|자료형|설명|선언|\n",
    "|:----:|:------|:----|:----|\n",
    "|문자형|문자열(string type)|값이 문자로 출력되는 자료형|s = \"Codechef\"|\n",
    "|시퀀스형|리스트(list type)|여러 요소를 묶어 하나의 변수로 사용|l = [1, 2, 3]|\n",
    "|시퀀스형|튜플(tuple type)|리스트와 유사하지만 생성, 삭제, 수정 불가|t = (1, 2, 3)|\n",
    "|시퀀스형|범위(range type)|숫자의 불변한 시퀀스 형태|range(10)|\n",
    "|집합형|집합(set type)|중복과 순서가 없는 집합을 위한 자료형|s = {1, 2, 3}|\n",
    "|집합형|불변 집합(fronzenset type)|불변한 집합을 위한 자료형|fs = frozenset{1, 2, 3}|\n",
    "|매핑형|딕셔너리(dictionary type)|키(key)와 값(value)이 쌍(pair)으로 들어간 자료형|d = {1: 'One', 2:'Two'}|\n",
    "|바이트 시퀀스형|바이트(byte type)|바이트 값을 가지는 자료형|byte = b'hello'|\n",
    "|바이트 시퀀스형|bytearray type|바이트의 시퀀스 형태로 수정 가능한 자료형|ba = bytearray(b'hello')|\n",
    "|바이트 시퀀스형|memoryview type|바이트의 메모리 값으로 표현한 자료형|mv = memoryview(b'hello')|\n",
    "\n",
    "\n"
   ]
  },
  {
   "cell_type": "markdown",
   "metadata": {},
   "source": [
    "# 2.1 깊은 복사와 슬라이싱 연산"
   ]
  },
  {
   "cell_type": "markdown",
   "metadata": {},
   "source": [
    "## 2.1.1 가변성"
   ]
  },
  {
   "cell_type": "markdown",
   "metadata": {},
   "source": [
    "ch 01에서 숫자는 불변<sub>immutable</sub> 타입이었지만, **가변**<sub>mutable</sub> 타입에 대해서 살펴보자.  \n",
    "\n",
    "* 불변 : 튜플, 문자열, 바이트\n",
    "* 가변 : 리스트, 바이트"
   ]
  },
  {
   "cell_type": "code",
   "execution_count": 1,
   "metadata": {
    "ExecuteTime": {
     "end_time": "2021-09-09T11:51:12.890757Z",
     "start_time": "2021-09-09T11:51:12.863144Z"
    }
   },
   "outputs": [],
   "source": [
    "myList = [1, 2, 3, 4]\n",
    "newList = myList[:]\n",
    "newList2 = list(myList)"
   ]
  },
  {
   "cell_type": "markdown",
   "metadata": {},
   "source": [
    "셋(set)의 깊은 복사 예제."
   ]
  },
  {
   "cell_type": "code",
   "execution_count": 3,
   "metadata": {
    "ExecuteTime": {
     "end_time": "2021-09-09T11:52:45.421034Z",
     "start_time": "2021-09-09T11:52:45.410035Z"
    }
   },
   "outputs": [
    {
     "data": {
      "text/plain": [
       "{'버피'}"
      ]
     },
     "execution_count": 3,
     "metadata": {},
     "output_type": "execute_result"
    }
   ],
   "source": [
    "people = {'버피', '에인절', '자일스'}\n",
    "slayers = people.copy()\n",
    "slayers.discard('자일스')\n",
    "slayers.remove('에인절')\n",
    "\n",
    "slayers"
   ]
  },
  {
   "cell_type": "code",
   "execution_count": 4,
   "metadata": {
    "ExecuteTime": {
     "end_time": "2021-09-09T11:52:48.624363Z",
     "start_time": "2021-09-09T11:52:48.620369Z"
    }
   },
   "outputs": [
    {
     "data": {
      "text/plain": [
       "{'버피', '에인절', '자일스'}"
      ]
     },
     "execution_count": 4,
     "metadata": {},
     "output_type": "execute_result"
    }
   ],
   "source": [
    "people"
   ]
  },
  {
   "cell_type": "markdown",
   "metadata": {},
   "source": [
    "딕셔너리(dict)의 깊은 복사 예제"
   ]
  },
  {
   "cell_type": "code",
   "execution_count": 5,
   "metadata": {
    "ExecuteTime": {
     "end_time": "2021-09-09T11:54:20.349614Z",
     "start_time": "2021-09-09T11:54:20.347613Z"
    }
   },
   "outputs": [],
   "source": [
    "myDict = {'안녕': '세상'}\n",
    "newDict = myDict.copy()"
   ]
  },
  {
   "cell_type": "markdown",
   "metadata": {},
   "source": [
    "copy 모듈을 사용한 예제"
   ]
  },
  {
   "cell_type": "code",
   "execution_count": 6,
   "metadata": {
    "ExecuteTime": {
     "end_time": "2021-09-09T11:55:40.679128Z",
     "start_time": "2021-09-09T11:55:40.676120Z"
    }
   },
   "outputs": [],
   "source": [
    "import copy\n",
    "\n",
    "myObj = '어떤 다른 객체'\n",
    "newObj1 = copy.copy(myObj) # 얕은 복사(shalow copy)\n",
    "newObj2 = copy.deepcopy(myObj) # 깊은 복사"
   ]
  },
  {
   "cell_type": "markdown",
   "metadata": {},
   "source": [
    "## 2.1.2 슬라이싱 연산자"
   ]
  },
  {
   "cell_type": "markdown",
   "metadata": {},
   "source": [
    "```{python}\n",
    "seq[시작]\n",
    "seq[시작:끝]\n",
    "seq[시작:끝:스텝]\n",
    "```"
   ]
  },
  {
   "cell_type": "code",
   "execution_count": 7,
   "metadata": {
    "ExecuteTime": {
     "end_time": "2021-09-09T11:56:47.408238Z",
     "start_time": "2021-09-09T11:56:47.392526Z"
    }
   },
   "outputs": [],
   "source": [
    "s = '슬라이싱'"
   ]
  },
  {
   "cell_type": "code",
   "execution_count": 8,
   "metadata": {
    "ExecuteTime": {
     "end_time": "2021-09-09T11:56:51.749968Z",
     "start_time": "2021-09-09T11:56:51.737804Z"
    }
   },
   "outputs": [
    {
     "data": {
      "text/plain": [
       "'라'"
      ]
     },
     "execution_count": 8,
     "metadata": {},
     "output_type": "execute_result"
    }
   ],
   "source": [
    "s[1]"
   ]
  },
  {
   "cell_type": "code",
   "execution_count": 9,
   "metadata": {
    "ExecuteTime": {
     "end_time": "2021-09-09T11:56:58.023741Z",
     "start_time": "2021-09-09T11:56:58.015734Z"
    }
   },
   "outputs": [
    {
     "data": {
      "text/plain": [
       "'라이싱'"
      ]
     },
     "execution_count": 9,
     "metadata": {},
     "output_type": "execute_result"
    }
   ],
   "source": [
    "s[1:]"
   ]
  },
  {
   "cell_type": "code",
   "execution_count": 11,
   "metadata": {
    "ExecuteTime": {
     "end_time": "2021-09-09T11:57:04.827866Z",
     "start_time": "2021-09-09T11:57:04.820861Z"
    }
   },
   "outputs": [
    {
     "data": {
      "text/plain": [
       "'라이'"
      ]
     },
     "execution_count": 11,
     "metadata": {},
     "output_type": "execute_result"
    }
   ],
   "source": [
    "s[1:3]"
   ]
  },
  {
   "cell_type": "code",
   "execution_count": 12,
   "metadata": {
    "ExecuteTime": {
     "end_time": "2021-09-09T11:57:08.978461Z",
     "start_time": "2021-09-09T11:57:08.960941Z"
    }
   },
   "outputs": [
    {
     "data": {
      "text/plain": [
       "'싱이라슬'"
      ]
     },
     "execution_count": 12,
     "metadata": {},
     "output_type": "execute_result"
    }
   ],
   "source": [
    "s[::-1]"
   ]
  },
  {
   "cell_type": "markdown",
   "metadata": {},
   "source": [
    "# 2.2 문자열"
   ]
  },
  {
   "cell_type": "markdown",
   "metadata": {},
   "source": [
    "파이썬은 불변의 str 타입을 사용하여 **문자열**string을 표현한다.  \n",
    "문자열이란 곧 일련의 문자<sub>sequence of characters</sub>이다.\n",
    "\n",
    "파이썬의 모든 객체에는 두가지 출력 형식이 있다. \n",
    "\n",
    "문자열stirng 형식은 사람을 위해서 설계되었고, <br>\n",
    "표현representational형식은 파이썬 인터프리터에서 사용하는 문자열로 보통 디버깅에 사용된다.   \n",
    "\n",
    "파이썬 클래스를 작성할 때에는 문자열 표현을 정의하는 것이 중요하다. "
   ]
  },
  {
   "cell_type": "markdown",
   "metadata": {},
   "source": [
    "참조1 : https://stackoverflow.com/questions/38418070   \n",
    "참조2 : https://docs.python.org/3/reference/datamodel.html#object.__repr__"
   ]
  },
  {
   "cell_type": "markdown",
   "metadata": {},
   "source": [
    "## 2.2.1 유니코드 문자열"
   ]
  },
  {
   "cell_type": "markdown",
   "metadata": {},
   "source": [
    "**유니코드**Unicode는 전 세계 언어의 문자를 정의하기 위한 국제 표준 코드다.  \n",
    "유니코드는 공백, 특수문자, 수학 및 기타 분야의 기호들도 포함하고 있다.   "
   ]
  },
  {
   "cell_type": "code",
   "execution_count": 13,
   "metadata": {
    "ExecuteTime": {
     "end_time": "2021-09-09T12:03:06.322986Z",
     "start_time": "2021-09-09T12:03:06.306428Z"
    }
   },
   "outputs": [
    {
     "data": {
      "text/plain": [
       "'안녕 파이썬 !'"
      ]
     },
     "execution_count": 13,
     "metadata": {},
     "output_type": "execute_result"
    }
   ],
   "source": [
    "u'안녕\\u0020파이썬 !'"
   ]
  },
  {
   "cell_type": "markdown",
   "metadata": {},
   "source": [
    "위에서 이스케이프 시퀀스<sub>escape sequence</sub> 는 서수 값이 0x0020인 유니코드 문자를 나타낸다.  \n",
    "\n",
    "아스키 코드<sub>ASCII code</sub> 의 표현은 7비트(아스키 코드를 확장한 ANSI 코드는 8비트), 유니코드 표현에는 16비트가 필요하다. "
   ]
  },
  {
   "cell_type": "markdown",
   "metadata": {},
   "source": [
    "## 2.2.2 문자열 메서드"
   ]
  },
  {
   "cell_type": "markdown",
   "metadata": {},
   "source": [
    "* `A.join(B)` : 리스트 B에 있는 모든 문자열을 하나의 단일 문자열 A로 결합"
   ]
  },
  {
   "cell_type": "code",
   "execution_count": 2,
   "metadata": {
    "ExecuteTime": {
     "end_time": "2021-09-10T05:04:50.868867Z",
     "start_time": "2021-09-10T05:04:50.862862Z"
    }
   },
   "outputs": [
    {
     "data": {
      "text/plain": [
       "'버피<__>앤<__>아스틴'"
      ]
     },
     "execution_count": 2,
     "metadata": {},
     "output_type": "execute_result"
    }
   ],
   "source": [
    "slayer = ['버피', '앤', '아스틴']\n",
    "\"<__>\".join(slayer)"
   ]
  },
  {
   "cell_type": "code",
   "execution_count": 3,
   "metadata": {
    "ExecuteTime": {
     "end_time": "2021-09-10T05:09:28.706015Z",
     "start_time": "2021-09-10T05:09:28.702012Z"
    }
   },
   "outputs": [
    {
     "data": {
      "text/plain": [
       "'아스틴앤버피'"
      ]
     },
     "execution_count": 3,
     "metadata": {},
     "output_type": "execute_result"
    }
   ],
   "source": [
    "\"\".join(reversed(slayer))"
   ]
  },
  {
   "cell_type": "markdown",
   "metadata": {},
   "source": [
    "* `ljust(), rjust()` : (width, fillchar)\n",
    "\n"
   ]
  },
  {
   "cell_type": "code",
   "execution_count": 4,
   "metadata": {
    "ExecuteTime": {
     "end_time": "2021-09-10T05:10:48.343017Z",
     "start_time": "2021-09-10T05:10:48.338012Z"
    }
   },
   "outputs": [
    {
     "data": {
      "text/plain": [
       "'스칼렛-----------------------------------------------'"
      ]
     },
     "execution_count": 4,
     "metadata": {},
     "output_type": "execute_result"
    }
   ],
   "source": [
    "name = '스칼렛'\n",
    "\n",
    "name.ljust(50, '-')"
   ]
  },
  {
   "cell_type": "code",
   "execution_count": 5,
   "metadata": {
    "ExecuteTime": {
     "end_time": "2021-09-10T05:10:55.856096Z",
     "start_time": "2021-09-10T05:10:55.845086Z"
    }
   },
   "outputs": [
    {
     "data": {
      "text/plain": [
       "'-----------------------------------------------스칼렛'"
      ]
     },
     "execution_count": 5,
     "metadata": {},
     "output_type": "execute_result"
    }
   ],
   "source": [
    "name.rjust(50, '-')"
   ]
  },
  {
   "cell_type": "markdown",
   "metadata": {},
   "source": [
    "* format()"
   ]
  },
  {
   "cell_type": "code",
   "execution_count": 6,
   "metadata": {
    "ExecuteTime": {
     "end_time": "2021-09-10T05:21:32.147121Z",
     "start_time": "2021-09-10T05:21:32.139113Z"
    }
   },
   "outputs": [
    {
     "data": {
      "text/plain": [
       "'1first,2second'"
      ]
     },
     "execution_count": 6,
     "metadata": {},
     "output_type": "execute_result"
    }
   ],
   "source": [
    "'1{},2{}'.format('first','second')"
   ]
  },
  {
   "cell_type": "markdown",
   "metadata": {},
   "source": [
    "* **문자열 언패킹**"
   ]
  },
  {
   "cell_type": "markdown",
   "metadata": {},
   "source": [
    "문자열 매핑 언패킹(mapping unpacking) 연산자는 `**`이며, `locals()`메서드는 현재 스코프scope에 있는 지역 변수<sub>local variable</sbu>를 딕셔너리로 반환한다."
   ]
  },
  {
   "cell_type": "code",
   "execution_count": 8,
   "metadata": {
    "ExecuteTime": {
     "end_time": "2021-09-10T05:25:07.652765Z",
     "start_time": "2021-09-10T05:25:07.638705Z"
    }
   },
   "outputs": [
    {
     "data": {
      "text/plain": [
       "'1234 : 버피'"
      ]
     },
     "execution_count": 8,
     "metadata": {},
     "output_type": "execute_result"
    }
   ],
   "source": [
    "hero = '버피'\n",
    "number = 1234\n",
    "\n",
    "'{number} : {hero}'.format(**locals())"
   ]
  },
  {
   "cell_type": "markdown",
   "metadata": {},
   "source": [
    "* `splitlines()`"
   ]
  },
  {
   "cell_type": "code",
   "execution_count": 9,
   "metadata": {
    "ExecuteTime": {
     "end_time": "2021-09-10T05:26:01.843901Z",
     "start_time": "2021-09-10T05:26:01.835377Z"
    }
   },
   "outputs": [
    {
     "data": {
      "text/plain": [
       "['로미오', '줄리엣']"
      ]
     },
     "execution_count": 9,
     "metadata": {},
     "output_type": "execute_result"
    }
   ],
   "source": [
    "slayers = '로미오\\n줄리엣'\n",
    "slayers.splitlines()"
   ]
  },
  {
   "cell_type": "markdown",
   "metadata": {},
   "source": [
    "* `split()` "
   ]
  },
  {
   "cell_type": "markdown",
   "metadata": {},
   "source": [
    "* `strip()`"
   ]
  },
  {
   "cell_type": "code",
   "execution_count": 17,
   "metadata": {
    "ExecuteTime": {
     "end_time": "2021-09-10T05:35:38.226516Z",
     "start_time": "2021-09-10T05:35:38.217507Z"
    }
   },
   "outputs": [
    {
     "name": "stdout",
     "output_type": "stream",
     "text": [
      "Overwriting 1_count_unique_words.py\n"
     ]
    }
   ],
   "source": [
    "%%writefile 1_count_unique_words.py\n",
    "import string\n",
    "import sys\n",
    "\n",
    "\n",
    "def count_unique_word():\n",
    "    words = {}\n",
    "    strip = string.whitespace + string.punctuation + string.digits + \"\\\"'\"\n",
    "    for filename in sys.argv[1:]:\n",
    "        with open(filename) as file:\n",
    "            for line in file:\n",
    "                for word in line.lower().split():\n",
    "                    word = word.strip(strip)\n",
    "                    if len(word) > 2:\n",
    "                        words[word] = words.get(word, 0) + 1\n",
    "\n",
    "    for word in sorted(words):\n",
    "        print(\"'{0}': {1}\".format(word, words[word]))\n",
    "\n",
    "\n",
    "if __name__ == \"__main__\":\n",
    "    count_unique_word()"
   ]
  },
  {
   "cell_type": "code",
   "execution_count": 20,
   "metadata": {
    "ExecuteTime": {
     "end_time": "2021-09-10T05:36:10.485832Z",
     "start_time": "2021-09-10T05:36:10.483829Z"
    }
   },
   "outputs": [],
   "source": [
    "# !type 1_count_unique_words.py"
   ]
  },
  {
   "cell_type": "code",
   "execution_count": 19,
   "metadata": {
    "ExecuteTime": {
     "end_time": "2021-09-10T05:35:39.967688Z",
     "start_time": "2021-09-10T05:35:39.850689Z"
    },
    "scrolled": false
   },
   "outputs": [
    {
     "name": "stdout",
     "output_type": "stream",
     "text": [
      "'count_unique_word': 2\n",
      "'def': 1\n",
      "'file': 2\n",
      "'filename': 1\n",
      "'for': 4\n",
      "'format(word': 1\n",
      "'import': 2\n",
      "'len(word': 1\n",
      "'line': 1\n",
      "'line.lower().split': 1\n",
      "'main': 1\n",
      "'name': 1\n",
      "'open(filename': 1\n",
      "'print': 1\n",
      "'sorted(words': 1\n",
      "'string': 1\n",
      "'string.digits': 1\n",
      "'string.punctuation': 1\n",
      "'string.whitespace': 1\n",
      "'strip': 1\n",
      "'sys': 1\n",
      "'sys.argv': 1\n",
      "'with': 1\n",
      "'word': 3\n",
      "'word.strip(strip': 1\n",
      "'words': 1\n",
      "'words.get(word': 1\n",
      "'words[word': 2\n"
     ]
    }
   ],
   "source": [
    "!python 1_count_unique_words.py 1_count_unique_words.py"
   ]
  },
  {
   "cell_type": "markdown",
   "metadata": {},
   "source": [
    "* `swapcase()`"
   ]
  },
  {
   "cell_type": "code",
   "execution_count": 21,
   "metadata": {
    "ExecuteTime": {
     "end_time": "2021-09-10T05:39:24.749191Z",
     "start_time": "2021-09-10T05:39:24.736180Z"
    }
   },
   "outputs": [
    {
     "data": {
      "text/plain": [
       "'aBCD eFG'"
      ]
     },
     "execution_count": 21,
     "metadata": {},
     "output_type": "execute_result"
    }
   ],
   "source": [
    "slayer = 'Abcd Efg'\n",
    "slayer.swapcase()"
   ]
  },
  {
   "cell_type": "markdown",
   "metadata": {},
   "source": [
    "* `index(), find()` "
   ]
  },
  {
   "cell_type": "code",
   "execution_count": 32,
   "metadata": {
    "ExecuteTime": {
     "end_time": "2021-09-10T05:45:19.583195Z",
     "start_time": "2021-09-10T05:45:19.567713Z"
    }
   },
   "outputs": [
    {
     "data": {
      "text/plain": [
       "4"
      ]
     },
     "execution_count": 32,
     "metadata": {},
     "output_type": "execute_result"
    }
   ],
   "source": [
    "slayers = 'Buffy and Faithy'\n",
    "slayers.find('y')"
   ]
  },
  {
   "cell_type": "code",
   "execution_count": 33,
   "metadata": {
    "ExecuteTime": {
     "end_time": "2021-09-10T05:45:20.020524Z",
     "start_time": "2021-09-10T05:45:20.006478Z"
    }
   },
   "outputs": [
    {
     "data": {
      "text/plain": [
       "-1"
      ]
     },
     "execution_count": 33,
     "metadata": {},
     "output_type": "execute_result"
    }
   ],
   "source": [
    "slayers.find('k')"
   ]
  },
  {
   "cell_type": "code",
   "execution_count": 34,
   "metadata": {
    "ExecuteTime": {
     "end_time": "2021-09-10T05:45:21.677617Z",
     "start_time": "2021-09-10T05:45:21.664574Z"
    }
   },
   "outputs": [
    {
     "data": {
      "text/plain": [
       "4"
      ]
     },
     "execution_count": 34,
     "metadata": {},
     "output_type": "execute_result"
    }
   ],
   "source": [
    "slayers.index('y')"
   ]
  },
  {
   "cell_type": "code",
   "execution_count": 36,
   "metadata": {
    "ExecuteTime": {
     "end_time": "2021-09-10T05:45:38.135823Z",
     "start_time": "2021-09-10T05:45:38.117786Z"
    }
   },
   "outputs": [
    {
     "data": {
      "text/plain": [
       "15"
      ]
     },
     "execution_count": 36,
     "metadata": {},
     "output_type": "execute_result"
    }
   ],
   "source": [
    "# rfind()\n",
    "slayers.rfind('y')"
   ]
  },
  {
   "cell_type": "markdown",
   "metadata": {},
   "source": [
    "* `count()`"
   ]
  },
  {
   "cell_type": "code",
   "execution_count": 37,
   "metadata": {
    "ExecuteTime": {
     "end_time": "2021-09-10T05:46:17.181777Z",
     "start_time": "2021-09-10T05:46:17.170768Z"
    }
   },
   "outputs": [
    {
     "data": {
      "text/plain": [
       "2"
      ]
     },
     "execution_count": 37,
     "metadata": {},
     "output_type": "execute_result"
    }
   ],
   "source": [
    "slayer = 'Buffy is Buffy is Buffy'\n",
    "slayer.count('Buffy', 0, -1)"
   ]
  },
  {
   "cell_type": "code",
   "execution_count": 38,
   "metadata": {
    "ExecuteTime": {
     "end_time": "2021-09-10T05:46:37.523795Z",
     "start_time": "2021-09-10T05:46:37.511774Z"
    }
   },
   "outputs": [
    {
     "data": {
      "text/plain": [
       "3"
      ]
     },
     "execution_count": 38,
     "metadata": {},
     "output_type": "execute_result"
    }
   ],
   "source": [
    "slayer.count('Buffy')"
   ]
  },
  {
   "cell_type": "markdown",
   "metadata": {},
   "source": [
    "* `replace()`"
   ]
  },
  {
   "cell_type": "code",
   "execution_count": 39,
   "metadata": {
    "ExecuteTime": {
     "end_time": "2021-09-10T05:47:20.648839Z",
     "start_time": "2021-09-10T05:47:20.636797Z"
    }
   },
   "outputs": [
    {
     "data": {
      "text/plain": [
       "'who is who is Buffy'"
      ]
     },
     "execution_count": 39,
     "metadata": {},
     "output_type": "execute_result"
    }
   ],
   "source": [
    "slayer = 'Buffy is Buffy is Buffy'\n",
    "slayer.replace('Buffy', 'who', 2)"
   ]
  },
  {
   "cell_type": "markdown",
   "metadata": {},
   "source": [
    "* **f스트링**(formatted string literal)"
   ]
  },
  {
   "cell_type": "code",
   "execution_count": 40,
   "metadata": {
    "ExecuteTime": {
     "end_time": "2021-09-10T05:48:48.903278Z",
     "start_time": "2021-09-10T05:48:48.889264Z"
    }
   },
   "outputs": [
    {
     "data": {
      "text/plain": [
       "'내 이름은 codeChef입니다.'"
      ]
     },
     "execution_count": 40,
     "metadata": {},
     "output_type": "execute_result"
    }
   ],
   "source": [
    "name='codeChef'\n",
    "\n",
    "f'내 이름은 {name}입니다.'"
   ]
  },
  {
   "cell_type": "markdown",
   "metadata": {},
   "source": [
    "참조 : https://www.python.org/dev/peps/pep-0498/\n"
   ]
  },
  {
   "cell_type": "markdown",
   "metadata": {},
   "source": [
    "# 2.3 튜플"
   ]
  },
  {
   "cell_type": "markdown",
   "metadata": {},
   "source": [
    "* 리스트와 유사하지만 변경 불가능한 시퀀스 자료형\n",
    "* 하나의 변수에 여러 값 할당 가능\n",
    "* ‘(‘와 ‘)’를 사용하여 표현\n",
    "*  괄호를 쓰지 않으면 튜플이다.\n"
   ]
  },
  {
   "cell_type": "code",
   "execution_count": 2,
   "metadata": {
    "ExecuteTime": {
     "end_time": "2021-09-11T13:34:56.391614Z",
     "start_time": "2021-09-11T13:34:56.373598Z"
    }
   },
   "outputs": [
    {
     "data": {
      "text/plain": [
       "tuple"
      ]
     },
     "execution_count": 2,
     "metadata": {},
     "output_type": "execute_result"
    }
   ],
   "source": [
    "t1 = 1234, '안녕!'\n",
    "type(t1)"
   ]
  },
  {
   "cell_type": "code",
   "execution_count": 3,
   "metadata": {
    "ExecuteTime": {
     "end_time": "2021-09-11T13:35:01.864441Z",
     "start_time": "2021-09-11T13:35:01.858436Z"
    }
   },
   "outputs": [
    {
     "data": {
      "text/plain": [
       "(1234, '안녕!')"
      ]
     },
     "execution_count": 3,
     "metadata": {},
     "output_type": "execute_result"
    }
   ],
   "source": [
    "t1"
   ]
  },
  {
   "cell_type": "code",
   "execution_count": 4,
   "metadata": {
    "ExecuteTime": {
     "end_time": "2021-09-11T13:35:04.330478Z",
     "start_time": "2021-09-11T13:35:04.317468Z"
    }
   },
   "outputs": [
    {
     "data": {
      "text/plain": [
       "'안녕!'"
      ]
     },
     "execution_count": 4,
     "metadata": {},
     "output_type": "execute_result"
    }
   ],
   "source": [
    "t1[1]"
   ]
  },
  {
   "cell_type": "code",
   "execution_count": 6,
   "metadata": {
    "ExecuteTime": {
     "end_time": "2021-09-11T13:35:18.886272Z",
     "start_time": "2021-09-11T13:35:18.871261Z"
    }
   },
   "outputs": [
    {
     "data": {
      "text/plain": [
       "((1234, '안녕!'), (1, 2, 3, 4, 5))"
      ]
     },
     "execution_count": 6,
     "metadata": {},
     "output_type": "execute_result"
    }
   ],
   "source": [
    "t2 = t1, (1, 2, 3, 4, 5) # nested\n",
    "t2"
   ]
  },
  {
   "cell_type": "markdown",
   "metadata": {},
   "source": [
    "## 2.3.1 튜플 메서드"
   ]
  },
  {
   "cell_type": "markdown",
   "metadata": {},
   "source": [
    "`A.count(x)`"
   ]
  },
  {
   "cell_type": "code",
   "execution_count": 8,
   "metadata": {
    "ExecuteTime": {
     "end_time": "2021-09-11T13:36:32.600619Z",
     "start_time": "2021-09-11T13:36:32.583603Z"
    }
   },
   "outputs": [
    {
     "data": {
      "text/plain": [
       "2"
      ]
     },
     "execution_count": 8,
     "metadata": {},
     "output_type": "execute_result"
    }
   ],
   "source": [
    "t = 1, 5, 7, 8, 9, 4, 1, 4\n",
    "\n",
    "t.count(4)"
   ]
  },
  {
   "cell_type": "markdown",
   "metadata": {},
   "source": [
    "`A.index(x)`"
   ]
  },
  {
   "cell_type": "code",
   "execution_count": 9,
   "metadata": {
    "ExecuteTime": {
     "end_time": "2021-09-11T13:36:48.880799Z",
     "start_time": "2021-09-11T13:36:48.876792Z"
    }
   },
   "outputs": [
    {
     "data": {
      "text/plain": [
       "5"
      ]
     },
     "execution_count": 9,
     "metadata": {},
     "output_type": "execute_result"
    }
   ],
   "source": [
    "t.index(4)"
   ]
  },
  {
   "cell_type": "code",
   "execution_count": 11,
   "metadata": {
    "ExecuteTime": {
     "end_time": "2021-09-11T13:37:03.973069Z",
     "start_time": "2021-09-11T13:37:03.957053Z"
    }
   },
   "outputs": [],
   "source": [
    "# t.rindex(4)"
   ]
  },
  {
   "cell_type": "markdown",
   "metadata": {},
   "source": [
    "## 2.3.2 튜플 언패킹"
   ]
  },
  {
   "cell_type": "markdown",
   "metadata": {},
   "source": [
    "**시퀀스 언패킹 연산자**<sub>sequence unpacking operator</sub>\n",
    "\n",
    "모든 반복 가능한<sub>iterable</sub> 객체는 `*`를 사용하여 언패킹 할수 있다. "
   ]
  },
  {
   "cell_type": "code",
   "execution_count": 12,
   "metadata": {
    "ExecuteTime": {
     "end_time": "2021-09-11T13:42:21.513102Z",
     "start_time": "2021-09-11T13:42:21.498047Z"
    }
   },
   "outputs": [],
   "source": [
    "x, *y = 1, 2, 3, 4"
   ]
  },
  {
   "cell_type": "code",
   "execution_count": 14,
   "metadata": {
    "ExecuteTime": {
     "end_time": "2021-09-11T13:42:27.652315Z",
     "start_time": "2021-09-11T13:42:27.635066Z"
    }
   },
   "outputs": [
    {
     "data": {
      "text/plain": [
       "[2, 3, 4]"
      ]
     },
     "execution_count": 14,
     "metadata": {},
     "output_type": "execute_result"
    }
   ],
   "source": [
    "y"
   ]
  },
  {
   "cell_type": "code",
   "execution_count": 15,
   "metadata": {
    "ExecuteTime": {
     "end_time": "2021-09-11T13:52:48.292732Z",
     "start_time": "2021-09-11T13:52:48.283724Z"
    }
   },
   "outputs": [],
   "source": [
    "x, *y, z = 1, 2, 3, 4, 5, 6"
   ]
  },
  {
   "cell_type": "code",
   "execution_count": 17,
   "metadata": {
    "ExecuteTime": {
     "end_time": "2021-09-11T13:52:56.007891Z",
     "start_time": "2021-09-11T13:52:55.995881Z"
    }
   },
   "outputs": [
    {
     "data": {
      "text/plain": [
       "[2, 3, 4, 5]"
      ]
     },
     "execution_count": 17,
     "metadata": {},
     "output_type": "execute_result"
    }
   ],
   "source": [
    "y"
   ]
  },
  {
   "cell_type": "markdown",
   "metadata": {},
   "source": [
    "## 2.3.3 네임드 튜플 "
   ]
  },
  {
   "cell_type": "markdown",
   "metadata": {},
   "source": [
    "`collections` 모듈의 **네임드 튜플**<sub>named tuple</sub>"
   ]
  },
  {
   "cell_type": "code",
   "execution_count": 18,
   "metadata": {
    "ExecuteTime": {
     "end_time": "2021-09-11T13:58:16.829768Z",
     "start_time": "2021-09-11T13:58:16.825765Z"
    }
   },
   "outputs": [],
   "source": [
    "import collections\n",
    "\n",
    "Person = collections.namedtuple('Person', 'name age gender')"
   ]
  },
  {
   "cell_type": "code",
   "execution_count": 19,
   "metadata": {
    "ExecuteTime": {
     "end_time": "2021-09-11T13:58:27.701896Z",
     "start_time": "2021-09-11T13:58:27.694888Z"
    }
   },
   "outputs": [],
   "source": [
    "p = Person('아스티', 30, '남자')"
   ]
  },
  {
   "cell_type": "code",
   "execution_count": 21,
   "metadata": {
    "ExecuteTime": {
     "end_time": "2021-09-11T13:58:54.245953Z",
     "start_time": "2021-09-11T13:58:54.233945Z"
    }
   },
   "outputs": [
    {
     "data": {
      "text/plain": [
       "'아스티'"
      ]
     },
     "execution_count": 21,
     "metadata": {},
     "output_type": "execute_result"
    }
   ],
   "source": [
    "p.name"
   ]
  },
  {
   "cell_type": "code",
   "execution_count": 22,
   "metadata": {
    "ExecuteTime": {
     "end_time": "2021-09-11T13:59:28.497065Z",
     "start_time": "2021-09-11T13:59:28.466851Z"
    }
   },
   "outputs": [
    {
     "name": "stdout",
     "output_type": "stream",
     "text": [
      "can't set attribute\n"
     ]
    }
   ],
   "source": [
    "try:\n",
    "    p.age = 20\n",
    "except AttributeError as e:\n",
    "    print(e)"
   ]
  },
  {
   "cell_type": "markdown",
   "metadata": {},
   "source": [
    "# 2.4 리스트"
   ]
  },
  {
   "cell_type": "markdown",
   "metadata": {},
   "source": [
    "**배열**<sub>array</sub> 은 여러 원소(elements)들이 연속된 메모리에 순차적으로 저장되는 매우 간단한 구조다. **연결 리스트**<sub>linked list</sub>는 여러 분리된 노드node가 서로 연결되어 있는 구조다. \n",
    "\n",
    "자료구조의 내용을 순회<sub>iterating</sub>하는 데에는 둘 모두 똑같이 효율적이지만, 어떤 요소(또는 노드)에 **직접 접근**할 때 배열의 시간복잡도<sub>time complexity</sub>는 $O(1)$이고, 연결 리스트는 $O(n)$이다."
   ]
  },
  {
   "cell_type": "markdown",
   "metadata": {},
   "source": [
    "또한 연결 리스트에서 어떤 노드를 삽입할 때, 그 위치를 안다면 연결 리스트 노드 수에 상관없이 시간복잡도는 $O(1)$이다. 배열에서 어떤 위치에 항목을 **삽입**하려면, 그 위치에서부터 모든 항목을 오른쪽으로 옮겨야 하므로 시간복잡도는 $O(n)$이다. "
   ]
  },
  {
   "cell_type": "markdown",
   "metadata": {},
   "source": [
    "파이썬에서 배열과 유사한 객체는 **리스트**list이다.   \n",
    "\n",
    "리스트는 크기를 동적으로 조정할 수 있는 배열이다. 연결 리스트와는 아무런 관련도 없다. \n",
    "\n",
    "연결 리스트는 매우 중요한 **추상 데이터 타입**(ADT)이다.\n",
    "\n",
    "배열(또는 파이썬 리스트)과 연결 리스트의 차이점을 아는 것은 매우 중요하다. \n",
    "\n"
   ]
  },
  {
   "cell_type": "markdown",
   "metadata": {},
   "source": [
    "리스트는 가변 타입이다. "
   ]
  },
  {
   "cell_type": "code",
   "execution_count": 24,
   "metadata": {
    "ExecuteTime": {
     "end_time": "2021-09-11T14:05:56.722828Z",
     "start_time": "2021-09-11T14:05:56.713820Z"
    }
   },
   "outputs": [
    {
     "data": {
      "text/plain": [
       "[2, 3, '매롱']"
      ]
     },
     "execution_count": 24,
     "metadata": {},
     "output_type": "execute_result"
    }
   ],
   "source": [
    "q = [2, 3]\n",
    "p = [1, q, 4]\n",
    "\n",
    "p[1].append('매롱')\n",
    "\n",
    "q"
   ]
  },
  {
   "cell_type": "markdown",
   "metadata": {},
   "source": [
    "`append()`와`pop()` 메서드를 사용하며, 시간복잡도는 $O(1)$이다. \n",
    "\n",
    "`remove()`,`index()`, 멤버십 테스트 `in` 등의 시간복잡도는 $O(n)$이다.\n",
    "\n",
    "`insert()`메서드 $O(n)$이다."
   ]
  },
  {
   "cell_type": "markdown",
   "metadata": {},
   "source": [
    "검색이나 멤버십 테스트 시 빠른 속도가 필요하다면 **셋**set이다 **딕셔너리**dictionary 같은 컬렉션 타입을 선택하는 것이 더 적합할 수 있다. \n",
    "\n",
    "또는 리스트에 항목을 순서대로 정렬하여 보관하면, 빠른 검색을 제공할 수 있다.(10장에서 시간복잡도가 $O(\\log{n})$ 인 검색 알고리즘에 대해서 살펴본다. "
   ]
  },
  {
   "cell_type": "markdown",
   "metadata": {},
   "source": [
    "## 2.4.1 리스트 메서드"
   ]
  },
  {
   "cell_type": "markdown",
   "metadata": {},
   "source": [
    "`append()`"
   ]
  },
  {
   "cell_type": "markdown",
   "metadata": {},
   "source": [
    "`extend()`"
   ]
  },
  {
   "cell_type": "markdown",
   "metadata": {},
   "source": [
    "`insert()`"
   ]
  },
  {
   "cell_type": "markdown",
   "metadata": {},
   "source": [
    "`remove()`"
   ]
  },
  {
   "cell_type": "markdown",
   "metadata": {},
   "source": [
    "`pop()`"
   ]
  },
  {
   "cell_type": "markdown",
   "metadata": {},
   "source": [
    "`del a[]`"
   ]
  },
  {
   "cell_type": "markdown",
   "metadata": {},
   "source": [
    "`index()`"
   ]
  },
  {
   "cell_type": "markdown",
   "metadata": {},
   "source": [
    "`count()`"
   ]
  },
  {
   "cell_type": "markdown",
   "metadata": {},
   "source": [
    "`sort()`"
   ]
  },
  {
   "cell_type": "markdown",
   "metadata": {},
   "source": [
    "`reverse()`"
   ]
  },
  {
   "cell_type": "markdown",
   "metadata": {},
   "source": [
    "## 2.4.2 리스트 언패킹"
   ]
  },
  {
   "cell_type": "markdown",
   "metadata": {},
   "source": [
    "**시퀀스 언패킹 연산자**<sub>sequence unpacking operator</sub>\n",
    "\n",
    "모든 반복 가능한<sub>iterable</sub> 객체는 `*`를 사용하여 언패킹 할수 있다. "
   ]
  },
  {
   "cell_type": "code",
   "execution_count": 25,
   "metadata": {
    "ExecuteTime": {
     "end_time": "2021-09-11T14:26:32.363310Z",
     "start_time": "2021-09-11T14:26:32.352300Z"
    }
   },
   "outputs": [],
   "source": [
    "def example_args(a, b, c):\n",
    "    return a * b * c"
   ]
  },
  {
   "cell_type": "code",
   "execution_count": 26,
   "metadata": {
    "ExecuteTime": {
     "end_time": "2021-09-11T14:26:51.949172Z",
     "start_time": "2021-09-11T14:26:51.938161Z"
    }
   },
   "outputs": [
    {
     "data": {
      "text/plain": [
       "24"
      ]
     },
     "execution_count": 26,
     "metadata": {},
     "output_type": "execute_result"
    }
   ],
   "source": [
    "L = [2, 3, 4]\n",
    "\n",
    "example_args(*L)"
   ]
  },
  {
   "cell_type": "code",
   "execution_count": 27,
   "metadata": {
    "ExecuteTime": {
     "end_time": "2021-09-11T14:27:11.476891Z",
     "start_time": "2021-09-11T14:27:11.460877Z"
    }
   },
   "outputs": [
    {
     "data": {
      "text/plain": [
       "60"
      ]
     },
     "execution_count": 27,
     "metadata": {},
     "output_type": "execute_result"
    }
   ],
   "source": [
    "example_args(5, *L[1:])"
   ]
  },
  {
   "cell_type": "markdown",
   "metadata": {},
   "source": [
    "## 2.4.3 리스트 컴프리헨션"
   ]
  },
  {
   "cell_type": "code",
   "execution_count": 28,
   "metadata": {
    "ExecuteTime": {
     "end_time": "2021-09-11T14:27:23.798149Z",
     "start_time": "2021-09-11T14:27:23.783985Z"
    }
   },
   "outputs": [
    {
     "ename": "NameError",
     "evalue": "name 'p63' is not defined",
     "output_type": "error",
     "traceback": [
      "\u001b[1;31m---------------------------------------------------------------------------\u001b[0m",
      "\u001b[1;31mNameError\u001b[0m                                 Traceback (most recent call last)",
      "\u001b[1;32mC:\\Users\\Public\\Documents\\ESTsoft\\CreatorTemp/ipykernel_9396/715468131.py\u001b[0m in \u001b[0;36m<module>\u001b[1;34m\u001b[0m\n\u001b[1;32m----> 1\u001b[1;33m \u001b[0mp63\u001b[0m\u001b[1;33m\u001b[0m\u001b[1;33m\u001b[0m\u001b[0m\n\u001b[0m",
      "\u001b[1;31mNameError\u001b[0m: name 'p63' is not defined"
     ]
    }
   ],
   "source": [
    "p63"
   ]
  },
  {
   "cell_type": "markdown",
   "metadata": {},
   "source": [
    "## 2.4.4 리스트 메서드"
   ]
  },
  {
   "cell_type": "markdown",
   "metadata": {},
   "source": [
    "# 2.5 바이트와 바이트 배열"
   ]
  },
  {
   "cell_type": "markdown",
   "metadata": {},
   "source": [
    "## 2.5.1 비트와 비트 연산자"
   ]
  },
  {
   "cell_type": "markdown",
   "metadata": {},
   "source": [
    "# 2.6 연습문제"
   ]
  },
  {
   "cell_type": "markdown",
   "metadata": {},
   "source": [
    "## 2.6.1 문자열 전체 반전하기"
   ]
  },
  {
   "cell_type": "markdown",
   "metadata": {},
   "source": [
    "## 2.6.2 문자열 단어"
   ]
  },
  {
   "cell_type": "markdown",
   "metadata": {},
   "source": [
    "## 2.6.3 단순 문자열 압축"
   ]
  },
  {
   "cell_type": "markdown",
   "metadata": {},
   "source": [
    "## 2.6.4 문자열 순열"
   ]
  },
  {
   "cell_type": "markdown",
   "metadata": {},
   "source": [
    "## 2.6.5 회문"
   ]
  },
  {
   "cell_type": "markdown",
   "metadata": {},
   "source": [
    "**Reference**\n",
    "\n",
    "* <a href='https://github.com/SeWonKwon' ><div> <img src ='https://slid-capture.s3.ap-northeast-2.amazonaws.com/public/image_upload/6556674324ed41a289a354258718280d/964e5a8b-75ad-41fc-ae75-0ca66d06fbc7.png' align='left' /> </div></a>\n",
    "\n",
    "<br>\n",
    "\n",
    "* [파이썬 자료구조와 알고리즘, 미아 스타인](https://github.com/AstinCHOI/Python-and-Algorithms-and-Data-Structures)"
   ]
  }
 ],
 "metadata": {
  "kernelspec": {
   "display_name": "Python 3 (ipykernel)",
   "language": "python",
   "name": "python3"
  },
  "language_info": {
   "codemirror_mode": {
    "name": "ipython",
    "version": 3
   },
   "file_extension": ".py",
   "mimetype": "text/x-python",
   "name": "python",
   "nbconvert_exporter": "python",
   "pygments_lexer": "ipython3",
   "version": "3.8.11"
  },
  "toc": {
   "base_numbering": 1,
   "nav_menu": {},
   "number_sections": true,
   "sideBar": true,
   "skip_h1_title": false,
   "title_cell": "Table of Contents",
   "title_sidebar": "Contents",
   "toc_cell": false,
   "toc_position": {},
   "toc_section_display": true,
   "toc_window_display": false
  }
 },
 "nbformat": 4,
 "nbformat_minor": 4
}
