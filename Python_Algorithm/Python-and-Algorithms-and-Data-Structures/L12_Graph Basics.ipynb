{
 "cells": [
  {
   "cell_type": "markdown",
   "id": "c4d13fdc",
   "metadata": {},
   "source": [
    "<a href='https://github.com/SeWonKwon' ><div> <img src ='https://slid-capture.s3.ap-northeast-2.amazonaws.com/public/image_upload/6556674324ed41a289a354258718280d/964e5a8b-75ad-41fc-ae75-0ca66d06fbc7.png' align='left' /> </div></a>\n"
   ]
  },
  {
   "cell_type": "markdown",
   "id": "91713091",
   "metadata": {},
   "source": [
    "###### Ch 12 그래프 기초"
   ]
  },
  {
   "cell_type": "markdown",
   "id": "66cb9d4e",
   "metadata": {},
   "source": [
    "# 12.1 용어"
   ]
  },
  {
   "cell_type": "markdown",
   "id": "67147bad",
   "metadata": {},
   "source": [
    "**그래프**<sub>graph</sub>는 여러 **노드**<sub>node</sub>(또는 정점<sub>vertex</sub>)들이 **간선**<sub>edge</sub>(또는 아크<sub>arc</sub>)으로 연결된 추상 네트워크를 뜻한다. <br />\n",
    "즉 그래프는 노드와 간선의 집합으로 정의 되며 이를 수식으로 쓰면 다음과 같다.\n",
    "\n",
    "$$ G = (V, E) $$\n",
    "\n",
    "* $V$ : 노드 집합, 임의의 유한 집합\n",
    "* $E$ : 간선 집합, 노드 쌍들의 집합\n"
   ]
  },
  {
   "cell_type": "markdown",
   "id": "607f91e6",
   "metadata": {},
   "source": [
    "예를 들어,<br>\n",
    "노드 집합  $V = \\{a,b,c,d\\}$ <br>\n",
    "간선 집합 $E = \\{\\{a,b\\},\\{b,c\\},\\{c, d\\},\\{d,a\\}\\}$ <br>\n",
    "인 그래프는 다음과 같다. "
   ]
  },
  {
   "cell_type": "markdown",
   "id": "e5674171",
   "metadata": {},
   "source": [
    "<img src='https://slid-capture.s3.ap-northeast-2.amazonaws.com/public/image_upload/d4954708fd8f4731a091c75bea2b2ea7/83fcf869-a60a-4cd4-a11e-23c83090638d.png' width='300' />\n"
   ]
  },
  {
   "cell_type": "markdown",
   "id": "04b6b312",
   "metadata": {},
   "source": [
    "## 그래프 방향"
   ]
  },
  {
   "cell_type": "markdown",
   "id": "c7ab261b",
   "metadata": {},
   "source": [
    "그래프에는 방향이 있는 방향이 없는 **무향**<sub>undirected</sub>그래프와 **유향**<sub>directed</sub>그래프가 있다. "
   ]
  },
  {
   "cell_type": "markdown",
   "id": "b1f52ca5",
   "metadata": {},
   "source": [
    "1. **무향**<sub>undirected</sub> 그래프\n",
    "    * 무향 그래프는 말 그대로 간선에 방향이 지정되어 있지 않다. 간선으로 연결된 노드는 서로 **인접**<sub>adjacent</sub>해 있으며, **이웃**<sub>neighbor</sub>이라고 한다. \n",
    "    * <img src='https://slid-capture.s3.ap-northeast-2.amazonaws.com/public/image_upload/d4954708fd8f4731a091c75bea2b2ea7/00dc9659-1b8e-459b-a8c6-14fc7322f744.png' width='200' />\n",
    "\n",
    "\n",
    "2. **유향**<sub>directed</sub>그래프\n",
    "    * 유향 그래프의 경우 순서가 존재하므로 **말단**<sub>leaf</sub>노드가 존재한다. 노드 u와 v 사이의 간선은 u에서 v까지의 간선(u, v) 또는 v에서 u까지의 간선(v, u)이 있다. \n",
    "    * 유향 그래프 G에서 함수 E(G)는 V(G)에 대한 관계라고도 말할 수 있다. \n",
    "    \n",
    "    * <img src = 'https://slid-capture.s3.ap-northeast-2.amazonaws.com/public/image_upload/d4954708fd8f4731a091c75bea2b2ea7/d20dc100-9e8b-45ca-8e34-5a8e294c1048.png' width='200' />"
   ]
  },
  {
   "cell_type": "markdown",
   "id": "6025259d",
   "metadata": {},
   "source": [
    "## 부분 그래프 "
   ]
  },
  {
   "cell_type": "markdown",
   "id": "dad06684",
   "metadata": {},
   "source": [
    "**부분 그래프**<sub>subgraph</sub> 는 그래프 G에서 집합 V와 E로 구성된 그래프의 일부다. "
   ]
  },
  {
   "cell_type": "markdown",
   "id": "94f78218",
   "metadata": {},
   "source": [
    "<img src='https://slid-capture.s3.ap-northeast-2.amazonaws.com/public/image_upload/d4954708fd8f4731a091c75bea2b2ea7/b5a7dc32-8085-441f-86d9-9f0e6001257b.png' width='400' />"
   ]
  },
  {
   "cell_type": "markdown",
   "id": "b357a6b0",
   "metadata": {},
   "source": [
    "예를 들어, 아래가 그래프 G의 부분 그래프이다. \n",
    "\n",
    "<img src='https://slid-capture.s3.ap-northeast-2.amazonaws.com/public/image_upload/d4954708fd8f4731a091c75bea2b2ea7/1842b168-c474-4f37-a2ba-ea0cd1022a7e.png' width='400' />"
   ]
  },
  {
   "cell_type": "markdown",
   "id": "62f6950d",
   "metadata": {},
   "source": [
    "위의 부분 그래프를 차례로 $G_1, G_2, G_3$라고 했을 때, $G_3$는 $G_2$의 유도 부분 그래프<sub> induced subgraph</sub> 라고한다."
   ]
  },
  {
   "cell_type": "markdown",
   "id": "06ea2d5b",
   "metadata": {},
   "source": [
    "한편, **신장 부분 그래프**<sub>spanning subgraph</sub>는 원본 그래프의 모든 노드를 포함하는 부분 그래프를 말한다. 다음 그림에서 간선을 굵게 표시한 부분이 신장 부분 그래프(또는 신장 트리 그래프)이다."
   ]
  },
  {
   "cell_type": "markdown",
   "id": "46b652b2",
   "metadata": {},
   "source": [
    "<img src= 'https://slid-capture.s3.ap-northeast-2.amazonaws.com/public/image_upload/d4954708fd8f4731a091c75bea2b2ea7/588bbc51-0dc1-42cf-bcb8-e291c4fbe244.png' width='300' />"
   ]
  },
  {
   "cell_type": "markdown",
   "id": "628ece2b",
   "metadata": {},
   "source": [
    "## 완전 그래프"
   ]
  },
  {
   "cell_type": "markdown",
   "id": "0732bedd",
   "metadata": {},
   "source": [
    "**완전 그래프**<sub>complete graph</sub>는 그래프의 모든 노드가 서로 인접한 그래프를 말한다. "
   ]
  },
  {
   "cell_type": "markdown",
   "id": "462a3977",
   "metadata": {},
   "source": [
    "예를 들어, \n",
    "<img src='https://slid-capture.s3.ap-northeast-2.amazonaws.com/public/image_upload/d4954708fd8f4731a091c75bea2b2ea7/efca9a15-1c72-48e7-b5b3-266a662927de.png' width='500' />"
   ]
  },
  {
   "cell_type": "markdown",
   "id": "feeadbc7",
   "metadata": {},
   "source": [
    "## 차수 "
   ]
  },
  {
   "cell_type": "markdown",
   "id": "249f302e",
   "metadata": {},
   "source": [
    "**차수**<sub>degree</sub> : 한 노드에 이어져 있는 간선의 수<br>\n",
    "<br>\n",
    "* 차수가 0인 노드는 **고립**<sub>isolated</sub> 되었다고 부른다.\n",
    "\n",
    "* 유향 그래프의 경우 **입력 차수**<sub>in-degree</sub>와 **출력 차수**<sub>out-degree</sub>로 나눌 수 있다.\n",
    "    - **입력 차수**<sub>in-degree</sub>: 한 노드로 들어오는 간선 수\n",
    "    - **출력 차수**<sub>out-degree</sub>: 한 노드에서 나가는 간선 수"
   ]
  },
  {
   "cell_type": "markdown",
   "id": "a0ad5543",
   "metadata": {},
   "source": [
    "## 경로,보행,순환 "
   ]
  },
  {
   "cell_type": "markdown",
   "id": "2a6decf3",
   "metadata": {},
   "source": [
    "* **경로**<sub>path</sub> : 간선이 어는 노드도 다시 방문하지 않고, 노드가 일렬로 연결된 부분 그래프다. <br><br>\n",
    "\n",
    "* **보행**<sub>walk</sub> : 노드와 간선을 번갈아 가며 반복적으로 방문하는 노드와 간선이다. 경로는 노드와 간선이 모두 중복되지 않는 보행과 같다. <br><br>\n",
    "\n",
    "* **순환**<sub>cycle</sub>은 경로와 같지만 마지막에 연결된 간선의 노드가 다시 첫 번째 노드에 연결된다. "
   ]
  },
  {
   "cell_type": "markdown",
   "id": "8247cc1e",
   "metadata": {},
   "source": [
    "## 경로 길이"
   ]
  },
  {
   "cell_type": "markdown",
   "id": "fa9beeea",
   "metadata": {},
   "source": [
    "경로 또는 보행의 **길이**<sub>length</sub>는 간선의 수와 동일하다. "
   ]
  },
  {
   "cell_type": "markdown",
   "id": "a3b57339",
   "metadata": {},
   "source": [
    "## 가중 그래프"
   ]
  },
  {
   "cell_type": "markdown",
   "id": "2287247f",
   "metadata": {},
   "source": [
    "가중 그래프는 간선에 **가중치**<sub>weight</sub>가 있는 그래프이다. <br><br>\n",
    "경로 또는 순환 가중치는 해당하는 간선들의 가중치의 총합이다. 가중 그래프가 아닌 경우에는 경로와 순환의 가중치가 간선의 수와 같다. "
   ]
  },
  {
   "cell_type": "markdown",
   "id": "75e7d417",
   "metadata": {},
   "source": [
    "###### 평면 그래프\n",
    "\n",
    "**평면 그래프**<sub>planar graph</sub>는 간선을 서로 횡단하지 않고 평면에 그릴 수 있는 그래프.<br><br>\n",
    "\n",
    "평면 그래프는 간선에 의해 경계면<sub>bounded face</sub>을 가진다.  연결된 평면 그래프는 **오일러 공식**<sub>Euler's formula</sub>에 따르면 $ V - E + F = 2 $ 이다.(V:노드 수, E:간선수, F:면 수)"
   ]
  },
  {
   "cell_type": "markdown",
   "id": "cd2b3489",
   "metadata": {},
   "source": [
    "다음 예시를 통해서 평면 그래프인지를 알아 보자. 간단한 예로,\n",
    "<img src='https://slid-capture.s3.ap-northeast-2.amazonaws.com/public/image_upload/d4954708fd8f4731a091c75bea2b2ea7/56f73842-fa53-48dd-aef9-bf470d605f13.png' width='200' />은 평면 그래프일까?\n",
    "\n",
    "두 간선이 교차하기 때문에 평면 그래프가 아닌거 같지만, 위 그래프는 평면 그래프다. 다음 그림과 같이 변환을 통해 다양한 형태로 평면에 다시 나타낼 수 있기 때문이다. "
   ]
  },
  {
   "cell_type": "markdown",
   "id": "b8d7fccf",
   "metadata": {},
   "source": [
    "<img src='https://slid-capture.s3.ap-northeast-2.amazonaws.com/public/image_upload/d4954708fd8f4731a091c75bea2b2ea7/09851cc0-0298-441c-8509-e8b724802f5b.png' width='450' />"
   ]
  },
  {
   "cell_type": "markdown",
   "id": "4986cf78",
   "metadata": {},
   "source": [
    "###### 순회\n",
    "\n",
    "**순회**<sub>traversal</sub>는 그래프에 연결된 모든 요소를 탐색하는 일을 말한다. 순회에서 중요한 것은 (아직 방문하지 않은) 노드의 순회 순서다. "
   ]
  },
  {
   "cell_type": "markdown",
   "id": "57a2bfec",
   "metadata": {},
   "source": [
    "###### 강한 연결 요소\n",
    "\n",
    "무향 그래프는 모든 노드에서 다른 모든 노드로 가는 경로가 존재할 때 **연결**<sub> connected</sub> 되어 있다고 한다. 유향 그래프도 마찬가지이다. \n",
    "\n",
    "**연결 요소**<sub>connected component</sub>는 모든 노드가 연결된 최대 부분 그래프를 말한다. 연결 요소는 깊이 우선 탐색(DFS)과 너비 우선 탐색(BFS) 같은 순회 알고리즘을 사용하여 찾을 수 있다. \n",
    "\n",
    "유향 그래프에서 모든 노드에서 다른 모든 노드까지의 경로가 있으면, **강하게 연결**<sub>strongly connected</sub> 되었다고 부른다. 이 때 **강한 연결 요소**<sub>strongly connected component</sub>는 강하게 연결된 최대 하위 그래프를 말한다. "
   ]
  },
  {
   "cell_type": "markdown",
   "id": "43c005aa",
   "metadata": {},
   "source": [
    "######  트리와 포레스트\n",
    "\n",
    "**포레스트(숲)**<sub>forest</sbu>는 순환이 없는<sub>cycle-free</sub> 그래프다. **트리(나무)**<sub>tree</sub>는 비순환적<sub>acyclic</sub>이고 연결되어 있는 유향 그래프를 말한다. 포레스트는 하나 이상의 트리로 구성되어 있다. 즉, 서로 독립적인 트리의 모임이다.  "
   ]
  },
  {
   "cell_type": "markdown",
   "id": "74d9c672",
   "metadata": {},
   "source": [
    "트리에서 두 노드는 정확히 하나의 경로로 연결된다. 트리에 새로운 간선을 하나 추가하면 순환이 생기고, 어떤 간선을 제거하면 연결되 않은 요소가 생성된다. "
   ]
  },
  {
   "cell_type": "markdown",
   "id": "70fe2da4",
   "metadata": {},
   "source": [
    "# 12.2 이웃 함수 "
   ]
  },
  {
   "cell_type": "markdown",
   "id": "229a5836",
   "metadata": {},
   "source": [
    "그래프의 **이웃 함수**<sub>neighborhood function</sub> N(V)는 모든 이웃 V의 컨테이너(또는 반복 가능한 객체)다. "
   ]
  },
  {
   "cell_type": "markdown",
   "id": "35656a3f",
   "metadata": {},
   "source": [
    "그래프의 이웃 함수로 가장 잘 알려진 자료구조는 인접 리스트와 인접 행렬이다. "
   ]
  },
  {
   "cell_type": "markdown",
   "id": "face0a1b",
   "metadata": {},
   "source": [
    "## 인접 리스트\n",
    "\n",
    "**인접 리스트**<sub>adjacency list</sub> 에서는 각 노드에서 이웃 리스트(셋 또는 컨테이너와 같은 반복 가능한 객체)에 접근할 수 있다. n개의 노드가 있을 때, 각 노드의 인접(또는 이웃) 리스트는 단순한 숫자 리스트다. 숫자로 노드에 접근 가능한(인덱싱 가능한) n개의 메인 리스트에 각 노드의 인접 리스트를 추가하면 된다. 인접 리스트의 추가 순서는 보통 임의적이다. "
   ]
  },
  {
   "cell_type": "markdown",
   "id": "3be79652",
   "metadata": {},
   "source": [
    "셋(Set)"
   ]
  },
  {
   "cell_type": "code",
   "execution_count": 1,
   "id": "43d7fa6a",
   "metadata": {
    "ExecuteTime": {
     "end_time": "2021-08-27T14:01:27.839571Z",
     "start_time": "2021-08-27T14:01:27.826559Z"
    }
   },
   "outputs": [],
   "source": [
    "a, b, c, d, e, f = range(6) # 6개 노드\n",
    "N = [{b, c, d, f}, {a, d, f}, {a, b, d, e}, {a, e}, {a, b, c}, {b, c, d, e}]\n"
   ]
  },
  {
   "cell_type": "code",
   "execution_count": 2,
   "id": "2bd6b3b6",
   "metadata": {
    "ExecuteTime": {
     "end_time": "2021-08-27T14:01:27.854585Z",
     "start_time": "2021-08-27T14:01:27.840572Z"
    }
   },
   "outputs": [
    {
     "data": {
      "text/plain": [
       "True"
      ]
     },
     "execution_count": 2,
     "metadata": {},
     "output_type": "execute_result"
    }
   ],
   "source": [
    "#멤버십 테스트\n",
    "b in N[a]"
   ]
  },
  {
   "cell_type": "code",
   "execution_count": 3,
   "id": "e39b4597",
   "metadata": {
    "ExecuteTime": {
     "end_time": "2021-08-27T14:01:27.869598Z",
     "start_time": "2021-08-27T14:01:27.855585Z"
    }
   },
   "outputs": [
    {
     "data": {
      "text/plain": [
       "False"
      ]
     },
     "execution_count": 3,
     "metadata": {},
     "output_type": "execute_result"
    }
   ],
   "source": [
    "b in N[b]"
   ]
  },
  {
   "cell_type": "code",
   "execution_count": 4,
   "id": "df4dbeaa",
   "metadata": {
    "ExecuteTime": {
     "end_time": "2021-08-27T14:01:27.884612Z",
     "start_time": "2021-08-27T14:01:27.870599Z"
    }
   },
   "outputs": [
    {
     "data": {
      "text/plain": [
       "4"
      ]
     },
     "execution_count": 4,
     "metadata": {},
     "output_type": "execute_result"
    }
   ],
   "source": [
    "len(N[f])"
   ]
  },
  {
   "cell_type": "markdown",
   "id": "ca955e6d",
   "metadata": {},
   "source": [
    "리스트<br>\n",
    "\n",
    "이 경우 모든 노드 V에서 N(V)를 효율적으로 순회할 수 있다. 셋을 리스트로 바꾸면 멤버십 테스트의 시간 복잡도가 $O(n)$이 된다. 알고리즘을 수행하는 어떤 작업이 이웃 노드를 반복해서 접근하는 경우 리스트를 사용하는게 좋을 것이다. 그래프가 촘촘한 경우(간선이 많은 경우)에는 셋을 사용하는 게 더 좋다. "
   ]
  },
  {
   "cell_type": "code",
   "execution_count": 5,
   "id": "286d21fa",
   "metadata": {
    "ExecuteTime": {
     "end_time": "2021-08-27T14:01:27.899623Z",
     "start_time": "2021-08-27T14:01:27.885613Z"
    }
   },
   "outputs": [],
   "source": [
    "a, b, c, d, e, f = range(6) # 6개 노드\n",
    "N = [[b, c, d, f], [a, d, f], [a, b, d, e], [a, e], [a, b, c], [b, c, d, e]]"
   ]
  },
  {
   "cell_type": "code",
   "execution_count": 6,
   "id": "e6ccf8f3",
   "metadata": {
    "ExecuteTime": {
     "end_time": "2021-08-27T14:01:27.914640Z",
     "start_time": "2021-08-27T14:01:27.900626Z"
    }
   },
   "outputs": [
    {
     "data": {
      "text/plain": [
       "True"
      ]
     },
     "execution_count": 6,
     "metadata": {},
     "output_type": "execute_result"
    }
   ],
   "source": [
    "b in N[a]"
   ]
  },
  {
   "cell_type": "code",
   "execution_count": 7,
   "id": "e535555f",
   "metadata": {
    "ExecuteTime": {
     "end_time": "2021-08-27T14:01:27.929651Z",
     "start_time": "2021-08-27T14:01:27.915640Z"
    }
   },
   "outputs": [
    {
     "data": {
      "text/plain": [
       "False"
      ]
     },
     "execution_count": 7,
     "metadata": {},
     "output_type": "execute_result"
    }
   ],
   "source": [
    "b in N[b]"
   ]
  },
  {
   "cell_type": "code",
   "execution_count": 8,
   "id": "a5e350df",
   "metadata": {
    "ExecuteTime": {
     "end_time": "2021-08-27T14:01:27.945076Z",
     "start_time": "2021-08-27T14:01:27.930652Z"
    }
   },
   "outputs": [
    {
     "data": {
      "text/plain": [
       "4"
      ]
     },
     "execution_count": 8,
     "metadata": {},
     "output_type": "execute_result"
    }
   ],
   "source": [
    "len(N[f])"
   ]
  },
  {
   "cell_type": "markdown",
   "id": "9ed0f5ea",
   "metadata": {},
   "source": [
    "파이썬 리스트 중간에서 어떤 한 객체를 삭제하는 시간 복잡도는 $O(n)$이지만, 리스트 끝에서 삭제한다면 $O(1)$이다. 이웃 노드의 순서가 중요하지 않다면, 삭제하려는 임의의 이웃을 마지막 항목으로 위치를 바꾼<sub>swap</sub> 다음, pop()을 호출하여$O(1)$에 임의의 이웃을 삭제할 수 있다. "
   ]
  },
  {
   "cell_type": "markdown",
   "id": "c023c00c",
   "metadata": {},
   "source": [
    "딕셔너리"
   ]
  },
  {
   "cell_type": "markdown",
   "id": "f8195b6a",
   "metadata": {},
   "source": [
    "노드가 키가 되고, 각 노드를 간선 가중치 등의 값으로 연결 할 수 있다. "
   ]
  },
  {
   "cell_type": "code",
   "execution_count": 9,
   "id": "3e75b883",
   "metadata": {
    "ExecuteTime": {
     "end_time": "2021-08-27T14:01:27.960090Z",
     "start_time": "2021-08-27T14:01:27.946077Z"
    }
   },
   "outputs": [],
   "source": [
    "a, b, c, d, e, f = range(6) # 6개 노드\n",
    "N = [{b:2, c:1, d:4, f:1}, {a:4, d:1, f:4}, {a:1, b:1, d:2, e:4}, \n",
    "     {a:3, e:2}, {a:3, b:4, c:1}, {b:1, c:2, d:4, e:3}]"
   ]
  },
  {
   "cell_type": "code",
   "execution_count": 10,
   "id": "20394c47",
   "metadata": {
    "ExecuteTime": {
     "end_time": "2021-08-27T14:01:27.975104Z",
     "start_time": "2021-08-27T14:01:27.961092Z"
    }
   },
   "outputs": [
    {
     "data": {
      "text/plain": [
       "True"
      ]
     },
     "execution_count": 10,
     "metadata": {},
     "output_type": "execute_result"
    }
   ],
   "source": [
    "b in N[a] # 멤버십 테스트"
   ]
  },
  {
   "cell_type": "code",
   "execution_count": 11,
   "id": "91bde5b7",
   "metadata": {
    "ExecuteTime": {
     "end_time": "2021-08-27T14:01:27.990118Z",
     "start_time": "2021-08-27T14:01:27.976103Z"
    }
   },
   "outputs": [
    {
     "data": {
      "text/plain": [
       "4"
      ]
     },
     "execution_count": 11,
     "metadata": {},
     "output_type": "execute_result"
    }
   ],
   "source": [
    "len(N[f]) # 차수"
   ]
  },
  {
   "cell_type": "code",
   "execution_count": 12,
   "id": "3cd2a952",
   "metadata": {
    "ExecuteTime": {
     "end_time": "2021-08-27T14:01:28.005132Z",
     "start_time": "2021-08-27T14:01:27.991117Z"
    }
   },
   "outputs": [
    {
     "data": {
      "text/plain": [
       "2"
      ]
     },
     "execution_count": 12,
     "metadata": {},
     "output_type": "execute_result"
    }
   ],
   "source": [
    "N[a][b] # (a, b)의 간선 가중치"
   ]
  },
  {
   "cell_type": "markdown",
   "id": "c54b467a",
   "metadata": {},
   "source": [
    "딕셔너리의 기본 주조를 활용하면 조금 더 유연하게 인접 리스트를 만들 수 있다. "
   ]
  },
  {
   "cell_type": "code",
   "execution_count": 13,
   "id": "ed79e297",
   "metadata": {
    "ExecuteTime": {
     "end_time": "2021-08-27T14:01:28.020145Z",
     "start_time": "2021-08-27T14:01:28.006133Z"
    }
   },
   "outputs": [],
   "source": [
    "a, b, c, d, e, f = range(6) # 6개 노드\n",
    "N = { 'a':set('bcdf'), 'b':set('adf'), 'c':set('abde'), 'd':set('ae'),\n",
    "     'e':set('abc'), 'f':set('bcde')}"
   ]
  },
  {
   "cell_type": "code",
   "execution_count": 14,
   "id": "f7feb7cf",
   "metadata": {
    "ExecuteTime": {
     "end_time": "2021-08-27T14:01:28.035167Z",
     "start_time": "2021-08-27T14:01:28.021145Z"
    }
   },
   "outputs": [
    {
     "data": {
      "text/plain": [
       "True"
      ]
     },
     "execution_count": 14,
     "metadata": {},
     "output_type": "execute_result"
    }
   ],
   "source": [
    "'b' in N['a'] # 멤버십 테스트"
   ]
  },
  {
   "cell_type": "code",
   "execution_count": 15,
   "id": "80f4abdc",
   "metadata": {
    "ExecuteTime": {
     "end_time": "2021-08-27T14:01:28.049857Z",
     "start_time": "2021-08-27T14:01:28.036168Z"
    }
   },
   "outputs": [
    {
     "data": {
      "text/plain": [
       "4"
      ]
     },
     "execution_count": 15,
     "metadata": {},
     "output_type": "execute_result"
    }
   ],
   "source": [
    "len(N['f']) # 차수"
   ]
  },
  {
   "cell_type": "markdown",
   "id": "e8b992f2",
   "metadata": {},
   "source": [
    "## 인접 행렬"
   ]
  },
  {
   "cell_type": "markdown",
   "id": "d4dc4d8d",
   "metadata": {},
   "source": [
    "**인접 행렬**<sub>adjacent matrix</sub>은 각 노드의 모든 이웃에 대해 하나의 행을 갖는다. 각 행의 값은 1(`True`)과 0(`False`)으로 이루어진다. <br>\n",
    "인접 행렬은 중첩 리스트로 간단하게 구현 할수 있다. 행렬의 대각선<sub>diagonal</sub> 요소는 항상 0이다."
   ]
  },
  {
   "cell_type": "code",
   "execution_count": 17,
   "id": "d5192e81",
   "metadata": {
    "ExecuteTime": {
     "end_time": "2021-08-27T14:06:35.862537Z",
     "start_time": "2021-08-27T14:06:35.857530Z"
    }
   },
   "outputs": [],
   "source": [
    "a, b, c, d, e, f = range(6)\n",
    "\n",
    "N = [[0, 1, 1, 1, 0, 1], [1, 0, 0, 1, 0, 1],\n",
    "     [1, 1, 0, 1, 1, 0], [1, 0, 0, 0, 1, 0],\n",
    "     [1, 1, 1, 0, 0, 0], [0, 1, 1, 1, 1, 0]]"
   ]
  },
  {
   "cell_type": "code",
   "execution_count": 18,
   "id": "574a9a0d",
   "metadata": {
    "ExecuteTime": {
     "end_time": "2021-08-27T14:06:43.005584Z",
     "start_time": "2021-08-27T14:06:42.993572Z"
    }
   },
   "outputs": [
    {
     "data": {
      "text/plain": [
       "1"
      ]
     },
     "execution_count": 18,
     "metadata": {},
     "output_type": "execute_result"
    }
   ],
   "source": [
    "N[a][b]"
   ]
  },
  {
   "cell_type": "code",
   "execution_count": 19,
   "id": "2be7f995",
   "metadata": {
    "ExecuteTime": {
     "end_time": "2021-08-27T14:06:58.234065Z",
     "start_time": "2021-08-27T14:06:58.218826Z"
    }
   },
   "outputs": [
    {
     "data": {
      "text/plain": [
       "0"
      ]
     },
     "execution_count": 19,
     "metadata": {},
     "output_type": "execute_result"
    }
   ],
   "source": [
    "N[a][e]"
   ]
  },
  {
   "cell_type": "markdown",
   "id": "4a4ae89a",
   "metadata": {},
   "source": [
    "무향 그래프의 인접 행렬은 항상 **대칭**<sub>symmetric</sub> 이다. 인접 행렬에 가중치를 추가하려면, 1과 0 값을 다른 숫자로 바꾸면 된다. 존재하지 않는 간선은 `float('inf'), None, -1, 매우 큰값`등으로 나타내면 된다. "
   ]
  },
  {
   "cell_type": "code",
   "execution_count": 20,
   "id": "14b4f3f7",
   "metadata": {
    "ExecuteTime": {
     "end_time": "2021-08-27T14:10:54.828785Z",
     "start_time": "2021-08-27T14:10:54.810778Z"
    }
   },
   "outputs": [],
   "source": [
    "_ = float('inf')\n",
    "N = [[_, 2, 1, 4, _, 1], [4, _, _, 1, _, 4], \n",
    "     [1, 1, _, 2, 4, _], [3, _, _, _, 2, _],\n",
    "     [3, 4, 1, _, _, _], [1, 2, _, 4, 3, _]]"
   ]
  },
  {
   "cell_type": "code",
   "execution_count": 22,
   "id": "88485864",
   "metadata": {
    "ExecuteTime": {
     "end_time": "2021-08-27T14:11:16.206015Z",
     "start_time": "2021-08-27T14:11:16.197678Z"
    }
   },
   "outputs": [
    {
     "data": {
      "text/plain": [
       "True"
      ]
     },
     "execution_count": 22,
     "metadata": {},
     "output_type": "execute_result"
    }
   ],
   "source": [
    "N[a][b] < _"
   ]
  },
  {
   "cell_type": "code",
   "execution_count": 24,
   "id": "e3406280",
   "metadata": {
    "ExecuteTime": {
     "end_time": "2021-08-27T14:11:53.153522Z",
     "start_time": "2021-08-27T14:11:53.150528Z"
    }
   },
   "outputs": [
    {
     "data": {
      "text/plain": [
       "4"
      ]
     },
     "execution_count": 24,
     "metadata": {},
     "output_type": "execute_result"
    }
   ],
   "source": [
    "sum(1 for w in N[f] if w < _) # 차수"
   ]
  },
  {
   "cell_type": "markdown",
   "id": "61198b28",
   "metadata": {},
   "source": [
    "인접 행렬에서 간선을 찾는 시간복잡도는 $O(1)$이며, 어떤 노드의 이웃을 순회하는 시간 복잡도는 $O(n)$이다. "
   ]
  },
  {
   "cell_type": "markdown",
   "id": "9a5e446a",
   "metadata": {},
   "source": [
    "# 12.3 트리와의 연결점 "
   ]
  },
  {
   "cell_type": "markdown",
   "id": "0e9ff5ab",
   "metadata": {},
   "source": [
    "그래프에서 어떤 노드는 다른 노드에 의에 다중 참조 될수 있다. 하지만 트리에서는 각 노드는 최대 하나의 **부모**<sub>parent</sub> 노드(상위 노드)에 의해서만 참조된다. **루트**<sub>root</sub>노드는 부모가 없는 노드를 말한다. 부모 노드를 참조하는 노드는 **자식**<sub>child</sub> 노드다. 트리에 대한 용어는 다음 장에서 다시 자세히 살펴볼 것이다. "
   ]
  },
  {
   "cell_type": "markdown",
   "id": "8c555d20",
   "metadata": {},
   "source": [
    "## 트리 구현하기 \n",
    "\n",
    "트리를 구현하는 가장 간다한 방법은 중첩 리스트를 사용하는 것이다. "
   ]
  },
  {
   "cell_type": "code",
   "execution_count": 26,
   "id": "b0e4e6ce",
   "metadata": {
    "ExecuteTime": {
     "end_time": "2021-08-27T14:19:12.657189Z",
     "start_time": "2021-08-27T14:19:12.644175Z"
    }
   },
   "outputs": [],
   "source": [
    "T = ['a', ['b', ['d', 'f']], ['c', ['e', 'g']]]"
   ]
  },
  {
   "cell_type": "code",
   "execution_count": 27,
   "id": "0fe80c38",
   "metadata": {
    "ExecuteTime": {
     "end_time": "2021-08-27T14:19:15.904398Z",
     "start_time": "2021-08-27T14:19:15.901396Z"
    }
   },
   "outputs": [
    {
     "data": {
      "text/plain": [
       "'a'"
      ]
     },
     "execution_count": 27,
     "metadata": {},
     "output_type": "execute_result"
    }
   ],
   "source": [
    "T[0]"
   ]
  },
  {
   "cell_type": "code",
   "execution_count": 28,
   "id": "4cf96af2",
   "metadata": {
    "ExecuteTime": {
     "end_time": "2021-08-27T14:20:17.294201Z",
     "start_time": "2021-08-27T14:20:17.278188Z"
    }
   },
   "outputs": [
    {
     "data": {
      "text/plain": [
       "'b'"
      ]
     },
     "execution_count": 28,
     "metadata": {},
     "output_type": "execute_result"
    }
   ],
   "source": [
    "T[1][0]"
   ]
  },
  {
   "cell_type": "code",
   "execution_count": 29,
   "id": "9325903d",
   "metadata": {
    "ExecuteTime": {
     "end_time": "2021-08-27T14:24:38.901280Z",
     "start_time": "2021-08-27T14:24:38.897273Z"
    }
   },
   "outputs": [
    {
     "data": {
      "text/plain": [
       "'d'"
      ]
     },
     "execution_count": 29,
     "metadata": {},
     "output_type": "execute_result"
    }
   ],
   "source": [
    "T[1][1][0]"
   ]
  },
  {
   "cell_type": "code",
   "execution_count": 30,
   "id": "44422d53",
   "metadata": {
    "ExecuteTime": {
     "end_time": "2021-08-27T14:25:51.183309Z",
     "start_time": "2021-08-27T14:25:51.166292Z"
    }
   },
   "outputs": [
    {
     "data": {
      "text/plain": [
       "'f'"
      ]
     },
     "execution_count": 30,
     "metadata": {},
     "output_type": "execute_result"
    }
   ],
   "source": [
    "T[1][1][1]"
   ]
  },
  {
   "cell_type": "code",
   "execution_count": 31,
   "id": "165cbced",
   "metadata": {
    "ExecuteTime": {
     "end_time": "2021-08-27T14:25:57.284011Z",
     "start_time": "2021-08-27T14:25:57.273174Z"
    }
   },
   "outputs": [
    {
     "data": {
      "text/plain": [
       "'c'"
      ]
     },
     "execution_count": 31,
     "metadata": {},
     "output_type": "execute_result"
    }
   ],
   "source": [
    "T[2][0]"
   ]
  },
  {
   "cell_type": "code",
   "execution_count": 32,
   "id": "663880fe",
   "metadata": {
    "ExecuteTime": {
     "end_time": "2021-08-27T14:26:03.077763Z",
     "start_time": "2021-08-27T14:26:03.070756Z"
    }
   },
   "outputs": [
    {
     "data": {
      "text/plain": [
       "'g'"
      ]
     },
     "execution_count": 32,
     "metadata": {},
     "output_type": "execute_result"
    }
   ],
   "source": [
    "T[2][1][1]"
   ]
  },
  {
   "cell_type": "markdown",
   "id": "5b4d3737",
   "metadata": {},
   "source": [
    "그러나 두 개 이상의 **가지**<sub>branch</sub>를 추가하면 트리를 다루기가 매우 불편해 진다. "
   ]
  },
  {
   "cell_type": "code",
   "execution_count": 33,
   "id": "0c26cee4",
   "metadata": {
    "ExecuteTime": {
     "end_time": "2021-08-27T14:29:49.347041Z",
     "start_time": "2021-08-27T14:29:49.330215Z"
    }
   },
   "outputs": [],
   "source": [
    "class SimpleTree(object):\n",
    "    def __init__(self, value=None, children=None):\n",
    "        self.value = value\n",
    "        self.children = children\n",
    "        if self.children is None:\n",
    "            self.children  = []\n",
    "            \n",
    "    def __repr__(self, level=0):\n",
    "        ret = \"\\t\"*level + repr(self.value) + \"\\n\"\n",
    "        for child in self.children:\n",
    "            ret += child.__repr__(level+1)\n",
    "            \n",
    "        return ret"
   ]
  },
  {
   "cell_type": "code",
   "execution_count": 36,
   "id": "73e178b8",
   "metadata": {
    "ExecuteTime": {
     "end_time": "2021-08-27T14:33:02.689449Z",
     "start_time": "2021-08-27T14:33:02.676737Z"
    }
   },
   "outputs": [],
   "source": [
    "def main():\n",
    "    st = SimpleTree('a', [\n",
    "            SimpleTree('b',\n",
    "              [\n",
    "                SimpleTree('d'),\n",
    "                SimpleTree('e')\n",
    "              ]),\n",
    "            SimpleTree('c', [\n",
    "              SimpleTree('h'),\n",
    "              SimpleTree('g')\n",
    "            ])\n",
    "    ])\n",
    "    print(st)\n",
    "              "
   ]
  },
  {
   "cell_type": "code",
   "execution_count": 37,
   "id": "99b91765",
   "metadata": {
    "ExecuteTime": {
     "end_time": "2021-08-27T14:33:08.988431Z",
     "start_time": "2021-08-27T14:33:08.982423Z"
    }
   },
   "outputs": [
    {
     "name": "stdout",
     "output_type": "stream",
     "text": [
      "'a'\n",
      "\t'b'\n",
      "\t\t'd'\n",
      "\t\t'e'\n",
      "\t'c'\n",
      "\t\t'h'\n",
      "\t\t'g'\n",
      "\n"
     ]
    }
   ],
   "source": [
    "main()"
   ]
  },
  {
   "cell_type": "markdown",
   "id": "44905390",
   "metadata": {},
   "source": [
    "마지막으로, 트리와 같은 자료 구조를 프로토 타이핑 할 때는, 생성자에서 임의의 속성을 지정하여 유연하게 구현하는 것이 좋다. 딕셔너리 클래스를 특수화<sub>specilization</sub> 한 다음 클래스를 살펴보자. "
   ]
  },
  {
   "cell_type": "code",
   "execution_count": 39,
   "id": "6f40a233",
   "metadata": {
    "ExecuteTime": {
     "end_time": "2021-08-27T14:35:19.798953Z",
     "start_time": "2021-08-27T14:35:19.782948Z"
    }
   },
   "outputs": [],
   "source": [
    "class BunchClass(dict):\n",
    "    def __init__(self, *args, **kwds):\n",
    "        super(BunchClass, self).__init__(*args, **kwds)\n",
    "        self.__dict__ = self"
   ]
  },
  {
   "cell_type": "code",
   "execution_count": 40,
   "id": "22f1f117",
   "metadata": {
    "ExecuteTime": {
     "end_time": "2021-08-27T14:37:32.492113Z",
     "start_time": "2021-08-27T14:37:32.481112Z"
    }
   },
   "outputs": [],
   "source": [
    "def main():\n",
    "    # 1) 딕셔너리 특수화\n",
    "    bc = BunchClass\n",
    "    tree = bc(left=bc(left='Buffy', right='Angel'),\n",
    "              right=bc(left='Willow', right='Xander'))\n",
    "    print(tree)\n",
    "    \n",
    "    # 2) 일반 딕셔너리\n",
    "    tree2 = dict(left=dict(left='Buffy', right='Angel'),\n",
    "                 right=dict(left='Willow', right=\"Xander\"))\n",
    "    print(tree2)\n",
    "    "
   ]
  },
  {
   "cell_type": "code",
   "execution_count": 41,
   "id": "3df2baa3",
   "metadata": {
    "ExecuteTime": {
     "end_time": "2021-08-27T14:37:34.673306Z",
     "start_time": "2021-08-27T14:37:34.668301Z"
    }
   },
   "outputs": [
    {
     "name": "stdout",
     "output_type": "stream",
     "text": [
      "{'left': {'left': 'Buffy', 'right': 'Angel'}, 'right': {'left': 'Willow', 'right': 'Xander'}}\n",
      "{'left': {'left': 'Buffy', 'right': 'Angel'}, 'right': {'left': 'Willow', 'right': 'Xander'}}\n"
     ]
    }
   ],
   "source": [
    "main()"
   ]
  },
  {
   "cell_type": "markdown",
   "id": "52495c0c",
   "metadata": {},
   "source": [
    "`__init__()` 메서드의 `*args`와 `**kwds`를 통해 임의의 수의 인수와 키워드 인수를 저장할 수 있다. "
   ]
  },
  {
   "cell_type": "markdown",
   "id": "31fddbd3",
   "metadata": {},
   "source": [
    "**Reference**\n",
    "\n",
    "* <a href='https://github.com/SeWonKwon' ><div> <img src ='https://slid-capture.s3.ap-northeast-2.amazonaws.com/public/image_upload/6556674324ed41a289a354258718280d/964e5a8b-75ad-41fc-ae75-0ca66d06fbc7.png' align='left' /> </div></a>\n",
    "\n",
    "<br>\n",
    "\n",
    "* [파이썬 자료구조와 알고리즘, 미아 스타인](https://github.com/AstinCHOI/Python-and-Algorithms-and-Data-Structures)\n"
   ]
  }
 ],
 "metadata": {
  "kernelspec": {
   "display_name": "Python 3",
   "language": "python",
   "name": "python3"
  },
  "language_info": {
   "codemirror_mode": {
    "name": "ipython",
    "version": 3
   },
   "file_extension": ".py",
   "mimetype": "text/x-python",
   "name": "python",
   "nbconvert_exporter": "python",
   "pygments_lexer": "ipython3",
   "version": "3.8.5"
  },
  "toc": {
   "base_numbering": 1,
   "nav_menu": {},
   "number_sections": true,
   "sideBar": true,
   "skip_h1_title": false,
   "title_cell": "Table of Contents",
   "title_sidebar": "Contents",
   "toc_cell": false,
   "toc_position": {
    "height": "calc(100% - 180px)",
    "left": "10px",
    "top": "150px",
    "width": "258.906px"
   },
   "toc_section_display": true,
   "toc_window_display": false
  }
 },
 "nbformat": 4,
 "nbformat_minor": 5
}
