{
 "cells": [
  {
   "cell_type": "markdown",
   "id": "bbf2700e",
   "metadata": {},
   "source": [
    "<a href='https://github.com/SeWonKwon' ><div> <img src ='https://slid-capture.s3.ap-northeast-2.amazonaws.com/public/image_upload/6556674324ed41a289a354258718280d/964e5a8b-75ad-41fc-ae75-0ca66d06fbc7.png' align='left' /> </div></a>\n"
   ]
  },
  {
   "cell_type": "markdown",
   "id": "0120b362",
   "metadata": {},
   "source": [
    "###### Ch 12 그래프 기초"
   ]
  },
  {
   "cell_type": "markdown",
   "id": "ba002830",
   "metadata": {},
   "source": [
    "# 12.1 용어"
   ]
  },
  {
   "cell_type": "markdown",
   "id": "f3d06c1f",
   "metadata": {},
   "source": [
    "**그래프**<sub>graph</sub>는 여러 **노드**<sub>node</sub>(또는 정점<sub>vertex</sub>)들이 **간선**<sub>edge</sub>(또는 아크<sub>arc</sub>)으로 연결된 추상 네트워크를 뜻한다. <br />\n",
    "즉 그래프는 노드와 간선의 집합으로 정의 되며 이를 수식으로 쓰면 다음과 같다.\n",
    "\n",
    "$$ G = (V, E) $$\n",
    "\n",
    "* $V$ : 노드 집합, 임의의 유한 집합\n",
    "* $E$ : 간선 집합, 노드 쌍들의 집합\n"
   ]
  },
  {
   "cell_type": "markdown",
   "id": "bc714d09",
   "metadata": {},
   "source": [
    "예를 들어,<br>\n",
    "노드 집합  $V = \\{a,b,c,d\\}$ <br>\n",
    "간선 집합 $E = \\{\\{a,b\\},\\{b,c\\},\\{c, d\\},\\{d,a\\}\\}$ <br>\n",
    "인 그래프는 다음과 같다. "
   ]
  },
  {
   "cell_type": "markdown",
   "id": "13afa412",
   "metadata": {},
   "source": [
    "<img src='https://slid-capture.s3.ap-northeast-2.amazonaws.com/public/image_upload/d4954708fd8f4731a091c75bea2b2ea7/83fcf869-a60a-4cd4-a11e-23c83090638d.png' width='300' />\n"
   ]
  },
  {
   "cell_type": "markdown",
   "id": "c910a69a",
   "metadata": {},
   "source": [
    "## 그래프 방향"
   ]
  },
  {
   "cell_type": "markdown",
   "id": "25f723a9",
   "metadata": {},
   "source": [
    "그래프에는 방향이 있는 방향이 없는 **무향**<sub>undirected</sub>그래프와 **유향**<sub>directed</sub>그래프가 있다. "
   ]
  },
  {
   "cell_type": "markdown",
   "id": "2fe4252b",
   "metadata": {},
   "source": [
    "1. **무향**<sub>undirected</sub> 그래프\n",
    "    * 무향 그래프는 말 그대로 간선에 방향이 지정되어 있지 않다. 간선으로 연결된 노드는 서로 **인접**<sub>adjacent</sub>해 있으며, **이웃**<sub>neighbor</sub>이라고 한다. \n",
    "    * <img src='https://slid-capture.s3.ap-northeast-2.amazonaws.com/public/image_upload/d4954708fd8f4731a091c75bea2b2ea7/00dc9659-1b8e-459b-a8c6-14fc7322f744.png' width='200' />\n",
    "\n",
    "\n",
    "2. **유향**<sub>directed</sub>그래프\n",
    "    * 유향 그래프의 경우 순서가 존재하므로 **말단**<sub>leaf</sub>노드가 존재한다. 노드 u와 v 사이의 간선은 u에서 v까지의 간선(u, v) 또는 v에서 u까지의 간선(v, u)이 있다. \n",
    "    * 유향 그래프 G에서 함수 E(G)는 V(G)에 대한 관계라고도 말할 수 있다. \n",
    "    \n",
    "    * <img src = 'https://slid-capture.s3.ap-northeast-2.amazonaws.com/public/image_upload/d4954708fd8f4731a091c75bea2b2ea7/d20dc100-9e8b-45ca-8e34-5a8e294c1048.png' width='200' />"
   ]
  },
  {
   "cell_type": "markdown",
   "id": "ff53fee2",
   "metadata": {},
   "source": [
    "## 부분 그래프 "
   ]
  },
  {
   "cell_type": "markdown",
   "id": "34cad6e6",
   "metadata": {},
   "source": [
    "**부분 그래프**<sub>subgraph</sub> 는 그래프 G에서 집합 V와 E로 구성된 그래프의 일부다. "
   ]
  },
  {
   "cell_type": "markdown",
   "id": "8e8d5ba3",
   "metadata": {},
   "source": [
    "<img src='https://slid-capture.s3.ap-northeast-2.amazonaws.com/public/image_upload/d4954708fd8f4731a091c75bea2b2ea7/b5a7dc32-8085-441f-86d9-9f0e6001257b.png' width='400' />"
   ]
  },
  {
   "cell_type": "markdown",
   "id": "d0fed77a",
   "metadata": {},
   "source": [
    "예를 들어, 아래가 그래프 G의 부분 그래프이다. \n",
    "\n",
    "<img src='https://slid-capture.s3.ap-northeast-2.amazonaws.com/public/image_upload/d4954708fd8f4731a091c75bea2b2ea7/1842b168-c474-4f37-a2ba-ea0cd1022a7e.png' width='400' />"
   ]
  },
  {
   "cell_type": "markdown",
   "id": "08191568",
   "metadata": {},
   "source": [
    "위의 부분 그래프를 차례로 $G_1, G_2, G_3$라고 했을 때, $G_3$는 $G_2$의 유도 부분 그래프<sub> induced subgraph</sub> 라고한다."
   ]
  },
  {
   "cell_type": "markdown",
   "id": "704ff3e1",
   "metadata": {},
   "source": [
    "한편, **신장 부분 그래프**<sub>spanning subgraph</sub>는 원본 그래프의 모든 노드를 포함하는 부분 그래프를 말한다. 다음 그림에서 간선을 굵게 표시한 부분이 신장 부분 그래프(또는 신장 트리 그래프)이다."
   ]
  },
  {
   "cell_type": "markdown",
   "id": "a7e11ce9",
   "metadata": {},
   "source": [
    "<img src= 'https://slid-capture.s3.ap-northeast-2.amazonaws.com/public/image_upload/d4954708fd8f4731a091c75bea2b2ea7/588bbc51-0dc1-42cf-bcb8-e291c4fbe244.png' width='300' />"
   ]
  },
  {
   "cell_type": "markdown",
   "id": "1b26ae6f",
   "metadata": {},
   "source": [
    "## 완전 그래프"
   ]
  },
  {
   "cell_type": "markdown",
   "id": "60a7c82c",
   "metadata": {},
   "source": [
    "**완전 그래프**<sub>complete graph</sub>는 그래프의 모든 노드가 서로 인접한 그래프를 말한다. "
   ]
  },
  {
   "cell_type": "markdown",
   "id": "19951166",
   "metadata": {},
   "source": [
    "예를 들어, \n",
    "<img src='https://slid-capture.s3.ap-northeast-2.amazonaws.com/public/image_upload/d4954708fd8f4731a091c75bea2b2ea7/efca9a15-1c72-48e7-b5b3-266a662927de.png' width='500' />"
   ]
  },
  {
   "cell_type": "markdown",
   "id": "5d4cb158",
   "metadata": {},
   "source": [
    "## 차수 "
   ]
  },
  {
   "cell_type": "markdown",
   "id": "c6239f87",
   "metadata": {},
   "source": [
    "**차수**<sub>degree</sub> : 한 노드에 이어져 있는 간선의 수<br>\n",
    "<br>\n",
    "* 차수가 0인 노드는 **고립**<sub>isolated</sub> 되었다고 부른다.\n",
    "\n",
    "* 유향 그래프의 경우 **입력 차수**<sub>in-degree</sub>와 **출력 차수**<sub>out-degree</sub>로 나눌 수 있다.\n",
    "    - **입력 차수**<sub>in-degree</sub>: 한 노드로 들어오는 간선 수\n",
    "    - **출력 차수**<sub>out-degree</sub>: 한 노드에서 나가는 간선 수"
   ]
  },
  {
   "cell_type": "markdown",
   "id": "91e29cfa",
   "metadata": {},
   "source": [
    "## 경로,보행,순환 "
   ]
  },
  {
   "cell_type": "markdown",
   "id": "37433e79",
   "metadata": {},
   "source": [
    "* **경로**<sub>path</sub> : 간선이 어는 노드도 다시 방문하지 않고, 노드가 일렬로 연결된 부분 그래프다. <br><br>\n",
    "\n",
    "* **보행**<sub>walk</sub> : 노드와 간선을 번갈아 가며 반복적으로 방문하는 노드와 간선이다. 경로는 노드와 간선이 모두 중복되지 않는 보행과 같다. <br><br>\n",
    "\n",
    "* **순환**<sub>cycle</sub>은 경로와 같지만 마지막에 연결된 간선의 노드가 다시 첫 번째 노드에 연결된다. "
   ]
  },
  {
   "cell_type": "markdown",
   "id": "1477dbce",
   "metadata": {},
   "source": [
    "## 경로 길이"
   ]
  },
  {
   "cell_type": "markdown",
   "id": "5a6a33d9",
   "metadata": {},
   "source": [
    "경로 또는 보행의 **길이**<sub>length</sub>는 간선의 수와 동일하다. "
   ]
  },
  {
   "cell_type": "markdown",
   "id": "4d44304b",
   "metadata": {},
   "source": [
    "## 가중 그래프"
   ]
  },
  {
   "cell_type": "markdown",
   "id": "f7328d07",
   "metadata": {},
   "source": [
    "가중 그래프는 간선에 **가중치**<sub>weight</sub>가 있는 그래프이다. <br><br>\n",
    "경로 또는 순환 가중치는 해당하는 간선들의 가중치의 총합이다. 가중 그래프가 아닌 경우에는 경로와 순환의 가중치가 간선의 수와 같다. "
   ]
  },
  {
   "cell_type": "markdown",
   "id": "c27b3764",
   "metadata": {},
   "source": [
    "###### 평면 그래프\n",
    "\n",
    "**평면 그래프**<sub>planar graph</sub>는 간선을 서로 횡단하지 않고 평면에 그릴 수 있는 그래프.<br><br>\n",
    "\n",
    "평면 그래프는 간선에 의해 경계면<sub>bounded face</sub>을 가진다.  연결된 평면 그래프는 **오일러 공식**<sub>Euler's formula</sub>에 따르면 $ V - E + F = 2 $ 이다.(V:노드 수, E:간선수, F:면 수)"
   ]
  },
  {
   "cell_type": "markdown",
   "id": "08b0cc3c",
   "metadata": {},
   "source": [
    "다음 예시를 통해서 평면 그래프인지를 알아 보자. 간단한 예로,\n",
    "<img src='https://slid-capture.s3.ap-northeast-2.amazonaws.com/public/image_upload/d4954708fd8f4731a091c75bea2b2ea7/56f73842-fa53-48dd-aef9-bf470d605f13.png' width='200' />은 평면 그래프일까?\n",
    "\n",
    "두 간선이 교차하기 때문에 평면 그래프가 아닌거 같지만, 위 그래프는 평면 그래프다. 다음 그림과 같이 변환을 통해 다양한 형태로 평면에 다시 나타낼 수 있기 때문이다. "
   ]
  },
  {
   "cell_type": "markdown",
   "id": "3f23ae5b",
   "metadata": {},
   "source": [
    "<img src='https://slid-capture.s3.ap-northeast-2.amazonaws.com/public/image_upload/d4954708fd8f4731a091c75bea2b2ea7/09851cc0-0298-441c-8509-e8b724802f5b.png' width='450' />"
   ]
  },
  {
   "cell_type": "markdown",
   "id": "605fffce",
   "metadata": {},
   "source": [
    "###### 순회\n",
    "\n",
    "**순회**<sub>traversal</sub>는 그래프에 연결된 모든 요소를 탐색하는 일을 말한다. 순회에서 중요한 것은 (아직 방문하지 않은) 노드의 순회 순서다. "
   ]
  },
  {
   "cell_type": "markdown",
   "id": "08332ca3",
   "metadata": {},
   "source": [
    "###### 강한 연결 요소\n",
    "\n",
    "무향 그래프는 모든 노드에서 다른 모든 노드로 가는 경로가 존재할 때 **연결**<sub> connected</sub> 되어 있다고 한다. 유향 그래프도 마찬가지이다. \n",
    "\n",
    "**연결 요소**<sub>connected component</sub>는 모든 노드가 연결된 최대 부분 그래프를 말한다. 연결 요소는 깊이 우선 탐색(DFS)과 너비 우선 탐색(BFS) 같은 순회 알고리즘을 사용하여 찾을 수 있다. \n",
    "\n",
    "유향 그래프에서 모든 노드에서 다른 모든 노드까지의 경로가 있으면, **강하게 연결**<sub>strongly connected</sub> 되었다고 부른다. 이 때 **강한 연결 요소**<sub>strongly connected component</sub>는 강하게 연결된 최대 하위 그래프를 말한다. "
   ]
  },
  {
   "cell_type": "markdown",
   "id": "5d564454",
   "metadata": {},
   "source": [
    "######  트리와 포레스트\n",
    "\n",
    "**포레스트(숲)**<sub>forest</sbu>는 순환이 없는<sub>cycle-free</sub> 그래프다. **트리(나무)**<sub>tree</sub>는 비순환적<sub>acyclic</sub>이고 연결되어 있는 유향 그래프를 말한다. 포레스트는 하나 이상의 트리로 구성되어 있다. 즉, 서로 독립적인 트리의 모임이다.  "
   ]
  },
  {
   "cell_type": "markdown",
   "id": "81294928",
   "metadata": {},
   "source": [
    "트리에서 두 노드는 정확히 하나의 경로로 연결된다. 트리에 새로운 간선을 하나 추가하면 순환이 생기고, 어떤 간선을 제거하면 연결되 않은 요소가 생성된다. "
   ]
  },
  {
   "cell_type": "markdown",
   "id": "ff913678",
   "metadata": {},
   "source": [
    "# 12.2 이웃 함수 "
   ]
  },
  {
   "cell_type": "markdown",
   "id": "2a6064be",
   "metadata": {},
   "source": [
    "그래프의 **이웃 함수**<sub>neighborhood function</sub> N(V)는 모든 이웃 V의 컨테이너(또는 반복 가능한 객체)다. "
   ]
  },
  {
   "cell_type": "markdown",
   "id": "9a0c04d1",
   "metadata": {},
   "source": [
    "그래프의 이웃 함수로 가장 잘 알려진 자료구조는 인접 리스트와 인접 행렬이다. "
   ]
  },
  {
   "cell_type": "markdown",
   "id": "33fb28e7",
   "metadata": {},
   "source": [
    "## 인접 리스트\n",
    "\n",
    "**인접 리스트**<sub>adjacency list</sub> 에서는 각 노드에서 이웃 리스트(셋 또는 컨테이너와 같은 반복 가능한 객체)에 접근할 수 있다. n개의 노드가 있을 때, 각 노드의 인접(또는 이웃) 리스트는 단순한 숫자 리스트다. 숫자로 노드에 접근 가능한(인덱싱 가능한) n개의 메인 리스트에 각 노드의 인접 리스트를 추가하면 된다. 인접 리스트의 추가 순서는 보통 임의적이다. "
   ]
  },
  {
   "cell_type": "markdown",
   "id": "f90d9890",
   "metadata": {},
   "source": [
    "셋(Set)"
   ]
  },
  {
   "cell_type": "code",
   "execution_count": 2,
   "id": "0effb652",
   "metadata": {
    "ExecuteTime": {
     "end_time": "2021-08-08T05:59:46.876341Z",
     "start_time": "2021-08-08T05:59:46.864329Z"
    }
   },
   "outputs": [],
   "source": [
    "a, b, c, d, e, f = range(6) # 6개 노드\n",
    "N = [{b, c, d, f}, {a, d, f}, {a, b, d, e}, {a, e}, {a, b, c}, {b, c, d, e}]\n"
   ]
  },
  {
   "cell_type": "code",
   "execution_count": 3,
   "id": "8cce1094",
   "metadata": {
    "ExecuteTime": {
     "end_time": "2021-08-08T05:59:58.630901Z",
     "start_time": "2021-08-08T05:59:58.624904Z"
    }
   },
   "outputs": [
    {
     "data": {
      "text/plain": [
       "True"
      ]
     },
     "execution_count": 3,
     "metadata": {},
     "output_type": "execute_result"
    }
   ],
   "source": [
    "#멤버십 테스트\n",
    "b in N[a]"
   ]
  },
  {
   "cell_type": "code",
   "execution_count": 4,
   "id": "c539ae99",
   "metadata": {
    "ExecuteTime": {
     "end_time": "2021-08-08T06:00:07.739128Z",
     "start_time": "2021-08-08T06:00:07.731607Z"
    }
   },
   "outputs": [
    {
     "data": {
      "text/plain": [
       "False"
      ]
     },
     "execution_count": 4,
     "metadata": {},
     "output_type": "execute_result"
    }
   ],
   "source": [
    "b in N[b]"
   ]
  },
  {
   "cell_type": "code",
   "execution_count": 5,
   "id": "d396595d",
   "metadata": {
    "ExecuteTime": {
     "end_time": "2021-08-08T06:00:20.142568Z",
     "start_time": "2021-08-08T06:00:20.132559Z"
    }
   },
   "outputs": [
    {
     "data": {
      "text/plain": [
       "4"
      ]
     },
     "execution_count": 5,
     "metadata": {},
     "output_type": "execute_result"
    }
   ],
   "source": [
    "len(N[f])"
   ]
  },
  {
   "cell_type": "markdown",
   "id": "b5b5afa7",
   "metadata": {},
   "source": [
    "리스트"
   ]
  },
  {
   "cell_type": "markdown",
   "id": "e14b6ecd",
   "metadata": {},
   "source": [
    "딕셔너리"
   ]
  },
  {
   "cell_type": "markdown",
   "id": "ad92d03f",
   "metadata": {},
   "source": [
    "## 인접 행렬"
   ]
  },
  {
   "cell_type": "code",
   "execution_count": null,
   "id": "95c51f59",
   "metadata": {},
   "outputs": [],
   "source": []
  },
  {
   "cell_type": "markdown",
   "id": "c0cb44f3",
   "metadata": {},
   "source": [
    "# 12.3 트리와의 연결점 "
   ]
  },
  {
   "cell_type": "code",
   "execution_count": null,
   "id": "02bca6ff",
   "metadata": {},
   "outputs": [],
   "source": []
  },
  {
   "cell_type": "markdown",
   "id": "19fd583b",
   "metadata": {},
   "source": [
    "## 트리 구현하기 "
   ]
  },
  {
   "cell_type": "code",
   "execution_count": null,
   "id": "44ed3e5c",
   "metadata": {},
   "outputs": [],
   "source": []
  },
  {
   "cell_type": "code",
   "execution_count": null,
   "id": "d0a6c91c",
   "metadata": {},
   "outputs": [],
   "source": []
  },
  {
   "cell_type": "code",
   "execution_count": null,
   "id": "c05eec8f",
   "metadata": {},
   "outputs": [],
   "source": []
  },
  {
   "cell_type": "code",
   "execution_count": null,
   "id": "b623e679",
   "metadata": {},
   "outputs": [],
   "source": []
  },
  {
   "cell_type": "code",
   "execution_count": null,
   "id": "ea7664a2",
   "metadata": {},
   "outputs": [],
   "source": []
  },
  {
   "cell_type": "code",
   "execution_count": null,
   "id": "3efcd665",
   "metadata": {},
   "outputs": [],
   "source": []
  },
  {
   "cell_type": "code",
   "execution_count": null,
   "id": "f99b2c59",
   "metadata": {},
   "outputs": [],
   "source": []
  },
  {
   "cell_type": "code",
   "execution_count": null,
   "id": "e60f58c6",
   "metadata": {},
   "outputs": [],
   "source": []
  },
  {
   "cell_type": "code",
   "execution_count": null,
   "id": "e7ff8fc3",
   "metadata": {},
   "outputs": [],
   "source": []
  },
  {
   "cell_type": "code",
   "execution_count": null,
   "id": "05443a99",
   "metadata": {},
   "outputs": [],
   "source": []
  },
  {
   "cell_type": "code",
   "execution_count": null,
   "id": "305a0ebd",
   "metadata": {},
   "outputs": [],
   "source": []
  },
  {
   "cell_type": "code",
   "execution_count": null,
   "id": "134ead2d",
   "metadata": {},
   "outputs": [],
   "source": []
  },
  {
   "cell_type": "code",
   "execution_count": null,
   "id": "26b661f5",
   "metadata": {},
   "outputs": [],
   "source": []
  },
  {
   "cell_type": "code",
   "execution_count": null,
   "id": "ac7ce9ce",
   "metadata": {},
   "outputs": [],
   "source": []
  },
  {
   "cell_type": "code",
   "execution_count": null,
   "id": "62cefe65",
   "metadata": {},
   "outputs": [],
   "source": []
  },
  {
   "cell_type": "code",
   "execution_count": null,
   "id": "53aa04de",
   "metadata": {},
   "outputs": [],
   "source": []
  },
  {
   "cell_type": "code",
   "execution_count": null,
   "id": "e80bc800",
   "metadata": {},
   "outputs": [],
   "source": []
  },
  {
   "cell_type": "code",
   "execution_count": null,
   "id": "78810d01",
   "metadata": {},
   "outputs": [],
   "source": []
  },
  {
   "cell_type": "code",
   "execution_count": null,
   "id": "06c121ed",
   "metadata": {},
   "outputs": [],
   "source": []
  },
  {
   "cell_type": "code",
   "execution_count": null,
   "id": "00401f3b",
   "metadata": {},
   "outputs": [],
   "source": []
  },
  {
   "cell_type": "code",
   "execution_count": null,
   "id": "9b3f9a97",
   "metadata": {},
   "outputs": [],
   "source": []
  },
  {
   "cell_type": "code",
   "execution_count": null,
   "id": "1b655ed0",
   "metadata": {},
   "outputs": [],
   "source": []
  },
  {
   "cell_type": "code",
   "execution_count": null,
   "id": "993107ec",
   "metadata": {},
   "outputs": [],
   "source": []
  },
  {
   "cell_type": "code",
   "execution_count": null,
   "id": "516bf7ff",
   "metadata": {},
   "outputs": [],
   "source": []
  },
  {
   "cell_type": "code",
   "execution_count": null,
   "id": "794bc88e",
   "metadata": {},
   "outputs": [],
   "source": []
  },
  {
   "cell_type": "markdown",
   "id": "a09d5096",
   "metadata": {},
   "source": [
    "**Reference**\n",
    "\n",
    "* <a href='https://github.com/SeWonKwon' ><div> <img src ='https://slid-capture.s3.ap-northeast-2.amazonaws.com/public/image_upload/6556674324ed41a289a354258718280d/964e5a8b-75ad-41fc-ae75-0ca66d06fbc7.png' align='left' /> </div></a>\n",
    "\n",
    "<br>\n",
    "\n",
    "* [파이썬 자료구조와 알고리즘, 미아 스타인](https://github.com/AstinCHOI/Python-and-Algorithms-and-Data-Structures)\n"
   ]
  }
 ],
 "metadata": {
  "kernelspec": {
   "display_name": "Python 3",
   "language": "python",
   "name": "python3"
  },
  "language_info": {
   "codemirror_mode": {
    "name": "ipython",
    "version": 3
   },
   "file_extension": ".py",
   "mimetype": "text/x-python",
   "name": "python",
   "nbconvert_exporter": "python",
   "pygments_lexer": "ipython3",
   "version": "3.8.5"
  },
  "toc": {
   "base_numbering": 1,
   "nav_menu": {},
   "number_sections": true,
   "sideBar": true,
   "skip_h1_title": false,
   "title_cell": "Table of Contents",
   "title_sidebar": "Contents",
   "toc_cell": false,
   "toc_position": {
    "height": "calc(100% - 180px)",
    "left": "10px",
    "top": "150px",
    "width": "258.911px"
   },
   "toc_section_display": true,
   "toc_window_display": false
  }
 },
 "nbformat": 4,
 "nbformat_minor": 5
}
