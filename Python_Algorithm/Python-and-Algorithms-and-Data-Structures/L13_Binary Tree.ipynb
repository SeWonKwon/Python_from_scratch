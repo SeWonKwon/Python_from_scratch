{
 "cells": [
  {
   "cell_type": "markdown",
   "id": "7363db68",
   "metadata": {},
   "source": [
    "<a href='https://github.com/SeWonKwon' ><div> <img src ='https://slid-capture.s3.ap-northeast-2.amazonaws.com/public/image_upload/6556674324ed41a289a354258718280d/964e5a8b-75ad-41fc-ae75-0ca66d06fbc7.png' align='left' /> </div></a>\n"
   ]
  },
  {
   "cell_type": "markdown",
   "id": "d2d5df4a",
   "metadata": {},
   "source": [
    "###### Ch 13 이진 트리"
   ]
  },
  {
   "cell_type": "markdown",
   "id": "9ce16391",
   "metadata": {},
   "source": [
    "**이진 트리**<sub>binary tree</sub>는 노드가 최대 두 개의 자식 노드(**왼쪽**<sub>left</sub>과 **오른쪽**<sub>right</sub>를 갖는 자료구조다. 트리의 **루트** 노드는 모든 노드의 조상이다. "
   ]
  },
  {
   "cell_type": "markdown",
   "id": "43dc31dc",
   "metadata": {},
   "source": [
    "# 13.1 용어"
   ]
  },
  {
   "cell_type": "markdown",
   "id": "bb15e626",
   "metadata": {},
   "source": [
    "|용어|설명|\n",
    "|:--|:--|\n",
    "|노드차수<sub>degree</sub>|자식 수|\n",
    "|경로<sub>path</sub>|한 노드(부모)에서 다른 노드(자식)에 이르는 노드들의 순서|\n",
    "|경로 길이<sub>length</sub>|한 노드에서 다른 노드로 가는 간선의 수. 시작 노드와 끝 노드가 같다면 경로의 길이는 0이다.|\n",
    "|형제<sub>sibling</sub>노드|부모가 같은 두 노드|\n",
    "|외부<sub>external</sub> 노드(말단 노드)|자식이 없는 노드(차수가 0인 노드)|\n",
    "|내부<sub>internal</sub> 노드(가지 노드)|자식이 있는 노드(차수가 0이 아닌 노드)|\n",
    "|노드 깊이<sub>depth</sub>|루트 노드에서 어떤 노드로 가는 경로의 길이. 루트 노드의 깊이는 0이다. |\n",
    "|노드 레벨<sub>level</sub>|(루트 노드에서 어떤 노드로 가는 경로의 길이 +1)이다. 즉 루트 노드의 레벨은 1이다. 같은 레벨을 가지는 노드의 집합을 레벨이라고 부르기도 한다. |\n",
    "|노드 높이<sub>height</sub>|한 노드와 단말 노드 사이의 최대 경로 길이|\n",
    "|크기<sub>size</sub>|모든 노드의 수|"
   ]
  },
  {
   "cell_type": "markdown",
   "id": "3b9536a9",
   "metadata": {},
   "source": [
    "<img src='https://slid-capture.s3.ap-northeast-2.amazonaws.com/public/image_upload/d4954708fd8f4731a091c75bea2b2ea7/d88b65d3-07a0-4b27-bc0c-709f17f2f444.png' width='300' />"
   ]
  },
  {
   "cell_type": "markdown",
   "id": "99cdc8c4",
   "metadata": {},
   "source": [
    "루트 노드 a의 높이 3은 곧 트리의 높이와 같다. "
   ]
  },
  {
   "cell_type": "markdown",
   "id": "4fe1b2a4",
   "metadata": {},
   "source": [
    "**포화 이진 트리**<sub>perfect binary tree</sub> 는 모든 내부 노드가 두 개의 자식 노드를 가지며 모든 말단 노드가 같은 깊이 또는 레벨을 가진다. "
   ]
  },
  {
   "cell_type": "markdown",
   "id": "54df9e89",
   "metadata": {},
   "source": [
    "<img src='https://slid-capture.s3.ap-northeast-2.amazonaws.com/public/image_upload/d4954708fd8f4731a091c75bea2b2ea7/92b6bd34-d882-4ab6-8ac2-e8ba6d2adbda.png' width='300' />"
   ]
  },
  {
   "cell_type": "markdown",
   "id": "a04f4870",
   "metadata": {},
   "source": [
    "**완전 이진 트리**<sub>complete binary tree</sub> 는 마지막 레벨을 제외한 모든 레벨이 완전히 채워져 있고, 마지막 레벨의 모든 말단 노드는 외쪽에 있다. "
   ]
  },
  {
   "cell_type": "markdown",
   "id": "3d0fd572",
   "metadata": {},
   "source": [
    "<img src='https://slid-capture.s3.ap-northeast-2.amazonaws.com/public/image_upload/d4954708fd8f4731a091c75bea2b2ea7/860b0024-cd35-416f-8170-397dcf0192bb.png' width='600' />"
   ]
  },
  {
   "cell_type": "markdown",
   "id": "4f68b4cc",
   "metadata": {},
   "source": [
    "이진 트리에서 노드 차수는 최대 2다. 트리에 m개의 내부 노드가 있고, 각 내부 노드에 두개의 자식 노드가 있다고 가정한다. 또한 트리에 n개의 말단 노드가 있다면, 트리의 차수는 n-1 이다. \n",
    "\n",
    "$$2m = n + m - 1$$\n",
    "$$따라서  m = n - 1$$"
   ]
  },
  {
   "cell_type": "markdown",
   "id": "15d60b90",
   "metadata": {},
   "source": [
    "트리의 노드가 n개 일 경우 가지(분기)<sub>branch</sub> 또는 차수는 n-1 이다. 포화 이진 트리의 높이(h)와 말단 노드 수(n)의 관계를 그림으로 나타내면 다음과 같다. "
   ]
  },
  {
   "cell_type": "markdown",
   "id": "badd4a5c",
   "metadata": {},
   "source": [
    "<img src='https://slid-capture.s3.ap-northeast-2.amazonaws.com/public/image_upload/d4954708fd8f4731a091c75bea2b2ea7/64617518-ea5e-4552-8f9f-3e1dbc1f7a14.png' width='500' />"
   ]
  },
  {
   "cell_type": "markdown",
   "id": "e15eb477",
   "metadata": {},
   "source": [
    "그림에서 포화 이진 트리의 높이 $ h = \\log_2{n} = \\log_2{8} = \\log_2{2^3} = 3 $이고, 말단 노드 수 $ n = 2^h = 2^3 = 8 $이다. 또한, 포화 이진 트리의 총 노드 수는 $2^{h+1} - 1 = 2^{3+1} - 1 = 15 $다."
   ]
  },
  {
   "cell_type": "markdown",
   "id": "2cddec93",
   "metadata": {},
   "source": [
    "# 13.2 이진 트리 구현하기"
   ]
  },
  {
   "cell_type": "markdown",
   "id": "5f92beb8",
   "metadata": {},
   "source": [
    "이진 트리를 구현하는 가장 단순한 방법은 리스트를 사용하는 것이다. 다음 코드는 루트 노드와 두개의 빈 하위 리스트가 있는 리스트를 만든다. 루트 노드의 왼쪽에 서브 트리를 추가하려면 루트 노드의 리스트 두 번째 위치에 새 리스트를 삽입하면 된다. 하지만 이 코드는 리스트 중간에 노드를 삽입하거나 꺼낼<sub>pop</sub> 때 제한이 있으므로 매우 비효율적이다. "
   ]
  },
  {
   "cell_type": "code",
   "execution_count": 7,
   "id": "223c346d",
   "metadata": {
    "ExecuteTime": {
     "end_time": "2021-08-28T05:44:20.809805Z",
     "start_time": "2021-08-28T05:44:20.795906Z"
    }
   },
   "outputs": [],
   "source": [
    "def BinaryTreeList(r):\n",
    "    return[r, [], []]\n",
    "\n",
    "def insertLeft(root, newBranch):\n",
    "    t = root.pop(1)\n",
    "    if len(t) > 1:\n",
    "        root.insert(1, [newBranch, t, []])\n",
    "    else:\n",
    "        root.insert(1, [newBranch, [], []])\n",
    "    return root\n",
    "\n",
    "def insertRight(root, newBranch):\n",
    "    t = root.pop(2)\n",
    "    if len(t) > 1:\n",
    "        root.insert(2, [newBranch, [], t])\n",
    "    else:\n",
    "        root.insert(2, [newBranch, [], []])\n",
    "    return root\n",
    "\n",
    "def getRootVal(root):\n",
    "    return root[0]\n",
    "\n",
    "def setRootVal(root, newVal):\n",
    "    root[0] = newVal\n",
    "    \n",
    "def getLeftChild(root):\n",
    "    return root[1]\n",
    "\n",
    "def getRightChild(root):\n",
    "    return root[2]        "
   ]
  },
  {
   "cell_type": "code",
   "execution_count": 8,
   "id": "55403a83",
   "metadata": {
    "ExecuteTime": {
     "end_time": "2021-08-28T05:44:21.305937Z",
     "start_time": "2021-08-28T05:44:21.298930Z"
    }
   },
   "outputs": [],
   "source": [
    "def main():\n",
    "    r = BinaryTreeList(3)\n",
    "    insertLeft(r, 4)\n",
    "    insertLeft(r, 5)\n",
    "    insertRight(r, 6)\n",
    "    insertRight(r, 7)\n",
    "    print(getRootVal(r))\n",
    "    print(getLeftChild(r))\n",
    "    print(getRightChild(r))"
   ]
  },
  {
   "cell_type": "code",
   "execution_count": 9,
   "id": "dcd5a9b5",
   "metadata": {
    "ExecuteTime": {
     "end_time": "2021-08-28T05:44:21.755581Z",
     "start_time": "2021-08-28T05:44:21.738566Z"
    }
   },
   "outputs": [
    {
     "name": "stdout",
     "output_type": "stream",
     "text": [
      "3\n",
      "[5, [4, [], []], []]\n",
      "[7, [], [6, [], []]]\n"
     ]
    }
   ],
   "source": [
    "main()"
   ]
  },
  {
   "cell_type": "markdown",
   "id": "50d0d159",
   "metadata": {},
   "source": [
    "<img src='https://slid-capture.s3.ap-northeast-2.amazonaws.com/public/image_upload/d4954708fd8f4731a091c75bea2b2ea7/47803824-99e7-4189-acc8-9405872d6d04.png' width='300' />"
   ]
  },
  {
   "cell_type": "markdown",
   "id": "c440ad7a",
   "metadata": {},
   "source": [
    "위의 예제 코드는 노드의 검색, 추가 등의 작업이 매우 비효율적이므로, 다음 코드에서는 이진 트리를 클래스로 표현한다. 이진 트리의 노드는 왼쪽과 오른쪽 자식 노드에 대한 특성을 가진다. 노드의 두 자식 노드를 검사하여, 값이 없을 경우 말단 노드인지 확인할 수 있다. "
   ]
  },
  {
   "cell_type": "markdown",
   "id": "ea0369a7",
   "metadata": {},
   "source": [
    "```\n",
    "다음 그림의 이진 트리를 구현한다. \n",
    "                            1           --->레벨 1\n",
    "                       2          3     --->레벨 2\n",
    "                  4         5           --->레벨 3\n",
    "              6        7                --->레벨 4\n",
    "         8        9                     --->레벨 5\n",
    "         \n",
    "         \n",
    "    속성은 다음과 같다. \n",
    "        - 노드의 개수(크기): n = 9\n",
    "        - 분기(또는 내부 노드) 수: b = n-1 = 8\n",
    "        - 루트 노드: 1\n",
    "        - 최대 깊이 또는 높이: h = 4\n",
    "        - 균형 트리입니까? No\n",
    "        - 이진 탐색 트리입니까? No\n",
    "        \n",
    "```"
   ]
  },
  {
   "cell_type": "code",
   "execution_count": 28,
   "id": "be56a390",
   "metadata": {
    "ExecuteTime": {
     "end_time": "2021-08-28T07:03:51.832081Z",
     "start_time": "2021-08-28T07:03:51.809038Z"
    }
   },
   "outputs": [],
   "source": [
    "class Height(object):\n",
    "    def __init__(self):\n",
    "        self.height = 0 \n",
    "\n",
    "class NodeBT(object):\n",
    "    def __init__(self, value=None, level=1):\n",
    "        self.value = value\n",
    "        self.level = level\n",
    "        self.left = None\n",
    "        self.right = None\n",
    "        \n",
    "    def __repr__(self):\n",
    "        return \"{}\".format(self.value)\n",
    "    \n",
    "    def _add_next_node(self, value, level_here=2):\n",
    "        new_node = NodeBT(value, level_here)\n",
    "        if not self.value:\n",
    "            self.value = new_node\n",
    "        elif not self.left:\n",
    "            self.left = new_node\n",
    "        elif not self.right:\n",
    "            self.right = new_node\n",
    "            \n",
    "        else:\n",
    "            # 노드에 왼쪽 오른쪽 자식이 모드 있다면,\n",
    "            # 왼쪽 자식 노드에 새 노드를 추가한다. \n",
    "            # 그래서 예제의 트리가 왼쪽으로 치우쳐 있다. \n",
    "            self.left = self.left._add_next_node(value, level_here+1)\n",
    "        return self\n",
    "    \n",
    "    def _search_for_node(self, value):\n",
    "        # 전위 순회(pre-order)로 값을 찾는다. \n",
    "        if self.value == value:\n",
    "            return self\n",
    "        \n",
    "        else:\n",
    "            found = None\n",
    "            if self.left:\n",
    "                found = self.left._search_for_node(value)\n",
    "            if self.right:\n",
    "                found = found or self.right._search_for_node(value)\n",
    "            return found\n",
    "        \n",
    "    def _is_leaf(self):\n",
    "        # 왼쪽, 오른쪽 자식이 모드 없는 노드\n",
    "        return not self.right and not self.left\n",
    "    \n",
    "    def _get_max_height(self):\n",
    "        # 노드에서 최대 높이를 얻는다. - O(n)\n",
    "        heightr, heightl = 0, 0\n",
    "        if self.right:\n",
    "            heightr = self.right._get_max_height() + 1\n",
    "        if self.left:\n",
    "            heightl = self.left._get_max_height() + 1\n",
    "            \n",
    "        return max(heightr, heightl)\n",
    "    \n",
    "    def _is_balanced(self, height = Height()):\n",
    "        # 균형 트리인지 확인한다. - O(n)\n",
    "        lh = Height()\n",
    "        rh = Height()\n",
    "        \n",
    "        if self.value is None:\n",
    "            return True\n",
    "        \n",
    "        l, r = True, True\n",
    "        if self.left:\n",
    "            l = self.left._is_balanced(lh)\n",
    "        if self.right:\n",
    "            r = self.right._is_balanced(rh)\n",
    "            \n",
    "        height.height = max(lh.height, rh.height) + 1\n",
    "        \n",
    "        if abs(lh.height - rh.height) <= 1:\n",
    "            return l and r\n",
    "        \n",
    "        return False\n",
    "    \n",
    "    def _is_bst(self, left=None, right=None):\n",
    "        # 이진 탐색 트리인지 확인한다 - O(n)\n",
    "        if self.value:\n",
    "            if left and self.value < left:\n",
    "                return False\n",
    "            if right and self.value > right:\n",
    "                return False\n",
    "            \n",
    "            l, r = True, True\n",
    "            if self.left:\n",
    "                l = self.left._is_bst(left, self.value)\n",
    "            if self.right:\n",
    "                r = self.right._is_bst(self.value, right)\n",
    "            return l and r\n",
    "        else:\n",
    "            return True\n",
    "        \n",
    "class BinaryTree(object):\n",
    "    def __init__(self):\n",
    "        self.root = None\n",
    "        \n",
    "    def add_node(self, value):\n",
    "        if not self.root:\n",
    "            self.root = NodeBT(value)\n",
    "        else:\n",
    "            self.root._add_next_node(value)\n",
    "            \n",
    "    def is_leaf(self, value):\n",
    "        node = self.root._search_for_node(value)\n",
    "        if node:\n",
    "            return node._is_leaf()\n",
    "        \n",
    "        else:\n",
    "            return False\n",
    "        \n",
    "    def get_node_level(self, value):\n",
    "        node = self.root._search_for_node(value)\n",
    "        if node:\n",
    "            return node.level\n",
    "        \n",
    "        else:\n",
    "            return False\n",
    "        \n",
    "    def is_root(self, value):\n",
    "        return self.root.value == value\n",
    "    \n",
    "    def get_height(self):\n",
    "        return self.root._get_max_height()\n",
    "    \n",
    "    def is_balanced(self):\n",
    "        return self.root._is_balanced()\n",
    "    \n",
    "    def is_bst(self):\n",
    "        return self.root._is_bst()"
   ]
  },
  {
   "cell_type": "code",
   "execution_count": 29,
   "id": "a25c4b82",
   "metadata": {
    "ExecuteTime": {
     "end_time": "2021-08-28T07:03:52.041941Z",
     "start_time": "2021-08-28T07:03:52.037938Z"
    }
   },
   "outputs": [],
   "source": [
    "bt = BinaryTree()\n",
    "for i in range(1, 10):\n",
    "    bt.add_node(i)\n"
   ]
  },
  {
   "cell_type": "code",
   "execution_count": 30,
   "id": "5a50e48c",
   "metadata": {
    "ExecuteTime": {
     "end_time": "2021-08-28T07:03:52.525272Z",
     "start_time": "2021-08-28T07:03:52.521269Z"
    }
   },
   "outputs": [
    {
     "name": "stdout",
     "output_type": "stream",
     "text": [
      "노드 8은 말단 노드입니까? True\n",
      "노드 8의 레벨은? 5\n",
      "노드 10은 루트 노드입니까? False\n",
      "노드 1은 루트 노드입니까? True\n",
      "트리의 높이는? 4\n",
      "이진 탐색 트리입니까? False\n",
      "균형 트리입니까? False\n"
     ]
    }
   ],
   "source": [
    "print('노드 8은 말단 노드입니까?', bt.is_leaf(8))\n",
    "print('노드 8의 레벨은?', bt.get_node_level(8))\n",
    "print('노드 10은 루트 노드입니까?', bt.is_root(10))\n",
    "print('노드 1은 루트 노드입니까?', bt.is_root(1))\n",
    "print('트리의 높이는?', bt.get_height())\n",
    "print('이진 탐색 트리입니까?', bt.is_bst())\n",
    "print('균형 트리입니까?', bt.is_balanced())"
   ]
  },
  {
   "cell_type": "markdown",
   "id": "26f2fa8c",
   "metadata": {},
   "source": [
    "<img src='https://slid-capture.s3.ap-northeast-2.amazonaws.com/public/image_upload/d4954708fd8f4731a091c75bea2b2ea7/f71212ea-2878-4bca-b876-7b3b9b435a17.png' width='330' />"
   ]
  },
  {
   "cell_type": "markdown",
   "id": "87ffd95d",
   "metadata": {},
   "source": [
    "# 13.3 이진 탐색 트리"
   ]
  },
  {
   "cell_type": "markdown",
   "id": "b7e56cba",
   "metadata": {},
   "source": [
    "## 13.3.1 이진 탐색 트리 구현하기"
   ]
  },
  {
   "cell_type": "markdown",
   "id": "3739c9d5",
   "metadata": {},
   "source": [
    "# 13.4 자가 균형 이진 탐색 트리"
   ]
  },
  {
   "cell_type": "markdown",
   "id": "bdb46178",
   "metadata": {},
   "source": [
    "## 13.4.1 AVL 트리"
   ]
  },
  {
   "cell_type": "markdown",
   "id": "e9f0d536",
   "metadata": {},
   "source": [
    "## 13.4.2 레드-블렉 트리"
   ]
  },
  {
   "cell_type": "markdown",
   "id": "f409baa2",
   "metadata": {},
   "source": [
    "## 13.4.3 이진 힙"
   ]
  },
  {
   "cell_type": "markdown",
   "id": "09559cf2",
   "metadata": {},
   "source": [
    "**Reference**\n",
    "\n",
    "* <a href='https://github.com/SeWonKwon' ><div> <img src ='https://slid-capture.s3.ap-northeast-2.amazonaws.com/public/image_upload/6556674324ed41a289a354258718280d/964e5a8b-75ad-41fc-ae75-0ca66d06fbc7.png' align='left' /> </div></a>\n",
    "\n",
    "<br>\n",
    "\n",
    "* [파이썬 자료구조와 알고리즘, 미아 스타인](https://github.com/AstinCHOI/Python-and-Algorithms-and-Data-Structures)\n"
   ]
  }
 ],
 "metadata": {
  "kernelspec": {
   "display_name": "Python 3",
   "language": "python",
   "name": "python3"
  },
  "language_info": {
   "codemirror_mode": {
    "name": "ipython",
    "version": 3
   },
   "file_extension": ".py",
   "mimetype": "text/x-python",
   "name": "python",
   "nbconvert_exporter": "python",
   "pygments_lexer": "ipython3",
   "version": "3.8.5"
  },
  "toc": {
   "base_numbering": 1,
   "nav_menu": {},
   "number_sections": true,
   "sideBar": true,
   "skip_h1_title": false,
   "title_cell": "Table of Contents",
   "title_sidebar": "Contents",
   "toc_cell": false,
   "toc_position": {
    "height": "calc(100% - 180px)",
    "left": "10px",
    "top": "150px",
    "width": "258.906px"
   },
   "toc_section_display": true,
   "toc_window_display": false
  }
 },
 "nbformat": 4,
 "nbformat_minor": 5
}
