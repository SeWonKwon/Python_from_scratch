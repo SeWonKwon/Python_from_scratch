{
 "cells": [
  {
   "cell_type": "markdown",
   "id": "6a59f9ee",
   "metadata": {},
   "source": [
    "<a href='https://github.com/SeWonKwon' ><div> <img src ='https://slid-capture.s3.ap-northeast-2.amazonaws.com/public/image_upload/6556674324ed41a289a354258718280d/964e5a8b-75ad-41fc-ae75-0ca66d06fbc7.png' align='left' /> </div></a>\n"
   ]
  },
  {
   "cell_type": "markdown",
   "id": "de314fa9",
   "metadata": {},
   "source": [
    "필요한 이전에 정의한 class 들"
   ]
  },
  {
   "cell_type": "code",
   "execution_count": 9,
   "id": "c8b5c6ff",
   "metadata": {
    "ExecuteTime": {
     "end_time": "2021-08-31T05:44:35.410976Z",
     "start_time": "2021-08-31T05:44:35.399966Z"
    }
   },
   "outputs": [],
   "source": [
    "class Height(object):\n",
    "    def __init__(self):\n",
    "        self.height = 0 \n",
    "\n",
    "class NodeBT(object):\n",
    "    def __init__(self, value=None, level=1):\n",
    "        self.value = value\n",
    "        self.level = level\n",
    "        self.left = None\n",
    "        self.right = None\n",
    "        \n",
    "    def __repr__(self):\n",
    "        return \"{}\".format(self.value)\n",
    "    \n",
    "    def _add_next_node(self, value, level_here=2):\n",
    "        new_node = NodeBT(value, level_here)\n",
    "        if not self.value:\n",
    "            self.value = new_node\n",
    "        elif not self.left:\n",
    "            self.left = new_node\n",
    "        elif not self.right:\n",
    "            self.right = new_node\n",
    "            \n",
    "        else:\n",
    "            # 노드에 왼쪽 오른쪽 자식이 모드 있다면,\n",
    "            # 왼쪽 자식 노드에 새 노드를 추가한다. \n",
    "            # 그래서 예제의 트리가 왼쪽으로 치우쳐 있다. \n",
    "            self.left = self.left._add_next_node(value, level_here+1)\n",
    "        return self\n",
    "    \n",
    "    def _search_for_node(self, value):\n",
    "        # 전위 순회(pre-order)로 값을 찾는다. \n",
    "        if self.value == value:\n",
    "            return self\n",
    "        \n",
    "        else:\n",
    "            found = None\n",
    "            if self.left:\n",
    "                found = self.left._search_for_node(value)\n",
    "            if self.right:\n",
    "                found = found or self.right._search_for_node(value)\n",
    "            return found\n",
    "        \n",
    "    def _is_leaf(self):\n",
    "        # 왼쪽, 오른쪽 자식이 모드 없는 노드\n",
    "        return not self.right and not self.left\n",
    "    \n",
    "    def _get_max_height(self):\n",
    "        # 노드에서 최대 높이를 얻는다. - O(n)\n",
    "        heightr, heightl = 0, 0\n",
    "        if self.right:\n",
    "            heightr = self.right._get_max_height() + 1\n",
    "        if self.left:\n",
    "            heightl = self.left._get_max_height() + 1\n",
    "            \n",
    "        return max(heightr, heightl)\n",
    "    \n",
    "    def _is_balanced(self, height = Height()):\n",
    "        # 균형 트리인지 확인한다. - O(n)\n",
    "        lh = Height()\n",
    "        rh = Height()\n",
    "        \n",
    "        if self.value is None:\n",
    "            return True\n",
    "        \n",
    "        l, r = True, True\n",
    "        if self.left:\n",
    "            l = self.left._is_balanced(lh)\n",
    "        if self.right:\n",
    "            r = self.right._is_balanced(rh)\n",
    "            \n",
    "        height.height = max(lh.height, rh.height) + 1\n",
    "        \n",
    "        if abs(lh.height - rh.height) <= 1:\n",
    "            return l and r\n",
    "        \n",
    "        return False\n",
    "    \n",
    "    def _is_bst(self, left=None, right=None):\n",
    "        # 이진 탐색 트리인지 확인한다 - O(n)\n",
    "        if self.value:\n",
    "            if left and self.value < left:\n",
    "                return False\n",
    "            if right and self.value > right:\n",
    "                return False\n",
    "            \n",
    "            l, r = True, True\n",
    "            if self.left:\n",
    "                l = self.left._is_bst(left, self.value)\n",
    "            if self.right:\n",
    "                r = self.right._is_bst(self.value, right)\n",
    "            return l and r\n",
    "        else:\n",
    "            return True\n",
    "        \n",
    "class BinaryTree(object):\n",
    "    def __init__(self):\n",
    "        self.root = None\n",
    "        \n",
    "    def add_node(self, value):\n",
    "        if not self.root:\n",
    "            self.root = NodeBT(value)\n",
    "        else:\n",
    "            self.root._add_next_node(value)\n",
    "            \n",
    "    def is_leaf(self, value):\n",
    "        node = self.root._search_for_node(value)\n",
    "        if node:\n",
    "            return node._is_leaf()\n",
    "        \n",
    "        else:\n",
    "            return False\n",
    "        \n",
    "    def get_node_level(self, value):\n",
    "        node = self.root._search_for_node(value)\n",
    "        if node:\n",
    "            return node.level\n",
    "        \n",
    "        else:\n",
    "            return False\n",
    "        \n",
    "    def is_root(self, value):\n",
    "        return self.root.value == value\n",
    "    \n",
    "    def get_height(self):\n",
    "        return self.root._get_max_height()\n",
    "    \n",
    "    def is_balanced(self):\n",
    "        return self.root._is_balanced()\n",
    "    \n",
    "    def is_bst(self):\n",
    "        return self.root._is_bst()"
   ]
  },
  {
   "cell_type": "code",
   "execution_count": 10,
   "id": "bf310e66",
   "metadata": {
    "ExecuteTime": {
     "end_time": "2021-08-31T05:44:36.089519Z",
     "start_time": "2021-08-31T05:44:36.070994Z"
    }
   },
   "outputs": [],
   "source": [
    "class NodeBST(NodeBT):\n",
    "    # 위의 NodeBT에서 상속\n",
    "    def __init__(self, value=None, level=1):\n",
    "        self.value = value\n",
    "        self.level = level\n",
    "        self.left = None\n",
    "        self.right = None\n",
    "        \n",
    "    def _add_next_node(self, value, level_here=2):\n",
    "        new_node = NodeBST(value, level_here)\n",
    "        if value > self.value:\n",
    "            self.right = self.right and self.right._add_next_node(value, level_here + 1) or new_node\n",
    "        elif value < self.value:\n",
    "            self.left = self.left and self.left._add_next_node(value, level_here + 1) or new_node\n",
    "        else:\n",
    "            print('중복 노드를 허용하지 않습니다.')\n",
    "        return self\n",
    "    \n",
    "    def _search_for_node(self, value):\n",
    "        if self.value == value:\n",
    "            return self\n",
    "        elif self.left and value < self.value:\n",
    "            return self.left._search_for_node(value)\n",
    "        elif self.right and value > self.value:\n",
    "            return self.right._search_for_node(value)\n",
    "        else:\n",
    "            return False\n",
    "        \n",
    "\n",
    "class BinarySearchTree(BinaryTree):\n",
    "    # 위의 BinaryTree에서 상속\n",
    "    def __init__(self):\n",
    "        self.root = None\n",
    "        \n",
    "    def add_node(self, value):\n",
    "        if not self.root:\n",
    "            self.root = NodeBST(value)\n",
    "        else:\n",
    "            self.root._add_next_node(value)"
   ]
  },
  {
   "cell_type": "markdown",
   "id": "ce102235",
   "metadata": {},
   "source": [
    "###### Ch 14 이진 트리"
   ]
  },
  {
   "cell_type": "markdown",
   "id": "5d13ae02",
   "metadata": {},
   "source": [
    "**순회**<sub>traversal</sub>는 트리 또는 그래프 같은 연결된 구조에서 객체(노드)를 방문하는 데 사용되는 알고리즘이다. 순회 문제는 모든 노드를 방문하는 방법을 찾거나 혹은 특정 노드만 방문하는 방법을 찾는 것일 수도 있다. "
   ]
  },
  {
   "cell_type": "markdown",
   "id": "58977472",
   "metadata": {},
   "source": [
    "# 14.1 깊이 우선 탐색 "
   ]
  },
  {
   "cell_type": "markdown",
   "id": "bbf841ba",
   "metadata": {},
   "source": [
    "**깊이 우선 탐색**<sub>depth-first search</sub> (DFS)은 말 그대로 그래프 또는 트리에서 깊이를 우선하여 탐색하는 알고리즘이다.  그래프의 경우는 방문한 노드를 표시해야 하는데, 그렇게 하지 않으면 무한 반복에 빠질 수 있기 때문이다. 시간 복잡도는 $$O(도달할 수 있는 노드수 + 도달한 노드에서 나가는 간선 수) = O(V + E)$$이다.\n",
    "깊이 우선 탐색은 후입선출(LIFO) 구조의 스택을 사용하여 구현된다. "
   ]
  },
  {
   "cell_type": "markdown",
   "id": "68c6d8c1",
   "metadata": {},
   "source": [
    "깊이 우선 탐색의 세 가지 경우를 살펴보자. \n",
    "1. 전위 순회\n",
    "2. 후위 순회\n",
    "3. 중위 순회"
   ]
  },
  {
   "cell_type": "markdown",
   "id": "231abbd9",
   "metadata": {},
   "source": [
    "## 14.1.1 전위 순회"
   ]
  },
  {
   "cell_type": "markdown",
   "id": "c08771a0",
   "metadata": {},
   "source": [
    "**전위 순회**<sub>pre-order traversal</sub>는 루트 노드 → 왼쪽 노드 → 오른쪽 노드 순으로 방문한다. "
   ]
  },
  {
   "cell_type": "markdown",
   "id": "959dfdc8",
   "metadata": {},
   "source": [
    "<img src='https://slid-capture.s3.ap-northeast-2.amazonaws.com/public/image_upload/d4954708fd8f4731a091c75bea2b2ea7/05c8fa97-397f-4b02-b7c4-0f2004f6883d.png' width='300' />"
   ]
  },
  {
   "cell_type": "code",
   "execution_count": 3,
   "id": "60663c84",
   "metadata": {
    "ExecuteTime": {
     "end_time": "2021-08-31T05:34:27.412098Z",
     "start_time": "2021-08-31T05:34:27.406532Z"
    }
   },
   "outputs": [],
   "source": [
    "# class BinBinarySearchTree(BianryTree): 에 추가해준다. \n",
    "\n",
    "def preorder(root):\n",
    "    if root != 0:\n",
    "        yield root.value\n",
    "        preorder(root.left)\n",
    "        preorder(root.right)"
   ]
  },
  {
   "cell_type": "markdown",
   "id": "5a618f06",
   "metadata": {},
   "source": [
    "## 14.1.2 후위 순회"
   ]
  },
  {
   "cell_type": "markdown",
   "id": "cc51d597",
   "metadata": {},
   "source": [
    "**후위 순회**<sub>post-order traversal</sub> 는 왼쪽 노드 → 오른쪽 노드 → 루트 노드 순으로 방문한다. "
   ]
  },
  {
   "cell_type": "markdown",
   "id": "7192f208",
   "metadata": {},
   "source": [
    "<img src='https://slid-capture.s3.ap-northeast-2.amazonaws.com/public/image_upload/d4954708fd8f4731a091c75bea2b2ea7/88650ba1-e061-49bb-9546-663fbfc752ea.png' width='300' />"
   ]
  },
  {
   "cell_type": "code",
   "execution_count": 3,
   "id": "a48eea55",
   "metadata": {
    "ExecuteTime": {
     "end_time": "2021-08-31T05:35:33.268593Z",
     "start_time": "2021-08-31T05:35:33.261586Z"
    }
   },
   "outputs": [],
   "source": [
    "# class BinBinarySearchTree(BianryTree): 에 추가해준다. \n",
    "\n",
    "def postorder(root):\n",
    "    if root != 0:\n",
    "        postorder(root.left)\n",
    "        postorder(root.right)\n",
    "        yield root.value"
   ]
  },
  {
   "cell_type": "markdown",
   "id": "a7a956f4",
   "metadata": {},
   "source": [
    "## 14.1.3 중위 순회"
   ]
  },
  {
   "cell_type": "markdown",
   "id": "435df604",
   "metadata": {},
   "source": [
    "**중위 순회**<sub>in-order traversal</sub>는 왼쪽 노드 → 루트 노드 → 오른쪽 노드 순으로 방문한다. "
   ]
  },
  {
   "cell_type": "markdown",
   "id": "fbb03195",
   "metadata": {},
   "source": [
    "<img src='https://slid-capture.s3.ap-northeast-2.amazonaws.com/public/image_upload/d4954708fd8f4731a091c75bea2b2ea7/52008641-f2c5-4ca8-8890-436dc2b60f07.png' width='300' />"
   ]
  },
  {
   "cell_type": "code",
   "execution_count": 4,
   "id": "fffdb6b4",
   "metadata": {
    "ExecuteTime": {
     "end_time": "2021-08-31T05:35:33.268593Z",
     "start_time": "2021-08-31T05:35:33.261586Z"
    }
   },
   "outputs": [],
   "source": [
    "# class BinBinarySearchTree(BianryTree): 에 추가해준다. \n",
    "\n",
    "def inorder(root):\n",
    "    if root != 0:\n",
    "        inorder(root.left)\n",
    "        yield root.value        \n",
    "        inorder(root.right)"
   ]
  },
  {
   "cell_type": "markdown",
   "id": "0ba23370",
   "metadata": {},
   "source": [
    "# 너비 우선 탐색 "
   ]
  },
  {
   "cell_type": "markdown",
   "id": "3aa18d39",
   "metadata": {},
   "source": [
    "**너비 우선 탐색**<sub>breath-first search</sub>(BFS)은 트리 또는 그래프에서 너비를 우선하여 탐색하는 알고리즘이다. 더 깊은 노드를 순회하기 전에 특정 깊이의 노드를 모두 먼저 순회한다.   \n",
    "\n",
    "너비 우선 탐색을 사용하는 문제는 일반적으로 시작 노드에서 특정 노드에 도달하는 데 필요한 최단 경로를 찾는 문제다. 너비 우선 탐색의 구현은 방문한 노드를 저장하는 데에 리스트를 사용하고, 아직 방문하지 않은 노드는 선입 선출(FIFO) 구조의 큐에 저장한다. \n",
    " <br>시간복잡도는 $O(V+E)$다."
   ]
  },
  {
   "cell_type": "markdown",
   "id": "6b295424",
   "metadata": {},
   "source": [
    "<img src='https://slid-capture.s3.ap-northeast-2.amazonaws.com/public/image_upload/d4954708fd8f4731a091c75bea2b2ea7/6b1141d7-7d63-4ad4-8d05-455f1dcfcf1d.png' width='300' />"
   ]
  },
  {
   "cell_type": "markdown",
   "id": "c8bfcb21",
   "metadata": {},
   "source": [
    "# 트리 순회 구현하기"
   ]
  },
  {
   "cell_type": "markdown",
   "id": "afa169b7",
   "metadata": {},
   "source": [
    "반복문으로 구현"
   ]
  },
  {
   "cell_type": "code",
   "execution_count": 17,
   "id": "58277edb",
   "metadata": {
    "ExecuteTime": {
     "end_time": "2021-08-31T07:42:09.542012Z",
     "start_time": "2021-08-31T07:42:09.531000Z"
    }
   },
   "outputs": [],
   "source": [
    "from collections import deque\n",
    "\n",
    "class BSTwithTransversalIterative(BinarySearchTree):\n",
    "    def inorder(self):\n",
    "        current = self.root\n",
    "        nodes, stack = [], []\n",
    "        while stack or current:\n",
    "            if current:\n",
    "                stack.append(current)\n",
    "                current = current.left\n",
    "            else:\n",
    "                current = stack.pop()\n",
    "                nodes.append(current.value)\n",
    "                current = current.right\n",
    "        return nodes\n",
    "    \n",
    "    def preorder(self):\n",
    "        current = self.root\n",
    "        nodes, stack = [], []\n",
    "        while stack or current:\n",
    "            if current:\n",
    "                nodes.append(current.value)\n",
    "                stack.append(current)\n",
    "                current = current.left\n",
    "            else:\n",
    "                current = stack.pop()\n",
    "                current = current.right\n",
    "        return nodes\n",
    "    \n",
    "    def preorder2(self):\n",
    "        nodes = []\n",
    "        stack = [self.root]\n",
    "        while stack:\n",
    "            current = stack.pop()\n",
    "            if current:\n",
    "                nodes.append(current.value)\n",
    "                stack.append(current.right)\n",
    "                stack.append(current.left)\n",
    "        return nodes\n",
    "    \n",
    "    def BFT(self):\n",
    "        current = self.root\n",
    "        nodes = []\n",
    "        queue = deque()\n",
    "        queue.append(current)\n",
    "        while queue:\n",
    "            current = queue.popleft()\n",
    "            nodes.append(current.value)\n",
    "            if current.left:\n",
    "                queue.append(current.left)\n",
    "            if current.right:\n",
    "                queue.append(current.right)\n",
    "        return nodes\n",
    "        \n",
    "    \n",
    "                "
   ]
  },
  {
   "cell_type": "code",
   "execution_count": 18,
   "id": "8e74460f",
   "metadata": {
    "ExecuteTime": {
     "end_time": "2021-08-31T07:42:09.752204Z",
     "start_time": "2021-08-31T07:42:09.739191Z"
    }
   },
   "outputs": [],
   "source": [
    "bst = BSTwithTransversalIterative()\n",
    "l = [10, 5, 6, 3, 8, 2, 1, 11, 9, 4]\n",
    "for i in l:\n",
    "    bst.add_node(i)"
   ]
  },
  {
   "cell_type": "code",
   "execution_count": 19,
   "id": "c8d141b9",
   "metadata": {
    "ExecuteTime": {
     "end_time": "2021-08-31T07:42:10.067491Z",
     "start_time": "2021-08-31T07:42:10.055481Z"
    },
    "scrolled": true
   },
   "outputs": [
    {
     "name": "stdout",
     "output_type": "stream",
     "text": [
      "노드 8은 말단 노드입니까? False\n",
      "노드 8의 레벨은? 4\n",
      "노드 10은 루트 노드입니까?  True\n",
      "노드 1은 루트 노드입니까?  False\n",
      "트리의 높이는?  4\n",
      "이진 탐색 트리입니까?  True\n",
      "균형 트리입니까?  False\n",
      "전위 순회:  [10, 5, 3, 2, 1, 4, 6, 8, 9, 11]\n",
      "전위 순회2:  [10, 5, 3, 2, 1, 4, 6, 8, 9, 11]\n",
      "중위 순회:  [1, 2, 3, 4, 5, 6, 8, 9, 10, 11]\n",
      "너비 우선 탐색:  [10, 5, 11, 3, 6, 2, 4, 8, 1, 9]\n"
     ]
    }
   ],
   "source": [
    "print('노드 8은 말단 노드입니까?', bst.is_leaf(8))\n",
    "print('노드 8의 레벨은?', bst.get_node_level(8))\n",
    "print(\"노드 10은 루트 노드입니까? \", bst.is_root(10))\n",
    "print(\"노드 1은 루트 노드입니까? \", bst.is_root(1))\n",
    "print(\"트리의 높이는? \", bst.get_height())\n",
    "print(\"이진 탐색 트리입니까? \", bst.is_bst())\n",
    "print(\"균형 트리입니까? \", bst.is_balanced())\n",
    "\n",
    "print(\"전위 순회: \", bst.preorder())\n",
    "print(\"전위 순회2: \", bst.preorder2())\n",
    "print(\"중위 순회: \", bst.inorder())\n",
    "print(\"너비 우선 탐색: \", bst.BFT())"
   ]
  },
  {
   "cell_type": "markdown",
   "id": "446500d0",
   "metadata": {},
   "source": [
    "<img src='https://slid-capture.s3.ap-northeast-2.amazonaws.com/public/image_upload/d4954708fd8f4731a091c75bea2b2ea7/94bddcca-518c-4a12-8716-323915ee4420.png' width='400' />"
   ]
  },
  {
   "cell_type": "markdown",
   "id": "e6aa90aa",
   "metadata": {},
   "source": [
    "재귀 함수로 구현"
   ]
  },
  {
   "cell_type": "code",
   "execution_count": 20,
   "id": "f0fd55c6",
   "metadata": {
    "ExecuteTime": {
     "end_time": "2021-08-31T07:43:39.829045Z",
     "start_time": "2021-08-31T07:43:39.814011Z"
    }
   },
   "outputs": [],
   "source": [
    "class BSTwithTransversalRecursively(BinarySearchTree):\n",
    "\n",
    "    def __init__(self):\n",
    "        self.root = None\n",
    "        self.nodes_BFS = []\n",
    "        self.nodes_pre = []\n",
    "        self.nodes_post = []\n",
    "        self.nodes_in = []\n",
    "\n",
    "    def BFT(self):\n",
    "        self.root.level = 1\n",
    "        queue = [self.root]\n",
    "        current_level = self.root.level\n",
    "\n",
    "        while len(queue) > 0:\n",
    "            current_node = queue.pop(0)\n",
    "            if current_node.level > current_level:\n",
    "                current_level += 1\n",
    "            self.nodes_BFS.append(current_node.value)\n",
    "\n",
    "            if current_node.left:\n",
    "                current_node.left.level = current_level + 1\n",
    "                queue.append(current_node.left)\n",
    "\n",
    "            if current_node.right:\n",
    "                current_node.right.level = current_level + 1\n",
    "                queue.append(current_node.right)\n",
    "\n",
    "        return self.nodes_BFS\n",
    "\n",
    "    def inorder(self, node=None, level=1):\n",
    "        if not node and level == 1:\n",
    "            node = self.root\n",
    "        if node:\n",
    "            self.inorder(node.left,  level+1)\n",
    "            self.nodes_in.append(node.value)\n",
    "            self.inorder(node.right, level+1)\n",
    "        return self.nodes_in\n",
    "\n",
    "    def preorder(self, node=None, level=1):\n",
    "        if not node and level == 1:\n",
    "            node = self.root\n",
    "        if node:\n",
    "            self.nodes_pre.append(node.value)\n",
    "            self.preorder(node.left, level+1)\n",
    "            self.preorder(node.right, level+1)\n",
    "        return self.nodes_pre\n",
    "\n",
    "    def postorder(self, node=None, level=1):\n",
    "        if not node and level == 1:\n",
    "            node = self.root\n",
    "        if node:\n",
    "            self.postorder(node.left, level+1)\n",
    "            self.postorder(node.right, level+1)\n",
    "            self.nodes_post.append(node.value)\n",
    "        return self.nodes_post"
   ]
  },
  {
   "cell_type": "code",
   "execution_count": 21,
   "id": "007e7452",
   "metadata": {
    "ExecuteTime": {
     "end_time": "2021-08-31T07:43:43.619565Z",
     "start_time": "2021-08-31T07:43:43.610556Z"
    }
   },
   "outputs": [
    {
     "name": "stdout",
     "output_type": "stream",
     "text": [
      "노드 8은 말단 노드입니까?  False\n",
      "노드 8의 레벨은?  4\n",
      "노드 10은 루트 노드입니까?  True\n",
      "노드 1은 루트 노드입니까?  False\n",
      "트리의 높이는?  4\n",
      "이진 탐색 트리입니까?  True\n",
      "균형 트리입니까?  False\n",
      "전위 순회:  [10, 5, 3, 2, 1, 4, 6, 8, 9, 11]\n",
      "후위 순회:  [1, 2, 4, 3, 9, 8, 6, 5, 11, 10]\n",
      "중위 순회:  [1, 2, 3, 4, 5, 6, 8, 9, 10, 11]\n",
      "너비 우선 탐색:  [10, 5, 11, 3, 6, 2, 4, 8, 1, 9]\n"
     ]
    }
   ],
   "source": [
    "\n",
    "    bst = BSTwithTransversalRecursively()\n",
    "    l = [10, 5, 6, 3, 8, 2, 1, 11, 9, 4]\n",
    "    for i in l:\n",
    "        bst.add_node(i)\n",
    "\n",
    "    print(\"노드 8은 말단 노드입니까? \", bst.is_leaf(8))\n",
    "    print(\"노드 8의 레벨은? \", bst.get_node_level(8))\n",
    "    print(\"노드 10은 루트 노드입니까? \", bst.is_root(10))\n",
    "    print(\"노드 1은 루트 노드입니까? \", bst.is_root(1))\n",
    "    print(\"트리의 높이는? \", bst.get_height())\n",
    "    print(\"이진 탐색 트리입니까? \", bst.is_bst())\n",
    "    print(\"균형 트리입니까? \", bst.is_balanced())\n",
    "\n",
    "    print(\"전위 순회: \", bst.preorder())\n",
    "    print(\"후위 순회: \", bst.postorder())\n",
    "    print(\"중위 순회: \", bst.inorder())\n",
    "    print(\"너비 우선 탐색: \", bst.BFT())"
   ]
  },
  {
   "cell_type": "markdown",
   "id": "46c90d15",
   "metadata": {},
   "source": [
    "# 연습문제"
   ]
  },
  {
   "cell_type": "markdown",
   "id": "82697620",
   "metadata": {},
   "source": [
    "두 노드의 최소 공통 조상<sub>lowest common ancestor</sub>을 찾아 보자 "
   ]
  },
  {
   "cell_type": "markdown",
   "id": "e7127b6b",
   "metadata": {
    "cell_style": "split"
   },
   "source": [
    "<img src='https://slid-capture.s3.ap-northeast-2.amazonaws.com/public/image_upload/d4954708fd8f4731a091c75bea2b2ea7/de1271a8-9d79-4f3e-94a8-fafe9daef245.png' width='400' />"
   ]
  },
  {
   "cell_type": "markdown",
   "id": "86d00260",
   "metadata": {},
   "source": [
    "4, 9의 최소 공통 조상은 5이고, 6, 8의 최소 공통 조상은 6이다. "
   ]
  },
  {
   "cell_type": "code",
   "execution_count": 23,
   "id": "1101618d",
   "metadata": {
    "ExecuteTime": {
     "end_time": "2021-08-31T07:48:02.725985Z",
     "start_time": "2021-08-31T07:48:02.717978Z"
    }
   },
   "outputs": [],
   "source": [
    "def find_ancestor(path, low_value, high_value):\n",
    "    # 두 인수는 트리에 존재하는 노드여야 하며 두 번째 인수가 더 커야 한다.\n",
    "    while path:\n",
    "        current_value = path[0]\n",
    "        if current_value < low_value:\n",
    "            try:\n",
    "                path = path[2:]\n",
    "            except:\n",
    "                return current_value\n",
    "        elif current_value > high_value:\n",
    "            try:\n",
    "                path = path[1:]\n",
    "            except:\n",
    "                return current_value\n",
    "        elif low_value <= current_value <= high_value:\n",
    "            return current_value"
   ]
  },
  {
   "cell_type": "code",
   "execution_count": 27,
   "id": "b83e8c5c",
   "metadata": {
    "ExecuteTime": {
     "end_time": "2021-08-31T07:49:20.086211Z",
     "start_time": "2021-08-31T07:49:20.074199Z"
    }
   },
   "outputs": [
    {
     "name": "stdout",
     "output_type": "stream",
     "text": [
      "전위 순회:  [10, 5, 3, 2, 1, 4, 6, 8, 9, 11]\n",
      "1과 6의 공통 상위 조상 : 5\n",
      "1과 11의 공통 상위 조상:  10\n",
      "1과 4의 공통 상위 조상:  3\n",
      "8와 9의 공통 상위 조상:  8\n",
      "##########################\n",
      "1과 6의 최소 공통 조상 : 5\n",
      "1과 11의 최소 공통 조상:  10\n",
      "1과 4의 최소 공통 조상:  3\n",
      "8와 9의 최소 공통 조상:  8\n"
     ]
    }
   ],
   "source": [
    "    bst = BSTwithTransversalRecursively()\n",
    "    l = [10, 5, 6, 3, 8, 2, 1, 11, 9, 4]\n",
    "    for i in l:\n",
    "        bst.add_node(i)\n",
    "    path = bst.preorder()\n",
    "    print(\"전위 순회: \", path)\n",
    "\n",
    "\n",
    "    # 입력된 두 노드(인자)는 트리에 존재하며 오름차순으로 입력한다.\n",
    "    print(\"1과 6의 공통 상위 조상 :\", find_ancestor(path, 1, 6))\n",
    "    print(\"1과 11의 공통 상위 조상: \", find_ancestor(path, 1, 11))\n",
    "    print(\"1과 4의 공통 상위 조상: \", find_ancestor(path, 1, 4))\n",
    "    print(\"8와 9의 공통 상위 조상: \", find_ancestor(path, 8, 9))\n",
    "    print('##########################')\n",
    "    print(\"1과 6의 최소 공통 조상 :\", find_ancestor(path, 1, 6))\n",
    "    print(\"1과 11의 최소 공통 조상: \", find_ancestor(path, 1, 11))\n",
    "    print(\"1과 4의 최소 공통 조상: \", find_ancestor(path, 1, 4))\n",
    "    print(\"8와 9의 최소 공통 조상: \", find_ancestor(path, 8, 9))"
   ]
  },
  {
   "cell_type": "markdown",
   "id": "924f02e6",
   "metadata": {},
   "source": [
    "이 책을 끝내며"
   ]
  },
  {
   "cell_type": "markdown",
   "id": "15a45de7",
   "metadata": {},
   "source": [
    "긱포긱 : www.geeksforgeeks.org"
   ]
  },
  {
   "cell_type": "markdown",
   "id": "a86f30a7",
   "metadata": {},
   "source": [
    "**Reference**\n",
    "\n",
    "* <a href='https://github.com/SeWonKwon' ><div> <img src ='https://slid-capture.s3.ap-northeast-2.amazonaws.com/public/image_upload/6556674324ed41a289a354258718280d/964e5a8b-75ad-41fc-ae75-0ca66d06fbc7.png' align='left' /> </div></a>\n",
    "\n",
    "<br>\n",
    "\n",
    "* [파이썬 자료구조와 알고리즘, 미아 스타인](https://github.com/AstinCHOI/Python-and-Algorithms-and-Data-Structures)\n"
   ]
  }
 ],
 "metadata": {
  "kernelspec": {
   "display_name": "Python 3",
   "language": "python",
   "name": "python3"
  },
  "language_info": {
   "codemirror_mode": {
    "name": "ipython",
    "version": 3
   },
   "file_extension": ".py",
   "mimetype": "text/x-python",
   "name": "python",
   "nbconvert_exporter": "python",
   "pygments_lexer": "ipython3",
   "version": "3.8.5"
  },
  "toc": {
   "base_numbering": 1,
   "nav_menu": {},
   "number_sections": true,
   "sideBar": true,
   "skip_h1_title": false,
   "title_cell": "Table of Contents",
   "title_sidebar": "Contents",
   "toc_cell": false,
   "toc_position": {
    "height": "calc(100% - 180px)",
    "left": "10px",
    "top": "150px",
    "width": "258.906px"
   },
   "toc_section_display": true,
   "toc_window_display": false
  }
 },
 "nbformat": 4,
 "nbformat_minor": 5
}
