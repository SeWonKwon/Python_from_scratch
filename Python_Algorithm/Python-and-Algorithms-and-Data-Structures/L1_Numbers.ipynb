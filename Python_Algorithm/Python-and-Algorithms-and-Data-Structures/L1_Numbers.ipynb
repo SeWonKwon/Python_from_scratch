{
 "cells": [
  {
   "cell_type": "markdown",
   "id": "a9f33bcc",
   "metadata": {},
   "source": [
    "<a href='https://github.com/SeWonKwon' ><div> <img src ='https://slid-capture.s3.ap-northeast-2.amazonaws.com/public/image_upload/6556674324ed41a289a354258718280d/964e5a8b-75ad-41fc-ae75-0ca66d06fbc7.png' align='left' /> </div></a>\n"
   ]
  },
  {
   "cell_type": "markdown",
   "id": "6c17cc70",
   "metadata": {},
   "source": [
    "###### Ch 1 숫자"
   ]
  },
  {
   "cell_type": "markdown",
   "id": "b5f4a809",
   "metadata": {},
   "source": [
    "새로운 프로그래밍 언어를 배울 때, 으레 가장 먼저 하는 일은 `Hello World!`를\n",
    "출력하는 것이다. 그다음에는 숫자와 산술 연산을 사용하여 뭔가를 계산한다. 숫자는 정수<sub>integer</sub>, 부동소수점<sub>float</sub>, 복소수<sub>complex</sub>로 나타낼 수 있다. 인간에게는 10개의 손가락으로 숫자를 십진법<sub>decimal</sub>으로 표현하는 법이 자연스럽다. 컴퓨터는 전자 상태의 신호(참/거짓)를 주고받는 이진법<sub>binary</sub> 표현이 더 적합하다. 따라서 컴퓨터는 정보를 비트로 표현한다. 또한 8진법과 16진법 등 2의 배수 표현도 사용한다.\n"
   ]
  },
  {
   "cell_type": "markdown",
   "id": "62730cb4",
   "metadata": {},
   "source": [
    "# 1.1 정수"
   ]
  },
  {
   "cell_type": "markdown",
   "id": "d3d59865",
   "metadata": {},
   "source": [
    "파이썬에서 정수는 int로 나타내며 **불변**<sub>immutable</sub>형이다. 불변형 객체는 변수와 객체 참조 간에 차이가 없다. 파이썬 정수 크기는 컴퓨터 메모리에 의해 제한된다(C 또는 자바 내장 컴파일러에 따라 다르다). 파이썬 정수 크기는 적어도 32비트(4바이트)다. 정수를 나타내는 데 필요한 바이트 수를 확인하려면 파이썬 3.1 이상에서 `(정수).bit_length()` 메서드를 사용할 수 있다.\n"
   ]
  },
  {
   "cell_type": "code",
   "execution_count": 1,
   "id": "a5e2ad6c",
   "metadata": {
    "ExecuteTime": {
     "end_time": "2021-09-07T09:49:18.953718Z",
     "start_time": "2021-09-07T09:49:18.946712Z"
    }
   },
   "outputs": [
    {
     "data": {
      "text/plain": [
       "10"
      ]
     },
     "execution_count": 1,
     "metadata": {},
     "output_type": "execute_result"
    }
   ],
   "source": [
    "(999).bit_length()"
   ]
  },
  {
   "cell_type": "markdown",
   "id": "e5f76a9b",
   "metadata": {},
   "source": [
    "어떤 문자열을 정수로 변환<sub>casting</sub>하거나, 다른 진법의 문자열을 정수(10진법)로 변환하려면 **int(문자열, 밑)** 메서드를 사용한다.\n"
   ]
  },
  {
   "cell_type": "code",
   "execution_count": 2,
   "id": "9a443c53",
   "metadata": {
    "ExecuteTime": {
     "end_time": "2021-09-07T09:49:18.968733Z",
     "start_time": "2021-09-07T09:49:18.954719Z"
    }
   },
   "outputs": [
    {
     "name": "stdout",
     "output_type": "stream",
     "text": [
      "11\n"
     ]
    }
   ],
   "source": [
    "s = '11'\n",
    "d = int(s)\n",
    "print(d)"
   ]
  },
  {
   "cell_type": "code",
   "execution_count": 3,
   "id": "4a795825",
   "metadata": {
    "ExecuteTime": {
     "end_time": "2021-09-07T09:49:18.983747Z",
     "start_time": "2021-09-07T09:49:18.970735Z"
    }
   },
   "outputs": [
    {
     "name": "stdout",
     "output_type": "stream",
     "text": [
      "3\n"
     ]
    }
   ],
   "source": [
    "b = int(s, 2)\n",
    "print(b)"
   ]
  },
  {
   "cell_type": "code",
   "execution_count": 4,
   "id": "c1b77c18",
   "metadata": {
    "ExecuteTime": {
     "end_time": "2021-09-07T09:49:18.998760Z",
     "start_time": "2021-09-07T09:49:18.983747Z"
    }
   },
   "outputs": [
    {
     "name": "stdout",
     "output_type": "stream",
     "text": [
      "invalid literal for int() with base 2: '12'\n"
     ]
    }
   ],
   "source": [
    "s='12'\n",
    "try:\n",
    "    b = int(s, 2)\n",
    "    print(b)\n",
    "except ValueError as e:\n",
    "    print(e)"
   ]
  },
  {
   "cell_type": "markdown",
   "id": "8d22f5ca",
   "metadata": {
    "cell_style": "split"
   },
   "source": [
    "# 1.2 부동소수점"
   ]
  },
  {
   "cell_type": "markdown",
   "id": "eb03c953",
   "metadata": {},
   "source": [
    "부동 소수점이란?   \n",
    "\n",
    "부동소수점(浮動小數點, floating point) 또는 떠돌이 소수점 방식은 실수를 컴퓨터상에서 근사하여 표현할 때 소수점의 위치를 고정하지 않고 그 위치를 나타내는 수를 따로 적는 것으로, 유효숫자를 나타내는 가수(假數)와 소수점의 위치를 풀이하는 지수(指數)로 나누어 표현한다.\n",
    "\n",
    "컴퓨터에서는 고정 소수점 방식보다 넓은 범위의 수를 나타낼 수 있어 과학기술 계산에 많이 이용되지만, 근삿값으로 표현되며 고정 소수점 방식보다 연산 속도가 느리기 때문에 별도의 전용 연산 장치를 두는 경우가 많다. 고정 소수점과 달리 정수 부분과 소수 부분의 자릿수가 일정하지 않으나, 유효 숫자의 자릿수는 정해져 있다.\n",
    "\n",
    "출처 : https://ko.wikipedia.org/wiki/%EB%B6%80%EB%8F%99%EC%86%8C%EC%88%98%EC%A0%90"
   ]
  },
  {
   "cell_type": "markdown",
   "id": "f8453da2",
   "metadata": {},
   "source": [
    "IEEE 754는 전기 전자 기술자 협회(IEEE)에서 개발한, 컴퓨터에서 부동소수점\n",
    "을 표현하는 가장 널리 쓰이는 표준이다.1 파이썬에서 부동소수점은 float로 나\n",
    "타내며 불변형이다. 단정도<sub>single precision</sub> 방식에서 32비트 부동소수점을 나타낼 때 1비트는 **부호**<sub>sign</sub> (0: 양수, 1: 음수), 23비트는 **유효 숫자 자릿수**<sub>significant digits</sub>(혹은 가수<sub>mantissa</sub>), 8비트는 **지수**<sub>exponent</sub>다.\n"
   ]
  },
  {
   "cell_type": "markdown",
   "id": "e5d0c40f",
   "metadata": {},
   "source": [
    "<img src='https://slid-capture.s3.ap-northeast-2.amazonaws.com/public/image_upload/4246215c341f4accb4606e3f6618ef06/5bea0dff-6c5e-49a2-862b-5b1a136466e1.png' width='800' />"
   ]
  },
  {
   "cell_type": "markdown",
   "id": "95baf0f0",
   "metadata": {},
   "source": [
    "<img src='https://slid-capture.s3.ap-northeast-2.amazonaws.com/public/image_upload/4246215c341f4accb4606e3f6618ef06/6d16a17b-4079-4df7-8c14-a48a141956b1.png' width='800' />"
   ]
  },
  {
   "cell_type": "markdown",
   "id": "3b0d15a7",
   "metadata": {},
   "source": [
    "예를 들어 십진수 $-118.625_{(10)}$를 32비트 단정도로 표현해 보자. 먼저 숫자의 절댓값을 이진수로 변환한다. 부호는 음수이므로 1이다. "
   ]
  },
  {
   "cell_type": "markdown",
   "id": "4399d3f1",
   "metadata": {},
   "source": [
    "<img src='https://slid-capture.s3.ap-northeast-2.amazonaws.com/public/image_upload/4246215c341f4accb4606e3f6618ef06/8f4e4e47-27ce-4d7c-9b94-4cb684bf2305.png' width='300' />"
   ]
  },
  {
   "cell_type": "markdown",
   "id": "11d19de8",
   "metadata": {},
   "source": [
    "즉, $1110110.101_{(2)}$이다."
   ]
  },
  {
   "cell_type": "markdown",
   "id": "c173eb29",
   "metadata": {},
   "source": [
    "그 다음 변환된 이진수를 다음과 같이 정규화한다.(소수점을 왼쪽으로 이동시켜 왼쪽 부분에 1만 남게 한다. )\n",
    "\n",
    "$$ 1110110.101_{(2)} = 1.110110101_{(2)} \\times 2^6$$"
   ]
  },
  {
   "cell_type": "markdown",
   "id": "62c106ed",
   "metadata": {},
   "source": [
    "위의 숫자를 가수부(23비트)에 넣는다. 부족한 자릿수는 0으로 채운다. \n",
    "$$11011010100000000000000$$"
   ]
  },
  {
   "cell_type": "markdown",
   "id": "cc6b84ee",
   "metadata": {},
   "source": [
    "지수는 6이므로 바이어스<sub>bias</sub>를 더한다. 즉, 지수 6에 $127(0111$ $    1111_{(2)})$을 더한다. \n",
    "\n",
    "$$ 6_{(10)} + 127_{(10)} = 133_{(10)} = 10000101_{(2)}$$\n",
    "\n",
    "이상의 결과를 종합하여 $-118.625_{(10)}$를 32비트 단정도로 표현한 결과는 다음과 같다. "
   ]
  },
  {
   "cell_type": "markdown",
   "id": "569b2662",
   "metadata": {
    "cell_style": "center"
   },
   "source": [
    "<img src='https://slid-capture.s3.ap-northeast-2.amazonaws.com/public/image_upload/4246215c341f4accb4606e3f6618ef06/8c1e319c-3508-44d7-8847-006949958dfd.png' width='800' />"
   ]
  },
  {
   "cell_type": "markdown",
   "id": "9cb15f14",
   "metadata": {},
   "source": [
    "배정도<sub>double precision</sub> 방식에서는 64비트 부동 소수점을 나타낼 때 1비트는 부호, 52비트는 가수, 11비트는 지수로 나타낸다(단정도 방식일 때 $127$ $(2^7 -1)$을 더하고, 배정도 방식일 때 $1023$ $(2^{10} - 1)$을 더한다. "
   ]
  },
  {
   "cell_type": "markdown",
   "id": "b489230d",
   "metadata": {},
   "source": [
    "## 1.2.1 부동소수점끼리 비교하기"
   ]
  },
  {
   "cell_type": "markdown",
   "id": "0115b9a3",
   "metadata": {},
   "source": [
    "부동소수점은 이진수 분수<sub>binary fraction</sub>로 표현되기 때문에 함부로 비교하거나 빼면 안 된다. 2진수는 대개 10진법으로 정확하게 표현할 수 있지만, 2진법으로 표현하기 어려운 숫자도 있다($0.1_{(10)} =  0.00110011001100…_{(2)}$). 다음과 같은 예를 보자.\n"
   ]
  },
  {
   "cell_type": "code",
   "execution_count": 5,
   "id": "4c621155",
   "metadata": {
    "ExecuteTime": {
     "end_time": "2021-09-07T09:49:19.013774Z",
     "start_time": "2021-09-07T09:49:18.998760Z"
    }
   },
   "outputs": [
    {
     "data": {
      "text/plain": [
       "False"
      ]
     },
     "execution_count": 5,
     "metadata": {},
     "output_type": "execute_result"
    }
   ],
   "source": [
    "0.2 * 3 == 0.6"
   ]
  },
  {
   "cell_type": "code",
   "execution_count": 6,
   "id": "a18307e9",
   "metadata": {
    "ExecuteTime": {
     "end_time": "2021-09-07T09:49:19.028788Z",
     "start_time": "2021-09-07T09:49:19.013774Z"
    }
   },
   "outputs": [
    {
     "data": {
      "text/plain": [
       "True"
      ]
     },
     "execution_count": 6,
     "metadata": {},
     "output_type": "execute_result"
    }
   ],
   "source": [
    "1.2 - 0.2 == 1.0"
   ]
  },
  {
   "cell_type": "code",
   "execution_count": 7,
   "id": "a5e357c2",
   "metadata": {
    "ExecuteTime": {
     "end_time": "2021-09-07T09:49:19.043801Z",
     "start_time": "2021-09-07T09:49:19.029789Z"
    }
   },
   "outputs": [
    {
     "data": {
      "text/plain": [
       "False"
      ]
     },
     "execution_count": 7,
     "metadata": {},
     "output_type": "execute_result"
    }
   ],
   "source": [
    "0.1 * 0.1 == 0.01"
   ]
  },
  {
   "cell_type": "code",
   "execution_count": 8,
   "id": "2e2d9d99",
   "metadata": {
    "ExecuteTime": {
     "end_time": "2021-09-07T09:49:19.058814Z",
     "start_time": "2021-09-07T09:49:19.044803Z"
    }
   },
   "outputs": [
    {
     "data": {
      "text/plain": [
       "False"
      ]
     },
     "execution_count": 8,
     "metadata": {},
     "output_type": "execute_result"
    }
   ],
   "source": [
    "1.2 - 0.1 == 1.1"
   ]
  },
  {
   "cell_type": "markdown",
   "id": "58d61c23",
   "metadata": {},
   "source": [
    "그 대신 동등성 테스트<sub>equality test</sub>는 사전에 정의된 정밀도 범위 내에서 수행되어야 한다. ~예를 unittest 모듈의 assertAlmostEqual() 메서드 같은 접근법을 사용하는 방법이다.~"
   ]
  },
  {
   "cell_type": "code",
   "execution_count": 9,
   "id": "cbfc8999",
   "metadata": {
    "ExecuteTime": {
     "end_time": "2021-09-07T09:49:19.073828Z",
     "start_time": "2021-09-07T09:49:19.059816Z"
    }
   },
   "outputs": [],
   "source": [
    "def a(x, y, places=7):\n",
    "    return round(abs(x-y), places) == 0"
   ]
  },
  {
   "cell_type": "code",
   "execution_count": 10,
   "id": "a98f9094",
   "metadata": {
    "ExecuteTime": {
     "end_time": "2021-09-07T09:49:19.088842Z",
     "start_time": "2021-09-07T09:49:19.074830Z"
    }
   },
   "outputs": [
    {
     "data": {
      "text/plain": [
       "True"
      ]
     },
     "execution_count": 10,
     "metadata": {},
     "output_type": "execute_result"
    }
   ],
   "source": [
    "a(0.2*3, 0.6)"
   ]
  },
  {
   "cell_type": "code",
   "execution_count": 11,
   "id": "ac35caf4",
   "metadata": {
    "ExecuteTime": {
     "end_time": "2021-09-07T09:49:19.103856Z",
     "start_time": "2021-09-07T09:49:19.089842Z"
    }
   },
   "outputs": [
    {
     "data": {
      "text/plain": [
       "True"
      ]
     },
     "execution_count": 11,
     "metadata": {},
     "output_type": "execute_result"
    }
   ],
   "source": [
    "a(0.1*0.1, 0.01)"
   ]
  },
  {
   "cell_type": "markdown",
   "id": "728c92eb",
   "metadata": {},
   "source": [
    "## 1.2.2 정수와 부동소수점 메서드"
   ]
  },
  {
   "cell_type": "markdown",
   "id": "1ba2f3d6",
   "metadata": {},
   "source": [
    "파이썬에서 나누기 연산자 `/` 는 항상 부동소수점을 반환한다. `//` 연산자\n",
    "<sub>floor 또는 truncation</sub>를 사용하면 정수를 반환할 수 있다. `%` 연산자<sub> module 또는 remainder</sub> 는 나머지를 구한다. `divmode(x, y)` 메서드는 x를 y로 나눌때, 몫과 나머지를 반환한다. "
   ]
  },
  {
   "cell_type": "code",
   "execution_count": 12,
   "id": "617d4892",
   "metadata": {
    "ExecuteTime": {
     "end_time": "2021-09-07T09:49:19.118868Z",
     "start_time": "2021-09-07T09:49:19.104858Z"
    }
   },
   "outputs": [
    {
     "data": {
      "text/plain": [
       "(7, 3)"
      ]
     },
     "execution_count": 12,
     "metadata": {},
     "output_type": "execute_result"
    }
   ],
   "source": [
    "divmod(45, 6)"
   ]
  },
  {
   "cell_type": "markdown",
   "id": "d17a80c5",
   "metadata": {},
   "source": [
    "`round(X, n)` 메서드는 n이 음수인 경우, x를 정수 n 번째 자리에서  반올림한 값을 반환한다. n이 양수인 경우 x를 소수점 이하 n번째 자리로 반올림한 값을 반환한다."
   ]
  },
  {
   "cell_type": "code",
   "execution_count": 13,
   "id": "6a942b1f",
   "metadata": {
    "ExecuteTime": {
     "end_time": "2021-09-07T09:49:19.133882Z",
     "start_time": "2021-09-07T09:49:19.119870Z"
    }
   },
   "outputs": [
    {
     "data": {
      "text/plain": [
       "110.0"
      ]
     },
     "execution_count": 13,
     "metadata": {},
     "output_type": "execute_result"
    }
   ],
   "source": [
    "round(113.866, -1)"
   ]
  },
  {
   "cell_type": "code",
   "execution_count": 14,
   "id": "528a5784",
   "metadata": {
    "ExecuteTime": {
     "end_time": "2021-09-07T09:49:19.148898Z",
     "start_time": "2021-09-07T09:49:19.134883Z"
    }
   },
   "outputs": [
    {
     "data": {
      "text/plain": [
       "113.87"
      ]
     },
     "execution_count": 14,
     "metadata": {},
     "output_type": "execute_result"
    }
   ],
   "source": [
    "round(113.866, 2)"
   ]
  },
  {
   "cell_type": "markdown",
   "id": "725e56d2",
   "metadata": {},
   "source": [
    "`as_integer_ratio()`메서드는 부동 소수점을 분수로 표현한다. "
   ]
  },
  {
   "cell_type": "code",
   "execution_count": 15,
   "id": "b2888d70",
   "metadata": {
    "ExecuteTime": {
     "end_time": "2021-09-07T09:49:19.163910Z",
     "start_time": "2021-09-07T09:49:19.149897Z"
    }
   },
   "outputs": [
    {
     "data": {
      "text/plain": [
       "(11, 4)"
      ]
     },
     "execution_count": 15,
     "metadata": {},
     "output_type": "execute_result"
    }
   ],
   "source": [
    "2.75.as_integer_ratio()"
   ]
  },
  {
   "cell_type": "markdown",
   "id": "5582564f",
   "metadata": {},
   "source": [
    "# 1.3 복소수"
   ]
  },
  {
   "cell_type": "markdown",
   "id": "ab245fae",
   "metadata": {},
   "source": [
    "파이썬에서 **복소수**<sub>complex number</sub> 는 $z = 3 + 4j$와 같이 생긴 부동소수점 한쌍을 갖는 **불변형**이다. `z.real`, `z.imag`, `z.conjugate()`같은 메서드로 실수부, 허수부, 켤레 복소수를 구할 수 있다. "
   ]
  },
  {
   "cell_type": "markdown",
   "id": "575b5d2f",
   "metadata": {},
   "source": [
    "복소수를 사용하려면, `cmath`모듈을 임포트해야 하는데, 이 모듈은 math 모듈에 있는 대부분의 삼각함수와 로그함수의 복소수 버전을 제공한다. 또한 `cmath.phase()`,`cmath.polar()`,`cmath.rect()`,`cmath.pi`,`cmath.e` 같은 복소수 전용 함수도 제공한다. "
   ]
  },
  {
   "cell_type": "markdown",
   "id": "c0f0e27f",
   "metadata": {},
   "source": [
    "# 1.4 fraction 모듈"
   ]
  },
  {
   "cell_type": "markdown",
   "id": "f79308cc",
   "metadata": {},
   "source": [
    "분수를 다루는 `fraction`모듈"
   ]
  },
  {
   "cell_type": "code",
   "execution_count": 16,
   "id": "58ecd533",
   "metadata": {
    "ExecuteTime": {
     "end_time": "2021-09-07T09:49:19.178924Z",
     "start_time": "2021-09-07T09:49:19.164913Z"
    }
   },
   "outputs": [
    {
     "name": "stdout",
     "output_type": "stream",
     "text": [
      "테스트 통과!\n"
     ]
    }
   ],
   "source": [
    "from fractions import Fraction\n",
    "\n",
    "def rounding_floats(number1, places):\n",
    "    return round(number1, places)\n",
    "\n",
    "\n",
    "def float_to_fractions(number):\n",
    "    return Fraction(*number.as_integer_ratio())\n",
    "\n",
    "\n",
    "def get_denominator(number1, number2):\n",
    "    \"\"\" 분모를 반환한다.\"\"\"\n",
    "    a = Fraction(number1, number2)\n",
    "    return a.denominator\n",
    "\n",
    "\n",
    "def get_numerator(number1, number2):\n",
    "    \"\"\" 분자를 반환한다.\"\"\"\n",
    "    a = Fraction(number1, number2)\n",
    "    return a.numerator\n",
    "\n",
    "\n",
    "def test_testing_floats():\n",
    "    number1 = 1.25\n",
    "    number2 = 1\n",
    "    number3 = -1\n",
    "    number4 = 5/4\n",
    "    number6 = 6\n",
    "    assert(rounding_floats(number1, number2) == 1.2)\n",
    "    assert(rounding_floats(number1*10, number3) == 10)\n",
    "    assert(float_to_fractions(number1) == number4)\n",
    "    assert(get_denominator(number2, number6) == number6)\n",
    "    assert(get_numerator(number2, number6) == number2)\n",
    "    print(\"테스트 통과!\")\n",
    "\n",
    "\n",
    "if __name__ == \"__main__\":\n",
    "    test_testing_floats()"
   ]
  },
  {
   "cell_type": "markdown",
   "id": "0dd5bde7",
   "metadata": {},
   "source": [
    "# 1.5 decimal 모듈"
   ]
  },
  {
   "cell_type": "markdown",
   "id": "d7e5936c",
   "metadata": {},
   "source": [
    "**정확한** 10진법의 부동소수점 숫자가 필요한 경우, 부동소수점 **불변** 타입인 `decimal.Decimal`을 사용한다. "
   ]
  },
  {
   "cell_type": "code",
   "execution_count": 17,
   "id": "e49e7b33",
   "metadata": {
    "ExecuteTime": {
     "end_time": "2021-09-07T09:49:19.193938Z",
     "start_time": "2021-09-07T09:49:19.179926Z"
    }
   },
   "outputs": [
    {
     "data": {
      "text/plain": [
       "False"
      ]
     },
     "execution_count": 17,
     "metadata": {},
     "output_type": "execute_result"
    }
   ],
   "source": [
    "sum(0.1 for i in range(10)) == 1.0"
   ]
  },
  {
   "cell_type": "code",
   "execution_count": 18,
   "id": "8bd57d64",
   "metadata": {
    "ExecuteTime": {
     "end_time": "2021-09-07T09:49:19.208951Z",
     "start_time": "2021-09-07T09:49:19.194939Z"
    }
   },
   "outputs": [
    {
     "data": {
      "text/plain": [
       "True"
      ]
     },
     "execution_count": 18,
     "metadata": {},
     "output_type": "execute_result"
    }
   ],
   "source": [
    "from decimal import Decimal\n",
    "sum(Decimal(\"0.1\") for i in range(10)) == Decimal('1.0')"
   ]
  },
  {
   "cell_type": "markdown",
   "id": "aa6ad09d",
   "metadata": {},
   "source": [
    "decimal 모듈에는 Decimal.exp(x) 같은 내장 함수가 있어 대부분의 경우에 사\n",
    "용할 수 있다. 여기서 x는 decimal.Decimal 객체 타입이다. math와 cmath 모\n",
    "둘에도 exp() 함수가 있지만, 정확도가 필요하다면 decimal 모듈을 사용해야\n",
    "한다.\n"
   ]
  },
  {
   "cell_type": "markdown",
   "id": "611027ba",
   "metadata": {},
   "source": [
    "# 1.6 2진수, 8진수, 16진수"
   ]
  },
  {
   "cell_type": "markdown",
   "id": "04d2fbe0",
   "metadata": {},
   "source": [
    "`bin(i)` 메서드는 정수 i의 2진수 문자열을 반환한다."
   ]
  },
  {
   "cell_type": "code",
   "execution_count": 19,
   "id": "7a588256",
   "metadata": {
    "ExecuteTime": {
     "end_time": "2021-09-07T09:49:19.223965Z",
     "start_time": "2021-09-07T09:49:19.209952Z"
    }
   },
   "outputs": [
    {
     "data": {
      "text/plain": [
       "'0b1111100111'"
      ]
     },
     "execution_count": 19,
     "metadata": {},
     "output_type": "execute_result"
    }
   ],
   "source": [
    "bin(999)"
   ]
  },
  {
   "cell_type": "markdown",
   "id": "c51b27a3",
   "metadata": {},
   "source": [
    "`oct(i)` 메서드는 정수 i의 8진수 문자열을 반환한다."
   ]
  },
  {
   "cell_type": "code",
   "execution_count": 20,
   "id": "6c2d745a",
   "metadata": {
    "ExecuteTime": {
     "end_time": "2021-09-07T09:49:19.238979Z",
     "start_time": "2021-09-07T09:49:19.224965Z"
    }
   },
   "outputs": [
    {
     "data": {
      "text/plain": [
       "'0o1747'"
      ]
     },
     "execution_count": 20,
     "metadata": {},
     "output_type": "execute_result"
    }
   ],
   "source": [
    "oct(999)"
   ]
  },
  {
   "cell_type": "markdown",
   "id": "4225c9bb",
   "metadata": {},
   "source": [
    "`hex(i)` 메서드는 정수 i의 16진수 문자열을 반환한다."
   ]
  },
  {
   "cell_type": "code",
   "execution_count": 21,
   "id": "1994819b",
   "metadata": {
    "ExecuteTime": {
     "end_time": "2021-09-07T09:49:19.253992Z",
     "start_time": "2021-09-07T09:49:19.239980Z"
    }
   },
   "outputs": [
    {
     "data": {
      "text/plain": [
       "'0x3e7'"
      ]
     },
     "execution_count": 21,
     "metadata": {},
     "output_type": "execute_result"
    }
   ],
   "source": [
    "hex(999)"
   ]
  },
  {
   "cell_type": "markdown",
   "id": "0c645f5c",
   "metadata": {},
   "source": [
    "# 1.7 연습문제"
   ]
  },
  {
   "cell_type": "markdown",
   "id": "f04b1d4a",
   "metadata": {},
   "source": [
    "## 1.7.1 진법 변환\n",
    "\n",
    "다른 집법의 숫자를 10진법의 수로 변환한다. base는 2 이상 10이하"
   ]
  },
  {
   "cell_type": "code",
   "execution_count": 22,
   "id": "9b656bc7",
   "metadata": {
    "ExecuteTime": {
     "end_time": "2021-09-07T09:49:19.269006Z",
     "start_time": "2021-09-07T09:49:19.255995Z"
    }
   },
   "outputs": [],
   "source": [
    "def convert_to_decimal(number, base):\n",
    "    multiplier, result = 1, 0\n",
    "    while number > 0:\n",
    "        result += number % 10 * multiplier\n",
    "        multiplier *= base\n",
    "        number = number // 10\n",
    "    return result"
   ]
  },
  {
   "cell_type": "code",
   "execution_count": 23,
   "id": "9ede8c56",
   "metadata": {
    "ExecuteTime": {
     "end_time": "2021-09-07T09:49:19.284020Z",
     "start_time": "2021-09-07T09:49:19.270007Z"
    }
   },
   "outputs": [
    {
     "data": {
      "text/plain": [
       "9"
      ]
     },
     "execution_count": 23,
     "metadata": {},
     "output_type": "execute_result"
    }
   ],
   "source": [
    "convert_to_decimal(1001, 2)"
   ]
  },
  {
   "cell_type": "code",
   "execution_count": 24,
   "id": "f8fb7937",
   "metadata": {
    "ExecuteTime": {
     "end_time": "2021-09-07T09:49:19.299034Z",
     "start_time": "2021-09-07T09:49:19.285022Z"
    }
   },
   "outputs": [],
   "source": [
    "def convert_from_decimal(number, base):\n",
    "    multiplier, result = 1, 0\n",
    "    while number != 0:\n",
    "        number, a = divmod(number, base)\n",
    "        result += a * multiplier\n",
    "        multiplier *= 10\n",
    "    return result"
   ]
  },
  {
   "cell_type": "code",
   "execution_count": 25,
   "id": "8eaa81a0",
   "metadata": {
    "ExecuteTime": {
     "end_time": "2021-09-07T09:49:19.314047Z",
     "start_time": "2021-09-07T09:49:19.300034Z"
    }
   },
   "outputs": [
    {
     "data": {
      "text/plain": [
       "1001"
      ]
     },
     "execution_count": 25,
     "metadata": {},
     "output_type": "execute_result"
    }
   ],
   "source": [
    "convert_from_decimal(9, 2)"
   ]
  },
  {
   "cell_type": "code",
   "execution_count": 26,
   "id": "53b320ed",
   "metadata": {
    "ExecuteTime": {
     "end_time": "2021-09-07T09:49:19.329061Z",
     "start_time": "2021-09-07T09:49:19.315049Z"
    }
   },
   "outputs": [],
   "source": [
    "def convert_from_decimal2(number, base):\n",
    "    multiplier, result = 1, 0\n",
    "    while number > 0:\n",
    "        result += number % base * multiplier\n",
    "        multiplier *= 10\n",
    "        number = number // base\n",
    "    return result"
   ]
  },
  {
   "cell_type": "code",
   "execution_count": 27,
   "id": "1c6cf0dd",
   "metadata": {
    "ExecuteTime": {
     "end_time": "2021-09-07T09:49:19.344073Z",
     "start_time": "2021-09-07T09:49:19.330062Z"
    }
   },
   "outputs": [
    {
     "data": {
      "text/plain": [
       "1001"
      ]
     },
     "execution_count": 27,
     "metadata": {},
     "output_type": "execute_result"
    }
   ],
   "source": [
    "convert_from_decimal2(9, 2)"
   ]
  },
  {
   "cell_type": "markdown",
   "id": "8089cdd6",
   "metadata": {},
   "source": [
    "10진수를 넘어서는 경우"
   ]
  },
  {
   "cell_type": "code",
   "execution_count": 28,
   "id": "4eadbdd3",
   "metadata": {
    "ExecuteTime": {
     "end_time": "2021-09-07T09:49:19.359086Z",
     "start_time": "2021-09-07T09:49:19.345074Z"
    }
   },
   "outputs": [],
   "source": [
    "def convert_from_decimal_larger_bases(number, base):\n",
    "    strings = \"0123456789ABCDEFGHIJ\"\n",
    "    result = \"\"\n",
    "    while number > 0:\n",
    "        digit = number%base\n",
    "        result = strings[digit] +result\n",
    "        number = number//base\n",
    "    return result"
   ]
  },
  {
   "cell_type": "code",
   "execution_count": 29,
   "id": "e0ebb3a6",
   "metadata": {
    "ExecuteTime": {
     "end_time": "2021-09-07T09:49:19.374100Z",
     "start_time": "2021-09-07T09:49:19.360088Z"
    }
   },
   "outputs": [
    {
     "data": {
      "text/plain": [
       "'1F'"
      ]
     },
     "execution_count": 29,
     "metadata": {},
     "output_type": "execute_result"
    }
   ],
   "source": [
    "convert_from_decimal_larger_bases(31, 16)"
   ]
  },
  {
   "cell_type": "markdown",
   "id": "683e31ca",
   "metadata": {},
   "source": [
    "**재귀 함수**<sub>recursive function</sub>를 사용한 진법 변환"
   ]
  },
  {
   "cell_type": "code",
   "execution_count": 30,
   "id": "2b8322ef",
   "metadata": {
    "ExecuteTime": {
     "end_time": "2021-09-07T09:49:19.389113Z",
     "start_time": "2021-09-07T09:49:19.375101Z"
    }
   },
   "outputs": [],
   "source": [
    "def convert_dec_to_any_base_rec(number, base):\n",
    "    convertString = '0123456789ABCDEF'\n",
    "    if number < base:\n",
    "        return convertString[number]\n",
    "    else:\n",
    "        return convert_dec_to_any_base_rec(number // base, base) \\\n",
    "               + convertString[number%base]"
   ]
  },
  {
   "cell_type": "code",
   "execution_count": 31,
   "id": "e5ac6877",
   "metadata": {
    "ExecuteTime": {
     "end_time": "2021-09-07T09:49:19.404128Z",
     "start_time": "2021-09-07T09:49:19.389113Z"
    }
   },
   "outputs": [
    {
     "data": {
      "text/plain": [
       "'1001'"
      ]
     },
     "execution_count": 31,
     "metadata": {},
     "output_type": "execute_result"
    }
   ],
   "source": [
    "convert_dec_to_any_base_rec(9, 2)"
   ]
  },
  {
   "cell_type": "markdown",
   "id": "9af3021d",
   "metadata": {},
   "source": [
    "## 1.7.2 최대공약수"
   ]
  },
  {
   "cell_type": "markdown",
   "id": "7a45e4bb",
   "metadata": {},
   "source": [
    "최대공약수<sub>Greatest Common Divisor</sub>(GCD)"
   ]
  },
  {
   "cell_type": "code",
   "execution_count": 32,
   "id": "a0578a79",
   "metadata": {
    "ExecuteTime": {
     "end_time": "2021-09-07T09:49:19.419142Z",
     "start_time": "2021-09-07T09:49:19.406131Z"
    }
   },
   "outputs": [],
   "source": [
    "def finding_gcd(a, b):\n",
    "    while(b != 0):\n",
    "        result = b\n",
    "        a, b = b, a % b\n",
    "    return result"
   ]
  },
  {
   "cell_type": "code",
   "execution_count": 33,
   "id": "9cc83369",
   "metadata": {
    "ExecuteTime": {
     "end_time": "2021-09-07T09:49:19.434155Z",
     "start_time": "2021-09-07T09:49:19.420142Z"
    }
   },
   "outputs": [
    {
     "data": {
      "text/plain": [
       "3"
      ]
     },
     "execution_count": 33,
     "metadata": {},
     "output_type": "execute_result"
    }
   ],
   "source": [
    "finding_gcd(21, 12)"
   ]
  },
  {
   "cell_type": "code",
   "execution_count": 34,
   "id": "c50ec808",
   "metadata": {
    "ExecuteTime": {
     "end_time": "2021-09-07T09:49:19.449170Z",
     "start_time": "2021-09-07T09:49:19.435156Z"
    }
   },
   "outputs": [
    {
     "data": {
      "text/plain": [
       "3"
      ]
     },
     "execution_count": 34,
     "metadata": {},
     "output_type": "execute_result"
    }
   ],
   "source": [
    "finding_gcd(12, 21)"
   ]
  },
  {
   "cell_type": "markdown",
   "id": "a11e16e7",
   "metadata": {},
   "source": [
    "## 1.7.3 random 모듈"
   ]
  },
  {
   "cell_type": "markdown",
   "id": "a7c6d5ba",
   "metadata": {},
   "source": [
    "난수 출력"
   ]
  },
  {
   "cell_type": "code",
   "execution_count": 35,
   "id": "b671db17",
   "metadata": {
    "ExecuteTime": {
     "end_time": "2021-09-07T09:49:19.464183Z",
     "start_time": "2021-09-07T09:49:19.450171Z"
    }
   },
   "outputs": [
    {
     "name": "stdout",
     "output_type": "stream",
     "text": [
      "비복원추출\n",
      "3\n",
      "[4, 2, 1]\n",
      "shuffle\n",
      "[1, 2, 3, 4]\n",
      "[4, 2, 1, 3]\n",
      "임의의 정수 생성\n",
      "1\n"
     ]
    }
   ],
   "source": [
    "import random\n",
    "\n",
    "values = [1, 2, 3, 4]\n",
    "\n",
    "print('비복원추출')\n",
    "print(random.choice(values))\n",
    "print(random.sample(values, 3))\n",
    "\n",
    "print('shuffle')\n",
    "print(values)\n",
    "random.shuffle(values)\n",
    "print(values)\n",
    "\n",
    "print('임의의 정수 생성')\n",
    "print(random.randint(0, 10))"
   ]
  },
  {
   "cell_type": "markdown",
   "id": "8035cfeb",
   "metadata": {},
   "source": [
    "## 1.7.4 피보나치 수열 "
   ]
  },
  {
   "cell_type": "markdown",
   "id": "363053cd",
   "metadata": {},
   "source": [
    "**피보나치 수열**<sub>Fibonacci sequence</sub>\n",
    "\n",
    "$$ 1,  1,  2,  3, 5, 8, 13, 21 \\dots $$"
   ]
  },
  {
   "cell_type": "markdown",
   "id": "fc380c77",
   "metadata": {},
   "source": [
    "첫째 및 둘째 항이 1이며, 그 이후의 모든 항은 바로 앞 두항의 합인 수열"
   ]
  },
  {
   "cell_type": "markdown",
   "id": "7ffffbd4",
   "metadata": {},
   "source": [
    "|방법|함수이름|시간복잡도|\n",
    "|:-:|:-:|:-:|\n",
    "|반복문|`find_fibonacci_seq_iter()`|$O(n)$|\n",
    "|재귀호출|`find_fibonacci_seq_rec()`|$O(2^n)$|\n",
    "|수식|`find_fibonacci_seq_form()`|$O(1)$|"
   ]
  },
  {
   "cell_type": "markdown",
   "id": "20f19276",
   "metadata": {},
   "source": [
    "<img src='https://i.stack.imgur.com/tsuYw.png' />"
   ]
  },
  {
   "cell_type": "code",
   "execution_count": 36,
   "id": "92e63b47",
   "metadata": {
    "ExecuteTime": {
     "end_time": "2021-09-07T09:49:19.479197Z",
     "start_time": "2021-09-07T09:49:19.465186Z"
    }
   },
   "outputs": [],
   "source": [
    "def find_fibonacci_seq_iter(n):\n",
    "    if n < 2: return n\n",
    "    a, b = 0, 1\n",
    "    for i in range(n):\n",
    "        a, b = b, a + b\n",
    "    return a "
   ]
  },
  {
   "cell_type": "code",
   "execution_count": 37,
   "id": "da799ebb",
   "metadata": {
    "ExecuteTime": {
     "end_time": "2021-09-07T09:49:19.494211Z",
     "start_time": "2021-09-07T09:49:19.480199Z"
    }
   },
   "outputs": [
    {
     "data": {
      "text/plain": [
       "21"
      ]
     },
     "execution_count": 37,
     "metadata": {},
     "output_type": "execute_result"
    }
   ],
   "source": [
    "find_fibonacci_seq_iter(8)"
   ]
  },
  {
   "cell_type": "code",
   "execution_count": 38,
   "id": "73a7cb16",
   "metadata": {
    "ExecuteTime": {
     "end_time": "2021-09-07T09:49:19.509224Z",
     "start_time": "2021-09-07T09:49:19.495211Z"
    }
   },
   "outputs": [],
   "source": [
    "def find_fibonacci_seq_rec(n):\n",
    "    if n < 2: return n\n",
    "    return find_fibonacci_seq_rec(n-1) + find_fibonacci_seq_rec(n - 2)"
   ]
  },
  {
   "cell_type": "code",
   "execution_count": 39,
   "id": "77aa6655",
   "metadata": {
    "ExecuteTime": {
     "end_time": "2021-09-07T09:49:19.554265Z",
     "start_time": "2021-09-07T09:49:19.540252Z"
    }
   },
   "outputs": [
    {
     "data": {
      "text/plain": [
       "21"
      ]
     },
     "execution_count": 39,
     "metadata": {},
     "output_type": "execute_result"
    }
   ],
   "source": [
    "find_fibonacci_seq_rec(8)"
   ]
  },
  {
   "cell_type": "code",
   "execution_count": 40,
   "id": "9ecde4b6",
   "metadata": {
    "ExecuteTime": {
     "end_time": "2021-09-07T09:49:19.539252Z",
     "start_time": "2021-09-07T09:49:19.525240Z"
    }
   },
   "outputs": [],
   "source": [
    "import math\n",
    "\n",
    "def find_fibonacci_seq_form(n):\n",
    "    sq5 = math.sqrt(5)\n",
    "    phi = (1 + sq5) / 2\n",
    "    return int(math.floor(phi ** n / sq5))"
   ]
  },
  {
   "cell_type": "code",
   "execution_count": 41,
   "id": "da0c92d4",
   "metadata": {
    "ExecuteTime": {
     "end_time": "2021-09-07T09:49:19.554265Z",
     "start_time": "2021-09-07T09:49:19.540252Z"
    }
   },
   "outputs": [
    {
     "data": {
      "text/plain": [
       "21"
      ]
     },
     "execution_count": 41,
     "metadata": {},
     "output_type": "execute_result"
    }
   ],
   "source": [
    "find_fibonacci_seq_form(8)"
   ]
  },
  {
   "cell_type": "markdown",
   "id": "de5f8144",
   "metadata": {},
   "source": [
    "**제너레이터**<sub>generator</sub>"
   ]
  },
  {
   "cell_type": "code",
   "execution_count": 42,
   "id": "bd28bbd8",
   "metadata": {
    "ExecuteTime": {
     "end_time": "2021-09-07T09:49:19.569279Z",
     "start_time": "2021-09-07T09:49:19.555278Z"
    }
   },
   "outputs": [],
   "source": [
    "def fib_generator():\n",
    "    a, b = 0, 1\n",
    "    while True:\n",
    "        yield b\n",
    "        a , b = b, a + b"
   ]
  },
  {
   "cell_type": "code",
   "execution_count": 43,
   "id": "77aa3ceb",
   "metadata": {
    "ExecuteTime": {
     "end_time": "2021-09-07T09:49:19.584293Z",
     "start_time": "2021-09-07T09:49:19.570281Z"
    }
   },
   "outputs": [
    {
     "name": "stdout",
     "output_type": "stream",
     "text": [
      "1 1 2 3 5 8 13 21 34 55 "
     ]
    }
   ],
   "source": [
    "fg = fib_generator()\n",
    "for i in range(10):\n",
    "    print(next(fg), end=' ')"
   ]
  },
  {
   "cell_type": "code",
   "execution_count": 44,
   "id": "2424aa11",
   "metadata": {
    "ExecuteTime": {
     "end_time": "2021-09-07T09:49:23.970198Z",
     "start_time": "2021-09-07T09:49:19.585294Z"
    }
   },
   "outputs": [
    {
     "name": "stdout",
     "output_type": "stream",
     "text": [
      "540 ns ± 7.17 ns per loop (mean ± std. dev. of 7 runs, 1000000 loops each)\n"
     ]
    }
   ],
   "source": [
    "%%timeit\n",
    "find_fibonacci_seq_iter(10)"
   ]
  },
  {
   "cell_type": "code",
   "execution_count": 45,
   "id": "1cb31e29",
   "metadata": {
    "ExecuteTime": {
     "end_time": "2021-09-07T09:49:33.925650Z",
     "start_time": "2021-09-07T09:49:23.971198Z"
    }
   },
   "outputs": [
    {
     "name": "stdout",
     "output_type": "stream",
     "text": [
      "12.3 µs ± 54.2 ns per loop (mean ± std. dev. of 7 runs, 100000 loops each)\n"
     ]
    }
   ],
   "source": [
    "%%timeit\n",
    "find_fibonacci_seq_rec(10)"
   ]
  },
  {
   "cell_type": "code",
   "execution_count": 46,
   "id": "91d6b2a8",
   "metadata": {
    "ExecuteTime": {
     "end_time": "2021-09-07T09:49:37.710256Z",
     "start_time": "2021-09-07T09:49:33.926626Z"
    }
   },
   "outputs": [
    {
     "name": "stdout",
     "output_type": "stream",
     "text": [
      "466 ns ± 2.12 ns per loop (mean ± std. dev. of 7 runs, 1000000 loops each)\n"
     ]
    }
   ],
   "source": [
    "%%timeit\n",
    "find_fibonacci_seq_form(10)"
   ]
  },
  {
   "cell_type": "code",
   "execution_count": 47,
   "id": "78965683",
   "metadata": {
    "ExecuteTime": {
     "end_time": "2021-09-07T09:49:47.190324Z",
     "start_time": "2021-09-07T09:49:37.711259Z"
    }
   },
   "outputs": [
    {
     "name": "stdout",
     "output_type": "stream",
     "text": [
      "1.17 µs ± 9.73 ns per loop (mean ± std. dev. of 7 runs, 1000000 loops each)\n"
     ]
    }
   ],
   "source": [
    "%%timeit\n",
    "fg = fib_generator()\n",
    "for i in range(10):\n",
    "    next(fg)"
   ]
  },
  {
   "cell_type": "markdown",
   "id": "dcc8217d",
   "metadata": {},
   "source": [
    "## 1.7.5 소수"
   ]
  },
  {
   "cell_type": "markdown",
   "id": "1cc6513d",
   "metadata": {},
   "source": [
    "**소수**<sub>prime number</sub>의 판단\n",
    "\n",
    "* 소수란?\n",
    "    - 자신보다 작은 두개의 자연수를 곱하여 만들 수 없는 1보다 큰 자연수\n",
    "    - 즉, 약수로 1과 자기 자신만을 가지는 수다. "
   ]
  },
  {
   "cell_type": "markdown",
   "id": "3fa2b5cd",
   "metadata": {},
   "source": [
    "#### 브루트 포스<sub>brute force</sub>\n",
    "무차별 대입 방법"
   ]
  },
  {
   "cell_type": "code",
   "execution_count": 48,
   "id": "59f17cae",
   "metadata": {
    "ExecuteTime": {
     "end_time": "2021-09-07T09:49:47.205340Z",
     "start_time": "2021-09-07T09:49:47.191325Z"
    }
   },
   "outputs": [],
   "source": [
    "def finding_prime(number):\n",
    "    num = abs(number)\n",
    "    if num < 4 : return True\n",
    "    for x in range(2, num):\n",
    "        if num % x == 0:\n",
    "            return False\n",
    "        \n",
    "    return True"
   ]
  },
  {
   "cell_type": "markdown",
   "id": "bf8d03ed",
   "metadata": {},
   "source": [
    "#### 제곱근\n",
    "\n",
    "$ m = \\sqrt{n}$, $ m \\times m = n$라고 가정\n",
    "\n",
    "$n$이 소수가 아니면, $n = a \\times b$ 이므로 $m \\times m = a \\times b$이다.\n",
    "\n",
    "$m$은 실수, n, a, b는 자연수다. 그러면 다음과 같은 세가지 경우가 존재한다.\n"
   ]
  },
  {
   "cell_type": "markdown",
   "id": "30b17d62",
   "metadata": {},
   "source": [
    "1. $a > m$이면, $b < m$\n",
    "2. $a = m$이면, $b = m$\n",
    "3. $a < m$이면, $b > m$\n",
    "\n",
    "세가지 경우 모두 $\\min{(a, b)} \\le m$임으로, $m$까지의 수를 검색한다면, 적어도 하나의 $n$과 나누어 떨어지는 수를 발견할 것이고, 이것은 n이 소수가 아님을 보여주기 충분하다. "
   ]
  },
  {
   "cell_type": "code",
   "execution_count": 49,
   "id": "c8d4460f",
   "metadata": {
    "ExecuteTime": {
     "end_time": "2021-09-07T09:49:47.220359Z",
     "start_time": "2021-09-07T09:49:47.206339Z"
    }
   },
   "outputs": [],
   "source": [
    "import math\n",
    "def finding_prime_sqrt(number):\n",
    "    num = abs(number)\n",
    "    if num < 4 : return True\n",
    "    for x in range(2, int(math.sqrt(num)) + 1):\n",
    "        if number % x == 0:\n",
    "            return False\n",
    "        \n",
    "    return True"
   ]
  },
  {
   "cell_type": "markdown",
   "id": "712c168b",
   "metadata": {},
   "source": [
    "#### 확률론적 테스트와 페르마의 소정리<sub>Fermat's little theorem</sub>"
   ]
  },
  {
   "cell_type": "code",
   "execution_count": 50,
   "id": "bf93e056",
   "metadata": {
    "ExecuteTime": {
     "end_time": "2021-09-07T09:49:47.235942Z",
     "start_time": "2021-09-07T09:49:47.221359Z"
    }
   },
   "outputs": [],
   "source": [
    "def finding_prime_fermat(number):\n",
    "    if number <= 102:\n",
    "        for a in range(2, number):\n",
    "            if pow(a, number -1, number) != 1:\n",
    "                return False\n",
    "        return True\n",
    "    \n",
    "    else:\n",
    "        for i in range(100):\n",
    "            a = random.randint(2, number - 1)\n",
    "            if pow(a, number - 1, number) != 1:\n",
    "                return False\n",
    "            \n",
    "        return True"
   ]
  },
  {
   "cell_type": "code",
   "execution_count": 51,
   "id": "ecb5d247",
   "metadata": {
    "ExecuteTime": {
     "end_time": "2021-09-07T09:49:47.250820Z",
     "start_time": "2021-09-07T09:49:47.236944Z"
    }
   },
   "outputs": [],
   "source": [
    "number1 = 1700\n",
    "number2 = 2000"
   ]
  },
  {
   "cell_type": "code",
   "execution_count": 52,
   "id": "4d72e01e",
   "metadata": {
    "ExecuteTime": {
     "end_time": "2021-09-07T09:49:51.817111Z",
     "start_time": "2021-09-07T09:49:47.251823Z"
    }
   },
   "outputs": [
    {
     "name": "stdout",
     "output_type": "stream",
     "text": [
      "563 ns ± 3.43 ns per loop (mean ± std. dev. of 7 runs, 1000000 loops each)\n"
     ]
    }
   ],
   "source": [
    "%%timeit\n",
    "finding_prime(number1)\n",
    "finding_prime(number2)"
   ]
  },
  {
   "cell_type": "code",
   "execution_count": 53,
   "id": "5875cf95",
   "metadata": {
    "ExecuteTime": {
     "end_time": "2021-09-07T09:49:58.049925Z",
     "start_time": "2021-09-07T09:49:51.818109Z"
    }
   },
   "outputs": [
    {
     "name": "stdout",
     "output_type": "stream",
     "text": [
      "767 ns ± 6.76 ns per loop (mean ± std. dev. of 7 runs, 1000000 loops each)\n"
     ]
    }
   ],
   "source": [
    "%%timeit\n",
    "finding_prime_sqrt(number1)\n",
    "finding_prime_sqrt(number2)"
   ]
  },
  {
   "cell_type": "code",
   "execution_count": 54,
   "id": "6b3cec79",
   "metadata": {
    "ExecuteTime": {
     "end_time": "2021-09-07T09:50:00.302539Z",
     "start_time": "2021-09-07T09:49:58.050927Z"
    }
   },
   "outputs": [
    {
     "name": "stdout",
     "output_type": "stream",
     "text": [
      "2.76 µs ± 16.5 ns per loop (mean ± std. dev. of 7 runs, 100000 loops each)\n"
     ]
    }
   ],
   "source": [
    "%%timeit\n",
    "finding_prime_fermat(number1)\n",
    "finding_prime_fermat(number2)"
   ]
  },
  {
   "cell_type": "code",
   "execution_count": 55,
   "id": "aa784d4a",
   "metadata": {
    "ExecuteTime": {
     "end_time": "2021-09-07T09:50:00.317338Z",
     "start_time": "2021-09-07T09:50:00.303541Z"
    }
   },
   "outputs": [],
   "source": [
    "import math\n",
    "import random\n",
    "\n",
    "def finding_prime_sqrt(number):\n",
    "    num = abs(number)\n",
    "    if num < 4 : return True\n",
    "    for x in range(2, int(math.sqrt(num)) + 1):\n",
    "        if number % x == 0:\n",
    "            return False\n",
    "        \n",
    "    return True\n",
    "\n",
    "def genrate_prime(number=3):\n",
    "    while 1:\n",
    "        p = random.randint(pow(2, number-2), pow(2, number-1)-1)\n",
    "        p = 2 * p + 1\n",
    "        \n",
    "        if finding_prime_sqrt(p):\n",
    "            return p"
   ]
  },
  {
   "cell_type": "code",
   "execution_count": 56,
   "id": "b48632e1",
   "metadata": {
    "ExecuteTime": {
     "end_time": "2021-09-07T09:50:00.332178Z",
     "start_time": "2021-09-07T09:50:00.318337Z"
    }
   },
   "outputs": [
    {
     "data": {
      "text/plain": [
       "5"
      ]
     },
     "execution_count": 56,
     "metadata": {},
     "output_type": "execute_result"
    }
   ],
   "source": [
    "genrate_prime(3)"
   ]
  },
  {
   "cell_type": "code",
   "execution_count": 57,
   "id": "d3505840",
   "metadata": {
    "ExecuteTime": {
     "end_time": "2021-09-07T09:50:00.347191Z",
     "start_time": "2021-09-07T09:50:00.333179Z"
    }
   },
   "outputs": [
    {
     "data": {
      "text/plain": [
       "23"
      ]
     },
     "execution_count": 57,
     "metadata": {},
     "output_type": "execute_result"
    }
   ],
   "source": [
    "genrate_prime(5)"
   ]
  },
  {
   "cell_type": "markdown",
   "id": "76816f4f",
   "metadata": {},
   "source": [
    "# 1.8 넘파이 패키지"
   ]
  },
  {
   "cell_type": "code",
   "execution_count": 58,
   "id": "9502fced",
   "metadata": {
    "ExecuteTime": {
     "end_time": "2021-09-07T09:50:00.452290Z",
     "start_time": "2021-09-07T09:50:00.348193Z"
    }
   },
   "outputs": [],
   "source": [
    "import numpy as np"
   ]
  },
  {
   "cell_type": "markdown",
   "id": "a0b360e1",
   "metadata": {},
   "source": [
    "**Reference**\n",
    "\n",
    "* <a href='https://github.com/SeWonKwon' ><div> <img src ='https://slid-capture.s3.ap-northeast-2.amazonaws.com/public/image_upload/6556674324ed41a289a354258718280d/964e5a8b-75ad-41fc-ae75-0ca66d06fbc7.png' align='left' /> </div></a>\n",
    "\n",
    "<br>\n",
    "\n",
    "* [파이썬 자료구조와 알고리즘, 미아 스타인](https://github.com/AstinCHOI/Python-and-Algorithms-and-Data-Structures)\n"
   ]
  }
 ],
 "metadata": {
  "kernelspec": {
   "display_name": "Python 3",
   "language": "python",
   "name": "python3"
  },
  "language_info": {
   "codemirror_mode": {
    "name": "ipython",
    "version": 3
   },
   "file_extension": ".py",
   "mimetype": "text/x-python",
   "name": "python",
   "nbconvert_exporter": "python",
   "pygments_lexer": "ipython3",
   "version": "3.8.5"
  },
  "toc": {
   "base_numbering": 1,
   "nav_menu": {},
   "number_sections": true,
   "sideBar": true,
   "skip_h1_title": false,
   "title_cell": "Table of Contents",
   "title_sidebar": "Contents",
   "toc_cell": false,
   "toc_position": {
    "height": "calc(100% - 180px)",
    "left": "10px",
    "top": "150px",
    "width": "258.9px"
   },
   "toc_section_display": true,
   "toc_window_display": false
  }
 },
 "nbformat": 4,
 "nbformat_minor": 5
}
