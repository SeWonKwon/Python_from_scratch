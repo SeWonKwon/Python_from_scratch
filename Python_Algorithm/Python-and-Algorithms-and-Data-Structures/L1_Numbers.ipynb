{
 "cells": [
  {
   "cell_type": "markdown",
   "id": "3ac73bdc",
   "metadata": {},
   "source": [
    "<a href='https://github.com/SeWonKwon' ><div> <img src ='https://slid-capture.s3.ap-northeast-2.amazonaws.com/public/image_upload/6556674324ed41a289a354258718280d/964e5a8b-75ad-41fc-ae75-0ca66d06fbc7.png' align='left' /> </div></a>\n"
   ]
  },
  {
   "cell_type": "markdown",
   "id": "48d4a628",
   "metadata": {},
   "source": [
    "###### Ch 1 숫자"
   ]
  },
  {
   "cell_type": "markdown",
   "id": "76e23eb1",
   "metadata": {},
   "source": [
    "새로운 프로그래밍 언어를 배울 때, 으레 가장 먼저 하는 일은 `Hello World!`를\n",
    "출력하는 것이다. 그다음에는 숫자와 산술 연산을 사용하여 뭔가를 계산한다. 숫자는 정수<sub>integer</sub>, 부동소수점<sub>float</sub>, 복소수<sub>complex</sub>로 나타낼 수 있다. 인간에게는 10개의 손가락으로 숫자를 십진법<sub>decimal</sub>으로 표현하는 법이 자연스럽다. 컴퓨터는 전자 상태의 신호(참/거짓)를 주고받는 이진법<sub>binary</sub> 표현이 더 적합하다. 따라서 컴퓨터는 정보를 비트로 표현한다. 또한 8진법과 16진법 등 2의 배수 표현도 사용한다.\n"
   ]
  },
  {
   "cell_type": "markdown",
   "id": "5c106c0b",
   "metadata": {},
   "source": [
    "# 1.1 정수"
   ]
  },
  {
   "cell_type": "markdown",
   "id": "66cbff9e",
   "metadata": {},
   "source": [
    "파이썬에서 정수는 int로 나타내며 **불변**<sub>immutable</sub>형이다. 불변형 객체는 변수와 객체 참조 간에 차이가 없다. 파이썬 정수 크기는 컴퓨터 메모리에 의해 제한된다(C 또는 자바 내장 컴파일러에 따라 다르다). 파이썬 정수 크기는 적어도 32비트(4바이트)다. 정수를 나타내는 데 필요한 바이트 수를 확인하려면 파이썬 3.1 이상에서 `(정수).bit_length()` 메서드를 사용할 수 있다.\n"
   ]
  },
  {
   "cell_type": "code",
   "execution_count": 1,
   "id": "2c02fa3d",
   "metadata": {
    "ExecuteTime": {
     "end_time": "2021-08-31T19:44:23.735374Z",
     "start_time": "2021-08-31T19:44:23.705322Z"
    }
   },
   "outputs": [
    {
     "data": {
      "text/plain": [
       "10"
      ]
     },
     "execution_count": 1,
     "metadata": {},
     "output_type": "execute_result"
    }
   ],
   "source": [
    "(999).bit_length()"
   ]
  },
  {
   "cell_type": "markdown",
   "id": "021c6556",
   "metadata": {},
   "source": [
    "어떤 문자열을 정수로 변환<sub>casting</sub>하거나, 다른 진법의 문자열을 정수(10진법)로 변환하려면 **int(문자열, 밑)** 메서드를 사용한다.\n"
   ]
  },
  {
   "cell_type": "code",
   "execution_count": 2,
   "id": "d4319be4",
   "metadata": {
    "ExecuteTime": {
     "end_time": "2021-08-31T19:48:07.635136Z",
     "start_time": "2021-08-31T19:48:07.618083Z"
    }
   },
   "outputs": [
    {
     "name": "stdout",
     "output_type": "stream",
     "text": [
      "11\n"
     ]
    }
   ],
   "source": [
    "s = '11'\n",
    "d = int(s)\n",
    "print(d)"
   ]
  },
  {
   "cell_type": "code",
   "execution_count": 3,
   "id": "fbb4c182",
   "metadata": {
    "ExecuteTime": {
     "end_time": "2021-08-31T19:48:23.810901Z",
     "start_time": "2021-08-31T19:48:23.799346Z"
    }
   },
   "outputs": [
    {
     "name": "stdout",
     "output_type": "stream",
     "text": [
      "3\n"
     ]
    }
   ],
   "source": [
    "b = int(s, 2)\n",
    "print(b)"
   ]
  },
  {
   "cell_type": "code",
   "execution_count": 13,
   "id": "6c545716",
   "metadata": {
    "ExecuteTime": {
     "end_time": "2021-08-31T19:52:53.973551Z",
     "start_time": "2021-08-31T19:52:53.968545Z"
    }
   },
   "outputs": [
    {
     "name": "stdout",
     "output_type": "stream",
     "text": [
      "invalid literal for int() with base 2: '12'\n"
     ]
    }
   ],
   "source": [
    "s='12'\n",
    "try:\n",
    "    b = int(s, 2)\n",
    "    print(b)\n",
    "except ValueError as e:\n",
    "    print(e)"
   ]
  },
  {
   "cell_type": "markdown",
   "id": "ea1ff661",
   "metadata": {
    "cell_style": "split"
   },
   "source": [
    "# 1.2 부동소수점"
   ]
  },
  {
   "cell_type": "markdown",
   "id": "e0a83900",
   "metadata": {},
   "source": [
    "부동 소수점이란?   \n",
    "\n",
    "부동소수점(浮動小數點, floating point) 또는 떠돌이 소수점 방식은 실수를 컴퓨터상에서 근사하여 표현할 때 소수점의 위치를 고정하지 않고 그 위치를 나타내는 수를 따로 적는 것으로, 유효숫자를 나타내는 가수(假數)와 소수점의 위치를 풀이하는 지수(指數)로 나누어 표현한다.\n",
    "\n",
    "컴퓨터에서는 고정 소수점 방식보다 넓은 범위의 수를 나타낼 수 있어 과학기술 계산에 많이 이용되지만, 근삿값으로 표현되며 고정 소수점 방식보다 연산 속도가 느리기 때문에 별도의 전용 연산 장치를 두는 경우가 많다. 고정 소수점과 달리 정수 부분과 소수 부분의 자릿수가 일정하지 않으나, 유효 숫자의 자릿수는 정해져 있다.\n",
    "\n",
    "출처 : https://ko.wikipedia.org/wiki/%EB%B6%80%EB%8F%99%EC%86%8C%EC%88%98%EC%A0%90"
   ]
  },
  {
   "cell_type": "markdown",
   "id": "a607c58d",
   "metadata": {},
   "source": [
    "IEEE 754는 전기 전자 기술자 협회(IEEE)에서 개발한, 컴퓨터에서 부동소수점\n",
    "을 표현하는 가장 널리 쓰이는 표준이다.1 파이썬에서 부동소수점은 float로 나\n",
    "타내며 불변형이다. 단정도<sub>single precision</sub> 방식에서 32비트 부동소수점을 나타낼 때 1비트는 **부호**<sub>sign</sub> (0: 양수, 1: 음수), 23비트는 **유효 숫자 자릿수**<sub>significant digits</sub>(혹은 가수<sub>mantissa</sub>), 8비트는 **지수**<sub>exponent</sub>다.\n"
   ]
  },
  {
   "cell_type": "markdown",
   "id": "b18ccb23",
   "metadata": {},
   "source": [
    "<img src='https://slid-capture.s3.ap-northeast-2.amazonaws.com/public/image_upload/4246215c341f4accb4606e3f6618ef06/5bea0dff-6c5e-49a2-862b-5b1a136466e1.png' width='800' />"
   ]
  },
  {
   "cell_type": "markdown",
   "id": "fbef3f3e",
   "metadata": {},
   "source": [
    "<img src='https://slid-capture.s3.ap-northeast-2.amazonaws.com/public/image_upload/4246215c341f4accb4606e3f6618ef06/6d16a17b-4079-4df7-8c14-a48a141956b1.png' width='800' />"
   ]
  },
  {
   "cell_type": "markdown",
   "id": "60189a5c",
   "metadata": {},
   "source": [
    "예를 들어 십진수 $-118.625_{(10)}$를 32비트 단정도로 표현해 보자. 먼저 숫자의 절댓값을 이진수로 변환한다. 부호는 음수이므로 1이다. "
   ]
  },
  {
   "cell_type": "markdown",
   "id": "d862520b",
   "metadata": {},
   "source": [
    "<img src='https://slid-capture.s3.ap-northeast-2.amazonaws.com/public/image_upload/4246215c341f4accb4606e3f6618ef06/8f4e4e47-27ce-4d7c-9b94-4cb684bf2305.png' width='300' />"
   ]
  },
  {
   "cell_type": "markdown",
   "id": "f5d8b9fc",
   "metadata": {},
   "source": [
    "즉, $1110110.101_{(2)}$이다."
   ]
  },
  {
   "cell_type": "markdown",
   "id": "794016f7",
   "metadata": {},
   "source": [
    "그 다음 변환된 이진수를 다음과 같이 정규화한다.(소수점을 왼쪽으로 이동시켜 왼쪽 부분에 1만 남게 한다. )\n",
    "\n",
    "$$ 1110110.101_{(2)} = 1.110110101_{(2)} \\times 2^6$$"
   ]
  },
  {
   "cell_type": "markdown",
   "id": "ecc88fdf",
   "metadata": {},
   "source": [
    "위의 숫자를 가수부(23비트)에 넣는다. 부족한 자릿수는 0으로 채운다. \n",
    "$$11011010100000000000000$$"
   ]
  },
  {
   "cell_type": "markdown",
   "id": "94c5740e",
   "metadata": {},
   "source": [
    "지수는 6이므로 바이어스<sub>bias</sub>를 더한다. 즉, 지수 6에 $127(0111$ $    1111_{(2)})$을 더한다. \n",
    "\n",
    "$$ 6_{(10)} + 127_{(10)} = 133_{(10)} = 10000101_{(2)}$$\n",
    "\n",
    "이상의 결과를 종합하여 $-118.625_{(10)}$를 32비트 단정도로 표현한 결과는 다음과 같다. "
   ]
  },
  {
   "cell_type": "markdown",
   "id": "b2b2432e",
   "metadata": {
    "cell_style": "center"
   },
   "source": [
    "<img src='https://slid-capture.s3.ap-northeast-2.amazonaws.com/public/image_upload/4246215c341f4accb4606e3f6618ef06/8c1e319c-3508-44d7-8847-006949958dfd.png' width='800' />"
   ]
  },
  {
   "cell_type": "markdown",
   "id": "79bbe005",
   "metadata": {},
   "source": [
    "배정도<sub>double precision</sub> 방식에서는 64비트 부동 소수점을 나타낼 때 1비트는 부호, 52비트는 가수, 11비트는 지수로 나타낸다(단정도 방식일 때 $127$ $(2^7 -1)$을 더하고, 배정도 방식일 때 $1023$ $(2^{10} - 1)$을 더한다. "
   ]
  },
  {
   "cell_type": "markdown",
   "id": "a5453259",
   "metadata": {},
   "source": [
    "## 1.2.1 부동소수점끼리 비교하기"
   ]
  },
  {
   "cell_type": "markdown",
   "id": "d41703c3",
   "metadata": {},
   "source": [
    "부동소수점은 이진수 분수<sub>binary fraction</sub>로 표현되기 때문에 함부로 비교하거나 빼면 안 된다. 2진수는 대개 10진법으로 정확하게 표현할 수 있지만, 2진법으로 표현하기 어려운 숫자도 있다($0.1_{(10)} =  0.00110011001100…_{(2)}$). 다음과 같은 예를 보자.\n"
   ]
  },
  {
   "cell_type": "code",
   "execution_count": 15,
   "id": "cae32cb7",
   "metadata": {
    "ExecuteTime": {
     "end_time": "2021-08-31T20:47:57.352170Z",
     "start_time": "2021-08-31T20:47:57.346174Z"
    }
   },
   "outputs": [
    {
     "data": {
      "text/plain": [
       "False"
      ]
     },
     "execution_count": 15,
     "metadata": {},
     "output_type": "execute_result"
    }
   ],
   "source": [
    "0.2 * 3 == 0.6"
   ]
  },
  {
   "cell_type": "code",
   "execution_count": 16,
   "id": "0eb1e82e",
   "metadata": {
    "ExecuteTime": {
     "end_time": "2021-08-31T20:48:13.198488Z",
     "start_time": "2021-08-31T20:48:13.194483Z"
    }
   },
   "outputs": [
    {
     "data": {
      "text/plain": [
       "True"
      ]
     },
     "execution_count": 16,
     "metadata": {},
     "output_type": "execute_result"
    }
   ],
   "source": [
    "1.2 - 0.2 == 1.0"
   ]
  },
  {
   "cell_type": "code",
   "execution_count": 17,
   "id": "1dc4f7df",
   "metadata": {
    "ExecuteTime": {
     "end_time": "2021-08-31T20:48:33.708501Z",
     "start_time": "2021-08-31T20:48:33.693720Z"
    }
   },
   "outputs": [
    {
     "data": {
      "text/plain": [
       "False"
      ]
     },
     "execution_count": 17,
     "metadata": {},
     "output_type": "execute_result"
    }
   ],
   "source": [
    "0.1 * 0.1 == 0.01"
   ]
  },
  {
   "cell_type": "code",
   "execution_count": 18,
   "id": "91700ea7",
   "metadata": {
    "ExecuteTime": {
     "end_time": "2021-08-31T20:48:42.272842Z",
     "start_time": "2021-08-31T20:48:42.266835Z"
    }
   },
   "outputs": [
    {
     "data": {
      "text/plain": [
       "False"
      ]
     },
     "execution_count": 18,
     "metadata": {},
     "output_type": "execute_result"
    }
   ],
   "source": [
    "1.2 - 0.1 == 1.1"
   ]
  },
  {
   "cell_type": "markdown",
   "id": "ffc35653",
   "metadata": {},
   "source": [
    "그 대신 동등성 테스트<sub>equality test</sub>는 사전에 정의된 정밀도 범위 내에서 수행되어야 한다. ~예를 unittest 모듈의 assertAlmostEqual() 메서드 같은 접근법을 사용하는 방법이다.~"
   ]
  },
  {
   "cell_type": "code",
   "execution_count": 20,
   "id": "9af5b71b",
   "metadata": {
    "ExecuteTime": {
     "end_time": "2021-08-31T20:52:05.722109Z",
     "start_time": "2021-08-31T20:52:05.707095Z"
    }
   },
   "outputs": [],
   "source": [
    "def a(x, y, places=7):\n",
    "    return round(abs(x-y), places) == 0"
   ]
  },
  {
   "cell_type": "code",
   "execution_count": 21,
   "id": "3c52361e",
   "metadata": {
    "ExecuteTime": {
     "end_time": "2021-08-31T20:52:14.407724Z",
     "start_time": "2021-08-31T20:52:14.403717Z"
    }
   },
   "outputs": [
    {
     "data": {
      "text/plain": [
       "True"
      ]
     },
     "execution_count": 21,
     "metadata": {},
     "output_type": "execute_result"
    }
   ],
   "source": [
    "a(0.2*3, 0.6)"
   ]
  },
  {
   "cell_type": "code",
   "execution_count": 22,
   "id": "2ab05beb",
   "metadata": {
    "ExecuteTime": {
     "end_time": "2021-08-31T20:52:26.293916Z",
     "start_time": "2021-08-31T20:52:26.279898Z"
    }
   },
   "outputs": [
    {
     "data": {
      "text/plain": [
       "True"
      ]
     },
     "execution_count": 22,
     "metadata": {},
     "output_type": "execute_result"
    }
   ],
   "source": [
    "a(0.1*0.1, 0.01)"
   ]
  },
  {
   "cell_type": "markdown",
   "id": "2f248a29",
   "metadata": {},
   "source": [
    "## 1.2.2 정수와 부동소수점 메서드"
   ]
  },
  {
   "cell_type": "markdown",
   "id": "7c003aa4",
   "metadata": {},
   "source": [
    "파이썬에서 나누기 연산자 `/` 는 항상 부동소수점을 반환한다. `//` 연산자\n",
    "<sub>floor 또는 truncation</sub>를 사용하면 정수를 반환할 수 있다. `%` 연산자<sub> module 또는 remainder</sub> 는 나머지를 구한다. `divmode(x, y)` 메서드는 x를 y로 나눌때, 몫과 나머지를 반환한다. "
   ]
  },
  {
   "cell_type": "code",
   "execution_count": 24,
   "id": "e6d8c360",
   "metadata": {
    "ExecuteTime": {
     "end_time": "2021-08-31T20:58:55.863147Z",
     "start_time": "2021-08-31T20:58:55.847133Z"
    }
   },
   "outputs": [
    {
     "data": {
      "text/plain": [
       "(7, 3)"
      ]
     },
     "execution_count": 24,
     "metadata": {},
     "output_type": "execute_result"
    }
   ],
   "source": [
    "divmod(45, 6)"
   ]
  },
  {
   "cell_type": "markdown",
   "id": "95cb3f2f",
   "metadata": {},
   "source": [
    "`round(X, n)` 메서드는 n이 음수인 경우, x를 정수 n 번째 자리에서  반올림한 값을 반환한다. n이 양수인 경우 x를 소수점 이하 n번째 자리로 반올림한 값을 반환한다."
   ]
  },
  {
   "cell_type": "code",
   "execution_count": 25,
   "id": "58329020",
   "metadata": {
    "ExecuteTime": {
     "end_time": "2021-08-31T21:00:08.739712Z",
     "start_time": "2021-08-31T21:00:08.727165Z"
    }
   },
   "outputs": [
    {
     "data": {
      "text/plain": [
       "110.0"
      ]
     },
     "execution_count": 25,
     "metadata": {},
     "output_type": "execute_result"
    }
   ],
   "source": [
    "round(113.866, -1)"
   ]
  },
  {
   "cell_type": "code",
   "execution_count": 26,
   "id": "6faf156b",
   "metadata": {
    "ExecuteTime": {
     "end_time": "2021-08-31T21:00:16.834303Z",
     "start_time": "2021-08-31T21:00:16.819283Z"
    }
   },
   "outputs": [
    {
     "data": {
      "text/plain": [
       "113.87"
      ]
     },
     "execution_count": 26,
     "metadata": {},
     "output_type": "execute_result"
    }
   ],
   "source": [
    "round(113.866, 2)"
   ]
  },
  {
   "cell_type": "markdown",
   "id": "e5150c1d",
   "metadata": {},
   "source": [
    "`as_integer_ratio()`메서드는 부동 소수점을 분수로 표현한다. "
   ]
  },
  {
   "cell_type": "code",
   "execution_count": 27,
   "id": "ef066378",
   "metadata": {
    "ExecuteTime": {
     "end_time": "2021-08-31T21:00:54.307210Z",
     "start_time": "2021-08-31T21:00:54.293167Z"
    }
   },
   "outputs": [
    {
     "data": {
      "text/plain": [
       "(11, 4)"
      ]
     },
     "execution_count": 27,
     "metadata": {},
     "output_type": "execute_result"
    }
   ],
   "source": [
    "2.75.as_integer_ratio()"
   ]
  },
  {
   "cell_type": "markdown",
   "id": "fd7eb088",
   "metadata": {},
   "source": [
    "# 1.3 복소수"
   ]
  },
  {
   "cell_type": "markdown",
   "id": "d53b0efd",
   "metadata": {},
   "source": [
    "파이썬에서 **복소수**<sub>complex number</sub> 는 $z = 3 + 4j$와 같이 생긴 부동소수점 한쌍을 갖는 **불변형**이다. `z.real`, `z.imag`, `z.conjugate()`같은 메서드로 실수부, 허수부, 켤레 복소수를 구할 수 있다. "
   ]
  },
  {
   "cell_type": "markdown",
   "id": "e10d43ec",
   "metadata": {},
   "source": [
    "복소수를 사용하려면, `cmath`모듈을 임포트해야 하는데, 이 모듈은 math 모듈에 있는 대부분의 삼각함수와 로그함수의 복소수 버전을 제공한다. 또한 `cmath.phase()`,`cmath.polar()`,`cmath.rect()`,`cmath.pi`,`cmath.e` 같은 복소수 전용 함수도 제공한다. "
   ]
  },
  {
   "cell_type": "markdown",
   "id": "308d15c7",
   "metadata": {},
   "source": [
    "# 1.4 fraction 모듈"
   ]
  },
  {
   "cell_type": "markdown",
   "id": "244f59fb",
   "metadata": {},
   "source": [
    "분수를 다루는 `fraction`모듈"
   ]
  },
  {
   "cell_type": "code",
   "execution_count": 28,
   "id": "2a245aa6",
   "metadata": {
    "ExecuteTime": {
     "end_time": "2021-08-31T21:07:17.831179Z",
     "start_time": "2021-08-31T21:07:17.813163Z"
    }
   },
   "outputs": [
    {
     "name": "stdout",
     "output_type": "stream",
     "text": [
      "테스트 통과!\n"
     ]
    }
   ],
   "source": [
    "from fractions import Fraction\n",
    "\n",
    "def rounding_floats(number1, places):\n",
    "    return round(number1, places)\n",
    "\n",
    "\n",
    "def float_to_fractions(number):\n",
    "    return Fraction(*number.as_integer_ratio())\n",
    "\n",
    "\n",
    "def get_denominator(number1, number2):\n",
    "    \"\"\" 분모를 반환한다.\"\"\"\n",
    "    a = Fraction(number1, number2)\n",
    "    return a.denominator\n",
    "\n",
    "\n",
    "def get_numerator(number1, number2):\n",
    "    \"\"\" 분자를 반환한다.\"\"\"\n",
    "    a = Fraction(number1, number2)\n",
    "    return a.numerator\n",
    "\n",
    "\n",
    "def test_testing_floats():\n",
    "    number1 = 1.25\n",
    "    number2 = 1\n",
    "    number3 = -1\n",
    "    number4 = 5/4\n",
    "    number6 = 6\n",
    "    assert(rounding_floats(number1, number2) == 1.2)\n",
    "    assert(rounding_floats(number1*10, number3) == 10)\n",
    "    assert(float_to_fractions(number1) == number4)\n",
    "    assert(get_denominator(number2, number6) == number6)\n",
    "    assert(get_numerator(number2, number6) == number2)\n",
    "    print(\"테스트 통과!\")\n",
    "\n",
    "\n",
    "if __name__ == \"__main__\":\n",
    "    test_testing_floats()"
   ]
  },
  {
   "cell_type": "markdown",
   "id": "356f7043",
   "metadata": {},
   "source": [
    "# 1.5 decimal 모듈"
   ]
  },
  {
   "cell_type": "markdown",
   "id": "1fd57a08",
   "metadata": {},
   "source": [
    "**정확한** 10진법의 부동소수점 숫자가 필요한 경우, 부동소수점 **불변** 타입인 `decimal.Decimal`을 사용한다. "
   ]
  },
  {
   "cell_type": "code",
   "execution_count": 29,
   "id": "443a2474",
   "metadata": {
    "ExecuteTime": {
     "end_time": "2021-08-31T21:08:57.985150Z",
     "start_time": "2021-08-31T21:08:57.970136Z"
    }
   },
   "outputs": [
    {
     "data": {
      "text/plain": [
       "False"
      ]
     },
     "execution_count": 29,
     "metadata": {},
     "output_type": "execute_result"
    }
   ],
   "source": [
    "sum(0.1 for i in range(10)) == 1.0"
   ]
  },
  {
   "cell_type": "code",
   "execution_count": 30,
   "id": "e75e4452",
   "metadata": {
    "ExecuteTime": {
     "end_time": "2021-08-31T21:09:35.820888Z",
     "start_time": "2021-08-31T21:09:35.808876Z"
    }
   },
   "outputs": [
    {
     "data": {
      "text/plain": [
       "True"
      ]
     },
     "execution_count": 30,
     "metadata": {},
     "output_type": "execute_result"
    }
   ],
   "source": [
    "from decimal import Decimal\n",
    "sum(Decimal(\"0.1\") for i in range(10)) == Decimal('1.0')"
   ]
  },
  {
   "cell_type": "markdown",
   "id": "44f993a3",
   "metadata": {},
   "source": [
    "decimal 모듈에는 Decimal.exp(x) 같은 내장 함수가 있어 대부분의 경우에 사\n",
    "용할 수 있다. 여기서 x는 decimal.Decimal 객체 타입이다. math와 cmath 모\n",
    "둘에도 exp() 함수가 있지만, 정확도가 필요하다면 decimal 모듈을 사용해야\n",
    "한다.\n"
   ]
  },
  {
   "cell_type": "markdown",
   "id": "5b03b1c1",
   "metadata": {},
   "source": [
    "# 1.6 2진수, 8진수, 16진수"
   ]
  },
  {
   "cell_type": "markdown",
   "id": "7cab742a",
   "metadata": {},
   "source": [
    "`bin(i)` 메서드는 정수 i의 2진수 문자열을 반환한다."
   ]
  },
  {
   "cell_type": "code",
   "execution_count": 35,
   "id": "113c4aff",
   "metadata": {
    "ExecuteTime": {
     "end_time": "2021-08-31T21:14:03.743958Z",
     "start_time": "2021-08-31T21:14:03.730259Z"
    }
   },
   "outputs": [
    {
     "data": {
      "text/plain": [
       "'0b1111100111'"
      ]
     },
     "execution_count": 35,
     "metadata": {},
     "output_type": "execute_result"
    }
   ],
   "source": [
    "bin(999)"
   ]
  },
  {
   "cell_type": "markdown",
   "id": "e3f74eb2",
   "metadata": {},
   "source": [
    "`oct(i)` 메서드는 정수 i의 8진수 문자열을 반환한다."
   ]
  },
  {
   "cell_type": "code",
   "execution_count": 36,
   "id": "2c73ca5a",
   "metadata": {
    "ExecuteTime": {
     "end_time": "2021-08-31T21:14:04.074477Z",
     "start_time": "2021-08-31T21:14:04.065469Z"
    }
   },
   "outputs": [
    {
     "data": {
      "text/plain": [
       "'0o1747'"
      ]
     },
     "execution_count": 36,
     "metadata": {},
     "output_type": "execute_result"
    }
   ],
   "source": [
    "oct(999)"
   ]
  },
  {
   "cell_type": "markdown",
   "id": "285a83c4",
   "metadata": {},
   "source": [
    "`hex(i)` 메서드는 정수 i의 16진수 문자열을 반환한다."
   ]
  },
  {
   "cell_type": "code",
   "execution_count": 37,
   "id": "8322d1a8",
   "metadata": {
    "ExecuteTime": {
     "end_time": "2021-08-31T21:14:05.021453Z",
     "start_time": "2021-08-31T21:14:05.008442Z"
    }
   },
   "outputs": [
    {
     "data": {
      "text/plain": [
       "'0x3e7'"
      ]
     },
     "execution_count": 37,
     "metadata": {},
     "output_type": "execute_result"
    }
   ],
   "source": [
    "hex(999)"
   ]
  },
  {
   "cell_type": "markdown",
   "id": "cb6176b0",
   "metadata": {},
   "source": [
    "# 1.7 연습문제"
   ]
  },
  {
   "cell_type": "markdown",
   "id": "aae62897",
   "metadata": {},
   "source": [
    "## 1.7.1 진법 변환\n",
    "\n",
    "다른 집법의 숫자를 10진법의 수로 변환한다. base는 2 이상 10이하"
   ]
  },
  {
   "cell_type": "code",
   "execution_count": 40,
   "id": "bb03994f",
   "metadata": {
    "ExecuteTime": {
     "end_time": "2021-08-31T21:18:59.835327Z",
     "start_time": "2021-08-31T21:18:59.831324Z"
    }
   },
   "outputs": [],
   "source": [
    "def convert_to_decimal(number, base):\n",
    "    multiplier, result = 1, 0\n",
    "    while number > 0:\n",
    "        result += number % 10 * multiplier\n",
    "        multiplier *= base\n",
    "        number = number // 10\n",
    "    return result"
   ]
  },
  {
   "cell_type": "code",
   "execution_count": 41,
   "id": "0bec298d",
   "metadata": {
    "ExecuteTime": {
     "end_time": "2021-08-31T21:19:00.136347Z",
     "start_time": "2021-08-31T21:19:00.123336Z"
    }
   },
   "outputs": [
    {
     "name": "stdout",
     "output_type": "stream",
     "text": [
      "1\n",
      "1\n",
      "1\n",
      "9\n"
     ]
    },
    {
     "data": {
      "text/plain": [
       "9"
      ]
     },
     "execution_count": 41,
     "metadata": {},
     "output_type": "execute_result"
    }
   ],
   "source": [
    "convert_to_decimal(1001, 2)"
   ]
  },
  {
   "cell_type": "code",
   "execution_count": 43,
   "id": "f2550bc5",
   "metadata": {
    "ExecuteTime": {
     "end_time": "2021-08-31T21:27:41.446097Z",
     "start_time": "2021-08-31T21:27:41.436526Z"
    }
   },
   "outputs": [],
   "source": [
    "def convert_from_decimal(number, base):\n",
    "    multiplier, result = 1, 0\n",
    "    while number != 0:\n",
    "        number, a = divmod(number, base)\n",
    "        result += a * multiplier\n",
    "        multiplier *= 10\n",
    "    return result"
   ]
  },
  {
   "cell_type": "code",
   "execution_count": 44,
   "id": "241335d5",
   "metadata": {
    "ExecuteTime": {
     "end_time": "2021-08-31T21:27:50.679671Z",
     "start_time": "2021-08-31T21:27:50.671666Z"
    }
   },
   "outputs": [
    {
     "data": {
      "text/plain": [
       "1001"
      ]
     },
     "execution_count": 44,
     "metadata": {},
     "output_type": "execute_result"
    }
   ],
   "source": [
    "convert_from_decimal(9, 2)"
   ]
  },
  {
   "cell_type": "code",
   "execution_count": 45,
   "id": "aeb69e2b",
   "metadata": {
    "ExecuteTime": {
     "end_time": "2021-08-31T21:29:45.218819Z",
     "start_time": "2021-08-31T21:29:45.210796Z"
    }
   },
   "outputs": [],
   "source": [
    "def convert_from_decimal2(number, base):\n",
    "    multiplier, result = 1, 0\n",
    "    while number > 0:\n",
    "        result += number % base * multiplier\n",
    "        multiplier *= 10\n",
    "        number = number // base\n",
    "    return result"
   ]
  },
  {
   "cell_type": "code",
   "execution_count": 46,
   "id": "88d3bc0f",
   "metadata": {
    "ExecuteTime": {
     "end_time": "2021-08-31T21:29:52.885318Z",
     "start_time": "2021-08-31T21:29:52.883315Z"
    }
   },
   "outputs": [
    {
     "data": {
      "text/plain": [
       "1001"
      ]
     },
     "execution_count": 46,
     "metadata": {},
     "output_type": "execute_result"
    }
   ],
   "source": [
    "convert_from_decimal2(9, 2)"
   ]
  },
  {
   "cell_type": "markdown",
   "id": "87515b72",
   "metadata": {},
   "source": [
    "## 1.7.2 최대공약수"
   ]
  },
  {
   "cell_type": "code",
   "execution_count": null,
   "id": "690158b8",
   "metadata": {},
   "outputs": [],
   "source": []
  },
  {
   "cell_type": "markdown",
   "id": "0b20aebb",
   "metadata": {},
   "source": [
    "## 1.7.3 random 모듈"
   ]
  },
  {
   "cell_type": "code",
   "execution_count": null,
   "id": "8e7321af",
   "metadata": {},
   "outputs": [],
   "source": []
  },
  {
   "cell_type": "markdown",
   "id": "bdc60ff1",
   "metadata": {},
   "source": [
    "## 1.7.4 피보나치 수열 "
   ]
  },
  {
   "cell_type": "code",
   "execution_count": null,
   "id": "0a2ca5e6",
   "metadata": {},
   "outputs": [],
   "source": []
  },
  {
   "cell_type": "markdown",
   "id": "81970564",
   "metadata": {},
   "source": [
    "## 1.7.5 소수"
   ]
  },
  {
   "cell_type": "code",
   "execution_count": null,
   "id": "69d2818f",
   "metadata": {},
   "outputs": [],
   "source": []
  },
  {
   "cell_type": "markdown",
   "id": "a610c927",
   "metadata": {},
   "source": [
    "# 1.8 넘파이 패키지"
   ]
  },
  {
   "cell_type": "code",
   "execution_count": null,
   "id": "5271290f",
   "metadata": {},
   "outputs": [],
   "source": []
  },
  {
   "cell_type": "markdown",
   "id": "d07971b0",
   "metadata": {},
   "source": [
    "**Reference**\n",
    "\n",
    "* <a href='https://github.com/SeWonKwon' ><div> <img src ='https://slid-capture.s3.ap-northeast-2.amazonaws.com/public/image_upload/6556674324ed41a289a354258718280d/964e5a8b-75ad-41fc-ae75-0ca66d06fbc7.png' align='left' /> </div></a>\n",
    "\n",
    "<br>\n",
    "\n",
    "* [파이썬 자료구조와 알고리즘, 미아 스타인](https://github.com/AstinCHOI/Python-and-Algorithms-and-Data-Structures)\n"
   ]
  }
 ],
 "metadata": {
  "kernelspec": {
   "display_name": "Python 3",
   "language": "python",
   "name": "python3"
  },
  "language_info": {
   "codemirror_mode": {
    "name": "ipython",
    "version": 3
   },
   "file_extension": ".py",
   "mimetype": "text/x-python",
   "name": "python",
   "nbconvert_exporter": "python",
   "pygments_lexer": "ipython3",
   "version": "3.8.5"
  },
  "toc": {
   "base_numbering": 1,
   "nav_menu": {},
   "number_sections": true,
   "sideBar": true,
   "skip_h1_title": false,
   "title_cell": "Table of Contents",
   "title_sidebar": "Contents",
   "toc_cell": false,
   "toc_position": {
    "height": "calc(100% - 180px)",
    "left": "10px",
    "top": "150px",
    "width": "258.9px"
   },
   "toc_section_display": true,
   "toc_window_display": false
  }
 },
 "nbformat": 4,
 "nbformat_minor": 5
}
