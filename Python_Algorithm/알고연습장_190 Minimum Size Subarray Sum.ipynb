{
 "cells": [
  {
   "cell_type": "markdown",
   "metadata": {},
   "source": [
    "<a href='https://github.com/SeWonKwon' ><div> <img src ='https://slid-capture.s3.ap-northeast-2.amazonaws.com/public/image_upload/6556674324ed41a289a354258718280d/964e5a8b-75ad-41fc-ae75-0ca66d06fbc7.png' align='left' /> </div></a>\n"
   ]
  },
  {
   "cell_type": "markdown",
   "metadata": {},
   "source": [
    "# 209. Minimum Size Subarray Sum"
   ]
  },
  {
   "cell_type": "markdown",
   "metadata": {},
   "source": [
    "source : https://leetcode.com/problems/minimum-size-subarray-sum/"
   ]
  },
  {
   "cell_type": "markdown",
   "metadata": {},
   "source": [
    "Leetcode 209"
   ]
  },
  {
   "cell_type": "markdown",
   "metadata": {},
   "source": [
    "Given an array of positive integers nums and a positive integer target, return the minimal length of a **contiguous subarray** `[numsl, numsl+1, ..., numsr-1, numsr]` of which the sum is greater than or equal to target. If there is no such subarray, return 0 instead.\n",
    "\n",
    "\n",
    "* **Example 1:**\n",
    "\n",
    "Input: target = 7, nums = [2,3,1,2,4,3]    \n",
    "Output: 2    \n",
    "Explanation: The subarray [4,3] has the minimal length under the problem constraint.    \n",
    "  \n",
    "\n",
    "* **Example 2:**\n",
    "\n",
    "Input: target = 4, nums = [1,4,4]   \n",
    "Output: 1\n",
    "\n",
    "\n",
    "* **Example 3:**\n",
    "\n",
    "Input: target = 11, nums = [1,1,1,1,1,1,1,1]    \n",
    "Output: 0\n",
    "\n",
    "\n",
    "\n",
    "* **Constraints:**\n",
    "    * 1 <= target <= $10^9$\n",
    "    * 1 <= nums.length <= $10^5$\n",
    "    * 1 <= nums[i] <= $10^5$\n",
    "\n",
    "\n",
    "  \n",
    "* **Follow up:** If you have figured out the O(n) solution, try coding another solution of which the time complexity is O(n log(n))."
   ]
  },
  {
   "cell_type": "markdown",
   "metadata": {},
   "source": [
    "```{python}\n",
    "class Solution:\n",
    "    def minSubArrayLen(self, target: int, nums: List[int]) -> int:\n",
    "        \n",
    "```"
   ]
  },
  {
   "cell_type": "markdown",
   "metadata": {},
   "source": [
    "* 189번의 sliding과 연관된 문제\n",
    "* 양수 조건이 있기 때문에 가능하다. "
   ]
  },
  {
   "cell_type": "markdown",
   "metadata": {},
   "source": [
    "**문제 idea** index를 2개를 설정해서 더하고 빼가면서 경우의 수를 찾는다. "
   ]
  },
  {
   "cell_type": "code",
   "execution_count": 38,
   "metadata": {
    "ExecuteTime": {
     "end_time": "2021-09-22T17:30:33.728497Z",
     "start_time": "2021-09-22T17:30:33.721090Z"
    }
   },
   "outputs": [],
   "source": [
    "from typing import List\n",
    "\n",
    "class Solution:\n",
    "    def minSubArrayLen(self, target: int, nums: List[int]) -> int:\n",
    "        if sum(nums)< target:\n",
    "            return 0\n",
    "        for i in range(1, len(nums)+1):\n",
    "            for a in range(0, len(nums)+1-i):\n",
    "#                 print(nums[a:a+i])\n",
    "                if sum(nums[a:a+i]) >= target:\n",
    "                    return i\n",
    "        else:\n",
    "            return 0"
   ]
  },
  {
   "cell_type": "code",
   "execution_count": 39,
   "metadata": {
    "ExecuteTime": {
     "end_time": "2021-09-22T17:30:34.091936Z",
     "start_time": "2021-09-22T17:30:34.077024Z"
    }
   },
   "outputs": [],
   "source": [
    "s = Solution()\n"
   ]
  },
  {
   "cell_type": "code",
   "execution_count": 3,
   "metadata": {
    "ExecuteTime": {
     "end_time": "2021-09-22T16:54:45.630374Z",
     "start_time": "2021-09-22T16:54:45.615364Z"
    }
   },
   "outputs": [
    {
     "data": {
      "text/plain": [
       "2"
      ]
     },
     "execution_count": 3,
     "metadata": {},
     "output_type": "execute_result"
    }
   ],
   "source": [
    "s.minSubArrayLen(7, [2,3,1,2,4,3])"
   ]
  },
  {
   "cell_type": "code",
   "execution_count": 9,
   "metadata": {
    "ExecuteTime": {
     "end_time": "2021-09-22T17:14:13.035623Z",
     "start_time": "2021-09-22T17:14:13.031619Z"
    }
   },
   "outputs": [
    {
     "data": {
      "text/plain": [
       "5"
      ]
     },
     "execution_count": 9,
     "metadata": {},
     "output_type": "execute_result"
    }
   ],
   "source": [
    "s.minSubArrayLen(15, [1,2,3,4,5])"
   ]
  },
  {
   "cell_type": "code",
   "execution_count": 5,
   "metadata": {
    "ExecuteTime": {
     "end_time": "2021-09-22T16:54:45.660393Z",
     "start_time": "2021-09-22T16:54:45.646386Z"
    }
   },
   "outputs": [
    {
     "data": {
      "text/plain": [
       "13"
      ]
     },
     "execution_count": 5,
     "metadata": {},
     "output_type": "execute_result"
    }
   ],
   "source": [
    "sum([2,3,1,2,4,3][1:6])"
   ]
  },
  {
   "cell_type": "code",
   "execution_count": 6,
   "metadata": {
    "ExecuteTime": {
     "end_time": "2021-09-22T16:54:45.675086Z",
     "start_time": "2021-09-22T16:54:45.661398Z"
    }
   },
   "outputs": [
    {
     "data": {
      "text/plain": [
       "[3, 1, 2, 4, 3]"
      ]
     },
     "execution_count": 6,
     "metadata": {},
     "output_type": "execute_result"
    }
   ],
   "source": [
    "[2,3,1,2,4,3][1:8]"
   ]
  },
  {
   "cell_type": "code",
   "execution_count": 41,
   "metadata": {
    "ExecuteTime": {
     "end_time": "2021-09-22T17:32:21.528143Z",
     "start_time": "2021-09-22T17:32:21.516133Z"
    }
   },
   "outputs": [],
   "source": [
    "from typing import List\n",
    "\n",
    "class Solution:\n",
    "    def minSubArrayLen(self, target: int, nums: List[int]) -> int:\n",
    "        S = nums[0]\n",
    "        S_I = 0 \n",
    "        L_I = 0\n",
    "        length=[]\n",
    "        if S == target:\n",
    "            return 1\n",
    "        \n",
    "        while S_I <= len(nums)-1 and L_I <= len(nums) -1:    \n",
    "            if S == target:\n",
    "                length.append(L_I - S_I + 1)\n",
    "                S -= nums[S_I]\n",
    "                S_I += 1\n",
    "            elif S > target:\n",
    "                length.append(L_I - S_I + 1)\n",
    "                S -= nums[S_I]\n",
    "                S_I += 1\n",
    "                while S > target:\n",
    "                    S -= nums[L_I]\n",
    "                    L_I -=1\n",
    "            else:\n",
    "                L_I += 1\n",
    "                try:\n",
    "                    S += nums[L_I]\n",
    "                except:\n",
    "                    break\n",
    "                \n",
    "            print(S_I,L_I,S,length)\n",
    "            if S_I > L_I:\n",
    "                S_I, L_I=L_I, S_I\n",
    "            \n",
    "        if length:\n",
    "            return min(length)\n",
    "        else: \n",
    "            return 0"
   ]
  },
  {
   "cell_type": "code",
   "execution_count": 42,
   "metadata": {
    "ExecuteTime": {
     "end_time": "2021-09-22T17:32:21.739944Z",
     "start_time": "2021-09-22T17:32:21.725507Z"
    }
   },
   "outputs": [],
   "source": [
    "s = Solution()\n"
   ]
  },
  {
   "cell_type": "code",
   "execution_count": 43,
   "metadata": {
    "ExecuteTime": {
     "end_time": "2021-09-22T17:32:22.087517Z",
     "start_time": "2021-09-22T17:32:22.080511Z"
    }
   },
   "outputs": [
    {
     "name": "stdout",
     "output_type": "stream",
     "text": [
      "0 1 5 []\n",
      "0 2 6 []\n",
      "0 3 8 []\n",
      "1 3 6 [4]\n",
      "1 4 10 [4]\n",
      "2 4 7 [4, 4]\n",
      "3 4 6 [4, 4, 3]\n",
      "3 5 9 [4, 4, 3]\n",
      "4 5 7 [4, 4, 3, 3]\n",
      "5 5 3 [4, 4, 3, 3, 2]\n"
     ]
    },
    {
     "data": {
      "text/plain": [
       "2"
      ]
     },
     "execution_count": 43,
     "metadata": {},
     "output_type": "execute_result"
    }
   ],
   "source": [
    "s.minSubArrayLen(7, [2,3,1,2,4,3])"
   ]
  },
  {
   "cell_type": "code",
   "execution_count": 44,
   "metadata": {
    "ExecuteTime": {
     "end_time": "2021-09-22T17:32:22.493689Z",
     "start_time": "2021-09-22T17:32:22.480512Z"
    }
   },
   "outputs": [
    {
     "name": "stdout",
     "output_type": "stream",
     "text": [
      "0 1 3 []\n",
      "0 2 6 []\n",
      "0 3 10 []\n",
      "0 4 15 []\n",
      "1 3 9 [5]\n",
      "1 4 14 [5]\n",
      "2 3 7 [5, 4]\n",
      "2 4 12 [5, 4]\n",
      "3 4 9 [5, 4, 3]\n"
     ]
    },
    {
     "data": {
      "text/plain": [
       "3"
      ]
     },
     "execution_count": 44,
     "metadata": {},
     "output_type": "execute_result"
    }
   ],
   "source": [
    "s.minSubArrayLen(11,[1,2,3,4,5])"
   ]
  },
  {
   "cell_type": "markdown",
   "metadata": {},
   "source": [
    "정리한 코드"
   ]
  },
  {
   "cell_type": "code",
   "execution_count": null,
   "metadata": {},
   "outputs": [],
   "source": [
    "class Solution(object):\n",
    "    def minSubArrayLen(self, s, nums):\n",
    "        \"\"\"\n",
    "        :type s: int\n",
    "        :type nums: List[int]\n",
    "        :rtype: int\n",
    "        \"\"\"\n",
    "        if sum(nums) < s:\n",
    "            return 0\n",
    "\n",
    "        ret = len(nums)\n",
    "\n",
    "        first, last = 0, 0\n",
    "        windowSum = nums[0]\n",
    "        while True:\n",
    "            if windowSum >= s:\n",
    "                ret = min(ret, last + 1 - first)\n",
    "                windowSum -= nums[first]\n",
    "                first += 1\n",
    "            elif windowSum < s and last + 1 < len(nums):\n",
    "                last += 1\n",
    "                windowSum += nums[last]\n",
    "            else:\n",
    "                break\n",
    "\n",
    "        return ret"
   ]
  },
  {
   "cell_type": "markdown",
   "metadata": {},
   "source": [
    "**Reference**\n",
    "\n",
    "* <a href='https://github.com/SeWonKwon' ><div> <img src ='https://slid-capture.s3.ap-northeast-2.amazonaws.com/public/image_upload/6556674324ed41a289a354258718280d/964e5a8b-75ad-41fc-ae75-0ca66d06fbc7.png' align='left' /> </div></a>\n",
    "\n",
    "<br>\n",
    "\n",
    "* [문제리스트](https://docs.google.com/spreadsheets/d/1UB9dwL_Q6bCnn__ZsM_aufcvay4HXQ4oZSVXTof78oo/edit#gid=1332817202)"
   ]
  }
 ],
 "metadata": {
  "kernelspec": {
   "display_name": "Python 3 (ipykernel)",
   "language": "python",
   "name": "python3"
  },
  "language_info": {
   "codemirror_mode": {
    "name": "ipython",
    "version": 3
   },
   "file_extension": ".py",
   "mimetype": "text/x-python",
   "name": "python",
   "nbconvert_exporter": "python",
   "pygments_lexer": "ipython3",
   "version": "3.8.11"
  },
  "toc": {
   "base_numbering": 1,
   "nav_menu": {},
   "number_sections": true,
   "sideBar": true,
   "skip_h1_title": false,
   "title_cell": "Table of Contents",
   "title_sidebar": "Contents",
   "toc_cell": false,
   "toc_position": {},
   "toc_section_display": true,
   "toc_window_display": false
  }
 },
 "nbformat": 4,
 "nbformat_minor": 4
}
