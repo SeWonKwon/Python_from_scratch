{
  "nbformat": 4,
  "nbformat_minor": 0,
  "metadata": {
    "colab": {
      "name": "007_Colab Forms.ipynb",
      "provenance": [],
      "collapsed_sections": [],
      "include_colab_link": true
    },
    "kernelspec": {
      "display_name": "Python 3",
      "language": "python",
      "name": "python3"
    },
    "language_info": {
      "codemirror_mode": {
        "name": "ipython",
        "version": 3
      },
      "file_extension": ".py",
      "mimetype": "text/x-python",
      "name": "python",
      "nbconvert_exporter": "python",
      "pygments_lexer": "ipython3",
      "version": "3.8.5"
    },
    "toc": {
      "base_numbering": 1,
      "nav_menu": {},
      "number_sections": true,
      "sideBar": true,
      "skip_h1_title": false,
      "title_cell": "Table of Contents",
      "title_sidebar": "Contents",
      "toc_cell": false,
      "toc_position": {},
      "toc_section_display": true,
      "toc_window_display": false
    }
  },
  "cells": [
    {
      "cell_type": "markdown",
      "metadata": {
        "id": "view-in-github",
        "colab_type": "text"
      },
      "source": [
        "<a href=\"https://colab.research.google.com/github/SeWonKwon/Python_from_scratch/blob/main/007_Colab_Forms.ipynb\" target=\"_parent\"><img src=\"https://colab.research.google.com/assets/colab-badge.svg\" alt=\"Open In Colab\"/></a>"
      ]
    },
    {
      "cell_type": "markdown",
      "metadata": {
        "id": "s7HbYNk_4mYX"
      },
      "source": [
        "# 1. List\n",
        "\n",
        "Forms provide an easy way to parameterize\n",
        " \n",
        "https://colab.research.google.com/notebooks/forms.ipynb"
      ]
    },
    {
      "cell_type": "code",
      "metadata": {
        "ExecuteTime": {
          "end_time": "2021-07-11T05:18:56.473722Z",
          "start_time": "2021-07-11T05:18:56.468822Z"
        },
        "id": "joCd_ZsL364-"
      },
      "source": [
        "names = []"
      ],
      "execution_count": 1,
      "outputs": []
    },
    {
      "cell_type": "code",
      "metadata": {
        "ExecuteTime": {
          "end_time": "2021-07-11T05:19:00.934427Z",
          "start_time": "2021-07-11T05:18:56.967758Z"
        },
        "id": "gcy4sMmr2N4H",
        "colab": {
          "base_uri": "https://localhost:8080/"
        },
        "outputId": "73fdf227-1237-47ef-e0c6-bba1c742a018"
      },
      "source": [
        "name = input('Enter name : ')\n",
        "names.append(name)\n",
        "print(names)"
      ],
      "execution_count": 2,
      "outputs": [
        {
          "output_type": "stream",
          "text": [
            "Enter name : David\n",
            "['David']\n"
          ],
          "name": "stdout"
        }
      ]
    },
    {
      "cell_type": "code",
      "metadata": {
        "ExecuteTime": {
          "end_time": "2021-07-11T05:19:02.271444Z",
          "start_time": "2021-07-11T05:19:02.259432Z"
        },
        "id": "LSjvCXFQwgI-",
        "colab": {
          "base_uri": "https://localhost:8080/"
        },
        "outputId": "0920135d-33b5-4fd0-e568-f22067efee12"
      },
      "source": [
        "name = 'Enter name :Sewon' #@param {type:\"string\"}\n",
        "names.append(name)\n",
        "print(names)"
      ],
      "execution_count": 3,
      "outputs": [
        {
          "output_type": "stream",
          "text": [
            "['David', 'Enter name :Sewon']\n"
          ],
          "name": "stdout"
        }
      ]
    },
    {
      "cell_type": "code",
      "metadata": {
        "ExecuteTime": {
          "end_time": "2021-07-11T05:19:10.604915Z",
          "start_time": "2021-07-11T05:19:10.596908Z"
        },
        "id": "CcDozg1AxYa_",
        "colab": {
          "base_uri": "https://localhost:8080/"
        },
        "outputId": "b8e61ce0-0821-4e32-d87c-46a6148cc4d4"
      },
      "source": [
        "name = 'CodeChef' #@param {type:\"string\"}\n",
        "names.append(name)\n",
        "print(names)"
      ],
      "execution_count": 4,
      "outputs": [
        {
          "output_type": "stream",
          "text": [
            "['David', 'Enter name :Sewon', 'CodeChef']\n"
          ],
          "name": "stdout"
        }
      ]
    },
    {
      "cell_type": "code",
      "metadata": {
        "id": "OFl3G-7_29rO",
        "colab": {
          "base_uri": "https://localhost:8080/",
          "height": 41
        },
        "outputId": "c56668f2-d714-4727-cbe5-940b4022957c"
      },
      "source": [
        "names[1]"
      ],
      "execution_count": 5,
      "outputs": [
        {
          "output_type": "execute_result",
          "data": {
            "application/vnd.google.colaboratory.intrinsic+json": {
              "type": "string"
            },
            "text/plain": [
              "'Enter name :Sewon'"
            ]
          },
          "metadata": {
            "tags": []
          },
          "execution_count": 5
        }
      ]
    },
    {
      "cell_type": "code",
      "metadata": {
        "id": "ZAdCDWEH7SGt",
        "colab": {
          "base_uri": "https://localhost:8080/",
          "height": 41
        },
        "outputId": "b29f0684-9f6c-4e74-e049-06c10806d4da"
      },
      "source": [
        "names[0]"
      ],
      "execution_count": 6,
      "outputs": [
        {
          "output_type": "execute_result",
          "data": {
            "application/vnd.google.colaboratory.intrinsic+json": {
              "type": "string"
            },
            "text/plain": [
              "'David'"
            ]
          },
          "metadata": {
            "tags": []
          },
          "execution_count": 6
        }
      ]
    },
    {
      "cell_type": "code",
      "metadata": {
        "id": "4HrEPrUg7fls",
        "colab": {
          "base_uri": "https://localhost:8080/",
          "height": 41
        },
        "outputId": "cf79b840-18c0-443b-cd37-fea7dc4029dd"
      },
      "source": [
        "names[-1]"
      ],
      "execution_count": 7,
      "outputs": [
        {
          "output_type": "execute_result",
          "data": {
            "application/vnd.google.colaboratory.intrinsic+json": {
              "type": "string"
            },
            "text/plain": [
              "'CodeChef'"
            ]
          },
          "metadata": {
            "tags": []
          },
          "execution_count": 7
        }
      ]
    },
    {
      "cell_type": "code",
      "metadata": {
        "id": "WPnYyv937hst",
        "colab": {
          "base_uri": "https://localhost:8080/"
        },
        "outputId": "52fb3b33-6857-43cf-da72-50d3d733f73a"
      },
      "source": [
        "names[0:2]"
      ],
      "execution_count": 8,
      "outputs": [
        {
          "output_type": "execute_result",
          "data": {
            "text/plain": [
              "['David', 'Enter name :Sewon']"
            ]
          },
          "metadata": {
            "tags": []
          },
          "execution_count": 8
        }
      ]
    },
    {
      "cell_type": "code",
      "metadata": {
        "id": "o6nXAmDB79h_",
        "colab": {
          "base_uri": "https://localhost:8080/"
        },
        "outputId": "6d7a0f56-0beb-467e-d6d5-50287ff2db05"
      },
      "source": [
        "names[1:]"
      ],
      "execution_count": 9,
      "outputs": [
        {
          "output_type": "execute_result",
          "data": {
            "text/plain": [
              "['Enter name :Sewon', 'CodeChef']"
            ]
          },
          "metadata": {
            "tags": []
          },
          "execution_count": 9
        }
      ]
    },
    {
      "cell_type": "code",
      "metadata": {
        "id": "AF8gMq2o5Kdv",
        "colab": {
          "base_uri": "https://localhost:8080/"
        },
        "outputId": "ac645879-03a2-4014-90ba-c6c52fb26602"
      },
      "source": [
        "len(names)"
      ],
      "execution_count": 10,
      "outputs": [
        {
          "output_type": "execute_result",
          "data": {
            "text/plain": [
              "3"
            ]
          },
          "metadata": {
            "tags": []
          },
          "execution_count": 10
        }
      ]
    },
    {
      "cell_type": "code",
      "metadata": {
        "id": "wgM4GWRY8oQJ"
      },
      "source": [
        "names[1] = 'Jimmy'"
      ],
      "execution_count": 11,
      "outputs": []
    },
    {
      "cell_type": "code",
      "metadata": {
        "id": "sPsqaNc182TH",
        "colab": {
          "base_uri": "https://localhost:8080/"
        },
        "outputId": "0b522407-0392-4a19-cea9-805bff58f7c1"
      },
      "source": [
        "names"
      ],
      "execution_count": 12,
      "outputs": [
        {
          "output_type": "execute_result",
          "data": {
            "text/plain": [
              "['David', 'Jimmy', 'CodeChef']"
            ]
          },
          "metadata": {
            "tags": []
          },
          "execution_count": 12
        }
      ]
    },
    {
      "cell_type": "code",
      "metadata": {
        "id": "WlqGErVp9HV4",
        "colab": {
          "base_uri": "https://localhost:8080/"
        },
        "outputId": "851019c1-7618-4cde-ae62-bea658b5aa12"
      },
      "source": [
        "names.index('CodeChef')"
      ],
      "execution_count": 13,
      "outputs": [
        {
          "output_type": "execute_result",
          "data": {
            "text/plain": [
              "2"
            ]
          },
          "metadata": {
            "tags": []
          },
          "execution_count": 13
        }
      ]
    },
    {
      "cell_type": "code",
      "metadata": {
        "ExecuteTime": {
          "end_time": "2021-07-11T05:26:50.138443Z",
          "start_time": "2021-07-11T05:26:50.129435Z"
        },
        "id": "-ZHi5fJVAM2x"
      },
      "source": [
        "scores = [100, 90, 70]\n",
        "highscores = [names, scores]"
      ],
      "execution_count": 14,
      "outputs": []
    },
    {
      "cell_type": "code",
      "metadata": {
        "ExecuteTime": {
          "end_time": "2021-07-11T05:26:53.282486Z",
          "start_time": "2021-07-11T05:26:53.276474Z"
        },
        "id": "A_QJaJ3BAaPt",
        "colab": {
          "base_uri": "https://localhost:8080/"
        },
        "outputId": "6c16fc62-aaa9-4fcd-9afd-510019d42566"
      },
      "source": [
        "print(highscores)"
      ],
      "execution_count": 15,
      "outputs": [
        {
          "output_type": "stream",
          "text": [
            "[['David', 'Jimmy', 'CodeChef'], [100, 90, 70]]\n"
          ],
          "name": "stdout"
        }
      ]
    },
    {
      "cell_type": "code",
      "metadata": {
        "ExecuteTime": {
          "end_time": "2021-07-11T05:26:55.709527Z",
          "start_time": "2021-07-11T05:26:55.690508Z"
        },
        "id": "3VYMIYluAez2",
        "colab": {
          "base_uri": "https://localhost:8080/",
          "height": 41
        },
        "outputId": "c6cf44a1-447d-4f2a-db77-65b9bed42fe9"
      },
      "source": [
        "highscores[0][0]"
      ],
      "execution_count": 16,
      "outputs": [
        {
          "output_type": "execute_result",
          "data": {
            "application/vnd.google.colaboratory.intrinsic+json": {
              "type": "string"
            },
            "text/plain": [
              "'David'"
            ]
          },
          "metadata": {
            "tags": []
          },
          "execution_count": 16
        }
      ]
    },
    {
      "cell_type": "code",
      "metadata": {
        "ExecuteTime": {
          "end_time": "2021-07-11T05:26:56.415472Z",
          "start_time": "2021-07-11T05:26:56.402441Z"
        },
        "id": "Jy6hXjA5AtUr",
        "colab": {
          "base_uri": "https://localhost:8080/"
        },
        "outputId": "27e071fe-faf1-4e3f-ce3e-621e2b4b06fc"
      },
      "source": [
        "highscores[1][0]"
      ],
      "execution_count": 17,
      "outputs": [
        {
          "output_type": "execute_result",
          "data": {
            "text/plain": [
              "100"
            ]
          },
          "metadata": {
            "tags": []
          },
          "execution_count": 17
        }
      ]
    },
    {
      "cell_type": "markdown",
      "metadata": {
        "id": "YdVG6gmpBQkx"
      },
      "source": [
        "# 2. Dictionary\n"
      ]
    },
    {
      "cell_type": "code",
      "metadata": {
        "ExecuteTime": {
          "end_time": "2021-07-11T05:30:02.098519Z",
          "start_time": "2021-07-11T05:30:02.081508Z"
        },
        "id": "NCtWDMPwBdRX"
      },
      "source": [
        "stationfares = []"
      ],
      "execution_count": 18,
      "outputs": []
    },
    {
      "cell_type": "code",
      "metadata": {
        "ExecuteTime": {
          "end_time": "2021-07-11T05:30:11.847866Z",
          "start_time": "2021-07-11T05:30:02.584793Z"
        },
        "id": "bXQOX0vuCI32",
        "colab": {
          "base_uri": "https://localhost:8080/"
        },
        "outputId": "63677d2c-91ab-4fee-aaf8-cac61dedde29"
      },
      "source": [
        "dic = {}\n",
        "station = input('Enter station : ')\n",
        "fare = int(input('Enter fare : '))\n",
        "dic['station'] = station\n",
        "dic['fare'] = fare\n",
        "stationfares.append(dic)\n",
        "print(dic)\n",
        "print(stationfares)"
      ],
      "execution_count": 19,
      "outputs": [
        {
          "output_type": "stream",
          "text": [
            "Enter station : 춘천\n",
            "Enter fare : 1500\n",
            "{'station': '춘천', 'fare': 1500}\n",
            "[{'station': '춘천', 'fare': 1500}]\n"
          ],
          "name": "stdout"
        }
      ]
    },
    {
      "cell_type": "code",
      "metadata": {
        "id": "_deoqTiDDRtA",
        "colab": {
          "base_uri": "https://localhost:8080/"
        },
        "outputId": "3b0dc769-fb14-4f8b-e852-950db09ecaca"
      },
      "source": [
        "dic = {}\n",
        "station = '\\uC555\\uAD6C\\uC815' #@param {type:\"string\"}\n",
        "fare = 1000 #@param {type:\"integer\"}\n",
        "dic['station'] = station\n",
        "dic['fare'] = fare\n",
        "stationfares.append(dic)\n",
        "print(dic)\n",
        "print(stationfares)"
      ],
      "execution_count": 20,
      "outputs": [
        {
          "output_type": "stream",
          "text": [
            "{'station': '압구정', 'fare': 1000}\n",
            "[{'station': '춘천', 'fare': 1500}, {'station': '압구정', 'fare': 1000}]\n"
          ],
          "name": "stdout"
        }
      ]
    },
    {
      "cell_type": "code",
      "metadata": {
        "id": "2eUOp7G-ELIU",
        "colab": {
          "base_uri": "https://localhost:8080/"
        },
        "outputId": "bd1d9ae1-f578-4321-cdc6-cb332583901c"
      },
      "source": [
        "stationfares[0]"
      ],
      "execution_count": 21,
      "outputs": [
        {
          "output_type": "execute_result",
          "data": {
            "text/plain": [
              "{'fare': 1500, 'station': '춘천'}"
            ]
          },
          "metadata": {
            "tags": []
          },
          "execution_count": 21
        }
      ]
    },
    {
      "cell_type": "code",
      "metadata": {
        "id": "KsKyvCRJFNCn",
        "colab": {
          "base_uri": "https://localhost:8080/"
        },
        "outputId": "c1317be8-5a7c-445a-efeb-c4a78c809281"
      },
      "source": [
        "dic.keys()"
      ],
      "execution_count": 22,
      "outputs": [
        {
          "output_type": "execute_result",
          "data": {
            "text/plain": [
              "dict_keys(['station', 'fare'])"
            ]
          },
          "metadata": {
            "tags": []
          },
          "execution_count": 22
        }
      ]
    },
    {
      "cell_type": "code",
      "metadata": {
        "colab": {
          "base_uri": "https://localhost:8080/"
        },
        "id": "7xaEn7_sFws9",
        "outputId": "fdc94b2d-ddd8-4484-e852-65c1edb57c8d"
      },
      "source": [
        "dic.values()"
      ],
      "execution_count": 23,
      "outputs": [
        {
          "output_type": "execute_result",
          "data": {
            "text/plain": [
              "dict_values(['압구정', 1000])"
            ]
          },
          "metadata": {
            "tags": []
          },
          "execution_count": 23
        }
      ]
    }
  ]
}