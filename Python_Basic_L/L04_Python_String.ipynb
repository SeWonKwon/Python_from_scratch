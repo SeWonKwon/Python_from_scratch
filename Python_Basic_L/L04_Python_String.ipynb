{
 "cells": [
  {
   "cell_type": "markdown",
   "metadata": {
    "id": "bg5ZXMV2sn1M"
   },
   "source": [
    "# 문자열(String)"
   ]
  },
  {
   "cell_type": "markdown",
   "metadata": {
    "id": "Lj_iZPKnCRP0"
   },
   "source": [
    "\n",
    "\n",
    "---\n",
    "\n"
   ]
  },
  {
   "cell_type": "markdown",
   "metadata": {
    "id": "E3Cd7WwAxDxm"
   },
   "source": [
    "## 문자열 정의\n",
    "\n",
    "* 문자, 단어 등으로 구성된 문자들의 집합\n",
    "* 시퀀스 자료형(sequence data type)"
   ]
  },
  {
   "cell_type": "code",
   "execution_count": 1,
   "metadata": {
    "ExecuteTime": {
     "end_time": "2021-06-24T18:10:23.351455Z",
     "start_time": "2021-06-24T18:10:23.335440Z"
    },
    "id": "YLGtw6y5iHPK"
   },
   "outputs": [
    {
     "name": "stdout",
     "output_type": "stream",
     "text": [
      "String\n",
      "S\n",
      "t\n",
      "r\n",
      "i\n",
      "n\n",
      "g\n"
     ]
    }
   ],
   "source": [
    "s = \"String\"\n",
    "print(s)\n",
    "print(s[0])\n",
    "print(s[1])\n",
    "print(s[2])\n",
    "print(s[3])\n",
    "print(s[4])\n",
    "print(s[5])"
   ]
  },
  {
   "cell_type": "markdown",
   "metadata": {},
   "source": [
    "유니코드 문자열이기 때문에 한국어도 제대로 지원해준다."
   ]
  },
  {
   "cell_type": "code",
   "execution_count": 4,
   "metadata": {
    "ExecuteTime": {
     "end_time": "2021-06-24T18:11:02.131622Z",
     "start_time": "2021-06-24T18:11:02.118612Z"
    },
    "id": "1t41e-64iKjc"
   },
   "outputs": [
    {
     "name": "stdout",
     "output_type": "stream",
     "text": [
      "문자열\n",
      "문\n",
      "자\n",
      "열\n"
     ]
    }
   ],
   "source": [
    "s = \"문자열\"\n",
    "print(s)\n",
    "print(s[0])\n",
    "print(s[1])\n",
    "print(s[2])"
   ]
  },
  {
   "cell_type": "markdown",
   "metadata": {
    "id": "aKsMBDZohTu4"
   },
   "source": [
    "## 문자열 생성\n",
    "\n",
    "* 파이썬에서 문자열은 작은따옴표(') 또는 큰 따옴표(\")로 표현\n"
   ]
  },
  {
   "cell_type": "code",
   "execution_count": 5,
   "metadata": {
    "ExecuteTime": {
     "end_time": "2021-06-24T18:12:45.492076Z",
     "start_time": "2021-06-24T18:12:45.484068Z"
    },
    "id": "qLh1E-1_hxR_"
   },
   "outputs": [
    {
     "name": "stdout",
     "output_type": "stream",
     "text": [
      "Hello\n",
      "파이썬은 재미있따.\n",
      "파이썬은 심플하다.\n",
      "파이썬은 문자열 처리가 뛰어나다.\n"
     ]
    }
   ],
   "source": [
    "print('Hello')\n",
    "print('파이썬은 재미있따.')\n",
    "print('''파이썬은 심플하다.''')\n",
    "print(\"\"\"파이썬은 문자열 처리가 뛰어나다.\"\"\")"
   ]
  },
  {
   "cell_type": "markdown",
   "metadata": {
    "id": "z250OOXBirgb"
   },
   "source": [
    "### 따옴표가 있는 문자열 생성\n",
    "\n",
    "* 문자열에 작은따옴표가 있을 경우, 큰따옴표로 둘러싸서 표현\n",
    "* 문자열에 큰따옴표가 있을 경우, 작은따옴표로 둘러싸서 표현\n",
    "* 이스케이프 코드 \\(백스랠쉬)를 이용하여 작은따옴표(‘)와 큰따옴표(“)를 문자열에 포함"
   ]
  },
  {
   "cell_type": "code",
   "execution_count": 14,
   "metadata": {
    "ExecuteTime": {
     "end_time": "2021-06-24T18:18:33.033678Z",
     "start_time": "2021-06-24T18:18:33.017663Z"
    },
    "id": "JYNKaVT0i0aF",
    "scrolled": true
   },
   "outputs": [
    {
     "name": "stdout",
     "output_type": "stream",
     "text": [
      "Python's built-in string classes\n",
      "Python\"s built-in string classes\n",
      "모두가 \"파이썬을 매우 쉽다.\"라고 말한다.\n",
      "모두가 \"파이썬을 매우 쉽다.\"라고 말한다.\n"
     ]
    }
   ],
   "source": [
    "string = \"Python's built-in string classes\"\n",
    "print(string)\n",
    "string = \"Python\\\"s built-in string classes\"\n",
    "print(string)\n",
    "string = '모두가 \"파이썬을 매우 쉽다.\"라고 말한다.'\n",
    "print(string)\n",
    "string = \"모두가 \\\"파이썬을 매우 쉽다.\\\"라고 말한다.\"\n",
    "print(string)"
   ]
  },
  {
   "cell_type": "markdown",
   "metadata": {},
   "source": [
    "### 이스케이프 문자(Escapte Character)\n",
    "* 특수 문자\n",
    "* 문자 앞에 백슬래시 ()를 사용\n",
    "* 문자열에서 특수 문자를 표현하는데 사용\n"
   ]
  },
  {
   "cell_type": "markdown",
   "metadata": {},
   "source": [
    "|문자|이름|\n",
    "|:----:|:----|\n",
    "|\\\\|역슬래시(backslash)|\n",
    "|\\\\'|작은 따옴표(single quote)|\n",
    "|\\\\\"|큰 따옴표(double quote)|\n",
    "|\\a|알람(alarm)|\n",
    "|\\b|백스페이스(backspace)|\n",
    "|\\f|폼 피드(form feed)|\n",
    "|\\n|라인피드(linefeed)|\n",
    "|\\r|캐리지 리턴(carriage return)|\n",
    "|\\t|수평 탭(tab)|\n",
    "|\\v|수직 탭(tab)|\n",
    "|\\ooo|8진수 문자(octal value)|\n",
    "|\\xhh|16진수 문자(hexadecimal value)|"
   ]
  },
  {
   "cell_type": "markdown",
   "metadata": {
    "id": "rM5rFj7nnx6Z"
   },
   "source": [
    "### 여러 줄이 있는 문자열 생성\n",
    "\n",
    "* 이스케이프 문자(\\\\n)를 이용하여 여러 줄이 있는 문자열 생성 가능"
   ]
  },
  {
   "cell_type": "code",
   "execution_count": 16,
   "metadata": {
    "ExecuteTime": {
     "end_time": "2021-06-24T18:26:33.957266Z",
     "start_time": "2021-06-24T18:26:33.941254Z"
    },
    "id": "XWqwisIai6ot"
   },
   "outputs": [
    {
     "name": "stdout",
     "output_type": "stream",
     "text": [
      "동해물과 백두산이 마르도 닳도록\n",
      "하느님이 보우하사 우리나라 만세\n",
      "무궁화 삼천리 화려강산\n",
      "대한 사람, 대한으로 길이 보전하세.\n"
     ]
    }
   ],
   "source": [
    "text = \"동해물과 백두산이 마르도 닳도록\\n하느님이 보우하사 우리나라 만세\\n무궁화 삼천리 화려강산\\n대한 사람, 대한으로 길이 보전하세.\"\n",
    "print(text)"
   ]
  },
  {
   "cell_type": "markdown",
   "metadata": {
    "id": "IKC5jvDpoGAT"
   },
   "source": [
    "* 작은 따옴표 3개 또는 큰 따옴표 3개를 이용하여 여러 줄이 있는 문자열 생성"
   ]
  },
  {
   "cell_type": "code",
   "execution_count": 17,
   "metadata": {
    "ExecuteTime": {
     "end_time": "2021-06-24T18:27:21.773700Z",
     "start_time": "2021-06-24T18:27:21.760688Z"
    },
    "id": "pgxgO7QwoDH8",
    "scrolled": true
   },
   "outputs": [
    {
     "name": "stdout",
     "output_type": "stream",
     "text": [
      "동해물과 백두산이 마르도 닳도록\n",
      "하느님이 보우하사 우리나라 만세\n",
      "무궁화 삼천리 화려강산\n",
      "대한 사람, 대한으로 길이 보전하세.\n"
     ]
    }
   ],
   "source": [
    "text = '''동해물과 백두산이 마르도 닳도록\n",
    "하느님이 보우하사 우리나라 만세\n",
    "무궁화 삼천리 화려강산\n",
    "대한 사람, 대한으로 길이 보전하세.'''\n",
    "print(text)"
   ]
  },
  {
   "cell_type": "markdown",
   "metadata": {
    "id": "PzXHy8FxoW5l"
   },
   "source": [
    "\n",
    "\n",
    "---\n",
    "\n"
   ]
  },
  {
   "cell_type": "markdown",
   "metadata": {
    "id": "d38eO6_roX5E"
   },
   "source": [
    "## 문자열 연산(String Operators)"
   ]
  },
  {
   "cell_type": "markdown",
   "metadata": {
    "id": "SP7ztoZhXRV4"
   },
   "source": [
    "### 문자열 더하기\n",
    "\n",
    "+ 연산자를 사용하여 문자열 연결\n"
   ]
  },
  {
   "cell_type": "code",
   "execution_count": 25,
   "metadata": {
    "ExecuteTime": {
     "end_time": "2021-06-24T18:28:41.393701Z",
     "start_time": "2021-06-24T18:28:41.384693Z"
    },
    "id": "ZuecZ1D2oPnq"
   },
   "outputs": [
    {
     "name": "stdout",
     "output_type": "stream",
     "text": [
      "동해물과백두산이\n"
     ]
    }
   ],
   "source": [
    "s1 = '동해물과'\n",
    "s2 = '백두산이'\n",
    "print(s1 + s2)"
   ]
  },
  {
   "cell_type": "markdown",
   "metadata": {
    "id": "0CPt-XMbvjWx"
   },
   "source": [
    "### 문자열 곱하기\n",
    "\n",
    "* \\* 연산자를 사용하여 문자열 반복\n"
   ]
  },
  {
   "cell_type": "code",
   "execution_count": 27,
   "metadata": {
    "ExecuteTime": {
     "end_time": "2021-06-24T18:29:58.156794Z",
     "start_time": "2021-06-24T18:29:58.149786Z"
    },
    "id": "tmpi5CMDolHd"
   },
   "outputs": [
    {
     "name": "stdout",
     "output_type": "stream",
     "text": [
      "String String String \n"
     ]
    }
   ],
   "source": [
    "s = 'String ' * 3\n",
    "print(s)"
   ]
  },
  {
   "cell_type": "markdown",
   "metadata": {
    "id": "pjKywfKlvvp5"
   },
   "source": [
    "### 문자열 길이(length)\n",
    "\n",
    "* 문자열 길이를 구하는 `len()` 함수"
   ]
  },
  {
   "cell_type": "code",
   "execution_count": 28,
   "metadata": {
    "ExecuteTime": {
     "end_time": "2021-06-24T18:30:22.097757Z",
     "start_time": "2021-06-24T18:30:22.091752Z"
    },
    "id": "vKff0qQdvtqh"
   },
   "outputs": [
    {
     "name": "stdout",
     "output_type": "stream",
     "text": [
      "7\n",
      "21\n"
     ]
    }
   ],
   "source": [
    "s = \"String \" \n",
    "print(len(s))\n",
    "print(len(s * 3))"
   ]
  },
  {
   "cell_type": "markdown",
   "metadata": {
    "id": "QaeVCcgnv_lD"
   },
   "source": [
    "### 문자열 인덱싱(indexing)\n",
    "\n",
    "* 문자열은 리스트처럼 문자 하나하나가 상대적인 주소(offset)를 가짐\n",
    "* 이 주소를 사용해 할당된 값을 가져오는 인덱싱을 사용"
   ]
  },
  {
   "cell_type": "code",
   "execution_count": 31,
   "metadata": {
    "ExecuteTime": {
     "end_time": "2021-06-24T18:33:17.807086Z",
     "start_time": "2021-06-24T18:33:17.793072Z"
    },
    "id": "yuYQOYe3v5iF"
   },
   "outputs": [
    {
     "name": "stdout",
     "output_type": "stream",
     "text": [
      "string\n",
      "s\n",
      "t\n",
      "r\n",
      "i\n",
      "n\n",
      "g\n"
     ]
    }
   ],
   "source": [
    "s = 'string'\n",
    "print(s)\n",
    "print(s[-6])\n",
    "print(s[-5])\n",
    "print(s[-4])\n",
    "print(s[-3])\n",
    "print(s[-2])\n",
    "print(s[-1])\n"
   ]
  },
  {
   "cell_type": "markdown",
   "metadata": {
    "id": "zcTUuycAw7np"
   },
   "source": [
    "### 문자열 슬라이싱(slicing)\n",
    "\n",
    "* 문자열의 주소를 이용하여 문자열을 조각(부분)을 추출"
   ]
  },
  {
   "cell_type": "code",
   "execution_count": 35,
   "metadata": {
    "ExecuteTime": {
     "end_time": "2021-06-24T18:35:47.975268Z",
     "start_time": "2021-06-24T18:35:47.963257Z"
    },
    "id": "JJUbjwcgw6PG"
   },
   "outputs": [
    {
     "name": "stdout",
     "output_type": "stream",
     "text": [
      "SuanLab - Suan Computer Laboratory\n",
      "SuanLab\n",
      "Computer\n"
     ]
    }
   ],
   "source": [
    "s = \"SuanLab - Suan Computer Laboratory\"\n",
    "print(s)\n",
    "print(s[0:7])\n",
    "print(s[-19:-11])"
   ]
  },
  {
   "cell_type": "markdown",
   "metadata": {
    "id": "-drrAXi3xY3y"
   },
   "source": [
    "\n",
    "\n",
    "---\n",
    "\n"
   ]
  },
  {
   "cell_type": "markdown",
   "metadata": {
    "id": "ZYyzer0TxVll"
   },
   "source": [
    "## 문자열 메소드(String Methods)\n",
    "\n",
    "* 파이썬은 문자열 처리를 아주 쉽게 처리할 수 있는 많은 메소드들을 제공\n",
    "* 문자열을 다루는 주요 메소드들을 표로 정리\n",
    "\n"
   ]
  },
  {
   "cell_type": "markdown",
   "metadata": {},
   "source": [
    "\n",
    "| 함수 | 설명 |\n",
    "|:---|:---|\n",
    "| `capitalize()` | 첫 문자를 대문자로하고,나머지 문자를 소문자로 하는 문자열 반환 |\n",
    "| `casefold()`| 모든 대소문자 구분을 제거 |\n",
    "| `count(sub, [, start[, end]])` | [start,end] 범위에서 부분 문자열 sub의 중복되지 않은 수를 반환 |\n",
    "|` find(sub [, start [, end]])` | [start,end]에서 부분 문자열 sub가 문자열의 가장작은 인덱스를 반환. sub가 발견되지 않는경우는 -1 반환 |\n",
    "| `rfind(sub [, start [, end]])` | [start,end]에서 부분 문자열 sub가 문자열의 가장작은 큰 인덱스를 반환. sub가 발견되지 않는경우는 -1 반환 |\n",
    "| `index(sub [, start [, end]])` | find()과 유사하지만 부분 문자열 sub가 없으면ValueError 발생|\n",
    "|`rindex(sub [, start [, end]])` | rfind()과 유사하지만 부분 문자열 sub가 없으면ValueError 발생|\n",
    "| `isalnum()` | 문자열의 모든 문자가 영숫자로 1개 이상 있으면 True, 아니면 False 반환 |\n",
    "| `isalpha()` | 문자열의 모든 문자가 영문자로 1개 이상 있으면 True, 아니면 False 반환 |\n",
    "| `isdecimal()` | 문자열의 모든 문자가 10진수 문자이며 1개 이상 있을 때 True, 그렇지 않으면 False 반환 |\n",
    "| `isdigit()` |문자열의 모든 문자가 숫자이며 1개 이상 있을 때 True, 그렇지 않으면 False 반환 |\n",
    "| `isnumeric()` | 문자열의 모든 문자가 수치형이며 1개 이상 있을 때 True, 그렇지 않으면 False 반환 |\n",
    "| `isidentifier() ` | 문자열이 유효한 식별자인 경우 True 반환 |\n",
    "| `isspace()` |문자열 내에 공백 문자가 있고, 문자가 1개 이상 있으면 True, 그렇지 않으면 False |\n",
    "|`istitle()` |문자열이 제목이 있는 문자열에 문자가 1개 이상 있으면 True, 그렇지 않으면 False |\n",
    "| `islower()`| 문자열의 모든 문자가 소문자이며 1개 이상 있을 때 True, 그렇지 않으면 False 반환 |\n",
    "|`isupper()`|문자열의 문자가 모두 대문자에 문자가 1개 이상 있으면 True, 그렇지 않으면 False|\n",
    "|`join(iterable)`|iterable에 있는 문자열에 연결된 문자열을 반환|\n",
    "| ` center(width [, fillchar])` | 길이 너비만큼 중앙정렬된 문자열 반환 |\n",
    "| ` ljust(width [, fillchar])` | 너비만큼의 문자열에서 왼쪽 정렬된 문자열을 반환 |\n",
    "| `rjust(width [, fillchar])` | 너비만큼의 문자열에서 오른쪽 정렬된 문자열을 반환 |\n",
    "| `lower()` | 모든 대소문자가 소문자로 변환된 문자열을 반환 |\n",
    "| `upper()` | 문자열에서 모든 문자를대문자로 변환한 문자열을 반환 |\n",
    "| `title()` | 문자열에서 첫 글자만 대문자이고 나머지는 소문자인 문자열 반환 |\n",
    "| `swapcase()`| 문자열에서 소문자를 대문자로 대문자를 소문자로 변환한 문자열 반환 |\n",
    "| `strip([chars])` | 문자열 양쪽에 지정된chars 또는 공백을 제거한 문자열을 반환 |\n",
    "|`lstrip([chars ] ) ` | 문자열 왼쪽에 지정된 chars 또는 공백을 제거한 문자열을 반환 |\n",
    "| `rstrip([chars ] ) ` | 문자열 오른쪽에 지정된 chars 또는 공백을 제거한 문자열을 반환|\n",
    "| `partition(sep)` | 문자열에서 첫번째 sep를 기준으로 분할하여 3개의 튜플을 반환 |\n",
    "| `rpartition(sep)` | 문자열에서 마지막 sep를 기준으로 분할하여 3개의 튜플을 반환 |\n",
    "| `replace(old, new[, count])` | 문자열의 모든 old를 new로 교체한 문자열을 반환|\n",
    "| `split(sep=None, maxsplit=1)` | sep를 구분자 문자열로 사용하여 문자열의 단어 목록을 반환 |\n",
    "| `rsplit(sep=None, maxsplit=1)` | sep를 구분자 문자열로 사용하여 문자열의 단어 목록을 반환 |\n",
    "| `splitlines([keepends ] ) ` | 문자열에서 라인 단위로 구분하여 리스트를 반환 |\n",
    "| `startswith(prefix [, start[, end]])` | [start, end] 범위에서 지정한 prefix로 끝나면 True, 아니면 False 반환 |\n",
    "|`endswith(suffix [, start[, end]])` | [start, end] 범위에서 지정한 suffix로 끝나면 True, 아니면 False 반환 |\n",
    "| `zfill(width)` | 너비 만큼의 문자열에서 비어있는 부분에 `0`이 채워진 문자열 반환 |\n",
    "\n",
    "\n",
    "\n",
    "\n"
   ]
  },
  {
   "cell_type": "markdown",
   "metadata": {
    "id": "5VO3DGMAyxHc"
   },
   "source": [
    "### capitalize() / casefold()\n",
    "\n",
    "* 문자열 \"string\"에 대해 `capitalize()`를 실행하면, 첫 문자가 대문자인 \"String\" 문자열로 변환\n",
    "* 문자열 \"String\"에 대해 `casefold()`를 실행하면, 모든 문자가 소문자인 \"string\" 문자열로 변환"
   ]
  },
  {
   "cell_type": "code",
   "execution_count": 37,
   "metadata": {
    "ExecuteTime": {
     "end_time": "2021-06-24T18:50:33.128681Z",
     "start_time": "2021-06-24T18:50:33.116670Z"
    },
    "id": "cXTaqtYbxNb3"
   },
   "outputs": [
    {
     "name": "stdout",
     "output_type": "stream",
     "text": [
      "string\n",
      "String\n",
      "string\n"
     ]
    }
   ],
   "source": [
    "s = \"string\"\n",
    "print(s)\n",
    "s = s.capitalize()\n",
    "print(s)\n",
    "s = s.casefold()\n",
    "print(s)"
   ]
  },
  {
   "cell_type": "markdown",
   "metadata": {
    "id": "XE4t6o1f0haA"
   },
   "source": [
    "### count()\n",
    "\n",
    "* 문자열 \"string string\"에 포함된 문자 's'의 갯수를 반환하도록 `count()`를 실행\n",
    "* 문자 's'가 총 2개 존재하므로 2를 반환\n",
    "* 부분 문자열 \"str\"이 몇개인지 반환하는 것도 가능하고, 부분 문자열 \"str\"이 총 2개 존재하므로 2를 반환"
   ]
  },
  {
   "cell_type": "code",
   "execution_count": 40,
   "metadata": {
    "ExecuteTime": {
     "end_time": "2021-06-24T18:51:29.996399Z",
     "start_time": "2021-06-24T18:51:29.981386Z"
    },
    "id": "4o34mT_N0UDY"
   },
   "outputs": [
    {
     "name": "stdout",
     "output_type": "stream",
     "text": [
      "string string\n",
      "2\n",
      "2\n"
     ]
    }
   ],
   "source": [
    "s = \"string string\"\n",
    "print(s)\n",
    "print(s.count('s'))\n",
    "print(s.count('str'))"
   ]
  },
  {
   "cell_type": "markdown",
   "metadata": {
    "id": "8k0mftqo0yVe"
   },
   "source": [
    "### find() / rfind()\n",
    "\n",
    "* 문자열 \"string string\"에서 문자 's'의 해당 위치를 `find()`를 통해 반환\n",
    "* 문자열 \"string string\"에서 부분 문자열 \"ing\"의 해당 위치를 `find()`를 통해 반환\n",
    "* 문자열 \"string string\"에서 문자 's'를 해당 위치를 `rfind()`를 통해 오른쪽부터 탐색하여 가장 큰 인덱스를 반환\n",
    "* 문자열 \"string string\"에서 부분 문자열 \"ring\"를 해당 위치를 `rfind()`를 통해 오른쪽부터 탐색하여 가장 큰 인덱스를 반환"
   ]
  },
  {
   "cell_type": "code",
   "execution_count": 46,
   "metadata": {
    "ExecuteTime": {
     "end_time": "2021-06-24T18:54:52.733393Z",
     "start_time": "2021-06-24T18:54:52.721750Z"
    },
    "id": "1TDT5Akz0nQn"
   },
   "outputs": [
    {
     "name": "stdout",
     "output_type": "stream",
     "text": [
      "0\n",
      "3\n",
      "7\n",
      "9\n",
      "-1\n"
     ]
    }
   ],
   "source": [
    "s = 'string string'\n",
    "print(s.find('s'))\n",
    "print(s.find('ing'))\n",
    "print(s.rfind('s'))\n",
    "print(s.rfind('ring'))\n",
    "print(s.rfind('z'))"
   ]
  },
  {
   "cell_type": "markdown",
   "metadata": {
    "id": "T9p8ylMq1-u7"
   },
   "source": [
    "### index() / rindex()\n",
    "\n",
    "* 문자열 \"string string\"에서 문자 's'의 해당 위치를 `index()`를 통해 반환\n",
    "* 문자열 \"string string\"에서 부분 문자열 \"ing\"의 해당 위치를 `index()`를 통해 반환\n",
    "* 문자열 \"string string\"에서 문자 's'를 해당 위치를 `rindex()`를 통해 오른쪽부터 탐색하여 가장 큰 인덱스를 반환\n",
    "* 문자열 \"string string\"에서 부분 문자열 \"ring\"를 해당 위치를 `rindex()`를 통해 오른쪽부터 탐색하여 가장 큰 인덱스를 반환\n",
    "* 문자열 \"string string\"에서 문자 'z'를 해당 위치를 `rindex()` 함수를 통해 오른쪽부터 탐색하지만 찾을 수 없어서 'ValueError' 발생"
   ]
  },
  {
   "cell_type": "code",
   "execution_count": 49,
   "metadata": {
    "ExecuteTime": {
     "end_time": "2021-06-24T18:55:12.489976Z",
     "start_time": "2021-06-24T18:55:12.475962Z"
    },
    "id": "tzp-p20519Bv"
   },
   "outputs": [
    {
     "name": "stdout",
     "output_type": "stream",
     "text": [
      "0\n",
      "3\n",
      "7\n",
      "9\n",
      "-1\n"
     ]
    }
   ],
   "source": [
    "s = 'string string'\n",
    "print(s.index('s'))\n",
    "print(s.index('ing'))\n",
    "print(s.rindex('s'))\n",
    "print(s.rindex('ring'))\n",
    "print(s.rfind('z'))\n",
    "# print(s.rindex('z')) # ValueError"
   ]
  },
  {
   "cell_type": "markdown",
   "metadata": {
    "id": "prav01jjje_G"
   },
   "source": [
    "### isalnum()\n",
    "\n",
    "* `isalnum()`은 문자열에 알파벳이나 숫자가 1개 이상 있으면 True 반환\n",
    "* 문자열 \"string\"은 알파벳으로 구성 되었으므로 True 반환\n",
    "* 문자열 \"한글\"은 알파벳으로 구성 되어있으므로 True 반환\n",
    "* 문자열 \"!@#\"은 특수기호로 구성 되어있으므로 False 반환\n",
    "* 문자열 \"123\"은 숫자들로 구성 되어있으므로 True 반환"
   ]
  },
  {
   "cell_type": "code",
   "execution_count": 57,
   "metadata": {
    "ExecuteTime": {
     "end_time": "2021-06-24T18:57:09.670903Z",
     "start_time": "2021-06-24T18:57:09.655888Z"
    },
    "id": "6H6gBF44DIke"
   },
   "outputs": [
    {
     "name": "stdout",
     "output_type": "stream",
     "text": [
      "True\n",
      "True\n",
      "False\n",
      "True\n"
     ]
    }
   ],
   "source": [
    "print(\"string\".isalnum())\n",
    "print(\"한글\".isalnum())\n",
    "print(\"!@#\".isalnum())\n",
    "print(\"123\".isalnum())"
   ]
  },
  {
   "cell_type": "markdown",
   "metadata": {
    "id": "eHIt6rNFYCGE"
   },
   "source": [
    "### isalpha()\n",
    "\n",
    "* `isalpha()`는 문자열에 알파벳이 1개 이상 있으면 True 반환\n",
    "* 문자열 \"string\"은 알파벳으로 구성 되었으므로 True 반환\n",
    "* 문자열 \"한글\"은 알파벳으로 구성 되어있으므로 True 반환\n",
    "* 문자열 \"!@#\"은 특수기호로 구성 되어있으므로 False 반환\n",
    "* 문자열 \"123\"은 숫자들로 구성 되어있으므로 Flase 반환"
   ]
  },
  {
   "cell_type": "code",
   "execution_count": 58,
   "metadata": {
    "ExecuteTime": {
     "end_time": "2021-06-24T18:57:28.095186Z",
     "start_time": "2021-06-24T18:57:28.083174Z"
    },
    "id": "_dFo8ynlmd_B"
   },
   "outputs": [
    {
     "name": "stdout",
     "output_type": "stream",
     "text": [
      "True\n",
      "True\n",
      "False\n",
      "False\n"
     ]
    }
   ],
   "source": [
    "print(\"string\".isalpha())\n",
    "print(\"한글\".isalpha())\n",
    "print(\"!@#\".isalpha())\n",
    "print(\"123\".isalpha())"
   ]
  },
  {
   "cell_type": "markdown",
   "metadata": {
    "id": "_WGNBgfilCZg"
   },
   "source": [
    "### isdecimal()\n",
    "\n",
    "* `isdecimal()`는 문자열의 모든 문자가 10진수 문자이면 True 반환\n",
    "* 문자열 \"123\"은 모두 10진수 문자열이므로 True 반환\n",
    "* 문자열 \"1.23\"은 실수형 문자열이므로 False 반환"
   ]
  },
  {
   "cell_type": "code",
   "execution_count": 60,
   "metadata": {
    "ExecuteTime": {
     "end_time": "2021-06-24T18:58:10.527914Z",
     "start_time": "2021-06-24T18:58:10.515905Z"
    },
    "id": "E2kVKYNHjtlN"
   },
   "outputs": [
    {
     "name": "stdout",
     "output_type": "stream",
     "text": [
      "False\n",
      "False\n",
      "False\n",
      "True\n",
      "False\n"
     ]
    }
   ],
   "source": [
    "print(\"123\".isdecimal())\n",
    "print(\"1.23\".isdecimal())"
   ]
  },
  {
   "cell_type": "markdown",
   "metadata": {
    "id": "J0pJ-8T_Yhlx"
   },
   "source": [
    "### isdigit()\n",
    "\n",
    "* `isdigit()`는 문자열의 모든 문자가 숫자일 때 True 반환\n",
    "* 문자열 \"123\"은 모든 문자가 숫자에 해당하므로 True 반환\n",
    "* 문자열 \"1.23\"은 문자 중 숫자에 해당안되는 . 이 존재하여 False"
   ]
  },
  {
   "cell_type": "code",
   "execution_count": 64,
   "metadata": {
    "ExecuteTime": {
     "end_time": "2021-06-24T18:59:40.216936Z",
     "start_time": "2021-06-24T18:59:40.200922Z"
    },
    "id": "oOsCWfMhmjHo"
   },
   "outputs": [
    {
     "name": "stdout",
     "output_type": "stream",
     "text": [
      "True\n",
      "False\n"
     ]
    }
   ],
   "source": [
    "print(\"123\".isdigit())\n",
    "print(\"1.23\".isdigit())"
   ]
  },
  {
   "cell_type": "markdown",
   "metadata": {
    "id": "2jPib-Z8ZAlj"
   },
   "source": [
    "### isnumeric()\n",
    "\n",
    "* `isnumeric()`는 문자열의 모든 문자가 수치형일 때 True 반환\n",
    "* 문자열 \"123\"은 모든 문자가 숫자에 해당하므로 True 반환\n",
    "* 문자열 \"1.23\"은 문자 중 수치형에 해당안되는 . 이 존재하여 False"
   ]
  },
  {
   "cell_type": "code",
   "execution_count": 66,
   "metadata": {
    "ExecuteTime": {
     "end_time": "2021-06-24T19:00:29.962216Z",
     "start_time": "2021-06-24T19:00:29.948198Z"
    },
    "id": "J5EsHyjfpidQ"
   },
   "outputs": [
    {
     "name": "stdout",
     "output_type": "stream",
     "text": [
      "True\n",
      "False\n",
      "False\n"
     ]
    }
   ],
   "source": [
    "print(\"123\".isnumeric())\n",
    "print(\"1.23\".isnumeric())\n",
    "print(\"1342e-4\".isnumeric())"
   ]
  },
  {
   "cell_type": "markdown",
   "metadata": {
    "id": "krM9QrrEp5TB"
   },
   "source": [
    "### isidentifier()\n",
    "\n",
    "* `isidentifier()`는 문자열이 파이썬에서 사용하는 식별자인 경우 True 반환\n",
    "* 문자열 \"123\"은 식별자로 사용되지 않는 문자열이라서 False 반환\n",
    "* 문자열 \"True\"는 식별자로 사용되기 때문에 True 반환\n",
    "* 문자열 \"print\"는 식별자로 사용되기 때문에 True 반환"
   ]
  },
  {
   "cell_type": "code",
   "execution_count": 67,
   "metadata": {
    "ExecuteTime": {
     "end_time": "2021-06-24T19:01:27.236958Z",
     "start_time": "2021-06-24T19:01:27.232954Z"
    },
    "id": "ir5WknFUpO7r"
   },
   "outputs": [
    {
     "name": "stdout",
     "output_type": "stream",
     "text": [
      "False\n",
      "True\n",
      "True\n"
     ]
    }
   ],
   "source": [
    "print('123'.isidentifier())\n",
    "print(\"True\".isidentifier())\n",
    "print(\"print\".isidentifier())"
   ]
  },
  {
   "cell_type": "markdown",
   "metadata": {
    "id": "jHm6aRyAlypa"
   },
   "source": [
    "### isspace()\n",
    "\n",
    "* 문자열 \" \"은 문자열 내에 공백 문자가 있어서 True 반환\n",
    "* 문자열 \" 1 \"은 문자열 내에 공백 아닌 문자가 있어서 False 반환"
   ]
  },
  {
   "cell_type": "code",
   "execution_count": 68,
   "metadata": {
    "ExecuteTime": {
     "end_time": "2021-06-24T19:02:32.185734Z",
     "start_time": "2021-06-24T19:02:32.182732Z"
    },
    "id": "x0Nmi2NtqQpI"
   },
   "outputs": [
    {
     "name": "stdout",
     "output_type": "stream",
     "text": [
      "True\n",
      "False\n"
     ]
    }
   ],
   "source": [
    "print(\" \".isspace())\n",
    "print(\" 1 \".isspace())"
   ]
  },
  {
   "cell_type": "markdown",
   "metadata": {
    "id": "SG3Odc9fIHpT"
   },
   "source": [
    "### istitle()\n",
    "\n",
    "* 문자열 \"String\"은 문자열 내에 제목과 같이 첫 글자가 대문자여서 True 반환\n",
    "* 문자열 \"STRING\"은 모든 문자가 대문자이기 때문에 False 반환"
   ]
  },
  {
   "cell_type": "code",
   "execution_count": 69,
   "metadata": {
    "ExecuteTime": {
     "end_time": "2021-06-24T19:02:58.801078Z",
     "start_time": "2021-06-24T19:02:58.789066Z"
    },
    "id": "c7eht5HErgrr"
   },
   "outputs": [
    {
     "name": "stdout",
     "output_type": "stream",
     "text": [
      "True\n",
      "False\n"
     ]
    }
   ],
   "source": [
    "print(\"String\".istitle())\n",
    "print(\"STRING\".istitle())"
   ]
  },
  {
   "cell_type": "markdown",
   "metadata": {
    "id": "ctZKMIrHI8-A"
   },
   "source": [
    "### islower()\n",
    "\n",
    "* 문자열 \"string\"은 모든 문자가 소문자여서 True 반환\n",
    "* 문자열 \"String\"은 첫 문자가 대문자여서 False 반환"
   ]
  },
  {
   "cell_type": "code",
   "execution_count": 70,
   "metadata": {
    "ExecuteTime": {
     "end_time": "2021-06-24T19:03:31.441052Z",
     "start_time": "2021-06-24T19:03:31.431478Z"
    },
    "id": "xznSyZT9lzp5"
   },
   "outputs": [
    {
     "name": "stdout",
     "output_type": "stream",
     "text": [
      "True\n",
      "False\n"
     ]
    }
   ],
   "source": [
    "print(\"string\".islower())\n",
    "print(\"String\".islower())"
   ]
  },
  {
   "cell_type": "markdown",
   "metadata": {
    "id": "KVnECEUXI_MN"
   },
   "source": [
    "### isupper() 함수\n",
    "\n",
    "* 문자열 \"STRING\"은 모든 문자가 대문자여서 True 반환\n",
    "* 문자열 \"String\"은 첫 문자만 대문자여서 False 반환"
   ]
  },
  {
   "cell_type": "code",
   "execution_count": 71,
   "metadata": {
    "ExecuteTime": {
     "end_time": "2021-06-24T19:04:22.817985Z",
     "start_time": "2021-06-24T19:04:22.804974Z"
    },
    "id": "ZAmXy2lCqIbi"
   },
   "outputs": [
    {
     "name": "stdout",
     "output_type": "stream",
     "text": [
      "True\n",
      "False\n"
     ]
    }
   ],
   "source": [
    "print(\"STRING\".isupper())\n",
    "print(\"String\".isupper())"
   ]
  },
  {
   "cell_type": "markdown",
   "metadata": {
    "id": "mGdbqGsSr8Ee"
   },
   "source": [
    "### join()\n",
    "\n",
    "* 문자열 \"String\"에 대해서 `join()`으로 공백 문자 ' '를 문자 사이마다 추가한 문자열 \"S t r i n g\"을 반환\n",
    "* 문자열 \"String\"에 대해서 `join()` 으로 공백 문자 '_'를 문자 사이마다 추가한 문자열 \"S_t_r_i_n_g\"을 반환\n",
    "* 문자열 \"String\"에 대해서 `join()` 으로 공백 문자 '|'를 문자 사이마다 추가한 문자열 \"S|t|r|i|n|g\"을 반환"
   ]
  },
  {
   "cell_type": "code",
   "execution_count": 73,
   "metadata": {
    "ExecuteTime": {
     "end_time": "2021-06-24T19:05:30.906962Z",
     "start_time": "2021-06-24T19:05:30.901959Z"
    },
    "id": "A8tTe2l3rwLw"
   },
   "outputs": [
    {
     "name": "stdout",
     "output_type": "stream",
     "text": [
      "S t r i n g\n",
      "S_t_r_i_n_g\n",
      "S|t|r|i|n|g\n"
     ]
    }
   ],
   "source": [
    "s = \"String\"\n",
    "print(' '.join(s))\n",
    "print('_'.join(s))\n",
    "print('|'.join(s))"
   ]
  },
  {
   "cell_type": "markdown",
   "metadata": {
    "id": "zDmq0ExIsdtu"
   },
   "source": [
    "### center() / ljust() / rjust()\n",
    "\n",
    "* 문자열 \"String\"에 대해서 `center()`를 사용하여 너비 10에 해당하는 문자열 길이에 가운데 정렬한 문자열 '  String  '로 변환\n",
    "* 문자열 \"String\"에 대해서 `ljust()`를 사용하여 너비 10에 해당하는 문자열 길이에 왼쪽 정렬한 문자열 'String    '로 변환\n",
    "* 문자열 \"String\"에 대해서 `rjust()`를 사용하여 너비 10에 해당하는 문자열 길이에 오른쪽 정렬한 문자열 '    String'로 변환"
   ]
  },
  {
   "cell_type": "code",
   "execution_count": 75,
   "metadata": {
    "ExecuteTime": {
     "end_time": "2021-06-24T19:07:17.964907Z",
     "start_time": "2021-06-24T19:07:17.950348Z"
    },
    "id": "sFA02kX3sf2q"
   },
   "outputs": [
    {
     "name": "stdout",
     "output_type": "stream",
     "text": [
      "'  String  '\n",
      "'String    '\n",
      "'    String'\n"
     ]
    }
   ],
   "source": [
    "print(\"'\"+\"String\".center(10)+\"'\")\n",
    "print(\"'\"+\"String\".ljust(10)+\"'\")\n",
    "print(\"'\"+\"String\".rjust(10)+\"'\")"
   ]
  },
  {
   "cell_type": "markdown",
   "metadata": {
    "id": "-iP2QrFn0kWZ"
   },
   "source": [
    "### lower() / upper() / title() / swapcase()\n",
    "\n",
    "* 문자열 \"String\"을 `lower()`를 이용하여 모든 문자가 소문자로 변환된 \"string\" 반환\n",
    "* 문자열 \"String\"을 `upper()`를 이용하여 모든 문자가 대문자로 변환된 \"STRING\" 반환\n",
    "* 문자열 \"string\"을 `title()`를 이용하여 첫 문자가 대문자로 변환된 \"String\" 반환\n",
    "* 문자열 \"String\"을 `swapcase()`를 이용하여 대문자는 소문자로 변환되고 소문자는 대문자로 변환된 \"sTRING\" 반환\n"
   ]
  },
  {
   "cell_type": "code",
   "execution_count": 76,
   "metadata": {
    "ExecuteTime": {
     "end_time": "2021-06-24T19:08:18.957143Z",
     "start_time": "2021-06-24T19:08:18.940127Z"
    },
    "id": "K8JmvhjC0j-e"
   },
   "outputs": [
    {
     "name": "stdout",
     "output_type": "stream",
     "text": [
      "string\n",
      "STRING\n",
      "String\n",
      "sTRING\n"
     ]
    }
   ],
   "source": [
    "print(\"String\".lower())\n",
    "print(\"String\".upper())\n",
    "print(\"string\".title())\n",
    "print(\"String\".swapcase())"
   ]
  },
  {
   "cell_type": "markdown",
   "metadata": {
    "id": "oyk35mDo1d2M"
   },
   "source": [
    "### strip() / lstrip() / rstrip()\n",
    "\n",
    "* 양쪽 공백이 포함된 문자열 \"  String  \"을 `strip()`를 통해 공백 제거\n",
    "* 양쪽 공백이 포함된 문자열 \"  String  \"을 `lstrip()`를 통해 왼쪽 공백 제거\n",
    "* 양쪽 공백이 포함된 문자열 \"  String  \"을 `rstrip()`를 통해 오른쪽 공백 제거"
   ]
  },
  {
   "cell_type": "code",
   "execution_count": 77,
   "metadata": {
    "ExecuteTime": {
     "end_time": "2021-06-24T19:09:21.185015Z",
     "start_time": "2021-06-24T19:09:21.168922Z"
    },
    "id": "Y8D90szl1YOa"
   },
   "outputs": [
    {
     "name": "stdout",
     "output_type": "stream",
     "text": [
      "String\n",
      "String  \n",
      "  String\n"
     ]
    }
   ],
   "source": [
    "print(\"  String  \".strip())\n",
    "print(\"  String  \".lstrip())\n",
    "print(\"  String  \".rstrip())"
   ]
  },
  {
   "cell_type": "markdown",
   "metadata": {
    "id": "zPLZHaXu7OYj"
   },
   "source": [
    "### partition() / rpartition()\n",
    "\n",
    "* 문자열 \"String\"을 `partition()`를 이용하여 문자 't' 기준으로 분할\n",
    "* 문자열 \"String String\"을 `rpartition()`를 이용하여 마지막 문자 'S'를 기준으로 분할"
   ]
  },
  {
   "cell_type": "code",
   "execution_count": 80,
   "metadata": {
    "ExecuteTime": {
     "end_time": "2021-06-24T19:10:49.565567Z",
     "start_time": "2021-06-24T19:10:49.547995Z"
    },
    "id": "fhmrvPHl4I6Q"
   },
   "outputs": [
    {
     "name": "stdout",
     "output_type": "stream",
     "text": [
      "('S', 't', 'ring')\n",
      "('String ', 'S', 'tring')\n"
     ]
    }
   ],
   "source": [
    "print(\"String\".partition('t'))\n",
    "print(\"String String\".rpartition('S'))"
   ]
  },
  {
   "cell_type": "markdown",
   "metadata": {
    "id": "8YF_Rheq7fe6"
   },
   "source": [
    "### replace()\n",
    "\n",
    "* 문자열 \"String\"을 `replace()`를 이용해 문자열 \"Str\"을 문자 'R'로 교체"
   ]
  },
  {
   "cell_type": "code",
   "execution_count": 81,
   "metadata": {
    "ExecuteTime": {
     "end_time": "2021-06-24T19:11:15.442234Z",
     "start_time": "2021-06-24T19:11:15.430223Z"
    },
    "id": "nNuELc1q7Wwf"
   },
   "outputs": [
    {
     "name": "stdout",
     "output_type": "stream",
     "text": [
      "Ring\n"
     ]
    }
   ],
   "source": [
    "print(\"String\".replace(\"Str\", 'R'))"
   ]
  },
  {
   "cell_type": "markdown",
   "metadata": {
    "id": "rIP8GXbM7p3w"
   },
   "source": [
    "### split() / rsplit() / splitlines()\n",
    "\n",
    "* 문자열 \"1 2 3\"을 `split()`의 기본 구분자를 이용하여 '1', '2', '3' 으로 구분\n",
    "* 문자열 \"1_2_3\"을 `split()`으로 구분자 '_'를 이용하여 '1', '2', '3' 으로 구분\n",
    "* 문자열 \"1 2 3\"을 `rsplit()`으로 구분자 '_'를 이용하여 오른쪽부터 1번만 구분하여 '1_2', '3' 으로 구분\n",
    "* 문자열 \"123\\n123\\n123\\n\"을 `splitlines()` 함수를 이용하여 라인 단위로 구분하여 '123, '123, '123 반환"
   ]
  },
  {
   "cell_type": "code",
   "execution_count": 87,
   "metadata": {
    "ExecuteTime": {
     "end_time": "2021-06-24T19:13:47.445228Z",
     "start_time": "2021-06-24T19:13:47.432217Z"
    },
    "id": "Ns3ZMQJ17mv7"
   },
   "outputs": [
    {
     "name": "stdout",
     "output_type": "stream",
     "text": [
      "['1', '2', '3']\n",
      "['1', '2', '3']\n",
      "['1_2', '3']\n",
      "['123', '123', '123']\n"
     ]
    }
   ],
   "source": [
    "print(\"1 2 3\".split())\n",
    "print(\"1_2_3\".split('_'))\n",
    "print(\"1_2_3\".rsplit('_', 1)) # 오른쪽에서 1번만 나누어줘\n",
    "print(\"123\\n123\\n123\\n\".split())"
   ]
  },
  {
   "cell_type": "markdown",
   "metadata": {
    "id": "tx8dAOPm8DTv"
   },
   "source": [
    "### startswith() / endswith()\n",
    "\n",
    "* 문자열 \"String\"에서 시작 문자가 'S'인지 `startswith()`를 통해 확인\n",
    "* 문자열 \"String\"에서 마지막 문자가 'ng'인지 `endswith()`를 통해 확인"
   ]
  },
  {
   "cell_type": "code",
   "execution_count": 89,
   "metadata": {
    "ExecuteTime": {
     "end_time": "2021-06-24T19:14:27.129085Z",
     "start_time": "2021-06-24T19:14:27.122079Z"
    },
    "id": "dNB3Da_x7587"
   },
   "outputs": [
    {
     "name": "stdout",
     "output_type": "stream",
     "text": [
      "True\n",
      "True\n"
     ]
    }
   ],
   "source": [
    "print(\"String\".startswith('S'))\n",
    "print(\"String\".endswith('ng'))"
   ]
  },
  {
   "cell_type": "markdown",
   "metadata": {
    "id": "OZatwJSe8Svd"
   },
   "source": [
    "### zfill()\n",
    "\n",
    "* 문자열 \"123\"에서 너비 8만큼으로 늘리고 비어있는 부분에 '0'이 채워진 문자열 \"00000123\" 반환"
   ]
  },
  {
   "cell_type": "code",
   "execution_count": 90,
   "metadata": {
    "ExecuteTime": {
     "end_time": "2021-06-24T19:14:56.554071Z",
     "start_time": "2021-06-24T19:14:56.546065Z"
    },
    "id": "rWqlvXJV8MJF"
   },
   "outputs": [
    {
     "name": "stdout",
     "output_type": "stream",
     "text": [
      "00000123\n"
     ]
    }
   ],
   "source": [
    "print(\"123\".zfill(8))"
   ]
  },
  {
   "cell_type": "markdown",
   "metadata": {
    "id": "yjsh7OcA8fIu"
   },
   "source": [
    "\n",
    "\n",
    "---\n",
    "\n"
   ]
  },
  {
   "cell_type": "markdown",
   "metadata": {
    "id": "Og91a1bd8gd-"
   },
   "source": [
    "## 문자열 서식(String Format)\n"
   ]
  },
  {
   "cell_type": "markdown",
   "metadata": {
    "id": "U7QLYGjk8qbO"
   },
   "source": [
    "### 문자열 포맷팅(String Formatting)\n",
    "\n",
    "* 문자열 내에서 서식에 맞추어 특정 값을 삽입 또는 변경\n",
    "* 기호 % 뒤에 있는 값이 문자열 내의 서식에 순서대로 매핑"
   ]
  },
  {
   "cell_type": "code",
   "execution_count": 92,
   "metadata": {
    "ExecuteTime": {
     "end_time": "2021-06-24T19:17:40.072151Z",
     "start_time": "2021-06-24T19:17:40.065145Z"
    }
   },
   "outputs": [
    {
     "name": "stdout",
     "output_type": "stream",
     "text": [
      "나는 사과가 2개 있다.\n",
      "나는 사과가 두개 있다.\n",
      "나는 사과가 2개 있다.\n"
     ]
    }
   ],
   "source": [
    "print(\"나는 사과가 %d개 있다.\" % 2)\n",
    "print(\"나는 사과가 %s개 있다.\" % '두')\n",
    "print(\"나는 %s가 %d개 있다.\" % ('사과',2))"
   ]
  },
  {
   "cell_type": "markdown",
   "metadata": {},
   "source": [
    "### 문자열 포맷 코드(String Format Code)\n",
    "* 문자열 포멧팅에서 사용할 수 있는 다양한 포맷 코드"
   ]
  },
  {
   "cell_type": "markdown",
   "metadata": {},
   "source": [
    "|코드|설명|\n",
    "|:---:|:----|\n",
    "|`%s`|문자열(string)|\n",
    "|`%c`|문자(character)|\n",
    "|`%d`|정수(integer)|\n",
    "|`%f`|부동소수(floating-point)|\n",
    "|`%o`|8진수(octal)|\n",
    "|`%x`|16진수 (hexadecimal)|\n",
    "|`%%`|문자 '%'|\n",
    "\n",
    "\n",
    "\n",
    "\n",
    "\n",
    "\n",
    "\n",
    "\n",
    "\n"
   ]
  },
  {
   "cell_type": "markdown",
   "metadata": {
    "id": "PP32b9L3-eVL"
   },
   "source": [
    "### 정렬, 공백, 소수점 포맷\n",
    "\n",
    "* 포맷 문자 앞에 숫자는 길이를 의미\n",
    "* -는 왼쪽 정렬을 의미\n",
    "* 소수점 ‘.’ 뒤에 숫자는 소숫점 이하 개수를 의미"
   ]
  },
  {
   "cell_type": "code",
   "execution_count": 99,
   "metadata": {
    "ExecuteTime": {
     "end_time": "2021-06-24T19:23:20.781199Z",
     "start_time": "2021-06-24T19:23:20.767405Z"
    },
    "id": "uG9qhf2L9K_A"
   },
   "outputs": [
    {
     "name": "stdout",
     "output_type": "stream",
     "text": [
      "hey~   Hello\n",
      "hey~Hello   \n",
      "hey~Hello   Python\n",
      "3.14\n",
      "  3.1416\n",
      "3.14    \n"
     ]
    }
   ],
   "source": [
    "print(\"hey~%8s\" % \"Hello\")\n",
    "print(\"hey~%-8s\" % \"Hello\")\n",
    "print(\"hey~%-8sPython\" % \"Hello\")\n",
    "print(\"%0.2f\" % 3.1415926535)\n",
    "print(\"%8.4f\" % 3.1415926535)\n",
    "print(\"%-8.2f\" % 3.1415926535)"
   ]
  },
  {
   "cell_type": "markdown",
   "metadata": {
    "id": "SrIx3mkM_C8G"
   },
   "source": [
    "### 문자열 format 메소드\n",
    "\n",
    "* 문자열 `format()`의 인덱스를 이용한 고급 포맷팅\n",
    "* 인덱스 번호에 따라 `format()` 함수의 각 값들이 매핑"
   ]
  },
  {
   "cell_type": "code",
   "execution_count": 101,
   "metadata": {
    "ExecuteTime": {
     "end_time": "2021-06-24T19:25:13.744800Z",
     "start_time": "2021-06-24T19:25:13.740797Z"
    },
    "id": "uf469Z6l-6E0"
   },
   "outputs": [
    {
     "name": "stdout",
     "output_type": "stream",
     "text": [
      "나는 사과가 2개 있다.\n",
      "나는 사과가 두 있다.\n",
      "나는 바나나가 2개 있다.\n"
     ]
    }
   ],
   "source": [
    "print(\"나는 사과가 {0}개 있다.\".format(2))\n",
    "print(\"나는 사과가 {0} 있다.\".format(\"두\"))\n",
    "print(\"나는 {0}가 {1}개 있다.\".format(\"바나나\", 2))"
   ]
  },
  {
   "cell_type": "markdown",
   "metadata": {
    "id": "0pTK7FHW_jIn"
   },
   "source": [
    "* 문자열 `format()` 메소드의 인덱스와 변수 이름을 이용한 포맷팅\n",
    "* 변수 이름 s와 n을 지정하여 \"사과\"와 숫자 2를 매핑"
   ]
  },
  {
   "cell_type": "code",
   "execution_count": 102,
   "metadata": {
    "ExecuteTime": {
     "end_time": "2021-06-24T19:26:06.885472Z",
     "start_time": "2021-06-24T19:26:06.876464Z"
    },
    "id": "Bwx0XnkE_Yvn"
   },
   "outputs": [
    {
     "name": "stdout",
     "output_type": "stream",
     "text": [
      "나는 사과가 2 있다.\n",
      "나는 바나나가 2개 있다.\n"
     ]
    }
   ],
   "source": [
    "print(\"나는 사과가 {n} 있다.\".format(n=2))\n",
    "print(\"나는 {s}가 {n}개 있다.\".format(s=\"바나나\", n= 2))"
   ]
  },
  {
   "cell_type": "markdown",
   "metadata": {
    "id": "0yErNkKPAA2F"
   },
   "source": [
    "* 문자열 `format()` 함수의 정렬, 공백, 소수점\n"
   ]
  },
  {
   "cell_type": "markdown",
   "metadata": {},
   "source": [
    "\n",
    "|포맷|설명|\n",
    "|:----:|:----|\n",
    "|`:8`|길이 8|\n",
    "|`:<`|왼쪽 정렬|\n",
    "|`:>`|오른쪽 정렬|\n",
    "|`:^`|가운데 정렬|\n",
    "|`:~`|'~'로 공백 채우기 (정렬 문자 <. >, ^ 앞에 넣은 문자로 공백 채우기)|\n",
    "|`:0.2f` |소수점을 2자리까지 표현|\n",
    "|`:8.4f`| 길이 8, 소수점 2자리|\n",
    "|`{{`|`'{'`문자 표현|\n",
    "|`}}`|`'}'` 문자 표현|\n"
   ]
  },
  {
   "cell_type": "code",
   "execution_count": 111,
   "metadata": {
    "ExecuteTime": {
     "end_time": "2021-06-24T19:30:52.894305Z",
     "start_time": "2021-06-24T19:30:52.881294Z"
    },
    "id": "Nfi9kAeD_z3p"
   },
   "outputs": [
    {
     "name": "stdout",
     "output_type": "stream",
     "text": [
      "Hello   \n",
      "Hello   \n",
      "   Hello\n",
      " Hello  \n",
      "~Hello~~\n",
      "-Hello--\n",
      "3.43 3.1416\n",
      "{중괄호}\n"
     ]
    }
   ],
   "source": [
    "print(\"{0:8}\".format(\"Hello\"))\n",
    "print(\"{0:<8}\".format(\"Hello\"))\n",
    "print(\"{0:>8}\".format(\"Hello\"))\n",
    "print(\"{0:^8}\".format(\"Hello\"))\n",
    "print(\"{0:~^8}\".format(\"Hello\"))\n",
    "print(\"{0:-^8}\".format(\"Hello\"))\n",
    "print(\"{1:0.2f} {0:0.4f}\".format(3.1415926,3.4323423))\n",
    "print(\"{{중괄호}}\".format())"
   ]
  },
  {
   "cell_type": "markdown",
   "metadata": {
    "id": "1GS_wR86BmtE"
   },
   "source": [
    "### f 문자열 포맷팅\n",
    "\n",
    "* 문자열 포맷팅을 위해 새롭게 나온 기능으로 문자열 앞에 f를 붙여서 구분\n",
    "* 변수 s와 n에 대해서 문자열에 포함된 이름으로 매핑하여 사용 가능"
   ]
  },
  {
   "cell_type": "code",
   "execution_count": 113,
   "metadata": {
    "ExecuteTime": {
     "end_time": "2021-06-24T19:31:53.248548Z",
     "start_time": "2021-06-24T19:31:53.234502Z"
    },
    "id": "3ffhQ807BYLf"
   },
   "outputs": [
    {
     "name": "stdout",
     "output_type": "stream",
     "text": [
      "나는 사과가2개 있다.\n",
      "나는 사과가 2개 있다.\n"
     ]
    }
   ],
   "source": [
    "s = \"사과\"\n",
    "n = 2\n",
    "print(f\"나는 사과가 {n}개 있다.\")\n",
    "print(f\"나는 {s}가 {n}개 있다.\")"
   ]
  },
  {
   "cell_type": "markdown",
   "metadata": {
    "id": "9zQ6zYkRR_dt"
   },
   "source": [
    "* 기존의 문자열 포맷을 문자열 다음 기호 : 뒤에 표현하여 그대로 사용 가능"
   ]
  },
  {
   "cell_type": "code",
   "execution_count": 114,
   "metadata": {
    "ExecuteTime": {
     "end_time": "2021-06-24T19:35:10.803370Z",
     "start_time": "2021-06-24T19:35:10.799368Z"
    },
    "id": "UOYcnlERBxhy"
   },
   "outputs": [
    {
     "name": "stdout",
     "output_type": "stream",
     "text": [
      "Hello   \n",
      "Hello   \n",
      "   Hello\n",
      " Hello  \n",
      "~Hello~~\n",
      "-Hello--\n",
      "3.43 3.1416\n",
      "{중괄호}\n"
     ]
    }
   ],
   "source": [
    "print(f\"{'Hello':8}\")\n",
    "print(f\"{'Hello':<8}\")\n",
    "print(f\"{'Hello':>8}\")\n",
    "print(f\"{'Hello':^8}\")\n",
    "print(f\"{'Hello':~^8}\")\n",
    "print(f\"{'Hello':-^8}\")\n",
    "print(f\"{3.4323423:0.2f} {3.1415926:0.4f}\")\n",
    "print(f\"{{중괄호}}\")"
   ]
  }
 ],
 "metadata": {
  "colab": {
   "collapsed_sections": [],
   "name": "_03 문자열.ipynb",
   "provenance": [],
   "toc_visible": true
  },
  "kernelspec": {
   "display_name": "Python 3",
   "language": "python",
   "name": "python3"
  },
  "language_info": {
   "codemirror_mode": {
    "name": "ipython",
    "version": 3
   },
   "file_extension": ".py",
   "mimetype": "text/x-python",
   "name": "python",
   "nbconvert_exporter": "python",
   "pygments_lexer": "ipython3",
   "version": "3.8.5"
  },
  "toc": {
   "base_numbering": 1,
   "nav_menu": {},
   "number_sections": true,
   "sideBar": true,
   "skip_h1_title": false,
   "title_cell": "Table of Contents",
   "title_sidebar": "Contents",
   "toc_cell": false,
   "toc_position": {
    "height": "calc(100% - 180px)",
    "left": "10px",
    "top": "150px",
    "width": "470px"
   },
   "toc_section_display": true,
   "toc_window_display": false
  }
 },
 "nbformat": 4,
 "nbformat_minor": 1
}
