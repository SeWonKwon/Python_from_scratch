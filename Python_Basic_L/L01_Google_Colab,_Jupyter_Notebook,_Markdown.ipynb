{
 "cells": [
  {
   "cell_type": "markdown",
   "metadata": {
    "id": "bg5ZXMV2sn1M"
   },
   "source": [
    "# Google Colaboratory\n"
   ]
  },
  {
   "cell_type": "markdown",
   "metadata": {
    "id": "Lj_iZPKnCRP0"
   },
   "source": [
    "\n",
    "\n",
    "---\n",
    "\n"
   ]
  },
  {
   "cell_type": "markdown",
   "metadata": {
    "id": "i3r5VFtU5O4U"
   },
   "source": [
    "## Google Colab 사양\n"
   ]
  },
  {
   "cell_type": "markdown",
   "metadata": {
    "id": "gV5e99TT-08Z"
   },
   "source": [
    "* 플랫폼"
   ]
  },
  {
   "cell_type": "code",
   "execution_count": 18,
   "metadata": {
    "colab": {
     "base_uri": "https://localhost:8080/",
     "height": 41
    },
    "id": "5VeuLl0B-cy4",
    "outputId": "49549f76-484a-4335-a0ea-f5abc817d7f8"
   },
   "outputs": [
    {
     "data": {
      "application/vnd.google.colaboratory.intrinsic+json": {
       "type": "string"
      },
      "text/plain": [
       "'Linux-5.4.104+-x86_64-with-Ubuntu-18.04-bionic'"
      ]
     },
     "execution_count": 18,
     "metadata": {
      "tags": []
     },
     "output_type": "execute_result"
    }
   ],
   "source": [
    "import platform\n",
    "platform.platform()"
   ]
  },
  {
   "cell_type": "markdown",
   "metadata": {
    "id": "Q9f6YpG-5ZCx"
   },
   "source": [
    "* 운영체제"
   ]
  },
  {
   "cell_type": "code",
   "execution_count": 19,
   "metadata": {
    "colab": {
     "base_uri": "https://localhost:8080/"
    },
    "id": "IC0e82Ft5Rxt",
    "outputId": "67be3493-df89-4b82-8ba3-949e246cb876"
   },
   "outputs": [
    {
     "name": "stdout",
     "output_type": "stream",
     "text": [
      "Ubuntu 18.04.5 LTS\n"
     ]
    }
   ],
   "source": [
    "!cat /etc/issue.net"
   ]
  },
  {
   "cell_type": "markdown",
   "metadata": {
    "id": "mrQDwTmI5bzQ"
   },
   "source": [
    "* CPU 사양"
   ]
  },
  {
   "cell_type": "code",
   "execution_count": 20,
   "metadata": {
    "colab": {
     "base_uri": "https://localhost:8080/"
    },
    "id": "MX782lUX5ju0",
    "outputId": "4985f16a-1b0b-41e4-dca2-cff8bd8b813b"
   },
   "outputs": [
    {
     "name": "stdout",
     "output_type": "stream",
     "text": [
      "processor\t: 0\n",
      "vendor_id\t: GenuineIntel\n",
      "cpu family\t: 6\n",
      "model\t\t: 79\n",
      "model name\t: Intel(R) Xeon(R) CPU @ 2.20GHz\n",
      "stepping\t: 0\n",
      "microcode\t: 0x1\n",
      "cpu MHz\t\t: 2199.998\n",
      "cache size\t: 56320 KB\n",
      "physical id\t: 0\n",
      "siblings\t: 2\n",
      "core id\t\t: 0\n",
      "cpu cores\t: 1\n",
      "apicid\t\t: 0\n",
      "initial apicid\t: 0\n",
      "fpu\t\t: yes\n",
      "fpu_exception\t: yes\n",
      "cpuid level\t: 13\n",
      "wp\t\t: yes\n",
      "flags\t\t: fpu vme de pse tsc msr pae mce cx8 apic sep mtrr pge mca cmov pat pse36 clflush mmx fxsr sse sse2 ss ht syscall nx pdpe1gb rdtscp lm constant_tsc rep_good nopl xtopology nonstop_tsc cpuid tsc_known_freq pni pclmulqdq ssse3 fma cx16 pcid sse4_1 sse4_2 x2apic movbe popcnt aes xsave avx f16c rdrand hypervisor lahf_lm abm 3dnowprefetch invpcid_single ssbd ibrs ibpb stibp fsgsbase tsc_adjust bmi1 hle avx2 smep bmi2 erms invpcid rtm rdseed adx smap xsaveopt arat md_clear arch_capabilities\n",
      "bugs\t\t: cpu_meltdown spectre_v1 spectre_v2 spec_store_bypass l1tf mds swapgs taa\n",
      "bogomips\t: 4399.99\n",
      "clflush size\t: 64\n",
      "cache_alignment\t: 64\n",
      "address sizes\t: 46 bits physical, 48 bits virtual\n",
      "power management:\n",
      "\n",
      "processor\t: 1\n",
      "vendor_id\t: GenuineIntel\n",
      "cpu family\t: 6\n",
      "model\t\t: 79\n",
      "model name\t: Intel(R) Xeon(R) CPU @ 2.20GHz\n",
      "stepping\t: 0\n",
      "microcode\t: 0x1\n",
      "cpu MHz\t\t: 2199.998\n",
      "cache size\t: 56320 KB\n",
      "physical id\t: 0\n",
      "siblings\t: 2\n",
      "core id\t\t: 0\n",
      "cpu cores\t: 1\n",
      "apicid\t\t: 1\n",
      "initial apicid\t: 1\n",
      "fpu\t\t: yes\n",
      "fpu_exception\t: yes\n",
      "cpuid level\t: 13\n",
      "wp\t\t: yes\n",
      "flags\t\t: fpu vme de pse tsc msr pae mce cx8 apic sep mtrr pge mca cmov pat pse36 clflush mmx fxsr sse sse2 ss ht syscall nx pdpe1gb rdtscp lm constant_tsc rep_good nopl xtopology nonstop_tsc cpuid tsc_known_freq pni pclmulqdq ssse3 fma cx16 pcid sse4_1 sse4_2 x2apic movbe popcnt aes xsave avx f16c rdrand hypervisor lahf_lm abm 3dnowprefetch invpcid_single ssbd ibrs ibpb stibp fsgsbase tsc_adjust bmi1 hle avx2 smep bmi2 erms invpcid rtm rdseed adx smap xsaveopt arat md_clear arch_capabilities\n",
      "bugs\t\t: cpu_meltdown spectre_v1 spectre_v2 spec_store_bypass l1tf mds swapgs taa\n",
      "bogomips\t: 4399.99\n",
      "clflush size\t: 64\n",
      "cache_alignment\t: 64\n",
      "address sizes\t: 46 bits physical, 48 bits virtual\n",
      "power management:\n",
      "\n"
     ]
    }
   ],
   "source": [
    "!cat /proc/cpuinfo"
   ]
  },
  {
   "cell_type": "markdown",
   "metadata": {
    "id": "XQbXXmZ75ffA"
   },
   "source": [
    "* 메모리 사양"
   ]
  },
  {
   "cell_type": "code",
   "execution_count": 21,
   "metadata": {
    "colab": {
     "base_uri": "https://localhost:8080/"
    },
    "id": "vJ0_EPba5sP1",
    "outputId": "7a1ad9ff-3c96-4bfb-81f5-71244aa5b191"
   },
   "outputs": [
    {
     "name": "stdout",
     "output_type": "stream",
     "text": [
      "MemTotal:       13305368 kB\n",
      "MemFree:        10392856 kB\n",
      "MemAvailable:   12462644 kB\n",
      "Buffers:           88544 kB\n",
      "Cached:          2105008 kB\n",
      "SwapCached:            0 kB\n",
      "Active:          1008772 kB\n",
      "Inactive:        1619456 kB\n",
      "Active(anon):     388696 kB\n",
      "Inactive(anon):      424 kB\n",
      "Active(file):     620076 kB\n",
      "Inactive(file):  1619032 kB\n",
      "Unevictable:           0 kB\n",
      "Mlocked:               0 kB\n",
      "SwapTotal:             0 kB\n",
      "SwapFree:              0 kB\n",
      "Dirty:               728 kB\n",
      "Writeback:             0 kB\n",
      "AnonPages:        434768 kB\n",
      "Mapped:           253164 kB\n",
      "Shmem:              1168 kB\n",
      "KReclaimable:     144312 kB\n",
      "Slab:             195476 kB\n",
      "SReclaimable:     144312 kB\n",
      "SUnreclaim:        51164 kB\n",
      "KernelStack:        4832 kB\n",
      "PageTables:         5832 kB\n",
      "NFS_Unstable:          0 kB\n",
      "Bounce:                0 kB\n",
      "WritebackTmp:          0 kB\n",
      "CommitLimit:     6652684 kB\n",
      "Committed_AS:    3254236 kB\n",
      "VmallocTotal:   34359738367 kB\n",
      "VmallocUsed:       44836 kB\n",
      "VmallocChunk:          0 kB\n",
      "Percpu:             1424 kB\n",
      "AnonHugePages:         0 kB\n",
      "ShmemHugePages:        0 kB\n",
      "ShmemPmdMapped:        0 kB\n",
      "FileHugePages:         0 kB\n",
      "FilePmdMapped:         0 kB\n",
      "CmaTotal:              0 kB\n",
      "CmaFree:               0 kB\n",
      "HugePages_Total:       0\n",
      "HugePages_Free:        0\n",
      "HugePages_Rsvd:        0\n",
      "HugePages_Surp:        0\n",
      "Hugepagesize:       2048 kB\n",
      "Hugetlb:               0 kB\n",
      "DirectMap4k:      140488 kB\n",
      "DirectMap2M:     5101568 kB\n",
      "DirectMap1G:    10485760 kB\n"
     ]
    }
   ],
   "source": [
    "!cat /proc/meminfo"
   ]
  },
  {
   "cell_type": "markdown",
   "metadata": {
    "id": "EaOIRYVP5w30"
   },
   "source": [
    "* 디스크 사양"
   ]
  },
  {
   "cell_type": "code",
   "execution_count": 22,
   "metadata": {
    "colab": {
     "base_uri": "https://localhost:8080/"
    },
    "id": "FKWOPJNv5y2y",
    "outputId": "87b3a019-ebc6-48d7-b380-02b7e81a60e3"
   },
   "outputs": [
    {
     "name": "stdout",
     "output_type": "stream",
     "text": [
      "Filesystem      Size  Used Avail Use% Mounted on\n",
      "overlay          69G   39G   30G  57% /\n",
      "tmpfs            64M     0   64M   0% /dev\n",
      "tmpfs           6.4G     0  6.4G   0% /sys/fs/cgroup\n",
      "shm             5.8G     0  5.8G   0% /dev/shm\n",
      "/dev/sda1        76G   42G   35G  55% /opt/bin\n",
      "tmpfs           6.4G   36K  6.4G   1% /var/colab\n",
      "tmpfs           6.4G     0  6.4G   0% /proc/acpi\n",
      "tmpfs           6.4G     0  6.4G   0% /proc/scsi\n",
      "tmpfs           6.4G     0  6.4G   0% /sys/firmware\n"
     ]
    }
   ],
   "source": [
    "!df -h"
   ]
  },
  {
   "cell_type": "markdown",
   "metadata": {
    "id": "i2LgCHNv541D"
   },
   "source": [
    "* 파이썬 버전"
   ]
  },
  {
   "cell_type": "code",
   "execution_count": 23,
   "metadata": {
    "colab": {
     "base_uri": "https://localhost:8080/"
    },
    "id": "AZNd_Cpi57SD",
    "outputId": "0cfff0bc-f655-40f4-b43e-5c68186a805e"
   },
   "outputs": [
    {
     "name": "stdout",
     "output_type": "stream",
     "text": [
      "Python 3.7.10\n"
     ]
    }
   ],
   "source": [
    "!python --version"
   ]
  },
  {
   "cell_type": "markdown",
   "metadata": {
    "id": "ZLrgX-u15_wI"
   },
   "source": [
    "## Google Colab 런타임\n",
    "* Colab에서 고성능 하드웨어로 GPU나 TPU 사용 가능\n",
    "* 런타임 유형 변경(Change runtime type) 필요\n",
    "  + None: CPU만 사용\n",
    "  + GPU: 하드웨어 가속으로 GPU 사용\n",
    "  + TPU: 하드웨어 가속으로 TPU 사용"
   ]
  },
  {
   "cell_type": "markdown",
   "metadata": {
    "id": "XdrsxRSdAdr8"
   },
   "source": [
    "## 런타임 끊김 방지 F12 -> 실행\n",
    "\n",
    "```\n",
    "function ClickConnect(){\n",
    "console.log(\"Working\"); \n",
    "document\n",
    "  .querySelector('#top-toolbar > colab-connect-button')\n",
    "  .shadowRoot.querySelector('#connect')\n",
    "  .click() \n",
    "}\n",
    "setInterval(ClickConnect,60000)\n",
    "```"
   ]
  },
  {
   "cell_type": "code",
   "execution_count": 24,
   "metadata": {
    "colab": {
     "base_uri": "https://localhost:8080/"
    },
    "id": "Oa3X6JLZ6BE1",
    "outputId": "12ef82ae-aa70-47b3-ba80-cb6c11276ca0"
   },
   "outputs": [
    {
     "name": "stdout",
     "output_type": "stream",
     "text": [
      "Mon Jun 21 15:06:32 2021       \n",
      "+-----------------------------------------------------------------------------+\n",
      "| NVIDIA-SMI 465.27       Driver Version: 460.32.03    CUDA Version: 11.2     |\n",
      "|-------------------------------+----------------------+----------------------+\n",
      "| GPU  Name        Persistence-M| Bus-Id        Disp.A | Volatile Uncorr. ECC |\n",
      "| Fan  Temp  Perf  Pwr:Usage/Cap|         Memory-Usage | GPU-Util  Compute M. |\n",
      "|                               |                      |               MIG M. |\n",
      "|===============================+======================+======================|\n",
      "|   0  Tesla K80           Off  | 00000000:00:04.0 Off |                    0 |\n",
      "| N/A   49C    P8    30W / 149W |      0MiB / 11441MiB |      0%      Default |\n",
      "|                               |                      |                  N/A |\n",
      "+-------------------------------+----------------------+----------------------+\n",
      "                                                                               \n",
      "+-----------------------------------------------------------------------------+\n",
      "| Processes:                                                                  |\n",
      "|  GPU   GI   CI        PID   Type   Process name                  GPU Memory |\n",
      "|        ID   ID                                                   Usage      |\n",
      "|=============================================================================|\n",
      "|  No running processes found                                                 |\n",
      "+-----------------------------------------------------------------------------+\n"
     ]
    }
   ],
   "source": [
    "!nvidia-smi"
   ]
  },
  {
   "cell_type": "markdown",
   "metadata": {
    "id": "VxNA7zfv-6wx"
   },
   "source": [
    "## 파일 저장 및 다운로드/업로드\n",
    "\n",
    "* Jupyter Notebook 환경에서 파일 저장 및 다운로드"
   ]
  },
  {
   "cell_type": "code",
   "execution_count": 25,
   "metadata": {
    "colab": {
     "base_uri": "https://localhost:8080/"
    },
    "id": "oTiMWM70_E42",
    "outputId": "5a888493-fc24-4891-95f5-c220d319a1b1"
   },
   "outputs": [
    {
     "name": "stdout",
     "output_type": "stream",
     "text": [
      "Overwriting test.txt\n"
     ]
    }
   ],
   "source": [
    "%%writefile test.txt\n",
    "text"
   ]
  },
  {
   "cell_type": "code",
   "execution_count": 26,
   "metadata": {
    "colab": {
     "base_uri": "https://localhost:8080/"
    },
    "id": "ptEgaG3v_QSR",
    "outputId": "d871e8ae-b7c0-4a47-d84d-6b858345c2e9"
   },
   "outputs": [
    {
     "name": "stdout",
     "output_type": "stream",
     "text": [
      "text"
     ]
    }
   ],
   "source": [
    "# colab\n",
    "!cat test.txt\n",
    "\n",
    "# JupyterNotebook Local\n",
    "\n",
    "import os\n"
   ]
  },
  {
   "cell_type": "code",
   "execution_count": 27,
   "metadata": {
    "colab": {
     "base_uri": "https://localhost:8080/",
     "height": 39
    },
    "id": "-HGNOyHk_Yxg",
    "outputId": "905a3df2-9a42-4410-c46b-a8ff198010f9"
   },
   "outputs": [
    {
     "data": {
      "application/javascript": [
       "\n",
       "    async function download(id, filename, size) {\n",
       "      if (!google.colab.kernel.accessAllowed) {\n",
       "        return;\n",
       "      }\n",
       "      const div = document.createElement('div');\n",
       "      const label = document.createElement('label');\n",
       "      label.textContent = `Downloading \"${filename}\": `;\n",
       "      div.appendChild(label);\n",
       "      const progress = document.createElement('progress');\n",
       "      progress.max = size;\n",
       "      div.appendChild(progress);\n",
       "      document.body.appendChild(div);\n",
       "\n",
       "      const buffers = [];\n",
       "      let downloaded = 0;\n",
       "\n",
       "      const channel = await google.colab.kernel.comms.open(id);\n",
       "      // Send a message to notify the kernel that we're ready.\n",
       "      channel.send({})\n",
       "\n",
       "      for await (const message of channel.messages) {\n",
       "        // Send a message to notify the kernel that we're ready.\n",
       "        channel.send({})\n",
       "        if (message.buffers) {\n",
       "          for (const buffer of message.buffers) {\n",
       "            buffers.push(buffer);\n",
       "            downloaded += buffer.byteLength;\n",
       "            progress.value = downloaded;\n",
       "          }\n",
       "        }\n",
       "      }\n",
       "      const blob = new Blob(buffers, {type: 'application/binary'});\n",
       "      const a = document.createElement('a');\n",
       "      a.href = window.URL.createObjectURL(blob);\n",
       "      a.download = filename;\n",
       "      div.appendChild(a);\n",
       "      a.click();\n",
       "      div.remove();\n",
       "    }\n",
       "  "
      ],
      "text/plain": [
       "<IPython.core.display.Javascript object>"
      ]
     },
     "metadata": {
      "tags": []
     },
     "output_type": "display_data"
    },
    {
     "data": {
      "application/javascript": [
       "download(\"download_1fb2e75a-30ed-48df-af1e-b46ef09aba1c\", \"test.txt\", 4)"
      ],
      "text/plain": [
       "<IPython.core.display.Javascript object>"
      ]
     },
     "metadata": {
      "tags": []
     },
     "output_type": "display_data"
    }
   ],
   "source": [
    "from google.colab import files\n",
    "files.download('test.txt')"
   ]
  },
  {
   "cell_type": "code",
   "execution_count": 28,
   "metadata": {
    "id": "6MLJ6R60AIQJ"
   },
   "outputs": [],
   "source": [
    "# upload=files.upload()"
   ]
  },
  {
   "cell_type": "code",
   "execution_count": 29,
   "metadata": {
    "colab": {
     "base_uri": "https://localhost:8080/"
    },
    "id": "8m2sm45lAriv",
    "outputId": "478c1410-0776-44d0-c719-dcb37aa3a6fb"
   },
   "outputs": [
    {
     "name": "stdout",
     "output_type": "stream",
     "text": [
      "Distance_measurement_using_single_camera-main.zip  test.py\n",
      "sample_data\t\t\t\t\t   test.txt\n"
     ]
    }
   ],
   "source": [
    "!ls"
   ]
  },
  {
   "cell_type": "markdown",
   "metadata": {
    "id": "cfKtU4-x7UnX"
   },
   "source": [
    "## Google Drive 연동\n",
    "\n",
    "* Google Colab은 Google Drive와 `mount`를 통해 쉽게 연동 가능\n",
    "* Google Drive에 소스 코드 저장 뿐만 아니라 파일을 열거나 저장 가능"
   ]
  },
  {
   "cell_type": "code",
   "execution_count": 30,
   "metadata": {
    "id": "uD81t8XNGxE-"
   },
   "outputs": [],
   "source": [
    "# from google.colab import drive\n",
    "# drive.mount('/content/drive')"
   ]
  },
  {
   "cell_type": "code",
   "execution_count": 31,
   "metadata": {
    "colab": {
     "base_uri": "https://localhost:8080/"
    },
    "id": "KI96G3Fq7wg1",
    "outputId": "db41211a-3a70-491e-b720-166201eed114"
   },
   "outputs": [
    {
     "name": "stdout",
     "output_type": "stream",
     "text": [
      "ln: failed to create symbolic link '/mydrive': File exists\n"
     ]
    }
   ],
   "source": [
    "# /mydrive 바로가기 설정\n",
    "!ln -s /content/gdrive/My\\ Drive/ /mydrive"
   ]
  },
  {
   "cell_type": "markdown",
   "metadata": {
    "id": "8OoBiBv4UBWm"
   },
   "source": [
    "\n",
    "\n",
    "---\n",
    "\n"
   ]
  },
  {
   "cell_type": "markdown",
   "metadata": {
    "id": "ID57POzYUYyl"
   },
   "source": [
    "# Jupyter Notebook\n"
   ]
  },
  {
   "attachments": {},
   "cell_type": "markdown",
   "metadata": {},
   "source": [
    "<div> <img align='left' src='data:image/png;base64,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' width='500' /> </div>"
   ]
  },
  {
   "cell_type": "markdown",
   "metadata": {
    "id": "fUAPCdCGCTug"
   },
   "source": [
    "* IPython Shell의 브라우저 기반 그래픽인터페이스\n",
    "* 파이썬과 IPython 문장 실행\n",
    "* 서식 있는 텍스트와 정적/동적 시각화, 수학 공식 표현\n"
   ]
  },
  {
   "cell_type": "markdown",
   "metadata": {
    "id": "ZTkr0NKRXEiq"
   },
   "source": [
    "## help()\n",
    "\n",
    "* 파이썬 객체에 대한 요약 정보와 사용법 보기"
   ]
  },
  {
   "cell_type": "code",
   "execution_count": 32,
   "metadata": {
    "colab": {
     "base_uri": "https://localhost:8080/"
    },
    "id": "S_aXiV9VW_1u",
    "outputId": "58973d71-05f1-4b88-b2f4-402760fcb31b"
   },
   "outputs": [
    {
     "name": "stdout",
     "output_type": "stream",
     "text": [
      "Help on built-in function max in module builtins:\n",
      "\n",
      "max(...)\n",
      "    max(iterable, *[, default=obj, key=func]) -> value\n",
      "    max(arg1, arg2, *args, *[, key=func]) -> value\n",
      "    \n",
      "    With a single iterable argument, return its biggest item. The\n",
      "    default keyword-only argument specifies an object to return if\n",
      "    the provided iterable is empty.\n",
      "    With two or more arguments, return the largest argument.\n",
      "\n"
     ]
    }
   ],
   "source": [
    "help(max)"
   ]
  },
  {
   "cell_type": "markdown",
   "metadata": {
    "id": "X6F7JOv0Xv2a"
   },
   "source": [
    "## ?로 설명 보기\n",
    "\n",
    "* 객체 요약 정보 및 사용법이 있는 docstring 보기"
   ]
  },
  {
   "cell_type": "code",
   "execution_count": 33,
   "metadata": {
    "id": "qFYVKx9YDDXd"
   },
   "outputs": [],
   "source": [
    "max?"
   ]
  },
  {
   "cell_type": "code",
   "execution_count": 34,
   "metadata": {
    "id": "KzrQ0xy0Xk42"
   },
   "outputs": [],
   "source": [
    "li = ['one', 'tow', 'three']\n",
    "li?"
   ]
  },
  {
   "cell_type": "code",
   "execution_count": 35,
   "metadata": {
    "id": "qDEczcmvYHmm"
   },
   "outputs": [],
   "source": [
    "li.count?"
   ]
  },
  {
   "cell_type": "code",
   "execution_count": 36,
   "metadata": {
    "id": "Ep2oX_Ollb_C"
   },
   "outputs": [],
   "source": [
    "def power(b, n):\n",
    "  \"\"\"b의 n승을 반환\"\"\"\n",
    "  return pow(b, n)"
   ]
  },
  {
   "cell_type": "code",
   "execution_count": 37,
   "metadata": {
    "colab": {
     "base_uri": "https://localhost:8080/"
    },
    "id": "lpM-ijxnltUG",
    "outputId": "cb34f22f-5390-40f2-8e7f-ab24174e7477"
   },
   "outputs": [
    {
     "data": {
      "text/plain": [
       "16"
      ]
     },
     "execution_count": 37,
     "metadata": {
      "tags": []
     },
     "output_type": "execute_result"
    }
   ],
   "source": [
    "power(2, 4)"
   ]
  },
  {
   "cell_type": "code",
   "execution_count": 38,
   "metadata": {
    "id": "l7p0YMtDmEFS"
   },
   "outputs": [],
   "source": [
    "# Docstring 소환\n",
    "power?"
   ]
  },
  {
   "cell_type": "markdown",
   "metadata": {
    "id": "-UnJNt2LDeUN"
   },
   "source": [
    "![image.png](data:image/png;base64,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)"
   ]
  },
  {
   "cell_type": "code",
   "execution_count": 39,
   "metadata": {
    "id": "9BS1dLnimUOb"
   },
   "outputs": [],
   "source": [
    "# Docstring 과 sauce 코드까지 나옮\n",
    "power??"
   ]
  },
  {
   "cell_type": "markdown",
   "metadata": {
    "id": "pKW9nEOqDbBt"
   },
   "source": [
    "![image.png](data:image/png;base64,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)"
   ]
  },
  {
   "cell_type": "markdown",
   "metadata": {
    "id": "gtRsneYd-slf"
   },
   "source": [
    "## 탭(tab) 자동완성\n",
    "\n",
    "* 객체와 모듈, 인터페이스의 내용을 자동 완성"
   ]
  },
  {
   "cell_type": "code",
   "execution_count": 40,
   "metadata": {
    "id": "PK4fJOk6-we7"
   },
   "outputs": [],
   "source": [
    "# 자동완성칸중에 필요한 것이 있으면 tab 키를 누르면 된다. "
   ]
  },
  {
   "cell_type": "markdown",
   "metadata": {
    "id": "xP7n3Oqp_N0K"
   },
   "source": [
    "##와일드카드(wildcard) 매칭\n",
    "\n",
    "* 단어의 중간이나 마지막 글자로 매칭하여 객체나 속성 찾기"
   ]
  },
  {
   "cell_type": "code",
   "execution_count": 41,
   "metadata": {
    "id": "vFyMVDdID0z0"
   },
   "outputs": [],
   "source": [
    "*Error?"
   ]
  },
  {
   "cell_type": "markdown",
   "metadata": {
    "id": "zmJqABoxD9TY"
   },
   "source": [
    "![image.png](data:image/png;base64,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)"
   ]
  },
  {
   "cell_type": "code",
   "execution_count": 42,
   "metadata": {
    "id": "IMjy2bc0_TwQ"
   },
   "outputs": [],
   "source": [
    "str.*index*?"
   ]
  },
  {
   "cell_type": "markdown",
   "metadata": {
    "id": "PmBFsjY5EHkr"
   },
   "source": [
    "![image.png](data:image/png;base64,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)"
   ]
  },
  {
   "cell_type": "markdown",
   "metadata": {
    "id": "yCRnab5c_mBh"
   },
   "source": [
    "## 매직 명령어(magic commands)\n",
    "\n",
    "* Jupyter Notebook 환경에서 파이썬 파일 저장 및 실행"
   ]
  },
  {
   "cell_type": "code",
   "execution_count": 43,
   "metadata": {
    "colab": {
     "base_uri": "https://localhost:8080/"
    },
    "id": "t6ufEi9q_qS4",
    "outputId": "e8856d11-9c3e-4a97-f779-be8250a0ae02"
   },
   "outputs": [
    {
     "name": "stdout",
     "output_type": "stream",
     "text": [
      "Overwriting test.py\n"
     ]
    }
   ],
   "source": [
    "%%writefile test.py\n",
    "print('magic command')"
   ]
  },
  {
   "cell_type": "code",
   "execution_count": 44,
   "metadata": {
    "colab": {
     "base_uri": "https://localhost:8080/"
    },
    "id": "GVRuezjk_wLD",
    "outputId": "b342ac6a-f2b6-49b3-c89b-9679cbb41ff1"
   },
   "outputs": [
    {
     "name": "stdout",
     "output_type": "stream",
     "text": [
      "magic command\n"
     ]
    }
   ],
   "source": [
    "%run test.py"
   ]
  },
  {
   "cell_type": "markdown",
   "metadata": {
    "id": "MzKD0owDXs7r"
   },
   "source": [
    "* 코드 실행 시간 측정\n",
    "  - % 가 한개 일때는 단일문\n",
    "  - %% 여러줄의 코드문"
   ]
  },
  {
   "cell_type": "code",
   "execution_count": 45,
   "metadata": {
    "id": "YfO_C9-2bQRn"
   },
   "outputs": [],
   "source": [
    "%%timeit?"
   ]
  },
  {
   "cell_type": "code",
   "execution_count": 46,
   "metadata": {
    "colab": {
     "base_uri": "https://localhost:8080/"
    },
    "id": "Yj-cfvBVWuf-",
    "outputId": "489f7673-5d9a-4a11-aced-19c5215925e0"
   },
   "outputs": [
    {
     "name": "stdout",
     "output_type": "stream",
     "text": [
      "1 loop, best of 5: 6.45 s per loop\n"
     ]
    }
   ],
   "source": [
    "%timeit li = [n ** n for n in range(10000)]"
   ]
  },
  {
   "cell_type": "code",
   "execution_count": 47,
   "metadata": {
    "colab": {
     "base_uri": "https://localhost:8080/"
    },
    "id": "RbEaBBjaYHDM",
    "outputId": "c1f6f875-631b-4be5-85a1-00b41d3774ae"
   },
   "outputs": [
    {
     "name": "stdout",
     "output_type": "stream",
     "text": [
      "1 loop, best of 5: 6.38 s per loop\n"
     ]
    }
   ],
   "source": [
    "%%timeit\n",
    "li = []\n",
    "for n in range(10000):\n",
    "  li.append(n ** n)"
   ]
  },
  {
   "cell_type": "markdown",
   "metadata": {
    "id": "SROwYmP9rEQd"
   },
   "source": [
    "## 입력과 출력 이력\n",
    "\n",
    "* In과 Out 객체를 통해 이전 명령어와 명령어의 출력 결과 보기\n",
    "\n",
    "  - In : 내린 명령어 조회\n",
    "  - Out : 나온 결과물\n",
    "  - +[index] : 앞에 나온 결과물"
   ]
  },
  {
   "cell_type": "code",
   "execution_count": 48,
   "metadata": {
    "colab": {
     "base_uri": "https://localhost:8080/"
    },
    "id": "SjxoRZdbpttu",
    "outputId": "92c21162-d414-4e65-f72c-a0c3babf3435"
   },
   "outputs": [
    {
     "data": {
      "text/plain": [
       "['',\n",
       " 'import platform\\nplatform.platform()',\n",
       " \"get_ipython().system('cat /etc/issue.net')\",\n",
       " \"get_ipython().system('cat /proc/cpuinfo')\",\n",
       " \"get_ipython().system('cat /proc/meminfo')\",\n",
       " \"get_ipython().system('df -h')\",\n",
       " \"get_ipython().system('python --version')\",\n",
       " \"get_ipython().system('nvidia-smi')\",\n",
       " \"get_ipython().run_cell_magic('writefile', 'test.txt', 'text')\",\n",
       " \"# colab\\nget_ipython().system('cat test.txt')\\n\\n# JupyterNotebook Local\\n\\nimport os\",\n",
       " \"from google.colab import files\\nfiles.download('test.txt')\",\n",
       " 'upload=files.upload()',\n",
       " \"get_ipython().system('ls')\",\n",
       " \"import google.colab import drive\\ndrive.mount('/content/drive')\",\n",
       " \"import google.colab import gdrive\\ndrive.mount('/content/drive')\",\n",
       " \"import google.colab import drive\\ndrive.mount('/content/drive')\",\n",
       " \"# from google.colab import drive\\n# drive.mount('/content/drive')\",\n",
       " \"# /mydrive 바로가기 설정\\nget_ipython().system('ln -s /content/gdrive/My\\\\\\\\ Drive/ /mydrive')\",\n",
       " 'import platform\\nplatform.platform()',\n",
       " \"get_ipython().system('cat /etc/issue.net')\",\n",
       " \"get_ipython().system('cat /proc/cpuinfo')\",\n",
       " \"get_ipython().system('cat /proc/meminfo')\",\n",
       " \"get_ipython().system('df -h')\",\n",
       " \"get_ipython().system('python --version')\",\n",
       " \"get_ipython().system('nvidia-smi')\",\n",
       " \"get_ipython().run_cell_magic('writefile', 'test.txt', 'text')\",\n",
       " \"# colab\\nget_ipython().system('cat test.txt')\\n\\n# JupyterNotebook Local\\n\\nimport os\",\n",
       " \"from google.colab import files\\nfiles.download('test.txt')\",\n",
       " '# upload=files.upload()',\n",
       " \"get_ipython().system('ls')\",\n",
       " \"# from google.colab import drive\\n# drive.mount('/content/drive')\",\n",
       " \"# /mydrive 바로가기 설정\\nget_ipython().system('ln -s /content/gdrive/My\\\\\\\\ Drive/ /mydrive')\",\n",
       " 'help(max)',\n",
       " \"get_ipython().magic('pinfo max')\",\n",
       " \"li = ['one', 'tow', 'three']\\nget_ipython().magic('pinfo li')\",\n",
       " \"get_ipython().magic('pinfo li.count')\",\n",
       " 'def power(b, n):\\n  \"\"\"b의 n승을 반환\"\"\"\\n  return pow(b, n)',\n",
       " 'power(2, 4)',\n",
       " \"# Docstring 소환\\nget_ipython().magic('pinfo power')\",\n",
       " \"# Docstring 과 sauce 코드까지 나옮\\nget_ipython().magic('pinfo2 power')\",\n",
       " '# 자동완성칸중에 필요한 것이 있으면 tab 키를 누르면 된다. ',\n",
       " \"get_ipython().magic('psearch *Error')\",\n",
       " \"get_ipython().magic('psearch str.*index*')\",\n",
       " 'get_ipython().run_cell_magic(\\'writefile\\', \\'test.py\\', \"print(\\'magic command\\')\")',\n",
       " \"get_ipython().magic('run test.py')\",\n",
       " \"get_ipython().magic('pinfo %%timeit')\",\n",
       " \"get_ipython().magic('timeit li = [n ** n for n in range(10000)]')\",\n",
       " \"get_ipython().run_cell_magic('timeit', '', 'li = []\\\\nfor n in range(10000):\\\\n  li.append(n ** n)')\",\n",
       " 'In']"
      ]
     },
     "execution_count": 48,
     "metadata": {
      "tags": []
     },
     "output_type": "execute_result"
    }
   ],
   "source": [
    "In"
   ]
  },
  {
   "cell_type": "code",
   "execution_count": 50,
   "metadata": {
    "colab": {
     "base_uri": "https://localhost:8080/"
    },
    "id": "Bbcl7xxSr33V",
    "outputId": "35d32bea-bfbc-4a71-a5cf-131e7a72af92"
   },
   "outputs": [
    {
     "data": {
      "text/plain": [
       "{1: 'Linux-5.4.104+-x86_64-with-Ubuntu-18.04-bionic',\n",
       " 18: 'Linux-5.4.104+-x86_64-with-Ubuntu-18.04-bionic',\n",
       " 37: 16,\n",
       " 48: ['',\n",
       "  'import platform\\nplatform.platform()',\n",
       "  \"get_ipython().system('cat /etc/issue.net')\",\n",
       "  \"get_ipython().system('cat /proc/cpuinfo')\",\n",
       "  \"get_ipython().system('cat /proc/meminfo')\",\n",
       "  \"get_ipython().system('df -h')\",\n",
       "  \"get_ipython().system('python --version')\",\n",
       "  \"get_ipython().system('nvidia-smi')\",\n",
       "  \"get_ipython().run_cell_magic('writefile', 'test.txt', 'text')\",\n",
       "  \"# colab\\nget_ipython().system('cat test.txt')\\n\\n# JupyterNotebook Local\\n\\nimport os\",\n",
       "  \"from google.colab import files\\nfiles.download('test.txt')\",\n",
       "  'upload=files.upload()',\n",
       "  \"get_ipython().system('ls')\",\n",
       "  \"import google.colab import drive\\ndrive.mount('/content/drive')\",\n",
       "  \"import google.colab import gdrive\\ndrive.mount('/content/drive')\",\n",
       "  \"import google.colab import drive\\ndrive.mount('/content/drive')\",\n",
       "  \"# from google.colab import drive\\n# drive.mount('/content/drive')\",\n",
       "  \"# /mydrive 바로가기 설정\\nget_ipython().system('ln -s /content/gdrive/My\\\\\\\\ Drive/ /mydrive')\",\n",
       "  'import platform\\nplatform.platform()',\n",
       "  \"get_ipython().system('cat /etc/issue.net')\",\n",
       "  \"get_ipython().system('cat /proc/cpuinfo')\",\n",
       "  \"get_ipython().system('cat /proc/meminfo')\",\n",
       "  \"get_ipython().system('df -h')\",\n",
       "  \"get_ipython().system('python --version')\",\n",
       "  \"get_ipython().system('nvidia-smi')\",\n",
       "  \"get_ipython().run_cell_magic('writefile', 'test.txt', 'text')\",\n",
       "  \"# colab\\nget_ipython().system('cat test.txt')\\n\\n# JupyterNotebook Local\\n\\nimport os\",\n",
       "  \"from google.colab import files\\nfiles.download('test.txt')\",\n",
       "  '# upload=files.upload()',\n",
       "  \"get_ipython().system('ls')\",\n",
       "  \"# from google.colab import drive\\n# drive.mount('/content/drive')\",\n",
       "  \"# /mydrive 바로가기 설정\\nget_ipython().system('ln -s /content/gdrive/My\\\\\\\\ Drive/ /mydrive')\",\n",
       "  'help(max)',\n",
       "  \"get_ipython().magic('pinfo max')\",\n",
       "  \"li = ['one', 'tow', 'three']\\nget_ipython().magic('pinfo li')\",\n",
       "  \"get_ipython().magic('pinfo li.count')\",\n",
       "  'def power(b, n):\\n  \"\"\"b의 n승을 반환\"\"\"\\n  return pow(b, n)',\n",
       "  'power(2, 4)',\n",
       "  \"# Docstring 소환\\nget_ipython().magic('pinfo power')\",\n",
       "  \"# Docstring 과 sauce 코드까지 나옮\\nget_ipython().magic('pinfo2 power')\",\n",
       "  '# 자동완성칸중에 필요한 것이 있으면 tab 키를 누르면 된다. ',\n",
       "  \"get_ipython().magic('psearch *Error')\",\n",
       "  \"get_ipython().magic('psearch str.*index*')\",\n",
       "  'get_ipython().run_cell_magic(\\'writefile\\', \\'test.py\\', \"print(\\'magic command\\')\")',\n",
       "  \"get_ipython().magic('run test.py')\",\n",
       "  \"get_ipython().magic('pinfo %%timeit')\",\n",
       "  \"get_ipython().magic('timeit li = [n ** n for n in range(10000)]')\",\n",
       "  \"get_ipython().run_cell_magic('timeit', '', 'li = []\\\\nfor n in range(10000):\\\\n  li.append(n ** n)')\",\n",
       "  'In',\n",
       "  'Out[21]',\n",
       "  'Out']}"
      ]
     },
     "execution_count": 50,
     "metadata": {
      "tags": []
     },
     "output_type": "execute_result"
    }
   ],
   "source": [
    "Out"
   ]
  },
  {
   "cell_type": "code",
   "execution_count": 53,
   "metadata": {
    "colab": {
     "base_uri": "https://localhost:8080/",
     "height": 41
    },
    "id": "qaRB9G6DHW8z",
    "outputId": "c251be57-faa2-4c7f-fe4b-1f80101b05c2"
   },
   "outputs": [
    {
     "data": {
      "application/vnd.google.colaboratory.intrinsic+json": {
       "type": "string"
      },
      "text/plain": [
       "'Linux-5.4.104+-x86_64-with-Ubuntu-18.04-bionic'"
      ]
     },
     "execution_count": 53,
     "metadata": {
      "tags": []
     },
     "output_type": "execute_result"
    }
   ],
   "source": [
    "Out[18]"
   ]
  },
  {
   "cell_type": "code",
   "execution_count": 55,
   "metadata": {
    "colab": {
     "base_uri": "https://localhost:8080/"
    },
    "id": "5lJahT8crj6K",
    "outputId": "2f0bb6fb-00b2-4686-8250-464cd8263826"
   },
   "outputs": [
    {
     "name": "stdout",
     "output_type": "stream",
     "text": [
      "In[18]:import platform\n",
      "platform.platform()\n",
      "Out[18]: Linux-5.4.104+-x86_64-with-Ubuntu-18.04-bionic\n"
     ]
    }
   ],
   "source": [
    "print(\"In[18]:\" + In[18] + \"\\nOut[18]: \" + Out[18])"
   ]
  },
  {
   "cell_type": "markdown",
   "metadata": {
    "id": "H4YgwfJAtNUH"
   },
   "source": [
    "* `_`를 이용해 이전 출력값 출력하기"
   ]
  },
  {
   "cell_type": "code",
   "execution_count": 56,
   "metadata": {
    "colab": {
     "base_uri": "https://localhost:8080/"
    },
    "id": "cT2w3ITLtKQF",
    "outputId": "5f67552d-a124-4585-c77d-ce5f3de24f26"
   },
   "outputs": [
    {
     "name": "stdout",
     "output_type": "stream",
     "text": [
      "Linux-5.4.104+-x86_64-with-Ubuntu-18.04-bionic\n"
     ]
    }
   ],
   "source": [
    "# 이전\n",
    "print(_)"
   ]
  },
  {
   "cell_type": "code",
   "execution_count": 57,
   "metadata": {
    "colab": {
     "base_uri": "https://localhost:8080/"
    },
    "id": "QFxB16JptUNd",
    "outputId": "a34b3760-9e53-4410-a99b-0f0b194ed29d"
   },
   "outputs": [
    {
     "name": "stdout",
     "output_type": "stream",
     "text": [
      "['', 'import platform\\nplatform.platform()', \"get_ipython().system('cat /etc/issue.net')\", \"get_ipython().system('cat /proc/cpuinfo')\", \"get_ipython().system('cat /proc/meminfo')\", \"get_ipython().system('df -h')\", \"get_ipython().system('python --version')\", \"get_ipython().system('nvidia-smi')\", \"get_ipython().run_cell_magic('writefile', 'test.txt', 'text')\", \"# colab\\nget_ipython().system('cat test.txt')\\n\\n# JupyterNotebook Local\\n\\nimport os\", \"from google.colab import files\\nfiles.download('test.txt')\", 'upload=files.upload()', \"get_ipython().system('ls')\", \"import google.colab import drive\\ndrive.mount('/content/drive')\", \"import google.colab import gdrive\\ndrive.mount('/content/drive')\", \"import google.colab import drive\\ndrive.mount('/content/drive')\", \"# from google.colab import drive\\n# drive.mount('/content/drive')\", \"# /mydrive 바로가기 설정\\nget_ipython().system('ln -s /content/gdrive/My\\\\\\\\ Drive/ /mydrive')\", 'import platform\\nplatform.platform()', \"get_ipython().system('cat /etc/issue.net')\", \"get_ipython().system('cat /proc/cpuinfo')\", \"get_ipython().system('cat /proc/meminfo')\", \"get_ipython().system('df -h')\", \"get_ipython().system('python --version')\", \"get_ipython().system('nvidia-smi')\", \"get_ipython().run_cell_magic('writefile', 'test.txt', 'text')\", \"# colab\\nget_ipython().system('cat test.txt')\\n\\n# JupyterNotebook Local\\n\\nimport os\", \"from google.colab import files\\nfiles.download('test.txt')\", '# upload=files.upload()', \"get_ipython().system('ls')\", \"# from google.colab import drive\\n# drive.mount('/content/drive')\", \"# /mydrive 바로가기 설정\\nget_ipython().system('ln -s /content/gdrive/My\\\\\\\\ Drive/ /mydrive')\", 'help(max)', \"get_ipython().magic('pinfo max')\", \"li = ['one', 'tow', 'three']\\nget_ipython().magic('pinfo li')\", \"get_ipython().magic('pinfo li.count')\", 'def power(b, n):\\n  \"\"\"b의 n승을 반환\"\"\"\\n  return pow(b, n)', 'power(2, 4)', \"# Docstring 소환\\nget_ipython().magic('pinfo power')\", \"# Docstring 과 sauce 코드까지 나옮\\nget_ipython().magic('pinfo2 power')\", '# 자동완성칸중에 필요한 것이 있으면 tab 키를 누르면 된다. ', \"get_ipython().magic('psearch *Error')\", \"get_ipython().magic('psearch str.*index*')\", 'get_ipython().run_cell_magic(\\'writefile\\', \\'test.py\\', \"print(\\'magic command\\')\")', \"get_ipython().magic('run test.py')\", \"get_ipython().magic('pinfo %%timeit')\", \"get_ipython().magic('timeit li = [n ** n for n in range(10000)]')\", \"get_ipython().run_cell_magic('timeit', '', 'li = []\\\\nfor n in range(10000):\\\\n  li.append(n ** n)')\", 'In', 'Out[21]', 'Out', 'Out[14]', 'Out[3]', 'Out[18]', 'print(\"In[18]:\" + In191] + \"\\\\nOut[18]: \" + Out[18])', 'print(\"In[18]:\" + In[18] + \"\\\\nOut[18]: \" + Out[18])', '# 이전\\nprint(_)', '# 이전 이전\\nprint(__)']\n"
     ]
    }
   ],
   "source": [
    "# 이전 이전\n",
    "print(__)"
   ]
  },
  {
   "cell_type": "code",
   "execution_count": 58,
   "metadata": {
    "colab": {
     "base_uri": "https://localhost:8080/"
    },
    "id": "7Jfpuu6ZtWjP",
    "outputId": "7fc8250a-be07-4bd4-fda3-738b2f0eb1fd"
   },
   "outputs": [
    {
     "name": "stdout",
     "output_type": "stream",
     "text": [
      "16\n"
     ]
    }
   ],
   "source": [
    "# 이전 이전 이전\n",
    "print(___)"
   ]
  },
  {
   "cell_type": "code",
   "execution_count": 60,
   "metadata": {
    "colab": {
     "base_uri": "https://localhost:8080/",
     "height": 41
    },
    "id": "4j71-ohhti9u",
    "outputId": "00c7c2c1-7896-46f2-dca1-9162f02573d2"
   },
   "outputs": [
    {
     "data": {
      "application/vnd.google.colaboratory.intrinsic+json": {
       "type": "string"
      },
      "text/plain": [
       "'Linux-5.4.104+-x86_64-with-Ubuntu-18.04-bionic'"
      ]
     },
     "execution_count": 60,
     "metadata": {
      "tags": []
     },
     "output_type": "execute_result"
    }
   ],
   "source": [
    "_18"
   ]
  },
  {
   "cell_type": "markdown",
   "metadata": {
    "id": "Nf8CVZiTt4r-"
   },
   "source": [
    "* `%history`를 이용한 입력 이력 살펴보기"
   ]
  },
  {
   "cell_type": "code",
   "execution_count": 61,
   "metadata": {
    "colab": {
     "base_uri": "https://localhost:8080/"
    },
    "id": "GiVkb35YuQTL",
    "outputId": "9f7d3b28-2ce0-49c2-d069-bee41ea7691e"
   },
   "outputs": [
    {
     "name": "stdout",
     "output_type": "stream",
     "text": [
      "   1:\n",
      "import platform\n",
      "platform.platform()\n",
      "   2: !cat /etc/issue.net\n",
      "   3: !cat /proc/cpuinfo\n",
      "   4: !cat /proc/meminfo\n",
      "   5: !df -h\n",
      "   6: !python --version\n",
      "   7: !nvidia-smi\n"
     ]
    }
   ],
   "source": [
    "%history -n 1-7"
   ]
  },
  {
   "cell_type": "markdown",
   "metadata": {
    "id": "1oOEYT9Zu8Yo"
   },
   "source": [
    "* `%rerun`을 이용해 이전 입력 이력 다시 실행"
   ]
  },
  {
   "cell_type": "code",
   "execution_count": 62,
   "metadata": {
    "colab": {
     "base_uri": "https://localhost:8080/"
    },
    "id": "ZWLXBxdtvCOV",
    "outputId": "66fc3517-9586-4ab9-e7db-c4e22db12a52"
   },
   "outputs": [
    {
     "name": "stdout",
     "output_type": "stream",
     "text": [
      "=== Executing: ===\n",
      "%history -n 1-7\n",
      "=== Output: ===\n",
      "   1:\n",
      "import platform\n",
      "platform.platform()\n",
      "   2: !cat /etc/issue.net\n",
      "   3: !cat /proc/cpuinfo\n",
      "   4: !cat /proc/meminfo\n",
      "   5: !df -h\n",
      "   6: !python --version\n",
      "   7: !nvidia-smi\n"
     ]
    }
   ],
   "source": [
    "%rerun"
   ]
  },
  {
   "cell_type": "markdown",
   "metadata": {
    "id": "LzKq5kwvds25"
   },
   "source": [
    "## 셸 명령어\n",
    "\n",
    "* 텍스트 기반의 셸 명령어 처리\n",
    "* `!` 문자를 명령어 앞에 붙여서 셸 명령어 사용 가능"
   ]
  },
  {
   "cell_type": "markdown",
   "metadata": {
    "id": "oFThpCCPhm45"
   },
   "source": [
    "* `ls`: 디렉토리 리스트 보기"
   ]
  },
  {
   "cell_type": "code",
   "execution_count": 63,
   "metadata": {
    "colab": {
     "base_uri": "https://localhost:8080/"
    },
    "id": "7iAgViCpdvh9",
    "outputId": "bbdc3385-3f39-4c87-b1c5-fcae19a307bd"
   },
   "outputs": [
    {
     "name": "stdout",
     "output_type": "stream",
     "text": [
      "Distance_measurement_using_single_camera-main.zip  test.py\n",
      "sample_data\t\t\t\t\t   test.txt\n"
     ]
    }
   ],
   "source": [
    "!ls"
   ]
  },
  {
   "cell_type": "markdown",
   "metadata": {
    "id": "RuKN3MuvhvTB"
   },
   "source": [
    "* `pwd`: 현재 경로 보기"
   ]
  },
  {
   "cell_type": "code",
   "execution_count": 64,
   "metadata": {
    "colab": {
     "base_uri": "https://localhost:8080/"
    },
    "id": "aOwJCr3GekKJ",
    "outputId": "6ad38599-7e07-49cd-8b76-4ac976aac934"
   },
   "outputs": [
    {
     "name": "stdout",
     "output_type": "stream",
     "text": [
      "/content\n"
     ]
    }
   ],
   "source": [
    "!pwd"
   ]
  },
  {
   "cell_type": "markdown",
   "metadata": {
    "id": "1dCCjWyphyOP"
   },
   "source": [
    "* `cd`: 디렉토리 변경\n",
    "* IPython에서는 임시 셸에서 실행"
   ]
  },
  {
   "cell_type": "code",
   "execution_count": 65,
   "metadata": {
    "colab": {
     "base_uri": "https://localhost:8080/"
    },
    "id": "KXtuuGvXfAU-",
    "outputId": "7ff117cc-4d98-4439-d181-9ed7534d86fc"
   },
   "outputs": [
    {
     "name": "stdout",
     "output_type": "stream",
     "text": [
      "anscombe.json\t\t      mnist_test.csv\n",
      "california_housing_test.csv   mnist_train_small.csv\n",
      "california_housing_train.csv  README.md\n"
     ]
    }
   ],
   "source": [
    "!cd sample_data/ && ls"
   ]
  },
  {
   "cell_type": "markdown",
   "metadata": {
    "id": "yjrAafNlh65Q"
   },
   "source": [
    "* `%cd`: 지속적인 디렉토리 변경"
   ]
  },
  {
   "cell_type": "code",
   "execution_count": 66,
   "metadata": {
    "colab": {
     "base_uri": "https://localhost:8080/"
    },
    "id": "Q1MBKD4YfpyB",
    "outputId": "7a286bb9-3823-423e-d652-91259a0c2b92"
   },
   "outputs": [
    {
     "name": "stdout",
     "output_type": "stream",
     "text": [
      "/content/sample_data\n"
     ]
    }
   ],
   "source": [
    "%cd sample_data "
   ]
  },
  {
   "cell_type": "markdown",
   "metadata": {
    "id": "b8xPHOjsiQCL"
   },
   "source": [
    "* `echo`: 화면 출력"
   ]
  },
  {
   "cell_type": "code",
   "execution_count": 67,
   "metadata": {
    "colab": {
     "base_uri": "https://localhost:8080/"
    },
    "id": "-9FYy8rzeljZ",
    "outputId": "bf1435f9-38f3-49a9-bf0d-d73116a246aa"
   },
   "outputs": [
    {
     "name": "stdout",
     "output_type": "stream",
     "text": [
      "GG\n"
     ]
    }
   ],
   "source": [
    "!echo GG"
   ]
  },
  {
   "cell_type": "markdown",
   "metadata": {
    "id": "3oRMLDh_mswk"
   },
   "source": [
    "* `mkdir`: 디렉토리 생성"
   ]
  },
  {
   "cell_type": "code",
   "execution_count": 68,
   "metadata": {
    "id": "Eofit8K-fcjG"
   },
   "outputs": [],
   "source": [
    "!mkdir tmp"
   ]
  },
  {
   "cell_type": "code",
   "execution_count": 69,
   "metadata": {
    "colab": {
     "base_uri": "https://localhost:8080/"
    },
    "id": "9djMxCwYiXrc",
    "outputId": "7e1a9846-f9fe-4ed7-d109-0d39bb3f5d4e"
   },
   "outputs": [
    {
     "name": "stdout",
     "output_type": "stream",
     "text": [
      "anscombe.json\t\t      mnist_test.csv\t     tmp\n",
      "california_housing_test.csv   mnist_train_small.csv\n",
      "california_housing_train.csv  README.md\n"
     ]
    }
   ],
   "source": [
    "!ls"
   ]
  },
  {
   "cell_type": "markdown",
   "metadata": {
    "id": "Ji6oMNFQmysC"
   },
   "source": [
    "* `cat`: 파일 보기"
   ]
  },
  {
   "cell_type": "code",
   "execution_count": 75,
   "metadata": {
    "colab": {
     "base_uri": "https://localhost:8080/"
    },
    "id": "GICda8P6mg1r",
    "outputId": "def9b073-a1f3-43c4-bc55-ca2750f305c3"
   },
   "outputs": [
    {
     "name": "stdout",
     "output_type": "stream",
     "text": [
      "This directory includes a few sample datasets to get you started.\n",
      "\n",
      "*   `california_housing_data*.csv` is California housing data from the 1990 US\n",
      "    Census; more information is available at:\n",
      "    https://developers.google.com/machine-learning/crash-course/california-housing-data-description\n",
      "\n",
      "*   `mnist_*.csv` is a small sample of the\n",
      "    [MNIST database](https://en.wikipedia.org/wiki/MNIST_database), which is\n",
      "    described at: http://yann.lecun.com/exdb/mnist/\n",
      "\n",
      "*   `anscombe.json` contains a copy of\n",
      "    [Anscombe's quartet](https://en.wikipedia.org/wiki/Anscombe%27s_quartet); it\n",
      "    was originally described in\n",
      "\n",
      "    Anscombe, F. J. (1973). 'Graphs in Statistical Analysis'. American\n",
      "    Statistician. 27 (1): 17-21. JSTOR 2682899.\n",
      "\n",
      "    and our copy was prepared by the\n",
      "    [vega_datasets library](https://github.com/altair-viz/vega_datasets/blob/4f67bdaad10f45e3549984e17e1b3088c731503d/vega_datasets/_data/anscombe.json).\n"
     ]
    }
   ],
   "source": [
    "!cat README.md"
   ]
  },
  {
   "cell_type": "markdown",
   "metadata": {
    "id": "3Ns4pYQJm1nR"
   },
   "source": [
    "* `cp`: 디렉토리/파일 복사"
   ]
  },
  {
   "cell_type": "code",
   "execution_count": 71,
   "metadata": {
    "id": "-XIDsmsum7Sb"
   },
   "outputs": [],
   "source": [
    "!cp README.md tmp/"
   ]
  },
  {
   "cell_type": "code",
   "execution_count": 72,
   "metadata": {
    "colab": {
     "base_uri": "https://localhost:8080/"
    },
    "id": "T_3VG78OnDb9",
    "outputId": "f7bfe404-af15-412c-d1a4-705511078a30"
   },
   "outputs": [
    {
     "name": "stdout",
     "output_type": "stream",
     "text": [
      "README.md\n"
     ]
    }
   ],
   "source": [
    "!ls tmp/"
   ]
  },
  {
   "cell_type": "markdown",
   "metadata": {
    "id": "ZR53WLOfnGH7"
   },
   "source": [
    "* `rm`: 디렉토리/파일 삭제"
   ]
  },
  {
   "cell_type": "code",
   "execution_count": 73,
   "metadata": {
    "id": "WI1dpUV6nJyd"
   },
   "outputs": [],
   "source": [
    "!rm -r tmp"
   ]
  },
  {
   "cell_type": "code",
   "execution_count": 74,
   "metadata": {
    "colab": {
     "base_uri": "https://localhost:8080/"
    },
    "id": "78Fr9nEhnMsg",
    "outputId": "9184c682-659f-48f7-8373-8975c4202665"
   },
   "outputs": [
    {
     "name": "stdout",
     "output_type": "stream",
     "text": [
      "anscombe.json\t\t      mnist_test.csv\n",
      "california_housing_test.csv   mnist_train_small.csv\n",
      "california_housing_train.csv  README.md\n"
     ]
    }
   ],
   "source": [
    "!ls"
   ]
  },
  {
   "cell_type": "markdown",
   "metadata": {
    "id": "OrcSIf_T8gii"
   },
   "source": [
    "\n",
    "\n",
    "---\n",
    "\n"
   ]
  },
  {
   "cell_type": "markdown",
   "metadata": {
    "id": "7hDXZYpnA_DO"
   },
   "source": [
    "# 마크다운(Markdown)\n",
    "\n",
    "* 문법이 간단하고, 사용이 쉬움\n"
   ]
  },
  {
   "cell_type": "markdown",
   "metadata": {
    "id": "c0Sjw59GC_Kn"
   },
   "source": [
    "\n",
    "## 제목(Heading) 표시\n",
    "\n",
    "```\n",
    "# Heading 1\n",
    "## Heading 2\n",
    "### Heading 3\n",
    "#### Heading 4\n",
    "##### Heading 5\n",
    "###### Heading 6\n",
    "```"
   ]
  },
  {
   "cell_type": "markdown",
   "metadata": {
    "id": "WXfs_Cu1Co-H"
   },
   "source": [
    "# Heading 1\n",
    "## Heading 2\n",
    "### Heading 3\n",
    "#### Heading 4\n",
    "##### Heading 5\n",
    "###### Heading 6"
   ]
  },
  {
   "cell_type": "markdown",
   "metadata": {
    "id": "oTWz1WgDBtqM"
   },
   "source": [
    "## 목록(List) 구성\n",
    "```\n",
    "1. 첫째\n",
    "2. 둘째\n",
    "3. 셋째\n",
    "* 1단계\n",
    "  + 2단계\n",
    "    - 3단계\n",
    "\n",
    "```\n"
   ]
  },
  {
   "cell_type": "markdown",
   "metadata": {
    "id": "fSJ0j0Y8CsKW"
   },
   "source": [
    "1. 첫째\n",
    "2. 둘째\n",
    "3. 셋째\n",
    "* 1단계\n",
    "  + 2단계\n",
    "    - 3단계"
   ]
  },
  {
   "cell_type": "markdown",
   "metadata": {
    "id": "TsaBsQUsCTE0"
   },
   "source": [
    "## 폰트 스타일(Font Style)\n",
    "\n",
    "```\n",
    "\n",
    "**bold**\n",
    "__bold__\n",
    "*italic*\n",
    "_italic_\n",
    "~~strike~~\n",
    "<u>underbar</u>\n",
    "\n",
    "```"
   ]
  },
  {
   "cell_type": "markdown",
   "metadata": {
    "id": "Fu4Lk62RCivG"
   },
   "source": [
    "**bold**\n",
    "__bold__\n",
    "*italic*\n",
    "_italic_\n",
    "~~strike~~\n",
    "<u>underbar</u>"
   ]
  },
  {
   "cell_type": "markdown",
   "metadata": {
    "id": "P8PLWLSODwrS"
   },
   "source": [
    "## 인용구\n",
    "```\n",
    "> 인용 1\n",
    ">> 인용 2\n",
    ">>> 인용 3\n",
    "```\n",
    "\n"
   ]
  },
  {
   "cell_type": "markdown",
   "metadata": {
    "id": "gchOf72GD5lt"
   },
   "source": [
    "> 인용 1\n",
    ">> 인용 2\n",
    ">>> 인용 3"
   ]
  },
  {
   "cell_type": "markdown",
   "metadata": {
    "id": "Jw5EeYO9D8AI"
   },
   "source": [
    "## 링크\n",
    "\n",
    "```\n",
    "[Google](https://www.google.com)\n",
    "```\n",
    "\n"
   ]
  },
  {
   "cell_type": "markdown",
   "metadata": {
    "id": "2NVoA14BEMqB"
   },
   "source": [
    "[Google](https://www.google.com)"
   ]
  },
  {
   "cell_type": "markdown",
   "metadata": {
    "id": "XclscvygEVcp"
   },
   "source": [
    "## 이미지\n",
    "```\n",
    "![이미지](![이미지](https://datascience.foundation/backend/web/uploads/blog/Working-with-Python-on-Cloud.png)\n",
    "```"
   ]
  },
  {
   "cell_type": "markdown",
   "metadata": {
    "id": "puOkShcgEnuq"
   },
   "source": [
    "![이미지](https://datascience.foundation/backend/web/uploads/blog/Working-with-Python-on-Cloud.png)"
   ]
  },
  {
   "cell_type": "markdown",
   "metadata": {},
   "source": [
    "### 이미지 조절\n",
    "```\n",
    "<div> <img align='left' src='attachment:image.png' width='500' /> </div>\n",
    "```"
   ]
  },
  {
   "cell_type": "markdown",
   "metadata": {
    "id": "mVy5Qmd4Erlp"
   },
   "source": [
    "## 수평선\n",
    "```\n",
    "---\n",
    "```\n",
    "\n",
    "\n"
   ]
  },
  {
   "cell_type": "markdown",
   "metadata": {
    "id": "VhNkI-8VEviE"
   },
   "source": [
    "---"
   ]
  },
  {
   "cell_type": "markdown",
   "metadata": {
    "id": "hBVgu-TnEyFt"
   },
   "source": [
    "## 표\n",
    "\n",
    "```\n",
    "| 000C1000 | 000C2000| 000C3000  |\n",
    "|:---|---:|:---:|\n",
    "| D1 | D2 | D3 |\n",
    "```\n"
   ]
  },
  {
   "cell_type": "markdown",
   "metadata": {
    "id": "5X87z4qYFFF-"
   },
   "source": [
    "| 000C1000 | 000C2000| 000C3000  |\n",
    "|:---|---:|:---:|\n",
    "| D1 | D2 | D3 |"
   ]
  },
  {
   "cell_type": "markdown",
   "metadata": {
    "id": "hqpFpco_FMfT"
   },
   "source": [
    "## 코드\n",
    "```\n",
    "`inline code`\n",
    "\n",
    "```block~~\n",
    " code```\n",
    "\n",
    "```\n",
    "\n",
    "\n"
   ]
  },
  {
   "cell_type": "markdown",
   "metadata": {
    "id": "32V1r2KeG1He"
   },
   "source": [
    "`inline code`\n",
    "\n",
    "```block~~\n",
    " code```"
   ]
  }
 ],
 "metadata": {
  "accelerator": "GPU",
  "colab": {
   "collapsed_sections": [],
   "name": "Copy of _00 Google Colab, Jupyter Notebook, Markdown.ipynb",
   "provenance": []
  },
  "kernelspec": {
   "display_name": "Python 3",
   "language": "python",
   "name": "python3"
  },
  "language_info": {
   "codemirror_mode": {
    "name": "ipython",
    "version": 3
   },
   "file_extension": ".py",
   "mimetype": "text/x-python",
   "name": "python",
   "nbconvert_exporter": "python",
   "pygments_lexer": "ipython3",
   "version": "3.8.5"
  },
  "toc": {
   "base_numbering": 1,
   "nav_menu": {},
   "number_sections": true,
   "sideBar": true,
   "skip_h1_title": false,
   "title_cell": "Table of Contents",
   "title_sidebar": "Contents",
   "toc_cell": false,
   "toc_position": {
    "height": "calc(100% - 180px)",
    "left": "10px",
    "top": "150px",
    "width": "426.823px"
   },
   "toc_section_display": true,
   "toc_window_display": true
  }
 },
 "nbformat": 4,
 "nbformat_minor": 1
}
