{
 "cells": [
  {
   "cell_type": "markdown",
   "metadata": {
    "id": "bg5ZXMV2sn1M"
   },
   "source": [
    "# 제어문(Control Statement)"
   ]
  },
  {
   "cell_type": "markdown",
   "metadata": {
    "id": "Lj_iZPKnCRP0"
   },
   "source": [
    "\n",
    "\n",
    "---\n",
    "\n"
   ]
  },
  {
   "cell_type": "markdown",
   "metadata": {
    "id": "zXbENjlMCrkU"
   },
   "source": [
    "## 조건문(Conditional Statement)\n"
   ]
  },
  {
   "cell_type": "markdown",
   "metadata": {},
   "source": [
    "* 조건에 따라 문장을 수행\n",
    "* 주어진 조건을 판단하고 상황에 맞는 처리가 필요할 때 사용\n",
    "* 파이썬에서 제공하는 조건문\n",
    "    - if\n",
    "    - else\n",
    "    - elif"
   ]
  },
  {
   "cell_type": "markdown",
   "metadata": {
    "id": "QerabWfwCvtt"
   },
   "source": [
    "### if 문\n"
   ]
  },
  {
   "cell_type": "markdown",
   "metadata": {},
   "source": [
    "* if 문은 True 와 False를 판단하는 조건문\n",
    "* if 조건 뒤에는 콜론(`:`)"
   ]
  },
  {
   "cell_type": "markdown",
   "metadata": {},
   "source": [
    "```\n",
    "if <조건>:\n",
    "    <문장>\n",
    "    ```"
   ]
  },
  {
   "attachments": {
    "image.png": {
     "image/png": "[encoded data removed]"
    }
   },
   "cell_type": "markdown",
   "metadata": {},
   "source": [
    "<div> <img align='left' src='attachment:image.png' width='200' /></div>"
   ]
  },
  {
   "cell_type": "markdown",
   "metadata": {},
   "source": [
    "https://www.javatpoint.com/java-if-else "
   ]
  },
  {
   "cell_type": "markdown",
   "metadata": {
    "id": "UkYuDgdYjW1p"
   },
   "source": [
    "* if 문을 이용한 미세먼지 측정\n",
    "  + 미세먼지 농도 pm\n",
    "  + 35 초과는 미세먼지 농도 나쁨"
   ]
  },
  {
   "cell_type": "code",
   "execution_count": 4,
   "metadata": {
    "ExecuteTime": {
     "end_time": "2021-06-26T14:24:35.314308Z",
     "start_time": "2021-06-26T14:24:35.306300Z"
    },
    "id": "22ALZ21LE60j"
   },
   "outputs": [
    {
     "name": "stdout",
     "output_type": "stream",
     "text": [
      "미세먼지 농도: 나쁨\n"
     ]
    }
   ],
   "source": [
    "pm = 40\n",
    "if pm > 35:\n",
    "    print(\"미세먼지 농도: 나쁨\")"
   ]
  },
  {
   "cell_type": "markdown",
   "metadata": {
    "id": "of4Jq8l-McX7"
   },
   "source": [
    "### if-else 문\n"
   ]
  },
  {
   "cell_type": "markdown",
   "metadata": {},
   "source": [
    "* if-else 구조\n",
    "\n",
    "```\n",
    "if <조건>:\n",
    "    <문장 1>\n",
    "else:\n",
    "    <문장 2>\n",
    "    ```"
   ]
  },
  {
   "cell_type": "markdown",
   "metadata": {
    "id": "KBi_DsHtkj5R"
   },
   "source": [
    "* if-else 문을 이용한 미세먼지 측정\n",
    "  + 미세먼지 농도 pm\n",
    "  + 36 이상은 미세먼지 농도 나쁨\n",
    "  + 35 이하는 미세먼지 농도 좋음"
   ]
  },
  {
   "cell_type": "code",
   "execution_count": 5,
   "metadata": {
    "ExecuteTime": {
     "end_time": "2021-06-26T14:24:35.329320Z",
     "start_time": "2021-06-26T14:24:35.315309Z"
    },
    "id": "w4JB__zpL_BW"
   },
   "outputs": [
    {
     "name": "stdout",
     "output_type": "stream",
     "text": [
      "미세먼지 농도: 좋음\n"
     ]
    }
   ],
   "source": [
    "pm = 30\n",
    "if pm >= 36:\n",
    "    print(\"미세먼지 농도: 나쁨\")\n",
    "else:\n",
    "    print(\"미세먼지 농도: 좋음\")"
   ]
  },
  {
   "cell_type": "markdown",
   "metadata": {
    "id": "lcdJvb_vFiKf"
   },
   "source": [
    "### if-elif-else 문\n"
   ]
  },
  {
   "cell_type": "markdown",
   "metadata": {},
   "source": [
    "```\n",
    "if <조건1>:\n",
    "    <문장1>\n",
    "elif <조건2>:\n",
    "    <문장2>\n",
    "else:\n",
    "    <문장3>\n",
    "    ```"
   ]
  },
  {
   "cell_type": "markdown",
   "metadata": {
    "id": "DV4n1qxhnFIV"
   },
   "source": [
    "* if-elif-else 문을 이용한 미세먼지 측정\n",
    "  + 미세먼지 농도 pm\n",
    "  + 미세먼지 농도 0~15: 좋음\n",
    "  + 미세먼지 농도 16~35: 보통\n",
    "  + 미세먼지 농도 36~75: 나쁨\n",
    "  + 미세먼지 농도 76~: 매우나쁨"
   ]
  },
  {
   "cell_type": "code",
   "execution_count": 6,
   "metadata": {
    "ExecuteTime": {
     "end_time": "2021-06-26T14:24:35.344333Z",
     "start_time": "2021-06-26T14:24:35.330321Z"
    },
    "id": "xlo8NoTeF0dV"
   },
   "outputs": [
    {
     "name": "stdout",
     "output_type": "stream",
     "text": [
      "미세먼지 농도: 보통\n"
     ]
    }
   ],
   "source": [
    "pm = 30\n",
    "if pm >= 76:\n",
    "    print(\"미세먼지 농도: 매우나쁨\")\n",
    "if pm >= 36:\n",
    "    print(\"미세먼지 농도: 나쁨\")\n",
    "if pm >= 16:\n",
    "    print(\"미세먼지 농도: 보통\")\n",
    "else:\n",
    "    print(\"미세먼지 농도: 좋음\")"
   ]
  },
  {
   "cell_type": "markdown",
   "metadata": {
    "id": "PdkLJlqioT_b"
   },
   "source": [
    "### 중첩 if 문\n",
    "\n",
    "\n"
   ]
  },
  {
   "cell_type": "markdown",
   "metadata": {},
   "source": [
    "* if 문 안에 if 문에 포함된 형태"
   ]
  },
  {
   "cell_type": "markdown",
   "metadata": {
    "id": "8JdYeATzowCy"
   },
   "source": [
    "* 중첩 if 문을 이용한 미세먼지 측정\n",
    "  + 미세먼지 농도 pm\n",
    "  + 미세먼지 농도 0~15: 좋음\n",
    "  + 미세먼지 농도 16~35: 보통\n",
    "  + 미세먼지 농도 36~75: 나쁨\n",
    "  + 미세먼지 농도 76~: 매우나쁨"
   ]
  },
  {
   "cell_type": "code",
   "execution_count": 7,
   "metadata": {
    "ExecuteTime": {
     "end_time": "2021-06-26T14:29:15.548263Z",
     "start_time": "2021-06-26T14:29:15.531248Z"
    },
    "id": "ZuYX5TCro3B9"
   },
   "outputs": [
    {
     "name": "stdout",
     "output_type": "stream",
     "text": [
      "미세먼지 농도: 매우나쁨\n"
     ]
    }
   ],
   "source": [
    "pm = 80\n",
    "if pm < 36:\n",
    "    if pm > 16:\n",
    "        print(\"미세먼지 농도: 보통\")\n",
    "    else:\n",
    "        print(\"미세먼지 농도: 좋음\")\n",
    "else:\n",
    "    if pm < 76:\n",
    "        print(\"미세먼지 농도: 나쁨\")\n",
    "    else:\n",
    "        print(\"미세먼지 농도: 매우나쁨\")"
   ]
  },
  {
   "cell_type": "markdown",
   "metadata": {
    "id": "sB6Li0FmU9eM"
   },
   "source": [
    "### if-pass 문\n",
    "\n",
    "* 조건문은 있지만 실행할 문장이 없는 경우, 오류가 발생하지 않도록 무시하고 넘어가는 기능"
   ]
  },
  {
   "cell_type": "code",
   "execution_count": 8,
   "metadata": {
    "ExecuteTime": {
     "end_time": "2021-06-26T14:30:08.801351Z",
     "start_time": "2021-06-26T14:30:08.796347Z"
    },
    "id": "iIOjo8LEVPqy"
   },
   "outputs": [
    {
     "ename": "SyntaxError",
     "evalue": "unexpected EOF while parsing (<ipython-input-8-067fb2a58166>, line 3)",
     "output_type": "error",
     "traceback": [
      "\u001b[1;36m  File \u001b[1;32m\"<ipython-input-8-067fb2a58166>\"\u001b[1;36m, line \u001b[1;32m3\u001b[0m\n\u001b[1;33m    else:\u001b[0m\n\u001b[1;37m         ^\u001b[0m\n\u001b[1;31mSyntaxError\u001b[0m\u001b[1;31m:\u001b[0m unexpected EOF while parsing\n"
     ]
    }
   ],
   "source": [
    "# if 10 > 5:\n",
    "#     print(10)\n",
    "# else:\n",
    "\n",
    "\n",
    "#  File \"<ipython-input-8-067fb2a58166>\", line 3\n",
    "# else:\n",
    "#          ^\n",
    "# SyntaxError: unexpected EOF while parsing"
   ]
  },
  {
   "cell_type": "code",
   "execution_count": 9,
   "metadata": {
    "ExecuteTime": {
     "end_time": "2021-06-26T14:30:42.404518Z",
     "start_time": "2021-06-26T14:30:42.394509Z"
    }
   },
   "outputs": [
    {
     "name": "stdout",
     "output_type": "stream",
     "text": [
      "10\n"
     ]
    }
   ],
   "source": [
    "if 10 > 5:\n",
    "    print(10)\n",
    "else:\n",
    "    pass"
   ]
  },
  {
   "cell_type": "markdown",
   "metadata": {
    "id": "ERFC5XXnqTab"
   },
   "source": [
    "### if 조건 연산자\n",
    "\n",
    "* 비교연산자: <, >, ==, !=, >=, <=\n"
   ]
  },
  {
   "cell_type": "code",
   "execution_count": 11,
   "metadata": {
    "ExecuteTime": {
     "end_time": "2021-06-26T14:31:31.898059Z",
     "start_time": "2021-06-26T14:31:31.895056Z"
    },
    "id": "oON1NgdYvSVj"
   },
   "outputs": [
    {
     "name": "stdout",
     "output_type": "stream",
     "text": [
      "2\n",
      "3\n",
      "2\n"
     ]
    }
   ],
   "source": [
    "if 2 > 1:\n",
    "    print(2)\n",
    "    \n",
    "if 3 == 3:\n",
    "    print(3)\n",
    "    \n",
    "if 1 != 2:\n",
    "    print(2)"
   ]
  },
  {
   "cell_type": "markdown",
   "metadata": {
    "id": "tsZNODf8vMdM"
   },
   "source": [
    "* 논리연산자: and, or, not"
   ]
  },
  {
   "cell_type": "code",
   "execution_count": 14,
   "metadata": {
    "ExecuteTime": {
     "end_time": "2021-06-26T14:34:02.884408Z",
     "start_time": "2021-06-26T14:34:02.878404Z"
    },
    "id": "xbhbbC_urU5t"
   },
   "outputs": [
    {
     "name": "stdout",
     "output_type": "stream",
     "text": [
      "진눈깨비\n",
      "흐림\n"
     ]
    }
   ],
   "source": [
    "rain = True\n",
    "snow = True\n",
    "sun = False\n",
    "\n",
    "if rain and snow:\n",
    "    print(\"진눈깨비\")\n",
    "    \n",
    "if not sun:\n",
    "    print(\"흐림\")\n",
    "else:\n",
    "    print(\"맑음\")"
   ]
  },
  {
   "cell_type": "markdown",
   "metadata": {
    "id": "neifpa1BvNya"
   },
   "source": [
    "* 멤버연산자: in, not in\n"
   ]
  },
  {
   "cell_type": "code",
   "execution_count": 19,
   "metadata": {
    "ExecuteTime": {
     "end_time": "2021-06-26T14:36:08.094358Z",
     "start_time": "2021-06-26T14:36:08.090354Z"
    },
    "id": "WWu4uaX5rcTb"
   },
   "outputs": [
    {
     "name": "stdout",
     "output_type": "stream",
     "text": [
      "One\n",
      "Four is not in list\n"
     ]
    }
   ],
   "source": [
    "l = ['One', 'Two', 'Three']\n",
    "\n",
    "if 'One' in l:\n",
    "    print('One')\n",
    "    \n",
    "if 'Four' not in list:\n",
    "    print('Four is not in list')"
   ]
  },
  {
   "cell_type": "markdown",
   "metadata": {
    "id": "0V1ky9ZMucnL"
   },
   "source": [
    "* 식별연산자: is, is not"
   ]
  },
  {
   "cell_type": "code",
   "execution_count": 20,
   "metadata": {
    "ExecuteTime": {
     "end_time": "2021-06-26T14:37:02.692042Z",
     "start_time": "2021-06-26T14:37:02.685036Z"
    },
    "id": "puETQb28t3ua"
   },
   "outputs": [
    {
     "name": "stdout",
     "output_type": "stream",
     "text": [
      "Yes, it is\n",
      "One is not Two\n"
     ]
    },
    {
     "name": "stderr",
     "output_type": "stream",
     "text": [
      "<>:1: SyntaxWarning: \"is\" with a literal. Did you mean \"==\"?\n",
      "<>:4: SyntaxWarning: \"is not\" with a literal. Did you mean \"!=\"?\n",
      "<>:1: SyntaxWarning: \"is\" with a literal. Did you mean \"==\"?\n",
      "<>:4: SyntaxWarning: \"is not\" with a literal. Did you mean \"!=\"?\n",
      "<ipython-input-20-5ffb96d2f0c6>:1: SyntaxWarning: \"is\" with a literal. Did you mean \"==\"?\n",
      "  if 'One' is 'One':\n",
      "<ipython-input-20-5ffb96d2f0c6>:4: SyntaxWarning: \"is not\" with a literal. Did you mean \"!=\"?\n",
      "  if 'One' is not 'Two':\n"
     ]
    }
   ],
   "source": [
    "if 'One' is 'One':\n",
    "    print('Yes, it is')\n",
    "    \n",
    "if 'One' is not 'Two':\n",
    "    print('One is not Two')\n",
    "    "
   ]
  },
  {
   "cell_type": "markdown",
   "metadata": {
    "id": "9iV-FsBWzZ0k"
   },
   "source": [
    "### 조건부 표현식(Conditional Expression)\n",
    "\n",
    "* 한 라인으로 조건식을 사용한 표현"
   ]
  },
  {
   "cell_type": "code",
   "execution_count": 25,
   "metadata": {
    "ExecuteTime": {
     "end_time": "2021-06-26T14:39:13.392206Z",
     "start_time": "2021-06-26T14:39:13.377192Z"
    },
    "id": "_oS5aQybzfxw"
   },
   "outputs": [
    {
     "name": "stdout",
     "output_type": "stream",
     "text": [
      "통과\n",
      "탈락\n"
     ]
    }
   ],
   "source": [
    "score = 75\n",
    "msg = \"통과\" if score >= 70 else \"탈락\"\n",
    "print(msg)\n",
    "\n",
    "score = 65\n",
    "msg = \"통과\" if score >= 70 else \"탈락\"\n",
    "print(msg)"
   ]
  },
  {
   "cell_type": "markdown",
   "metadata": {
    "id": "iaXO0nIe4IsM"
   },
   "source": [
    "### [Lab] 학생 종류\n",
    "\n",
    "* 8세 미만 \"학생 아님\"\n",
    "* 14세 미만 \"초등학생\"\n",
    "* 17세 미만 \"중학생\"\n",
    "* 20세 미만 \"고등학생\"\n",
    "* 26세 미만 \"대학생\"\n",
    "* 그 외에 \"학생 아님\""
   ]
  },
  {
   "cell_type": "code",
   "execution_count": 26,
   "metadata": {
    "ExecuteTime": {
     "end_time": "2021-06-26T14:41:05.836591Z",
     "start_time": "2021-06-26T14:41:05.823627Z"
    },
    "id": "tiSoSbvB4yZa"
   },
   "outputs": [
    {
     "name": "stdout",
     "output_type": "stream",
     "text": [
      "대학생\n"
     ]
    }
   ],
   "source": [
    "age = 22\n",
    "if age < 8:\n",
    "    print(\"학생 아님\")\n",
    "elif age < 14:\n",
    "    print(\"초등학생\")\n",
    "elif age < 20:\n",
    "    print(\"고등학생\")\n",
    "elif age < 26:\n",
    "    print(\"대학생\")\n",
    "else:\n",
    "    print(\"학생 아님\")"
   ]
  },
  {
   "cell_type": "markdown",
   "metadata": {
    "id": "Xaqknnv_5weC"
   },
   "source": [
    "### [Lab] 학점 계산\n",
    "\n",
    "* 95점 이상 \"A+\"\n",
    "* 90점 이상 \"A\"\n",
    "* 85점 이상 \"B+\"\n",
    "* 80점 이상 \"B\"\n",
    "* 75점 이상 \"C+\"\n",
    "* 70점 이상 \"C\"\n",
    "* 65점 이상 \"D+\"\n",
    "* 60점 이상 \"D\"\n",
    "* 그 외 \"F\""
   ]
  },
  {
   "cell_type": "code",
   "execution_count": 27,
   "metadata": {
    "ExecuteTime": {
     "end_time": "2021-06-26T14:44:09.407876Z",
     "start_time": "2021-06-26T14:44:09.398137Z"
    },
    "id": "4fn4sB6a6BUL"
   },
   "outputs": [
    {
     "name": "stdout",
     "output_type": "stream",
     "text": [
      "C+\n"
     ]
    }
   ],
   "source": [
    "score = 75\n",
    "if score >= 95: mark = 'A+'\n",
    "elif score >= 90: mark = 'A'\n",
    "elif score >= 85: mark = 'B+'\n",
    "elif score >= 80: mark = 'B'\n",
    "elif score >= 75: mark = 'C+'\n",
    "elif score >= 70: mark = 'C'\n",
    "elif score >= 65: mark = 'D+'\n",
    "else: mark = 'D'\n",
    "    \n",
    "print(mark)"
   ]
  },
  {
   "cell_type": "markdown",
   "metadata": {
    "id": "0BWIlqrPCr__"
   },
   "source": [
    "\n",
    "\n",
    "---\n",
    "\n"
   ]
  },
  {
   "cell_type": "markdown",
   "metadata": {
    "id": "ZfKg8LniN113"
   },
   "source": [
    "## 반복문(Repetitive Statement)\n"
   ]
  },
  {
   "cell_type": "markdown",
   "metadata": {
    "id": "tsxOiKAD7Lfw"
   },
   "source": [
    "### while 문\n"
   ]
  },
  {
   "cell_type": "markdown",
   "metadata": {},
   "source": [
    "* 어떤 조건이 만족하는 동안 문장을 수행하고 만족하지 않는 경우 수행 중단\n",
    "\n",
    "* while 문 기본 문법\n",
    "\n",
    "\n",
    "\n",
    "```\n",
    "while <조건>:\n",
    "    <문장>\n",
    "    \n",
    "```"
   ]
  },
  {
   "cell_type": "markdown",
   "metadata": {
    "id": "q9SCeICMB32o"
   },
   "source": [
    "* while 문 예제: 1부터 10까지 반복"
   ]
  },
  {
   "cell_type": "code",
   "execution_count": 28,
   "metadata": {
    "ExecuteTime": {
     "end_time": "2021-06-26T14:46:07.916270Z",
     "start_time": "2021-06-26T14:46:07.904260Z"
    },
    "id": "zjBqbHUhPjUX"
   },
   "outputs": [
    {
     "name": "stdout",
     "output_type": "stream",
     "text": [
      "1\n",
      "2\n",
      "3\n",
      "4\n",
      "5\n",
      "6\n",
      "7\n",
      "8\n",
      "9\n",
      "10\n"
     ]
    }
   ],
   "source": [
    "i = 1\n",
    "while i <= 10:\n",
    "    print(i)\n",
    "    i += 1"
   ]
  },
  {
   "cell_type": "markdown",
   "metadata": {
    "id": "GWKxC-EyB-ou"
   },
   "source": [
    "* while 문 예제: 1부터 10까지 더하기"
   ]
  },
  {
   "cell_type": "code",
   "execution_count": 29,
   "metadata": {
    "ExecuteTime": {
     "end_time": "2021-06-26T14:48:09.555042Z",
     "start_time": "2021-06-26T14:48:09.553040Z"
    },
    "id": "KamhbhLtBjyu"
   },
   "outputs": [
    {
     "name": "stdout",
     "output_type": "stream",
     "text": [
      "55\n"
     ]
    }
   ],
   "source": [
    "i = 1\n",
    "sum = 0 \n",
    "while i <= 10:\n",
    "    sum += i\n",
    "    i +=1\n",
    "print(sum)"
   ]
  },
  {
   "cell_type": "markdown",
   "metadata": {
    "id": "fE4el4w8CVnn"
   },
   "source": [
    "### for 문\n"
   ]
  },
  {
   "cell_type": "markdown",
   "metadata": {},
   "source": [
    "* 반복 범위를 지정하여 반복 수행\n",
    "* for 문 기본 문법\n",
    "\n",
    "```\n",
    "\n",
    "for 변수 in 리스트, 튜플, 문자열(iterable):\n",
    "    <문장>\n",
    "    \n",
    "```"
   ]
  },
  {
   "cell_type": "markdown",
   "metadata": {
    "id": "Szg_RE0dDVUI"
   },
   "source": [
    "* 리스트 요소 반복"
   ]
  },
  {
   "cell_type": "code",
   "execution_count": 30,
   "metadata": {
    "ExecuteTime": {
     "end_time": "2021-06-26T14:51:16.598018Z",
     "start_time": "2021-06-26T14:51:16.595014Z"
    },
    "id": "q-6XmZ7pCKfu"
   },
   "outputs": [
    {
     "name": "stdout",
     "output_type": "stream",
     "text": [
      "One\n",
      "Two\n",
      "Three\n"
     ]
    }
   ],
   "source": [
    "list = ['One', 'Two', 'Three']\n",
    "for i in list:\n",
    "    print(i)"
   ]
  },
  {
   "cell_type": "markdown",
   "metadata": {
    "id": "Jxy-YCKaJy6U"
   },
   "source": [
    "* 튜플 요소 반복"
   ]
  },
  {
   "cell_type": "code",
   "execution_count": 32,
   "metadata": {
    "ExecuteTime": {
     "end_time": "2021-06-26T14:52:48.025807Z",
     "start_time": "2021-06-26T14:52:48.019803Z"
    },
    "id": "bPTK1Da9DifT"
   },
   "outputs": [
    {
     "name": "stdout",
     "output_type": "stream",
     "text": [
      "One\n",
      "Two\n",
      "Three\n"
     ]
    }
   ],
   "source": [
    "list = ('One', 'Two', 'Three')\n",
    "for i in list:\n",
    "    print(i)"
   ]
  },
  {
   "cell_type": "markdown",
   "metadata": {
    "id": "-a5BBmWHJ08e"
   },
   "source": [
    "* 문자열 요소 반복"
   ]
  },
  {
   "cell_type": "code",
   "execution_count": 33,
   "metadata": {
    "ExecuteTime": {
     "end_time": "2021-06-26T14:53:19.931233Z",
     "start_time": "2021-06-26T14:53:19.918222Z"
    },
    "id": "sg2jzObGDk5u"
   },
   "outputs": [
    {
     "name": "stdout",
     "output_type": "stream",
     "text": [
      "N\n",
      "e\n",
      "v\n",
      "e\n",
      "r\n",
      " \n",
      "t\n",
      "r\n",
      "u\n",
      "s\n",
      "t\n",
      " \n",
      "a\n",
      " \n",
      "L\n",
      "a\n",
      "z\n",
      "y\n",
      " \n",
      "C\n",
      "o\n",
      "d\n",
      "e\n",
      " \n",
      "C\n",
      "h\n",
      "e\n",
      "f\n"
     ]
    }
   ],
   "source": [
    "string = \"Never trust a Lazy Code Chef\"\n",
    "for i in string:\n",
    "    print(i)"
   ]
  },
  {
   "cell_type": "markdown",
   "metadata": {
    "id": "6bel7wU6EFp4"
   },
   "source": [
    "#### range()\n"
   ]
  },
  {
   "cell_type": "markdown",
   "metadata": {},
   "source": [
    "* 범위 반복에 사용\n",
    "* range 문법\n",
    "\n",
    "```\n",
    "for 변수 in range(시작값, 마지막값, 증가값):\n",
    "    <문장>\n",
    "```"
   ]
  },
  {
   "cell_type": "code",
   "execution_count": 36,
   "metadata": {
    "ExecuteTime": {
     "end_time": "2021-06-26T14:54:55.983080Z",
     "start_time": "2021-06-26T14:54:55.978077Z"
    },
    "id": "sIV6ouO3D1Pj"
   },
   "outputs": [
    {
     "name": "stdout",
     "output_type": "stream",
     "text": [
      "0\n",
      "1\n",
      "2\n",
      "3\n",
      "4\n",
      "5\n",
      "6\n",
      "7\n",
      "8\n",
      "9\n",
      "10\n",
      "55\n"
     ]
    }
   ],
   "source": [
    "sum = 0 \n",
    "for i in range(11):\n",
    "    sum += i \n",
    "    print(i)\n",
    "print(sum)"
   ]
  },
  {
   "cell_type": "code",
   "execution_count": 37,
   "metadata": {
    "ExecuteTime": {
     "end_time": "2021-06-26T14:55:53.098489Z",
     "start_time": "2021-06-26T14:55:53.092485Z"
    },
    "id": "VtCQOfDpGG59"
   },
   "outputs": [
    {
     "name": "stdout",
     "output_type": "stream",
     "text": [
      "1\n",
      "3\n",
      "5\n",
      "7\n",
      "9\n"
     ]
    }
   ],
   "source": [
    "for i in range(1, 10, 2):\n",
    "    print(i)"
   ]
  },
  {
   "cell_type": "markdown",
   "metadata": {
    "id": "1otcwtcWGU-Z"
   },
   "source": [
    "* 범위 반복 range를 이용한 구구단"
   ]
  },
  {
   "cell_type": "code",
   "execution_count": 47,
   "metadata": {
    "ExecuteTime": {
     "end_time": "2021-06-26T15:01:20.022367Z",
     "start_time": "2021-06-26T15:01:20.013844Z"
    },
    "id": "0AgNJV5LGJLf"
   },
   "outputs": [
    {
     "name": "stdout",
     "output_type": "stream",
     "text": [
      "2단\n",
      "2 x 1 = 2\n",
      "2 x 2 = 4\n",
      "2 x 3 = 6\n",
      "2 x 4 = 8\n",
      "2 x 5 = 10\n",
      "2 x 6 = 12\n",
      "2 x 7 = 14\n",
      "2 x 8 = 16\n",
      "2 x 9 = 18\n",
      "\n",
      "3단\n",
      "3 x 1 = 3\n",
      "3 x 2 = 6\n",
      "3 x 3 = 9\n",
      "3 x 4 = 12\n",
      "3 x 5 = 15\n",
      "3 x 6 = 18\n",
      "3 x 7 = 21\n",
      "3 x 8 = 24\n",
      "3 x 9 = 27\n",
      "\n",
      "4단\n",
      "4 x 1 = 4\n",
      "4 x 2 = 8\n",
      "4 x 3 = 12\n",
      "4 x 4 = 16\n",
      "4 x 5 = 20\n",
      "4 x 6 = 24\n",
      "4 x 7 = 28\n",
      "4 x 8 = 32\n",
      "4 x 9 = 36\n",
      "\n",
      "5단\n",
      "5 x 1 = 5\n",
      "5 x 2 = 10\n",
      "5 x 3 = 15\n",
      "5 x 4 = 20\n",
      "5 x 5 = 25\n",
      "5 x 6 = 30\n",
      "5 x 7 = 35\n",
      "5 x 8 = 40\n",
      "5 x 9 = 45\n",
      "\n",
      "6단\n",
      "6 x 1 = 6\n",
      "6 x 2 = 12\n",
      "6 x 3 = 18\n",
      "6 x 4 = 24\n",
      "6 x 5 = 30\n",
      "6 x 6 = 36\n",
      "6 x 7 = 42\n",
      "6 x 8 = 48\n",
      "6 x 9 = 54\n",
      "\n",
      "7단\n",
      "7 x 1 = 7\n",
      "7 x 2 = 14\n",
      "7 x 3 = 21\n",
      "7 x 4 = 28\n",
      "7 x 5 = 35\n",
      "7 x 6 = 42\n",
      "7 x 7 = 49\n",
      "7 x 8 = 56\n",
      "7 x 9 = 63\n",
      "\n",
      "8단\n",
      "8 x 1 = 8\n",
      "8 x 2 = 16\n",
      "8 x 3 = 24\n",
      "8 x 4 = 32\n",
      "8 x 5 = 40\n",
      "8 x 6 = 48\n",
      "8 x 7 = 56\n",
      "8 x 8 = 64\n",
      "8 x 9 = 72\n",
      "\n",
      "9단\n",
      "9 x 1 = 9\n",
      "9 x 2 = 18\n",
      "9 x 3 = 27\n",
      "9 x 4 = 36\n",
      "9 x 5 = 45\n",
      "9 x 6 = 54\n",
      "9 x 7 = 63\n",
      "9 x 8 = 72\n",
      "9 x 9 = 81\n",
      "\n"
     ]
    }
   ],
   "source": [
    "for i in range(2, 10):\n",
    "    print(f'{i}단')\n",
    "    for j in range(1, 10):\n",
    "        print('{0} x {1} = {2}'.format(i, j, i * j))\n",
    "    print('')"
   ]
  },
  {
   "cell_type": "markdown",
   "metadata": {
    "id": "y9DVAjy0r5Ty"
   },
   "source": [
    "#### _ 기능\n"
   ]
  },
  {
   "cell_type": "markdown",
   "metadata": {},
   "source": [
    "* for 문을 사용하면서 iterator 역활을 위해서 i 변수가 필요\n",
    "* for 문 이후에는 iterator 변수 i 가 필요하지 않음\n",
    "* 이후에 사용도지 않을 변수에 어떤 이름을 부여하고 싶지 않을때 `_` 를 사용"
   ]
  },
  {
   "cell_type": "code",
   "execution_count": 50,
   "metadata": {
    "ExecuteTime": {
     "end_time": "2021-06-26T15:02:51.952307Z",
     "start_time": "2021-06-26T15:02:51.946302Z"
    },
    "id": "qv8HZNCTsDFf"
   },
   "outputs": [
    {
     "name": "stdout",
     "output_type": "stream",
     "text": [
      "Chef\n",
      "Chef\n",
      "Chef\n",
      "Chef\n",
      "Chef\n"
     ]
    }
   ],
   "source": [
    "for i in range(5):\n",
    "    print(\"Chef\")"
   ]
  },
  {
   "cell_type": "code",
   "execution_count": 51,
   "metadata": {
    "ExecuteTime": {
     "end_time": "2021-06-26T15:02:53.843930Z",
     "start_time": "2021-06-26T15:02:53.834923Z"
    },
    "id": "pf8fIpSBsHZL"
   },
   "outputs": [
    {
     "name": "stdout",
     "output_type": "stream",
     "text": [
      "Chef\n",
      "Chef\n",
      "Chef\n",
      "Chef\n",
      "Chef\n"
     ]
    }
   ],
   "source": [
    "for _ in range(5):\n",
    "    print(\"Chef\")"
   ]
  },
  {
   "cell_type": "markdown",
   "metadata": {
    "id": "-t7UubcSKJHY"
   },
   "source": [
    "### else 문\n",
    "\n",
    "* 반복이 종료된 후에 한번 더 실행되는 문장"
   ]
  },
  {
   "cell_type": "code",
   "execution_count": 54,
   "metadata": {
    "ExecuteTime": {
     "end_time": "2021-06-26T15:04:00.399018Z",
     "start_time": "2021-06-26T15:04:00.385006Z"
    },
    "id": "clXMvxeyMFj_"
   },
   "outputs": [
    {
     "name": "stdout",
     "output_type": "stream",
     "text": [
      "55\n"
     ]
    }
   ],
   "source": [
    "i = 1\n",
    "sum = 0 \n",
    "\n",
    "while i <= 10:\n",
    "    sum += i\n",
    "    i += 1\n",
    "\n",
    "else:\n",
    "    print(sum)"
   ]
  },
  {
   "cell_type": "code",
   "execution_count": 61,
   "metadata": {
    "ExecuteTime": {
     "end_time": "2021-06-26T15:06:34.748010Z",
     "start_time": "2021-06-26T15:06:34.731996Z"
    },
    "id": "4B6-nPWEGjvG"
   },
   "outputs": [
    {
     "name": "stdout",
     "output_type": "stream",
     "text": [
      "55\n"
     ]
    }
   ],
   "source": [
    "sum = 0 \n",
    "for i in range(11):\n",
    "    sum += i\n",
    "    \n",
    "else:\n",
    "    print(sum)"
   ]
  },
  {
   "cell_type": "code",
   "execution_count": 62,
   "metadata": {
    "ExecuteTime": {
     "end_time": "2021-06-26T15:06:35.123774Z",
     "start_time": "2021-06-26T15:06:35.110761Z"
    }
   },
   "outputs": [
    {
     "name": "stdout",
     "output_type": "stream",
     "text": [
      "0\n",
      "1\n",
      "2\n",
      "3\n",
      "4\n",
      "5\n",
      "6\n",
      "7\n",
      "8\n",
      "9\n",
      "10\n"
     ]
    }
   ],
   "source": [
    "i = 0\n",
    "while i < 100:\n",
    "    print(i)\n",
    "    if i == 10:\n",
    "        break\n",
    "    i += 1\n",
    "else: print('gg')"
   ]
  },
  {
   "cell_type": "markdown",
   "metadata": {
    "id": "BlF9QvR5LTar"
   },
   "source": [
    "### break 문\n",
    "\n",
    "* 반복문 종료"
   ]
  },
  {
   "cell_type": "code",
   "execution_count": 63,
   "metadata": {
    "ExecuteTime": {
     "end_time": "2021-06-26T15:06:39.545071Z",
     "start_time": "2021-06-26T15:06:39.540067Z"
    },
    "id": "u0HvxKWvKSou"
   },
   "outputs": [
    {
     "name": "stdout",
     "output_type": "stream",
     "text": [
      "0\n",
      "1\n",
      "2\n",
      "3\n",
      "4\n",
      "5\n",
      "6\n",
      "7\n",
      "8\n",
      "9\n",
      "10\n"
     ]
    }
   ],
   "source": [
    "i = 0\n",
    "while i < 100:\n",
    "    print(i)\n",
    "    if i == 10:\n",
    "        break\n",
    "    i += 1"
   ]
  },
  {
   "cell_type": "code",
   "execution_count": 64,
   "metadata": {
    "ExecuteTime": {
     "end_time": "2021-06-26T15:07:07.941702Z",
     "start_time": "2021-06-26T15:07:07.933694Z"
    },
    "id": "TJyNX_deMUvq"
   },
   "outputs": [
    {
     "name": "stdout",
     "output_type": "stream",
     "text": [
      "0\n",
      "1\n",
      "2\n",
      "3\n",
      "4\n",
      "5\n",
      "6\n",
      "7\n",
      "8\n",
      "9\n",
      "10\n"
     ]
    }
   ],
   "source": [
    "for i in range(101):\n",
    "    print(i)\n",
    "    if i == 10:\n",
    "        break"
   ]
  },
  {
   "cell_type": "markdown",
   "metadata": {
    "id": "m7jZ8oc8Mezu"
   },
   "source": [
    "### continue 문\n",
    "\n",
    "* 반복 조건문으로 이동 => 다음 반복문으로 이동"
   ]
  },
  {
   "cell_type": "code",
   "execution_count": 67,
   "metadata": {
    "ExecuteTime": {
     "end_time": "2021-06-26T15:10:22.481934Z",
     "start_time": "2021-06-26T15:10:22.471930Z"
    },
    "id": "MpTJ5WtPMbYm"
   },
   "outputs": [
    {
     "name": "stdout",
     "output_type": "stream",
     "text": [
      "1\n",
      "3\n",
      "5\n",
      "7\n",
      "9\n"
     ]
    }
   ],
   "source": [
    "i = 0 \n",
    "while i < 10:\n",
    "    i += 1\n",
    "    if i % 2 == 0:\n",
    "        continue\n",
    "    print(i)"
   ]
  },
  {
   "cell_type": "code",
   "execution_count": 68,
   "metadata": {
    "ExecuteTime": {
     "end_time": "2021-06-26T15:10:22.647108Z",
     "start_time": "2021-06-26T15:10:22.639102Z"
    },
    "id": "2oWKM2NDMqJ4"
   },
   "outputs": [
    {
     "name": "stdout",
     "output_type": "stream",
     "text": [
      "1\n",
      "3\n",
      "5\n",
      "7\n",
      "9\n"
     ]
    }
   ],
   "source": [
    "for i in range(10):\n",
    "    if i % 2 == 0:\n",
    "        continue\n",
    "    print(i)"
   ]
  },
  {
   "cell_type": "markdown",
   "metadata": {
    "id": "qQoq1VqQMxdR"
   },
   "source": [
    "### 리스트 내포(List Comprehension)\n",
    "\n",
    "* 리스트 안에 for 문과 if 문 사용"
   ]
  },
  {
   "cell_type": "code",
   "execution_count": 75,
   "metadata": {
    "ExecuteTime": {
     "end_time": "2021-06-26T15:15:22.538014Z",
     "start_time": "2021-06-26T15:15:22.525003Z"
    },
    "id": "dYS40UmTMuHf"
   },
   "outputs": [
    {
     "name": "stdout",
     "output_type": "stream",
     "text": [
      "[2, 4, 6, 8, 10]\n",
      "[0, 2, 4, 6, 8, 10, 12, 14, 16, 18]\n",
      "[0, 4, 8, 12, 16]\n"
     ]
    }
   ],
   "source": [
    "l = [1, 2, 3, 4, 5]\n",
    "print([i * 2 for i in l])\n",
    "print([i * 2 for i in range(10)])\n",
    "print([i * 2 for i in range(10) if i % 2 == 0 ])"
   ]
  },
  {
   "cell_type": "markdown",
   "metadata": {
    "id": "BNJU3Dz8NEtW"
   },
   "source": [
    "### [Lab] 문자열 반전\n",
    "\n",
    "* 문자열을 역순으로 만들기"
   ]
  },
  {
   "cell_type": "code",
   "execution_count": 77,
   "metadata": {
    "ExecuteTime": {
     "end_time": "2021-06-26T15:17:43.746883Z",
     "start_time": "2021-06-26T15:17:43.744881Z"
    },
    "id": "vtOOAlwBM7Ls"
   },
   "outputs": [
    {
     "name": "stdout",
     "output_type": "stream",
     "text": [
      "CodeChef\n",
      "fehCedoC\n"
     ]
    }
   ],
   "source": [
    "string =  'CodeChef'\n",
    "reverse = \"\"\n",
    "\n",
    "for c in string:\n",
    "    reverse = c + reverse\n",
    "\n",
    "print(string)\n",
    "print(reverse)"
   ]
  },
  {
   "cell_type": "markdown",
   "metadata": {
    "id": "e-5QZsGNXsrz"
   },
   "source": [
    "\n",
    "\n",
    "---\n",
    "\n"
   ]
  },
  {
   "cell_type": "markdown",
   "metadata": {
    "id": "9ygGlaKjKZRs"
   },
   "source": [
    "## 에러와 예외(Errors and Exceptions)\n",
    "\n",
    "* 프로그램에서는 에러가 발생\n",
    "* 에러에 대한 예외 처리가 필요"
   ]
  },
  {
   "cell_type": "markdown",
   "metadata": {},
   "source": [
    "## 에러와 예외 분류"
   ]
  },
  {
   "cell_type": "markdown",
   "metadata": {},
   "source": [
    "|에러|설명|\n",
    "|:-----|:----|\n",
    "|AssertionError|assert 문이 실패할 때 발생|\n",
    "|AttributeError|속성에 참조가 대입이 실패할 때 발생|\n",
    "|EOFError|EOF(End Of File) 조건을 만날 때 발생|\n",
    "|ImportError|import 문이 모듈 로드에 문제가 있을 때 발생|\n",
    "|ModuleNotFoundError|import 할 모듈을 찾을 수 없을 때 발생|\n",
    "|IndexError|시퀀스 인덱스가 범위를 벗어날 때 발생|\n",
    "|KeyError|딕셔너리 키가 키 집합에서 발견되지 않을 때 발생|\n",
    "|Keyboardlnterrupt|사용자가 인터럽트 키(Ctrl + C 또는 Delete)를 누를 때 발생|\n",
    "|MemoryError|작업에 메모리가 부족하지만, 일부 객체를 삭제해서 복구될 수 있는 경우 발생|\n",
    "|NameError|지역 또는 전역 이름을 찾을 수 없을 때 발생|\n",
    "|NotimplementedError| RuntimeError 에서 내용이 없는 메소드 호출 시 발생|\n",
    "|OSError|운영체제에서 에러가 있을 경우 발생|\n",
    "|OverflowError|산술 연산의 결과가 너무 커서 표현할 수 없을 때발생|\n",
    "|RuntimeError|다른 범주에 속하지 않는 에러가 감지될 때 발생|\n",
    "|SyntaxError|문법 오류가 발견될 때 발생|\n",
    "|IndentationError|잘못된 들여쓰기와 관련된 문법 오류가 있을때 발생|\n",
    "|TabError|들여쓰기가 일관성 없이 탭과 스페이스를 사용하는 경우 발생|\n",
    "|SystemError|인터프리터 내부에서 에러가 발견될 때 발생|\n",
    "|SystemExit|`sys.exit()` 함수가 호출될 때 발생|\n",
    "|ТурeError|연산이나 함수가 부적절한 형의 객체에 적용될 때 발생|\n",
    "|UnboundLocalError|함수나 메소드에서 지역 변수를 참조하지만, 해당 변수에 값이 연결되지 않으면 발생|\n",
    "|UnicodeError|유니코드 관련 인코 딩/디코딩 에러가 일어날 때 발생|\n",
    "|ValueError|연산이나 함수가 올바른 자료형 이지 만 부적절한 값을 가진 인자를 받았을 때 발생|\n",
    "|ZeroDivisionError|0으로 다른 숫자를 나누는 경우에 발생|\n",
    "|FileExistsError|이미 존재하는 파일이나 디렉토리를 만들려고 할 때 발생|\n",
    "|FileNotFoundError|파일이나 디렉토리가 요청되었지 만 존재하지 않을 때 발생|\n",
    "|InterruptedError|시스템 호출이 들어오는 시그널에 의해 중단될 때 발생|\n",
    "|IsADirectoryError|디렉토리에 파일 연산이 요청되었을 때 발생|\n",
    "|NotADirectoryError|디렉토리가 아닌 것에 디렉토리 연산이 요청되었을 때 발생|\n",
    "|PermissionError|적절한 접근권 없이 연산을 실행하려고 할 때 발생|\n",
    "|ProcessLockupError|주어진 프로세스가 존재하지 않을 때 발생|\n",
    "|TimeoutError|시스템 함수가 시스템 수준에서 시간이 초과될 때 발생|\n",
    "|Warning|오류는 아니고 주의가 필요한 경고 시 발생|\n",
    "\n",
    "\n",
    "\n",
    "\n",
    "\n"
   ]
  },
  {
   "cell_type": "markdown",
   "metadata": {
    "id": "Sem87gmsXux8"
   },
   "source": [
    "### 에러 예제\n",
    "\n",
    "* ZeroDivisionError"
   ]
  },
  {
   "cell_type": "code",
   "execution_count": 78,
   "metadata": {
    "ExecuteTime": {
     "end_time": "2021-06-26T15:26:47.508302Z",
     "start_time": "2021-06-26T15:26:47.281077Z"
    },
    "id": "nea-tg6gNSQB"
   },
   "outputs": [
    {
     "ename": "ZeroDivisionError",
     "evalue": "division by zero",
     "output_type": "error",
     "traceback": [
      "\u001b[1;31m---------------------------------------------------------------------------\u001b[0m",
      "\u001b[1;31mZeroDivisionError\u001b[0m                         Traceback (most recent call last)",
      "\u001b[1;32m<ipython-input-78-cd759d3fcf39>\u001b[0m in \u001b[0;36m<module>\u001b[1;34m\u001b[0m\n\u001b[1;32m----> 1\u001b[1;33m \u001b[1;36m10\u001b[0m \u001b[1;33m/\u001b[0m \u001b[1;36m0\u001b[0m\u001b[1;33m\u001b[0m\u001b[1;33m\u001b[0m\u001b[0m\n\u001b[0m",
      "\u001b[1;31mZeroDivisionError\u001b[0m: division by zero"
     ]
    }
   ],
   "source": [
    "# 10 / 0"
   ]
  },
  {
   "cell_type": "markdown",
   "metadata": {
    "id": "5Ape-cL37GWg"
   },
   "source": [
    "* NameError"
   ]
  },
  {
   "cell_type": "code",
   "execution_count": 79,
   "metadata": {
    "ExecuteTime": {
     "end_time": "2021-06-26T15:26:59.861998Z",
     "start_time": "2021-06-26T15:26:59.847986Z"
    },
    "id": "rX3x3eE_6zcJ"
   },
   "outputs": [
    {
     "ename": "NameError",
     "evalue": "name 'noname' is not defined",
     "output_type": "error",
     "traceback": [
      "\u001b[1;31m---------------------------------------------------------------------------\u001b[0m",
      "\u001b[1;31mNameError\u001b[0m                                 Traceback (most recent call last)",
      "\u001b[1;32m<ipython-input-79-e253214df6f7>\u001b[0m in \u001b[0;36m<module>\u001b[1;34m\u001b[0m\n\u001b[1;32m----> 1\u001b[1;33m \u001b[0mnoname\u001b[0m \u001b[1;33m+\u001b[0m \u001b[1;36m3\u001b[0m\u001b[1;33m\u001b[0m\u001b[1;33m\u001b[0m\u001b[0m\n\u001b[0m",
      "\u001b[1;31mNameError\u001b[0m: name 'noname' is not defined"
     ]
    }
   ],
   "source": [
    "# noname + 3"
   ]
  },
  {
   "cell_type": "markdown",
   "metadata": {
    "id": "Ij6ieZ6v7JXo"
   },
   "source": [
    "* TypeError"
   ]
  },
  {
   "cell_type": "code",
   "execution_count": 80,
   "metadata": {
    "ExecuteTime": {
     "end_time": "2021-06-26T15:27:41.427808Z",
     "start_time": "2021-06-26T15:27:41.413795Z"
    },
    "id": "EwuWO4tP68OT"
   },
   "outputs": [
    {
     "ename": "TypeError",
     "evalue": "can only concatenate str (not \"int\") to str",
     "output_type": "error",
     "traceback": [
      "\u001b[1;31m---------------------------------------------------------------------------\u001b[0m",
      "\u001b[1;31mTypeError\u001b[0m                                 Traceback (most recent call last)",
      "\u001b[1;32m<ipython-input-80-cc892b1f57d5>\u001b[0m in \u001b[0;36m<module>\u001b[1;34m\u001b[0m\n\u001b[1;32m----> 1\u001b[1;33m \u001b[1;34m'1'\u001b[0m \u001b[1;33m+\u001b[0m \u001b[1;36m1\u001b[0m\u001b[1;33m\u001b[0m\u001b[1;33m\u001b[0m\u001b[0m\n\u001b[0m",
      "\u001b[1;31mTypeError\u001b[0m: can only concatenate str (not \"int\") to str"
     ]
    }
   ],
   "source": [
    "# '1' + 1"
   ]
  },
  {
   "cell_type": "markdown",
   "metadata": {
    "id": "TSahjFWRNFSY"
   },
   "source": [
    "* ValueError"
   ]
  },
  {
   "cell_type": "code",
   "execution_count": 81,
   "metadata": {
    "ExecuteTime": {
     "end_time": "2021-06-26T15:28:00.465343Z",
     "start_time": "2021-06-26T15:28:00.457039Z"
    },
    "id": "QkZGJiqcNElu"
   },
   "outputs": [
    {
     "ename": "ValueError",
     "evalue": "invalid literal for int() with base 10: 'String'",
     "output_type": "error",
     "traceback": [
      "\u001b[1;31m---------------------------------------------------------------------------\u001b[0m",
      "\u001b[1;31mValueError\u001b[0m                                Traceback (most recent call last)",
      "\u001b[1;32m<ipython-input-81-7bf3cc52d08f>\u001b[0m in \u001b[0;36m<module>\u001b[1;34m\u001b[0m\n\u001b[1;32m----> 1\u001b[1;33m \u001b[0mint\u001b[0m\u001b[1;33m(\u001b[0m\u001b[1;34m\"String\"\u001b[0m\u001b[1;33m)\u001b[0m\u001b[1;33m\u001b[0m\u001b[1;33m\u001b[0m\u001b[0m\n\u001b[0m",
      "\u001b[1;31mValueError\u001b[0m: invalid literal for int() with base 10: 'String'"
     ]
    }
   ],
   "source": [
    "# int(\"String\")"
   ]
  },
  {
   "cell_type": "markdown",
   "metadata": {
    "id": "6gu37rq_AciU"
   },
   "source": [
    "### 예외 처리(Exception Handling)"
   ]
  },
  {
   "cell_type": "markdown",
   "metadata": {
    "id": "FYZUyQqgK5Z_"
   },
   "source": [
    "#### try, except 문\n",
    "\n",
    "* try 문을 통해 예외 발생 가능한 코드에 정의\n",
    "* except 문을 이용해 예외 처리 방법을 정의"
   ]
  },
  {
   "cell_type": "code",
   "execution_count": 82,
   "metadata": {
    "ExecuteTime": {
     "end_time": "2021-06-26T15:29:46.450443Z",
     "start_time": "2021-06-26T15:29:46.444438Z"
    },
    "id": "wfONldWmjWjI"
   },
   "outputs": [
    {
     "name": "stdout",
     "output_type": "stream",
     "text": [
      "Error\n"
     ]
    }
   ],
   "source": [
    "try:\n",
    "    print(2 / 0)\n",
    "    \n",
    "except:\n",
    "    print(\"Error\")\n",
    "\n"
   ]
  },
  {
   "cell_type": "markdown",
   "metadata": {
    "id": "wCZtKuol63ET"
   },
   "source": [
    "#### 에러 분류에 따른 except 문\n",
    "\n",
    "* `ZeroDivisionError`에 대한 except 처리"
   ]
  },
  {
   "cell_type": "code",
   "execution_count": 84,
   "metadata": {
    "ExecuteTime": {
     "end_time": "2021-06-26T15:30:52.138319Z",
     "start_time": "2021-06-26T15:30:52.125308Z"
    },
    "id": "iI9q62ukjhLI"
   },
   "outputs": [
    {
     "name": "stdout",
     "output_type": "stream",
     "text": [
      "ZeroDivisionError\n"
     ]
    }
   ],
   "source": [
    "try:\n",
    "    print(2 / 0)\n",
    "    \n",
    "except ZeroDivisionError:\n",
    "    print(\"ZeroDivisionError\")\n",
    "\n"
   ]
  },
  {
   "cell_type": "markdown",
   "metadata": {
    "id": "5xb7qltz7EkZ"
   },
   "source": [
    "#### 에러 메시지가 포함된 except 문\n",
    "\n",
    "* `ZeroDivisionError`에 포함된 에러 메시지 `e`를 출력"
   ]
  },
  {
   "cell_type": "code",
   "execution_count": 85,
   "metadata": {
    "ExecuteTime": {
     "end_time": "2021-06-26T15:31:23.119607Z",
     "start_time": "2021-06-26T15:31:23.108597Z"
    },
    "id": "Hd8posBzjmQa"
   },
   "outputs": [
    {
     "name": "stdout",
     "output_type": "stream",
     "text": [
      "division by zero\n"
     ]
    }
   ],
   "source": [
    "try:\n",
    "    print(2 / 0)\n",
    "    \n",
    "except ZeroDivisionError as e:\n",
    "    print(e)\n",
    "\n"
   ]
  },
  {
   "cell_type": "markdown",
   "metadata": {
    "id": "JAasRBB0-BLK"
   },
   "source": [
    "#### 여러 에러 분류가 포함된 except 문"
   ]
  },
  {
   "cell_type": "code",
   "execution_count": 86,
   "metadata": {
    "ExecuteTime": {
     "end_time": "2021-06-26T15:33:27.606220Z",
     "start_time": "2021-06-26T15:33:25.730200Z"
    },
    "id": "IHqjg-lf6-SG"
   },
   "outputs": [
    {
     "name": "stdout",
     "output_type": "stream",
     "text": [
      "입력: %\n",
      "invalid literal for int() with base 10: '%'\n"
     ]
    }
   ],
   "source": [
    "try:\n",
    "    n = int(input(\"입력: \"))\n",
    "    result = 1 / n\n",
    "    \n",
    "except ZeroDivisionError as e:\n",
    "    print(e)\n",
    "    \n",
    "except ValueError as e: \n",
    "    print(e)\n",
    "    \n",
    "else:\n",
    "    print(\"결과: \" + str(result))"
   ]
  },
  {
   "cell_type": "markdown",
   "metadata": {
    "id": "1yvDiPGN9ko0"
   },
   "source": [
    "### 에러 발생"
   ]
  },
  {
   "cell_type": "markdown",
   "metadata": {
    "id": "UZVye8Ot9r3u"
   },
   "source": [
    "#### raise 문\n",
    "\n",
    "* 직접적으로 에러를 발생시킬 수 있음\n",
    "* 에러의 종류와 에러 상황을 정의하고 발생"
   ]
  },
  {
   "cell_type": "code",
   "execution_count": 87,
   "metadata": {
    "ExecuteTime": {
     "end_time": "2021-06-26T15:35:14.514902Z",
     "start_time": "2021-06-26T15:35:14.506897Z"
    },
    "id": "YhXCjSq-D0oX"
   },
   "outputs": [
    {
     "ename": "ZeroDivisionError",
     "evalue": "숫자를 0으로 나눔",
     "output_type": "error",
     "traceback": [
      "\u001b[1;31m---------------------------------------------------------------------------\u001b[0m",
      "\u001b[1;31mZeroDivisionError\u001b[0m                         Traceback (most recent call last)",
      "\u001b[1;32m<ipython-input-87-fb78988de7bc>\u001b[0m in \u001b[0;36m<module>\u001b[1;34m\u001b[0m\n\u001b[1;32m----> 1\u001b[1;33m \u001b[1;32mraise\u001b[0m \u001b[0mZeroDivisionError\u001b[0m\u001b[1;33m(\u001b[0m\u001b[1;34m\"숫자를 0으로 나눔\"\u001b[0m\u001b[1;33m)\u001b[0m\u001b[1;33m\u001b[0m\u001b[1;33m\u001b[0m\u001b[0m\n\u001b[0m",
      "\u001b[1;31mZeroDivisionError\u001b[0m: 숫자를 0으로 나눔"
     ]
    }
   ],
   "source": [
    "# raise ZeroDivisionError(\"숫자를 0으로 나눔\")"
   ]
  },
  {
   "cell_type": "code",
   "execution_count": 88,
   "metadata": {
    "ExecuteTime": {
     "end_time": "2021-06-26T15:35:41.306372Z",
     "start_time": "2021-06-26T15:35:41.293128Z"
    },
    "id": "seVpG5qoEDUL"
   },
   "outputs": [
    {
     "ename": "NameError",
     "evalue": "지역 또는 전역 이름을 찾을 수 없음",
     "output_type": "error",
     "traceback": [
      "\u001b[1;31m---------------------------------------------------------------------------\u001b[0m",
      "\u001b[1;31mNameError\u001b[0m                                 Traceback (most recent call last)",
      "\u001b[1;32m<ipython-input-88-e10ce1eb02bb>\u001b[0m in \u001b[0;36m<module>\u001b[1;34m\u001b[0m\n\u001b[1;32m----> 1\u001b[1;33m \u001b[1;32mraise\u001b[0m \u001b[0mNameError\u001b[0m\u001b[1;33m(\u001b[0m\u001b[1;34m\"지역 또는 전역 이름을 찾을 수 없음\"\u001b[0m\u001b[1;33m)\u001b[0m\u001b[1;33m\u001b[0m\u001b[1;33m\u001b[0m\u001b[0m\n\u001b[0m",
      "\u001b[1;31mNameError\u001b[0m: 지역 또는 전역 이름을 찾을 수 없음"
     ]
    }
   ],
   "source": [
    "# raise NameError(\"지역 또는 전역 이름을 찾을 수 없음\")"
   ]
  },
  {
   "cell_type": "code",
   "execution_count": 89,
   "metadata": {
    "ExecuteTime": {
     "end_time": "2021-06-26T15:36:02.550405Z",
     "start_time": "2021-06-26T15:36:02.541397Z"
    },
    "id": "Sg6jO8soEFRQ"
   },
   "outputs": [
    {
     "ename": "TypeError",
     "evalue": "연산이나 함수가 부적절한 형의 객체에 적용",
     "output_type": "error",
     "traceback": [
      "\u001b[1;31m---------------------------------------------------------------------------\u001b[0m",
      "\u001b[1;31mTypeError\u001b[0m                                 Traceback (most recent call last)",
      "\u001b[1;32m<ipython-input-89-38cd8a0b3f52>\u001b[0m in \u001b[0;36m<module>\u001b[1;34m\u001b[0m\n\u001b[1;32m----> 1\u001b[1;33m \u001b[1;32mraise\u001b[0m \u001b[0mTypeError\u001b[0m\u001b[1;33m(\u001b[0m\u001b[1;34m'연산이나 함수가 부적절한 형의 객체에 적용'\u001b[0m\u001b[1;33m)\u001b[0m\u001b[1;33m\u001b[0m\u001b[1;33m\u001b[0m\u001b[0m\n\u001b[0m",
      "\u001b[1;31mTypeError\u001b[0m: 연산이나 함수가 부적절한 형의 객체에 적용"
     ]
    }
   ],
   "source": [
    "# raise TypeError('연산이나 함수가 부적절한 형의 객체에 적용')"
   ]
  },
  {
   "cell_type": "code",
   "execution_count": 90,
   "metadata": {
    "ExecuteTime": {
     "end_time": "2021-06-26T15:36:24.358104Z",
     "start_time": "2021-06-26T15:36:24.342090Z"
    },
    "id": "44cMcYh6EGmQ"
   },
   "outputs": [
    {
     "ename": "ValueError",
     "evalue": "연산이나 함수가 부적절한 값을 인자로 받음",
     "output_type": "error",
     "traceback": [
      "\u001b[1;31m---------------------------------------------------------------------------\u001b[0m",
      "\u001b[1;31mValueError\u001b[0m                                Traceback (most recent call last)",
      "\u001b[1;32m<ipython-input-90-afc754670e9e>\u001b[0m in \u001b[0;36m<module>\u001b[1;34m\u001b[0m\n\u001b[1;32m----> 1\u001b[1;33m \u001b[1;32mraise\u001b[0m \u001b[0mValueError\u001b[0m\u001b[1;33m(\u001b[0m\u001b[1;34m\"연산이나 함수가 부적절한 값을 인자로 받음\"\u001b[0m\u001b[1;33m)\u001b[0m\u001b[1;33m\u001b[0m\u001b[1;33m\u001b[0m\u001b[0m\n\u001b[0m",
      "\u001b[1;31mValueError\u001b[0m: 연산이나 함수가 부적절한 값을 인자로 받음"
     ]
    }
   ],
   "source": [
    "# raise ValueError(\"연산이나 함수가 부적절한 값을 인자로 받음\")"
   ]
  },
  {
   "cell_type": "markdown",
   "metadata": {
    "id": "1tlN-WGZ9the"
   },
   "source": [
    "#### assert 문\n",
    "\n",
    "* raise 문과 달리 주로 검증을 위한 목적으로 작성\n",
    "* 상태를 검증하는 목적으로 작성되며 검증식이 포함됨\n",
    "* 검증식이 `False`일 경우 `AssertionErro` 발생"
   ]
  },
  {
   "cell_type": "code",
   "execution_count": 93,
   "metadata": {
    "ExecuteTime": {
     "end_time": "2021-06-26T15:37:21.552322Z",
     "start_time": "2021-06-26T15:37:21.539311Z"
    },
    "id": "RDT6GAzpMtFu"
   },
   "outputs": [],
   "source": [
    "assert True"
   ]
  },
  {
   "cell_type": "code",
   "execution_count": 94,
   "metadata": {
    "ExecuteTime": {
     "end_time": "2021-06-26T15:37:28.335071Z",
     "start_time": "2021-06-26T15:37:28.324059Z"
    },
    "id": "Wi5Dhu2yFzfW"
   },
   "outputs": [
    {
     "ename": "AssertionError",
     "evalue": "",
     "output_type": "error",
     "traceback": [
      "\u001b[1;31m---------------------------------------------------------------------------\u001b[0m",
      "\u001b[1;31mAssertionError\u001b[0m                            Traceback (most recent call last)",
      "\u001b[1;32m<ipython-input-94-a871fdc9ebee>\u001b[0m in \u001b[0;36m<module>\u001b[1;34m\u001b[0m\n\u001b[1;32m----> 1\u001b[1;33m \u001b[1;32massert\u001b[0m \u001b[1;32mFalse\u001b[0m\u001b[1;33m\u001b[0m\u001b[1;33m\u001b[0m\u001b[0m\n\u001b[0m",
      "\u001b[1;31mAssertionError\u001b[0m: "
     ]
    }
   ],
   "source": [
    "assert False"
   ]
  },
  {
   "cell_type": "code",
   "execution_count": 95,
   "metadata": {
    "ExecuteTime": {
     "end_time": "2021-06-26T15:37:50.451617Z",
     "start_time": "2021-06-26T15:37:50.437069Z"
    },
    "id": "__lmGJw2G323"
   },
   "outputs": [
    {
     "ename": "AssertionError",
     "evalue": "에러 메시지",
     "output_type": "error",
     "traceback": [
      "\u001b[1;31m---------------------------------------------------------------------------\u001b[0m",
      "\u001b[1;31mAssertionError\u001b[0m                            Traceback (most recent call last)",
      "\u001b[1;32m<ipython-input-95-1796aa5b1c60>\u001b[0m in \u001b[0;36m<module>\u001b[1;34m\u001b[0m\n\u001b[1;32m----> 1\u001b[1;33m \u001b[1;32massert\u001b[0m \u001b[1;32mFalse\u001b[0m\u001b[1;33m,\u001b[0m \u001b[1;34m\"에러 메시지\"\u001b[0m\u001b[1;33m\u001b[0m\u001b[1;33m\u001b[0m\u001b[0m\n\u001b[0m",
      "\u001b[1;31mAssertionError\u001b[0m: 에러 메시지"
     ]
    }
   ],
   "source": [
    "assert False, \"에러 메시지\""
   ]
  },
  {
   "cell_type": "code",
   "execution_count": 96,
   "metadata": {
    "ExecuteTime": {
     "end_time": "2021-06-26T15:38:14.881143Z",
     "start_time": "2021-06-26T15:38:14.874137Z"
    },
    "id": "vmNwfDLcF0dm"
   },
   "outputs": [
    {
     "ename": "AssertionError",
     "evalue": "상태에 따라서 발생",
     "output_type": "error",
     "traceback": [
      "\u001b[1;31m---------------------------------------------------------------------------\u001b[0m",
      "\u001b[1;31mAssertionError\u001b[0m                            Traceback (most recent call last)",
      "\u001b[1;32m<ipython-input-96-bcb5269c1b08>\u001b[0m in \u001b[0;36m<module>\u001b[1;34m\u001b[0m\n\u001b[0;32m      1\u001b[0m \u001b[0mb\u001b[0m \u001b[1;33m=\u001b[0m \u001b[1;36m0\u001b[0m\u001b[1;33m\u001b[0m\u001b[1;33m\u001b[0m\u001b[0m\n\u001b[1;32m----> 2\u001b[1;33m \u001b[1;32massert\u001b[0m \u001b[0mb\u001b[0m \u001b[1;33m!=\u001b[0m \u001b[1;36m0\u001b[0m\u001b[1;33m,\u001b[0m \u001b[1;34m\"상태에 따라서 발생\"\u001b[0m\u001b[1;33m\u001b[0m\u001b[1;33m\u001b[0m\u001b[0m\n\u001b[0m",
      "\u001b[1;31mAssertionError\u001b[0m: 상태에 따라서 발생"
     ]
    }
   ],
   "source": [
    "b = 0 \n",
    "assert b != 0, \"상태에 따라서 발생\""
   ]
  }
 ],
 "metadata": {
  "colab": {
   "collapsed_sections": [],
   "name": "_05 제어문.ipynb",
   "provenance": [],
   "toc_visible": true
  },
  "kernelspec": {
   "display_name": "Python 3",
   "language": "python",
   "name": "python3"
  },
  "language_info": {
   "codemirror_mode": {
    "name": "ipython",
    "version": 3
   },
   "file_extension": ".py",
   "mimetype": "text/x-python",
   "name": "python",
   "nbconvert_exporter": "python",
   "pygments_lexer": "ipython3",
   "version": "3.8.5"
  },
  "toc": {
   "base_numbering": 1,
   "nav_menu": {},
   "number_sections": true,
   "sideBar": true,
   "skip_h1_title": false,
   "title_cell": "Table of Contents",
   "title_sidebar": "Contents",
   "toc_cell": false,
   "toc_position": {},
   "toc_section_display": true,
   "toc_window_display": false
  }
 },
 "nbformat": 4,
 "nbformat_minor": 1
}
