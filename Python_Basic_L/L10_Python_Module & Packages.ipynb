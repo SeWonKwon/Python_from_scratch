{
 "cells": [
  {
   "cell_type": "markdown",
   "metadata": {
    "id": "bg5ZXMV2sn1M"
   },
   "source": [
    "# 모듈과 패키지"
   ]
  },
  {
   "cell_type": "markdown",
   "metadata": {},
   "source": [
    "# 모듈(Module)\n",
    "* 함수, 변수 그리고 클래스의 집합\n",
    "* 다른 파이썬 프로그램에서 가져와 사용할 수 있는 파이썬 파일\n",
    "* 파이썬에는 다른 사람들이 만들어 놓은 모듈이 굉장히 많음\n",
    "* 사용자가 모듈은 직접 만들어서 사용할 수도 있음\n"
   ]
  },
  {
   "cell_type": "markdown",
   "metadata": {},
   "source": [
    "## 모듈의 장점"
   ]
  },
  {
   "cell_type": "markdown",
   "metadata": {},
   "source": [
    "* 단순성(Simplicity)\n",
    "    * 전체 문제에 초점을 맞추기보다는 문제의 상대적으로 작은 부분에만 초점을 맞춤\n",
    "    * 단일 모듈로 작업할 수 있는 작은 도메인\n",
    "    * 개발이 쉬우며 오류 발생이 적음\n"
   ]
  },
  {
   "cell_type": "markdown",
   "metadata": {},
   "source": [
    "* 유지보수성 (Maintainability)\n",
    "    * 일반적으로 모듈은 서로 다른 문제 영역간에 논리적 경계를 설정하도록 설계\n",
    "    * 상호 의존성을 최소화하는 방식으로 모듈을 작성하여 단일 모듈을 수정하면 프로그램의 다른 부분에 영향을 미칠 가능성이 줄어듬\n",
    "    * 모듈 외부의 응용 프로그램에 대해 전혀 알지 못해도 모듈을 변경할 수 있음\n",
    "    * 개발팀이 대규모 응용 프로그램에서 공동으로 작업 할 수 있음"
   ]
  },
  {
   "cell_type": "markdown",
   "metadata": {},
   "source": [
    "* 재사용성(Reusability)\n",
    "    * 단일 모듈에서 정의된 기능은 응용 프로그램의 다른 부분에서 (적절히 정의된 인터페이스를 통해) 쉽게 재사용 가능\n",
    "    * 중복 코드를 만들 필요가 없음"
   ]
  },
  {
   "cell_type": "markdown",
   "metadata": {},
   "source": [
    "* 범위 지정(Scoping)\n",
    "    * 일반적으로 모듈은 프로그램의 여러 영역에서 식별자 간의 충돌을 피하는 데 도움이되는별도의 네임 스페이스를 정의\n"
   ]
  },
  {
   "cell_type": "markdown",
   "metadata": {},
   "source": [
    "## 모듈의 종류\n",
    "\n",
    "* 사용자 정의 모듈: 사용자가 직접 정의해서 사용하는 모듈\n",
    "* 표준 모듈: 파이썬에서 기본 제공하는 모듈\n",
    "* 서드 파티 모듈: 외부에서 제공하는 모듈\n",
    "    * 파이썬 표준 모듈에 모든 기능이 있지 않음\n",
    "    * 서드 파티 모듈을 이용해 고급 프로그래밍 가능\n",
    "    * 게임 개발을 위한 pygame, 데이터베이스 기능의 SQLAlchemy, 데이터 분석 기능의NumPy\n"
   ]
  },
  {
   "cell_type": "markdown",
   "metadata": {
    "id": "Lj_iZPKnCRP0"
   },
   "source": [
    "\n",
    "\n",
    "---\n",
    "\n"
   ]
  },
  {
   "cell_type": "markdown",
   "metadata": {
    "id": "bO6PBIYbZZ_4"
   },
   "source": [
    "### 사용자 정의 모듈\n",
    "\n",
    "* 사용자가 사용할 모듈을 직접 정의\n",
    "* 모듈 이름으로 파일명을 사용"
   ]
  },
  {
   "cell_type": "markdown",
   "metadata": {},
   "source": [
    "* IPython 내장 매직 명령어(magic command) 사용\n",
    "    * `%%writefile`: 셀의 코드를 .py 파이썬 코드 파일로 저장\n",
    "    * `%1oad`: 파이썬 코드 파일 불러오기\n",
    "    * `%run`: 파이썬 코드 파일 실행\n"
   ]
  },
  {
   "cell_type": "code",
   "execution_count": 1,
   "metadata": {
    "ExecuteTime": {
     "end_time": "2021-06-29T06:29:29.364363Z",
     "start_time": "2021-06-29T06:29:29.350349Z"
    },
    "id": "CWZ8iKl6ap99"
   },
   "outputs": [
    {
     "name": "stdout",
     "output_type": "stream",
     "text": [
      "Overwriting Module.py\n"
     ]
    }
   ],
   "source": [
    "%%writefile Module.py\n",
    "def func1():\n",
    "    print(\"Module.py: func1()\")\n",
    "\n",
    "def func2():\n",
    "    print(\"Module.py: func2()\")\n",
    "    \n",
    "def func3():\n",
    "    print(\"Module.py: func3()\")"
   ]
  },
  {
   "cell_type": "code",
   "execution_count": 2,
   "metadata": {
    "ExecuteTime": {
     "end_time": "2021-06-29T06:29:29.409379Z",
     "start_time": "2021-06-29T06:29:29.366357Z"
    },
    "id": "e-nLDjHWb1mX"
   },
   "outputs": [
    {
     "name": "stdout",
     "output_type": "stream",
     "text": [
      " C 드라이브의 볼륨에는 이름이 없습니다.\n",
      " 볼륨 일련 번호: 50B4-87C1\n",
      "\n",
      " C:\\Users\\N\\OneDrive\\WorkJ\\Python_from_scratch 디렉터리\n",
      "\n",
      "2021-06-29  오후 03:27    <DIR>          .\n",
      "2021-06-29  오후 03:27    <DIR>          ..\n",
      "2021-06-29  오후 03:20    <DIR>          !mkdir\n",
      "2021-06-28  오후 07:35    <DIR>          .ipynb_checkpoints\n",
      "2021-06-29  오후 02:59               178 Calculator.py\n",
      "2021-06-28  오전 11:14    <DIR>          Colab,JupyterNotebook,Markdown\n",
      "2021-05-18  오후 06:04    <DIR>          Helpfunction\n",
      "2021-06-29  오후 03:27           427,116 L10_Python_Module & Packages.ipynb\n",
      "2021-06-29  오후 03:29               149 Module.py\n",
      "2021-06-29  오후 03:22    <DIR>          package\n",
      "2021-06-29  오전 11:19    <DIR>          Python_Algorithm\n",
      "2021-06-28  오후 07:50    <DIR>          Python_Basic_L\n",
      "2021-06-29  오후 02:59    <DIR>          __pycache__\n",
      "               3개 파일             427,443 바이트\n",
      "              10개 디렉터리  152,371,769,344 바이트 남음\n"
     ]
    }
   ],
   "source": [
    "!dir"
   ]
  },
  {
   "cell_type": "code",
   "execution_count": 3,
   "metadata": {
    "ExecuteTime": {
     "end_time": "2021-06-29T06:29:29.424371Z",
     "start_time": "2021-06-29T06:29:29.412374Z"
    },
    "id": "bQcfKftxb9uR"
   },
   "outputs": [],
   "source": [
    "# %load Module.py\n",
    "def func1():\n",
    "    print(\"Module.py: func1()\")\n",
    "\n",
    "def func2():\n",
    "    print(\"Module.py: func2()\")\n",
    "    \n",
    "def func3():\n",
    "    print(\"Module.py: func3()\")\n"
   ]
  },
  {
   "cell_type": "code",
   "execution_count": 4,
   "metadata": {
    "ExecuteTime": {
     "end_time": "2021-06-29T06:29:29.439366Z",
     "start_time": "2021-06-29T06:29:29.426371Z"
    },
    "id": "bKlMMA4-cFVA"
   },
   "outputs": [],
   "source": [
    "%run Module.py"
   ]
  },
  {
   "cell_type": "code",
   "execution_count": 5,
   "metadata": {
    "ExecuteTime": {
     "end_time": "2021-06-29T06:29:29.454383Z",
     "start_time": "2021-06-29T06:29:29.441369Z"
    },
    "id": "qsFSyO7scm1d"
   },
   "outputs": [
    {
     "data": {
      "text/plain": [
       "<function Module.func3()>"
      ]
     },
     "execution_count": 5,
     "metadata": {},
     "output_type": "execute_result"
    }
   ],
   "source": [
    "import Module\n",
    "Module.func1\n",
    "Module.func2\n",
    "Module.func3"
   ]
  },
  {
   "cell_type": "code",
   "execution_count": 6,
   "metadata": {
    "ExecuteTime": {
     "end_time": "2021-06-29T06:29:29.469374Z",
     "start_time": "2021-06-29T06:29:29.457371Z"
    },
    "id": "d2HOXB12DoqK"
   },
   "outputs": [
    {
     "name": "stdout",
     "output_type": "stream",
     "text": [
      "Module.py: func1()\n",
      "Module.py: func2()\n",
      "Module.py: func3()\n"
     ]
    }
   ],
   "source": [
    "from Module import * \n",
    "func1()\n",
    "func2()\n",
    "func3()"
   ]
  },
  {
   "cell_type": "markdown",
   "metadata": {
    "id": "3sK8A00OD0wu"
   },
   "source": [
    "#### [Lab] 계산기 모듈 만들기\n",
    "\n",
    "* 사용자 정의 모듈을 이용해서 계산기에 필요한 기능들로 모듈 만들기"
   ]
  },
  {
   "cell_type": "code",
   "execution_count": 7,
   "metadata": {
    "ExecuteTime": {
     "end_time": "2021-06-29T06:29:29.484390Z",
     "start_time": "2021-06-29T06:29:29.471375Z"
    },
    "id": "r7UW1sFYD-fs"
   },
   "outputs": [
    {
     "name": "stdout",
     "output_type": "stream",
     "text": [
      "Overwriting Calculator.py\n"
     ]
    }
   ],
   "source": [
    "%%writefile Calculator.py\n",
    "def add(a, b):\n",
    "    return a + b\n",
    "\n",
    "def sub(a, b):\n",
    "    return a - b\n",
    "\n",
    "def mul(a, b):\n",
    "    return a * b\n",
    "\n",
    "def div(a, b):\n",
    "    return a / b\n",
    "\n",
    "def mod(a, b):\n",
    "    return a % b"
   ]
  },
  {
   "cell_type": "code",
   "execution_count": 8,
   "metadata": {
    "ExecuteTime": {
     "end_time": "2021-06-29T06:29:29.499393Z",
     "start_time": "2021-06-29T06:29:29.488380Z"
    },
    "id": "QUKdcfj7Em7-"
   },
   "outputs": [
    {
     "name": "stdout",
     "output_type": "stream",
     "text": [
      "8\n",
      "-2\n",
      "15\n",
      "0.6\n",
      "3\n"
     ]
    }
   ],
   "source": [
    "from Calculator import * \n",
    "\n",
    "print(add(3, 5))\n",
    "print(sub(3, 5))\n",
    "print(mul(3, 5))\n",
    "print(div(3, 5))\n",
    "print(mod(3, 5))"
   ]
  },
  {
   "cell_type": "markdown",
   "metadata": {
    "id": "0pHAl9UoZfu6"
   },
   "source": [
    "\n",
    "\n",
    "---\n",
    "\n"
   ]
  },
  {
   "cell_type": "markdown",
   "metadata": {
    "id": "ZkEj_NrE56Xf"
   },
   "source": [
    "### 파이썬 표준 모듈\n",
    "\n",
    "* 파이썬에서 기본으로 내장된 유용한 속성과 함수들이 많음"
   ]
  },
  {
   "cell_type": "code",
   "execution_count": 9,
   "metadata": {
    "ExecuteTime": {
     "end_time": "2021-06-29T06:29:29.514383Z",
     "start_time": "2021-06-29T06:29:29.502390Z"
    },
    "id": "vPxFygaF6KT-"
   },
   "outputs": [
    {
     "name": "stdout",
     "output_type": "stream",
     "text": [
      "('_abc', '_ast', '_bisect', '_blake2', '_codecs', '_codecs_cn', '_codecs_hk', '_codecs_iso2022', '_codecs_jp', '_codecs_kr', '_codecs_tw', '_collections', '_contextvars', '_csv', '_datetime', '_functools', '_heapq', '_imp', '_io', '_json', '_locale', '_lsprof', '_md5', '_multibytecodec', '_opcode', '_operator', '_pickle', '_random', '_sha1', '_sha256', '_sha3', '_sha512', '_signal', '_sre', '_stat', '_statistics', '_string', '_struct', '_symtable', '_thread', '_tracemalloc', '_warnings', '_weakref', '_winapi', '_xxsubinterpreters', 'array', 'atexit', 'audioop', 'binascii', 'builtins', 'cmath', 'errno', 'faulthandler', 'gc', 'itertools', 'marshal', 'math', 'mmap', 'msvcrt', 'nt', 'parser', 'sys', 'time', 'winreg', 'xxsubtype', 'zlib')\n"
     ]
    }
   ],
   "source": [
    "import sys\n",
    "print(sys.builtin_module_names)"
   ]
  },
  {
   "cell_type": "code",
   "execution_count": 10,
   "metadata": {
    "ExecuteTime": {
     "end_time": "2021-06-29T06:29:29.529665Z",
     "start_time": "2021-06-29T06:29:29.517384Z"
    },
    "id": "E6pcvOoT6loa"
   },
   "outputs": [
    {
     "name": "stdout",
     "output_type": "stream",
     "text": [
      "['ArithmeticError', 'AssertionError', 'AttributeError', 'BaseException', 'BlockingIOError', 'BrokenPipeError', 'BufferError', 'BytesWarning', 'ChildProcessError', 'ConnectionAbortedError', 'ConnectionError', 'ConnectionRefusedError', 'ConnectionResetError', 'DeprecationWarning', 'EOFError', 'Ellipsis', 'EnvironmentError', 'Exception', 'False', 'FileExistsError', 'FileNotFoundError', 'FloatingPointError', 'FutureWarning', 'GeneratorExit', 'IOError', 'ImportError', 'ImportWarning', 'IndentationError', 'IndexError', 'InterruptedError', 'IsADirectoryError', 'KeyError', 'KeyboardInterrupt', 'LookupError', 'MemoryError', 'ModuleNotFoundError', 'NameError', 'None', 'NotADirectoryError', 'NotImplemented', 'NotImplementedError', 'OSError', 'OverflowError', 'PendingDeprecationWarning', 'PermissionError', 'ProcessLookupError', 'RecursionError', 'ReferenceError', 'ResourceWarning', 'RuntimeError', 'RuntimeWarning', 'StopAsyncIteration', 'StopIteration', 'SyntaxError', 'SyntaxWarning', 'SystemError', 'SystemExit', 'TabError', 'TimeoutError', 'True', 'TypeError', 'UnboundLocalError', 'UnicodeDecodeError', 'UnicodeEncodeError', 'UnicodeError', 'UnicodeTranslateError', 'UnicodeWarning', 'UserWarning', 'ValueError', 'Warning', 'WindowsError', 'ZeroDivisionError', '__IPYTHON__', '__build_class__', '__debug__', '__doc__', '__import__', '__loader__', '__name__', '__package__', '__spec__', 'abs', 'all', 'any', 'ascii', 'bin', 'bool', 'breakpoint', 'bytearray', 'bytes', 'callable', 'chr', 'classmethod', 'compile', 'complex', 'copyright', 'credits', 'delattr', 'dict', 'dir', 'display', 'divmod', 'enumerate', 'eval', 'exec', 'filter', 'float', 'format', 'frozenset', 'get_ipython', 'getattr', 'globals', 'hasattr', 'hash', 'help', 'hex', 'id', 'input', 'int', 'isinstance', 'issubclass', 'iter', 'len', 'license', 'list', 'locals', 'map', 'max', 'memoryview', 'min', 'next', 'object', 'oct', 'open', 'ord', 'pow', 'print', 'property', 'range', 'repr', 'reversed', 'round', 'set', 'setattr', 'slice', 'sorted', 'staticmethod', 'str', 'sum', 'super', 'tuple', 'type', 'vars', 'zip']\n"
     ]
    }
   ],
   "source": [
    "print(dir(__builtin__))"
   ]
  },
  {
   "cell_type": "markdown",
   "metadata": {
    "id": "ILtHUW9h6zKi"
   },
   "source": [
    "### 시간 모듈(datetime)\n",
    "\n",
    "* 운영체제가 제공하는 시간 기능을 파이썬에서 사용할 수 있도록 만들어진 모듈\n",
    "* 시간 모듈을 사용하기 위해서는 `import time` 필요"
   ]
  },
  {
   "cell_type": "code",
   "execution_count": 11,
   "metadata": {
    "ExecuteTime": {
     "end_time": "2021-06-29T06:29:29.544673Z",
     "start_time": "2021-06-29T06:29:29.532655Z"
    },
    "id": "MbSkRsQp622D"
   },
   "outputs": [
    {
     "name": "stdout",
     "output_type": "stream",
     "text": [
      "['_STRUCT_TM_ITEMS', '__doc__', '__loader__', '__name__', '__package__', '__spec__', 'altzone', 'asctime', 'ctime', 'daylight', 'get_clock_info', 'gmtime', 'localtime', 'mktime', 'monotonic', 'monotonic_ns', 'perf_counter', 'perf_counter_ns', 'process_time', 'process_time_ns', 'sleep', 'strftime', 'strptime', 'struct_time', 'thread_time', 'thread_time_ns', 'time', 'time_ns', 'timezone', 'tzname']\n"
     ]
    }
   ],
   "source": [
    "import time\n",
    "print(dir(time))"
   ]
  },
  {
   "cell_type": "markdown",
   "metadata": {
    "id": "z9LVec3hYyqa"
   },
   "source": [
    "* 시간 모듈 `time` 예제"
   ]
  },
  {
   "cell_type": "code",
   "execution_count": 12,
   "metadata": {
    "ExecuteTime": {
     "end_time": "2021-06-29T06:29:31.576858Z",
     "start_time": "2021-06-29T06:29:29.546657Z"
    },
    "id": "DnE8kYXuYzC8"
   },
   "outputs": [
    {
     "name": "stdout",
     "output_type": "stream",
     "text": [
      "<module 'time' (built-in)>\n",
      "1624948169.5486567\n",
      "1624948170.5534947\n",
      "1624948171.561501\n",
      "time.struct_time(tm_year=2021, tm_mon=6, tm_mday=29, tm_hour=6, tm_min=29, tm_sec=31, tm_wday=1, tm_yday=180, tm_isdst=0)\n",
      "2021년 6월 29일\n",
      "6시 29분 31초\n"
     ]
    }
   ],
   "source": [
    "import time\n",
    "print(time)\n",
    "print(time.time())\n",
    "time.sleep(1)\n",
    "print(time.time())\n",
    "time.sleep(1)\n",
    "print(time.time())\n",
    "\n",
    "now = time.gmtime(time.time())\n",
    "print(now)\n",
    "\n",
    "year =str(now.tm_year)\n",
    "month = str(now.tm_mon)\n",
    "day = str(now.tm_mday)\n",
    "print(year + \"년\", month + \"월\", day + \"일\")\n",
    "\n",
    "hour = str(now.tm_hour)\n",
    "minute = str(now.tm_min)\n",
    "sec = str(now.tm_sec)\n",
    "\n",
    "print(hour + '시', minute + '분', sec + '초')"
   ]
  },
  {
   "cell_type": "markdown",
   "metadata": {
    "id": "BbFoAvcKYnOI"
   },
   "source": [
    "* 날짜시간 모듈 `datetime`의 `date` 클래스 예제"
   ]
  },
  {
   "cell_type": "code",
   "execution_count": 13,
   "metadata": {
    "ExecuteTime": {
     "end_time": "2021-06-29T06:29:31.591863Z",
     "start_time": "2021-06-29T06:29:31.578861Z"
    },
    "id": "RvkSO1yhYs5W"
   },
   "outputs": [
    {
     "name": "stdout",
     "output_type": "stream",
     "text": [
      "<class 'datetime.date'>\n",
      "2000-01-01\n",
      "2010-01-01\n",
      "2021-06-29\n",
      "2021년 6월 29일 화요일\n"
     ]
    }
   ],
   "source": [
    "from datetime import date \n",
    "print(date)\n",
    "print(date(2000, 1, 1))\n",
    "print(date(year=2010, month=1, day = 1))\n",
    "print(date.today())\n",
    "\n",
    "today = date.today()\n",
    "year = str(today.year)\n",
    "month = str(today.month)\n",
    "day = str(today.day)\n",
    "weekday = '월화수목금토일'[today.weekday()]\n",
    "print(year + \"년\", month + \"월\", day + \"일\", weekday + \"요일\")\n"
   ]
  },
  {
   "cell_type": "markdown",
   "metadata": {
    "id": "MYSooRuLaOym"
   },
   "source": [
    "* 날짜시간 모듈 `datetime`의 `time` 클래스 예제"
   ]
  },
  {
   "cell_type": "code",
   "execution_count": 14,
   "metadata": {
    "ExecuteTime": {
     "end_time": "2021-06-29T06:29:31.606869Z",
     "start_time": "2021-06-29T06:29:31.594871Z"
    },
    "id": "qSF7YJg_aPHn"
   },
   "outputs": [
    {
     "name": "stdout",
     "output_type": "stream",
     "text": [
      "<class 'datetime.time'>\n",
      "12:00:00\n",
      "14:30:00\n",
      "16:30:45\n",
      "18:00:15.100000\n",
      "20시 40분 15초 200000마이크로초\n"
     ]
    }
   ],
   "source": [
    "from datetime import time\n",
    "print(time)\n",
    "print(time(12, 0))\n",
    "print(time(14, 30))\n",
    "print(time(16, 30, 45))\n",
    "print(time(18, 00, 15, 100000))\n",
    "\n",
    "now = time(20, 40, 15, 200000)\n",
    "hour = str(now.hour)\n",
    "minute = str(now.minute)\n",
    "sec = str(now.second)\n",
    "msec = str(now.microsecond)\n",
    "print(hour + '시', minute + '분', sec + '초', msec + '마이크로초')"
   ]
  },
  {
   "cell_type": "markdown",
   "metadata": {
    "id": "sdtzTp5tlqSb"
   },
   "source": [
    "* 날짜시간 모듈 `datetime`의 `datetime` 클래스 예제\n",
    "* 날짜시간을 문자열로 표현하기 위한 `strftime()` 메소드 예제"
   ]
  },
  {
   "cell_type": "markdown",
   "metadata": {},
   "source": [
    "|표현|설명|\n",
    "|:---:|:---|\n",
    "|`%Y`|년(YYYY)|\n",
    "|`%y`|년(yy)|\n",
    "|`%m`|월(mm)|\n",
    "|`%d`|일(dd)|\n",
    "|`%A`|요일|\n",
    "|`%H`|시(24)|\n",
    "|`%I`|시(12)\n",
    "|`%p`|AM, PM|\n",
    "|`%M`|분(MM)|\n",
    "|`%S`|초(SS)|\n",
    "|`%f`|마이크로초|\n"
   ]
  },
  {
   "cell_type": "code",
   "execution_count": 15,
   "metadata": {
    "ExecuteTime": {
     "end_time": "2021-06-29T06:29:31.621874Z",
     "start_time": "2021-06-29T06:29:31.609869Z"
    },
    "id": "mlwwukrqlsKn"
   },
   "outputs": [
    {
     "name": "stdout",
     "output_type": "stream",
     "text": [
      "<class 'datetime.datetime'>\n",
      "2020-01-01 00:00:00\n",
      "2020-01-01 01:15:45\n",
      "2021-06-29 15:29:31.611869\n",
      "2021년 06월 29일 15시 29분 31초\n",
      "2021/06/29 PM 03:29:31:611869\n"
     ]
    }
   ],
   "source": [
    "from datetime import datetime\n",
    "print(datetime)\n",
    "print(datetime(2020, 1, 1))\n",
    "print(datetime(2020, 1, 1, 1, 15, 45))\n",
    "print(datetime.now())\n",
    "now = datetime.now()\n",
    "print(now.strftime('%Y년 %m월 %d일 %H시 %M분 %S초'))\n",
    "print(now.strftime('%Y/%m/%d %p %I:%M:%S:%f'))"
   ]
  },
  {
   "cell_type": "markdown",
   "metadata": {
    "id": "iE13qouhqEGd"
   },
   "source": [
    "#### [Lab] 태어난지 몇 일이 되었는가?\n",
    "\n",
    "* 태어난지 얼마나 지났는지 계산하기"
   ]
  },
  {
   "cell_type": "code",
   "execution_count": 16,
   "metadata": {
    "ExecuteTime": {
     "end_time": "2021-06-29T06:29:31.636873Z",
     "start_time": "2021-06-29T06:29:31.623871Z"
    },
    "id": "LvW2SqpYpXex"
   },
   "outputs": [
    {
     "name": "stdout",
     "output_type": "stream",
     "text": [
      "7850\n"
     ]
    }
   ],
   "source": [
    "from datetime import date\n",
    "birthday = date(2000, 1, 1)\n",
    "\n",
    "today = date.today()\n",
    "day = today - birthday\n",
    "print(day.days)"
   ]
  },
  {
   "cell_type": "markdown",
   "metadata": {
    "id": "nl1EYj9c6pTG"
   },
   "source": [
    "### 수학 모듈(math)\n",
    "\n",
    "* 파이썬에서 수학에 필요한 math 모듈 제공\n"
   ]
  },
  {
   "cell_type": "code",
   "execution_count": 17,
   "metadata": {
    "ExecuteTime": {
     "end_time": "2021-06-29T06:29:31.651878Z",
     "start_time": "2021-06-29T06:29:31.637874Z"
    },
    "id": "iwKRg4ZI6sds"
   },
   "outputs": [
    {
     "name": "stdout",
     "output_type": "stream",
     "text": [
      "['__doc__', '__loader__', '__name__', '__package__', '__spec__', 'acos', 'acosh', 'asin', 'asinh', 'atan', 'atan2', 'atanh', 'ceil', 'comb', 'copysign', 'cos', 'cosh', 'degrees', 'dist', 'e', 'erf', 'erfc', 'exp', 'expm1', 'fabs', 'factorial', 'floor', 'fmod', 'frexp', 'fsum', 'gamma', 'gcd', 'hypot', 'inf', 'isclose', 'isfinite', 'isinf', 'isnan', 'isqrt', 'ldexp', 'lgamma', 'log', 'log10', 'log1p', 'log2', 'modf', 'nan', 'perm', 'pi', 'pow', 'prod', 'radians', 'remainder', 'sin', 'sinh', 'sqrt', 'tan', 'tanh', 'tau', 'trunc']\n"
     ]
    }
   ],
   "source": [
    "import math\n",
    "print(dir(math))"
   ]
  },
  {
   "cell_type": "markdown",
   "metadata": {},
   "source": [
    "|상수|설명|\n",
    "|:---|:----|\n",
    "|`math.pi`|원주율|\n",
    "|`math.e`|자연상수|\n",
    "|`math.inf`|무한대|\n"
   ]
  },
  {
   "cell_type": "markdown",
   "metadata": {},
   "source": [
    "|함수|설명|\n",
    "|:-----|:---|\n",
    "|`math.factorial(x)`| x 팩토리얼|\n",
    "|`math.gcd(a, b)`|a와 b의 최대공약수|\n",
    "|`math.floor(x)`|x의 내림값|\n",
    "|`math.ceil(x)`|x의 올림값|\n",
    "|`math.pow(x, y)`|x의 y승|\n",
    "|`math.sqrt(x)`|x의 제곱근|\n",
    "|`math.log(x, base)`| base를 밑으로 하는 x 로그|\n",
    "|`math.sin(x)`|x 라디안의 사인|\n",
    "|`math.cos(x)`|x 라디안의 코사인|\n",
    "|`math.tan(x)`|x 라디안의 탄젠트|\n",
    "|`math.degrees(x)`|x 라디안을 도 단위로 변환|\n",
    "|`math.radians(x)`|x 도를 라디안 단위로 변환|"
   ]
  },
  {
   "cell_type": "code",
   "execution_count": 18,
   "metadata": {
    "ExecuteTime": {
     "end_time": "2021-06-29T06:29:31.666881Z",
     "start_time": "2021-06-29T06:29:31.653879Z"
    },
    "id": "d3mmKmFiswty"
   },
   "outputs": [
    {
     "name": "stdout",
     "output_type": "stream",
     "text": [
      "6\n",
      "12\n",
      "3\n",
      "4\n",
      "1024.0\n",
      "3.1622776601683795\n",
      "3.3219280948873626\n",
      "180.0\n",
      "3.141592653589793\n",
      "1.0\n",
      "-1.0\n"
     ]
    }
   ],
   "source": [
    "import math\n",
    "print(math.factorial(3))\n",
    "print(math.gcd(12, 24))\n",
    "print(math.floor(math.pi))\n",
    "print(math.ceil(math.pi))\n",
    "print(math.pow(2, 10))\n",
    "print(math.sqrt(10))\n",
    "print(math.log(10, 2))\n",
    "print(math.degrees(math.pi))\n",
    "print(math.radians(180))\n",
    "print(math.sin(math.radians(90)))\n",
    "print(math.cos(math.radians(180)))"
   ]
  },
  {
   "cell_type": "markdown",
   "metadata": {
    "id": "iAbuv-GxzRH0"
   },
   "source": [
    "### 순열과 조합 모듈(itertools)\n",
    "\n",
    "* `itertools` 모듈에서 곱집합, 순열, 조합 등을 구하는 함수 제공\n"
   ]
  },
  {
   "cell_type": "markdown",
   "metadata": {},
   "source": [
    "|함수|설명|\n",
    "|:---|:----|\n",
    "|`itertools.product(seq1, ...)`|시퀀스의 곱집합|\n",
    "|`itertools.permutations(p, r)`|p 시퀀스의 요소 개를 나열하는 순열|\n",
    "|`itertools.combinations(p, r)`|p 시퀀스의 요소 개를 선택하는 조합|\n",
    "|`itertools.combinations_with_replacement(p, r)`|p 시퀀스의 요소 「개를 중복 허용해 선택하는 조합|\n"
   ]
  },
  {
   "cell_type": "code",
   "execution_count": 19,
   "metadata": {
    "ExecuteTime": {
     "end_time": "2021-06-29T06:29:31.681884Z",
     "start_time": "2021-06-29T06:29:31.668882Z"
    },
    "id": "fG_PztCsz4xk",
    "scrolled": true
   },
   "outputs": [
    {
     "name": "stdout",
     "output_type": "stream",
     "text": [
      "['a', 'b', 'c']\n",
      "[1, 2]\n",
      "[('a', 1), ('a', 2), ('b', 1), ('b', 2), ('c', 1), ('c', 2)]\n",
      "[('a', 'b'), ('a', 'c'), ('b', 'a'), ('b', 'c'), ('c', 'a'), ('c', 'b')]\n",
      "[('a', 'b'), ('a', 'c'), ('b', 'c')]\n",
      "[('a', 'a'), ('a', 'b'), ('a', 'c'), ('b', 'b'), ('b', 'c'), ('c', 'c')]\n"
     ]
    }
   ],
   "source": [
    "import itertools\n",
    "\n",
    "list_1 = ['a', 'b', 'c']\n",
    "print(list_1)\n",
    "list_2 = [1, 2]\n",
    "print(list_2)\n",
    "list_cp = list(itertools.product(list_1, list_2))\n",
    "print(list_cp)\n",
    "list_p = list(itertools.permutations(list_1, 2))\n",
    "print(list_p)\n",
    "list_c = list(itertools.combinations(list_1, 2))\n",
    "print(list_c)\n",
    "list_cr = list(itertools.combinations_with_replacement(list_1, 2))\n",
    "print(list_cr)"
   ]
  },
  {
   "cell_type": "markdown",
   "metadata": {
    "id": "UNlrNquK2eMg"
   },
   "source": [
    "### 통계 모듈(statistics)\n",
    "\n",
    "* `statistics` 모듈에서는 산술평균, 표준편차 등 통계에 필요한 계산 관련 함수들을 제공\n"
   ]
  },
  {
   "cell_type": "markdown",
   "metadata": {},
   "source": [
    "|함수|설명|\n",
    "|:----|:---|\n",
    "|`statistics.median(seq)`|시퀀스의 중앙값|\n",
    "|`statistics.mean(seq)`|시퀀스의 산술 평균|\n",
    "|`statistics.harmonic_mean(seq)`|시퀀스의 조화 평균|\n",
    "|`statistics.stdev(seq)`|시퀀스의 표본 표준편차|\n",
    "|`statistics.variance(seq)`|시퀀스의 표본 분산|\n"
   ]
  },
  {
   "cell_type": "code",
   "execution_count": 20,
   "metadata": {
    "ExecuteTime": {
     "end_time": "2021-06-29T06:29:31.696889Z",
     "start_time": "2021-06-29T06:29:31.683884Z"
    },
    "id": "sqQiNW-k21XJ"
   },
   "outputs": [
    {
     "name": "stdout",
     "output_type": "stream",
     "text": [
      "74.0\n",
      "70.7\n",
      "66.42170307761845\n",
      "17.217884758458442\n",
      "296.4555555555556\n"
     ]
    }
   ],
   "source": [
    "import statistics\n",
    "values = [56, 44, 67, 47, 82, 67, 92, 89, 81, 82]\n",
    "print(statistics.median(values))\n",
    "print(statistics.mean(values))\n",
    "print(statistics.harmonic_mean(values))\n",
    "print(statistics.stdev(values))\n",
    "print(statistics.variance(values))\n"
   ]
  },
  {
   "cell_type": "markdown",
   "metadata": {
    "id": "nwW2LgNc67u3"
   },
   "source": [
    "### 랜덤 모듈(random)\n",
    "\n",
    "* 랜덤 모듈을 사용하기 위해서는 `import random` 필요"
   ]
  },
  {
   "cell_type": "markdown",
   "metadata": {},
   "source": [
    "|코드|설명|\n",
    "|:----|:---|\n",
    "|`random.random()`|0.0~1.0 미만의 실수값 반환|\n",
    "| `random.randint(1, 10)`|1~10 사이의 정수 반환|\n",
    "| `random.randrange (0, 10, 2)` | 0~10 미만의 2의 배수만 반환|\n",
    "| `random.choice()`| 자료형 변수에서 임의의 값 반환|\n",
    "| `random.sample()` | 자료형 변수에서 필요한 개수만큼 반환|\n",
    "| `random.shuffle()`| 자료형 변수 내용을 랜덤으로 셔플|\n"
   ]
  },
  {
   "cell_type": "code",
   "execution_count": 21,
   "metadata": {
    "ExecuteTime": {
     "end_time": "2021-06-29T06:29:31.711891Z",
     "start_time": "2021-06-29T06:29:31.698888Z"
    },
    "id": "PuAbFRsa7IUH"
   },
   "outputs": [
    {
     "name": "stdout",
     "output_type": "stream",
     "text": [
      "0.04492113222454741\n",
      "10\n",
      "0\n"
     ]
    }
   ],
   "source": [
    "import random\n",
    "print(random.random())\n",
    "print(random.randint(1, 10))\n",
    "print(random.randrange(0, 10, 2))"
   ]
  },
  {
   "cell_type": "code",
   "execution_count": 22,
   "metadata": {
    "ExecuteTime": {
     "end_time": "2021-06-29T06:29:31.726895Z",
     "start_time": "2021-06-29T06:29:31.713893Z"
    },
    "id": "aDz_82bc7qJx"
   },
   "outputs": [
    {
     "name": "stdout",
     "output_type": "stream",
     "text": [
      "[10, 20, 30, 40, 50]\n",
      "40\n",
      "[20, 50]\n",
      "[20, 50, 40, 10, 30]\n"
     ]
    }
   ],
   "source": [
    "li = [10, 20, 30, 40, 50]\n",
    "print(li)\n",
    "print(random.choice(li))\n",
    "print(random.sample(li, 2))\n",
    "random.shuffle(li)\n",
    "print(li)"
   ]
  },
  {
   "cell_type": "markdown",
   "metadata": {
    "id": "RFMGmK8r79zv"
   },
   "source": [
    "### 네임스페이스(Namespace)\n",
    "\n",
    "* 모듈 호출의 범위 지정\n",
    "* 모듈 이름에 alias를 생성하여 모듈의 이름을 바꿔 사용"
   ]
  },
  {
   "cell_type": "code",
   "execution_count": 23,
   "metadata": {
    "ExecuteTime": {
     "end_time": "2021-06-29T06:29:31.741898Z",
     "start_time": "2021-06-29T06:29:31.730895Z"
    },
    "id": "OmY9T8g68M5J"
   },
   "outputs": [
    {
     "name": "stdout",
     "output_type": "stream",
     "text": [
      "0.36474509282294365\n",
      "4\n"
     ]
    }
   ],
   "source": [
    "import random \n",
    "\n",
    "print(random.random())\n",
    "\n",
    "print(random.randrange(0, 10, 2))\n",
    "\n"
   ]
  },
  {
   "cell_type": "code",
   "execution_count": 24,
   "metadata": {
    "ExecuteTime": {
     "end_time": "2021-06-29T06:29:31.756901Z",
     "start_time": "2021-06-29T06:29:31.744902Z"
    }
   },
   "outputs": [
    {
     "name": "stdout",
     "output_type": "stream",
     "text": [
      "0.6914476768313721\n",
      "2\n"
     ]
    }
   ],
   "source": [
    "import random as rd\n",
    "\n",
    "print(rd.random())\n",
    "\n",
    "print(rd.randrange(0, 10, 2))\n",
    "\n"
   ]
  },
  {
   "cell_type": "markdown",
   "metadata": {
    "id": "ijyblqrg8NfX"
   },
   "source": [
    "* from 구문을 사용하여 모듈에서 특정 함수 또는 클래스만 호출"
   ]
  },
  {
   "cell_type": "code",
   "execution_count": 25,
   "metadata": {
    "ExecuteTime": {
     "end_time": "2021-06-29T06:29:31.771904Z",
     "start_time": "2021-06-29T06:29:31.758905Z"
    },
    "id": "YwkdUeaL8PeK"
   },
   "outputs": [
    {
     "name": "stdout",
     "output_type": "stream",
     "text": [
      "0.43915310926837225\n",
      "4\n"
     ]
    }
   ],
   "source": [
    "from random import random, randrange\n",
    "\n",
    "print(random())\n",
    "print(randrange(0, 10, 2))\n"
   ]
  },
  {
   "cell_type": "markdown",
   "metadata": {
    "id": "6jIH8CcK8P9Q"
   },
   "source": [
    "* '*'을 사용하여 모듈 안에 모든 함수, 클래스, 변수를 가져옴"
   ]
  },
  {
   "cell_type": "code",
   "execution_count": 26,
   "metadata": {
    "ExecuteTime": {
     "end_time": "2021-06-29T06:29:31.786925Z",
     "start_time": "2021-06-29T06:29:31.774905Z"
    },
    "id": "NdCD7wxF8Rpj"
   },
   "outputs": [
    {
     "name": "stdout",
     "output_type": "stream",
     "text": [
      "0.8263198795719144\n",
      "2\n"
     ]
    }
   ],
   "source": [
    "from random import *\n",
    "\n",
    "print(random())\n",
    "print(randrange(0, 10, 2))\n"
   ]
  },
  {
   "cell_type": "markdown",
   "metadata": {
    "id": "qQc_0nwV1YyE"
   },
   "source": [
    "## 패키지(Packages)\n"
   ]
  },
  {
   "attachments": {},
   "cell_type": "markdown",
   "metadata": {},
   "source": [
    "![image.png](data:image/png;base64,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)"
   ]
  },
  {
   "cell_type": "markdown",
   "metadata": {},
   "source": [
    "* 패키지는 모듈의 집합\n",
    "* 패키지 안에 여러 모듈이 존재\n",
    "* 모듈을 주제별로 분리할 때 사용\n",
    "* 디렉터리와 같이 계층적인 구조로 관리\n",
    "* 모듈들이 서로 포함 관계를 가지며 거대한 패키지를 가짐\n",
    "* 파이썬에서는 패키지가 하나의 라이브러리\n"
   ]
  },
  {
   "cell_type": "markdown",
   "metadata": {},
   "source": [
    "## 패키지 구조 예제"
   ]
  },
  {
   "cell_type": "markdown",
   "metadata": {
    "id": "jekuqE1NI0mJ"
   },
   "source": [
    "![image.png](https://slid-capture.s3.ap-northeast-2.amazonaws.com/public/capture_images/65398e5fb4f44a29b500765e3280502c/17fdf94d-52ca-4142-9a91-8584432fcc48.png)"
   ]
  },
  {
   "cell_type": "code",
   "execution_count": 27,
   "metadata": {
    "ExecuteTime": {
     "end_time": "2021-06-29T06:29:31.801912Z",
     "start_time": "2021-06-29T06:29:31.789908Z"
    },
    "id": "bPz0apRgJSJ-",
    "scrolled": true
   },
   "outputs": [],
   "source": [
    "# !mkdir package\n",
    "# !mkdir package/sub_package_1/\n",
    "# !mkdir package/sub_package_2/\n",
    "# !mkdir package/sub_package_3/"
   ]
  },
  {
   "cell_type": "markdown",
   "metadata": {},
   "source": [
    "/ or \\"
   ]
  },
  {
   "cell_type": "code",
   "execution_count": 28,
   "metadata": {
    "ExecuteTime": {
     "end_time": "2021-06-29T06:29:31.876928Z",
     "start_time": "2021-06-29T06:29:31.804914Z"
    }
   },
   "outputs": [
    {
     "name": "stderr",
     "output_type": "stream",
     "text": [
      "하위 디렉터리 또는 파일 package이(가) 이미 있습니다.\n",
      "하위 디렉터리 또는 파일 package\\sub_package_1이(가) 이미 있습니다.\n",
      "다음 내용 진행 중 오류 발생: package\\sub_package_1.\n",
      "하위 디렉터리 또는 파일 !mkdir이(가) 이미 있습니다.\n",
      "다음 내용 진행 중 오류 발생: !mkdir.\n",
      "하위 디렉터리 또는 파일 package\\sub_package_2이(가) 이미 있습니다.\n",
      "다음 내용 진행 중 오류 발생: package\\sub_package_2.\n",
      "하위 디렉터리 또는 파일 !mkdir이(가) 이미 있습니다.\n",
      "다음 내용 진행 중 오류 발생: !mkdir.\n",
      "하위 디렉터리 또는 파일 package\\sub_package_3\\이(가) 이미 있습니다.\n",
      "다음 내용 진행 중 오류 발생: package\\sub_package_3\\.\n"
     ]
    }
   ],
   "source": [
    "!mkdir package\n",
    "!mkdir package\\sub_package_1\\\n",
    "!mkdir package\\sub_package_2\\\n",
    "!mkdir package\\sub_package_3\\"
   ]
  },
  {
   "cell_type": "code",
   "execution_count": 29,
   "metadata": {
    "ExecuteTime": {
     "end_time": "2021-06-29T06:29:31.921940Z",
     "start_time": "2021-06-29T06:29:31.879930Z"
    },
    "id": "Z39w6vP1Jnuu"
   },
   "outputs": [
    {
     "name": "stdout",
     "output_type": "stream",
     "text": [
      " C 드라이브의 볼륨에는 이름이 없습니다.\n",
      " 볼륨 일련 번호: 50B4-87C1\n",
      "\n",
      " C:\\Users\\N\\OneDrive\\WorkJ\\Python_from_scratch\\package 디렉터리\n",
      "\n",
      "2021-06-29  오후 03:22    <DIR>          .\n",
      "2021-06-29  오후 03:22    <DIR>          ..\n",
      "2021-06-29  오후 03:22    <DIR>          sub_package_1\n",
      "2021-06-29  오후 03:22    <DIR>          sub_package_2\n",
      "2021-06-29  오후 03:22    <DIR>          sub_package_3\n",
      "2021-06-29  오후 03:22                63 __init__.py\n",
      "2021-06-29  오후 03:24               321 __main__.py\n",
      "2021-06-29  오후 03:24    <DIR>          __pycache__\n",
      "               2개 파일                 384 바이트\n",
      "               6개 디렉터리  152,371,613,696 바이트 남음\n"
     ]
    }
   ],
   "source": [
    "!dir package"
   ]
  },
  {
   "cell_type": "code",
   "execution_count": 30,
   "metadata": {
    "ExecuteTime": {
     "end_time": "2021-06-29T06:29:31.937942Z",
     "start_time": "2021-06-29T06:29:31.924942Z"
    },
    "id": "6U6AkKypKILn"
   },
   "outputs": [
    {
     "name": "stdout",
     "output_type": "stream",
     "text": [
      "Overwriting package/sub_package_1/sub1_module_1.py\n"
     ]
    }
   ],
   "source": [
    "%%writefile package/sub_package_1/sub1_module_1.py\n",
    "def print_module():\n",
    "    print(\"sub_package_1/sub1_module_1\")"
   ]
  },
  {
   "cell_type": "code",
   "execution_count": 31,
   "metadata": {
    "ExecuteTime": {
     "end_time": "2021-06-29T06:29:31.952945Z",
     "start_time": "2021-06-29T06:29:31.940942Z"
    },
    "id": "6U6AkKypKILn"
   },
   "outputs": [
    {
     "name": "stdout",
     "output_type": "stream",
     "text": [
      "Overwriting package/sub_package_1/sub1_module_2.py\n"
     ]
    }
   ],
   "source": [
    "%%writefile package/sub_package_1/sub1_module_2.py\n",
    "def print_module():\n",
    "    print(\"sub_package_1/sub1_module_2\")"
   ]
  },
  {
   "cell_type": "code",
   "execution_count": 32,
   "metadata": {
    "ExecuteTime": {
     "end_time": "2021-06-29T06:29:31.967948Z",
     "start_time": "2021-06-29T06:29:31.954945Z"
    },
    "id": "6U6AkKypKILn"
   },
   "outputs": [
    {
     "name": "stdout",
     "output_type": "stream",
     "text": [
      "Overwriting package/sub_package_2/sub2_module_1.py\n"
     ]
    }
   ],
   "source": [
    "%%writefile package/sub_package_2/sub2_module_1.py\n",
    "def print_module():\n",
    "    print(\"sub_package_2/sub2_module_1\")"
   ]
  },
  {
   "cell_type": "code",
   "execution_count": 33,
   "metadata": {
    "ExecuteTime": {
     "end_time": "2021-06-29T06:29:31.982952Z",
     "start_time": "2021-06-29T06:29:31.969949Z"
    },
    "id": "6U6AkKypKILn"
   },
   "outputs": [
    {
     "name": "stdout",
     "output_type": "stream",
     "text": [
      "Overwriting package/sub_package_2/sub2_module_2.py\n"
     ]
    }
   ],
   "source": [
    "%%writefile package/sub_package_2/sub2_module_2.py\n",
    "def print_module():\n",
    "    print(\"sub_package_2/sub2_module_2\")"
   ]
  },
  {
   "cell_type": "code",
   "execution_count": 34,
   "metadata": {
    "ExecuteTime": {
     "end_time": "2021-06-29T06:29:31.997974Z",
     "start_time": "2021-06-29T06:29:31.984966Z"
    },
    "id": "6U6AkKypKILn"
   },
   "outputs": [
    {
     "name": "stdout",
     "output_type": "stream",
     "text": [
      "Overwriting package/sub_package_3/sub3_module_1.py\n"
     ]
    }
   ],
   "source": [
    "%%writefile package/sub_package_3/sub3_module_1.py\n",
    "def print_module():\n",
    "    print(\"sub_package_3/sub3_module_1\")"
   ]
  },
  {
   "cell_type": "code",
   "execution_count": 35,
   "metadata": {
    "ExecuteTime": {
     "end_time": "2021-06-29T06:29:32.012976Z",
     "start_time": "2021-06-29T06:29:31.999958Z"
    },
    "id": "6U6AkKypKILn"
   },
   "outputs": [
    {
     "name": "stdout",
     "output_type": "stream",
     "text": [
      "Overwriting package/sub_package_3/sub3_module_2.py\n"
     ]
    }
   ],
   "source": [
    "%%writefile package/sub_package_3/sub3_module_2.py\n",
    "def print_module():\n",
    "    print(\"sub_package_3/sub3_module_2\")"
   ]
  },
  {
   "cell_type": "markdown",
   "metadata": {
    "id": "wljVmXlNIrvv"
   },
   "source": [
    "### 패키지 실행\n",
    "\n",
    "* 정의한 패키지의 모듈 실행"
   ]
  },
  {
   "cell_type": "code",
   "execution_count": 36,
   "metadata": {
    "ExecuteTime": {
     "end_time": "2021-06-29T06:29:32.042965Z",
     "start_time": "2021-06-29T06:29:32.015962Z"
    },
    "id": "3yew_JCLMsp7"
   },
   "outputs": [
    {
     "name": "stdout",
     "output_type": "stream",
     "text": [
      "sub_package_1/sub1_module_1\n",
      "sub_package_1/sub1_module_2\n"
     ]
    }
   ],
   "source": [
    "from package.sub_package_1 import sub1_module_1, sub1_module_2\n",
    "sub1_module_1.print_module()\n",
    "sub1_module_2.print_module()"
   ]
  },
  {
   "cell_type": "code",
   "execution_count": 37,
   "metadata": {
    "ExecuteTime": {
     "end_time": "2021-06-29T06:29:32.057981Z",
     "start_time": "2021-06-29T06:29:32.044967Z"
    },
    "id": "vkRbKEa8NOmh"
   },
   "outputs": [
    {
     "name": "stdout",
     "output_type": "stream",
     "text": [
      "sub_package_2/sub2_module_1\n",
      "sub_package_2/sub2_module_2\n"
     ]
    }
   ],
   "source": [
    "from package.sub_package_2 import sub2_module_1, sub2_module_2\n",
    "sub2_module_1.print_module()\n",
    "sub2_module_2.print_module()"
   ]
  },
  {
   "cell_type": "code",
   "execution_count": 38,
   "metadata": {
    "ExecuteTime": {
     "end_time": "2021-06-29T06:29:32.072974Z",
     "start_time": "2021-06-29T06:29:32.059972Z"
    },
    "id": "3d0daVmONRBT"
   },
   "outputs": [
    {
     "name": "stdout",
     "output_type": "stream",
     "text": [
      "sub_package_3/sub3_module_1\n",
      "sub_package_3/sub3_module_2\n"
     ]
    }
   ],
   "source": [
    "from package.sub_package_3 import sub3_module_1, sub3_module_2\n",
    "sub3_module_1.print_module()\n",
    "sub3_module_2.print_module()"
   ]
  },
  {
   "cell_type": "code",
   "execution_count": 39,
   "metadata": {
    "ExecuteTime": {
     "end_time": "2021-06-29T06:29:32.087991Z",
     "start_time": "2021-06-29T06:29:32.074974Z"
    },
    "id": "Dy0EJOccNrrS"
   },
   "outputs": [
    {
     "name": "stdout",
     "output_type": "stream",
     "text": [
      "sub_package_1/sub1_module_1\n",
      "sub_package_1/sub1_module_2\n",
      "sub_package_2/sub2_module_1\n",
      "sub_package_2/sub2_module_2\n",
      "sub_package_3/sub3_module_1\n",
      "sub_package_3/sub3_module_2\n"
     ]
    }
   ],
   "source": [
    "from package import * \n",
    "sub1_module_1.print_module()\n",
    "sub1_module_2.print_module()\n",
    "sub2_module_1.print_module()\n",
    "sub2_module_2.print_module()\n",
    "sub3_module_1.print_module()\n",
    "sub3_module_2.print_module()"
   ]
  },
  {
   "cell_type": "markdown",
   "metadata": {
    "id": "CrmBC32pe2Ag"
   },
   "source": [
    "### 패키지 구성 파일\n",
    "\n",
    "* \\_\\_init\\_\\_.py\n"
   ]
  },
  {
   "cell_type": "markdown",
   "metadata": {},
   "source": [
    "* 파이썬 패키지를 선언하는 초기화 스크립트\n",
    "* 패키지에 대한 메타데이터에 해당하는 내용 포함\n",
    "* 파이썬의 거의 모든 라이브러리에 포함\n",
    "* 파이썬 버전 3.3 부터는 _init_.py 파일이 없어도 패키지로 인식\n",
    "* 파이썬 버전 3.3 밑의 하위 버전과 호환을 위해 _init_.py 파일 생성\n",
    "* \\_\\_all\\_\\_이 라는 리스트형의 변수에 하위 패키지의 이름을 작성\n",
    "* `__all__ = ['sub_package_1', 'sub_package_2', 'sub_package_3']`\n"
   ]
  },
  {
   "cell_type": "code",
   "execution_count": 40,
   "metadata": {
    "ExecuteTime": {
     "end_time": "2021-06-29T06:29:32.102995Z",
     "start_time": "2021-06-29T06:29:32.089976Z"
    },
    "id": "S80DN-P9IYKw"
   },
   "outputs": [
    {
     "name": "stdout",
     "output_type": "stream",
     "text": [
      "Overwriting package/__init__.py\n"
     ]
    }
   ],
   "source": [
    "%%writefile package/__init__.py\n",
    "__all__ = ['sub_package_1', 'sub_package_2', 'sub_package_3']\n"
   ]
  },
  {
   "cell_type": "code",
   "execution_count": 41,
   "metadata": {
    "ExecuteTime": {
     "end_time": "2021-06-29T06:29:32.117996Z",
     "start_time": "2021-06-29T06:29:32.104980Z"
    },
    "id": "T_Lv285gPt_4"
   },
   "outputs": [
    {
     "name": "stdout",
     "output_type": "stream",
     "text": [
      "Overwriting package/sub_package_1/__init__.py\n"
     ]
    }
   ],
   "source": [
    "%%writefile package/sub_package_1/__init__.py\n",
    "__all__ = ['sub1_module_1', 'sub1_module_2']\n"
   ]
  },
  {
   "cell_type": "code",
   "execution_count": 42,
   "metadata": {
    "ExecuteTime": {
     "end_time": "2021-06-29T06:29:32.133003Z",
     "start_time": "2021-06-29T06:29:32.119984Z"
    },
    "id": "MWb5eNCAP56o"
   },
   "outputs": [
    {
     "name": "stdout",
     "output_type": "stream",
     "text": [
      "Overwriting package/sub_package_2/__init__.py\n"
     ]
    }
   ],
   "source": [
    "%%writefile package/sub_package_2/__init__.py\n",
    "__all__ = ['sub2_module_1', 'sub2_module_2']\n"
   ]
  },
  {
   "cell_type": "code",
   "execution_count": 43,
   "metadata": {
    "ExecuteTime": {
     "end_time": "2021-06-29T06:29:32.148005Z",
     "start_time": "2021-06-29T06:29:32.135987Z"
    },
    "id": "EvYOqe0KP6de"
   },
   "outputs": [
    {
     "name": "stdout",
     "output_type": "stream",
     "text": [
      "Overwriting package/sub_package_3/__init__.py\n"
     ]
    }
   ],
   "source": [
    "%%writefile package/sub_package_3/__init__.py\n",
    "__all__ = ['sub3_module_1', 'sub3_module_2']\n"
   ]
  },
  {
   "cell_type": "code",
   "execution_count": 44,
   "metadata": {
    "ExecuteTime": {
     "end_time": "2021-06-29T06:29:32.193002Z",
     "start_time": "2021-06-29T06:29:32.150007Z"
    },
    "id": "t47pORCoP_Ks"
   },
   "outputs": [
    {
     "name": "stdout",
     "output_type": "stream",
     "text": [
      " C 드라이브의 볼륨에는 이름이 없습니다.\n",
      " 볼륨 일련 번호: 50B4-87C1\n",
      "\n",
      " C:\\Users\\N\\OneDrive\\WorkJ\\Python_from_scratch\\package 디렉터리\n",
      "\n",
      "2021-06-29  오후 03:22    <DIR>          .\n",
      "2021-06-29  오후 03:22    <DIR>          ..\n",
      "2021-06-29  오후 03:22    <DIR>          sub_package_1\n",
      "2021-06-29  오후 03:22    <DIR>          sub_package_2\n",
      "2021-06-29  오후 03:22    <DIR>          sub_package_3\n",
      "2021-06-29  오후 03:29                63 __init__.py\n",
      "2021-06-29  오후 03:24               321 __main__.py\n",
      "2021-06-29  오후 03:29    <DIR>          __pycache__\n",
      "               2개 파일                 384 바이트\n",
      "               6개 디렉터리  152,371,400,704 바이트 남음\n"
     ]
    }
   ],
   "source": [
    "!dir package"
   ]
  },
  {
   "cell_type": "code",
   "execution_count": 45,
   "metadata": {
    "ExecuteTime": {
     "end_time": "2021-06-29T06:29:32.238009Z",
     "start_time": "2021-06-29T06:29:32.195002Z"
    },
    "id": "FygAt2laQDes"
   },
   "outputs": [
    {
     "name": "stdout",
     "output_type": "stream",
     "text": [
      " C 드라이브의 볼륨에는 이름이 없습니다.\n",
      " 볼륨 일련 번호: 50B4-87C1\n",
      "\n",
      " C:\\Users\\N\\OneDrive\\WorkJ\\Python_from_scratch\\package\\sub_package_1 디렉터리\n",
      "\n",
      "2021-06-29  오후 03:22    <DIR>          .\n",
      "2021-06-29  오후 03:22    <DIR>          ..\n",
      "2021-06-29  오후 03:29                63 sub1_module_1.py\n",
      "2021-06-29  오후 03:29                63 sub1_module_2.py\n",
      "2021-06-29  오후 03:29                46 __init__.py\n",
      "2021-06-29  오후 03:29    <DIR>          __pycache__\n",
      "               3개 파일                 172 바이트\n",
      "               3개 디렉터리  152,371,400,704 바이트 남음\n"
     ]
    }
   ],
   "source": [
    "!dir package\\sub_package_1"
   ]
  },
  {
   "cell_type": "markdown",
   "metadata": {
    "id": "ErE9_A3uPcAJ"
   },
   "source": [
    "\n",
    "* \\_\\_main\\_\\_.py\n",
    "  + 패키지 자체를 실행하기 위한 용도\n",
    "  + 패키지를 실행시키면 \\_\\_main\\_\\_.py 실행"
   ]
  },
  {
   "cell_type": "code",
   "execution_count": 46,
   "metadata": {
    "ExecuteTime": {
     "end_time": "2021-06-29T06:29:32.253013Z",
     "start_time": "2021-06-29T06:29:32.240011Z"
    },
    "id": "jl-y2mT6OTb9"
   },
   "outputs": [
    {
     "name": "stdout",
     "output_type": "stream",
     "text": [
      "Overwriting package\\__main__.py\n"
     ]
    }
   ],
   "source": [
    "%%writefile package\\__main__.py\n",
    "from sub_package_1 import *\n",
    "from sub_package_2 import *\n",
    "from sub_package_3 import *\n",
    "\n",
    "if __name__ == '__main__':\n",
    "    sub1_module_1.print_module()\n",
    "    sub1_module_2.print_module()\n",
    "    sub2_module_1.print_module()\n",
    "    sub2_module_2.print_module()\n",
    "    sub3_module_1.print_module()\n",
    "    sub3_module_2.print_module()"
   ]
  },
  {
   "cell_type": "code",
   "execution_count": 47,
   "metadata": {
    "ExecuteTime": {
     "end_time": "2021-06-29T06:29:32.388056Z",
     "start_time": "2021-06-29T06:29:32.256016Z"
    },
    "id": "_leUWfUDNTQZ",
    "scrolled": true
   },
   "outputs": [
    {
     "name": "stdout",
     "output_type": "stream",
     "text": [
      "sub_package_1/sub1_module_1\n",
      "sub_package_1/sub1_module_2\n",
      "sub_package_2/sub2_module_1\n",
      "sub_package_2/sub2_module_2\n",
      "sub_package_3/sub3_module_1\n",
      "sub_package_3/sub3_module_2\n"
     ]
    }
   ],
   "source": [
    "!python package"
   ]
  },
  {
   "cell_type": "markdown",
   "metadata": {
    "id": "H5rv_z4nZg3v"
   },
   "source": [
    "\n",
    "\n",
    "---\n",
    "\n"
   ]
  }
 ],
 "metadata": {
  "colab": {
   "collapsed_sections": [],
   "name": "_09 모듈과 패키지.ipynb",
   "provenance": [],
   "toc_visible": true
  },
  "kernelspec": {
   "display_name": "Python 3",
   "language": "python",
   "name": "python3"
  },
  "language_info": {
   "codemirror_mode": {
    "name": "ipython",
    "version": 3
   },
   "file_extension": ".py",
   "mimetype": "text/x-python",
   "name": "python",
   "nbconvert_exporter": "python",
   "pygments_lexer": "ipython3",
   "version": "3.8.5"
  },
  "toc": {
   "base_numbering": 1,
   "nav_menu": {},
   "number_sections": true,
   "sideBar": true,
   "skip_h1_title": false,
   "title_cell": "Table of Contents",
   "title_sidebar": "Contents",
   "toc_cell": false,
   "toc_position": {},
   "toc_section_display": true,
   "toc_window_display": false
  }
 },
 "nbformat": 4,
 "nbformat_minor": 1
}
