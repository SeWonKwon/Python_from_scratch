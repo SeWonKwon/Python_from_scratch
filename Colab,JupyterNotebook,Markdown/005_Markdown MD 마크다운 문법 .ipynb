{
 "cells": [
  {
   "cell_type": "markdown",
   "metadata": {
    "id": "7hDXZYpnA_DO"
   },
   "source": [
    "# 마크다운(Markdown)\n",
    "\n",
    "* 문법이 간단하고, 사용이 쉬움\n"
   ]
  },
  {
   "cell_type": "markdown",
   "metadata": {
    "id": "c0Sjw59GC_Kn"
   },
   "source": [
    "\n",
    "## 제목(Heading) 표시\n",
    "\n",
    "```\n",
    "# Heading 1\n",
    "## Heading 2\n",
    "### Heading 3\n",
    "#### Heading 4\n",
    "##### Heading 5\n",
    "###### Heading 6\n",
    "```"
   ]
  },
  {
   "cell_type": "markdown",
   "metadata": {
    "id": "WXfs_Cu1Co-H"
   },
   "source": [
    "# Heading 1\n",
    "## Heading 2\n",
    "### Heading 3\n",
    "#### Heading 4\n",
    "##### Heading 5\n",
    "###### Heading 6"
   ]
  },
  {
   "cell_type": "markdown",
   "metadata": {
    "id": "oTWz1WgDBtqM"
   },
   "source": [
    "## 목록(List) 구성\n",
    "```\n",
    "1. 첫째\n",
    "2. 둘째\n",
    "3. 셋째\n",
    "* 1단계\n",
    "  + 2단계\n",
    "    - 3단계\n",
    "\n",
    "```\n"
   ]
  },
  {
   "cell_type": "markdown",
   "metadata": {
    "id": "fSJ0j0Y8CsKW"
   },
   "source": [
    "1. 첫째\n",
    "2. 둘째\n",
    "3. 셋째\n",
    "* 1단계\n",
    "  + 2단계\n",
    "    - 3단계"
   ]
  },
  {
   "cell_type": "markdown",
   "metadata": {
    "id": "TsaBsQUsCTE0"
   },
   "source": [
    "## 폰트 스타일(Font Style)\n",
    "\n",
    "```\n",
    "\n",
    "**bold**\n",
    "__bold__\n",
    "*italic*\n",
    "_italic_\n",
    "~~strike~~\n",
    "<u>underbar</u>\n",
    "\n",
    "```"
   ]
  },
  {
   "cell_type": "markdown",
   "metadata": {
    "id": "Fu4Lk62RCivG"
   },
   "source": [
    "**bold**\n",
    "__bold__\n",
    "*italic*\n",
    "_italic_\n",
    "~~strike~~\n",
    "<u>underbar</u>"
   ]
  },
  {
   "cell_type": "markdown",
   "metadata": {
    "id": "P8PLWLSODwrS"
   },
   "source": [
    "## 인용구\n",
    "```\n",
    "> 인용 1\n",
    ">> 인용 2\n",
    ">>> 인용 3\n",
    "```\n",
    "\n"
   ]
  },
  {
   "cell_type": "markdown",
   "metadata": {
    "id": "gchOf72GD5lt"
   },
   "source": [
    "> 인용 1\n",
    ">> 인용 2\n",
    ">>> 인용 3"
   ]
  },
  {
   "cell_type": "markdown",
   "metadata": {
    "id": "Jw5EeYO9D8AI"
   },
   "source": [
    "## 링크\n",
    "\n",
    "```\n",
    "[Google](https://www.google.com)\n",
    "```\n",
    "\n"
   ]
  },
  {
   "cell_type": "markdown",
   "metadata": {
    "id": "2NVoA14BEMqB"
   },
   "source": [
    "[Google](https://www.google.com)"
   ]
  },
  {
   "cell_type": "markdown",
   "metadata": {
    "id": "XclscvygEVcp"
   },
   "source": [
    "## 이미지\n",
    "```\n",
    "![이미지](![이미지](https://datascience.foundation/backend/web/uploads/blog/Working-with-Python-on-Cloud.png)\n",
    "```"
   ]
  },
  {
   "cell_type": "markdown",
   "metadata": {
    "id": "puOkShcgEnuq"
   },
   "source": [
    "![이미지](https://datascience.foundation/backend/web/uploads/blog/Working-with-Python-on-Cloud.png)"
   ]
  },
  {
   "cell_type": "markdown",
   "metadata": {},
   "source": [
    "### 이미지 조절\n",
    "```\n",
    "<div> <img align='left' src='attachment:image.png' width='500' /> </div>\n",
    "```"
   ]
  },
  {
   "attachments": {
    "image.png": {
     "image/png": "[encoded data removed]"
    }
   },
   "cell_type": "markdown",
   "metadata": {},
   "source": [
    "<div> <img align='left' src='attachment:image.png' width='500' /> </div>"
   ]
  },
  {
   "cell_type": "markdown",
   "metadata": {
    "id": "mVy5Qmd4Erlp"
   },
   "source": [
    "## 수평선\n",
    "```\n",
    "---\n",
    "\n",
    "***\n",
    "```\n",
    "\n",
    "\n"
   ]
  },
  {
   "cell_type": "markdown",
   "metadata": {
    "id": "VhNkI-8VEviE"
   },
   "source": [
    "---\n",
    "\n",
    "***"
   ]
  },
  {
   "cell_type": "markdown",
   "metadata": {
    "id": "hBVgu-TnEyFt"
   },
   "source": [
    "## 표\n",
    "\n",
    "```\n",
    "| 000C1000 | 000C2000| 000C3000  |\n",
    "|:---|---:|:---:|\n",
    "| D1 | D2 | D3 |\n",
    "```\n"
   ]
  },
  {
   "cell_type": "markdown",
   "metadata": {
    "id": "5X87z4qYFFF-"
   },
   "source": [
    "| 000C1000 | 000C2000| 000C3000  |\n",
    "|:---|---:|:---:|\n",
    "| D1 | D2 | D3 |"
   ]
  },
  {
   "cell_type": "markdown",
   "metadata": {},
   "source": [
    "**TableGenerator**\n",
    "https://www.tablesgenerator.com/markdown_tables"
   ]
  },
  {
   "cell_type": "markdown",
   "metadata": {
    "id": "hqpFpco_FMfT"
   },
   "source": [
    "## 코드\n",
    "```\n",
    "`inline code`\n",
    "\n",
    "```block~~\n",
    " code```\n",
    " \n",
    " <code>Github</code>\n",
    " \n",
    "<pre><code>\n",
    "for i in range(1,2):\n",
    "    print(i)\n",
    "</code></pre>\n",
    "\n",
    "```"
   ]
  },
  {
   "cell_type": "markdown",
   "metadata": {
    "id": "32V1r2KeG1He"
   },
   "source": [
    "`inline code`\n",
    "\n",
    "```block~~\n",
    " code```\n",
    " \n",
    "<code>Github</code>\n",
    "\n",
    "<pre><code>\n",
    "for i in range(1,2):\n",
    "    print(i)\n",
    "</code></pre>\n"
   ]
  },
  {
   "cell_type": "markdown",
   "metadata": {},
   "source": [
    "# 수식"
   ]
  },
  {
   "cell_type": "markdown",
   "metadata": {},
   "source": [
    "wikipedia for math\n",
    "\n",
    "https://ko.wikipedia.org/wiki/%EC%9C%84%ED%82%A4%EB%B0%B1%EA%B3%BC:TeX_%EB%AC%B8%EB%B2%95\n"
   ]
  },
  {
   "cell_type": "markdown",
   "metadata": {},
   "source": [
    "쉬운 문법의 블로그    \n",
    "\n",
    "https://huni0318.github.io/blog/blog-etc/2020-12-21-markdown-tutorial2/"
   ]
  },
  {
   "cell_type": "markdown",
   "metadata": {},
   "source": [
    "```\n",
    "$$ f(x) = \\int \\frac{2x^2+4x+6}{x-2} $$\n",
    "```"
   ]
  },
  {
   "cell_type": "markdown",
   "metadata": {},
   "source": [
    "$$ f(x) = \\int \\frac{2x^2+4x+6}{x-2} $$"
   ]
  }
 ],
 "metadata": {
  "accelerator": "GPU",
  "colab": {
   "collapsed_sections": [],
   "name": "Copy of _00 Google Colab, Jupyter Notebook, Markdown.ipynb",
   "provenance": []
  },
  "kernelspec": {
   "display_name": "Python 3",
   "language": "python",
   "name": "python3"
  },
  "language_info": {
   "codemirror_mode": {
    "name": "ipython",
    "version": 3
   },
   "file_extension": ".py",
   "mimetype": "text/x-python",
   "name": "python",
   "nbconvert_exporter": "python",
   "pygments_lexer": "ipython3",
   "version": "3.8.5"
  },
  "toc": {
   "base_numbering": 1,
   "nav_menu": {},
   "number_sections": true,
   "sideBar": true,
   "skip_h1_title": false,
   "title_cell": "Table of Contents",
   "title_sidebar": "Contents",
   "toc_cell": false,
   "toc_position": {
    "height": "calc(100% - 180px)",
    "left": "10px",
    "top": "150px",
    "width": "426.823px"
   },
   "toc_section_display": true,
   "toc_window_display": true
  }
 },
 "nbformat": 4,
 "nbformat_minor": 1
}
