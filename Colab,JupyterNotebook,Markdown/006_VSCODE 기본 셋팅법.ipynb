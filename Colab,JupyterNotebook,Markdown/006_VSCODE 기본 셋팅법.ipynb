{
 "cells": [
  {
   "cell_type": "markdown",
   "metadata": {},
   "source": [
    "# 파이썬 설치하기"
   ]
  },
  {
   "cell_type": "markdown",
   "metadata": {},
   "source": [
    "* 파이썬을 다운로드하고 설치하기\n",
    "    - 구글 검색, python 최신 버전 설치 \n",
    "    - 설치 장소 C:\\\\python39 로 바꿔준다.(기본 default 값은 복잡한 경로 선택)\n",
    "    - path to 를 설정해 준다. 어디서든 실행 가능하게 하기 위해서\n",
    "* 파이썬 실행하기 1. 터미널\n",
    "* 파이썬 실행하기 2. IDLE"
   ]
  },
  {
   "cell_type": "markdown",
   "metadata": {},
   "source": [
    "# VS CODE 설치 및 사용법"
   ]
  },
  {
   "cell_type": "markdown",
   "metadata": {},
   "source": [
    "## 소스코드 편집기를 사용하는 이유\n",
    "* 폴더 및 파일을 쉽게 정리가능\n",
    "* 코드 자동완성 기능\n",
    "* 디버깅 (오류수정)이 쉽다\n",
    "* 유용한 단축키들이 많다"
   ]
  },
  {
   "cell_type": "markdown",
   "metadata": {},
   "source": [
    "## VS CODE 설치하기\n",
    "* VSCODE 설치 하기전에 꼭 python을 설치 해준다. \n",
    "* VSCODE 검색후 최신 버전 설치"
   ]
  },
  {
   "cell_type": "markdown",
   "metadata": {},
   "source": [
    "## VS CODE 기본 사용법"
   ]
  },
  {
   "cell_type": "markdown",
   "metadata": {},
   "source": [
    "### root 설정"
   ]
  },
  {
   "cell_type": "markdown",
   "metadata": {},
   "source": [
    "![파이썬 기초문법 image](https://slid-capture.s3.ap-northeast-2.amazonaws.com/public/capture_images/184b4d951ff04782b8a1f39415035037/9997e9da-e7ab-4f19-b5c1-d4ae37af6eca.png)\n"
   ]
  },
  {
   "cell_type": "markdown",
   "metadata": {},
   "source": [
    "file -> open folder  "
   ]
  },
  {
   "cell_type": "markdown",
   "metadata": {},
   "source": [
    "## VS CODE 에서 파이썬 연동하기\n",
    "- 연동이 되어 있지 않다면 자동으로 연동하는 창이 뜨게 되고 따라가면서 설치하면된다."
   ]
  },
  {
   "cell_type": "markdown",
   "metadata": {},
   "source": [
    "## 기본적인 사용법\n",
    "* 파일 생성을 한후에 xxx.py로 사용한후 간단하게 print('hellow python!') "
   ]
  },
  {
   "cell_type": "markdown",
   "metadata": {},
   "source": [
    "* 실행 without Deburging : ctrl + F5"
   ]
  },
  {
   "cell_type": "markdown",
   "metadata": {},
   "source": [
    "* cmd 에서\n",
    "    - `pip list` # 설치된 라이브러리 확인\n",
    "    - `pip install 'package name'` # package 설치하기"
   ]
  },
  {
   "cell_type": "markdown",
   "metadata": {},
   "source": [
    "## 환경설정  가상환경 사용법"
   ]
  },
  {
   "cell_type": "markdown",
   "metadata": {},
   "source": [
    "### 가상환경을 사용하는 이유\n",
    "* 버젼 컨트롤을 위해서 "
   ]
  },
  {
   "cell_type": "markdown",
   "metadata": {},
   "source": [
    "## 가상환경을 만들고 패키지 설치"
   ]
  },
  {
   "cell_type": "markdown",
   "metadata": {},
   "source": [
    "1. 아래에 powershell 에서 cmd로 이동한다. \n",
    "2. `python -m venv myvenv` : `python -m venv '가상환경이름'` : 가상환경 생성\n",
    "3. root 폴더 밑에 'myvenv' 가 생성된것을 볼수가 있다. \n",
    "4. root\\myvenv\\Scripts 밑에 여러 파일이 생성 되어있다. \n",
    "5. 아래와 같이 실행하면 가상환경이 열린다. \n",
    "    - conda 환경에서는 `conda activate '환경이름'` 과는 다소 다르다. "
   ]
  },
  {
   "cell_type": "markdown",
   "metadata": {},
   "source": [
    "[![파이썬 기초문법 image](https://slid-capture.s3.ap-northeast-2.amazonaws.com/public/capture_images/184b4d951ff04782b8a1f39415035037/15041303-cef5-4f4d-9d3e-37bf79d73204.png)](https://slid.cc/vdocs/184b4d951ff04782b8a1f39415035037?v=821515cb6f8b4668b72bfe7c85222288&start=0)"
   ]
  },
  {
   "cell_type": "markdown",
   "metadata": {},
   "source": [
    "### 가상환경에서 파일을 생성하고 실행해도 base 에서 실행되는 것 해결하기"
   ]
  },
  {
   "cell_type": "markdown",
   "metadata": {},
   "source": [
    "1. `file=> preference -> Settings`로 이동후에\n",
    "2. settings 에 오른쪽 위에(Open Settings (Json)) 클릭\n",
    "3. `\"terminal.integrated.shell.windows\": \"C:\\\\Windows\\\\System32\\\\cmd.exe\"` 입력\n",
    "4. 저장후에 VSCODE를 재실행하면 가상환경내에서 실행 되는 것을 볼수 있다. \n"
   ]
  },
  {
   "cell_type": "markdown",
   "metadata": {},
   "source": [
    "![파이썬 기초문법 image](https://slid-capture.s3.ap-northeast-2.amazonaws.com/public/capture_images/184b4d951ff04782b8a1f39415035037/c6e773e5-cf84-4af2-a5a7-83f78fb03682.png)"
   ]
  },
  {
   "cell_type": "markdown",
   "metadata": {},
   "source": [
    "* 콘다 환경과 Pycharm에서만 사용하다가, VSCODE로 사용해보니 역시나 처음 파이썬을 하던 때가 생각난다.ㅋㅋㅋㅋ \n",
    "* 장단점이 있는 환경이니 이번 기회에 잘 파악해 놔야 겠다!!!"
   ]
  }
 ],
 "metadata": {
  "kernelspec": {
   "display_name": "Python 3",
   "language": "python",
   "name": "python3"
  },
  "language_info": {
   "codemirror_mode": {
    "name": "ipython",
    "version": 3
   },
   "file_extension": ".py",
   "mimetype": "text/x-python",
   "name": "python",
   "nbconvert_exporter": "python",
   "pygments_lexer": "ipython3",
   "version": "3.8.5"
  },
  "toc": {
   "base_numbering": 1,
   "nav_menu": {},
   "number_sections": true,
   "sideBar": true,
   "skip_h1_title": false,
   "title_cell": "Table of Contents",
   "title_sidebar": "Contents",
   "toc_cell": false,
   "toc_position": {},
   "toc_section_display": true,
   "toc_window_display": false
  }
 },
 "nbformat": 4,
 "nbformat_minor": 4
}
