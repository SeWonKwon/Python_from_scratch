{
  "nbformat": 4,
  "nbformat_minor": 0,
  "metadata": {
    "colab": {
      "name": "자료형_정리.ipynb",
      "provenance": [],
      "collapsed_sections": [],
      "toc_visible": true,
      "include_colab_link": true
    },
    "kernelspec": {
      "display_name": "Python 3",
      "language": "python",
      "name": "python3"
    },
    "language_info": {
      "codemirror_mode": {
        "name": "ipython",
        "version": 3
      },
      "file_extension": ".py",
      "mimetype": "text/x-python",
      "name": "python",
      "nbconvert_exporter": "python",
      "pygments_lexer": "ipython3",
      "version": "3.8.5"
    },
    "toc": {
      "base_numbering": 1,
      "nav_menu": {},
      "number_sections": true,
      "sideBar": true,
      "skip_h1_title": false,
      "title_cell": "Table of Contents",
      "title_sidebar": "Contents",
      "toc_cell": false,
      "toc_position": {
        "height": "calc(100% - 180px)",
        "left": "10px",
        "top": "150px",
        "width": "357px"
      },
      "toc_section_display": true,
      "toc_window_display": true
    }
  },
  "cells": [
    {
      "cell_type": "markdown",
      "metadata": {
        "id": "view-in-github",
        "colab_type": "text"
      },
      "source": [
        "<a href=\"https://colab.research.google.com/github/SeWonKwon/Python_from_scratch/blob/main/%EC%9E%90%EB%A3%8C%ED%98%95_%EC%A0%95%EB%A6%AC.ipynb\" target=\"_parent\"><img src=\"https://colab.research.google.com/assets/colab-badge.svg\" alt=\"Open In Colab\"/></a>"
      ]
    },
    {
      "cell_type": "markdown",
      "metadata": {
        "id": "H3-fXQDCRvsJ"
      },
      "source": [
        "# 자료형의 분류\n",
        "\n",
        "\n",
        "\n",
        "1.   자료형을 나누는 기준에 따라서 여러가지로 나눌수 있다.\n",
        "\n",
        "\n",
        "*  스칼라 타입\n",
        "*  스퀀스 타입\n",
        "\n",
        "\n",
        "2.   파이썬의 주요 내장 자료형에 따라서, 각각의 특징에 따라서\n",
        "\n",
        "\n",
        "\n",
        "*   부울 - bool   : True 와 False를 나타내는 자료형이다.\n",
        "*   수치형 - int, float, complex : 정수, 실수, 복소수 등 숫자를 표현하는 자료형이다.\n",
        "*   문자열 - str  : 유니코드 문자의 모임을 표현하는 자료형이다. 내용 변경이 안된다.\n",
        "*   바이트 - bytes : 0 ~  255 사이 코드의 모임을 표현하는 자료형이다.\n",
        "*   리스트 - list  : 순서가 있는 파이썬 객체의 집합을 표현하는 자료형이다.\n",
        "*   딕셔너리 - dict  : 순서가 없는 파이썬 객체의 집합을 표현하는 자료형이다. 키(Kyes) 와 밸류(Values) 로 이루어져 있따.\n",
        "*   튜플 - tuple   : 순서가 있는 파이썬 객체의 집합을 표현하는 자료형이다. 내용 변경이 안된다.\n",
        "*   집합 - set   : 집합을 표현하는 자료형이다. \n",
        "\n",
        "자세한 내용은 아래 목차로 다시 설명 하겠습니다.~~"
      ]
    },
    {
      "cell_type": "markdown",
      "metadata": {
        "id": "2oGwOaHEOWFJ"
      },
      "source": [
        "# **Scalar Types (  스칼라 타입 )**\n",
        "\n",
        "\n",
        "---\n",
        " A scalar is a type that can have a single value such as 5, 3.14, or ‘Bob’.\n",
        "\n",
        "\n",
        "\n",
        "1.   **int** : Any interger\n",
        "2.   **fLoat** : Floating pint number (64 bit precision)\n",
        "3.   **complex** : Numbers with an optional imaginary component\n",
        "4.   **bool** : Treu, False\n",
        "5.   **str** : A sequencse of characters ( can contain unicode characters).\n",
        "6.   **bytes** : A sequencd of unsigned 8-bit entities, used for manipulating binary data.\n",
        "5.   **NoneType(None)** : Python's null or nil equivalent, every instance of None is of NoneType.( NaN)\n",
        "\n",
        "출처: https://jpt-pynotes.readthedocs.io/en/latest/scalar-types.html#numeric-types\n",
        "\n",
        "\n",
        "\n"
      ]
    },
    {
      "cell_type": "markdown",
      "metadata": {
        "id": "m4SoM_v3XFGU"
      },
      "source": [
        "## **Numeric Types**(숫자형)\n",
        "\n",
        "\n",
        "\n",
        "---\n",
        "\n",
        "\n",
        "1.   integers-정수형\n",
        "2.   floating point numbers-실수형\n",
        "3.   complex numbers-복소수\n",
        "4.   8-bit(Octal),16-bit(Hexadecimal)\n",
        "5.   Booleans\n",
        "\n",
        "출처: https://docs.python.org/3/library/stdtypes.html\n"
      ]
    },
    {
      "cell_type": "markdown",
      "metadata": {
        "id": "TCwsuUdyc5eP"
      },
      "source": [
        ""
      ]
    },
    {
      "cell_type": "markdown",
      "metadata": {
        "id": "i4cinI0pa8mu"
      },
      "source": [
        "## **Operation** ( 연산자)\n",
        "\n",
        "---\n",
        "```\n",
        "=    :    Assignment (할당) 코드로 형식 지정됨\n",
        "```\n",
        "---\n",
        "Arithmetic Operators (산술 연산자)\n",
        "--------------------\n",
        "```\n",
        "+    Addition\n",
        "-    Subtraction\n",
        "*    Multiplication\n",
        "/    Division\n",
        "//   Floor Division\n",
        "%    Modulo\n",
        "**   Power\n",
        "```\n",
        "---\n",
        "Comparison Operators (비교 연산자)\n",
        "--------------------\n",
        "```\n",
        "==   Equal To\n",
        ">    Greater Than\n",
        ">=   Greater Than or Equal To\n",
        "<    Less Than\n",
        "<=   Less Than or Equal To\n",
        "!=   Not Equal\n",
        "is   object identity\n",
        "is not negated object identity\n",
        "\n",
        "\" in ,not in \"   cannot be used in Scalar type .It's for Sequence type.\n",
        "```\n",
        "---\n",
        "Boolean Operators\n",
        "-----------------\n",
        "```\n",
        "and\n",
        "or\n",
        "not\n",
        "```"
      ]
    },
    {
      "cell_type": "markdown",
      "metadata": {
        "id": "eR2kx3sQdIsq"
      },
      "source": [
        "### 1. Arithmetic Operators (산술연산자)\n",
        "\n",
        "\n",
        "```\n",
        "x + y     sum of x and y\n",
        "\n",
        "x - y     difference of x and y\n",
        "\n",
        "x * y     product of x and y\n",
        "\n",
        "x / y     quotient of x and y\n",
        "\n",
        "x // y    floored quotient of x and y\n",
        "\n",
        "x % y     remainder of x / y\n",
        "\n",
        "-x        x negated\n",
        "\n",
        "+x        x unchanged\n",
        "\n",
        "abs(x)    absolute value or magnitude of x      abs()\n",
        "\n",
        "int(x)    x converted to integer                int()\n",
        "\n",
        "float(x)  x converted to floating point         float()\n",
        "\n",
        "complex(re, im) a complex number with real part re, imaginary part im. im defaults to zero.        complex()\n",
        "\n",
        "c.conjugate()   conjugate of the complex number c\n",
        "\n",
        "divmod(x, y)    the pair (x // y, x % y)       divmod()\n",
        "\n",
        "pow(x, y)       x to the power y               pow()\n",
        "\n",
        "x ** y          x to the power y\n",
        "```\n",
        "\n"
      ]
    },
    {
      "cell_type": "code",
      "metadata": {
        "colab": {
          "base_uri": "https://localhost:8080/"
        },
        "id": "XH4U0-4nNxr3",
        "outputId": "f86b6d16-3fe1-4c5c-ba1a-30a5f9631478"
      },
      "source": [
        "# x / y     quotient of x and y\n",
        "# x // y    floored quotient of x and y\n",
        "# x % y     remainder of x / y\n",
        "\n",
        "# divmod(x, y)    the pair (x // y, x % y)       divmod()\n",
        "\n",
        "for i in range(14):\n",
        "    print(i,divmod(i,3))"
      ],
      "execution_count": null,
      "outputs": [
        {
          "output_type": "stream",
          "text": [
            "0 (0, 0)\n",
            "1 (0, 1)\n",
            "2 (0, 2)\n",
            "3 (1, 0)\n",
            "4 (1, 1)\n",
            "5 (1, 2)\n",
            "6 (2, 0)\n",
            "7 (2, 1)\n",
            "8 (2, 2)\n",
            "9 (3, 0)\n",
            "10 (3, 1)\n",
            "11 (3, 2)\n",
            "12 (4, 0)\n",
            "13 (4, 1)\n"
          ],
          "name": "stdout"
        }
      ]
    },
    {
      "cell_type": "code",
      "metadata": {
        "colab": {
          "base_uri": "https://localhost:8080/"
        },
        "id": "-13R_GNGe7qX",
        "outputId": "0dbbeb80-6099-40e1-bff9-3a8bf237a131"
      },
      "source": [
        "# All numbers.Real types (int and float ) also include the following operations:\n",
        "import math # 내장 모듈 math\n",
        "\n",
        "# math.trunc(x)    -->       x truncated to Integral\n",
        "a = 3.535565\n",
        "print(math.trunc(a))\n",
        "\n",
        "# round(x,n)    --> x rounded to n digits, rounding half to even. \n",
        "print(round(a)) # If n is omitted, it defaults to 0.\n",
        "print(round(a,3))\n",
        "\n",
        "# math.floor(x)  -->   the greatest Integral <= x\n",
        "print(math.floor(a))\n",
        "\n",
        "# math.ceil(x) --->  the least Integral >= x\n",
        "print(math.ceil(a)) "
      ],
      "execution_count": null,
      "outputs": [
        {
          "output_type": "stream",
          "text": [
            "3\n",
            "4\n",
            "3.536\n",
            "3\n",
            "4\n"
          ],
          "name": "stdout"
        }
      ]
    },
    {
      "cell_type": "markdown",
      "metadata": {
        "id": "_OztOT-NhUp9"
      },
      "source": [
        "### 2. Comparison Operation (관계연산자)\n",
        "\n",
        "\n",
        "---\n",
        "\n",
        "\n",
        "```\n",
        "==     Equal To\n",
        ">      Greater Than\n",
        ">=     Greater Than or Equal To\n",
        "<      Less Than\n",
        "<=     Less Than or Equal To\n",
        "!=     Not Equal\n",
        "is     object identity\n",
        "is not negated object identity\n",
        "```\n",
        "\n"
      ]
    },
    {
      "cell_type": "markdown",
      "metadata": {
        "id": "AKbNKCzpUJUz"
      },
      "source": [
        ""
      ]
    },
    {
      "cell_type": "markdown",
      "metadata": {
        "id": "b153O189hpya"
      },
      "source": [
        "### 3. Boolean Operation (논리연산자)\n",
        "\n",
        "```\n",
        "x or y    if x is false, then y, else x\n",
        "\n",
        "This is a short-circuit operator, so it only evaluates the second argument if the first one is false.\n",
        "```\n",
        "---\n",
        "```\n",
        "x and y   if x is false, then x, else y\n",
        "\n",
        "This is a short-circuit operator, so it only evaluates the second argument if the first one is true.\n",
        "```\n",
        "---\n",
        "```\n",
        "not x     if x is false, then True, else False\n",
        "\n",
        "This is a short-circuit operator, so it only evaluates the second argument if the first one is true.\n",
        "\n",
        "not has a lower priority than non-Boolean operators, so not a == b is interpreted as not (a == b), and a == not b is a syntax error.\n",
        "```\n",
        "\n"
      ]
    },
    {
      "cell_type": "markdown",
      "metadata": {
        "id": "aVu9N8ppUwUw"
      },
      "source": [
        "논리 연산자는 산술연산자보다 우선순위가 낮다.\n"
      ]
    },
    {
      "cell_type": "code",
      "metadata": {
        "id": "anDgyybiUvr3"
      },
      "source": [
        ""
      ],
      "execution_count": null,
      "outputs": []
    },
    {
      "cell_type": "markdown",
      "metadata": {
        "id": "i0vnwK4rVIjg"
      },
      "source": [
        "진릿값의 결과로 참이면 True, 거짓이면 False를 돌려준다. True 는 1, False 는 0을 가진다.\n",
        "```\n",
        "아래는 모두 False 값으로 리턴되면, 나머지는 전부 True 이다.\n",
        "\n",
        "0, 0.0 , 0L, 0.0 + 0.0 # 0인 실수값\n",
        "\" \", [], (), {} , None # 빈값\n",
        "```\n",
        "논리식의 계산 순서\n",
        "\n",
        "\n",
        "```\n",
        " True and True     True\n",
        " True and False    False\n",
        " 1 and 1           True\n",
        " 1 and 0           False\n",
        " True or False     True\n",
        " ```\n",
        "\n",
        "\n"
      ]
    },
    {
      "cell_type": "markdown",
      "metadata": {
        "id": "2xdW1fhPWxNF"
      },
      "source": [
        "### 4. 비트 연산자\n",
        "\n",
        "추후에 다루기로 하자!!\n"
      ]
    },
    {
      "cell_type": "markdown",
      "metadata": {
        "id": "Yi3I0gjXX5Pt"
      },
      "source": [
        "### 연산자 우선순위\n",
        "\n",
        "파이썬3 바이블 p 130 참조"
      ]
    },
    {
      "cell_type": "markdown",
      "metadata": {
        "id": "hx4mAyO7XLtM"
      },
      "source": [
        "# Sequence Type( 스퀀스 타입 )\n",
        "\n",
        "1. list\n",
        "\n",
        "2. tuple\n",
        "\n",
        "3. range\n",
        "\n",
        "4. binary data\n",
        "\n",
        "5. text strings\n",
        "\n",
        "\n",
        "\n"
      ]
    },
    {
      "cell_type": "markdown",
      "metadata": {
        "id": "ZumjrAORXMJC"
      },
      "source": [
        "## Common Sequence Operation\n",
        "\n",
        "```\n",
        "x in s  :  True if an item of s is equal to x, else False\n",
        "\n",
        "x not in s  :  False if an item of s is equal to x, else True\n",
        "\n",
        "s + t  :  the concatenation of s and t\n",
        "\n",
        "s * n or n * s  :  equivalent to adding s to itself n times\n",
        "\n",
        "s[i]  :  ith item of s, origin 0\n",
        "\n",
        "s[i:j]  :  slice of s from i to j\n",
        "\n",
        "s[i:j:k]  :  slice of s from i to j with step k\n",
        "\n",
        "len(s)  :  length of s\n",
        "\n",
        "min(s)  :  smallest item of s\n",
        "\n",
        "max(s)  :  largest item of s\n",
        "\n",
        "s.index(x[, i[, j]])  :  index of the first occurrence of x in s (at or after index i and before index j)\n",
        "\n",
        "s.count(x)  :  total number of occurrences of x in s\n",
        "```\n",
        "\n"
      ]
    },
    {
      "cell_type": "code",
      "metadata": {
        "colab": {
          "base_uri": "https://localhost:8080/",
          "height": 105
        },
        "id": "zfrgy7sYQ7YZ",
        "outputId": "ed73daa6-f223-4989-b0ba-23a18d144a80"
      },
      "source": [
        "#인덱싱 [k] 형식 : k 번 위치의 값 하나를 취한다.\n",
        "\n",
        "s= 'abcdef' \n",
        "l = ['123','342','567', '789']\n",
        "print(s[2])\n",
        "print(l[2])\n",
        "print(s[-1])\n",
        "print(l[-1])\n",
        "l[-1] = '900' # 치환\n",
        "l[-1]"
      ],
      "execution_count": null,
      "outputs": [
        {
          "output_type": "stream",
          "text": [
            "c\n",
            "567\n",
            "f\n",
            "789\n"
          ],
          "name": "stdout"
        },
        {
          "output_type": "execute_result",
          "data": {
            "application/vnd.google.colaboratory.intrinsic+json": {
              "type": "string"
            },
            "text/plain": [
              "'900'"
            ]
          },
          "metadata": {
            "tags": []
          },
          "execution_count": 1
        }
      ]
    },
    {
      "cell_type": "code",
      "metadata": {
        "colab": {
          "base_uri": "https://localhost:8080/"
        },
        "id": "PAQlvQFAbNNe",
        "outputId": "e16dd3b2-7a70-4ec4-bcb7-81ac276196df"
      },
      "source": [
        "# 슬라이싱 [s:t:p] 형식  : s부터 t사이 구간의 값을 p 간격으로 취한다.\n",
        "\n",
        "s= 'abcdef' \n",
        "l = ['123','342','567', '789']\n",
        "print(s[1:3])\n",
        "print(s[1:])\n",
        "print(s[::2])  # 처음부터 끝까지 짝수번째 \n",
        "print(s[:-1])  # 처음부터 마지막 전까지\n",
        "print(s[-100:100]) # 범위를 넘어서면 범위 내의 값으로 자동으로 처리한다."
      ],
      "execution_count": null,
      "outputs": [
        {
          "output_type": "stream",
          "text": [
            "bc\n",
            "bcdef\n",
            "ace\n",
            "abcde\n"
          ],
          "name": "stdout"
        }
      ]
    },
    {
      "cell_type": "code",
      "metadata": {
        "colab": {
          "base_uri": "https://localhost:8080/"
        },
        "id": "X6iu0yaYcx4L",
        "outputId": "bad3577d-de67-4f36-85df-7b43bc9c1e8f"
      },
      "source": [
        "# 연결하기 concatenation 는 + 연산자로 같은 시퀀스 자료형인 두 객체를 연결하는 것이다.\n",
        "s = 'abs' + 'def'\n",
        "print(s)\n",
        "l = [1,2,3] + [4,5,6]\n",
        "print(l)"
      ],
      "execution_count": null,
      "outputs": [
        {
          "output_type": "stream",
          "text": [
            "absdef\n",
            "[1, 2, 3, 4, 5, 6]\n"
          ],
          "name": "stdout"
        }
      ]
    },
    {
      "cell_type": "code",
      "metadata": {
        "colab": {
          "base_uri": "https://localhost:8080/"
        },
        "id": "eYga2EOwdTAA",
        "outputId": "adde3e8e-01c5-4213-f772-e441dcdcf12e"
      },
      "source": [
        "# 반복하기 repetition 는 * 연산자를 이용하여 반복한다.\n",
        "s = 'abc'\n",
        "print(s*4)\n",
        "l = [1,2,3]\n",
        "print(l*3)"
      ],
      "execution_count": null,
      "outputs": [
        {
          "output_type": "stream",
          "text": [
            "abcabcabcabc\n",
            "[1, 2, 3, 1, 2, 3, 1, 2, 3]\n"
          ],
          "name": "stdout"
        }
      ]
    },
    {
      "cell_type": "code",
      "metadata": {
        "colab": {
          "base_uri": "https://localhost:8080/"
        },
        "id": "s2DChYMpdpFj",
        "outputId": "228ead25-da28-4945-af7e-d6af48d0e1ab"
      },
      "source": [
        "# 멤버 검사 in 을 이용하여 \n",
        "print('파' in '파이썬')\n",
        "t = (1,2,3,4,5)\n",
        "print(2 in t)\n",
        "print(10 not in t)"
      ],
      "execution_count": null,
      "outputs": [
        {
          "output_type": "stream",
          "text": [
            "True\n",
            "True\n",
            "True\n"
          ],
          "name": "stdout"
        }
      ]
    },
    {
      "cell_type": "code",
      "metadata": {
        "colab": {
          "base_uri": "https://localhost:8080/"
        },
        "id": "GZDnxP2oeUSw",
        "outputId": "bb190663-e620-43f6-8190-702179f33139"
      },
      "source": [
        "# 길이 정보\n",
        "\n",
        "s = '파이썬만세'\n",
        "print(len(s))\n",
        "l = [1,2,3]\n",
        "print(len(l))"
      ],
      "execution_count": null,
      "outputs": [
        {
          "output_type": "stream",
          "text": [
            "5\n",
            "3\n"
          ],
          "name": "stdout"
        }
      ]
    },
    {
      "cell_type": "markdown",
      "metadata": {
        "id": "6sKQzm28XMbJ"
      },
      "source": [
        "## Mutable Sequence Types\n",
        "\n",
        "\n",
        "```\n",
        "# s[i] = x  :  item i of s is replaced by x\n",
        "\n",
        "s[i:j] = t  :  slice of s from i to j is replaced by the contents of the iterable t\n",
        "\n",
        "del s[i:j]  :  same as s[i:j] = []\n",
        "\n",
        "s[i:j:k] = t  :  the elements of s[i:j:k] are replaced by those of t\n",
        "\n",
        "del s[i:j:k]  :  removes the elements of s[i:j:k] from the list\n",
        "\n",
        "s.append(x)  :  appends x to the end of the sequence (same as s[len(s):len(s)] = [x])\n",
        "\n",
        "s.clear()  :  removes all items from s (same as del s[:])\n",
        "\n",
        "s.copy()  :  creates a shallow copy of s (same as s[:])\n",
        "\n",
        "s.extend(t) or s += t  :  extends s with the contents of t (for the most part the same as s[len(s):len(s)] = t)\n",
        "\n",
        "s *= n  :  updates s with its contents repeated n times\n",
        "\n",
        "s.insert(i, x)  :  inserts x into s at the index given by i (same as s[i:i] = [x])\n",
        "\n",
        "s.pop([i])  :  retrieves the item at i and also removes it from s\n",
        "\n",
        "s.remove(x)  :  remove the first item from s where s[i] is equal to x\n",
        "\n",
        "s.reverse()   :  reverses the items of s in place\n",
        "```\n",
        "\n"
      ]
    },
    {
      "cell_type": "code",
      "metadata": {
        "colab": {
          "base_uri": "https://localhost:8080/"
        },
        "id": "hKOYxCCV4Xxv",
        "outputId": "f6d83ce5-d344-46e2-b539-3ae823673bd1"
      },
      "source": [
        "s = [1,2,3,4,5,6]\n",
        "print(s.pop(1)) # 지우고 뽑아 내는 역활.\n",
        "s.reverse()\n",
        "s"
      ],
      "execution_count": null,
      "outputs": [
        {
          "output_type": "stream",
          "text": [
            "2\n"
          ],
          "name": "stdout"
        },
        {
          "output_type": "execute_result",
          "data": {
            "text/plain": [
              "[6, 5, 4, 3, 1]"
            ]
          },
          "metadata": {
            "tags": []
          },
          "execution_count": 12
        }
      ]
    },
    {
      "cell_type": "markdown",
      "metadata": {
        "id": "d9z2k-q4XMsF"
      },
      "source": [
        "# 수치 자료형\n",
        "1. 정수형\n",
        "2. 실수형\n",
        "3. 복소수형\n",
        "4. 모듈을 활용하여 계산하기."
      ]
    },
    {
      "cell_type": "markdown",
      "metadata": {
        "id": "p-vUhhGDYVwb"
      },
      "source": [
        "## 내장 수치 연산 함수\n",
        "\n",
        "\n",
        "```\n",
        "abs(x)\n",
        "int(x)\n",
        "float(x)\n",
        "complex(re,im)\n",
        "c.conjugate()\n",
        "divmod(x,y)\n",
        "pow(x,y)\n",
        "max(iterable),min(iterable)    # String, Lists, tuples, dictionaries, and sets 는 iterable\n",
        "sum(iterable)\n",
        "```\n",
        "\n"
      ]
    },
    {
      "cell_type": "markdown",
      "metadata": {
        "id": "B16oT-UB8Yy9"
      },
      "source": [
        "정수,실수, 복수수형으로 변환하기"
      ]
    },
    {
      "cell_type": "code",
      "metadata": {
        "colab": {
          "base_uri": "https://localhost:8080/"
        },
        "id": "znq6j0Nb8d2z",
        "outputId": "380af61c-421d-4ed2-aa61-06b4200561c6"
      },
      "source": [
        "# 정수로 변환하기\n",
        "a = 3.54\n",
        "print(int(a))\n",
        "print(round(a))\n"
      ],
      "execution_count": null,
      "outputs": [
        {
          "output_type": "stream",
          "text": [
            "3\n",
            "4\n"
          ],
          "name": "stdout"
        }
      ]
    },
    {
      "cell_type": "code",
      "metadata": {
        "colab": {
          "base_uri": "https://localhost:8080/"
        },
        "id": "MkMIzbW48xc4",
        "outputId": "8b75e9db-ffa7-4132-9ef8-d627b0205700"
      },
      "source": [
        "# 실수로 변환하기\n",
        "a = 3\n",
        "print(type(a))\n",
        "print(type(float(a)))\n"
      ],
      "execution_count": null,
      "outputs": [
        {
          "output_type": "stream",
          "text": [
            "<class 'int'>\n",
            "<class 'float'>\n"
          ],
          "name": "stdout"
        }
      ]
    },
    {
      "cell_type": "code",
      "metadata": {
        "colab": {
          "base_uri": "https://localhost:8080/"
        },
        "id": "3RR2qb4q9A1q",
        "outputId": "94c87810-1819-4e59-80c0-d51736d76af2"
      },
      "source": [
        "# 복소수로 변환하기\n",
        "a = 3\n",
        "complex(a)"
      ],
      "execution_count": null,
      "outputs": [
        {
          "output_type": "execute_result",
          "data": {
            "text/plain": [
              "(3+0j)"
            ]
          },
          "metadata": {
            "tags": []
          },
          "execution_count": 24
        }
      ]
    },
    {
      "cell_type": "markdown",
      "metadata": {
        "id": "6EoqiSCv6O9u"
      },
      "source": [
        "## Integer ( 정수형 상수 ) \n"
      ]
    },
    {
      "cell_type": "markdown",
      "metadata": {
        "id": "YSGBYsu37wmc"
      },
      "source": [
        "정수형 상수는 10진수와 2진수, 8진수, 16진수 상수가 있다."
      ]
    },
    {
      "cell_type": "markdown",
      "metadata": {
        "id": "KSF1nSMv7bLy"
      },
      "source": [
        "\n",
        "진법의 수 변환 하기"
      ]
    },
    {
      "cell_type": "code",
      "metadata": {
        "colab": {
          "base_uri": "https://localhost:8080/"
        },
        "id": "9hcGFxFH6wS3",
        "outputId": "64ad099f-3ec9-4094-e5a1-4374faa3a5a0"
      },
      "source": [
        "# 5진수 123을 10 진법으로 표현하기\n",
        "int('123',5)"
      ],
      "execution_count": null,
      "outputs": [
        {
          "output_type": "execute_result",
          "data": {
            "text/plain": [
              "38"
            ]
          },
          "metadata": {
            "tags": []
          },
          "execution_count": 13
        }
      ]
    },
    {
      "cell_type": "code",
      "metadata": {
        "colab": {
          "base_uri": "https://localhost:8080/",
          "height": 35
        },
        "id": "yppVc5d67DMF",
        "outputId": "a3391660-e220-439e-fdd4-13c2cbd47776"
      },
      "source": [
        "bin(23) # 2진법으로 편환하기"
      ],
      "execution_count": null,
      "outputs": [
        {
          "output_type": "execute_result",
          "data": {
            "application/vnd.google.colaboratory.intrinsic+json": {
              "type": "string"
            },
            "text/plain": [
              "'0b10111'"
            ]
          },
          "metadata": {
            "tags": []
          },
          "execution_count": 14
        }
      ]
    },
    {
      "cell_type": "code",
      "metadata": {
        "colab": {
          "base_uri": "https://localhost:8080/",
          "height": 35
        },
        "id": "Yh9OP0fX7NBu",
        "outputId": "99f58d11-7c74-4d26-947a-adbead5bd712"
      },
      "source": [
        "oct(23) # 8진법으로 변환하기"
      ],
      "execution_count": null,
      "outputs": [
        {
          "output_type": "execute_result",
          "data": {
            "application/vnd.google.colaboratory.intrinsic+json": {
              "type": "string"
            },
            "text/plain": [
              "'0o27'"
            ]
          },
          "metadata": {
            "tags": []
          },
          "execution_count": 15
        }
      ]
    },
    {
      "cell_type": "code",
      "metadata": {
        "colab": {
          "base_uri": "https://localhost:8080/",
          "height": 35
        },
        "id": "Ul1kw79i7R1L",
        "outputId": "105cbc5b-f069-4732-8c48-9842cd2e39b2"
      },
      "source": [
        "hex(23) # 16진법으로 변환하기"
      ],
      "execution_count": null,
      "outputs": [
        {
          "output_type": "execute_result",
          "data": {
            "application/vnd.google.colaboratory.intrinsic+json": {
              "type": "string"
            },
            "text/plain": [
              "'0x17'"
            ]
          },
          "metadata": {
            "tags": []
          },
          "execution_count": 16
        }
      ]
    },
    {
      "cell_type": "markdown",
      "metadata": {
        "id": "EFa6RtEPOXy_"
      },
      "source": [
        ""
      ]
    },
    {
      "cell_type": "markdown",
      "metadata": {
        "id": "G_FWhdj09sum"
      },
      "source": [
        "## Float ( 실수형 상수 )\n",
        "실수형 상수는 소수점을 포함하거나 e 나 E로 지수를 포함한다.\n",
        "컴퓨터에서는 실수를 부동 소수점(Floating Point) 방식으로 표한하기 떄문에 부동 \n",
        "소수점형이라고 부른다. "
      ]
    },
    {
      "cell_type": "code",
      "metadata": {
        "colab": {
          "base_uri": "https://localhost:8080/"
        },
        "id": "WP9f14VU-SsY",
        "outputId": "25abaa6b-beb5-48e2-94d9-31101de5fc9f"
      },
      "source": [
        "import sys\n",
        "sys.float_info"
      ],
      "execution_count": null,
      "outputs": [
        {
          "output_type": "execute_result",
          "data": {
            "text/plain": [
              "sys.float_info(max=1.7976931348623157e+308, max_exp=1024, max_10_exp=308, min=2.2250738585072014e-308, min_exp=-1021, min_10_exp=-307, dig=15, mant_dig=53, epsilon=2.220446049250313e-16, radix=2, rounds=1)"
            ]
          },
          "metadata": {
            "tags": []
          },
          "execution_count": 25
        }
      ]
    },
    {
      "cell_type": "code",
      "metadata": {
        "colab": {
          "base_uri": "https://localhost:8080/"
        },
        "id": "fQehm7vY-cj_",
        "outputId": "092ed472-3746-449d-a91a-971384a6a254"
      },
      "source": [
        "sys.float_info.max"
      ],
      "execution_count": null,
      "outputs": [
        {
          "output_type": "execute_result",
          "data": {
            "text/plain": [
              "1.7976931348623157e+308"
            ]
          },
          "metadata": {
            "tags": []
          },
          "execution_count": 26
        }
      ]
    },
    {
      "cell_type": "code",
      "metadata": {
        "colab": {
          "base_uri": "https://localhost:8080/"
        },
        "id": "OPhOv0N_-eme",
        "outputId": "431e5fa6-9d5b-4a61-fdce-c5e8401dcd60"
      },
      "source": [
        "sys.float_info.min"
      ],
      "execution_count": null,
      "outputs": [
        {
          "output_type": "execute_result",
          "data": {
            "text/plain": [
              "2.2250738585072014e-308"
            ]
          },
          "metadata": {
            "tags": []
          },
          "execution_count": 27
        }
      ]
    },
    {
      "cell_type": "markdown",
      "metadata": {
        "id": "VzvVIyXa-miz"
      },
      "source": [
        "inf : 무한대의 수 \n",
        "\n",
        "is_interger() : 실수형인 경우에 정수로 오차 없이 표현할 수 있는 값인지를 찾는 메서드"
      ]
    },
    {
      "cell_type": "code",
      "metadata": {
        "colab": {
          "base_uri": "https://localhost:8080/"
        },
        "id": "7c9h_yqn-3zc",
        "outputId": "258a2fa9-b322-4495-d976-7c188a8d9de7"
      },
      "source": [
        "float('inf')"
      ],
      "execution_count": null,
      "outputs": [
        {
          "output_type": "execute_result",
          "data": {
            "text/plain": [
              "inf"
            ]
          },
          "metadata": {
            "tags": []
          },
          "execution_count": 28
        }
      ]
    },
    {
      "cell_type": "code",
      "metadata": {
        "colab": {
          "base_uri": "https://localhost:8080/"
        },
        "id": "y3fIKf3J-6Y8",
        "outputId": "5546adb5-3e90-40e3-d558-083519192965"
      },
      "source": [
        "float('-inf')"
      ],
      "execution_count": null,
      "outputs": [
        {
          "output_type": "execute_result",
          "data": {
            "text/plain": [
              "-inf"
            ]
          },
          "metadata": {
            "tags": []
          },
          "execution_count": 29
        }
      ]
    },
    {
      "cell_type": "code",
      "metadata": {
        "colab": {
          "base_uri": "https://localhost:8080/"
        },
        "id": "ADUgHIfZ-7_1",
        "outputId": "d8b7979f-f571-4c1b-f265-1df24bb3379c"
      },
      "source": [
        "a = 1.2\n",
        "a.is_integer()"
      ],
      "execution_count": null,
      "outputs": [
        {
          "output_type": "execute_result",
          "data": {
            "text/plain": [
              "False"
            ]
          },
          "metadata": {
            "tags": []
          },
          "execution_count": 32
        }
      ]
    },
    {
      "cell_type": "code",
      "metadata": {
        "colab": {
          "base_uri": "https://localhost:8080/"
        },
        "id": "wOCeAYZH--zm",
        "outputId": "88b06ecb-d65f-453f-a016-77c8c26aa685"
      },
      "source": [
        "a = 3.0\n",
        "a.is_integer()"
      ],
      "execution_count": null,
      "outputs": [
        {
          "output_type": "execute_result",
          "data": {
            "text/plain": [
              "True"
            ]
          },
          "metadata": {
            "tags": []
          },
          "execution_count": 33
        }
      ]
    },
    {
      "cell_type": "markdown",
      "metadata": {
        "id": "5jLM-i2P_Tlv"
      },
      "source": [
        "실수 연산에서 발생하는 반올림 에러를 살펴보자. \n",
        "실수 연산은 특수한 경우를 제외하고는 항상 어느 정도의 오차를 포함 하고 있다고 보아야 한다."
      ]
    },
    {
      "cell_type": "code",
      "metadata": {
        "colab": {
          "base_uri": "https://localhost:8080/"
        },
        "id": "QXTOMnHn_eAD",
        "outputId": "35264ae1-8e95-49ab-ac93-5d6de4826938"
      },
      "source": [
        "e = 0.0\n",
        "for k in range(1000):\n",
        "  e += 0.1\n",
        "e"
      ],
      "execution_count": null,
      "outputs": [
        {
          "output_type": "execute_result",
          "data": {
            "text/plain": [
              "99.9999999999986"
            ]
          },
          "metadata": {
            "tags": []
          },
          "execution_count": 36
        }
      ]
    },
    {
      "cell_type": "markdown",
      "metadata": {
        "id": "DDhbpnXv_z73"
      },
      "source": [
        "아래의 다른 오차는 진법 변환에 의한 에러 때문이다."
      ]
    },
    {
      "cell_type": "code",
      "metadata": {
        "colab": {
          "base_uri": "https://localhost:8080/"
        },
        "id": "139Nene8_4Cg",
        "outputId": "6780cfde-9e19-416f-f169-d6da81e26e87"
      },
      "source": [
        "1.1+2.2"
      ],
      "execution_count": null,
      "outputs": [
        {
          "output_type": "execute_result",
          "data": {
            "text/plain": [
              "3.3000000000000003"
            ]
          },
          "metadata": {
            "tags": []
          },
          "execution_count": 37
        }
      ]
    },
    {
      "cell_type": "code",
      "metadata": {
        "colab": {
          "base_uri": "https://localhost:8080/"
        },
        "id": "YkuIW212_SP6",
        "outputId": "1d145627-5687-4c0f-d33a-ee2c696694f6"
      },
      "source": [
        "1.1*6"
      ],
      "execution_count": null,
      "outputs": [
        {
          "output_type": "execute_result",
          "data": {
            "text/plain": [
              "6.6000000000000005"
            ]
          },
          "metadata": {
            "tags": []
          },
          "execution_count": 38
        }
      ]
    },
    {
      "cell_type": "markdown",
      "metadata": {
        "id": "t5bITeQ69tKk"
      },
      "source": [
        "## Complex ( 복소수형 상수)\n",
        "실수부는 실수로 허수부는 i나 j 숫자 뒤에 붙여야한다.\n",
        "\n",
        "\n",
        "*   complex(a,b)\n",
        "*   c.real\n",
        "* c.imag\n",
        "* c.conjugate() # 켤레 복소수"
      ]
    },
    {
      "cell_type": "code",
      "metadata": {
        "colab": {
          "base_uri": "https://localhost:8080/"
        },
        "id": "cHGWLMhlAdxk",
        "outputId": "2dfd9194-0508-447e-ef85-b7d0926c00e6"
      },
      "source": [
        " a = 3\n",
        " b = 4\n",
        " c = complex(a,b)\n",
        " c\n",
        " "
      ],
      "execution_count": null,
      "outputs": [
        {
          "output_type": "execute_result",
          "data": {
            "text/plain": [
              "(3+4j)"
            ]
          },
          "metadata": {
            "tags": []
          },
          "execution_count": 41
        }
      ]
    },
    {
      "cell_type": "code",
      "metadata": {
        "colab": {
          "base_uri": "https://localhost:8080/"
        },
        "id": "jPnU4uBQAzHQ",
        "outputId": "2126d792-ce80-4fbb-92f8-3c909e2340da"
      },
      "source": [
        "c.real"
      ],
      "execution_count": null,
      "outputs": [
        {
          "output_type": "execute_result",
          "data": {
            "text/plain": [
              "3.0"
            ]
          },
          "metadata": {
            "tags": []
          },
          "execution_count": 42
        }
      ]
    },
    {
      "cell_type": "code",
      "metadata": {
        "colab": {
          "base_uri": "https://localhost:8080/"
        },
        "id": "TZPnBKn0A4x0",
        "outputId": "339cfab8-6a7d-430e-e715-63d38fad3e4f"
      },
      "source": [
        "c.imag"
      ],
      "execution_count": null,
      "outputs": [
        {
          "output_type": "execute_result",
          "data": {
            "text/plain": [
              "4.0"
            ]
          },
          "metadata": {
            "tags": []
          },
          "execution_count": 44
        }
      ]
    },
    {
      "cell_type": "code",
      "metadata": {
        "colab": {
          "base_uri": "https://localhost:8080/"
        },
        "id": "hy6x4DxhA_4D",
        "outputId": "697f3dc3-98a9-4f90-8ad6-c85f10cd8beb"
      },
      "source": [
        "c.conjugate()"
      ],
      "execution_count": null,
      "outputs": [
        {
          "output_type": "execute_result",
          "data": {
            "text/plain": [
              "(3-4j)"
            ]
          },
          "metadata": {
            "tags": []
          },
          "execution_count": 45
        }
      ]
    },
    {
      "cell_type": "markdown",
      "metadata": {
        "id": "KyP8ArNHXI9R"
      },
      "source": [
        "## 모듈을 사용한 연산\n",
        "1. math 모듈\n",
        "2. cmath 모듈"
      ]
    },
    {
      "cell_type": "markdown",
      "metadata": {
        "id": "5FYMoU4yZMc2"
      },
      "source": [
        "### Math 모듈\n",
        "\n",
        "\n",
        "\n",
        "```\n",
        "import math\n",
        "\n",
        "math.pi              파이의 상수값\n",
        "math.e               e(자연상수) 의 상수값\n",
        "math.tau             mathematical constant τ \n",
        "math.inf\n",
        "math.nan\n",
        "\n",
        "math.ceil(x)         올림\n",
        "math.fsum(iterable)  오차 없는 합\n",
        "\n",
        "math.comb(n, k)      nCk\n",
        "math.factorial(n)    n!\n",
        "\n",
        "math.log(x,a)       loga의 x\n",
        "math.log2(x)        log2의 x\n",
        "math.log10(x)       log10의 x\n",
        "math.pow(x,y)       제곱\n",
        "math.sqrt(2)         제곱근\n",
        "math.exp(x)         e의 x 승\n",
        "\n",
        "math.sin(rad)\n",
        "math.cos(rad)\n",
        "math.tan(rad)\n",
        "\n",
        "math.ceil(x)\n",
        "```\n",
        "\n"
      ]
    },
    {
      "cell_type": "code",
      "metadata": {
        "colab": {
          "base_uri": "https://localhost:8080/"
        },
        "id": "yfI3cgMMaN2e",
        "outputId": "07a94a20-bbb9-4986-da74-d8ff862f5c73"
      },
      "source": [
        "import math\n",
        "\n",
        "math.ceil(4.5)"
      ],
      "execution_count": null,
      "outputs": [
        {
          "output_type": "execute_result",
          "data": {
            "text/plain": [
              "5"
            ]
          },
          "metadata": {
            "tags": []
          },
          "execution_count": 17
        }
      ]
    },
    {
      "cell_type": "code",
      "metadata": {
        "colab": {
          "base_uri": "https://localhost:8080/",
          "height": 204
        },
        "id": "DtfyKzSsaWIC",
        "outputId": "a619f50b-7cbb-4658-98f9-797e06aec5c4"
      },
      "source": [
        "\n",
        "\n",
        "math.comb(4,2)"
      ],
      "execution_count": null,
      "outputs": [
        {
          "output_type": "error",
          "ename": "AttributeError",
          "evalue": "ignored",
          "traceback": [
            "\u001b[0;31m---------------------------------------------------------------------------\u001b[0m",
            "\u001b[0;31mAttributeError\u001b[0m                            Traceback (most recent call last)",
            "\u001b[0;32m<ipython-input-19-eee4849ab2d9>\u001b[0m in \u001b[0;36m<module>\u001b[0;34m()\u001b[0m\n\u001b[1;32m      1\u001b[0m \u001b[0;34m\u001b[0m\u001b[0m\n\u001b[1;32m      2\u001b[0m \u001b[0;34m\u001b[0m\u001b[0m\n\u001b[0;32m----> 3\u001b[0;31m \u001b[0mmath\u001b[0m\u001b[0;34m.\u001b[0m\u001b[0mcomb\u001b[0m\u001b[0;34m(\u001b[0m\u001b[0;36m4\u001b[0m\u001b[0;34m,\u001b[0m\u001b[0;36m2\u001b[0m\u001b[0;34m)\u001b[0m\u001b[0;34m\u001b[0m\u001b[0;34m\u001b[0m\u001b[0m\n\u001b[0m",
            "\u001b[0;31mAttributeError\u001b[0m: module 'math' has no attribute 'comb'"
          ]
        }
      ]
    },
    {
      "cell_type": "markdown",
      "metadata": {
        "id": "vKmR1PidBDf4"
      },
      "source": [
        "cmath 모듈을 사용한 복소수 연산"
      ]
    },
    {
      "cell_type": "code",
      "metadata": {
        "id": "o_cgdgALBG4b"
      },
      "source": [
        "import cmath"
      ],
      "execution_count": null,
      "outputs": []
    },
    {
      "cell_type": "markdown",
      "metadata": {
        "id": "wYQm5yN9Wyhw"
      },
      "source": [
        "## **Operator**"
      ]
    },
    {
      "cell_type": "markdown",
      "metadata": {
        "id": "Kos5J-gTetUc"
      },
      "source": [
        "# 문자열 <class 'str'>\n",
        "\n",
        "\n",
        "1.   문자열 정의하기\n",
        "2.   문자열 서식지정하기\n",
        "3.   문자열 메서드\n",
        "4.   유니코드 문자열과 바이트\n",
        "5.   \n",
        "\n"
      ]
    },
    {
      "cell_type": "markdown",
      "metadata": {
        "id": "rdNkAvfZgfbO"
      },
      "source": [
        "## 문자열 정의하기"
      ]
    },
    {
      "cell_type": "markdown",
      "metadata": {
        "id": "rOxBE8XLglCU"
      },
      "source": [
        "### 한줄 문자열, 여러줄 문자열\n",
        "\n",
        "\n",
        "*   ' ',\" \", \"\"\" \"\"\" 를 이용하여 정의한다.\n",
        "*   <class 'str'> 클래스 타입은 str 이다.\n",
        "*   \\ (백슬래시) 이용하여 특수 문자를 사용한다.\n"
      ]
    },
    {
      "cell_type": "code",
      "metadata": {
        "colab": {
          "base_uri": "https://localhost:8080/"
        },
        "id": "bfuQ2udcjhYN",
        "outputId": "ea172a90-06a9-4f5d-f8ae-e756675aba70"
      },
      "source": [
        "s = 'asdf'\n",
        "s1 = \"asdffd\"\n",
        "s2 = \"\"\"aaaaaaaaaaaaaaaaaaaaaaaaaaaaaaaaaaaaaaaaaaaaaaaaaaaaaaaaaaaaaaaaaa\"\"\"\n",
        "print(s)\n",
        "print(s1)\n",
        "print(s2)"
      ],
      "execution_count": null,
      "outputs": [
        {
          "output_type": "stream",
          "text": [
            "asdf\n",
            "asdffd\n",
            "aaaaaaaaaaaaaaaaaaaaaaaaaaaaaaaaaaaaaaaaaaaaaaaaaaaaaaaaaaaaaaaaaa\n",
            "<class 'str'>\n"
          ],
          "name": "stdout"
        },
        {
          "output_type": "execute_result",
          "data": {
            "text/plain": [
              "False"
            ]
          },
          "metadata": {
            "tags": []
          },
          "execution_count": 17
        }
      ]
    },
    {
      "cell_type": "code",
      "metadata": {
        "colab": {
          "base_uri": "https://localhost:8080/"
        },
        "id": "g3-UpWJzk0Nj",
        "outputId": "6289778b-d016-4139-f55c-f721da652777"
      },
      "source": [
        "# 타입 알아 보기\n",
        "s2 = 'sadf'\n",
        "print(type(s2))\n",
        "isinstance(s2, str)  # 타입을 확인하는 함수 : isinstance(대상, 타입)"
      ],
      "execution_count": null,
      "outputs": [
        {
          "output_type": "stream",
          "text": [
            "<class 'str'>\n"
          ],
          "name": "stdout"
        },
        {
          "output_type": "execute_result",
          "data": {
            "text/plain": [
              "True"
            ]
          },
          "metadata": {
            "tags": []
          },
          "execution_count": 19
        }
      ]
    },
    {
      "cell_type": "markdown",
      "metadata": {
        "id": "E83U2-sNlO5D"
      },
      "source": [
        "\\ 를 이용한 특수문자 사용.(백슬러시)\n",
        "\n",
        "*   \\Enter    : 다음 줄과 연속임을 표현\n",
        "*   \\\\        : \\ 문자 자체\n",
        "*   \\'        : ' 문자\n",
        "*   \\\"        : \" 문자\n",
        "*   \\b        : 백스페이스\n",
        "*   \\n        : 줄 바꾸기 \\012도 같은 역활\n",
        "*   \\t        : tab 키\n",
        "*   \\r        : 이전꺼는 지우고 이후부터만 출력\n",
        "*   \\0xx      : 8진수 코드 xx\n",
        "*   \\xXX      : 16진수 코드 XX\n",
        "*   \\e        :  Esc 키"
      ]
    },
    {
      "cell_type": "code",
      "metadata": {
        "colab": {
          "base_uri": "https://localhost:8080/"
        },
        "id": "Ir8mYA1Rj5lW",
        "outputId": "9a824fcb-d1a3-48f1-88a5-bec64c19b249"
      },
      "source": [
        "print('a\\\n",
        "')         # \\ 엔터\n",
        "print('\\\\') # \\ 문자 자체\n",
        "print('Don\\'t walk') # \\'\n",
        "print(\"She said \\\"i\\'m good\\\"\") #\\\"\n",
        "print('abc\\tdef\\t123\\t456') # \\t 탭키\n",
        "print('123\\n456\\n567')  # \\n 줄바꾸기"
      ],
      "execution_count": null,
      "outputs": [
        {
          "output_type": "stream",
          "text": [
            "a\n",
            "\\\n",
            "Don't walk\n",
            "She said \"i'm good\"\n",
            "abc\tdef\t123\t456\n",
            "123\n",
            "456\n",
            "567\n"
          ],
          "name": "stdout"
        }
      ]
    },
    {
      "cell_type": "code",
      "metadata": {
        "colab": {
          "base_uri": "https://localhost:8080/"
        },
        "id": "2HSJpUURoKsc",
        "outputId": "88c6261b-672d-4df8-9786-b506fa1fd397"
      },
      "source": [
        "# for 문과 문자열 과 print 함수\n",
        "a = '파이썬만만세'\n",
        "for i in a:\n",
        "  print(i) # default 값은 \\n 이다\n",
        "for i in a:\n",
        "  print(i, end =' ')\n",
        "print('\\n')\n",
        "for i in range(10):\n",
        "  print(i, end ='')\n",
        "print('\\n')\n",
        "for i in a:\n",
        "  print(i, end ='\\t')"
      ],
      "execution_count": null,
      "outputs": [
        {
          "output_type": "stream",
          "text": [
            "파\n",
            "이\n",
            "썬\n",
            "만\n",
            "만\n",
            "세\n",
            "파 이 썬 만 만 세 \n",
            "\n",
            "0123456789\n",
            "\n",
            "파\t이\t썬\t만\t만\t세\t"
          ],
          "name": "stdout"
        }
      ]
    },
    {
      "cell_type": "markdown",
      "metadata": {
        "id": "r3kmup3KiQDM"
      },
      "source": [
        "### 문자열 연산 \n",
        "\n",
        "스퀀스 타입 연산이 가능하다.\n",
        "\n",
        "*   '+'  를 이용한 문자열 붙이기\n",
        "*   '*'  를 이용한 반복하기\n",
        "*   [k]  인덱싱\n",
        "*   [k,s,t] 슬라이싱\n",
        "*   len  을 이용한 길이 정보\n",
        "*   in, not in 요소 확인\n",
        "\n",
        "*   문자열은 immutable 자료형이다 변경 불가! "
      ]
    },
    {
      "cell_type": "code",
      "metadata": {
        "colab": {
          "base_uri": "https://localhost:8080/",
          "height": 204
        },
        "id": "rnmAyhqMno3i",
        "outputId": "ddcd1f9c-02b9-4533-e3ef-65c9a819cc69"
      },
      "source": [
        "s = 'asdfgd'\n",
        "s[3] = '1' # immutable 에러가 난다. "
      ],
      "execution_count": null,
      "outputs": [
        {
          "output_type": "error",
          "ename": "TypeError",
          "evalue": "ignored",
          "traceback": [
            "\u001b[0;31m---------------------------------------------------------------------------\u001b[0m",
            "\u001b[0;31mTypeError\u001b[0m                                 Traceback (most recent call last)",
            "\u001b[0;32m<ipython-input-39-c13c5bdfc1e9>\u001b[0m in \u001b[0;36m<module>\u001b[0;34m()\u001b[0m\n\u001b[1;32m      1\u001b[0m \u001b[0ms\u001b[0m \u001b[0;34m=\u001b[0m \u001b[0;34m'asdfgd'\u001b[0m\u001b[0;34m\u001b[0m\u001b[0;34m\u001b[0m\u001b[0m\n\u001b[0;32m----> 2\u001b[0;31m \u001b[0ms\u001b[0m\u001b[0;34m[\u001b[0m\u001b[0;36m3\u001b[0m\u001b[0;34m]\u001b[0m \u001b[0;34m=\u001b[0m \u001b[0;34m'1'\u001b[0m \u001b[0;31m# immutable\u001b[0m\u001b[0;34m\u001b[0m\u001b[0;34m\u001b[0m\u001b[0m\n\u001b[0m\u001b[1;32m      3\u001b[0m \u001b[0ms\u001b[0m\u001b[0;34m.\u001b[0m\u001b[0mreplace\u001b[0m\u001b[0;34m(\u001b[0m\u001b[0mf\u001b[0m\u001b[0;34m,\u001b[0m\u001b[0;36m1\u001b[0m\u001b[0;34m)\u001b[0m\u001b[0;34m\u001b[0m\u001b[0;34m\u001b[0m\u001b[0m\n",
            "\u001b[0;31mTypeError\u001b[0m: 'str' object does not support item assignment"
          ]
        }
      ]
    },
    {
      "cell_type": "code",
      "metadata": {
        "colab": {
          "base_uri": "https://localhost:8080/"
        },
        "id": "6xfU2Bd1ra49",
        "outputId": "f9dbf704-e9e7-40f3-f797-2fae5a989062"
      },
      "source": [
        "s = 'asdfgd'\n",
        "s1 = s.replace('f','1') # 이와 같은 방법으로 새로운 변수로 지정해주어야 한다.\n",
        "print (s1)"
      ],
      "execution_count": null,
      "outputs": [
        {
          "output_type": "stream",
          "text": [
            "asd1gd\n"
          ],
          "name": "stdout"
        }
      ]
    },
    {
      "cell_type": "markdown",
      "metadata": {
        "id": "S6gUNKdKiTeD"
      },
      "source": [
        "## 포맷팅 ( String Formatting ) \n"
      ]
    },
    {
      "cell_type": "markdown",
      "metadata": {
        "id": "ARRtj4iYsKRy"
      },
      "source": [
        "### 서식 지정\n",
        "\n",
        "*  %s    : 문자열 \n",
        "*  %c    : 문자나 기호 한개에 대응됨\n",
        "*  %f    : 실수에 대응됨 .2f 소숫점 두자리만 출력한다는 의미\n",
        "*  %d    : 정수에 대응됨, 3d 는 세자리 정수를 출력한다는 의미\n",
        "*  %%    : % 라는 기호 자체를 표시함"
      ]
    },
    {
      "cell_type": "markdown",
      "metadata": {
        "id": "TTMXSd10tng9"
      },
      "source": [
        "파이선1,2 의 서식 지정 방법"
      ]
    },
    {
      "cell_type": "code",
      "metadata": {
        "colab": {
          "base_uri": "https://localhost:8080/"
        },
        "id": "G2-SFLZ-tljD",
        "outputId": "3aeb2028-69fb-460c-a436-8d844b42b7fd"
      },
      "source": [
        "int_val = 123456.123\n",
        "float_val = 2.123456\n",
        "print(\"%3d %s %0.2f\" % (int_val, 'any value', float_val))"
      ],
      "execution_count": null,
      "outputs": [
        {
          "output_type": "stream",
          "text": [
            "123456 any value 2.12\n"
          ],
          "name": "stdout"
        }
      ]
    },
    {
      "cell_type": "markdown",
      "metadata": {
        "id": "Iv9G8WeZu2Kc"
      },
      "source": [
        "f'{}' 방식으로 f 안에 단순히 변수를 불러 오는 방식이다."
      ]
    },
    {
      "cell_type": "code",
      "metadata": {
        "colab": {
          "base_uri": "https://localhost:8080/"
        },
        "id": "SYRajCVBv6Dt",
        "outputId": "05099898-6fea-4f4e-84e1-02296adefd67"
      },
      "source": [
        "int_val = 123456\n",
        "float_val = 2.123456\n",
        "print(f'{int_val} 은 정수 {float_val}은 실수')"
      ],
      "execution_count": null,
      "outputs": [
        {
          "output_type": "stream",
          "text": [
            "123456.123 은 정수 2.123456은 실수\n"
          ],
          "name": "stdout"
        }
      ]
    },
    {
      "cell_type": "markdown",
      "metadata": {
        "id": "a_0tfMScuugZ"
      },
      "source": [
        "format() 함수를 사용한 서식 지정"
      ]
    },
    {
      "cell_type": "code",
      "metadata": {
        "colab": {
          "base_uri": "https://localhost:8080/"
        },
        "id": "O0OnGrRSwYDs",
        "outputId": "5aa4a794-92e0-418a-844b-3c11602a214c"
      },
      "source": [
        "# format() 함수 기본 사용법\n",
        "int_val = 123456\n",
        "float_val = 2.123456\n",
        "print(format(int_val,'3d'),format(float_val,'3.2f')) # 3은 최소 자리보장수"
      ],
      "execution_count": null,
      "outputs": [
        {
          "output_type": "stream",
          "text": [
            "123456 2.12\n"
          ],
          "name": "stdout"
        }
      ]
    },
    {
      "cell_type": "code",
      "metadata": {
        "colab": {
          "base_uri": "https://localhost:8080/"
        },
        "id": "Kn4v8EnhwwPr",
        "outputId": "a0822fd7-78ce-4bf1-849c-21d32c15d0f1"
      },
      "source": [
        "# 천 단위마다 쉼표, 추가\n",
        "print(format(123456789,',d'))\n",
        "print(format(123456789.1234567,',.6f'))"
      ],
      "execution_count": null,
      "outputs": [
        {
          "output_type": "stream",
          "text": [
            "123,456,789\n",
            "123,456,789.123457\n"
          ],
          "name": "stdout"
        }
      ]
    },
    {
      "cell_type": "code",
      "metadata": {
        "colab": {
          "base_uri": "https://localhost:8080/"
        },
        "id": "mmXlTyXGxZQa",
        "outputId": "e4960920-a103-4d91-8418-0277a1b52ee3"
      },
      "source": [
        "# 여러 값을 출력할때 사용하는 방식 {} 은 데이터로 채워질 자리를 의미한다. 공급되는 순서대로 데이터를 출력한다.\n",
        "#''.format(튜플형)\n",
        "print('{}과{}'.format(23,23.12345))\n",
        "\n",
        "# 인덱싱으로 순서를 바꿀수 있따.\n",
        "print('{1}과{0}'.format(23,23.12345))\n",
        "\n",
        "# 중복 하여 쓸수 있다. \n",
        "print('{0}과{0}'.format(23,23.12345))\n",
        "\n",
        "#format 함수를 사용하기\n",
        "L = [1,4,5,3,2,6,6,10]\n",
        "print('최대값 : {0}, 최솟값 : {1}, 6의 갯수 : {2}'.format(max(L), min(L), L.count(6)))"
      ],
      "execution_count": null,
      "outputs": [
        {
          "output_type": "stream",
          "text": [
            "23과23.12345\n",
            "23.12345과23\n",
            "23과23\n",
            "최대값 : 10, 최솟값 : 1, 6의 갯수 : 2\n"
          ],
          "name": "stdout"
        }
      ]
    },
    {
      "cell_type": "code",
      "metadata": {
        "colab": {
          "base_uri": "https://localhost:8080/"
        },
        "id": "BUhlGsUl1bLg",
        "outputId": "b98201a0-a754-4778-8859-118a22baa5eb"
      },
      "source": [
        "# 자릿수 지정\n",
        "print('{:3}의 제곱근은 {:0.5}'.format(2, 2**0.5))\n",
        "# 인덱스와 자릿수 지정\n",
        "print('{0:3}의 제곱근은 {1:0.5}'.format(2, 2**0.5))\n",
        "# d : decimal, f : float\n",
        "print('{:3d}의 제곱근은 {:0.5f}'.format(2, 2**0.5))\n",
        "# 자릿수 표현\n",
        "print('{:,d}'.format(123456789))\n",
        "print('{:,.3f}'.format(12345678.0123))\n"
      ],
      "execution_count": null,
      "outputs": [
        {
          "output_type": "stream",
          "text": [
            "  2의 제곱근은 1.4142\n",
            "  2의 제곱근은 1.4142\n",
            "  2의 제곱근은 1.41421\n",
            "123,456,789\n",
            "12,345,678.012\n"
          ],
          "name": "stdout"
        }
      ]
    },
    {
      "cell_type": "code",
      "metadata": {
        "colab": {
          "base_uri": "https://localhost:8080/"
        },
        "id": "HxiqUgu14ymh",
        "outputId": "d93286d5-4b56-40d9-8013-58a1bb513a59"
      },
      "source": [
        "# 리스트가 인수로 전달\n",
        "L = [0,1,2,3,4,5,6,7,8]\n",
        "print('next value of {0[4]} is {0[5]}'.format(L))\n",
        "\n",
        "# 딕셔너리가 인수로 전달될 때는 format_map() 메서드를 사용하여 키로 참조한다.\n",
        "info = {'size':32, 'height':173}\n",
        "print('사이즈:{size}, 키{height}.format_map(info)')\n",
        "\n"
      ],
      "execution_count": null,
      "outputs": [
        {
          "output_type": "stream",
          "text": [
            "next value of 4 is 5\n",
            "사이즈:{size}, 키{height}.format_map(info)\n"
          ],
          "name": "stdout"
        }
      ]
    },
    {
      "cell_type": "code",
      "metadata": {
        "colab": {
          "base_uri": "https://localhost:8080/"
        },
        "id": "CmHvYKU954Rc",
        "outputId": "227ffa7c-5974-44b9-8784-44bbc60299b8"
      },
      "source": [
        "#모듈인 경우에는 이름으로 접근할수 있다.\n",
        "import math\n",
        "print('파이는 {0.pi:.2f}'.format(math))"
      ],
      "execution_count": null,
      "outputs": [
        {
          "output_type": "stream",
          "text": [
            "파이는 3.14\n"
          ],
          "name": "stdout"
        }
      ]
    },
    {
      "cell_type": "code",
      "metadata": {
        "colab": {
          "base_uri": "https://localhost:8080/"
        },
        "id": "JVzY1Td57tVV",
        "outputId": "49696b5c-12e8-4d66-80e3-71ee756a622e"
      },
      "source": [
        "# 다음은 0부터 360도까지 10도 간격으로 사인 값을 표로 만드는 예이다.\n",
        "from math import sin, pi, radians\n",
        "for deg in range(0,361,10):\n",
        "  rad = radians(deg)\n",
        "  print('sin({0:3d}) = {1:.5f}'.format(deg, sin(rad)))\n"
      ],
      "execution_count": null,
      "outputs": [
        {
          "output_type": "stream",
          "text": [
            "sin(  0) = 0.00000\n",
            "sin( 10) = 0.17365\n",
            "sin( 20) = 0.34202\n",
            "sin( 30) = 0.50000\n",
            "sin( 40) = 0.64279\n",
            "sin( 50) = 0.76604\n",
            "sin( 60) = 0.86603\n",
            "sin( 70) = 0.93969\n",
            "sin( 80) = 0.98481\n",
            "sin( 90) = 1.00000\n",
            "sin(100) = 0.98481\n",
            "sin(110) = 0.93969\n",
            "sin(120) = 0.86603\n",
            "sin(130) = 0.76604\n",
            "sin(140) = 0.64279\n",
            "sin(150) = 0.50000\n",
            "sin(160) = 0.34202\n",
            "sin(170) = 0.17365\n",
            "sin(180) = 0.00000\n",
            "sin(190) = -0.17365\n",
            "sin(200) = -0.34202\n",
            "sin(210) = -0.50000\n",
            "sin(220) = -0.64279\n",
            "sin(230) = -0.76604\n",
            "sin(240) = -0.86603\n",
            "sin(250) = -0.93969\n",
            "sin(260) = -0.98481\n",
            "sin(270) = -1.00000\n",
            "sin(280) = -0.98481\n",
            "sin(290) = -0.93969\n",
            "sin(300) = -0.86603\n",
            "sin(310) = -0.76604\n",
            "sin(320) = -0.64279\n",
            "sin(330) = -0.50000\n",
            "sin(340) = -0.34202\n",
            "sin(350) = -0.17365\n",
            "sin(360) = -0.00000\n"
          ],
          "name": "stdout"
        }
      ]
    },
    {
      "cell_type": "code",
      "metadata": {
        "colab": {
          "base_uri": "https://localhost:8080/"
        },
        "id": "BkGwbrv9-QnI",
        "outputId": "0c7d4f43-0814-4255-b7cb-59a7c7282daf"
      },
      "source": [
        "#보조 서식 문자\n",
        "\n",
        "# m : m 개의 최소 자리를 확보한다.\n",
        "print('{0:5s}'.format('egg'), '빈칸확인용')\n",
        "\n",
        "# m.n : m개의 쇠소 자리수를 확보하고, n개의 소수점 이하 자리를 출력한다.\n",
        "print('빈칸확인용','{0:10.2f}'.format(1234.1234),'빈칸확인용')\n",
        "\n",
        "# > , < : 왼쪽이나 오른쪽으로 맞추어서 출력한다.\n",
        "print ('{0:<5d}'.format(123),'빈칸확인용')\n",
        "print ('빈칸확인용', '{0:>5d}'.format(123))\n",
        "\n",
        "# +  : +/- 부호를 출력한다.\n",
        "print('{0:+d}'.format(123))\n",
        "\n",
        "# 공백 : 양수일 때 공백을 삽입한다.\n",
        "print( '{0: d}'.format(123))\n",
        "\n",
        "# 0 왼쪽 공간을 0으로 채운다.\n",
        "print( '{0:05d}'.format(123))"
      ],
      "execution_count": null,
      "outputs": [
        {
          "output_type": "stream",
          "text": [
            "egg   빈칸확인용\n",
            "빈칸확인용    1234.12 빈칸확인용\n",
            "123   빈칸확인용\n",
            "빈칸확인용   123\n",
            "+123\n",
            " 123\n",
            "00123\n"
          ],
          "name": "stdout"
        }
      ]
    },
    {
      "cell_type": "markdown",
      "metadata": {
        "id": "RC2QwmMWBfV-"
      },
      "source": [
        "## 문자열 메서드\n"
      ]
    },
    {
      "cell_type": "markdown",
      "metadata": {
        "id": "kukaNu6XBmj_"
      },
      "source": [
        "### 대소문자 변환"
      ]
    },
    {
      "cell_type": "code",
      "metadata": {
        "colab": {
          "base_uri": "https://localhost:8080/"
        },
        "id": "WgT943SRBtkV",
        "outputId": "0354d4ae-f265-4e08-d4f3-4c2afc24ea17"
      },
      "source": [
        "s = 'i like python'\n",
        "print(s.upper())\n",
        "print(s.lower())\n",
        "print(s.capitalize())       # 문자열의 처음만 대문자로\n",
        "print(s.title())            # 타이틀 형식으로 \n",
        "print(s.title().swapcase()) # 뒤집기"
      ],
      "execution_count": null,
      "outputs": [
        {
          "output_type": "stream",
          "text": [
            "I LIKE PYTHON\n",
            "i like python\n",
            "I like python\n",
            "i lIKE pYTHON\n",
            "I Like Python\n"
          ],
          "name": "stdout"
        }
      ]
    },
    {
      "cell_type": "markdown",
      "metadata": {
        "id": "M4lJrPT_Cgh1"
      },
      "source": [
        "### 검색에 관련되 메서드"
      ]
    },
    {
      "cell_type": "code",
      "metadata": {
        "colab": {
          "base_uri": "https://localhost:8080/"
        },
        "id": "ghg9cyitCkrb",
        "outputId": "bd47fcf6-c759-4d0f-e859-c31b28eed9fd"
      },
      "source": [
        "s = 'abcde123456abcde'\n",
        "print(s.count('a'))\n",
        "print(s.find('a'))   # 문자열 s  에서 처음으로 a 가 나오는 인덱스\n",
        "print(s.find('a',1)) # 1번째 인덱스로 부터 몇번째 \n",
        "print(type(s.find('a'))) # count, find 는 인덱스 값을 보내주고 클래스는 int 형이다.\n",
        "print(s.find('z'))      # 없다면 -1 를 출력한다.\n",
        "print(s.rfind('a'))     # 뒤에서 부터 처음으로 나오는  a 를 찾아준다. 결과값은 보통 인덱스 값을 출력한다.\n",
        "print(s.index('a'))     # find와 같은 방식이지만\n",
        "print(s.rindex('a'))\n",
        "# print(s.index('z'))     # 없다면 ValueError를 출력한다.\n",
        "print(s.startswith('abc'))\n",
        "print(s.startswith('abc',11))\n",
        "print(s.endswith('cde'))\n",
        "print(s.endswith('abc',0,14))   # 0과 14 사이의 문자열이 abc로 끝나니?"
      ],
      "execution_count": null,
      "outputs": [
        {
          "output_type": "stream",
          "text": [
            "2\n",
            "0\n",
            "11\n",
            "<class 'int'>\n",
            "-1\n",
            "11\n",
            "0\n",
            "11\n",
            "True\n",
            "True\n",
            "True\n",
            "True\n"
          ],
          "name": "stdout"
        }
      ]
    },
    {
      "cell_type": "markdown",
      "metadata": {
        "id": "118_vntGE1zT"
      },
      "source": [
        "### 편집과 친화에 관련된 메서드\n"
      ]
    },
    {
      "cell_type": "code",
      "metadata": {
        "colab": {
          "base_uri": "https://localhost:8080/"
        },
        "id": "duBE78iSELSO",
        "outputId": "6c6d1fbc-3130-4ab0-e77d-0b26149593ae"
      },
      "source": [
        "s = '    ><><you , me and us><><hehe><><    '\n",
        "print(s)\n",
        "print(s.strip())\n",
        "print(s.lstrip())\n",
        "print(s.rstrip())\n",
        "u = s.strip()\n",
        "print(u.strip('><'))\n",
        "print(u.replace('><','ㅎ'))"
      ],
      "execution_count": null,
      "outputs": [
        {
          "output_type": "stream",
          "text": [
            "    ><><you , me and us><><hehe><><    \n",
            "><><you , me and us><><hehe><><\n",
            "><><you , me and us><><hehe><><    \n",
            "    ><><you , me and us><><hehe><><\n",
            "you , me and us><><hehe\n",
            "ㅎㅎyou , me and usㅎㅎheheㅎㅎ\n"
          ],
          "name": "stdout"
        }
      ]
    },
    {
      "cell_type": "markdown",
      "metadata": {
        "id": "PmldEFOnGUtJ"
      },
      "source": [
        "### 문자열의 분리와 결합에 관련된 메서드\n",
        "\n"
      ]
    },
    {
      "cell_type": "code",
      "metadata": {
        "colab": {
          "base_uri": "https://localhost:8080/"
        },
        "id": "P2V5ptIzGtoo",
        "outputId": "5ffd49b3-80d3-477a-e70c-18de5526d70c"
      },
      "source": [
        "s = 'i love programming'\n",
        "u = \"\"\"i love python\n",
        "i love cooking\n",
        "i love watching movie\"\"\"\n",
        "\n",
        "print(s)\n",
        "print(u)\n",
        "print(s.split())\n",
        "print(s.split('o'))\n",
        "print(u.split())\n",
        "print(u.splitlines())\n",
        "\n",
        "# 결합 join\n",
        "s = s.split()\n",
        "t = ':'\n",
        "print(t.join(s))\n",
        "print('\\t'.join(s))\n",
        "\n",
        "print(u.split(' ',2))  # ' ' (뛰어쓰기)로 2번만 분리한다.\n",
        "print(u.rsplit(' ',2)) # 뒤에서 부터 2번만"
      ],
      "execution_count": null,
      "outputs": [
        {
          "output_type": "stream",
          "text": [
            "i love programming\n",
            "i love python\n",
            "i love cooking\n",
            "i love watching movie\n",
            "['i', 'love', 'programming']\n",
            "['i l', 've pr', 'gramming']\n",
            "['i', 'love', 'python', 'i', 'love', 'cooking', 'i', 'love', 'watching', 'movie']\n",
            "['i love python', 'i love cooking', 'i love watching movie']\n",
            "i:love:programming\n",
            "i\tlove\tprogramming\n",
            "['i', 'love', 'python\\ni love cooking\\ni love watching movie']\n",
            "['i love python\\ni love cooking\\ni love', 'watching', 'movie']\n"
          ],
          "name": "stdout"
        }
      ]
    },
    {
      "cell_type": "markdown",
      "metadata": {
        "id": "S1o-0J4bE05g"
      },
      "source": [
        "### 정렬"
      ]
    },
    {
      "cell_type": "code",
      "metadata": {
        "colab": {
          "base_uri": "https://localhost:8080/"
        },
        "id": "_Xq6m5jwJ4FU",
        "outputId": "2e8e0adf-f06d-4e64-b0a4-79c109379569"
      },
      "source": [
        "u = 'spam and egg'\n",
        "print(u.center(60))\n",
        "print(u.ljust(60))\n",
        "print(u.rjust(60))\n",
        "print(u.center(30,'-'))\n"
      ],
      "execution_count": null,
      "outputs": [
        {
          "output_type": "stream",
          "text": [
            "                        spam and egg                        \n",
            "spam and egg                                                \n",
            "                                                spam and egg\n",
            "---------spam and egg---------\n"
          ],
          "name": "stdout"
        }
      ]
    },
    {
      "cell_type": "markdown",
      "metadata": {
        "id": "9o_bMz7PKMmH"
      },
      "source": [
        "### 문자열의 판별 isalpha()"
      ]
    },
    {
      "cell_type": "code",
      "metadata": {
        "colab": {
          "base_uri": "https://localhost:8080/"
        },
        "id": "EOS7CGkoKSDL",
        "outputId": "bd6c5fa6-b604-443d-a7fd-9ee961b3ac8f"
      },
      "source": [
        "print('1234'.isdigit()) # 문자열이 숫자인가?\n",
        "print('123\\u2155\\u2156')\n",
        "print('123\\u2155\\u2156'.isnumeric()) # 문자열이 유니코드 수치 혹은 일반 수치 문자인가?\n",
        "print('123\\u0661')   # \\u0661은 아라빅 숫자 1을 나타내는 유니코드이다.\n",
        "print('123\\u0661'.isdecimal()) # 일반 수치 혹은 유니코드 수치 문자인가?\n",
        "print('abcd한글'.isalpha())   # 문자열이 영문자 혹은 유니코드 Letter 문자인가?\n",
        "print('1abc234'.isalnum())     # 문자열이 숫자나 영문자 혹은 유니코드 Letter문자인가?\n",
        "print('abc'.islower(), 'ABC'.isupper())\n",
        "print('\\n\\r\\n'.isspace()) # 공백 문자인가?\n",
        "print('This Is A Title'.istitle())\n",
        "print('\\n\\t'.isspace())\n",
        "print('def'.isidentifier()) # 문자열이 예약어인가?\n",
        "print(' \\n\\t'.isprintable())  # 문자열이 인쇄 가능한 문자들의 모임인가?"
      ],
      "execution_count": null,
      "outputs": [
        {
          "output_type": "stream",
          "text": [
            "True\n",
            "123⅕⅖\n",
            "True\n",
            "123١\n",
            "True\n",
            "True\n",
            "True\n",
            "True True\n",
            "True\n",
            "True\n",
            "True\n",
            "True\n",
            "False\n"
          ],
          "name": "stdout"
        }
      ]
    },
    {
      "cell_type": "markdown",
      "metadata": {
        "id": "el0coWYONB-k"
      },
      "source": [
        "## 유니코드 문자열과 바이트\n",
        "\n",
        "파이썬 3와 유니코드\n"
      ]
    },
    {
      "cell_type": "markdown",
      "metadata": {
        "id": "eiQZ0AqJNJtg"
      },
      "source": [
        "### 인코딩 과 바이트\n",
        "*  UTF - 8\n",
        "*  UTF - 16\n",
        "*  UTF - 32\n",
        "*  cp949\n",
        "*  encode\n",
        "*  decode\n",
        "*  ord() 함수와 chr() 함수\n",
        "*  bytes.fromhex"
      ]
    },
    {
      "cell_type": "markdown",
      "metadata": {
        "id": "CX9dMIGZOrJu"
      },
      "source": [
        "# 리스트 <class 'list'>"
      ]
    },
    {
      "cell_type": "code",
      "metadata": {
        "colab": {
          "base_uri": "https://localhost:8080/"
        },
        "id": "9hgaCv-2O2zD",
        "outputId": "2ed212ea-ce39-400a-e33d-caa01831d1da"
      },
      "source": [
        "print(type([]))"
      ],
      "execution_count": null,
      "outputs": [
        {
          "output_type": "stream",
          "text": [
            "<class 'list'>\n"
          ],
          "name": "stdout"
        }
      ]
    },
    {
      "cell_type": "markdown",
      "metadata": {
        "id": "cXyVWTClN9lK"
      },
      "source": [
        "## 리스트의 연산\n",
        "\n",
        "\n",
        "1.   리스트 생성\n",
        "2.   len 과 in\n",
        "2.   인덱싱           [n]\n",
        "3.   슬라이싱         [n:t:k]\n",
        "4.   반복과 연결하기   * , +\n",
        "4.   mutable\n",
        "5.   치환\n",
        "6.   삭제\n",
        "7.   추가\n",
        "\n",
        "\n"
      ]
    },
    {
      "cell_type": "code",
      "metadata": {
        "colab": {
          "base_uri": "https://localhost:8080/"
        },
        "id": "jENIQg09OB63",
        "outputId": "8a6175cd-1f8a-4332-f09d-60507f267f85"
      },
      "source": [
        " # 리스트 생성\n",
        " a= [] # 빈 리스트도 리스트 이다.\n",
        " print(type(a))\n",
        " b = (3,2)\n",
        "list(b)   # list 를 이용해서 튜플을 리스트 객체로 바꿈"
      ],
      "execution_count": null,
      "outputs": [
        {
          "output_type": "stream",
          "text": [
            "<class 'list'>\n"
          ],
          "name": "stdout"
        },
        {
          "output_type": "execute_result",
          "data": {
            "text/plain": [
              "[3, 2]"
            ]
          },
          "metadata": {
            "tags": []
          },
          "execution_count": 23
        }
      ]
    },
    {
      "cell_type": "code",
      "metadata": {
        "colab": {
          "base_uri": "https://localhost:8080/"
        },
        "id": "3sVlwRVPV7Px",
        "outputId": "e8b5e325-e12c-4889-a0c2-1e6b5f1cfcbc"
      },
      "source": [
        "a = [1,2,3]\n",
        "len(a)"
      ],
      "execution_count": null,
      "outputs": [
        {
          "output_type": "execute_result",
          "data": {
            "text/plain": [
              "3"
            ]
          },
          "metadata": {
            "tags": []
          },
          "execution_count": 38
        }
      ]
    },
    {
      "cell_type": "code",
      "metadata": {
        "colab": {
          "base_uri": "https://localhost:8080/"
        },
        "id": "RPz2ASiDV-Rn",
        "outputId": "1eacc903-5986-4e34-8eff-f8d36bec2d60"
      },
      "source": [
        "a = ['a','b','c']\n",
        "'c' in a"
      ],
      "execution_count": null,
      "outputs": [
        {
          "output_type": "execute_result",
          "data": {
            "text/plain": [
              "True"
            ]
          },
          "metadata": {
            "tags": []
          },
          "execution_count": 39
        }
      ]
    },
    {
      "cell_type": "code",
      "metadata": {
        "colab": {
          "base_uri": "https://localhost:8080/"
        },
        "id": "pmEcncqSOHs8",
        "outputId": "1631e2c6-cbab-4f9e-fa6a-af086acdc8b6"
      },
      "source": [
        "# 인덱싱 : 리스트에는 순서가 있고, 0 1 2 또는 -1 -2 -3 순서이다.\n",
        "a = [1,2,\"Great\"]\n",
        "print(a[2][2]) # 리스트의 요소의 인덱싱, 문자형의 인덱싱\n",
        "a[0:a[-2]] "
      ],
      "execution_count": null,
      "outputs": [
        {
          "output_type": "stream",
          "text": [
            "e\n"
          ],
          "name": "stdout"
        },
        {
          "output_type": "execute_result",
          "data": {
            "text/plain": [
              "[1, 2]"
            ]
          },
          "metadata": {
            "tags": []
          },
          "execution_count": 5
        }
      ]
    },
    {
      "cell_type": "code",
      "metadata": {
        "colab": {
          "base_uri": "https://localhost:8080/"
        },
        "id": "X5dNRGxjOeZn",
        "outputId": "d6760ad2-492c-46b5-cb78-593c57f93247"
      },
      "source": [
        "# 슬라이싱 [n:k:t] n부터 k까지 t번씩\n",
        "\n",
        "a = [i for i in range(8)]\n",
        "print(a[1:3])\n",
        "print(a[:3])\n",
        "print(a[::2])"
      ],
      "execution_count": null,
      "outputs": [
        {
          "output_type": "stream",
          "text": [
            "[1, 2]\n",
            "[0, 1, 2]\n",
            "[0, 2, 4, 6]\n"
          ],
          "name": "stdout"
        }
      ]
    },
    {
      "cell_type": "code",
      "metadata": {
        "colab": {
          "base_uri": "https://localhost:8080/"
        },
        "id": "2GzhAh9cTdor",
        "outputId": "9175fdc5-4df3-47b6-f32d-aae37d19c463"
      },
      "source": [
        "# 확장 슬라이싱\n",
        "\n",
        "a = list(range(4))\n",
        "a[::2]=list(range(-10,-12,-1))\n",
        "print(a)\n",
        "\n",
        "# a[::2]= list(range(3)) # ValueError: attempt to assign sequence of size 3 to extended slice of size 2\n",
        "# 오른쪽과 왼쪽 요소의 개수가 맞지 않는다.\n",
        "\n",
        "a = list(range(5))\n",
        "a[::2]= list(('a','b','c'))\n",
        "print(a)\n",
        "\n",
        "a = list(range(5))\n",
        "a[::-2]= list(('a','b','c'))\n",
        "print(a) # 갯수를 맞추어 주면 된다!!"
      ],
      "execution_count": null,
      "outputs": [
        {
          "output_type": "stream",
          "text": [
            "[-10, 1, -11, 3]\n",
            "['a', 1, 'b', 3, 'c']\n",
            "['c', 1, 'b', 3, 'a']\n"
          ],
          "name": "stdout"
        }
      ]
    },
    {
      "cell_type": "code",
      "metadata": {
        "colab": {
          "base_uri": "https://localhost:8080/"
        },
        "id": "s_MXqSGCPEnc",
        "outputId": "b6c3b1d0-4ff4-4265-c669-955ebbed35b9"
      },
      "source": [
        "# * 반복 과 연결하기\n",
        "a = [1,2,3,4,5]\n",
        "print(a*a[2])          #\n",
        "print(a+[a[0]]+[a[2]]) #  오직 리스트 끼리만 더할 수 있다.\n",
        "\n",
        "# 비교해보기\n",
        "a = [1,2,3]\n",
        "b = a*3\n",
        "c = [a]*3\n",
        "print(a)\n",
        "print(b)\n",
        "print(c)"
      ],
      "execution_count": null,
      "outputs": [
        {
          "output_type": "stream",
          "text": [
            "[1, 2, 3, 4, 5, 1, 2, 3, 4, 5, 1, 2, 3, 4, 5]\n",
            "[1, 2, 3, 4, 5, 1, 3]\n",
            "[1, 2, 3]\n",
            "[1, 2, 3, 1, 2, 3, 1, 2, 3]\n",
            "[[1, 2, 3], [1, 2, 3], [1, 2, 3]]\n"
          ],
          "name": "stdout"
        }
      ]
    },
    {
      "cell_type": "code",
      "metadata": {
        "colab": {
          "base_uri": "https://localhost:8080/"
        },
        "id": "5sTQGS3qPyT4",
        "outputId": "8c9e27bf-4cbb-4409-959b-ba050d1468a9"
      },
      "source": [
        "# list는 mutable \n",
        "a = ['a','b',100,456]\n",
        "a[2] = a[2] + 23\n",
        "\n",
        "a[2]"
      ],
      "execution_count": null,
      "outputs": [
        {
          "output_type": "execute_result",
          "data": {
            "text/plain": [
              "123"
            ]
          },
          "metadata": {
            "tags": []
          },
          "execution_count": 11
        }
      ]
    },
    {
      "cell_type": "code",
      "metadata": {
        "colab": {
          "base_uri": "https://localhost:8080/"
        },
        "id": "nG802Cs4RRXu",
        "outputId": "1fd931c2-85f8-46b3-d17b-d6a58d916fab"
      },
      "source": [
        "# 치환 : 삭제와 입력을 같이한다.\n",
        "\n",
        "a = ['a','b',100,456]\n",
        "\n",
        "a[0:2] = [2]  #  갯수가 달라도 가능하다.\n",
        "print(a)\n",
        "a[0:2] = [1,12]\n",
        "a"
      ],
      "execution_count": null,
      "outputs": [
        {
          "output_type": "stream",
          "text": [
            "[2, 100, 456]\n"
          ],
          "name": "stdout"
        },
        {
          "output_type": "execute_result",
          "data": {
            "text/plain": [
              "[1, 12, 456]"
            ]
          },
          "metadata": {
            "tags": []
          },
          "execution_count": 13
        }
      ]
    },
    {
      "cell_type": "code",
      "metadata": {
        "colab": {
          "base_uri": "https://localhost:8080/"
        },
        "id": "TNxkbr_lRyax",
        "outputId": "9a6a3e37-7f25-4ce9-eb43-d95ca2fcd475"
      },
      "source": [
        "# 삭제\n",
        "\n",
        "a = ['a','b',100,456]\n",
        "a[0] = [] # 빈리스트는 삭제를 의미한다.\n",
        "a\n"
      ],
      "execution_count": null,
      "outputs": [
        {
          "output_type": "execute_result",
          "data": {
            "text/plain": [
              "[[], 'b', 100, 456]"
            ]
          },
          "metadata": {
            "tags": []
          },
          "execution_count": 14
        }
      ]
    },
    {
      "cell_type": "code",
      "metadata": {
        "colab": {
          "base_uri": "https://localhost:8080/"
        },
        "id": "m_ML5vTmR7v0",
        "outputId": "ba01c81f-ede3-42a3-fa3a-a31912f0aecb"
      },
      "source": [
        "# del 로 삭제하기\n",
        "\n",
        "a = ['a','b',100,456]\n",
        "del a[0]\n",
        "a"
      ],
      "execution_count": null,
      "outputs": [
        {
          "output_type": "execute_result",
          "data": {
            "text/plain": [
              "['b', 100, 456]"
            ]
          },
          "metadata": {
            "tags": []
          },
          "execution_count": 15
        }
      ]
    },
    {
      "cell_type": "code",
      "metadata": {
        "colab": {
          "base_uri": "https://localhost:8080/"
        },
        "id": "s3qO77JpSFtl",
        "outputId": "4945d359-db64-4f09-8118-d98d0e7d60a1"
      },
      "source": [
        "# 추가하기\n",
        "\n",
        "a = [1,2]\n",
        "a[1:1] = ['a','b']\n",
        "print(a)\n",
        "a[4:4] = [3,4]\n",
        "print(a)"
      ],
      "execution_count": null,
      "outputs": [
        {
          "output_type": "stream",
          "text": [
            "[1, 'a', 'b', 2]\n",
            "[1, 'a', 'b', 2, 3, 4]\n"
          ],
          "name": "stdout"
        }
      ]
    },
    {
      "cell_type": "markdown",
      "metadata": {
        "id": "cr7oAC5WVDHm"
      },
      "source": [
        "##중첩 리스트  (Nested Lists)\n",
        "* 리스트 안에 또 다른 리스트가 포함되어 있는 경우 중첩 리스트\n"
      ]
    },
    {
      "cell_type": "code",
      "metadata": {
        "colab": {
          "base_uri": "https://localhost:8080/"
        },
        "id": "XRi-jj4oVcwc",
        "outputId": "5f4548d7-09f4-49d5-b6ca-dd175049200f"
      },
      "source": [
        "L = [1,[1,2],[[1],[1,2],[1,2,3]]]\n",
        "print(L[2][2][2])"
      ],
      "execution_count": null,
      "outputs": [
        {
          "output_type": "stream",
          "text": [
            "3\n"
          ],
          "name": "stdout"
        }
      ]
    },
    {
      "cell_type": "markdown",
      "metadata": {
        "id": "S8m6O_hMWKoK"
      },
      "source": [
        "## 리스트 메서드\n",
        "* 내장함수\n",
        "1. append  : 데이터를 리스트 끝에 추가(혹은 스택의 Push)한다.\n",
        "2. insert  : 데이터를 지정한 위치에 삽입한다.\n",
        "3. index   : 요소를 검색(Search) 한다.\n",
        "4. count   : 요소의 개수를 알아낸다.\n",
        "5. sort    : 리스트를 정렬한다.\n",
        "6. reverse : 리스트의 순서를 바꾼다.\n",
        "7. remove  : 리스트의 지정한 값 하나를 삭제한다.\n",
        "8. pop     : 리스트의 지정한 값 하나를 읽어 내고 삭제(스택의 Pop) 한다.\n",
        "9. extend  : 리스트를 추가한다."
      ]
    },
    {
      "cell_type": "code",
      "metadata": {
        "colab": {
          "base_uri": "https://localhost:8080/"
        },
        "id": "nMUnx2__XluX",
        "outputId": "72dffd41-ed34-4be2-897b-9df73c78fe5e"
      },
      "source": [
        "s = ['a','b','c']\n",
        "s.append('d')\n",
        "s"
      ],
      "execution_count": null,
      "outputs": [
        {
          "output_type": "execute_result",
          "data": {
            "text/plain": [
              "['a', 'b', 'c', 'd']"
            ]
          },
          "metadata": {
            "tags": []
          },
          "execution_count": 43
        }
      ]
    },
    {
      "cell_type": "code",
      "metadata": {
        "colab": {
          "base_uri": "https://localhost:8080/"
        },
        "id": "tJLRh6kTYQWt",
        "outputId": "c8e3a7bb-b76a-4e70-eb59-840e89c69d95"
      },
      "source": [
        "s = ['a','b','c']\n",
        "s.insert(1,'z') # insert(인덱스번호,추가할것)\n",
        "s"
      ],
      "execution_count": null,
      "outputs": [
        {
          "output_type": "execute_result",
          "data": {
            "text/plain": [
              "['a', 'z', 'b', 'c']"
            ]
          },
          "metadata": {
            "tags": []
          },
          "execution_count": 44
        }
      ]
    },
    {
      "cell_type": "code",
      "metadata": {
        "colab": {
          "base_uri": "https://localhost:8080/"
        },
        "id": "E71ZDsojYbzq",
        "outputId": "66deaf83-4aa9-4b86-effd-8ac6471ad9c2"
      },
      "source": [
        "s = ['a','b','c']\n",
        "s.index('b') # int 값으로 출력된다."
      ],
      "execution_count": null,
      "outputs": [
        {
          "output_type": "execute_result",
          "data": {
            "text/plain": [
              "1"
            ]
          },
          "metadata": {
            "tags": []
          },
          "execution_count": 45
        }
      ]
    },
    {
      "cell_type": "code",
      "metadata": {
        "colab": {
          "base_uri": "https://localhost:8080/"
        },
        "id": "0-bPDoM6YQMa",
        "outputId": "aff86537-afce-4efb-db17-e3a2884b9712"
      },
      "source": [
        "s = ['a','b','c','a']\n",
        "s.count('a')"
      ],
      "execution_count": null,
      "outputs": [
        {
          "output_type": "execute_result",
          "data": {
            "text/plain": [
              "2"
            ]
          },
          "metadata": {
            "tags": []
          },
          "execution_count": 46
        }
      ]
    },
    {
      "cell_type": "code",
      "metadata": {
        "id": "vJAS8N1xYQDd"
      },
      "source": [
        "#정렬, 순서뒤집기 (자세한 이야기는 밑에서 다시 다루기로 하자!)\n",
        "s.sort() # 변환값이 없다. s 변수에 영향을 미친다. 비교: s = sorted(s)\n",
        "s.reverse() #변환값이 없다. s 변수에 영향을 미친다. 비교: s =reversed(s)"
      ],
      "execution_count": null,
      "outputs": []
    },
    {
      "cell_type": "code",
      "metadata": {
        "colab": {
          "base_uri": "https://localhost:8080/"
        },
        "id": "BMuJfChMZLvd",
        "outputId": "674a8e16-86e8-468a-85f4-41ab0c5a750c"
      },
      "source": [
        "#값 삭제하기\n",
        "s = ['a','b','c','a']\n",
        "s.remove('a') # 인덱스 번호 가장 작은 것중에 한개만 지운다!\n",
        "s"
      ],
      "execution_count": null,
      "outputs": [
        {
          "output_type": "execute_result",
          "data": {
            "text/plain": [
              "['b', 'c', 'a']"
            ]
          },
          "metadata": {
            "tags": []
          },
          "execution_count": 48
        }
      ]
    },
    {
      "cell_type": "code",
      "metadata": {
        "colab": {
          "base_uri": "https://localhost:8080/"
        },
        "id": "GetW0vHpZhlX",
        "outputId": "27625837-57d7-4158-9ec0-6675fc43f16e"
      },
      "source": [
        "# 리스트에 리스트를 추가하기\n",
        "s = ['a','b','c','a']\n",
        "s.extend([1,2])\n",
        "print(s)\n",
        "s = s + [1,2]\n",
        "print(s)\n",
        "s.append([1,2]) # extend 와 append 와는 다른 기능이다.\n",
        "print(s)"
      ],
      "execution_count": null,
      "outputs": [
        {
          "output_type": "stream",
          "text": [
            "['a', 'b', 'c', 'a', 1, 2]\n",
            "['a', 'b', 'c', 'a', 1, 2, 1, 2]\n",
            "['a', 'b', 'c', 'a', 1, 2, 1, 2, [1, 2]]\n"
          ],
          "name": "stdout"
        }
      ]
    },
    {
      "cell_type": "markdown",
      "metadata": {
        "id": "UFtzbBtCXiGy"
      },
      "source": [
        "## 스택과 큐의 간단한 이해\n",
        "\n",
        "* 스택 : LIFO\n",
        "* 큐   : FIFO"
      ]
    },
    {
      "cell_type": "code",
      "metadata": {
        "colab": {
          "base_uri": "https://localhost:8080/"
        },
        "id": "YOkrS8dCXns1",
        "outputId": "49fcca9b-8795-461f-89e4-f73703d0c533"
      },
      "source": [
        "#스택\n",
        "a = [1,2,3,4,5,6]\n",
        "a.append(7)\n",
        "print(a)\n",
        "a.pop()\n",
        "a"
      ],
      "execution_count": null,
      "outputs": [
        {
          "output_type": "stream",
          "text": [
            "[1, 2, 3, 4, 5, 6, 7]\n"
          ],
          "name": "stdout"
        },
        {
          "output_type": "execute_result",
          "data": {
            "text/plain": [
              "[1, 2, 3, 4, 5, 6]"
            ]
          },
          "metadata": {
            "tags": []
          },
          "execution_count": 42
        }
      ]
    },
    {
      "cell_type": "code",
      "metadata": {
        "colab": {
          "base_uri": "https://localhost:8080/"
        },
        "id": "bukTRBE5X5jI",
        "outputId": "f27300e7-f6bc-4f3a-85c4-b077ae5cf8bd"
      },
      "source": [
        "# 큐\n",
        "a = [1,2,3,4,5,6]\n",
        "a.append(7)\n",
        "print(a)\n",
        "a.pop(0)\n",
        "a"
      ],
      "execution_count": null,
      "outputs": [
        {
          "output_type": "stream",
          "text": [
            "[1, 2, 3, 4, 5, 6, 7]\n"
          ],
          "name": "stdout"
        },
        {
          "output_type": "execute_result",
          "data": {
            "text/plain": [
              "[2, 3, 4, 5, 6, 7]"
            ]
          },
          "metadata": {
            "tags": []
          },
          "execution_count": 41
        }
      ]
    },
    {
      "cell_type": "markdown",
      "metadata": {
        "id": "n2QNsIOGaX1P"
      },
      "source": [
        "## 리스트 활용하기 \n",
        "* 리스트에 저장된 데이터가 리스트나 튜플과 같이 복합 자료형인 경우 데이터를 다루는 예를 보자. 먼저 리스트의 데이터가 튜플이고 이들을 출력한다면 다음과 같이 할수 있다."
      ]
    },
    {
      "cell_type": "code",
      "metadata": {
        "colab": {
          "base_uri": "https://localhost:8080/"
        },
        "id": "rELvH9ukapVt",
        "outputId": "f0aff97b-23b7-4ba8-c35b-1294caf45610"
      },
      "source": [
        "# 리스트와 튜플 그리고 포맷팅\n",
        "lt = [('one',1),('two',2),('three',3)]\n",
        "for t in lt:\n",
        "  print(t)\n",
        "for t in lt:\n",
        "  print('name={:7} num={}'.format(t[0],t[1]))\n",
        "print('다른 방법')\n",
        "for t in lt:\n",
        "  print('name={0[0]:7} num={0[1]:}'.format(t)) # 이해가 안간다면 포맷팅 편을 참조해주세요.\n",
        "print('다른 방법')\n",
        "for i,j in lt:\n",
        "  print('name={:7} num={}'.format(i,j)) "
      ],
      "execution_count": null,
      "outputs": [
        {
          "output_type": "stream",
          "text": [
            "('one', 1)\n",
            "('two', 2)\n",
            "('three', 3)\n",
            "name=one     num=1\n",
            "name=two     num=2\n",
            "name=three   num=3\n",
            "다른 방법\n",
            "name=one     num=1\n",
            "name=two     num=2\n",
            "name=three   num=3\n",
            "다른 방법\n",
            "name=one     num=1\n",
            "name=two     num=2\n",
            "name=three   num=3\n"
          ],
          "name": "stdout"
        }
      ]
    },
    {
      "cell_type": "code",
      "metadata": {
        "colab": {
          "base_uri": "https://localhost:8080/"
        },
        "id": "OqXo7JB3cH83",
        "outputId": "ddd0456b-d113-43d0-9008-3c9a2591095c"
      },
      "source": [
        "# nested list 활용\n",
        "nl = [['one',1],['two',2],['three',3]]\n",
        "for i,j in nl:\n",
        "  print(i,'는',j)"
      ],
      "execution_count": null,
      "outputs": [
        {
          "output_type": "stream",
          "text": [
            "one 는 1\n",
            "two 는 2\n",
            "three 는 3\n"
          ],
          "name": "stdout"
        }
      ]
    },
    {
      "cell_type": "markdown",
      "metadata": {
        "id": "SwnT6gwAdNaY"
      },
      "source": [
        "## 정렬하기\n",
        "\n",
        "* 리스트에서 인덱스 즉, 순서는 가장 중요한 자료의 특징이다.\n",
        "\n",
        "1. sort()\n",
        "2. sorted()\n",
        "3. reversed()\n"
      ]
    },
    {
      "cell_type": "markdown",
      "metadata": {
        "id": "AJ4GRRUy6bEw"
      },
      "source": [
        "sort() 와 sorted() 의 차이\n",
        "sort() 는 순서를 바꾸는것 . L에 영향을 미치지만 리턴값은 없다.\n",
        "sorted()는 바꾼 순서를 갖는것 . L에 영향을 미치지 않지만 정렬된 리턴값을 가진다."
      ]
    },
    {
      "cell_type": "code",
      "metadata": {
        "colab": {
          "base_uri": "https://localhost:8080/"
        },
        "id": "F44KO8kc6eRo",
        "outputId": "4281eb96-3e51-472c-c5cf-148ffdd79949"
      },
      "source": [
        "#sort()\n",
        "L = [1,3,2,5,6,7]\n",
        "L.sort()\n",
        "L"
      ],
      "execution_count": null,
      "outputs": [
        {
          "output_type": "execute_result",
          "data": {
            "text/plain": [
              "[1, 2, 3, 5, 6, 7]"
            ]
          },
          "metadata": {
            "tags": []
          },
          "execution_count": 1
        }
      ]
    },
    {
      "cell_type": "code",
      "metadata": {
        "colab": {
          "base_uri": "https://localhost:8080/"
        },
        "id": "DSC2r69r6rGq",
        "outputId": "ee8ecf6f-d027-423d-83bc-c33ae35ed56f"
      },
      "source": [
        "#sorted()\n",
        "L = [1,3,2,5,6,7]\n",
        "sorted(L)\n",
        "L"
      ],
      "execution_count": null,
      "outputs": [
        {
          "output_type": "execute_result",
          "data": {
            "text/plain": [
              "[1, 3, 2, 5, 6, 7]"
            ]
          },
          "metadata": {
            "tags": []
          },
          "execution_count": 2
        }
      ]
    },
    {
      "cell_type": "markdown",
      "metadata": {
        "id": "h65gv4A47McJ"
      },
      "source": [
        "* sort() : 대문자가 소문자보다 앞선다. 8이 12보다 앞선다. \n",
        "* L.sort()\n",
        "* L.sort(reverse = True)\n",
        "* L.sort(key =  값, reverse = ) : key 값을 지정함으로써 문자형일때 조건을 추가 할수 있다."
      ]
    },
    {
      "cell_type": "code",
      "metadata": {
        "colab": {
          "base_uri": "https://localhost:8080/"
        },
        "id": "JmWXfSgB7IwQ",
        "outputId": "0ecdd2ca-b4b0-4e00-945c-63eea0ac6e14"
      },
      "source": [
        "L = 'Python is a Programming Language'.split()\n",
        "L.sort()\n",
        "print(L)\n",
        "L.sort(key = str.lower)\n",
        "print(L)\n",
        "L.sort(key = str.lower, reverse = True)\n",
        "print(L)"
      ],
      "execution_count": null,
      "outputs": [
        {
          "output_type": "stream",
          "text": [
            "['Language', 'Programming', 'Python', 'a', 'is']\n",
            "['a', 'is', 'Language', 'Programming', 'Python']\n",
            "['Python', 'Programming', 'Language', 'is', 'a']\n"
          ],
          "name": "stdout"
        }
      ]
    },
    {
      "cell_type": "code",
      "metadata": {
        "colab": {
          "base_uri": "https://localhost:8080/"
        },
        "id": "YI5ONJIJdVWF",
        "outputId": "088f5759-a4c1-4aaf-ac95-bef146b8af2c"
      },
      "source": [
        "L = ['123','34','56','2345']\n",
        "L.sort()\n",
        "print(L)\n",
        "L.sort( key = int) : 문자를 정수처럼 보고 정렬해준다. \n",
        "print(L)"
      ],
      "execution_count": null,
      "outputs": [
        {
          "output_type": "stream",
          "text": [
            "['123', '2345', '34', '56']\n",
            "['34', '56', '123', '2345']\n"
          ],
          "name": "stdout"
        }
      ]
    },
    {
      "cell_type": "code",
      "metadata": {
        "colab": {
          "base_uri": "https://localhost:8080/"
        },
        "id": "87wvqWSUdVQR",
        "outputId": "05001b37-edcf-49a9-b318-451ddffcc612"
      },
      "source": [
        "L = ['123','34','56','2345']\n",
        "sorted(L, key = int)"
      ],
      "execution_count": null,
      "outputs": [
        {
          "output_type": "execute_result",
          "data": {
            "text/plain": [
              "['34', '56', '123', '2345']"
            ]
          },
          "metadata": {
            "tags": []
          },
          "execution_count": 6
        }
      ]
    },
    {
      "cell_type": "code",
      "metadata": {
        "colab": {
          "base_uri": "https://localhost:8080/"
        },
        "id": "4tZLVqvvdVGd",
        "outputId": "af7c15db-db6c-4853-e3ec-6855efaae666"
      },
      "source": [
        "#reversed() 는 정렬은 하지 않고 순서만 바꾸려고 할때\n",
        "\n",
        "L = ['123','34','56','2345']\n",
        "for ele in reversed(L):\n",
        "  print(ele)\n"
      ],
      "execution_count": null,
      "outputs": [
        {
          "output_type": "stream",
          "text": [
            "2345\n",
            "56\n",
            "34\n",
            "123\n"
          ],
          "name": "stdout"
        }
      ]
    },
    {
      "cell_type": "markdown",
      "metadata": {
        "id": "ulb1goOrdT-X"
      },
      "source": [
        "## List Comprehension"
      ]
    },
    {
      "cell_type": "code",
      "metadata": {
        "colab": {
          "base_uri": "https://localhost:8080/"
        },
        "id": "-CDJJatk_c3Z",
        "outputId": "782e21bd-5c79-44ab-b196-19be398fc548"
      },
      "source": [
        "[k*k for k in range(10)]"
      ],
      "execution_count": null,
      "outputs": [
        {
          "output_type": "execute_result",
          "data": {
            "text/plain": [
              "[0, 1, 4, 9, 16, 25, 36, 49, 64, 81]"
            ]
          },
          "metadata": {
            "tags": []
          },
          "execution_count": 14
        }
      ]
    },
    {
      "cell_type": "code",
      "metadata": {
        "colab": {
          "base_uri": "https://localhost:8080/"
        },
        "id": "B9-BT66J_hel",
        "outputId": "8cebe123-76dd-45a2-e0a4-9c8033bd4550"
      },
      "source": [
        "[k*k for k in range(10) if k%2==0]"
      ],
      "execution_count": null,
      "outputs": [
        {
          "output_type": "execute_result",
          "data": {
            "text/plain": [
              "[0, 4, 16, 36, 64]"
            ]
          },
          "metadata": {
            "tags": []
          },
          "execution_count": 15
        }
      ]
    },
    {
      "cell_type": "code",
      "metadata": {
        "colab": {
          "base_uri": "https://localhost:8080/"
        },
        "id": "fNRXccwH_8Tt",
        "outputId": "b6a326b6-58bf-46ba-df6d-765d1374eec2"
      },
      "source": [
        "sum([k*k for k in range(10)])"
      ],
      "execution_count": null,
      "outputs": [
        {
          "output_type": "execute_result",
          "data": {
            "text/plain": [
              "285"
            ]
          },
          "metadata": {
            "tags": []
          },
          "execution_count": 17
        }
      ]
    },
    {
      "cell_type": "code",
      "metadata": {
        "colab": {
          "base_uri": "https://localhost:8080/"
        },
        "id": "4hGSFk-V__00",
        "outputId": "48768b4b-8e78-456c-f98a-e70cd4f06671"
      },
      "source": [
        "sum(k*k for k in range(10))"
      ],
      "execution_count": null,
      "outputs": [
        {
          "output_type": "execute_result",
          "data": {
            "text/plain": [
              "285"
            ]
          },
          "metadata": {
            "tags": []
          },
          "execution_count": 18
        }
      ]
    },
    {
      "cell_type": "code",
      "metadata": {
        "colab": {
          "base_uri": "https://localhost:8080/"
        },
        "id": "uJMPcrx8ACjW",
        "outputId": "08146b32-d0ff-48bc-fc59-eb82539227a1"
      },
      "source": [
        "list(k*k for k in range(10))"
      ],
      "execution_count": null,
      "outputs": [
        {
          "output_type": "execute_result",
          "data": {
            "text/plain": [
              "[0, 1, 4, 9, 16, 25, 36, 49, 64, 81]"
            ]
          },
          "metadata": {
            "tags": []
          },
          "execution_count": 19
        }
      ]
    },
    {
      "cell_type": "markdown",
      "metadata": {
        "id": "W9sxqgJxAQWI"
      },
      "source": [
        "## range()"
      ]
    },
    {
      "cell_type": "code",
      "metadata": {
        "colab": {
          "base_uri": "https://localhost:8080/"
        },
        "id": "HrQGXlNpASGx",
        "outputId": "be786ecf-3f76-49c0-a364-05efbc56623d"
      },
      "source": [
        "list(range(10))"
      ],
      "execution_count": null,
      "outputs": [
        {
          "output_type": "execute_result",
          "data": {
            "text/plain": [
              "[0, 1, 2, 3, 4, 5, 6, 7, 8, 9]"
            ]
          },
          "metadata": {
            "tags": []
          },
          "execution_count": 20
        }
      ]
    },
    {
      "cell_type": "code",
      "metadata": {
        "colab": {
          "base_uri": "https://localhost:8080/"
        },
        "id": "zCjryEz7AVfR",
        "outputId": "41cf6ab6-0a88-4f8c-994a-731a9a81f744"
      },
      "source": [
        "list(range(0,-10,-1))"
      ],
      "execution_count": null,
      "outputs": [
        {
          "output_type": "execute_result",
          "data": {
            "text/plain": [
              "[0, -1, -2, -3, -4, -5, -6, -7, -8, -9]"
            ]
          },
          "metadata": {
            "tags": []
          },
          "execution_count": 21
        }
      ]
    },
    {
      "cell_type": "code",
      "metadata": {
        "colab": {
          "base_uri": "https://localhost:8080/"
        },
        "id": "miDDH64lAbT3",
        "outputId": "da7a0e08-c197-4328-b9f1-79b7140dd379"
      },
      "source": [
        "sun,mon,tue,wed,thu,fri,sat = range(7)\n",
        "sun,mon,sat\n"
      ],
      "execution_count": null,
      "outputs": [
        {
          "output_type": "execute_result",
          "data": {
            "text/plain": [
              "(0, 1, 6)"
            ]
          },
          "metadata": {
            "tags": []
          },
          "execution_count": 23
        }
      ]
    },
    {
      "cell_type": "markdown",
      "metadata": {
        "id": "54JggNZWAs7t"
      },
      "source": [
        "# 튜플 <class 'tuple'>\n",
        "\n",
        "* 변경 가능하지 않은 데이터의 묶음이다. "
      ]
    },
    {
      "cell_type": "code",
      "metadata": {
        "colab": {
          "base_uri": "https://localhost:8080/"
        },
        "id": "7KBTOkBzOBq_",
        "outputId": "4d21906d-9cbf-4889-e701-9e3eca25d724"
      },
      "source": [
        "#튜플의 선언\n",
        "a=() # 빈 튜플\n",
        "b=(1,2,3)\n",
        "t=1,2,3\n",
        "print(type(t))\n",
        "\n",
        "c=(1)\n",
        "print(type(c))\n",
        "\n",
        "d=(1,) # 데이터가 한개일 때는 반드시 쉼표가 있어야 한다.\n",
        "e =1,  # 괄호는 없어도 쉼표는 있어야 한다.\n",
        "print(type(e))"
      ],
      "execution_count": null,
      "outputs": [
        {
          "output_type": "stream",
          "text": [
            "<class 'tuple'>\n",
            "<class 'int'>\n",
            "<class 'tuple'>\n"
          ],
          "name": "stdout"
        }
      ]
    },
    {
      "cell_type": "markdown",
      "metadata": {
        "id": "zet1K_nfOo4f"
      },
      "source": [
        "## 튜플의 연산\n",
        "\n"
      ]
    },
    {
      "cell_type": "code",
      "metadata": {
        "colab": {
          "base_uri": "https://localhost:8080/"
        },
        "id": "T-fntgXOO_8P",
        "outputId": "b967a64f-3557-4b55-f3be-bf99acc116a1"
      },
      "source": [
        "# 반복하기\n",
        "t = (1,2,3)\n",
        "t*2"
      ],
      "execution_count": null,
      "outputs": [
        {
          "output_type": "execute_result",
          "data": {
            "text/plain": [
              "(1, 2, 3, 1, 2, 3)"
            ]
          },
          "metadata": {
            "tags": []
          },
          "execution_count": 5
        }
      ]
    },
    {
      "cell_type": "code",
      "metadata": {
        "colab": {
          "base_uri": "https://localhost:8080/"
        },
        "id": "rUqR5uuDPELZ",
        "outputId": "2fb912bf-c066-422a-a5a4-9c83d6984403"
      },
      "source": [
        "# 연결하기\n",
        "t = (1,2,3) + ('p',\"d\")\n",
        "t"
      ],
      "execution_count": null,
      "outputs": [
        {
          "output_type": "execute_result",
          "data": {
            "text/plain": [
              "(1, 2, 3, 'p', 'd')"
            ]
          },
          "metadata": {
            "tags": []
          },
          "execution_count": 6
        }
      ]
    },
    {
      "cell_type": "code",
      "metadata": {
        "colab": {
          "base_uri": "https://localhost:8080/"
        },
        "id": "Vg1kmIvIPSX3",
        "outputId": "b6f08200-177a-43cf-e28a-4a2e106fe880"
      },
      "source": [
        "# 인덱싱과 슬라이싱\n",
        "t = (1,2,3)\n",
        "t[0], t[1:3]"
      ],
      "execution_count": null,
      "outputs": [
        {
          "output_type": "execute_result",
          "data": {
            "text/plain": [
              "(1, (2, 3))"
            ]
          },
          "metadata": {
            "tags": []
          },
          "execution_count": 7
        }
      ]
    },
    {
      "cell_type": "code",
      "metadata": {
        "colab": {
          "base_uri": "https://localhost:8080/"
        },
        "id": "0knWt1iVPadl",
        "outputId": "71138e54-1404-40dc-c35d-84fa1c3c727f"
      },
      "source": [
        "# 길이 정보\n",
        "t = (1,2,3)\n",
        "len(t)"
      ],
      "execution_count": null,
      "outputs": [
        {
          "output_type": "execute_result",
          "data": {
            "text/plain": [
              "3"
            ]
          },
          "metadata": {
            "tags": []
          },
          "execution_count": 8
        }
      ]
    },
    {
      "cell_type": "code",
      "metadata": {
        "colab": {
          "base_uri": "https://localhost:8080/"
        },
        "id": "cSYRRFVTPezz",
        "outputId": "2d072bff-d1ce-4ec6-91e4-fcecfa6cdac8"
      },
      "source": [
        "# 멤버 검사\n",
        "t = (1,2,3)\n",
        "1 in t"
      ],
      "execution_count": null,
      "outputs": [
        {
          "output_type": "execute_result",
          "data": {
            "text/plain": [
              "True"
            ]
          },
          "metadata": {
            "tags": []
          },
          "execution_count": 9
        }
      ]
    },
    {
      "cell_type": "markdown",
      "metadata": {
        "id": "09JDTjpPPlNH"
      },
      "source": [
        "튜플은 변경 불가능한 자료형이어서 값을 변경할 수는 없다."
      ]
    },
    {
      "cell_type": "code",
      "metadata": {
        "colab": {
          "base_uri": "https://localhost:8080/",
          "height": 204
        },
        "id": "vhyg5VvLPpOX",
        "outputId": "a95095c0-6b46-4bce-f753-f092822a5209"
      },
      "source": [
        "t = (1,2,3)\n",
        "t[0]=100 # TypeError: 'tuple' object does not support item assignment\n",
        "print(t)"
      ],
      "execution_count": null,
      "outputs": [
        {
          "output_type": "error",
          "ename": "TypeError",
          "evalue": "ignored",
          "traceback": [
            "\u001b[0;31m---------------------------------------------------------------------------\u001b[0m",
            "\u001b[0;31mTypeError\u001b[0m                                 Traceback (most recent call last)",
            "\u001b[0;32m<ipython-input-10-8f015bbb0321>\u001b[0m in \u001b[0;36m<module>\u001b[0;34m()\u001b[0m\n\u001b[1;32m      1\u001b[0m \u001b[0mt\u001b[0m \u001b[0;34m=\u001b[0m \u001b[0;34m(\u001b[0m\u001b[0;36m1\u001b[0m\u001b[0;34m,\u001b[0m\u001b[0;36m2\u001b[0m\u001b[0;34m,\u001b[0m\u001b[0;36m3\u001b[0m\u001b[0;34m)\u001b[0m\u001b[0;34m\u001b[0m\u001b[0;34m\u001b[0m\u001b[0m\n\u001b[0;32m----> 2\u001b[0;31m \u001b[0mt\u001b[0m\u001b[0;34m[\u001b[0m\u001b[0;36m0\u001b[0m\u001b[0;34m]\u001b[0m\u001b[0;34m=\u001b[0m\u001b[0;36m100\u001b[0m\u001b[0;34m\u001b[0m\u001b[0;34m\u001b[0m\u001b[0m\n\u001b[0m\u001b[1;32m      3\u001b[0m \u001b[0mprint\u001b[0m\u001b[0;34m(\u001b[0m\u001b[0mt\u001b[0m\u001b[0;34m)\u001b[0m\u001b[0;34m\u001b[0m\u001b[0;34m\u001b[0m\u001b[0m\n",
            "\u001b[0;31mTypeError\u001b[0m: 'tuple' object does not support item assignment"
          ]
        }
      ]
    },
    {
      "cell_type": "code",
      "metadata": {
        "colab": {
          "base_uri": "https://localhost:8080/"
        },
        "id": "Bye2u1NqPx_t",
        "outputId": "1b615c45-da4a-4914-ed8b-30b80421baaa"
      },
      "source": [
        "#튜플 메서드\n",
        "t = (1,2,2,3,4,5,5,5)\n",
        "print(t.count(2))\n",
        "print(t.index(2))   # 2를 처음 에서 가장 낮은 인덱스 순으로 찾는다.\n",
        "print(t.index(2,2)) # 2를 인덱스 2 위치부터 찾는다."
      ],
      "execution_count": null,
      "outputs": [
        {
          "output_type": "stream",
          "text": [
            "2\n",
            "1\n",
            "2\n"
          ],
          "name": "stdout"
        }
      ]
    },
    {
      "cell_type": "code",
      "metadata": {
        "colab": {
          "base_uri": "https://localhost:8080/"
        },
        "id": "EeOIjGuxQrmX",
        "outputId": "467ccadc-d762-46ce-8278-a4e8d39fa4d8"
      },
      "source": [
        "# 중첩된 튜플\n",
        "t=(1,2,3)\n",
        "u = t, \"a\",'b','c'\n",
        "print(u)\n",
        "u[0][2]"
      ],
      "execution_count": null,
      "outputs": [
        {
          "output_type": "stream",
          "text": [
            "((1, 2, 3), 'a', 'b', 'c')\n"
          ],
          "name": "stdout"
        },
        {
          "output_type": "execute_result",
          "data": {
            "text/plain": [
              "3"
            ]
          },
          "metadata": {
            "tags": []
          },
          "execution_count": 16
        }
      ]
    },
    {
      "cell_type": "code",
      "metadata": {
        "id": "tmz55t-gQd8K"
      },
      "source": [
        "# 튜플을 이용하여 좌우 변에 복수개의 데이터를 치환 할 수 있다.\n",
        "x, y, z, = 1,2,3\n",
        "(x1, y1),(x2, y2) = (1,2), (3,4)"
      ],
      "execution_count": null,
      "outputs": []
    },
    {
      "cell_type": "code",
      "metadata": {
        "colab": {
          "base_uri": "https://localhost:8080/"
        },
        "id": "LxoDVlPbQ5g3",
        "outputId": "6aec13d6-9ab3-4fcf-e807-cb05c4a786d6"
      },
      "source": [
        "# 튜플을 이용하면 두개의 값도 쉽게 바꿀 수 있다.\n",
        "x, y =1, 2\n",
        "x, y = y, x\n",
        "x,y"
      ],
      "execution_count": null,
      "outputs": [
        {
          "output_type": "execute_result",
          "data": {
            "text/plain": [
              "(2, 1)"
            ]
          },
          "metadata": {
            "tags": []
          },
          "execution_count": 17
        }
      ]
    },
    {
      "cell_type": "markdown",
      "metadata": {
        "id": "STutVgy8RZMQ"
      },
      "source": [
        "## 패킹과 언패킹\n",
        "\n",
        "\n",
        "\n",
        "```\n",
        "패킹Packing : 한 데이터에 여러 개의 데이터를 넣는 것\n",
        "t = 1, 2, 'gg'\n",
        "\n",
        "언패킹Unpacking : 패킹과 반대로 한데이터에서 데이터를 각각 꺼내 오는 것\n",
        "x , y, z = t\n",
        "\n",
        "리스트 또한 언패킹을 지원한다.\n",
        "\n",
        "a = ['aa','bb',4,5]\n",
        "x, y, z, w = a\n",
        "```\n",
        "\n"
      ]
    },
    {
      "cell_type": "code",
      "metadata": {
        "colab": {
          "base_uri": "https://localhost:8080/",
          "height": 35
        },
        "id": "x9Y3OgXISRYI",
        "outputId": "71f70a75-f685-4d01-eb0a-13a1df0998b5"
      },
      "source": [
        "a = ['aa','bb', 4, 5]\n",
        "x, y, z, w = a\n",
        "\n",
        "y"
      ],
      "execution_count": null,
      "outputs": [
        {
          "output_type": "execute_result",
          "data": {
            "application/vnd.google.colaboratory.intrinsic+json": {
              "type": "string"
            },
            "text/plain": [
              "'bb'"
            ]
          },
          "metadata": {
            "tags": []
          },
          "execution_count": 18
        }
      ]
    },
    {
      "cell_type": "code",
      "metadata": {
        "colab": {
          "base_uri": "https://localhost:8080/"
        },
        "id": "QHm9cg7lSwiP",
        "outputId": "085bbb0a-f594-4708-c59b-cae45b86e3b5"
      },
      "source": [
        "# Extended Unpacking\n",
        "\n",
        "T = (1,2,3,4,5)\n",
        "a, *b = T\n",
        "print(a,b)\n",
        "a, b, *c = T\n",
        "print(a,b,c)\n",
        "a, *b, c = T\n",
        "print(a,b,c)    # *a 와 같은 식의 표현은 나머지 전부를 의미한다."
      ],
      "execution_count": null,
      "outputs": [
        {
          "output_type": "stream",
          "text": [
            "1 [2, 3, 4, 5]\n",
            "1 2 [3, 4, 5]\n",
            "1 [2, 3, 4] 5\n"
          ],
          "name": "stdout"
        }
      ]
    },
    {
      "cell_type": "markdown",
      "metadata": {
        "id": "5DQegLHbTTjo"
      },
      "source": [
        "## List vs Tuple\n",
        "\n",
        "* 공통점\n",
        "\n",
        "1. 임의의 객체를 저장할 수 있다는것\n",
        "\n",
        "2. 시퀀스 자료형\n",
        "\n",
        "3. 서로 변환이 쉽다.\n",
        "\n",
        "* 차이점\n",
        "\n",
        "1. 변경 불가능한 시퀀스 자료형이다.\n",
        "\n",
        "2. 함수의 가변 인수를 지원한다.\n",
        "\n",
        "\n",
        "\n"
      ]
    },
    {
      "cell_type": "code",
      "metadata": {
        "colab": {
          "base_uri": "https://localhost:8080/"
        },
        "id": "mOd99e03T5mV",
        "outputId": "bd320a66-78b8-4813-be43-afeae91daae8"
      },
      "source": [
        "# 함수의 가변인수로는 튜플만 사용 가능하다.\n",
        "\n",
        "def calc(a,b):\n",
        "  return a+b, a*b # 튜플을 반환한다.\n",
        "\n",
        "print(calc(5,4))\n",
        "\n",
        "# 두번째는 튜플에 있는 값들을 함수의 인수로 사용할 때이다.\n",
        "\n",
        "args = (4,5)\n",
        "calc(*args) # args 를 쓰면 에러가 나는 이유는 args 는 하나의 변수 이기 때문에 Unpacking 해주어야 한다.\n"
      ],
      "execution_count": null,
      "outputs": [
        {
          "output_type": "stream",
          "text": [
            "(9, 20)\n"
          ],
          "name": "stdout"
        },
        {
          "output_type": "execute_result",
          "data": {
            "text/plain": [
              "(9, 20)"
            ]
          },
          "metadata": {
            "tags": []
          },
          "execution_count": 27
        }
      ]
    },
    {
      "cell_type": "code",
      "metadata": {
        "colab": {
          "base_uri": "https://localhost:8080/",
          "height": 35
        },
        "id": "krjJ6PRtVgcS",
        "outputId": "d6b020ab-a392-4e30-b693-d227655fe836"
      },
      "source": [
        "# 서식 문자열에 데이터를 공급할 때\n",
        "\n",
        "\"%d %.2f %s\" %(12, 34.33 ,'hello')"
      ],
      "execution_count": null,
      "outputs": [
        {
          "output_type": "execute_result",
          "data": {
            "application/vnd.google.colaboratory.intrinsic+json": {
              "type": "string"
            },
            "text/plain": [
              "'12 34.33 hello'"
            ]
          },
          "metadata": {
            "tags": []
          },
          "execution_count": 30
        }
      ]
    },
    {
      "cell_type": "markdown",
      "metadata": {
        "id": "YiMe_w5iXAUd"
      },
      "source": [
        "# 집합 <class 'set'>\n",
        "\n",
        "* 집합은 여러 값을 순서 없이 그리고 중복 없이 모아 놓은 자료형이다. \n",
        "\n",
        "* 두가지 집합 자료형\n",
        "1. set 변경 가능한 집합\n",
        "2. frozenset 변경 불가능한 집합"
      ]
    },
    {
      "cell_type": "markdown",
      "metadata": {
        "id": "ggjbntCTZmLP"
      },
      "source": [
        "## set 객체 생성"
      ]
    },
    {
      "cell_type": "code",
      "metadata": {
        "colab": {
          "base_uri": "https://localhost:8080/"
        },
        "id": "TxOi4Ph4XjyX",
        "outputId": "706e7976-a28c-4f90-a86f-d256956b1efa"
      },
      "source": [
        "# 집합의 객체 생성\n",
        "a = set() # 또는 {}\n",
        "print(type(a))\n",
        "print(a) # 공집합\n",
        "\n",
        "# 반복 가능한 객체로부터 집합을 만들 수도 있다.\n",
        "# 튜플, 문자열,리스트, 사전 으로 만들수 있다.\n",
        "a = set((1,2,3))\n",
        "print(a)\n",
        "a = set('abcd')\n",
        "print(a)\n",
        "a = set([1,2,3])\n",
        "print(a)\n",
        "a = set([1,1,1,1,2,2,2,2,3,3,3]) # 리스트의 중복 제거에 사용되기도 한다.\n",
        "print(a)\n",
        "set({'a':1,'b':2,'c':3}) # 사전형은 키값을 반환한다."
      ],
      "execution_count": null,
      "outputs": [
        {
          "output_type": "stream",
          "text": [
            "<class 'set'>\n",
            "set()\n",
            "{1, 2, 3}\n",
            "{'a', 'd', 'b', 'c'}\n",
            "{1, 2, 3}\n",
            "{1, 2, 3}\n"
          ],
          "name": "stdout"
        },
        {
          "output_type": "execute_result",
          "data": {
            "text/plain": [
              "{'a', 'b', 'c'}"
            ]
          },
          "metadata": {
            "tags": []
          },
          "execution_count": 34
        }
      ]
    },
    {
      "cell_type": "code",
      "metadata": {
        "colab": {
          "base_uri": "https://localhost:8080/",
          "height": 204
        },
        "id": "hqKeKkBsXh1N",
        "outputId": "a7d7a7ed-2f61-49e3-ef60-7d09abbf3dcc"
      },
      "source": [
        "# 해시 가능이면서 변경 불가능한 자료형만이 집합의 원소로 사용할 수 있다.\n",
        "a =[1,2]\n",
        "b =[2,3]\n",
        "{a,b} # TypeError: unhashable type: 'list'"
      ],
      "execution_count": null,
      "outputs": [
        {
          "output_type": "error",
          "ename": "TypeError",
          "evalue": "ignored",
          "traceback": [
            "\u001b[0;31m---------------------------------------------------------------------------\u001b[0m",
            "\u001b[0;31mTypeError\u001b[0m                                 Traceback (most recent call last)",
            "\u001b[0;32m<ipython-input-35-05a33b4f9680>\u001b[0m in \u001b[0;36m<module>\u001b[0;34m()\u001b[0m\n\u001b[1;32m      2\u001b[0m \u001b[0ma\u001b[0m \u001b[0;34m=\u001b[0m\u001b[0;34m[\u001b[0m\u001b[0;36m1\u001b[0m\u001b[0;34m,\u001b[0m\u001b[0;36m2\u001b[0m\u001b[0;34m]\u001b[0m\u001b[0;34m\u001b[0m\u001b[0;34m\u001b[0m\u001b[0m\n\u001b[1;32m      3\u001b[0m \u001b[0mb\u001b[0m \u001b[0;34m=\u001b[0m\u001b[0;34m[\u001b[0m\u001b[0;36m2\u001b[0m\u001b[0;34m,\u001b[0m\u001b[0;36m3\u001b[0m\u001b[0;34m]\u001b[0m\u001b[0;34m\u001b[0m\u001b[0;34m\u001b[0m\u001b[0m\n\u001b[0;32m----> 4\u001b[0;31m \u001b[0;34m{\u001b[0m\u001b[0ma\u001b[0m\u001b[0;34m,\u001b[0m\u001b[0mb\u001b[0m\u001b[0;34m}\u001b[0m\u001b[0;34m\u001b[0m\u001b[0;34m\u001b[0m\u001b[0m\n\u001b[0m",
            "\u001b[0;31mTypeError\u001b[0m: unhashable type: 'list'"
          ]
        }
      ]
    },
    {
      "cell_type": "code",
      "metadata": {
        "colab": {
          "base_uri": "https://localhost:8080/"
        },
        "id": "wWchwiqppCxt",
        "outputId": "becb68b9-cdc1-4188-f016-d49cfb4bc138"
      },
      "source": [
        "# set Comprehension\n",
        "print({i*i for i in range(5)})\n",
        "\n",
        "print({v for v in 'python' if v not in 'aeiou'})"
      ],
      "execution_count": null,
      "outputs": [
        {
          "output_type": "stream",
          "text": [
            "{0, 1, 4, 9, 16}\n",
            "{'n', 'p', 't', 'h', 'y'}\n"
          ],
          "name": "stdout"
        }
      ]
    },
    {
      "cell_type": "markdown",
      "metadata": {
        "id": "0XdvRzWCZivo"
      },
      "source": [
        "## set 객체의 연산"
      ]
    },
    {
      "cell_type": "markdown",
      "metadata": {
        "id": "rPohg0ANaclE"
      },
      "source": [
        "원소추가\n",
        "1. add() 한 원소를 추가한다\n",
        "2. update() 주어진 객체에 대해 합집합 연산\n",
        "3. copy() 메서드 set 객체를 통째로 복사한다."
      ]
    },
    {
      "cell_type": "code",
      "metadata": {
        "colab": {
          "base_uri": "https://localhost:8080/"
        },
        "id": "qhU9hf4cUKsN",
        "outputId": "a38ab836-d26e-4f8f-d159-337649541e54"
      },
      "source": [
        " a = {1,2,3}\n",
        " print(len(a))\n",
        " a.add(4)\n",
        " print(a)\n",
        " a.add(3)\n",
        " print(a)\n",
        " a.update((3,4,5,6))\n",
        " print(a)\n",
        " b = a.copy()\n",
        " print(b)"
      ],
      "execution_count": null,
      "outputs": [
        {
          "output_type": "stream",
          "text": [
            "3\n",
            "{1, 2, 3, 4}\n",
            "{1, 2, 3, 4}\n",
            "{1, 2, 3, 4, 5, 6}\n",
            "{1, 2, 3, 4, 5, 6}\n"
          ],
          "name": "stdout"
        }
      ]
    },
    {
      "cell_type": "markdown",
      "metadata": {
        "id": "1fV719NbbIjo"
      },
      "source": [
        "원소 제거\n",
        "1. clear()\n",
        "2. discard()\n",
        "3. pop()\n",
        "4. remove()"
      ]
    },
    {
      "cell_type": "code",
      "metadata": {
        "colab": {
          "base_uri": "https://localhost:8080/"
        },
        "id": "FCzWbIiWar8I",
        "outputId": "8a32f370-7052-408f-c091-12240a867cd6"
      },
      "source": [
        "a = {1,2,3,4,5,6}\n",
        "a.clear() # 전체 원소를 제거 한다.\n",
        "print(a)\n",
        "\n",
        "b = {1,2,3,4,\"b\",\"c\"}\n",
        "b.discard(3)\n",
        "print(b)\n",
        "b.remove(1)\n",
        "print(b)\n",
        "# discard 와 remove 의 차이점은 discard는 없다면 break가 되지만 remove는 에러가 발생한다.\n",
        "print(b.pop())\n",
        "b.pop() # 한개의 원소 제거하면서 반환\n",
        "print(b)"
      ],
      "execution_count": null,
      "outputs": [
        {
          "output_type": "stream",
          "text": [
            "set()\n",
            "{1, 2, 4, 'c', 'b'}\n",
            "{2, 4, 'c', 'b'}\n",
            "2\n",
            "{'c', 'b'}\n"
          ],
          "name": "stdout"
        }
      ]
    },
    {
      "cell_type": "markdown",
      "metadata": {
        "id": "uU4wgqwhcJMT"
      },
      "source": [
        "## 집합의 연산\n",
        "\n",
        "1. union(합집합), intersection(교집합), difference(차집합), symmetric_difference(대칭 차집합)\n",
        "\n",
        "2. update()\n",
        "\n",
        "3. 포함 관계\n",
        "\n",
        "4. 집합 자료형의 특성: 순서가 없다 - 인덱싱과 슬라이싱, 정렬 불가\n"
      ]
    },
    {
      "cell_type": "code",
      "metadata": {
        "colab": {
          "base_uri": "https://localhost:8080/"
        },
        "id": "50mOh5qvf7qj",
        "outputId": "694d6c8a-9032-46a8-b98f-1f73cf28fa93"
      },
      "source": [
        "# 집합의 연산 기본\n",
        "\n",
        "A = {1,2,3,4,5,6}\n",
        "B = {4,5,6,7,8,9}\n",
        "C = {4,10}\n",
        "\n",
        "print(A.union(B)) # 합집합  A|B\n",
        "print(A|B)\n",
        "print(A.intersection(B)) # 교집합 A & B\n",
        "print(A & B & C)\n",
        "print(A.difference(B)) # 차집합 A - B\n",
        "print(A - B)\n",
        "print(A.symmetric_difference(B)) # 대칭 차집합 A ^ B"
      ],
      "execution_count": null,
      "outputs": [
        {
          "output_type": "stream",
          "text": [
            "{1, 2, 3, 4, 5, 6, 7, 8, 9}\n",
            "{1, 2, 3, 4, 5, 6, 7, 8, 9}\n",
            "{4, 5, 6}\n",
            "{4}\n",
            "{1, 2, 3}\n",
            "{1, 2, 3}\n",
            "{1, 2, 3, 7, 8, 9}\n"
          ],
          "name": "stdout"
        }
      ]
    },
    {
      "cell_type": "code",
      "metadata": {
        "colab": {
          "base_uri": "https://localhost:8080/"
        },
        "id": "wZE1RO3jmUxH",
        "outputId": "5db46821-8284-47fb-a261-6797a7023d09"
      },
      "source": [
        "#update()\n",
        "\n",
        "A = {1,2,3,4,5,6}\n",
        "B = {4,5,6,7,8,9}\n",
        "C = {4,10}\n",
        "\n",
        "A.update(B) # 합집합 결과 A 에 저장 : A |= B\n",
        "print(A)\n",
        "\n",
        "A = {1,2,3,4,5,6}\n",
        "A.intersection_update(B) # 교집합 : A &= B\n",
        "print(A)\n",
        "\n",
        "A = {1,2,3,4,5,6}\n",
        "A.difference_update(B) # 차집합 : A -= B\n",
        "print(A)\n",
        "\n",
        "A = {1,2,3,4,5,6}\n",
        "A.symmetric_difference_update(B) # 대칭 차집합 : A ^= B\n",
        "print(A)"
      ],
      "execution_count": null,
      "outputs": [
        {
          "output_type": "stream",
          "text": [
            "{1, 2, 3, 4, 5, 6, 7, 8, 9}\n",
            "{4, 5, 6}\n",
            "{1, 2, 3}\n",
            "{1, 2, 3, 7, 8, 9}\n"
          ],
          "name": "stdout"
        }
      ]
    },
    {
      "cell_type": "code",
      "metadata": {
        "colab": {
          "base_uri": "https://localhost:8080/"
        },
        "id": "nuIvqDoxnMbg",
        "outputId": "10d2545a-fc97-4eee-b35a-45b0ff70b1b6"
      },
      "source": [
        "# 원소와 집합의 포함 관계\n",
        "\n",
        "A = {1,2,3,4,5,6}\n",
        "print(2 in A) # 원소\n",
        "\n",
        "A = {1,2,3,4,5,6}\n",
        "B = {1,2,3}\n",
        "\n",
        "print(A.issubset(B)) # 충분조건\n",
        "print(A.issuperset(B)) # 필요조건\n",
        "\n",
        "print(A.isdisjoint(B)) # 교집합이 공집합인가? 서로 독립인가?"
      ],
      "execution_count": null,
      "outputs": [
        {
          "output_type": "stream",
          "text": [
            "True\n",
            "False\n",
            "True\n",
            "False\n"
          ],
          "name": "stdout"
        }
      ]
    },
    {
      "cell_type": "code",
      "metadata": {
        "colab": {
          "base_uri": "https://localhost:8080/"
        },
        "id": "VQqv9wcfn8_O",
        "outputId": "311bc45a-7c03-4f4e-d201-e756ff7544ac"
      },
      "source": [
        "# 집합 자료형은 인덱싱과 슬라이싱이 불가능하다.\n",
        "A = {1,2,3,4,5,6}\n",
        "#print(A[2])\n",
        "\n",
        "print(list(A)[2])\n",
        "\n",
        "# for문에서는 직접 사용 가능\n",
        "for i in A:\n",
        "  print(i)"
      ],
      "execution_count": null,
      "outputs": [
        {
          "output_type": "stream",
          "text": [
            "3\n",
            "1\n",
            "2\n",
            "3\n",
            "4\n",
            "5\n",
            "6\n"
          ],
          "name": "stdout"
        }
      ]
    },
    {
      "cell_type": "markdown",
      "metadata": {
        "id": "cvfzMpo2fwrK"
      },
      "source": [
        "## frozenset \n",
        "* 변경 가능하지 않은 집합 자료형이다.\n",
        "* 값을 변경하지 않는 범위 내에서의 set 과 같다."
      ]
    },
    {
      "cell_type": "code",
      "metadata": {
        "colab": {
          "base_uri": "https://localhost:8080/"
        },
        "id": "zcxNK5SYouS_",
        "outputId": "2d31a106-d7b4-4612-b4cf-3d7b2366ec14"
      },
      "source": [
        "# frozenset 객체의 생성 : 반복이 가능한 객체로부터 생성한다.\n",
        "A = {1,2,2,3,4}\n",
        "frozenset(A)"
      ],
      "execution_count": null,
      "outputs": [
        {
          "output_type": "execute_result",
          "data": {
            "text/plain": [
              "frozenset({1, 2, 3, 4})"
            ]
          },
          "metadata": {
            "tags": []
          },
          "execution_count": 24
        }
      ]
    },
    {
      "cell_type": "markdown",
      "metadata": {
        "id": "I6-aztXOgoPn"
      },
      "source": [
        "## 사전형 dictionaly\n",
        "\n",
        "* 딕셔너리 타입은 immutable한 키(key)와 mutable한 값(value)으로 맵핑되어 있는 순서가 없는 집합입니다."
      ]
    },
    {
      "cell_type": "markdown",
      "metadata": {
        "id": "Q8q5Y-h6goPo"
      },
      "source": [
        "### dict 객체 생성"
      ]
    },
    {
      "cell_type": "code",
      "metadata": {
        "id": "OIHwZYKLgoPo"
      },
      "source": [
        ""
      ],
      "execution_count": null,
      "outputs": []
    }
  ]
}