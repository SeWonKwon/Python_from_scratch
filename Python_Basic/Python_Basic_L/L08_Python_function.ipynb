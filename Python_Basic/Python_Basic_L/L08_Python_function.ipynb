{
 "cells": [
  {
   "cell_type": "markdown",
   "metadata": {
    "id": "bg5ZXMV2sn1M"
   },
   "source": [
    "# 함수(Function)"
   ]
  },
  {
   "cell_type": "markdown",
   "metadata": {
    "id": "Lj_iZPKnCRP0"
   },
   "source": [
    "\n",
    "\n",
    "---\n",
    "\n"
   ]
  },
  {
   "cell_type": "markdown",
   "metadata": {
    "id": "zXbENjlMCrkU"
   },
   "source": [
    "## 함수 기본"
   ]
  },
  {
   "cell_type": "markdown",
   "metadata": {},
   "source": [
    "## 함수 개념\n",
    "* 특정 값 X를 인자로 받고, 결과값을 반환:$Y= f{(X)}$\n",
    "* 함수가 필요할 때마다 호출 가능\n",
    "* 논리적인 단위로 분할 가능\n",
    "* 코드의 캡슐화(Capsulation)\n",
    "* 중복되는 소스코드를 최소화\n",
    "* 소스코드의 재 사용성을 높임\n"
   ]
  },
  {
   "cell_type": "markdown",
   "metadata": {},
   "source": [
    "<div> <img src='data:image/png;base64,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' width='300' /> </div>"
   ]
  },
  {
   "cell_type": "markdown",
   "metadata": {},
   "source": [
    "https://en.wikipedia.org/wiki/Function_(mathematics)"
   ]
  },
  {
   "cell_type": "markdown",
   "metadata": {},
   "source": [
    "### 함수를 사용하는 이유\n",
    "\n",
    "* 재사용성이 좋아지고\n",
    "* 유지보수가 편리해지고\n",
    "* 가독성이 좋아진다\n"
   ]
  },
  {
   "cell_type": "markdown",
   "metadata": {
    "id": "GWTyreZRzzmW"
   },
   "source": [
    "### 함수 선언\n",
    "\n"
   ]
  },
  {
   "cell_type": "markdown",
   "metadata": {},
   "source": [
    "```\n",
    "def 함수명(매개변수):\n",
    "    <수행문>\n",
    "    return < 반환값>\n",
    "    \n",
    "```\n"
   ]
  },
  {
   "cell_type": "markdown",
   "metadata": {},
   "source": [
    "* def: 정의(definition)의 줄임으로 사용   \n",
    "\n",
    "* 함수명: 사용자가 임의로 지정   \n",
    "\n",
    "* 함수명 컨벤션(convention)   \n",
    "    - 짧고 명료한 이름\n",
    "    - 소문자로 입력\n",
    "    - 띄어쓰기는 '' 기호 사용 (hello_world)\n",
    "    - 동사와 명사를 함께 사용 (find_name)   \n",
    "    \n",
    "    \n",
    "* 매개변수(parameter): 함수에서 입력값으로 사용하는 변수   \n",
    "\n",
    "* 반환값: 함수에서 반환할 결과값 지정   \n",
    "\n"
   ]
  },
  {
   "cell_type": "markdown",
   "metadata": {
    "id": "qQc_0nwV1YyE"
   },
   "source": [
    "### 매개변수와 반환값이 없는 함수\n",
    "\n",
    "* 함수에 매개변수와 반환값이 없이 사용 가능\n",
    "* 함수를 호출하면 함수의 수행문이 실행"
   ]
  },
  {
   "cell_type": "code",
   "execution_count": 2,
   "metadata": {
    "ExecuteTime": {
     "end_time": "2021-06-27T13:34:00.165767Z",
     "start_time": "2021-06-27T13:34:00.161764Z"
    },
    "id": "VIauKM25w6Aw"
   },
   "outputs": [
    {
     "name": "stdout",
     "output_type": "stream",
     "text": [
      "Hello Python\n"
     ]
    }
   ],
   "source": [
    "def hello():\n",
    "    print(\"Hello Python\")\n",
    "    \n",
    "hello()    "
   ]
  },
  {
   "cell_type": "markdown",
   "metadata": {
    "id": "eeldN6Kq20h4"
   },
   "source": [
    "### 매개변수만 있는 함수\n",
    "\n",
    "* 문자열 매개변수를 사용한 함수"
   ]
  },
  {
   "cell_type": "code",
   "execution_count": 4,
   "metadata": {
    "ExecuteTime": {
     "end_time": "2021-06-27T13:35:57.785252Z",
     "start_time": "2021-06-27T13:35:57.778244Z"
    },
    "id": "DhVqlr5f24Px"
   },
   "outputs": [
    {
     "name": "stdout",
     "output_type": "stream",
     "text": [
      "Hello CODE Chef~\n"
     ]
    }
   ],
   "source": [
    "def hello(string):\n",
    "    print(\"Hello\", string)\n",
    "    \n",
    "hello('CODE Chef~')"
   ]
  },
  {
   "cell_type": "markdown",
   "metadata": {
    "id": "mmzbeJNq3uMA"
   },
   "source": [
    "### 반환 값만 있는 함수\n",
    "\n",
    "* 문자열 반환 값을 사용한 함수"
   ]
  },
  {
   "cell_type": "code",
   "execution_count": 6,
   "metadata": {
    "ExecuteTime": {
     "end_time": "2021-06-27T13:37:14.206275Z",
     "start_time": "2021-06-27T13:37:14.191260Z"
    },
    "id": "hv7QPvAN33bB"
   },
   "outputs": [
    {
     "name": "stdout",
     "output_type": "stream",
     "text": [
      "Hello Python\n"
     ]
    }
   ],
   "source": [
    "def hello():\n",
    "    return \"Hello Python\"\n",
    "\n",
    "print(hello())"
   ]
  },
  {
   "cell_type": "markdown",
   "metadata": {
    "id": "KY_pW4pZ4CbM"
   },
   "source": [
    "### 매개변수와 반환 값이 있는 함수\n",
    "\n",
    "* 정수형 매개변수와 반환 값을 사용한 함수"
   ]
  },
  {
   "cell_type": "code",
   "execution_count": 8,
   "metadata": {
    "ExecuteTime": {
     "end_time": "2021-06-27T13:37:37.018555Z",
     "start_time": "2021-06-27T13:37:37.009547Z"
    },
    "id": "c3aDaQLX4Hwf"
   },
   "outputs": [
    {
     "data": {
      "text/plain": [
       "25"
      ]
     },
     "execution_count": 8,
     "metadata": {},
     "output_type": "execute_result"
    }
   ],
   "source": [
    "def square(num):\n",
    "    return num * num\n",
    "\n",
    "square(5)"
   ]
  },
  {
   "cell_type": "markdown",
   "metadata": {
    "id": "BY9mQXbf4TRK"
   },
   "source": [
    "### 매개변수가 여러개 있는 함수\n",
    "\n",
    "* 정수형 매개변수 여러개를 사용한 함수\n",
    "* 매개변수를 지정하여 호출 가능"
   ]
  },
  {
   "cell_type": "code",
   "execution_count": 11,
   "metadata": {
    "ExecuteTime": {
     "end_time": "2021-06-27T13:40:23.989086Z",
     "start_time": "2021-06-27T13:40:23.972656Z"
    },
    "id": "DBc8hUNE4YKr"
   },
   "outputs": [
    {
     "name": "stdout",
     "output_type": "stream",
     "text": [
      "13\n"
     ]
    }
   ],
   "source": [
    "def add(n1, n2):\n",
    "    return n1 + n2\n",
    "\n",
    "print(add(5, 8))"
   ]
  },
  {
   "cell_type": "markdown",
   "metadata": {
    "id": "meUZXmUR4knx"
   },
   "source": [
    "### 키워드 매개변수\n",
    "\n",
    "* 함수의 매개변수를 변수명을 지정하여 호출 가능"
   ]
  },
  {
   "cell_type": "code",
   "execution_count": 12,
   "metadata": {
    "ExecuteTime": {
     "end_time": "2021-06-27T13:40:25.912877Z",
     "start_time": "2021-06-27T13:40:25.906830Z"
    },
    "id": "k0FipvNp4pXl"
   },
   "outputs": [
    {
     "name": "stdout",
     "output_type": "stream",
     "text": [
      "13\n"
     ]
    }
   ],
   "source": [
    "def add(n1, n2):\n",
    "    return n1 + n2\n",
    "\n",
    "print(add(n2 = 5, n1 = 8))"
   ]
  },
  {
   "cell_type": "markdown",
   "metadata": {
    "id": "3f_8Jxyh5EKA"
   },
   "source": [
    "### 가변 매개변수\n",
    "\n",
    "* 매개변수가 몇 개인지 알 수 없을 때 사용\n",
    "* 매개변수 앞에 '*'을 표시"
   ]
  },
  {
   "cell_type": "code",
   "execution_count": 16,
   "metadata": {
    "ExecuteTime": {
     "end_time": "2021-06-27T13:45:04.205375Z",
     "start_time": "2021-06-27T13:45:04.194365Z"
    },
    "id": "uVpBRKq65JLe"
   },
   "outputs": [
    {
     "name": "stdout",
     "output_type": "stream",
     "text": [
      "<class 'tuple'>\n",
      "1\n",
      "2\n",
      "3\n",
      "4\n",
      "5\n",
      "6\n"
     ]
    },
    {
     "data": {
      "text/plain": [
       "21"
      ]
     },
     "execution_count": 16,
     "metadata": {},
     "output_type": "execute_result"
    }
   ],
   "source": [
    "def sum(*args):\n",
    "    result = 0 \n",
    "    print(type(args))\n",
    "    for i in args:\n",
    "        print(i)\n",
    "        result += i\n",
    "    return result\n",
    "\n",
    "sum(1, 2, 3, 4, 5, 6)"
   ]
  },
  {
   "cell_type": "markdown",
   "metadata": {
    "id": "czo-wmdL5YRR"
   },
   "source": [
    "### 가변 키워드 매개변수\n",
    "\n",
    "* 매개변수의 이름을 따로 지정하지 않고 사용\n",
    "* 매개변수 앞에 '**'을 표시\n",
    "* kwargs : keyword arguments"
   ]
  },
  {
   "cell_type": "code",
   "execution_count": 19,
   "metadata": {
    "ExecuteTime": {
     "end_time": "2021-06-27T13:47:14.002843Z",
     "start_time": "2021-06-27T13:47:13.987829Z"
    },
    "id": "jcPIBpWF5d9N"
   },
   "outputs": [
    {
     "name": "stdout",
     "output_type": "stream",
     "text": [
      "<class 'dict'>\n",
      "{'n1': 5, 'n2': 8}\n",
      "<class 'dict'>\n",
      "{'id': 'CodeChef', 'pw': '1234'}\n"
     ]
    }
   ],
   "source": [
    "def print_kwargs(**kwargs):\n",
    "    print(type(kwargs))\n",
    "    print(kwargs)\n",
    "    \n",
    "print_kwargs(n1 = 5, n2 = 8)\n",
    "print_kwargs(id = \"CodeChef\", pw = '1234')"
   ]
  },
  {
   "cell_type": "markdown",
   "metadata": {
    "id": "BcE5o1GR5ugB"
   },
   "source": [
    "### 초기값 매개변수\n",
    "\n",
    "* 매개변수에 초기값을 설정하여 사용\n",
    "* 함수에 매개변수를 사용하지 않을 때 초기값을 사용"
   ]
  },
  {
   "cell_type": "code",
   "execution_count": 26,
   "metadata": {
    "ExecuteTime": {
     "end_time": "2021-06-27T13:49:53.675465Z",
     "start_time": "2021-06-27T13:49:53.665455Z"
    },
    "id": "Wdsz0tcZ50s_"
   },
   "outputs": [
    {
     "name": "stdout",
     "output_type": "stream",
     "text": [
      "4\n",
      "9\n",
      "32\n",
      "256\n"
     ]
    }
   ],
   "source": [
    "def power(b = 2, n = 2):\n",
    "    return pow(b, n)\n",
    "\n",
    "print(power())\n",
    "print(power(3))\n",
    "print(power(n = 5))\n",
    "print(power(4, 4))"
   ]
  },
  {
   "cell_type": "markdown",
   "metadata": {
    "id": "zEmGFAyv6ARs"
   },
   "source": [
    "### 여러 반환 값이 있는 함수\n",
    "\n",
    "* 함수의 반환값은 하나\n",
    "* 여러 반환값을 사용할 경우 튜플 형태로 반환"
   ]
  },
  {
   "cell_type": "code",
   "execution_count": 30,
   "metadata": {
    "ExecuteTime": {
     "end_time": "2021-06-27T13:51:59.870432Z",
     "start_time": "2021-06-27T13:51:59.863426Z"
    },
    "id": "4uA_PmQR6FW5"
   },
   "outputs": [
    {
     "name": "stdout",
     "output_type": "stream",
     "text": [
      "(13, 3)\n",
      "13\n",
      "3\n"
     ]
    }
   ],
   "source": [
    "def plus_and_minus(n1, n2):\n",
    "    return n1 + n2, n1 - n2\n",
    "\n",
    "result = plus_and_minus(8, 5)\n",
    "print(result)\n",
    "\n",
    "result1, result2 = plus_and_minus(8, 5)\n",
    "print(result1) \n",
    "print(result2)"
   ]
  },
  {
   "cell_type": "markdown",
   "metadata": {
    "id": "XM8NFJC96cX7"
   },
   "source": [
    "### [Lab] 계산기 함수\n",
    "\n",
    "* 두 수에 대해서 덧셈, 뺄셈, 곱셈, 나눗셈을 수행하는 함수"
   ]
  },
  {
   "cell_type": "code",
   "execution_count": 31,
   "metadata": {
    "ExecuteTime": {
     "end_time": "2021-06-27T13:58:11.533176Z",
     "start_time": "2021-06-27T13:58:11.518083Z"
    },
    "id": "XDXeVHIJ6gpm"
   },
   "outputs": [
    {
     "name": "stdout",
     "output_type": "stream",
     "text": [
      "13\n",
      "32\n"
     ]
    }
   ],
   "source": [
    "def calc(op, n1, n2):\n",
    "    result = 0    \n",
    "    if op == '+':\n",
    "        result = n1 + n2\n",
    "    elif op == '-':\n",
    "        result = n1 - n2\n",
    "    elif op == '*':\n",
    "        result = n1 * n2\n",
    "    elif op == '/':\n",
    "        result = n1 / n2\n",
    "    \n",
    "    return result\n",
    "\n",
    "print(calc('+', 8, 5))\n",
    "print(calc('*', 8, 4))"
   ]
  },
  {
   "cell_type": "markdown",
   "metadata": {
    "id": "GXfPMgdV696x"
   },
   "source": [
    "### [Lab] 가변 매개변수의 평균값 계산\n",
    "\n",
    "* 가변 매개변수로 들어오는 모든 수의 평균값 계산"
   ]
  },
  {
   "cell_type": "code",
   "execution_count": 34,
   "metadata": {
    "ExecuteTime": {
     "end_time": "2021-06-27T14:00:08.446837Z",
     "start_time": "2021-06-27T14:00:08.438828Z"
    },
    "id": "xgVFwpIm7CPY"
   },
   "outputs": [
    {
     "name": "stdout",
     "output_type": "stream",
     "text": [
      "3.0\n"
     ]
    }
   ],
   "source": [
    "def avg(*args):\n",
    "    sum = 0 \n",
    "    for i in args:\n",
    "        sum += i\n",
    "    return (sum / len(args))\n",
    "\n",
    "print(avg(1, 2, 3, 4, 5))"
   ]
  },
  {
   "cell_type": "markdown",
   "metadata": {
    "id": "G8OTXx4aw7mY"
   },
   "source": [
    "\n",
    "\n",
    "---\n",
    "\n"
   ]
  },
  {
   "cell_type": "markdown",
   "metadata": {
    "id": "4y7j6wwPw9zd"
   },
   "source": [
    "## 변수의 유효범위\n"
   ]
  },
  {
   "cell_type": "markdown",
   "metadata": {
    "id": "UjzGwc9D7b9d"
   },
   "source": [
    "### 유효 범위\n",
    "\n",
    "* 변수는 유효한 범위가 존재\n",
    "* 함수 안에서 선언된 변수는 함수 내부에서 유효함"
   ]
  },
  {
   "cell_type": "code",
   "execution_count": 38,
   "metadata": {
    "ExecuteTime": {
     "end_time": "2021-06-27T14:04:42.211398Z",
     "start_time": "2021-06-27T14:04:42.194381Z"
    },
    "id": "vvew4Dhq7gYv"
   },
   "outputs": [
    {
     "name": "stdout",
     "output_type": "stream",
     "text": [
      "10\n"
     ]
    }
   ],
   "source": [
    "def var_scope(a):\n",
    "    a = a + 1\n",
    "    \n",
    "a = 10\n",
    "\n",
    "var_scope(a)\n",
    "print(a)"
   ]
  },
  {
   "cell_type": "markdown",
   "metadata": {
    "id": "7O3U3dYT7nXD"
   },
   "source": [
    "### 변수의 종류\n",
    "\n",
    "* 지역 변수: 한정된 지역에서만 사용되는 변수\n",
    "* 전역 변수: 프로그램 전체에서 사용되는 변수"
   ]
  },
  {
   "cell_type": "code",
   "execution_count": 40,
   "metadata": {
    "ExecuteTime": {
     "end_time": "2021-06-27T14:07:05.703544Z",
     "start_time": "2021-06-27T14:07:05.696073Z"
    },
    "id": "dhTOG0Uj7tOL"
   },
   "outputs": [
    {
     "name": "stdout",
     "output_type": "stream",
     "text": [
      "20\n",
      "10\n"
     ]
    }
   ],
   "source": [
    "a = 10 \n",
    "def func1():\n",
    "    a = 20 \n",
    "    print(a) # 지역 변수 \n",
    "    \n",
    "def func2():\n",
    "    print(a) # 전역 변수\n",
    "    \n",
    "func1()\n",
    "func2()\n"
   ]
  },
  {
   "cell_type": "markdown",
   "metadata": {
    "id": "3-OF8own71vk"
   },
   "source": [
    "### 전역 변수 사용 global\n",
    "\n",
    "* 함수 내부에서 전역 변수를 사용하기 위한 `global` 키워드"
   ]
  },
  {
   "cell_type": "code",
   "execution_count": 41,
   "metadata": {
    "ExecuteTime": {
     "end_time": "2021-06-27T14:08:36.611016Z",
     "start_time": "2021-06-27T14:08:36.600005Z"
    },
    "id": "J_P_WGSr75jp"
   },
   "outputs": [
    {
     "name": "stdout",
     "output_type": "stream",
     "text": [
      "20\n",
      "20\n"
     ]
    }
   ],
   "source": [
    "a = 10 \n",
    "\n",
    "a = 10 \n",
    "def func1():\n",
    "    global a\n",
    "    a = 20 \n",
    "    print(a) # 전역 변수 by global\n",
    "    \n",
    "def func2():\n",
    "    print(a) # 전역 변수\n",
    "    \n",
    "func1()\n",
    "func2()\n"
   ]
  },
  {
   "cell_type": "markdown",
   "metadata": {
    "id": "NxjgnIKoxGkH"
   },
   "source": [
    "\n",
    "\n",
    "---\n",
    "\n"
   ]
  },
  {
   "cell_type": "markdown",
   "metadata": {
    "id": "8x-oWtbBxCpE"
   },
   "source": [
    "## 함수 심화"
   ]
  },
  {
   "cell_type": "markdown",
   "metadata": {
    "id": "GbFr5qM78B41"
   },
   "source": [
    "### 내부 함수(Nested Function)\n",
    "\n",
    "* 함수 안에 함수가 존재\n",
    "* 내부 함수는 외부에서 호출 불가"
   ]
  },
  {
   "cell_type": "code",
   "execution_count": 46,
   "metadata": {
    "ExecuteTime": {
     "end_time": "2021-06-27T14:12:32.363929Z",
     "start_time": "2021-06-27T14:12:32.349917Z"
    },
    "id": "6aBHDw7x8Gr5"
   },
   "outputs": [
    {
     "name": "stdout",
     "output_type": "stream",
     "text": [
      "13\n"
     ]
    }
   ],
   "source": [
    "def func1(n1, n2):\n",
    "    def func2(num1, num2):\n",
    "        return num1 +  num2\n",
    "    \n",
    "    return func2(n1, n2)\n",
    "\n",
    "print(func1(5, 8))\n",
    "# print(func2(5, 8))"
   ]
  },
  {
   "cell_type": "markdown",
   "metadata": {
    "id": "RMlNesEi87cD"
   },
   "source": [
    "### 재귀 함수(Recursive Function)\n",
    "\n",
    "* 함수가 자기 자신을 다시 부르는 함수\n",
    "* `count()` 함수 내부에서 `count()` 함수를 호출\n",
    "* 재귀적으로 카운트 수를 출력"
   ]
  },
  {
   "cell_type": "code",
   "execution_count": 48,
   "metadata": {
    "ExecuteTime": {
     "end_time": "2021-06-27T14:13:39.252505Z",
     "start_time": "2021-06-27T14:13:39.247500Z"
    },
    "id": "ATwXBqDH9Fuk"
   },
   "outputs": [
    {
     "name": "stdout",
     "output_type": "stream",
     "text": [
      "10 9 8 7 6 5 4 3 2 1 꽝\n"
     ]
    }
   ],
   "source": [
    "def count(n):\n",
    "    if n >= 1:\n",
    "        print(n, end=' ')\n",
    "        count(n-1)\n",
    "    else:\n",
    "        print('꽝')\n",
    "        return \n",
    "    \n",
    "count(10)"
   ]
  },
  {
   "cell_type": "markdown",
   "metadata": {
    "id": "8GTG0ukpIfRm"
   },
   "source": [
    "#### [Lab] 재귀 함수를 이용한 합계\n",
    "\n",
    "* `sum()` 함수 내부에서 `sum()` 함수를 호출\n",
    "* 재귀적으로 합계를 계산"
   ]
  },
  {
   "cell_type": "code",
   "execution_count": 52,
   "metadata": {
    "ExecuteTime": {
     "end_time": "2021-06-27T14:15:57.812858Z",
     "start_time": "2021-06-27T14:15:57.806152Z"
    },
    "id": "5oIubHWwHj_j"
   },
   "outputs": [
    {
     "data": {
      "text/plain": [
       "55"
      ]
     },
     "execution_count": 52,
     "metadata": {},
     "output_type": "execute_result"
    }
   ],
   "source": [
    "def recursive_sum(n):\n",
    "    if n == 1:\n",
    "        return 1\n",
    "    else: \n",
    "        return recursive_sum(n-1) + n\n",
    "\n",
    "recursive_sum(10)"
   ]
  },
  {
   "cell_type": "markdown",
   "metadata": {
    "id": "fB5LHNGv9v_U"
   },
   "source": [
    "#### [Lab] 팩토리얼 함수(Factorial Function)\n",
    "\n",
    "* 팩토리얼(factorial) 함수는 대표적인 재귀 함수\n",
    "* 팩토리얼 함수: $n!=1 \\times 2 \\times 3 \\dots (n-2) \\times (n-1) \\times n = n! = n \\times (n-1)!$"
   ]
  },
  {
   "cell_type": "code",
   "execution_count": 55,
   "metadata": {
    "ExecuteTime": {
     "end_time": "2021-06-27T14:18:33.263322Z",
     "start_time": "2021-06-27T14:18:33.246307Z"
    },
    "id": "Mh_3nSfC9ggl"
   },
   "outputs": [
    {
     "data": {
      "text/plain": [
       "120"
      ]
     },
     "execution_count": 55,
     "metadata": {},
     "output_type": "execute_result"
    }
   ],
   "source": [
    "def recursive_factorial(n):\n",
    "    if n == 1:\n",
    "        return 1\n",
    "    else:\n",
    "        return recursive_factorial(n-1) * n\n",
    "    \n",
    "recursive_factorial(5)\n",
    "    "
   ]
  },
  {
   "cell_type": "markdown",
   "metadata": {
    "id": "zxfnzzyh_CVn"
   },
   "source": [
    "### 람다 함수(Lambda Function)\n",
    "\n",
    "* 함수를 한 줄로 간결하게 만들어 사용"
   ]
  },
  {
   "cell_type": "markdown",
   "metadata": {},
   "source": [
    "`lambda 입력값 : 리턴값`"
   ]
  },
  {
   "cell_type": "markdown",
   "metadata": {
    "ExecuteTime": {
     "end_time": "2021-07-02T13:58:55.808447Z",
     "start_time": "2021-07-02T13:58:55.795436Z"
    }
   },
   "source": [
    "`lambda x : 'A' if x.split('')[0]=='A' else 'B'` "
   ]
  },
  {
   "cell_type": "code",
   "execution_count": 57,
   "metadata": {
    "ExecuteTime": {
     "end_time": "2021-06-27T14:20:27.859979Z",
     "start_time": "2021-06-27T14:20:27.842526Z"
    },
    "id": "Dm05soHF-7O1"
   },
   "outputs": [
    {
     "name": "stdout",
     "output_type": "stream",
     "text": [
      "13\n"
     ]
    },
    {
     "data": {
      "text/plain": [
       "14"
      ]
     },
     "execution_count": 57,
     "metadata": {},
     "output_type": "execute_result"
    }
   ],
   "source": [
    "def add(n1, n2):\n",
    "    return n1 + n2\n",
    "\n",
    "print(add(5, 8))\n",
    "\n",
    "add2 = lambda n1, n2 : n1 + n2\n",
    "\n",
    "add2(5, 9)"
   ]
  },
  {
   "cell_type": "markdown",
   "metadata": {
    "id": "Rwi3kI22_tMu"
   },
   "source": [
    "#### map()\n",
    "\n",
    "* `map()`: built-in 함수로 list 나 dictionary 와 같은 iterable 한 데이터를 인자로 받아 list 안의 개별 item을 함수의 인자로 전달하여 결과를 list로 형태로 반환해 주는 함수\n",
    "* 람다 함수와 `map()` 함수를 이용한 리스트 계산"
   ]
  },
  {
   "cell_type": "code",
   "execution_count": 67,
   "metadata": {
    "ExecuteTime": {
     "end_time": "2021-06-27T14:25:36.960620Z",
     "start_time": "2021-06-27T14:25:34.603781Z"
    },
    "id": "1TajyYRT_Sld"
   },
   "outputs": [
    {
     "name": "stdout",
     "output_type": "stream",
     "text": [
      "1 2 3\n",
      "1 2 3\n"
     ]
    }
   ],
   "source": [
    "a,b,c  = map(int, input().split())\n",
    "print(a, b, c)"
   ]
  },
  {
   "cell_type": "code",
   "execution_count": 62,
   "metadata": {
    "ExecuteTime": {
     "end_time": "2021-06-27T14:23:45.786128Z",
     "start_time": "2021-06-27T14:23:45.771114Z"
    }
   },
   "outputs": [
    {
     "name": "stdout",
     "output_type": "stream",
     "text": [
      "[1, 4, 9, 16, 25]\n"
     ]
    }
   ],
   "source": [
    "li = [1, 2, 3, 4, 5]\n",
    "square = lambda n : n * n\n",
    "li = list(map(square, li))\n",
    "print(li)"
   ]
  },
  {
   "cell_type": "code",
   "execution_count": 68,
   "metadata": {
    "ExecuteTime": {
     "end_time": "2021-06-27T14:26:56.208914Z",
     "start_time": "2021-06-27T14:26:56.198905Z"
    },
    "id": "tSiiIydTABWe"
   },
   "outputs": [
    {
     "data": {
      "text/plain": [
       "[3, 5, 7, 9, 11]"
      ]
     },
     "execution_count": 68,
     "metadata": {},
     "output_type": "execute_result"
    }
   ],
   "source": [
    "li_1 = [1, 2, 3, 4, 5]\n",
    "li_2 = [2, 3, 4, 5, 6]\n",
    "li = list(map(lambda n_1, n_2 : n_1 + n_2, li_1, li_2))\n",
    "li"
   ]
  },
  {
   "cell_type": "markdown",
   "metadata": {
    "id": "GjjDPmSgGST7"
   },
   "source": [
    "### filter()\n",
    "\n",
    "* `filter()` 함수: iterable 한 데이터를 인자로 개별 item을 특정 조건에 해당하는 값으로만 필터링\n",
    "* 람다 함수와 `filter()` 함수를 이용한 리스트 필터링"
   ]
  },
  {
   "cell_type": "code",
   "execution_count": 72,
   "metadata": {
    "ExecuteTime": {
     "end_time": "2021-06-27T14:29:46.718617Z",
     "start_time": "2021-06-27T14:29:46.702699Z"
    },
    "id": "Uplpmb0kGMVt"
   },
   "outputs": [
    {
     "name": "stdout",
     "output_type": "stream",
     "text": [
      "[0, 1, 2, 3, 4, 5, 6, 7, 8, 9]\n"
     ]
    },
    {
     "data": {
      "text/plain": [
       "[0, 2, 4, 6, 8]"
      ]
     },
     "execution_count": 72,
     "metadata": {},
     "output_type": "execute_result"
    }
   ],
   "source": [
    "li = list(range(10))\n",
    "print(li)\n",
    "evens = filter(lambda n : n % 2 == 0, li)\n",
    "list(evens)"
   ]
  },
  {
   "cell_type": "markdown",
   "metadata": {
    "id": "upgP4WxEG347"
   },
   "source": [
    "### reduce()\n",
    "\n",
    "* reduce() 함수: iterable 한 데이터를 인자로 받아 개별 item을 축약하여 하나의 값으로 만들어 가는 과정\n",
    "* 람다 함수와 reduce() 함수를 이용한 리스트 계산"
   ]
  },
  {
   "cell_type": "code",
   "execution_count": 76,
   "metadata": {
    "ExecuteTime": {
     "end_time": "2021-06-27T14:34:00.719406Z",
     "start_time": "2021-06-27T14:34:00.715403Z"
    },
    "id": "7-O3VyyYGexM"
   },
   "outputs": [
    {
     "name": "stdout",
     "output_type": "stream",
     "text": [
      "[0, 1, 2, 3, 4, 5, 6, 7, 8, 9]\n",
      "45\n",
      "10\n",
      "9\n"
     ]
    }
   ],
   "source": [
    "import functools\n",
    "li = list(range(10))\n",
    "print(li)\n",
    "sum = functools.reduce(lambda x, y: x + y, li)\n",
    "print(sum)\n",
    "len = functools.reduce(lambda x, y: x + 1, li, 0)\n",
    "print(len)\n",
    "max = functools.reduce(lambda x, y: x if x > y else y, li)\n",
    "print(max)"
   ]
  },
  {
   "cell_type": "markdown",
   "metadata": {
    "id": "QJg6wYdSHKFh"
   },
   "source": [
    "## 제너레이터(generator)와 yield\n",
    "\n",
    "* 함수 안에서 yield를 사용하면 제너레이터\n",
    "* yield: 함수를 끝내지 않고 값을 계속 반환\n",
    "* 예를 들면 : range(10)"
   ]
  },
  {
   "cell_type": "code",
   "execution_count": 81,
   "metadata": {
    "ExecuteTime": {
     "end_time": "2021-06-27T14:36:14.409387Z",
     "start_time": "2021-06-27T14:36:14.400379Z"
    },
    "id": "iI142ekSHH5z"
   },
   "outputs": [
    {
     "name": "stdout",
     "output_type": "stream",
     "text": [
      "<generator object gen at 0x0000019CAFE2B200>\n",
      "range(0, 10)\n",
      "[1, 2, 3]\n"
     ]
    }
   ],
   "source": [
    "def gen():\n",
    "    yield 1\n",
    "    yield 2\n",
    "    yield 3\n",
    "\n",
    "\n",
    "print(gen())\n",
    "print(range(10))\n",
    "print(list(gen()))"
   ]
  },
  {
   "cell_type": "code",
   "execution_count": 80,
   "metadata": {
    "ExecuteTime": {
     "end_time": "2021-06-27T14:35:31.340994Z",
     "start_time": "2021-06-27T14:35:31.330986Z"
    },
    "id": "aVpEaM_jHX0_"
   },
   "outputs": [
    {
     "name": "stdout",
     "output_type": "stream",
     "text": [
      "1\n",
      "2\n",
      "3\n"
     ]
    }
   ],
   "source": [
    "for i in gen():\n",
    "    print(i)"
   ]
  },
  {
   "cell_type": "code",
   "execution_count": 82,
   "metadata": {
    "ExecuteTime": {
     "end_time": "2021-06-27T14:36:38.734387Z",
     "start_time": "2021-06-27T14:36:38.723378Z"
    },
    "id": "phpfTn9gHeUy"
   },
   "outputs": [
    {
     "name": "stdout",
     "output_type": "stream",
     "text": [
      "1\n",
      "2\n",
      "3\n"
     ]
    }
   ],
   "source": [
    "g = gen()\n",
    "print(next(g))\n",
    "print(next(g))\n",
    "print(next(g))"
   ]
  },
  {
   "cell_type": "markdown",
   "metadata": {
    "id": "vCwxB_lyIv5D"
   },
   "source": [
    "### [Lab] 짝수만 생성하는 제너레이터\n",
    "\n",
    "* 0 ~ n개의 숫자 중에서 짝수만 생성하는 제너레이터 함수 생성"
   ]
  },
  {
   "cell_type": "code",
   "execution_count": 84,
   "metadata": {
    "ExecuteTime": {
     "end_time": "2021-06-27T14:37:53.880979Z",
     "start_time": "2021-06-27T14:37:53.869971Z"
    },
    "id": "U3T8U0tpItDl"
   },
   "outputs": [
    {
     "name": "stdout",
     "output_type": "stream",
     "text": [
      "0\n",
      "2\n",
      "4\n",
      "6\n",
      "8\n"
     ]
    }
   ],
   "source": [
    "def gen_even(n):\n",
    "    for i in range(n):\n",
    "        if i % 2 == 0:\n",
    "            yield i\n",
    "            \n",
    "for i in gen_even(10):\n",
    "    print(i)"
   ]
  }
 ],
 "metadata": {
  "colab": {
   "collapsed_sections": [],
   "name": "_07 함수.ipynb",
   "provenance": [],
   "toc_visible": true
  },
  "kernelspec": {
   "display_name": "Python 3",
   "language": "python",
   "name": "python3"
  },
  "language_info": {
   "codemirror_mode": {
    "name": "ipython",
    "version": 3
   },
   "file_extension": ".py",
   "mimetype": "text/x-python",
   "name": "python",
   "nbconvert_exporter": "python",
   "pygments_lexer": "ipython3",
   "version": "3.8.5"
  },
  "toc": {
   "base_numbering": 1,
   "nav_menu": {},
   "number_sections": true,
   "sideBar": true,
   "skip_h1_title": false,
   "title_cell": "Table of Contents",
   "title_sidebar": "Contents",
   "toc_cell": false,
   "toc_position": {
    "height": "calc(100% - 180px)",
    "left": "10px",
    "top": "150px",
    "width": "393.333px"
   },
   "toc_section_display": true,
   "toc_window_display": false
  }
 },
 "nbformat": 4,
 "nbformat_minor": 1
}
