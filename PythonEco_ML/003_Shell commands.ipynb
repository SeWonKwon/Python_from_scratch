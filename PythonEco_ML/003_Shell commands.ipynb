{
 "cells": [
  {
   "cell_type": "markdown",
   "metadata": {
    "id": "yCRnab5c_mBh"
   },
   "source": [
    "## 매직 명령어(magic commands)\n",
    "\n",
    "* Jupyter Notebook 환경에서 파이썬 파일 저장 및 실행"
   ]
  },
  {
   "cell_type": "code",
   "execution_count": 12,
   "metadata": {
    "colab": {
     "base_uri": "https://localhost:8080/"
    },
    "id": "t6ufEi9q_qS4",
    "outputId": "e8856d11-9c3e-4a97-f779-be8250a0ae02"
   },
   "outputs": [
    {
     "name": "stdout",
     "output_type": "stream",
     "text": [
      "Overwriting test.py\n"
     ]
    }
   ],
   "source": [
    "%%writefile test.py\n",
    "print('magic command')"
   ]
  },
  {
   "cell_type": "code",
   "execution_count": 13,
   "metadata": {
    "colab": {
     "base_uri": "https://localhost:8080/"
    },
    "id": "GVRuezjk_wLD",
    "outputId": "b342ac6a-f2b6-49b3-c89b-9679cbb41ff1"
   },
   "outputs": [
    {
     "name": "stdout",
     "output_type": "stream",
     "text": [
      "magic command\n"
     ]
    }
   ],
   "source": [
    "%run test.py"
   ]
  },
  {
   "cell_type": "markdown",
   "metadata": {
    "id": "MzKD0owDXs7r"
   },
   "source": [
    "* 코드 실행 시간 측정\n",
    "  - % 가 한개 일때는 단일문\n",
    "  - %% 여러줄의 코드문"
   ]
  },
  {
   "cell_type": "code",
   "execution_count": 14,
   "metadata": {
    "id": "YfO_C9-2bQRn"
   },
   "outputs": [],
   "source": [
    "%%timeit?"
   ]
  },
  {
   "cell_type": "code",
   "execution_count": 15,
   "metadata": {
    "colab": {
     "base_uri": "https://localhost:8080/"
    },
    "id": "Yj-cfvBVWuf-",
    "outputId": "489f7673-5d9a-4a11-aced-19c5215925e0"
   },
   "outputs": [
    {
     "name": "stdout",
     "output_type": "stream",
     "text": [
      "5.07 ms ± 36.3 µs per loop (mean ± std. dev. of 7 runs, 100 loops each)\n"
     ]
    }
   ],
   "source": [
    "%timeit li = [n ** n for n in range(1000)]"
   ]
  },
  {
   "cell_type": "code",
   "execution_count": 16,
   "metadata": {
    "colab": {
     "base_uri": "https://localhost:8080/"
    },
    "id": "RbEaBBjaYHDM",
    "outputId": "c1f6f875-631b-4be5-85a1-00b41d3774ae"
   },
   "outputs": [
    {
     "name": "stdout",
     "output_type": "stream",
     "text": [
      "5.08 ms ± 20.4 µs per loop (mean ± std. dev. of 7 runs, 100 loops each)\n"
     ]
    }
   ],
   "source": [
    "%%timeit\n",
    "li = []\n",
    "for n in range(1000):\n",
    "  li.append(n ** n)"
   ]
  },
  {
   "cell_type": "code",
   "execution_count": 26,
   "metadata": {
    "colab": {
     "base_uri": "https://localhost:8080/"
    },
    "id": "GiVkb35YuQTL",
    "outputId": "9f7d3b28-2ce0-49c2-d069-bee41ea7691e"
   },
   "outputs": [
    {
     "name": "stdout",
     "output_type": "stream",
     "text": [
      "   1: help(max)\n",
      "   2: max?\n",
      "   3:\n",
      "li = ['one', 'tow', 'three']\n",
      "li?\n",
      "   4: li.count?\n",
      "   5:\n",
      "def power(b, n):\n",
      "  \"\"\"b의 n승을 반환\"\"\"\n",
      "  return pow(b, n)\n",
      "   6: power(2, 4)\n",
      "   7:\n",
      "# Docstring 소환\n",
      "power?\n"
     ]
    }
   ],
   "source": [
    "%history -n 1-7"
   ]
  },
  {
   "cell_type": "markdown",
   "metadata": {
    "id": "1oOEYT9Zu8Yo"
   },
   "source": [
    "* `%rerun`을 이용해 이전 입력 이력 다시 실행"
   ]
  },
  {
   "cell_type": "code",
   "execution_count": 27,
   "metadata": {
    "colab": {
     "base_uri": "https://localhost:8080/"
    },
    "id": "ZWLXBxdtvCOV",
    "outputId": "66fc3517-9586-4ab9-e7db-c4e22db12a52"
   },
   "outputs": [
    {
     "name": "stdout",
     "output_type": "stream",
     "text": [
      "=== Executing: ===\n",
      "%history -n 1-7\n",
      "=== Output: ===\n",
      "   1: help(max)\n",
      "   2: max?\n",
      "   3:\n",
      "li = ['one', 'tow', 'three']\n",
      "li?\n",
      "   4: li.count?\n",
      "   5:\n",
      "def power(b, n):\n",
      "  \"\"\"b의 n승을 반환\"\"\"\n",
      "  return pow(b, n)\n",
      "   6: power(2, 4)\n",
      "   7:\n",
      "# Docstring 소환\n",
      "power?\n"
     ]
    }
   ],
   "source": [
    "%rerun"
   ]
  },
  {
   "cell_type": "markdown",
   "metadata": {
    "id": "LzKq5kwvds25"
   },
   "source": [
    "## 셸 명령어\n",
    "\n",
    "* 텍스트 기반의 셸 명령어 처리\n",
    "* `!` 문자를 명령어 앞에 붙여서 셸 명령어 사용 가능"
   ]
  },
  {
   "cell_type": "markdown",
   "metadata": {
    "id": "oFThpCCPhm45"
   },
   "source": [
    "* `ls`: 디렉토리 리스트 보기"
   ]
  },
  {
   "cell_type": "code",
   "execution_count": 32,
   "metadata": {
    "colab": {
     "base_uri": "https://localhost:8080/"
    },
    "id": "7iAgViCpdvh9",
    "outputId": "bbdc3385-3f39-4c87-b1c5-fcae19a307bd"
   },
   "outputs": [
    {
     "name": "stderr",
     "output_type": "stream",
     "text": [
      "'ls'은(는) 내부 또는 외부 명령, 실행할 수 있는 프로그램, 또는\n",
      "배치 파일이 아닙니다.\n"
     ]
    },
    {
     "name": "stdout",
     "output_type": "stream",
     "text": [
      " C 드라이브의 볼륨에는 이름이 없습니다.\n",
      " 볼륨 일련 번호: EA71-33BA\n",
      "\n",
      " C:\\Users\\bigne\\OneDrive\\WorkJ\\Python_from_scratch 디렉터리\n",
      "\n",
      "2021-06-22  오전 12:46    <DIR>          .\n",
      "2021-06-22  오전 12:46    <DIR>          ..\n",
      "2021-06-22  오전 12:40    <DIR>          .ipynb_checkpoints\n",
      "2021-06-22  오전 12:38            18,913 001_Google Colab .ipynb\n",
      "2021-06-22  오전 12:46           157,327 002_JupyterNoteBook.ipynb\n",
      "2021-06-22  오전 12:25    <DIR>          Colab,JupyterNotebook,Markdown\n",
      "2021-06-22  오전 12:32           186,717 Copy_of__00_Google_Colab,_Jupyter_Notebook,_Markdown-Copy1.ipynb\n",
      "2021-05-19  오전 02:02    <DIR>          Helpfunction\n",
      "2021-06-21  오전 12:53    <DIR>          Python_Algorithm\n",
      "2021-06-22  오전 12:44                24 test.py\n",
      "2021-06-22  오전 12:39               867 Untitled.ipynb\n",
      "2021-06-05  오후 01:28           108,651 자료형_정리.ipynb\n",
      "               6개 파일             472,499 바이트\n",
      "               6개 디렉터리  116,498,665,472 바이트 남음\n"
     ]
    }
   ],
   "source": [
    "# 리눅스\n",
    "!ls\n",
    "\n",
    "# 윈도우\n",
    "!dir"
   ]
  },
  {
   "cell_type": "markdown",
   "metadata": {
    "id": "RuKN3MuvhvTB"
   },
   "source": [
    "* `pwd`: 현재 경로 보기"
   ]
  },
  {
   "cell_type": "code",
   "execution_count": 33,
   "metadata": {
    "colab": {
     "base_uri": "https://localhost:8080/"
    },
    "id": "aOwJCr3GekKJ",
    "outputId": "6ad38599-7e07-49cd-8b76-4ac976aac934"
   },
   "outputs": [
    {
     "name": "stderr",
     "output_type": "stream",
     "text": [
      "'pwd'은(는) 내부 또는 외부 명령, 실행할 수 있는 프로그램, 또는\n",
      "배치 파일이 아닙니다.\n"
     ]
    },
    {
     "data": {
      "text/plain": [
       "'C:\\\\Users\\\\bigne\\\\OneDrive\\\\WorkJ\\\\Python_from_scratch'"
      ]
     },
     "execution_count": 33,
     "metadata": {},
     "output_type": "execute_result"
    }
   ],
   "source": [
    "# colab\n",
    "!pwd\n",
    "\n",
    "# local jupyter\n",
    "%pwd"
   ]
  },
  {
   "cell_type": "markdown",
   "metadata": {
    "id": "1dCCjWyphyOP"
   },
   "source": [
    "* `cd`: 디렉토리 변경\n",
    "* IPython에서는 임시 셸에서 실행"
   ]
  },
  {
   "cell_type": "code",
   "execution_count": 34,
   "metadata": {
    "colab": {
     "base_uri": "https://localhost:8080/"
    },
    "id": "KXtuuGvXfAU-",
    "outputId": "7ff117cc-4d98-4439-d181-9ed7534d86fc"
   },
   "outputs": [
    {
     "name": "stderr",
     "output_type": "stream",
     "text": [
      "지정된 경로를 찾을 수 없습니다.\n"
     ]
    }
   ],
   "source": [
    "!cd sample_data/ && ls"
   ]
  },
  {
   "cell_type": "markdown",
   "metadata": {
    "id": "yjrAafNlh65Q"
   },
   "source": [
    "* `%cd`: 지속적인 디렉토리 변경"
   ]
  },
  {
   "cell_type": "code",
   "execution_count": 35,
   "metadata": {
    "colab": {
     "base_uri": "https://localhost:8080/"
    },
    "id": "Q1MBKD4YfpyB",
    "outputId": "7a286bb9-3823-423e-d652-91259a0c2b92"
   },
   "outputs": [
    {
     "name": "stdout",
     "output_type": "stream",
     "text": [
      "[WinError 2] 지정된 파일을 찾을 수 없습니다: 'sample_data'\n",
      "C:\\Users\\bigne\\OneDrive\\WorkJ\\Python_from_scratch\n"
     ]
    }
   ],
   "source": [
    "%cd sample_data "
   ]
  },
  {
   "cell_type": "markdown",
   "metadata": {
    "id": "b8xPHOjsiQCL"
   },
   "source": [
    "* `echo`: 화면 출력"
   ]
  },
  {
   "cell_type": "code",
   "execution_count": 36,
   "metadata": {
    "colab": {
     "base_uri": "https://localhost:8080/"
    },
    "id": "-9FYy8rzeljZ",
    "outputId": "bf1435f9-38f3-49a9-bf0d-d73116a246aa"
   },
   "outputs": [
    {
     "name": "stdout",
     "output_type": "stream",
     "text": [
      "GG\n"
     ]
    }
   ],
   "source": [
    "!echo GG"
   ]
  },
  {
   "cell_type": "markdown",
   "metadata": {
    "id": "3oRMLDh_mswk"
   },
   "source": [
    "* `mkdir`: 디렉토리 생성"
   ]
  },
  {
   "cell_type": "code",
   "execution_count": 37,
   "metadata": {
    "id": "Eofit8K-fcjG"
   },
   "outputs": [],
   "source": [
    "!mkdir tmp"
   ]
  },
  {
   "cell_type": "markdown",
   "metadata": {
    "id": "Ji6oMNFQmysC"
   },
   "source": [
    "* `cat`: 파일 보기"
   ]
  },
  {
   "cell_type": "code",
   "execution_count": null,
   "metadata": {
    "colab": {
     "base_uri": "https://localhost:8080/"
    },
    "id": "GICda8P6mg1r",
    "outputId": "def9b073-a1f3-43c4-bc55-ca2750f305c3"
   },
   "outputs": [],
   "source": [
    "!cat README.md"
   ]
  },
  {
   "cell_type": "markdown",
   "metadata": {
    "id": "3Ns4pYQJm1nR"
   },
   "source": [
    "* `cp`: 디렉토리/파일 복사"
   ]
  },
  {
   "cell_type": "code",
   "execution_count": null,
   "metadata": {
    "id": "-XIDsmsum7Sb"
   },
   "outputs": [],
   "source": [
    "!cp README.md tmp/"
   ]
  },
  {
   "cell_type": "code",
   "execution_count": null,
   "metadata": {
    "colab": {
     "base_uri": "https://localhost:8080/"
    },
    "id": "T_3VG78OnDb9",
    "outputId": "f7bfe404-af15-412c-d1a4-705511078a30"
   },
   "outputs": [],
   "source": [
    "!ls tmp/"
   ]
  },
  {
   "cell_type": "markdown",
   "metadata": {
    "id": "ZR53WLOfnGH7"
   },
   "source": [
    "* `rm`: 디렉토리/파일 삭제"
   ]
  },
  {
   "cell_type": "code",
   "execution_count": null,
   "metadata": {
    "id": "WI1dpUV6nJyd"
   },
   "outputs": [],
   "source": [
    "!rm -r tmp"
   ]
  },
  {
   "cell_type": "code",
   "execution_count": null,
   "metadata": {
    "colab": {
     "base_uri": "https://localhost:8080/"
    },
    "id": "78Fr9nEhnMsg",
    "outputId": "9184c682-659f-48f7-8373-8975c4202665"
   },
   "outputs": [],
   "source": [
    "!ls"
   ]
  },
  {
   "cell_type": "markdown",
   "metadata": {
    "id": "OrcSIf_T8gii"
   },
   "source": [
    "\n",
    "\n",
    "---\n",
    "\n"
   ]
  }
 ],
 "metadata": {
  "accelerator": "GPU",
  "colab": {
   "collapsed_sections": [],
   "name": "Copy of _00 Google Colab, Jupyter Notebook, Markdown.ipynb",
   "provenance": []
  },
  "kernelspec": {
   "display_name": "Python 3",
   "language": "python",
   "name": "python3"
  },
  "language_info": {
   "codemirror_mode": {
    "name": "ipython",
    "version": 3
   },
   "file_extension": ".py",
   "mimetype": "text/x-python",
   "name": "python",
   "nbconvert_exporter": "python",
   "pygments_lexer": "ipython3",
   "version": "3.8.5"
  },
  "toc": {
   "base_numbering": 1,
   "nav_menu": {},
   "number_sections": true,
   "sideBar": true,
   "skip_h1_title": false,
   "title_cell": "Table of Contents",
   "title_sidebar": "Contents",
   "toc_cell": false,
   "toc_position": {
    "height": "calc(100% - 180px)",
    "left": "10px",
    "top": "150px",
    "width": "426.823px"
   },
   "toc_section_display": true,
   "toc_window_display": true
  }
 },
 "nbformat": 4,
 "nbformat_minor": 1
}
